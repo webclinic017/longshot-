{
 "cells": [
  {
   "cell_type": "code",
   "execution_count": 1,
   "id": "5a24d11e",
   "metadata": {},
   "outputs": [],
   "source": [
    "from pricer.pricer import Pricer\n",
    "from pricer.pricer_factory import PricerFactory\n",
    "from datetime import datetime\n",
    "from tqdm import tqdm"
   ]
  },
  {
   "cell_type": "code",
   "execution_count": 2,
   "id": "15454e26",
   "metadata": {},
   "outputs": [],
   "source": [
    "pricers = []\n",
    "pricers.append(Pricer.QUARTERLY_STOCK_WINDOW)\n",
    "pricers.append(Pricer.QUARTERLY_STOCK_ROLLING)"
   ]
  },
  {
   "cell_type": "code",
   "execution_count": 3,
   "id": "1f7fc22a",
   "metadata": {},
   "outputs": [
    {
     "name": "stderr",
     "output_type": "stream",
     "text": [
      "100%|████████████████████████████████████████████████████████████████████████████████████████████████████████████████████████████████████████████████████████████████████████████████████████████████████| 2/2 [00:11<00:00,  5.56s/it]\n"
     ]
    }
   ],
   "source": [
    "## initializing pricer_class\n",
    "for pricer_enum in tqdm(pricers):\n",
    "    try:\n",
    "        pricer_class = PricerFactory.build(pricer_enum)\n",
    "        pricer_class.initialize()\n",
    "        pricer_class.drop_sim()\n",
    "        test_sim = pricer_class.create_sim()\n",
    "    except Exception as e:\n",
    "        print(pricer_enum,str(e))"
   ]
  }
 ],
 "metadata": {
  "kernelspec": {
   "display_name": "Python 3 (ipykernel)",
   "language": "python",
   "name": "python3"
  },
  "language_info": {
   "codemirror_mode": {
    "name": "ipython",
    "version": 3
   },
   "file_extension": ".py",
   "mimetype": "text/x-python",
   "name": "python",
   "nbconvert_exporter": "python",
   "pygments_lexer": "ipython3",
   "version": "3.10.5"
  }
 },
 "nbformat": 4,
 "nbformat_minor": 5
}
