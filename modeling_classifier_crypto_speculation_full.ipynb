{
 "cells": [
  {
   "cell_type": "code",
   "execution_count": 1,
   "id": "5a24d11e",
   "metadata": {},
   "outputs": [],
   "source": [
    "import pandas as pd\n",
    "from classifier.classifier import Classifier\n",
    "from classifier.classifier_factory import ClassifierFactory\n",
    "from database.market import Market\n",
    "from database.sec import SEC\n",
    "from database.adatabase import ADatabase\n",
    "from processor.processor import Processor as p\n",
    "from datetime import datetime, timedelta\n",
    "from tqdm import tqdm\n",
    "import numpy as np\n",
    "from modeler_strats.universal_modeler import UniversalModeler\n",
    "import pickle"
   ]
  },
  {
   "cell_type": "code",
   "execution_count": 3,
   "id": "cf2fb683",
   "metadata": {},
   "outputs": [],
   "source": [
    "## initializing classifier_class\n",
    "classifier_class = ClassifierFactory.build(Classifier.WEEKLY_CRYPTO_SPECULATION_CLASSIFIER)"
   ]
  },
  {
   "cell_type": "code",
   "execution_count": 4,
   "id": "c3c0e3ed",
   "metadata": {},
   "outputs": [],
   "source": [
    "backtest_start_date = datetime(2021,1,1)\n",
    "backtest_end_date = datetime(2023,1,1)\n",
    "current_year = datetime.now().year"
   ]
  },
  {
   "cell_type": "code",
   "execution_count": 5,
   "id": "1f7fc22a",
   "metadata": {},
   "outputs": [],
   "source": [
    "## creating database objects\n",
    "market = Market()\n",
    "modeler_strat = UniversalModeler()"
   ]
  },
  {
   "cell_type": "code",
   "execution_count": 6,
   "id": "b0c57b4d",
   "metadata": {},
   "outputs": [],
   "source": [
    "market.connect()\n",
    "sp500 = market.retrieve(\"sp500\")\n",
    "market.disconnect()\n",
    "sp500 = sp500.rename(columns={\"Symbol\":\"ticker\"})"
   ]
  },
  {
   "cell_type": "code",
   "execution_count": 7,
   "id": "c551e792",
   "metadata": {
    "scrolled": true
   },
   "outputs": [
    {
     "name": "stderr",
     "output_type": "stream",
     "text": [
      "100%|██████████████████████████████████████████████████████████████████████████████████████████████████████████████████████████| 1/1 [00:00<00:00,  6.23it/s]\n"
     ]
    }
   ],
   "source": [
    "market.connect()\n",
    "training_sets = []\n",
    "for ticker in tqdm([\"BTC\"]):\n",
    "    try:\n",
    "        prices = market.retrieve_ticker_prices(classifier_class.asset_class.value,ticker)\n",
    "        prices = p.column_date_processing(prices)\n",
    "        ticker_data = classifier_class.training_set(ticker,prices,False)\n",
    "        training_sets.append(ticker_data)\n",
    "    except Exception as e:\n",
    "        print(str(e))\n",
    "        continue\n",
    "market.disconnect()\n",
    "data = pd.concat(training_sets)\n",
    "training_data = data.dropna().copy().sort_values([\"year\",\"week\"])"
   ]
  },
  {
   "cell_type": "code",
   "execution_count": 8,
   "id": "23ad6193",
   "metadata": {
    "scrolled": true
   },
   "outputs": [
    {
     "name": "stdout",
     "output_type": "stream",
     "text": [
      "Epoch 1/10\n",
      "5/5 [==============================] - 1s 2ms/step - loss: 1215.3311 - accuracy: 0.4423\n",
      "Epoch 2/10\n",
      "5/5 [==============================] - 0s 2ms/step - loss: 968.1905 - accuracy: 0.4487\n",
      "Epoch 3/10\n",
      "5/5 [==============================] - 0s 1ms/step - loss: 900.0577 - accuracy: 0.4744\n",
      "Epoch 4/10\n",
      "5/5 [==============================] - 0s 1ms/step - loss: 884.1945 - accuracy: 0.4551\n",
      "Epoch 5/10\n",
      "5/5 [==============================] - 0s 1ms/step - loss: 878.7814 - accuracy: 0.4551\n",
      "Epoch 6/10\n",
      "5/5 [==============================] - 0s 2ms/step - loss: 680.9183 - accuracy: 0.4423\n",
      "Epoch 7/10\n",
      "5/5 [==============================] - 0s 2ms/step - loss: 751.9550 - accuracy: 0.4808\n",
      "Epoch 8/10\n",
      "5/5 [==============================] - 0s 1ms/step - loss: 748.9360 - accuracy: 0.5064\n",
      "Epoch 9/10\n",
      "5/5 [==============================] - 0s 2ms/step - loss: 605.7103 - accuracy: 0.4808\n",
      "Epoch 10/10\n",
      "5/5 [==============================] - 0s 1ms/step - loss: 650.6825 - accuracy: 0.5064\n",
      "2/2 [==============================] - 0s 2ms/step\n",
      "2/2 [==============================] - 0s 2ms/step\n",
      "Epoch 1/10\n",
      "5/5 [==============================] - 0s 3ms/step - loss: 1950.8304 - accuracy: 0.5032\n",
      "Epoch 2/10\n",
      "5/5 [==============================] - 0s 1ms/step - loss: 2081.3857 - accuracy: 0.4968\n",
      "Epoch 3/10\n",
      "5/5 [==============================] - 0s 1ms/step - loss: 1715.5558 - accuracy: 0.4459\n",
      "Epoch 4/10\n",
      "5/5 [==============================] - 0s 1ms/step - loss: 1604.9471 - accuracy: 0.4777\n",
      "Epoch 5/10\n",
      "5/5 [==============================] - 0s 1ms/step - loss: 1660.3558 - accuracy: 0.4650\n",
      "Epoch 6/10\n",
      "5/5 [==============================] - 0s 1ms/step - loss: 1037.5789 - accuracy: 0.4841\n",
      "Epoch 7/10\n",
      "5/5 [==============================] - 0s 1ms/step - loss: 1375.3306 - accuracy: 0.4140\n",
      "Epoch 8/10\n",
      "5/5 [==============================] - 0s 1ms/step - loss: 1759.7371 - accuracy: 0.4586\n",
      "Epoch 9/10\n",
      "5/5 [==============================] - 0s 1ms/step - loss: 997.1670 - accuracy: 0.4968\n",
      "Epoch 10/10\n",
      "5/5 [==============================] - 0s 1ms/step - loss: 1366.9373 - accuracy: 0.5159\n",
      "2/2 [==============================] - 0s 1ms/step\n",
      "2/2 [==============================] - 0s 2ms/step\n"
     ]
    }
   ],
   "source": [
    "classifier_class.db.connect()\n",
    "model_start_date = backtest_start_date - timedelta(classifier_class.time_horizon_class.model_date_offset)\n",
    "model_end_date = backtest_end_date - timedelta(classifier_class.time_horizon_class.model_date_offset)\n",
    "for year in range(model_start_date.year,model_end_date.year):\n",
    "    training_slice = training_data[(training_data[\"year\"]<year) & (training_data[\"year\"] >= year - 4)].reset_index(drop=True)\n",
    "    prediction_set = training_data[training_data[\"year\"]==year].reset_index(drop=True)\n",
    "    stuff = modeler_strat.classification_model(training_slice,prediction_set,classifier_class.factors,False)\n",
    "    stuff = stuff.rename(columns={\"prediction\":f\"classification_prediction\"})\n",
    "    relevant_columns = list(set(list(stuff.columns)) - set(classifier_class.factors))\n",
    "    stuff = classifier_class.sim_processor(stuff)\n",
    "    classifier_class.db.store(\"sim\",stuff[relevant_columns])\n",
    "classifier_class.db.disconnect()"
   ]
  },
  {
   "cell_type": "code",
   "execution_count": 9,
   "id": "2f7e0cf6",
   "metadata": {},
   "outputs": [
    {
     "name": "stdout",
     "output_type": "stream",
     "text": [
      "Epoch 1/10\n",
      "5/5 [==============================] - 0s 1ms/step - loss: 2388.3987 - accuracy: 0.4968\n",
      "Epoch 2/10\n",
      "5/5 [==============================] - 0s 1ms/step - loss: 2168.6621 - accuracy: 0.5677\n",
      "Epoch 3/10\n",
      "5/5 [==============================] - 0s 1ms/step - loss: 2840.0330 - accuracy: 0.4968\n",
      "Epoch 4/10\n",
      "5/5 [==============================] - 0s 1ms/step - loss: 3206.0745 - accuracy: 0.4839\n",
      "Epoch 5/10\n",
      "5/5 [==============================] - 0s 1ms/step - loss: 2025.3921 - accuracy: 0.5032\n",
      "Epoch 6/10\n",
      "5/5 [==============================] - 0s 1ms/step - loss: 2416.2861 - accuracy: 0.4258\n",
      "Epoch 7/10\n",
      "5/5 [==============================] - 0s 1ms/step - loss: 2135.9810 - accuracy: 0.5161\n",
      "Epoch 8/10\n",
      "5/5 [==============================] - 0s 1ms/step - loss: 2068.8401 - accuracy: 0.5677\n",
      "Epoch 9/10\n",
      "5/5 [==============================] - 0s 1ms/step - loss: 2048.0049 - accuracy: 0.5548\n",
      "Epoch 10/10\n",
      "5/5 [==============================] - 0s 1ms/step - loss: 1763.8809 - accuracy: 0.5097\n",
      "2/2 [==============================] - 0s 2ms/step\n",
      "Keras weights file (<HDF5 file \"variables.h5\" (mode r+)>) saving:\n",
      "...layers\\dense\n",
      "......vars\n",
      ".........0\n",
      ".........1\n",
      "...layers\\dense_1\n",
      "......vars\n",
      ".........0\n",
      ".........1\n",
      "...layers\\dropout\n",
      "......vars\n",
      "...metrics\\mean\n",
      "......vars\n",
      ".........0\n",
      ".........1\n",
      "...metrics\\mean_metric_wrapper\n",
      "......vars\n",
      ".........0\n",
      ".........1\n",
      "...optimizer\n",
      "......vars\n",
      ".........0\n",
      ".........1\n",
      ".........2\n",
      ".........3\n",
      ".........4\n",
      ".........5\n",
      ".........6\n",
      ".........7\n",
      ".........8\n",
      "...vars\n",
      "Keras model archive saving:\n",
      "File Name                                             Modified             Size\n",
      "config.json                                    2023-06-26 10:47:14         2149\n",
      "metadata.json                                  2023-06-26 10:47:14           64\n",
      "variables.h5                                   2023-06-26 10:47:14        23208\n"
     ]
    }
   ],
   "source": [
    "classifier_class.db.connect()\n",
    "training_slice = training_data[(training_data[\"year\"]<current_year) & (training_data[\"year\"] >= current_year - 4)].reset_index(drop=True)\n",
    "stuff = modeler_strat.recommend_classification_model(training_slice,classifier_class.factors,False)\n",
    "stuff[\"model\"] = [pickle.dumps(x) for x in stuff[\"model\"]]\n",
    "stuff[\"year\"] = current_year\n",
    "classifier_class.db.store(\"models\",stuff)\n",
    "classifier_class.db.disconnect()"
   ]
  },
  {
   "cell_type": "code",
   "execution_count": null,
   "id": "a7b05bcd",
   "metadata": {},
   "outputs": [],
   "source": [
    "market.connect()\n",
    "training_sets = []\n",
    "for ticker in tqdm(sp500[\"ticker\"].unique()):\n",
    "    try:\n",
    "        prices = market.retrieve_ticker_prices(classifier_class.asset_class.value,ticker)\n",
    "        prices = p.column_date_processing(prices)\n",
    "        ticker_data = classifier_class.training_set(ticker,prices,True)\n",
    "        training_sets.append(ticker_data)\n",
    "    except Exception as e:\n",
    "        print(str(e))\n",
    "        continue\n",
    "market.disconnect()\n",
    "data = pd.concat(training_sets)\n",
    "training_data = data.dropna().copy().sort_values([\"year\",\"week\"])"
   ]
  },
  {
   "cell_type": "code",
   "execution_count": null,
   "id": "9c781548",
   "metadata": {},
   "outputs": [],
   "source": [
    "training_data"
   ]
  },
  {
   "cell_type": "code",
   "execution_count": null,
   "id": "2c9244ee",
   "metadata": {},
   "outputs": [],
   "source": [
    "classifier_class.db.connect()\n",
    "classifier_class.db.drop(\"predictions\")\n",
    "prediction_set = training_data[training_data[\"year\"]==current_year].reset_index(drop=True)\n",
    "models = classifier_class.db.retrieve(\"models\")\n",
    "stuff = modeler_strat.recommend_classification(models,prediction_set,classifier_class.factors)\n",
    "stuff = stuff.rename(columns={\"prediction\":f\"classification_prediction\"})\n",
    "relevant_columns = list(set(list(stuff.columns)) - set(classifier_class.factors))\n",
    "stuff = classifier_class.sim_processor(stuff)\n",
    "classifier_class.db.store(\"predictions\",stuff[relevant_columns])\n",
    "classifier_class.db.disconnect()"
   ]
  },
  {
   "cell_type": "code",
   "execution_count": null,
   "id": "c330fb02",
   "metadata": {},
   "outputs": [],
   "source": [
    "stuff"
   ]
  }
 ],
 "metadata": {
  "kernelspec": {
   "display_name": "Python 3 (ipykernel)",
   "language": "python",
   "name": "python3"
  },
  "language_info": {
   "codemirror_mode": {
    "name": "ipython",
    "version": 3
   },
   "file_extension": ".py",
   "mimetype": "text/x-python",
   "name": "python",
   "nbconvert_exporter": "python",
   "pygments_lexer": "ipython3",
   "version": "3.10.5"
  }
 },
 "nbformat": 4,
 "nbformat_minor": 5
}
