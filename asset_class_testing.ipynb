{
 "cells": [
  {
   "cell_type": "code",
   "execution_count": 1,
   "id": "ec3b4103",
   "metadata": {},
   "outputs": [],
   "source": [
    "from asset_classes.asset_classes import AssetClasses"
   ]
  },
  {
   "cell_type": "code",
   "execution_count": 2,
   "id": "2449457f",
   "metadata": {},
   "outputs": [
    {
     "data": {
      "text/plain": [
       "<AssetClasses.STOCKS: 'stocks'>"
      ]
     },
     "execution_count": 2,
     "metadata": {},
     "output_type": "execute_result"
    }
   ],
   "source": [
    "AssetClasses.STOCKS"
   ]
  },
  {
   "cell_type": "code",
   "execution_count": 3,
   "id": "e16071e1",
   "metadata": {},
   "outputs": [
    {
     "data": {
      "text/plain": [
       "<AssetClasses.CRYPTO: 'crypto'>"
      ]
     },
     "execution_count": 3,
     "metadata": {},
     "output_type": "execute_result"
    }
   ],
   "source": [
    "AssetClasses.CRYPTO"
   ]
  }
 ],
 "metadata": {
  "kernelspec": {
   "display_name": "Python 3 (ipykernel)",
   "language": "python",
   "name": "python3"
  },
  "language_info": {
   "codemirror_mode": {
    "name": "ipython",
    "version": 3
   },
   "file_extension": ".py",
   "mimetype": "text/x-python",
   "name": "python",
   "nbconvert_exporter": "python",
   "pygments_lexer": "ipython3",
   "version": "3.10.5"
  }
 },
 "nbformat": 4,
 "nbformat_minor": 5
}
