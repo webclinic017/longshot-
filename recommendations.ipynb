{
 "cells": [
  {
   "cell_type": "code",
   "execution_count": 8,
   "id": "fd7ea1d3",
   "metadata": {},
   "outputs": [],
   "source": [
    "from tradealgorithm.tradealgorithm import TradeAlgorithm\n",
    "from tradealgorithm.tradealgorithmfactory import TradeAlgorithmFactory\n",
    "from pricer.pricer_factory import PricerFactory\n",
    "from pricer.pricer import Pricer\n",
    "from ranker.ranker_factory import RankerFactory\n",
    "from ranker.ranker import Ranker\n",
    "from classifier.classifier_factory import ClassifierFactory\n",
    "from classifier.classifier import Classifier\n",
    "from datetime import datetime\n",
    "from tqdm import tqdm"
   ]
  },
  {
   "cell_type": "code",
   "execution_count": 9,
   "id": "9a62a77e",
   "metadata": {},
   "outputs": [],
   "source": [
    "trade_algo = TradeAlgorithmFactory.build(TradeAlgorithm.RRR_BETA)"
   ]
  },
  {
   "cell_type": "code",
   "execution_count": 10,
   "id": "e7b9084d",
   "metadata": {},
   "outputs": [],
   "source": [
    "ranker_class = Ranker.NONE\n",
    "classifier_class = Classifier.NONE\n",
    "current = False"
   ]
  },
  {
   "cell_type": "code",
   "execution_count": 11,
   "id": "c3ed100e",
   "metadata": {},
   "outputs": [],
   "source": [
    "start = datetime(2001,1,1)\n",
    "end = datetime(2023,1,1)\n",
    "current_date = datetime.now()"
   ]
  },
  {
   "cell_type": "code",
   "execution_count": 12,
   "id": "645a067a",
   "metadata": {},
   "outputs": [],
   "source": [
    "pricer_classes = [] \n",
    "pricer_classes.append(Pricer.DAILY_STOCK_ROLLING)\n",
    "pricer_classes.append(Pricer.WEEKLY_STOCK_WINDOW)"
   ]
  },
  {
   "cell_type": "code",
   "execution_count": 13,
   "id": "d2e18bb2",
   "metadata": {
    "scrolled": true
   },
   "outputs": [
    {
     "name": "stderr",
     "output_type": "stream",
     "text": [
      "100%|█████████████████████████████████████████████████████████████████████████████████████████████████████████████████████████████████████████████████████| 2/2 [01:30<00:00, 45.36s/it]\n"
     ]
    }
   ],
   "source": [
    "for pricer_class in tqdm(pricer_classes):\n",
    "    try:\n",
    "        trade_algo.initialize(pricer_class,ranker_class,classifier_class,start,end,current_date)\n",
    "        trade_algo.initialize_bench_and_yields()\n",
    "        trade_algo.initialize_classes()\n",
    "        trade_algo.load_optimal_parameter()\n",
    "        simulation = trade_algo.create_current_simulation()\n",
    "        returns = trade_algo.create_returns(True)\n",
    "        merged = trade_algo.merge_sim_returns(simulation,returns)\n",
    "        complete = trade_algo.apply_yields(merged,True)\n",
    "        trade_algo.initialize_backtester()\n",
    "        trade_algo.drop_recommendations()\n",
    "        trades = trade_algo.run_recommendation(complete)\n",
    "    except Exception as e:\n",
    "        print(trade_algo.name,str(e))"
   ]
  }
 ],
 "metadata": {
  "kernelspec": {
   "display_name": "Python 3 (ipykernel)",
   "language": "python",
   "name": "python3"
  },
  "language_info": {
   "codemirror_mode": {
    "name": "ipython",
    "version": 3
   },
   "file_extension": ".py",
   "mimetype": "text/x-python",
   "name": "python",
   "nbconvert_exporter": "python",
   "pygments_lexer": "ipython3",
   "version": "3.10.5"
  }
 },
 "nbformat": 4,
 "nbformat_minor": 5
}
