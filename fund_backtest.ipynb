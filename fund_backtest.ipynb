{
 "cells": [
  {
   "cell_type": "code",
   "execution_count": 1,
   "id": "288d8afc",
   "metadata": {},
   "outputs": [],
   "source": [
    "from datetime import datetime\n",
    "from fund.fund import Fund\n",
    "from pricer.pricer import Pricer as pricer_list\n",
    "from ranker.ranker import Ranker as ranker_list\n",
    "from classifier.classifier import Classifier as classifier_list\n",
    "from portfolio.aportfolio import APortfolio\n",
    "from parameters.parameters import Parameters \n",
    "import pandas as pd\n",
    "from returns.products import Products\n",
    "from processor.processor import Processor as p"
   ]
  },
  {
   "cell_type": "code",
   "execution_count": 2,
   "id": "d4fb0e35",
   "metadata": {},
   "outputs": [],
   "source": [
    "portfolio = APortfolio(pricer_list.QUARTERLY_STOCK_FINANCIAL\n",
    "                       ,classifier_list.QUARTERLY_STOCK_FINANCIAL_CLASSIFIER\n",
    "                       ,ranker_list.QUARTERLY_STOCK_EARNINGS_RANKER)\n",
    "portfolio_ii = APortfolio(pricer_list.WEEKLY_STOCK_SPECULATION\n",
    "                          ,classifier_list.WEEKLY_STOCK_SPECULATION_CLASSIFIER\n",
    "                          ,ranker_list.WEEKLY_STOCK_ROLLING_RANKER)\n",
    "portfolio_iii = APortfolio(pricer_list.WEEKLY_STOCK_ROLLING\n",
    "                           ,classifier_list.WEEKLY_STOCK_SPECULATION_CLASSIFIER\n",
    "                          ,ranker_list.WEEKLY_STOCK_ROLLING_RANKER)\n",
    "portfolio_iv = APortfolio(pricer_list.WEEKLY_STOCK_WINDOW\n",
    "                          ,classifier_list.WEEKLY_STOCK_SPECULATION_CLASSIFIER\n",
    "                          ,ranker_list.WEEKLY_STOCK_ROLLING_RANKER)\n",
    "portfolios = [portfolio,portfolio_ii,portfolio_iii,portfolio_iv]"
   ]
  },
  {
   "cell_type": "code",
   "execution_count": 3,
   "id": "f0974d81",
   "metadata": {},
   "outputs": [],
   "source": [
    "backtest_start_date = datetime(2016,1,1)\n",
    "backtest_end_date  = datetime(2023,1,1)\n",
    "current_start_date = datetime(2023,1,1)\n",
    "current_end_date = datetime.now()"
   ]
  },
  {
   "cell_type": "code",
   "execution_count": 4,
   "id": "f025727e",
   "metadata": {},
   "outputs": [],
   "source": [
    "fund = Fund(portfolios,backtest_start_date,backtest_end_date,current_start_date)"
   ]
  },
  {
   "cell_type": "code",
   "execution_count": 5,
   "id": "8f5af5d6",
   "metadata": {},
   "outputs": [],
   "source": [
    "fund.initialize_portfolios()"
   ]
  },
  {
   "cell_type": "code",
   "execution_count": 6,
   "id": "25cc627d",
   "metadata": {},
   "outputs": [],
   "source": [
    "# test_portfolio = fund.portfolios[0]\n",
    "# risk_returns = test_portfolio.create_risk_returns()\n",
    "# sim = test_portfolio.create_current_simulation()\n",
    "# merged = test_portfolio.merge_sim_returns(sim,risk_returns)\n",
    "# ranked = test_portfolio.backtest_rank(merged)"
   ]
  },
  {
   "cell_type": "code",
   "execution_count": 7,
   "id": "6bf3b2e9",
   "metadata": {},
   "outputs": [],
   "source": [
    "# included_columns = ['year', 'week', 'ticker', 'price_prediction', 'rank_prediction',\n",
    "#        'classification_prediction','adjclose','quarter','weekly_rrr']"
   ]
  },
  {
   "cell_type": "code",
   "execution_count": 8,
   "id": "1737c0c5",
   "metadata": {},
   "outputs": [],
   "source": [
    "# ranked[included_columns]"
   ]
  },
  {
   "cell_type": "code",
   "execution_count": 9,
   "id": "6ae3f453",
   "metadata": {},
   "outputs": [
    {
     "name": "stderr",
     "output_type": "stream",
     "text": [
      "100%|█████████████████████████████████████████████████████████████████████████████████████████████████████████████████████████████████████████████████████████████████████████| 490/490 [03:19<00:00,  2.46it/s]\n"
     ]
    },
    {
     "ename": "AttributeError",
     "evalue": "'ABacktester' object has no attribute 'returns'",
     "output_type": "error",
     "traceback": [
      "\u001b[1;31m---------------------------------------------------------------------------\u001b[0m",
      "\u001b[1;31mAttributeError\u001b[0m                            Traceback (most recent call last)",
      "\u001b[1;32m~\\AppData\\Local\\Temp/ipykernel_8532/2813129420.py\u001b[0m in \u001b[0;36m<module>\u001b[1;34m\u001b[0m\n\u001b[0;32m      1\u001b[0m \u001b[0mfund\u001b[0m\u001b[1;33m.\u001b[0m\u001b[0mreset\u001b[0m\u001b[1;33m(\u001b[0m\u001b[1;33m)\u001b[0m\u001b[1;33m\u001b[0m\u001b[1;33m\u001b[0m\u001b[0m\n\u001b[0;32m      2\u001b[0m \u001b[0mfund\u001b[0m\u001b[1;33m.\u001b[0m\u001b[0minitialize_historical_backtesters\u001b[0m\u001b[1;33m(\u001b[0m\u001b[1;33m)\u001b[0m\u001b[1;33m\u001b[0m\u001b[1;33m\u001b[0m\u001b[0m\n\u001b[1;32m----> 3\u001b[1;33m \u001b[0mfund\u001b[0m\u001b[1;33m.\u001b[0m\u001b[0mrun_historical_backtest\u001b[0m\u001b[1;33m(\u001b[0m\u001b[1;33m)\u001b[0m\u001b[1;33m\u001b[0m\u001b[1;33m\u001b[0m\u001b[0m\n\u001b[0m",
      "\u001b[1;32mE:\\projects\\longshot_venv\\longshot\\fund\\fund.py\u001b[0m in \u001b[0;36mrun_historical_backtest\u001b[1;34m(self)\u001b[0m\n\u001b[0;32m     39\u001b[0m             \u001b[0mreturns\u001b[0m \u001b[1;33m=\u001b[0m \u001b[0mportfolio\u001b[0m\u001b[1;33m.\u001b[0m\u001b[0mcreate_returns\u001b[0m\u001b[1;33m(\u001b[0m\u001b[1;33m)\u001b[0m\u001b[1;33m\u001b[0m\u001b[1;33m\u001b[0m\u001b[0m\n\u001b[0;32m     40\u001b[0m             \u001b[0msim_returns\u001b[0m \u001b[1;33m=\u001b[0m \u001b[0mportfolio\u001b[0m\u001b[1;33m.\u001b[0m\u001b[0mmerge_sim_returns\u001b[0m\u001b[1;33m(\u001b[0m\u001b[0msim\u001b[0m\u001b[1;33m,\u001b[0m\u001b[0mreturns\u001b[0m\u001b[1;33m)\u001b[0m\u001b[1;33m\u001b[0m\u001b[1;33m\u001b[0m\u001b[0m\n\u001b[1;32m---> 41\u001b[1;33m             \u001b[0mportfolio\u001b[0m\u001b[1;33m.\u001b[0m\u001b[0mrun_backtest\u001b[0m\u001b[1;33m(\u001b[0m\u001b[0msim_returns\u001b[0m\u001b[1;33m)\u001b[0m\u001b[1;33m\u001b[0m\u001b[1;33m\u001b[0m\u001b[0m\n\u001b[0m\u001b[0;32m     42\u001b[0m \u001b[1;33m\u001b[0m\u001b[0m\n\u001b[0;32m     43\u001b[0m     \u001b[1;32mdef\u001b[0m \u001b[0mrun_backtest\u001b[0m\u001b[1;33m(\u001b[0m\u001b[0mself\u001b[0m\u001b[1;33m)\u001b[0m\u001b[1;33m:\u001b[0m\u001b[1;33m\u001b[0m\u001b[1;33m\u001b[0m\u001b[0m\n",
      "\u001b[1;32mE:\\projects\\longshot_venv\\longshot\\portfolio\\aportfolio.py\u001b[0m in \u001b[0;36mrun_backtest\u001b[1;34m(self, simulation)\u001b[0m\n\u001b[0;32m    160\u001b[0m \u001b[1;33m\u001b[0m\u001b[0m\n\u001b[0;32m    161\u001b[0m     \u001b[1;32mdef\u001b[0m \u001b[0mrun_backtest\u001b[0m\u001b[1;33m(\u001b[0m\u001b[0mself\u001b[0m\u001b[1;33m,\u001b[0m\u001b[0msimulation\u001b[0m\u001b[1;33m)\u001b[0m\u001b[1;33m:\u001b[0m\u001b[1;33m\u001b[0m\u001b[1;33m\u001b[0m\u001b[0m\n\u001b[1;32m--> 162\u001b[1;33m         \u001b[0mself\u001b[0m\u001b[1;33m.\u001b[0m\u001b[0mbacktester\u001b[0m\u001b[1;33m.\u001b[0m\u001b[0mbacktest\u001b[0m\u001b[1;33m(\u001b[0m\u001b[0msimulation\u001b[0m\u001b[1;33m)\u001b[0m\u001b[1;33m\u001b[0m\u001b[1;33m\u001b[0m\u001b[0m\n\u001b[0m\u001b[0;32m    163\u001b[0m \u001b[1;33m\u001b[0m\u001b[0m\n\u001b[0;32m    164\u001b[0m     \u001b[1;32mdef\u001b[0m \u001b[0mpull_historical_trades\u001b[0m\u001b[1;33m(\u001b[0m\u001b[0mself\u001b[0m\u001b[1;33m)\u001b[0m\u001b[1;33m:\u001b[0m\u001b[1;33m\u001b[0m\u001b[1;33m\u001b[0m\u001b[0m\n",
      "\u001b[1;32mE:\\projects\\longshot_venv\\longshot\\backtester\\abacktester.py\u001b[0m in \u001b[0;36mbacktest\u001b[1;34m(self, sim)\u001b[0m\n\u001b[0;32m     18\u001b[0m             \u001b[0mfinal_data\u001b[0m \u001b[1;33m=\u001b[0m \u001b[0mbacktest_data\u001b[0m\u001b[1;33m.\u001b[0m\u001b[0mcopy\u001b[0m\u001b[1;33m(\u001b[0m\u001b[1;33m)\u001b[0m\u001b[1;33m\u001b[0m\u001b[1;33m\u001b[0m\u001b[0m\n\u001b[0;32m     19\u001b[0m             \u001b[0mmarket_return\u001b[0m \u001b[1;33m=\u001b[0m \u001b[0mparameter\u001b[0m\u001b[1;33m[\u001b[0m\u001b[1;34m\"market_return\"\u001b[0m\u001b[1;33m]\u001b[0m\u001b[1;33m\u001b[0m\u001b[1;33m\u001b[0m\u001b[0m\n\u001b[1;32m---> 20\u001b[1;33m             \u001b[0mfinal_data\u001b[0m \u001b[1;33m=\u001b[0m \u001b[0mself\u001b[0m\u001b[1;33m.\u001b[0m\u001b[0mreturns\u001b[0m\u001b[1;33m.\u001b[0m\u001b[0mreturns\u001b[0m\u001b[1;33m(\u001b[0m\u001b[0mmarket_return\u001b[0m\u001b[1;33m,\u001b[0m\u001b[0mself\u001b[0m\u001b[1;33m.\u001b[0m\u001b[0mpricer_class\u001b[0m\u001b[1;33m.\u001b[0m\u001b[0mtime_horizon_class\u001b[0m\u001b[1;33m,\u001b[0m\u001b[0mfinal_data\u001b[0m\u001b[1;33m)\u001b[0m\u001b[1;33m\u001b[0m\u001b[1;33m\u001b[0m\u001b[0m\n\u001b[0m\u001b[0;32m     21\u001b[0m             \u001b[1;32mif\u001b[0m \u001b[0mparameter\u001b[0m\u001b[1;33m[\u001b[0m\u001b[1;34m\"rank\"\u001b[0m\u001b[1;33m]\u001b[0m \u001b[1;33m==\u001b[0m \u001b[1;32mTrue\u001b[0m\u001b[1;33m:\u001b[0m\u001b[1;33m\u001b[0m\u001b[1;33m\u001b[0m\u001b[0m\n\u001b[0;32m     22\u001b[0m                 \u001b[0mfinal_data\u001b[0m \u001b[1;33m=\u001b[0m \u001b[0mself\u001b[0m\u001b[1;33m.\u001b[0m\u001b[0mportfolio_class\u001b[0m\u001b[1;33m.\u001b[0m\u001b[0mranker_class\u001b[0m\u001b[1;33m.\u001b[0m\u001b[0mbacktest_rank\u001b[0m\u001b[1;33m(\u001b[0m\u001b[0mbacktest_data\u001b[0m\u001b[1;33m.\u001b[0m\u001b[0mcopy\u001b[0m\u001b[1;33m(\u001b[0m\u001b[1;33m)\u001b[0m\u001b[1;33m)\u001b[0m\u001b[1;33m\u001b[0m\u001b[1;33m\u001b[0m\u001b[0m\n",
      "\u001b[1;31mAttributeError\u001b[0m: 'ABacktester' object has no attribute 'returns'"
     ]
    }
   ],
   "source": [
    "fund.reset()\n",
    "fund.initialize_historical_backtesters()\n",
    "fund.run_historical_backtest()"
   ]
  },
  {
   "cell_type": "code",
   "execution_count": null,
   "id": "3006c689",
   "metadata": {},
   "outputs": [],
   "source": [
    "# fund.reset()\n",
    "# fund.initialize_backtesters()\n",
    "# fund.run_backtest()"
   ]
  }
 ],
 "metadata": {
  "kernelspec": {
   "display_name": "Python 3 (ipykernel)",
   "language": "python",
   "name": "python3"
  },
  "language_info": {
   "codemirror_mode": {
    "name": "ipython",
    "version": 3
   },
   "file_extension": ".py",
   "mimetype": "text/x-python",
   "name": "python",
   "nbconvert_exporter": "python",
   "pygments_lexer": "ipython3",
   "version": "3.10.5"
  }
 },
 "nbformat": 4,
 "nbformat_minor": 5
}
