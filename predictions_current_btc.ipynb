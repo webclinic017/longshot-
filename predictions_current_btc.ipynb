{
 "cells": [
  {
   "cell_type": "code",
   "execution_count": 1,
   "id": "aa80f443",
   "metadata": {
    "scrolled": true
   },
   "outputs": [],
   "source": [
    "from datetime import datetime, timedelta\n",
    "import pytz\n",
    "import pandas as pd\n",
    "from tqdm import tqdm\n",
    "from modeler.modeler import Modeler as m\n",
    "from processor.processor import Processor as p\n",
    "from database.market import Market\n",
    "from database.adatabase import ADatabase\n",
    "from modeler_strats.universal_modeler import UniversalModeler\n",
    "from transformer.adhoc_transforms import Adhoc as adhocs\n",
    "from transformer.risk_transforms import Risk as risks\n",
    "from transformer.analysis_transforms import Analysis as anas\n",
    "from transformer.spec_transforms import Spec as spec\n",
    "from transformer.classification_transforms import Classification as classer\n",
    "import numpy as np\n",
    "import matplotlib.pyplot as plt\n",
    "import pickle\n",
    "from functional.backtester import Backtester as b\n",
    "import math"
   ]
  },
  {
   "cell_type": "code",
   "execution_count": 2,
   "id": "b38d4176",
   "metadata": {
    "scrolled": true
   },
   "outputs": [],
   "source": [
    "start_date = datetime(2023,1,1)\n",
    "end_date = datetime.now()"
   ]
  },
  {
   "cell_type": "code",
   "execution_count": 3,
   "id": "e5adbebb",
   "metadata": {},
   "outputs": [],
   "source": [
    "market = Market()\n",
    "speculation_db = ADatabase(\"btc_spec\")\n",
    "classification_db = ADatabase(\"btc_spec_classification\")\n",
    "current_db = ADatabase(\"btc_current\")\n",
    "umod = UniversalModeler()"
   ]
  },
  {
   "cell_type": "code",
   "execution_count": 4,
   "id": "23c58493",
   "metadata": {},
   "outputs": [],
   "source": [
    "market.connect()\n",
    "prices = market.retrieve(\"crypto\")\n",
    "sp500 = market.retrieve(\"sp500\")\n",
    "sp500 = sp500.rename(columns={\"Symbol\":\"ticker\"})\n",
    "market.disconnect()\n",
    "current_prices = pd.read_csv(\"./csv_files/prices/BTC-USD.csv\")\n",
    "current_prices[\"ticker\"] = \"BTC\"\n",
    "current_prices = p.column_date_processing(current_prices)\n",
    "prices = p.column_date_processing(prices)\n",
    "prices[\"ticker\"] = \"BTC\"\n",
    "prices = pd.concat([prices,current_prices])"
   ]
  },
  {
   "cell_type": "code",
   "execution_count": 5,
   "id": "d3f8c4e0",
   "metadata": {},
   "outputs": [],
   "source": [
    "tyields = adhocs.tyields()\n",
    "bench_returns = adhocs.spy_bench()"
   ]
  },
  {
   "cell_type": "code",
   "execution_count": 6,
   "id": "11892483",
   "metadata": {},
   "outputs": [],
   "source": [
    "factors = [str(x) for x in range(14)]\n",
    "included_columns=[\n",
    "    \"year\",\n",
    "    \"week\",\n",
    "    \"ticker\",\n",
    "    \"adjclose\",\n",
    "]\n",
    "included_columns.extend(factors)"
   ]
  },
  {
   "cell_type": "code",
   "execution_count": 7,
   "id": "cb6e513d",
   "metadata": {},
   "outputs": [],
   "source": [
    "classification_factors = [\"d1\",\"d2\",\"d3\",\"rolling14\"]\n",
    "included_columns.extend(classification_factors)"
   ]
  },
  {
   "cell_type": "code",
   "execution_count": 8,
   "id": "2877c3ed",
   "metadata": {},
   "outputs": [],
   "source": [
    "trades = []\n",
    "values = [True,False]\n",
    "classifications = [True,False]\n",
    "ceilings = [True,False]\n",
    "floors = [True,False]\n",
    "parameters = []\n",
    "positions = 1\n",
    "strats = [\"spec\",\"rolling\",\"window\"]\n",
    "for strat in strats:\n",
    "    for value in values:\n",
    "        for classification in classifications:\n",
    "            for ceiling in ceilings:\n",
    "                for floor in floors:\n",
    "                    parameter = {\n",
    "                                \"value\":value\n",
    "                                 ,\"classification\":classification\n",
    "                                 ,\"ceiling\":ceiling\n",
    "                                 ,\"floor\":floor\n",
    "                                ,\"strat\":strat\n",
    "                                }\n",
    "                    parameters.append(parameter)"
   ]
  },
  {
   "cell_type": "code",
   "execution_count": 9,
   "id": "a5ce2846",
   "metadata": {},
   "outputs": [],
   "source": [
    "market.connect()\n",
    "prices = market.retrieve(\"crypto\")\n",
    "market.disconnect()\n",
    "current_prices = pd.read_csv(\"./csv_files/prices/BTC-USD.csv\")\n",
    "current_prices[\"ticker\"] = \"BTC\"\n",
    "current_prices = p.column_date_processing(current_prices)\n",
    "prices = p.column_date_processing(prices)\n",
    "prices[\"year\"] = [x.year for x in prices[\"date\"]]\n",
    "prices[\"week\"] = [x.week for x in prices[\"date\"]]\n",
    "prices[\"quarter\"] = [x.quarter for x in prices[\"date\"]]\n",
    "prices[\"ticker\"] = \"BTC\"\n",
    "prices = pd.concat([prices,current_prices])"
   ]
  },
  {
   "cell_type": "code",
   "execution_count": 10,
   "id": "2d681075",
   "metadata": {},
   "outputs": [],
   "source": [
    "ticker_data = prices.copy()\n",
    "ticker_data = spec.transform(ticker_data)\n",
    "ticker_data = classer.transform(ticker_data)\n",
    "ticker_data.dropna(inplace=True)\n",
    "ticker_data[\"ticker\"] = \"BTC\"\n",
    "ticker_data = ticker_data[included_columns]\n",
    "data = ticker_data.copy().dropna()"
   ]
  },
  {
   "cell_type": "code",
   "execution_count": 11,
   "id": "f0aaeff1",
   "metadata": {},
   "outputs": [],
   "source": [
    "prediction_slice = data[data[\"year\"]>=start_date.year-2].reset_index(drop=True)"
   ]
  },
  {
   "cell_type": "code",
   "execution_count": 12,
   "id": "e76b872c",
   "metadata": {},
   "outputs": [],
   "source": [
    "speculation_db.connect()\n",
    "models = speculation_db.retrieve(\"models\")\n",
    "speculation_db.disconnect()"
   ]
  },
  {
   "cell_type": "code",
   "execution_count": 13,
   "id": "f48a859f",
   "metadata": {},
   "outputs": [
    {
     "name": "stdout",
     "output_type": "stream",
     "text": [
      "Keras model archive loading:\n",
      "File Name                                             Modified             Size\n",
      "config.json                                    2023-03-03 11:19:38         2522\n",
      "metadata.json                                  2023-03-03 11:19:38           64\n",
      "variables.h5                                   2023-03-03 11:19:38        84160\n",
      "Keras weights file (<HDF5 file \"variables.h5\" (mode r)>) loading:\n",
      "...layers\\dense\n",
      "......vars\n",
      ".........0\n",
      ".........1\n",
      "...layers\\dense_1\n",
      "......vars\n",
      ".........0\n",
      ".........1\n",
      "...layers\\dense_2\n",
      "......vars\n",
      ".........0\n",
      ".........1\n",
      "...metrics\\mean\n",
      "......vars\n",
      ".........0\n",
      ".........1\n",
      "...metrics\\mean_absolute_percentage_error\n",
      "......vars\n",
      ".........0\n",
      ".........1\n",
      "...optimizer\n",
      "......vars\n",
      ".........0\n",
      ".........1\n",
      ".........10\n",
      ".........11\n",
      ".........12\n",
      ".........2\n",
      ".........3\n",
      ".........4\n",
      ".........5\n",
      ".........6\n",
      ".........7\n",
      ".........8\n",
      ".........9\n",
      "...vars\n",
      "4/4 [==============================] - 0s 1ms/step\n"
     ]
    }
   ],
   "source": [
    "simulation = umod.recommend(models,prediction_slice.copy(),factors)\n",
    "simulation[\"week\"] = simulation[\"week\"] + 1\n",
    "simulation[\"prediction\"] = (simulation[\"cat_prediction\"] + simulation[\"xgb_prediction\"] + simulation[\"tf_prediction\"]) / 3\n",
    "speculation_db.connect()\n",
    "speculation_db.drop(\"predictions\")\n",
    "speculation_db.store(\"predictions\",simulation)\n",
    "speculation_db.disconnect()"
   ]
  },
  {
   "cell_type": "code",
   "execution_count": 14,
   "id": "05c05728",
   "metadata": {},
   "outputs": [],
   "source": [
    "classification_db.connect()\n",
    "classification_models = classification_db.retrieve(\"models\")\n",
    "classification_db.disconnect()"
   ]
  },
  {
   "cell_type": "code",
   "execution_count": 15,
   "id": "f066bf98",
   "metadata": {},
   "outputs": [
    {
     "name": "stdout",
     "output_type": "stream",
     "text": [
      "Keras model archive loading:\n",
      "File Name                                             Modified             Size\n",
      "config.json                                    2023-03-30 10:52:04         2149\n",
      "metadata.json                                  2023-03-30 10:52:04           64\n",
      "variables.h5                                   2023-03-30 10:52:04        23208\n",
      "Keras weights file (<HDF5 file \"variables.h5\" (mode r)>) loading:\n",
      "...layers\\dense\n",
      "......vars\n",
      ".........0\n",
      ".........1\n",
      "...layers\\dense_1\n",
      "......vars\n",
      ".........0\n",
      ".........1\n",
      "...layers\\dropout\n",
      "......vars\n",
      "...metrics\\mean\n",
      "......vars\n",
      ".........0\n",
      ".........1\n",
      "...metrics\\mean_metric_wrapper\n",
      "......vars\n",
      ".........0\n",
      ".........1\n",
      "...optimizer\n",
      "......vars\n",
      ".........0\n",
      ".........1\n",
      ".........2\n",
      ".........3\n",
      ".........4\n",
      ".........5\n",
      ".........6\n",
      ".........7\n",
      ".........8\n",
      "...vars\n",
      "4/4 [==============================] - 0s 667us/step\n"
     ]
    }
   ],
   "source": [
    "classification_simulation = umod.recommend(classification_models,prediction_slice.copy(),classification_factors)\n",
    "classification_simulation[\"week\"] = classification_simulation[\"week\"] + 1\n",
    "classification_simulation[\"classification_prediction\"] = ((classification_simulation[\"cat_prediction\"] + \\\n",
    "                                                          classification_simulation[\"xgb_prediction\"] + \\\n",
    "                                                          classification_simulation[\"tf_prediction\"]) / 3) > 0.5\n",
    "classification_simulation[\"classification_prediction\"] = [int(x) for x in classification_simulation[\"classification_prediction\"]]\n",
    "classification_db.connect()\n",
    "classification_db.drop(\"predictions\")\n",
    "classification_db.store(\"predictions\",classification_simulation)\n",
    "classification_db.disconnect()"
   ]
  }
 ],
 "metadata": {
  "kernelspec": {
   "display_name": "Python 3 (ipykernel)",
   "language": "python",
   "name": "python3"
  },
  "language_info": {
   "codemirror_mode": {
    "name": "ipython",
    "version": 3
   },
   "file_extension": ".py",
   "mimetype": "text/x-python",
   "name": "python",
   "nbconvert_exporter": "python",
   "pygments_lexer": "ipython3",
   "version": "3.10.5"
  }
 },
 "nbformat": 4,
 "nbformat_minor": 5
}
