{
 "cells": [
  {
   "cell_type": "code",
   "execution_count": 1,
   "id": "c6788ec6",
   "metadata": {},
   "outputs": [],
   "source": [
    "from database.sec import SEC\n",
    "from database.market import Market\n",
    "from transformer.sec_transformer import SECTransformer\n",
    "from processor.processor import Processor as p\n",
    "from datetime import datetime\n",
    "from tqdm import tqdm"
   ]
  },
  {
   "cell_type": "code",
   "execution_count": 2,
   "id": "999b1f22",
   "metadata": {},
   "outputs": [],
   "source": [
    "sec = SEC()\n",
    "market = Market()"
   ]
  },
  {
   "cell_type": "code",
   "execution_count": null,
   "id": "540e0621",
   "metadata": {},
   "outputs": [
    {
     "name": "stderr",
     "output_type": "stream",
     "text": [
      "  0%|                                                                                                                                                                                   | 0/12 [00:00<?, ?it/s]E:\\projects\\longshot_venv\\longshot\\database\\adatabase.py:40: UserWarning: DataFrame columns are not unique, some columns will be omitted.\n",
      "  records = data.to_dict(\"records\")\n"
     ]
    }
   ],
   "source": [
    "sec.connect()\n",
    "sec.create_index(\"filings\",\"cik\")\n",
    "sec.create_index(\"filings\",\"adsh\")\n",
    "for year in tqdm(range(2012,2024)):\n",
    "    for quarter in range(1,5):\n",
    "        try:\n",
    "            sub = SECTransformer.transform(year,quarter,\"sub\")[[\"adsh\",\"cik\",\"filed\"]]\n",
    "            num = SECTransformer.transform(year,quarter,\"num\")\n",
    "            for adsh in num[\"adsh\"].unique():\n",
    "                try:\n",
    "                    filing = num[num[\"adsh\"]==adsh].pivot_table(index=\"adsh\",columns=\"tag\",values=\"value\").reset_index()\n",
    "                    for column in filing.columns:\n",
    "                        if \".\" in column:\n",
    "                            new = column.replace(\".\",\"-\")\n",
    "                            filing.rename(columns={column:new},inplace=True)\n",
    "                    complete = p.column_date_processing(filing)\n",
    "                    complete = complete.merge(sub,on=\"adsh\",how=\"left\")\n",
    "                    sec.store(\"filings\",complete)\n",
    "                except Exception as e:\n",
    "                    print(adsh,str(e))\n",
    "        except Exception as e:\n",
    "            print(year,quarter,str(e))\n",
    "sec.disconnect()"
   ]
  }
 ],
 "metadata": {
  "kernelspec": {
   "display_name": "Python 3 (ipykernel)",
   "language": "python",
   "name": "python3"
  },
  "language_info": {
   "codemirror_mode": {
    "name": "ipython",
    "version": 3
   },
   "file_extension": ".py",
   "mimetype": "text/x-python",
   "name": "python",
   "nbconvert_exporter": "python",
   "pygments_lexer": "ipython3",
   "version": "3.10.5"
  }
 },
 "nbformat": 4,
 "nbformat_minor": 5
}
