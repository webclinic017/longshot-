{
 "cells": [
  {
   "cell_type": "code",
   "execution_count": 15,
   "id": "aa80f443",
   "metadata": {
    "scrolled": true
   },
   "outputs": [],
   "source": [
    "from datetime import datetime, timedelta\n",
    "import pytz\n",
    "import pandas as pd\n",
    "from tqdm import tqdm\n",
    "from modeler.modeler import Modeler as m\n",
    "from processor.processor import Processor as p\n",
    "from database.market import Market\n",
    "from database.adatabase import ADatabase\n",
    "from transformer.adhoc_transforms import Adhoc as adhocs\n",
    "from transformer.risk_transforms import Risk as risks\n",
    "\n",
    "\n",
    "import numpy as np\n",
    "import matplotlib.pyplot as plt\n",
    "import pickle\n",
    "from functional.backtester import Backtester as b\n",
    "import math"
   ]
  },
  {
   "cell_type": "code",
   "execution_count": 16,
   "id": "b38d4176",
   "metadata": {
    "scrolled": true
   },
   "outputs": [],
   "source": [
    "start_date = datetime(2020,1,1)\n",
    "end_date = datetime(2023,1,1)"
   ]
  },
  {
   "cell_type": "code",
   "execution_count": 17,
   "id": "e5adbebb",
   "metadata": {},
   "outputs": [],
   "source": [
    "market = Market()\n",
    "speculation_db = ADatabase(\"btc_spec\")\n",
    "classification_db = ADatabase(\"btc_spec_classification\")\n",
    "btc_db = ADatabase(\"btc_class_spec\")"
   ]
  },
  {
   "cell_type": "code",
   "execution_count": 18,
   "id": "235a8676",
   "metadata": {
    "scrolled": true
   },
   "outputs": [],
   "source": [
    "market.connect()\n",
    "prices = market.retrieve(\"crypto\")\n",
    "market.disconnect()\n",
    "current_prices = pd.read_csv(\"./csv_files/prices/BTC-USD.csv\")\n",
    "current_prices[\"ticker\"] = \"BTC\"\n",
    "current_prices = p.column_date_processing(current_prices)\n",
    "prices = p.column_date_processing(prices)\n",
    "prices[\"year\"] = [x.year for x in prices[\"date\"]]\n",
    "prices[\"week\"] = [x.week for x in prices[\"date\"]]\n",
    "prices[\"quarter\"] = [x.quarter for x in prices[\"date\"]]\n",
    "prices[\"ticker\"] = \"BTC\"\n",
    "prices = pd.concat([prices,current_prices])"
   ]
  },
  {
   "cell_type": "code",
   "execution_count": 19,
   "id": "99cd74b4",
   "metadata": {},
   "outputs": [
    {
     "data": {
      "text/html": [
       "<div>\n",
       "<style scoped>\n",
       "    .dataframe tbody tr th:only-of-type {\n",
       "        vertical-align: middle;\n",
       "    }\n",
       "\n",
       "    .dataframe tbody tr th {\n",
       "        vertical-align: top;\n",
       "    }\n",
       "\n",
       "    .dataframe thead th {\n",
       "        text-align: right;\n",
       "    }\n",
       "</style>\n",
       "<table border=\"1\" class=\"dataframe\">\n",
       "  <thead>\n",
       "    <tr style=\"text-align: right;\">\n",
       "      <th></th>\n",
       "      <th>date</th>\n",
       "      <th>high</th>\n",
       "      <th>low</th>\n",
       "      <th>open</th>\n",
       "      <th>close</th>\n",
       "      <th>volume</th>\n",
       "      <th>adjclose</th>\n",
       "      <th>ticker</th>\n",
       "      <th>year</th>\n",
       "      <th>quarter</th>\n",
       "      <th>week</th>\n",
       "    </tr>\n",
       "  </thead>\n",
       "  <tbody>\n",
       "    <tr>\n",
       "      <th>0</th>\n",
       "      <td>2014-09-17</td>\n",
       "      <td>468.174011</td>\n",
       "      <td>452.421997</td>\n",
       "      <td>465.864014</td>\n",
       "      <td>457.334015</td>\n",
       "      <td>2.105680e+07</td>\n",
       "      <td>457.334015</td>\n",
       "      <td>BTC</td>\n",
       "      <td>2014</td>\n",
       "      <td>3</td>\n",
       "      <td>38</td>\n",
       "    </tr>\n",
       "    <tr>\n",
       "      <th>1</th>\n",
       "      <td>2014-09-18</td>\n",
       "      <td>456.859985</td>\n",
       "      <td>413.104004</td>\n",
       "      <td>456.859985</td>\n",
       "      <td>424.440002</td>\n",
       "      <td>3.448320e+07</td>\n",
       "      <td>424.440002</td>\n",
       "      <td>BTC</td>\n",
       "      <td>2014</td>\n",
       "      <td>3</td>\n",
       "      <td>38</td>\n",
       "    </tr>\n",
       "    <tr>\n",
       "      <th>2</th>\n",
       "      <td>2014-09-19</td>\n",
       "      <td>427.834991</td>\n",
       "      <td>384.532013</td>\n",
       "      <td>424.102997</td>\n",
       "      <td>394.795990</td>\n",
       "      <td>3.791970e+07</td>\n",
       "      <td>394.795990</td>\n",
       "      <td>BTC</td>\n",
       "      <td>2014</td>\n",
       "      <td>3</td>\n",
       "      <td>38</td>\n",
       "    </tr>\n",
       "    <tr>\n",
       "      <th>3</th>\n",
       "      <td>2014-09-20</td>\n",
       "      <td>423.295990</td>\n",
       "      <td>389.882996</td>\n",
       "      <td>394.673004</td>\n",
       "      <td>408.903992</td>\n",
       "      <td>3.686360e+07</td>\n",
       "      <td>408.903992</td>\n",
       "      <td>BTC</td>\n",
       "      <td>2014</td>\n",
       "      <td>3</td>\n",
       "      <td>38</td>\n",
       "    </tr>\n",
       "    <tr>\n",
       "      <th>4</th>\n",
       "      <td>2014-09-21</td>\n",
       "      <td>412.425995</td>\n",
       "      <td>393.181000</td>\n",
       "      <td>408.084991</td>\n",
       "      <td>398.821014</td>\n",
       "      <td>2.658010e+07</td>\n",
       "      <td>398.821014</td>\n",
       "      <td>BTC</td>\n",
       "      <td>2014</td>\n",
       "      <td>3</td>\n",
       "      <td>38</td>\n",
       "    </tr>\n",
       "    <tr>\n",
       "      <th>...</th>\n",
       "      <td>...</td>\n",
       "      <td>...</td>\n",
       "      <td>...</td>\n",
       "      <td>...</td>\n",
       "      <td>...</td>\n",
       "      <td>...</td>\n",
       "      <td>...</td>\n",
       "      <td>...</td>\n",
       "      <td>...</td>\n",
       "      <td>...</td>\n",
       "      <td>...</td>\n",
       "    </tr>\n",
       "    <tr>\n",
       "      <th>361</th>\n",
       "      <td>2023-05-22</td>\n",
       "      <td>27045.734375</td>\n",
       "      <td>26549.734375</td>\n",
       "      <td>26749.892578</td>\n",
       "      <td>26851.277344</td>\n",
       "      <td>1.105677e+10</td>\n",
       "      <td>26851.277344</td>\n",
       "      <td>BTC</td>\n",
       "      <td>2023</td>\n",
       "      <td>2</td>\n",
       "      <td>21</td>\n",
       "    </tr>\n",
       "    <tr>\n",
       "      <th>362</th>\n",
       "      <td>2023-05-23</td>\n",
       "      <td>27434.683594</td>\n",
       "      <td>26816.179688</td>\n",
       "      <td>26855.960938</td>\n",
       "      <td>27225.726563</td>\n",
       "      <td>1.369720e+10</td>\n",
       "      <td>27225.726563</td>\n",
       "      <td>BTC</td>\n",
       "      <td>2023</td>\n",
       "      <td>2</td>\n",
       "      <td>21</td>\n",
       "    </tr>\n",
       "    <tr>\n",
       "      <th>363</th>\n",
       "      <td>2023-05-24</td>\n",
       "      <td>27224.603516</td>\n",
       "      <td>26106.576172</td>\n",
       "      <td>27224.603516</td>\n",
       "      <td>26334.818359</td>\n",
       "      <td>1.629910e+10</td>\n",
       "      <td>26334.818359</td>\n",
       "      <td>BTC</td>\n",
       "      <td>2023</td>\n",
       "      <td>2</td>\n",
       "      <td>21</td>\n",
       "    </tr>\n",
       "    <tr>\n",
       "      <th>364</th>\n",
       "      <td>2023-05-25</td>\n",
       "      <td>26591.519531</td>\n",
       "      <td>25890.593750</td>\n",
       "      <td>26329.460938</td>\n",
       "      <td>26476.207031</td>\n",
       "      <td>1.385112e+10</td>\n",
       "      <td>26476.207031</td>\n",
       "      <td>BTC</td>\n",
       "      <td>2023</td>\n",
       "      <td>2</td>\n",
       "      <td>21</td>\n",
       "    </tr>\n",
       "    <tr>\n",
       "      <th>365</th>\n",
       "      <td>2023-05-26</td>\n",
       "      <td>NaN</td>\n",
       "      <td>NaN</td>\n",
       "      <td>NaN</td>\n",
       "      <td>NaN</td>\n",
       "      <td>NaN</td>\n",
       "      <td>NaN</td>\n",
       "      <td>BTC</td>\n",
       "      <td>2023</td>\n",
       "      <td>2</td>\n",
       "      <td>21</td>\n",
       "    </tr>\n",
       "  </tbody>\n",
       "</table>\n",
       "<p>3424 rows × 11 columns</p>\n",
       "</div>"
      ],
      "text/plain": [
       "          date          high           low          open         close  \\\n",
       "0   2014-09-17    468.174011    452.421997    465.864014    457.334015   \n",
       "1   2014-09-18    456.859985    413.104004    456.859985    424.440002   \n",
       "2   2014-09-19    427.834991    384.532013    424.102997    394.795990   \n",
       "3   2014-09-20    423.295990    389.882996    394.673004    408.903992   \n",
       "4   2014-09-21    412.425995    393.181000    408.084991    398.821014   \n",
       "..         ...           ...           ...           ...           ...   \n",
       "361 2023-05-22  27045.734375  26549.734375  26749.892578  26851.277344   \n",
       "362 2023-05-23  27434.683594  26816.179688  26855.960938  27225.726563   \n",
       "363 2023-05-24  27224.603516  26106.576172  27224.603516  26334.818359   \n",
       "364 2023-05-25  26591.519531  25890.593750  26329.460938  26476.207031   \n",
       "365 2023-05-26           NaN           NaN           NaN           NaN   \n",
       "\n",
       "           volume      adjclose ticker  year  quarter  week  \n",
       "0    2.105680e+07    457.334015    BTC  2014        3    38  \n",
       "1    3.448320e+07    424.440002    BTC  2014        3    38  \n",
       "2    3.791970e+07    394.795990    BTC  2014        3    38  \n",
       "3    3.686360e+07    408.903992    BTC  2014        3    38  \n",
       "4    2.658010e+07    398.821014    BTC  2014        3    38  \n",
       "..            ...           ...    ...   ...      ...   ...  \n",
       "361  1.105677e+10  26851.277344    BTC  2023        2    21  \n",
       "362  1.369720e+10  27225.726563    BTC  2023        2    21  \n",
       "363  1.629910e+10  26334.818359    BTC  2023        2    21  \n",
       "364  1.385112e+10  26476.207031    BTC  2023        2    21  \n",
       "365           NaN           NaN    BTC  2023        2    21  \n",
       "\n",
       "[3424 rows x 11 columns]"
      ]
     },
     "execution_count": 19,
     "metadata": {},
     "output_type": "execute_result"
    }
   ],
   "source": [
    "prices"
   ]
  },
  {
   "cell_type": "code",
   "execution_count": 20,
   "id": "9bdab5e1",
   "metadata": {},
   "outputs": [],
   "source": [
    "tyields = adhocs.tyields()\n",
    "bench_returns = adhocs.spy_bench()"
   ]
  },
  {
   "cell_type": "code",
   "execution_count": 21,
   "id": "f5b10169",
   "metadata": {},
   "outputs": [],
   "source": [
    "ticker_sim = prices.copy()\n",
    "price_returns = risks.btc_risk_prep(ticker_sim,bench_returns)"
   ]
  },
  {
   "cell_type": "code",
   "execution_count": 22,
   "id": "5b375c05",
   "metadata": {},
   "outputs": [],
   "source": [
    "speculation_db.connect()\n",
    "simulation = speculation_db.retrieve(\"sim\")\n",
    "speculation_db.disconnect()"
   ]
  },
  {
   "cell_type": "code",
   "execution_count": 23,
   "id": "fa606062",
   "metadata": {},
   "outputs": [],
   "source": [
    "classification_db.connect()\n",
    "classification_simulation = classification_db.retrieve(\"sim\")\n",
    "classification_db.disconnect()"
   ]
  },
  {
   "cell_type": "code",
   "execution_count": 24,
   "id": "f6d4d444",
   "metadata": {},
   "outputs": [],
   "source": [
    "simulation[\"week\"] = simulation[\"week\"] + 1\n",
    "classification_simulation[\"week\"] = classification_simulation[\"week\"] + 1\n",
    "classification_simulation.rename(columns={\"prediction\":\"classification_prediction\"},inplace=True)"
   ]
  },
  {
   "cell_type": "code",
   "execution_count": 25,
   "id": "a61c6b3e",
   "metadata": {},
   "outputs": [],
   "source": [
    "simulation = price_returns.merge(simulation.drop(\"adjclose\",axis=1)[[\"year\",\"week\",\"ticker\",\"prediction\"]],on=[\"year\",\"week\",\"ticker\"],how=\"left\") \\\n",
    "                    .merge(classification_simulation.drop([\"adjclose\",\"training_years\"],axis=1)[[\"year\",\"week\",\"ticker\",\"classification_prediction\"]],on=[\"year\",\"week\",\"ticker\"],how=\"left\") \\\n",
    "                    .merge(tyields[[\"date\",\"weekly_yield\"]],on=\"date\",how=\"left\")"
   ]
  },
  {
   "cell_type": "code",
   "execution_count": 26,
   "id": "c040f7fd",
   "metadata": {},
   "outputs": [],
   "source": [
    "sim = simulation.dropna()"
   ]
  },
  {
   "cell_type": "code",
   "execution_count": 27,
   "id": "bc8fc475",
   "metadata": {},
   "outputs": [],
   "source": [
    "sim.sort_values(\"date\",inplace=True)"
   ]
  },
  {
   "cell_type": "code",
   "execution_count": 28,
   "id": "809990bd",
   "metadata": {},
   "outputs": [],
   "source": [
    "sim = sim.groupby([\"date\",\"ticker\",\"classification_prediction\"]).mean().reset_index()"
   ]
  },
  {
   "cell_type": "code",
   "execution_count": 29,
   "id": "7710948a",
   "metadata": {
    "scrolled": true
   },
   "outputs": [],
   "source": [
    "trades = []\n",
    "reqs = [0.05]\n",
    "signals = [0.05]\n",
    "values = [True]\n",
    "classifications = [True,False]\n",
    "ceilings = [True,False]\n",
    "floors = [True,False]\n",
    "hedges = [False]\n",
    "parameters = []\n",
    "positions = 1\n",
    "training_year = 4\n",
    "strats = [\"spec\",\"rolling\",\"window\"]\n",
    "for strat in strats:\n",
    "    for value in values:\n",
    "        for classification in classifications:\n",
    "            for ceiling in ceilings:\n",
    "                for floor in floors:\n",
    "                    for hedge in hedges:\n",
    "                        for signal in signals:\n",
    "                            for req in reqs:\n",
    "                                parameter = {\n",
    "                                            \"value\":value\n",
    "                                             ,\"classification\":classification\n",
    "                                             ,\"ceiling\":ceiling\n",
    "                                             ,\"floor\":floor\n",
    "                                             ,\"hedge\":hedge\n",
    "                                             ,\"signal\":signal\n",
    "                                             ,\"req\":req\n",
    "                                             ,\"training_years\":training_year\n",
    "                                            ,\"strat\":strat\n",
    "                                            }\n",
    "                                parameters.append(parameter)"
   ]
  },
  {
   "cell_type": "code",
   "execution_count": 30,
   "id": "2ffb7b04",
   "metadata": {},
   "outputs": [],
   "source": [
    "parameter = parameters[0]"
   ]
  },
  {
   "cell_type": "code",
   "execution_count": 32,
   "id": "40c956bc",
   "metadata": {},
   "outputs": [
    {
     "name": "stderr",
     "output_type": "stream",
     "text": [
      "100%|██████████████████████████████████████████████████████████████████████████████████████████████████████████████████████████████████████████████████████████| 24/24 [00:01<00:00, 23.36it/s]\n"
     ]
    }
   ],
   "source": [
    "btc_db.connect()\n",
    "btc_db.drop(\"trades\")\n",
    "for parameter in tqdm(parameters):\n",
    "    backtest_data = sim.copy().dropna()\n",
    "    strat = parameter[\"strat\"]\n",
    "    backtest_data = risks.btc_backtest_prep(strat,backtest_data)\n",
    "    b.btc_backtest(backtest_data.copy(),parameter,start_date,end_date,btc_db)\n",
    "btc_db.disconnect()"
   ]
  }
 ],
 "metadata": {
  "kernelspec": {
   "display_name": "Python 3 (ipykernel)",
   "language": "python",
   "name": "python3"
  },
  "language_info": {
   "codemirror_mode": {
    "name": "ipython",
    "version": 3
   },
   "file_extension": ".py",
   "mimetype": "text/x-python",
   "name": "python",
   "nbconvert_exporter": "python",
   "pygments_lexer": "ipython3",
   "version": "3.10.5"
  }
 },
 "nbformat": 4,
 "nbformat_minor": 5
}
