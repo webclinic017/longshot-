{
 "cells": [
  {
   "cell_type": "code",
   "execution_count": 1,
   "id": "fd7ea1d3",
   "metadata": {},
   "outputs": [],
   "source": [
    "from fund.fund import Fund\n",
    "from datetime import datetime\n",
    "from tqdm import tqdm"
   ]
  },
  {
   "cell_type": "code",
   "execution_count": 2,
   "id": "9a62a77e",
   "metadata": {},
   "outputs": [],
   "source": [
    "start = datetime(2023,1,1)\n",
    "end = datetime.now()\n",
    "current_date = datetime.now()"
   ]
  },
  {
   "cell_type": "code",
   "execution_count": 3,
   "id": "e7b9084d",
   "metadata": {},
   "outputs": [],
   "source": [
    "delta_fund = Fund()\n",
    "delta_fund.initialize()"
   ]
  },
  {
   "cell_type": "code",
   "execution_count": 4,
   "id": "d2e18bb2",
   "metadata": {
    "scrolled": true
   },
   "outputs": [
    {
     "name": "stderr",
     "output_type": "stream",
     "text": [
      "100%|███████████████████████████████████████████████████████████████████████████████████████████████████████████████████████████████████████████████████████████████████████████████| 6/6 [00:40<00:00,  6.74s/it]\n"
     ]
    }
   ],
   "source": [
    "for strategy in tqdm(delta_fund.strategies):\n",
    "    try:\n",
    "        strategy.load_optimal_parameter()\n",
    "        returns = strategy.create_returns(False)\n",
    "        simulation = strategy.create_simulation()\n",
    "        merged = strategy.merge_sim_returns(simulation,returns)\n",
    "        complete = strategy.apply_yields(merged,False)\n",
    "        strategy.drop_recommendations()\n",
    "        strategy.initialize_backtester()\n",
    "        trades = strategy.run_recommendation(complete)\n",
    "    except Exception as e:\n",
    "        print(strategy.name,str(e))"
   ]
  },
  {
   "cell_type": "code",
   "execution_count": 5,
   "id": "121056c9",
   "metadata": {},
   "outputs": [
    {
     "name": "stderr",
     "output_type": "stream",
     "text": [
      "100%|███████████████████████████████████████████████████████████████████████████████████████████████████████████████████████████████████████████████████████████████████████████████| 6/6 [00:05<00:00,  1.11it/s]\n"
     ]
    }
   ],
   "source": [
    "for strategy in tqdm(delta_fund.strategies):\n",
    "    try:\n",
    "        strategy.load_optimal_parameter()\n",
    "        recs = strategy.pull_recommendations()\n",
    "        strategy.db.cloud_connect()\n",
    "        strategy.db.drop(\"recs\")\n",
    "        strategy.db.store(\"recs\",recs)\n",
    "        strategy.db.disconnect()\n",
    "    except Exception as e:\n",
    "        print(strategy.name,str(e))"
   ]
  }
 ],
 "metadata": {
  "kernelspec": {
   "display_name": "Python 3 (ipykernel)",
   "language": "python",
   "name": "python3"
  },
  "language_info": {
   "codemirror_mode": {
    "name": "ipython",
    "version": 3
   },
   "file_extension": ".py",
   "mimetype": "text/x-python",
   "name": "python",
   "nbconvert_exporter": "python",
   "pygments_lexer": "ipython3",
   "version": "3.10.5"
  }
 },
 "nbformat": 4,
 "nbformat_minor": 5
}
