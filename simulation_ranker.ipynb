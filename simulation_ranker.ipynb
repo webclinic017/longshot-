{
 "cells": [
  {
   "cell_type": "code",
   "execution_count": 1,
   "id": "5a24d11e",
   "metadata": {},
   "outputs": [],
   "source": [
    "from ranker.ranker import Ranker\n",
    "from ranker.ranker_factory import RankerFactory\n",
    "from datetime import datetime\n",
    "from tqdm import tqdm"
   ]
  },
  {
   "cell_type": "code",
   "execution_count": 2,
   "id": "15454e26",
   "metadata": {},
   "outputs": [],
   "source": [
    "rankers = []\n",
    "rankers.append(Ranker.QUARTERLY_STOCK_EARNINGS_RANKER)\n",
    "rankers.append(Ranker.QUARTERLY_STOCK_DIVIDENDS_RANKER)\n",
    "rankers.append(Ranker.QUARTERLY_STOCK_ROLLING_RANKER)"
   ]
  },
  {
   "cell_type": "code",
   "execution_count": 3,
   "id": "1f7fc22a",
   "metadata": {},
   "outputs": [
    {
     "name": "stderr",
     "output_type": "stream",
     "text": [
      "\r",
      "  0%|                                                                                                                                                                                    | 0/3 [00:00<?, ?it/s]"
     ]
    },
    {
     "name": "stdout",
     "output_type": "stream",
     "text": [
      "'year'\n",
      "'date'\n",
      "'date'\n",
      "'year'\n",
      "'year'\n"
     ]
    },
    {
     "name": "stderr",
     "output_type": "stream",
     "text": [
      "\r",
      " 33%|█████████████████████████████████████████████████████████                                                                                                                  | 1/3 [03:07<06:14, 187.25s/it]"
     ]
    },
    {
     "name": "stdout",
     "output_type": "stream",
     "text": [
      "'year'\n",
      "'date'\n",
      "'date'\n",
      "'year'\n",
      "'year'\n"
     ]
    },
    {
     "name": "stderr",
     "output_type": "stream",
     "text": [
      "\r",
      " 67%|██████████████████████████████████████████████████████████████████████████████████████████████████████████████████                                                         | 2/3 [06:09<03:04, 184.58s/it]"
     ]
    },
    {
     "name": "stdout",
     "output_type": "stream",
     "text": [
      "'date'\n",
      "'date'\n"
     ]
    },
    {
     "name": "stderr",
     "output_type": "stream",
     "text": [
      "100%|███████████████████████████████████████████████████████████████████████████████████████████████████████████████████████████████████████████████████████████████████████████| 3/3 [06:39<00:00, 133.00s/it]\n"
     ]
    }
   ],
   "source": [
    "for ranker_enum in tqdm(rankers):\n",
    "    try:\n",
    "        ranker_class = RankerFactory.build(ranker_enum)\n",
    "        ranker_class.initialize()\n",
    "        ranker_class.drop_sim()\n",
    "        test_sim = ranker_class.create_sim()\n",
    "    except Exception as e:\n",
    "        print(ranker_enum,str(e))"
   ]
  }
 ],
 "metadata": {
  "kernelspec": {
   "display_name": "Python 3 (ipykernel)",
   "language": "python",
   "name": "python3"
  },
  "language_info": {
   "codemirror_mode": {
    "name": "ipython",
    "version": 3
   },
   "file_extension": ".py",
   "mimetype": "text/x-python",
   "name": "python",
   "nbconvert_exporter": "python",
   "pygments_lexer": "ipython3",
   "version": "3.10.5"
  }
 },
 "nbformat": 4,
 "nbformat_minor": 5
}
