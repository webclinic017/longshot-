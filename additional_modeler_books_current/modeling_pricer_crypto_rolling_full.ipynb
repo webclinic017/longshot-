{
 "cells": [
  {
   "cell_type": "code",
   "execution_count": 1,
   "id": "5a24d11e",
   "metadata": {},
   "outputs": [],
   "source": [
    "import pandas as pd\n",
    "from pricer.pricer import Pricer\n",
    "from pricer.pricer_factory import PricerFactory\n",
    "from database.market import Market\n",
    "from database.sec import SEC\n",
    "from database.adatabase import ADatabase\n",
    "from processor.processor import Processor as p\n",
    "from datetime import datetime, timedelta\n",
    "from tqdm import tqdm\n",
    "import numpy as np\n",
    "from modeler_strats.universal_modeler import UniversalModeler"
   ]
  },
  {
   "cell_type": "code",
   "execution_count": 2,
   "id": "15454e26",
   "metadata": {},
   "outputs": [],
   "source": [
    "## initializing pricer_class\n",
    "pricer_class = PricerFactory.build(Pricer.WEEKLY_CRYPTO_ROLLING)"
   ]
  },
  {
   "cell_type": "code",
   "execution_count": 3,
   "id": "a77d9b13",
   "metadata": {},
   "outputs": [],
   "source": [
    "backtest_start_date = datetime(2021,1,1)\n",
    "backtest_end_date = datetime(2023,1,1)\n",
    "current_year = datetime.now().year"
   ]
  },
  {
   "cell_type": "code",
   "execution_count": 4,
   "id": "1f7fc22a",
   "metadata": {},
   "outputs": [],
   "source": [
    "## creating database objects\n",
    "market = Market()\n",
    "sec = SEC()\n",
    "modeler_strat = UniversalModeler()"
   ]
  },
  {
   "cell_type": "code",
   "execution_count": 5,
   "id": "b0c57b4d",
   "metadata": {},
   "outputs": [],
   "source": [
    "tickers = [\"BTC\"]"
   ]
  },
  {
   "cell_type": "code",
   "execution_count": 6,
   "id": "c551e792",
   "metadata": {
    "scrolled": true
   },
   "outputs": [
    {
     "name": "stderr",
     "output_type": "stream",
     "text": [
      "100%|█████████████████████████████████████████████████████████████████████████████████████████████| 1/1 [00:00<00:00, 27.02it/s]\n"
     ]
    }
   ],
   "source": [
    "market.connect()\n",
    "training_sets = []\n",
    "for ticker in tqdm(tickers):\n",
    "    try:\n",
    "        prices = market.retrieve_ticker_prices(pricer_class.asset_class.value,ticker)\n",
    "        prices = p.column_date_processing(prices)\n",
    "        ticker_data = pricer_class.training_set(ticker,prices)\n",
    "        training_sets.append(ticker_data)\n",
    "    except Exception as e:\n",
    "        print(str(e))\n",
    "        continue\n",
    "market.disconnect()"
   ]
  },
  {
   "cell_type": "code",
   "execution_count": 7,
   "id": "0ea5d66b",
   "metadata": {},
   "outputs": [],
   "source": [
    "data = pd.concat(training_sets)"
   ]
  },
  {
   "cell_type": "code",
   "execution_count": 8,
   "id": "736f208f",
   "metadata": {},
   "outputs": [],
   "source": [
    "training_data = data.dropna().copy().sort_values([\"year\",\"week\"])"
   ]
  },
  {
   "cell_type": "code",
   "execution_count": 9,
   "id": "dd5ef196",
   "metadata": {},
   "outputs": [],
   "source": [
    "training_data = training_data.groupby([\"year\",\"quarter\",\"week\",\"ticker\"]).mean().reset_index()"
   ]
  },
  {
   "cell_type": "code",
   "execution_count": 10,
   "id": "23c2ed14",
   "metadata": {},
   "outputs": [
    {
     "data": {
      "text/html": [
       "<div>\n",
       "<style scoped>\n",
       "    .dataframe tbody tr th:only-of-type {\n",
       "        vertical-align: middle;\n",
       "    }\n",
       "\n",
       "    .dataframe tbody tr th {\n",
       "        vertical-align: top;\n",
       "    }\n",
       "\n",
       "    .dataframe thead th {\n",
       "        text-align: right;\n",
       "    }\n",
       "</style>\n",
       "<table border=\"1\" class=\"dataframe\">\n",
       "  <thead>\n",
       "    <tr style=\"text-align: right;\">\n",
       "      <th></th>\n",
       "      <th>year</th>\n",
       "      <th>quarter</th>\n",
       "      <th>week</th>\n",
       "      <th>ticker</th>\n",
       "      <th>price_prediction</th>\n",
       "    </tr>\n",
       "  </thead>\n",
       "  <tbody>\n",
       "    <tr>\n",
       "      <th>0</th>\n",
       "      <td>2014</td>\n",
       "      <td>4</td>\n",
       "      <td>1</td>\n",
       "      <td>BTC</td>\n",
       "      <td>361.490206</td>\n",
       "    </tr>\n",
       "    <tr>\n",
       "      <th>1</th>\n",
       "      <td>2014</td>\n",
       "      <td>4</td>\n",
       "      <td>52</td>\n",
       "      <td>BTC</td>\n",
       "      <td>364.761057</td>\n",
       "    </tr>\n",
       "    <tr>\n",
       "      <th>2</th>\n",
       "      <td>2015</td>\n",
       "      <td>1</td>\n",
       "      <td>1</td>\n",
       "      <td>BTC</td>\n",
       "      <td>357.620447</td>\n",
       "    </tr>\n",
       "    <tr>\n",
       "      <th>3</th>\n",
       "      <td>2015</td>\n",
       "      <td>1</td>\n",
       "      <td>2</td>\n",
       "      <td>BTC</td>\n",
       "      <td>351.623932</td>\n",
       "    </tr>\n",
       "    <tr>\n",
       "      <th>4</th>\n",
       "      <td>2015</td>\n",
       "      <td>1</td>\n",
       "      <td>3</td>\n",
       "      <td>BTC</td>\n",
       "      <td>344.224964</td>\n",
       "    </tr>\n",
       "    <tr>\n",
       "      <th>...</th>\n",
       "      <td>...</td>\n",
       "      <td>...</td>\n",
       "      <td>...</td>\n",
       "      <td>...</td>\n",
       "      <td>...</td>\n",
       "    </tr>\n",
       "    <tr>\n",
       "      <th>439</th>\n",
       "      <td>2022</td>\n",
       "      <td>4</td>\n",
       "      <td>45</td>\n",
       "      <td>BTC</td>\n",
       "      <td>19784.976698</td>\n",
       "    </tr>\n",
       "    <tr>\n",
       "      <th>440</th>\n",
       "      <td>2022</td>\n",
       "      <td>4</td>\n",
       "      <td>46</td>\n",
       "      <td>BTC</td>\n",
       "      <td>19461.589161</td>\n",
       "    </tr>\n",
       "    <tr>\n",
       "      <th>441</th>\n",
       "      <td>2022</td>\n",
       "      <td>4</td>\n",
       "      <td>47</td>\n",
       "      <td>BTC</td>\n",
       "      <td>18986.625817</td>\n",
       "    </tr>\n",
       "    <tr>\n",
       "      <th>442</th>\n",
       "      <td>2022</td>\n",
       "      <td>4</td>\n",
       "      <td>48</td>\n",
       "      <td>BTC</td>\n",
       "      <td>18672.994275</td>\n",
       "    </tr>\n",
       "    <tr>\n",
       "      <th>443</th>\n",
       "      <td>2022</td>\n",
       "      <td>4</td>\n",
       "      <td>49</td>\n",
       "      <td>BTC</td>\n",
       "      <td>18489.572492</td>\n",
       "    </tr>\n",
       "  </tbody>\n",
       "</table>\n",
       "<p>444 rows × 5 columns</p>\n",
       "</div>"
      ],
      "text/plain": [
       "     year  quarter  week ticker  price_prediction\n",
       "0    2014        4     1    BTC        361.490206\n",
       "1    2014        4    52    BTC        364.761057\n",
       "2    2015        1     1    BTC        357.620447\n",
       "3    2015        1     2    BTC        351.623932\n",
       "4    2015        1     3    BTC        344.224964\n",
       "..    ...      ...   ...    ...               ...\n",
       "439  2022        4    45    BTC      19784.976698\n",
       "440  2022        4    46    BTC      19461.589161\n",
       "441  2022        4    47    BTC      18986.625817\n",
       "442  2022        4    48    BTC      18672.994275\n",
       "443  2022        4    49    BTC      18489.572492\n",
       "\n",
       "[444 rows x 5 columns]"
      ]
     },
     "execution_count": 10,
     "metadata": {},
     "output_type": "execute_result"
    }
   ],
   "source": [
    "training_data"
   ]
  },
  {
   "cell_type": "code",
   "execution_count": 11,
   "id": "23ad6193",
   "metadata": {
    "scrolled": true
   },
   "outputs": [],
   "source": [
    "pricer_class.db.connect()\n",
    "relevant_columns = list(set(list(training_data.columns)) - set(pricer_class.factors))\n",
    "pricer_class.db.store(\"sim\",training_data[relevant_columns])\n",
    "pricer_class.db.disconnect()"
   ]
  }
 ],
 "metadata": {
  "kernelspec": {
   "display_name": "Python 3 (ipykernel)",
   "language": "python",
   "name": "python3"
  },
  "language_info": {
   "codemirror_mode": {
    "name": "ipython",
    "version": 3
   },
   "file_extension": ".py",
   "mimetype": "text/x-python",
   "name": "python",
   "nbconvert_exporter": "python",
   "pygments_lexer": "ipython3",
   "version": "3.10.5"
  }
 },
 "nbformat": 4,
 "nbformat_minor": 5
}
