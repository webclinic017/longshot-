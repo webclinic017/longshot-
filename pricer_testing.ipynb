{
 "cells": [
  {
   "cell_type": "code",
   "execution_count": 1,
   "id": "d3cc9225",
   "metadata": {},
   "outputs": [],
   "source": [
    "from pricer.pricer import Pricer\n",
    "from pricer.pricer_factory import PricerFactory"
   ]
  },
  {
   "cell_type": "code",
   "execution_count": 2,
   "id": "8f7b40c1",
   "metadata": {},
   "outputs": [],
   "source": [
    "rolling = PricerFactory.build(Pricer.DAILY_STOCK_ROLLING)\n",
    "window = PricerFactory.build(Pricer.DAILY_STOCK_WINDOW)\n",
    "speculation = PricerFactory.build(Pricer.DAILY_STOCK_SPECULATION)"
   ]
  },
  {
   "cell_type": "code",
   "execution_count": 3,
   "id": "cfba922c",
   "metadata": {},
   "outputs": [],
   "source": [
    "rolling.initialize()\n",
    "speculation.initialize()\n",
    "window.initialize()"
   ]
  },
  {
   "cell_type": "code",
   "execution_count": 4,
   "id": "6b2e83b2",
   "metadata": {},
   "outputs": [
    {
     "data": {
      "text/plain": [
       "'dately_stocks_rolling'"
      ]
     },
     "execution_count": 4,
     "metadata": {},
     "output_type": "execute_result"
    }
   ],
   "source": [
    "rolling.name"
   ]
  },
  {
   "cell_type": "code",
   "execution_count": 5,
   "id": "e87e44b9",
   "metadata": {},
   "outputs": [
    {
     "data": {
      "text/plain": [
       "'dately_stocks_speculation'"
      ]
     },
     "execution_count": 5,
     "metadata": {},
     "output_type": "execute_result"
    }
   ],
   "source": [
    "speculation.name"
   ]
  },
  {
   "cell_type": "code",
   "execution_count": 6,
   "id": "eb692b81",
   "metadata": {},
   "outputs": [
    {
     "data": {
      "text/plain": [
       "'dately_stocks_window'"
      ]
     },
     "execution_count": 6,
     "metadata": {},
     "output_type": "execute_result"
    }
   ],
   "source": [
    "window.name"
   ]
  }
 ],
 "metadata": {
  "kernelspec": {
   "display_name": "Python 3 (ipykernel)",
   "language": "python",
   "name": "python3"
  },
  "language_info": {
   "codemirror_mode": {
    "name": "ipython",
    "version": 3
   },
   "file_extension": ".py",
   "mimetype": "text/x-python",
   "name": "python",
   "nbconvert_exporter": "python",
   "pygments_lexer": "ipython3",
   "version": "3.10.5"
  }
 },
 "nbformat": 4,
 "nbformat_minor": 5
}
