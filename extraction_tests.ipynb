{
 "cells": [
  {
   "cell_type": "code",
   "execution_count": 1,
   "id": "e9cf0489",
   "metadata": {},
   "outputs": [],
   "source": [
    "from extractor.fmp_extractor import FMPExtractor\n",
    "from datetime import datetime, timedelta\n",
    "import pandas as pd"
   ]
  },
  {
   "cell_type": "code",
   "execution_count": 2,
   "id": "ce3bff2b",
   "metadata": {},
   "outputs": [],
   "source": [
    "start = datetime.now() - timedelta(days=365.25*5)\n",
    "end = datetime.now()\n",
    "ticker = \"BRK.B\""
   ]
  },
  {
   "cell_type": "code",
   "execution_count": 3,
   "id": "1ddf1a2c",
   "metadata": {},
   "outputs": [],
   "source": [
    "example = FMPExtractor.extract(ticker,start,end)"
   ]
  }
 ],
 "metadata": {
  "kernelspec": {
   "display_name": "Python 3 (ipykernel)",
   "language": "python",
   "name": "python3"
  },
  "language_info": {
   "codemirror_mode": {
    "name": "ipython",
    "version": 3
   },
   "file_extension": ".py",
   "mimetype": "text/x-python",
   "name": "python",
   "nbconvert_exporter": "python",
   "pygments_lexer": "ipython3",
   "version": "3.10.1"
  }
 },
 "nbformat": 4,
 "nbformat_minor": 5
}
