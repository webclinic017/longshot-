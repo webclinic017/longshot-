{
 "cells": [
  {
   "cell_type": "code",
   "execution_count": 1,
   "id": "5a24d11e",
   "metadata": {},
   "outputs": [],
   "source": [
    "from classifier.classifier import Classifier\n",
    "from classifier.classifier_factory import ClassifierFactory\n",
    "from datetime import datetime\n",
    "from tqdm import tqdm"
   ]
  },
  {
   "cell_type": "code",
   "execution_count": 2,
   "id": "15454e26",
   "metadata": {},
   "outputs": [],
   "source": [
    "classifiers = []\n",
    "classifiers.append(Classifier.QUARTERLY_STOCK_ROLLING_CLASSIFIER)"
   ]
  },
  {
   "cell_type": "code",
   "execution_count": 4,
   "id": "1f7fc22a",
   "metadata": {},
   "outputs": [
    {
     "name": "stderr",
     "output_type": "stream",
     "text": [
      "100%|████████████████████████████████████████████████████████████████████████████████████████████████████████████████████████████████████████████████████████████████████████████████████████████| 1/1 [02:09<00:00, 129.15s/it]\n"
     ]
    }
   ],
   "source": [
    "## initializing classifier_class\n",
    "for classifier_enum in tqdm(classifiers):\n",
    "    try:\n",
    "        status = \"initialize\"\n",
    "        classifier_class = ClassifierFactory.build(classifier_enum)\n",
    "        classifier_class.initialize()\n",
    "        classifier_class.drop_predictions()\n",
    "        test_sim = classifier_class.create_predictions()\n",
    "    except Exception as e:\n",
    "        print(status,classifier_enum,str(e))"
   ]
  }
 ],
 "metadata": {
  "kernelspec": {
   "display_name": "Python 3 (ipykernel)",
   "language": "python",
   "name": "python3"
  },
  "language_info": {
   "codemirror_mode": {
    "name": "ipython",
    "version": 3
   },
   "file_extension": ".py",
   "mimetype": "text/x-python",
   "name": "python",
   "nbconvert_exporter": "python",
   "pygments_lexer": "ipython3",
   "version": "3.10.5"
  }
 },
 "nbformat": 4,
 "nbformat_minor": 5
}
