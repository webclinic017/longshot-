{
 "cells": [
  {
   "cell_type": "code",
   "execution_count": 1,
   "id": "b37d11fe",
   "metadata": {},
   "outputs": [],
   "source": [
    "from database.market import Market\n",
    "from database.sec import SEC\n",
    "import pandas as pd\n",
    "from tqdm import tqdm\n",
    "from datetime import datetime, timedelta, timezone\n",
    "pd.options.mode.chained_assignment = None"
   ]
  },
  {
   "cell_type": "code",
   "execution_count": 2,
   "id": "c2563796",
   "metadata": {},
   "outputs": [],
   "source": [
    "market = Market()\n",
    "sec = SEC()"
   ]
  },
  {
   "cell_type": "code",
   "execution_count": 3,
   "id": "177b332d",
   "metadata": {},
   "outputs": [],
   "source": [
    "market.connect()\n",
    "sp5 = market.retrieve(\"sp500\")\n",
    "prices = market.retrieve(\"alpha_prices\")\n",
    "market.disconnect()"
   ]
  },
  {
   "cell_type": "code",
   "execution_count": 4,
   "id": "184b4a02",
   "metadata": {},
   "outputs": [],
   "source": [
    "prices[\"date\"] = prices[\"date\"] = pd.to_datetime(prices[\"date\"])"
   ]
  },
  {
   "cell_type": "code",
   "execution_count": 5,
   "id": "a693b1f1",
   "metadata": {
    "scrolled": true
   },
   "outputs": [
    {
     "name": "stderr",
     "output_type": "stream",
     "text": [
      "100%|█████████████████████████████████████████████████████████████████████████████████████████████████████████████████████████████████████████████████████████████████████████████████████████████████████████████████████████████████| 505/505 [02:05<00:00,  4.01it/s]\n"
     ]
    }
   ],
   "source": [
    "analysis = []\n",
    "for ticker in tqdm(sp5[\"Symbol\"].unique()):\n",
    "    try:\n",
    "        ticker_data = prices[prices[\"ticker\"]==ticker]\n",
    "        ticker_data.sort_values(\"date\",ascending=False)\n",
    "        ticker_data[\"prev\"] = ticker_data[\"date\"].shift(-1)\n",
    "        ticker_data[\"diff\"] = ticker_data[\"prev\"] - ticker_data[\"date\"]\n",
    "        ticker_data[\"diff_days\"] = [x.days for x in ticker_data[\"diff\"]]\n",
    "        max_diff = ticker_data[\"diff_days\"].max()\n",
    "        strange_dates = ticker_data[ticker_data[\"diff_days\"]> 5]\n",
    "        for row in strange_dates.iterrows():\n",
    "            sd = row[1][\"date\"]\n",
    "            ro = row[1][\"prev\"]\n",
    "            diff = row[1][\"diff_days\"]\n",
    "            analysis.append({\"ticker\":ticker,\n",
    "                             \"diff\":diff,\n",
    "                             \"occurence_date\":sd,\n",
    "                             \"return_date\":ro})\n",
    "    except Exception as e:\n",
    "        print(str(e))"
   ]
  },
  {
   "cell_type": "code",
   "execution_count": 6,
   "id": "dba0e780",
   "metadata": {},
   "outputs": [],
   "source": [
    "a = pd.DataFrame(analysis)"
   ]
  },
  {
   "cell_type": "code",
   "execution_count": 7,
   "id": "fff95ba6",
   "metadata": {},
   "outputs": [
    {
     "data": {
      "text/html": [
       "<div>\n",
       "<style scoped>\n",
       "    .dataframe tbody tr th:only-of-type {\n",
       "        vertical-align: middle;\n",
       "    }\n",
       "\n",
       "    .dataframe tbody tr th {\n",
       "        vertical-align: top;\n",
       "    }\n",
       "\n",
       "    .dataframe thead th {\n",
       "        text-align: right;\n",
       "    }\n",
       "</style>\n",
       "<table border=\"1\" class=\"dataframe\">\n",
       "  <thead>\n",
       "    <tr style=\"text-align: right;\">\n",
       "      <th></th>\n",
       "      <th>ticker</th>\n",
       "      <th>diff</th>\n",
       "      <th>occurence_date</th>\n",
       "      <th>return_date</th>\n",
       "    </tr>\n",
       "  </thead>\n",
       "  <tbody>\n",
       "    <tr>\n",
       "      <th>111</th>\n",
       "      <td>DISCK</td>\n",
       "      <td>6.0</td>\n",
       "      <td>2022-04-08</td>\n",
       "      <td>2022-04-14</td>\n",
       "    </tr>\n",
       "  </tbody>\n",
       "</table>\n",
       "</div>"
      ],
      "text/plain": [
       "    ticker  diff occurence_date return_date\n",
       "111  DISCK   6.0     2022-04-08  2022-04-14"
      ]
     },
     "execution_count": 7,
     "metadata": {},
     "output_type": "execute_result"
    }
   ],
   "source": [
    "a[a[\"occurence_date\"]==a[\"occurence_date\"].max()]"
   ]
  },
  {
   "cell_type": "code",
   "execution_count": 10,
   "id": "ec66cead",
   "metadata": {},
   "outputs": [
    {
     "data": {
      "text/plain": [
       "array(['2001-09-17T00:00:00.000000000', '2022-04-14T00:00:00.000000000',\n",
       "       '2021-06-02T00:00:00.000000000'], dtype='datetime64[ns]')"
      ]
     },
     "execution_count": 10,
     "metadata": {},
     "output_type": "execute_result"
    }
   ],
   "source": [
    "a[\"return_date\"].unique()"
   ]
  },
  {
   "cell_type": "code",
   "execution_count": 45,
   "id": "c7cc9ffc",
   "metadata": {},
   "outputs": [
    {
     "name": "stderr",
     "output_type": "stream",
     "text": [
      " 38%|█████████████████████████████████████████████████▌                                                                               | 194/505 [00:56<01:31,  3.40it/s]"
     ]
    },
    {
     "name": "stdout",
     "output_type": "stream",
     "text": [
      "'filed'\n"
     ]
    },
    {
     "name": "stderr",
     "output_type": "stream",
     "text": [
      "100%|█████████████████████████████████████████████████████████████████████████████████████████████████████████████████████████████████| 505/505 [02:27<00:00,  3.42it/s]\n"
     ]
    }
   ],
   "source": [
    "sec.connect()\n",
    "quarterlies = []\n",
    "for row in tqdm(list(sp5.iterrows())):\n",
    "    try:\n",
    "        cik = row[1][\"CIK\"]\n",
    "        ticker = row[1][\"Symbol\"]\n",
    "        funds = sec.retrieve_filing_data(cik)\n",
    "        funds[\"filed\"] = [datetime.strptime(str(x),\"%Y%m%d\").replace(tzinfo=timezone.utc) if \"-\" not in str(x) else \\\n",
    "                         datetime.strptime(str(x).split(\" \")[0],\"%Y-%m-%d\").replace(tzinfor=timezone.utc) for x in funds[\"filed\"]]\n",
    "        funds[\"quarter\"] = [x.quarter for x in funds[\"filed\"]]\n",
    "        funds[\"year\"] = [x.year for x in funds[\"filed\"]]\n",
    "        funds[\"ticker\"] = ticker\n",
    "        start = int(funds[\"year\"].min())\n",
    "        end = int(funds[\"year\"].max())\n",
    "        for year in range(start,end):\n",
    "            for quarter in range(1,5):\n",
    "                if year == 2021 and quarter == 4 or (year == 2009 and quarter < 3):\n",
    "                    continue\n",
    "                else:\n",
    "                    filing = funds[(funds[\"year\"]==year) & (funds[\"quarter\"]==quarter)]\n",
    "                    if filing.index.size < 1:\n",
    "                        quarterlies.append({\n",
    "                            \"ticker\":ticker,\n",
    "                            \"year\":year,\n",
    "                            \"quarter\":quarter\n",
    "                        })\n",
    "                    else:\n",
    "                        continue\n",
    "    except Exception as e:\n",
    "        print(str(e))\n",
    "sec.disconnect()"
   ]
  },
  {
   "cell_type": "code",
   "execution_count": 46,
   "id": "95099339",
   "metadata": {},
   "outputs": [],
   "source": [
    "qa = pd.DataFrame(quarterlies)"
   ]
  },
  {
   "cell_type": "code",
   "execution_count": 52,
   "id": "dc19fd31",
   "metadata": {},
   "outputs": [
    {
     "data": {
      "text/html": [
       "<div>\n",
       "<style scoped>\n",
       "    .dataframe tbody tr th:only-of-type {\n",
       "        vertical-align: middle;\n",
       "    }\n",
       "\n",
       "    .dataframe tbody tr th {\n",
       "        vertical-align: top;\n",
       "    }\n",
       "\n",
       "    .dataframe thead th {\n",
       "        text-align: right;\n",
       "    }\n",
       "</style>\n",
       "<table border=\"1\" class=\"dataframe\">\n",
       "  <thead>\n",
       "    <tr style=\"text-align: right;\">\n",
       "      <th></th>\n",
       "      <th>ticker</th>\n",
       "      <th>year</th>\n",
       "      <th>quarter</th>\n",
       "    </tr>\n",
       "  </thead>\n",
       "  <tbody>\n",
       "    <tr>\n",
       "      <th>64</th>\n",
       "      <td>GOOGL</td>\n",
       "      <td>2015</td>\n",
       "      <td>1</td>\n",
       "    </tr>\n",
       "    <tr>\n",
       "      <th>65</th>\n",
       "      <td>GOOGL</td>\n",
       "      <td>2015</td>\n",
       "      <td>2</td>\n",
       "    </tr>\n",
       "    <tr>\n",
       "      <th>66</th>\n",
       "      <td>GOOGL</td>\n",
       "      <td>2015</td>\n",
       "      <td>3</td>\n",
       "    </tr>\n",
       "  </tbody>\n",
       "</table>\n",
       "</div>"
      ],
      "text/plain": [
       "   ticker  year  quarter\n",
       "64  GOOGL  2015        1\n",
       "65  GOOGL  2015        2\n",
       "66  GOOGL  2015        3"
      ]
     },
     "execution_count": 52,
     "metadata": {},
     "output_type": "execute_result"
    }
   ],
   "source": [
    "qa[(qa[\"year\"]>2012) & (qa[\"ticker\"]==\"GOOGL\")]"
   ]
  }
 ],
 "metadata": {
  "kernelspec": {
   "display_name": "Python 3 (ipykernel)",
   "language": "python",
   "name": "python3"
  },
  "language_info": {
   "codemirror_mode": {
    "name": "ipython",
    "version": 3
   },
   "file_extension": ".py",
   "mimetype": "text/x-python",
   "name": "python",
   "nbconvert_exporter": "python",
   "pygments_lexer": "ipython3",
   "version": "3.10.5"
  }
 },
 "nbformat": 4,
 "nbformat_minor": 5
}
