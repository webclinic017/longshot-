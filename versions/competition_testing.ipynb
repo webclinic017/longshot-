{
 "cells": [
  {
   "cell_type": "code",
   "execution_count": 1,
   "id": "aa80f443",
   "metadata": {
    "scrolled": true
   },
   "outputs": [],
   "source": [
    "from strategy.competition import Competition\n",
    "from datetime import datetime, timedelta\n",
    "import pytz\n",
    "import pandas as pd\n",
    "from tqdm import tqdm\n",
    "from modeler.modeler import Modeler as m\n",
    "from processor.processor import Processor as p\n",
    "import numpy as np\n",
    "import matplotlib.pyplot as plt"
   ]
  },
  {
   "cell_type": "code",
   "execution_count": 2,
   "id": "b38d4176",
   "metadata": {
    "scrolled": true
   },
   "outputs": [],
   "source": [
    "start_date = datetime(2016,1,1)\n",
    "end_date = datetime(2021,1,1)\n",
    "comp = Competition(start_date,end_date)"
   ]
  },
  {
   "cell_type": "code",
   "execution_count": 3,
   "id": "5cfc636a",
   "metadata": {
    "scrolled": true
   },
   "outputs": [],
   "source": [
    "comp.subscribe()\n",
    "# initial_data = comp.initial_transform()\n",
    "# sim = comp.create_sim()"
   ]
  },
  {
   "cell_type": "code",
   "execution_count": 4,
   "id": "b872aae2",
   "metadata": {},
   "outputs": [
    {
     "name": "stderr",
     "output_type": "stream",
     "text": [
      "100%|████████████████████████████████████████████████████████████████████████████████████████████| 11/11 [01:11<00:00,  6.47s/it]\n"
     ]
    }
   ],
   "source": [
    "transforms = comp.rec_transform()"
   ]
  },
  {
   "cell_type": "code",
   "execution_count": null,
   "id": "b08751fb",
   "metadata": {
    "scrolled": true
   },
   "outputs": [
    {
     "name": "stderr",
     "output_type": "stream",
     "text": [
      "competition_sim_ticker:  13%|████████▏                                                        | 64/505 [09:46<1:06:20,  9.03s/it]"
     ]
    },
    {
     "name": "stdout",
     "output_type": "stream",
     "text": [
      "BRK.B 'date'\n"
     ]
    },
    {
     "name": "stderr",
     "output_type": "stream",
     "text": [
      "competition_sim_ticker:  13%|████████▉                                                          | 67/505 [10:07<58:21,  7.99s/it]"
     ]
    },
    {
     "name": "stdout",
     "output_type": "stream",
     "text": [
      "TECH 'date'\n"
     ]
    },
    {
     "name": "stderr",
     "output_type": "stream",
     "text": [
      "competition_sim_ticker:  16%|██████████▋                                                        | 81/505 [11:57<38:20,  5.43s/it]"
     ]
    },
    {
     "name": "stdout",
     "output_type": "stream",
     "text": [
      "BRO 'date'\n",
      "BF.B 'date'\n"
     ]
    },
    {
     "name": "stderr",
     "output_type": "stream",
     "text": [
      "competition_sim_ticker:  19%|█████████████                                                      | 98/505 [14:39<55:51,  8.23s/it]"
     ]
    },
    {
     "name": "stdout",
     "output_type": "stream",
     "text": [
      "CDAY 'date'\n"
     ]
    },
    {
     "name": "stderr",
     "output_type": "stream",
     "text": [
      "competition_sim_ticker:  26%|█████████████████▎                                                | 132/505 [19:45<48:20,  7.78s/it]"
     ]
    },
    {
     "name": "stdout",
     "output_type": "stream",
     "text": [
      "CTRA 'date'\n"
     ]
    },
    {
     "name": "stderr",
     "output_type": "stream",
     "text": [
      "competition_sim_ticker:  30%|███████████████████▉                                              | 153/505 [22:43<46:02,  7.85s/it]"
     ]
    }
   ],
   "source": [
    "models = comp.model()"
   ]
  },
  {
   "cell_type": "code",
   "execution_count": null,
   "id": "d3f21cc3",
   "metadata": {},
   "outputs": [],
   "source": [
    "recs = comp.recommend()"
   ]
  },
  {
   "cell_type": "code",
   "execution_count": 6,
   "id": "133bedc3",
   "metadata": {},
   "outputs": [
    {
     "data": {
      "text/plain": [
       "484"
      ]
     },
     "execution_count": 6,
     "metadata": {},
     "output_type": "execute_result"
    }
   ],
   "source": [
    "len(sim[sim[\"date\"]>=datetime(2017,12,1)][\"ticker\"].unique())"
   ]
  },
  {
   "cell_type": "code",
   "execution_count": 28,
   "id": "467d824c",
   "metadata": {
    "scrolled": true
   },
   "outputs": [
    {
     "name": "stderr",
     "output_type": "stream",
     "text": [
      "competition_sim_year:   0%|                                                                                                                         | 0/1 [00:00<?, ?it/s]\n",
      "competition_sim_quarter:   0%|                                                                                                                      | 0/1 [00:00<?, ?it/s]\u001b[A\n",
      "\n",
      "competition_sim_ticker:   0%|                                                                                                                       | 0/1 [00:00<?, ?it/s]\u001b[A\u001b[A"
     ]
    },
    {
     "name": "stdout",
     "output_type": "stream",
     "text": [
      "2017 1 ABBV 548 877 2484 329 78\n"
     ]
    },
    {
     "name": "stderr",
     "output_type": "stream",
     "text": [
      "\n",
      "\n",
      "competition_sim_ticker: 100%|███████████████████████████████████████████████████████████████████████████████████████████████████████████████| 1/1 [00:09<00:00,  9.45s/it]\u001b[A\u001b[A\n",
      "\n",
      "competition_sim_quarter: 100%|██████████████████████████████████████████████████████████████████████████████████████████████████████████████| 1/1 [00:09<00:00,  9.45s/it]\u001b[A\n",
      "competition_sim_year: 100%|█████████████████████████████████████████████████████████████████████████████████████████████████████████████████| 1/1 [00:09<00:00,  9.46s/it]\n"
     ]
    }
   ],
   "source": [
    "start_year = comp.start_date.year\n",
    "end_year = comp.end_date.year\n",
    "categories_nums = comp.modeling_params[\"categories\"]\n",
    "model_training_year = comp.modeling_params[\"model_training_year\"]\n",
    "sims = []\n",
    "market = comp.subscriptions[\"market\"][\"db\"]\n",
    "market.connect()\n",
    "sp5 = market.retrieve(\"sp500\")\n",
    "comp.db.connect()\n",
    "for year in tqdm(range(2017,2017+1),desc=\"competition_sim_year\"):\n",
    "    for quarter in tqdm(range(1,2),desc=\"competition_sim_quarter\"):\n",
    "        for ticker in tqdm(list(sp5[\"Symbol\"].unique()[2:3]),desc=\"competition_sim_ticker\"):\n",
    "            try:\n",
    "                model_data = comp.db.retrieve_transformed(ticker)\n",
    "                model_data.sort_values(\"date\",ascending=True,inplace=True)\n",
    "                model_data.reset_index(inplace=True,drop=True)\n",
    "                first_index = model_data[(model_data[\"year\"] == (year - model_training_year)) & (model_data[\"quarter\"]==quarter)].index.values.tolist()[0]\n",
    "                last_index = model_data[(model_data[\"year\"] == year) & (model_data[\"quarter\"]==quarter)].index.values.tolist()[0]\n",
    "                training_data = model_data.iloc[first_index:last_index].reset_index(drop=True)\n",
    "                prediction_data = model_data[(model_data[\"year\"] == year) & (model_data[\"quarter\"]==quarter)].reset_index()\n",
    "                print(year,quarter,ticker,first_index,last_index,model_data.index.size,training_data.index.size,prediction_data.index.size)\n",
    "                factor_cols = [x for x in training_data.columns if x not in [\"year\",\"quarter\",\"week\",\"y\",\"ticker\",\"date\"]]\n",
    "                factors = []\n",
    "                for factor in factor_cols:\n",
    "                    if len([x for x in training_data[factor].isna() if x]) / training_data.index.size > 0.8:\n",
    "                        factors.append(factor)\n",
    "                X = training_data[factors].fillna(method=\"ffill\").fillna(method=\"bfill\")\n",
    "                y = training_data[\"y\"].fillna(method=\"ffill\").fillna(method=\"bfill\")\n",
    "                models = m.regression({\"X\":X,\"y\":y})\n",
    "#                 models[\"year\"] = year\n",
    "#                 models[\"quarter\"] = quarter\n",
    "                sim = prediction_data.fillna(method=\"ffill\").fillna(method=\"bfill\")\n",
    "#                 X = training_data[factor_cols]\n",
    "#                 y = training_data[\"y\"]\n",
    "#                 models = m.regression({\"X\":X,\"y\":y})\n",
    "#                 models[\"year\"] = year\n",
    "#                 models[\"quarter\"] = quarter\n",
    "#                 sim = prediction_data\n",
    "#                 for i in range(models.index.size):\n",
    "#                     model = models.iloc[i]\n",
    "#                     api = model[\"api\"]\n",
    "#                     score = model[\"score\"]\n",
    "#                     if score >= comp.modeling_params[\"score_requirement\"]/100:\n",
    "#                         sim[f\"{api}_prediction\"] = model[\"model\"].predict(sim[factor_cols])\n",
    "#                         sim[f\"{api}_score\"] = model[\"score\"].item()\n",
    "#                 ticker_data = market.retrieve_ticker_prices(\"prices\",ticker)\n",
    "#                 prices = p.column_date_processing(ticker_data)\n",
    "#                 prices[\"year\"] = [x.year for x in prices[\"date\"]]\n",
    "#                 prices[\"week\"] = [x.week for x in prices[\"date\"]]\n",
    "#                 sim = p.column_date_processing(sim)\n",
    "#                 sim[\"year\"] = [x.year for x in sim[\"date\"]]\n",
    "#                 sim[\"week\"] = [x.week for x in sim[\"date\"]]\n",
    "#                 sim = prices[[\"date\",\"year\",\"week\",\"ticker\",\"adjclose\"]].merge(sim.drop(\"date\",axis=1),on=[\"year\",\"week\",\"ticker\"],how=\"right\").dropna()\n",
    "#                 sim[\"categories\"] = categories_nums\n",
    "#                 final_cols = [\"date\",\"ticker\",\"adjclose\",\"categories\"]\n",
    "#                 final_cols.extend([x for x in list(sim.columns) if \"prediction\" in x or \"score\" in x])\n",
    "#                 sim = sim[final_cols]\n",
    "#                 sim.fillna(0,inplace=True)\n",
    "#                 sim[\"prediction\"] = [np.nanmean([row[1][x] for x in sim.columns if \"prediction\" in x and row[1][x] != 0]) for row in sim.iterrows()]\n",
    "#                 sim[\"score\"] = [np.nanmean([row[1][x] for x in sim.columns if \"score\" in x and row[1][x] != 0]) for row in sim.iterrows()]\n",
    "#                 sim[\"delta\"] = (sim[\"prediction\"] - sim[\"adjclose\"]) / sim[\"adjclose\"]\n",
    "#                 for param in comp.modeling_params:\n",
    "#                     sim[param]=comp.modeling_params[param]\n",
    "#                 if sim.index.size > 1:\n",
    "#                     comp.db.store(\"sim\",sim)\n",
    "#                     sims.append(sim)\n",
    "            except Exception as e:\n",
    "                print(ticker,str(e))\n",
    "comp.db.disconnect()\n",
    "market.disconnect()"
   ]
  },
  {
   "cell_type": "code",
   "execution_count": 13,
   "id": "f4e717b6",
   "metadata": {},
   "outputs": [
    {
     "data": {
      "text/html": [
       "<div>\n",
       "<style scoped>\n",
       "    .dataframe tbody tr th:only-of-type {\n",
       "        vertical-align: middle;\n",
       "    }\n",
       "\n",
       "    .dataframe tbody tr th {\n",
       "        vertical-align: top;\n",
       "    }\n",
       "\n",
       "    .dataframe thead th {\n",
       "        text-align: right;\n",
       "    }\n",
       "</style>\n",
       "<table border=\"1\" class=\"dataframe\">\n",
       "  <thead>\n",
       "    <tr style=\"text-align: right;\">\n",
       "      <th></th>\n",
       "      <th>year</th>\n",
       "      <th>quarter</th>\n",
       "      <th>week</th>\n",
       "      <th>y</th>\n",
       "      <th>ACN</th>\n",
       "      <th>ADBE</th>\n",
       "      <th>AMD</th>\n",
       "      <th>AKAM</th>\n",
       "      <th>APH</th>\n",
       "      <th>ADI</th>\n",
       "      <th>...</th>\n",
       "      <th>PGR</th>\n",
       "      <th>PLD</th>\n",
       "      <th>RJF</th>\n",
       "      <th>SO</th>\n",
       "      <th>SIVB</th>\n",
       "      <th>TGT</th>\n",
       "      <th>TMO</th>\n",
       "      <th>UAL</th>\n",
       "      <th>VLO</th>\n",
       "      <th>XEL</th>\n",
       "    </tr>\n",
       "  </thead>\n",
       "  <tbody>\n",
       "    <tr>\n",
       "      <th>548</th>\n",
       "      <td>2016</td>\n",
       "      <td>1</td>\n",
       "      <td>1</td>\n",
       "      <td>90.989099</td>\n",
       "      <td>91.545229</td>\n",
       "      <td>90.458</td>\n",
       "      <td>2.4880</td>\n",
       "      <td>50.22</td>\n",
       "      <td>23.069170</td>\n",
       "      <td>46.077607</td>\n",
       "      <td>...</td>\n",
       "      <td>NaN</td>\n",
       "      <td>NaN</td>\n",
       "      <td>NaN</td>\n",
       "      <td>NaN</td>\n",
       "      <td>NaN</td>\n",
       "      <td>NaN</td>\n",
       "      <td>NaN</td>\n",
       "      <td>NaN</td>\n",
       "      <td>NaN</td>\n",
       "      <td>NaN</td>\n",
       "    </tr>\n",
       "    <tr>\n",
       "      <th>549</th>\n",
       "      <td>2016</td>\n",
       "      <td>1</td>\n",
       "      <td>1</td>\n",
       "      <td>90.989099</td>\n",
       "      <td>91.545229</td>\n",
       "      <td>90.458</td>\n",
       "      <td>2.4880</td>\n",
       "      <td>50.22</td>\n",
       "      <td>23.069170</td>\n",
       "      <td>46.077607</td>\n",
       "      <td>...</td>\n",
       "      <td>25.401127</td>\n",
       "      <td>35.687009</td>\n",
       "      <td>33.026607</td>\n",
       "      <td>36.234862</td>\n",
       "      <td>112.664</td>\n",
       "      <td>62.14126</td>\n",
       "      <td>134.321602</td>\n",
       "      <td>54.078</td>\n",
       "      <td>54.634319</td>\n",
       "      <td>30.510069</td>\n",
       "    </tr>\n",
       "    <tr>\n",
       "      <th>550</th>\n",
       "      <td>2015</td>\n",
       "      <td>4</td>\n",
       "      <td>53</td>\n",
       "      <td>91.545229</td>\n",
       "      <td>95.359992</td>\n",
       "      <td>NaN</td>\n",
       "      <td>NaN</td>\n",
       "      <td>NaN</td>\n",
       "      <td>NaN</td>\n",
       "      <td>NaN</td>\n",
       "      <td>...</td>\n",
       "      <td>NaN</td>\n",
       "      <td>NaN</td>\n",
       "      <td>NaN</td>\n",
       "      <td>NaN</td>\n",
       "      <td>NaN</td>\n",
       "      <td>NaN</td>\n",
       "      <td>NaN</td>\n",
       "      <td>NaN</td>\n",
       "      <td>NaN</td>\n",
       "      <td>NaN</td>\n",
       "    </tr>\n",
       "    <tr>\n",
       "      <th>551</th>\n",
       "      <td>2016</td>\n",
       "      <td>1</td>\n",
       "      <td>1</td>\n",
       "      <td>90.989099</td>\n",
       "      <td>91.545229</td>\n",
       "      <td>NaN</td>\n",
       "      <td>NaN</td>\n",
       "      <td>NaN</td>\n",
       "      <td>NaN</td>\n",
       "      <td>NaN</td>\n",
       "      <td>...</td>\n",
       "      <td>NaN</td>\n",
       "      <td>NaN</td>\n",
       "      <td>NaN</td>\n",
       "      <td>NaN</td>\n",
       "      <td>NaN</td>\n",
       "      <td>NaN</td>\n",
       "      <td>NaN</td>\n",
       "      <td>NaN</td>\n",
       "      <td>NaN</td>\n",
       "      <td>NaN</td>\n",
       "    </tr>\n",
       "    <tr>\n",
       "      <th>552</th>\n",
       "      <td>2015</td>\n",
       "      <td>4</td>\n",
       "      <td>53</td>\n",
       "      <td>91.545229</td>\n",
       "      <td>95.359992</td>\n",
       "      <td>NaN</td>\n",
       "      <td>NaN</td>\n",
       "      <td>NaN</td>\n",
       "      <td>NaN</td>\n",
       "      <td>NaN</td>\n",
       "      <td>...</td>\n",
       "      <td>NaN</td>\n",
       "      <td>NaN</td>\n",
       "      <td>NaN</td>\n",
       "      <td>NaN</td>\n",
       "      <td>NaN</td>\n",
       "      <td>NaN</td>\n",
       "      <td>NaN</td>\n",
       "      <td>NaN</td>\n",
       "      <td>NaN</td>\n",
       "      <td>NaN</td>\n",
       "    </tr>\n",
       "    <tr>\n",
       "      <th>...</th>\n",
       "      <td>...</td>\n",
       "      <td>...</td>\n",
       "      <td>...</td>\n",
       "      <td>...</td>\n",
       "      <td>...</td>\n",
       "      <td>...</td>\n",
       "      <td>...</td>\n",
       "      <td>...</td>\n",
       "      <td>...</td>\n",
       "      <td>...</td>\n",
       "      <td>...</td>\n",
       "      <td>...</td>\n",
       "      <td>...</td>\n",
       "      <td>...</td>\n",
       "      <td>...</td>\n",
       "      <td>...</td>\n",
       "      <td>...</td>\n",
       "      <td>...</td>\n",
       "      <td>...</td>\n",
       "      <td>...</td>\n",
       "      <td>...</td>\n",
       "    </tr>\n",
       "    <tr>\n",
       "      <th>872</th>\n",
       "      <td>2016</td>\n",
       "      <td>4</td>\n",
       "      <td>52</td>\n",
       "      <td>107.634759</td>\n",
       "      <td>108.517638</td>\n",
       "      <td>NaN</td>\n",
       "      <td>NaN</td>\n",
       "      <td>NaN</td>\n",
       "      <td>NaN</td>\n",
       "      <td>NaN</td>\n",
       "      <td>...</td>\n",
       "      <td>NaN</td>\n",
       "      <td>NaN</td>\n",
       "      <td>NaN</td>\n",
       "      <td>NaN</td>\n",
       "      <td>NaN</td>\n",
       "      <td>NaN</td>\n",
       "      <td>NaN</td>\n",
       "      <td>NaN</td>\n",
       "      <td>NaN</td>\n",
       "      <td>NaN</td>\n",
       "    </tr>\n",
       "    <tr>\n",
       "      <th>873</th>\n",
       "      <td>2016</td>\n",
       "      <td>4</td>\n",
       "      <td>52</td>\n",
       "      <td>107.634759</td>\n",
       "      <td>108.517638</td>\n",
       "      <td>NaN</td>\n",
       "      <td>NaN</td>\n",
       "      <td>NaN</td>\n",
       "      <td>NaN</td>\n",
       "      <td>NaN</td>\n",
       "      <td>...</td>\n",
       "      <td>NaN</td>\n",
       "      <td>NaN</td>\n",
       "      <td>NaN</td>\n",
       "      <td>NaN</td>\n",
       "      <td>NaN</td>\n",
       "      <td>NaN</td>\n",
       "      <td>NaN</td>\n",
       "      <td>NaN</td>\n",
       "      <td>NaN</td>\n",
       "      <td>NaN</td>\n",
       "    </tr>\n",
       "    <tr>\n",
       "      <th>874</th>\n",
       "      <td>2016</td>\n",
       "      <td>4</td>\n",
       "      <td>52</td>\n",
       "      <td>107.634759</td>\n",
       "      <td>108.517638</td>\n",
       "      <td>NaN</td>\n",
       "      <td>NaN</td>\n",
       "      <td>NaN</td>\n",
       "      <td>NaN</td>\n",
       "      <td>NaN</td>\n",
       "      <td>...</td>\n",
       "      <td>NaN</td>\n",
       "      <td>NaN</td>\n",
       "      <td>NaN</td>\n",
       "      <td>NaN</td>\n",
       "      <td>NaN</td>\n",
       "      <td>NaN</td>\n",
       "      <td>NaN</td>\n",
       "      <td>NaN</td>\n",
       "      <td>NaN</td>\n",
       "      <td>NaN</td>\n",
       "    </tr>\n",
       "    <tr>\n",
       "      <th>875</th>\n",
       "      <td>2016</td>\n",
       "      <td>4</td>\n",
       "      <td>52</td>\n",
       "      <td>107.634759</td>\n",
       "      <td>108.517638</td>\n",
       "      <td>103.845</td>\n",
       "      <td>11.6375</td>\n",
       "      <td>67.27</td>\n",
       "      <td>32.263982</td>\n",
       "      <td>66.806375</td>\n",
       "      <td>...</td>\n",
       "      <td>NaN</td>\n",
       "      <td>NaN</td>\n",
       "      <td>NaN</td>\n",
       "      <td>NaN</td>\n",
       "      <td>NaN</td>\n",
       "      <td>NaN</td>\n",
       "      <td>NaN</td>\n",
       "      <td>NaN</td>\n",
       "      <td>NaN</td>\n",
       "      <td>NaN</td>\n",
       "    </tr>\n",
       "    <tr>\n",
       "      <th>876</th>\n",
       "      <td>2016</td>\n",
       "      <td>4</td>\n",
       "      <td>52</td>\n",
       "      <td>107.634759</td>\n",
       "      <td>108.517638</td>\n",
       "      <td>103.845</td>\n",
       "      <td>11.6375</td>\n",
       "      <td>67.27</td>\n",
       "      <td>32.263982</td>\n",
       "      <td>66.806375</td>\n",
       "      <td>...</td>\n",
       "      <td>NaN</td>\n",
       "      <td>NaN</td>\n",
       "      <td>NaN</td>\n",
       "      <td>NaN</td>\n",
       "      <td>NaN</td>\n",
       "      <td>NaN</td>\n",
       "      <td>NaN</td>\n",
       "      <td>NaN</td>\n",
       "      <td>NaN</td>\n",
       "      <td>NaN</td>\n",
       "    </tr>\n",
       "  </tbody>\n",
       "</table>\n",
       "<p>329 rows × 474 columns</p>\n",
       "</div>"
      ],
      "text/plain": [
       "     year  quarter  week           y         ACN     ADBE      AMD   AKAM  \\\n",
       "548  2016        1     1   90.989099   91.545229   90.458   2.4880  50.22   \n",
       "549  2016        1     1   90.989099   91.545229   90.458   2.4880  50.22   \n",
       "550  2015        4    53   91.545229   95.359992      NaN      NaN    NaN   \n",
       "551  2016        1     1   90.989099   91.545229      NaN      NaN    NaN   \n",
       "552  2015        4    53   91.545229   95.359992      NaN      NaN    NaN   \n",
       "..    ...      ...   ...         ...         ...      ...      ...    ...   \n",
       "872  2016        4    52  107.634759  108.517638      NaN      NaN    NaN   \n",
       "873  2016        4    52  107.634759  108.517638      NaN      NaN    NaN   \n",
       "874  2016        4    52  107.634759  108.517638      NaN      NaN    NaN   \n",
       "875  2016        4    52  107.634759  108.517638  103.845  11.6375  67.27   \n",
       "876  2016        4    52  107.634759  108.517638  103.845  11.6375  67.27   \n",
       "\n",
       "           APH        ADI  ...        PGR        PLD        RJF         SO  \\\n",
       "548  23.069170  46.077607  ...        NaN        NaN        NaN        NaN   \n",
       "549  23.069170  46.077607  ...  25.401127  35.687009  33.026607  36.234862   \n",
       "550        NaN        NaN  ...        NaN        NaN        NaN        NaN   \n",
       "551        NaN        NaN  ...        NaN        NaN        NaN        NaN   \n",
       "552        NaN        NaN  ...        NaN        NaN        NaN        NaN   \n",
       "..         ...        ...  ...        ...        ...        ...        ...   \n",
       "872        NaN        NaN  ...        NaN        NaN        NaN        NaN   \n",
       "873        NaN        NaN  ...        NaN        NaN        NaN        NaN   \n",
       "874        NaN        NaN  ...        NaN        NaN        NaN        NaN   \n",
       "875  32.263982  66.806375  ...        NaN        NaN        NaN        NaN   \n",
       "876  32.263982  66.806375  ...        NaN        NaN        NaN        NaN   \n",
       "\n",
       "        SIVB       TGT         TMO     UAL        VLO        XEL  \n",
       "548      NaN       NaN         NaN     NaN        NaN        NaN  \n",
       "549  112.664  62.14126  134.321602  54.078  54.634319  30.510069  \n",
       "550      NaN       NaN         NaN     NaN        NaN        NaN  \n",
       "551      NaN       NaN         NaN     NaN        NaN        NaN  \n",
       "552      NaN       NaN         NaN     NaN        NaN        NaN  \n",
       "..       ...       ...         ...     ...        ...        ...  \n",
       "872      NaN       NaN         NaN     NaN        NaN        NaN  \n",
       "873      NaN       NaN         NaN     NaN        NaN        NaN  \n",
       "874      NaN       NaN         NaN     NaN        NaN        NaN  \n",
       "875      NaN       NaN         NaN     NaN        NaN        NaN  \n",
       "876      NaN       NaN         NaN     NaN        NaN        NaN  \n",
       "\n",
       "[329 rows x 474 columns]"
      ]
     },
     "execution_count": 13,
     "metadata": {},
     "output_type": "execute_result"
    }
   ],
   "source": [
    "model_data.iloc[first_index:last_index]"
   ]
  },
  {
   "cell_type": "code",
   "execution_count": 22,
   "id": "83ad6f30",
   "metadata": {},
   "outputs": [
    {
     "data": {
      "text/html": [
       "<div>\n",
       "<style scoped>\n",
       "    .dataframe tbody tr th:only-of-type {\n",
       "        vertical-align: middle;\n",
       "    }\n",
       "\n",
       "    .dataframe tbody tr th {\n",
       "        vertical-align: top;\n",
       "    }\n",
       "\n",
       "    .dataframe thead th {\n",
       "        text-align: right;\n",
       "    }\n",
       "</style>\n",
       "<table border=\"1\" class=\"dataframe\">\n",
       "  <thead>\n",
       "    <tr style=\"text-align: right;\">\n",
       "      <th></th>\n",
       "      <th>api</th>\n",
       "      <th>model</th>\n",
       "      <th>score</th>\n",
       "      <th>model_type</th>\n",
       "      <th>year</th>\n",
       "      <th>quarter</th>\n",
       "    </tr>\n",
       "  </thead>\n",
       "  <tbody>\n",
       "    <tr>\n",
       "      <th>0</th>\n",
       "      <td>skl</td>\n",
       "      <td>LinearRegression()</td>\n",
       "      <td>0.015167</td>\n",
       "      <td>regression</td>\n",
       "      <td>2016</td>\n",
       "      <td>1</td>\n",
       "    </tr>\n",
       "    <tr>\n",
       "      <th>1</th>\n",
       "      <td>xgb</td>\n",
       "      <td>XGBRegressor(base_score=0.5, booster='dart', c...</td>\n",
       "      <td>-49.957633</td>\n",
       "      <td>regression</td>\n",
       "      <td>2016</td>\n",
       "      <td>1</td>\n",
       "    </tr>\n",
       "    <tr>\n",
       "      <th>2</th>\n",
       "      <td>light</td>\n",
       "      <td>LGBMRegressor(boosting_type='dart', early_stop...</td>\n",
       "      <td>-64.282746</td>\n",
       "      <td>regression</td>\n",
       "      <td>2016</td>\n",
       "      <td>1</td>\n",
       "    </tr>\n",
       "    <tr>\n",
       "      <th>3</th>\n",
       "      <td>cat</td>\n",
       "      <td>&lt;catboost.core.CatBoostRegressor object at 0x0...</td>\n",
       "      <td>-50.082306</td>\n",
       "      <td>regression</td>\n",
       "      <td>2016</td>\n",
       "      <td>1</td>\n",
       "    </tr>\n",
       "  </tbody>\n",
       "</table>\n",
       "</div>"
      ],
      "text/plain": [
       "     api                                              model      score  \\\n",
       "0    skl                                 LinearRegression()   0.015167   \n",
       "1    xgb  XGBRegressor(base_score=0.5, booster='dart', c... -49.957633   \n",
       "2  light  LGBMRegressor(boosting_type='dart', early_stop... -64.282746   \n",
       "3    cat  <catboost.core.CatBoostRegressor object at 0x0... -50.082306   \n",
       "\n",
       "   model_type  year  quarter  \n",
       "0  regression  2016        1  \n",
       "1  regression  2016        1  \n",
       "2  regression  2016        1  \n",
       "3  regression  2016        1  "
      ]
     },
     "execution_count": 22,
     "metadata": {},
     "output_type": "execute_result"
    }
   ],
   "source": [
    "models"
   ]
  },
  {
   "cell_type": "code",
   "execution_count": 23,
   "id": "f6440034",
   "metadata": {},
   "outputs": [],
   "source": [
    "analysis = sim"
   ]
  },
  {
   "cell_type": "code",
   "execution_count": 24,
   "id": "5f062aa1",
   "metadata": {},
   "outputs": [
    {
     "data": {
      "text/html": [
       "<div>\n",
       "<style scoped>\n",
       "    .dataframe tbody tr th:only-of-type {\n",
       "        vertical-align: middle;\n",
       "    }\n",
       "\n",
       "    .dataframe tbody tr th {\n",
       "        vertical-align: top;\n",
       "    }\n",
       "\n",
       "    .dataframe thead th {\n",
       "        text-align: right;\n",
       "    }\n",
       "</style>\n",
       "<table border=\"1\" class=\"dataframe\">\n",
       "  <thead>\n",
       "    <tr style=\"text-align: right;\">\n",
       "      <th></th>\n",
       "      <th>date</th>\n",
       "      <th>ticker</th>\n",
       "      <th>adjclose</th>\n",
       "      <th>categories</th>\n",
       "      <th>prediction</th>\n",
       "      <th>score</th>\n",
       "      <th>delta</th>\n",
       "      <th>model_training_year</th>\n",
       "      <th>score_requirement</th>\n",
       "    </tr>\n",
       "  </thead>\n",
       "  <tbody>\n",
       "    <tr>\n",
       "      <th>0</th>\n",
       "      <td>2016-01-04</td>\n",
       "      <td>CRM</td>\n",
       "      <td>76.71</td>\n",
       "      <td>2</td>\n",
       "      <td>NaN</td>\n",
       "      <td>NaN</td>\n",
       "      <td>NaN</td>\n",
       "      <td>1</td>\n",
       "      <td>70</td>\n",
       "    </tr>\n",
       "    <tr>\n",
       "      <th>1</th>\n",
       "      <td>2016-01-05</td>\n",
       "      <td>CRM</td>\n",
       "      <td>77.05</td>\n",
       "      <td>2</td>\n",
       "      <td>NaN</td>\n",
       "      <td>NaN</td>\n",
       "      <td>NaN</td>\n",
       "      <td>1</td>\n",
       "      <td>70</td>\n",
       "    </tr>\n",
       "  </tbody>\n",
       "</table>\n",
       "</div>"
      ],
      "text/plain": [
       "        date ticker  adjclose  categories  prediction  score  delta  \\\n",
       "0 2016-01-04    CRM     76.71           2         NaN    NaN    NaN   \n",
       "1 2016-01-05    CRM     77.05           2         NaN    NaN    NaN   \n",
       "\n",
       "   model_training_year  score_requirement  \n",
       "0                    1                 70  \n",
       "1                    1                 70  "
      ]
     },
     "execution_count": 24,
     "metadata": {},
     "output_type": "execute_result"
    }
   ],
   "source": [
    "analysis.head(2)"
   ]
  },
  {
   "cell_type": "code",
   "execution_count": 25,
   "id": "ef73b053",
   "metadata": {},
   "outputs": [],
   "source": [
    "analysis[\"year\"] = [x.year for x in analysis[\"date\"]]\n",
    "analysis[\"week\"] = [x.quarter for x in analysis[\"date\"]]\n",
    "# analysis[\"date\"] = [datetime.strptime(f'{row[1][\"year\"]} {row[1][\"week\"]} 0', \"%Y %W %w\") for row in analysis.iterrows()]"
   ]
  },
  {
   "cell_type": "code",
   "execution_count": 28,
   "id": "c532b0e2",
   "metadata": {},
   "outputs": [
    {
     "data": {
      "text/html": [
       "<div>\n",
       "<style scoped>\n",
       "    .dataframe tbody tr th:only-of-type {\n",
       "        vertical-align: middle;\n",
       "    }\n",
       "\n",
       "    .dataframe tbody tr th {\n",
       "        vertical-align: top;\n",
       "    }\n",
       "\n",
       "    .dataframe thead th {\n",
       "        text-align: right;\n",
       "    }\n",
       "</style>\n",
       "<table border=\"1\" class=\"dataframe\">\n",
       "  <thead>\n",
       "    <tr style=\"text-align: right;\">\n",
       "      <th></th>\n",
       "      <th>date</th>\n",
       "      <th>ticker</th>\n",
       "      <th>adjclose</th>\n",
       "      <th>categories</th>\n",
       "      <th>prediction</th>\n",
       "      <th>score</th>\n",
       "      <th>delta</th>\n",
       "      <th>model_training_year</th>\n",
       "      <th>score_requirement</th>\n",
       "      <th>year</th>\n",
       "      <th>week</th>\n",
       "    </tr>\n",
       "  </thead>\n",
       "  <tbody>\n",
       "  </tbody>\n",
       "</table>\n",
       "</div>"
      ],
      "text/plain": [
       "Empty DataFrame\n",
       "Columns: [date, ticker, adjclose, categories, prediction, score, delta, model_training_year, score_requirement, year, week]\n",
       "Index: []"
      ]
     },
     "execution_count": 28,
     "metadata": {},
     "output_type": "execute_result"
    }
   ],
   "source": [
    "analysis.dropna()"
   ]
  },
  {
   "cell_type": "code",
   "execution_count": 27,
   "id": "ed09ca03",
   "metadata": {},
   "outputs": [
    {
     "data": {
      "image/png": "[encoded data removed]",
      "text/plain": [
       "<Figure size 432x288 with 1 Axes>"
      ]
     },
     "metadata": {
      "needs_background": "light"
     },
     "output_type": "display_data"
    }
   ],
   "source": [
    "ticker_example = analysis[analysis[\"ticker\"]==ticker].sort_values(\"date\")\n",
    "plt.plot(ticker_example[\"date\"],ticker_example[\"adjclose\"])\n",
    "for col in [x for x in analysis.columns if \"prediction\" in x]:\n",
    "    plt.plot(ticker_example[\"date\"],ticker_example[col])\n",
    "legend = [\"adjclose\"]\n",
    "legend.extend([x for x in analysis.columns if \"prediction\" in x])\n",
    "plt.legend(legend)\n",
    "plt.title(ticker)\n",
    "plt.show()"
   ]
  }
 ],
 "metadata": {
  "kernelspec": {
   "display_name": "Python 3 (ipykernel)",
   "language": "python",
   "name": "python3"
  },
  "language_info": {
   "codemirror_mode": {
    "name": "ipython",
    "version": 3
   },
   "file_extension": ".py",
   "mimetype": "text/x-python",
   "name": "python",
   "nbconvert_exporter": "python",
   "pygments_lexer": "ipython3",
   "version": "3.10.5"
  }
 },
 "nbformat": 4,
 "nbformat_minor": 5
}
