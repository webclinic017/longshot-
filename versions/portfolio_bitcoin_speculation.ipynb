{
 "cells": [
  {
   "cell_type": "code",
   "execution_count": 58,
   "id": "aa80f443",
   "metadata": {
    "scrolled": true
   },
   "outputs": [],
   "source": [
    "from datetime import datetime, timedelta\n",
    "import pytz\n",
    "import pandas as pd\n",
    "from tqdm import tqdm\n",
    "from modeler.modeler import Modeler as m\n",
    "from processor.processor import Processor as p\n",
    "from database.market import Market\n",
    "from database.adatabase import ADatabase\n",
    "import numpy as np\n",
    "import matplotlib.pyplot as plt\n",
    "import pickle\n",
    "import matplotlib.dates as mdates\n",
    "import statistics"
   ]
  },
  {
   "cell_type": "code",
   "execution_count": 59,
   "id": "e5adbebb",
   "metadata": {},
   "outputs": [],
   "source": [
    "market = Market()\n",
    "speculation_db = ADatabase(\"bitcoin_speculation\")\n",
    "training_year = 4\n",
    "signal = 0.1\n",
    "req = 0.1\n",
    "positions = 1\n",
    "today = datetime(2022,8,19)\n",
    "year = today.year\n",
    "week =  today.isocalendar()[1]\n",
    "# today = datetime.now()"
   ]
  },
  {
   "cell_type": "code",
   "execution_count": 60,
   "id": "cc8c6d2f",
   "metadata": {},
   "outputs": [
    {
     "data": {
      "text/plain": [
       "33"
      ]
     },
     "execution_count": 60,
     "metadata": {},
     "output_type": "execute_result"
    }
   ],
   "source": [
    "for date in daterange(dates):\n",
    "    p"
   ]
  },
  {
   "cell_type": "code",
   "execution_count": 61,
   "id": "2e94da53",
   "metadata": {},
   "outputs": [],
   "source": [
    "market.connect()\n",
    "sp5 = market.retrieve(\"sp500\")\n",
    "market.disconnect()"
   ]
  },
  {
   "cell_type": "code",
   "execution_count": 62,
   "id": "55413186",
   "metadata": {},
   "outputs": [],
   "source": [
    "speculation_db.connect()\n",
    "recs = speculation_db.retrieve('recs')\n",
    "speculation_db.disconnect()"
   ]
  },
  {
   "cell_type": "code",
   "execution_count": 63,
   "id": "dadf5341",
   "metadata": {},
   "outputs": [],
   "source": [
    "relevant_recs = recs[(recs[\"date\"]==today) & (recs[\"training_year\"]==training_year)]"
   ]
  },
  {
   "cell_type": "code",
   "execution_count": 64,
   "id": "3c8fcfa0",
   "metadata": {},
   "outputs": [],
   "source": [
    "relevant_recs[\"prediction\"] = (relevant_recs[\"xgb_prediction\"] + relevant_recs[\"skl_prediction\"] + relevant_recs[\"cat_prediction\"]) / 3"
   ]
  },
  {
   "cell_type": "code",
   "execution_count": 65,
   "id": "870e0980",
   "metadata": {},
   "outputs": [
    {
     "data": {
      "text/html": [
       "<div>\n",
       "<style scoped>\n",
       "    .dataframe tbody tr th:only-of-type {\n",
       "        vertical-align: middle;\n",
       "    }\n",
       "\n",
       "    .dataframe tbody tr th {\n",
       "        vertical-align: top;\n",
       "    }\n",
       "\n",
       "    .dataframe thead th {\n",
       "        text-align: right;\n",
       "    }\n",
       "</style>\n",
       "<table border=\"1\" class=\"dataframe\">\n",
       "  <thead>\n",
       "    <tr style=\"text-align: right;\">\n",
       "      <th></th>\n",
       "      <th>date</th>\n",
       "      <th>ticker</th>\n",
       "      <th>training_year</th>\n",
       "      <th>skl_prediction</th>\n",
       "      <th>skl_score</th>\n",
       "      <th>xgb_prediction</th>\n",
       "      <th>xgb_score</th>\n",
       "      <th>cat_prediction</th>\n",
       "      <th>cat_score</th>\n",
       "      <th>prediction</th>\n",
       "    </tr>\n",
       "  </thead>\n",
       "  <tbody>\n",
       "    <tr>\n",
       "      <th>228</th>\n",
       "      <td>2022-08-19</td>\n",
       "      <td>BTC</td>\n",
       "      <td>4</td>\n",
       "      <td>22943.010679</td>\n",
       "      <td>0.99374</td>\n",
       "      <td>27638.732422</td>\n",
       "      <td>0.991037</td>\n",
       "      <td>27647.992334</td>\n",
       "      <td>0.992605</td>\n",
       "      <td>26076.578478</td>\n",
       "    </tr>\n",
       "    <tr>\n",
       "      <th>230</th>\n",
       "      <td>2022-08-19</td>\n",
       "      <td>BTC</td>\n",
       "      <td>4</td>\n",
       "      <td>22943.010679</td>\n",
       "      <td>0.99374</td>\n",
       "      <td>27638.732422</td>\n",
       "      <td>0.991037</td>\n",
       "      <td>27647.992334</td>\n",
       "      <td>0.992605</td>\n",
       "      <td>26076.578478</td>\n",
       "    </tr>\n",
       "  </tbody>\n",
       "</table>\n",
       "</div>"
      ],
      "text/plain": [
       "          date ticker  training_year  skl_prediction  skl_score  \\\n",
       "228 2022-08-19    BTC              4    22943.010679    0.99374   \n",
       "230 2022-08-19    BTC              4    22943.010679    0.99374   \n",
       "\n",
       "     xgb_prediction  xgb_score  cat_prediction  cat_score    prediction  \n",
       "228    27638.732422   0.991037    27647.992334   0.992605  26076.578478  \n",
       "230    27638.732422   0.991037    27647.992334   0.992605  26076.578478  "
      ]
     },
     "execution_count": 65,
     "metadata": {},
     "output_type": "execute_result"
    }
   ],
   "source": [
    "relevant_recs"
   ]
  },
  {
   "cell_type": "code",
   "execution_count": 66,
   "id": "235a8676",
   "metadata": {
    "scrolled": true
   },
   "outputs": [],
   "source": [
    "market.connect()\n",
    "ticker_prices = []\n",
    "prices = market.retrieve(\"pdr_crypto\")\n",
    "prices = p.column_date_processing(prices)\n",
    "prices[\"year\"] = [x.year for x in prices[\"date\"]]\n",
    "prices[\"week\"] = [x.week for x in prices[\"date\"]]\n",
    "relevant_data = prices[prices[\"date\"]==today]\n",
    "ticker_prices.append(relevant_data)\n",
    "market.disconnect()"
   ]
  },
  {
   "cell_type": "code",
   "execution_count": 67,
   "id": "76786a2c",
   "metadata": {},
   "outputs": [],
   "source": [
    "tp = pd.concat(ticker_prices)"
   ]
  },
  {
   "cell_type": "code",
   "execution_count": 68,
   "id": "ebaa1c70",
   "metadata": {},
   "outputs": [],
   "source": [
    "final = tp.merge(relevant_recs,on=[\"date\",\"ticker\"])\n",
    "final[\"delta\"] = (final[\"prediction\"] - final[\"adjclose\"]) / final[\"adjclose\"]"
   ]
  },
  {
   "cell_type": "code",
   "execution_count": 69,
   "id": "a14ad2f0",
   "metadata": {},
   "outputs": [],
   "source": [
    "todays_rec = final[[\"date\",\"adjclose\",\"prediction\",\"delta\"]][final[\"delta\"]>=signal].sort_values(\"delta\",ascending=False).head(positions)"
   ]
  },
  {
   "cell_type": "code",
   "execution_count": 70,
   "id": "5ff9e31e",
   "metadata": {},
   "outputs": [
    {
     "data": {
      "text/html": [
       "<div>\n",
       "<style scoped>\n",
       "    .dataframe tbody tr th:only-of-type {\n",
       "        vertical-align: middle;\n",
       "    }\n",
       "\n",
       "    .dataframe tbody tr th {\n",
       "        vertical-align: top;\n",
       "    }\n",
       "\n",
       "    .dataframe thead th {\n",
       "        text-align: right;\n",
       "    }\n",
       "</style>\n",
       "<table border=\"1\" class=\"dataframe\">\n",
       "  <thead>\n",
       "    <tr style=\"text-align: right;\">\n",
       "      <th></th>\n",
       "      <th>date</th>\n",
       "      <th>ticker</th>\n",
       "      <th>training_year</th>\n",
       "      <th>skl_prediction</th>\n",
       "      <th>skl_score</th>\n",
       "      <th>xgb_prediction</th>\n",
       "      <th>xgb_score</th>\n",
       "      <th>cat_prediction</th>\n",
       "      <th>cat_score</th>\n",
       "      <th>prediction</th>\n",
       "    </tr>\n",
       "  </thead>\n",
       "  <tbody>\n",
       "    <tr>\n",
       "      <th>228</th>\n",
       "      <td>2022-08-19</td>\n",
       "      <td>BTC</td>\n",
       "      <td>4</td>\n",
       "      <td>22943.010679</td>\n",
       "      <td>0.99374</td>\n",
       "      <td>27638.732422</td>\n",
       "      <td>0.991037</td>\n",
       "      <td>27647.992334</td>\n",
       "      <td>0.992605</td>\n",
       "      <td>26076.578478</td>\n",
       "    </tr>\n",
       "    <tr>\n",
       "      <th>230</th>\n",
       "      <td>2022-08-19</td>\n",
       "      <td>BTC</td>\n",
       "      <td>4</td>\n",
       "      <td>22943.010679</td>\n",
       "      <td>0.99374</td>\n",
       "      <td>27638.732422</td>\n",
       "      <td>0.991037</td>\n",
       "      <td>27647.992334</td>\n",
       "      <td>0.992605</td>\n",
       "      <td>26076.578478</td>\n",
       "    </tr>\n",
       "  </tbody>\n",
       "</table>\n",
       "</div>"
      ],
      "text/plain": [
       "          date ticker  training_year  skl_prediction  skl_score  \\\n",
       "228 2022-08-19    BTC              4    22943.010679    0.99374   \n",
       "230 2022-08-19    BTC              4    22943.010679    0.99374   \n",
       "\n",
       "     xgb_prediction  xgb_score  cat_prediction  cat_score    prediction  \n",
       "228    27638.732422   0.991037    27647.992334   0.992605  26076.578478  \n",
       "230    27638.732422   0.991037    27647.992334   0.992605  26076.578478  "
      ]
     },
     "execution_count": 70,
     "metadata": {},
     "output_type": "execute_result"
    }
   ],
   "source": [
    "relevant_recs"
   ]
  },
  {
   "cell_type": "code",
   "execution_count": 71,
   "id": "bb6d2b9f",
   "metadata": {},
   "outputs": [],
   "source": [
    "speculation_db.connect()\n",
    "portfolios = speculation_db.retrieve(\"portfolios\")\n",
    "speculation_db.disconnect()"
   ]
  },
  {
   "cell_type": "code",
   "execution_count": 72,
   "id": "10f1a5ea",
   "metadata": {},
   "outputs": [],
   "source": [
    "if portfolios.index.size < 1:\n",
    "    positions_dictionary = {}\n",
    "    portfolio = {\"date\":today}\n",
    "    for position in range(positions):\n",
    "        positions_dictionary[position] = {\"cash\":100000/positions,\"asset\":{},\"queue\":{}}\n",
    "    portfolio[\"positions\"] = positions_dictionary\n",
    "else:\n",
    "    portfolios[\"positions\"] = [pickle.loads(x) for x in portfolios[\"positions\"]]\n",
    "    portfolio = portfolios.sort_values(\"date\",ascending=False).head(positions).to_dict(\"records\")[0]"
   ]
  },
  {
   "cell_type": "code",
   "execution_count": 73,
   "id": "d779de86",
   "metadata": {},
   "outputs": [],
   "source": [
    "existing_assets = [portfolio[\"positions\"][position][\"asset\"][\"ticker\"] for position in portfolio[\"positions\"].keys() if \"ticker\" in portfolio[\"positions\"][position][\"asset\"].keys()]"
   ]
  },
  {
   "cell_type": "code",
   "execution_count": 74,
   "id": "38eaf932",
   "metadata": {},
   "outputs": [
    {
     "data": {
      "text/html": [
       "<div>\n",
       "<style scoped>\n",
       "    .dataframe tbody tr th:only-of-type {\n",
       "        vertical-align: middle;\n",
       "    }\n",
       "\n",
       "    .dataframe tbody tr th {\n",
       "        vertical-align: top;\n",
       "    }\n",
       "\n",
       "    .dataframe thead th {\n",
       "        text-align: right;\n",
       "    }\n",
       "</style>\n",
       "<table border=\"1\" class=\"dataframe\">\n",
       "  <thead>\n",
       "    <tr style=\"text-align: right;\">\n",
       "      <th></th>\n",
       "      <th>date</th>\n",
       "      <th>high</th>\n",
       "      <th>low</th>\n",
       "      <th>open</th>\n",
       "      <th>close</th>\n",
       "      <th>volume</th>\n",
       "      <th>adjclose</th>\n",
       "      <th>ticker</th>\n",
       "      <th>year</th>\n",
       "      <th>quarter</th>\n",
       "      <th>week</th>\n",
       "      <th>training_year</th>\n",
       "      <th>skl_prediction</th>\n",
       "      <th>skl_score</th>\n",
       "      <th>xgb_prediction</th>\n",
       "      <th>xgb_score</th>\n",
       "      <th>cat_prediction</th>\n",
       "      <th>cat_score</th>\n",
       "      <th>prediction</th>\n",
       "      <th>delta</th>\n",
       "    </tr>\n",
       "  </thead>\n",
       "  <tbody>\n",
       "    <tr>\n",
       "      <th>0</th>\n",
       "      <td>2022-08-19</td>\n",
       "      <td>23180.912109</td>\n",
       "      <td>22760.619141</td>\n",
       "      <td>23180.912109</td>\n",
       "      <td>22821.220703</td>\n",
       "      <td>2.595380e+10</td>\n",
       "      <td>22821.220703</td>\n",
       "      <td>BTC</td>\n",
       "      <td>2022</td>\n",
       "      <td>3</td>\n",
       "      <td>33</td>\n",
       "      <td>4</td>\n",
       "      <td>22943.010679</td>\n",
       "      <td>0.99374</td>\n",
       "      <td>27638.732422</td>\n",
       "      <td>0.991037</td>\n",
       "      <td>27647.992334</td>\n",
       "      <td>0.992605</td>\n",
       "      <td>26076.578478</td>\n",
       "      <td>0.142646</td>\n",
       "    </tr>\n",
       "    <tr>\n",
       "      <th>1</th>\n",
       "      <td>2022-08-19</td>\n",
       "      <td>23180.912109</td>\n",
       "      <td>22760.619141</td>\n",
       "      <td>23180.912109</td>\n",
       "      <td>22821.220703</td>\n",
       "      <td>2.595380e+10</td>\n",
       "      <td>22821.220703</td>\n",
       "      <td>BTC</td>\n",
       "      <td>2022</td>\n",
       "      <td>3</td>\n",
       "      <td>33</td>\n",
       "      <td>4</td>\n",
       "      <td>22943.010679</td>\n",
       "      <td>0.99374</td>\n",
       "      <td>27638.732422</td>\n",
       "      <td>0.991037</td>\n",
       "      <td>27647.992334</td>\n",
       "      <td>0.992605</td>\n",
       "      <td>26076.578478</td>\n",
       "      <td>0.142646</td>\n",
       "    </tr>\n",
       "  </tbody>\n",
       "</table>\n",
       "</div>"
      ],
      "text/plain": [
       "        date          high           low          open         close  \\\n",
       "0 2022-08-19  23180.912109  22760.619141  23180.912109  22821.220703   \n",
       "1 2022-08-19  23180.912109  22760.619141  23180.912109  22821.220703   \n",
       "\n",
       "         volume      adjclose ticker  year  quarter  week  training_year  \\\n",
       "0  2.595380e+10  22821.220703    BTC  2022        3    33              4   \n",
       "1  2.595380e+10  22821.220703    BTC  2022        3    33              4   \n",
       "\n",
       "   skl_prediction  skl_score  xgb_prediction  xgb_score  cat_prediction  \\\n",
       "0    22943.010679    0.99374    27638.732422   0.991037    27647.992334   \n",
       "1    22943.010679    0.99374    27638.732422   0.991037    27647.992334   \n",
       "\n",
       "   cat_score    prediction     delta  \n",
       "0   0.992605  26076.578478  0.142646  \n",
       "1   0.992605  26076.578478  0.142646  "
      ]
     },
     "execution_count": 74,
     "metadata": {},
     "output_type": "execute_result"
    }
   ],
   "source": [
    "final"
   ]
  },
  {
   "cell_type": "code",
   "execution_count": 77,
   "id": "a61c6b3e",
   "metadata": {
    "scrolled": true
   },
   "outputs": [
    {
     "name": "stdout",
     "output_type": "stream",
     "text": [
      "102717.859375\n"
     ]
    }
   ],
   "source": [
    "## looking for exits\n",
    "speculation_db.connect()\n",
    "for position in range(positions):\n",
    "    position_dictionary = portfolio[\"positions\"][position]\n",
    "    if len(list(position_dictionary[\"asset\"].keys())) > 0:\n",
    "        asset = position_dictionary[\"asset\"]\n",
    "        ticker = asset[\"ticker\"]\n",
    "        amount = asset[\"amount\"]\n",
    "        price = asset[\"price\"]\n",
    "        exit_price = price * (1+req)\n",
    "        spread = final[final[\"ticker\"]==ticker].iloc[0]\n",
    "        if spread[\"high\"].item() >= exit_price:\n",
    "            position_dictionary[\"cash\"] = position_dictionary[\"cash\"] + (exit_price * amount)\n",
    "            trade = asset\n",
    "            trade[\"sell_date\"] = today\n",
    "            trade[\"sell_price\"] = exit_price\n",
    "            trade[\"position\"] = position\n",
    "            trade[\"req\"] = req\n",
    "            trade[\"training_year\"] = training_year\n",
    "            trade[\"signal\"] = signal\n",
    "            speculation_db.store(\"ledger\",pd.DataFrame([trade]))\n",
    "            print(\"sell\",exit_price,spread[\"high\"].item())\n",
    "            position_dictionary[\"asset\"] = {}\n",
    "        else:\n",
    "            if int((today-asset[\"date\"]).days) >= 2:\n",
    "                print(\"due date\")\n",
    "                position_dictionary[\"cash\"] = position_dictionary[\"cash\"] + (spread[\"adjclose\"].item() * amount)\n",
    "                trade = asset\n",
    "                trade[\"sell_date\"] = today\n",
    "                trade[\"sell_price\"] = spread[\"adjclose\"].item()\n",
    "                trade[\"position\"] = position\n",
    "                trade[\"req\"] = req\n",
    "                trade[\"training_year\"] = training_year\n",
    "                trade[\"signal\"] = signal\n",
    "                speculation_db.store(\"ledger\",pd.DataFrame([trade]))\n",
    "                position_dictionary[\"asset\"] = {}\n",
    "            else:\n",
    "                print(\"hold\")\n",
    "    else:\n",
    "        print(position_dictionary[\"cash\"])\n",
    "speculation_db.disconnect()"
   ]
  },
  {
   "cell_type": "code",
   "execution_count": 79,
   "id": "21dad77d",
   "metadata": {},
   "outputs": [
    {
     "name": "stdout",
     "output_type": "stream",
     "text": [
      "fail\n"
     ]
    }
   ],
   "source": [
    "## looking for entries\n",
    "for position in range(positions):\n",
    "    position_dictionary = portfolio[\"positions\"][position]\n",
    "    if len(list(position_dictionary[\"queue\"].keys())) > 0:\n",
    "        queue = position_dictionary[\"queue\"]\n",
    "        ticker = queue[\"ticker\"]\n",
    "        amount = queue[\"amount\"]\n",
    "        price = queue[\"price\"]\n",
    "        spread = final[final[\"ticker\"]==ticker].iloc[0]\n",
    "        if (price >= spread[\"low\"].item()) and (price <= spread[\"high\"].item()):\n",
    "            print(\"buy\")\n",
    "            position_dictionary[\"asset\"] = {\"date\":today,\"ticker\":ticker,\"amount\":amount,\"price\":price}\n",
    "            position_dictionary[\"cash\"] = position_dictionary[\"cash\"] - amount * price\n",
    "            position_dictionary[\"queue\"] = {}\n",
    "        else:\n",
    "            position_dictionary[\"queue\"] = {}\n",
    "            print(\"fail\")\n",
    "    else:\n",
    "        print(position_dictionary[\"cash\"])"
   ]
  },
  {
   "cell_type": "code",
   "execution_count": 80,
   "id": "ff40123a",
   "metadata": {},
   "outputs": [
    {
     "data": {
      "text/plain": [
       "{'date': Timestamp('2022-08-17 00:00:00'),\n",
       " 'positions': {0: {'cash': 102717.859375, 'asset': {}, 'queue': {}}}}"
      ]
     },
     "execution_count": 80,
     "metadata": {},
     "output_type": "execute_result"
    }
   ],
   "source": [
    "portfolio"
   ]
  },
  {
   "cell_type": "code",
   "execution_count": 81,
   "id": "352f93c4",
   "metadata": {},
   "outputs": [],
   "source": [
    "## looking for recs\n",
    "for position in range(positions):\n",
    "    position_dictionary = portfolio[\"positions\"][position]\n",
    "    ## recommendation impossible\n",
    "    if (len(list(position_dictionary[\"queue\"].keys())) > 0) or (len(list(position_dictionary[\"asset\"].keys())) > 0) or (position_dictionary[\"cash\"]<=1.0) or (position >= todays_rec.index.size):\n",
    "        print(position_dictionary[\"queue\"])\n",
    "    else:\n",
    "        cash = position_dictionary[\"cash\"]\n",
    "        position_rec = todays_rec.iloc[position]\n",
    "        price = position_rec[\"adjclose\"]\n",
    "        ticker = \"BTC\"\n",
    "        amount = int(cash/price)\n",
    "        if amount < 1 or ticker in existing_assets:\n",
    "            continue\n",
    "        else:\n",
    "            position_dictionary[\"queue\"] = {\"ticker\":ticker,\"price\":price,\"amount\":amount}\n",
    "## storing"
   ]
  },
  {
   "cell_type": "code",
   "execution_count": 82,
   "id": "7a82618e",
   "metadata": {},
   "outputs": [],
   "source": [
    "portfolio[\"date\"] = today"
   ]
  },
  {
   "cell_type": "code",
   "execution_count": 83,
   "id": "52a749b1",
   "metadata": {},
   "outputs": [],
   "source": [
    "portfolio[\"positions\"] = pickle.dumps(portfolio[\"positions\"])"
   ]
  },
  {
   "cell_type": "code",
   "execution_count": 84,
   "id": "3ad10bdc",
   "metadata": {},
   "outputs": [
    {
     "data": {
      "text/plain": [
       "{'date': datetime.datetime(2022, 8, 19, 0, 0),\n",
       " 'positions': b'\\x80\\x04\\x95\\xc4\\x00\\x00\\x00\\x00\\x00\\x00\\x00}\\x94K\\x00}\\x94(\\x8c\\x04cash\\x94\\x8c\\x15numpy.core.multiarray\\x94\\x8c\\x06scalar\\x94\\x93\\x94\\x8c\\x05numpy\\x94\\x8c\\x05dtype\\x94\\x93\\x94\\x8c\\x02f8\\x94\\x89\\x88\\x87\\x94R\\x94(K\\x03\\x8c\\x01<\\x94NNNJ\\xff\\xff\\xff\\xffJ\\xff\\xff\\xff\\xffK\\x00t\\x94bC\\x08\\x00\\x00\\x00\\xc0\\xdd\\x13\\xf9@\\x94\\x86\\x94R\\x94\\x8c\\x05asset\\x94}\\x94\\x8c\\x05queue\\x94}\\x94(\\x8c\\x06ticker\\x94\\x8c\\x03BTC\\x94\\x8c\\x05price\\x94h\\x05h\\x0bC\\x08\\x00\\x00\\x00 NI\\xd6@\\x94\\x86\\x94R\\x94\\x8c\\x06amount\\x94K\\x04uus.'}"
      ]
     },
     "execution_count": 84,
     "metadata": {},
     "output_type": "execute_result"
    }
   ],
   "source": [
    "portfolio"
   ]
  },
  {
   "cell_type": "code",
   "execution_count": 85,
   "id": "3f870cea",
   "metadata": {},
   "outputs": [],
   "source": [
    "speculation_db.connect()\n",
    "speculation_db.store(\"portfolios\",pd.DataFrame([portfolio]))\n",
    "speculation_db.disconnect()"
   ]
  }
 ],
 "metadata": {
  "kernelspec": {
   "display_name": "Python 3 (ipykernel)",
   "language": "python",
   "name": "python3"
  },
  "language_info": {
   "codemirror_mode": {
    "name": "ipython",
    "version": 3
   },
   "file_extension": ".py",
   "mimetype": "text/x-python",
   "name": "python",
   "nbconvert_exporter": "python",
   "pygments_lexer": "ipython3",
   "version": "3.10.5"
  }
 },
 "nbformat": 4,
 "nbformat_minor": 5
}
