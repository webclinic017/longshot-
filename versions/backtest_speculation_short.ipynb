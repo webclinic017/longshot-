{
 "cells": [
  {
   "cell_type": "code",
   "execution_count": 1,
   "id": "aa80f443",
   "metadata": {
    "scrolled": true
   },
   "outputs": [],
   "source": [
    "from datetime import datetime, timedelta\n",
    "import pandas as pd\n",
    "from tqdm import tqdm\n",
    "from modeler.modeler import Modeler as m\n",
    "from processor.processor import Processor as p\n",
    "from database.market import Market\n",
    "from database.adatabase import ADatabase\n",
    "import numpy as np"
   ]
  },
  {
   "cell_type": "code",
   "execution_count": 2,
   "id": "e5adbebb",
   "metadata": {},
   "outputs": [],
   "source": [
    "market = Market()\n",
    "speculation_db = ADatabase(\"speculation\")"
   ]
  },
  {
   "cell_type": "code",
   "execution_count": 3,
   "id": "8e84aa3f",
   "metadata": {},
   "outputs": [],
   "source": [
    "market.connect()\n",
    "sp500 = market.retrieve(\"sp500\")\n",
    "prices = market.retrieve(\"pdr_prices\")\n",
    "market.disconnect()"
   ]
  },
  {
   "cell_type": "code",
   "execution_count": 4,
   "id": "3b3376b6",
   "metadata": {},
   "outputs": [],
   "source": [
    "prices = p.column_date_processing(prices)\n",
    "prices[\"year\"] = [x.year for x in prices[\"date\"]]\n",
    "prices[\"week\"] = [x.week for x in prices[\"date\"]]"
   ]
  },
  {
   "cell_type": "code",
   "execution_count": 5,
   "id": "0affef81",
   "metadata": {},
   "outputs": [],
   "source": [
    "speculation_db.connect()\n",
    "simulation = speculation_db.retrieve(\"pdr_sim\")\n",
    "speculation_db.disconnect()"
   ]
  },
  {
   "cell_type": "code",
   "execution_count": 6,
   "id": "1ec618b4",
   "metadata": {},
   "outputs": [],
   "source": [
    "simulation[\"week\"] =  simulation[\"week\"] + 1"
   ]
  },
  {
   "cell_type": "code",
   "execution_count": 7,
   "id": "7710948a",
   "metadata": {},
   "outputs": [
    {
     "name": "stderr",
     "output_type": "stream",
     "text": [
      "  0%|                                                                | 0/3 [00:00<?, ?it/s]\n",
      "  0%|                                                                | 0/3 [00:00<?, ?it/s]\u001b[A\n",
      " 33%|██████████████████▋                                     | 1/3 [01:10<02:21, 70.82s/it]\u001b[A\n",
      " 67%|█████████████████████████████████████▎                  | 2/3 [02:23<01:11, 71.98s/it]\u001b[A\n",
      "100%|████████████████████████████████████████████████████████| 3/3 [03:34<00:00, 71.58s/it]\u001b[A\n",
      " 33%|██████████████████▎                                    | 1/3 [03:34<07:09, 214.73s/it]\n",
      "  0%|                                                                | 0/3 [00:00<?, ?it/s]\u001b[A\n",
      " 33%|██████████████████▋                                     | 1/3 [00:27<00:54, 27.45s/it]\u001b[A\n",
      " 67%|█████████████████████████████████████▎                  | 2/3 [00:54<00:27, 27.41s/it]\u001b[A\n",
      "100%|████████████████████████████████████████████████████████| 3/3 [01:22<00:00, 27.61s/it]\u001b[A\n",
      " 67%|████████████████████████████████████▋                  | 2/3 [04:57<02:17, 137.14s/it]\n",
      "  0%|                                                                | 0/3 [00:00<?, ?it/s]\u001b[A\n",
      " 33%|██████████████████▋                                     | 1/3 [00:24<00:49, 25.00s/it]\u001b[A\n",
      " 67%|█████████████████████████████████████▎                  | 2/3 [00:50<00:25, 25.53s/it]\u001b[A\n",
      "100%|████████████████████████████████████████████████████████| 3/3 [01:16<00:00, 25.42s/it]\u001b[A\n",
      "100%|███████████████████████████████████████████████████████| 3/3 [06:13<00:00, 124.60s/it]\n"
     ]
    }
   ],
   "source": [
    "positions = 5\n",
    "start_date = datetime(2016,1,1)\n",
    "end_date = datetime(2022,6,30)\n",
    "speculation_db.connect()\n",
    "value = True\n",
    "training_year = 4\n",
    "sim = prices.merge(simulation[simulation[\"training_year\"]==training_year],on=[\"year\",\"week\",\"ticker\"],how=\"left\").dropna()\n",
    "sim[\"prediction\"] = (sim[\"cat_prediction\"] + sim[\"skl_prediction\"] + sim[\"xgb_prediction\"]) / 3\n",
    "sim[\"delta\"] = (sim[\"prediction\"] - sim[\"adjclose\"]) / sim[\"adjclose\"]\n",
    "for signal in tqdm([0.1,0.3,0.5]):\n",
    "    for req in tqdm([0.05,0.1,0.15]):\n",
    "        for position in range(positions):\n",
    "            date = start_date\n",
    "            iterration_sim = sim.copy()\n",
    "            if value == False:\n",
    "                iterration_sim[\"delta\"] = iterration_sim[\"delta\"] * -1\n",
    "            while date < end_date:\n",
    "                try:\n",
    "                    todays_recs = iterration_sim[(iterration_sim[\"date\"]==date)]\n",
    "                    todays_recs.sort_values(\"delta\",ascending=False,inplace=True)\n",
    "                    if todays_recs.index.size > 0 and date.weekday() <= 2:\n",
    "                        offering = todays_recs.iloc[position]\n",
    "                        if (offering[\"delta\"] > signal):\n",
    "                            trade = offering\n",
    "                            ticker = trade[\"ticker\"]\n",
    "                            buy_price = trade[\"adjclose\"]\n",
    "                            end_index = 10 - date.weekday()\n",
    "                            exits = iterration_sim[(iterration_sim[\"ticker\"]==ticker) & (iterration_sim[\"date\"]>date)].iloc[:end_index]\n",
    "                            exits[\"gains\"] = (exits[\"adjclose\"] - buy_price) / buy_price\n",
    "                            gain_exits = exits[exits[\"gains\"] <= -req].sort_values(\"date\")\n",
    "                            if gain_exits.index.size < 1:\n",
    "                                exit = iterration_sim[(iterration_sim[\"ticker\"]==ticker) & \\\n",
    "                                                      (iterration_sim[\"date\"]>date)].iloc[end_index:].iloc[0]\n",
    "                                trade[\"sell_price\"] = exit[\"adjclose\"]\n",
    "                            else:\n",
    "                                exit = gain_exits.iloc[0]\n",
    "                                trade[\"sell_price\"] = buy_price * (1+(-req))\n",
    "                            delta = -1 * (trade[\"sell_price\"] - buy_price) / buy_price\n",
    "                            trade[\"sell_date\"] = exit[\"date\"]\n",
    "                            date = exit[\"date\"] + timedelta(days=1)\n",
    "                            trade[\"projected_delta\"] = offering[\"delta\"]\n",
    "                            trade[\"delta\"] = delta\n",
    "                            trade[\"position\"] = position\n",
    "                            trade[\"req\"] = req\n",
    "                            trade[\"value\"] = value\n",
    "                            trade[\"training_year\"] = training_year\n",
    "                            trade[\"signal\"] = signal\n",
    "                            included = [\"date\",\"sell_date\",\"ticker\",\"adjclose\",\"sell_price\",\"delta\"\n",
    "                                        ,\"projected_delta\",\"position\"\n",
    "                                        ,\"req\",\"signal\",\"value\",\"training_year\"]\n",
    "                            trade_record = pd.DataFrame([trade]).reset_index(drop=True)[included]\n",
    "                            speculation_db.store(\"pdr_short_trades\",trade_record)\n",
    "                        else:\n",
    "                            date = date + timedelta(days=1)\n",
    "                    else:\n",
    "                        date = date + timedelta(days=1)\n",
    "                except Exception as e:\n",
    "                    print(str(e))\n",
    "                    date = date+timedelta(days=1)\n",
    "speculation_db.disconnect()"
   ]
  }
 ],
 "metadata": {
  "kernelspec": {
   "display_name": "Python 3 (ipykernel)",
   "language": "python",
   "name": "python3"
  },
  "language_info": {
   "codemirror_mode": {
    "name": "ipython",
    "version": 3
   },
   "file_extension": ".py",
   "mimetype": "text/x-python",
   "name": "python",
   "nbconvert_exporter": "python",
   "pygments_lexer": "ipython3",
   "version": "3.10.5"
  }
 },
 "nbformat": 4,
 "nbformat_minor": 5
}
