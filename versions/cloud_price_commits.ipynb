{
 "cells": [
  {
   "cell_type": "code",
   "execution_count": 9,
   "id": "363c9439",
   "metadata": {},
   "outputs": [],
   "source": [
    "import pandas as pd\n",
    "from database.market import Market\n",
    "from database.adatabase import ADatabase\n",
    "from datetime import datetime, timedelta\n",
    "from processor.processor import Processor as p\n",
    "from tqdm import tqdm"
   ]
  },
  {
   "cell_type": "code",
   "execution_count": 10,
   "id": "0ca38ab8",
   "metadata": {},
   "outputs": [],
   "source": [
    "market = Market()\n",
    "arttie = ADatabase(\"arttie\")\n",
    "market.connect()\n",
    "dates = market.retrieve_date_range()\n",
    "sp5 = market.retrieve(\"sp500\")\n",
    "market.disconnect()"
   ]
  },
  {
   "cell_type": "code",
   "execution_count": 11,
   "id": "55873d93",
   "metadata": {},
   "outputs": [],
   "source": [
    "stuff = pd.to_datetime(dates[\"date\"])"
   ]
  },
  {
   "cell_type": "code",
   "execution_count": 12,
   "id": "6db91ba1",
   "metadata": {},
   "outputs": [],
   "source": [
    "start = (stuff.max() + timedelta(days=1)).strftime(\"%Y-%m-%d\")\n",
    "end = datetime.now().strftime(\"%Y-%m-%d\")"
   ]
  },
  {
   "cell_type": "code",
   "execution_count": 13,
   "id": "5e411956",
   "metadata": {},
   "outputs": [],
   "source": [
    "market.connect()\n",
    "prices = market.retrieve(\"alpha_prices\")\n",
    "market.disconnect()"
   ]
  },
  {
   "cell_type": "code",
   "execution_count": 14,
   "id": "ebc97809",
   "metadata": {},
   "outputs": [],
   "source": [
    "prices = p.column_date_processing(prices)"
   ]
  },
  {
   "cell_type": "code",
   "execution_count": 15,
   "id": "f5157d27",
   "metadata": {},
   "outputs": [],
   "source": [
    "current = prices[prices[\"date\"]==prices[\"date\"].max()]"
   ]
  },
  {
   "cell_type": "code",
   "execution_count": 16,
   "id": "3c18856c",
   "metadata": {},
   "outputs": [],
   "source": [
    "arttie.cloud_connect()\n",
    "arttie.store(\"prices\",current)\n",
    "arttie.disconnect()"
   ]
  }
 ],
 "metadata": {
  "kernelspec": {
   "display_name": "Python 3 (ipykernel)",
   "language": "python",
   "name": "python3"
  },
  "language_info": {
   "codemirror_mode": {
    "name": "ipython",
    "version": 3
   },
   "file_extension": ".py",
   "mimetype": "text/x-python",
   "name": "python",
   "nbconvert_exporter": "python",
   "pygments_lexer": "ipython3",
   "version": "3.10.1"
  }
 },
 "nbformat": 4,
 "nbformat_minor": 5
}
