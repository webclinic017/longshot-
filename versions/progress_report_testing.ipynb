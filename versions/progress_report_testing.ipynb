{
 "cells": [
  {
   "cell_type": "code",
   "execution_count": 1,
   "id": "aa80f443",
   "metadata": {
    "scrolled": true
   },
   "outputs": [],
   "source": [
    "from strategy.progressreport import ProgressReport\n",
    "from datetime import datetime, timedelta\n",
    "import pytz\n",
    "import pandas as pd\n",
    "from tqdm import tqdm\n",
    "from processor.processor import Processor as p"
   ]
  },
  {
   "cell_type": "code",
   "execution_count": 2,
   "id": "34dbc1c4",
   "metadata": {},
   "outputs": [
    {
     "data": {
      "text/plain": [
       "{'timeframe': 'quarterly', 'requirement': 5}"
      ]
     },
     "execution_count": 2,
     "metadata": {},
     "output_type": "execute_result"
    }
   ],
   "source": [
    "ProgressReport.required_params()"
   ]
  },
  {
   "cell_type": "code",
   "execution_count": 3,
   "id": "b38d4176",
   "metadata": {
    "scrolled": true
   },
   "outputs": [],
   "source": [
    "start_date = datetime(2015,1,1)\n",
    "end_date = datetime(2021,1,1)\n",
    "params = {\"timeframe\":\"quarterly\",\"requirement\":10}\n",
    "strat = ProgressReport(start_date,end_date,params)\n",
    "strat.subscribe()\n",
    "sim = strat.create_sim()"
   ]
  },
  {
   "cell_type": "code",
   "execution_count": 5,
   "id": "5cfc636a",
   "metadata": {},
   "outputs": [
    {
     "name": "stderr",
     "output_type": "stream",
     "text": [
      "progress_report_sim: 100%|████████████████████████████████████████████████████████████████████████████████████████████████| 501/501 [01:17<00:00,  6.44it/s]\n"
     ]
    }
   ],
   "source": [
    "recs = strat.create_rec(datetime.now())"
   ]
  },
  {
   "cell_type": "code",
   "execution_count": 6,
   "id": "5a8631b7",
   "metadata": {},
   "outputs": [
    {
     "data": {
      "text/html": [
       "<div>\n",
       "<style scoped>\n",
       "    .dataframe tbody tr th:only-of-type {\n",
       "        vertical-align: middle;\n",
       "    }\n",
       "\n",
       "    .dataframe tbody tr th {\n",
       "        vertical-align: top;\n",
       "    }\n",
       "\n",
       "    .dataframe thead th {\n",
       "        text-align: right;\n",
       "    }\n",
       "</style>\n",
       "<table border=\"1\" class=\"dataframe\">\n",
       "  <thead>\n",
       "    <tr style=\"text-align: right;\">\n",
       "      <th></th>\n",
       "      <th>date</th>\n",
       "      <th>adjclose</th>\n",
       "      <th>delta</th>\n",
       "      <th>ticker</th>\n",
       "      <th>timeframe</th>\n",
       "      <th>requirement</th>\n",
       "    </tr>\n",
       "  </thead>\n",
       "  <tbody>\n",
       "    <tr>\n",
       "      <th>7039</th>\n",
       "      <td>2021-12-16</td>\n",
       "      <td>178.31</td>\n",
       "      <td>0.009226</td>\n",
       "      <td>MMM</td>\n",
       "      <td>quarterly</td>\n",
       "      <td>10</td>\n",
       "    </tr>\n",
       "    <tr>\n",
       "      <th>7041</th>\n",
       "      <td>2021-12-16</td>\n",
       "      <td>136.09</td>\n",
       "      <td>0.161078</td>\n",
       "      <td>ABT</td>\n",
       "      <td>quarterly</td>\n",
       "      <td>10</td>\n",
       "    </tr>\n",
       "    <tr>\n",
       "      <th>2257</th>\n",
       "      <td>2021-12-16</td>\n",
       "      <td>131.78</td>\n",
       "      <td>0.207993</td>\n",
       "      <td>ABBV</td>\n",
       "      <td>quarterly</td>\n",
       "      <td>10</td>\n",
       "    </tr>\n",
       "    <tr>\n",
       "      <th>7041</th>\n",
       "      <td>2021-12-16</td>\n",
       "      <td>310.00</td>\n",
       "      <td>-0.041227</td>\n",
       "      <td>ABMD</td>\n",
       "      <td>quarterly</td>\n",
       "      <td>10</td>\n",
       "    </tr>\n",
       "    <tr>\n",
       "      <th>5137</th>\n",
       "      <td>2021-12-16</td>\n",
       "      <td>400.60</td>\n",
       "      <td>0.233147</td>\n",
       "      <td>ACN</td>\n",
       "      <td>quarterly</td>\n",
       "      <td>10</td>\n",
       "    </tr>\n",
       "    <tr>\n",
       "      <th>...</th>\n",
       "      <td>...</td>\n",
       "      <td>...</td>\n",
       "      <td>...</td>\n",
       "      <td>...</td>\n",
       "      <td>...</td>\n",
       "      <td>...</td>\n",
       "    </tr>\n",
       "    <tr>\n",
       "      <th>4819</th>\n",
       "      <td>2021-12-16</td>\n",
       "      <td>80.56</td>\n",
       "      <td>-0.076253</td>\n",
       "      <td>WYNN</td>\n",
       "      <td>quarterly</td>\n",
       "      <td>10</td>\n",
       "    </tr>\n",
       "    <tr>\n",
       "      <th>7040</th>\n",
       "      <td>2021-12-16</td>\n",
       "      <td>68.95</td>\n",
       "      <td>0.103377</td>\n",
       "      <td>XEL</td>\n",
       "      <td>quarterly</td>\n",
       "      <td>10</td>\n",
       "    </tr>\n",
       "    <tr>\n",
       "      <th>7040</th>\n",
       "      <td>2021-12-16</td>\n",
       "      <td>199.78</td>\n",
       "      <td>0.315467</td>\n",
       "      <td>XLNX</td>\n",
       "      <td>quarterly</td>\n",
       "      <td>10</td>\n",
       "    </tr>\n",
       "    <tr>\n",
       "      <th>2541</th>\n",
       "      <td>2021-12-16</td>\n",
       "      <td>118.64</td>\n",
       "      <td>-0.021929</td>\n",
       "      <td>XYL</td>\n",
       "      <td>quarterly</td>\n",
       "      <td>10</td>\n",
       "    </tr>\n",
       "    <tr>\n",
       "      <th>23</th>\n",
       "      <td>2021-12-16</td>\n",
       "      <td>133.59</td>\n",
       "      <td>0.058390</td>\n",
       "      <td>YUM</td>\n",
       "      <td>quarterly</td>\n",
       "      <td>10</td>\n",
       "    </tr>\n",
       "  </tbody>\n",
       "</table>\n",
       "<p>500 rows × 6 columns</p>\n",
       "</div>"
      ],
      "text/plain": [
       "           date  adjclose     delta ticker  timeframe  requirement\n",
       "7039 2021-12-16    178.31  0.009226    MMM  quarterly           10\n",
       "7041 2021-12-16    136.09  0.161078    ABT  quarterly           10\n",
       "2257 2021-12-16    131.78  0.207993   ABBV  quarterly           10\n",
       "7041 2021-12-16    310.00 -0.041227   ABMD  quarterly           10\n",
       "5137 2021-12-16    400.60  0.233147    ACN  quarterly           10\n",
       "...         ...       ...       ...    ...        ...          ...\n",
       "4819 2021-12-16     80.56 -0.076253   WYNN  quarterly           10\n",
       "7040 2021-12-16     68.95  0.103377    XEL  quarterly           10\n",
       "7040 2021-12-16    199.78  0.315467   XLNX  quarterly           10\n",
       "2541 2021-12-16    118.64 -0.021929    XYL  quarterly           10\n",
       "23   2021-12-16    133.59  0.058390    YUM  quarterly           10\n",
       "\n",
       "[500 rows x 6 columns]"
      ]
     },
     "execution_count": 6,
     "metadata": {},
     "output_type": "execute_result"
    }
   ],
   "source": [
    "recs"
   ]
  }
 ],
 "metadata": {
  "kernelspec": {
   "display_name": "Python 3 (ipykernel)",
   "language": "python",
   "name": "python3"
  },
  "language_info": {
   "codemirror_mode": {
    "name": "ipython",
    "version": 3
   },
   "file_extension": ".py",
   "mimetype": "text/x-python",
   "name": "python",
   "nbconvert_exporter": "python",
   "pygments_lexer": "ipython3",
   "version": "3.10.1"
  }
 },
 "nbformat": 4,
 "nbformat_minor": 5
}
