{
 "cells": [
  {
   "cell_type": "code",
   "execution_count": 1,
   "id": "5a24d11e",
   "metadata": {},
   "outputs": [],
   "source": [
    "import pandas as pd\n",
    "from database.market import Market\n",
    "from database.sec import SEC\n",
    "from database.adatabase import ADatabase\n",
    "from processor.processor import Processor as p\n",
    "from datetime import datetime\n",
    "from tqdm import tqdm\n",
    "import numpy as np\n",
    "from modeler_strats.universal_modeler import UniversalModeler"
   ]
  },
  {
   "cell_type": "code",
   "execution_count": 2,
   "id": "1f7fc22a",
   "metadata": {},
   "outputs": [],
   "source": [
    "market = Market()\n",
    "sec = SEC()\n",
    "fin = ADatabase(\"financial\")\n",
    "umod = UniversalModeler()"
   ]
  },
  {
   "cell_type": "code",
   "execution_count": 3,
   "id": "b0c57b4d",
   "metadata": {},
   "outputs": [],
   "source": [
    "market.connect()\n",
    "sp500 = market.retrieve(\"sp500\")\n",
    "market.disconnect()\n",
    "sp500 = sp500.rename(columns={\"Symbol\":\"ticker\"})"
   ]
  },
  {
   "cell_type": "code",
   "execution_count": 4,
   "id": "983a4ac6",
   "metadata": {},
   "outputs": [],
   "source": [
    "factors = ['assets',\n",
    " 'liabilitiesandstockholdersequity',\n",
    " 'incometaxexpensebenefit',\n",
    " 'retainedearningsaccumulateddeficit',\n",
    " 'accumulatedothercomprehensiveincomelossnetoftax',\n",
    " 'earningspersharebasic',\n",
    " 'earningspersharediluted',\n",
    " 'propertyplantandequipmentnet',\n",
    " 'cashandcashequivalentsatcarryingvalue',\n",
    " 'entitycommonstocksharesoutstanding',\n",
    " 'weightedaveragenumberofdilutedsharesoutstanding',\n",
    " 'weightedaveragenumberofsharesoutstandingbasic',\n",
    " 'stockholdersequity']"
   ]
  },
  {
   "cell_type": "code",
   "execution_count": 5,
   "id": "06e0c3f1",
   "metadata": {},
   "outputs": [],
   "source": [
    "included_columns=[\n",
    "    \"year\",\n",
    "    \"quarter\",\n",
    "    \"ticker\",\n",
    "    \"adjclose\",\n",
    "    \"y\"\n",
    "]"
   ]
  },
  {
   "cell_type": "code",
   "execution_count": 6,
   "id": "c552e7c0",
   "metadata": {},
   "outputs": [],
   "source": [
    "included_columns.extend(factors)"
   ]
  },
  {
   "cell_type": "code",
   "execution_count": null,
   "id": "c551e792",
   "metadata": {
    "scrolled": true
   },
   "outputs": [
    {
     "name": "stderr",
     "output_type": "stream",
     "text": [
      "  1%|██                                                                                                                                                                         | 6/490 [00:01<01:56,  4.16it/s]"
     ]
    },
    {
     "name": "stdout",
     "output_type": "stream",
     "text": [
      "\"['entitycommonstocksharesoutstanding'] not in index\"\n"
     ]
    },
    {
     "name": "stderr",
     "output_type": "stream",
     "text": [
      "  2%|██▊                                                                                                                                                                        | 8/490 [00:02<02:33,  3.14it/s]"
     ]
    },
    {
     "name": "stdout",
     "output_type": "stream",
     "text": [
      "\"['stockholdersequity'] not in index\"\n"
     ]
    },
    {
     "name": "stderr",
     "output_type": "stream",
     "text": [
      "  4%|██████▌                                                                                                                                                                   | 19/490 [00:06<02:43,  2.88it/s]"
     ]
    },
    {
     "name": "stdout",
     "output_type": "stream",
     "text": [
      "\"['incometaxexpensebenefit'] not in index\"\n"
     ]
    },
    {
     "name": "stderr",
     "output_type": "stream",
     "text": [
      "  5%|███████▉                                                                                                                                                                  | 23/490 [00:07<02:37,  2.96it/s]"
     ]
    },
    {
     "name": "stdout",
     "output_type": "stream",
     "text": [
      "\"['cashandcashequivalentsatcarryingvalue'] not in index\"\n"
     ]
    },
    {
     "name": "stderr",
     "output_type": "stream",
     "text": [
      "\r",
      "  5%|████████▎                                                                                                                                                                 | 24/490 [00:07<02:28,  3.14it/s]"
     ]
    },
    {
     "name": "stdout",
     "output_type": "stream",
     "text": [
      "\"['weightedaveragenumberofdilutedsharesoutstanding', 'weightedaveragenumberofsharesoutstandingbasic'] not in index\"\n"
     ]
    },
    {
     "name": "stderr",
     "output_type": "stream",
     "text": [
      "  7%|███████████                                                                                                                                                               | 32/490 [00:11<03:24,  2.24it/s]"
     ]
    },
    {
     "name": "stdout",
     "output_type": "stream",
     "text": [
      "\"['cashandcashequivalentsatcarryingvalue'] not in index\"\n"
     ]
    },
    {
     "name": "stderr",
     "output_type": "stream",
     "text": [
      "\r",
      "  7%|███████████▍                                                                                                                                                              | 33/490 [00:11<04:04,  1.87it/s]"
     ]
    },
    {
     "name": "stdout",
     "output_type": "stream",
     "text": [
      "\"['cashandcashequivalentsatcarryingvalue'] not in index\"\n"
     ]
    },
    {
     "name": "stderr",
     "output_type": "stream",
     "text": [
      " 10%|█████████████████                                                                                                                                                         | 49/490 [00:17<02:19,  3.16it/s]"
     ]
    },
    {
     "name": "stdout",
     "output_type": "stream",
     "text": [
      "\"['weightedaveragenumberofdilutedsharesoutstanding'] not in index\"\n"
     ]
    },
    {
     "name": "stderr",
     "output_type": "stream",
     "text": [
      " 10%|█████████████████▋                                                                                                                                                        | 51/490 [00:18<02:45,  2.65it/s]"
     ]
    },
    {
     "name": "stdout",
     "output_type": "stream",
     "text": [
      "\"['stockholdersequity'] not in index\"\n"
     ]
    },
    {
     "name": "stderr",
     "output_type": "stream",
     "text": [
      " 11%|███████████████████                                                                                                                                                       | 55/490 [00:19<02:19,  3.13it/s]"
     ]
    },
    {
     "name": "stdout",
     "output_type": "stream",
     "text": [
      "\"['propertyplantandequipmentnet'] not in index\"\n"
     ]
    },
    {
     "name": "stderr",
     "output_type": "stream",
     "text": [
      " 12%|███████████████████▊                                                                                                                                                      | 57/490 [00:19<02:07,  3.41it/s]"
     ]
    },
    {
     "name": "stdout",
     "output_type": "stream",
     "text": [
      "\"['weightedaveragenumberofsharesoutstandingbasic'] not in index\"\n"
     ]
    },
    {
     "name": "stderr",
     "output_type": "stream",
     "text": [
      " 13%|██████████████████████▌                                                                                                                                                   | 65/490 [00:23<02:24,  2.93it/s]"
     ]
    },
    {
     "name": "stdout",
     "output_type": "stream",
     "text": [
      "\"['entitycommonstocksharesoutstanding'] not in index\"\n"
     ]
    },
    {
     "name": "stderr",
     "output_type": "stream",
     "text": [
      " 15%|█████████████████████████▎                                                                                                                                                | 73/490 [00:26<02:48,  2.47it/s]"
     ]
    },
    {
     "name": "stdout",
     "output_type": "stream",
     "text": [
      "\"['incometaxexpensebenefit', 'propertyplantandequipmentnet'] not in index\"\n"
     ]
    },
    {
     "name": "stderr",
     "output_type": "stream",
     "text": [
      "\r",
      " 15%|█████████████████████████▋                                                                                                                                                | 74/490 [00:26<02:57,  2.34it/s]"
     ]
    },
    {
     "name": "stdout",
     "output_type": "stream",
     "text": [
      "\"['stockholdersequity'] not in index\"\n"
     ]
    },
    {
     "name": "stderr",
     "output_type": "stream",
     "text": [
      " 17%|████████████████████████████▍                                                                                                                                             | 82/490 [00:29<02:11,  3.10it/s]"
     ]
    },
    {
     "name": "stdout",
     "output_type": "stream",
     "text": [
      "\"['incometaxexpensebenefit', 'retainedearningsaccumulateddeficit', 'propertyplantandequipmentnet'] not in index\"\n"
     ]
    },
    {
     "name": "stderr",
     "output_type": "stream",
     "text": [
      " 17%|█████████████████████████████▏                                                                                                                                            | 84/490 [00:30<03:34,  1.90it/s]"
     ]
    },
    {
     "name": "stdout",
     "output_type": "stream",
     "text": [
      "\"['cashandcashequivalentsatcarryingvalue'] not in index\"\n"
     ]
    },
    {
     "name": "stderr",
     "output_type": "stream",
     "text": [
      " 18%|█████████████████████████████▊                                                                                                                                            | 86/490 [00:31<02:39,  2.53it/s]"
     ]
    },
    {
     "name": "stdout",
     "output_type": "stream",
     "text": [
      "\"['stockholdersequity'] not in index\"\n"
     ]
    },
    {
     "name": "stderr",
     "output_type": "stream",
     "text": [
      " 18%|███████████████████████████████▏                                                                                                                                          | 90/490 [00:32<02:10,  3.07it/s]"
     ]
    },
    {
     "name": "stdout",
     "output_type": "stream",
     "text": [
      "\"['stockholdersequity'] not in index\"\n"
     ]
    },
    {
     "name": "stderr",
     "output_type": "stream",
     "text": [
      " 22%|████████████████████████████████████▌                                                                                                                                    | 106/490 [00:37<02:04,  3.09it/s]"
     ]
    },
    {
     "name": "stdout",
     "output_type": "stream",
     "text": [
      "\"['weightedaveragenumberofsharesoutstandingbasic'] not in index\"\n"
     ]
    },
    {
     "name": "stderr",
     "output_type": "stream",
     "text": [
      " 22%|█████████████████████████████████████▉                                                                                                                                   | 110/490 [00:39<02:50,  2.23it/s]"
     ]
    },
    {
     "name": "stdout",
     "output_type": "stream",
     "text": [
      "\"['propertyplantandequipmentnet'] not in index\"\n"
     ]
    },
    {
     "name": "stderr",
     "output_type": "stream",
     "text": [
      " 23%|██████████████████████████████████████▉                                                                                                                                  | 113/490 [00:40<02:22,  2.65it/s]"
     ]
    },
    {
     "name": "stdout",
     "output_type": "stream",
     "text": [
      "\"['entitycommonstocksharesoutstanding'] not in index\"\n"
     ]
    },
    {
     "name": "stderr",
     "output_type": "stream",
     "text": [
      " 24%|████████████████████████████████████████▋                                                                                                                                | 118/490 [00:42<02:07,  2.91it/s]"
     ]
    },
    {
     "name": "stdout",
     "output_type": "stream",
     "text": [
      "\"['entitycommonstocksharesoutstanding'] not in index\"\n"
     ]
    },
    {
     "name": "stderr",
     "output_type": "stream",
     "text": [
      "\r",
      " 24%|█████████████████████████████████████████                                                                                                                                | 119/490 [00:42<02:22,  2.60it/s]"
     ]
    },
    {
     "name": "stdout",
     "output_type": "stream",
     "text": [
      "\"['stockholdersequity'] not in index\"\n"
     ]
    },
    {
     "name": "stderr",
     "output_type": "stream",
     "text": [
      " 25%|██████████████████████████████████████████▊                                                                                                                              | 124/490 [00:44<02:04,  2.94it/s]"
     ]
    },
    {
     "name": "stdout",
     "output_type": "stream",
     "text": [
      "\"['earningspersharebasic', 'earningspersharediluted', 'entitycommonstocksharesoutstanding', 'weightedaveragenumberofdilutedsharesoutstanding', 'weightedaveragenumberofsharesoutstandingbasic'] not in index\"\n"
     ]
    },
    {
     "name": "stderr",
     "output_type": "stream",
     "text": [
      " 27%|█████████████████████████████████████████████▌                                                                                                                           | 132/490 [00:47<01:33,  3.81it/s]"
     ]
    },
    {
     "name": "stdout",
     "output_type": "stream",
     "text": [
      "\"['stockholdersequity'] not in index\"\n"
     ]
    },
    {
     "name": "stderr",
     "output_type": "stream",
     "text": [
      " 30%|██████████████████████████████████████████████████                                                                                                                       | 145/490 [00:51<02:04,  2.77it/s]"
     ]
    },
    {
     "name": "stdout",
     "output_type": "stream",
     "text": [
      "\"['propertyplantandequipmentnet'] not in index\"\n"
     ]
    },
    {
     "name": "stderr",
     "output_type": "stream",
     "text": [
      " 30%|██████████████████████████████████████████████████▋                                                                                                                      | 147/490 [00:52<02:05,  2.74it/s]"
     ]
    },
    {
     "name": "stdout",
     "output_type": "stream",
     "text": [
      "\"['entitycommonstocksharesoutstanding'] not in index\"\n"
     ]
    },
    {
     "name": "stderr",
     "output_type": "stream",
     "text": [
      " 35%|██████████████████████████████████████████████████████████▉                                                                                                              | 171/490 [01:01<02:07,  2.51it/s]"
     ]
    },
    {
     "name": "stdout",
     "output_type": "stream",
     "text": [
      "\"['retainedearningsaccumulateddeficit'] not in index\"\n"
     ]
    },
    {
     "name": "stderr",
     "output_type": "stream",
     "text": [
      " 36%|████████████████████████████████████████████████████████████                                                                                                             | 174/490 [01:03<02:19,  2.27it/s]"
     ]
    },
    {
     "name": "stdout",
     "output_type": "stream",
     "text": [
      "\"['propertyplantandequipmentnet'] not in index\"\n"
     ]
    },
    {
     "name": "stderr",
     "output_type": "stream",
     "text": [
      "\r",
      " 36%|████████████████████████████████████████████████████████████▎                                                                                                            | 175/490 [01:03<02:11,  2.40it/s]"
     ]
    },
    {
     "name": "stdout",
     "output_type": "stream",
     "text": [
      "\"['retainedearningsaccumulateddeficit', 'propertyplantandequipmentnet'] not in index\"\n"
     ]
    },
    {
     "name": "stderr",
     "output_type": "stream",
     "text": [
      " 36%|█████████████████████████████████████████████████████████████                                                                                                            | 177/490 [01:03<01:43,  3.03it/s]"
     ]
    },
    {
     "name": "stdout",
     "output_type": "stream",
     "text": [
      "\"['entitycommonstocksharesoutstanding'] not in index\"\n"
     ]
    },
    {
     "name": "stderr",
     "output_type": "stream",
     "text": [
      " 37%|█████████████████████████████████████████████████████████████▋                                                                                                           | 179/490 [01:04<01:31,  3.39it/s]"
     ]
    },
    {
     "name": "stdout",
     "output_type": "stream",
     "text": [
      "\"['propertyplantandequipmentnet'] not in index\"\n"
     ]
    },
    {
     "name": "stderr",
     "output_type": "stream",
     "text": [
      "\r",
      " 37%|██████████████████████████████████████████████████████████████                                                                                                           | 180/490 [01:04<01:45,  2.94it/s]"
     ]
    },
    {
     "name": "stdout",
     "output_type": "stream",
     "text": [
      "\"['propertyplantandequipmentnet'] not in index\"\n"
     ]
    },
    {
     "name": "stderr",
     "output_type": "stream",
     "text": [
      " 37%|███████████████████████████████████████████████████████████████                                                                                                          | 183/490 [01:06<02:24,  2.13it/s]"
     ]
    },
    {
     "name": "stdout",
     "output_type": "stream",
     "text": [
      "\"['entitycommonstocksharesoutstanding'] not in index\"\n"
     ]
    },
    {
     "name": "stderr",
     "output_type": "stream",
     "text": [
      " 38%|████████████████████████████████████████████████████████████████▏                                                                                                        | 186/490 [01:07<01:45,  2.89it/s]"
     ]
    },
    {
     "name": "stdout",
     "output_type": "stream",
     "text": [
      "\"['stockholdersequity'] not in index\"\n"
     ]
    },
    {
     "name": "stderr",
     "output_type": "stream",
     "text": [
      " 39%|█████████████████████████████████████████████████████████████████▏                                                                                                       | 189/490 [01:08<01:29,  3.36it/s]"
     ]
    },
    {
     "name": "stdout",
     "output_type": "stream",
     "text": [
      "\"['incometaxexpensebenefit', 'retainedearningsaccumulateddeficit', 'propertyplantandequipmentnet'] not in index\"\n"
     ]
    },
    {
     "name": "stderr",
     "output_type": "stream",
     "text": [
      " 39%|█████████████████████████████████████████████████████████████████▉                                                                                                       | 191/490 [01:09<02:12,  2.25it/s]"
     ]
    },
    {
     "name": "stdout",
     "output_type": "stream",
     "text": [
      "\"['cashandcashequivalentsatcarryingvalue'] not in index\"\n"
     ]
    },
    {
     "name": "stderr",
     "output_type": "stream",
     "text": [
      " 40%|███████████████████████████████████████████████████████████████████▉                                                                                                     | 197/490 [01:11<01:44,  2.81it/s]"
     ]
    },
    {
     "name": "stdout",
     "output_type": "stream",
     "text": [
      "\"['entitycommonstocksharesoutstanding'] not in index\"\n"
     ]
    },
    {
     "name": "stderr",
     "output_type": "stream",
     "text": [
      " 43%|█████████████████████████████████████████████████████████████████████████                                                                                                | 212/490 [01:17<02:01,  2.28it/s]"
     ]
    },
    {
     "name": "stdout",
     "output_type": "stream",
     "text": [
      "\"['propertyplantandequipmentnet'] not in index\"\n"
     ]
    },
    {
     "name": "stderr",
     "output_type": "stream",
     "text": [
      " 44%|██████████████████████████████████████████████████████████████████████████▍                                                                                              | 216/490 [01:19<02:26,  1.87it/s]"
     ]
    },
    {
     "name": "stdout",
     "output_type": "stream",
     "text": [
      "\"['cashandcashequivalentsatcarryingvalue'] not in index\"\n"
     ]
    },
    {
     "name": "stderr",
     "output_type": "stream",
     "text": [
      " 45%|███████████████████████████████████████████████████████████████████████████▌                                                                                             | 219/490 [01:20<01:59,  2.27it/s]"
     ]
    },
    {
     "name": "stdout",
     "output_type": "stream",
     "text": [
      "\"['retainedearningsaccumulateddeficit', 'propertyplantandequipmentnet'] not in index\"\n"
     ]
    },
    {
     "name": "stderr",
     "output_type": "stream",
     "text": [
      " 45%|████████████████████████████████████████████████████████████████████████████▏                                                                                            | 221/490 [01:21<01:55,  2.32it/s]"
     ]
    },
    {
     "name": "stdout",
     "output_type": "stream",
     "text": [
      "\"['earningspersharebasic', 'earningspersharediluted'] not in index\"\n"
     ]
    },
    {
     "name": "stderr",
     "output_type": "stream",
     "text": [
      " 47%|██████████████████████████████████████████████████████████████████████████████▋                                                                                          | 228/490 [01:24<01:25,  3.06it/s]"
     ]
    },
    {
     "name": "stdout",
     "output_type": "stream",
     "text": [
      "\"['entitycommonstocksharesoutstanding'] not in index\"\n"
     ]
    },
    {
     "name": "stderr",
     "output_type": "stream",
     "text": [
      " 49%|██████████████████████████████████████████████████████████████████████████████████                                                                                       | 238/490 [01:27<01:25,  2.96it/s]"
     ]
    },
    {
     "name": "stdout",
     "output_type": "stream",
     "text": [
      "\"['stockholdersequity'] not in index\"\n"
     ]
    },
    {
     "name": "stderr",
     "output_type": "stream",
     "text": [
      " 52%|███████████████████████████████████████████████████████████████████████████████████████▌                                                                                 | 254/490 [01:32<01:03,  3.74it/s]"
     ]
    },
    {
     "name": "stdout",
     "output_type": "stream",
     "text": [
      "\"['accumulatedothercomprehensiveincomelossnetoftax'] not in index\"\n",
      "\"['accumulatedothercomprehensiveincomelossnetoftax'] not in index\"\n"
     ]
    },
    {
     "name": "stderr",
     "output_type": "stream",
     "text": [
      " 52%|████████████████████████████████████████████████████████████████████████████████████████▎                                                                                | 256/490 [01:33<01:07,  3.45it/s]"
     ]
    },
    {
     "name": "stdout",
     "output_type": "stream",
     "text": [
      "\"['stockholdersequity'] not in index\"\n"
     ]
    },
    {
     "name": "stderr",
     "output_type": "stream",
     "text": [
      " 53%|██████████████████████████████████████████████████████████████████████████████████████████                                                                               | 261/490 [01:36<01:55,  1.98it/s]"
     ]
    },
    {
     "name": "stdout",
     "output_type": "stream",
     "text": [
      "\"['cashandcashequivalentsatcarryingvalue'] not in index\"\n"
     ]
    },
    {
     "name": "stderr",
     "output_type": "stream",
     "text": [
      " 54%|███████████████████████████████████████████████████████████████████████████████████████████                                                                              | 264/490 [01:37<01:41,  2.23it/s]"
     ]
    },
    {
     "name": "stdout",
     "output_type": "stream",
     "text": [
      "\"['propertyplantandequipmentnet'] not in index\"\n"
     ]
    },
    {
     "name": "stderr",
     "output_type": "stream",
     "text": [
      " 56%|██████████████████████████████████████████████████████████████████████████████████████████████▊                                                                          | 275/490 [01:41<01:14,  2.88it/s]"
     ]
    },
    {
     "name": "stdout",
     "output_type": "stream",
     "text": [
      "\"['entitycommonstocksharesoutstanding'] not in index\"\n"
     ]
    },
    {
     "name": "stderr",
     "output_type": "stream",
     "text": [
      "\r",
      " 56%|███████████████████████████████████████████████████████████████████████████████████████████████▏                                                                         | 276/490 [01:42<01:25,  2.51it/s]"
     ]
    },
    {
     "name": "stdout",
     "output_type": "stream",
     "text": [
      "\"['propertyplantandequipmentnet'] not in index\"\n"
     ]
    },
    {
     "name": "stderr",
     "output_type": "stream",
     "text": [
      " 57%|████████████████████████████████████████████████████████████████████████████████████████████████▉                                                                        | 281/490 [01:43<01:29,  2.32it/s]"
     ]
    },
    {
     "name": "stdout",
     "output_type": "stream",
     "text": [
      "\"['cashandcashequivalentsatcarryingvalue'] not in index\"\n"
     ]
    },
    {
     "name": "stderr",
     "output_type": "stream",
     "text": [
      " 60%|█████████████████████████████████████████████████████████████████████████████████████████████████████                                                                    | 293/490 [01:48<01:11,  2.77it/s]"
     ]
    },
    {
     "name": "stdout",
     "output_type": "stream",
     "text": [
      "\"['entitycommonstocksharesoutstanding'] not in index\"\n"
     ]
    },
    {
     "name": "stderr",
     "output_type": "stream",
     "text": [
      " 60%|█████████████████████████████████████████████████████████████████████████████████████████████████████▋                                                                   | 295/490 [01:49<01:08,  2.85it/s]"
     ]
    },
    {
     "name": "stdout",
     "output_type": "stream",
     "text": [
      "\"['entitycommonstocksharesoutstanding'] not in index\"\n"
     ]
    },
    {
     "name": "stderr",
     "output_type": "stream",
     "text": [
      " 61%|███████████████████████████████████████████████████████████████████████████████████████████████████████▍                                                                 | 300/490 [01:50<00:59,  3.22it/s]"
     ]
    },
    {
     "name": "stdout",
     "output_type": "stream",
     "text": [
      "\"['entitycommonstocksharesoutstanding'] not in index\"\n"
     ]
    },
    {
     "name": "stderr",
     "output_type": "stream",
     "text": [
      "\r",
      " 61%|███████████████████████████████████████████████████████████████████████████████████████████████████████▊                                                                 | 301/490 [01:51<01:31,  2.06it/s]"
     ]
    },
    {
     "name": "stdout",
     "output_type": "stream",
     "text": [
      "\"['propertyplantandequipmentnet'] not in index\"\n"
     ]
    },
    {
     "name": "stderr",
     "output_type": "stream",
     "text": [
      " 63%|██████████████████████████████████████████████████████████████████████████████████████████████████████████▏                                                              | 308/490 [01:53<00:50,  3.59it/s]"
     ]
    },
    {
     "name": "stdout",
     "output_type": "stream",
     "text": [
      "\"['retainedearningsaccumulateddeficit', 'propertyplantandequipmentnet'] not in index\"\n"
     ]
    },
    {
     "name": "stderr",
     "output_type": "stream",
     "text": [
      " 63%|███████████████████████████████████████████████████████████████████████████████████████████████████████████▎                                                             | 311/490 [01:54<01:02,  2.88it/s]"
     ]
    },
    {
     "name": "stdout",
     "output_type": "stream",
     "text": [
      "\"['entitycommonstocksharesoutstanding'] not in index\"\n"
     ]
    },
    {
     "name": "stderr",
     "output_type": "stream",
     "text": [
      " 64%|████████████████████████████████████████████████████████████████████████████████████████████████████████████▎                                                            | 314/490 [01:55<00:51,  3.41it/s]"
     ]
    },
    {
     "name": "stdout",
     "output_type": "stream",
     "text": [
      "\"['earningspersharebasic', 'earningspersharediluted'] not in index\"\n"
     ]
    },
    {
     "name": "stderr",
     "output_type": "stream",
     "text": [
      " 66%|████████████████████████████████████████████████████████████████████████████████████████████████████████████████                                                         | 325/490 [01:59<00:59,  2.76it/s]"
     ]
    },
    {
     "name": "stdout",
     "output_type": "stream",
     "text": [
      "\"['entitycommonstocksharesoutstanding'] not in index\"\n"
     ]
    },
    {
     "name": "stderr",
     "output_type": "stream",
     "text": [
      " 68%|██████████████████████████████████████████████████████████████████████████████████████████████████████████████████▏                                                      | 331/490 [02:02<01:00,  2.64it/s]"
     ]
    },
    {
     "name": "stdout",
     "output_type": "stream",
     "text": [
      "\"['cashandcashequivalentsatcarryingvalue'] not in index\"\n"
     ]
    },
    {
     "name": "stderr",
     "output_type": "stream",
     "text": [
      " 68%|███████████████████████████████████████████████████████████████████████████████████████████████████████████████████▌                                                     | 335/490 [02:03<00:59,  2.61it/s]"
     ]
    },
    {
     "name": "stdout",
     "output_type": "stream",
     "text": [
      "\"['stockholdersequity'] not in index\"\n"
     ]
    },
    {
     "name": "stderr",
     "output_type": "stream",
     "text": [
      " 69%|████████████████████████████████████████████████████████████████████████████████████████████████████████████████████▌                                                    | 338/490 [02:04<00:50,  3.00it/s]"
     ]
    },
    {
     "name": "stdout",
     "output_type": "stream",
     "text": [
      "\"['accumulatedothercomprehensiveincomelossnetoftax', 'propertyplantandequipmentnet'] not in index\"\n"
     ]
    },
    {
     "name": "stderr",
     "output_type": "stream",
     "text": [
      " 70%|█████████████████████████████████████████████████████████████████████████████████████████████████████████████████████▉                                                   | 342/490 [02:05<00:39,  3.75it/s]"
     ]
    },
    {
     "name": "stdout",
     "output_type": "stream",
     "text": [
      "\"['accumulatedothercomprehensiveincomelossnetoftax'] not in index\"\n"
     ]
    },
    {
     "name": "stderr",
     "output_type": "stream",
     "text": [
      " 71%|████████████████████████████████████████████████████████████████████████████████████████████████████████████████████████▋                                                | 350/490 [02:07<00:42,  3.31it/s]"
     ]
    },
    {
     "name": "stdout",
     "output_type": "stream",
     "text": [
      "\"['entitycommonstocksharesoutstanding'] not in index\"\n"
     ]
    },
    {
     "name": "stderr",
     "output_type": "stream",
     "text": [
      " 74%|█████████████████████████████████████████████████████████████████████████████████████████████████████████████████████████████▏                                           | 363/490 [02:12<00:44,  2.83it/s]"
     ]
    },
    {
     "name": "stdout",
     "output_type": "stream",
     "text": [
      "\"['accumulatedothercomprehensiveincomelossnetoftax'] not in index\"\n"
     ]
    },
    {
     "name": "stderr",
     "output_type": "stream",
     "text": [
      " 74%|█████████████████████████████████████████████████████████████████████████████████████████████████████████████████████████████▉                                           | 365/490 [02:12<00:46,  2.66it/s]"
     ]
    },
    {
     "name": "stdout",
     "output_type": "stream",
     "text": [
      "\"['cashandcashequivalentsatcarryingvalue'] not in index\"\n"
     ]
    },
    {
     "name": "stderr",
     "output_type": "stream",
     "text": [
      " 75%|███████████████████████████████████████████████████████████████████████████████████████████████████████████████████████████████▎                                         | 369/490 [02:14<00:50,  2.40it/s]"
     ]
    },
    {
     "name": "stdout",
     "output_type": "stream",
     "text": [
      "\"['stockholdersequity'] not in index\"\n"
     ]
    },
    {
     "name": "stderr",
     "output_type": "stream",
     "text": [
      "\r",
      " 76%|███████████████████████████████████████████████████████████████████████████████████████████████████████████████████████████████▌                                         | 370/490 [02:15<00:52,  2.29it/s]"
     ]
    },
    {
     "name": "stdout",
     "output_type": "stream",
     "text": [
      "\"['cashandcashequivalentsatcarryingvalue'] not in index\"\n"
     ]
    },
    {
     "name": "stderr",
     "output_type": "stream",
     "text": [
      " 76%|████████████████████████████████████████████████████████████████████████████████████████████████████████████████████████████████▋                                        | 373/490 [02:16<00:58,  2.02it/s]"
     ]
    },
    {
     "name": "stdout",
     "output_type": "stream",
     "text": [
      "\"['propertyplantandequipmentnet'] not in index\"\n"
     ]
    },
    {
     "name": "stderr",
     "output_type": "stream",
     "text": [
      " 77%|█████████████████████████████████████████████████████████████████████████████████████████████████████████████████████████████████▎                                       | 375/490 [02:17<00:46,  2.45it/s]"
     ]
    },
    {
     "name": "stdout",
     "output_type": "stream",
     "text": [
      "\"['propertyplantandequipmentnet'] not in index\"\n"
     ]
    },
    {
     "name": "stderr",
     "output_type": "stream",
     "text": [
      " 78%|███████████████████████████████████████████████████████████████████████████████████████████████████████████████████████████████████▊                                     | 382/490 [02:19<00:36,  2.94it/s]"
     ]
    },
    {
     "name": "stdout",
     "output_type": "stream",
     "text": [
      "\"['entitycommonstocksharesoutstanding'] not in index\"\n"
     ]
    },
    {
     "name": "stderr",
     "output_type": "stream",
     "text": [
      " 79%|████████████████████████████████████████████████████████████████████████████████████████████████████████████████████████████████████▊                                    | 385/490 [02:21<00:43,  2.40it/s]"
     ]
    },
    {
     "name": "stdout",
     "output_type": "stream",
     "text": [
      "\"['retainedearningsaccumulateddeficit', 'propertyplantandequipmentnet'] not in index\"\n"
     ]
    },
    {
     "name": "stderr",
     "output_type": "stream",
     "text": [
      "\r",
      " 79%|█████████████████████████████████████████████████████████████████████████████████████████████████████████████████████████████████████▏                                   | 386/490 [02:21<00:41,  2.49it/s]"
     ]
    },
    {
     "name": "stdout",
     "output_type": "stream",
     "text": [
      "\"['retainedearningsaccumulateddeficit'] not in index\"\n"
     ]
    },
    {
     "name": "stderr",
     "output_type": "stream",
     "text": [
      " 83%|████████████████████████████████████████████████████████████████████████████████████████████████████████████████████████████████████████████                             | 406/490 [02:29<00:34,  2.41it/s]"
     ]
    },
    {
     "name": "stdout",
     "output_type": "stream",
     "text": [
      "\"['propertyplantandequipmentnet', 'entitycommonstocksharesoutstanding'] not in index\"\n"
     ]
    },
    {
     "name": "stderr",
     "output_type": "stream",
     "text": [
      " 85%|███████████████████████████████████████████████████████████████████████████████████████████████████████████████████████████████████████████████▏                         | 415/490 [02:33<00:36,  2.07it/s]"
     ]
    },
    {
     "name": "stdout",
     "output_type": "stream",
     "text": [
      "\"['cashandcashequivalentsatcarryingvalue'] not in index\"\n"
     ]
    },
    {
     "name": "stderr",
     "output_type": "stream",
     "text": [
      " 85%|████████████████████████████████████████████████████████████████████████████████████████████████████████████████████████████████████████████████▏                        | 418/490 [02:33<00:21,  3.30it/s]"
     ]
    },
    {
     "name": "stdout",
     "output_type": "stream",
     "text": [
      "\"['accumulatedothercomprehensiveincomelossnetoftax', 'propertyplantandequipmentnet'] not in index\"\n"
     ]
    },
    {
     "name": "stderr",
     "output_type": "stream",
     "text": [
      " 86%|████████████████████████████████████████████████████████████████████████████████████████████████████████████████████████████████████████████████▊                        | 420/490 [02:34<00:19,  3.58it/s]"
     ]
    },
    {
     "name": "stdout",
     "output_type": "stream",
     "text": [
      "\"['retainedearningsaccumulateddeficit'] not in index\"\n"
     ]
    },
    {
     "name": "stderr",
     "output_type": "stream",
     "text": [
      " 86%|█████████████████████████████████████████████████████████████████████████████████████████████████████████████████████████████████████████████████▌                       | 422/490 [02:35<00:19,  3.49it/s]"
     ]
    },
    {
     "name": "stdout",
     "output_type": "stream",
     "text": [
      "\"['retainedearningsaccumulateddeficit'] not in index\"\n"
     ]
    },
    {
     "name": "stderr",
     "output_type": "stream",
     "text": [
      " 89%|███████████████████████████████████████████████████████████████████████████████████████████████████████████████████████████████████████████████████████                  | 438/490 [02:40<00:15,  3.26it/s]"
     ]
    },
    {
     "name": "stdout",
     "output_type": "stream",
     "text": [
      "\"['propertyplantandequipmentnet', 'cashandcashequivalentsatcarryingvalue'] not in index\"\n"
     ]
    },
    {
     "name": "stderr",
     "output_type": "stream",
     "text": [
      " 90%|███████████████████████████████████████████████████████████████████████████████████████████████████████████████████████████████████████████████████████▊                 | 440/490 [02:40<00:17,  2.85it/s]"
     ]
    },
    {
     "name": "stdout",
     "output_type": "stream",
     "text": [
      "\"['stockholdersequity'] not in index\"\n"
     ]
    },
    {
     "name": "stderr",
     "output_type": "stream",
     "text": [
      " 90%|████████████████████████████████████████████████████████████████████████████████████████████████████████████████████████████████████████████████████████▊                | 443/490 [02:41<00:13,  3.58it/s]"
     ]
    },
    {
     "name": "stdout",
     "output_type": "stream",
     "text": [
      "\"['earningspersharebasic', 'entitycommonstocksharesoutstanding', 'weightedaveragenumberofsharesoutstandingbasic'] not in index\"\n"
     ]
    },
    {
     "name": "stderr",
     "output_type": "stream",
     "text": [
      " 91%|█████████████████████████████████████████████████████████████████████████████████████████████████████████████████████████████████████████████████████████▊               | 446/490 [02:43<00:15,  2.77it/s]"
     ]
    },
    {
     "name": "stdout",
     "output_type": "stream",
     "text": [
      "\"['retainedearningsaccumulateddeficit', 'propertyplantandequipmentnet'] not in index\"\n"
     ]
    }
   ],
   "source": [
    "market.connect()\n",
    "sec.connect()\n",
    "training_sets = []\n",
    "for ticker in tqdm(sp500[\"ticker\"].unique()):\n",
    "    try:\n",
    "        cik = int(sp500[sp500[\"ticker\"]==ticker][\"CIK\"])\n",
    "        prices = market.retrieve_ticker_prices(\"prices\",ticker)\n",
    "        prices = p.column_date_processing(prices)\n",
    "        prices[\"year\"] = [x.year for x in prices[\"date\"]]\n",
    "        prices[\"quarter\"] = [x.quarter for x in prices[\"date\"]]\n",
    "        filing = sec.retrieve_filing_data(cik)\n",
    "        filing = p.column_date_processing(filing)\n",
    "        filing = filing.groupby([\"year\",\"quarter\"]).mean().reset_index()\n",
    "        ticker_data = prices.copy()\n",
    "        ticker_data.sort_values(\"date\",ascending=True,inplace=True)\n",
    "        ticker_data[\"adjclose\"] = [float(x) for x in ticker_data[\"adjclose\"]]\n",
    "        ticker_data = ticker_data.groupby([\"year\",\"quarter\"]).mean().reset_index()\n",
    "        ticker_data.dropna(inplace=True)\n",
    "        ticker_data[\"ticker\"] = ticker\n",
    "        ticker_data[\"y\"] = ticker_data[\"adjclose\"].shift(-4)\n",
    "        ticker_data = ticker_data.merge(filing,on=[\"year\",\"quarter\"],how=\"left\").reset_index()\n",
    "        ticker_data = ticker_data[included_columns]\n",
    "        training_sets.append(ticker_data)\n",
    "    except Exception as e:\n",
    "        print(str(e))\n",
    "        continue\n",
    "market.disconnect()\n",
    "sec.disconnect()"
   ]
  },
  {
   "cell_type": "code",
   "execution_count": null,
   "id": "0ea5d66b",
   "metadata": {},
   "outputs": [],
   "source": [
    "data = pd.concat(training_sets)"
   ]
  },
  {
   "cell_type": "code",
   "execution_count": null,
   "id": "736f208f",
   "metadata": {},
   "outputs": [],
   "source": [
    "data = data.dropna()"
   ]
  },
  {
   "cell_type": "code",
   "execution_count": null,
   "id": "dd5ef196",
   "metadata": {},
   "outputs": [],
   "source": [
    "data"
   ]
  },
  {
   "cell_type": "code",
   "execution_count": null,
   "id": "23ad6193",
   "metadata": {
    "scrolled": true
   },
   "outputs": [],
   "source": [
    "fin.connect()\n",
    "years = 4\n",
    "for modeler in [umod]:\n",
    "    for year in tqdm(range(2016,2023)):\n",
    "        training_slice = data[(data[\"year\"]<year) & (data[\"year\"] >= year - years)].reset_index(drop=True)\n",
    "        prediction_set = data[data[\"year\"]==year].reset_index(drop=True)\n",
    "        set_name = \"sim\"\n",
    "        stuff = modeler.model(training_slice,prediction_set,factors,tf=False)\n",
    "        stuff[\"training_years\"] = years\n",
    "        fin.store(set_name,stuff)\n",
    "fin.disconnect()"
   ]
  },
  {
   "cell_type": "code",
   "execution_count": null,
   "id": "38befc1e",
   "metadata": {},
   "outputs": [],
   "source": [
    "stuff"
   ]
  }
 ],
 "metadata": {
  "kernelspec": {
   "display_name": "Python 3 (ipykernel)",
   "language": "python",
   "name": "python3"
  },
  "language_info": {
   "codemirror_mode": {
    "name": "ipython",
    "version": 3
   },
   "file_extension": ".py",
   "mimetype": "text/x-python",
   "name": "python",
   "nbconvert_exporter": "python",
   "pygments_lexer": "ipython3",
   "version": "3.10.5"
  }
 },
 "nbformat": 4,
 "nbformat_minor": 5
}
