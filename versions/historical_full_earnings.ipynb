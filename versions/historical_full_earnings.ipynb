{
 "cells": [
  {
   "cell_type": "code",
   "execution_count": 8,
   "id": "5a24d11e",
   "metadata": {},
   "outputs": [],
   "source": [
    "import pandas as pd\n",
    "from database.market import Market\n",
    "from database.sec import SEC\n",
    "from database.adatabase import ADatabase\n",
    "from processor.processor import Processor as p\n",
    "from datetime import datetime\n",
    "from tqdm import tqdm\n",
    "import numpy as np\n",
    "from modeler_strats.universal_modeler import UniversalModeler"
   ]
  },
  {
   "cell_type": "code",
   "execution_count": 9,
   "id": "1f7fc22a",
   "metadata": {},
   "outputs": [],
   "source": [
    "market = Market()\n",
    "sec = SEC()\n",
    "fin = ADatabase(\"earnings\")\n",
    "umod = UniversalModeler()"
   ]
  },
  {
   "cell_type": "code",
   "execution_count": 10,
   "id": "b0c57b4d",
   "metadata": {},
   "outputs": [],
   "source": [
    "market.connect()\n",
    "sp500 = market.retrieve(\"sp500\")\n",
    "market.disconnect()\n",
    "sp500 = sp500.rename(columns={\"Symbol\":\"ticker\"})"
   ]
  },
  {
   "cell_type": "code",
   "execution_count": 11,
   "id": "983a4ac6",
   "metadata": {},
   "outputs": [],
   "source": [
    "factors = ['assets',\n",
    " 'liabilitiesandstockholdersequity',\n",
    " 'incometaxexpensebenefit',\n",
    " 'retainedearningsaccumulateddeficit',\n",
    " 'accumulatedothercomprehensiveincomelossnetoftax',\n",
    " 'earningspersharebasic',\n",
    " 'earningspersharediluted',\n",
    " 'propertyplantandequipmentnet',\n",
    " 'cashandcashequivalentsatcarryingvalue',\n",
    " 'entitycommonstocksharesoutstanding',\n",
    " 'weightedaveragenumberofdilutedsharesoutstanding',\n",
    " 'weightedaveragenumberofsharesoutstandingbasic',\n",
    " 'stockholdersequity']"
   ]
  },
  {
   "cell_type": "code",
   "execution_count": 12,
   "id": "06e0c3f1",
   "metadata": {},
   "outputs": [],
   "source": [
    "included_columns=[\n",
    "    \"year\",\n",
    "    \"quarter\",\n",
    "    \"ticker\",\n",
    "    \"adjclose\",\n",
    "    \"y\"\n",
    "]"
   ]
  },
  {
   "cell_type": "code",
   "execution_count": 13,
   "id": "c552e7c0",
   "metadata": {},
   "outputs": [],
   "source": [
    "included_columns.extend(factors)"
   ]
  },
  {
   "cell_type": "code",
   "execution_count": 14,
   "id": "c551e792",
   "metadata": {
    "scrolled": true
   },
   "outputs": [
    {
     "name": "stderr",
     "output_type": "stream",
     "text": [
      "  1%|██                                                                                                                                                                         | 6/490 [00:01<02:04,  3.90it/s]"
     ]
    },
    {
     "name": "stdout",
     "output_type": "stream",
     "text": [
      "\"['entitycommonstocksharesoutstanding'] not in index\"\n"
     ]
    },
    {
     "name": "stderr",
     "output_type": "stream",
     "text": [
      "  2%|██▊                                                                                                                                                                        | 8/490 [00:02<02:25,  3.31it/s]"
     ]
    },
    {
     "name": "stdout",
     "output_type": "stream",
     "text": [
      "\"['stockholdersequity'] not in index\"\n"
     ]
    },
    {
     "name": "stderr",
     "output_type": "stream",
     "text": [
      "  4%|██████▌                                                                                                                                                                   | 19/490 [00:06<02:57,  2.65it/s]"
     ]
    },
    {
     "name": "stdout",
     "output_type": "stream",
     "text": [
      "\"['incometaxexpensebenefit'] not in index\"\n"
     ]
    },
    {
     "name": "stderr",
     "output_type": "stream",
     "text": [
      "  5%|███████▉                                                                                                                                                                  | 23/490 [00:07<02:42,  2.87it/s]"
     ]
    },
    {
     "name": "stdout",
     "output_type": "stream",
     "text": [
      "\"['cashandcashequivalentsatcarryingvalue'] not in index\"\n"
     ]
    },
    {
     "name": "stderr",
     "output_type": "stream",
     "text": [
      "\r",
      "  5%|████████▎                                                                                                                                                                 | 24/490 [00:08<02:32,  3.06it/s]"
     ]
    },
    {
     "name": "stdout",
     "output_type": "stream",
     "text": [
      "\"['weightedaveragenumberofdilutedsharesoutstanding', 'weightedaveragenumberofsharesoutstandingbasic'] not in index\"\n"
     ]
    },
    {
     "name": "stderr",
     "output_type": "stream",
     "text": [
      "  7%|███████████                                                                                                                                                               | 32/490 [00:11<03:17,  2.32it/s]"
     ]
    },
    {
     "name": "stdout",
     "output_type": "stream",
     "text": [
      "\"['cashandcashequivalentsatcarryingvalue'] not in index\"\n"
     ]
    },
    {
     "name": "stderr",
     "output_type": "stream",
     "text": [
      "\r",
      "  7%|███████████▍                                                                                                                                                              | 33/490 [00:11<04:00,  1.90it/s]"
     ]
    },
    {
     "name": "stdout",
     "output_type": "stream",
     "text": [
      "\"['cashandcashequivalentsatcarryingvalue'] not in index\"\n"
     ]
    },
    {
     "name": "stderr",
     "output_type": "stream",
     "text": [
      " 10%|█████████████████                                                                                                                                                         | 49/490 [00:17<02:19,  3.16it/s]"
     ]
    },
    {
     "name": "stdout",
     "output_type": "stream",
     "text": [
      "\"['weightedaveragenumberofdilutedsharesoutstanding'] not in index\"\n"
     ]
    },
    {
     "name": "stderr",
     "output_type": "stream",
     "text": [
      " 10%|█████████████████▋                                                                                                                                                        | 51/490 [00:18<02:45,  2.65it/s]"
     ]
    },
    {
     "name": "stdout",
     "output_type": "stream",
     "text": [
      "\"['stockholdersequity'] not in index\"\n"
     ]
    },
    {
     "name": "stderr",
     "output_type": "stream",
     "text": [
      " 11%|███████████████████                                                                                                                                                       | 55/490 [00:19<02:25,  2.99it/s]"
     ]
    },
    {
     "name": "stdout",
     "output_type": "stream",
     "text": [
      "\"['propertyplantandequipmentnet'] not in index\"\n"
     ]
    },
    {
     "name": "stderr",
     "output_type": "stream",
     "text": [
      " 12%|███████████████████▊                                                                                                                                                      | 57/490 [00:20<02:12,  3.27it/s]"
     ]
    },
    {
     "name": "stdout",
     "output_type": "stream",
     "text": [
      "\"['weightedaveragenumberofsharesoutstandingbasic'] not in index\"\n"
     ]
    },
    {
     "name": "stderr",
     "output_type": "stream",
     "text": [
      " 13%|██████████████████████▌                                                                                                                                                   | 65/490 [00:23<02:31,  2.81it/s]"
     ]
    },
    {
     "name": "stdout",
     "output_type": "stream",
     "text": [
      "\"['entitycommonstocksharesoutstanding'] not in index\"\n"
     ]
    },
    {
     "name": "stderr",
     "output_type": "stream",
     "text": [
      " 15%|█████████████████████████▎                                                                                                                                                | 73/490 [00:26<02:46,  2.50it/s]"
     ]
    },
    {
     "name": "stdout",
     "output_type": "stream",
     "text": [
      "\"['incometaxexpensebenefit', 'propertyplantandequipmentnet'] not in index\"\n"
     ]
    },
    {
     "name": "stderr",
     "output_type": "stream",
     "text": [
      "\r",
      " 15%|█████████████████████████▋                                                                                                                                                | 74/490 [00:27<02:55,  2.36it/s]"
     ]
    },
    {
     "name": "stdout",
     "output_type": "stream",
     "text": [
      "\"['stockholdersequity'] not in index\"\n"
     ]
    },
    {
     "name": "stderr",
     "output_type": "stream",
     "text": [
      " 17%|████████████████████████████▍                                                                                                                                             | 82/490 [00:29<02:16,  2.99it/s]"
     ]
    },
    {
     "name": "stdout",
     "output_type": "stream",
     "text": [
      "\"['incometaxexpensebenefit', 'retainedearningsaccumulateddeficit', 'propertyplantandequipmentnet'] not in index\"\n"
     ]
    },
    {
     "name": "stderr",
     "output_type": "stream",
     "text": [
      " 17%|█████████████████████████████▏                                                                                                                                            | 84/490 [00:31<03:35,  1.89it/s]"
     ]
    },
    {
     "name": "stdout",
     "output_type": "stream",
     "text": [
      "\"['cashandcashequivalentsatcarryingvalue'] not in index\"\n"
     ]
    },
    {
     "name": "stderr",
     "output_type": "stream",
     "text": [
      " 18%|█████████████████████████████▊                                                                                                                                            | 86/490 [00:31<02:40,  2.51it/s]"
     ]
    },
    {
     "name": "stdout",
     "output_type": "stream",
     "text": [
      "\"['stockholdersequity'] not in index\"\n"
     ]
    },
    {
     "name": "stderr",
     "output_type": "stream",
     "text": [
      " 18%|███████████████████████████████▏                                                                                                                                          | 90/490 [00:32<02:10,  3.06it/s]"
     ]
    },
    {
     "name": "stdout",
     "output_type": "stream",
     "text": [
      "\"['stockholdersequity'] not in index\"\n"
     ]
    },
    {
     "name": "stderr",
     "output_type": "stream",
     "text": [
      " 22%|████████████████████████████████████▌                                                                                                                                    | 106/490 [00:38<02:08,  3.00it/s]"
     ]
    },
    {
     "name": "stdout",
     "output_type": "stream",
     "text": [
      "\"['weightedaveragenumberofsharesoutstandingbasic'] not in index\"\n"
     ]
    },
    {
     "name": "stderr",
     "output_type": "stream",
     "text": [
      " 22%|█████████████████████████████████████▉                                                                                                                                   | 110/490 [00:40<02:51,  2.21it/s]"
     ]
    },
    {
     "name": "stdout",
     "output_type": "stream",
     "text": [
      "\"['propertyplantandequipmentnet'] not in index\"\n"
     ]
    },
    {
     "name": "stderr",
     "output_type": "stream",
     "text": [
      " 23%|██████████████████████████████████████▉                                                                                                                                  | 113/490 [00:41<02:22,  2.64it/s]"
     ]
    },
    {
     "name": "stdout",
     "output_type": "stream",
     "text": [
      "\"['entitycommonstocksharesoutstanding'] not in index\"\n"
     ]
    },
    {
     "name": "stderr",
     "output_type": "stream",
     "text": [
      " 24%|████████████████████████████████████████▋                                                                                                                                | 118/490 [00:43<02:15,  2.74it/s]"
     ]
    },
    {
     "name": "stdout",
     "output_type": "stream",
     "text": [
      "\"['entitycommonstocksharesoutstanding'] not in index\"\n"
     ]
    },
    {
     "name": "stderr",
     "output_type": "stream",
     "text": [
      "\r",
      " 24%|█████████████████████████████████████████                                                                                                                                | 119/490 [00:43<02:28,  2.50it/s]"
     ]
    },
    {
     "name": "stdout",
     "output_type": "stream",
     "text": [
      "\"['stockholdersequity'] not in index\"\n"
     ]
    },
    {
     "name": "stderr",
     "output_type": "stream",
     "text": [
      " 25%|██████████████████████████████████████████▊                                                                                                                              | 124/490 [00:45<02:02,  3.00it/s]"
     ]
    },
    {
     "name": "stdout",
     "output_type": "stream",
     "text": [
      "'earningspersharebasic'\n"
     ]
    },
    {
     "name": "stderr",
     "output_type": "stream",
     "text": [
      " 27%|█████████████████████████████████████████████▌                                                                                                                           | 132/490 [00:47<01:34,  3.79it/s]"
     ]
    },
    {
     "name": "stdout",
     "output_type": "stream",
     "text": [
      "\"['stockholdersequity'] not in index\"\n"
     ]
    },
    {
     "name": "stderr",
     "output_type": "stream",
     "text": [
      " 30%|██████████████████████████████████████████████████                                                                                                                       | 145/490 [00:52<02:04,  2.77it/s]"
     ]
    },
    {
     "name": "stdout",
     "output_type": "stream",
     "text": [
      "\"['propertyplantandequipmentnet'] not in index\"\n"
     ]
    },
    {
     "name": "stderr",
     "output_type": "stream",
     "text": [
      " 30%|██████████████████████████████████████████████████▋                                                                                                                      | 147/490 [00:53<02:05,  2.72it/s]"
     ]
    },
    {
     "name": "stdout",
     "output_type": "stream",
     "text": [
      "\"['entitycommonstocksharesoutstanding'] not in index\"\n"
     ]
    },
    {
     "name": "stderr",
     "output_type": "stream",
     "text": [
      " 35%|██████████████████████████████████████████████████████████▉                                                                                                              | 171/490 [01:02<02:08,  2.49it/s]"
     ]
    },
    {
     "name": "stdout",
     "output_type": "stream",
     "text": [
      "\"['retainedearningsaccumulateddeficit'] not in index\"\n"
     ]
    },
    {
     "name": "stderr",
     "output_type": "stream",
     "text": [
      " 36%|████████████████████████████████████████████████████████████                                                                                                             | 174/490 [01:03<02:20,  2.25it/s]"
     ]
    },
    {
     "name": "stdout",
     "output_type": "stream",
     "text": [
      "\"['propertyplantandequipmentnet'] not in index\"\n"
     ]
    },
    {
     "name": "stderr",
     "output_type": "stream",
     "text": [
      "\r",
      " 36%|████████████████████████████████████████████████████████████▎                                                                                                            | 175/490 [01:04<02:12,  2.38it/s]"
     ]
    },
    {
     "name": "stdout",
     "output_type": "stream",
     "text": [
      "\"['retainedearningsaccumulateddeficit', 'propertyplantandequipmentnet'] not in index\"\n"
     ]
    },
    {
     "name": "stderr",
     "output_type": "stream",
     "text": [
      " 36%|█████████████████████████████████████████████████████████████                                                                                                            | 177/490 [01:04<01:44,  3.00it/s]"
     ]
    },
    {
     "name": "stdout",
     "output_type": "stream",
     "text": [
      "\"['entitycommonstocksharesoutstanding'] not in index\"\n"
     ]
    },
    {
     "name": "stderr",
     "output_type": "stream",
     "text": [
      " 37%|█████████████████████████████████████████████████████████████▋                                                                                                           | 179/490 [01:05<01:32,  3.36it/s]"
     ]
    },
    {
     "name": "stdout",
     "output_type": "stream",
     "text": [
      "\"['propertyplantandequipmentnet'] not in index\"\n"
     ]
    },
    {
     "name": "stderr",
     "output_type": "stream",
     "text": [
      "\r",
      " 37%|██████████████████████████████████████████████████████████████                                                                                                           | 180/490 [01:05<01:46,  2.91it/s]"
     ]
    },
    {
     "name": "stdout",
     "output_type": "stream",
     "text": [
      "\"['propertyplantandequipmentnet'] not in index\"\n"
     ]
    },
    {
     "name": "stderr",
     "output_type": "stream",
     "text": [
      " 37%|██████████████████████████████████████████████████████████████▊                                                                                                          | 182/490 [01:07<03:06,  1.65it/s]"
     ]
    },
    {
     "name": "stdout",
     "output_type": "stream",
     "text": [
      "\"['entitycommonstocksharesoutstanding'] not in index\"\n"
     ]
    },
    {
     "name": "stderr",
     "output_type": "stream",
     "text": [
      " 38%|████████████████████████████████████████████████████████████████▏                                                                                                        | 186/490 [01:08<01:48,  2.80it/s]"
     ]
    },
    {
     "name": "stdout",
     "output_type": "stream",
     "text": [
      "\"['stockholdersequity'] not in index\"\n"
     ]
    },
    {
     "name": "stderr",
     "output_type": "stream",
     "text": [
      " 39%|█████████████████████████████████████████████████████████████████▏                                                                                                       | 189/490 [01:09<01:24,  3.55it/s]"
     ]
    },
    {
     "name": "stdout",
     "output_type": "stream",
     "text": [
      "\"['incometaxexpensebenefit', 'retainedearningsaccumulateddeficit', 'propertyplantandequipmentnet'] not in index\"\n"
     ]
    },
    {
     "name": "stderr",
     "output_type": "stream",
     "text": [
      " 39%|█████████████████████████████████████████████████████████████████▉                                                                                                       | 191/490 [01:10<02:10,  2.29it/s]"
     ]
    },
    {
     "name": "stdout",
     "output_type": "stream",
     "text": [
      "\"['cashandcashequivalentsatcarryingvalue'] not in index\"\n"
     ]
    },
    {
     "name": "stderr",
     "output_type": "stream",
     "text": [
      " 40%|███████████████████████████████████████████████████████████████████▉                                                                                                     | 197/490 [01:12<01:43,  2.83it/s]"
     ]
    },
    {
     "name": "stdout",
     "output_type": "stream",
     "text": [
      "\"['entitycommonstocksharesoutstanding'] not in index\"\n"
     ]
    },
    {
     "name": "stderr",
     "output_type": "stream",
     "text": [
      " 43%|█████████████████████████████████████████████████████████████████████████                                                                                                | 212/490 [01:18<02:02,  2.26it/s]"
     ]
    },
    {
     "name": "stdout",
     "output_type": "stream",
     "text": [
      "\"['propertyplantandequipmentnet'] not in index\"\n"
     ]
    },
    {
     "name": "stderr",
     "output_type": "stream",
     "text": [
      " 44%|██████████████████████████████████████████████████████████████████████████▍                                                                                              | 216/490 [01:20<02:26,  1.86it/s]"
     ]
    },
    {
     "name": "stdout",
     "output_type": "stream",
     "text": [
      "\"['cashandcashequivalentsatcarryingvalue'] not in index\"\n"
     ]
    },
    {
     "name": "stderr",
     "output_type": "stream",
     "text": [
      " 45%|███████████████████████████████████████████████████████████████████████████▌                                                                                             | 219/490 [01:21<01:58,  2.28it/s]"
     ]
    },
    {
     "name": "stdout",
     "output_type": "stream",
     "text": [
      "\"['retainedearningsaccumulateddeficit', 'propertyplantandequipmentnet'] not in index\"\n"
     ]
    },
    {
     "name": "stderr",
     "output_type": "stream",
     "text": [
      " 45%|████████████████████████████████████████████████████████████████████████████▏                                                                                            | 221/490 [01:22<01:47,  2.49it/s]"
     ]
    },
    {
     "name": "stdout",
     "output_type": "stream",
     "text": [
      "'earningspersharebasic'\n"
     ]
    },
    {
     "name": "stderr",
     "output_type": "stream",
     "text": [
      " 47%|██████████████████████████████████████████████████████████████████████████████▋                                                                                          | 228/490 [01:24<01:24,  3.09it/s]"
     ]
    },
    {
     "name": "stdout",
     "output_type": "stream",
     "text": [
      "\"['entitycommonstocksharesoutstanding'] not in index\"\n"
     ]
    },
    {
     "name": "stderr",
     "output_type": "stream",
     "text": [
      " 49%|██████████████████████████████████████████████████████████████████████████████████                                                                                       | 238/490 [01:28<01:27,  2.88it/s]"
     ]
    },
    {
     "name": "stdout",
     "output_type": "stream",
     "text": [
      "\"['stockholdersequity'] not in index\"\n"
     ]
    },
    {
     "name": "stderr",
     "output_type": "stream",
     "text": [
      " 52%|███████████████████████████████████████████████████████████████████████████████████████▌                                                                                 | 254/490 [01:33<01:02,  3.79it/s]"
     ]
    },
    {
     "name": "stdout",
     "output_type": "stream",
     "text": [
      "\"['accumulatedothercomprehensiveincomelossnetoftax'] not in index\"\n",
      "\"['accumulatedothercomprehensiveincomelossnetoftax'] not in index\"\n"
     ]
    },
    {
     "name": "stderr",
     "output_type": "stream",
     "text": [
      " 52%|████████████████████████████████████████████████████████████████████████████████████████▎                                                                                | 256/490 [01:34<01:07,  3.46it/s]"
     ]
    },
    {
     "name": "stdout",
     "output_type": "stream",
     "text": [
      "\"['stockholdersequity'] not in index\"\n"
     ]
    },
    {
     "name": "stderr",
     "output_type": "stream",
     "text": [
      " 53%|██████████████████████████████████████████████████████████████████████████████████████████                                                                               | 261/490 [01:37<02:02,  1.87it/s]"
     ]
    },
    {
     "name": "stdout",
     "output_type": "stream",
     "text": [
      "\"['cashandcashequivalentsatcarryingvalue'] not in index\"\n"
     ]
    },
    {
     "name": "stderr",
     "output_type": "stream",
     "text": [
      " 54%|███████████████████████████████████████████████████████████████████████████████████████████                                                                              | 264/490 [01:38<01:37,  2.32it/s]"
     ]
    },
    {
     "name": "stdout",
     "output_type": "stream",
     "text": [
      "\"['propertyplantandequipmentnet'] not in index\"\n"
     ]
    },
    {
     "name": "stderr",
     "output_type": "stream",
     "text": [
      " 56%|██████████████████████████████████████████████████████████████████████████████████████████████▊                                                                          | 275/490 [01:42<01:13,  2.91it/s]"
     ]
    },
    {
     "name": "stdout",
     "output_type": "stream",
     "text": [
      "\"['entitycommonstocksharesoutstanding'] not in index\"\n"
     ]
    },
    {
     "name": "stderr",
     "output_type": "stream",
     "text": [
      "\r",
      " 56%|███████████████████████████████████████████████████████████████████████████████████████████████▏                                                                         | 276/490 [01:42<01:24,  2.52it/s]"
     ]
    },
    {
     "name": "stdout",
     "output_type": "stream",
     "text": [
      "\"['propertyplantandequipmentnet'] not in index\"\n"
     ]
    },
    {
     "name": "stderr",
     "output_type": "stream",
     "text": [
      " 57%|████████████████████████████████████████████████████████████████████████████████████████████████▉                                                                        | 281/490 [01:44<01:30,  2.32it/s]"
     ]
    },
    {
     "name": "stdout",
     "output_type": "stream",
     "text": [
      "\"['cashandcashequivalentsatcarryingvalue'] not in index\"\n"
     ]
    },
    {
     "name": "stderr",
     "output_type": "stream",
     "text": [
      " 60%|█████████████████████████████████████████████████████████████████████████████████████████████████████                                                                    | 293/490 [01:49<01:11,  2.74it/s]"
     ]
    },
    {
     "name": "stdout",
     "output_type": "stream",
     "text": [
      "\"['entitycommonstocksharesoutstanding'] not in index\"\n"
     ]
    },
    {
     "name": "stderr",
     "output_type": "stream",
     "text": [
      " 60%|██████████████████████████████████████████████████████████████████████████████████████████████████████                                                                   | 296/490 [01:50<00:59,  3.27it/s]"
     ]
    },
    {
     "name": "stdout",
     "output_type": "stream",
     "text": [
      "\"['entitycommonstocksharesoutstanding'] not in index\"\n"
     ]
    },
    {
     "name": "stderr",
     "output_type": "stream",
     "text": [
      " 61%|███████████████████████████████████████████████████████████████████████████████████████████████████████▍                                                                 | 300/490 [01:51<00:59,  3.20it/s]"
     ]
    },
    {
     "name": "stdout",
     "output_type": "stream",
     "text": [
      "\"['entitycommonstocksharesoutstanding'] not in index\"\n"
     ]
    },
    {
     "name": "stderr",
     "output_type": "stream",
     "text": [
      "\r",
      " 61%|███████████████████████████████████████████████████████████████████████████████████████████████████████▊                                                                 | 301/490 [01:52<01:31,  2.06it/s]"
     ]
    },
    {
     "name": "stdout",
     "output_type": "stream",
     "text": [
      "\"['propertyplantandequipmentnet'] not in index\"\n"
     ]
    },
    {
     "name": "stderr",
     "output_type": "stream",
     "text": [
      " 63%|██████████████████████████████████████████████████████████████████████████████████████████████████████████▏                                                              | 308/490 [01:54<00:48,  3.72it/s]"
     ]
    },
    {
     "name": "stdout",
     "output_type": "stream",
     "text": [
      "\"['retainedearningsaccumulateddeficit', 'propertyplantandequipmentnet'] not in index\"\n"
     ]
    },
    {
     "name": "stderr",
     "output_type": "stream",
     "text": [
      " 63%|███████████████████████████████████████████████████████████████████████████████████████████████████████████▎                                                             | 311/490 [01:55<01:01,  2.92it/s]"
     ]
    },
    {
     "name": "stdout",
     "output_type": "stream",
     "text": [
      "\"['entitycommonstocksharesoutstanding'] not in index\"\n"
     ]
    },
    {
     "name": "stderr",
     "output_type": "stream",
     "text": [
      " 64%|████████████████████████████████████████████████████████████████████████████████████████████████████████████▎                                                            | 314/490 [01:56<00:56,  3.13it/s]"
     ]
    },
    {
     "name": "stdout",
     "output_type": "stream",
     "text": [
      "'earningspersharebasic'\n"
     ]
    },
    {
     "name": "stderr",
     "output_type": "stream",
     "text": [
      " 66%|████████████████████████████████████████████████████████████████████████████████████████████████████████████████                                                         | 325/490 [02:00<00:59,  2.76it/s]"
     ]
    },
    {
     "name": "stdout",
     "output_type": "stream",
     "text": [
      "\"['entitycommonstocksharesoutstanding'] not in index\"\n"
     ]
    },
    {
     "name": "stderr",
     "output_type": "stream",
     "text": [
      " 68%|██████████████████████████████████████████████████████████████████████████████████████████████████████████████████▏                                                      | 331/490 [02:02<01:01,  2.57it/s]"
     ]
    },
    {
     "name": "stdout",
     "output_type": "stream",
     "text": [
      "\"['cashandcashequivalentsatcarryingvalue'] not in index\"\n"
     ]
    },
    {
     "name": "stderr",
     "output_type": "stream",
     "text": [
      " 68%|███████████████████████████████████████████████████████████████████████████████████████████████████████████████████▌                                                     | 335/490 [02:04<00:59,  2.59it/s]"
     ]
    },
    {
     "name": "stdout",
     "output_type": "stream",
     "text": [
      "\"['stockholdersequity'] not in index\"\n"
     ]
    },
    {
     "name": "stderr",
     "output_type": "stream",
     "text": [
      " 69%|████████████████████████████████████████████████████████████████████████████████████████████████████████████████████▌                                                    | 338/490 [02:05<00:51,  2.95it/s]"
     ]
    },
    {
     "name": "stdout",
     "output_type": "stream",
     "text": [
      "\"['accumulatedothercomprehensiveincomelossnetoftax', 'propertyplantandequipmentnet'] not in index\"\n"
     ]
    },
    {
     "name": "stderr",
     "output_type": "stream",
     "text": [
      " 70%|█████████████████████████████████████████████████████████████████████████████████████████████████████████████████████▉                                                   | 342/490 [02:06<00:39,  3.71it/s]"
     ]
    },
    {
     "name": "stdout",
     "output_type": "stream",
     "text": [
      "\"['accumulatedothercomprehensiveincomelossnetoftax'] not in index\"\n"
     ]
    },
    {
     "name": "stderr",
     "output_type": "stream",
     "text": [
      " 71%|████████████████████████████████████████████████████████████████████████████████████████████████████████████████████████▋                                                | 350/490 [02:08<00:42,  3.28it/s]"
     ]
    },
    {
     "name": "stdout",
     "output_type": "stream",
     "text": [
      "\"['entitycommonstocksharesoutstanding'] not in index\"\n"
     ]
    },
    {
     "name": "stderr",
     "output_type": "stream",
     "text": [
      " 74%|█████████████████████████████████████████████████████████████████████████████████████████████████████████████████████████████▏                                           | 363/490 [02:12<00:45,  2.79it/s]"
     ]
    },
    {
     "name": "stdout",
     "output_type": "stream",
     "text": [
      "\"['accumulatedothercomprehensiveincomelossnetoftax'] not in index\"\n"
     ]
    },
    {
     "name": "stderr",
     "output_type": "stream",
     "text": [
      "\r",
      " 74%|█████████████████████████████████████████████████████████████████████████████████████████████████████████████████████████████▌                                           | 364/490 [02:13<00:57,  2.19it/s]"
     ]
    },
    {
     "name": "stdout",
     "output_type": "stream",
     "text": [
      "\"['cashandcashequivalentsatcarryingvalue'] not in index\"\n"
     ]
    },
    {
     "name": "stderr",
     "output_type": "stream",
     "text": [
      " 75%|███████████████████████████████████████████████████████████████████████████████████████████████████████████████████████████████▎                                         | 369/490 [02:15<00:50,  2.38it/s]"
     ]
    },
    {
     "name": "stdout",
     "output_type": "stream",
     "text": [
      "\"['stockholdersequity'] not in index\"\n"
     ]
    },
    {
     "name": "stderr",
     "output_type": "stream",
     "text": [
      "\r",
      " 76%|███████████████████████████████████████████████████████████████████████████████████████████████████████████████████████████████▌                                         | 370/490 [02:16<00:49,  2.44it/s]"
     ]
    },
    {
     "name": "stdout",
     "output_type": "stream",
     "text": [
      "\"['cashandcashequivalentsatcarryingvalue'] not in index\"\n"
     ]
    },
    {
     "name": "stderr",
     "output_type": "stream",
     "text": [
      " 76%|████████████████████████████████████████████████████████████████████████████████████████████████████████████████████████████████▋                                        | 373/490 [02:17<00:59,  1.96it/s]"
     ]
    },
    {
     "name": "stdout",
     "output_type": "stream",
     "text": [
      "\"['propertyplantandequipmentnet'] not in index\"\n"
     ]
    },
    {
     "name": "stderr",
     "output_type": "stream",
     "text": [
      " 77%|█████████████████████████████████████████████████████████████████████████████████████████████████████████████████████████████████▎                                       | 375/490 [02:18<00:47,  2.40it/s]"
     ]
    },
    {
     "name": "stdout",
     "output_type": "stream",
     "text": [
      "\"['propertyplantandequipmentnet'] not in index\"\n"
     ]
    },
    {
     "name": "stderr",
     "output_type": "stream",
     "text": [
      " 78%|███████████████████████████████████████████████████████████████████████████████████████████████████████████████████████████████████▊                                     | 382/490 [02:20<00:37,  2.91it/s]"
     ]
    },
    {
     "name": "stdout",
     "output_type": "stream",
     "text": [
      "\"['entitycommonstocksharesoutstanding'] not in index\"\n"
     ]
    },
    {
     "name": "stderr",
     "output_type": "stream",
     "text": [
      " 79%|████████████████████████████████████████████████████████████████████████████████████████████████████████████████████████████████████▊                                    | 385/490 [02:22<00:46,  2.25it/s]"
     ]
    },
    {
     "name": "stdout",
     "output_type": "stream",
     "text": [
      "\"['retainedearningsaccumulateddeficit', 'propertyplantandequipmentnet'] not in index\"\n"
     ]
    },
    {
     "name": "stderr",
     "output_type": "stream",
     "text": [
      "\r",
      " 79%|█████████████████████████████████████████████████████████████████████████████████████████████████████████████████████████████████████▏                                   | 386/490 [02:22<00:43,  2.37it/s]"
     ]
    },
    {
     "name": "stdout",
     "output_type": "stream",
     "text": [
      "\"['retainedearningsaccumulateddeficit'] not in index\"\n"
     ]
    },
    {
     "name": "stderr",
     "output_type": "stream",
     "text": [
      " 83%|████████████████████████████████████████████████████████████████████████████████████████████████████████████████████████████████████████████                             | 406/490 [02:30<00:34,  2.40it/s]"
     ]
    },
    {
     "name": "stdout",
     "output_type": "stream",
     "text": [
      "\"['propertyplantandequipmentnet', 'entitycommonstocksharesoutstanding'] not in index\"\n"
     ]
    },
    {
     "name": "stderr",
     "output_type": "stream",
     "text": [
      " 85%|███████████████████████████████████████████████████████████████████████████████████████████████████████████████████████████████████████████████▏                         | 415/490 [02:34<00:36,  2.07it/s]"
     ]
    },
    {
     "name": "stdout",
     "output_type": "stream",
     "text": [
      "\"['cashandcashequivalentsatcarryingvalue'] not in index\"\n"
     ]
    },
    {
     "name": "stderr",
     "output_type": "stream",
     "text": [
      " 85%|████████████████████████████████████████████████████████████████████████████████████████████████████████████████████████████████████████████████▏                        | 418/490 [02:34<00:21,  3.28it/s]"
     ]
    },
    {
     "name": "stdout",
     "output_type": "stream",
     "text": [
      "\"['accumulatedothercomprehensiveincomelossnetoftax', 'propertyplantandequipmentnet'] not in index\"\n"
     ]
    },
    {
     "name": "stderr",
     "output_type": "stream",
     "text": [
      " 86%|████████████████████████████████████████████████████████████████████████████████████████████████████████████████████████████████████████████████▊                        | 420/490 [02:35<00:19,  3.55it/s]"
     ]
    },
    {
     "name": "stdout",
     "output_type": "stream",
     "text": [
      "\"['retainedearningsaccumulateddeficit'] not in index\"\n"
     ]
    },
    {
     "name": "stderr",
     "output_type": "stream",
     "text": [
      " 86%|█████████████████████████████████████████████████████████████████████████████████████████████████████████████████████████████████████████████████▌                       | 422/490 [02:35<00:19,  3.47it/s]"
     ]
    },
    {
     "name": "stdout",
     "output_type": "stream",
     "text": [
      "\"['retainedearningsaccumulateddeficit'] not in index\"\n"
     ]
    },
    {
     "name": "stderr",
     "output_type": "stream",
     "text": [
      " 89%|███████████████████████████████████████████████████████████████████████████████████████████████████████████████████████████████████████████████████████                  | 438/490 [02:41<00:16,  3.19it/s]"
     ]
    },
    {
     "name": "stdout",
     "output_type": "stream",
     "text": [
      "\"['propertyplantandequipmentnet', 'cashandcashequivalentsatcarryingvalue'] not in index\"\n"
     ]
    },
    {
     "name": "stderr",
     "output_type": "stream",
     "text": [
      " 90%|███████████████████████████████████████████████████████████████████████████████████████████████████████████████████████████████████████████████████████▊                 | 440/490 [02:41<00:19,  2.58it/s]"
     ]
    },
    {
     "name": "stdout",
     "output_type": "stream",
     "text": [
      "\"['stockholdersequity'] not in index\"\n"
     ]
    },
    {
     "name": "stderr",
     "output_type": "stream",
     "text": [
      " 90%|████████████████████████████████████████████████████████████████████████████████████████████████████████████████████████████████████████████████████████▊                | 443/490 [02:42<00:13,  3.39it/s]"
     ]
    },
    {
     "name": "stdout",
     "output_type": "stream",
     "text": [
      "'earningspersharebasic'\n"
     ]
    },
    {
     "name": "stderr",
     "output_type": "stream",
     "text": [
      " 91%|█████████████████████████████████████████████████████████████████████████████████████████████████████████████████████████████████████████████████████████▊               | 446/490 [02:44<00:16,  2.70it/s]"
     ]
    },
    {
     "name": "stdout",
     "output_type": "stream",
     "text": [
      "\"['retainedearningsaccumulateddeficit', 'propertyplantandequipmentnet'] not in index\"\n"
     ]
    },
    {
     "name": "stderr",
     "output_type": "stream",
     "text": [
      "\r",
      " 91%|██████████████████████████████████████████████████████████████████████████████████████████████████████████████████████████████████████████████████████████▏              | 447/490 [02:44<00:14,  3.04it/s]"
     ]
    },
    {
     "name": "stdout",
     "output_type": "stream",
     "text": [
      "\"['entitycommonstocksharesoutstanding'] not in index\"\n"
     ]
    },
    {
     "name": "stderr",
     "output_type": "stream",
     "text": [
      " 92%|███████████████████████████████████████████████████████████████████████████████████████████████████████████████████████████████████████████████████████████▏             | 450/490 [02:45<00:13,  3.01it/s]"
     ]
    },
    {
     "name": "stdout",
     "output_type": "stream",
     "text": [
      "\"['entitycommonstocksharesoutstanding'] not in index\"\n"
     ]
    },
    {
     "name": "stderr",
     "output_type": "stream",
     "text": [
      " 92%|████████████████████████████████████████████████████████████████████████████████████████████████████████████████████████████████████████████████████████████▏            | 453/490 [02:46<00:11,  3.17it/s]"
     ]
    },
    {
     "name": "stdout",
     "output_type": "stream",
     "text": [
      "\"['entitycommonstocksharesoutstanding'] not in index\"\n"
     ]
    },
    {
     "name": "stderr",
     "output_type": "stream",
     "text": [
      " 93%|████████████████████████████████████████████████████████████████████████████████████████████████████████████████████████████████████████████████████████████▉            | 455/490 [02:46<00:12,  2.90it/s]"
     ]
    },
    {
     "name": "stdout",
     "output_type": "stream",
     "text": [
      "\"['propertyplantandequipmentnet'] not in index\"\n"
     ]
    },
    {
     "name": "stderr",
     "output_type": "stream",
     "text": [
      " 94%|███████████████████████████████████████████████████████████████████████████████████████████████████████████████████████████████████████████████████████████████▋         | 463/490 [02:49<00:08,  3.21it/s]"
     ]
    },
    {
     "name": "stdout",
     "output_type": "stream",
     "text": [
      "'earningspersharebasic'\n"
     ]
    },
    {
     "name": "stderr",
     "output_type": "stream",
     "text": [
      "\r",
      " 95%|████████████████████████████████████████████████████████████████████████████████████████████████████████████████████████████████████████████████████████████████         | 464/490 [02:50<00:08,  3.09it/s]"
     ]
    },
    {
     "name": "stdout",
     "output_type": "stream",
     "text": [
      "\"['propertyplantandequipmentnet'] not in index\"\n"
     ]
    },
    {
     "name": "stderr",
     "output_type": "stream",
     "text": [
      " 97%|███████████████████████████████████████████████████████████████████████████████████████████████████████████████████████████████████████████████████████████████████▏     | 473/490 [02:53<00:09,  1.89it/s]"
     ]
    },
    {
     "name": "stdout",
     "output_type": "stream",
     "text": [
      "\"['cashandcashequivalentsatcarryingvalue'] not in index\"\n"
     ]
    },
    {
     "name": "stderr",
     "output_type": "stream",
     "text": [
      "\r",
      " 97%|███████████████████████████████████████████████████████████████████████████████████████████████████████████████████████████████████████████████████████████████████▍     | 474/490 [02:54<00:08,  1.97it/s]"
     ]
    },
    {
     "name": "stdout",
     "output_type": "stream",
     "text": [
      "\"['propertyplantandequipmentnet'] not in index\"\n"
     ]
    },
    {
     "name": "stderr",
     "output_type": "stream",
     "text": [
      "100%|████████████████████████████████████████████████████████████████████████████████████████████████████████████████████████████████████████████████████████████████████████▋| 489/490 [03:00<00:00,  1.87it/s]"
     ]
    },
    {
     "name": "stdout",
     "output_type": "stream",
     "text": [
      "\"['cashandcashequivalentsatcarryingvalue'] not in index\"\n"
     ]
    },
    {
     "name": "stderr",
     "output_type": "stream",
     "text": [
      "100%|█████████████████████████████████████████████████████████████████████████████████████████████████████████████████████████████████████████████████████████████████████████| 490/490 [03:00<00:00,  2.71it/s]\n"
     ]
    }
   ],
   "source": [
    "market.connect()\n",
    "sec.connect()\n",
    "training_sets = []\n",
    "for ticker in tqdm(sp500[\"ticker\"].unique()):\n",
    "    try:\n",
    "        cik = int(sp500[sp500[\"ticker\"]==ticker][\"CIK\"])\n",
    "        prices = market.retrieve_ticker_prices(\"prices\",ticker)\n",
    "        prices = p.column_date_processing(prices)\n",
    "        prices[\"year\"] = [x.year for x in prices[\"date\"]]\n",
    "        prices[\"quarter\"] = [x.quarter for x in prices[\"date\"]]\n",
    "        filing = sec.retrieve_filing_data(cik)\n",
    "        filing = p.column_date_processing(filing)\n",
    "        filing = filing.groupby([\"year\",\"quarter\"]).mean().reset_index()\n",
    "        ticker_data = prices.copy()\n",
    "        ticker_data.sort_values(\"date\",ascending=True,inplace=True)\n",
    "        ticker_data[\"adjclose\"] = [float(x) for x in ticker_data[\"adjclose\"]]\n",
    "        ticker_data = ticker_data.groupby([\"year\",\"quarter\"]).mean().reset_index()\n",
    "        ticker_data.dropna(inplace=True)\n",
    "        ticker_data[\"ticker\"] = ticker\n",
    "        ticker_data = ticker_data.merge(filing,on=[\"year\",\"quarter\"],how=\"left\").reset_index()\n",
    "        ticker_data[\"y\"] = ticker_data[\"earningspersharebasic\"].shift(-4)\n",
    "        ticker_data = ticker_data[included_columns]\n",
    "        training_sets.append(ticker_data)\n",
    "    except Exception as e:\n",
    "        print(str(e))\n",
    "        continue\n",
    "market.disconnect()\n",
    "sec.disconnect()"
   ]
  },
  {
   "cell_type": "code",
   "execution_count": 15,
   "id": "0ea5d66b",
   "metadata": {},
   "outputs": [],
   "source": [
    "data = pd.concat(training_sets)"
   ]
  },
  {
   "cell_type": "code",
   "execution_count": 16,
   "id": "736f208f",
   "metadata": {},
   "outputs": [],
   "source": [
    "data = data.dropna()"
   ]
  },
  {
   "cell_type": "code",
   "execution_count": 17,
   "id": "dd5ef196",
   "metadata": {},
   "outputs": [
    {
     "data": {
      "text/html": [
       "<div>\n",
       "<style scoped>\n",
       "    .dataframe tbody tr th:only-of-type {\n",
       "        vertical-align: middle;\n",
       "    }\n",
       "\n",
       "    .dataframe tbody tr th {\n",
       "        vertical-align: top;\n",
       "    }\n",
       "\n",
       "    .dataframe thead th {\n",
       "        text-align: right;\n",
       "    }\n",
       "</style>\n",
       "<table border=\"1\" class=\"dataframe\">\n",
       "  <thead>\n",
       "    <tr style=\"text-align: right;\">\n",
       "      <th></th>\n",
       "      <th>year</th>\n",
       "      <th>quarter</th>\n",
       "      <th>ticker</th>\n",
       "      <th>adjclose</th>\n",
       "      <th>y</th>\n",
       "      <th>assets</th>\n",
       "      <th>liabilitiesandstockholdersequity</th>\n",
       "      <th>incometaxexpensebenefit</th>\n",
       "      <th>retainedearningsaccumulateddeficit</th>\n",
       "      <th>accumulatedothercomprehensiveincomelossnetoftax</th>\n",
       "      <th>earningspersharebasic</th>\n",
       "      <th>earningspersharediluted</th>\n",
       "      <th>propertyplantandequipmentnet</th>\n",
       "      <th>cashandcashequivalentsatcarryingvalue</th>\n",
       "      <th>entitycommonstocksharesoutstanding</th>\n",
       "      <th>weightedaveragenumberofdilutedsharesoutstanding</th>\n",
       "      <th>weightedaveragenumberofsharesoutstandingbasic</th>\n",
       "      <th>stockholdersequity</th>\n",
       "    </tr>\n",
       "  </thead>\n",
       "  <tbody>\n",
       "    <tr>\n",
       "      <th>48</th>\n",
       "      <td>2012</td>\n",
       "      <td>1</td>\n",
       "      <td>MMM</td>\n",
       "      <td>62.705929</td>\n",
       "      <td>2.783636</td>\n",
       "      <td>2.967400e+10</td>\n",
       "      <td>3.088600e+10</td>\n",
       "      <td>1.551333e+09</td>\n",
       "      <td>2.717150e+10</td>\n",
       "      <td>-4.284000e+09</td>\n",
       "      <td>2.555455</td>\n",
       "      <td>2.519091</td>\n",
       "      <td>7.472500e+09</td>\n",
       "      <td>2.621250e+09</td>\n",
       "      <td>694543763.0</td>\n",
       "      <td>7.170667e+08</td>\n",
       "      <td>7.075667e+08</td>\n",
       "      <td>1.554150e+10</td>\n",
       "    </tr>\n",
       "    <tr>\n",
       "      <th>49</th>\n",
       "      <td>2012</td>\n",
       "      <td>2</td>\n",
       "      <td>MMM</td>\n",
       "      <td>62.787037</td>\n",
       "      <td>2.201818</td>\n",
       "      <td>3.181550e+10</td>\n",
       "      <td>3.181550e+10</td>\n",
       "      <td>4.520000e+08</td>\n",
       "      <td>2.860300e+10</td>\n",
       "      <td>-4.905000e+09</td>\n",
       "      <td>1.565000</td>\n",
       "      <td>1.540000</td>\n",
       "      <td>7.710500e+09</td>\n",
       "      <td>2.504800e+09</td>\n",
       "      <td>693872048.0</td>\n",
       "      <td>7.162500e+08</td>\n",
       "      <td>7.041500e+08</td>\n",
       "      <td>1.580100e+10</td>\n",
       "    </tr>\n",
       "    <tr>\n",
       "      <th>50</th>\n",
       "      <td>2012</td>\n",
       "      <td>3</td>\n",
       "      <td>MMM</td>\n",
       "      <td>66.710493</td>\n",
       "      <td>2.522500</td>\n",
       "      <td>3.247750e+10</td>\n",
       "      <td>3.247750e+10</td>\n",
       "      <td>6.990000e+08</td>\n",
       "      <td>2.890650e+10</td>\n",
       "      <td>-5.018500e+09</td>\n",
       "      <td>2.440000</td>\n",
       "      <td>2.400000</td>\n",
       "      <td>7.686000e+09</td>\n",
       "      <td>3.070000e+09</td>\n",
       "      <td>691319463.0</td>\n",
       "      <td>7.149750e+08</td>\n",
       "      <td>7.039250e+08</td>\n",
       "      <td>1.591300e+10</td>\n",
       "    </tr>\n",
       "    <tr>\n",
       "      <th>51</th>\n",
       "      <td>2012</td>\n",
       "      <td>4</td>\n",
       "      <td>MMM</td>\n",
       "      <td>67.131673</td>\n",
       "      <td>3.410000</td>\n",
       "      <td>3.304750e+10</td>\n",
       "      <td>3.304750e+10</td>\n",
       "      <td>9.145000e+08</td>\n",
       "      <td>2.924900e+10</td>\n",
       "      <td>-4.786500e+09</td>\n",
       "      <td>3.217500</td>\n",
       "      <td>3.172500</td>\n",
       "      <td>7.802500e+09</td>\n",
       "      <td>3.000250e+09</td>\n",
       "      <td>691931278.0</td>\n",
       "      <td>7.113250e+08</td>\n",
       "      <td>7.015750e+08</td>\n",
       "      <td>1.653200e+10</td>\n",
       "    </tr>\n",
       "    <tr>\n",
       "      <th>52</th>\n",
       "      <td>2013</td>\n",
       "      <td>1</td>\n",
       "      <td>MMM</td>\n",
       "      <td>75.359447</td>\n",
       "      <td>2.955455</td>\n",
       "      <td>3.188267e+10</td>\n",
       "      <td>3.274600e+10</td>\n",
       "      <td>1.702000e+09</td>\n",
       "      <td>2.951350e+10</td>\n",
       "      <td>-4.887500e+09</td>\n",
       "      <td>2.783636</td>\n",
       "      <td>2.743636</td>\n",
       "      <td>8.022000e+09</td>\n",
       "      <td>2.879750e+09</td>\n",
       "      <td>689990255.0</td>\n",
       "      <td>7.159333e+08</td>\n",
       "      <td>7.053667e+08</td>\n",
       "      <td>1.649750e+10</td>\n",
       "    </tr>\n",
       "    <tr>\n",
       "      <th>...</th>\n",
       "      <td>...</td>\n",
       "      <td>...</td>\n",
       "      <td>...</td>\n",
       "      <td>...</td>\n",
       "      <td>...</td>\n",
       "      <td>...</td>\n",
       "      <td>...</td>\n",
       "      <td>...</td>\n",
       "      <td>...</td>\n",
       "      <td>...</td>\n",
       "      <td>...</td>\n",
       "      <td>...</td>\n",
       "      <td>...</td>\n",
       "      <td>...</td>\n",
       "      <td>...</td>\n",
       "      <td>...</td>\n",
       "      <td>...</td>\n",
       "      <td>...</td>\n",
       "    </tr>\n",
       "    <tr>\n",
       "      <th>30</th>\n",
       "      <td>2020</td>\n",
       "      <td>3</td>\n",
       "      <td>ZTS</td>\n",
       "      <td>150.821274</td>\n",
       "      <td>1.450000</td>\n",
       "      <td>1.230700e+10</td>\n",
       "      <td>1.230700e+10</td>\n",
       "      <td>1.307500e+08</td>\n",
       "      <td>4.737500e+09</td>\n",
       "      <td>-7.910000e+08</td>\n",
       "      <td>1.167500</td>\n",
       "      <td>1.160000</td>\n",
       "      <td>1.975500e+09</td>\n",
       "      <td>2.643500e+09</td>\n",
       "      <td>475144704.0</td>\n",
       "      <td>4.804250e+08</td>\n",
       "      <td>4.771750e+08</td>\n",
       "      <td>2.845000e+09</td>\n",
       "    </tr>\n",
       "    <tr>\n",
       "      <th>31</th>\n",
       "      <td>2020</td>\n",
       "      <td>4</td>\n",
       "      <td>ZTS</td>\n",
       "      <td>159.798699</td>\n",
       "      <td>2.070000</td>\n",
       "      <td>1.263500e+10</td>\n",
       "      <td>1.263500e+10</td>\n",
       "      <td>1.897500e+08</td>\n",
       "      <td>4.976500e+09</td>\n",
       "      <td>-7.305000e+08</td>\n",
       "      <td>1.735000</td>\n",
       "      <td>1.720000</td>\n",
       "      <td>2.019500e+09</td>\n",
       "      <td>2.794000e+09</td>\n",
       "      <td>475267819.0</td>\n",
       "      <td>4.802000e+08</td>\n",
       "      <td>4.768750e+08</td>\n",
       "      <td>3.155000e+09</td>\n",
       "    </tr>\n",
       "    <tr>\n",
       "      <th>33</th>\n",
       "      <td>2021</td>\n",
       "      <td>2</td>\n",
       "      <td>ZTS</td>\n",
       "      <td>171.169916</td>\n",
       "      <td>1.220000</td>\n",
       "      <td>1.370250e+10</td>\n",
       "      <td>1.370250e+10</td>\n",
       "      <td>1.015000e+08</td>\n",
       "      <td>5.879000e+09</td>\n",
       "      <td>-6.815000e+08</td>\n",
       "      <td>1.035000</td>\n",
       "      <td>1.025000</td>\n",
       "      <td>2.214500e+09</td>\n",
       "      <td>3.603000e+09</td>\n",
       "      <td>474766701.0</td>\n",
       "      <td>4.784500e+08</td>\n",
       "      <td>4.755500e+08</td>\n",
       "      <td>3.929000e+09</td>\n",
       "    </tr>\n",
       "    <tr>\n",
       "      <th>34</th>\n",
       "      <td>2021</td>\n",
       "      <td>3</td>\n",
       "      <td>ZTS</td>\n",
       "      <td>199.153900</td>\n",
       "      <td>1.712500</td>\n",
       "      <td>1.383900e+10</td>\n",
       "      <td>1.383900e+10</td>\n",
       "      <td>1.662500e+08</td>\n",
       "      <td>6.075500e+09</td>\n",
       "      <td>-6.765000e+08</td>\n",
       "      <td>1.450000</td>\n",
       "      <td>1.442500</td>\n",
       "      <td>2.244000e+09</td>\n",
       "      <td>3.631000e+09</td>\n",
       "      <td>473944193.0</td>\n",
       "      <td>4.778000e+08</td>\n",
       "      <td>4.751750e+08</td>\n",
       "      <td>4.059500e+09</td>\n",
       "    </tr>\n",
       "    <tr>\n",
       "      <th>35</th>\n",
       "      <td>2021</td>\n",
       "      <td>4</td>\n",
       "      <td>ZTS</td>\n",
       "      <td>216.397228</td>\n",
       "      <td>2.307500</td>\n",
       "      <td>1.365700e+10</td>\n",
       "      <td>1.365700e+10</td>\n",
       "      <td>2.210000e+08</td>\n",
       "      <td>6.351500e+09</td>\n",
       "      <td>-6.985000e+08</td>\n",
       "      <td>2.070000</td>\n",
       "      <td>2.057500</td>\n",
       "      <td>2.270000e+09</td>\n",
       "      <td>3.439000e+09</td>\n",
       "      <td>473125822.0</td>\n",
       "      <td>4.776000e+08</td>\n",
       "      <td>4.749500e+08</td>\n",
       "      <td>4.224000e+09</td>\n",
       "    </tr>\n",
       "  </tbody>\n",
       "</table>\n",
       "<p>11401 rows × 18 columns</p>\n",
       "</div>"
      ],
      "text/plain": [
       "    year  quarter ticker    adjclose         y        assets  \\\n",
       "48  2012        1    MMM   62.705929  2.783636  2.967400e+10   \n",
       "49  2012        2    MMM   62.787037  2.201818  3.181550e+10   \n",
       "50  2012        3    MMM   66.710493  2.522500  3.247750e+10   \n",
       "51  2012        4    MMM   67.131673  3.410000  3.304750e+10   \n",
       "52  2013        1    MMM   75.359447  2.955455  3.188267e+10   \n",
       "..   ...      ...    ...         ...       ...           ...   \n",
       "30  2020        3    ZTS  150.821274  1.450000  1.230700e+10   \n",
       "31  2020        4    ZTS  159.798699  2.070000  1.263500e+10   \n",
       "33  2021        2    ZTS  171.169916  1.220000  1.370250e+10   \n",
       "34  2021        3    ZTS  199.153900  1.712500  1.383900e+10   \n",
       "35  2021        4    ZTS  216.397228  2.307500  1.365700e+10   \n",
       "\n",
       "    liabilitiesandstockholdersequity  incometaxexpensebenefit  \\\n",
       "48                      3.088600e+10             1.551333e+09   \n",
       "49                      3.181550e+10             4.520000e+08   \n",
       "50                      3.247750e+10             6.990000e+08   \n",
       "51                      3.304750e+10             9.145000e+08   \n",
       "52                      3.274600e+10             1.702000e+09   \n",
       "..                               ...                      ...   \n",
       "30                      1.230700e+10             1.307500e+08   \n",
       "31                      1.263500e+10             1.897500e+08   \n",
       "33                      1.370250e+10             1.015000e+08   \n",
       "34                      1.383900e+10             1.662500e+08   \n",
       "35                      1.365700e+10             2.210000e+08   \n",
       "\n",
       "    retainedearningsaccumulateddeficit  \\\n",
       "48                        2.717150e+10   \n",
       "49                        2.860300e+10   \n",
       "50                        2.890650e+10   \n",
       "51                        2.924900e+10   \n",
       "52                        2.951350e+10   \n",
       "..                                 ...   \n",
       "30                        4.737500e+09   \n",
       "31                        4.976500e+09   \n",
       "33                        5.879000e+09   \n",
       "34                        6.075500e+09   \n",
       "35                        6.351500e+09   \n",
       "\n",
       "    accumulatedothercomprehensiveincomelossnetoftax  earningspersharebasic  \\\n",
       "48                                    -4.284000e+09               2.555455   \n",
       "49                                    -4.905000e+09               1.565000   \n",
       "50                                    -5.018500e+09               2.440000   \n",
       "51                                    -4.786500e+09               3.217500   \n",
       "52                                    -4.887500e+09               2.783636   \n",
       "..                                              ...                    ...   \n",
       "30                                    -7.910000e+08               1.167500   \n",
       "31                                    -7.305000e+08               1.735000   \n",
       "33                                    -6.815000e+08               1.035000   \n",
       "34                                    -6.765000e+08               1.450000   \n",
       "35                                    -6.985000e+08               2.070000   \n",
       "\n",
       "    earningspersharediluted  propertyplantandequipmentnet  \\\n",
       "48                 2.519091                  7.472500e+09   \n",
       "49                 1.540000                  7.710500e+09   \n",
       "50                 2.400000                  7.686000e+09   \n",
       "51                 3.172500                  7.802500e+09   \n",
       "52                 2.743636                  8.022000e+09   \n",
       "..                      ...                           ...   \n",
       "30                 1.160000                  1.975500e+09   \n",
       "31                 1.720000                  2.019500e+09   \n",
       "33                 1.025000                  2.214500e+09   \n",
       "34                 1.442500                  2.244000e+09   \n",
       "35                 2.057500                  2.270000e+09   \n",
       "\n",
       "    cashandcashequivalentsatcarryingvalue  entitycommonstocksharesoutstanding  \\\n",
       "48                           2.621250e+09                         694543763.0   \n",
       "49                           2.504800e+09                         693872048.0   \n",
       "50                           3.070000e+09                         691319463.0   \n",
       "51                           3.000250e+09                         691931278.0   \n",
       "52                           2.879750e+09                         689990255.0   \n",
       "..                                    ...                                 ...   \n",
       "30                           2.643500e+09                         475144704.0   \n",
       "31                           2.794000e+09                         475267819.0   \n",
       "33                           3.603000e+09                         474766701.0   \n",
       "34                           3.631000e+09                         473944193.0   \n",
       "35                           3.439000e+09                         473125822.0   \n",
       "\n",
       "    weightedaveragenumberofdilutedsharesoutstanding  \\\n",
       "48                                     7.170667e+08   \n",
       "49                                     7.162500e+08   \n",
       "50                                     7.149750e+08   \n",
       "51                                     7.113250e+08   \n",
       "52                                     7.159333e+08   \n",
       "..                                              ...   \n",
       "30                                     4.804250e+08   \n",
       "31                                     4.802000e+08   \n",
       "33                                     4.784500e+08   \n",
       "34                                     4.778000e+08   \n",
       "35                                     4.776000e+08   \n",
       "\n",
       "    weightedaveragenumberofsharesoutstandingbasic  stockholdersequity  \n",
       "48                                   7.075667e+08        1.554150e+10  \n",
       "49                                   7.041500e+08        1.580100e+10  \n",
       "50                                   7.039250e+08        1.591300e+10  \n",
       "51                                   7.015750e+08        1.653200e+10  \n",
       "52                                   7.053667e+08        1.649750e+10  \n",
       "..                                            ...                 ...  \n",
       "30                                   4.771750e+08        2.845000e+09  \n",
       "31                                   4.768750e+08        3.155000e+09  \n",
       "33                                   4.755500e+08        3.929000e+09  \n",
       "34                                   4.751750e+08        4.059500e+09  \n",
       "35                                   4.749500e+08        4.224000e+09  \n",
       "\n",
       "[11401 rows x 18 columns]"
      ]
     },
     "execution_count": 17,
     "metadata": {},
     "output_type": "execute_result"
    }
   ],
   "source": [
    "data"
   ]
  },
  {
   "cell_type": "code",
   "execution_count": 18,
   "id": "23ad6193",
   "metadata": {
    "scrolled": true
   },
   "outputs": [
    {
     "name": "stderr",
     "output_type": "stream",
     "text": [
      "100%|█████████████████████████████████████████████████████████████████████████████████████████████████████████████████████████████████████████████████████████████████████████████| 7/7 [01:18<00:00, 11.17s/it]\n"
     ]
    }
   ],
   "source": [
    "fin.connect()\n",
    "years = 4\n",
    "for modeler in [umod]:\n",
    "    for year in tqdm(range(2016,2023)):\n",
    "        training_slice = data[(data[\"year\"]<year) & (data[\"year\"] >= year - years)].reset_index(drop=True)\n",
    "        prediction_set = data[data[\"year\"]==year].reset_index(drop=True)\n",
    "        set_name = \"sim\"\n",
    "        stuff = modeler.model(training_slice,prediction_set,factors,tf=False)\n",
    "        stuff[\"training_years\"] = years\n",
    "        fin.store(set_name,stuff)\n",
    "fin.disconnect()"
   ]
  },
  {
   "cell_type": "code",
   "execution_count": 19,
   "id": "38befc1e",
   "metadata": {},
   "outputs": [
    {
     "data": {
      "text/html": [
       "<div>\n",
       "<style scoped>\n",
       "    .dataframe tbody tr th:only-of-type {\n",
       "        vertical-align: middle;\n",
       "    }\n",
       "\n",
       "    .dataframe tbody tr th {\n",
       "        vertical-align: top;\n",
       "    }\n",
       "\n",
       "    .dataframe thead th {\n",
       "        text-align: right;\n",
       "    }\n",
       "</style>\n",
       "<table border=\"1\" class=\"dataframe\">\n",
       "  <thead>\n",
       "    <tr style=\"text-align: right;\">\n",
       "      <th></th>\n",
       "      <th>year</th>\n",
       "      <th>quarter</th>\n",
       "      <th>ticker</th>\n",
       "      <th>adjclose</th>\n",
       "      <th>y</th>\n",
       "      <th>assets</th>\n",
       "      <th>liabilitiesandstockholdersequity</th>\n",
       "      <th>incometaxexpensebenefit</th>\n",
       "      <th>retainedearningsaccumulateddeficit</th>\n",
       "      <th>accumulatedothercomprehensiveincomelossnetoftax</th>\n",
       "      <th>...</th>\n",
       "      <th>entitycommonstocksharesoutstanding</th>\n",
       "      <th>weightedaveragenumberofdilutedsharesoutstanding</th>\n",
       "      <th>weightedaveragenumberofsharesoutstandingbasic</th>\n",
       "      <th>stockholdersequity</th>\n",
       "      <th>xgb_prediction</th>\n",
       "      <th>xgb_score</th>\n",
       "      <th>cat_prediction</th>\n",
       "      <th>cat_score</th>\n",
       "      <th>prediction</th>\n",
       "      <th>training_years</th>\n",
       "    </tr>\n",
       "  </thead>\n",
       "  <tbody>\n",
       "    <tr>\n",
       "      <th>0</th>\n",
       "      <td>2022</td>\n",
       "      <td>1</td>\n",
       "      <td>ABT</td>\n",
       "      <td>121.161350</td>\n",
       "      <td>3.476667</td>\n",
       "      <td>7.387200e+10</td>\n",
       "      <td>7.387200e+10</td>\n",
       "      <td>6.756667e+08</td>\n",
       "      <td>2.957750e+10</td>\n",
       "      <td>-8.595000e+09</td>\n",
       "      <td>...</td>\n",
       "      <td>1.763482e+09</td>\n",
       "      <td>1.785333e+09</td>\n",
       "      <td>1.772000e+09</td>\n",
       "      <td>3.429300e+10</td>\n",
       "      <td>2.808381</td>\n",
       "      <td>0.659322</td>\n",
       "      <td>-6854.765698</td>\n",
       "      <td>-0.001547</td>\n",
       "      <td>-3425.978658</td>\n",
       "      <td>4</td>\n",
       "    </tr>\n",
       "    <tr>\n",
       "      <th>1</th>\n",
       "      <td>2022</td>\n",
       "      <td>1</td>\n",
       "      <td>ABBV</td>\n",
       "      <td>138.456888</td>\n",
       "      <td>4.312500</td>\n",
       "      <td>1.485470e+11</td>\n",
       "      <td>1.485470e+11</td>\n",
       "      <td>2.533333e+08</td>\n",
       "      <td>2.091000e+09</td>\n",
       "      <td>-3.008000e+09</td>\n",
       "      <td>...</td>\n",
       "      <td>1.768754e+09</td>\n",
       "      <td>1.644667e+09</td>\n",
       "      <td>1.639333e+09</td>\n",
       "      <td>1.424200e+10</td>\n",
       "      <td>3.489667</td>\n",
       "      <td>0.659322</td>\n",
       "      <td>113609.381941</td>\n",
       "      <td>-0.001547</td>\n",
       "      <td>56806.435804</td>\n",
       "      <td>4</td>\n",
       "    </tr>\n",
       "    <tr>\n",
       "      <th>2</th>\n",
       "      <td>2022</td>\n",
       "      <td>1</td>\n",
       "      <td>ATVI</td>\n",
       "      <td>77.442590</td>\n",
       "      <td>2.753333</td>\n",
       "      <td>2.408250e+10</td>\n",
       "      <td>2.408250e+10</td>\n",
       "      <td>3.380000e+08</td>\n",
       "      <td>1.085800e+10</td>\n",
       "      <td>-6.000000e+08</td>\n",
       "      <td>...</td>\n",
       "      <td>7.792349e+08</td>\n",
       "      <td>7.776667e+08</td>\n",
       "      <td>7.716667e+08</td>\n",
       "      <td>1.420825e+10</td>\n",
       "      <td>2.488876</td>\n",
       "      <td>0.659322</td>\n",
       "      <td>-86874.956921</td>\n",
       "      <td>-0.001547</td>\n",
       "      <td>-43436.234022</td>\n",
       "      <td>4</td>\n",
       "    </tr>\n",
       "    <tr>\n",
       "      <th>3</th>\n",
       "      <td>2022</td>\n",
       "      <td>1</td>\n",
       "      <td>ADBE</td>\n",
       "      <td>481.100806</td>\n",
       "      <td>6.545000</td>\n",
       "      <td>2.618550e+10</td>\n",
       "      <td>2.618550e+10</td>\n",
       "      <td>1.210833e+08</td>\n",
       "      <td>2.309550e+10</td>\n",
       "      <td>-1.522500e+08</td>\n",
       "      <td>...</td>\n",
       "      <td>4.721000e+08</td>\n",
       "      <td>4.825917e+08</td>\n",
       "      <td>4.786000e+08</td>\n",
       "      <td>1.291688e+10</td>\n",
       "      <td>6.533318</td>\n",
       "      <td>0.659322</td>\n",
       "      <td>-56402.802442</td>\n",
       "      <td>-0.001547</td>\n",
       "      <td>-28198.134562</td>\n",
       "      <td>4</td>\n",
       "    </tr>\n",
       "    <tr>\n",
       "      <th>4</th>\n",
       "      <td>2022</td>\n",
       "      <td>1</td>\n",
       "      <td>ADP</td>\n",
       "      <td>209.187251</td>\n",
       "      <td>2.692500</td>\n",
       "      <td>5.393755e+10</td>\n",
       "      <td>5.393755e+10</td>\n",
       "      <td>2.912500e+08</td>\n",
       "      <td>1.973145e+10</td>\n",
       "      <td>-1.589000e+08</td>\n",
       "      <td>...</td>\n",
       "      <td>4.200453e+08</td>\n",
       "      <td>4.258500e+08</td>\n",
       "      <td>4.239500e+08</td>\n",
       "      <td>5.588583e+09</td>\n",
       "      <td>2.538036</td>\n",
       "      <td>0.659322</td>\n",
       "      <td>9373.473027</td>\n",
       "      <td>-0.001547</td>\n",
       "      <td>4688.005531</td>\n",
       "      <td>4</td>\n",
       "    </tr>\n",
       "    <tr>\n",
       "      <th>...</th>\n",
       "      <td>...</td>\n",
       "      <td>...</td>\n",
       "      <td>...</td>\n",
       "      <td>...</td>\n",
       "      <td>...</td>\n",
       "      <td>...</td>\n",
       "      <td>...</td>\n",
       "      <td>...</td>\n",
       "      <td>...</td>\n",
       "      <td>...</td>\n",
       "      <td>...</td>\n",
       "      <td>...</td>\n",
       "      <td>...</td>\n",
       "      <td>...</td>\n",
       "      <td>...</td>\n",
       "      <td>...</td>\n",
       "      <td>...</td>\n",
       "      <td>...</td>\n",
       "      <td>...</td>\n",
       "      <td>...</td>\n",
       "      <td>...</td>\n",
       "    </tr>\n",
       "    <tr>\n",
       "      <th>257</th>\n",
       "      <td>2022</td>\n",
       "      <td>1</td>\n",
       "      <td>GWW</td>\n",
       "      <td>485.266612</td>\n",
       "      <td>21.013333</td>\n",
       "      <td>6.443500e+09</td>\n",
       "      <td>6.443500e+09</td>\n",
       "      <td>2.923333e+08</td>\n",
       "      <td>9.139500e+09</td>\n",
       "      <td>-7.850000e+07</td>\n",
       "      <td>...</td>\n",
       "      <td>5.110790e+07</td>\n",
       "      <td>5.360000e+07</td>\n",
       "      <td>5.336667e+07</td>\n",
       "      <td>1.851000e+09</td>\n",
       "      <td>20.977245</td>\n",
       "      <td>0.659322</td>\n",
       "      <td>-24807.922401</td>\n",
       "      <td>-0.001547</td>\n",
       "      <td>-12393.472578</td>\n",
       "      <td>4</td>\n",
       "    </tr>\n",
       "    <tr>\n",
       "      <th>258</th>\n",
       "      <td>2022</td>\n",
       "      <td>1</td>\n",
       "      <td>WYNN</td>\n",
       "      <td>84.264677</td>\n",
       "      <td>-9.913333</td>\n",
       "      <td>8.093191e+09</td>\n",
       "      <td>1.320019e+10</td>\n",
       "      <td>2.473283e+08</td>\n",
       "      <td>-1.910249e+09</td>\n",
       "      <td>4.804000e+06</td>\n",
       "      <td>...</td>\n",
       "      <td>1.158987e+08</td>\n",
       "      <td>1.091633e+08</td>\n",
       "      <td>1.090833e+08</td>\n",
       "      <td>-2.832075e+08</td>\n",
       "      <td>-3.984015</td>\n",
       "      <td>0.659322</td>\n",
       "      <td>18854.147504</td>\n",
       "      <td>-0.001547</td>\n",
       "      <td>9425.081745</td>\n",
       "      <td>4</td>\n",
       "    </tr>\n",
       "    <tr>\n",
       "      <th>259</th>\n",
       "      <td>2022</td>\n",
       "      <td>1</td>\n",
       "      <td>XYL</td>\n",
       "      <td>94.415087</td>\n",
       "      <td>1.916667</td>\n",
       "      <td>8.245333e+09</td>\n",
       "      <td>8.513000e+09</td>\n",
       "      <td>4.333333e+07</td>\n",
       "      <td>2.042000e+09</td>\n",
       "      <td>-3.920000e+08</td>\n",
       "      <td>...</td>\n",
       "      <td>1.799011e+08</td>\n",
       "      <td>1.812737e+08</td>\n",
       "      <td>1.801167e+08</td>\n",
       "      <td>3.093000e+09</td>\n",
       "      <td>2.167966</td>\n",
       "      <td>0.659322</td>\n",
       "      <td>-10226.520601</td>\n",
       "      <td>-0.001547</td>\n",
       "      <td>-5112.176318</td>\n",
       "      <td>4</td>\n",
       "    </tr>\n",
       "    <tr>\n",
       "      <th>260</th>\n",
       "      <td>2022</td>\n",
       "      <td>1</td>\n",
       "      <td>ZBRA</td>\n",
       "      <td>459.417581</td>\n",
       "      <td>11.316667</td>\n",
       "      <td>5.795000e+09</td>\n",
       "      <td>5.795000e+09</td>\n",
       "      <td>8.033333e+07</td>\n",
       "      <td>3.154500e+09</td>\n",
       "      <td>-4.900000e+07</td>\n",
       "      <td>...</td>\n",
       "      <td>5.307974e+07</td>\n",
       "      <td>5.413670e+07</td>\n",
       "      <td>5.362634e+07</td>\n",
       "      <td>2.075500e+09</td>\n",
       "      <td>13.642515</td>\n",
       "      <td>0.659322</td>\n",
       "      <td>29738.914664</td>\n",
       "      <td>-0.001547</td>\n",
       "      <td>14876.278590</td>\n",
       "      <td>4</td>\n",
       "    </tr>\n",
       "    <tr>\n",
       "      <th>261</th>\n",
       "      <td>2022</td>\n",
       "      <td>1</td>\n",
       "      <td>ZBH</td>\n",
       "      <td>119.336857</td>\n",
       "      <td>0.786667</td>\n",
       "      <td>2.393705e+10</td>\n",
       "      <td>2.393705e+10</td>\n",
       "      <td>-1.154667e+08</td>\n",
       "      <td>1.018955e+10</td>\n",
       "      <td>-2.647000e+08</td>\n",
       "      <td>...</td>\n",
       "      <td>2.091774e+08</td>\n",
       "      <td>2.080333e+08</td>\n",
       "      <td>2.069000e+08</td>\n",
       "      <td>1.242745e+10</td>\n",
       "      <td>2.297299</td>\n",
       "      <td>0.659322</td>\n",
       "      <td>198301.400641</td>\n",
       "      <td>-0.001547</td>\n",
       "      <td>99151.848970</td>\n",
       "      <td>4</td>\n",
       "    </tr>\n",
       "  </tbody>\n",
       "</table>\n",
       "<p>262 rows × 24 columns</p>\n",
       "</div>"
      ],
      "text/plain": [
       "     year  quarter ticker    adjclose          y        assets  \\\n",
       "0    2022        1    ABT  121.161350   3.476667  7.387200e+10   \n",
       "1    2022        1   ABBV  138.456888   4.312500  1.485470e+11   \n",
       "2    2022        1   ATVI   77.442590   2.753333  2.408250e+10   \n",
       "3    2022        1   ADBE  481.100806   6.545000  2.618550e+10   \n",
       "4    2022        1    ADP  209.187251   2.692500  5.393755e+10   \n",
       "..    ...      ...    ...         ...        ...           ...   \n",
       "257  2022        1    GWW  485.266612  21.013333  6.443500e+09   \n",
       "258  2022        1   WYNN   84.264677  -9.913333  8.093191e+09   \n",
       "259  2022        1    XYL   94.415087   1.916667  8.245333e+09   \n",
       "260  2022        1   ZBRA  459.417581  11.316667  5.795000e+09   \n",
       "261  2022        1    ZBH  119.336857   0.786667  2.393705e+10   \n",
       "\n",
       "     liabilitiesandstockholdersequity  incometaxexpensebenefit  \\\n",
       "0                        7.387200e+10             6.756667e+08   \n",
       "1                        1.485470e+11             2.533333e+08   \n",
       "2                        2.408250e+10             3.380000e+08   \n",
       "3                        2.618550e+10             1.210833e+08   \n",
       "4                        5.393755e+10             2.912500e+08   \n",
       "..                                ...                      ...   \n",
       "257                      6.443500e+09             2.923333e+08   \n",
       "258                      1.320019e+10             2.473283e+08   \n",
       "259                      8.513000e+09             4.333333e+07   \n",
       "260                      5.795000e+09             8.033333e+07   \n",
       "261                      2.393705e+10            -1.154667e+08   \n",
       "\n",
       "     retainedearningsaccumulateddeficit  \\\n",
       "0                          2.957750e+10   \n",
       "1                          2.091000e+09   \n",
       "2                          1.085800e+10   \n",
       "3                          2.309550e+10   \n",
       "4                          1.973145e+10   \n",
       "..                                  ...   \n",
       "257                        9.139500e+09   \n",
       "258                       -1.910249e+09   \n",
       "259                        2.042000e+09   \n",
       "260                        3.154500e+09   \n",
       "261                        1.018955e+10   \n",
       "\n",
       "     accumulatedothercomprehensiveincomelossnetoftax  ...  \\\n",
       "0                                      -8.595000e+09  ...   \n",
       "1                                      -3.008000e+09  ...   \n",
       "2                                      -6.000000e+08  ...   \n",
       "3                                      -1.522500e+08  ...   \n",
       "4                                      -1.589000e+08  ...   \n",
       "..                                               ...  ...   \n",
       "257                                    -7.850000e+07  ...   \n",
       "258                                     4.804000e+06  ...   \n",
       "259                                    -3.920000e+08  ...   \n",
       "260                                    -4.900000e+07  ...   \n",
       "261                                    -2.647000e+08  ...   \n",
       "\n",
       "     entitycommonstocksharesoutstanding  \\\n",
       "0                          1.763482e+09   \n",
       "1                          1.768754e+09   \n",
       "2                          7.792349e+08   \n",
       "3                          4.721000e+08   \n",
       "4                          4.200453e+08   \n",
       "..                                  ...   \n",
       "257                        5.110790e+07   \n",
       "258                        1.158987e+08   \n",
       "259                        1.799011e+08   \n",
       "260                        5.307974e+07   \n",
       "261                        2.091774e+08   \n",
       "\n",
       "     weightedaveragenumberofdilutedsharesoutstanding  \\\n",
       "0                                       1.785333e+09   \n",
       "1                                       1.644667e+09   \n",
       "2                                       7.776667e+08   \n",
       "3                                       4.825917e+08   \n",
       "4                                       4.258500e+08   \n",
       "..                                               ...   \n",
       "257                                     5.360000e+07   \n",
       "258                                     1.091633e+08   \n",
       "259                                     1.812737e+08   \n",
       "260                                     5.413670e+07   \n",
       "261                                     2.080333e+08   \n",
       "\n",
       "     weightedaveragenumberofsharesoutstandingbasic  stockholdersequity  \\\n",
       "0                                     1.772000e+09        3.429300e+10   \n",
       "1                                     1.639333e+09        1.424200e+10   \n",
       "2                                     7.716667e+08        1.420825e+10   \n",
       "3                                     4.786000e+08        1.291688e+10   \n",
       "4                                     4.239500e+08        5.588583e+09   \n",
       "..                                             ...                 ...   \n",
       "257                                   5.336667e+07        1.851000e+09   \n",
       "258                                   1.090833e+08       -2.832075e+08   \n",
       "259                                   1.801167e+08        3.093000e+09   \n",
       "260                                   5.362634e+07        2.075500e+09   \n",
       "261                                   2.069000e+08        1.242745e+10   \n",
       "\n",
       "     xgb_prediction  xgb_score  cat_prediction  cat_score    prediction  \\\n",
       "0          2.808381   0.659322    -6854.765698  -0.001547  -3425.978658   \n",
       "1          3.489667   0.659322   113609.381941  -0.001547  56806.435804   \n",
       "2          2.488876   0.659322   -86874.956921  -0.001547 -43436.234022   \n",
       "3          6.533318   0.659322   -56402.802442  -0.001547 -28198.134562   \n",
       "4          2.538036   0.659322     9373.473027  -0.001547   4688.005531   \n",
       "..              ...        ...             ...        ...           ...   \n",
       "257       20.977245   0.659322   -24807.922401  -0.001547 -12393.472578   \n",
       "258       -3.984015   0.659322    18854.147504  -0.001547   9425.081745   \n",
       "259        2.167966   0.659322   -10226.520601  -0.001547  -5112.176318   \n",
       "260       13.642515   0.659322    29738.914664  -0.001547  14876.278590   \n",
       "261        2.297299   0.659322   198301.400641  -0.001547  99151.848970   \n",
       "\n",
       "     training_years  \n",
       "0                 4  \n",
       "1                 4  \n",
       "2                 4  \n",
       "3                 4  \n",
       "4                 4  \n",
       "..              ...  \n",
       "257               4  \n",
       "258               4  \n",
       "259               4  \n",
       "260               4  \n",
       "261               4  \n",
       "\n",
       "[262 rows x 24 columns]"
      ]
     },
     "execution_count": 19,
     "metadata": {},
     "output_type": "execute_result"
    }
   ],
   "source": [
    "stuff"
   ]
  }
 ],
 "metadata": {
  "kernelspec": {
   "display_name": "Python 3 (ipykernel)",
   "language": "python",
   "name": "python3"
  },
  "language_info": {
   "codemirror_mode": {
    "name": "ipython",
    "version": 3
   },
   "file_extension": ".py",
   "mimetype": "text/x-python",
   "name": "python",
   "nbconvert_exporter": "python",
   "pygments_lexer": "ipython3",
   "version": "3.10.5"
  }
 },
 "nbformat": 4,
 "nbformat_minor": 5
}
