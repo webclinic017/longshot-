{
 "cells": [
  {
   "cell_type": "code",
   "execution_count": 1,
   "id": "aa80f443",
   "metadata": {
    "scrolled": true
   },
   "outputs": [],
   "source": [
    "from strategy.rollingpercent import RollingPercent\n",
    "from datetime import datetime, timedelta\n",
    "import pytz\n",
    "import pandas as pd\n",
    "from tqdm import tqdm"
   ]
  },
  {
   "cell_type": "code",
   "execution_count": 2,
   "id": "588c4d52",
   "metadata": {},
   "outputs": [
    {
     "data": {
      "text/plain": [
       "{'modeling': {'days': 7, 'currency': 'crypto'},\n",
       " 'trading': {'requirement': 5, 'value': True}}"
      ]
     },
     "execution_count": 2,
     "metadata": {},
     "output_type": "execute_result"
    }
   ],
   "source": [
    "RollingPercent.required_params()"
   ]
  },
  {
   "cell_type": "code",
   "execution_count": 3,
   "id": "b38d4176",
   "metadata": {
    "scrolled": true
   },
   "outputs": [
    {
     "name": "stderr",
     "output_type": "stream",
     "text": [
      "rolling_percent_sim: 100%|████████████████████████████████████████████████████████████████████████████████████████████████| 501/501 [01:22<00:00,  6.06it/s]\n"
     ]
    },
    {
     "name": "stdout",
     "output_type": "stream",
     "text": [
      "rolling_percent rec documents must be a non-empty list\n"
     ]
    }
   ],
   "source": [
    "strat = RollingPercent(datetime(2015,1,1),datetime(2021,1,1),\n",
    "                    modeling_params={\"days\":100,\"currency\":\"prices\"},\n",
    "                    trading_params={\"requirement\":5,\"value\":True})\n",
    "strat.subscribe()\n",
    "sim = strat.create_sim()\n",
    "rec = strat.create_rec(datetime.now())                    "
   ]
  },
  {
   "cell_type": "code",
   "execution_count": null,
   "id": "7c238e1c",
   "metadata": {},
   "outputs": [],
   "source": [
    "rec"
   ]
  }
 ],
 "metadata": {
  "kernelspec": {
   "display_name": "Python 3 (ipykernel)",
   "language": "python",
   "name": "python3"
  },
  "language_info": {
   "codemirror_mode": {
    "name": "ipython",
    "version": 3
   },
   "file_extension": ".py",
   "mimetype": "text/x-python",
   "name": "python",
   "nbconvert_exporter": "python",
   "pygments_lexer": "ipython3",
   "version": "3.10.1"
  }
 },
 "nbformat": 4,
 "nbformat_minor": 5
}
