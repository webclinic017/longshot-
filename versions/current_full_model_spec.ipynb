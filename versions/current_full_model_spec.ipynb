{
 "cells": [
  {
   "cell_type": "code",
   "execution_count": 1,
   "id": "5a24d11e",
   "metadata": {},
   "outputs": [],
   "source": [
    "import pandas as pd\n",
    "from database.market import Market\n",
    "from database.adatabase import ADatabase\n",
    "from processor.processor import Processor as p\n",
    "from datetime import datetime\n",
    "from tqdm import tqdm\n",
    "import numpy as np\n",
    "from modeler_strats.universal_modeler import UniversalModeler\n",
    "import pickle"
   ]
  },
  {
   "cell_type": "code",
   "execution_count": 2,
   "id": "39ee7553",
   "metadata": {},
   "outputs": [],
   "source": [
    "current_year = 2023"
   ]
  },
  {
   "cell_type": "code",
   "execution_count": 3,
   "id": "1f7fc22a",
   "metadata": {},
   "outputs": [],
   "source": [
    "market = Market()\n",
    "spec = ADatabase(\"spec\")\n",
    "umod = UniversalModeler()"
   ]
  },
  {
   "cell_type": "code",
   "execution_count": 4,
   "id": "b0c57b4d",
   "metadata": {},
   "outputs": [],
   "source": [
    "market.connect()\n",
    "sp500 = market.retrieve(\"sp500\")\n",
    "market.disconnect()\n",
    "sp500 = sp500.rename(columns={\"Symbol\":\"ticker\"})"
   ]
  },
  {
   "cell_type": "code",
   "execution_count": 5,
   "id": "983a4ac6",
   "metadata": {},
   "outputs": [],
   "source": [
    "factors = [str(x) for x in range(14)]"
   ]
  },
  {
   "cell_type": "code",
   "execution_count": 6,
   "id": "06e0c3f1",
   "metadata": {},
   "outputs": [],
   "source": [
    "included_columns=[\n",
    "    \"year\",\n",
    "    \"week\",\n",
    "    \"ticker\",\n",
    "    \"adjclose\",\n",
    "    \"y\"\n",
    "]"
   ]
  },
  {
   "cell_type": "code",
   "execution_count": 7,
   "id": "c552e7c0",
   "metadata": {},
   "outputs": [],
   "source": [
    "included_columns.extend(factors)"
   ]
  },
  {
   "cell_type": "code",
   "execution_count": 8,
   "id": "fb51d227",
   "metadata": {},
   "outputs": [],
   "source": [
    "training_sets = []"
   ]
  },
  {
   "cell_type": "code",
   "execution_count": 9,
   "id": "c551e792",
   "metadata": {},
   "outputs": [
    {
     "name": "stdout",
     "output_type": "stream",
     "text": [
      "DRE 'date'\n",
      "FBHS 'date'\n"
     ]
    }
   ],
   "source": [
    "for ticker in sp500[\"ticker\"].unique():\n",
    "    try:\n",
    "        prices = market.retrieve_ticker_prices(\"prices\",ticker)\n",
    "        prices = p.column_date_processing(prices)\n",
    "        prices[\"year\"] = [x.year for x in prices[\"date\"]]\n",
    "        prices[\"quarter\"] = [x.quarter for x in prices[\"date\"]]\n",
    "        ticker_data = prices[prices[\"ticker\"]==ticker]\n",
    "        ticker_data.sort_values(\"date\",ascending=True,inplace=True)\n",
    "        ticker_data[\"adjclose\"] = [float(x) for x in ticker_data[\"adjclose\"]]\n",
    "        ticker_data = ticker_data.groupby([\"year\",\"week\"]).mean().reset_index()\n",
    "        for i in range(14):\n",
    "            ticker_data[str(i)] = ticker_data[\"adjclose\"].shift(i)\n",
    "        ticker_data[\"d1\"] = ticker_data[\"adjclose\"].pct_change(periods=1)\n",
    "        ticker_data[\"d2\"] = ticker_data[\"d1\"].pct_change(periods=1)\n",
    "        ticker_data[\"d3\"] = ticker_data[\"d2\"].pct_change(periods=1)\n",
    "        ticker_data[\"rolling14\"] = ticker_data[\"adjclose\"].rolling(window=14).mean()\n",
    "        ticker_data.dropna(inplace=True)\n",
    "        ticker_data[\"ticker\"] = ticker\n",
    "        ticker_data[\"y\"] = ticker_data[\"adjclose\"].shift(-1)\n",
    "        ticker_data = ticker_data.replace([np.inf, -np.inf], np.nan).dropna()\n",
    "        ticker_data.dropna(inplace=True)\n",
    "        ticker_data = ticker_data[included_columns]\n",
    "        training_sets.append(ticker_data)\n",
    "    except Exception as e:\n",
    "        print(ticker,str(e))"
   ]
  },
  {
   "cell_type": "code",
   "execution_count": 10,
   "id": "0ea5d66b",
   "metadata": {},
   "outputs": [],
   "source": [
    "data = pd.concat(training_sets)"
   ]
  },
  {
   "cell_type": "code",
   "execution_count": 11,
   "id": "736f208f",
   "metadata": {},
   "outputs": [],
   "source": [
    "data = data.dropna()"
   ]
  },
  {
   "cell_type": "code",
   "execution_count": 12,
   "id": "23ad6193",
   "metadata": {},
   "outputs": [
    {
     "name": "stderr",
     "output_type": "stream",
     "text": [
      "\r",
      "  0%|                                                                                                                                                              | 0/1 [00:00<?, ?it/s]"
     ]
    },
    {
     "name": "stdout",
     "output_type": "stream",
     "text": [
      "Epoch 1/10\n",
      "2408/2408 [==============================] - 2s 795us/step - loss: 884.3224 - mean_absolute_percentage_error: 8.1248\n",
      "Epoch 2/10\n",
      "2408/2408 [==============================] - 2s 819us/step - loss: 430.2755 - mean_absolute_percentage_error: 6.1410\n",
      "Epoch 3/10\n",
      "2408/2408 [==============================] - 2s 877us/step - loss: 389.5782 - mean_absolute_percentage_error: 5.7207\n",
      "Epoch 4/10\n",
      "2408/2408 [==============================] - 2s 825us/step - loss: 332.6267 - mean_absolute_percentage_error: 5.1339\n",
      "Epoch 5/10\n",
      "2408/2408 [==============================] - 2s 758us/step - loss: 270.5714 - mean_absolute_percentage_error: 4.8338\n",
      "Epoch 6/10\n",
      "2408/2408 [==============================] - 2s 749us/step - loss: 309.8250 - mean_absolute_percentage_error: 5.0748\n",
      "Epoch 7/10\n",
      "2408/2408 [==============================] - 2s 753us/step - loss: 330.2628 - mean_absolute_percentage_error: 4.9935\n",
      "Epoch 8/10\n",
      "2408/2408 [==============================] - 2s 761us/step - loss: 303.7166 - mean_absolute_percentage_error: 4.7831\n",
      "Epoch 9/10\n",
      "2408/2408 [==============================] - 2s 741us/step - loss: 305.8432 - mean_absolute_percentage_error: 4.8982\n",
      "Epoch 10/10\n",
      "2408/2408 [==============================] - 2s 755us/step - loss: 278.8653 - mean_absolute_percentage_error: 4.7073\n",
      "803/803 [==============================] - 0s 523us/step\n"
     ]
    },
    {
     "name": "stderr",
     "output_type": "stream",
     "text": [
      "100%|██████████████████████████████████████████████████████████████████████████████████████████████████████████████████████████████████████████████████████| 1/1 [01:28<00:00, 88.83s/it]\n"
     ]
    }
   ],
   "source": [
    "spec.connect()\n",
    "for modeler in [umod]:\n",
    "    for year in tqdm(range(current_year,current_year+1)):\n",
    "        training_slice = data[(data[\"year\"]<year) & (data[\"year\"] >= year - 4)].reset_index(drop=True)\n",
    "        set_name = \"models\"\n",
    "        stuff = modeler.recommend_model(training_slice,factors)\n",
    "spec.disconnect()"
   ]
  },
  {
   "cell_type": "code",
   "execution_count": 13,
   "id": "a454f7ac",
   "metadata": {},
   "outputs": [
    {
     "name": "stdout",
     "output_type": "stream",
     "text": [
      "Keras weights file (<HDF5 file \"variables.h5\" (mode r+)>) saving:\n",
      "...layers\\dense\n",
      "......vars\n",
      ".........0\n",
      ".........1\n",
      "...layers\\dense_1\n",
      "......vars\n",
      ".........0\n",
      ".........1\n",
      "...layers\\dense_2\n",
      "......vars\n",
      ".........0\n",
      ".........1\n",
      "...metrics\\mean\n",
      "......vars\n",
      ".........0\n",
      ".........1\n",
      "...metrics\\mean_absolute_percentage_error\n",
      "......vars\n",
      ".........0\n",
      ".........1\n",
      "...optimizer\n",
      "......vars\n",
      ".........0\n",
      ".........1\n",
      ".........10\n",
      ".........11\n",
      ".........12\n",
      ".........2\n",
      ".........3\n",
      ".........4\n",
      ".........5\n",
      ".........6\n",
      ".........7\n",
      ".........8\n",
      ".........9\n",
      "...vars\n",
      "Keras model archive saving:\n",
      "File Name                                             Modified             Size\n",
      "config.json                                    2023-03-03 11:17:12         2522\n",
      "metadata.json                                  2023-03-03 11:17:12           64\n",
      "variables.h5                                   2023-03-03 11:17:12        84160\n"
     ]
    }
   ],
   "source": [
    "stuff[\"model\"] = [pickle.dumps(x) for x in stuff[\"model\"]]"
   ]
  },
  {
   "cell_type": "code",
   "execution_count": 14,
   "id": "5aea7679",
   "metadata": {},
   "outputs": [],
   "source": [
    "spec.connect()\n",
    "models = spec.store(\"models\",stuff)\n",
    "spec.disconnect()"
   ]
  }
 ],
 "metadata": {
  "kernelspec": {
   "display_name": "Python 3 (ipykernel)",
   "language": "python",
   "name": "python3"
  },
  "language_info": {
   "codemirror_mode": {
    "name": "ipython",
    "version": 3
   },
   "file_extension": ".py",
   "mimetype": "text/x-python",
   "name": "python",
   "nbconvert_exporter": "python",
   "pygments_lexer": "ipython3",
   "version": "3.10.5"
  }
 },
 "nbformat": 4,
 "nbformat_minor": 5
}
