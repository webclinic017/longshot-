{
 "cells": [
  {
   "cell_type": "code",
   "execution_count": 27,
   "id": "aa80f443",
   "metadata": {
    "scrolled": true
   },
   "outputs": [],
   "source": [
    "from datetime import datetime, timedelta\n",
    "import pandas as pd\n",
    "from tqdm import tqdm\n",
    "from modeler.modeler import Modeler as m\n",
    "from processor.processor import Processor as p\n",
    "from database.market import Market\n",
    "from database.adatabase import ADatabase\n",
    "import numpy as np"
   ]
  },
  {
   "cell_type": "code",
   "execution_count": 28,
   "id": "e5adbebb",
   "metadata": {},
   "outputs": [],
   "source": [
    "market = Market()\n",
    "speculation_db = ADatabase(\"bitcoin_speculation\")"
   ]
  },
  {
   "cell_type": "code",
   "execution_count": 29,
   "id": "8e84aa3f",
   "metadata": {},
   "outputs": [],
   "source": [
    "market.connect()\n",
    "prices = market.retrieve(\"pdr_crypto\")\n",
    "market.disconnect()"
   ]
  },
  {
   "cell_type": "code",
   "execution_count": 30,
   "id": "3b3376b6",
   "metadata": {},
   "outputs": [],
   "source": [
    "prices = p.column_date_processing(prices)\n",
    "prices[\"year\"] = [x.year for x in prices[\"date\"]]\n",
    "prices[\"week\"] = [x.week for x in prices[\"date\"]]"
   ]
  },
  {
   "cell_type": "code",
   "execution_count": 31,
   "id": "0affef81",
   "metadata": {},
   "outputs": [],
   "source": [
    "speculation_db.connect()\n",
    "simulation = speculation_db.retrieve(\"pdr_sim\")\n",
    "speculation_db.disconnect()"
   ]
  },
  {
   "cell_type": "code",
   "execution_count": 32,
   "id": "7710948a",
   "metadata": {},
   "outputs": [
    {
     "name": "stderr",
     "output_type": "stream",
     "text": [
      "  0%|                                                                                                                                                  | 0/4 [00:00<?, ?it/s]\n",
      "  0%|                                                                                                                                                  | 0/4 [00:00<?, ?it/s]\u001b[A\n",
      " 25%|██████████████████████████████████▌                                                                                                       | 1/4 [00:00<00:00,  7.35it/s]\u001b[A\n",
      " 50%|█████████████████████████████████████████████████████████████████████                                                                     | 2/4 [00:00<00:00,  7.48it/s]\u001b[A"
     ]
    },
    {
     "name": "stdout",
     "output_type": "stream",
     "text": [
      "single positional indexer is out-of-bounds\n",
      "single positional indexer is out-of-bounds\n",
      "single positional indexer is out-of-bounds\n",
      "single positional indexer is out-of-bounds\n"
     ]
    },
    {
     "name": "stderr",
     "output_type": "stream",
     "text": [
      "\n",
      " 75%|███████████████████████████████████████████████████████████████████████████████████████████████████████▌                                  | 3/4 [00:00<00:00,  8.17it/s]\u001b[A\n",
      "100%|██████████████████████████████████████████████████████████████████████████████████████████████████████████████████████████████████████████| 4/4 [00:00<00:00,  8.16it/s]\u001b[A\n",
      " 25%|██████████████████████████████████▌                                                                                                       | 1/4 [00:00<00:01,  2.03it/s]"
     ]
    },
    {
     "name": "stdout",
     "output_type": "stream",
     "text": [
      "single positional indexer is out-of-bounds\n",
      "single positional indexer is out-of-bounds\n",
      "single positional indexer is out-of-bounds\n",
      "single positional indexer is out-of-bounds\n"
     ]
    },
    {
     "name": "stderr",
     "output_type": "stream",
     "text": [
      "\n",
      "  0%|                                                                                                                                                  | 0/4 [00:00<?, ?it/s]\u001b[A\n",
      " 25%|██████████████████████████████████▌                                                                                                       | 1/4 [00:00<00:00,  7.87it/s]\u001b[A\n",
      " 50%|█████████████████████████████████████████████████████████████████████                                                                     | 2/4 [00:00<00:00,  7.84it/s]\u001b[A"
     ]
    },
    {
     "name": "stdout",
     "output_type": "stream",
     "text": [
      "single positional indexer is out-of-bounds\n",
      "single positional indexer is out-of-bounds\n",
      "single positional indexer is out-of-bounds\n",
      "single positional indexer is out-of-bounds\n"
     ]
    },
    {
     "name": "stderr",
     "output_type": "stream",
     "text": [
      "\n",
      " 75%|███████████████████████████████████████████████████████████████████████████████████████████████████████▌                                  | 3/4 [00:00<00:00,  8.33it/s]\u001b[A\n",
      "100%|██████████████████████████████████████████████████████████████████████████████████████████████████████████████████████████████████████████| 4/4 [00:00<00:00,  8.42it/s]\u001b[A\n",
      " 50%|█████████████████████████████████████████████████████████████████████                                                                     | 2/4 [00:00<00:00,  2.07it/s]"
     ]
    },
    {
     "name": "stdout",
     "output_type": "stream",
     "text": [
      "single positional indexer is out-of-bounds\n",
      "single positional indexer is out-of-bounds\n",
      "single positional indexer is out-of-bounds\n",
      "single positional indexer is out-of-bounds\n"
     ]
    },
    {
     "name": "stderr",
     "output_type": "stream",
     "text": [
      "\n",
      "  0%|                                                                                                                                                  | 0/4 [00:00<?, ?it/s]\u001b[A\n",
      " 25%|██████████████████████████████████▌                                                                                                       | 1/4 [00:00<00:00,  9.17it/s]\u001b[A\n",
      " 50%|█████████████████████████████████████████████████████████████████████                                                                     | 2/4 [00:00<00:00,  9.32it/s]\u001b[A\n",
      "100%|██████████████████████████████████████████████████████████████████████████████████████████████████████████████████████████████████████████| 4/4 [00:00<00:00, 10.02it/s]\u001b[A\n",
      " 75%|███████████████████████████████████████████████████████████████████████████████████████████████████████▌                                  | 3/4 [00:01<00:00,  2.24it/s]\n",
      "  0%|                                                                                                                                                  | 0/4 [00:00<?, ?it/s]\u001b[A\n",
      "100%|██████████████████████████████████████████████████████████████████████████████████████████████████████████████████████████████████████████| 4/4 [00:00<00:00, 22.72it/s]\u001b[A\n",
      "100%|██████████████████████████████████████████████████████████████████████████████████████████████████████████████████████████████████████████| 4/4 [00:01<00:00,  2.58it/s]\n",
      "  0%|                                                                                                                                                  | 0/4 [00:00<?, ?it/s]\n",
      "  0%|                                                                                                                                                  | 0/4 [00:00<?, ?it/s]\u001b[A\n",
      " 25%|██████████████████████████████████▌                                                                                                       | 1/4 [00:00<00:00,  8.62it/s]\u001b[A\n",
      " 50%|█████████████████████████████████████████████████████████████████████                                                                     | 2/4 [00:00<00:00,  8.89it/s]\u001b[A"
     ]
    },
    {
     "name": "stdout",
     "output_type": "stream",
     "text": [
      "single positional indexer is out-of-bounds\n",
      "single positional indexer is out-of-bounds\n",
      "single positional indexer is out-of-bounds\n"
     ]
    },
    {
     "name": "stderr",
     "output_type": "stream",
     "text": [
      "\n",
      "100%|██████████████████████████████████████████████████████████████████████████████████████████████████████████████████████████████████████████| 4/4 [00:00<00:00,  9.54it/s]\u001b[A\n",
      " 25%|██████████████████████████████████▌                                                                                                       | 1/4 [00:00<00:01,  2.38it/s]"
     ]
    },
    {
     "name": "stdout",
     "output_type": "stream",
     "text": [
      "single positional indexer is out-of-bounds\n"
     ]
    },
    {
     "name": "stderr",
     "output_type": "stream",
     "text": [
      "\n",
      "  0%|                                                                                                                                                  | 0/4 [00:00<?, ?it/s]\u001b[A\n",
      " 50%|█████████████████████████████████████████████████████████████████████                                                                     | 2/4 [00:00<00:00, 14.39it/s]\u001b[A\n",
      "100%|██████████████████████████████████████████████████████████████████████████████████████████████████████████████████████████████████████████| 4/4 [00:00<00:00, 14.81it/s]\u001b[A\n",
      " 50%|█████████████████████████████████████████████████████████████████████                                                                     | 2/4 [00:00<00:00,  3.00it/s]\n",
      "  0%|                                                                                                                                                  | 0/4 [00:00<?, ?it/s]\u001b[A\n",
      "100%|██████████████████████████████████████████████████████████████████████████████████████████████████████████████████████████████████████████| 4/4 [00:00<00:00, 25.47it/s]\u001b[A\n",
      " 75%|███████████████████████████████████████████████████████████████████████████████████████████████████████▌                                  | 3/4 [00:00<00:00,  3.94it/s]\n",
      "  0%|                                                                                                                                                  | 0/4 [00:00<?, ?it/s]\u001b[A\n",
      "100%|██████████████████████████████████████████████████████████████████████████████████████████████████████████████████████████████████████████| 4/4 [00:00<00:00, 31.49it/s]\u001b[A\n",
      "100%|██████████████████████████████████████████████████████████████████████████████████████████████████████████████████████████████████████████| 4/4 [00:00<00:00,  4.08it/s]\n",
      "  0%|                                                                                                                                                  | 0/4 [00:00<?, ?it/s]\n",
      "  0%|                                                                                                                                                  | 0/4 [00:00<?, ?it/s]\u001b[A\n",
      "100%|██████████████████████████████████████████████████████████████████████████████████████████████████████████████████████████████████████████| 4/4 [00:00<00:00, 30.76it/s]\u001b[A\n",
      " 25%|██████████████████████████████████▌                                                                                                       | 1/4 [00:00<00:00,  7.52it/s]\n",
      "  0%|                                                                                                                                                  | 0/4 [00:00<?, ?it/s]\u001b[A\n",
      "100%|██████████████████████████████████████████████████████████████████████████████████████████████████████████████████████████████████████████| 4/4 [00:00<00:00, 29.40it/s]\u001b[A\n",
      " 50%|█████████████████████████████████████████████████████████████████████                                                                     | 2/4 [00:00<00:00,  7.35it/s]\n",
      "  0%|                                                                                                                                                  | 0/4 [00:00<?, ?it/s]\u001b[A\n",
      "100%|██████████████████████████████████████████████████████████████████████████████████████████████████████████████████████████████████████████| 4/4 [00:00<00:00, 31.00it/s]\u001b[A\n",
      " 75%|███████████████████████████████████████████████████████████████████████████████████████████████████████▌                                  | 3/4 [00:00<00:00,  7.48it/s]\n",
      "  0%|                                                                                                                                                  | 0/4 [00:00<?, ?it/s]\u001b[A\n",
      "100%|██████████████████████████████████████████████████████████████████████████████████████████████████████████████████████████████████████████| 4/4 [00:00<00:00, 31.00it/s]\u001b[A\n",
      "100%|██████████████████████████████████████████████████████████████████████████████████████████████████████████████████████████████████████████| 4/4 [00:00<00:00,  7.50it/s]\n",
      "  0%|                                                                                                                                                  | 0/4 [00:00<?, ?it/s]\n",
      "  0%|                                                                                                                                                  | 0/4 [00:00<?, ?it/s]\u001b[A\n",
      "100%|██████████████████████████████████████████████████████████████████████████████████████████████████████████████████████████████████████████| 4/4 [00:00<00:00, 31.24it/s]\u001b[A\n",
      " 25%|██████████████████████████████████▌                                                                                                       | 1/4 [00:00<00:00,  7.69it/s]\n",
      "  0%|                                                                                                                                                  | 0/4 [00:00<?, ?it/s]\u001b[A\n",
      "100%|██████████████████████████████████████████████████████████████████████████████████████████████████████████████████████████████████████████| 4/4 [00:00<00:00, 31.00it/s]\u001b[A\n",
      " 50%|█████████████████████████████████████████████████████████████████████                                                                     | 2/4 [00:00<00:00,  7.66it/s]\n",
      "  0%|                                                                                                                                                  | 0/4 [00:00<?, ?it/s]\u001b[A\n",
      "100%|██████████████████████████████████████████████████████████████████████████████████████████████████████████████████████████████████████████| 4/4 [00:00<00:00, 31.24it/s]\u001b[A\n",
      " 75%|███████████████████████████████████████████████████████████████████████████████████████████████████████▌                                  | 3/4 [00:00<00:00,  7.70it/s]\n",
      "  0%|                                                                                                                                                  | 0/4 [00:00<?, ?it/s]\u001b[A\n",
      "100%|██████████████████████████████████████████████████████████████████████████████████████████████████████████████████████████████████████████| 4/4 [00:00<00:00, 31.24it/s]\u001b[A\n",
      "100%|██████████████████████████████████████████████████████████████████████████████████████████████████████████████████████████████████████████| 4/4 [00:00<00:00,  7.69it/s]\n"
     ]
    }
   ],
   "source": [
    "positions = 1\n",
    "start_date = datetime(2022,6,17)\n",
    "end_date = datetime(2022,8,16)\n",
    "speculation_db.connect()\n",
    "for value in [True,False]:\n",
    "    for training_year in [1,4]:\n",
    "        sim = prices.merge(simulation[simulation[\"training_year\"]==training_year],on=[\"date\",\"ticker\"],how=\"left\").dropna()\n",
    "        sim[\"prediction\"] = (sim[\"cat_prediction\"] + sim[\"skl_prediction\"] + sim[\"xgb_prediction\"]) / 3\n",
    "        sim[\"delta\"] = (sim[\"prediction\"] - sim[\"adjclose\"]) / sim[\"adjclose\"]\n",
    "        for signal in tqdm([0.05,0.1,0.3,0.5]):\n",
    "            for req in tqdm([0.01,0.03,0.05,0.1]):\n",
    "                for position in range(positions):\n",
    "                    date = start_date\n",
    "                    iterration_sim = sim.copy()\n",
    "                    if value == False:\n",
    "                        iterration_sim[\"delta\"] = iterration_sim[\"delta\"] * -1\n",
    "                    while date < end_date:\n",
    "                        try:\n",
    "                            todays_recs = iterration_sim[(iterration_sim[\"date\"]==date)]\n",
    "                            todays_recs.sort_values(\"delta\",ascending=False,inplace=True)\n",
    "                            if todays_recs.index.size > 0:\n",
    "                                offering = todays_recs.iloc[position]\n",
    "                                if (offering[\"delta\"] > signal):\n",
    "                                    trade = offering\n",
    "                                    ticker = trade[\"ticker\"]\n",
    "                                    buy_price = trade[\"adjclose\"]\n",
    "                                    end_index = 2\n",
    "                                    exits = iterration_sim[(iterration_sim[\"ticker\"]==ticker) & (iterration_sim[\"date\"]>date)].iloc[:end_index]\n",
    "                                    exits[\"gains\"] = (exits[\"adjclose\"] - buy_price) / buy_price\n",
    "                                    gain_exits = exits[exits[\"gains\"]>=req].sort_values(\"date\")\n",
    "                                    if gain_exits.index.size < 1:\n",
    "                                        exit = iterration_sim[(iterration_sim[\"ticker\"]==ticker) & \\\n",
    "                                                              (iterration_sim[\"date\"]>date)].iloc[end_index:].iloc[0]\n",
    "                                        trade[\"sell_price\"] = exit[\"adjclose\"]\n",
    "                                    else:\n",
    "                                        exit = gain_exits.iloc[0]\n",
    "                                        trade[\"sell_price\"] = buy_price * (1+(req))\n",
    "                                    delta = (trade[\"sell_price\"] - buy_price) / buy_price\n",
    "                                    trade[\"sell_date\"] = exit[\"date\"]\n",
    "                                    date = exit[\"date\"] + timedelta(days=1)\n",
    "                                    trade[\"projected_delta\"] = offering[\"delta\"]\n",
    "                                    trade[\"delta\"] = delta\n",
    "                                    trade[\"position\"] = position\n",
    "                                    trade[\"req\"] = req\n",
    "                                    trade[\"value\"] = value\n",
    "                                    trade[\"training_year\"] = training_year\n",
    "                                    trade[\"signal\"] = signal\n",
    "                                    included = [\"date\",\"sell_date\",\"ticker\",\"adjclose\",\"sell_price\",\"delta\"\n",
    "                                                ,\"projected_delta\",\"position\"\n",
    "                                                ,\"req\",\"signal\",\"value\",\"training_year\"]\n",
    "                                    trade_record = pd.DataFrame([trade]).reset_index(drop=True)[included]\n",
    "                                    speculation_db.store(\"pdr_trades\",trade_record)\n",
    "                                else:\n",
    "                                    date = date + timedelta(days=1)\n",
    "                            else:\n",
    "                                date = date + timedelta(days=1)\n",
    "                        except Exception as e:\n",
    "                            print(str(e))\n",
    "                            date = date+timedelta(days=1)\n",
    "speculation_db.disconnect()"
   ]
  }
 ],
 "metadata": {
  "kernelspec": {
   "display_name": "Python 3 (ipykernel)",
   "language": "python",
   "name": "python3"
  },
  "language_info": {
   "codemirror_mode": {
    "name": "ipython",
    "version": 3
   },
   "file_extension": ".py",
   "mimetype": "text/x-python",
   "name": "python",
   "nbconvert_exporter": "python",
   "pygments_lexer": "ipython3",
   "version": "3.10.5"
  }
 },
 "nbformat": 4,
 "nbformat_minor": 5
}
