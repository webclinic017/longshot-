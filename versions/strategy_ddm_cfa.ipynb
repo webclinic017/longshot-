{
 "cells": [
  {
   "cell_type": "code",
   "execution_count": 4,
   "id": "aa80f443",
   "metadata": {
    "scrolled": true
   },
   "outputs": [],
   "source": [
    "from database.market import Market\n",
    "from database.sec import SEC\n",
    "from database.adatabase import ADatabase\n",
    "from modeler.modeler import Modeler as m\n",
    "from processor.processor import Processor as p\n",
    "from datetime import datetime, timedelta\n",
    "import pytz\n",
    "import pandas as pd\n",
    "from tqdm import tqdm\n",
    "import matplotlib.pyplot as plt\n",
    "import numpy as np\n",
    "import pickle"
   ]
  },
  {
   "cell_type": "code",
   "execution_count": 5,
   "id": "b38d4176",
   "metadata": {
    "scrolled": true
   },
   "outputs": [],
   "source": [
    "market = Market()\n",
    "sec = SEC()"
   ]
  },
  {
   "cell_type": "code",
   "execution_count": 6,
   "id": "b9e83628",
   "metadata": {},
   "outputs": [],
   "source": [
    "financial_db = ADatabase(\"strategy_financial\")"
   ]
  },
  {
   "cell_type": "code",
   "execution_count": 92,
   "id": "5cfc636a",
   "metadata": {},
   "outputs": [],
   "source": [
    "market.connect()\n",
    "sp5 = market.retrieve(\"sp500\")\n",
    "econ = market.retrieve(\"econ\")\n",
    "prices = market.retrieve(\"alpha_prices\")\n",
    "market.disconnect()\n",
    "financial_db.connect()\n",
    "sim = financial_db.retrieve(\"sim\")\n",
    "financial_db.disconnect()"
   ]
  },
  {
   "cell_type": "code",
   "execution_count": 93,
   "id": "21171ef5",
   "metadata": {},
   "outputs": [],
   "source": [
    "prices = p.column_date_processing(prices)\n",
    "prices[\"quarter\"] = [x.quarter for x in prices[\"date\"]]\n",
    "prices[\"year\"] = [x.year for x in prices[\"date\"]]\n",
    "prices[\"close\"] = [float(x) for x in prices[\"close\"]]"
   ]
  },
  {
   "cell_type": "code",
   "execution_count": 121,
   "id": "bb6ee718",
   "metadata": {},
   "outputs": [
    {
     "name": "stderr",
     "output_type": "stream",
     "text": [
      "  1%|█▎                                                                                                                                                                        | 4/505 [00:02<05:29,  1.52it/s]"
     ]
    },
    {
     "name": "stdout",
     "output_type": "stream",
     "text": [
      "\"['commonstockdividendspersharedeclared'] not in index\"\n"
     ]
    },
    {
     "name": "stderr",
     "output_type": "stream",
     "text": [
      "\r",
      "  1%|█▋                                                                                                                                                                        | 5/505 [00:03<05:29,  1.52it/s]"
     ]
    },
    {
     "name": "stdout",
     "output_type": "stream",
     "text": [
      "\"['commonstockdividendspersharedeclared'] not in index\"\n"
     ]
    },
    {
     "name": "stderr",
     "output_type": "stream",
     "text": [
      "  1%|██▎                                                                                                                                                                       | 7/505 [00:04<05:50,  1.42it/s]"
     ]
    },
    {
     "name": "stdout",
     "output_type": "stream",
     "text": [
      "\"['commonstockdividendspersharedeclared'] not in index\"\n"
     ]
    },
    {
     "name": "stderr",
     "output_type": "stream",
     "text": [
      "\r",
      "  2%|██▋                                                                                                                                                                       | 8/505 [00:05<05:57,  1.39it/s]"
     ]
    },
    {
     "name": "stdout",
     "output_type": "stream",
     "text": [
      "\"['commonstockdividendspersharedeclared'] not in index\"\n"
     ]
    },
    {
     "name": "stderr",
     "output_type": "stream",
     "text": [
      "  3%|████▋                                                                                                                                                                    | 14/505 [00:10<06:38,  1.23it/s]"
     ]
    },
    {
     "name": "stdout",
     "output_type": "stream",
     "text": [
      "\"['commonstockdividendspersharedeclared'] not in index\"\n"
     ]
    },
    {
     "name": "stderr",
     "output_type": "stream",
     "text": [
      "  4%|██████                                                                                                                                                                   | 18/505 [00:13<05:57,  1.36it/s]"
     ]
    },
    {
     "name": "stdout",
     "output_type": "stream",
     "text": [
      "\"['commonstockdividendspersharedeclared'] not in index\"\n"
     ]
    },
    {
     "name": "stderr",
     "output_type": "stream",
     "text": [
      "  4%|███████▎                                                                                                                                                                 | 22/505 [00:16<05:52,  1.37it/s]"
     ]
    },
    {
     "name": "stdout",
     "output_type": "stream",
     "text": [
      "\"['commonstockdividendspersharedeclared'] not in index\"\n"
     ]
    },
    {
     "name": "stderr",
     "output_type": "stream",
     "text": [
      "\r",
      "  5%|███████▋                                                                                                                                                                 | 23/505 [00:17<05:40,  1.42it/s]"
     ]
    },
    {
     "name": "stdout",
     "output_type": "stream",
     "text": [
      "\"['commonstockdividendspersharedeclared'] not in index\"\n"
     ]
    },
    {
     "name": "stderr",
     "output_type": "stream",
     "text": [
      "  5%|████████▎                                                                                                                                                                | 25/505 [00:18<05:57,  1.34it/s]"
     ]
    },
    {
     "name": "stdout",
     "output_type": "stream",
     "text": [
      "\"['commonstockdividendspersharedeclared'] not in index\"\n"
     ]
    },
    {
     "name": "stderr",
     "output_type": "stream",
     "text": [
      "  5%|█████████                                                                                                                                                                | 27/505 [00:20<06:01,  1.32it/s]"
     ]
    },
    {
     "name": "stdout",
     "output_type": "stream",
     "text": [
      "\"['commonstockdividendspersharedeclared'] not in index\"\n"
     ]
    },
    {
     "name": "stderr",
     "output_type": "stream",
     "text": [
      "  8%|█████████████                                                                                                                                                            | 39/505 [00:30<05:55,  1.31it/s]"
     ]
    },
    {
     "name": "stdout",
     "output_type": "stream",
     "text": [
      "\"['commonstockdividendspersharedeclared'] not in index\"\n"
     ]
    },
    {
     "name": "stderr",
     "output_type": "stream",
     "text": [
      "\r",
      "  8%|█████████████▍                                                                                                                                                           | 40/505 [00:31<05:37,  1.38it/s]"
     ]
    },
    {
     "name": "stdout",
     "output_type": "stream",
     "text": [
      "\"['commonstockdividendspersharedeclared'] not in index\"\n"
     ]
    },
    {
     "name": "stderr",
     "output_type": "stream",
     "text": [
      " 10%|████████████████▍                                                                                                                                                        | 49/505 [00:38<05:40,  1.34it/s]"
     ]
    },
    {
     "name": "stdout",
     "output_type": "stream",
     "text": [
      "\"['commonstockdividendspersharedeclared'] not in index\"\n"
     ]
    },
    {
     "name": "stderr",
     "output_type": "stream",
     "text": [
      " 10%|█████████████████▋                                                                                                                                                       | 53/505 [00:41<06:12,  1.21it/s]"
     ]
    },
    {
     "name": "stdout",
     "output_type": "stream",
     "text": [
      "\"['commonstockdividendspersharedeclared'] not in index\"\n"
     ]
    },
    {
     "name": "stderr",
     "output_type": "stream",
     "text": [
      "\r",
      " 11%|██████████████████                                                                                                                                                       | 54/505 [00:42<06:03,  1.24it/s]"
     ]
    },
    {
     "name": "stdout",
     "output_type": "stream",
     "text": [
      "\"['commonstockdividendspersharedeclared'] not in index\"\n"
     ]
    },
    {
     "name": "stderr",
     "output_type": "stream",
     "text": [
      " 11%|██████████████████▋                                                                                                                                                      | 56/505 [00:43<05:49,  1.28it/s]"
     ]
    },
    {
     "name": "stdout",
     "output_type": "stream",
     "text": [
      "\"['commonstockdividendspersharedeclared'] not in index\"\n"
     ]
    },
    {
     "name": "stderr",
     "output_type": "stream",
     "text": [
      " 12%|███████████████████▋                                                                                                                                                     | 59/505 [00:45<05:22,  1.38it/s]"
     ]
    },
    {
     "name": "stdout",
     "output_type": "stream",
     "text": [
      "\"['commonstockdividendspersharedeclared'] not in index\"\n"
     ]
    },
    {
     "name": "stderr",
     "output_type": "stream",
     "text": [
      " 13%|█████████████████████▊                                                                                                                                                   | 65/505 [00:51<06:03,  1.21it/s]"
     ]
    },
    {
     "name": "stdout",
     "output_type": "stream",
     "text": [
      "\"['commonstockdividendspersharedeclared'] not in index\"\n"
     ]
    },
    {
     "name": "stderr",
     "output_type": "stream",
     "text": [
      " 13%|██████████████████████▍                                                                                                                                                  | 67/505 [00:53<05:35,  1.30it/s]"
     ]
    },
    {
     "name": "stdout",
     "output_type": "stream",
     "text": [
      "\"['commonstockdividendspersharedeclared'] not in index\"\n"
     ]
    },
    {
     "name": "stderr",
     "output_type": "stream",
     "text": [
      " 14%|███████████████████████                                                                                                                                                  | 69/505 [00:54<05:31,  1.32it/s]"
     ]
    },
    {
     "name": "stdout",
     "output_type": "stream",
     "text": [
      "\"['commonstockdividendspersharedeclared'] not in index\"\n"
     ]
    },
    {
     "name": "stderr",
     "output_type": "stream",
     "text": [
      "\r",
      " 14%|███████████████████████▍                                                                                                                                                 | 70/505 [00:55<05:51,  1.24it/s]"
     ]
    },
    {
     "name": "stdout",
     "output_type": "stream",
     "text": [
      "\"['commonstockdividendspersharedeclared'] not in index\"\n"
     ]
    },
    {
     "name": "stderr",
     "output_type": "stream",
     "text": [
      "\r",
      " 14%|███████████████████████▊                                                                                                                                                 | 71/505 [00:56<06:36,  1.09it/s]"
     ]
    },
    {
     "name": "stdout",
     "output_type": "stream",
     "text": [
      "\"['commonstockdividendspersharedeclared'] not in index\"\n"
     ]
    },
    {
     "name": "stderr",
     "output_type": "stream",
     "text": [
      " 14%|████████████████████████▍                                                                                                                                                | 73/505 [00:58<06:01,  1.19it/s]"
     ]
    },
    {
     "name": "stdout",
     "output_type": "stream",
     "text": [
      "\"['commonstockdividendspersharedeclared'] not in index\"\n"
     ]
    },
    {
     "name": "stderr",
     "output_type": "stream",
     "text": [
      " 15%|█████████████████████████▍                                                                                                                                               | 76/505 [01:01<06:44,  1.06it/s]"
     ]
    },
    {
     "name": "stdout",
     "output_type": "stream",
     "text": [
      "\"['commonstockdividendspersharedeclared'] not in index\"\n"
     ]
    },
    {
     "name": "stderr",
     "output_type": "stream",
     "text": [
      " 16%|███████████████████████████▊                                                                                                                                             | 83/505 [01:06<04:54,  1.43it/s]"
     ]
    },
    {
     "name": "stdout",
     "output_type": "stream",
     "text": [
      "\"['commonstockdividendspersharedeclared'] not in index\"\n"
     ]
    },
    {
     "name": "stderr",
     "output_type": "stream",
     "text": [
      "\r",
      " 17%|████████████████████████████                                                                                                                                             | 84/505 [01:07<05:04,  1.38it/s]"
     ]
    },
    {
     "name": "stdout",
     "output_type": "stream",
     "text": [
      "\"['commonstockdividendspersharedeclared'] not in index\"\n"
     ]
    },
    {
     "name": "stderr",
     "output_type": "stream",
     "text": [
      " 17%|█████████████████████████████▍                                                                                                                                           | 88/505 [01:11<06:00,  1.16it/s]"
     ]
    },
    {
     "name": "stdout",
     "output_type": "stream",
     "text": [
      "\"['commonstockdividendspersharedeclared'] not in index\"\n"
     ]
    },
    {
     "name": "stderr",
     "output_type": "stream",
     "text": [
      " 18%|██████████████████████████████▍                                                                                                                                          | 91/505 [01:13<04:55,  1.40it/s]"
     ]
    },
    {
     "name": "stdout",
     "output_type": "stream",
     "text": [
      "\"['commonstockdividendspersharedeclared'] not in index\"\n"
     ]
    },
    {
     "name": "stderr",
     "output_type": "stream",
     "text": [
      " 19%|███████████████████████████████▍                                                                                                                                         | 94/505 [01:15<05:31,  1.24it/s]"
     ]
    },
    {
     "name": "stdout",
     "output_type": "stream",
     "text": [
      "\"['commonstockdividendspersharedeclared'] not in index\"\n"
     ]
    },
    {
     "name": "stderr",
     "output_type": "stream",
     "text": [
      " 19%|████████████████████████████████▏                                                                                                                                        | 96/505 [01:16<05:05,  1.34it/s]"
     ]
    },
    {
     "name": "stdout",
     "output_type": "stream",
     "text": [
      "\"['commonstockdividendspersharedeclared'] not in index\"\n"
     ]
    },
    {
     "name": "stderr",
     "output_type": "stream",
     "text": [
      "\r",
      " 19%|████████████████████████████████▍                                                                                                                                        | 97/505 [01:17<05:03,  1.35it/s]"
     ]
    },
    {
     "name": "stdout",
     "output_type": "stream",
     "text": [
      "\"['commonstockdividendspersharedeclared'] not in index\"\n"
     ]
    },
    {
     "name": "stderr",
     "output_type": "stream",
     "text": [
      " 20%|█████████████████████████████████▏                                                                                                                                       | 99/505 [01:19<05:13,  1.30it/s]"
     ]
    },
    {
     "name": "stdout",
     "output_type": "stream",
     "text": [
      "\"['commonstockdividendspersharedeclared'] not in index\"\n"
     ]
    },
    {
     "name": "stderr",
     "output_type": "stream",
     "text": [
      "\r",
      " 20%|█████████████████████████████████▎                                                                                                                                      | 100/505 [01:19<04:54,  1.37it/s]"
     ]
    },
    {
     "name": "stdout",
     "output_type": "stream",
     "text": [
      "\"['commonstockdividendspersharedeclared'] not in index\"\n"
     ]
    },
    {
     "name": "stderr",
     "output_type": "stream",
     "text": [
      " 20%|█████████████████████████████████▉                                                                                                                                      | 102/505 [01:21<05:06,  1.31it/s]"
     ]
    },
    {
     "name": "stdout",
     "output_type": "stream",
     "text": [
      "\"['commonstockdividendspersharedeclared'] not in index\"\n"
     ]
    },
    {
     "name": "stderr",
     "output_type": "stream",
     "text": [
      " 21%|██████████████████████████████████▌                                                                                                                                     | 104/505 [01:23<05:05,  1.31it/s]"
     ]
    },
    {
     "name": "stdout",
     "output_type": "stream",
     "text": [
      "\"['commonstockdividendspersharedeclared'] not in index\"\n"
     ]
    },
    {
     "name": "stderr",
     "output_type": "stream",
     "text": [
      " 21%|███████████████████████████████████▎                                                                                                                                    | 106/505 [01:24<05:02,  1.32it/s]"
     ]
    },
    {
     "name": "stdout",
     "output_type": "stream",
     "text": [
      "\"['commonstockdividendspersharedeclared'] not in index\"\n"
     ]
    },
    {
     "name": "stderr",
     "output_type": "stream",
     "text": [
      " 21%|███████████████████████████████████▉                                                                                                                                    | 108/505 [01:26<05:09,  1.28it/s]"
     ]
    },
    {
     "name": "stdout",
     "output_type": "stream",
     "text": [
      "\"['commonstockdividendspersharedeclared'] not in index\"\n"
     ]
    },
    {
     "name": "stderr",
     "output_type": "stream",
     "text": [
      " 25%|██████████████████████████████████████████▏                                                                                                                             | 127/505 [01:41<05:18,  1.19it/s]"
     ]
    },
    {
     "name": "stdout",
     "output_type": "stream",
     "text": [
      "\"['commonstockdividendspersharedeclared'] not in index\"\n"
     ]
    },
    {
     "name": "stderr",
     "output_type": "stream",
     "text": [
      "\r",
      " 25%|██████████████████████████████████████████▌                                                                                                                             | 128/505 [01:42<05:02,  1.25it/s]"
     ]
    },
    {
     "name": "stdout",
     "output_type": "stream",
     "text": [
      "\"['commonstockdividendspersharedeclared'] not in index\"\n"
     ]
    },
    {
     "name": "stderr",
     "output_type": "stream",
     "text": [
      "\r",
      " 26%|██████████████████████████████████████████▉                                                                                                                             | 129/505 [01:43<04:46,  1.31it/s]"
     ]
    },
    {
     "name": "stdout",
     "output_type": "stream",
     "text": [
      "\"['commonstockdividendspersharedeclared'] not in index\"\n"
     ]
    },
    {
     "name": "stderr",
     "output_type": "stream",
     "text": [
      " 28%|██████████████████████████████████████████████▏                                                                                                                         | 139/505 [01:50<04:27,  1.37it/s]"
     ]
    },
    {
     "name": "stdout",
     "output_type": "stream",
     "text": [
      "\"['commonstockdividendspersharedeclared'] not in index\"\n"
     ]
    },
    {
     "name": "stderr",
     "output_type": "stream",
     "text": [
      " 28%|██████████████████████████████████████████████▉                                                                                                                         | 141/505 [01:51<04:31,  1.34it/s]"
     ]
    },
    {
     "name": "stdout",
     "output_type": "stream",
     "text": [
      "\"['commonstockdividendspersharedeclared'] not in index\"\n"
     ]
    },
    {
     "name": "stderr",
     "output_type": "stream",
     "text": [
      " 29%|████████████████████████████████████████████████▌                                                                                                                       | 146/505 [01:56<04:44,  1.26it/s]"
     ]
    },
    {
     "name": "stdout",
     "output_type": "stream",
     "text": [
      "\"['commonstockdividendspersharedeclared'] not in index\"\n"
     ]
    },
    {
     "name": "stderr",
     "output_type": "stream",
     "text": [
      " 29%|█████████████████████████████████████████████████▏                                                                                                                      | 148/505 [01:57<04:41,  1.27it/s]"
     ]
    },
    {
     "name": "stdout",
     "output_type": "stream",
     "text": [
      "\"['commonstockdividendspersharedeclared'] not in index\"\n"
     ]
    },
    {
     "name": "stderr",
     "output_type": "stream",
     "text": [
      " 30%|█████████████████████████████████████████████████▉                                                                                                                      | 150/505 [01:59<05:09,  1.15it/s]"
     ]
    },
    {
     "name": "stdout",
     "output_type": "stream",
     "text": [
      "\"['commonstockdividendspersharedeclared'] not in index\"\n"
     ]
    },
    {
     "name": "stderr",
     "output_type": "stream",
     "text": [
      "\r",
      " 30%|██████████████████████████████████████████████████▏                                                                                                                     | 151/505 [02:00<05:21,  1.10it/s]"
     ]
    },
    {
     "name": "stdout",
     "output_type": "stream",
     "text": [
      "\"['commonstockdividendspersharedeclared'] not in index\"\n"
     ]
    },
    {
     "name": "stderr",
     "output_type": "stream",
     "text": [
      " 30%|███████████████████████████████████████████████████▏                                                                                                                    | 154/505 [02:02<04:23,  1.33it/s]"
     ]
    },
    {
     "name": "stdout",
     "output_type": "stream",
     "text": [
      "\"['commonstockdividendspersharedeclared'] not in index\"\n"
     ]
    },
    {
     "name": "stderr",
     "output_type": "stream",
     "text": [
      " 31%|████████████████████████████████████████████████████▏                                                                                                                   | 157/505 [02:05<04:47,  1.21it/s]"
     ]
    },
    {
     "name": "stdout",
     "output_type": "stream",
     "text": [
      "\"['commonstockdividendspersharedeclared'] not in index\"\n"
     ]
    },
    {
     "name": "stderr",
     "output_type": "stream",
     "text": [
      " 32%|█████████████████████████████████████████████████████▌                                                                                                                  | 161/505 [02:09<05:24,  1.06it/s]"
     ]
    },
    {
     "name": "stdout",
     "output_type": "stream",
     "text": [
      "\"['commonstockdividendspersharedeclared'] not in index\"\n"
     ]
    },
    {
     "name": "stderr",
     "output_type": "stream",
     "text": [
      " 33%|███████████████████████████████████████████████████████▏                                                                                                                | 166/505 [02:12<04:20,  1.30it/s]"
     ]
    },
    {
     "name": "stdout",
     "output_type": "stream",
     "text": [
      "\"['commonstockdividendspersharedeclared'] not in index\"\n"
     ]
    },
    {
     "name": "stderr",
     "output_type": "stream",
     "text": [
      " 33%|████████████████████████████████████████████████████████▏                                                                                                               | 169/505 [02:15<04:27,  1.26it/s]"
     ]
    },
    {
     "name": "stdout",
     "output_type": "stream",
     "text": [
      "\"['commonstockdividendspersharedeclared'] not in index\"\n"
     ]
    },
    {
     "name": "stderr",
     "output_type": "stream",
     "text": [
      " 34%|█████████████████████████████████████████████████████████▏                                                                                                              | 172/505 [02:17<03:56,  1.41it/s]"
     ]
    },
    {
     "name": "stdout",
     "output_type": "stream",
     "text": [
      "\"['commonstockdividendspersharedeclared'] not in index\"\n"
     ]
    },
    {
     "name": "stderr",
     "output_type": "stream",
     "text": [
      " 35%|██████████████████████████████████████████████████████████▏                                                                                                             | 175/505 [02:20<04:37,  1.19it/s]"
     ]
    },
    {
     "name": "stdout",
     "output_type": "stream",
     "text": [
      "\"['commonstockdividendspersharedeclared'] not in index\"\n"
     ]
    },
    {
     "name": "stderr",
     "output_type": "stream",
     "text": [
      " 36%|████████████████████████████████████████████████████████████▏                                                                                                           | 181/505 [02:25<04:12,  1.29it/s]"
     ]
    },
    {
     "name": "stdout",
     "output_type": "stream",
     "text": [
      "\"['commonstockdividendspersharedeclared'] not in index\"\n"
     ]
    },
    {
     "name": "stderr",
     "output_type": "stream",
     "text": [
      " 37%|██████████████████████████████████████████████████████████████▉                                                                                                         | 189/505 [02:32<04:21,  1.21it/s]"
     ]
    },
    {
     "name": "stdout",
     "output_type": "stream",
     "text": [
      "\"['commonstockdividendspersharedeclared'] not in index\"\n"
     ]
    },
    {
     "name": "stderr",
     "output_type": "stream",
     "text": [
      "\r",
      " 38%|███████████████████████████████████████████████████████████████▏                                                                                                        | 190/505 [02:33<04:01,  1.30it/s]"
     ]
    },
    {
     "name": "stdout",
     "output_type": "stream",
     "text": [
      "\"['commonstockdividendspersharedeclared'] not in index\"\n"
     ]
    },
    {
     "name": "stderr",
     "output_type": "stream",
     "text": [
      " 39%|█████████████████████████████████████████████████████████████████▌                                                                                                      | 197/505 [02:39<04:48,  1.07it/s]"
     ]
    },
    {
     "name": "stdout",
     "output_type": "stream",
     "text": [
      "'date'\n"
     ]
    },
    {
     "name": "stderr",
     "output_type": "stream",
     "text": [
      "\r",
      " 39%|██████████████████████████████████████████████████████████████████▏                                                                                                     | 199/505 [02:39<03:25,  1.49it/s]"
     ]
    },
    {
     "name": "stdout",
     "output_type": "stream",
     "text": [
      "\"['commonstockdividendspersharedeclared'] not in index\"\n"
     ]
    },
    {
     "name": "stderr",
     "output_type": "stream",
     "text": [
      "\r",
      " 40%|██████████████████████████████████████████████████████████████████▌                                                                                                     | 200/505 [02:40<03:24,  1.49it/s]"
     ]
    },
    {
     "name": "stdout",
     "output_type": "stream",
     "text": [
      "\"['commonstockdividendspersharedeclared'] not in index\"\n"
     ]
    },
    {
     "name": "stderr",
     "output_type": "stream",
     "text": [
      " 40%|███████████████████████████████████████████████████████████████████▌                                                                                                    | 203/505 [02:42<03:32,  1.42it/s]"
     ]
    },
    {
     "name": "stdout",
     "output_type": "stream",
     "text": [
      "\"['commonstockdividendspersharedeclared'] not in index\"\n"
     ]
    },
    {
     "name": "stderr",
     "output_type": "stream",
     "text": [
      "\r",
      " 40%|███████████████████████████████████████████████████████████████████▊                                                                                                    | 204/505 [02:43<03:24,  1.47it/s]"
     ]
    },
    {
     "name": "stdout",
     "output_type": "stream",
     "text": [
      "\"['commonstockdividendspersharedeclared'] not in index\"\n"
     ]
    },
    {
     "name": "stderr",
     "output_type": "stream",
     "text": [
      " 41%|████████████████████████████████████████████████████████████████████▌                                                                                                   | 206/505 [02:44<03:10,  1.57it/s]"
     ]
    },
    {
     "name": "stdout",
     "output_type": "stream",
     "text": [
      "\"['commonstockdividendspersharedeclared'] not in index\"\n"
     ]
    },
    {
     "name": "stderr",
     "output_type": "stream",
     "text": [
      "\r",
      " 41%|████████████████████████████████████████████████████████████████████▊                                                                                                   | 207/505 [02:45<03:02,  1.63it/s]"
     ]
    },
    {
     "name": "stdout",
     "output_type": "stream",
     "text": [
      "\"['commonstockdividendspersharedeclared'] not in index\"\n"
     ]
    },
    {
     "name": "stderr",
     "output_type": "stream",
     "text": [
      " 42%|██████████████████████████████████████████████████████████████████████▌                                                                                                 | 212/505 [02:49<03:36,  1.35it/s]"
     ]
    },
    {
     "name": "stdout",
     "output_type": "stream",
     "text": [
      "\"['commonstockdividendspersharedeclared'] not in index\"\n"
     ]
    },
    {
     "name": "stderr",
     "output_type": "stream",
     "text": [
      " 45%|████████████████████████████████████████████████████████████████████████████▏                                                                                           | 229/505 [03:04<03:47,  1.22it/s]"
     ]
    },
    {
     "name": "stdout",
     "output_type": "stream",
     "text": [
      "\"['commonstockdividendspersharedeclared'] not in index\"\n"
     ]
    },
    {
     "name": "stderr",
     "output_type": "stream",
     "text": [
      "\r",
      " 46%|████████████████████████████████████████████████████████████████████████████▌                                                                                           | 230/505 [03:05<03:47,  1.21it/s]"
     ]
    },
    {
     "name": "stdout",
     "output_type": "stream",
     "text": [
      "\"['commonstockdividendspersharedeclared'] not in index\"\n"
     ]
    },
    {
     "name": "stderr",
     "output_type": "stream",
     "text": [
      " 46%|█████████████████████████████████████████████████████████████████████████████▊                                                                                          | 234/505 [03:08<04:02,  1.12it/s]"
     ]
    },
    {
     "name": "stdout",
     "output_type": "stream",
     "text": [
      "\"['commonstockdividendspersharedeclared'] not in index\"\n"
     ]
    },
    {
     "name": "stderr",
     "output_type": "stream",
     "text": [
      " 49%|█████████████████████████████████████████████████████████████████████████████████▌                                                                                      | 245/505 [03:17<03:13,  1.34it/s]"
     ]
    },
    {
     "name": "stdout",
     "output_type": "stream",
     "text": [
      "\"['commonstockdividendspersharedeclared'] not in index\"\n"
     ]
    },
    {
     "name": "stderr",
     "output_type": "stream",
     "text": [
      " 49%|██████████████████████████████████████████████████████████████████████████████████▌                                                                                     | 248/505 [03:19<03:02,  1.41it/s]"
     ]
    },
    {
     "name": "stdout",
     "output_type": "stream",
     "text": [
      "\"['commonstockdividendspersharedeclared'] not in index\"\n"
     ]
    },
    {
     "name": "stderr",
     "output_type": "stream",
     "text": [
      "\r",
      " 49%|██████████████████████████████████████████████████████████████████████████████████▊                                                                                     | 249/505 [03:19<02:55,  1.46it/s]"
     ]
    },
    {
     "name": "stdout",
     "output_type": "stream",
     "text": [
      "\"['commonstockdividendspersharedeclared'] not in index\"\n"
     ]
    },
    {
     "name": "stderr",
     "output_type": "stream",
     "text": [
      "\r",
      " 50%|███████████████████████████████████████████████████████████████████████████████████▏                                                                                    | 250/505 [03:20<02:49,  1.51it/s]"
     ]
    },
    {
     "name": "stdout",
     "output_type": "stream",
     "text": [
      "\"['commonstockdividendspersharedeclared'] not in index\"\n"
     ]
    },
    {
     "name": "stderr",
     "output_type": "stream",
     "text": [
      " 51%|█████████████████████████████████████████████████████████████████████████████████████▊                                                                                  | 258/505 [03:26<03:01,  1.36it/s]"
     ]
    },
    {
     "name": "stdout",
     "output_type": "stream",
     "text": [
      "\"['commonstockdividendspersharedeclared'] not in index\"\n"
     ]
    },
    {
     "name": "stderr",
     "output_type": "stream",
     "text": [
      " 51%|██████████████████████████████████████████████████████████████████████████████████████▍                                                                                 | 260/505 [03:28<03:00,  1.35it/s]"
     ]
    },
    {
     "name": "stdout",
     "output_type": "stream",
     "text": [
      "\"['commonstockdividendspersharedeclared'] not in index\"\n"
     ]
    },
    {
     "name": "stderr",
     "output_type": "stream",
     "text": [
      "\r",
      " 52%|██████████████████████████████████████████████████████████████████████████████████████▊                                                                                 | 261/505 [03:29<02:58,  1.37it/s]"
     ]
    },
    {
     "name": "stdout",
     "output_type": "stream",
     "text": [
      "\"['commonstockdividendspersharedeclared'] not in index\"\n"
     ]
    },
    {
     "name": "stderr",
     "output_type": "stream",
     "text": [
      " 54%|██████████████████████████████████████████████████████████████████████████████████████████▊                                                                             | 273/505 [03:39<03:32,  1.09it/s]"
     ]
    },
    {
     "name": "stdout",
     "output_type": "stream",
     "text": [
      "\"['commonstockdividendspersharedeclared'] not in index\"\n"
     ]
    },
    {
     "name": "stderr",
     "output_type": "stream",
     "text": [
      " 55%|█████████████████████████████████████████████████████████████████████████████████████████████▏                                                                          | 280/505 [03:45<03:09,  1.19it/s]"
     ]
    },
    {
     "name": "stdout",
     "output_type": "stream",
     "text": [
      "\"['commonstockdividendspersharedeclared'] not in index\"\n"
     ]
    },
    {
     "name": "stderr",
     "output_type": "stream",
     "text": [
      "\r",
      " 56%|█████████████████████████████████████████████████████████████████████████████████████████████▍                                                                          | 281/505 [03:46<03:07,  1.19it/s]"
     ]
    },
    {
     "name": "stdout",
     "output_type": "stream",
     "text": [
      "\"['commonstockdividendspersharedeclared'] not in index\"\n"
     ]
    },
    {
     "name": "stderr",
     "output_type": "stream",
     "text": [
      " 57%|████████████████████████████████████████████████████████████████████████████████████████████████▍                                                                       | 290/505 [03:52<02:40,  1.34it/s]"
     ]
    },
    {
     "name": "stdout",
     "output_type": "stream",
     "text": [
      "\"['commonstockdividendspersharedeclared'] not in index\"\n"
     ]
    },
    {
     "name": "stderr",
     "output_type": "stream",
     "text": [
      "\r",
      " 58%|████████████████████████████████████████████████████████████████████████████████████████████████▊                                                                       | 291/505 [03:53<02:44,  1.30it/s]"
     ]
    },
    {
     "name": "stdout",
     "output_type": "stream",
     "text": [
      "\"['commonstockdividendspersharedeclared'] not in index\"\n"
     ]
    },
    {
     "name": "stderr",
     "output_type": "stream",
     "text": [
      " 59%|███████████████████████████████████████████████████████████████████████████████████████████████████▏                                                                    | 298/505 [04:00<03:05,  1.12it/s]"
     ]
    },
    {
     "name": "stdout",
     "output_type": "stream",
     "text": [
      "\"['commonstockdividendspersharedeclared'] not in index\"\n"
     ]
    },
    {
     "name": "stderr",
     "output_type": "stream",
     "text": [
      " 62%|███████████████████████████████████████████████████████████████████████████████████████████████████████▊                                                                | 312/505 [04:10<02:23,  1.34it/s]"
     ]
    },
    {
     "name": "stdout",
     "output_type": "stream",
     "text": [
      "\"['commonstockdividendspersharedeclared'] not in index\"\n"
     ]
    },
    {
     "name": "stderr",
     "output_type": "stream",
     "text": [
      "\r",
      " 62%|████████████████████████████████████████████████████████████████████████████████████████████████████████▏                                                               | 313/505 [04:12<03:20,  1.05s/it]"
     ]
    },
    {
     "name": "stdout",
     "output_type": "stream",
     "text": [
      "\"['commonstockdividendspersharedeclared'] not in index\"\n"
     ]
    },
    {
     "name": "stderr",
     "output_type": "stream",
     "text": [
      "\r",
      " 62%|████████████████████████████████████████████████████████████████████████████████████████████████████████▍                                                               | 314/505 [04:13<02:58,  1.07it/s]"
     ]
    },
    {
     "name": "stdout",
     "output_type": "stream",
     "text": [
      "\"['commonstockdividendspersharedeclared'] not in index\"\n"
     ]
    },
    {
     "name": "stderr",
     "output_type": "stream",
     "text": [
      " 63%|██████████████████████████████████████████████████████████████████████████████████████████████████████████▍                                                             | 320/505 [04:17<02:09,  1.42it/s]"
     ]
    },
    {
     "name": "stdout",
     "output_type": "stream",
     "text": [
      "\"['commonstockdividendspersharedeclared'] not in index\"\n"
     ]
    },
    {
     "name": "stderr",
     "output_type": "stream",
     "text": [
      "\r",
      " 64%|██████████████████████████████████████████████████████████████████████████████████████████████████████████▊                                                             | 321/505 [04:18<02:08,  1.43it/s]"
     ]
    },
    {
     "name": "stdout",
     "output_type": "stream",
     "text": [
      "\"['commonstockdividendspersharedeclared'] not in index\"\n"
     ]
    },
    {
     "name": "stderr",
     "output_type": "stream",
     "text": [
      " 64%|████████████████████████████████████████████████████████████████████████████████████████████████████████████                                                            | 325/505 [04:20<02:05,  1.44it/s]"
     ]
    },
    {
     "name": "stdout",
     "output_type": "stream",
     "text": [
      "\"['commonstockdividendspersharedeclared'] not in index\"\n"
     ]
    },
    {
     "name": "stderr",
     "output_type": "stream",
     "text": [
      " 66%|██████████████████████████████████████████████████████████████████████████████████████████████████████████████▊                                                         | 333/505 [04:27<02:09,  1.33it/s]"
     ]
    },
    {
     "name": "stdout",
     "output_type": "stream",
     "text": [
      "\"['commonstockdividendspersharedeclared'] not in index\"\n"
     ]
    },
    {
     "name": "stderr",
     "output_type": "stream",
     "text": [
      " 67%|████████████████████████████████████████████████████████████████████████████████████████████████████████████████▍                                                       | 338/505 [04:31<02:12,  1.26it/s]"
     ]
    },
    {
     "name": "stdout",
     "output_type": "stream",
     "text": [
      "\"['commonstockdividendspersharedeclared'] not in index\"\n"
     ]
    },
    {
     "name": "stderr",
     "output_type": "stream",
     "text": [
      " 69%|███████████████████████████████████████████████████████████████████████████████████████████████████████████████████                                                     | 346/505 [04:37<02:01,  1.31it/s]"
     ]
    },
    {
     "name": "stdout",
     "output_type": "stream",
     "text": [
      "\"['commonstockdividendspersharedeclared'] not in index\"\n"
     ]
    },
    {
     "name": "stderr",
     "output_type": "stream",
     "text": [
      " 69%|████████████████████████████████████████████████████████████████████████████████████████████████████████████████████▍                                                   | 350/505 [04:41<02:01,  1.28it/s]"
     ]
    },
    {
     "name": "stdout",
     "output_type": "stream",
     "text": [
      "\"['commonstockdividendspersharedeclared'] not in index\"\n"
     ]
    },
    {
     "name": "stderr",
     "output_type": "stream",
     "text": [
      " 70%|█████████████████████████████████████████████████████████████████████████████████████████████████████████████████████                                                   | 352/505 [04:42<01:51,  1.37it/s]"
     ]
    },
    {
     "name": "stdout",
     "output_type": "stream",
     "text": [
      "\"['commonstockdividendspersharedeclared'] not in index\"\n"
     ]
    },
    {
     "name": "stderr",
     "output_type": "stream",
     "text": [
      " 71%|███████████████████████████████████████████████████████████████████████████████████████████████████████████████████████                                                 | 358/505 [04:46<01:38,  1.49it/s]"
     ]
    },
    {
     "name": "stdout",
     "output_type": "stream",
     "text": [
      "\"['commonstockdividendspersharedeclared'] not in index\"\n"
     ]
    },
    {
     "name": "stderr",
     "output_type": "stream",
     "text": [
      "\r",
      " 71%|███████████████████████████████████████████████████████████████████████████████████████████████████████████████████████▍                                                | 359/505 [04:47<01:33,  1.55it/s]"
     ]
    },
    {
     "name": "stdout",
     "output_type": "stream",
     "text": [
      "\"['commonstockdividendspersharedeclared'] not in index\"\n"
     ]
    },
    {
     "name": "stderr",
     "output_type": "stream",
     "text": [
      " 72%|█████████████████████████████████████████████████████████████████████████████████████████████████████████████████████████                                               | 364/505 [04:50<01:29,  1.57it/s]"
     ]
    },
    {
     "name": "stdout",
     "output_type": "stream",
     "text": [
      "\"['commonstockdividendspersharedeclared'] not in index\"\n"
     ]
    },
    {
     "name": "stderr",
     "output_type": "stream",
     "text": [
      "\r",
      " 72%|█████████████████████████████████████████████████████████████████████████████████████████████████████████████████████████▍                                              | 365/505 [04:51<01:27,  1.60it/s]"
     ]
    },
    {
     "name": "stdout",
     "output_type": "stream",
     "text": [
      "\"['commonstockdividendspersharedeclared'] not in index\"\n"
     ]
    },
    {
     "name": "stderr",
     "output_type": "stream",
     "text": [
      "\r",
      " 72%|█████████████████████████████████████████████████████████████████████████████████████████████████████████████████████████▊                                              | 366/505 [04:51<01:36,  1.44it/s]"
     ]
    },
    {
     "name": "stdout",
     "output_type": "stream",
     "text": [
      "\"['commonstockdividendspersharedeclared'] not in index\"\n"
     ]
    },
    {
     "name": "stderr",
     "output_type": "stream",
     "text": [
      " 73%|██████████████████████████████████████████████████████████████████████████████████████████████████████████████████████████▍                                             | 368/505 [04:53<02:00,  1.14it/s]"
     ]
    },
    {
     "name": "stdout",
     "output_type": "stream",
     "text": [
      "\"['commonstockdividendspersharedeclared'] not in index\"\n"
     ]
    },
    {
     "name": "stderr",
     "output_type": "stream",
     "text": [
      " 74%|████████████████████████████████████████████████████████████████████████████████████████████████████████████████████████████                                            | 373/505 [04:57<01:41,  1.30it/s]"
     ]
    },
    {
     "name": "stdout",
     "output_type": "stream",
     "text": [
      "\"['commonstockdividendspersharedeclared'] not in index\"\n"
     ]
    },
    {
     "name": "stderr",
     "output_type": "stream",
     "text": [
      " 75%|█████████████████████████████████████████████████████████████████████████████████████████████████████████████████████████████▍                                          | 377/505 [05:01<01:47,  1.19it/s]"
     ]
    },
    {
     "name": "stdout",
     "output_type": "stream",
     "text": [
      "\"['commonstockdividendspersharedeclared'] not in index\"\n"
     ]
    },
    {
     "name": "stderr",
     "output_type": "stream",
     "text": [
      " 75%|██████████████████████████████████████████████████████████████████████████████████████████████████████████████████████████████▋                                         | 381/505 [05:05<01:48,  1.15it/s]"
     ]
    },
    {
     "name": "stdout",
     "output_type": "stream",
     "text": [
      "\"['commonstockdividendspersharedeclared'] not in index\"\n"
     ]
    },
    {
     "name": "stderr",
     "output_type": "stream",
     "text": [
      " 76%|████████████████████████████████████████████████████████████████████████████████████████████████████████████████████████████████                                        | 385/505 [05:08<01:50,  1.09it/s]"
     ]
    },
    {
     "name": "stdout",
     "output_type": "stream",
     "text": [
      "\"['commonstockdividendspersharedeclared'] not in index\"\n"
     ]
    },
    {
     "name": "stderr",
     "output_type": "stream",
     "text": [
      " 77%|█████████████████████████████████████████████████████████████████████████████████████████████████████████████████████████████████▋                                      | 390/505 [05:12<01:25,  1.34it/s]"
     ]
    },
    {
     "name": "stdout",
     "output_type": "stream",
     "text": [
      "\"['commonstockdividendspersharedeclared'] not in index\"\n"
     ]
    },
    {
     "name": "stderr",
     "output_type": "stream",
     "text": [
      " 79%|████████████████████████████████████████████████████████████████████████████████████████████████████████████████████████████████████▋                                   | 399/505 [05:20<01:21,  1.30it/s]"
     ]
    },
    {
     "name": "stdout",
     "output_type": "stream",
     "text": [
      "\"['commonstockdividendspersharedeclared'] not in index\"\n"
     ]
    },
    {
     "name": "stderr",
     "output_type": "stream",
     "text": [
      " 81%|████████████████████████████████████████████████████████████████████████████████████████████████████████████████████████████████████████▍                               | 410/505 [05:28<01:10,  1.36it/s]"
     ]
    },
    {
     "name": "stdout",
     "output_type": "stream",
     "text": [
      "\"['commonstockdividendspersharedeclared'] not in index\"\n"
     ]
    },
    {
     "name": "stderr",
     "output_type": "stream",
     "text": [
      "\r",
      " 81%|████████████████████████████████████████████████████████████████████████████████████████████████████████████████████████████████████████▋                               | 411/505 [05:29<01:09,  1.34it/s]"
     ]
    },
    {
     "name": "stdout",
     "output_type": "stream",
     "text": [
      "\"['commonstockdividendspersharedeclared'] not in index\"\n"
     ]
    },
    {
     "name": "stderr",
     "output_type": "stream",
     "text": [
      " 82%|██████████████████████████████████████████████████████████████████████████████████████████████████████████████████████████████████████████▍                             | 416/505 [05:33<01:24,  1.05it/s]"
     ]
    },
    {
     "name": "stdout",
     "output_type": "stream",
     "text": [
      "\"['commonstockdividendspersharedeclared'] not in index\"\n"
     ]
    },
    {
     "name": "stderr",
     "output_type": "stream",
     "text": [
      "\r",
      " 83%|██████████████████████████████████████████████████████████████████████████████████████████████████████████████████████████████████████████▋                             | 417/505 [05:34<01:19,  1.10it/s]"
     ]
    },
    {
     "name": "stdout",
     "output_type": "stream",
     "text": [
      "'date'\n"
     ]
    },
    {
     "name": "stderr",
     "output_type": "stream",
     "text": [
      " 84%|████████████████████████████████████████████████████████████████████████████████████████████████████████████████████████████████████████████▍                           | 422/505 [05:37<00:55,  1.48it/s]"
     ]
    },
    {
     "name": "stdout",
     "output_type": "stream",
     "text": [
      "\"['commonstockdividendspersharedeclared'] not in index\"\n"
     ]
    },
    {
     "name": "stderr",
     "output_type": "stream",
     "text": [
      "\r",
      " 84%|████████████████████████████████████████████████████████████████████████████████████████████████████████████████████████████████████████████▋                           | 423/505 [05:39<01:18,  1.05it/s]"
     ]
    },
    {
     "name": "stdout",
     "output_type": "stream",
     "text": [
      "\"['commonstockdividendspersharedeclared'] not in index\"\n"
     ]
    },
    {
     "name": "stderr",
     "output_type": "stream",
     "text": [
      " 85%|███████████████████████████████████████████████████████████████████████████████████████████████████████████████████████████████████████████████                         | 430/505 [05:44<01:01,  1.23it/s]"
     ]
    },
    {
     "name": "stdout",
     "output_type": "stream",
     "text": [
      "\"['commonstockdividendspersharedeclared'] not in index\"\n"
     ]
    },
    {
     "name": "stderr",
     "output_type": "stream",
     "text": [
      " 86%|███████████████████████████████████████████████████████████████████████████████████████████████████████████████████████████████████████████████▋                        | 432/505 [05:46<00:52,  1.38it/s]"
     ]
    },
    {
     "name": "stdout",
     "output_type": "stream",
     "text": [
      "\"['commonstockdividendspersharedeclared'] not in index\"\n"
     ]
    },
    {
     "name": "stderr",
     "output_type": "stream",
     "text": [
      " 86%|████████████████████████████████████████████████████████████████████████████████████████████████████████████████████████████████████████████████▍                       | 434/505 [05:47<00:52,  1.36it/s]"
     ]
    },
    {
     "name": "stdout",
     "output_type": "stream",
     "text": [
      "\"['commonstockdividendspersharedeclared'] not in index\"\n"
     ]
    },
    {
     "name": "stderr",
     "output_type": "stream",
     "text": [
      " 86%|█████████████████████████████████████████████████████████████████████████████████████████████████████████████████████████████████████████████████                       | 436/505 [05:48<00:47,  1.44it/s]"
     ]
    },
    {
     "name": "stdout",
     "output_type": "stream",
     "text": [
      "\"['commonstockdividendspersharedeclared'] not in index\"\n"
     ]
    },
    {
     "name": "stderr",
     "output_type": "stream",
     "text": [
      " 87%|██████████████████████████████████████████████████████████████████████████████████████████████████████████████████████████████████████████████████▍                     | 440/505 [05:51<00:47,  1.36it/s]"
     ]
    },
    {
     "name": "stdout",
     "output_type": "stream",
     "text": [
      "\"['commonstockdividendspersharedeclared'] not in index\"\n"
     ]
    },
    {
     "name": "stderr",
     "output_type": "stream",
     "text": [
      " 88%|███████████████████████████████████████████████████████████████████████████████████████████████████████████████████████████████████████████████████▎                    | 443/505 [05:54<00:47,  1.31it/s]"
     ]
    },
    {
     "name": "stdout",
     "output_type": "stream",
     "text": [
      "\"['commonstockdividendspersharedeclared'] not in index\"\n"
     ]
    },
    {
     "name": "stderr",
     "output_type": "stream",
     "text": [
      " 90%|██████████████████████████████████████████████████████████████████████████████████████████████████████████████████████████████████████████████████████▎                 | 452/505 [06:00<00:38,  1.36it/s]"
     ]
    },
    {
     "name": "stdout",
     "output_type": "stream",
     "text": [
      "\"['commonstockdividendspersharedeclared'] not in index\"\n"
     ]
    },
    {
     "name": "stderr",
     "output_type": "stream",
     "text": [
      " 90%|███████████████████████████████████████████████████████████████████████████████████████████████████████████████████████████████████████████████████████                 | 454/505 [06:02<00:38,  1.31it/s]"
     ]
    },
    {
     "name": "stdout",
     "output_type": "stream",
     "text": [
      "\"['commonstockdividendspersharedeclared'] not in index\"\n"
     ]
    },
    {
     "name": "stderr",
     "output_type": "stream",
     "text": [
      "\r",
      " 90%|███████████████████████████████████████████████████████████████████████████████████████████████████████████████████████████████████████████████████████▎                | 455/505 [06:03<00:35,  1.39it/s]"
     ]
    },
    {
     "name": "stdout",
     "output_type": "stream",
     "text": [
      "\"['commonstockdividendspersharedeclared'] not in index\"\n"
     ]
    },
    {
     "name": "stderr",
     "output_type": "stream",
     "text": [
      " 91%|█████████████████████████████████████████████████████████████████████████████████████████████████████████████████████████████████████████████████████████               | 460/505 [06:07<00:37,  1.20it/s]"
     ]
    },
    {
     "name": "stdout",
     "output_type": "stream",
     "text": [
      "\"['commonstockdividendspersharedeclared'] not in index\"\n"
     ]
    },
    {
     "name": "stderr",
     "output_type": "stream",
     "text": [
      "\r",
      " 91%|█████████████████████████████████████████████████████████████████████████████████████████████████████████████████████████████████████████████████████████▎              | 461/505 [06:07<00:33,  1.30it/s]"
     ]
    },
    {
     "name": "stdout",
     "output_type": "stream",
     "text": [
      "\"['commonstockdividendspersharedeclared'] not in index\"\n"
     ]
    },
    {
     "name": "stderr",
     "output_type": "stream",
     "text": [
      " 92%|██████████████████████████████████████████████████████████████████████████████████████████████████████████████████████████████████████████████████████████              | 463/505 [06:09<00:32,  1.30it/s]"
     ]
    },
    {
     "name": "stdout",
     "output_type": "stream",
     "text": [
      "\"['commonstockdividendspersharedeclared'] not in index\"\n"
     ]
    },
    {
     "name": "stderr",
     "output_type": "stream",
     "text": [
      " 92%|██████████████████████████████████████████████████████████████████████████████████████████████████████████████████████████████████████████████████████████▋             | 465/505 [06:10<00:29,  1.33it/s]"
     ]
    },
    {
     "name": "stdout",
     "output_type": "stream",
     "text": [
      "\"['commonstockdividendspersharedeclared'] not in index\"\n"
     ]
    },
    {
     "name": "stderr",
     "output_type": "stream",
     "text": [
      "\r",
      " 92%|███████████████████████████████████████████████████████████████████████████████████████████████████████████████████████████████████████████████████████████             | 466/505 [06:11<00:27,  1.39it/s]"
     ]
    },
    {
     "name": "stdout",
     "output_type": "stream",
     "text": [
      "\"['commonstockdividendspersharedeclared'] not in index\"\n"
     ]
    },
    {
     "name": "stderr",
     "output_type": "stream",
     "text": [
      " 93%|███████████████████████████████████████████████████████████████████████████████████████████████████████████████████████████████████████████████████████████▋            | 468/505 [06:12<00:27,  1.35it/s]"
     ]
    },
    {
     "name": "stdout",
     "output_type": "stream",
     "text": [
      "\"['commonstockdividendspersharedeclared'] not in index\"\n"
     ]
    },
    {
     "name": "stderr",
     "output_type": "stream",
     "text": [
      " 94%|█████████████████████████████████████████████████████████████████████████████████████████████████████████████████████████████████████████████████████████████▎          | 473/505 [06:17<00:25,  1.25it/s]"
     ]
    },
    {
     "name": "stdout",
     "output_type": "stream",
     "text": [
      "\"['commonstockdividendspersharedeclared'] not in index\"\n"
     ]
    },
    {
     "name": "stderr",
     "output_type": "stream",
     "text": [
      " 95%|███████████████████████████████████████████████████████████████████████████████████████████████████████████████████████████████████████████████████████████████▋        | 480/505 [06:22<00:19,  1.26it/s]"
     ]
    },
    {
     "name": "stdout",
     "output_type": "stream",
     "text": [
      "\"['commonstockdividendspersharedeclared'] not in index\"\n"
     ]
    },
    {
     "name": "stderr",
     "output_type": "stream",
     "text": [
      "\r",
      " 95%|████████████████████████████████████████████████████████████████████████████████████████████████████████████████████████████████████████████████████████████████        | 481/505 [06:23<00:18,  1.32it/s]"
     ]
    },
    {
     "name": "stdout",
     "output_type": "stream",
     "text": [
      "\"['commonstockdividendspersharedeclared'] not in index\"\n"
     ]
    },
    {
     "name": "stderr",
     "output_type": "stream",
     "text": [
      " 96%|█████████████████████████████████████████████████████████████████████████████████████████████████████████████████████████████████████████████████████████████████▋      | 486/505 [06:27<00:14,  1.33it/s]"
     ]
    },
    {
     "name": "stdout",
     "output_type": "stream",
     "text": [
      "\"['commonstockdividendspersharedeclared'] not in index\"\n"
     ]
    },
    {
     "name": "stderr",
     "output_type": "stream",
     "text": [
      " 97%|██████████████████████████████████████████████████████████████████████████████████████████████████████████████████████████████████████████████████████████████████▋     | 489/505 [06:30<00:15,  1.06it/s]"
     ]
    },
    {
     "name": "stdout",
     "output_type": "stream",
     "text": [
      "\"['commonstockdividendspersharedeclared'] not in index\"\n"
     ]
    },
    {
     "name": "stderr",
     "output_type": "stream",
     "text": [
      " 97%|███████████████████████████████████████████████████████████████████████████████████████████████████████████████████████████████████████████████████████████████████▋    | 492/505 [06:32<00:10,  1.26it/s]"
     ]
    },
    {
     "name": "stdout",
     "output_type": "stream",
     "text": [
      "\"['commonstockdividendspersharedeclared'] not in index\"\n"
     ]
    },
    {
     "name": "stderr",
     "output_type": "stream",
     "text": [
      "\r",
      " 98%|████████████████████████████████████████████████████████████████████████████████████████████████████████████████████████████████████████████████████████████████████    | 493/505 [06:33<00:09,  1.25it/s]"
     ]
    },
    {
     "name": "stdout",
     "output_type": "stream",
     "text": [
      "\"['commonstockdividendspersharedeclared'] not in index\"\n"
     ]
    },
    {
     "name": "stderr",
     "output_type": "stream",
     "text": [
      " 99%|███████████████████████████████████████████████████████████████████████████████████████████████████████████████████████████████████████████████████████████████████████ | 502/505 [06:40<00:02,  1.28it/s]"
     ]
    },
    {
     "name": "stdout",
     "output_type": "stream",
     "text": [
      "\"['commonstockdividendspersharedeclared'] not in index\"\n"
     ]
    },
    {
     "name": "stderr",
     "output_type": "stream",
     "text": [
      "100%|████████████████████████████████████████████████████████████████████████████████████████████████████████████████████████████████████████████████████████████████████████| 505/505 [06:43<00:00,  1.25it/s]\n"
     ]
    }
   ],
   "source": [
    "ddm_sim = []\n",
    "rr = 0.1\n",
    "growth_rate = 0.05\n",
    "sec.connect()\n",
    "for ticker in tqdm(list(sp5[\"Symbol\"].unique())):\n",
    "    try:\n",
    "        cik = sp5[sp5[\"Symbol\"]==ticker][\"CIK\"].item()\n",
    "        filing = sec.retrieve_filing_data(cik)\n",
    "        financials = filing.rename(columns={\"filed\":\"date\"})\n",
    "        financials[\"date\"] = [datetime.strptime(str(x),\"%Y%m%d\") for x in financials[\"date\"]]\n",
    "        financials[\"year\"] = [x.year for x in financials[\"date\"]]\n",
    "        financials[\"quarter\"] = [x.quarter for x in financials[\"date\"]]\n",
    "        financials = p.column_date_processing(financials)\n",
    "        labels = prices[prices[\"ticker\"]==ticker][[\"year\",\"quarter\",\"ticker\",\"close\"]].groupby([\"year\",\"quarter\",\"ticker\"]).mean().reset_index()\n",
    "        data = financials[[\"year\",\"quarter\",\"commonstockdividendspersharedeclared\"]].merge(labels,on=[\"year\",\"quarter\"])\n",
    "        ticker_sim = sim[sim[\"ticker\"]==ticker].copy()\n",
    "        ticker_sim[\"year\"] = ticker_sim[\"year\"] - 1\n",
    "        ticker_sim[\"prediction\"] = [sum([row[1][col] for col in ticker_sim.columns if \"prediction\" in col])/3 for row in ticker_sim.iterrows()]\n",
    "        ddm_data = data.merge(ticker_sim,on=[\"year\",\"quarter\",\"ticker\"]).groupby([\"year\",\"quarter\"]).mean().reset_index()\n",
    "        ddm_values = []\n",
    "        for row in ddm_data.iterrows():\n",
    "            dividend = row[1][\"commonstockdividendspersharedeclared\"]\n",
    "            yearendprice = row[1][\"prediction\"]\n",
    "            value = dividend * (1+growth_rate) /(1+rr) + yearendprice/(1+rr)\n",
    "            ddm_values.append(value)\n",
    "        ddm_data[\"ddm_value\"] = ddm_values\n",
    "        ddm_data = ddm_data.fillna(method=\"ffill\")\n",
    "        ddm_data[\"ticker\"] = ticker\n",
    "        ddm_sim.append(ddm_data)\n",
    "    except Exception as e:\n",
    "        print(str(e))\n",
    "sec.disconnect()"
   ]
  },
  {
   "cell_type": "code",
   "execution_count": 129,
   "id": "a1e847ed",
   "metadata": {},
   "outputs": [],
   "source": [
    "simulation = pd.concat(ddm_sim).groupby([\"year\",\"quarter\",\"ticker\"]).mean().reset_index().drop(\"close\",axis=1)"
   ]
  },
  {
   "cell_type": "code",
   "execution_count": 130,
   "id": "f8a624a5",
   "metadata": {},
   "outputs": [],
   "source": [
    "simulation = prices.merge(simulation,on=[\"year\",\"quarter\",\"ticker\"]).dropna()"
   ]
  },
  {
   "cell_type": "code",
   "execution_count": 131,
   "id": "25bdd737",
   "metadata": {},
   "outputs": [
    {
     "data": {
      "text/html": [
       "<div>\n",
       "<style scoped>\n",
       "    .dataframe tbody tr th:only-of-type {\n",
       "        vertical-align: middle;\n",
       "    }\n",
       "\n",
       "    .dataframe tbody tr th {\n",
       "        vertical-align: top;\n",
       "    }\n",
       "\n",
       "    .dataframe thead th {\n",
       "        text-align: right;\n",
       "    }\n",
       "</style>\n",
       "<table border=\"1\" class=\"dataframe\">\n",
       "  <thead>\n",
       "    <tr style=\"text-align: right;\">\n",
       "      <th></th>\n",
       "      <th>date</th>\n",
       "      <th>open</th>\n",
       "      <th>high</th>\n",
       "      <th>low</th>\n",
       "      <th>close</th>\n",
       "      <th>volume</th>\n",
       "      <th>ticker</th>\n",
       "      <th>quarter</th>\n",
       "      <th>year</th>\n",
       "      <th>commonstockdividendspersharedeclared</th>\n",
       "      <th>skl_prediction</th>\n",
       "      <th>skl_score</th>\n",
       "      <th>xgb_prediction</th>\n",
       "      <th>xgb_score</th>\n",
       "      <th>cat_prediction</th>\n",
       "      <th>cat_score</th>\n",
       "      <th>prediction</th>\n",
       "      <th>ddm_value</th>\n",
       "    </tr>\n",
       "  </thead>\n",
       "  <tbody>\n",
       "    <tr>\n",
       "      <th>0</th>\n",
       "      <td>2016-01-04</td>\n",
       "      <td>148.0500</td>\n",
       "      <td>148.3200</td>\n",
       "      <td>145.4000</td>\n",
       "      <td>146.82</td>\n",
       "      <td>3277188</td>\n",
       "      <td>MMM</td>\n",
       "      <td>1</td>\n",
       "      <td>2016</td>\n",
       "      <td>1.744444</td>\n",
       "      <td>76.183950</td>\n",
       "      <td>0.005368</td>\n",
       "      <td>76.184189</td>\n",
       "      <td>-200.263899</td>\n",
       "      <td>86.355967</td>\n",
       "      <td>-0.496624</td>\n",
       "      <td>79.574702</td>\n",
       "      <td>74.005790</td>\n",
       "    </tr>\n",
       "    <tr>\n",
       "      <th>1</th>\n",
       "      <td>2016-01-05</td>\n",
       "      <td>146.8200</td>\n",
       "      <td>147.5000</td>\n",
       "      <td>145.6100</td>\n",
       "      <td>147.46</td>\n",
       "      <td>2688082</td>\n",
       "      <td>MMM</td>\n",
       "      <td>1</td>\n",
       "      <td>2016</td>\n",
       "      <td>1.744444</td>\n",
       "      <td>76.183950</td>\n",
       "      <td>0.005368</td>\n",
       "      <td>76.184189</td>\n",
       "      <td>-200.263899</td>\n",
       "      <td>86.355967</td>\n",
       "      <td>-0.496624</td>\n",
       "      <td>79.574702</td>\n",
       "      <td>74.005790</td>\n",
       "    </tr>\n",
       "    <tr>\n",
       "      <th>2</th>\n",
       "      <td>2016-01-06</td>\n",
       "      <td>145.5900</td>\n",
       "      <td>145.7600</td>\n",
       "      <td>143.4200</td>\n",
       "      <td>144.49</td>\n",
       "      <td>2997126</td>\n",
       "      <td>MMM</td>\n",
       "      <td>1</td>\n",
       "      <td>2016</td>\n",
       "      <td>1.744444</td>\n",
       "      <td>76.183950</td>\n",
       "      <td>0.005368</td>\n",
       "      <td>76.184189</td>\n",
       "      <td>-200.263899</td>\n",
       "      <td>86.355967</td>\n",
       "      <td>-0.496624</td>\n",
       "      <td>79.574702</td>\n",
       "      <td>74.005790</td>\n",
       "    </tr>\n",
       "    <tr>\n",
       "      <th>3</th>\n",
       "      <td>2016-01-07</td>\n",
       "      <td>142.5200</td>\n",
       "      <td>143.1300</td>\n",
       "      <td>140.6300</td>\n",
       "      <td>140.97</td>\n",
       "      <td>3553519</td>\n",
       "      <td>MMM</td>\n",
       "      <td>1</td>\n",
       "      <td>2016</td>\n",
       "      <td>1.744444</td>\n",
       "      <td>76.183950</td>\n",
       "      <td>0.005368</td>\n",
       "      <td>76.184189</td>\n",
       "      <td>-200.263899</td>\n",
       "      <td>86.355967</td>\n",
       "      <td>-0.496624</td>\n",
       "      <td>79.574702</td>\n",
       "      <td>74.005790</td>\n",
       "    </tr>\n",
       "    <tr>\n",
       "      <th>4</th>\n",
       "      <td>2016-01-08</td>\n",
       "      <td>141.3600</td>\n",
       "      <td>142.5000</td>\n",
       "      <td>140.2200</td>\n",
       "      <td>140.49</td>\n",
       "      <td>2663879</td>\n",
       "      <td>MMM</td>\n",
       "      <td>1</td>\n",
       "      <td>2016</td>\n",
       "      <td>1.744444</td>\n",
       "      <td>76.183950</td>\n",
       "      <td>0.005368</td>\n",
       "      <td>76.184189</td>\n",
       "      <td>-200.263899</td>\n",
       "      <td>86.355967</td>\n",
       "      <td>-0.496624</td>\n",
       "      <td>79.574702</td>\n",
       "      <td>74.005790</td>\n",
       "    </tr>\n",
       "    <tr>\n",
       "      <th>...</th>\n",
       "      <td>...</td>\n",
       "      <td>...</td>\n",
       "      <td>...</td>\n",
       "      <td>...</td>\n",
       "      <td>...</td>\n",
       "      <td>...</td>\n",
       "      <td>...</td>\n",
       "      <td>...</td>\n",
       "      <td>...</td>\n",
       "      <td>...</td>\n",
       "      <td>...</td>\n",
       "      <td>...</td>\n",
       "      <td>...</td>\n",
       "      <td>...</td>\n",
       "      <td>...</td>\n",
       "      <td>...</td>\n",
       "      <td>...</td>\n",
       "      <td>...</td>\n",
       "    </tr>\n",
       "    <tr>\n",
       "      <th>435481</th>\n",
       "      <td>2020-12-24</td>\n",
       "      <td>149.4000</td>\n",
       "      <td>149.7000</td>\n",
       "      <td>147.6100</td>\n",
       "      <td>149.25</td>\n",
       "      <td>283763</td>\n",
       "      <td>ZBH</td>\n",
       "      <td>4</td>\n",
       "      <td>2020</td>\n",
       "      <td>0.480000</td>\n",
       "      <td>114.461807</td>\n",
       "      <td>0.022082</td>\n",
       "      <td>114.509537</td>\n",
       "      <td>-28.365143</td>\n",
       "      <td>85.069831</td>\n",
       "      <td>0.119802</td>\n",
       "      <td>104.680392</td>\n",
       "      <td>95.622174</td>\n",
       "    </tr>\n",
       "    <tr>\n",
       "      <th>435482</th>\n",
       "      <td>2020-12-28</td>\n",
       "      <td>150.6100</td>\n",
       "      <td>151.5700</td>\n",
       "      <td>148.8000</td>\n",
       "      <td>148.89</td>\n",
       "      <td>683439</td>\n",
       "      <td>ZBH</td>\n",
       "      <td>4</td>\n",
       "      <td>2020</td>\n",
       "      <td>0.480000</td>\n",
       "      <td>114.461807</td>\n",
       "      <td>0.022082</td>\n",
       "      <td>114.509537</td>\n",
       "      <td>-28.365143</td>\n",
       "      <td>85.069831</td>\n",
       "      <td>0.119802</td>\n",
       "      <td>104.680392</td>\n",
       "      <td>95.622174</td>\n",
       "    </tr>\n",
       "    <tr>\n",
       "      <th>435483</th>\n",
       "      <td>2020-12-29</td>\n",
       "      <td>150.4300</td>\n",
       "      <td>153.3400</td>\n",
       "      <td>149.9119</td>\n",
       "      <td>152.45</td>\n",
       "      <td>735671</td>\n",
       "      <td>ZBH</td>\n",
       "      <td>4</td>\n",
       "      <td>2020</td>\n",
       "      <td>0.480000</td>\n",
       "      <td>114.461807</td>\n",
       "      <td>0.022082</td>\n",
       "      <td>114.509537</td>\n",
       "      <td>-28.365143</td>\n",
       "      <td>85.069831</td>\n",
       "      <td>0.119802</td>\n",
       "      <td>104.680392</td>\n",
       "      <td>95.622174</td>\n",
       "    </tr>\n",
       "    <tr>\n",
       "      <th>435484</th>\n",
       "      <td>2020-12-30</td>\n",
       "      <td>152.8500</td>\n",
       "      <td>154.7600</td>\n",
       "      <td>151.3700</td>\n",
       "      <td>152.22</td>\n",
       "      <td>427576</td>\n",
       "      <td>ZBH</td>\n",
       "      <td>4</td>\n",
       "      <td>2020</td>\n",
       "      <td>0.480000</td>\n",
       "      <td>114.461807</td>\n",
       "      <td>0.022082</td>\n",
       "      <td>114.509537</td>\n",
       "      <td>-28.365143</td>\n",
       "      <td>85.069831</td>\n",
       "      <td>0.119802</td>\n",
       "      <td>104.680392</td>\n",
       "      <td>95.622174</td>\n",
       "    </tr>\n",
       "    <tr>\n",
       "      <th>435485</th>\n",
       "      <td>2020-12-31</td>\n",
       "      <td>151.8600</td>\n",
       "      <td>154.4800</td>\n",
       "      <td>151.2500</td>\n",
       "      <td>154.09</td>\n",
       "      <td>499190</td>\n",
       "      <td>ZBH</td>\n",
       "      <td>4</td>\n",
       "      <td>2020</td>\n",
       "      <td>0.480000</td>\n",
       "      <td>114.461807</td>\n",
       "      <td>0.022082</td>\n",
       "      <td>114.509537</td>\n",
       "      <td>-28.365143</td>\n",
       "      <td>85.069831</td>\n",
       "      <td>0.119802</td>\n",
       "      <td>104.680392</td>\n",
       "      <td>95.622174</td>\n",
       "    </tr>\n",
       "  </tbody>\n",
       "</table>\n",
       "<p>382261 rows × 18 columns</p>\n",
       "</div>"
      ],
      "text/plain": [
       "             date      open      high       low   close   volume ticker  \\\n",
       "0      2016-01-04  148.0500  148.3200  145.4000  146.82  3277188    MMM   \n",
       "1      2016-01-05  146.8200  147.5000  145.6100  147.46  2688082    MMM   \n",
       "2      2016-01-06  145.5900  145.7600  143.4200  144.49  2997126    MMM   \n",
       "3      2016-01-07  142.5200  143.1300  140.6300  140.97  3553519    MMM   \n",
       "4      2016-01-08  141.3600  142.5000  140.2200  140.49  2663879    MMM   \n",
       "...           ...       ...       ...       ...     ...      ...    ...   \n",
       "435481 2020-12-24  149.4000  149.7000  147.6100  149.25   283763    ZBH   \n",
       "435482 2020-12-28  150.6100  151.5700  148.8000  148.89   683439    ZBH   \n",
       "435483 2020-12-29  150.4300  153.3400  149.9119  152.45   735671    ZBH   \n",
       "435484 2020-12-30  152.8500  154.7600  151.3700  152.22   427576    ZBH   \n",
       "435485 2020-12-31  151.8600  154.4800  151.2500  154.09   499190    ZBH   \n",
       "\n",
       "        quarter  year  commonstockdividendspersharedeclared  skl_prediction  \\\n",
       "0             1  2016                              1.744444       76.183950   \n",
       "1             1  2016                              1.744444       76.183950   \n",
       "2             1  2016                              1.744444       76.183950   \n",
       "3             1  2016                              1.744444       76.183950   \n",
       "4             1  2016                              1.744444       76.183950   \n",
       "...         ...   ...                                   ...             ...   \n",
       "435481        4  2020                              0.480000      114.461807   \n",
       "435482        4  2020                              0.480000      114.461807   \n",
       "435483        4  2020                              0.480000      114.461807   \n",
       "435484        4  2020                              0.480000      114.461807   \n",
       "435485        4  2020                              0.480000      114.461807   \n",
       "\n",
       "        skl_score  xgb_prediction   xgb_score  cat_prediction  cat_score  \\\n",
       "0        0.005368       76.184189 -200.263899       86.355967  -0.496624   \n",
       "1        0.005368       76.184189 -200.263899       86.355967  -0.496624   \n",
       "2        0.005368       76.184189 -200.263899       86.355967  -0.496624   \n",
       "3        0.005368       76.184189 -200.263899       86.355967  -0.496624   \n",
       "4        0.005368       76.184189 -200.263899       86.355967  -0.496624   \n",
       "...           ...             ...         ...             ...        ...   \n",
       "435481   0.022082      114.509537  -28.365143       85.069831   0.119802   \n",
       "435482   0.022082      114.509537  -28.365143       85.069831   0.119802   \n",
       "435483   0.022082      114.509537  -28.365143       85.069831   0.119802   \n",
       "435484   0.022082      114.509537  -28.365143       85.069831   0.119802   \n",
       "435485   0.022082      114.509537  -28.365143       85.069831   0.119802   \n",
       "\n",
       "        prediction  ddm_value  \n",
       "0        79.574702  74.005790  \n",
       "1        79.574702  74.005790  \n",
       "2        79.574702  74.005790  \n",
       "3        79.574702  74.005790  \n",
       "4        79.574702  74.005790  \n",
       "...            ...        ...  \n",
       "435481  104.680392  95.622174  \n",
       "435482  104.680392  95.622174  \n",
       "435483  104.680392  95.622174  \n",
       "435484  104.680392  95.622174  \n",
       "435485  104.680392  95.622174  \n",
       "\n",
       "[382261 rows x 18 columns]"
      ]
     },
     "execution_count": 131,
     "metadata": {},
     "output_type": "execute_result"
    }
   ],
   "source": [
    "simulation"
   ]
  },
  {
   "cell_type": "code",
   "execution_count": 132,
   "id": "6aa9107b",
   "metadata": {},
   "outputs": [],
   "source": [
    "simulation[\"delta\"] = (simulation[\"ddm_value\"] - simulation[\"close\"]) / simulation[\"close\"]"
   ]
  },
  {
   "cell_type": "code",
   "execution_count": 143,
   "id": "cb011269",
   "metadata": {},
   "outputs": [
    {
     "data": {
      "text/plain": [
       "array(['MMM', 'ABT', 'ATVI', 'AAP', 'AES', 'A', 'APD', 'ALK', 'ALB',\n",
       "       'ARE', 'LNT', 'ALL', 'MO', 'AAL', 'AEP', 'AXP', 'AIG', 'AMT',\n",
       "       'AWK', 'AMP', 'ABC', 'AME', 'AMGN', 'APH', 'ANTM', 'AON', 'AOS',\n",
       "       'APA', 'AAPL', 'AMAT', 'ADM', 'AJG', 'AIZ', 'T', 'ADP', 'AVB',\n",
       "       'AVY', 'BLL', 'BAC', 'BBWI', 'BAX', 'BDX', 'BBY', 'TECH', 'BA',\n",
       "       'BWA', 'BXP', 'BMY', 'BR', 'BRO', 'CHRW', 'CPB', 'COF', 'CAH',\n",
       "       'CCL', 'CAT', 'CBOE', 'CNP', 'CF', 'SCHW', 'CVX', 'CB', 'CINF',\n",
       "       'CTAS', 'CSCO', 'C', 'CLX', 'CME', 'CMS', 'KO', 'CTSH', 'CL',\n",
       "       'CMCSA', 'CMA', 'CAG', 'ED', 'GLW', 'COST', 'CTRA', 'CCI', 'CSX',\n",
       "       'CMI', 'CVS', 'DHI', 'DE', 'DAL', 'XRAY', 'DVN', 'DFS', 'DG', 'D',\n",
       "       'DPZ', 'DTE', 'DUK', 'EMN', 'ECL', 'EIX', 'ETR', 'EOG', 'EQIX',\n",
       "       'EQR', 'ESS', 'EL', 'ES', 'RE', 'EXC', 'EXPE', 'EXPD', 'EXR',\n",
       "       'FAST', 'FRT', 'FDX', 'FIS', 'FITB', 'FE', 'F', 'BEN', 'FCX',\n",
       "       'GPS', 'GRMN', 'GNRC', 'GD', 'GE', 'GIS', 'GM', 'GPC', 'GILD',\n",
       "       'GL', 'GPN', 'GS', 'GWW', 'HAL', 'HIG', 'HAS', 'HCA', 'PEAK',\n",
       "       'HES', 'HD', 'HRL', 'HST', 'HWM', 'HPQ', 'HUM', 'HBAN', 'HII',\n",
       "       'IEX', 'ITW', 'INTC', 'IBM', 'IP', 'IPG', 'IFF', 'INTU', 'IVZ',\n",
       "       'IRM', 'JKHY', 'J', 'JBHT', 'SJM', 'JNJ', 'JCI', 'JPM', 'JNPR',\n",
       "       'K', 'KEY', 'KMB', 'KIM', 'KMI', 'KLAC', 'KR', 'LRCX', 'LVS',\n",
       "       'LDOS', 'LEN', 'LLY', 'LNC', 'LMT', 'L', 'LOW', 'LUMN', 'LYB',\n",
       "       'MPC', 'MKTX', 'MAR', 'MLM', 'MAS', 'MA', 'MTCH', 'MKC', 'MCD',\n",
       "       'MCK', 'MRK', 'MGM', 'MCHP', 'MSFT', 'MAA', 'TAP', 'MDLZ', 'MPWR',\n",
       "       'MCO', 'MS', 'MOS', 'MSI', 'MSCI', 'NDAQ', 'NTAP', 'NWL', 'NEM',\n",
       "       'NWSA', 'NWS', 'NLSN', 'NKE', 'NI', 'NSC', 'NTRS', 'NOC', 'NLOK',\n",
       "       'NRG', 'NUE', 'NVDA', 'OXY', 'ODFL', 'OMC', 'OKE', 'PCAR', 'PKG',\n",
       "       'PAYX', 'PNR', 'PEP', 'PKI', 'PFE', 'PM', 'PNW', 'PXD', 'PNC',\n",
       "       'PPG', 'PPL', 'PFG', 'PGR', 'PLD', 'PRU', 'PSA', 'PHM', 'PVH',\n",
       "       'PWR', 'QCOM', 'RL', 'RJF', 'RTX', 'REG', 'RF', 'RSG', 'RMD',\n",
       "       'RHI', 'ROK', 'ROL', 'ROP', 'ROST', 'RCL', 'SPGI', 'STX', 'SEE',\n",
       "       'SRE', 'SPG', 'SWKS', 'SNA', 'LUV', 'SWK', 'SBUX', 'STT', 'SYK',\n",
       "       'SYY', 'TROW', 'TPR', 'TGT', 'TEL', 'TFX', 'TER', 'TXN', 'TXT',\n",
       "       'TMO', 'TJX', 'TSCO', 'TT', 'TDG', 'TRV', 'TFC', 'UDR', 'USB',\n",
       "       'UNP', 'UNH', 'UHS', 'VTR', 'VRSK', 'VZ', 'VFC', 'VIAC', 'V',\n",
       "       'VNO', 'VMC', 'WMT', 'WM', 'WEC', 'WFC', 'WST', 'WDC', 'WHR',\n",
       "       'WMB', 'WLTW', 'WYNN', 'XEL', 'XLNX', 'XYL', 'YUM', 'ZBH'],\n",
       "      dtype=object)"
      ]
     },
     "execution_count": 143,
     "metadata": {},
     "output_type": "execute_result"
    }
   ],
   "source": [
    "simulation[\"ticker\"].unique()"
   ]
  },
  {
   "cell_type": "code",
   "execution_count": 134,
   "id": "7bbc12b2",
   "metadata": {},
   "outputs": [
    {
     "name": "stderr",
     "output_type": "stream",
     "text": [
      "  0%|                                                                                                                                                                                    | 0/2 [00:00<?, ?it/s]\n",
      "  0%|                                                                                                                                                                                    | 0/3 [00:00<?, ?it/s]\u001b[A\n",
      " 33%|█████████████████████████████████████████████████████████▎                                                                                                                  | 1/3 [00:11<00:23, 11.97s/it]\u001b[A\n",
      " 67%|██████████████████████████████████████████████████████████████████████████████████████████████████████████████████▋                                                         | 2/3 [00:23<00:11, 12.00s/it]\u001b[A\n",
      "100%|████████████████████████████████████████████████████████████████████████████████████████████████████████████████████████████████████████████████████████████████████████████| 3/3 [00:35<00:00, 11.83s/it]\u001b[A\n",
      " 50%|██████████████████████████████████████████████████████████████████████████████████████                                                                                      | 1/2 [00:35<00:35, 35.49s/it]\n",
      "  0%|                                                                                                                                                                                    | 0/3 [00:00<?, ?it/s]\u001b[A\n",
      " 33%|█████████████████████████████████████████████████████████▎                                                                                                                  | 1/3 [00:12<00:24, 12.29s/it]\u001b[A\n",
      " 67%|██████████████████████████████████████████████████████████████████████████████████████████████████████████████████▋                                                         | 2/3 [00:25<00:12, 12.69s/it]\u001b[A\n",
      "100%|████████████████████████████████████████████████████████████████████████████████████████████████████████████████████████████████████████████████████████████████████████████| 3/3 [00:38<00:00, 12.79s/it]\u001b[A\n",
      "100%|████████████████████████████████████████████████████████████████████████████████████████████████████████████████████████████████████████████████████████████████████████████| 2/2 [01:13<00:00, 36.93s/it]\n"
     ]
    }
   ],
   "source": [
    "positions = 5\n",
    "start_date = simulation[\"date\"].min()\n",
    "end_date = simulation[\"date\"].max()\n",
    "reqs = [1,3,5]\n",
    "limit = 90\n",
    "values = [True,False]\n",
    "trades = []\n",
    "for value in tqdm(values):\n",
    "    for req in tqdm(reqs):\n",
    "        for position in range(positions):\n",
    "            date = start_date\n",
    "            iterration_sim = simulation.copy()\n",
    "            if not value:\n",
    "                iterration_sim[\"delta\"] = iterration_sim[\"delta\"] * -1\n",
    "            while date < end_date:\n",
    "                try:\n",
    "                    todays_recs = iterration_sim[iterration_sim[\"date\"]==date]\n",
    "                    todays_recs.sort_values(\"delta\",ascending=False,inplace=True)\n",
    "                    if todays_recs.index.size > 0:\n",
    "                        offering = todays_recs.iloc[position]\n",
    "                        if offering[\"delta\"] > req:\n",
    "                            trade = offering\n",
    "                            ticker = trade[\"ticker\"]\n",
    "                            buy_price = trade[\"close\"]\n",
    "                            exits = iterration_sim[(iterration_sim[\"ticker\"]==ticker) & (iterration_sim[\"date\"]>date)].iloc[:limit]\n",
    "                            exits[\"gains\"] = (exits[\"close\"] - buy_price) / buy_price\n",
    "                            exit = exits.sort_values(\"gains\",ascending=False).iloc[0]\n",
    "                            trade[\"sell_price\"] = exit[\"close\"]\n",
    "                            trade[\"sell_date\"] = exit[\"date\"]\n",
    "                            date = exit[\"date\"] + timedelta(days=1)\n",
    "                            trade[\"value\"] = value\n",
    "                            trade[\"req\"] = req\n",
    "                            trade[\"position\"] = position\n",
    "                            trades.append(trade)\n",
    "                        else:\n",
    "                            date = date + timedelta(days=1)\n",
    "                    else:\n",
    "                        date = date + timedelta(days=1)\n",
    "                except Exception as e:\n",
    "                    print(str(e))\n",
    "                    date = date+timedelta(days=1)"
   ]
  },
  {
   "cell_type": "code",
   "execution_count": 135,
   "id": "0e2f06b7",
   "metadata": {},
   "outputs": [],
   "source": [
    "t = pd.DataFrame(trades)"
   ]
  },
  {
   "cell_type": "code",
   "execution_count": 136,
   "id": "8cc9619d",
   "metadata": {},
   "outputs": [],
   "source": [
    "t[\"delta\"] =  (t[\"sell_price\"] - t[\"close\"]) / t[\"close\"]"
   ]
  },
  {
   "cell_type": "code",
   "execution_count": 137,
   "id": "1f965a8c",
   "metadata": {},
   "outputs": [
    {
     "name": "stderr",
     "output_type": "stream",
     "text": [
      "  0%|                                                                                                                                                                                    | 0/2 [00:00<?, ?it/s]\n",
      "100%|███████████████████████████████████████████████████████████████████████████████████████████████████████████████████████████████████████████████████████████████████████████| 3/3 [00:00<00:00, 176.35it/s]\u001b[A\n",
      "\n",
      "100%|███████████████████████████████████████████████████████████████████████████████████████████████████████████████████████████████████████████████████████████████████████████| 3/3 [00:00<00:00, 187.48it/s]\u001b[A\n",
      "100%|████████████████████████████████████████████████████████████████████████████████████████████████████████████████████████████████████████████████████████████████████████████| 2/2 [00:00<00:00, 55.56it/s]\n"
     ]
    }
   ],
   "source": [
    "analysis = []\n",
    "for value in tqdm(values):\n",
    "    for req in tqdm(reqs):\n",
    "        for position in range(positions):\n",
    "            position_trades = t[(t[\"value\"]==value) & (t[\"req\"]==req) & (t[\"position\"]==position)].sort_values(\"date\")\n",
    "            position_trades[\"delta\"] = (position_trades[\"sell_price\"] - position_trades[\"close\"]) / position_trades[\"close\"]\n",
    "            initial = 100 / positions\n",
    "            for delta in position_trades[\"delta\"]:\n",
    "                initial = initial * (1+delta)\n",
    "            analysis.append({\n",
    "                \"value\":value,\n",
    "                \"req\":req,\n",
    "                \"position\":position,\n",
    "                \"pv\":initial\n",
    "            })\n",
    "            "
   ]
  },
  {
   "cell_type": "code",
   "execution_count": 138,
   "id": "5a989ee2",
   "metadata": {},
   "outputs": [],
   "source": [
    "complete = pd.DataFrame(analysis).pivot_table(index=[\"value\",\"req\"],columns=\"position\",values=\"pv\").reset_index()"
   ]
  },
  {
   "cell_type": "code",
   "execution_count": 141,
   "id": "2edf0bc7",
   "metadata": {},
   "outputs": [],
   "source": [
    "complete[\"pv\"] = [sum([row[1][i] for i in range(5)]) for row in complete.iterrows()]"
   ]
  },
  {
   "cell_type": "code",
   "execution_count": 142,
   "id": "14b6cbe5",
   "metadata": {},
   "outputs": [
    {
     "data": {
      "text/html": [
       "<div>\n",
       "<style scoped>\n",
       "    .dataframe tbody tr th:only-of-type {\n",
       "        vertical-align: middle;\n",
       "    }\n",
       "\n",
       "    .dataframe tbody tr th {\n",
       "        vertical-align: top;\n",
       "    }\n",
       "\n",
       "    .dataframe thead th {\n",
       "        text-align: right;\n",
       "    }\n",
       "</style>\n",
       "<table border=\"1\" class=\"dataframe\">\n",
       "  <thead>\n",
       "    <tr style=\"text-align: right;\">\n",
       "      <th>position</th>\n",
       "      <th>value</th>\n",
       "      <th>req</th>\n",
       "      <th>0</th>\n",
       "      <th>1</th>\n",
       "      <th>2</th>\n",
       "      <th>3</th>\n",
       "      <th>4</th>\n",
       "      <th>pv</th>\n",
       "    </tr>\n",
       "  </thead>\n",
       "  <tbody>\n",
       "    <tr>\n",
       "      <th>3</th>\n",
       "      <td>True</td>\n",
       "      <td>1</td>\n",
       "      <td>452.974299</td>\n",
       "      <td>547.119006</td>\n",
       "      <td>312.636576</td>\n",
       "      <td>430.462766</td>\n",
       "      <td>338.075287</td>\n",
       "      <td>2081.267935</td>\n",
       "    </tr>\n",
       "    <tr>\n",
       "      <th>4</th>\n",
       "      <td>True</td>\n",
       "      <td>3</td>\n",
       "      <td>452.974299</td>\n",
       "      <td>547.119006</td>\n",
       "      <td>312.636576</td>\n",
       "      <td>430.462766</td>\n",
       "      <td>338.075287</td>\n",
       "      <td>2081.267935</td>\n",
       "    </tr>\n",
       "    <tr>\n",
       "      <th>5</th>\n",
       "      <td>True</td>\n",
       "      <td>5</td>\n",
       "      <td>452.974299</td>\n",
       "      <td>371.976595</td>\n",
       "      <td>286.109810</td>\n",
       "      <td>742.628250</td>\n",
       "      <td>184.012979</td>\n",
       "      <td>2037.701933</td>\n",
       "    </tr>\n",
       "    <tr>\n",
       "      <th>0</th>\n",
       "      <td>False</td>\n",
       "      <td>1</td>\n",
       "      <td>86.003307</td>\n",
       "      <td>49.793940</td>\n",
       "      <td>43.159191</td>\n",
       "      <td>20.000000</td>\n",
       "      <td>20.000000</td>\n",
       "      <td>218.956438</td>\n",
       "    </tr>\n",
       "    <tr>\n",
       "      <th>1</th>\n",
       "      <td>False</td>\n",
       "      <td>3</td>\n",
       "      <td>46.029230</td>\n",
       "      <td>34.265138</td>\n",
       "      <td>20.000000</td>\n",
       "      <td>20.000000</td>\n",
       "      <td>20.000000</td>\n",
       "      <td>140.294368</td>\n",
       "    </tr>\n",
       "    <tr>\n",
       "      <th>2</th>\n",
       "      <td>False</td>\n",
       "      <td>5</td>\n",
       "      <td>47.973516</td>\n",
       "      <td>20.000000</td>\n",
       "      <td>20.000000</td>\n",
       "      <td>20.000000</td>\n",
       "      <td>20.000000</td>\n",
       "      <td>127.973516</td>\n",
       "    </tr>\n",
       "  </tbody>\n",
       "</table>\n",
       "</div>"
      ],
      "text/plain": [
       "position  value  req           0           1           2           3  \\\n",
       "3          True    1  452.974299  547.119006  312.636576  430.462766   \n",
       "4          True    3  452.974299  547.119006  312.636576  430.462766   \n",
       "5          True    5  452.974299  371.976595  286.109810  742.628250   \n",
       "0         False    1   86.003307   49.793940   43.159191   20.000000   \n",
       "1         False    3   46.029230   34.265138   20.000000   20.000000   \n",
       "2         False    5   47.973516   20.000000   20.000000   20.000000   \n",
       "\n",
       "position           4           pv  \n",
       "3         338.075287  2081.267935  \n",
       "4         338.075287  2081.267935  \n",
       "5         184.012979  2037.701933  \n",
       "0          20.000000   218.956438  \n",
       "1          20.000000   140.294368  \n",
       "2          20.000000   127.973516  "
      ]
     },
     "execution_count": 142,
     "metadata": {},
     "output_type": "execute_result"
    }
   ],
   "source": [
    "complete.sort_values(\"pv\",ascending=False)"
   ]
  }
 ],
 "metadata": {
  "kernelspec": {
   "display_name": "Python 3 (ipykernel)",
   "language": "python",
   "name": "python3"
  },
  "language_info": {
   "codemirror_mode": {
    "name": "ipython",
    "version": 3
   },
   "file_extension": ".py",
   "mimetype": "text/x-python",
   "name": "python",
   "nbconvert_exporter": "python",
   "pygments_lexer": "ipython3",
   "version": "3.10.1"
  }
 },
 "nbformat": 4,
 "nbformat_minor": 5
}
