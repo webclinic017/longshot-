{
 "cells": [
  {
   "cell_type": "code",
   "execution_count": 3,
   "id": "aa80f443",
   "metadata": {
    "scrolled": true
   },
   "outputs": [],
   "source": [
    "from datetime import datetime, timedelta\n",
    "import pandas as pd\n",
    "from tqdm import tqdm\n",
    "from modeler.modeler import Modeler as m\n",
    "from processor.processor import Processor as p\n",
    "from database.market import Market\n",
    "from database.adatabase import ADatabase\n",
    "import numpy as np"
   ]
  },
  {
   "cell_type": "code",
   "execution_count": 4,
   "id": "e5adbebb",
   "metadata": {},
   "outputs": [],
   "source": [
    "market = Market()\n",
    "speculation_db = ADatabase(\"speculation\")\n",
    "financial_db = ADatabase(\"financial\")"
   ]
  },
  {
   "cell_type": "code",
   "execution_count": 5,
   "id": "8e84aa3f",
   "metadata": {},
   "outputs": [],
   "source": [
    "market.connect()\n",
    "sp500 = market.retrieve(\"sp500\")\n",
    "prices = market.retrieve(\"prices\")\n",
    "market.disconnect()"
   ]
  },
  {
   "cell_type": "code",
   "execution_count": 6,
   "id": "3b3376b6",
   "metadata": {},
   "outputs": [],
   "source": [
    "prices = p.column_date_processing(prices)\n",
    "prices[\"year\"] = [x.year for x in prices[\"date\"]]\n",
    "prices[\"week\"] = [x.week for x in prices[\"date\"]]"
   ]
  },
  {
   "cell_type": "code",
   "execution_count": 8,
   "id": "c56ae951",
   "metadata": {},
   "outputs": [],
   "source": [
    "prices[\"quarter\"] = [x.quarter for x in prices[\"date\"]]"
   ]
  },
  {
   "cell_type": "code",
   "execution_count": 9,
   "id": "0affef81",
   "metadata": {},
   "outputs": [],
   "source": [
    "speculation_db.connect()\n",
    "spec_sim = speculation_db.retrieve(\"sim\")\n",
    "speculation_db.disconnect()\n",
    "financial_db.connect()\n",
    "fin_sim = speculation_db.retrieve(\"sim\")\n",
    "financial_db.disconnect()"
   ]
  },
  {
   "cell_type": "code",
   "execution_count": 11,
   "id": "3ada981a",
   "metadata": {},
   "outputs": [],
   "source": [
    "spec_sim[\"week\"] =  spec_sim[\"week\"] + 1"
   ]
  },
  {
   "cell_type": "code",
   "execution_count": 17,
   "id": "ee813585",
   "metadata": {},
   "outputs": [],
   "source": [
    "training_year = 4\n",
    "spec_sim[\"weekly_prediction\"] = (spec_sim[\"cat_prediction\"] + spec_sim[\"skl_prediction\"] + spec_sim[\"xgb_prediction\"]) / 3\n",
    "fin_sim[\"quarterly_prediction\"] = (fin_sim[\"cat_prediction\"] + fin_sim[\"skl_prediction\"] + fin_sim[\"xgb_prediction\"]) / 3"
   ]
  },
  {
   "cell_type": "code",
   "execution_count": 18,
   "id": "3f18f9e8",
   "metadata": {},
   "outputs": [],
   "source": [
    "sim = prices.merge(spec_sim[spec_sim[\"training_year\"]==training_year],on=[\"year\",\"week\",\"ticker\"],how=\"left\") \\\n",
    "                    .merge(fin_sim[fin_sim[\"training_year\"]==training_year],on=[\"year\",\"week\",\"ticker\"],how=\"left\").dropna()\n",
    "\n",
    "sim[\"weekly_delta\"] = (sim[\"weekly_prediction\"] - sim[\"adjclose\"]) / sim[\"adjclose\"]\n",
    "sim[\"quarterly_delta\"] = (sim[\"quarterly_prediction\"] - sim[\"adjclose\"]) / sim[\"adjclose\"]"
   ]
  },
  {
   "cell_type": "code",
   "execution_count": 35,
   "id": "3c50c1c2",
   "metadata": {},
   "outputs": [],
   "source": [
    "sim[\"timing\"] = sim[\"weekly_prediction\"] < sim[\"quarterly_prediction\"]"
   ]
  },
  {
   "cell_type": "code",
   "execution_count": 44,
   "id": "ad9a6e5b",
   "metadata": {},
   "outputs": [
    {
     "data": {
      "text/html": [
       "<div>\n",
       "<style scoped>\n",
       "    .dataframe tbody tr th:only-of-type {\n",
       "        vertical-align: middle;\n",
       "    }\n",
       "\n",
       "    .dataframe tbody tr th {\n",
       "        vertical-align: top;\n",
       "    }\n",
       "\n",
       "    .dataframe thead th {\n",
       "        text-align: right;\n",
       "    }\n",
       "</style>\n",
       "<table border=\"1\" class=\"dataframe\">\n",
       "  <thead>\n",
       "    <tr style=\"text-align: right;\">\n",
       "      <th></th>\n",
       "      <th>date</th>\n",
       "      <th>ticker</th>\n",
       "      <th>adjclose</th>\n",
       "      <th>weekly_prediction</th>\n",
       "      <th>quarterly_prediction</th>\n",
       "    </tr>\n",
       "  </thead>\n",
       "  <tbody>\n",
       "    <tr>\n",
       "      <th>145598</th>\n",
       "      <td>2016-02-22</td>\n",
       "      <td>AMD</td>\n",
       "      <td>2.010000</td>\n",
       "      <td>2.606694</td>\n",
       "      <td>3.271103</td>\n",
       "    </tr>\n",
       "    <tr>\n",
       "      <th>145599</th>\n",
       "      <td>2016-02-23</td>\n",
       "      <td>AMD</td>\n",
       "      <td>1.970000</td>\n",
       "      <td>2.606694</td>\n",
       "      <td>3.271103</td>\n",
       "    </tr>\n",
       "    <tr>\n",
       "      <th>145600</th>\n",
       "      <td>2016-02-24</td>\n",
       "      <td>AMD</td>\n",
       "      <td>2.020000</td>\n",
       "      <td>2.606694</td>\n",
       "      <td>3.271103</td>\n",
       "    </tr>\n",
       "    <tr>\n",
       "      <th>145601</th>\n",
       "      <td>2016-02-25</td>\n",
       "      <td>AMD</td>\n",
       "      <td>2.030000</td>\n",
       "      <td>2.606694</td>\n",
       "      <td>3.271103</td>\n",
       "    </tr>\n",
       "    <tr>\n",
       "      <th>145602</th>\n",
       "      <td>2016-02-26</td>\n",
       "      <td>AMD</td>\n",
       "      <td>2.070000</td>\n",
       "      <td>2.606694</td>\n",
       "      <td>3.271103</td>\n",
       "    </tr>\n",
       "    <tr>\n",
       "      <th>...</th>\n",
       "      <td>...</td>\n",
       "      <td>...</td>\n",
       "      <td>...</td>\n",
       "      <td>...</td>\n",
       "      <td>...</td>\n",
       "    </tr>\n",
       "    <tr>\n",
       "      <th>1462474</th>\n",
       "      <td>2020-11-11</td>\n",
       "      <td>MRO</td>\n",
       "      <td>4.939549</td>\n",
       "      <td>6.362963</td>\n",
       "      <td>7.463067</td>\n",
       "    </tr>\n",
       "    <tr>\n",
       "      <th>1462475</th>\n",
       "      <td>2020-11-12</td>\n",
       "      <td>MRO</td>\n",
       "      <td>4.695981</td>\n",
       "      <td>6.362963</td>\n",
       "      <td>7.463067</td>\n",
       "    </tr>\n",
       "    <tr>\n",
       "      <th>1462476</th>\n",
       "      <td>2020-11-13</td>\n",
       "      <td>MRO</td>\n",
       "      <td>4.929806</td>\n",
       "      <td>6.362963</td>\n",
       "      <td>7.463067</td>\n",
       "    </tr>\n",
       "    <tr>\n",
       "      <th>282274</th>\n",
       "      <td>2022-05-23</td>\n",
       "      <td>AZO</td>\n",
       "      <td>1805.220000</td>\n",
       "      <td>2408.310723</td>\n",
       "      <td>2880.741730</td>\n",
       "    </tr>\n",
       "    <tr>\n",
       "      <th>282275</th>\n",
       "      <td>2022-05-24</td>\n",
       "      <td>AZO</td>\n",
       "      <td>1910.220000</td>\n",
       "      <td>2408.310723</td>\n",
       "      <td>2880.741730</td>\n",
       "    </tr>\n",
       "  </tbody>\n",
       "</table>\n",
       "<p>111 rows × 5 columns</p>\n",
       "</div>"
      ],
      "text/plain": [
       "              date ticker     adjclose  weekly_prediction  \\\n",
       "145598  2016-02-22    AMD     2.010000           2.606694   \n",
       "145599  2016-02-23    AMD     1.970000           2.606694   \n",
       "145600  2016-02-24    AMD     2.020000           2.606694   \n",
       "145601  2016-02-25    AMD     2.030000           2.606694   \n",
       "145602  2016-02-26    AMD     2.070000           2.606694   \n",
       "...            ...    ...          ...                ...   \n",
       "1462474 2020-11-11    MRO     4.939549           6.362963   \n",
       "1462475 2020-11-12    MRO     4.695981           6.362963   \n",
       "1462476 2020-11-13    MRO     4.929806           6.362963   \n",
       "282274  2022-05-23    AZO  1805.220000        2408.310723   \n",
       "282275  2022-05-24    AZO  1910.220000        2408.310723   \n",
       "\n",
       "         quarterly_prediction  \n",
       "145598               3.271103  \n",
       "145599               3.271103  \n",
       "145600               3.271103  \n",
       "145601               3.271103  \n",
       "145602               3.271103  \n",
       "...                       ...  \n",
       "1462474              7.463067  \n",
       "1462475              7.463067  \n",
       "1462476              7.463067  \n",
       "282274            2880.741730  \n",
       "282275            2880.741730  \n",
       "\n",
       "[111 rows x 5 columns]"
      ]
     },
     "execution_count": 44,
     "metadata": {},
     "output_type": "execute_result"
    }
   ],
   "source": [
    "sim[(sim[\"timing\"]==True) & (sim[\"quarterly_delta\"]>=0.5)].sort_values(\"date\")[[\"date\",\"ticker\",\"adjclose\",\"weekly_prediction\",\"quarterly_prediction\"]]"
   ]
  },
  {
   "cell_type": "code",
   "execution_count": 26,
   "id": "7710948a",
   "metadata": {},
   "outputs": [
    {
     "name": "stderr",
     "output_type": "stream",
     "text": [
      "  0%|                                                                                                                                                                   | 0/2 [00:00<?, ?it/s]\n",
      "  0%|                                                                                                                                                                   | 0/1 [00:00<?, ?it/s]\u001b[A\n",
      "100%|███████████████████████████████████████████████████████████████████████████████████████████████████████████████████████████████████████████████████████████| 1/1 [00:25<00:00, 25.33s/it]\u001b[A\n",
      " 50%|█████████████████████████████████████████████████████████████████████████████▌                                                                             | 1/2 [00:25<00:25, 25.33s/it]\n",
      "  0%|                                                                                                                                                                   | 0/1 [00:00<?, ?it/s]\u001b[A\n",
      "100%|███████████████████████████████████████████████████████████████████████████████████████████████████████████████████████████████████████████████████████████| 1/1 [00:25<00:00, 25.07s/it]\u001b[A\n",
      "100%|███████████████████████████████████████████████████████████████████████████████████████████████████████████████████████████████████████████████████████████| 2/2 [00:50<00:00, 25.20s/it]\n"
     ]
    }
   ],
   "source": [
    "positions = 5\n",
    "start_date = datetime(2016,1,1)\n",
    "end_date = datetime(2022,6,30)\n",
    "speculation_db.connect()\n",
    "value = True\n",
    "for signal in tqdm([0.5,1]):\n",
    "    for req in tqdm([0.5]):\n",
    "        for position in range(positions):\n",
    "            date = start_date\n",
    "            iterration_sim = sim.copy()\n",
    "            while date < end_date:\n",
    "                try:\n",
    "                    todays_recs = iterration_sim[(iterration_sim[\"date\"]==date)]\n",
    "                    todays_recs.sort_values(\"weekly_delta\",ascending=False,inplace=True)\n",
    "                    if todays_recs.index.size > 0 and date.weekday() <= 2:\n",
    "                        offering = todays_recs.iloc[position]\n",
    "                        if (offering[\"quarterly_delta\"] >= signal) and (offering[\"weekly_prediction\"] <= 0):\n",
    "                            trade = offering\n",
    "                            ticker = trade[\"ticker\"]\n",
    "                            buy_price = trade[\"adjclose\"]\n",
    "                            quarter = date.month // 3 + 1\n",
    "                            ldq = datetime(date.year,(quarter*3),30)\n",
    "                            end_index = int((ldq - date).days)\n",
    "                            exits = iterration_sim[(iterration_sim[\"ticker\"]==ticker) & (iterration_sim[\"date\"]>date)].iloc[:end_index]\n",
    "                            exits[\"gains\"] = (exits[\"adjclose\"] - buy_price) / buy_price\n",
    "                            gain_exits = exits[exits[\"gains\"]>=req].sort_values(\"date\")\n",
    "                            if gain_exits.index.size < 1:\n",
    "                                exit = iterration_sim[(iterration_sim[\"ticker\"]==ticker) & \\\n",
    "                                                      (iterration_sim[\"date\"]>date)].iloc[end_index:].iloc[0]\n",
    "                                trade[\"sell_price\"] = exit[\"adjclose\"]\n",
    "                            else:\n",
    "                                exit = gain_exits.iloc[0]\n",
    "                                trade[\"sell_price\"] = buy_price * (1+(req))\n",
    "                            delta = (trade[\"sell_price\"] - buy_price) / buy_price\n",
    "                            trade[\"sell_date\"] = exit[\"date\"]\n",
    "                            date = exit[\"date\"] + timedelta(days=1)\n",
    "                            trade[\"projected_delta\"] = offering[\"weekly_delta\"]\n",
    "                            trade[\"delta\"] = delta\n",
    "                            trade[\"position\"] = position\n",
    "                            trade[\"req\"] = req\n",
    "                            trade[\"value\"] = value\n",
    "                            trade[\"training_year\"] = training_year\n",
    "                            trade[\"signal\"] = signal\n",
    "                            included = [\"date\",\"sell_date\",\"ticker\",\"adjclose\",\"sell_price\",\"delta\"\n",
    "                                        ,\"projected_delta\",\"position\"\n",
    "                                        ,\"req\",\"signal\",\"value\",\"training_year\"]\n",
    "                            trade_record = pd.DataFrame([trade]).reset_index(drop=True)[included]\n",
    "                            speculation_db.store(\"timing_trades\",trade_record)\n",
    "                        else:\n",
    "                            date = date + timedelta(days=1)\n",
    "                    else:\n",
    "                        date = date + timedelta(days=1)\n",
    "                except Exception as e:\n",
    "                    print(str(e))\n",
    "                    date = date+timedelta(days=1)\n",
    "speculation_db.disconnect()"
   ]
  }
 ],
 "metadata": {
  "kernelspec": {
   "display_name": "Python 3 (ipykernel)",
   "language": "python",
   "name": "python3"
  },
  "language_info": {
   "codemirror_mode": {
    "name": "ipython",
    "version": 3
   },
   "file_extension": ".py",
   "mimetype": "text/x-python",
   "name": "python",
   "nbconvert_exporter": "python",
   "pygments_lexer": "ipython3",
   "version": "3.10.5"
  }
 },
 "nbformat": 4,
 "nbformat_minor": 5
}
