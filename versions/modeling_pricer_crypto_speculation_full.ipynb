{
 "cells": [
  {
   "cell_type": "code",
   "execution_count": 1,
   "id": "5a24d11e",
   "metadata": {},
   "outputs": [],
   "source": [
    "import pandas as pd\n",
    "from pricer.pricer import Pricer\n",
    "from pricer.pricer_factory import PricerFactory\n",
    "from database.market import Market\n",
    "from database.adatabase import ADatabase\n",
    "from processor.processor import Processor as p\n",
    "from datetime import datetime, timedelta\n",
    "from tqdm import tqdm\n",
    "import numpy as np\n",
    "from modeler_strats.universal_modeler import UniversalModeler\n",
    "import pickle"
   ]
  },
  {
   "cell_type": "code",
   "execution_count": 2,
   "id": "15454e26",
   "metadata": {},
   "outputs": [],
   "source": [
    "## initializing pricer_class\n",
    "pricer_class = PricerFactory.build(Pricer.WEEKLY_CRYPTO_SPECULATION)"
   ]
  },
  {
   "cell_type": "code",
   "execution_count": 3,
   "id": "a77d9b13",
   "metadata": {},
   "outputs": [],
   "source": [
    "backtest_start_date = datetime(2021,1,1)\n",
    "backtest_end_date = datetime(2023,1,1)\n",
    "current_year = datetime.now().year"
   ]
  },
  {
   "cell_type": "code",
   "execution_count": 4,
   "id": "1f7fc22a",
   "metadata": {},
   "outputs": [],
   "source": [
    "## creating database objects\n",
    "market = Market()\n",
    "modeler_strat = UniversalModeler()"
   ]
  },
  {
   "cell_type": "markdown",
   "id": "5a205eb4",
   "metadata": {},
   "source": [
    "## Historical Training and Prediction Set"
   ]
  },
  {
   "cell_type": "code",
   "execution_count": 5,
   "id": "c551e792",
   "metadata": {
    "scrolled": true
   },
   "outputs": [
    {
     "name": "stderr",
     "output_type": "stream",
     "text": [
      "100%|██████████████████████████████████████████████████████████████████████████████████████████████████████████████████████████| 1/1 [00:00<00:00, 19.28it/s]\n"
     ]
    }
   ],
   "source": [
    "market.connect()\n",
    "training_sets = []\n",
    "for ticker in tqdm([\"BTC\"]):\n",
    "    try:\n",
    "        prices = market.retrieve_ticker_prices(pricer_class.asset_class.value,ticker)\n",
    "        prices = p.column_date_processing(prices)\n",
    "        ticker_data = pricer_class.training_set(ticker,prices,False)\n",
    "        training_sets.append(ticker_data)\n",
    "    except Exception as e:\n",
    "        print(str(e))\n",
    "        continue\n",
    "market.disconnect()\n",
    "data = pd.concat(training_sets)\n",
    "training_data = data.dropna().copy().sort_values([\"year\",\"week\"])"
   ]
  },
  {
   "cell_type": "markdown",
   "id": "544a280f",
   "metadata": {},
   "source": [
    "## Historical Modeling and Simulation Code"
   ]
  },
  {
   "cell_type": "code",
   "execution_count": 6,
   "id": "23ad6193",
   "metadata": {
    "scrolled": true
   },
   "outputs": [],
   "source": [
    "# historical model and simulation\n",
    "pricer_class.db.connect()\n",
    "model_start_date = backtest_start_date - timedelta(pricer_class.time_horizon_class.model_date_offset)\n",
    "model_end_date = backtest_end_date - timedelta(pricer_class.time_horizon_class.model_date_offset)\n",
    "for year in range(model_start_date.year,model_end_date.year):\n",
    "    training_slice = training_data[(training_data[\"year\"]<year) & (training_data[\"year\"] >= year - 4)].reset_index(drop=True)\n",
    "    prediction_set = training_data[training_data[\"year\"]==year].reset_index(drop=True)\n",
    "    stuff = modeler_strat.model(training_slice,prediction_set,pricer_class.factors,False)\n",
    "    stuff = stuff.rename(columns={\"prediction\":f\"price_prediction\"})\n",
    "    relevant_columns = list(set(list(stuff.columns)) - set(pricer_class.factors))\n",
    "    stuff = pricer_class.sim_processor(stuff)\n",
    "    pricer_class.db.store(\"sim\",stuff[relevant_columns])\n",
    "pricer_class.db.disconnect()"
   ]
  },
  {
   "cell_type": "markdown",
   "id": "57e2a363",
   "metadata": {},
   "source": [
    "## Current Year Modeling Code"
   ]
  },
  {
   "cell_type": "code",
   "execution_count": 8,
   "id": "7bb428f7",
   "metadata": {},
   "outputs": [],
   "source": [
    "pricer_class.db.connect()\n",
    "training_slice = training_data[(training_data[\"year\"]<current_year) & (training_data[\"year\"] >= current_year - 4)].reset_index(drop=True)\n",
    "prediction_set = training_data[training_data[\"year\"]==current_year].reset_index(drop=True)\n",
    "stuff = modeler_strat.recommend_model(training_slice,pricer_class.factors,False)\n",
    "stuff[\"model\"] = [pickle.dumps(x) for x in stuff[\"model\"]]\n",
    "stuff[\"year\"] = current_year\n",
    "pricer_class.db.store(\"models\",stuff)\n",
    "pricer_class.db.disconnect()"
   ]
  }
 ],
 "metadata": {
  "kernelspec": {
   "display_name": "Python 3 (ipykernel)",
   "language": "python",
   "name": "python3"
  },
  "language_info": {
   "codemirror_mode": {
    "name": "ipython",
    "version": 3
   },
   "file_extension": ".py",
   "mimetype": "text/x-python",
   "name": "python",
   "nbconvert_exporter": "python",
   "pygments_lexer": "ipython3",
   "version": "3.10.5"
  }
 },
 "nbformat": 4,
 "nbformat_minor": 5
}
