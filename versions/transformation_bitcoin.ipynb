{
 "cells": [
  {
   "cell_type": "code",
   "execution_count": 1,
   "id": "aa80f443",
   "metadata": {
    "scrolled": true
   },
   "outputs": [],
   "source": [
    "from datetime import datetime, timedelta\n",
    "import pandas as pd\n",
    "from tqdm import tqdm\n",
    "from processor.processor import Processor as p\n",
    "from database.market import Market\n",
    "from strats.btc_spec import BTCSpec\n",
    "import numpy as np"
   ]
  },
  {
   "cell_type": "code",
   "execution_count": 2,
   "id": "e5adbebb",
   "metadata": {},
   "outputs": [],
   "source": [
    "market = Market()"
   ]
  },
  {
   "cell_type": "code",
   "execution_count": 3,
   "id": "5d41a217",
   "metadata": {},
   "outputs": [],
   "source": [
    "training_year = 4\n",
    "strat_class = BTCSpec(training_year)"
   ]
  },
  {
   "cell_type": "code",
   "execution_count": 4,
   "id": "c05ebc80",
   "metadata": {},
   "outputs": [],
   "source": [
    "factors = [str(x) for x in range(14)]\n",
    "factors.append(\"d1\")\n",
    "factors.append(\"d2\")\n",
    "factors.append(\"d3\")"
   ]
  },
  {
   "cell_type": "code",
   "execution_count": 5,
   "id": "ae4ffc67",
   "metadata": {},
   "outputs": [],
   "source": [
    "included_columns=[x for x in factors]\n",
    "included_columns.extend(['year',\"date\",\"ticker\",\"y\"])"
   ]
  },
  {
   "cell_type": "code",
   "execution_count": 6,
   "id": "1a399526",
   "metadata": {},
   "outputs": [
    {
     "name": "stdout",
     "output_type": "stream",
     "text": [
      "init factors\n",
      "init included_columns\n"
     ]
    }
   ],
   "source": [
    "if not strat_class.check_factors():\n",
    "    print(\"init factors\")\n",
    "    strat_class.assign_factors(factors)\n",
    "if not strat_class.check_included_columns():\n",
    "    print(\"init included_columns\")\n",
    "    strat_class.assign_included_columns(included_columns)"
   ]
  },
  {
   "cell_type": "code",
   "execution_count": 7,
   "id": "93113b3b",
   "metadata": {},
   "outputs": [],
   "source": [
    "strat_class.pull_included_columns()\n",
    "strat_class.pull_factors()"
   ]
  },
  {
   "cell_type": "code",
   "execution_count": 8,
   "id": "815b8697",
   "metadata": {},
   "outputs": [],
   "source": [
    "market.connect()\n",
    "prices = market.retrieve(\"pdr_crypto\")\n",
    "market.disconnect()"
   ]
  },
  {
   "cell_type": "code",
   "execution_count": 9,
   "id": "21785c4a",
   "metadata": {},
   "outputs": [
    {
     "name": "stderr",
     "output_type": "stream",
     "text": [
      "E:\\projects\\longshot_venv\\longshot\\processor\\processor.py:19: FutureWarning: Series.dt.weekofyear and Series.dt.week have been deprecated.  Please use Series.dt.isocalendar().week instead.\n",
      "  data[\"week\"] = data[\"date\"].dt.week\n"
     ]
    }
   ],
   "source": [
    "prices = p.column_date_processing(prices)"
   ]
  },
  {
   "cell_type": "code",
   "execution_count": 10,
   "id": "20fa96ec",
   "metadata": {},
   "outputs": [
    {
     "data": {
      "text/html": [
       "<div>\n",
       "<style scoped>\n",
       "    .dataframe tbody tr th:only-of-type {\n",
       "        vertical-align: middle;\n",
       "    }\n",
       "\n",
       "    .dataframe tbody tr th {\n",
       "        vertical-align: top;\n",
       "    }\n",
       "\n",
       "    .dataframe thead th {\n",
       "        text-align: right;\n",
       "    }\n",
       "</style>\n",
       "<table border=\"1\" class=\"dataframe\">\n",
       "  <thead>\n",
       "    <tr style=\"text-align: right;\">\n",
       "      <th></th>\n",
       "      <th>date</th>\n",
       "      <th>high</th>\n",
       "      <th>low</th>\n",
       "      <th>open</th>\n",
       "      <th>close</th>\n",
       "      <th>volume</th>\n",
       "      <th>adjclose</th>\n",
       "      <th>ticker</th>\n",
       "      <th>year</th>\n",
       "      <th>quarter</th>\n",
       "      <th>week</th>\n",
       "    </tr>\n",
       "  </thead>\n",
       "  <tbody>\n",
       "    <tr>\n",
       "      <th>0</th>\n",
       "      <td>2014-09-17</td>\n",
       "      <td>468.174011</td>\n",
       "      <td>452.421997</td>\n",
       "      <td>465.864014</td>\n",
       "      <td>457.334015</td>\n",
       "      <td>2.105680e+07</td>\n",
       "      <td>457.334015</td>\n",
       "      <td>BTC</td>\n",
       "      <td>2014</td>\n",
       "      <td>3</td>\n",
       "      <td>38</td>\n",
       "    </tr>\n",
       "    <tr>\n",
       "      <th>1</th>\n",
       "      <td>2014-09-18</td>\n",
       "      <td>456.859985</td>\n",
       "      <td>413.104004</td>\n",
       "      <td>456.859985</td>\n",
       "      <td>424.440002</td>\n",
       "      <td>3.448320e+07</td>\n",
       "      <td>424.440002</td>\n",
       "      <td>BTC</td>\n",
       "      <td>2014</td>\n",
       "      <td>3</td>\n",
       "      <td>38</td>\n",
       "    </tr>\n",
       "    <tr>\n",
       "      <th>2</th>\n",
       "      <td>2014-09-19</td>\n",
       "      <td>427.834991</td>\n",
       "      <td>384.532013</td>\n",
       "      <td>424.102997</td>\n",
       "      <td>394.795990</td>\n",
       "      <td>3.791970e+07</td>\n",
       "      <td>394.795990</td>\n",
       "      <td>BTC</td>\n",
       "      <td>2014</td>\n",
       "      <td>3</td>\n",
       "      <td>38</td>\n",
       "    </tr>\n",
       "    <tr>\n",
       "      <th>3</th>\n",
       "      <td>2014-09-20</td>\n",
       "      <td>423.295990</td>\n",
       "      <td>389.882996</td>\n",
       "      <td>394.673004</td>\n",
       "      <td>408.903992</td>\n",
       "      <td>3.686360e+07</td>\n",
       "      <td>408.903992</td>\n",
       "      <td>BTC</td>\n",
       "      <td>2014</td>\n",
       "      <td>3</td>\n",
       "      <td>38</td>\n",
       "    </tr>\n",
       "    <tr>\n",
       "      <th>4</th>\n",
       "      <td>2014-09-21</td>\n",
       "      <td>412.425995</td>\n",
       "      <td>393.181000</td>\n",
       "      <td>408.084991</td>\n",
       "      <td>398.821014</td>\n",
       "      <td>2.658010e+07</td>\n",
       "      <td>398.821014</td>\n",
       "      <td>BTC</td>\n",
       "      <td>2014</td>\n",
       "      <td>3</td>\n",
       "      <td>38</td>\n",
       "    </tr>\n",
       "    <tr>\n",
       "      <th>...</th>\n",
       "      <td>...</td>\n",
       "      <td>...</td>\n",
       "      <td>...</td>\n",
       "      <td>...</td>\n",
       "      <td>...</td>\n",
       "      <td>...</td>\n",
       "      <td>...</td>\n",
       "      <td>...</td>\n",
       "      <td>...</td>\n",
       "      <td>...</td>\n",
       "      <td>...</td>\n",
       "    </tr>\n",
       "    <tr>\n",
       "      <th>2898</th>\n",
       "      <td>2022-08-19</td>\n",
       "      <td>23180.912109</td>\n",
       "      <td>22760.619141</td>\n",
       "      <td>23180.912109</td>\n",
       "      <td>22821.220703</td>\n",
       "      <td>2.595380e+10</td>\n",
       "      <td>22821.220703</td>\n",
       "      <td>BTC</td>\n",
       "      <td>2022</td>\n",
       "      <td>3</td>\n",
       "      <td>33</td>\n",
       "    </tr>\n",
       "    <tr>\n",
       "      <th>2899</th>\n",
       "      <td>2022-08-17</td>\n",
       "      <td>24407.058594</td>\n",
       "      <td>23243.353516</td>\n",
       "      <td>23881.316406</td>\n",
       "      <td>23335.998047</td>\n",
       "      <td>3.093162e+10</td>\n",
       "      <td>23335.998047</td>\n",
       "      <td>BTC</td>\n",
       "      <td>2022</td>\n",
       "      <td>3</td>\n",
       "      <td>33</td>\n",
       "    </tr>\n",
       "    <tr>\n",
       "      <th>2900</th>\n",
       "      <td>2022-08-18</td>\n",
       "      <td>23563.832031</td>\n",
       "      <td>23177.601562</td>\n",
       "      <td>23341.039062</td>\n",
       "      <td>23212.738281</td>\n",
       "      <td>2.374761e+10</td>\n",
       "      <td>23212.738281</td>\n",
       "      <td>BTC</td>\n",
       "      <td>2022</td>\n",
       "      <td>3</td>\n",
       "      <td>33</td>\n",
       "    </tr>\n",
       "    <tr>\n",
       "      <th>2901</th>\n",
       "      <td>2022-08-19</td>\n",
       "      <td>23213.312500</td>\n",
       "      <td>20868.847656</td>\n",
       "      <td>23213.312500</td>\n",
       "      <td>20877.552734</td>\n",
       "      <td>4.050961e+10</td>\n",
       "      <td>20877.552734</td>\n",
       "      <td>BTC</td>\n",
       "      <td>2022</td>\n",
       "      <td>3</td>\n",
       "      <td>33</td>\n",
       "    </tr>\n",
       "    <tr>\n",
       "      <th>2902</th>\n",
       "      <td>2022-08-20</td>\n",
       "      <td>21340.333984</td>\n",
       "      <td>20883.173828</td>\n",
       "      <td>20883.173828</td>\n",
       "      <td>21294.902344</td>\n",
       "      <td>3.074207e+10</td>\n",
       "      <td>21294.902344</td>\n",
       "      <td>BTC</td>\n",
       "      <td>2022</td>\n",
       "      <td>3</td>\n",
       "      <td>33</td>\n",
       "    </tr>\n",
       "  </tbody>\n",
       "</table>\n",
       "<p>2903 rows × 11 columns</p>\n",
       "</div>"
      ],
      "text/plain": [
       "           date          high           low          open         close  \\\n",
       "0    2014-09-17    468.174011    452.421997    465.864014    457.334015   \n",
       "1    2014-09-18    456.859985    413.104004    456.859985    424.440002   \n",
       "2    2014-09-19    427.834991    384.532013    424.102997    394.795990   \n",
       "3    2014-09-20    423.295990    389.882996    394.673004    408.903992   \n",
       "4    2014-09-21    412.425995    393.181000    408.084991    398.821014   \n",
       "...         ...           ...           ...           ...           ...   \n",
       "2898 2022-08-19  23180.912109  22760.619141  23180.912109  22821.220703   \n",
       "2899 2022-08-17  24407.058594  23243.353516  23881.316406  23335.998047   \n",
       "2900 2022-08-18  23563.832031  23177.601562  23341.039062  23212.738281   \n",
       "2901 2022-08-19  23213.312500  20868.847656  23213.312500  20877.552734   \n",
       "2902 2022-08-20  21340.333984  20883.173828  20883.173828  21294.902344   \n",
       "\n",
       "            volume      adjclose ticker  year  quarter  week  \n",
       "0     2.105680e+07    457.334015    BTC  2014        3    38  \n",
       "1     3.448320e+07    424.440002    BTC  2014        3    38  \n",
       "2     3.791970e+07    394.795990    BTC  2014        3    38  \n",
       "3     3.686360e+07    408.903992    BTC  2014        3    38  \n",
       "4     2.658010e+07    398.821014    BTC  2014        3    38  \n",
       "...            ...           ...    ...   ...      ...   ...  \n",
       "2898  2.595380e+10  22821.220703    BTC  2022        3    33  \n",
       "2899  3.093162e+10  23335.998047    BTC  2022        3    33  \n",
       "2900  2.374761e+10  23212.738281    BTC  2022        3    33  \n",
       "2901  4.050961e+10  20877.552734    BTC  2022        3    33  \n",
       "2902  3.074207e+10  21294.902344    BTC  2022        3    33  \n",
       "\n",
       "[2903 rows x 11 columns]"
      ]
     },
     "execution_count": 10,
     "metadata": {},
     "output_type": "execute_result"
    }
   ],
   "source": [
    "prices"
   ]
  },
  {
   "cell_type": "code",
   "execution_count": 11,
   "id": "235a8676",
   "metadata": {
    "scrolled": true
   },
   "outputs": [],
   "source": [
    "market.connect()\n",
    "ticker = \"BTC\"\n",
    "data = []\n",
    "try:\n",
    "    ticker_data = prices.copy()\n",
    "    ticker_data = strat_class.transform(ticker_data,ticker)\n",
    "    strat_class.db.connect()\n",
    "    strat_class.db.store(\"data\",ticker_data[strat_class.included_columns])\n",
    "    strat_class.db.disconnect()\n",
    "except:\n",
    "    print(\"whut\")\n",
    "market.disconnect()"
   ]
  }
 ],
 "metadata": {
  "kernelspec": {
   "display_name": "Python 3 (ipykernel)",
   "language": "python",
   "name": "python3"
  },
  "language_info": {
   "codemirror_mode": {
    "name": "ipython",
    "version": 3
   },
   "file_extension": ".py",
   "mimetype": "text/x-python",
   "name": "python",
   "nbconvert_exporter": "python",
   "pygments_lexer": "ipython3",
   "version": "3.10.5"
  }
 },
 "nbformat": 4,
 "nbformat_minor": 5
}
