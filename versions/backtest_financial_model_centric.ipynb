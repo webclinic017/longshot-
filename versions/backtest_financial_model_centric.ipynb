{
 "cells": [
  {
   "cell_type": "code",
   "execution_count": 2,
   "id": "aa80f443",
   "metadata": {
    "scrolled": true
   },
   "outputs": [],
   "source": [
    "from datetime import datetime, timedelta\n",
    "import pytz\n",
    "import pandas as pd\n",
    "from tqdm import tqdm\n",
    "from modeler.modeler import Modeler as m\n",
    "from processor.processor import Processor as p\n",
    "from database.market import Market\n",
    "from database.adatabase import ADatabase\n",
    "import numpy as np\n",
    "import matplotlib.pyplot as plt\n",
    "import pickle\n",
    "import matplotlib.dates as mdates\n",
    "import statistics"
   ]
  },
  {
   "cell_type": "code",
   "execution_count": 3,
   "id": "e5adbebb",
   "metadata": {},
   "outputs": [],
   "source": [
    "market = Market()\n",
    "speculation_db = ADatabase(\"financial\")"
   ]
  },
  {
   "cell_type": "code",
   "execution_count": 4,
   "id": "235a8676",
   "metadata": {
    "scrolled": true
   },
   "outputs": [],
   "source": [
    "market.connect()\n",
    "prices = market.retrieve(\"pdr_prices\")\n",
    "market.disconnect()\n",
    "prices = p.column_date_processing(prices)\n",
    "prices[\"year\"] = [x.year for x in prices[\"date\"]]\n",
    "prices[\"week\"] = [x.week for x in prices[\"date\"]]\n",
    "prices[\"quarter\"] = [x.quarter for x in prices[\"date\"]]"
   ]
  },
  {
   "cell_type": "code",
   "execution_count": 38,
   "id": "0910a02a",
   "metadata": {},
   "outputs": [],
   "source": [
    "base_non_available = [{\"start_date\":datetime(2016,1,1),\"end_date\":datetime(2016,1,2),\"ticker\":\"LOL\"}]\n",
    "positions = 10\n",
    "start_date = datetime(2016,1,1)\n",
    "end_date = datetime(2022,7,1)\n",
    "reqs = [0.5]\n",
    "signals = [0.5,1]\n",
    "values = [True]\n",
    "speculation_db.connect()\n",
    "simulation = speculation_db.retrieve(f\"pdr_sim\")\n",
    "simulation[\"year\"] = [int(x) for x in simulation[\"year\"]]\n",
    "projection_value = 1\n",
    "training_year = 4\n",
    "sim = prices.copy().merge(simulation[(simulation[\"training_year\"]==training_year) & \\\n",
    "                                    (simulation[\"projection_value\"]==projection_value)],on=[\"year\",\"quarter\",\"ticker\"],how=\"left\")\n",
    "sim = sim.dropna()\n",
    "sim[\"prediction\"] = (sim[\"xgb_prediction\"] + sim[\"skl_prediction\"] + sim[\"cat_prediction\"]) / 3\n",
    "sim[\"delta\"] = (sim[\"prediction\"] - sim[\"adjclose\"]) / sim[\"adjclose\"]"
   ]
  },
  {
   "cell_type": "code",
   "execution_count": 39,
   "id": "83748630",
   "metadata": {},
   "outputs": [],
   "source": [
    "delta_dict = []\n",
    "for ticker in sim[\"ticker\"].unique():\n",
    "    ticker_data = sim[sim[\"ticker\"]==ticker].sort_values(\"date\")\n",
    "    ticker_data = ticker_data.groupby([\"year\",\"quarter\",\"ticker\"]).mean().reset_index()\n",
    "    ticker_data[\"model_delta\"] = ticker_data[\"prediction\"].pct_change(1)\n",
    "    ticker_data.dropna(inplace=True)\n",
    "    delta_dict.append(ticker_data[[\"year\",\"quarter\",\"ticker\",\"model_delta\"]])\n",
    "deltas = pd.concat(delta_dict)"
   ]
  },
  {
   "cell_type": "code",
   "execution_count": 40,
   "id": "c712a7f5",
   "metadata": {},
   "outputs": [],
   "source": [
    "sim = sim.merge(deltas,on=[\"year\",\"quarter\",\"ticker\"],how=\"left\")"
   ]
  },
  {
   "cell_type": "code",
   "execution_count": 41,
   "id": "5b2923b5",
   "metadata": {},
   "outputs": [
    {
     "data": {
      "text/plain": [
       "-1.9212408691168388"
      ]
     },
     "execution_count": 41,
     "metadata": {},
     "output_type": "execute_result"
    }
   ],
   "source": [
    "sim[\"model_delta\"].mean()"
   ]
  },
  {
   "cell_type": "code",
   "execution_count": 42,
   "id": "a61c6b3e",
   "metadata": {
    "scrolled": true
   },
   "outputs": [
    {
     "name": "stderr",
     "output_type": "stream",
     "text": [
      "100%|███████████████████████████████████████████████████████| 2/2 [17:11<00:00, 515.71s/it]\n"
     ]
    }
   ],
   "source": [
    "for signal in tqdm(signals):\n",
    "    for value in values:\n",
    "        iterration_sim = sim.copy()\n",
    "        if value==False:\n",
    "            iterration_sim[\"delta\"] = iterration_sim[\"delta\"] * -1\n",
    "        for req in reqs:\n",
    "            not_available = [x for x in base_non_available]\n",
    "            for position in range(positions):\n",
    "                date = start_date\n",
    "                nadf = pd.DataFrame(not_available)\n",
    "                while date < end_date:\n",
    "                    try:\n",
    "                        year = date.year\n",
    "                        todays_not_available = nadf[(nadf[\"start_date\"]<=date) & (nadf[\"end_date\"]>=date)]\n",
    "                        todaynatickers = list(todays_not_available[\"ticker\"].unique())\n",
    "                        todays_recs = iterration_sim[(iterration_sim[\"date\"]==date) & (~iterration_sim[\"ticker\"].isin(todaynatickers))]\n",
    "                        todays_recs.sort_values(\"delta\",ascending=False,inplace=True)\n",
    "                        if (todays_recs.index.size) > 0 and date.weekday() <= 2:\n",
    "                            offering = todays_recs.iloc[position]\n",
    "                            if (offering[\"delta\"] >= signal) & (offering[\"model_delta\"] > 0):\n",
    "                                trade = offering\n",
    "                                ticker = trade[\"ticker\"]\n",
    "                                buy_price = trade[\"adjclose\"]\n",
    "                                trade_req = req\n",
    "                                exits = iterration_sim[(iterration_sim[\"ticker\"]==ticker) & (iterration_sim[\"date\"]>date)]\n",
    "                                exits[\"gains\"] = (exits[\"adjclose\"] - buy_price) / buy_price\n",
    "                                gain_exits = exits[(exits[\"gains\"]>=trade_req) & (exits[\"quarter\"]==trade[\"quarter\"]) & (exits[\"year\"]==trade[\"year\"])].sort_values(\"date\")\n",
    "                                if gain_exits.index.size < 1:\n",
    "                                    breakeven_exits = exits[(exits[\"gains\"]>=0) & (exits[\"quarter\"]>trade[\"quarter\"]) & (exits[\"year\"]==trade[\"year\"])].sort_values(\"date\")\n",
    "                                    if breakeven_exits.index.size < 1:\n",
    "                                        final_exits = exits[(exits[\"quarter\"]>trade[\"quarter\"]) & (exits[\"year\"]==trade[\"year\"])].sort_values(\"date\")\n",
    "                                        if final_exits.index.size < 1:\n",
    "                                            exit = exits[(exits[\"year\"]==trade[\"year\"])].sort_values(\"date\").iloc[-1]\n",
    "                                            trade[\"sell_price\"] = exit[\"adjclose\"]\n",
    "                                        else:\n",
    "                                            exit = final_exits.iloc[0]\n",
    "                                            trade[\"sell_price\"] = exit[\"adjclose\"]\n",
    "                                    else:\n",
    "                                        exit = breakeven_exits.iloc[0]\n",
    "                                        trade[\"sell_price\"] = buy_price\n",
    "                                else:\n",
    "                                    exit = gain_exits.iloc[0]\n",
    "                                    trade[\"sell_price\"] = buy_price * (1+(trade_req))\n",
    "                                delta = (trade[\"sell_price\"] - buy_price) / buy_price\n",
    "                                trade[\"projected_delta\"] = offering[\"delta\"]\n",
    "                                trade[\"sell_date\"] = exit[\"date\"]\n",
    "                                trade[\"position\"] = position\n",
    "                                trade[\"req\"] = req\n",
    "                                trade[\"value\"] = value\n",
    "                                trade[\"delta\"] = delta\n",
    "                                trade[\"training_year\"] = training_year\n",
    "                                trade[\"projection_value\"] = projection_value\n",
    "                                trade[\"signal\"] = signal\n",
    "                                included_cols = [\"date\",\"sell_date\",\"ticker\",\"adjclose\",\"sell_price\",\"delta\",\"projected_delta\",\"position\",\"req\",\"value\",\"training_year\",\"signal\",\"projection_value\"]\n",
    "                                trade_df = pd.DataFrame([trade])\n",
    "                                speculation_db.store(\"pdr_hybrid_trades\",trade_df[included_cols])\n",
    "                                not_available.append({\"start_date\":trade[\"date\"],\"end_date\":trade[\"sell_date\"],\"ticker\":ticker})\n",
    "                                date = exit[\"date\"] + timedelta(days=1)                                     \n",
    "                            else:\n",
    "                                date = date + timedelta(days=1)\n",
    "                        else:\n",
    "                            date = date + timedelta(days=1)\n",
    "                    except Exception as e:\n",
    "                        print(str(e))\n",
    "                        date = date+timedelta(days=1)\n",
    "speculation_db.disconnect()"
   ]
  }
 ],
 "metadata": {
  "kernelspec": {
   "display_name": "Python 3 (ipykernel)",
   "language": "python",
   "name": "python3"
  },
  "language_info": {
   "codemirror_mode": {
    "name": "ipython",
    "version": 3
   },
   "file_extension": ".py",
   "mimetype": "text/x-python",
   "name": "python",
   "nbconvert_exporter": "python",
   "pygments_lexer": "ipython3",
   "version": "3.10.5"
  }
 },
 "nbformat": 4,
 "nbformat_minor": 5
}
