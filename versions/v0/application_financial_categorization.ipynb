{
 "cells": [
  {
   "cell_type": "code",
   "execution_count": 1,
   "metadata": {},
   "outputs": [],
   "source": [
    "import pandas as pd\n",
    "from database.market import Market\n",
    "from database.strategy import Strategy\n",
    "from database.sec import SEC\n",
    "from modeler.modeler import Modeler as m\n",
    "from datetime import datetime, timedelta, timezone\n",
    "import numpy as np\n",
    "import math\n",
    "from tqdm import tqdm\n",
    "import pickle\n",
    "from sklearn.preprocessing import OneHotEncoder"
   ]
  },
  {
   "cell_type": "code",
   "execution_count": 2,
   "metadata": {},
   "outputs": [],
   "source": [
    "sec = SEC()\n",
    "market = Market()\n",
    "strat = Strategy()"
   ]
  },
  {
   "cell_type": "code",
   "execution_count": 3,
   "metadata": {},
   "outputs": [],
   "source": [
    "market.connect()\n",
    "sp5 = market.retrieve(\"sp500\")\n",
    "market.disconnect()\n",
    "strat.connect()\n",
    "prices = strat.retrieve(\"prices\")\n",
    "strat.disconnect()"
   ]
  },
  {
   "cell_type": "code",
   "execution_count": 4,
   "metadata": {},
   "outputs": [],
   "source": [
    "prices[\"date\"] = pd.to_datetime(prices[\"date\"])\n",
    "prices[\"year\"] = [x.year for x in prices[\"date\"]]\n",
    "prices[\"quarter\"] = [x.quarter for x in prices[\"date\"]]"
   ]
  },
  {
   "cell_type": "code",
   "execution_count": 5,
   "metadata": {},
   "outputs": [],
   "source": [
    "quarterly_grouped = prices.groupby([\"year\",\"quarter\",\"ticker\"]).mean()\n",
    "quarterly_grouped[\"category\"] = [math.ceil(x/100) * 100 for x in quarterly_grouped[\"adjClose\"]]\n",
    "quarterly_grouped[\"category\"] = [1000 if x > 100 else x for x in quarterly_grouped[\"category\"]]"
   ]
  },
  {
   "cell_type": "code",
   "execution_count": 6,
   "metadata": {},
   "outputs": [],
   "source": [
    "quarterly_grouped.reset_index(inplace=True)\n",
    "groups = quarterly_grouped.merge(sp5.rename(columns={\"Symbol\":\"ticker\"}),on=\"ticker\",how=\"left\")\n",
    "g = groups[[\"year\",\"quarter\",\"ticker\",\"adjClose\",\"category\",\"GICS Sector\",\"CIK\"]]"
   ]
  },
  {
   "cell_type": "code",
   "execution_count": 7,
   "metadata": {},
   "outputs": [
    {
     "name": "stderr",
     "output_type": "stream",
     "text": [
      "<ipython-input-7-8660152c2437>:1: SettingWithCopyWarning: \n",
      "A value is trying to be set on a copy of a slice from a DataFrame.\n",
      "Try using .loc[row_indexer,col_indexer] = value instead\n",
      "\n",
      "See the caveats in the documentation: https://pandas.pydata.org/pandas-docs/stable/user_guide/indexing.html#returning-a-view-versus-a-copy\n",
      "  g[\"string_category\"]  = [str(x) for x in g[\"category\"]]\n",
      "<ipython-input-7-8660152c2437>:2: SettingWithCopyWarning: \n",
      "A value is trying to be set on a copy of a slice from a DataFrame.\n",
      "Try using .loc[row_indexer,col_indexer] = value instead\n",
      "\n",
      "See the caveats in the documentation: https://pandas.pydata.org/pandas-docs/stable/user_guide/indexing.html#returning-a-view-versus-a-copy\n",
      "  g[\"classification\"] = g[\"string_category\"] + g[\"GICS Sector\"]\n"
     ]
    }
   ],
   "source": [
    "g[\"string_category\"]  = [str(x) for x in g[\"category\"]]\n",
    "g[\"classification\"] = g[\"string_category\"] + g[\"GICS Sector\"]"
   ]
  },
  {
   "cell_type": "code",
   "execution_count": 8,
   "metadata": {},
   "outputs": [],
   "source": [
    "numberss = len(g[\"classification\"].unique())"
   ]
  },
  {
   "cell_type": "code",
   "execution_count": 9,
   "metadata": {},
   "outputs": [
    {
     "name": "stderr",
     "output_type": "stream",
     "text": [
      "<ipython-input-9-630b68a8b584>:6: SettingWithCopyWarning: \n",
      "A value is trying to be set on a copy of a slice from a DataFrame.\n",
      "Try using .loc[row_indexer,col_indexer] = value instead\n",
      "\n",
      "See the caveats in the documentation: https://pandas.pydata.org/pandas-docs/stable/user_guide/indexing.html#returning-a-view-versus-a-copy\n",
      "  g[col] = df_encoding[col]\n"
     ]
    }
   ],
   "source": [
    "enc = OneHotEncoder(handle_unknown=\"ignore\")\n",
    "transformed = [[x] for x in g[\"classification\"]]\n",
    "encoding = enc.fit_transform(transformed)\n",
    "df_encoding = pd.DataFrame(encoding.toarray())\n",
    "for col in df_encoding.columns:\n",
    "    g[col] = df_encoding[col]"
   ]
  },
  {
   "cell_type": "code",
   "execution_count": 10,
   "metadata": {},
   "outputs": [
    {
     "name": "stderr",
     "output_type": "stream",
     "text": [
      " 12%|█████████████████████████                                                                                                                                                                                        | 59/492 [00:27<03:53,  1.85it/s]"
     ]
    },
    {
     "name": "stdout",
     "output_type": "stream",
     "text": [
      "prep BEN can only convert an array of size 1 to a Python scalar\n"
     ]
    },
    {
     "name": "stderr",
     "output_type": "stream",
     "text": [
      " 37%|████████████████████████████████████████████████████████████████████████████▉                                                                                                                                   | 182/492 [01:23<02:32,  2.03it/s]"
     ]
    },
    {
     "name": "stdout",
     "output_type": "stream",
     "text": [
      "prep FRC 'filed'\n"
     ]
    },
    {
     "name": "stderr",
     "output_type": "stream",
     "text": [
      "100%|████████████████████████████████████████████████████████████████████████████████████████████████████████████████████████████████████████████████████████████████████████████████████████████████████████████████| 492/492 [03:43<00:00,  2.20it/s]\n"
     ]
    }
   ],
   "source": [
    "yearly_gap = 1 \n",
    "training_years = 1\n",
    "fails = []\n",
    "filings = []\n",
    "columns = []\n",
    "sec.connect()\n",
    "for cik in tqdm(list(g[\"CIK\"].unique())):\n",
    "    try:\n",
    "        filing = sec.retrieve_filing_data(cik)\n",
    "        symbols = sp5[sp5[\"CIK\"]==cik][\"Symbol\"]\n",
    "        if symbols.index.size > 1:\n",
    "            ticker = str(list(symbols)[0])\n",
    "        else:\n",
    "            ticker = symbols.item()\n",
    "        funds = filing.copy()\n",
    "        drop_columns = [\"adsh\",\"cik\",\"_id\"]\n",
    "        for column in funds.columns:\n",
    "            if str(column).islower() and str(column) != \"filed\" and str(column) not in [\"year\",\"quarter\",\"ticker\"]:\n",
    "                drop_columns.append(column)\n",
    "        funds[\"filed\"] = [datetime.strptime(str(x),\"%Y%m%d\").replace(tzinfo=timezone.utc) if \"-\" not in str(x) else \\\n",
    "                         datetime.strptime(str(x).split(\" \")[0],\"%Y-%m-%d\").replace(tzinfor=timezone.utc) for x in funds[\"filed\"]]\n",
    "        funds[\"quarter\"] = [x.quarter for x in funds[\"filed\"]]\n",
    "        funds[\"year\"] = [x.year + yearly_gap for x in funds[\"filed\"]]\n",
    "        funds[\"ticker\"] = ticker\n",
    "        funds.drop(drop_columns,axis=1,inplace=True,errors=\"ignore\")\n",
    "        qa = funds.copy()\n",
    "        for col in qa.columns:\n",
    "            test = qa[col].fillna(-99999)\n",
    "            availability = 1 - (len([x for x in test if x == -99999]) / qa.index.size)\n",
    "            if availability < 0.95:\n",
    "                funds.drop(col,inplace=True,axis=1)\n",
    "        filings.append(funds)\n",
    "    except Exception as e:\n",
    "        print(\"prep\",ticker,str(e))\n",
    "        fails.append([ticker,str(e)])\n",
    "sec.disconnect()"
   ]
  },
  {
   "cell_type": "code",
   "execution_count": 11,
   "metadata": {},
   "outputs": [
    {
     "name": "stderr",
     "output_type": "stream",
     "text": [
      "100%|██████████████████████████████████████████████████████████████████████████████████████████████████████████████████████████████████████████████████████████████████████████████████████████████████████████████| 2240/2240 [01:48<00:00, 20.72it/s]\n"
     ]
    }
   ],
   "source": [
    "try:\n",
    "    f = pd.concat(filings)\n",
    "    for col in tqdm(f.columns):\n",
    "        test = f[col].fillna(-99999)\n",
    "        availability = len([x for x in test != -99999 if x == True]) / test.index.size\n",
    "        if availability < 0.7:\n",
    "            f.drop(col,axis=1,inplace=True)\n",
    "except Exception as e:\n",
    "    print(str(e))"
   ]
  },
  {
   "cell_type": "code",
   "execution_count": 12,
   "metadata": {},
   "outputs": [
    {
     "data": {
      "text/plain": [
       "Index([           'year',         'quarter',          'ticker',\n",
       "              'adjClose',        'category',     'GICS Sector',\n",
       "                   'CIK', 'string_category',  'classification',\n",
       "                       0,                 1,                 2,\n",
       "                       3,                 4,                 5,\n",
       "                       6,                 7,                 8,\n",
       "                       9,                10,                11,\n",
       "                      12,                13,                14,\n",
       "                      15,                16,                17,\n",
       "                      18,                19,                20,\n",
       "                      21,                22],\n",
       "      dtype='object')"
      ]
     },
     "execution_count": 12,
     "metadata": {},
     "output_type": "execute_result"
    }
   ],
   "source": [
    "g.columns"
   ]
  },
  {
   "cell_type": "code",
   "execution_count": 13,
   "metadata": {},
   "outputs": [],
   "source": [
    "try:\n",
    "    data = f.merge(g.drop([\"string_category\",\"classification\",\"adjClose\",\"category\",\"GICS Sector\",\"CIK\"],axis=1), \\\n",
    "                  on=[\"year\",\"quarter\",\"ticker\"],how=\"left\")\n",
    "    factors = list(data.columns)\n",
    "    factors = [x for x in factors if x not in [\"year\",\"quarter\",\"ticker\"]]\n",
    "    for i in range(numberss):\n",
    "        factors.remove(i)\n",
    "    for col in factors:\n",
    "        data[col].replace([np.inf,-np.inf,np.nan,np.NaN],f[col].mean(),inplace=True)\n",
    "except Exception as e:\n",
    "    print(str(e))"
   ]
  },
  {
   "cell_type": "code",
   "execution_count": 14,
   "metadata": {},
   "outputs": [],
   "source": [
    "for col in data.columns:\n",
    "    data.rename(columns= {col:str(col)},inplace=True)"
   ]
  },
  {
   "cell_type": "code",
   "execution_count": 15,
   "metadata": {},
   "outputs": [],
   "source": [
    "# market.connect()\n",
    "# data = market.retrieve(\"financial_categorization_data\")\n",
    "# market.disconnect()"
   ]
  },
  {
   "cell_type": "code",
   "execution_count": 16,
   "metadata": {},
   "outputs": [],
   "source": [
    "data.drop([\"_id\",\"filed\"],axis=1,inplace=True,errors=\"ignore\")"
   ]
  },
  {
   "cell_type": "code",
   "execution_count": 17,
   "metadata": {},
   "outputs": [
    {
     "data": {
      "text/plain": [
       "['AccumulatedOtherComprehensiveIncomeLossNetOfTax',\n",
       " 'Assets',\n",
       " 'AssetsCurrent',\n",
       " 'CashAndCashEquivalentsAtCarryingValue',\n",
       " 'CommonStockValue',\n",
       " 'EarningsPerShareBasic',\n",
       " 'EarningsPerShareDiluted',\n",
       " 'EntityCommonStockSharesOutstanding',\n",
       " 'Goodwill',\n",
       " 'IncomeTaxExpenseBenefit',\n",
       " 'LiabilitiesAndStockholdersEquity',\n",
       " 'LiabilitiesCurrent',\n",
       " 'OtherAssetsNoncurrent',\n",
       " 'PropertyPlantAndEquipmentNet',\n",
       " 'RetainedEarningsAccumulatedDeficit',\n",
       " 'filed',\n",
       " 'StockholdersEquity',\n",
       " 'NetIncomeLoss']"
      ]
     },
     "execution_count": 17,
     "metadata": {},
     "output_type": "execute_result"
    }
   ],
   "source": [
    "factors"
   ]
  },
  {
   "cell_type": "code",
   "execution_count": 18,
   "metadata": {
    "scrolled": true
   },
   "outputs": [
    {
     "name": "stderr",
     "output_type": "stream",
     "text": [
      "  0%|                                                                                                                                                                                                                            | 0/1 [00:00<?, ?it/s]c:\\users\\eric\\appdata\\local\\programs\\python\\python38\\lib\\site-packages\\pandas\\core\\generic.py:6746: SettingWithCopyWarning: \n",
      "A value is trying to be set on a copy of a slice from a DataFrame\n",
      "\n",
      "See the caveats in the documentation: https://pandas.pydata.org/pandas-docs/stable/user_guide/indexing.html#returning-a-view-versus-a-copy\n",
      "  self._update_inplace(new_data)\n",
      "<ipython-input-18-41bd3b0af81f>:16: SettingWithCopyWarning: \n",
      "A value is trying to be set on a copy of a slice from a DataFrame\n",
      "\n",
      "See the caveats in the documentation: https://pandas.pydata.org/pandas-docs/stable/user_guide/indexing.html#returning-a-view-versus-a-copy\n",
      "  training_data.dropna(inplace=True)\n",
      "c:\\users\\eric\\appdata\\local\\programs\\python\\python38\\lib\\site-packages\\xgboost\\sklearn.py:1146: UserWarning: The use of label encoder in XGBClassifier is deprecated and will be removed in a future release. To remove this warning, do the following: 1) Pass option use_label_encoder=False when constructing XGBClassifier object; and 2) Encode your labels (y) as integers starting with 0, i.e. 0, 1, 2, ..., [num_class - 1].\n",
      "  warnings.warn(label_encoder_deprecation_msg, UserWarning)\n",
      "c:\\users\\eric\\appdata\\local\\programs\\python\\python38\\lib\\site-packages\\pandas\\core\\generic.py:6746: SettingWithCopyWarning: \n",
      "A value is trying to be set on a copy of a slice from a DataFrame\n",
      "\n",
      "See the caveats in the documentation: https://pandas.pydata.org/pandas-docs/stable/user_guide/indexing.html#returning-a-view-versus-a-copy\n",
      "  self._update_inplace(new_data)\n",
      "<ipython-input-18-41bd3b0af81f>:25: SettingWithCopyWarning: \n",
      "A value is trying to be set on a copy of a slice from a DataFrame\n",
      "\n",
      "See the caveats in the documentation: https://pandas.pydata.org/pandas-docs/stable/user_guide/indexing.html#returning-a-view-versus-a-copy\n",
      "  prediction_data.dropna(inplace=True)\n",
      "<ipython-input-18-41bd3b0af81f>:27: SettingWithCopyWarning: \n",
      "A value is trying to be set on a copy of a slice from a DataFrame.\n",
      "Try using .loc[row_indexer,col_indexer] = value instead\n",
      "\n",
      "See the caveats in the documentation: https://pandas.pydata.org/pandas-docs/stable/user_guide/indexing.html#returning-a-view-versus-a-copy\n",
      "  prediction_data[\"prediction\"] = [x[0] for x in predictions]\n",
      "<ipython-input-18-41bd3b0af81f>:28: SettingWithCopyWarning: \n",
      "A value is trying to be set on a copy of a slice from a DataFrame.\n",
      "Try using .loc[row_indexer,col_indexer] = value instead\n",
      "\n",
      "See the caveats in the documentation: https://pandas.pydata.org/pandas-docs/stable/user_guide/indexing.html#returning-a-view-versus-a-copy\n",
      "  prediction_data[\"score\"] = models[\"score\"].item()\n",
      "100%|████████████████████████████████████████████████████████████████████████████████████████████████████████████████████████████████████████████████████████████████████████████████████████████████████████████████████| 1/1 [00:01<00:00,  1.73s/it]\n"
     ]
    }
   ],
   "source": [
    "year_range = range(2021,2022)\n",
    "yearly_gap = 1\n",
    "training_years = 1\n",
    "for year in tqdm(year_range):\n",
    "    try:\n",
    "        training_data = data[(data[\"year\"] < year) & (data[\"year\"] >= year - yearly_gap)]\n",
    "        factors = list(data.columns)\n",
    "        factors = [x for x in factors if x not in [\"year\",\"quarter\",\"ticker\"]]\n",
    "        for i in range(numberss):\n",
    "            try:\n",
    "                factors.remove(str(i))\n",
    "            except:\n",
    "                continue\n",
    "        for col in factors:\n",
    "            training_data[col].replace([np.inf,-np.inf,np.nan,np.NaN],training_data[col].mean(),inplace=True)\n",
    "        training_data.dropna(inplace=True)\n",
    "        x = training_data[factors]\n",
    "        y = training_data[[str(x) for x in range(numberss)]]\n",
    "        prediction_data = data[data[\"year\"]==year]\n",
    "        refined_data = {\"X\":x.reset_index(drop=True),\"y\":y.reset_index(drop=True)}\n",
    "        models = m.xgb_classify(refined_data.copy(),multioutput=True)\n",
    "        model = models[\"model\"]\n",
    "        for col in factors:\n",
    "            prediction_data[col].replace([np.inf,-np.inf,np.nan,np.NaN],prediction_data[col].mean(),inplace=True)\n",
    "        prediction_data.dropna(inplace=True)\n",
    "        predictions = enc.inverse_transform(model.predict(prediction_data[factors]))\n",
    "        prediction_data[\"prediction\"] = [x[0] for x in predictions]\n",
    "        prediction_data[\"score\"] = models[\"score\"].item()\n",
    "        sim = prediction_data[[\"year\",\"quarter\",\"ticker\",\"prediction\",\"score\"]]\n",
    "        strat.connect()\n",
    "        strat.store(\"application_stock_categories\",sim)\n",
    "        strat.disconnect()\n",
    "    except Exception as e:\n",
    "        print(year,str(e))"
   ]
  }
 ],
 "metadata": {
  "kernelspec": {
   "display_name": "Python 3 (ipykernel)",
   "language": "python",
   "name": "python3"
  },
  "language_info": {
   "codemirror_mode": {
    "name": "ipython",
    "version": 3
   },
   "file_extension": ".py",
   "mimetype": "text/x-python",
   "name": "python",
   "nbconvert_exporter": "python",
   "pygments_lexer": "ipython3",
   "version": "3.10.1"
  }
 },
 "nbformat": 4,
 "nbformat_minor": 4
}
