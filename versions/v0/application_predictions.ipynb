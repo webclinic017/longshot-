{
 "cells": [
  {
   "cell_type": "code",
   "execution_count": 38,
   "metadata": {},
   "outputs": [],
   "source": [
    "from database.strategy import Strategy\n",
    "import pandas as pd\n",
    "from datetime import datetime, timedelta\n",
    "from extractor.tiingo_extractor import TiingoExtractor\n",
    "from tqdm import tqdm\n",
    "from time import sleep\n",
    "import pickle\n",
    "import pandas_datareader.data as web"
   ]
  },
  {
   "cell_type": "code",
   "execution_count": 10,
   "metadata": {},
   "outputs": [],
   "source": [
    "strategy = Strategy()\n",
    "strategy.connect()\n",
    "categories = strategy.retrieve(\"application_stock_categories\")\n",
    "models = strategy.retrieve(\"models\")\n",
    "strategy.disconnect()\n",
    "models[\"model\"] = [pickle.loads(x) for x in models[\"model\"]]\n",
    "quarter = datetime.now().month // 3 + 1\n",
    "year = datetime.now().year"
   ]
  },
  {
   "cell_type": "code",
   "execution_count": 12,
   "metadata": {},
   "outputs": [],
   "source": [
    "\n",
    "ticker = \"MSFT\"\n",
    "ticker_category = categories[(categories[\"ticker\"]==ticker) & (categories[\"year\"] == year) & (categories[\"quarter\"]==quarter)]\n",
    "number_of_training_weeks = 14\n",
    "start = (datetime.now() - timedelta(days=(number_of_training_weeks + 1)*7)).strftime(\"%Y-%m-%d\")\n",
    "end = datetime.now().strftime(\"%Y-%m-%d\")\n",
    "model = models[models[\"category\"]==ticker_category[\"prediction\"].item()].tail(1)\n",
    "ticker_data = TiingoExtractor.extract(ticker,start,end)\n",
    "ticker_data[\"date\"] = pd.to_datetime(ticker_data[\"date\"])\n",
    "ticker_data[\"year\"] = [x.year for x in ticker_data[\"date\"]]\n",
    "ticker_data[\"quarter\"] = [x.quarter for x in ticker_data[\"date\"]]\n",
    "ticker_data[\"week\"] = [x.week for x in ticker_data[\"date\"]]\n",
    "weekly = ticker_data.groupby([\"year\",\"quarter\",\"week\"]).mean().reset_index()\n",
    "for i in range(number_of_training_weeks):\n",
    "    weekly[i] = weekly[\"adjClose\"].shift(1)\n",
    "weekly[\"y\"] = weekly[\"adjClose\"].shift(-1)\n",
    "weekly.dropna(inplace=True)\n",
    "weekly[\"ticker\"] = ticker\n",
    "for i in range(number_of_training_weeks):\n",
    "    weekly.rename(columns={i:str(i)},inplace=True)\n",
    "X = weekly[[str(x) for x in range(number_of_training_weeks)]].tail(1)\n",
    "current = ticker_data.tail(1)[\"adjClose\"].item()\n",
    "prediction = model[\"model\"].item().predict(X)[0]"
   ]
  },
  {
   "cell_type": "code",
   "execution_count": 49,
   "metadata": {},
   "outputs": [],
   "source": [
    "{\"ticker\":ticker,\"adjClose\":current,\"prediction\":prediction,\"delta\":(prediction-current)/current}"
   ]
  }
 ],
 "metadata": {
  "kernelspec": {
   "display_name": "Python 3 (ipykernel)",
   "language": "python",
   "name": "python3"
  },
  "language_info": {
   "codemirror_mode": {
    "name": "ipython",
    "version": 3
   },
   "file_extension": ".py",
   "mimetype": "text/x-python",
   "name": "python",
   "nbconvert_exporter": "python",
   "pygments_lexer": "ipython3",
   "version": "3.9.6"
  }
 },
 "nbformat": 4,
 "nbformat_minor": 4
}
