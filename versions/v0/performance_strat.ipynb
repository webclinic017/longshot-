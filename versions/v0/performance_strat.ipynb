{
 "cells": [
  {
   "cell_type": "code",
   "execution_count": 1,
   "id": "718ccf81",
   "metadata": {},
   "outputs": [],
   "source": [
    "import pandas as pd\n",
    "import matplotlib.pyplot as plt\n",
    "from database.market import Market\n",
    "from datetime import datetime, timedelta\n",
    "from tqdm import tqdm"
   ]
  },
  {
   "cell_type": "code",
   "execution_count": 53,
   "id": "5be76d94",
   "metadata": {},
   "outputs": [],
   "source": [
    "market = Market()\n",
    "market.connect()\n",
    "sp5 = market.retrieve(\"sp500\")\n",
    "market.disconnect()"
   ]
  },
  {
   "cell_type": "code",
   "execution_count": 3,
   "id": "c9a7b158",
   "metadata": {},
   "outputs": [],
   "source": [
    "market.connect()\n",
    "prices = market.retrieve(\"prices\")\n",
    "market.disconnect()"
   ]
  },
  {
   "cell_type": "code",
   "execution_count": 4,
   "id": "727d2354",
   "metadata": {},
   "outputs": [],
   "source": [
    "prices[\"date\"] = pd.to_datetime(prices[\"date\"])\n",
    "prices[\"year\"] = [x.year for x in prices[\"date\"]]\n",
    "prices[\"quarter\"] = [x.quarter for x in prices[\"date\"]]\n",
    "prices[\"week\"] = [x.week for x in prices[\"date\"]]\n",
    "prices[\"month\"] = [x.month for x in prices[\"date\"]]"
   ]
  },
  {
   "cell_type": "code",
   "execution_count": 8,
   "id": "bb320369",
   "metadata": {},
   "outputs": [
    {
     "name": "stderr",
     "output_type": "stream",
     "text": [
      "  0%|                                                                                                                                            | 0/13 [00:00<?, ?it/s]\n",
      "  0%|                                                                                                                                           | 0/505 [00:00<?, ?it/s]\u001b[A\n",
      "  8%|██████████▍                                                                                                                      | 41/505 [00:00<00:01, 403.83it/s]\u001b[A\n",
      " 16%|████████████████████▉                                                                                                            | 82/505 [00:00<00:01, 402.68it/s]"
     ]
    },
    {
     "name": "stdout",
     "output_type": "stream",
     "text": [
      "single positional indexer is out-of-bounds\n",
      "single positional indexer is out-of-bounds\n",
      "single positional indexer is out-of-bounds\n",
      "single positional indexer is out-of-bounds\n",
      "single positional indexer is out-of-bounds\n",
      "single positional indexer is out-of-bounds\n",
      "single positional indexer is out-of-bounds\n",
      "single positional indexer is out-of-bounds\n",
      "single positional indexer is out-of-bounds\n",
      "single positional indexer is out-of-bounds\n"
     ]
    },
    {
     "name": "stderr",
     "output_type": "stream",
     "text": [
      "\u001b[A\n",
      " 25%|███████████████████████████████▋                                                                                                | 125/505 [00:00<00:00, 413.12it/s]\u001b[A"
     ]
    },
    {
     "name": "stdout",
     "output_type": "stream",
     "text": [
      "single positional indexer is out-of-bounds\n",
      "single positional indexer is out-of-bounds\n",
      "single positional indexer is out-of-bounds\n",
      "single positional indexer is out-of-bounds\n",
      "single positional indexer is out-of-bounds\n",
      "single positional indexer is out-of-bounds\n",
      "single positional indexer is out-of-bounds\n",
      "single positional indexer is out-of-bounds\n",
      "single positional indexer is out-of-bounds\n",
      "single positional indexer is out-of-bounds\n",
      "single positional indexer is out-of-bounds\n",
      "single positional indexer is out-of-bounds"
     ]
    },
    {
     "name": "stderr",
     "output_type": "stream",
     "text": [
      "\n",
      " 33%|██████████████████████████████████████████▎                                                                                     | 167/505 [00:00<00:00, 407.80it/s]\u001b[A\n",
      " 41%|████████████████████████████████████████████████████▋                                                                           | 208/505 [00:00<00:00, 407.10it/s]\u001b[A"
     ]
    },
    {
     "name": "stdout",
     "output_type": "stream",
     "text": [
      "\n",
      "single positional indexer is out-of-bounds\n",
      "single positional indexer is out-of-bounds\n",
      "single positional indexer is out-of-bounds\n",
      "single positional indexer is out-of-bounds\n",
      "single positional indexer is out-of-bounds\n",
      "single positional indexer is out-of-bounds\n",
      "single positional indexer is out-of-bounds\n",
      "single positional indexer is out-of-bounds\n",
      "single positional indexer is out-of-bounds\n",
      "single positional indexer is out-of-bounds\n",
      "single positional indexer is out-of-bounds\n",
      "single positional indexer is out-of-bounds\n",
      "single positional indexer is out-of-bounds\n",
      "single positional indexer is out-of-bounds\n",
      "single positional indexer is out-of-bounds\n",
      "single positional indexer is out-of-bounds\n",
      "single positional indexer is out-of-bounds"
     ]
    },
    {
     "name": "stderr",
     "output_type": "stream",
     "text": [
      "\n",
      " 50%|███████████████████████████████████████████████████████████████▎                                                                | 250/505 [00:00<00:00, 408.66it/s]\u001b[A\n",
      " 58%|█████████████████████████████████████████████████████████████████████████▊                                                      | 291/505 [00:00<00:00, 409.06it/s]\u001b[A"
     ]
    },
    {
     "name": "stdout",
     "output_type": "stream",
     "text": [
      "\n",
      "single positional indexer is out-of-bounds\n",
      "single positional indexer is out-of-bounds\n",
      "single positional indexer is out-of-bounds\n",
      "single positional indexer is out-of-bounds\n",
      "single positional indexer is out-of-bounds\n",
      "single positional indexer is out-of-bounds\n",
      "single positional indexer is out-of-bounds\n",
      "single positional indexer is out-of-bounds\n",
      "single positional indexer is out-of-bounds\n",
      "single positional indexer is out-of-bounds\n",
      "single positional indexer is out-of-bounds\n"
     ]
    },
    {
     "name": "stderr",
     "output_type": "stream",
     "text": [
      "\n",
      " 66%|████████████████████████████████████████████████████████████████████████████████████▍                                           | 333/505 [00:00<00:00, 411.18it/s]\u001b[A\n",
      " 74%|███████████████████████████████████████████████████████████████████████████████████████████████                                 | 375/505 [00:00<00:00, 412.61it/s]\u001b[A"
     ]
    },
    {
     "name": "stdout",
     "output_type": "stream",
     "text": [
      "single positional indexer is out-of-bounds\n",
      "single positional indexer is out-of-bounds\n",
      "single positional indexer is out-of-bounds\n",
      "single positional indexer is out-of-bounds\n",
      "single positional indexer is out-of-bounds\n",
      "single positional indexer is out-of-bounds\n",
      "single positional indexer is out-of-bounds\n",
      "single positional indexer is out-of-bounds\n",
      "single positional indexer is out-of-bounds\n",
      "single positional indexer is out-of-bounds\n",
      "single positional indexer is out-of-bounds\n",
      "single positional indexer is out-of-bounds"
     ]
    },
    {
     "name": "stderr",
     "output_type": "stream",
     "text": [
      "\n",
      " 83%|█████████████████████████████████████████████████████████████████████████████████████████████████████████▋                      | 417/505 [00:01<00:00, 408.59it/s]\u001b[A\n",
      " 91%|████████████████████████████████████████████████████████████████████████████████████████████████████████████████████            | 458/505 [00:01<00:00, 401.73it/s]\u001b[A"
     ]
    },
    {
     "name": "stdout",
     "output_type": "stream",
     "text": [
      "\n",
      "single positional indexer is out-of-bounds\n",
      "single positional indexer is out-of-bounds\n",
      "single positional indexer is out-of-bounds\n",
      "single positional indexer is out-of-bounds\n",
      "single positional indexer is out-of-bounds\n",
      "single positional indexer is out-of-bounds\n",
      "single positional indexer is out-of-bounds"
     ]
    },
    {
     "name": "stderr",
     "output_type": "stream",
     "text": [
      "\n",
      "100%|████████████████████████████████████████████████████████████████████████████████████████████████████████████████████████████████| 505/505 [00:01<00:00, 405.69it/s]\u001b[A\n"
     ]
    },
    {
     "name": "stdout",
     "output_type": "stream",
     "text": [
      "\n",
      "single positional indexer is out-of-bounds\n",
      "single positional indexer is out-of-bounds\n",
      "single positional indexer is out-of-bounds\n",
      "single positional indexer is out-of-bounds\n",
      "single positional indexer is out-of-bounds\n",
      "single positional indexer is out-of-bounds\n",
      "single positional indexer is out-of-bounds\n"
     ]
    },
    {
     "name": "stderr",
     "output_type": "stream",
     "text": [
      "\n",
      "  0%|                                                                                                                                           | 0/505 [00:00<?, ?it/s]\u001b[A\n",
      "  8%|██████████▍                                                                                                                      | 41/505 [00:00<00:01, 405.85it/s]\u001b[A"
     ]
    },
    {
     "name": "stdout",
     "output_type": "stream",
     "text": [
      "single positional indexer is out-of-bounds\n",
      "single positional indexer is out-of-bounds\n",
      "single positional indexer is out-of-bounds\n",
      "single positional indexer is out-of-bounds\n",
      "single positional indexer is out-of-bounds\n",
      "single positional indexer is out-of-bounds\n",
      "single positional indexer is out-of-bounds\n",
      "single positional indexer is out-of-bounds\n",
      "single positional indexer is out-of-bounds"
     ]
    },
    {
     "name": "stderr",
     "output_type": "stream",
     "text": [
      "\n",
      " 16%|████████████████████▉                                                                                                            | 82/505 [00:00<00:01, 394.37it/s]\u001b[A\n",
      " 24%|███████████████████████████████▏                                                                                                | 123/505 [00:00<00:00, 401.31it/s]\u001b[A"
     ]
    },
    {
     "name": "stdout",
     "output_type": "stream",
     "text": [
      "\n",
      "single positional indexer is out-of-bounds\n",
      "single positional indexer is out-of-bounds\n",
      "single positional indexer is out-of-bounds\n",
      "single positional indexer is out-of-bounds\n",
      "single positional indexer is out-of-bounds\n",
      "single positional indexer is out-of-bounds\n",
      "single positional indexer is out-of-bounds\n",
      "single positional indexer is out-of-bounds\n",
      "single positional indexer is out-of-bounds\n",
      "single positional indexer is out-of-bounds\n",
      "single positional indexer is out-of-bounds\n",
      "single positional indexer is out-of-bounds\n"
     ]
    },
    {
     "name": "stderr",
     "output_type": "stream",
     "text": [
      "\n",
      " 32%|█████████████████████████████████████████▌                                                                                      | 164/505 [00:00<00:00, 396.92it/s]\u001b[A\n",
      " 41%|████████████████████████████████████████████████████▏                                                                           | 206/505 [00:00<00:00, 403.61it/s]\u001b[A"
     ]
    },
    {
     "name": "stdout",
     "output_type": "stream",
     "text": [
      "single positional indexer is out-of-bounds\n",
      "single positional indexer is out-of-bounds\n",
      "single positional indexer is out-of-bounds\n",
      "single positional indexer is out-of-bounds\n",
      "single positional indexer is out-of-bounds\n",
      "single positional indexer is out-of-bounds\n",
      "single positional indexer is out-of-bounds\n",
      "single positional indexer is out-of-bounds\n",
      "single positional indexer is out-of-bounds\n",
      "single positional indexer is out-of-bounds\n",
      "single positional indexer is out-of-bounds\n",
      "single positional indexer is out-of-bounds\n",
      "single positional indexer is out-of-bounds\n",
      "single positional indexer is out-of-bounds\n",
      "single positional indexer is out-of-bounds\n",
      "single positional indexer is out-of-bounds\n",
      "single positional indexer is out-of-bounds\n",
      "single positional indexer is out-of-bounds"
     ]
    },
    {
     "name": "stderr",
     "output_type": "stream",
     "text": [
      "\n",
      " 49%|██████████████████████████████████████████████████████████████▊                                                                 | 248/505 [00:00<00:00, 407.70it/s]\u001b[A\n",
      " 57%|█████████████████████████████████████████████████████████████████████████▎                                                      | 289/505 [00:00<00:00, 404.50it/s]\u001b[A"
     ]
    },
    {
     "name": "stdout",
     "output_type": "stream",
     "text": [
      "\n",
      "single positional indexer is out-of-bounds\n",
      "single positional indexer is out-of-bounds\n",
      "single positional indexer is out-of-bounds\n",
      "single positional indexer is out-of-bounds\n",
      "single positional indexer is out-of-bounds\n",
      "single positional indexer is out-of-bounds\n",
      "single positional indexer is out-of-bounds\n",
      "single positional indexer is out-of-bounds\n",
      "single positional indexer is out-of-bounds\n",
      "single positional indexer is out-of-bounds\n",
      "single positional indexer is out-of-bounds"
     ]
    },
    {
     "name": "stderr",
     "output_type": "stream",
     "text": [
      "\n",
      " 65%|███████████████████████████████████████████████████████████████████████████████████▋                                            | 330/505 [00:00<00:00, 401.16it/s]\u001b[A\n",
      " 74%|██████████████████████████████████████████████████████████████████████████████████████████████▎                                 | 372/505 [00:00<00:00, 406.91it/s]\u001b[A"
     ]
    },
    {
     "name": "stdout",
     "output_type": "stream",
     "text": [
      "\n",
      "single positional indexer is out-of-bounds\n",
      "single positional indexer is out-of-bounds\n",
      "single positional indexer is out-of-bounds\n",
      "single positional indexer is out-of-bounds\n",
      "single positional indexer is out-of-bounds\n",
      "single positional indexer is out-of-bounds\n",
      "single positional indexer is out-of-bounds\n",
      "single positional indexer is out-of-bounds\n",
      "single positional indexer is out-of-bounds\n",
      "single positional indexer is out-of-bounds\n",
      "single positional indexer is out-of-bounds\n"
     ]
    },
    {
     "name": "stderr",
     "output_type": "stream",
     "text": [
      "\n",
      " 82%|████████████████████████████████████████████████████████████████████████████████████████████████████████▋                       | 413/505 [00:01<00:00, 404.13it/s]\u001b[A\n",
      " 90%|███████████████████████████████████████████████████████████████████████████████████████████████████████████████████             | 454/505 [00:01<00:00, 405.87it/s]\u001b[A"
     ]
    },
    {
     "name": "stdout",
     "output_type": "stream",
     "text": [
      "single positional indexer is out-of-bounds\n",
      "single positional indexer is out-of-bounds\n",
      "single positional indexer is out-of-bounds\n",
      "single positional indexer is out-of-bounds\n",
      "single positional indexer is out-of-bounds\n",
      "single positional indexer is out-of-bounds\n",
      "single positional indexer is out-of-bounds\n",
      "single positional indexer is out-of-bounds"
     ]
    },
    {
     "name": "stderr",
     "output_type": "stream",
     "text": [
      "\n",
      "100%|████████████████████████████████████████████████████████████████████████████████████████████████████████████████████████████████| 505/505 [00:01<00:00, 403.58it/s]\u001b[A\n"
     ]
    },
    {
     "name": "stdout",
     "output_type": "stream",
     "text": [
      "\n",
      "single positional indexer is out-of-bounds\n",
      "single positional indexer is out-of-bounds\n",
      "single positional indexer is out-of-bounds\n",
      "single positional indexer is out-of-bounds\n",
      "single positional indexer is out-of-bounds\n",
      "single positional indexer is out-of-bounds\n",
      "single positional indexer is out-of-bounds\n"
     ]
    },
    {
     "name": "stderr",
     "output_type": "stream",
     "text": [
      "\n",
      "  0%|                                                                                                                                           | 0/505 [00:00<?, ?it/s]\u001b[A"
     ]
    },
    {
     "name": "stdout",
     "output_type": "stream",
     "text": [
      "single positional indexer is out-of-bounds\n",
      "single positional indexer is out-of-bounds\n",
      "single positional indexer is out-of-bounds\n",
      "single positional indexer is out-of-bounds\n"
     ]
    },
    {
     "name": "stderr",
     "output_type": "stream",
     "text": [
      "\n",
      "  8%|██████████▏                                                                                                                      | 40/505 [00:00<00:01, 399.91it/s]\u001b[A"
     ]
    },
    {
     "name": "stdout",
     "output_type": "stream",
     "text": [
      "single positional indexer is out-of-bounds\n",
      "single positional indexer is out-of-bounds\n",
      "single positional indexer is out-of-bounds\n",
      "single positional indexer is out-of-bounds\n",
      "single positional indexer is out-of-bounds"
     ]
    },
    {
     "name": "stderr",
     "output_type": "stream",
     "text": [
      "\n",
      " 16%|████████████████████▍                                                                                                            | 80/505 [00:00<00:01, 397.57it/s]\u001b[A\n"
     ]
    },
    {
     "name": "stdout",
     "output_type": "stream",
     "text": [
      "\n",
      "single positional indexer is out-of-bounds\n",
      "single positional indexer is out-of-bounds\n",
      "single positional indexer is out-of-bounds\n",
      "single positional indexer is out-of-bounds\n",
      "single positional indexer is out-of-bounds\n",
      "single positional indexer is out-of-bounds\n",
      "single positional indexer is out-of-bounds\n"
     ]
    },
    {
     "name": "stderr",
     "output_type": "stream",
     "text": [
      " 24%|██████████████████████████████▍                                                                                                 | 120/505 [00:00<00:00, 398.64it/s]\u001b[A"
     ]
    },
    {
     "name": "stdout",
     "output_type": "stream",
     "text": [
      "single positional indexer is out-of-bounds\n",
      "single positional indexer is out-of-bounds\n",
      "single positional indexer is out-of-bounds"
     ]
    },
    {
     "name": "stderr",
     "output_type": "stream",
     "text": [
      "\n",
      " 32%|████████████████████████████████████████▌                                                                                       | 160/505 [00:00<00:00, 392.17it/s]\u001b[A"
     ]
    },
    {
     "name": "stdout",
     "output_type": "stream",
     "text": [
      "\n",
      "single positional indexer is out-of-bounds\n",
      "single positional indexer is out-of-bounds\n",
      "single positional indexer is out-of-bounds\n",
      "single positional indexer is out-of-bounds\n",
      "single positional indexer is out-of-bounds\n",
      "single positional indexer is out-of-bounds\n",
      "single positional indexer is out-of-bounds\n",
      "single positional indexer is out-of-bounds\n",
      "single positional indexer is out-of-bounds\n",
      "single positional indexer is out-of-bounds\n"
     ]
    },
    {
     "name": "stderr",
     "output_type": "stream",
     "text": [
      "\n",
      " 40%|██████████████████████████████████████████████████▉                                                                             | 201/505 [00:00<00:00, 397.07it/s]\u001b[A"
     ]
    },
    {
     "name": "stdout",
     "output_type": "stream",
     "text": [
      "single positional indexer is out-of-bounds\n",
      "single positional indexer is out-of-bounds\n",
      "single positional indexer is out-of-bounds\n",
      "single positional indexer is out-of-bounds\n",
      "single positional indexer is out-of-bounds\n",
      "single positional indexer is out-of-bounds\n"
     ]
    },
    {
     "name": "stderr",
     "output_type": "stream",
     "text": [
      "\n",
      " 48%|█████████████████████████████████████████████████████████████▎                                                                  | 242/505 [00:00<00:00, 401.39it/s]\u001b[A"
     ]
    },
    {
     "name": "stdout",
     "output_type": "stream",
     "text": [
      "single positional indexer is out-of-bounds\n",
      "single positional indexer is out-of-bounds\n",
      "single positional indexer is out-of-bounds\n",
      "single positional indexer is out-of-bounds\n",
      "single positional indexer is out-of-bounds\n",
      "single positional indexer is out-of-bounds\n",
      "single positional indexer is out-of-bounds\n",
      "single positional indexer is out-of-bounds\n",
      "single positional indexer is out-of-bounds\n",
      "single positional indexer is out-of-bounds"
     ]
    },
    {
     "name": "stderr",
     "output_type": "stream",
     "text": [
      "\n",
      " 56%|███████████████████████████████████████████████████████████████████████▉                                                        | 284/505 [00:00<00:00, 406.08it/s]\u001b[A"
     ]
    },
    {
     "name": "stdout",
     "output_type": "stream",
     "text": [
      "\n",
      "single positional indexer is out-of-bounds\n",
      "single positional indexer is out-of-bounds\n",
      "single positional indexer is out-of-bounds\n"
     ]
    },
    {
     "name": "stderr",
     "output_type": "stream",
     "text": [
      "\n",
      " 64%|██████████████████████████████████████████████████████████████████████████████████▍                                             | 325/505 [00:00<00:00, 400.95it/s]\u001b[A"
     ]
    },
    {
     "name": "stdout",
     "output_type": "stream",
     "text": [
      "single positional indexer is out-of-bounds\n",
      "single positional indexer is out-of-bounds\n",
      "single positional indexer is out-of-bounds\n",
      "single positional indexer is out-of-bounds\n",
      "single positional indexer is out-of-bounds\n",
      "single positional indexer is out-of-bounds\n",
      "single positional indexer is out-of-bounds"
     ]
    },
    {
     "name": "stderr",
     "output_type": "stream",
     "text": [
      "\n",
      " 72%|████████████████████████████████████████████████████████████████████████████████████████████▊                                   | 366/505 [00:00<00:00, 401.24it/s]\u001b[A"
     ]
    },
    {
     "name": "stdout",
     "output_type": "stream",
     "text": [
      "\n",
      "single positional indexer is out-of-bounds\n",
      "single positional indexer is out-of-bounds\n",
      "single positional indexer is out-of-bounds\n",
      "single positional indexer is out-of-bounds\n",
      "single positional indexer is out-of-bounds"
     ]
    },
    {
     "name": "stderr",
     "output_type": "stream",
     "text": [
      "\n",
      " 81%|███████████████████████████████████████████████████████████████████████████████████████████████████████▏                        | 407/505 [00:01<00:00, 399.02it/s]\u001b[A"
     ]
    },
    {
     "name": "stdout",
     "output_type": "stream",
     "text": [
      "\n",
      "single positional indexer is out-of-bounds\n",
      "single positional indexer is out-of-bounds\n",
      "single positional indexer is out-of-bounds"
     ]
    },
    {
     "name": "stderr",
     "output_type": "stream",
     "text": [
      "\n",
      " 89%|█████████████████████████████████████████████████████████████████████████████████████████████████████████████████▌              | 448/505 [00:01<00:00, 399.89it/s]\u001b[A"
     ]
    },
    {
     "name": "stdout",
     "output_type": "stream",
     "text": [
      "\n",
      "single positional indexer is out-of-bounds\n",
      "single positional indexer is out-of-bounds\n",
      "single positional indexer is out-of-bounds"
     ]
    },
    {
     "name": "stderr",
     "output_type": "stream",
     "text": [
      "\n",
      "100%|████████████████████████████████████████████████████████████████████████████████████████████████████████████████████████████████| 505/505 [00:01<00:00, 398.96it/s]\u001b[A\n"
     ]
    },
    {
     "name": "stdout",
     "output_type": "stream",
     "text": [
      "\n",
      "single positional indexer is out-of-bounds\n",
      "single positional indexer is out-of-bounds\n",
      "single positional indexer is out-of-bounds\n",
      "single positional indexer is out-of-bounds\n",
      "single positional indexer is out-of-bounds\n",
      "single positional indexer is out-of-bounds\n",
      "single positional indexer is out-of-bounds\n",
      "single positional indexer is out-of-bounds\n",
      "single positional indexer is out-of-bounds\n"
     ]
    },
    {
     "name": "stderr",
     "output_type": "stream",
     "text": [
      "\n",
      "  0%|                                                                                                                                           | 0/505 [00:00<?, ?it/s]\u001b[A"
     ]
    },
    {
     "name": "stdout",
     "output_type": "stream",
     "text": [
      "single positional indexer is out-of-bounds\n",
      "single positional indexer is out-of-bounds\n",
      "single positional indexer is out-of-bounds\n",
      "single positional indexer is out-of-bounds\n"
     ]
    },
    {
     "name": "stderr",
     "output_type": "stream",
     "text": [
      "\n",
      "  8%|█████████▉                                                                                                                       | 39/505 [00:00<00:01, 389.91it/s]\u001b[A\n"
     ]
    },
    {
     "name": "stdout",
     "output_type": "stream",
     "text": [
      "single positional indexer is out-of-bounds\n",
      "single positional indexer is out-of-bounds\n",
      "single positional indexer is out-of-bounds\n",
      "single positional indexer is out-of-bounds\n"
     ]
    },
    {
     "name": "stderr",
     "output_type": "stream",
     "text": [
      " 15%|███████████████████▉                                                                                                             | 78/505 [00:00<00:01, 389.91it/s]\u001b[A\n",
      " 23%|█████████████████████████████▉                                                                                                  | 118/505 [00:00<00:00, 394.48it/s]"
     ]
    },
    {
     "name": "stdout",
     "output_type": "stream",
     "text": [
      "single positional indexer is out-of-bounds\n",
      "single positional indexer is out-of-bounds\n",
      "single positional indexer is out-of-bounds\n",
      "single positional indexer is out-of-bounds\n",
      "single positional indexer is out-of-bounds\n",
      "single positional indexer is out-of-bounds\n",
      "single positional indexer is out-of-bounds\n",
      "single positional indexer is out-of-bounds\n"
     ]
    },
    {
     "name": "stderr",
     "output_type": "stream",
     "text": [
      "\u001b[A"
     ]
    },
    {
     "name": "stdout",
     "output_type": "stream",
     "text": [
      "single positional indexer is out-of-bounds\n",
      "single positional indexer is out-of-bounds\n",
      "single positional indexer is out-of-bounds"
     ]
    },
    {
     "name": "stderr",
     "output_type": "stream",
     "text": [
      "\n",
      " 31%|████████████████████████████████████████                                                                                        | 158/505 [00:00<00:00, 391.98it/s]\u001b[A"
     ]
    },
    {
     "name": "stdout",
     "output_type": "stream",
     "text": [
      "\n",
      "single positional indexer is out-of-bounds\n",
      "single positional indexer is out-of-bounds\n",
      "single positional indexer is out-of-bounds\n",
      "single positional indexer is out-of-bounds\n",
      "single positional indexer is out-of-bounds\n",
      "single positional indexer is out-of-bounds\n",
      "single positional indexer is out-of-bounds\n"
     ]
    },
    {
     "name": "stderr",
     "output_type": "stream",
     "text": [
      "\n",
      " 39%|██████████████████████████████████████████████████▍                                                                             | 199/505 [00:00<00:00, 395.57it/s]\u001b[A"
     ]
    },
    {
     "name": "stdout",
     "output_type": "stream",
     "text": [
      "single positional indexer is out-of-bounds\n",
      "single positional indexer is out-of-bounds\n",
      "single positional indexer is out-of-bounds\n",
      "single positional indexer is out-of-bounds\n",
      "single positional indexer is out-of-bounds\n",
      "single positional indexer is out-of-bounds\n",
      "single positional indexer is out-of-bounds\n",
      "single positional indexer is out-of-bounds"
     ]
    },
    {
     "name": "stderr",
     "output_type": "stream",
     "text": [
      "\n",
      " 47%|████████████████████████████████████████████████████████████▌                                                                   | 239/505 [00:00<00:00, 393.06it/s]\u001b[A"
     ]
    },
    {
     "name": "stdout",
     "output_type": "stream",
     "text": [
      "\n",
      "single positional indexer is out-of-bounds\n",
      "single positional indexer is out-of-bounds\n",
      "single positional indexer is out-of-bounds\n",
      "single positional indexer is out-of-bounds\n",
      "single positional indexer is out-of-bounds\n",
      "single positional indexer is out-of-bounds\n",
      "single positional indexer is out-of-bounds"
     ]
    },
    {
     "name": "stderr",
     "output_type": "stream",
     "text": [
      "\n",
      " 55%|██████████████████████████████████████████████████████████████████████▉                                                         | 280/505 [00:00<00:00, 397.07it/s]\u001b[A"
     ]
    },
    {
     "name": "stdout",
     "output_type": "stream",
     "text": [
      "\n",
      "single positional indexer is out-of-bounds\n",
      "single positional indexer is out-of-bounds\n",
      "single positional indexer is out-of-bounds\n",
      "single positional indexer is out-of-bounds\n",
      "single positional indexer is out-of-bounds\n"
     ]
    },
    {
     "name": "stderr",
     "output_type": "stream",
     "text": [
      "\n",
      " 64%|█████████████████████████████████████████████████████████████████████████████████▎                                              | 321/505 [00:00<00:00, 399.85it/s]\u001b[A"
     ]
    },
    {
     "name": "stdout",
     "output_type": "stream",
     "text": [
      "single positional indexer is out-of-bounds\n",
      "single positional indexer is out-of-bounds\n",
      "single positional indexer is out-of-bounds\n",
      "single positional indexer is out-of-bounds\n",
      "single positional indexer is out-of-bounds\n",
      "single positional indexer is out-of-bounds"
     ]
    },
    {
     "name": "stderr",
     "output_type": "stream",
     "text": [
      "\n",
      " 71%|███████████████████████████████████████████████████████████████████████████████████████████▌                                    | 361/505 [00:00<00:00, 398.64it/s]\u001b[A\n"
     ]
    },
    {
     "name": "stdout",
     "output_type": "stream",
     "text": [
      "\n",
      "single positional indexer is out-of-bounds\n",
      "single positional indexer is out-of-bounds\n",
      "single positional indexer is out-of-bounds\n",
      "single positional indexer is out-of-bounds\n",
      "single positional indexer is out-of-bounds\n",
      "single positional indexer is out-of-bounds\n"
     ]
    },
    {
     "name": "stderr",
     "output_type": "stream",
     "text": [
      " 79%|█████████████████████████████████████████████████████████████████████████████████████████████████████▋                          | 401/505 [00:01<00:00, 396.60it/s]\u001b[A"
     ]
    },
    {
     "name": "stdout",
     "output_type": "stream",
     "text": [
      "single positional indexer is out-of-bounds\n"
     ]
    },
    {
     "name": "stderr",
     "output_type": "stream",
     "text": [
      "\n",
      " 87%|███████████████████████████████████████████████████████████████████████████████████████████████████████████████▊                | 441/505 [00:01<00:00, 392.84it/s]\u001b[A\n",
      " 95%|█████████████████████████████████████████████████████████████████████████████████████████████████████████████████████████▉      | 481/505 [00:01<00:00, 393.78it/s]\u001b[A"
     ]
    },
    {
     "name": "stdout",
     "output_type": "stream",
     "text": [
      "single positional indexer is out-of-bounds\n",
      "single positional indexer is out-of-bounds\n",
      "single positional indexer is out-of-bounds\n",
      "single positional indexer is out-of-bounds\n",
      "single positional indexer is out-of-bounds\n",
      "single positional indexer is out-of-bounds\n",
      "single positional indexer is out-of-bounds\n",
      "single positional indexer is out-of-bounds\n",
      "single positional indexer is out-of-bounds"
     ]
    },
    {
     "name": "stderr",
     "output_type": "stream",
     "text": [
      "100%|████████████████████████████████████████████████████████████████████████████████████████████████████████████████████████████████| 505/505 [00:01<00:00, 394.41it/s]\n",
      "  8%|██████████▏                                                                                                                         | 1/13 [00:05<01:01,  5.10s/it]"
     ]
    },
    {
     "name": "stdout",
     "output_type": "stream",
     "text": [
      "\n",
      "single positional indexer is out-of-bounds\n",
      "single positional indexer is out-of-bounds\n",
      "single positional indexer is out-of-bounds\n",
      "single positional indexer is out-of-bounds\n"
     ]
    },
    {
     "name": "stderr",
     "output_type": "stream",
     "text": [
      "\n",
      "  0%|                                                                                                                                           | 0/505 [00:00<?, ?it/s]\u001b[A\n",
      "  8%|██████████▋                                                                                                                      | 42/505 [00:00<00:01, 415.75it/s]\u001b[A"
     ]
    },
    {
     "name": "stdout",
     "output_type": "stream",
     "text": [
      "single positional indexer is out-of-bounds\n",
      "single positional indexer is out-of-bounds\n",
      "single positional indexer is out-of-bounds\n",
      "single positional indexer is out-of-bounds\n",
      "single positional indexer is out-of-bounds\n",
      "single positional indexer is out-of-bounds\n",
      "single positional indexer is out-of-bounds\n",
      "single positional indexer is out-of-bounds\n",
      "single positional indexer is out-of-bounds"
     ]
    },
    {
     "name": "stderr",
     "output_type": "stream",
     "text": [
      "\n",
      " 17%|█████████████████████▍                                                                                                           | 84/505 [00:00<00:01, 403.98it/s]\u001b[A\n",
      " 25%|███████████████████████████████▉                                                                                                | 126/505 [00:00<00:00, 409.27it/s]\u001b[A"
     ]
    },
    {
     "name": "stdout",
     "output_type": "stream",
     "text": [
      "\n",
      "single positional indexer is out-of-bounds\n",
      "single positional indexer is out-of-bounds\n",
      "single positional indexer is out-of-bounds\n",
      "single positional indexer is out-of-bounds\n",
      "single positional indexer is out-of-bounds\n",
      "single positional indexer is out-of-bounds\n",
      "single positional indexer is out-of-bounds\n",
      "single positional indexer is out-of-bounds\n",
      "single positional indexer is out-of-bounds\n"
     ]
    },
    {
     "name": "stderr",
     "output_type": "stream",
     "text": [
      "\n",
      " 33%|██████████████████████████████████████████▎                                                                                     | 167/505 [00:00<00:00, 407.93it/s]\u001b[A\n",
      " 42%|█████████████████████████████████████████████████████▍                                                                          | 211/505 [00:00<00:00, 417.83it/s]\u001b[A"
     ]
    },
    {
     "name": "stdout",
     "output_type": "stream",
     "text": [
      "single positional indexer is out-of-bounds\n",
      "single positional indexer is out-of-bounds\n",
      "single positional indexer is out-of-bounds\n",
      "single positional indexer is out-of-bounds\n",
      "single positional indexer is out-of-bounds\n",
      "single positional indexer is out-of-bounds\n",
      "single positional indexer is out-of-bounds\n",
      "single positional indexer is out-of-bounds\n",
      "single positional indexer is out-of-bounds\n",
      "single positional indexer is out-of-bounds\n",
      "single positional indexer is out-of-bounds\n",
      "single positional indexer is out-of-bounds\n",
      "single positional indexer is out-of-bounds\n",
      "single positional indexer is out-of-bounds\n",
      "single positional indexer is out-of-bounds\n",
      "single positional indexer is out-of-bounds"
     ]
    },
    {
     "name": "stderr",
     "output_type": "stream",
     "text": [
      "\n",
      " 50%|████████████████████████████████████████████████████████████████▏                                                               | 253/505 [00:00<00:00, 407.56it/s]\u001b[A\n",
      " 59%|███████████████████████████████████████████████████████████████████████████                                                     | 296/505 [00:00<00:00, 413.37it/s]\u001b[A"
     ]
    },
    {
     "name": "stdout",
     "output_type": "stream",
     "text": [
      "\n",
      "single positional indexer is out-of-bounds\n",
      "single positional indexer is out-of-bounds\n",
      "single positional indexer is out-of-bounds\n",
      "single positional indexer is out-of-bounds\n",
      "single positional indexer is out-of-bounds\n",
      "single positional indexer is out-of-bounds\n",
      "single positional indexer is out-of-bounds\n",
      "single positional indexer is out-of-bounds\n",
      "single positional indexer is out-of-bounds\n",
      "single positional indexer is out-of-bounds\n",
      "single positional indexer is out-of-bounds"
     ]
    },
    {
     "name": "stderr",
     "output_type": "stream",
     "text": [
      "\n",
      " 67%|█████████████████████████████████████████████████████████████████████████████████████▋                                          | 338/505 [00:00<00:00, 411.55it/s]\u001b[A\n",
      " 75%|████████████████████████████████████████████████████████████████████████████████████████████████▎                               | 380/505 [00:00<00:00, 410.34it/s]\u001b[A"
     ]
    },
    {
     "name": "stdout",
     "output_type": "stream",
     "text": [
      "\n",
      "single positional indexer is out-of-bounds\n",
      "single positional indexer is out-of-bounds\n",
      "single positional indexer is out-of-bounds\n",
      "single positional indexer is out-of-bounds\n",
      "single positional indexer is out-of-bounds\n",
      "single positional indexer is out-of-bounds\n",
      "single positional indexer is out-of-bounds\n",
      "single positional indexer is out-of-bounds\n",
      "single positional indexer is out-of-bounds\n",
      "single positional indexer is out-of-bounds\n",
      "single positional indexer is out-of-bounds\n"
     ]
    },
    {
     "name": "stderr",
     "output_type": "stream",
     "text": [
      "\n",
      " 84%|██████████████████████████████████████████████████████████████████████████████████████████████████████████▉                     | 422/505 [00:01<00:00, 409.52it/s]\u001b[A\n",
      " 92%|█████████████████████████████████████████████████████████████████████████████████████████████████████████████████████▎          | 463/505 [00:01<00:00, 408.41it/s]\u001b[A"
     ]
    },
    {
     "name": "stdout",
     "output_type": "stream",
     "text": [
      "single positional indexer is out-of-bounds\n",
      "single positional indexer is out-of-bounds\n",
      "single positional indexer is out-of-bounds\n",
      "single positional indexer is out-of-bounds\n",
      "single positional indexer is out-of-bounds\n",
      "single positional indexer is out-of-bounds\n",
      "single positional indexer is out-of-bounds"
     ]
    },
    {
     "name": "stderr",
     "output_type": "stream",
     "text": [
      "\n",
      "100%|████████████████████████████████████████████████████████████████████████████████████████████████████████████████████████████████| 505/505 [00:01<00:00, 410.14it/s]\u001b[A\n"
     ]
    },
    {
     "name": "stdout",
     "output_type": "stream",
     "text": [
      "\n",
      "single positional indexer is out-of-bounds\n",
      "single positional indexer is out-of-bounds\n",
      "single positional indexer is out-of-bounds\n",
      "single positional indexer is out-of-bounds\n",
      "single positional indexer is out-of-bounds\n",
      "single positional indexer is out-of-bounds\n",
      "single positional indexer is out-of-bounds\n"
     ]
    },
    {
     "name": "stderr",
     "output_type": "stream",
     "text": [
      "\n",
      "  0%|                                                                                                                                           | 0/505 [00:00<?, ?it/s]\u001b[A\n",
      "  8%|██████████▏                                                                                                                      | 40/505 [00:00<00:01, 392.07it/s]\u001b[A"
     ]
    },
    {
     "name": "stdout",
     "output_type": "stream",
     "text": [
      "single positional indexer is out-of-bounds\n",
      "single positional indexer is out-of-bounds\n",
      "single positional indexer is out-of-bounds\n",
      "single positional indexer is out-of-bounds\n",
      "single positional indexer is out-of-bounds\n",
      "single positional indexer is out-of-bounds\n",
      "single positional indexer is out-of-bounds\n",
      "single positional indexer is out-of-bounds\n",
      "single positional indexer is out-of-bounds"
     ]
    },
    {
     "name": "stderr",
     "output_type": "stream",
     "text": [
      "\n",
      " 16%|████████████████████▍                                                                                                            | 80/505 [00:00<00:01, 394.34it/s]\u001b[A\n",
      " 24%|██████████████████████████████▍                                                                                                 | 120/505 [00:00<00:00, 395.08it/s]\u001b[A"
     ]
    },
    {
     "name": "stdout",
     "output_type": "stream",
     "text": [
      "\n",
      "single positional indexer is out-of-bounds\n",
      "single positional indexer is out-of-bounds\n",
      "single positional indexer is out-of-bounds\n",
      "single positional indexer is out-of-bounds\n",
      "single positional indexer is out-of-bounds\n",
      "single positional indexer is out-of-bounds\n",
      "single positional indexer is out-of-bounds\n",
      "single positional indexer is out-of-bounds"
     ]
    },
    {
     "name": "stderr",
     "output_type": "stream",
     "text": [
      "\n",
      " 32%|████████████████████████████████████████▌                                                                                       | 160/505 [00:00<00:00, 395.42it/s]\u001b[A\n",
      " 40%|██████████████████████████████████████████████████▋                                                                             | 200/505 [00:00<00:00, 397.03it/s]\u001b[A"
     ]
    },
    {
     "name": "stdout",
     "output_type": "stream",
     "text": [
      "\n",
      "single positional indexer is out-of-bounds\n",
      "single positional indexer is out-of-bounds\n",
      "single positional indexer is out-of-bounds\n",
      "single positional indexer is out-of-bounds\n",
      "single positional indexer is out-of-bounds\n",
      "single positional indexer is out-of-bounds\n",
      "single positional indexer is out-of-bounds\n",
      "single positional indexer is out-of-bounds\n",
      "single positional indexer is out-of-bounds\n",
      "single positional indexer is out-of-bounds\n",
      "single positional indexer is out-of-bounds\n",
      "single positional indexer is out-of-bounds\n",
      "single positional indexer is out-of-bounds\n",
      "single positional indexer is out-of-bounds\n",
      "single positional indexer is out-of-bounds\n",
      "single positional indexer is out-of-bounds"
     ]
    },
    {
     "name": "stderr",
     "output_type": "stream",
     "text": [
      "\n",
      " 48%|█████████████████████████████████████████████████████████████                                                                   | 241/505 [00:00<00:00, 398.69it/s]\u001b[A\n",
      " 56%|███████████████████████████████████████████████████████████████████████▋                                                        | 283/505 [00:00<00:00, 404.26it/s]\u001b[A"
     ]
    },
    {
     "name": "stdout",
     "output_type": "stream",
     "text": [
      "\n",
      "single positional indexer is out-of-bounds\n",
      "single positional indexer is out-of-bounds\n",
      "single positional indexer is out-of-bounds\n",
      "single positional indexer is out-of-bounds\n",
      "single positional indexer is out-of-bounds\n",
      "single positional indexer is out-of-bounds\n",
      "single positional indexer is out-of-bounds\n",
      "single positional indexer is out-of-bounds\n",
      "single positional indexer is out-of-bounds\n",
      "single positional indexer is out-of-bounds"
     ]
    },
    {
     "name": "stderr",
     "output_type": "stream",
     "text": [
      "\n",
      " 64%|██████████████████████████████████████████████████████████████████████████████████                                              | 324/505 [00:00<00:00, 402.23it/s]\u001b[A\n",
      " 72%|████████████████████████████████████████████████████████████████████████████████████████████▊                                   | 366/505 [00:00<00:00, 407.69it/s]\u001b[A\n"
     ]
    },
    {
     "name": "stdout",
     "output_type": "stream",
     "text": [
      "\n",
      "single positional indexer is out-of-bounds\n",
      "single positional indexer is out-of-bounds\n",
      "single positional indexer is out-of-bounds\n",
      "single positional indexer is out-of-bounds\n",
      "single positional indexer is out-of-bounds\n",
      "single positional indexer is out-of-bounds\n",
      "single positional indexer is out-of-bounds\n",
      "single positional indexer is out-of-bounds\n",
      "single positional indexer is out-of-bounds\n",
      "single positional indexer is out-of-bounds\n",
      "single positional indexer is out-of-bounds\n"
     ]
    },
    {
     "name": "stderr",
     "output_type": "stream",
     "text": [
      " 81%|███████████████████████████████████████████████████████████████████████████████████████████████████████▏                        | 407/505 [00:01<00:00, 407.12it/s]\u001b[A\n",
      " 89%|█████████████████████████████████████████████████████████████████████████████████████████████████████████████████▌              | 448/505 [00:01<00:00, 406.73it/s]\u001b[A"
     ]
    },
    {
     "name": "stdout",
     "output_type": "stream",
     "text": [
      "single positional indexer is out-of-bounds\n",
      "single positional indexer is out-of-bounds\n",
      "single positional indexer is out-of-bounds\n",
      "single positional indexer is out-of-bounds\n",
      "single positional indexer is out-of-bounds\n"
     ]
    },
    {
     "name": "stderr",
     "output_type": "stream",
     "text": [
      "\n",
      "100%|████████████████████████████████████████████████████████████████████████████████████████████████████████████████████████████████| 505/505 [00:01<00:00, 401.98it/s]\u001b[A\n"
     ]
    },
    {
     "name": "stdout",
     "output_type": "stream",
     "text": [
      "single positional indexer is out-of-bounds\n",
      "single positional indexer is out-of-bounds\n",
      "single positional indexer is out-of-bounds\n",
      "single positional indexer is out-of-bounds\n",
      "single positional indexer is out-of-bounds\n",
      "single positional indexer is out-of-bounds\n",
      "single positional indexer is out-of-bounds\n",
      "single positional indexer is out-of-bounds\n"
     ]
    },
    {
     "name": "stderr",
     "output_type": "stream",
     "text": [
      "\n",
      "  0%|                                                                                                                                           | 0/505 [00:00<?, ?it/s]\u001b[A\n",
      "  8%|██████████▏                                                                                                                      | 40/505 [00:00<00:01, 395.95it/s]\u001b[A"
     ]
    },
    {
     "name": "stdout",
     "output_type": "stream",
     "text": [
      "single positional indexer is out-of-bounds\n",
      "single positional indexer is out-of-bounds\n",
      "single positional indexer is out-of-bounds\n",
      "single positional indexer is out-of-bounds\n",
      "single positional indexer is out-of-bounds\n",
      "single positional indexer is out-of-bounds\n",
      "single positional indexer is out-of-bounds\n",
      "single positional indexer is out-of-bounds\n"
     ]
    },
    {
     "name": "stderr",
     "output_type": "stream",
     "text": [
      "\n",
      " 16%|████████████████████▍                                                                                                            | 80/505 [00:00<00:01, 393.66it/s]\u001b[A\n",
      " 24%|██████████████████████████████▋                                                                                                 | 121/505 [00:00<00:00, 397.42it/s]\u001b[A"
     ]
    },
    {
     "name": "stdout",
     "output_type": "stream",
     "text": [
      "single positional indexer is out-of-bounds\n",
      "single positional indexer is out-of-bounds\n",
      "single positional indexer is out-of-bounds\n",
      "single positional indexer is out-of-bounds\n",
      "single positional indexer is out-of-bounds\n",
      "single positional indexer is out-of-bounds\n",
      "single positional indexer is out-of-bounds\n",
      "single positional indexer is out-of-bounds\n",
      "single positional indexer is out-of-bounds"
     ]
    },
    {
     "name": "stderr",
     "output_type": "stream",
     "text": [
      "\n",
      " 32%|████████████████████████████████████████▊                                                                                       | 161/505 [00:00<00:00, 393.78it/s]\u001b[A\n",
      " 40%|███████████████████████████████████████████████████▏                                                                            | 202/505 [00:00<00:00, 399.51it/s]\u001b[A"
     ]
    },
    {
     "name": "stdout",
     "output_type": "stream",
     "text": [
      "\n",
      "single positional indexer is out-of-bounds\n",
      "single positional indexer is out-of-bounds\n",
      "single positional indexer is out-of-bounds\n",
      "single positional indexer is out-of-bounds\n",
      "single positional indexer is out-of-bounds\n",
      "single positional indexer is out-of-bounds\n",
      "single positional indexer is out-of-bounds\n",
      "single positional indexer is out-of-bounds\n",
      "single positional indexer is out-of-bounds\n",
      "single positional indexer is out-of-bounds\n",
      "single positional indexer is out-of-bounds\n",
      "single positional indexer is out-of-bounds\n",
      "single positional indexer is out-of-bounds\n",
      "single positional indexer is out-of-bounds\n"
     ]
    },
    {
     "name": "stderr",
     "output_type": "stream",
     "text": [
      "\n",
      " 48%|█████████████████████████████████████████████████████████████▎                                                                  | 242/505 [00:00<00:00, 395.65it/s]\u001b[A\n",
      " 56%|███████████████████████████████████████████████████████████████████████▋                                                        | 283/505 [00:00<00:00, 397.68it/s]\u001b[A"
     ]
    },
    {
     "name": "stdout",
     "output_type": "stream",
     "text": [
      "single positional indexer is out-of-bounds\n",
      "single positional indexer is out-of-bounds\n",
      "single positional indexer is out-of-bounds\n",
      "single positional indexer is out-of-bounds\n",
      "single positional indexer is out-of-bounds\n",
      "single positional indexer is out-of-bounds\n",
      "single positional indexer is out-of-bounds\n",
      "single positional indexer is out-of-bounds\n",
      "single positional indexer is out-of-bounds\n",
      "single positional indexer is out-of-bounds\n",
      "single positional indexer is out-of-bounds\n",
      "single positional indexer is out-of-bounds"
     ]
    },
    {
     "name": "stderr",
     "output_type": "stream",
     "text": [
      "\n",
      " 64%|█████████████████████████████████████████████████████████████████████████████████▊                                              | 323/505 [00:00<00:00, 393.44it/s]\u001b[A\n",
      " 72%|████████████████████████████████████████████████████████████████████████████████████████████                                    | 363/505 [00:00<00:00, 394.22it/s]\u001b[A"
     ]
    },
    {
     "name": "stdout",
     "output_type": "stream",
     "text": [
      "\n",
      "single positional indexer is out-of-bounds\n",
      "single positional indexer is out-of-bounds\n",
      "single positional indexer is out-of-bounds\n",
      "single positional indexer is out-of-bounds\n",
      "single positional indexer is out-of-bounds\n",
      "single positional indexer is out-of-bounds\n",
      "single positional indexer is out-of-bounds\n",
      "single positional indexer is out-of-bounds\n"
     ]
    },
    {
     "name": "stderr",
     "output_type": "stream",
     "text": [
      "\n"
     ]
    },
    {
     "name": "stdout",
     "output_type": "stream",
     "text": [
      "single positional indexer is out-of-bounds\n",
      "single positional indexer is out-of-bounds\n"
     ]
    },
    {
     "name": "stderr",
     "output_type": "stream",
     "text": [
      " 80%|██████████████████████████████████████████████████████████████████████████████████████████████████████▏                         | 403/505 [00:01<00:00, 391.19it/s]\u001b[A\n",
      " 88%|████████████████████████████████████████████████████████████████████████████████████████████████████████████████▎               | 443/505 [00:01<00:00, 393.81it/s]\u001b[A"
     ]
    },
    {
     "name": "stdout",
     "output_type": "stream",
     "text": [
      "single positional indexer is out-of-bounds\n",
      "single positional indexer is out-of-bounds\n"
     ]
    },
    {
     "name": "stderr",
     "output_type": "stream",
     "text": [
      "\n",
      " 96%|██████████████████████████████████████████████████████████████████████████████████████████████████████████████████████████▍     | 483/505 [00:01<00:00, 393.28it/s]\u001b[A"
     ]
    },
    {
     "name": "stdout",
     "output_type": "stream",
     "text": [
      "single positional indexer is out-of-bounds\n",
      "single positional indexer is out-of-bounds\n",
      "single positional indexer is out-of-bounds\n"
     ]
    },
    {
     "name": "stderr",
     "output_type": "stream",
     "text": [
      "100%|████████████████████████████████████████████████████████████████████████████████████████████████████████████████████████████████| 505/505 [00:01<00:00, 394.14it/s]\n"
     ]
    },
    {
     "name": "stdout",
     "output_type": "stream",
     "text": [
      "single positional indexer is out-of-bounds\n",
      "single positional indexer is out-of-bounds\n",
      "single positional indexer is out-of-bounds\n",
      "single positional indexer is out-of-bounds\n",
      "single positional indexer is out-of-bounds\n",
      "single positional indexer is out-of-bounds\n",
      "single positional indexer is out-of-bounds\n",
      "single positional indexer is out-of-bounds\n"
     ]
    },
    {
     "name": "stderr",
     "output_type": "stream",
     "text": [
      "\n",
      "  0%|                                                                                                                                           | 0/505 [00:00<?, ?it/s]\u001b[A"
     ]
    },
    {
     "name": "stdout",
     "output_type": "stream",
     "text": [
      "single positional indexer is out-of-bounds\n",
      "single positional indexer is out-of-bounds"
     ]
    },
    {
     "name": "stderr",
     "output_type": "stream",
     "text": [
      "\n",
      "  8%|█████████▉                                                                                                                       | 39/505 [00:00<00:01, 389.91it/s]\u001b[A"
     ]
    },
    {
     "name": "stdout",
     "output_type": "stream",
     "text": [
      "\n",
      "single positional indexer is out-of-bounds\n",
      "single positional indexer is out-of-bounds\n",
      "single positional indexer is out-of-bounds\n",
      "single positional indexer is out-of-bounds\n",
      "single positional indexer is out-of-bounds"
     ]
    },
    {
     "name": "stderr",
     "output_type": "stream",
     "text": [
      "\n"
     ]
    },
    {
     "name": "stdout",
     "output_type": "stream",
     "text": [
      "\n",
      "single positional indexer is out-of-bounds\n"
     ]
    },
    {
     "name": "stderr",
     "output_type": "stream",
     "text": [
      " 15%|███████████████████▉                                                                                                             | 78/505 [00:00<00:01, 385.38it/s]\u001b[A"
     ]
    },
    {
     "name": "stdout",
     "output_type": "stream",
     "text": [
      "single positional indexer is out-of-bounds\n",
      "single positional indexer is out-of-bounds\n",
      "single positional indexer is out-of-bounds\n",
      "single positional indexer is out-of-bounds\n"
     ]
    },
    {
     "name": "stderr",
     "output_type": "stream",
     "text": [
      "\n",
      " 23%|█████████████████████████████▉                                                                                                  | 118/505 [00:00<00:00, 390.20it/s]\u001b[A"
     ]
    },
    {
     "name": "stdout",
     "output_type": "stream",
     "text": [
      "single positional indexer is out-of-bounds\n",
      "single positional indexer is out-of-bounds\n",
      "single positional indexer is out-of-bounds\n",
      "single positional indexer is out-of-bounds\n",
      "single positional indexer is out-of-bounds"
     ]
    },
    {
     "name": "stderr",
     "output_type": "stream",
     "text": [
      "\n",
      " 31%|████████████████████████████████████████                                                                                        | 158/505 [00:00<00:00, 387.92it/s]\u001b[A"
     ]
    },
    {
     "name": "stdout",
     "output_type": "stream",
     "text": [
      "\n",
      "single positional indexer is out-of-bounds\n",
      "single positional indexer is out-of-bounds"
     ]
    },
    {
     "name": "stderr",
     "output_type": "stream",
     "text": [
      "\n",
      " 39%|█████████████████████████████████████████████████▉                                                                              | 197/505 [00:00<00:00, 383.18it/s]\u001b[A"
     ]
    },
    {
     "name": "stdout",
     "output_type": "stream",
     "text": [
      "\n",
      "single positional indexer is out-of-bounds\n",
      "single positional indexer is out-of-bounds\n",
      "single positional indexer is out-of-bounds\n",
      "single positional indexer is out-of-bounds\n",
      "single positional indexer is out-of-bounds\n",
      "single positional indexer is out-of-bounds\n",
      "single positional indexer is out-of-bounds\n",
      "single positional indexer is out-of-bounds"
     ]
    },
    {
     "name": "stderr",
     "output_type": "stream",
     "text": [
      "\n",
      " 47%|███████████████████████████████████████████████████████████▊                                                                    | 236/505 [00:00<00:00, 383.62it/s]\u001b[A"
     ]
    },
    {
     "name": "stdout",
     "output_type": "stream",
     "text": [
      "\n",
      "single positional indexer is out-of-bounds\n",
      "single positional indexer is out-of-bounds\n",
      "single positional indexer is out-of-bounds\n",
      "single positional indexer is out-of-bounds\n",
      "single positional indexer is out-of-bounds"
     ]
    },
    {
     "name": "stderr",
     "output_type": "stream",
     "text": [
      "\n",
      " 54%|█████████████████████████████████████████████████████████████████████▋                                                          | 275/505 [00:00<00:00, 381.96it/s]\u001b[A"
     ]
    },
    {
     "name": "stdout",
     "output_type": "stream",
     "text": [
      "\n",
      "single positional indexer is out-of-bounds\n",
      "single positional indexer is out-of-bounds\n",
      "single positional indexer is out-of-bounds\n",
      "single positional indexer is out-of-bounds\n",
      "single positional indexer is out-of-bounds\n",
      "single positional indexer is out-of-bounds\n",
      "single positional indexer is out-of-bounds\n"
     ]
    },
    {
     "name": "stderr",
     "output_type": "stream",
     "text": [
      "\n",
      " 62%|███████████████████████████████████████████████████████████████████████████████▌                                                | 314/505 [00:00<00:00, 383.25it/s]\u001b[A"
     ]
    },
    {
     "name": "stdout",
     "output_type": "stream",
     "text": [
      "single positional indexer is out-of-bounds\n"
     ]
    },
    {
     "name": "stderr",
     "output_type": "stream",
     "text": [
      "\n",
      " 70%|█████████████████████████████████████████████████████████████████████████████████████████▋                                      | 354/505 [00:00<00:00, 387.19it/s]\u001b[A"
     ]
    },
    {
     "name": "stdout",
     "output_type": "stream",
     "text": [
      "single positional indexer is out-of-bounds\n",
      "single positional indexer is out-of-bounds\n",
      "single positional indexer is out-of-bounds\n",
      "single positional indexer is out-of-bounds\n",
      "single positional indexer is out-of-bounds\n",
      "single positional indexer is out-of-bounds\n",
      "single positional indexer is out-of-bounds\n",
      "single positional indexer is out-of-bounds\n",
      "single positional indexer is out-of-bounds\n"
     ]
    },
    {
     "name": "stderr",
     "output_type": "stream",
     "text": [
      "\n"
     ]
    },
    {
     "name": "stdout",
     "output_type": "stream",
     "text": [
      "single positional indexer is out-of-bounds\n"
     ]
    },
    {
     "name": "stderr",
     "output_type": "stream",
     "text": [
      " 78%|███████████████████████████████████████████████████████████████████████████████████████████████████▌                            | 393/505 [00:01<00:00, 388.02it/s]\u001b[A\n",
      " 86%|█████████████████████████████████████████████████████████████████████████████████████████████████████████████▍                  | 432/505 [00:01<00:00, 382.79it/s]\u001b[A\n"
     ]
    },
    {
     "name": "stdout",
     "output_type": "stream",
     "text": [
      "single positional indexer is out-of-bounds\n",
      "single positional indexer is out-of-bounds\n",
      "single positional indexer is out-of-bounds\n",
      "single positional indexer is out-of-bounds\n"
     ]
    },
    {
     "name": "stderr",
     "output_type": "stream",
     "text": [
      " 93%|███████████████████████████████████████████████████████████████████████████████████████████████████████████████████████▋        | 472/505 [00:01<00:00, 387.91it/s]\u001b[A"
     ]
    },
    {
     "name": "stdout",
     "output_type": "stream",
     "text": [
      "single positional indexer is out-of-bounds\n",
      "single positional indexer is out-of-bounds"
     ]
    },
    {
     "name": "stderr",
     "output_type": "stream",
     "text": [
      "100%|████████████████████████████████████████████████████████████████████████████████████████████████████████████████████████████████| 505/505 [00:01<00:00, 386.47it/s]\n",
      " 15%|████████████████████▎                                                                                                               | 2/13 [00:10<00:56,  5.13s/it]"
     ]
    },
    {
     "name": "stdout",
     "output_type": "stream",
     "text": [
      "\n",
      "single positional indexer is out-of-bounds\n",
      "single positional indexer is out-of-bounds\n",
      "single positional indexer is out-of-bounds\n",
      "single positional indexer is out-of-bounds\n",
      "single positional indexer is out-of-bounds\n",
      "single positional indexer is out-of-bounds\n",
      "single positional indexer is out-of-bounds\n"
     ]
    },
    {
     "name": "stderr",
     "output_type": "stream",
     "text": [
      "\n",
      "  0%|                                                                                                                                           | 0/505 [00:00<?, ?it/s]\u001b[A\n"
     ]
    },
    {
     "name": "stdout",
     "output_type": "stream",
     "text": [
      "single positional indexer is out-of-bounds\n",
      "single positional indexer is out-of-bounds\n",
      "single positional indexer is out-of-bounds\n",
      "single positional indexer is out-of-bounds\n"
     ]
    },
    {
     "name": "stderr",
     "output_type": "stream",
     "text": [
      "  8%|██████████▍                                                                                                                      | 41/505 [00:00<00:01, 397.97it/s]\u001b[A"
     ]
    },
    {
     "name": "stdout",
     "output_type": "stream",
     "text": [
      "single positional indexer is out-of-bounds\n",
      "single positional indexer is out-of-bounds\n",
      "single positional indexer is out-of-bounds\n",
      "single positional indexer is out-of-bounds\n"
     ]
    },
    {
     "name": "stderr",
     "output_type": "stream",
     "text": [
      "\n",
      " 16%|████████████████████▋                                                                                                            | 81/505 [00:00<00:01, 390.03it/s]\u001b[A\n"
     ]
    },
    {
     "name": "stdout",
     "output_type": "stream",
     "text": [
      "single positional indexer is out-of-bounds\n",
      "single positional indexer is out-of-bounds\n",
      "single positional indexer is out-of-bounds\n",
      "single positional indexer is out-of-bounds\n",
      "single positional indexer is out-of-bounds\n",
      "single positional indexer is out-of-bounds\n"
     ]
    },
    {
     "name": "stderr",
     "output_type": "stream",
     "text": [
      " 24%|██████████████████████████████▉                                                                                                 | 122/505 [00:00<00:00, 395.39it/s]\u001b[A"
     ]
    },
    {
     "name": "stdout",
     "output_type": "stream",
     "text": [
      "single positional indexer is out-of-bounds\n",
      "single positional indexer is out-of-bounds\n",
      "single positional indexer is out-of-bounds"
     ]
    },
    {
     "name": "stderr",
     "output_type": "stream",
     "text": [
      "\n",
      " 32%|█████████████████████████████████████████                                                                                       | 162/505 [00:00<00:00, 391.07it/s]\u001b[A"
     ]
    },
    {
     "name": "stdout",
     "output_type": "stream",
     "text": [
      "\n",
      "single positional indexer is out-of-bounds\n",
      "single positional indexer is out-of-bounds\n",
      "single positional indexer is out-of-bounds\n",
      "single positional indexer is out-of-bounds\n",
      "single positional indexer is out-of-bounds\n",
      "single positional indexer is out-of-bounds"
     ]
    },
    {
     "name": "stderr",
     "output_type": "stream",
     "text": [
      "\n",
      " 40%|███████████████████████████████████████████████████▏                                                                            | 202/505 [00:00<00:00, 392.80it/s]\u001b[A"
     ]
    },
    {
     "name": "stdout",
     "output_type": "stream",
     "text": [
      "\n",
      "single positional indexer is out-of-bounds\n",
      "single positional indexer is out-of-bounds\n",
      "single positional indexer is out-of-bounds\n",
      "single positional indexer is out-of-bounds\n"
     ]
    },
    {
     "name": "stderr",
     "output_type": "stream",
     "text": [
      "\n",
      " 48%|█████████████████████████████████████████████████████████████▎                                                                  | 242/505 [00:00<00:00, 391.26it/s]\u001b[A"
     ]
    },
    {
     "name": "stdout",
     "output_type": "stream",
     "text": [
      "single positional indexer is out-of-bounds\n",
      "single positional indexer is out-of-bounds\n",
      "single positional indexer is out-of-bounds\n",
      "single positional indexer is out-of-bounds\n",
      "single positional indexer is out-of-bounds"
     ]
    },
    {
     "name": "stderr",
     "output_type": "stream",
     "text": [
      "\n",
      " 56%|███████████████████████████████████████████████████████████████████████▍                                                        | 282/505 [00:00<00:00, 386.59it/s]\u001b[A"
     ]
    },
    {
     "name": "stdout",
     "output_type": "stream",
     "text": [
      "\n",
      "single positional indexer is out-of-bounds\n",
      "single positional indexer is out-of-bounds\n",
      "single positional indexer is out-of-bounds\n",
      "single positional indexer is out-of-bounds\n"
     ]
    },
    {
     "name": "stderr",
     "output_type": "stream",
     "text": [
      "\n",
      " 64%|█████████████████████████████████████████████████████████████████████████████████▌                                              | 322/505 [00:00<00:00, 390.24it/s]\u001b[A"
     ]
    },
    {
     "name": "stdout",
     "output_type": "stream",
     "text": [
      "single positional indexer is out-of-bounds\n",
      "single positional indexer is out-of-bounds\n",
      "single positional indexer is out-of-bounds\n",
      "single positional indexer is out-of-bounds\n",
      "single positional indexer is out-of-bounds"
     ]
    },
    {
     "name": "stderr",
     "output_type": "stream",
     "text": [
      "\n",
      " 72%|████████████████████████████████████████████████████████████████████████████████████████████                                    | 363/505 [00:00<00:00, 396.28it/s]\u001b[A"
     ]
    },
    {
     "name": "stdout",
     "output_type": "stream",
     "text": [
      "\n",
      "single positional indexer is out-of-bounds\n",
      "single positional indexer is out-of-bounds\n",
      "single positional indexer is out-of-bounds\n",
      "single positional indexer is out-of-bounds\n",
      "single positional indexer is out-of-bounds"
     ]
    },
    {
     "name": "stderr",
     "output_type": "stream",
     "text": [
      "\n",
      " 80%|██████████████████████████████████████████████████████████████████████████████████████████████████████▏                         | 403/505 [00:01<00:00, 396.18it/s]\u001b[A"
     ]
    },
    {
     "name": "stdout",
     "output_type": "stream",
     "text": [
      "\n",
      "single positional indexer is out-of-bounds\n",
      "single positional indexer is out-of-bounds\n"
     ]
    },
    {
     "name": "stderr",
     "output_type": "stream",
     "text": [
      "\n",
      " 88%|████████████████████████████████████████████████████████████████████████████████████████████████████████████████▎               | 443/505 [00:01<00:00, 394.92it/s]\u001b[A"
     ]
    },
    {
     "name": "stdout",
     "output_type": "stream",
     "text": [
      "single positional indexer is out-of-bounds\n",
      "single positional indexer is out-of-bounds\n",
      "single positional indexer is out-of-bounds"
     ]
    },
    {
     "name": "stderr",
     "output_type": "stream",
     "text": [
      "\n",
      "100%|████████████████████████████████████████████████████████████████████████████████████████████████████████████████████████████████| 505/505 [00:01<00:00, 391.87it/s]\u001b[A\n"
     ]
    },
    {
     "name": "stdout",
     "output_type": "stream",
     "text": [
      "\n",
      "single positional indexer is out-of-bounds\n",
      "single positional indexer is out-of-bounds\n",
      "single positional indexer is out-of-bounds\n",
      "single positional indexer is out-of-bounds\n",
      "single positional indexer is out-of-bounds\n",
      "single positional indexer is out-of-bounds\n",
      "single positional indexer is out-of-bounds\n",
      "single positional indexer is out-of-bounds\n"
     ]
    },
    {
     "name": "stderr",
     "output_type": "stream",
     "text": [
      "\n",
      "  0%|                                                                                                                                           | 0/505 [00:00<?, ?it/s]\u001b[A"
     ]
    },
    {
     "name": "stdout",
     "output_type": "stream",
     "text": [
      "single positional indexer is out-of-bounds\n",
      "single positional indexer is out-of-bounds"
     ]
    },
    {
     "name": "stderr",
     "output_type": "stream",
     "text": [
      "\n",
      "  8%|█████████▉                                                                                                                       | 39/505 [00:00<00:01, 389.91it/s]\u001b[A"
     ]
    },
    {
     "name": "stdout",
     "output_type": "stream",
     "text": [
      "\n",
      "single positional indexer is out-of-bounds\n",
      "single positional indexer is out-of-bounds\n",
      "single positional indexer is out-of-bounds\n",
      "single positional indexer is out-of-bounds\n",
      "single positional indexer is out-of-bounds\n",
      "single positional indexer is out-of-bounds\n",
      "single positional indexer is out-of-bounds"
     ]
    },
    {
     "name": "stderr",
     "output_type": "stream",
     "text": [
      "\n",
      " 16%|████████████████████▏                                                                                                            | 79/505 [00:00<00:01, 393.48it/s]\u001b[A"
     ]
    },
    {
     "name": "stdout",
     "output_type": "stream",
     "text": [
      "\n",
      "single positional indexer is out-of-bounds\n",
      "single positional indexer is out-of-bounds\n",
      "single positional indexer is out-of-bounds\n"
     ]
    },
    {
     "name": "stderr",
     "output_type": "stream",
     "text": [
      "\n",
      " 24%|██████████████████████████████▏                                                                                                 | 119/505 [00:00<00:00, 392.83it/s]\u001b[A"
     ]
    },
    {
     "name": "stdout",
     "output_type": "stream",
     "text": [
      "single positional indexer is out-of-bounds\n",
      "single positional indexer is out-of-bounds\n",
      "single positional indexer is out-of-bounds\n",
      "single positional indexer is out-of-bounds\n",
      "single positional indexer is out-of-bounds"
     ]
    },
    {
     "name": "stderr",
     "output_type": "stream",
     "text": [
      "\n",
      " 31%|████████████████████████████████████████▎                                                                                       | 159/505 [00:00<00:00, 388.00it/s]\u001b[A"
     ]
    },
    {
     "name": "stdout",
     "output_type": "stream",
     "text": [
      "\n",
      "single positional indexer is out-of-bounds\n"
     ]
    },
    {
     "name": "stderr",
     "output_type": "stream",
     "text": [
      "\n",
      " 39%|██████████████████████████████████████████████████▏                                                                             | 198/505 [00:00<00:00, 385.94it/s]\u001b[A"
     ]
    },
    {
     "name": "stdout",
     "output_type": "stream",
     "text": [
      "single positional indexer is out-of-bounds\n",
      "single positional indexer is out-of-bounds\n",
      "single positional indexer is out-of-bounds\n",
      "single positional indexer is out-of-bounds\n",
      "single positional indexer is out-of-bounds\n",
      "single positional indexer is out-of-bounds\n",
      "single positional indexer is out-of-bounds\n",
      "single positional indexer is out-of-bounds\n",
      "single positional indexer is out-of-bounds"
     ]
    },
    {
     "name": "stderr",
     "output_type": "stream",
     "text": [
      "\n",
      " 47%|████████████████████████████████████████████████████████████                                                                    | 237/505 [00:00<00:00, 383.42it/s]\u001b[A"
     ]
    },
    {
     "name": "stdout",
     "output_type": "stream",
     "text": [
      "\n",
      "single positional indexer is out-of-bounds\n",
      "single positional indexer is out-of-bounds\n",
      "single positional indexer is out-of-bounds\n",
      "single positional indexer is out-of-bounds\n"
     ]
    },
    {
     "name": "stderr",
     "output_type": "stream",
     "text": [
      "\n",
      " 55%|█████████████████████████████████████████████████████████████████████▉                                                          | 276/505 [00:00<00:00, 381.83it/s]\u001b[A"
     ]
    },
    {
     "name": "stdout",
     "output_type": "stream",
     "text": [
      "single positional indexer is out-of-bounds\n",
      "single positional indexer is out-of-bounds\n",
      "single positional indexer is out-of-bounds\n",
      "single positional indexer is out-of-bounds\n"
     ]
    },
    {
     "name": "stderr",
     "output_type": "stream",
     "text": [
      "\n",
      " 62%|███████████████████████████████████████████████████████████████████████████████▊                                                | 315/505 [00:00<00:00, 379.61it/s]\u001b[A"
     ]
    },
    {
     "name": "stdout",
     "output_type": "stream",
     "text": [
      "single positional indexer is out-of-bounds\n",
      "single positional indexer is out-of-bounds\n",
      "single positional indexer is out-of-bounds\n",
      "single positional indexer is out-of-bounds"
     ]
    },
    {
     "name": "stderr",
     "output_type": "stream",
     "text": [
      "\n",
      " 70%|█████████████████████████████████████████████████████████████████████████████████████████▋                                      | 354/505 [00:00<00:00, 382.76it/s]\u001b[A"
     ]
    },
    {
     "name": "stdout",
     "output_type": "stream",
     "text": [
      "\n",
      "single positional indexer is out-of-bounds\n",
      "single positional indexer is out-of-bounds\n",
      "single positional indexer is out-of-bounds\n",
      "single positional indexer is out-of-bounds\n",
      "single positional indexer is out-of-bounds\n",
      "single positional indexer is out-of-bounds\n"
     ]
    },
    {
     "name": "stderr",
     "output_type": "stream",
     "text": [
      "\n",
      " 78%|███████████████████████████████████████████████████████████████████████████████████████████████████▊                            | 394/505 [00:01<00:00, 386.80it/s]\u001b[A"
     ]
    },
    {
     "name": "stdout",
     "output_type": "stream",
     "text": [
      "single positional indexer is out-of-bounds\n",
      "single positional indexer is out-of-bounds"
     ]
    },
    {
     "name": "stderr",
     "output_type": "stream",
     "text": [
      "\n",
      " 86%|█████████████████████████████████████████████████████████████████████████████████████████████████████████████▊                  | 433/505 [00:01<00:00, 387.74it/s]\u001b[A\n",
      " 93%|███████████████████████████████████████████████████████████████████████████████████████████████████████████████████████▋        | 472/505 [00:01<00:00, 387.23it/s]\u001b[A"
     ]
    },
    {
     "name": "stdout",
     "output_type": "stream",
     "text": [
      "\n",
      "single positional indexer is out-of-bounds\n",
      "single positional indexer is out-of-bounds\n",
      "single positional indexer is out-of-bounds\n",
      "single positional indexer is out-of-bounds\n",
      "single positional indexer is out-of-bounds\n",
      "single positional indexer is out-of-bounds"
     ]
    },
    {
     "name": "stderr",
     "output_type": "stream",
     "text": [
      "100%|████████████████████████████████████████████████████████████████████████████████████████████████████████████████████████████████| 505/505 [00:01<00:00, 386.59it/s]\n"
     ]
    },
    {
     "name": "stdout",
     "output_type": "stream",
     "text": [
      "\n",
      "single positional indexer is out-of-bounds\n",
      "single positional indexer is out-of-bounds\n",
      "single positional indexer is out-of-bounds\n",
      "single positional indexer is out-of-bounds\n",
      "single positional indexer is out-of-bounds\n"
     ]
    },
    {
     "name": "stderr",
     "output_type": "stream",
     "text": [
      "\n",
      "  0%|                                                                                                                                           | 0/505 [00:00<?, ?it/s]\u001b[A\n",
      "  8%|█████████▋                                                                                                                       | 38/505 [00:00<00:01, 379.91it/s]\u001b[A"
     ]
    },
    {
     "name": "stdout",
     "output_type": "stream",
     "text": [
      "single positional indexer is out-of-bounds\n",
      "single positional indexer is out-of-bounds\n",
      "single positional indexer is out-of-bounds\n",
      "single positional indexer is out-of-bounds\n",
      "single positional indexer is out-of-bounds\n",
      "single positional indexer is out-of-bounds\n",
      "single positional indexer is out-of-bounds\n",
      "single positional indexer is out-of-bounds\n"
     ]
    },
    {
     "name": "stderr",
     "output_type": "stream",
     "text": [
      "\n",
      " 15%|███████████████████▍                                                                                                             | 76/505 [00:00<00:01, 379.91it/s]\u001b[A\n",
      " 23%|█████████████████████████████▏                                                                                                  | 115/505 [00:00<00:01, 384.48it/s]\u001b[A"
     ]
    },
    {
     "name": "stdout",
     "output_type": "stream",
     "text": [
      "single positional indexer is out-of-bounds\n",
      "single positional indexer is out-of-bounds\n",
      "single positional indexer is out-of-bounds\n",
      "single positional indexer is out-of-bounds\n",
      "single positional indexer is out-of-bounds\n",
      "single positional indexer is out-of-bounds\n",
      "single positional indexer is out-of-bounds\n",
      "single positional indexer is out-of-bounds\n"
     ]
    },
    {
     "name": "stderr",
     "output_type": "stream",
     "text": [
      "\n",
      " 30%|███████████████████████████████████████                                                                                         | 154/505 [00:00<00:00, 382.10it/s]\u001b[A\n",
      " 38%|████████████████████████████████████████████████▉                                                                               | 193/505 [00:00<00:00, 384.90it/s]\u001b[A"
     ]
    },
    {
     "name": "stdout",
     "output_type": "stream",
     "text": [
      "single positional indexer is out-of-bounds\n",
      "single positional indexer is out-of-bounds\n",
      "single positional indexer is out-of-bounds\n",
      "single positional indexer is out-of-bounds\n",
      "single positional indexer is out-of-bounds\n",
      "single positional indexer is out-of-bounds\n",
      "single positional indexer is out-of-bounds\n",
      "single positional indexer is out-of-bounds\n",
      "single positional indexer is out-of-bounds\n",
      "single positional indexer is out-of-bounds\n",
      "single positional indexer is out-of-bounds"
     ]
    },
    {
     "name": "stderr",
     "output_type": "stream",
     "text": [
      "\n",
      " 46%|██████████████████████████████████████████████████████████▊                                                                     | 232/505 [00:00<00:00, 386.59it/s]\u001b[A\n",
      " 54%|████████████████████████████████████████████████████████████████████▋                                                           | 271/505 [00:00<00:00, 387.67it/s]\u001b[A\n"
     ]
    },
    {
     "name": "stdout",
     "output_type": "stream",
     "text": [
      "\n",
      "single positional indexer is out-of-bounds\n",
      "single positional indexer is out-of-bounds\n",
      "single positional indexer is out-of-bounds\n",
      "single positional indexer is out-of-bounds\n",
      "single positional indexer is out-of-bounds\n",
      "single positional indexer is out-of-bounds\n",
      "single positional indexer is out-of-bounds\n"
     ]
    },
    {
     "name": "stderr",
     "output_type": "stream",
     "text": [
      " 62%|██████████████████████████████████████████████████████████████████████████████▊                                                 | 311/505 [00:00<00:00, 390.32it/s]\u001b[A\n",
      " 70%|████████████████████████████████████████████████████████████████████████████████████████▉                                       | 351/505 [00:00<00:00, 388.47it/s]\u001b[A"
     ]
    },
    {
     "name": "stdout",
     "output_type": "stream",
     "text": [
      "single positional indexer is out-of-bounds\n",
      "single positional indexer is out-of-bounds\n",
      "single positional indexer is out-of-bounds\n",
      "single positional indexer is out-of-bounds\n",
      "single positional indexer is out-of-bounds\n",
      "single positional indexer is out-of-bounds\n",
      "single positional indexer is out-of-bounds\n",
      "single positional indexer is out-of-bounds\n",
      "single positional indexer is out-of-bounds\n",
      "single positional indexer is out-of-bounds"
     ]
    },
    {
     "name": "stderr",
     "output_type": "stream",
     "text": [
      "\n",
      " 77%|███████████████████████████████████████████████████████████████████████████████████████████████████                             | 391/505 [00:01<00:00, 389.58it/s]\u001b[A\n",
      " 85%|████████████████████████████████████████████████████████████████████████████████████████████████████████████▉                   | 430/505 [00:01<00:00, 387.34it/s]\u001b[A\n"
     ]
    },
    {
     "name": "stdout",
     "output_type": "stream",
     "text": [
      "\n",
      "single positional indexer is out-of-bounds\n",
      "single positional indexer is out-of-bounds\n",
      "single positional indexer is out-of-bounds\n",
      "single positional indexer is out-of-bounds\n"
     ]
    },
    {
     "name": "stderr",
     "output_type": "stream",
     "text": [
      "100%|████████████████████████████████████████████████████████████████████████████████████████████████████████████████████████████████| 505/505 [00:01<00:00, 386.89it/s]\u001b[A\n"
     ]
    },
    {
     "name": "stdout",
     "output_type": "stream",
     "text": [
      "single positional indexer is out-of-bounds\n",
      "single positional indexer is out-of-bounds\n",
      "single positional indexer is out-of-bounds\n",
      "single positional indexer is out-of-bounds\n",
      "single positional indexer is out-of-bounds\n",
      "single positional indexer is out-of-bounds\n",
      "single positional indexer is out-of-bounds\n",
      "single positional indexer is out-of-bounds\n",
      "single positional indexer is out-of-bounds\n"
     ]
    },
    {
     "name": "stderr",
     "output_type": "stream",
     "text": [
      "\n",
      "  0%|                                                                                                                                           | 0/505 [00:00<?, ?it/s]\u001b[A"
     ]
    },
    {
     "name": "stdout",
     "output_type": "stream",
     "text": [
      "single positional indexer is out-of-bounds\n",
      "single positional indexer is out-of-bounds\n",
      "single positional indexer is out-of-bounds\n",
      "single positional indexer is out-of-bounds\n"
     ]
    },
    {
     "name": "stderr",
     "output_type": "stream",
     "text": [
      "\n",
      "  8%|█████████▉                                                                                                                       | 39/505 [00:00<00:01, 389.91it/s]\u001b[A"
     ]
    },
    {
     "name": "stdout",
     "output_type": "stream",
     "text": [
      "single positional indexer is out-of-bounds\n",
      "single positional indexer is out-of-bounds\n",
      "single positional indexer is out-of-bounds\n"
     ]
    },
    {
     "name": "stderr",
     "output_type": "stream",
     "text": [
      "\n",
      " 16%|████████████████████▏                                                                                                            | 79/505 [00:00<00:01, 395.79it/s]\u001b[A\n",
      " 24%|██████████████████████████████▏                                                                                                 | 119/505 [00:00<00:00, 394.08it/s]\u001b[A"
     ]
    },
    {
     "name": "stdout",
     "output_type": "stream",
     "text": [
      "single positional indexer is out-of-bounds\n",
      "single positional indexer is out-of-bounds\n",
      "single positional indexer is out-of-bounds\n",
      "single positional indexer is out-of-bounds\n",
      "single positional indexer is out-of-bounds\n",
      "single positional indexer is out-of-bounds\n",
      "single positional indexer is out-of-bounds\n",
      "single positional indexer is out-of-bounds\n",
      "single positional indexer is out-of-bounds"
     ]
    },
    {
     "name": "stderr",
     "output_type": "stream",
     "text": [
      "\n",
      " 31%|████████████████████████████████████████▎                                                                                       | 159/505 [00:00<00:00, 385.72it/s]\u001b[A"
     ]
    },
    {
     "name": "stdout",
     "output_type": "stream",
     "text": [
      "\n",
      "single positional indexer is out-of-bounds\n",
      "single positional indexer is out-of-bounds\n",
      "single positional indexer is out-of-bounds\n",
      "single positional indexer is out-of-bounds\n",
      "single positional indexer is out-of-bounds\n"
     ]
    },
    {
     "name": "stderr",
     "output_type": "stream",
     "text": [
      "\n",
      " 39%|██████████████████████████████████████████████████▍                                                                             | 199/505 [00:00<00:00, 390.73it/s]\u001b[A"
     ]
    },
    {
     "name": "stdout",
     "output_type": "stream",
     "text": [
      "single positional indexer is out-of-bounds\n",
      "single positional indexer is out-of-bounds\n",
      "single positional indexer is out-of-bounds\n",
      "single positional indexer is out-of-bounds\n"
     ]
    },
    {
     "name": "stderr",
     "output_type": "stream",
     "text": [
      "\n",
      " 47%|████████████████████████████████████████████████████████████▌                                                                   | 239/505 [00:00<00:00, 392.49it/s]\u001b[A"
     ]
    },
    {
     "name": "stdout",
     "output_type": "stream",
     "text": [
      "single positional indexer is out-of-bounds\n",
      "single positional indexer is out-of-bounds\n",
      "single positional indexer is out-of-bounds\n",
      "single positional indexer is out-of-bounds\n",
      "single positional indexer is out-of-bounds\n",
      "single positional indexer is out-of-bounds"
     ]
    },
    {
     "name": "stderr",
     "output_type": "stream",
     "text": [
      "\n",
      " 55%|██████████████████████████████████████████████████████████████████████▋                                                         | 279/505 [00:00<00:00, 393.62it/s]\u001b[A"
     ]
    },
    {
     "name": "stdout",
     "output_type": "stream",
     "text": [
      "\n",
      "single positional indexer is out-of-bounds\n",
      "single positional indexer is out-of-bounds\n"
     ]
    },
    {
     "name": "stderr",
     "output_type": "stream",
     "text": [
      "\n",
      " 63%|████████████████████████████████████████████████████████████████████████████████▊                                               | 319/505 [00:00<00:00, 385.89it/s]\u001b[A"
     ]
    },
    {
     "name": "stdout",
     "output_type": "stream",
     "text": [
      "single positional indexer is out-of-bounds\n",
      "single positional indexer is out-of-bounds\n",
      "single positional indexer is out-of-bounds\n",
      "single positional indexer is out-of-bounds"
     ]
    },
    {
     "name": "stderr",
     "output_type": "stream",
     "text": [
      "\n",
      " 71%|██████████████████████████████████████████████████████████████████████████████████████████▋                                     | 358/505 [00:00<00:00, 383.60it/s]\u001b[A"
     ]
    },
    {
     "name": "stdout",
     "output_type": "stream",
     "text": [
      "\n",
      "single positional indexer is out-of-bounds\n",
      "single positional indexer is out-of-bounds\n",
      "single positional indexer is out-of-bounds\n",
      "single positional indexer is out-of-bounds\n",
      "single positional indexer is out-of-bounds\n",
      "single positional indexer is out-of-bounds"
     ]
    },
    {
     "name": "stderr",
     "output_type": "stream",
     "text": [
      "\n",
      " 79%|████████████████████████████████████████████████████████████████████████████████████████████████████▋                           | 397/505 [00:01<00:00, 385.51it/s]\u001b[A"
     ]
    },
    {
     "name": "stdout",
     "output_type": "stream",
     "text": [
      "\n",
      "single positional indexer is out-of-bounds"
     ]
    },
    {
     "name": "stderr",
     "output_type": "stream",
     "text": [
      "\n",
      " 86%|██████████████████████████████████████████████████████████████████████████████████████████████████████████████▌                 | 436/505 [00:01<00:00, 384.52it/s]\u001b[A"
     ]
    },
    {
     "name": "stdout",
     "output_type": "stream",
     "text": [
      "\n",
      "single positional indexer is out-of-bounds\n",
      "single positional indexer is out-of-bounds\n",
      "single positional indexer is out-of-bounds\n"
     ]
    },
    {
     "name": "stderr",
     "output_type": "stream",
     "text": [
      "\n",
      " 94%|████████████████████████████████████████████████████████████████████████████████████████████████████████████████████████▍       | 475/505 [00:01<00:00, 384.98it/s]\u001b[A"
     ]
    },
    {
     "name": "stdout",
     "output_type": "stream",
     "text": [
      "single positional indexer is out-of-bounds\n",
      "single positional indexer is out-of-bounds"
     ]
    },
    {
     "name": "stderr",
     "output_type": "stream",
     "text": [
      "100%|████████████████████████████████████████████████████████████████████████████████████████████████████████████████████████████████| 505/505 [00:01<00:00, 386.88it/s]\n",
      " 23%|██████████████████████████████▍                                                                                                     | 3/13 [00:15<00:51,  5.19s/it]"
     ]
    },
    {
     "name": "stdout",
     "output_type": "stream",
     "text": [
      "\n",
      "single positional indexer is out-of-bounds\n",
      "single positional indexer is out-of-bounds\n",
      "single positional indexer is out-of-bounds\n",
      "single positional indexer is out-of-bounds\n",
      "single positional indexer is out-of-bounds\n",
      "single positional indexer is out-of-bounds\n"
     ]
    },
    {
     "name": "stderr",
     "output_type": "stream",
     "text": [
      "\n",
      "  0%|                                                                                                                                           | 0/505 [00:00<?, ?it/s]\u001b[A\n"
     ]
    },
    {
     "name": "stdout",
     "output_type": "stream",
     "text": [
      "single positional indexer is out-of-bounds\n",
      "single positional indexer is out-of-bounds\n",
      "single positional indexer is out-of-bounds\n",
      "single positional indexer is out-of-bounds\n"
     ]
    },
    {
     "name": "stderr",
     "output_type": "stream",
     "text": [
      "  8%|██████████▏                                                                                                                      | 40/505 [00:00<00:01, 392.07it/s]\u001b[A"
     ]
    },
    {
     "name": "stdout",
     "output_type": "stream",
     "text": [
      "single positional indexer is out-of-bounds\n",
      "single positional indexer is out-of-bounds\n",
      "single positional indexer is out-of-bounds\n"
     ]
    },
    {
     "name": "stderr",
     "output_type": "stream",
     "text": [
      "\n",
      " 16%|████████████████████▍                                                                                                            | 80/505 [00:00<00:01, 385.40it/s]\u001b[A\n",
      " 24%|██████████████████████████████▍                                                                                                 | 120/505 [00:00<00:00, 388.42it/s]\u001b[A"
     ]
    },
    {
     "name": "stdout",
     "output_type": "stream",
     "text": [
      "single positional indexer is out-of-bounds\n",
      "single positional indexer is out-of-bounds\n",
      "single positional indexer is out-of-bounds\n",
      "single positional indexer is out-of-bounds\n",
      "single positional indexer is out-of-bounds\n",
      "single positional indexer is out-of-bounds\n",
      "single positional indexer is out-of-bounds\n",
      "single positional indexer is out-of-bounds\n",
      "single positional indexer is out-of-bounds"
     ]
    },
    {
     "name": "stderr",
     "output_type": "stream",
     "text": [
      "\n",
      " 31%|████████████████████████████████████████▎                                                                                       | 159/505 [00:00<00:00, 387.49it/s]\u001b[A"
     ]
    },
    {
     "name": "stdout",
     "output_type": "stream",
     "text": [
      "\n",
      "single positional indexer is out-of-bounds\n",
      "single positional indexer is out-of-bounds\n",
      "single positional indexer is out-of-bounds\n",
      "single positional indexer is out-of-bounds\n"
     ]
    },
    {
     "name": "stderr",
     "output_type": "stream",
     "text": [
      "\n",
      " 39%|██████████████████████████████████████████████████▏                                                                             | 198/505 [00:00<00:00, 381.57it/s]\u001b[A"
     ]
    },
    {
     "name": "stdout",
     "output_type": "stream",
     "text": [
      "single positional indexer is out-of-bounds\n",
      "single positional indexer is out-of-bounds\n",
      "single positional indexer is out-of-bounds\n",
      "single positional indexer is out-of-bounds"
     ]
    },
    {
     "name": "stderr",
     "output_type": "stream",
     "text": [
      "\n",
      " 47%|████████████████████████████████████████████████████████████                                                                    | 237/505 [00:00<00:00, 371.08it/s]\u001b[A"
     ]
    },
    {
     "name": "stdout",
     "output_type": "stream",
     "text": [
      "\n",
      "single positional indexer is out-of-bounds\n",
      "single positional indexer is out-of-bounds\n",
      "single positional indexer is out-of-bounds\n",
      "single positional indexer is out-of-bounds\n",
      "single positional indexer is out-of-bounds"
     ]
    },
    {
     "name": "stderr",
     "output_type": "stream",
     "text": [
      "\n",
      " 55%|██████████████████████████████████████████████████████████████████████▏                                                         | 277/505 [00:00<00:00, 378.96it/s]\u001b[A"
     ]
    },
    {
     "name": "stdout",
     "output_type": "stream",
     "text": [
      "\n",
      "single positional indexer is out-of-bounds\n",
      "single positional indexer is out-of-bounds\n",
      "single positional indexer is out-of-bounds\n"
     ]
    },
    {
     "name": "stderr",
     "output_type": "stream",
     "text": [
      "\n",
      " 63%|████████████████████████████████████████████████████████████████████████████████                                                | 316/505 [00:00<00:00, 380.00it/s]\u001b[A\n"
     ]
    },
    {
     "name": "stdout",
     "output_type": "stream",
     "text": [
      "single positional indexer is out-of-bounds\n",
      "single positional indexer is out-of-bounds\n",
      "single positional indexer is out-of-bounds\n",
      "single positional indexer is out-of-bounds\n"
     ]
    },
    {
     "name": "stderr",
     "output_type": "stream",
     "text": [
      " 70%|██████████████████████████████████████████████████████████████████████████████████████████▏                                     | 356/505 [00:00<00:00, 384.90it/s]\u001b[A"
     ]
    },
    {
     "name": "stdout",
     "output_type": "stream",
     "text": [
      "single positional indexer is out-of-bounds\n",
      "single positional indexer is out-of-bounds\n",
      "single positional indexer is out-of-bounds\n",
      "single positional indexer is out-of-bounds\n",
      "single positional indexer is out-of-bounds\n",
      "single positional indexer is out-of-bounds\n"
     ]
    },
    {
     "name": "stderr",
     "output_type": "stream",
     "text": [
      "\n",
      " 78%|████████████████████████████████████████████████████████████████████████████████████████████████████▎                           | 396/505 [00:01<00:00, 388.27it/s]\u001b[A"
     ]
    },
    {
     "name": "stdout",
     "output_type": "stream",
     "text": [
      "single positional indexer is out-of-bounds\n",
      "single positional indexer is out-of-bounds\n"
     ]
    },
    {
     "name": "stderr",
     "output_type": "stream",
     "text": [
      "\n",
      " 86%|██████████████████████████████████████████████████████████████████████████████████████████████████████████████▌                 | 436/505 [00:01<00:00, 389.43it/s]\u001b[A\n",
      " 94%|████████████████████████████████████████████████████████████████████████████████████████████████████████████████████████▋       | 476/505 [00:01<00:00, 391.39it/s]\u001b[A"
     ]
    },
    {
     "name": "stdout",
     "output_type": "stream",
     "text": [
      "single positional indexer is out-of-bounds\n",
      "single positional indexer is out-of-bounds\n",
      "single positional indexer is out-of-bounds\n",
      "single positional indexer is out-of-bounds"
     ]
    },
    {
     "name": "stderr",
     "output_type": "stream",
     "text": [
      "100%|████████████████████████████████████████████████████████████████████████████████████████████████████████████████████████████████| 505/505 [00:01<00:00, 386.67it/s]\n"
     ]
    },
    {
     "name": "stdout",
     "output_type": "stream",
     "text": [
      "\n",
      "single positional indexer is out-of-bounds\n",
      "single positional indexer is out-of-bounds\n",
      "single positional indexer is out-of-bounds\n",
      "single positional indexer is out-of-bounds\n",
      "single positional indexer is out-of-bounds\n",
      "single positional indexer is out-of-bounds\n"
     ]
    },
    {
     "name": "stderr",
     "output_type": "stream",
     "text": [
      "\n",
      "  0%|                                                                                                                                           | 0/505 [00:00<?, ?it/s]\u001b[A"
     ]
    },
    {
     "name": "stdout",
     "output_type": "stream",
     "text": [
      "single positional indexer is out-of-bounds\n",
      "single positional indexer is out-of-bounds"
     ]
    },
    {
     "name": "stderr",
     "output_type": "stream",
     "text": [
      "\n",
      "  8%|█████████▉                                                                                                                       | 39/505 [00:00<00:01, 382.27it/s]\u001b[A"
     ]
    },
    {
     "name": "stdout",
     "output_type": "stream",
     "text": [
      "\n",
      "single positional indexer is out-of-bounds\n",
      "single positional indexer is out-of-bounds\n",
      "single positional indexer is out-of-bounds\n",
      "single positional indexer is out-of-bounds\n",
      "single positional indexer is out-of-bounds\n"
     ]
    },
    {
     "name": "stderr",
     "output_type": "stream",
     "text": [
      "\n",
      " 15%|███████████████████▉                                                                                                             | 78/505 [00:00<00:01, 382.27it/s]\u001b[A"
     ]
    },
    {
     "name": "stdout",
     "output_type": "stream",
     "text": [
      "single positional indexer is out-of-bounds\n",
      "single positional indexer is out-of-bounds\n",
      "single positional indexer is out-of-bounds\n",
      "single positional indexer is out-of-bounds\n"
     ]
    },
    {
     "name": "stderr",
     "output_type": "stream",
     "text": [
      "\n",
      " 23%|█████████████████████████████▋                                                                                                  | 117/505 [00:00<00:01, 375.53it/s]\u001b[A"
     ]
    },
    {
     "name": "stdout",
     "output_type": "stream",
     "text": [
      "single positional indexer is out-of-bounds\n",
      "single positional indexer is out-of-bounds\n",
      "single positional indexer is out-of-bounds\n",
      "single positional indexer is out-of-bounds\n",
      "single positional indexer is out-of-bounds"
     ]
    },
    {
     "name": "stderr",
     "output_type": "stream",
     "text": [
      "\n",
      " 31%|███████████████████████████████████████▎                                                                                        | 155/505 [00:00<00:00, 360.53it/s]\u001b[A"
     ]
    },
    {
     "name": "stdout",
     "output_type": "stream",
     "text": [
      "\n"
     ]
    },
    {
     "name": "stderr",
     "output_type": "stream",
     "text": [
      "\n",
      " 38%|████████████████████████████████████████████████▉                                                                               | 193/505 [00:00<00:00, 365.96it/s]\u001b[A"
     ]
    },
    {
     "name": "stdout",
     "output_type": "stream",
     "text": [
      "single positional indexer is out-of-bounds\n",
      "single positional indexer is out-of-bounds\n",
      "single positional indexer is out-of-bounds\n",
      "single positional indexer is out-of-bounds\n",
      "single positional indexer is out-of-bounds\n",
      "single positional indexer is out-of-bounds\n",
      "single positional indexer is out-of-bounds"
     ]
    },
    {
     "name": "stderr",
     "output_type": "stream",
     "text": [
      "\n",
      " 46%|██████████████████████████████████████████████████████████▌                                                                     | 231/505 [00:00<00:00, 369.34it/s]\u001b[A\n",
      " 53%|███████████████████████████████████████████████████████████████████▉                                                            | 268/505 [00:00<00:00, 367.18it/s]\u001b[A"
     ]
    },
    {
     "name": "stdout",
     "output_type": "stream",
     "text": [
      "\n",
      "single positional indexer is out-of-bounds\n",
      "single positional indexer is out-of-bounds\n",
      "single positional indexer is out-of-bounds\n",
      "single positional indexer is out-of-bounds\n",
      "single positional indexer is out-of-bounds\n",
      "single positional indexer is out-of-bounds\n",
      "single positional indexer is out-of-bounds\n",
      "single positional indexer is out-of-bounds\n"
     ]
    },
    {
     "name": "stderr",
     "output_type": "stream",
     "text": [
      "\n",
      " 61%|█████████████████████████████████████████████████████████████████████████████▌                                                  | 306/505 [00:00<00:00, 370.00it/s]\u001b[A\n",
      " 68%|███████████████████████████████████████████████████████████████████████████████████████▏                                        | 344/505 [00:00<00:00, 369.64it/s]\u001b[A\n",
      " 75%|████████████████████████████████████████████████████████████████████████████████████████████████▌                               | 381/505 [00:01<00:00, 366.39it/s]\u001b[A"
     ]
    },
    {
     "name": "stdout",
     "output_type": "stream",
     "text": [
      "single positional indexer is out-of-bounds\n",
      "single positional indexer is out-of-bounds\n",
      "single positional indexer is out-of-bounds\n",
      "single positional indexer is out-of-bounds\n",
      "single positional indexer is out-of-bounds\n",
      "single positional indexer is out-of-bounds\n",
      "single positional indexer is out-of-bounds\n",
      "single positional indexer is out-of-bounds\n"
     ]
    },
    {
     "name": "stderr",
     "output_type": "stream",
     "text": [
      "\n",
      " 83%|█████████████████████████████████████████████████████████████████████████████████████████████████████████▉                      | 418/505 [00:01<00:00, 361.85it/s]\u001b[A"
     ]
    },
    {
     "name": "stdout",
     "output_type": "stream",
     "text": [
      "single positional indexer is out-of-bounds\n",
      "single positional indexer is out-of-bounds\n",
      "single positional indexer is out-of-bounds\n"
     ]
    },
    {
     "name": "stderr",
     "output_type": "stream",
     "text": [
      "\n",
      " 90%|███████████████████████████████████████████████████████████████████████████████████████████████████████████████████▊            | 457/505 [00:01<00:00, 368.54it/s]\u001b[A\n",
      "100%|████████████████████████████████████████████████████████████████████████████████████████████████████████████████████████████████| 505/505 [00:01<00:00, 369.43it/s]\u001b[A\n"
     ]
    },
    {
     "name": "stdout",
     "output_type": "stream",
     "text": [
      "single positional indexer is out-of-bounds\n",
      "single positional indexer is out-of-bounds\n",
      "single positional indexer is out-of-bounds\n",
      "single positional indexer is out-of-bounds\n",
      "single positional indexer is out-of-bounds\n",
      "single positional indexer is out-of-bounds\n",
      "single positional indexer is out-of-bounds\n",
      "single positional indexer is out-of-bounds\n",
      "single positional indexer is out-of-bounds\n"
     ]
    },
    {
     "name": "stderr",
     "output_type": "stream",
     "text": [
      "\n",
      "  0%|                                                                                                                                           | 0/505 [00:00<?, ?it/s]\u001b[A"
     ]
    },
    {
     "name": "stdout",
     "output_type": "stream",
     "text": [
      "single positional indexer is out-of-bounds\n",
      "single positional indexer is out-of-bounds"
     ]
    },
    {
     "name": "stderr",
     "output_type": "stream",
     "text": [
      "\n",
      "  8%|█████████▉                                                                                                                       | 39/505 [00:00<00:01, 389.90it/s]\u001b[A\n"
     ]
    },
    {
     "name": "stdout",
     "output_type": "stream",
     "text": [
      "\n",
      "single positional indexer is out-of-bounds\n",
      "single positional indexer is out-of-bounds\n",
      "single positional indexer is out-of-bounds\n",
      "single positional indexer is out-of-bounds\n",
      "single positional indexer is out-of-bounds\n"
     ]
    },
    {
     "name": "stderr",
     "output_type": "stream",
     "text": [
      " 15%|███████████████████▉                                                                                                             | 78/505 [00:00<00:01, 383.14it/s]\u001b[A"
     ]
    },
    {
     "name": "stdout",
     "output_type": "stream",
     "text": [
      "single positional indexer is out-of-bounds\n",
      "single positional indexer is out-of-bounds\n",
      "single positional indexer is out-of-bounds"
     ]
    },
    {
     "name": "stderr",
     "output_type": "stream",
     "text": [
      "\n",
      " 23%|█████████████████████████████▋                                                                                                  | 117/505 [00:00<00:01, 372.71it/s]\u001b[A"
     ]
    },
    {
     "name": "stdout",
     "output_type": "stream",
     "text": [
      "\n",
      "single positional indexer is out-of-bounds\n",
      "single positional indexer is out-of-bounds\n",
      "single positional indexer is out-of-bounds\n",
      "single positional indexer is out-of-bounds\n",
      "single positional indexer is out-of-bounds\n",
      "single positional indexer is out-of-bounds"
     ]
    },
    {
     "name": "stderr",
     "output_type": "stream",
     "text": [
      "\n",
      " 31%|███████████████████████████████████████▌                                                                                        | 156/505 [00:00<00:00, 377.66it/s]\u001b[A"
     ]
    },
    {
     "name": "stdout",
     "output_type": "stream",
     "text": [
      "\n"
     ]
    },
    {
     "name": "stderr",
     "output_type": "stream",
     "text": [
      "\n",
      " 38%|█████████████████████████████████████████████████▏                                                                              | 194/505 [00:00<00:00, 375.69it/s]\u001b[A"
     ]
    },
    {
     "name": "stdout",
     "output_type": "stream",
     "text": [
      "single positional indexer is out-of-bounds\n",
      "single positional indexer is out-of-bounds\n",
      "single positional indexer is out-of-bounds\n",
      "single positional indexer is out-of-bounds\n",
      "single positional indexer is out-of-bounds\n",
      "single positional indexer is out-of-bounds\n",
      "single positional indexer is out-of-bounds\n",
      "single positional indexer is out-of-bounds"
     ]
    },
    {
     "name": "stderr",
     "output_type": "stream",
     "text": [
      "\n",
      " 46%|██████████████████████████████████████████████████████████▊                                                                     | 232/505 [00:00<00:00, 377.09it/s]\u001b[A\n",
      " 53%|████████████████████████████████████████████████████████████████████▍                                                           | 270/505 [00:00<00:00, 374.37it/s]\u001b[A"
     ]
    },
    {
     "name": "stdout",
     "output_type": "stream",
     "text": [
      "\n",
      "single positional indexer is out-of-bounds\n",
      "single positional indexer is out-of-bounds\n",
      "single positional indexer is out-of-bounds\n",
      "single positional indexer is out-of-bounds\n",
      "single positional indexer is out-of-bounds\n",
      "single positional indexer is out-of-bounds\n",
      "single positional indexer is out-of-bounds\n"
     ]
    },
    {
     "name": "stderr",
     "output_type": "stream",
     "text": [
      "\n",
      " 61%|██████████████████████████████████████████████████████████████████████████████                                                  | 308/505 [00:00<00:00, 373.76it/s]\u001b[A\n",
      " 69%|███████████████████████████████████████████████████████████████████████████████████████▋                                        | 346/505 [00:01<00:00, 175.36it/s]\u001b[A\n",
      " 76%|█████████████████████████████████████████████████████████████████████████████████████████████████▌                              | 385/505 [00:01<00:00, 211.56it/s]\u001b[A"
     ]
    },
    {
     "name": "stdout",
     "output_type": "stream",
     "text": [
      "single positional indexer is out-of-bounds\n",
      "single positional indexer is out-of-bounds\n",
      "single positional indexer is out-of-bounds\n",
      "single positional indexer is out-of-bounds\n",
      "single positional indexer is out-of-bounds\n",
      "single positional indexer is out-of-bounds\n",
      "single positional indexer is out-of-bounds\n",
      "single positional indexer is out-of-bounds\n"
     ]
    },
    {
     "name": "stderr",
     "output_type": "stream",
     "text": [
      "\n",
      " 84%|███████████████████████████████████████████████████████████████████████████████████████████████████████████▏                    | 423/505 [00:01<00:00, 244.00it/s]\u001b[A"
     ]
    },
    {
     "name": "stdout",
     "output_type": "stream",
     "text": [
      "single positional indexer is out-of-bounds\n",
      "single positional indexer is out-of-bounds\n",
      "single positional indexer is out-of-bounds\n",
      "single positional indexer is out-of-bounds\n"
     ]
    },
    {
     "name": "stderr",
     "output_type": "stream",
     "text": [
      "\n",
      " 91%|████████████████████████████████████████████████████████████████████████████████████████████████████████████████████▊           | 461/505 [00:01<00:00, 273.63it/s]\u001b[A\n",
      "100%|████████████████████████████████████████████████████████████████████████████████████████████████████████████████████████████████| 505/505 [00:01<00:00, 295.24it/s]\u001b[A\n"
     ]
    },
    {
     "name": "stdout",
     "output_type": "stream",
     "text": [
      "single positional indexer is out-of-bounds\n",
      "single positional indexer is out-of-bounds\n",
      "single positional indexer is out-of-bounds\n",
      "single positional indexer is out-of-bounds\n",
      "single positional indexer is out-of-bounds\n",
      "single positional indexer is out-of-bounds\n",
      "single positional indexer is out-of-bounds\n",
      "single positional indexer is out-of-bounds\n"
     ]
    },
    {
     "name": "stderr",
     "output_type": "stream",
     "text": [
      "\n",
      "  0%|                                                                                                                                           | 0/505 [00:00<?, ?it/s]\u001b[A"
     ]
    },
    {
     "name": "stdout",
     "output_type": "stream",
     "text": [
      "single positional indexer is out-of-bounds\n",
      "single positional indexer is out-of-bounds\n",
      "single positional indexer is out-of-bounds\n",
      "single positional indexer is out-of-bounds\n"
     ]
    },
    {
     "name": "stderr",
     "output_type": "stream",
     "text": [
      "\n",
      "  7%|█████████▍                                                                                                                       | 37/505 [00:00<00:01, 369.91it/s]\u001b[A"
     ]
    },
    {
     "name": "stdout",
     "output_type": "stream",
     "text": [
      "single positional indexer is out-of-bounds\n",
      "single positional indexer is out-of-bounds\n",
      "single positional indexer is out-of-bounds\n"
     ]
    },
    {
     "name": "stderr",
     "output_type": "stream",
     "text": [
      "\n",
      " 15%|███████████████████▍                                                                                                             | 76/505 [00:00<00:01, 379.45it/s]\u001b[A\n",
      " 23%|█████████████████████████████▏                                                                                                  | 115/505 [00:00<00:01, 382.47it/s]\u001b[A"
     ]
    },
    {
     "name": "stdout",
     "output_type": "stream",
     "text": [
      "single positional indexer is out-of-bounds\n",
      "single positional indexer is out-of-bounds\n",
      "single positional indexer is out-of-bounds\n",
      "single positional indexer is out-of-bounds\n",
      "single positional indexer is out-of-bounds\n",
      "single positional indexer is out-of-bounds\n"
     ]
    },
    {
     "name": "stderr",
     "output_type": "stream",
     "text": [
      "\n"
     ]
    },
    {
     "name": "stdout",
     "output_type": "stream",
     "text": [
      "single positional indexer is out-of-bounds\n"
     ]
    },
    {
     "name": "stderr",
     "output_type": "stream",
     "text": [
      " 30%|███████████████████████████████████████                                                                                         | 154/505 [00:00<00:00, 372.23it/s]\u001b[A\n",
      " 38%|████████████████████████████████████████████████▋                                                                               | 192/505 [00:00<00:00, 367.19it/s]\u001b[A"
     ]
    },
    {
     "name": "stdout",
     "output_type": "stream",
     "text": [
      "single positional indexer is out-of-bounds\n",
      "single positional indexer is out-of-bounds\n",
      "single positional indexer is out-of-bounds\n",
      "single positional indexer is out-of-bounds\n",
      "single positional indexer is out-of-bounds\n",
      "single positional indexer is out-of-bounds\n",
      "single positional indexer is out-of-bounds\n",
      "single positional indexer is out-of-bounds"
     ]
    },
    {
     "name": "stderr",
     "output_type": "stream",
     "text": [
      "\n",
      " 46%|██████████████████████████████████████████████████████████▌                                                                     | 231/505 [00:00<00:00, 373.45it/s]\u001b[A\n",
      " 53%|████████████████████████████████████████████████████████████████████▏                                                           | 269/505 [00:00<00:00, 373.13it/s]\u001b[A"
     ]
    },
    {
     "name": "stdout",
     "output_type": "stream",
     "text": [
      "\n",
      "single positional indexer is out-of-bounds\n",
      "single positional indexer is out-of-bounds\n",
      "single positional indexer is out-of-bounds\n",
      "single positional indexer is out-of-bounds\n",
      "single positional indexer is out-of-bounds\n",
      "single positional indexer is out-of-bounds\n",
      "single positional indexer is out-of-bounds\n",
      "single positional indexer is out-of-bounds\n"
     ]
    },
    {
     "name": "stderr",
     "output_type": "stream",
     "text": [
      "\n",
      " 61%|█████████████████████████████████████████████████████████████████████████████▊                                                  | 307/505 [00:00<00:00, 371.77it/s]\u001b[A"
     ]
    },
    {
     "name": "stdout",
     "output_type": "stream",
     "text": [
      "single positional indexer is out-of-bounds\n",
      "single positional indexer is out-of-bounds\n",
      "single positional indexer is out-of-bounds\n",
      "single positional indexer is out-of-bounds"
     ]
    },
    {
     "name": "stderr",
     "output_type": "stream",
     "text": [
      "\n",
      " 68%|███████████████████████████████████████████████████████████████████████████████████████▍                                        | 345/505 [00:00<00:00, 370.86it/s]\u001b[A\n",
      " 76%|█████████████████████████████████████████████████████████████████████████████████████████████████                               | 383/505 [00:01<00:00, 371.35it/s]\u001b[A"
     ]
    },
    {
     "name": "stdout",
     "output_type": "stream",
     "text": [
      "\n",
      "single positional indexer is out-of-bounds\n",
      "single positional indexer is out-of-bounds\n",
      "single positional indexer is out-of-bounds\n",
      "single positional indexer is out-of-bounds\n"
     ]
    },
    {
     "name": "stderr",
     "output_type": "stream",
     "text": [
      "\n"
     ]
    },
    {
     "name": "stdout",
     "output_type": "stream",
     "text": [
      "single positional indexer is out-of-bounds\n"
     ]
    },
    {
     "name": "stderr",
     "output_type": "stream",
     "text": [
      " 84%|██████████████████████████████████████████████████████████████████████████████████████████████████████████▉                     | 422/505 [00:01<00:00, 376.93it/s]\u001b[A\n",
      " 91%|████████████████████████████████████████████████████████████████████████████████████████████████████████████████████▊           | 461/505 [00:01<00:00, 380.83it/s]\u001b[A"
     ]
    },
    {
     "name": "stdout",
     "output_type": "stream",
     "text": [
      "single positional indexer is out-of-bounds\n",
      "single positional indexer is out-of-bounds\n",
      "single positional indexer is out-of-bounds\n"
     ]
    },
    {
     "name": "stderr",
     "output_type": "stream",
     "text": [
      "\n",
      " 99%|██████████████████████████████████████████████████████████████████████████████████████████████████████████████████████████████▉ | 501/505 [00:01<00:00, 385.40it/s]\u001b[A"
     ]
    },
    {
     "name": "stdout",
     "output_type": "stream",
     "text": [
      "single positional indexer is out-of-bounds\n",
      "single positional indexer is out-of-bounds\n",
      "single positional indexer is out-of-bounds\n",
      "single positional indexer is out-of-bounds\n"
     ]
    },
    {
     "name": "stderr",
     "output_type": "stream",
     "text": [
      "100%|████████████████████████████████████████████████████████████████████████████████████████████████████████████████████████████████| 505/505 [00:01<00:00, 377.06it/s]\n",
      " 31%|████████████████████████████████████████▌                                                                                           | 4/13 [00:21<00:48,  5.43s/it]"
     ]
    },
    {
     "name": "stdout",
     "output_type": "stream",
     "text": [
      "single positional indexer is out-of-bounds\n",
      "single positional indexer is out-of-bounds\n",
      "single positional indexer is out-of-bounds\n",
      "single positional indexer is out-of-bounds\n"
     ]
    },
    {
     "name": "stderr",
     "output_type": "stream",
     "text": [
      "\n",
      "  0%|                                                                                                                                           | 0/505 [00:00<?, ?it/s]\u001b[A"
     ]
    },
    {
     "name": "stdout",
     "output_type": "stream",
     "text": [
      "single positional indexer is out-of-bounds\n",
      "single positional indexer is out-of-bounds\n",
      "single positional indexer is out-of-bounds\n"
     ]
    },
    {
     "name": "stderr",
     "output_type": "stream",
     "text": [
      "\n",
      "  8%|██████████▏                                                                                                                      | 40/505 [00:00<00:01, 399.91it/s]\u001b[A"
     ]
    },
    {
     "name": "stdout",
     "output_type": "stream",
     "text": [
      "single positional indexer is out-of-bounds\n",
      "single positional indexer is out-of-bounds\n",
      "single positional indexer is out-of-bounds"
     ]
    },
    {
     "name": "stderr",
     "output_type": "stream",
     "text": [
      "\n",
      " 16%|████████████████████▍                                                                                                            | 80/505 [00:00<00:01, 388.47it/s]\u001b[A"
     ]
    },
    {
     "name": "stdout",
     "output_type": "stream",
     "text": [
      "\n",
      "single positional indexer is out-of-bounds\n",
      "single positional indexer is out-of-bounds\n",
      "single positional indexer is out-of-bounds\n",
      "single positional indexer is out-of-bounds\n",
      "single positional indexer is out-of-bounds\n",
      "single positional indexer is out-of-bounds"
     ]
    },
    {
     "name": "stderr",
     "output_type": "stream",
     "text": [
      "\n",
      " 24%|██████████████████████████████▏                                                                                                 | 119/505 [00:00<00:01, 337.49it/s]\u001b[A"
     ]
    },
    {
     "name": "stdout",
     "output_type": "stream",
     "text": [
      "\n",
      "single positional indexer is out-of-bounds\n"
     ]
    },
    {
     "name": "stderr",
     "output_type": "stream",
     "text": [
      "\n",
      " 30%|███████████████████████████████████████                                                                                         | 154/505 [00:00<00:01, 317.73it/s]\u001b[A"
     ]
    },
    {
     "name": "stdout",
     "output_type": "stream",
     "text": [
      "single positional indexer is out-of-bounds\n",
      "single positional indexer is out-of-bounds\n",
      "single positional indexer is out-of-bounds"
     ]
    },
    {
     "name": "stderr",
     "output_type": "stream",
     "text": [
      "\n",
      " 38%|████████████████████████████████████████████████▏                                                                               | 190/505 [00:00<00:00, 330.31it/s]\u001b[A"
     ]
    },
    {
     "name": "stdout",
     "output_type": "stream",
     "text": [
      "\n",
      "single positional indexer is out-of-bounds\n"
     ]
    },
    {
     "name": "stderr",
     "output_type": "stream",
     "text": [
      "\n"
     ]
    },
    {
     "name": "stdout",
     "output_type": "stream",
     "text": [
      "single positional indexer is out-of-bounds\n",
      "single positional indexer is out-of-bounds\n",
      "single positional indexer is out-of-bounds\n"
     ]
    },
    {
     "name": "stderr",
     "output_type": "stream",
     "text": [
      " 45%|█████████████████████████████████████████████████████████▊                                                                      | 228/505 [00:00<00:00, 344.82it/s]\u001b[A"
     ]
    },
    {
     "name": "stdout",
     "output_type": "stream",
     "text": [
      "single positional indexer is out-of-bounds\n",
      "single positional indexer is out-of-bounds\n",
      "single positional indexer is out-of-bounds\n",
      "single positional indexer is out-of-bounds"
     ]
    },
    {
     "name": "stderr",
     "output_type": "stream",
     "text": [
      "\n",
      " 52%|██████████████████████████████████████████████████████████████████▉                                                             | 264/505 [00:00<00:00, 349.28it/s]\u001b[A"
     ]
    },
    {
     "name": "stdout",
     "output_type": "stream",
     "text": [
      "\n",
      "single positional indexer is out-of-bounds\n"
     ]
    },
    {
     "name": "stderr",
     "output_type": "stream",
     "text": [
      "\n"
     ]
    },
    {
     "name": "stdout",
     "output_type": "stream",
     "text": [
      "single positional indexer is out-of-bounds\n",
      "single positional indexer is out-of-bounds\n",
      "single positional indexer is out-of-bounds\n",
      "single positional indexer is out-of-bounds\n"
     ]
    },
    {
     "name": "stderr",
     "output_type": "stream",
     "text": [
      " 60%|████████████████████████████████████████████████████████████████████████████▊                                                   | 303/505 [00:00<00:00, 361.72it/s]\u001b[A"
     ]
    },
    {
     "name": "stdout",
     "output_type": "stream",
     "text": [
      "single positional indexer is out-of-bounds\n",
      "single positional indexer is out-of-bounds\n",
      "single positional indexer is out-of-bounds\n"
     ]
    },
    {
     "name": "stderr",
     "output_type": "stream",
     "text": [
      "\n",
      " 68%|██████████████████████████████████████████████████████████████████████████████████████▉                                         | 343/505 [00:00<00:00, 371.08it/s]\u001b[A\n",
      " 76%|████████████████████████████████████████████████████████████████████████████████████████████████▊                               | 382/505 [00:01<00:00, 375.62it/s]\u001b[A"
     ]
    },
    {
     "name": "stdout",
     "output_type": "stream",
     "text": [
      "single positional indexer is out-of-bounds\n",
      "single positional indexer is out-of-bounds\n",
      "single positional indexer is out-of-bounds\n",
      "single positional indexer is out-of-bounds\n",
      "single positional indexer is out-of-bounds"
     ]
    },
    {
     "name": "stderr",
     "output_type": "stream",
     "text": [
      "\n",
      " 83%|██████████████████████████████████████████████████████████████████████████████████████████████████████████▋                     | 421/505 [00:01<00:00, 376.52it/s]\u001b[A"
     ]
    },
    {
     "name": "stdout",
     "output_type": "stream",
     "text": [
      "\n"
     ]
    },
    {
     "name": "stderr",
     "output_type": "stream",
     "text": [
      "\n",
      " 91%|████████████████████████████████████████████████████████████████████████████████████████████████████████████████████▌           | 460/505 [00:01<00:00, 378.29it/s]\u001b[A"
     ]
    },
    {
     "name": "stdout",
     "output_type": "stream",
     "text": [
      "single positional indexer is out-of-bounds\n",
      "single positional indexer is out-of-bounds\n",
      "single positional indexer is out-of-bounds\n",
      "single positional indexer is out-of-bounds"
     ]
    },
    {
     "name": "stderr",
     "output_type": "stream",
     "text": [
      "\n",
      " 99%|██████████████████████████████████████████████████████████████████████████████████████████████████████████████████████████████▍ | 499/505 [00:01<00:00, 380.62it/s]\u001b[A"
     ]
    },
    {
     "name": "stdout",
     "output_type": "stream",
     "text": [
      "\n",
      "single positional indexer is out-of-bounds\n",
      "single positional indexer is out-of-bounds\n",
      "single positional indexer is out-of-bounds\n",
      "single positional indexer is out-of-bounds"
     ]
    },
    {
     "name": "stderr",
     "output_type": "stream",
     "text": [
      "100%|████████████████████████████████████████████████████████████████████████████████████████████████████████████████████████████████| 505/505 [00:01<00:00, 363.37it/s]\n"
     ]
    },
    {
     "name": "stdout",
     "output_type": "stream",
     "text": [
      "\n",
      "single positional indexer is out-of-bounds\n",
      "single positional indexer is out-of-bounds\n",
      "single positional indexer is out-of-bounds\n"
     ]
    },
    {
     "name": "stderr",
     "output_type": "stream",
     "text": [
      "\n",
      "  0%|                                                                                                                                           | 0/505 [00:00<?, ?it/s]\u001b[A"
     ]
    },
    {
     "name": "stdout",
     "output_type": "stream",
     "text": [
      "single positional indexer is out-of-bounds\n",
      "single positional indexer is out-of-bounds\n",
      "single positional indexer is out-of-bounds\n"
     ]
    },
    {
     "name": "stderr",
     "output_type": "stream",
     "text": [
      "\n",
      "  8%|█████████▋                                                                                                                       | 38/505 [00:00<00:01, 374.27it/s]\u001b[A"
     ]
    },
    {
     "name": "stdout",
     "output_type": "stream",
     "text": [
      "single positional indexer is out-of-bounds\n",
      "single positional indexer is out-of-bounds\n",
      "single positional indexer is out-of-bounds"
     ]
    },
    {
     "name": "stderr",
     "output_type": "stream",
     "text": [
      "\n",
      " 15%|███████████████████▍                                                                                                             | 76/505 [00:00<00:01, 374.28it/s]\u001b[A"
     ]
    },
    {
     "name": "stdout",
     "output_type": "stream",
     "text": [
      "\n",
      "single positional indexer is out-of-bounds\n",
      "single positional indexer is out-of-bounds\n",
      "single positional indexer is out-of-bounds\n",
      "single positional indexer is out-of-bounds\n"
     ]
    },
    {
     "name": "stderr",
     "output_type": "stream",
     "text": [
      "\n",
      " 23%|█████████████████████████████▏                                                                                                  | 115/505 [00:00<00:01, 377.93it/s]\u001b[A"
     ]
    },
    {
     "name": "stdout",
     "output_type": "stream",
     "text": [
      "single positional indexer is out-of-bounds\n",
      "single positional indexer is out-of-bounds\n"
     ]
    },
    {
     "name": "stderr",
     "output_type": "stream",
     "text": [
      "\n",
      " 30%|██████████████████████████████████████▊                                                                                         | 153/505 [00:00<00:00, 374.31it/s]\u001b[A"
     ]
    },
    {
     "name": "stdout",
     "output_type": "stream",
     "text": [
      "single positional indexer is out-of-bounds\n",
      "single positional indexer is out-of-bounds\n",
      "single positional indexer is out-of-bounds\n",
      "single positional indexer is out-of-bounds\n"
     ]
    },
    {
     "name": "stderr",
     "output_type": "stream",
     "text": [
      "\n",
      " 38%|████████████████████████████████████████████████▋                                                                               | 192/505 [00:00<00:00, 377.17it/s]\u001b[A"
     ]
    },
    {
     "name": "stdout",
     "output_type": "stream",
     "text": [
      "single positional indexer is out-of-bounds\n",
      "single positional indexer is out-of-bounds\n",
      "single positional indexer is out-of-bounds\n"
     ]
    },
    {
     "name": "stderr",
     "output_type": "stream",
     "text": [
      "\n",
      " 46%|██████████████████████████████████████████████████████████▎                                                                     | 230/505 [00:00<00:00, 376.83it/s]\u001b[A\n"
     ]
    },
    {
     "name": "stdout",
     "output_type": "stream",
     "text": [
      "single positional indexer is out-of-bounds\n",
      "single positional indexer is out-of-bounds\n",
      "single positional indexer is out-of-bounds\n",
      "single positional indexer is out-of-bounds\n"
     ]
    },
    {
     "name": "stderr",
     "output_type": "stream",
     "text": [
      " 53%|███████████████████████████████████████████████████████████████████▉                                                            | 268/505 [00:00<00:00, 376.60it/s]\u001b[A"
     ]
    },
    {
     "name": "stdout",
     "output_type": "stream",
     "text": [
      "single positional indexer is out-of-bounds\n",
      "single positional indexer is out-of-bounds\n",
      "single positional indexer is out-of-bounds\n",
      "single positional indexer is out-of-bounds\n"
     ]
    },
    {
     "name": "stderr",
     "output_type": "stream",
     "text": [
      "\n",
      " 61%|█████████████████████████████████████████████████████████████████████████████▌                                                  | 306/505 [00:00<00:00, 371.78it/s]\u001b[A\n"
     ]
    },
    {
     "name": "stdout",
     "output_type": "stream",
     "text": [
      "single positional indexer is out-of-bounds\n"
     ]
    },
    {
     "name": "stderr",
     "output_type": "stream",
     "text": [
      " 68%|███████████████████████████████████████████████████████████████████████████████████████▏                                        | 344/505 [00:00<00:00, 368.62it/s]\u001b[A\n",
      " 76%|█████████████████████████████████████████████████████████████████████████████████████████████████                               | 383/505 [00:01<00:00, 372.79it/s]\u001b[A"
     ]
    },
    {
     "name": "stdout",
     "output_type": "stream",
     "text": [
      "single positional indexer is out-of-bounds\n",
      "single positional indexer is out-of-bounds\n",
      "single positional indexer is out-of-bounds\n",
      "single positional indexer is out-of-bounds\n"
     ]
    },
    {
     "name": "stderr",
     "output_type": "stream",
     "text": [
      "\n",
      " 83%|██████████████████████████████████████████████████████████████████████████████████████████████████████████▋                     | 421/505 [00:01<00:00, 373.81it/s]\u001b[A"
     ]
    },
    {
     "name": "stdout",
     "output_type": "stream",
     "text": [
      "single positional indexer is out-of-bounds\n",
      "single positional indexer is out-of-bounds\n",
      "single positional indexer is out-of-bounds\n",
      "single positional indexer is out-of-bounds"
     ]
    },
    {
     "name": "stderr",
     "output_type": "stream",
     "text": [
      "\n",
      " 91%|████████████████████████████████████████████████████████████████████████████████████████████████████████████████████▎           | 459/505 [00:01<00:00, 373.40it/s]\u001b[A\n",
      " 98%|█████████████████████████████████████████████████████████████████████████████████████████████████████████████████████████████▉  | 497/505 [00:01<00:00, 370.92it/s]\u001b[A"
     ]
    },
    {
     "name": "stdout",
     "output_type": "stream",
     "text": [
      "\n",
      "single positional indexer is out-of-bounds\n",
      "single positional indexer is out-of-bounds\n",
      "single positional indexer is out-of-bounds\n"
     ]
    },
    {
     "name": "stderr",
     "output_type": "stream",
     "text": [
      "100%|████████████████████████████████████████████████████████████████████████████████████████████████████████████████████████████████| 505/505 [00:01<00:00, 372.60it/s]\n"
     ]
    },
    {
     "name": "stdout",
     "output_type": "stream",
     "text": [
      "single positional indexer is out-of-bounds\n",
      "single positional indexer is out-of-bounds\n",
      "single positional indexer is out-of-bounds\n",
      "single positional indexer is out-of-bounds\n",
      "single positional indexer is out-of-bounds\n"
     ]
    },
    {
     "name": "stderr",
     "output_type": "stream",
     "text": [
      "\n",
      "  0%|                                                                                                                                           | 0/505 [00:00<?, ?it/s]\u001b[A"
     ]
    },
    {
     "name": "stdout",
     "output_type": "stream",
     "text": [
      "single positional indexer is out-of-bounds"
     ]
    },
    {
     "name": "stderr",
     "output_type": "stream",
     "text": [
      "\n",
      "  7%|█████████▏                                                                                                                       | 36/505 [00:00<00:01, 356.36it/s]\u001b[A"
     ]
    },
    {
     "name": "stdout",
     "output_type": "stream",
     "text": [
      "\n",
      "single positional indexer is out-of-bounds\n",
      "single positional indexer is out-of-bounds\n",
      "single positional indexer is out-of-bounds\n",
      "single positional indexer is out-of-bounds"
     ]
    },
    {
     "name": "stderr",
     "output_type": "stream",
     "text": [
      "\n",
      " 14%|██████████████████▍                                                                                                              | 72/505 [00:00<00:01, 344.41it/s]\u001b[A"
     ]
    },
    {
     "name": "stdout",
     "output_type": "stream",
     "text": [
      "\n",
      "single positional indexer is out-of-bounds\n",
      "single positional indexer is out-of-bounds\n",
      "single positional indexer is out-of-bounds\n",
      "single positional indexer is out-of-bounds"
     ]
    },
    {
     "name": "stderr",
     "output_type": "stream",
     "text": [
      "\n",
      " 21%|███████████████████████████                                                                                                     | 107/505 [00:00<00:01, 340.79it/s]\u001b[A"
     ]
    },
    {
     "name": "stdout",
     "output_type": "stream",
     "text": [
      "\n",
      "single positional indexer is out-of-bounds\n",
      "single positional indexer is out-of-bounds\n",
      "single positional indexer is out-of-bounds"
     ]
    },
    {
     "name": "stderr",
     "output_type": "stream",
     "text": [
      "\n",
      " 28%|███████████████████████████████████▉                                                                                            | 142/505 [00:00<00:01, 336.54it/s]\u001b[A"
     ]
    },
    {
     "name": "stdout",
     "output_type": "stream",
     "text": [
      "\n",
      "single positional indexer is out-of-bounds"
     ]
    },
    {
     "name": "stderr",
     "output_type": "stream",
     "text": [
      "\n",
      " 36%|█████████████████████████████████████████████▌                                                                                  | 180/505 [00:00<00:00, 350.47it/s]\u001b[A"
     ]
    },
    {
     "name": "stdout",
     "output_type": "stream",
     "text": [
      "\n",
      "single positional indexer is out-of-bounds\n",
      "single positional indexer is out-of-bounds\n",
      "single positional indexer is out-of-bounds\n",
      "single positional indexer is out-of-bounds"
     ]
    },
    {
     "name": "stderr",
     "output_type": "stream",
     "text": [
      "\n",
      " 43%|███████████████████████████████████████████████████████▎                                                                        | 218/505 [00:00<00:00, 357.88it/s]\u001b[A"
     ]
    },
    {
     "name": "stdout",
     "output_type": "stream",
     "text": [
      "\n",
      "single positional indexer is out-of-bounds\n",
      "single positional indexer is out-of-bounds\n"
     ]
    },
    {
     "name": "stderr",
     "output_type": "stream",
     "text": [
      "\n",
      " 50%|████████████████████████████████████████████████████████████████▍                                                               | 254/505 [00:00<00:00, 352.88it/s]\u001b[A"
     ]
    },
    {
     "name": "stdout",
     "output_type": "stream",
     "text": [
      "single positional indexer is out-of-bounds\n",
      "single positional indexer is out-of-bounds\n",
      "single positional indexer is out-of-bounds\n",
      "single positional indexer is out-of-bounds\n",
      "single positional indexer is out-of-bounds"
     ]
    },
    {
     "name": "stderr",
     "output_type": "stream",
     "text": [
      "\n",
      " 57%|█████████████████████████████████████████████████████████████████████████▌                                                      | 290/505 [00:00<00:00, 351.79it/s]\u001b[A"
     ]
    },
    {
     "name": "stdout",
     "output_type": "stream",
     "text": [
      "\n",
      "single positional indexer is out-of-bounds\n",
      "single positional indexer is out-of-bounds\n",
      "single positional indexer is out-of-bounds\n"
     ]
    },
    {
     "name": "stderr",
     "output_type": "stream",
     "text": [
      "\n",
      " 65%|██████████████████████████████████████████████████████████████████████████████████▋                                             | 326/505 [00:00<00:00, 345.82it/s]\u001b[A"
     ]
    },
    {
     "name": "stdout",
     "output_type": "stream",
     "text": [
      "single positional indexer is out-of-bounds\n"
     ]
    },
    {
     "name": "stderr",
     "output_type": "stream",
     "text": [
      "\n",
      " 71%|███████████████████████████████████████████████████████████████████████████████████████████▌                                    | 361/505 [00:01<00:00, 341.94it/s]\u001b[A"
     ]
    },
    {
     "name": "stdout",
     "output_type": "stream",
     "text": [
      "single positional indexer is out-of-bounds\n",
      "single positional indexer is out-of-bounds\n",
      "single positional indexer is out-of-bounds\n",
      "single positional indexer is out-of-bounds\n"
     ]
    },
    {
     "name": "stderr",
     "output_type": "stream",
     "text": [
      "\n",
      " 79%|████████████████████████████████████████████████████████████████████████████████████████████████████▋                           | 397/505 [00:01<00:00, 346.24it/s]\u001b[A"
     ]
    },
    {
     "name": "stdout",
     "output_type": "stream",
     "text": [
      "single positional indexer is out-of-bounds\n",
      "single positional indexer is out-of-bounds"
     ]
    },
    {
     "name": "stderr",
     "output_type": "stream",
     "text": [
      "\n",
      " 86%|██████████████████████████████████████████████████████████████████████████████████████████████████████████████▎                 | 435/505 [00:01<00:00, 353.08it/s]\u001b[A"
     ]
    },
    {
     "name": "stdout",
     "output_type": "stream",
     "text": [
      "\n",
      "single positional indexer is out-of-bounds\n",
      "single positional indexer is out-of-bounds"
     ]
    },
    {
     "name": "stderr",
     "output_type": "stream",
     "text": [
      "\n",
      " 93%|███████████████████████████████████████████████████████████████████████████████████████████████████████████████████████▋        | 472/505 [00:01<00:00, 355.96it/s]\u001b[A"
     ]
    },
    {
     "name": "stdout",
     "output_type": "stream",
     "text": [
      "\n",
      "single positional indexer is out-of-bounds\n",
      "single positional indexer is out-of-bounds\n",
      "single positional indexer is out-of-bounds\n",
      "single positional indexer is out-of-bounds"
     ]
    },
    {
     "name": "stderr",
     "output_type": "stream",
     "text": [
      "100%|████████████████████████████████████████████████████████████████████████████████████████████████████████████████████████████████| 505/505 [00:01<00:00, 350.38it/s]\n"
     ]
    },
    {
     "name": "stdout",
     "output_type": "stream",
     "text": [
      "\n",
      "single positional indexer is out-of-bounds\n",
      "single positional indexer is out-of-bounds\n",
      "single positional indexer is out-of-bounds\n",
      "single positional indexer is out-of-bounds\n"
     ]
    },
    {
     "name": "stderr",
     "output_type": "stream",
     "text": [
      "\n",
      "  0%|                                                                                                                                           | 0/505 [00:00<?, ?it/s]\u001b[A\n",
      "  7%|█████████▏                                                                                                                       | 36/505 [00:00<00:01, 359.92it/s]\u001b[A"
     ]
    },
    {
     "name": "stdout",
     "output_type": "stream",
     "text": [
      "single positional indexer is out-of-bounds\n",
      "single positional indexer is out-of-bounds\n",
      "single positional indexer is out-of-bounds\n",
      "single positional indexer is out-of-bounds"
     ]
    },
    {
     "name": "stderr",
     "output_type": "stream",
     "text": [
      "\n",
      " 14%|██████████████████▍                                                                                                              | 72/505 [00:00<00:01, 355.73it/s]\u001b[A"
     ]
    },
    {
     "name": "stdout",
     "output_type": "stream",
     "text": [
      "\n",
      "single positional indexer is out-of-bounds\n",
      "single positional indexer is out-of-bounds\n",
      "single positional indexer is out-of-bounds\n",
      "single positional indexer is out-of-bounds"
     ]
    },
    {
     "name": "stderr",
     "output_type": "stream",
     "text": [
      "\n",
      " 22%|███████████████████████████▋                                                                                                    | 109/505 [00:00<00:01, 360.53it/s]\u001b[A"
     ]
    },
    {
     "name": "stdout",
     "output_type": "stream",
     "text": [
      "\n",
      "single positional indexer is out-of-bounds\n",
      "single positional indexer is out-of-bounds\n",
      "single positional indexer is out-of-bounds"
     ]
    },
    {
     "name": "stderr",
     "output_type": "stream",
     "text": [
      "\n",
      " 29%|█████████████████████████████████████                                                                                           | 146/505 [00:00<00:00, 362.79it/s]\u001b[A"
     ]
    },
    {
     "name": "stdout",
     "output_type": "stream",
     "text": [
      "\n",
      "single positional indexer is out-of-bounds\n",
      "single positional indexer is out-of-bounds"
     ]
    },
    {
     "name": "stderr",
     "output_type": "stream",
     "text": [
      "\n",
      " 36%|██████████████████████████████████████████████▍                                                                                 | 183/505 [00:00<00:00, 361.46it/s]\u001b[A"
     ]
    },
    {
     "name": "stdout",
     "output_type": "stream",
     "text": [
      "\n",
      "single positional indexer is out-of-bounds\n",
      "single positional indexer is out-of-bounds\n",
      "single positional indexer is out-of-bounds"
     ]
    },
    {
     "name": "stderr",
     "output_type": "stream",
     "text": [
      "\n",
      " 44%|███████████████████████████████████████████████████████▊                                                                        | 220/505 [00:00<00:00, 360.66it/s]\u001b[A"
     ]
    },
    {
     "name": "stdout",
     "output_type": "stream",
     "text": [
      "\n",
      "single positional indexer is out-of-bounds\n",
      "single positional indexer is out-of-bounds\n",
      "single positional indexer is out-of-bounds"
     ]
    },
    {
     "name": "stderr",
     "output_type": "stream",
     "text": [
      "\n",
      " 51%|█████████████████████████████████████████████████████████████████▏                                                              | 257/505 [00:00<00:00, 359.02it/s]\u001b[A"
     ]
    },
    {
     "name": "stdout",
     "output_type": "stream",
     "text": [
      "\n",
      "single positional indexer is out-of-bounds\n",
      "single positional indexer is out-of-bounds\n",
      "single positional indexer is out-of-bounds"
     ]
    },
    {
     "name": "stderr",
     "output_type": "stream",
     "text": [
      "\n",
      " 58%|██████████████████████████████████████████████████████████████████████████▌                                                     | 294/505 [00:00<00:00, 361.29it/s]\u001b[A"
     ]
    },
    {
     "name": "stdout",
     "output_type": "stream",
     "text": [
      "\n",
      "single positional indexer is out-of-bounds\n",
      "single positional indexer is out-of-bounds\n",
      "single positional indexer is out-of-bounds\n"
     ]
    },
    {
     "name": "stderr",
     "output_type": "stream",
     "text": [
      "\n",
      " 66%|████████████████████████████████████████████████████████████████████████████████████▏                                           | 332/505 [00:00<00:00, 364.78it/s]\u001b[A"
     ]
    },
    {
     "name": "stdout",
     "output_type": "stream",
     "text": [
      "single positional indexer is out-of-bounds\n"
     ]
    },
    {
     "name": "stderr",
     "output_type": "stream",
     "text": [
      "\n",
      " 73%|█████████████████████████████████████████████████████████████████████████████████████████████▌                                  | 369/505 [00:01<00:00, 363.03it/s]\u001b[A"
     ]
    },
    {
     "name": "stdout",
     "output_type": "stream",
     "text": [
      "single positional indexer is out-of-bounds\n",
      "single positional indexer is out-of-bounds\n",
      "single positional indexer is out-of-bounds\n",
      "single positional indexer is out-of-bounds\n",
      "single positional indexer is out-of-bounds"
     ]
    },
    {
     "name": "stderr",
     "output_type": "stream",
     "text": [
      "\n",
      " 80%|██████████████████████████████████████████████████████████████████████████████████████████████████████▉                         | 406/505 [00:01<00:00, 362.92it/s]\u001b[A"
     ]
    },
    {
     "name": "stdout",
     "output_type": "stream",
     "text": [
      "\n"
     ]
    },
    {
     "name": "stderr",
     "output_type": "stream",
     "text": [
      "\n",
      " 88%|████████████████████████████████████████████████████████████████████████████████████████████████████████████████▎               | 443/505 [00:01<00:00, 361.76it/s]\u001b[A"
     ]
    },
    {
     "name": "stdout",
     "output_type": "stream",
     "text": [
      "single positional indexer is out-of-bounds\n",
      "single positional indexer is out-of-bounds\n"
     ]
    },
    {
     "name": "stderr",
     "output_type": "stream",
     "text": [
      "\n",
      " 95%|█████████████████████████████████████████████████████████████████████████████████████████████████████████████████████████▋      | 480/505 [00:01<00:00, 362.04it/s]\u001b[A"
     ]
    },
    {
     "name": "stdout",
     "output_type": "stream",
     "text": [
      "single positional indexer is out-of-bounds\n",
      "single positional indexer is out-of-bounds\n",
      "single positional indexer is out-of-bounds"
     ]
    },
    {
     "name": "stderr",
     "output_type": "stream",
     "text": [
      "100%|████████████████████████████████████████████████████████████████████████████████████████████████████████████████████████████████| 505/505 [00:01<00:00, 360.89it/s]\n",
      " 38%|██████████████████████████████████████████████████▊                                                                                 | 5/13 [00:26<00:44,  5.51s/it]"
     ]
    },
    {
     "name": "stdout",
     "output_type": "stream",
     "text": [
      "\n",
      "single positional indexer is out-of-bounds\n",
      "single positional indexer is out-of-bounds\n",
      "single positional indexer is out-of-bounds\n",
      "single positional indexer is out-of-bounds\n",
      "single positional indexer is out-of-bounds\n"
     ]
    },
    {
     "name": "stderr",
     "output_type": "stream",
     "text": [
      "\n",
      "  0%|                                                                                                                                           | 0/505 [00:00<?, ?it/s]\u001b[A"
     ]
    },
    {
     "name": "stdout",
     "output_type": "stream",
     "text": [
      "single positional indexer is out-of-bounds\n"
     ]
    },
    {
     "name": "stderr",
     "output_type": "stream",
     "text": [
      "\n",
      "  8%|█████████▉                                                                                                                       | 39/505 [00:00<00:01, 389.91it/s]\u001b[A"
     ]
    },
    {
     "name": "stdout",
     "output_type": "stream",
     "text": [
      "single positional indexer is out-of-bounds\n",
      "single positional indexer is out-of-bounds"
     ]
    },
    {
     "name": "stderr",
     "output_type": "stream",
     "text": [
      "\n",
      " 15%|███████████████████▉                                                                                                             | 78/505 [00:00<00:01, 385.38it/s]\u001b[A"
     ]
    },
    {
     "name": "stdout",
     "output_type": "stream",
     "text": [
      "\n",
      "single positional indexer is out-of-bounds\n",
      "single positional indexer is out-of-bounds\n",
      "single positional indexer is out-of-bounds\n",
      "single positional indexer is out-of-bounds\n",
      "single positional indexer is out-of-bounds\n"
     ]
    },
    {
     "name": "stderr",
     "output_type": "stream",
     "text": [
      "\n",
      " 23%|█████████████████████████████▋                                                                                                  | 117/505 [00:00<00:01, 387.44it/s]\u001b[A"
     ]
    },
    {
     "name": "stdout",
     "output_type": "stream",
     "text": [
      "single positional indexer is out-of-bounds\n",
      "single positional indexer is out-of-bounds\n"
     ]
    },
    {
     "name": "stderr",
     "output_type": "stream",
     "text": [
      "\n",
      " 31%|███████████████████████████████████████▌                                                                                        | 156/505 [00:00<00:00, 382.37it/s]\u001b[A"
     ]
    },
    {
     "name": "stdout",
     "output_type": "stream",
     "text": [
      "single positional indexer is out-of-bounds\n",
      "single positional indexer is out-of-bounds\n",
      "single positional indexer is out-of-bounds\n",
      "single positional indexer is out-of-bounds\n"
     ]
    },
    {
     "name": "stderr",
     "output_type": "stream",
     "text": [
      "\n",
      " 39%|█████████████████████████████████████████████████▍                                                                              | 195/505 [00:00<00:00, 385.06it/s]\u001b[A"
     ]
    },
    {
     "name": "stdout",
     "output_type": "stream",
     "text": [
      "single positional indexer is out-of-bounds\n",
      "single positional indexer is out-of-bounds\n",
      "single positional indexer is out-of-bounds\n",
      "single positional indexer is out-of-bounds"
     ]
    },
    {
     "name": "stderr",
     "output_type": "stream",
     "text": [
      "\n",
      " 47%|███████████████████████████████████████████████████████████▌                                                                    | 235/505 [00:00<00:00, 390.06it/s]\u001b[A"
     ]
    },
    {
     "name": "stdout",
     "output_type": "stream",
     "text": [
      "\n",
      "single positional indexer is out-of-bounds\n",
      "single positional indexer is out-of-bounds\n",
      "single positional indexer is out-of-bounds"
     ]
    },
    {
     "name": "stderr",
     "output_type": "stream",
     "text": [
      "\n",
      " 54%|█████████████████████████████████████████████████████████████████████▋                                                          | 275/505 [00:00<00:00, 389.47it/s]\u001b[A"
     ]
    },
    {
     "name": "stdout",
     "output_type": "stream",
     "text": [
      "\n",
      "single positional indexer is out-of-bounds\n",
      "single positional indexer is out-of-bounds\n",
      "single positional indexer is out-of-bounds\n"
     ]
    },
    {
     "name": "stderr",
     "output_type": "stream",
     "text": [
      "\n",
      " 62%|███████████████████████████████████████████████████████████████████████████████▌                                                | 314/505 [00:00<00:00, 386.56it/s]\u001b[A\n"
     ]
    },
    {
     "name": "stdout",
     "output_type": "stream",
     "text": [
      "single positional indexer is out-of-bounds\n"
     ]
    },
    {
     "name": "stderr",
     "output_type": "stream",
     "text": [
      " 70%|█████████████████████████████████████████████████████████████████████████████████████████▍                                      | 353/505 [00:00<00:00, 386.40it/s]\u001b[A"
     ]
    },
    {
     "name": "stdout",
     "output_type": "stream",
     "text": [
      "single positional indexer is out-of-bounds\n",
      "single positional indexer is out-of-bounds\n",
      "single positional indexer is out-of-bounds\n",
      "single positional indexer is out-of-bounds\n",
      "single positional indexer is out-of-bounds"
     ]
    },
    {
     "name": "stderr",
     "output_type": "stream",
     "text": [
      "\n",
      " 78%|███████████████████████████████████████████████████████████████████████████████████████████████████▎                            | 392/505 [00:01<00:00, 381.65it/s]\u001b[A"
     ]
    },
    {
     "name": "stdout",
     "output_type": "stream",
     "text": [
      "\n",
      "single positional indexer is out-of-bounds"
     ]
    },
    {
     "name": "stderr",
     "output_type": "stream",
     "text": [
      "\n",
      " 85%|█████████████████████████████████████████████████████████████████████████████████████████████████████████████▏                  | 431/505 [00:01<00:00, 376.22it/s]\u001b[A"
     ]
    },
    {
     "name": "stdout",
     "output_type": "stream",
     "text": [
      "\n",
      "single positional indexer is out-of-bounds"
     ]
    },
    {
     "name": "stderr",
     "output_type": "stream",
     "text": [
      "\n",
      " 93%|██████████████████████████████████████████████████████████████████████████████████████████████████████████████████████▉         | 469/505 [00:01<00:00, 373.99it/s]\u001b[A"
     ]
    },
    {
     "name": "stdout",
     "output_type": "stream",
     "text": [
      "\n",
      "single positional indexer is out-of-bounds\n",
      "single positional indexer is out-of-bounds\n",
      "single positional indexer is out-of-bounds\n",
      "single positional indexer is out-of-bounds"
     ]
    },
    {
     "name": "stderr",
     "output_type": "stream",
     "text": [
      "100%|████████████████████████████████████████████████████████████████████████████████████████████████████████████████████████████████| 505/505 [00:01<00:00, 381.18it/s]\n"
     ]
    },
    {
     "name": "stdout",
     "output_type": "stream",
     "text": [
      "\n",
      "single positional indexer is out-of-bounds\n",
      "single positional indexer is out-of-bounds\n",
      "single positional indexer is out-of-bounds\n",
      "single positional indexer is out-of-bounds\n"
     ]
    },
    {
     "name": "stderr",
     "output_type": "stream",
     "text": [
      "\n",
      "  0%|                                                                                                                                           | 0/505 [00:00<?, ?it/s]\u001b[A"
     ]
    },
    {
     "name": "stdout",
     "output_type": "stream",
     "text": [
      "single positional indexer is out-of-bounds"
     ]
    },
    {
     "name": "stderr",
     "output_type": "stream",
     "text": [
      "\n",
      "  7%|████████▉                                                                                                                        | 35/505 [00:00<00:01, 349.92it/s]\u001b[A"
     ]
    },
    {
     "name": "stdout",
     "output_type": "stream",
     "text": [
      "\n",
      "single positional indexer is out-of-bounds"
     ]
    },
    {
     "name": "stderr",
     "output_type": "stream",
     "text": [
      "\n",
      " 14%|██████████████████▏                                                                                                              | 71/505 [00:00<00:01, 355.81it/s]\u001b[A"
     ]
    },
    {
     "name": "stdout",
     "output_type": "stream",
     "text": [
      "\n",
      "single positional indexer is out-of-bounds\n",
      "single positional indexer is out-of-bounds\n",
      "single positional indexer is out-of-bounds\n",
      "single positional indexer is out-of-bounds\n",
      "single positional indexer is out-of-bounds\n"
     ]
    },
    {
     "name": "stderr",
     "output_type": "stream",
     "text": [
      "\n",
      " 21%|███████████████████████████                                                                                                     | 107/505 [00:00<00:01, 357.68it/s]\u001b[A"
     ]
    },
    {
     "name": "stdout",
     "output_type": "stream",
     "text": [
      "single positional indexer is out-of-bounds\n",
      "single positional indexer is out-of-bounds"
     ]
    },
    {
     "name": "stderr",
     "output_type": "stream",
     "text": [
      "\n",
      " 28%|████████████████████████████████████▏                                                                                           | 143/505 [00:00<00:01, 357.16it/s]\u001b[A"
     ]
    },
    {
     "name": "stdout",
     "output_type": "stream",
     "text": [
      "\n",
      "single positional indexer is out-of-bounds\n",
      "single positional indexer is out-of-bounds\n",
      "single positional indexer is out-of-bounds\n",
      "single positional indexer is out-of-bounds\n"
     ]
    },
    {
     "name": "stderr",
     "output_type": "stream",
     "text": [
      "\n",
      " 36%|██████████████████████████████████████████████▏                                                                                 | 182/505 [00:00<00:00, 366.30it/s]\u001b[A"
     ]
    },
    {
     "name": "stdout",
     "output_type": "stream",
     "text": [
      "single positional indexer is out-of-bounds\n",
      "single positional indexer is out-of-bounds\n",
      "single positional indexer is out-of-bounds\n"
     ]
    },
    {
     "name": "stderr",
     "output_type": "stream",
     "text": [
      "\n",
      " 43%|███████████████████████████████████████████████████████▌                                                                        | 219/505 [00:00<00:00, 367.52it/s]\u001b[A\n",
      " 51%|█████████████████████████████████████████████████████████████████▍                                                              | 258/505 [00:00<00:00, 372.39it/s]\u001b[A"
     ]
    },
    {
     "name": "stdout",
     "output_type": "stream",
     "text": [
      "single positional indexer is out-of-bounds\n",
      "single positional indexer is out-of-bounds\n",
      "single positional indexer is out-of-bounds"
     ]
    },
    {
     "name": "stderr",
     "output_type": "stream",
     "text": [
      "\n",
      " 59%|███████████████████████████████████████████████████████████████████████████                                                     | 296/505 [00:00<00:00, 372.41it/s]\u001b[A"
     ]
    },
    {
     "name": "stdout",
     "output_type": "stream",
     "text": [
      "\n",
      "single positional indexer is out-of-bounds\n",
      "single positional indexer is out-of-bounds\n",
      "single positional indexer is out-of-bounds\n"
     ]
    },
    {
     "name": "stderr",
     "output_type": "stream",
     "text": [
      "\n",
      " 66%|████████████████████████████████████████████████████████████████████████████████████▋                                           | 334/505 [00:00<00:00, 374.74it/s]\u001b[A"
     ]
    },
    {
     "name": "stdout",
     "output_type": "stream",
     "text": [
      "single positional indexer is out-of-bounds\n"
     ]
    },
    {
     "name": "stderr",
     "output_type": "stream",
     "text": [
      "\n",
      " 74%|██████████████████████████████████████████████████████████████████████████████████████████████▎                                 | 372/505 [00:01<00:00, 368.41it/s]\u001b[A"
     ]
    },
    {
     "name": "stdout",
     "output_type": "stream",
     "text": [
      "single positional indexer is out-of-bounds\n",
      "single positional indexer is out-of-bounds\n",
      "single positional indexer is out-of-bounds\n",
      "single positional indexer is out-of-bounds"
     ]
    },
    {
     "name": "stderr",
     "output_type": "stream",
     "text": [
      "\n",
      " 81%|███████████████████████████████████████████████████████████████████████████████████████████████████████▋                        | 409/505 [00:01<00:00, 364.49it/s]\u001b[A"
     ]
    },
    {
     "name": "stdout",
     "output_type": "stream",
     "text": [
      "\n",
      "single positional indexer is out-of-bounds"
     ]
    },
    {
     "name": "stderr",
     "output_type": "stream",
     "text": [
      "\n",
      " 88%|█████████████████████████████████████████████████████████████████████████████████████████████████████████████████               | 446/505 [00:01<00:00, 359.68it/s]\u001b[A"
     ]
    },
    {
     "name": "stdout",
     "output_type": "stream",
     "text": [
      "\n",
      "single positional indexer is out-of-bounds\n"
     ]
    },
    {
     "name": "stderr",
     "output_type": "stream",
     "text": [
      "\n",
      " 95%|██████████████████████████████████████████████████████████████████████████████████████████████████████████████████████████▏     | 482/505 [00:01<00:00, 356.59it/s]\u001b[A"
     ]
    },
    {
     "name": "stdout",
     "output_type": "stream",
     "text": [
      "single positional indexer is out-of-bounds\n",
      "single positional indexer is out-of-bounds\n",
      "single positional indexer is out-of-bounds\n",
      "single positional indexer is out-of-bounds"
     ]
    },
    {
     "name": "stderr",
     "output_type": "stream",
     "text": [
      "100%|████████████████████████████████████████████████████████████████████████████████████████████████████████████████████████████████| 505/505 [00:01<00:00, 363.23it/s]\n"
     ]
    },
    {
     "name": "stdout",
     "output_type": "stream",
     "text": [
      "\n",
      "single positional indexer is out-of-bounds\n",
      "single positional indexer is out-of-bounds\n",
      "single positional indexer is out-of-bounds\n",
      "single positional indexer is out-of-bounds\n"
     ]
    },
    {
     "name": "stderr",
     "output_type": "stream",
     "text": [
      "\n",
      "  0%|                                                                                                                                           | 0/505 [00:00<?, ?it/s]\u001b[A"
     ]
    },
    {
     "name": "stdout",
     "output_type": "stream",
     "text": [
      "single positional indexer is out-of-bounds\n"
     ]
    },
    {
     "name": "stderr",
     "output_type": "stream",
     "text": [
      "\n",
      "  7%|█████████▏                                                                                                                       | 36/505 [00:00<00:01, 356.36it/s]\u001b[A"
     ]
    },
    {
     "name": "stdout",
     "output_type": "stream",
     "text": [
      "single positional indexer is out-of-bounds"
     ]
    },
    {
     "name": "stderr",
     "output_type": "stream",
     "text": [
      "\n",
      " 14%|██████████████████▍                                                                                                              | 72/505 [00:00<00:01, 354.29it/s]\u001b[A"
     ]
    },
    {
     "name": "stdout",
     "output_type": "stream",
     "text": [
      "\n",
      "single positional indexer is out-of-bounds\n",
      "single positional indexer is out-of-bounds\n",
      "single positional indexer is out-of-bounds"
     ]
    },
    {
     "name": "stderr",
     "output_type": "stream",
     "text": [
      "\n",
      " 21%|███████████████████████████▎                                                                                                    | 108/505 [00:00<00:01, 352.06it/s]\u001b[A"
     ]
    },
    {
     "name": "stdout",
     "output_type": "stream",
     "text": [
      "\n",
      "single positional indexer is out-of-bounds"
     ]
    },
    {
     "name": "stderr",
     "output_type": "stream",
     "text": [
      "\n",
      " 29%|████████████████████████████████████▍                                                                                           | 144/505 [00:00<00:01, 351.02it/s]\u001b[A"
     ]
    },
    {
     "name": "stdout",
     "output_type": "stream",
     "text": [
      "\n",
      "single positional indexer is out-of-bounds"
     ]
    },
    {
     "name": "stderr",
     "output_type": "stream",
     "text": [
      "\n",
      " 36%|█████████████████████████████████████████████▉                                                                                  | 181/505 [00:00<00:00, 357.73it/s]\u001b[A"
     ]
    },
    {
     "name": "stdout",
     "output_type": "stream",
     "text": [
      "\n",
      "single positional indexer is out-of-bounds\n",
      "single positional indexer is out-of-bounds\n",
      "single positional indexer is out-of-bounds\n",
      "single positional indexer is out-of-bounds"
     ]
    },
    {
     "name": "stderr",
     "output_type": "stream",
     "text": [
      "\n",
      " 43%|███████████████████████████████████████████████████████▎                                                                        | 218/505 [00:00<00:00, 360.61it/s]\u001b[A"
     ]
    },
    {
     "name": "stdout",
     "output_type": "stream",
     "text": [
      "\n",
      "single positional indexer is out-of-bounds\n",
      "single positional indexer is out-of-bounds\n"
     ]
    },
    {
     "name": "stderr",
     "output_type": "stream",
     "text": [
      "\n",
      " 50%|████████████████████████████████████████████████████████████████▋                                                               | 255/505 [00:00<00:00, 361.29it/s]\u001b[A"
     ]
    },
    {
     "name": "stdout",
     "output_type": "stream",
     "text": [
      "single positional indexer is out-of-bounds\n",
      "single positional indexer is out-of-bounds\n",
      "single positional indexer is out-of-bounds"
     ]
    },
    {
     "name": "stderr",
     "output_type": "stream",
     "text": [
      "\n",
      " 58%|██████████████████████████████████████████████████████████████████████████                                                      | 292/505 [00:00<00:00, 360.60it/s]\u001b[A"
     ]
    },
    {
     "name": "stdout",
     "output_type": "stream",
     "text": [
      "\n",
      "single positional indexer is out-of-bounds\n",
      "single positional indexer is out-of-bounds\n",
      "single positional indexer is out-of-bounds\n"
     ]
    },
    {
     "name": "stderr",
     "output_type": "stream",
     "text": [
      "\n",
      " 65%|███████████████████████████████████████████████████████████████████████████████████▍                                            | 329/505 [00:00<00:00, 361.24it/s]\u001b[A"
     ]
    },
    {
     "name": "stdout",
     "output_type": "stream",
     "text": [
      "single positional indexer is out-of-bounds\n"
     ]
    },
    {
     "name": "stderr",
     "output_type": "stream",
     "text": [
      "\n",
      " 72%|████████████████████████████████████████████████████████████████████████████████████████████▊                                   | 366/505 [00:01<00:00, 360.59it/s]\u001b[A"
     ]
    },
    {
     "name": "stdout",
     "output_type": "stream",
     "text": [
      "single positional indexer is out-of-bounds\n",
      "single positional indexer is out-of-bounds\n",
      "single positional indexer is out-of-bounds\n",
      "single positional indexer is out-of-bounds"
     ]
    },
    {
     "name": "stderr",
     "output_type": "stream",
     "text": [
      "\n",
      " 80%|██████████████████████████████████████████████████████████████████████████████████████████████████████▏                         | 403/505 [00:01<00:00, 363.40it/s]\u001b[A"
     ]
    },
    {
     "name": "stdout",
     "output_type": "stream",
     "text": [
      "\n"
     ]
    },
    {
     "name": "stderr",
     "output_type": "stream",
     "text": [
      "\n",
      " 87%|███████████████████████████████████████████████████████████████████████████████████████████████████████████████▌                | 440/505 [00:01<00:00, 362.09it/s]\u001b[A"
     ]
    },
    {
     "name": "stdout",
     "output_type": "stream",
     "text": [
      "single positional indexer is out-of-bounds\n"
     ]
    },
    {
     "name": "stderr",
     "output_type": "stream",
     "text": [
      "\n",
      "100%|████████████████████████████████████████████████████████████████████████████████████████████████████████████████████████████████| 505/505 [00:01<00:00, 360.63it/s]\u001b[A\n"
     ]
    },
    {
     "name": "stdout",
     "output_type": "stream",
     "text": [
      "single positional indexer is out-of-bounds\n",
      "single positional indexer is out-of-bounds\n",
      "single positional indexer is out-of-bounds\n",
      "single positional indexer is out-of-bounds\n",
      "single positional indexer is out-of-bounds\n",
      "single positional indexer is out-of-bounds\n",
      "single positional indexer is out-of-bounds\n",
      "single positional indexer is out-of-bounds\n"
     ]
    },
    {
     "name": "stderr",
     "output_type": "stream",
     "text": [
      "\n",
      "  0%|                                                                                                                                           | 0/505 [00:00<?, ?it/s]\u001b[A"
     ]
    },
    {
     "name": "stdout",
     "output_type": "stream",
     "text": [
      "single positional indexer is out-of-bounds\n"
     ]
    },
    {
     "name": "stderr",
     "output_type": "stream",
     "text": [
      "\n",
      "  7%|████████▉                                                                                                                        | 35/505 [00:00<00:01, 349.92it/s]\u001b[A\n",
      " 14%|██████████████████▋                                                                                                              | 73/505 [00:00<00:01, 365.42it/s]\u001b[A"
     ]
    },
    {
     "name": "stdout",
     "output_type": "stream",
     "text": [
      "single positional indexer is out-of-bounds\n",
      "single positional indexer is out-of-bounds\n",
      "single positional indexer is out-of-bounds\n",
      "single positional indexer is out-of-bounds\n"
     ]
    },
    {
     "name": "stderr",
     "output_type": "stream",
     "text": [
      "\n",
      " 22%|███████████████████████████▉                                                                                                    | 110/505 [00:00<00:01, 362.51it/s]\u001b[A"
     ]
    },
    {
     "name": "stdout",
     "output_type": "stream",
     "text": [
      "single positional indexer is out-of-bounds"
     ]
    },
    {
     "name": "stderr",
     "output_type": "stream",
     "text": [
      "\n",
      " 29%|█████████████████████████████████████▎                                                                                          | 147/505 [00:00<00:00, 363.99it/s]\u001b[A\n",
      " 36%|██████████████████████████████████████████████▋                                                                                 | 184/505 [00:00<00:00, 363.51it/s]\u001b[A"
     ]
    },
    {
     "name": "stdout",
     "output_type": "stream",
     "text": [
      "\n",
      "single positional indexer is out-of-bounds\n",
      "single positional indexer is out-of-bounds\n",
      "single positional indexer is out-of-bounds\n",
      "single positional indexer is out-of-bounds\n",
      "single positional indexer is out-of-bounds"
     ]
    },
    {
     "name": "stderr",
     "output_type": "stream",
     "text": [
      "\n",
      " 44%|████████████████████████████████████████████████████████                                                                        | 221/505 [00:00<00:00, 355.42it/s]\u001b[A\n",
      " 51%|█████████████████████████████████████████████████████████████████▏                                                              | 257/505 [00:00<00:00, 355.72it/s]\u001b[A"
     ]
    },
    {
     "name": "stdout",
     "output_type": "stream",
     "text": [
      "\n",
      "single positional indexer is out-of-bounds\n",
      "single positional indexer is out-of-bounds\n",
      "single positional indexer is out-of-bounds\n",
      "single positional indexer is out-of-bounds\n",
      "single positional indexer is out-of-bounds"
     ]
    },
    {
     "name": "stderr",
     "output_type": "stream",
     "text": [
      "\n",
      " 58%|██████████████████████████████████████████████████████████████████████████▌                                                     | 294/505 [00:00<00:00, 357.92it/s]\u001b[A\n",
      " 66%|███████████████████████████████████████████████████████████████████████████████████▉                                            | 331/505 [00:00<00:00, 361.60it/s]\u001b[A"
     ]
    },
    {
     "name": "stdout",
     "output_type": "stream",
     "text": [
      "\n",
      "single positional indexer is out-of-bounds\n",
      "single positional indexer is out-of-bounds\n",
      "single positional indexer is out-of-bounds\n"
     ]
    },
    {
     "name": "stderr",
     "output_type": "stream",
     "text": [
      "\n",
      " 73%|█████████████████████████████████████████████████████████████████████████████████████████████▎                                  | 368/505 [00:01<00:00, 364.14it/s]\u001b[A\n",
      " 80%|██████████████████████████████████████████████████████████████████████████████████████████████████████▋                         | 405/505 [00:01<00:00, 362.59it/s]\u001b[A"
     ]
    },
    {
     "name": "stdout",
     "output_type": "stream",
     "text": [
      "single positional indexer is out-of-bounds\n",
      "single positional indexer is out-of-bounds\n",
      "single positional indexer is out-of-bounds\n",
      "single positional indexer is out-of-bounds\n"
     ]
    },
    {
     "name": "stderr",
     "output_type": "stream",
     "text": [
      "\n",
      " 88%|████████████████████████████████████████████████████████████████████████████████████████████████████████████████                | 442/505 [00:01<00:00, 361.53it/s]\u001b[A\n",
      "100%|████████████████████████████████████████████████████████████████████████████████████████████████████████████████████████████████| 505/505 [00:01<00:00, 359.21it/s]\u001b[A\n",
      " 46%|████████████████████████████████████████████████████████████▉                                                                       | 6/13 [00:32<00:38,  5.53s/it]"
     ]
    },
    {
     "name": "stdout",
     "output_type": "stream",
     "text": [
      "single positional indexer is out-of-bounds\n",
      "single positional indexer is out-of-bounds\n",
      "single positional indexer is out-of-bounds\n",
      "single positional indexer is out-of-bounds\n",
      "single positional indexer is out-of-bounds\n",
      "single positional indexer is out-of-bounds\n",
      "single positional indexer is out-of-bounds\n",
      "single positional indexer is out-of-bounds\n",
      "single positional indexer is out-of-bounds\n"
     ]
    },
    {
     "name": "stderr",
     "output_type": "stream",
     "text": [
      "\n",
      "  0%|                                                                                                                                           | 0/505 [00:00<?, ?it/s]\u001b[A\n",
      "  7%|█████████▏                                                                                                                       | 36/505 [00:00<00:01, 359.92it/s]\u001b[A\n",
      " 15%|██████████████████▉                                                                                                              | 74/505 [00:00<00:01, 369.51it/s]\u001b[A"
     ]
    },
    {
     "name": "stdout",
     "output_type": "stream",
     "text": [
      "single positional indexer is out-of-bounds\n",
      "single positional indexer is out-of-bounds\n",
      "single positional indexer is out-of-bounds\n",
      "single positional indexer is out-of-bounds\n",
      "single positional indexer is out-of-bounds\n"
     ]
    },
    {
     "name": "stderr",
     "output_type": "stream",
     "text": [
      "\n",
      " 22%|████████████████████████████▏                                                                                                   | 111/505 [00:00<00:01, 369.69it/s]\u001b[A\n",
      " 30%|█████████████████████████████████████▊                                                                                          | 149/505 [00:00<00:00, 372.25it/s]\u001b[A\n",
      " 37%|███████████████████████████████████████████████▍                                                                                | 187/505 [00:00<00:00, 372.33it/s]\u001b[A"
     ]
    },
    {
     "name": "stdout",
     "output_type": "stream",
     "text": [
      "single positional indexer is out-of-bounds\n",
      "single positional indexer is out-of-bounds\n",
      "single positional indexer is out-of-bounds\n",
      "single positional indexer is out-of-bounds\n",
      "single positional indexer is out-of-bounds\n",
      "single positional indexer is out-of-bounds"
     ]
    },
    {
     "name": "stderr",
     "output_type": "stream",
     "text": [
      "\n",
      " 45%|█████████████████████████████████████████████████████████                                                                       | 225/505 [00:00<00:00, 368.67it/s]\u001b[A\n",
      " 52%|██████████████████████████████████████████████████████████████████▍                                                             | 262/505 [00:00<00:00, 369.07it/s]\u001b[A"
     ]
    },
    {
     "name": "stdout",
     "output_type": "stream",
     "text": [
      "\n",
      "single positional indexer is out-of-bounds\n",
      "single positional indexer is out-of-bounds\n",
      "single positional indexer is out-of-bounds\n",
      "single positional indexer is out-of-bounds\n",
      "single positional indexer is out-of-bounds"
     ]
    },
    {
     "name": "stderr",
     "output_type": "stream",
     "text": [
      "\n",
      " 59%|████████████████████████████████████████████████████████████████████████████                                                    | 300/505 [00:00<00:00, 371.32it/s]\u001b[A\n",
      " 67%|█████████████████████████████████████████████████████████████████████████████████████▉                                          | 339/505 [00:00<00:00, 374.75it/s]\u001b[A"
     ]
    },
    {
     "name": "stdout",
     "output_type": "stream",
     "text": [
      "\n",
      "single positional indexer is out-of-bounds\n",
      "single positional indexer is out-of-bounds\n",
      "single positional indexer is out-of-bounds\n",
      "single positional indexer is out-of-bounds"
     ]
    },
    {
     "name": "stderr",
     "output_type": "stream",
     "text": [
      "\n",
      " 75%|███████████████████████████████████████████████████████████████████████████████████████████████▌                                | 377/505 [00:01<00:00, 376.33it/s]\u001b[A\n",
      " 82%|█████████████████████████████████████████████████████████████████████████████████████████████████████████▏                      | 415/505 [00:01<00:00, 377.42it/s]\u001b[A"
     ]
    },
    {
     "name": "stdout",
     "output_type": "stream",
     "text": [
      "\n",
      "single positional indexer is out-of-bounds\n",
      "single positional indexer is out-of-bounds\n"
     ]
    },
    {
     "name": "stderr",
     "output_type": "stream",
     "text": [
      "\n",
      " 90%|███████████████████████████████████████████████████████████████████████████████████████████████████████████████████             | 454/505 [00:01<00:00, 378.90it/s]\u001b[A\n",
      "100%|████████████████████████████████████████████████████████████████████████████████████████████████████████████████████████████████| 505/505 [00:01<00:00, 374.55it/s]\u001b[A\n"
     ]
    },
    {
     "name": "stdout",
     "output_type": "stream",
     "text": [
      "single positional indexer is out-of-bounds\n",
      "single positional indexer is out-of-bounds\n",
      "single positional indexer is out-of-bounds\n",
      "single positional indexer is out-of-bounds\n",
      "single positional indexer is out-of-bounds\n",
      "single positional indexer is out-of-bounds\n",
      "single positional indexer is out-of-bounds\n",
      "single positional indexer is out-of-bounds\n",
      "single positional indexer is out-of-bounds\n"
     ]
    },
    {
     "name": "stderr",
     "output_type": "stream",
     "text": [
      "\n",
      "  0%|                                                                                                                                           | 0/505 [00:00<?, ?it/s]\u001b[A\n",
      "  7%|█████████▏                                                                                                                       | 36/505 [00:00<00:01, 356.36it/s]\u001b[A\n",
      " 14%|██████████████████▋                                                                                                              | 73/505 [00:00<00:01, 362.18it/s]\u001b[A"
     ]
    },
    {
     "name": "stdout",
     "output_type": "stream",
     "text": [
      "single positional indexer is out-of-bounds\n",
      "single positional indexer is out-of-bounds\n",
      "single positional indexer is out-of-bounds\n",
      "single positional indexer is out-of-bounds\n",
      "single positional indexer is out-of-bounds\n"
     ]
    },
    {
     "name": "stderr",
     "output_type": "stream",
     "text": [
      "\n",
      " 22%|███████████████████████████▉                                                                                                    | 110/505 [00:00<00:01, 365.69it/s]\u001b[A\n",
      " 29%|█████████████████████████████████████▌                                                                                          | 148/505 [00:00<00:00, 369.83it/s]\u001b[A"
     ]
    },
    {
     "name": "stdout",
     "output_type": "stream",
     "text": [
      "single positional indexer is out-of-bounds\n",
      "single positional indexer is out-of-bounds\n",
      "single positional indexer is out-of-bounds"
     ]
    },
    {
     "name": "stderr",
     "output_type": "stream",
     "text": [
      "\n",
      " 37%|███████████████████████████████████████████████▏                                                                                | 186/505 [00:00<00:00, 372.12it/s]\u001b[A\n",
      " 44%|████████████████████████████████████████████████████████▊                                                                       | 224/505 [00:00<00:00, 373.49it/s]\u001b[A"
     ]
    },
    {
     "name": "stdout",
     "output_type": "stream",
     "text": [
      "\n",
      "single positional indexer is out-of-bounds\n",
      "single positional indexer is out-of-bounds\n",
      "single positional indexer is out-of-bounds\n",
      "single positional indexer is out-of-bounds\n"
     ]
    },
    {
     "name": "stderr",
     "output_type": "stream",
     "text": [
      "\n",
      " 52%|██████████████████████████████████████████████████████████████████▍                                                             | 262/505 [00:00<00:00, 369.55it/s]\u001b[A\n"
     ]
    },
    {
     "name": "stdout",
     "output_type": "stream",
     "text": [
      "single positional indexer is out-of-bounds\n",
      "single positional indexer is out-of-bounds\n",
      "single positional indexer is out-of-bounds\n",
      "single positional indexer is out-of-bounds\n",
      "single positional indexer is out-of-bounds\n"
     ]
    },
    {
     "name": "stderr",
     "output_type": "stream",
     "text": [
      " 59%|████████████████████████████████████████████████████████████████████████████                                                    | 300/505 [00:00<00:00, 371.63it/s]\u001b[A\n",
      " 67%|█████████████████████████████████████████████████████████████████████████████████████▋                                          | 338/505 [00:00<00:00, 368.50it/s]\u001b[A\n",
      " 74%|███████████████████████████████████████████████████████████████████████████████████████████████▎                                | 376/505 [00:01<00:00, 369.72it/s]\u001b[A"
     ]
    },
    {
     "name": "stdout",
     "output_type": "stream",
     "text": [
      "single positional indexer is out-of-bounds\n",
      "single positional indexer is out-of-bounds\n",
      "single positional indexer is out-of-bounds\n",
      "single positional indexer is out-of-bounds\n"
     ]
    },
    {
     "name": "stderr",
     "output_type": "stream",
     "text": [
      "\n",
      " 82%|████████████████████████████████████████████████████████████████████████████████████████████████████████▉                       | 414/505 [00:01<00:00, 371.67it/s]\u001b[A\n",
      " 90%|██████████████████████████████████████████████████████████████████████████████████████████████████████████████████▌             | 452/505 [00:01<00:00, 373.02it/s]\u001b[A\n",
      "100%|████████████████████████████████████████████████████████████████████████████████████████████████████████████████████████████████| 505/505 [00:01<00:00, 369.87it/s]\u001b[A\n"
     ]
    },
    {
     "name": "stdout",
     "output_type": "stream",
     "text": [
      "single positional indexer is out-of-bounds\n",
      "single positional indexer is out-of-bounds\n",
      "single positional indexer is out-of-bounds\n",
      "single positional indexer is out-of-bounds\n",
      "single positional indexer is out-of-bounds\n",
      "single positional indexer is out-of-bounds\n",
      "single positional indexer is out-of-bounds\n",
      "single positional indexer is out-of-bounds\n"
     ]
    },
    {
     "name": "stderr",
     "output_type": "stream",
     "text": [
      "\n",
      "  0%|                                                                                                                                           | 0/505 [00:00<?, ?it/s]\u001b[A\n",
      "  7%|█████████▍                                                                                                                       | 37/505 [00:00<00:01, 362.67it/s]\u001b[A\n",
      " 15%|██████████████████▉                                                                                                              | 74/505 [00:00<00:01, 362.66it/s]\u001b[A"
     ]
    },
    {
     "name": "stdout",
     "output_type": "stream",
     "text": [
      "single positional indexer is out-of-bounds\n",
      "single positional indexer is out-of-bounds\n",
      "single positional indexer is out-of-bounds\n",
      "single positional indexer is out-of-bounds\n",
      "single positional indexer is out-of-bounds\n"
     ]
    },
    {
     "name": "stderr",
     "output_type": "stream",
     "text": [
      "\n",
      " 22%|████████████████████████████▏                                                                                                   | 111/505 [00:00<00:01, 359.44it/s]\u001b[A\n",
      " 29%|█████████████████████████████████████▌                                                                                          | 148/505 [00:00<00:00, 363.51it/s]\u001b[A\n",
      " 37%|███████████████████████████████████████████████▏                                                                                | 186/505 [00:00<00:00, 368.05it/s]\u001b[A"
     ]
    },
    {
     "name": "stdout",
     "output_type": "stream",
     "text": [
      "single positional indexer is out-of-bounds\n",
      "single positional indexer is out-of-bounds\n",
      "single positional indexer is out-of-bounds\n",
      "single positional indexer is out-of-bounds\n",
      "single positional indexer is out-of-bounds"
     ]
    },
    {
     "name": "stderr",
     "output_type": "stream",
     "text": [
      "\n",
      " 44%|████████████████████████████████████████████████████████▌                                                                       | 223/505 [00:00<00:00, 366.21it/s]\u001b[A\n",
      " 52%|██████████████████████████████████████████████████████████████████▏                                                             | 261/505 [00:00<00:00, 369.45it/s]\u001b[A"
     ]
    },
    {
     "name": "stdout",
     "output_type": "stream",
     "text": [
      "\n",
      "single positional indexer is out-of-bounds\n",
      "single positional indexer is out-of-bounds\n",
      "single positional indexer is out-of-bounds\n",
      "single positional indexer is out-of-bounds\n"
     ]
    },
    {
     "name": "stderr",
     "output_type": "stream",
     "text": [
      "\n",
      " 59%|███████████████████████████████████████████████████████████████████████████▌                                                    | 298/505 [00:00<00:00, 367.28it/s]\u001b[A\n",
      " 66%|████████████████████████████████████████████████████████████████████████████████████▉                                           | 335/505 [00:00<00:00, 366.96it/s]\u001b[A"
     ]
    },
    {
     "name": "stdout",
     "output_type": "stream",
     "text": [
      "single positional indexer is out-of-bounds\n",
      "single positional indexer is out-of-bounds\n",
      "single positional indexer is out-of-bounds\n",
      "single positional indexer is out-of-bounds"
     ]
    },
    {
     "name": "stderr",
     "output_type": "stream",
     "text": [
      "\n",
      " 74%|██████████████████████████████████████████████████████████████████████████████████████████████▎                                 | 372/505 [00:01<00:00, 367.86it/s]\u001b[A\n",
      " 81%|███████████████████████████████████████████████████████████████████████████████████████████████████████▋                        | 409/505 [00:01<00:00, 367.37it/s]\u001b[A"
     ]
    },
    {
     "name": "stdout",
     "output_type": "stream",
     "text": [
      "\n",
      "single positional indexer is out-of-bounds\n"
     ]
    },
    {
     "name": "stderr",
     "output_type": "stream",
     "text": [
      "\n",
      " 88%|█████████████████████████████████████████████████████████████████████████████████████████████████████████████████               | 446/505 [00:01<00:00, 362.66it/s]\u001b[A\n",
      "100%|████████████████████████████████████████████████████████████████████████████████████████████████████████████████████████████████| 505/505 [00:01<00:00, 362.71it/s]\u001b[A\n"
     ]
    },
    {
     "name": "stdout",
     "output_type": "stream",
     "text": [
      "single positional indexer is out-of-bounds\n",
      "single positional indexer is out-of-bounds\n",
      "single positional indexer is out-of-bounds\n",
      "single positional indexer is out-of-bounds\n",
      "single positional indexer is out-of-bounds\n",
      "single positional indexer is out-of-bounds\n",
      "single positional indexer is out-of-bounds\n",
      "single positional indexer is out-of-bounds\n"
     ]
    },
    {
     "name": "stderr",
     "output_type": "stream",
     "text": [
      "\n",
      "  0%|                                                                                                                                           | 0/505 [00:00<?, ?it/s]\u001b[A\n",
      "  7%|█████████▏                                                                                                                       | 36/505 [00:00<00:01, 359.92it/s]\u001b[A\n",
      " 14%|██████████████████▋                                                                                                              | 73/505 [00:00<00:01, 365.80it/s]\u001b[A"
     ]
    },
    {
     "name": "stdout",
     "output_type": "stream",
     "text": [
      "single positional indexer is out-of-bounds\n",
      "single positional indexer is out-of-bounds\n",
      "single positional indexer is out-of-bounds\n",
      "single positional indexer is out-of-bounds\n",
      "single positional indexer is out-of-bounds\n"
     ]
    },
    {
     "name": "stderr",
     "output_type": "stream",
     "text": [
      "\n",
      " 22%|███████████████████████████▉                                                                                                    | 110/505 [00:00<00:01, 361.09it/s]\u001b[A\n",
      " 29%|█████████████████████████████████████▎                                                                                          | 147/505 [00:00<00:00, 358.93it/s]\u001b[A\n",
      " 36%|██████████████████████████████████████████████▍                                                                                 | 183/505 [00:00<00:00, 359.28it/s]\u001b[A"
     ]
    },
    {
     "name": "stdout",
     "output_type": "stream",
     "text": [
      "single positional indexer is out-of-bounds\n",
      "single positional indexer is out-of-bounds\n",
      "single positional indexer is out-of-bounds\n",
      "single positional indexer is out-of-bounds\n"
     ]
    },
    {
     "name": "stderr",
     "output_type": "stream",
     "text": [
      "\n",
      " 43%|███████████████████████████████████████████████████████▌                                                                        | 219/505 [00:00<00:00, 350.08it/s]\u001b[A\n",
      " 50%|████████████████████████████████████████████████████████████████▋                                                               | 255/505 [00:00<00:00, 352.09it/s]\u001b[A"
     ]
    },
    {
     "name": "stdout",
     "output_type": "stream",
     "text": [
      "single positional indexer is out-of-bounds\n",
      "single positional indexer is out-of-bounds\n",
      "single positional indexer is out-of-bounds\n",
      "single positional indexer is out-of-bounds\n"
     ]
    },
    {
     "name": "stderr",
     "output_type": "stream",
     "text": [
      "\n",
      " 58%|█████████████████████████████████████████████████████████████████████████▊                                                      | 291/505 [00:00<00:00, 353.43it/s]\u001b[A\n",
      " 65%|███████████████████████████████████████████████████████████████████████████████████▍                                            | 329/505 [00:00<00:00, 359.37it/s]\u001b[A"
     ]
    },
    {
     "name": "stdout",
     "output_type": "stream",
     "text": [
      "single positional indexer is out-of-bounds\n",
      "single positional indexer is out-of-bounds\n",
      "single positional indexer is out-of-bounds\n"
     ]
    },
    {
     "name": "stderr",
     "output_type": "stream",
     "text": [
      "\n",
      " 72%|████████████████████████████████████████████████████████████████████████████████████████████▊                                   | 366/505 [00:01<00:00, 362.58it/s]\u001b[A\n",
      " 80%|██████████████████████████████████████████████████████████████████████████████████████████████████████▏                         | 403/505 [00:01<00:00, 362.60it/s]\u001b[A"
     ]
    },
    {
     "name": "stdout",
     "output_type": "stream",
     "text": [
      "single positional indexer is out-of-bounds\n",
      "single positional indexer is out-of-bounds\n"
     ]
    },
    {
     "name": "stderr",
     "output_type": "stream",
     "text": [
      "\n",
      " 87%|███████████████████████████████████████████████████████████████████████████████████████████████████████████████▌                | 440/505 [00:01<00:00, 363.71it/s]\u001b[A\n",
      "100%|████████████████████████████████████████████████████████████████████████████████████████████████████████████████████████████████| 505/505 [00:01<00:00, 360.12it/s]\u001b[A\n",
      " 54%|███████████████████████████████████████████████████████████████████████                                                             | 7/13 [00:38<00:33,  5.55s/it]"
     ]
    },
    {
     "name": "stdout",
     "output_type": "stream",
     "text": [
      "single positional indexer is out-of-bounds\n",
      "single positional indexer is out-of-bounds\n",
      "single positional indexer is out-of-bounds\n",
      "single positional indexer is out-of-bounds\n",
      "single positional indexer is out-of-bounds\n",
      "single positional indexer is out-of-bounds\n",
      "single positional indexer is out-of-bounds\n",
      "single positional indexer is out-of-bounds\n"
     ]
    },
    {
     "name": "stderr",
     "output_type": "stream",
     "text": [
      "\n",
      "  0%|                                                                                                                                           | 0/505 [00:00<?, ?it/s]\u001b[A\n",
      "  8%|█████████▋                                                                                                                       | 38/505 [00:00<00:01, 376.15it/s]\u001b[A\n",
      " 15%|███████████████████▍                                                                                                             | 76/505 [00:00<00:01, 376.16it/s]\u001b[A"
     ]
    },
    {
     "name": "stdout",
     "output_type": "stream",
     "text": [
      "single positional indexer is out-of-bounds\n",
      "single positional indexer is out-of-bounds\n",
      "single positional indexer is out-of-bounds\n",
      "single positional indexer is out-of-bounds\n",
      "single positional indexer is out-of-bounds\n"
     ]
    },
    {
     "name": "stderr",
     "output_type": "stream",
     "text": [
      "\n",
      " 23%|████████████████████████████▉                                                                                                   | 114/505 [00:00<00:01, 376.15it/s]\u001b[A\n",
      " 30%|██████████████████████████████████████▊                                                                                         | 153/505 [00:00<00:00, 378.58it/s]\u001b[A\n",
      " 38%|████████████████████████████████████████████████▋                                                                               | 192/505 [00:00<00:00, 379.92it/s]\u001b[A"
     ]
    },
    {
     "name": "stdout",
     "output_type": "stream",
     "text": [
      "single positional indexer is out-of-bounds\n",
      "single positional indexer is out-of-bounds\n",
      "single positional indexer is out-of-bounds\n",
      "single positional indexer is out-of-bounds\n"
     ]
    },
    {
     "name": "stderr",
     "output_type": "stream",
     "text": [
      "\n",
      " 46%|██████████████████████████████████████████████████████████▌                                                                     | 231/505 [00:00<00:00, 381.99it/s]\u001b[A\n"
     ]
    },
    {
     "name": "stdout",
     "output_type": "stream",
     "text": [
      "single positional indexer is out-of-bounds\n",
      "single positional indexer is out-of-bounds\n",
      "single positional indexer is out-of-bounds\n",
      "single positional indexer is out-of-bounds\n"
     ]
    },
    {
     "name": "stderr",
     "output_type": "stream",
     "text": [
      " 53%|████████████████████████████████████████████████████████████████████▍                                                           | 270/505 [00:00<00:00, 382.08it/s]\u001b[A\n",
      " 61%|██████████████████████████████████████████████████████████████████████████████▎                                                 | 309/505 [00:00<00:00, 383.34it/s]\u001b[A\n",
      " 69%|████████████████████████████████████████████████████████████████████████████████████████▏                                       | 348/505 [00:00<00:00, 381.83it/s]\u001b[A"
     ]
    },
    {
     "name": "stdout",
     "output_type": "stream",
     "text": [
      "single positional indexer is out-of-bounds\n",
      "single positional indexer is out-of-bounds\n",
      "single positional indexer is out-of-bounds\n"
     ]
    },
    {
     "name": "stderr",
     "output_type": "stream",
     "text": [
      "\n",
      " 77%|██████████████████████████████████████████████████████████████████████████████████████████████████                              | 387/505 [00:01<00:00, 383.13it/s]\u001b[A\n"
     ]
    },
    {
     "name": "stdout",
     "output_type": "stream",
     "text": [
      "single positional indexer is out-of-bounds\n",
      "single positional indexer is out-of-bounds\n"
     ]
    },
    {
     "name": "stderr",
     "output_type": "stream",
     "text": [
      " 84%|███████████████████████████████████████████████████████████████████████████████████████████████████████████▉                    | 426/505 [00:01<00:00, 381.71it/s]\u001b[A\n",
      " 92%|█████████████████████████████████████████████████████████████████████████████████████████████████████████████████████▊          | 465/505 [00:01<00:00, 379.62it/s]\u001b[A\n",
      "100%|████████████████████████████████████████████████████████████████████████████████████████████████████████████████████████████████| 505/505 [00:01<00:00, 379.61it/s]\u001b[A\n"
     ]
    },
    {
     "name": "stdout",
     "output_type": "stream",
     "text": [
      "single positional indexer is out-of-bounds\n",
      "single positional indexer is out-of-bounds\n",
      "single positional indexer is out-of-bounds\n",
      "single positional indexer is out-of-bounds\n",
      "single positional indexer is out-of-bounds\n",
      "single positional indexer is out-of-bounds\n",
      "single positional indexer is out-of-bounds\n"
     ]
    },
    {
     "name": "stderr",
     "output_type": "stream",
     "text": [
      "\n",
      "  0%|                                                                                                                                           | 0/505 [00:00<?, ?it/s]\u001b[A"
     ]
    },
    {
     "name": "stdout",
     "output_type": "stream",
     "text": [
      "single positional indexer is out-of-bounds"
     ]
    },
    {
     "name": "stderr",
     "output_type": "stream",
     "text": [
      "\n",
      "  7%|█████████▏                                                                                                                       | 36/505 [00:00<00:01, 359.89it/s]\u001b[A\n",
      " 14%|██████████████████▋                                                                                                              | 73/505 [00:00<00:01, 364.05it/s]\u001b[A"
     ]
    },
    {
     "name": "stdout",
     "output_type": "stream",
     "text": [
      "\n",
      "single positional indexer is out-of-bounds\n",
      "single positional indexer is out-of-bounds\n",
      "single positional indexer is out-of-bounds\n",
      "single positional indexer is out-of-bounds\n"
     ]
    },
    {
     "name": "stderr",
     "output_type": "stream",
     "text": [
      "\n",
      " 22%|███████████████████████████▉                                                                                                    | 110/505 [00:00<00:01, 366.72it/s]\u001b[A\n",
      " 29%|█████████████████████████████████████▎                                                                                          | 147/505 [00:00<00:00, 367.98it/s]\u001b[A\n",
      " 36%|██████████████████████████████████████████████▋                                                                                 | 184/505 [00:00<00:00, 368.68it/s]\u001b[A"
     ]
    },
    {
     "name": "stdout",
     "output_type": "stream",
     "text": [
      "single positional indexer is out-of-bounds\n",
      "single positional indexer is out-of-bounds\n",
      "single positional indexer is out-of-bounds\n",
      "single positional indexer is out-of-bounds\n",
      "single positional indexer is out-of-bounds"
     ]
    },
    {
     "name": "stderr",
     "output_type": "stream",
     "text": [
      "\n",
      " 44%|████████████████████████████████████████████████████████                                                                        | 221/505 [00:00<00:00, 362.93it/s]\u001b[A\n",
      " 51%|█████████████████████████████████████████████████████████████████▍                                                              | 258/505 [00:00<00:00, 360.53it/s]\u001b[A"
     ]
    },
    {
     "name": "stdout",
     "output_type": "stream",
     "text": [
      "\n",
      "single positional indexer is out-of-bounds\n",
      "single positional indexer is out-of-bounds\n",
      "single positional indexer is out-of-bounds\n"
     ]
    },
    {
     "name": "stderr",
     "output_type": "stream",
     "text": [
      "\n",
      " 58%|██████████████████████████████████████████████████████████████████████████▊                                                     | 295/505 [00:00<00:00, 356.77it/s]\u001b[A\n",
      " 66%|███████████████████████████████████████████████████████████████████████████████████▉                                            | 331/505 [00:00<00:00, 357.73it/s]\u001b[A"
     ]
    },
    {
     "name": "stdout",
     "output_type": "stream",
     "text": [
      "single positional indexer is out-of-bounds\n",
      "single positional indexer is out-of-bounds\n",
      "single positional indexer is out-of-bounds\n",
      "single positional indexer is out-of-bounds"
     ]
    },
    {
     "name": "stderr",
     "output_type": "stream",
     "text": [
      "\n",
      " 73%|█████████████████████████████████████████████████████████████████████████████████████████████                                   | 367/505 [00:01<00:00, 357.31it/s]\u001b[A\n",
      " 80%|██████████████████████████████████████████████████████████████████████████████████████████████████████▍                         | 404/505 [00:01<00:00, 357.87it/s]\u001b[A"
     ]
    },
    {
     "name": "stdout",
     "output_type": "stream",
     "text": [
      "\n",
      "single positional indexer is out-of-bounds\n"
     ]
    },
    {
     "name": "stderr",
     "output_type": "stream",
     "text": [
      "\n",
      " 87%|███████████████████████████████████████████████████████████████████████████████████████████████████████████████▊                | 441/505 [00:01<00:00, 359.33it/s]\u001b[A\n",
      "100%|████████████████████████████████████████████████████████████████████████████████████████████████████████████████████████████████| 505/505 [00:01<00:00, 360.94it/s]\u001b[A\n"
     ]
    },
    {
     "name": "stdout",
     "output_type": "stream",
     "text": [
      "single positional indexer is out-of-bounds\n",
      "single positional indexer is out-of-bounds\n",
      "single positional indexer is out-of-bounds\n",
      "single positional indexer is out-of-bounds\n",
      "single positional indexer is out-of-bounds\n",
      "single positional indexer is out-of-bounds\n"
     ]
    },
    {
     "name": "stderr",
     "output_type": "stream",
     "text": [
      "\n",
      "  0%|                                                                                                                                           | 0/505 [00:00<?, ?it/s]\u001b[A\n"
     ]
    },
    {
     "name": "stdout",
     "output_type": "stream",
     "text": [
      "single positional indexer is out-of-bounds\n"
     ]
    },
    {
     "name": "stderr",
     "output_type": "stream",
     "text": [
      "  7%|█████████▏                                                                                                                       | 36/505 [00:00<00:01, 356.34it/s]\u001b[A\n",
      " 15%|██████████████████▉                                                                                                              | 74/505 [00:00<00:01, 365.86it/s]\u001b[A"
     ]
    },
    {
     "name": "stdout",
     "output_type": "stream",
     "text": [
      "single positional indexer is out-of-bounds\n",
      "single positional indexer is out-of-bounds\n",
      "single positional indexer is out-of-bounds\n",
      "single positional indexer is out-of-bounds\n"
     ]
    },
    {
     "name": "stderr",
     "output_type": "stream",
     "text": [
      "\n",
      " 22%|████████████████████████████▏                                                                                                   | 111/505 [00:00<00:01, 361.16it/s]\u001b[A"
     ]
    },
    {
     "name": "stdout",
     "output_type": "stream",
     "text": [
      "single positional indexer is out-of-bounds"
     ]
    },
    {
     "name": "stderr",
     "output_type": "stream",
     "text": [
      "\n",
      " 29%|█████████████████████████████████████▌                                                                                          | 148/505 [00:00<00:00, 358.98it/s]\u001b[A\n",
      " 37%|██████████████████████████████████████████████▉                                                                                 | 185/505 [00:00<00:00, 360.30it/s]\u001b[A"
     ]
    },
    {
     "name": "stdout",
     "output_type": "stream",
     "text": [
      "\n",
      "single positional indexer is out-of-bounds\n",
      "single positional indexer is out-of-bounds\n",
      "single positional indexer is out-of-bounds\n",
      "single positional indexer is out-of-bounds"
     ]
    },
    {
     "name": "stderr",
     "output_type": "stream",
     "text": [
      "\n",
      " 44%|████████████████████████████████████████████████████████▎                                                                       | 222/505 [00:00<00:00, 359.91it/s]\u001b[A\n",
      " 51%|█████████████████████████████████████████████████████████████████▍                                                              | 258/505 [00:00<00:00, 357.62it/s]\u001b[A"
     ]
    },
    {
     "name": "stdout",
     "output_type": "stream",
     "text": [
      "\n",
      "single positional indexer is out-of-bounds\n",
      "single positional indexer is out-of-bounds\n",
      "single positional indexer is out-of-bounds"
     ]
    },
    {
     "name": "stderr",
     "output_type": "stream",
     "text": [
      "\n",
      " 58%|██████████████████████████████████████████████████████████████████████████▌                                                     | 294/505 [00:00<00:00, 356.11it/s]\u001b[A\n",
      " 66%|███████████████████████████████████████████████████████████████████████████████████▉                                            | 331/505 [00:00<00:00, 358.15it/s]\u001b[A"
     ]
    },
    {
     "name": "stdout",
     "output_type": "stream",
     "text": [
      "\n",
      "single positional indexer is out-of-bounds\n",
      "single positional indexer is out-of-bounds\n",
      "single positional indexer is out-of-bounds"
     ]
    },
    {
     "name": "stderr",
     "output_type": "stream",
     "text": [
      "\n",
      " 73%|█████████████████████████████████████████████████████████████████████████████████████████████                                   | 367/505 [00:01<00:00, 357.60it/s]\u001b[A\n",
      " 80%|██████████████████████████████████████████████████████████████████████████████████████████████████████▍                         | 404/505 [00:01<00:00, 361.32it/s]\u001b[A"
     ]
    },
    {
     "name": "stdout",
     "output_type": "stream",
     "text": [
      "\n",
      "single positional indexer is out-of-bounds\n"
     ]
    },
    {
     "name": "stderr",
     "output_type": "stream",
     "text": [
      "\n",
      " 87%|███████████████████████████████████████████████████████████████████████████████████████████████████████████████▊                | 441/505 [00:01<00:00, 362.82it/s]\u001b[A\n",
      "100%|████████████████████████████████████████████████████████████████████████████████████████████████████████████████████████████████| 505/505 [00:01<00:00, 360.89it/s]\u001b[A\n"
     ]
    },
    {
     "name": "stdout",
     "output_type": "stream",
     "text": [
      "single positional indexer is out-of-bounds\n",
      "single positional indexer is out-of-bounds\n",
      "single positional indexer is out-of-bounds\n",
      "single positional indexer is out-of-bounds\n",
      "single positional indexer is out-of-bounds\n",
      "single positional indexer is out-of-bounds\n"
     ]
    },
    {
     "name": "stderr",
     "output_type": "stream",
     "text": [
      "\n",
      "  0%|                                                                                                                                           | 0/505 [00:00<?, ?it/s]\u001b[A"
     ]
    },
    {
     "name": "stdout",
     "output_type": "stream",
     "text": [
      "single positional indexer is out-of-bounds\n"
     ]
    },
    {
     "name": "stderr",
     "output_type": "stream",
     "text": [
      "\n",
      "  7%|█████████▍                                                                                                                       | 37/505 [00:00<00:01, 366.26it/s]\u001b[A\n",
      " 15%|██████████████████▉                                                                                                              | 74/505 [00:00<00:01, 364.12it/s]\u001b[A"
     ]
    },
    {
     "name": "stdout",
     "output_type": "stream",
     "text": [
      "single positional indexer is out-of-bounds\n",
      "single positional indexer is out-of-bounds\n",
      "single positional indexer is out-of-bounds\n",
      "single positional indexer is out-of-bounds\n"
     ]
    },
    {
     "name": "stderr",
     "output_type": "stream",
     "text": [
      "\n",
      " 22%|████████████████████████████▏                                                                                                   | 111/505 [00:00<00:01, 363.45it/s]\u001b[A"
     ]
    },
    {
     "name": "stdout",
     "output_type": "stream",
     "text": [
      "single positional indexer is out-of-bounds"
     ]
    },
    {
     "name": "stderr",
     "output_type": "stream",
     "text": [
      "\n",
      " 29%|█████████████████████████████████████▌                                                                                          | 148/505 [00:00<00:00, 361.74it/s]\u001b[A\n",
      " 37%|██████████████████████████████████████████████▉                                                                                 | 185/505 [00:00<00:00, 364.65it/s]\u001b[A"
     ]
    },
    {
     "name": "stdout",
     "output_type": "stream",
     "text": [
      "\n",
      "single positional indexer is out-of-bounds\n",
      "single positional indexer is out-of-bounds\n",
      "single positional indexer is out-of-bounds\n"
     ]
    },
    {
     "name": "stderr",
     "output_type": "stream",
     "text": [
      "\n",
      " 44%|████████████████████████████████████████████████████████▎                                                                       | 222/505 [00:00<00:00, 363.97it/s]\u001b[A\n",
      " 51%|█████████████████████████████████████████████████████████████████▋                                                              | 259/505 [00:00<00:00, 363.54it/s]\u001b[A"
     ]
    },
    {
     "name": "stdout",
     "output_type": "stream",
     "text": [
      "single positional indexer is out-of-bounds\n",
      "single positional indexer is out-of-bounds\n",
      "single positional indexer is out-of-bounds\n"
     ]
    },
    {
     "name": "stderr",
     "output_type": "stream",
     "text": [
      "\n",
      " 59%|███████████████████████████████████████████████████████████████████████████                                                     | 296/505 [00:00<00:00, 361.01it/s]\u001b[A\n",
      " 66%|████████████████████████████████████████████████████████████████████████████████████▋                                           | 334/505 [00:00<00:00, 364.58it/s]\u001b[A"
     ]
    },
    {
     "name": "stdout",
     "output_type": "stream",
     "text": [
      "single positional indexer is out-of-bounds\n",
      "single positional indexer is out-of-bounds\n",
      "single positional indexer is out-of-bounds"
     ]
    },
    {
     "name": "stderr",
     "output_type": "stream",
     "text": [
      "\n",
      " 73%|██████████████████████████████████████████████████████████████████████████████████████████████                                  | 371/505 [00:01<00:00, 362.89it/s]\u001b[A\n",
      " 81%|███████████████████████████████████████████████████████████████████████████████████████████████████████▋                        | 409/505 [00:01<00:00, 365.81it/s]\u001b[A"
     ]
    },
    {
     "name": "stdout",
     "output_type": "stream",
     "text": [
      "\n",
      "single positional indexer is out-of-bounds\n"
     ]
    },
    {
     "name": "stderr",
     "output_type": "stream",
     "text": [
      "\n",
      " 88%|█████████████████████████████████████████████████████████████████████████████████████████████████████████████████               | 446/505 [00:01<00:00, 364.86it/s]\u001b[A\n",
      "100%|████████████████████████████████████████████████████████████████████████████████████████████████████████████████████████████████| 505/505 [00:01<00:00, 362.44it/s]\u001b[A\n",
      " 62%|█████████████████████████████████████████████████████████████████████████████████▏                                                  | 8/13 [00:43<00:27,  5.56s/it]"
     ]
    },
    {
     "name": "stdout",
     "output_type": "stream",
     "text": [
      "single positional indexer is out-of-bounds\n",
      "single positional indexer is out-of-bounds\n",
      "single positional indexer is out-of-bounds\n",
      "single positional indexer is out-of-bounds\n",
      "single positional indexer is out-of-bounds\n",
      "single positional indexer is out-of-bounds\n"
     ]
    },
    {
     "name": "stderr",
     "output_type": "stream",
     "text": [
      "\n",
      "  0%|                                                                                                                                           | 0/505 [00:00<?, ?it/s]\u001b[A"
     ]
    },
    {
     "name": "stdout",
     "output_type": "stream",
     "text": [
      "single positional indexer is out-of-bounds\n"
     ]
    },
    {
     "name": "stderr",
     "output_type": "stream",
     "text": [
      "\n",
      "  7%|█████████▍                                                                                                                       | 37/505 [00:00<00:01, 369.92it/s]\u001b[A\n",
      " 15%|██████████████████▉                                                                                                              | 74/505 [00:00<00:01, 369.86it/s]\u001b[A"
     ]
    },
    {
     "name": "stdout",
     "output_type": "stream",
     "text": [
      "single positional indexer is out-of-bounds\n",
      "single positional indexer is out-of-bounds\n",
      "single positional indexer is out-of-bounds\n",
      "single positional indexer is out-of-bounds\n"
     ]
    },
    {
     "name": "stderr",
     "output_type": "stream",
     "text": [
      "\n",
      " 22%|████████████████████████████▏                                                                                                   | 111/505 [00:00<00:01, 364.89it/s]\u001b[A"
     ]
    },
    {
     "name": "stdout",
     "output_type": "stream",
     "text": [
      "single positional indexer is out-of-bounds"
     ]
    },
    {
     "name": "stderr",
     "output_type": "stream",
     "text": [
      "\n",
      " 29%|█████████████████████████████████████▌                                                                                          | 148/505 [00:00<00:00, 365.43it/s]\u001b[A\n",
      " 37%|██████████████████████████████████████████████▉                                                                                 | 185/505 [00:00<00:00, 367.03it/s]\u001b[A"
     ]
    },
    {
     "name": "stdout",
     "output_type": "stream",
     "text": [
      "\n",
      "single positional indexer is out-of-bounds\n",
      "single positional indexer is out-of-bounds\n",
      "single positional indexer is out-of-bounds"
     ]
    },
    {
     "name": "stderr",
     "output_type": "stream",
     "text": [
      "\n",
      " 44%|████████████████████████████████████████████████████████▎                                                                       | 222/505 [00:00<00:00, 364.31it/s]\u001b[A\n",
      " 51%|█████████████████████████████████████████████████████████████████▉                                                              | 260/505 [00:00<00:00, 368.17it/s]\u001b[A"
     ]
    },
    {
     "name": "stdout",
     "output_type": "stream",
     "text": [
      "\n",
      "single positional indexer is out-of-bounds\n",
      "single positional indexer is out-of-bounds\n"
     ]
    },
    {
     "name": "stderr",
     "output_type": "stream",
     "text": [
      "\n",
      " 59%|███████████████████████████████████████████████████████████████████████████▌                                                    | 298/505 [00:00<00:00, 369.54it/s]\u001b[A\n",
      " 66%|████████████████████████████████████████████████████████████████████████████████████▉                                           | 335/505 [00:00<00:00, 369.65it/s]\u001b[A"
     ]
    },
    {
     "name": "stdout",
     "output_type": "stream",
     "text": [
      "single positional indexer is out-of-bounds\n",
      "single positional indexer is out-of-bounds\n",
      "single positional indexer is out-of-bounds"
     ]
    },
    {
     "name": "stderr",
     "output_type": "stream",
     "text": [
      "\n",
      " 74%|██████████████████████████████████████████████████████████████████████████████████████████████▌                                 | 373/505 [00:01<00:00, 370.53it/s]\u001b[A\n",
      " 81%|████████████████████████████████████████████████████████████████████████████████████████████████████████▏                       | 411/505 [00:01<00:00, 372.25it/s]\u001b[A"
     ]
    },
    {
     "name": "stdout",
     "output_type": "stream",
     "text": [
      "\n",
      "single positional indexer is out-of-bounds\n"
     ]
    },
    {
     "name": "stderr",
     "output_type": "stream",
     "text": [
      "\n",
      " 89%|█████████████████████████████████████████████████████████████████████████████████████████████████████████████████▊              | 449/505 [00:01<00:00, 371.20it/s]\u001b[A\n",
      "100%|████████████████████████████████████████████████████████████████████████████████████████████████████████████████████████████████| 505/505 [00:01<00:00, 368.52it/s]\u001b[A\n"
     ]
    },
    {
     "name": "stdout",
     "output_type": "stream",
     "text": [
      "single positional indexer is out-of-bounds\n",
      "single positional indexer is out-of-bounds\n",
      "single positional indexer is out-of-bounds\n",
      "single positional indexer is out-of-bounds\n",
      "single positional indexer is out-of-bounds\n",
      "single positional indexer is out-of-bounds\n"
     ]
    },
    {
     "name": "stderr",
     "output_type": "stream",
     "text": [
      "\n",
      "  0%|                                                                                                                                           | 0/505 [00:00<?, ?it/s]\u001b[A"
     ]
    },
    {
     "name": "stdout",
     "output_type": "stream",
     "text": [
      "single positional indexer is out-of-bounds\n"
     ]
    },
    {
     "name": "stderr",
     "output_type": "stream",
     "text": [
      "\n",
      "  7%|█████████▏                                                                                                                       | 36/505 [00:00<00:01, 356.36it/s]\u001b[A\n",
      " 14%|██████████████████▍                                                                                                              | 72/505 [00:00<00:01, 354.29it/s]\u001b[A"
     ]
    },
    {
     "name": "stdout",
     "output_type": "stream",
     "text": [
      "single positional indexer is out-of-bounds\n",
      "single positional indexer is out-of-bounds\n",
      "single positional indexer is out-of-bounds\n",
      "single positional indexer is out-of-bounds\n"
     ]
    },
    {
     "name": "stderr",
     "output_type": "stream",
     "text": [
      "\n",
      " 21%|███████████████████████████▎                                                                                                    | 108/505 [00:00<00:01, 356.84it/s]\u001b[A"
     ]
    },
    {
     "name": "stdout",
     "output_type": "stream",
     "text": [
      "single positional indexer is out-of-bounds"
     ]
    },
    {
     "name": "stderr",
     "output_type": "stream",
     "text": [
      "\n",
      " 29%|████████████████████████████████████▍                                                                                           | 144/505 [00:00<00:01, 358.05it/s]\u001b[A\n",
      " 36%|█████████████████████████████████████████████▌                                                                                  | 180/505 [00:00<00:00, 358.72it/s]\u001b[A"
     ]
    },
    {
     "name": "stdout",
     "output_type": "stream",
     "text": [
      "\n",
      "single positional indexer is out-of-bounds\n",
      "single positional indexer is out-of-bounds\n",
      "single positional indexer is out-of-bounds"
     ]
    },
    {
     "name": "stderr",
     "output_type": "stream",
     "text": [
      "\n",
      " 43%|██████████████████████████████████████████████████████▋                                                                         | 216/505 [00:00<00:00, 357.91it/s]\u001b[A\n",
      " 50%|███████████████████████████████████████████████████████████████▊                                                                | 252/505 [00:00<00:00, 358.57it/s]\u001b[A"
     ]
    },
    {
     "name": "stdout",
     "output_type": "stream",
     "text": [
      "\n",
      "single positional indexer is out-of-bounds\n"
     ]
    },
    {
     "name": "stderr",
     "output_type": "stream",
     "text": [
      "\n",
      " 57%|████████████████████████████████████████████████████████████████████████▉                                                       | 288/505 [00:00<00:00, 359.00it/s]\u001b[A\n",
      " 64%|██████████████████████████████████████████████████████████████████████████████████▍                                             | 325/505 [00:00<00:00, 361.28it/s]\u001b[A"
     ]
    },
    {
     "name": "stdout",
     "output_type": "stream",
     "text": [
      "single positional indexer is out-of-bounds\n",
      "single positional indexer is out-of-bounds\n",
      "single positional indexer is out-of-bounds"
     ]
    },
    {
     "name": "stderr",
     "output_type": "stream",
     "text": [
      "\n",
      " 72%|███████████████████████████████████████████████████████████████████████████████████████████▊                                    | 362/505 [00:01<00:00, 359.51it/s]\u001b[A\n",
      " 79%|█████████████████████████████████████████████████████████████████████████████████████████████████████▏                          | 399/505 [00:01<00:00, 361.57it/s]\u001b[A\n"
     ]
    },
    {
     "name": "stdout",
     "output_type": "stream",
     "text": [
      "\n",
      "single positional indexer is out-of-bounds\n"
     ]
    },
    {
     "name": "stderr",
     "output_type": "stream",
     "text": [
      " 87%|██████████████████████████████████████████████████████████████████████████████████████████████████████████████▊                 | 437/505 [00:01<00:00, 365.99it/s]\u001b[A\n",
      "100%|████████████████████████████████████████████████████████████████████████████████████████████████████████████████████████████████| 505/505 [00:01<00:00, 362.19it/s]\u001b[A\n"
     ]
    },
    {
     "name": "stdout",
     "output_type": "stream",
     "text": [
      "single positional indexer is out-of-bounds\n",
      "single positional indexer is out-of-bounds\n",
      "single positional indexer is out-of-bounds\n",
      "single positional indexer is out-of-bounds\n",
      "single positional indexer is out-of-bounds\n",
      "single positional indexer is out-of-bounds\n"
     ]
    },
    {
     "name": "stderr",
     "output_type": "stream",
     "text": [
      "\n",
      "  0%|                                                                                                                                           | 0/505 [00:00<?, ?it/s]\u001b[A\n"
     ]
    },
    {
     "name": "stdout",
     "output_type": "stream",
     "text": [
      "single positional indexer is out-of-bounds\n"
     ]
    },
    {
     "name": "stderr",
     "output_type": "stream",
     "text": [
      "  7%|█████████▍                                                                                                                       | 37/505 [00:00<00:01, 362.67it/s]\u001b[A\n",
      " 15%|██████████████████▉                                                                                                              | 74/505 [00:00<00:01, 366.90it/s]\u001b[A"
     ]
    },
    {
     "name": "stdout",
     "output_type": "stream",
     "text": [
      "single positional indexer is out-of-bounds\n",
      "single positional indexer is out-of-bounds\n",
      "single positional indexer is out-of-bounds\n"
     ]
    },
    {
     "name": "stderr",
     "output_type": "stream",
     "text": [
      "\n",
      " 22%|████████████████████████████▏                                                                                                   | 111/505 [00:00<00:01, 364.95it/s]\u001b[A"
     ]
    },
    {
     "name": "stdout",
     "output_type": "stream",
     "text": [
      "single positional indexer is out-of-bounds\n"
     ]
    },
    {
     "name": "stderr",
     "output_type": "stream",
     "text": [
      "\n",
      " 29%|█████████████████████████████████████▌                                                                                          | 148/505 [00:00<00:00, 365.46it/s]\u001b[A\n",
      " 37%|██████████████████████████████████████████████▉                                                                                 | 185/505 [00:00<00:00, 363.16it/s]\u001b[A"
     ]
    },
    {
     "name": "stdout",
     "output_type": "stream",
     "text": [
      "single positional indexer is out-of-bounds\n",
      "single positional indexer is out-of-bounds\n",
      "single positional indexer is out-of-bounds"
     ]
    },
    {
     "name": "stderr",
     "output_type": "stream",
     "text": [
      "\n",
      " 44%|████████████████████████████████████████████████████████▎                                                                       | 222/505 [00:00<00:00, 362.99it/s]\u001b[A"
     ]
    },
    {
     "name": "stdout",
     "output_type": "stream",
     "text": [
      "\n",
      "single positional indexer is out-of-bounds\n"
     ]
    },
    {
     "name": "stderr",
     "output_type": "stream",
     "text": [
      "\n",
      " 51%|█████████████████████████████████████████████████████████████████▋                                                              | 259/505 [00:00<00:00, 364.05it/s]\u001b[A\n",
      " 59%|███████████████████████████████████████████████████████████████████████████                                                     | 296/505 [00:00<00:00, 364.75it/s]\u001b[A\n",
      " 66%|████████████████████████████████████████████████████████████████████████████████████▍                                           | 333/505 [00:00<00:00, 366.35it/s]\u001b[A"
     ]
    },
    {
     "name": "stdout",
     "output_type": "stream",
     "text": [
      "single positional indexer is out-of-bounds\n",
      "single positional indexer is out-of-bounds\n",
      "single positional indexer is out-of-bounds"
     ]
    },
    {
     "name": "stderr",
     "output_type": "stream",
     "text": [
      "\n",
      " 73%|█████████████████████████████████████████████████████████████████████████████████████████████▊                                  | 370/505 [00:01<00:00, 362.99it/s]\u001b[A\n",
      " 81%|███████████████████████████████████████████████████████████████████████████████████████████████████████▍                        | 408/505 [00:01<00:00, 365.88it/s]\u001b[A"
     ]
    },
    {
     "name": "stdout",
     "output_type": "stream",
     "text": [
      "\n",
      "single positional indexer is out-of-bounds\n"
     ]
    },
    {
     "name": "stderr",
     "output_type": "stream",
     "text": [
      "\n",
      " 88%|████████████████████████████████████████████████████████████████████████████████████████████████████████████████▊               | 445/505 [00:01<00:00, 360.60it/s]\u001b[A\n",
      "100%|████████████████████████████████████████████████████████████████████████████████████████████████████████████████████████████████| 505/505 [00:01<00:00, 362.70it/s]\u001b[A\n"
     ]
    },
    {
     "name": "stdout",
     "output_type": "stream",
     "text": [
      "single positional indexer is out-of-bounds\n",
      "single positional indexer is out-of-bounds\n",
      "single positional indexer is out-of-bounds\n",
      "single positional indexer is out-of-bounds\n",
      "single positional indexer is out-of-bounds\n",
      "single positional indexer is out-of-bounds\n"
     ]
    },
    {
     "name": "stderr",
     "output_type": "stream",
     "text": [
      "\n",
      "  0%|                                                                                                                                           | 0/505 [00:00<?, ?it/s]\u001b[A"
     ]
    },
    {
     "name": "stdout",
     "output_type": "stream",
     "text": [
      "single positional indexer is out-of-bounds\n"
     ]
    },
    {
     "name": "stderr",
     "output_type": "stream",
     "text": [
      "\n",
      "  7%|█████████▍                                                                                                                       | 37/505 [00:00<00:01, 366.26it/s]\u001b[A\n",
      " 15%|██████████████████▉                                                                                                              | 74/505 [00:00<00:01, 366.26it/s]\u001b[A"
     ]
    },
    {
     "name": "stdout",
     "output_type": "stream",
     "text": [
      "single positional indexer is out-of-bounds\n",
      "single positional indexer is out-of-bounds\n",
      "single positional indexer is out-of-bounds\n"
     ]
    },
    {
     "name": "stderr",
     "output_type": "stream",
     "text": [
      "\n",
      " 22%|████████████████████████████▏                                                                                                   | 111/505 [00:00<00:01, 362.15it/s]\u001b[A"
     ]
    },
    {
     "name": "stdout",
     "output_type": "stream",
     "text": [
      "single positional indexer is out-of-bounds\n"
     ]
    },
    {
     "name": "stderr",
     "output_type": "stream",
     "text": [
      "\n",
      " 29%|█████████████████████████████████████▌                                                                                          | 148/505 [00:00<00:00, 363.76it/s]\u001b[A\n",
      " 37%|███████████████████████████████████████████████▏                                                                                | 186/505 [00:00<00:00, 366.90it/s]\u001b[A"
     ]
    },
    {
     "name": "stdout",
     "output_type": "stream",
     "text": [
      "single positional indexer is out-of-bounds\n",
      "single positional indexer is out-of-bounds\n",
      "single positional indexer is out-of-bounds\n",
      "single positional indexer is out-of-bounds\n"
     ]
    },
    {
     "name": "stderr",
     "output_type": "stream",
     "text": [
      "\n",
      " 44%|████████████████████████████████████████████████████████▌                                                                       | 223/505 [00:00<00:00, 355.95it/s]\u001b[A\n",
      " 51%|█████████████████████████████████████████████████████████████████▉                                                              | 260/505 [00:00<00:00, 358.11it/s]\u001b[A\n",
      " 59%|███████████████████████████████████████████████████████████████████████████                                                     | 296/505 [00:00<00:00, 358.67it/s]\u001b[A\n",
      " 66%|████████████████████████████████████████████████████████████████████████████████████▏                                           | 332/505 [00:00<00:00, 359.05it/s]\u001b[A"
     ]
    },
    {
     "name": "stdout",
     "output_type": "stream",
     "text": [
      "single positional indexer is out-of-bounds\n",
      "single positional indexer is out-of-bounds\n",
      "single positional indexer is out-of-bounds"
     ]
    },
    {
     "name": "stderr",
     "output_type": "stream",
     "text": [
      "\n",
      " 73%|█████████████████████████████████████████████████████████████████████████████████████████████▎                                  | 368/505 [00:01<00:00, 356.05it/s]\u001b[A\n",
      " 80%|██████████████████████████████████████████████████████████████████████████████████████████████████████▋                         | 405/505 [00:01<00:00, 358.07it/s]\u001b[A"
     ]
    },
    {
     "name": "stdout",
     "output_type": "stream",
     "text": [
      "\n",
      "single positional indexer is out-of-bounds\n"
     ]
    },
    {
     "name": "stderr",
     "output_type": "stream",
     "text": [
      "\n",
      " 87%|███████████████████████████████████████████████████████████████████████████████████████████████████████████████▊                | 441/505 [00:01<00:00, 356.49it/s]\u001b[A\n",
      "100%|████████████████████████████████████████████████████████████████████████████████████████████████████████████████████████████████| 505/505 [00:01<00:00, 360.79it/s]\u001b[A\n",
      " 69%|███████████████████████████████████████████████████████████████████████████████████████████▍                                        | 9/13 [00:49<00:22,  5.58s/it]"
     ]
    },
    {
     "name": "stdout",
     "output_type": "stream",
     "text": [
      "single positional indexer is out-of-bounds\n",
      "single positional indexer is out-of-bounds\n",
      "single positional indexer is out-of-bounds\n",
      "single positional indexer is out-of-bounds\n",
      "single positional indexer is out-of-bounds\n",
      "single positional indexer is out-of-bounds\n"
     ]
    },
    {
     "name": "stderr",
     "output_type": "stream",
     "text": [
      "\n",
      "  0%|                                                                                                                                           | 0/505 [00:00<?, ?it/s]\u001b[A\n"
     ]
    },
    {
     "name": "stdout",
     "output_type": "stream",
     "text": [
      "single positional indexer is out-of-bounds\n"
     ]
    },
    {
     "name": "stderr",
     "output_type": "stream",
     "text": [
      "  8%|█████████▋                                                                                                                       | 38/505 [00:00<00:01, 376.15it/s]\u001b[A\n",
      " 15%|███████████████████▍                                                                                                             | 76/505 [00:00<00:01, 373.98it/s]\u001b[A"
     ]
    },
    {
     "name": "stdout",
     "output_type": "stream",
     "text": [
      "single positional indexer is out-of-bounds\n",
      "single positional indexer is out-of-bounds\n",
      "single positional indexer is out-of-bounds\n"
     ]
    },
    {
     "name": "stderr",
     "output_type": "stream",
     "text": [
      "\n",
      " 23%|████████████████████████████▉                                                                                                   | 114/505 [00:00<00:01, 374.19it/s]\u001b[A"
     ]
    },
    {
     "name": "stdout",
     "output_type": "stream",
     "text": [
      "single positional indexer is out-of-bounds\n"
     ]
    },
    {
     "name": "stderr",
     "output_type": "stream",
     "text": [
      "\n",
      " 30%|██████████████████████████████████████▌                                                                                         | 152/505 [00:00<00:00, 372.06it/s]\u001b[A\n",
      " 38%|████████████████████████████████████████████████▏                                                                               | 190/505 [00:00<00:00, 372.21it/s]\u001b[A"
     ]
    },
    {
     "name": "stdout",
     "output_type": "stream",
     "text": [
      "single positional indexer is out-of-bounds\n",
      "single positional indexer is out-of-bounds\n"
     ]
    },
    {
     "name": "stderr",
     "output_type": "stream",
     "text": [
      "\n"
     ]
    },
    {
     "name": "stdout",
     "output_type": "stream",
     "text": [
      "single positional indexer is out-of-bounds\n",
      "single positional indexer is out-of-bounds\n"
     ]
    },
    {
     "name": "stderr",
     "output_type": "stream",
     "text": [
      " 45%|█████████████████████████████████████████████████████████▊                                                                      | 228/505 [00:00<00:00, 369.83it/s]\u001b[A\n",
      " 52%|███████████████████████████████████████████████████████████████████▏                                                            | 265/505 [00:00<00:00, 369.86it/s]\u001b[A\n",
      " 60%|████████████████████████████████████████████████████████████████████████████▊                                                   | 303/505 [00:00<00:00, 371.85it/s]\u001b[A\n",
      " 68%|██████████████████████████████████████████████████████████████████████████████████████▍                                         | 341/505 [00:00<00:00, 374.35it/s]\u001b[A"
     ]
    },
    {
     "name": "stdout",
     "output_type": "stream",
     "text": [
      "single positional indexer is out-of-bounds\n",
      "single positional indexer is out-of-bounds\n",
      "single positional indexer is out-of-bounds"
     ]
    },
    {
     "name": "stderr",
     "output_type": "stream",
     "text": [
      "\n",
      " 75%|████████████████████████████████████████████████████████████████████████████████████████████████                                | 379/505 [00:01<00:00, 371.50it/s]\u001b[A\n",
      " 83%|█████████████████████████████████████████████████████████████████████████████████████████████████████████▉                      | 418/505 [00:01<00:00, 374.79it/s]\u001b[A"
     ]
    },
    {
     "name": "stdout",
     "output_type": "stream",
     "text": [
      "\n",
      "single positional indexer is out-of-bounds\n"
     ]
    },
    {
     "name": "stderr",
     "output_type": "stream",
     "text": [
      "\n",
      " 90%|███████████████████████████████████████████████████████████████████████████████████████████████████████████████████▌            | 456/505 [00:01<00:00, 371.85it/s]\u001b[A\n",
      "100%|████████████████████████████████████████████████████████████████████████████████████████████████████████████████████████████████| 505/505 [00:01<00:00, 372.20it/s]\u001b[A\n"
     ]
    },
    {
     "name": "stdout",
     "output_type": "stream",
     "text": [
      "single positional indexer is out-of-bounds\n",
      "single positional indexer is out-of-bounds\n",
      "single positional indexer is out-of-bounds\n",
      "single positional indexer is out-of-bounds\n",
      "single positional indexer is out-of-bounds\n",
      "single positional indexer is out-of-bounds\n"
     ]
    },
    {
     "name": "stderr",
     "output_type": "stream",
     "text": [
      "\n",
      "  0%|                                                                                                                                           | 0/505 [00:00<?, ?it/s]\u001b[A"
     ]
    },
    {
     "name": "stdout",
     "output_type": "stream",
     "text": [
      "single positional indexer is out-of-bounds\n"
     ]
    },
    {
     "name": "stderr",
     "output_type": "stream",
     "text": [
      "\n",
      "  7%|████████▉                                                                                                                        | 35/505 [00:00<00:01, 349.92it/s]\u001b[A\n",
      " 14%|██████████████████▏                                                                                                              | 71/505 [00:00<00:01, 353.72it/s]\u001b[A"
     ]
    },
    {
     "name": "stdout",
     "output_type": "stream",
     "text": [
      "single positional indexer is out-of-bounds\n",
      "single positional indexer is out-of-bounds\n",
      "single positional indexer is out-of-bounds\n"
     ]
    },
    {
     "name": "stderr",
     "output_type": "stream",
     "text": [
      "\n",
      " 21%|███████████████████████████                                                                                                     | 107/505 [00:00<00:01, 354.92it/s]\u001b[A"
     ]
    },
    {
     "name": "stdout",
     "output_type": "stream",
     "text": [
      "single positional indexer is out-of-bounds\n"
     ]
    },
    {
     "name": "stderr",
     "output_type": "stream",
     "text": [
      "\n",
      " 29%|████████████████████████████████████▍                                                                                           | 144/505 [00:00<00:01, 358.00it/s]\u001b[A\n",
      " 36%|█████████████████████████████████████████████▌                                                                                  | 180/505 [00:00<00:00, 358.68it/s]\u001b[A"
     ]
    },
    {
     "name": "stdout",
     "output_type": "stream",
     "text": [
      "single positional indexer is out-of-bounds\n",
      "single positional indexer is out-of-bounds"
     ]
    },
    {
     "name": "stderr",
     "output_type": "stream",
     "text": [
      "\n",
      " 43%|██████████████████████████████████████████████████████▋                                                                         | 216/505 [00:00<00:00, 359.10it/s]\u001b[A"
     ]
    },
    {
     "name": "stdout",
     "output_type": "stream",
     "text": [
      "\n",
      "single positional indexer is out-of-bounds\n"
     ]
    },
    {
     "name": "stderr",
     "output_type": "stream",
     "text": [
      "\n",
      " 50%|███████████████████████████████████████████████████████████████▊                                                                | 252/505 [00:00<00:00, 355.89it/s]\u001b[A\n",
      " 57%|█████████████████████████████████████████████████████████████████████████▎                                                      | 289/505 [00:00<00:00, 358.05it/s]\u001b[A\n",
      " 64%|██████████████████████████████████████████████████████████████████████████████████▍                                             | 325/505 [00:00<00:00, 355.33it/s]\u001b[A"
     ]
    },
    {
     "name": "stdout",
     "output_type": "stream",
     "text": [
      "single positional indexer is out-of-bounds\n",
      "single positional indexer is out-of-bounds\n",
      "single positional indexer is out-of-bounds"
     ]
    },
    {
     "name": "stderr",
     "output_type": "stream",
     "text": [
      "\n",
      " 71%|███████████████████████████████████████████████████████████████████████████████████████████▌                                    | 361/505 [00:01<00:00, 354.57it/s]\u001b[A\n",
      " 79%|████████████████████████████████████████████████████████████████████████████████████████████████████▋                           | 397/505 [00:01<00:00, 356.18it/s]\u001b[A\n"
     ]
    },
    {
     "name": "stdout",
     "output_type": "stream",
     "text": [
      "\n",
      "single positional indexer is out-of-bounds\n"
     ]
    },
    {
     "name": "stderr",
     "output_type": "stream",
     "text": [
      " 86%|██████████████████████████████████████████████████████████████████████████████████████████████████████████████                  | 434/505 [00:01<00:00, 358.16it/s]\u001b[A\n",
      "100%|████████████████████████████████████████████████████████████████████████████████████████████████████████████████████████████████| 505/505 [00:01<00:00, 356.80it/s]\u001b[A\n"
     ]
    },
    {
     "name": "stdout",
     "output_type": "stream",
     "text": [
      "single positional indexer is out-of-bounds\n",
      "single positional indexer is out-of-bounds\n",
      "single positional indexer is out-of-bounds\n",
      "single positional indexer is out-of-bounds\n",
      "single positional indexer is out-of-bounds\n",
      "single positional indexer is out-of-bounds\n"
     ]
    },
    {
     "name": "stderr",
     "output_type": "stream",
     "text": [
      "\n",
      "  0%|                                                                                                                                           | 0/505 [00:00<?, ?it/s]\u001b[A"
     ]
    },
    {
     "name": "stdout",
     "output_type": "stream",
     "text": [
      "single positional indexer is out-of-bounds\n"
     ]
    },
    {
     "name": "stderr",
     "output_type": "stream",
     "text": [
      "\n",
      "  7%|█████████▍                                                                                                                       | 37/505 [00:00<00:01, 369.91it/s]\u001b[A\n",
      " 15%|██████████████████▉                                                                                                              | 74/505 [00:00<00:01, 365.61it/s]\u001b[A"
     ]
    },
    {
     "name": "stdout",
     "output_type": "stream",
     "text": [
      "single positional indexer is out-of-bounds\n",
      "single positional indexer is out-of-bounds\n",
      "single positional indexer is out-of-bounds\n"
     ]
    },
    {
     "name": "stderr",
     "output_type": "stream",
     "text": [
      "\n",
      " 22%|████████████████████████████▏                                                                                                   | 111/505 [00:00<00:01, 364.25it/s]\u001b[A"
     ]
    },
    {
     "name": "stdout",
     "output_type": "stream",
     "text": [
      "single positional indexer is out-of-bounds\n"
     ]
    },
    {
     "name": "stderr",
     "output_type": "stream",
     "text": [
      "\n",
      " 29%|█████████████████████████████████████▌                                                                                          | 148/505 [00:00<00:00, 365.33it/s]\u001b[A\n",
      " 37%|██████████████████████████████████████████████▉                                                                                 | 185/505 [00:00<00:00, 363.07it/s]\u001b[A"
     ]
    },
    {
     "name": "stdout",
     "output_type": "stream",
     "text": [
      "single positional indexer is out-of-bounds\n",
      "single positional indexer is out-of-bounds"
     ]
    },
    {
     "name": "stderr",
     "output_type": "stream",
     "text": [
      "\n",
      " 44%|████████████████████████████████████████████████████████▎                                                                       | 222/505 [00:00<00:00, 364.13it/s]"
     ]
    },
    {
     "name": "stdout",
     "output_type": "stream",
     "text": [
      "\n",
      "single positional indexer is out-of-bounds\n"
     ]
    },
    {
     "name": "stderr",
     "output_type": "stream",
     "text": [
      "\u001b[A\n",
      " 51%|█████████████████████████████████████████████████████████████████▋                                                              | 259/505 [00:00<00:00, 364.83it/s]\u001b[A\n",
      " 59%|███████████████████████████████████████████████████████████████████████████                                                     | 296/505 [00:00<00:00, 365.28it/s]\u001b[A\n",
      " 66%|████████████████████████████████████████████████████████████████████████████████████▍                                           | 333/505 [00:00<00:00, 365.58it/s]\u001b[A"
     ]
    },
    {
     "name": "stdout",
     "output_type": "stream",
     "text": [
      "single positional indexer is out-of-bounds\n",
      "single positional indexer is out-of-bounds\n",
      "single positional indexer is out-of-bounds"
     ]
    },
    {
     "name": "stderr",
     "output_type": "stream",
     "text": [
      "\n",
      " 73%|█████████████████████████████████████████████████████████████████████████████████████████████▊                                  | 370/505 [00:01<00:00, 365.79it/s]\u001b[A\n",
      " 81%|███████████████████████████████████████████████████████████████████████████████████████████████████████▏                        | 407/505 [00:01<00:00, 367.04it/s]\u001b[A"
     ]
    },
    {
     "name": "stdout",
     "output_type": "stream",
     "text": [
      "\n",
      "single positional indexer is out-of-bounds\n"
     ]
    },
    {
     "name": "stderr",
     "output_type": "stream",
     "text": [
      "\n",
      " 88%|████████████████████████████████████████████████████████████████████████████████████████████████████████████████▌               | 444/505 [00:01<00:00, 364.60it/s]\u001b[A\n",
      "100%|████████████████████████████████████████████████████████████████████████████████████████████████████████████████████████████████| 505/505 [00:01<00:00, 365.11it/s]\u001b[A\n"
     ]
    },
    {
     "name": "stdout",
     "output_type": "stream",
     "text": [
      "single positional indexer is out-of-bounds\n",
      "single positional indexer is out-of-bounds\n",
      "single positional indexer is out-of-bounds\n",
      "single positional indexer is out-of-bounds\n",
      "single positional indexer is out-of-bounds\n",
      "single positional indexer is out-of-bounds\n"
     ]
    },
    {
     "name": "stderr",
     "output_type": "stream",
     "text": [
      "\n",
      "  0%|                                                                                                                                           | 0/505 [00:00<?, ?it/s]\u001b[A"
     ]
    },
    {
     "name": "stdout",
     "output_type": "stream",
     "text": [
      "single positional indexer is out-of-bounds\n"
     ]
    },
    {
     "name": "stderr",
     "output_type": "stream",
     "text": [
      "\n",
      "  7%|█████████▍                                                                                                                       | 37/505 [00:00<00:01, 362.66it/s]\u001b[A\n",
      " 15%|██████████████████▉                                                                                                              | 74/505 [00:00<00:01, 358.58it/s]\u001b[A"
     ]
    },
    {
     "name": "stdout",
     "output_type": "stream",
     "text": [
      "single positional indexer is out-of-bounds\n",
      "single positional indexer is out-of-bounds\n",
      "single positional indexer is out-of-bounds\n"
     ]
    },
    {
     "name": "stderr",
     "output_type": "stream",
     "text": [
      "\n",
      " 22%|███████████████████████████▉                                                                                                    | 110/505 [00:00<00:01, 358.95it/s]\u001b[A"
     ]
    },
    {
     "name": "stdout",
     "output_type": "stream",
     "text": [
      "single positional indexer is out-of-bounds\n"
     ]
    },
    {
     "name": "stderr",
     "output_type": "stream",
     "text": [
      "\n",
      " 29%|█████████████████████████████████████▎                                                                                          | 147/505 [00:00<00:00, 359.13it/s]\u001b[A\n",
      " 36%|██████████████████████████████████████████████▋                                                                                 | 184/505 [00:00<00:00, 360.40it/s]\u001b[A"
     ]
    },
    {
     "name": "stdout",
     "output_type": "stream",
     "text": [
      "single positional indexer is out-of-bounds\n",
      "single positional indexer is out-of-bounds\n",
      "single positional indexer is out-of-bounds\n"
     ]
    },
    {
     "name": "stderr",
     "output_type": "stream",
     "text": [
      "\n",
      " 44%|████████████████████████████████████████████████████████                                                                        | 221/505 [00:00<00:00, 358.77it/s]\u001b[A\n",
      " 51%|█████████████████████████████████████████████████████████████████▍                                                              | 258/505 [00:00<00:00, 360.01it/s]\u001b[A\n",
      " 58%|██████████████████████████████████████████████████████████████████████████▊                                                     | 295/505 [00:00<00:00, 363.11it/s]\u001b[A\n",
      " 66%|████████████████████████████████████████████████████████████████████████████████████▏                                           | 332/505 [00:00<00:00, 361.86it/s]\u001b[A\n",
      " 73%|█████████████████████████████████████████████████████████████████████████████████████████████▌                                  | 369/505 [00:01<00:00, 364.31it/s]\u001b[A\n",
      " 80%|██████████████████████████████████████████████████████████████████████████████████████████████████████▉                         | 406/505 [00:01<00:00, 359.45it/s]\u001b[A"
     ]
    },
    {
     "name": "stdout",
     "output_type": "stream",
     "text": [
      "single positional indexer is out-of-bounds\n",
      "single positional indexer is out-of-bounds\n"
     ]
    },
    {
     "name": "stderr",
     "output_type": "stream",
     "text": [
      "\n",
      " 88%|████████████████████████████████████████████████████████████████████████████████████████████████████████████████                | 442/505 [00:01<00:00, 355.35it/s]\u001b[A\n",
      "100%|████████████████████████████████████████████████████████████████████████████████████████████████████████████████████████████████| 505/505 [00:01<00:00, 359.07it/s]\u001b[A\n",
      " 77%|████████████████████████████████████████████████████████████████████████████████████████████████████▊                              | 10/13 [00:54<00:16,  5.60s/it]"
     ]
    },
    {
     "name": "stdout",
     "output_type": "stream",
     "text": [
      "single positional indexer is out-of-bounds\n",
      "single positional indexer is out-of-bounds\n",
      "single positional indexer is out-of-bounds\n",
      "single positional indexer is out-of-bounds\n",
      "single positional indexer is out-of-bounds\n",
      "single positional indexer is out-of-bounds\n"
     ]
    },
    {
     "name": "stderr",
     "output_type": "stream",
     "text": [
      "\n",
      "  0%|                                                                                                                                           | 0/505 [00:00<?, ?it/s]\u001b[A"
     ]
    },
    {
     "name": "stdout",
     "output_type": "stream",
     "text": [
      "single positional indexer is out-of-bounds\n"
     ]
    },
    {
     "name": "stderr",
     "output_type": "stream",
     "text": [
      "\n",
      "  8%|█████████▋                                                                                                                       | 38/505 [00:00<00:01, 376.14it/s]\u001b[A\n",
      " 15%|███████████████████▍                                                                                                             | 76/505 [00:00<00:01, 371.81it/s]\u001b[A"
     ]
    },
    {
     "name": "stdout",
     "output_type": "stream",
     "text": [
      "single positional indexer is out-of-bounds\n",
      "single positional indexer is out-of-bounds\n",
      "single positional indexer is out-of-bounds\n"
     ]
    },
    {
     "name": "stderr",
     "output_type": "stream",
     "text": [
      "\n",
      " 23%|████████████████████████████▉                                                                                                   | 114/505 [00:00<00:01, 370.45it/s]\u001b[A"
     ]
    },
    {
     "name": "stdout",
     "output_type": "stream",
     "text": [
      "single positional indexer is out-of-bounds\n"
     ]
    },
    {
     "name": "stderr",
     "output_type": "stream",
     "text": [
      "\n",
      " 30%|██████████████████████████████████████▌                                                                                         | 152/505 [00:00<00:00, 372.68it/s]\u001b[A\n",
      " 38%|████████████████████████████████████████████████▏                                                                               | 190/505 [00:00<00:00, 372.60it/s]\u001b[A\n",
      " 45%|█████████████████████████████████████████████████████████▊                                                                      | 228/505 [00:00<00:00, 375.06it/s]\u001b[A\n",
      " 53%|███████████████████████████████████████████████████████████████████▍                                                            | 266/505 [00:00<00:00, 375.41it/s]\u001b[A\n",
      " 60%|█████████████████████████████████████████████████████████████████████████████                                                   | 304/505 [00:00<00:00, 372.13it/s]\u001b[A\n",
      " 68%|██████████████████████████████████████████████████████████████████████████████████████▋                                         | 342/505 [00:00<00:00, 372.23it/s]\u001b[A\n",
      " 75%|████████████████████████████████████████████████████████████████████████████████████████████████▎                               | 380/505 [00:01<00:00, 373.43it/s]\u001b[A\n",
      " 83%|██████████████████████████████████████████████████████████████████████████████████████████████████████████▏                     | 419/505 [00:01<00:00, 377.28it/s]\u001b[A"
     ]
    },
    {
     "name": "stdout",
     "output_type": "stream",
     "text": [
      "single positional indexer is out-of-bounds\n",
      "single positional indexer is out-of-bounds\n"
     ]
    },
    {
     "name": "stderr",
     "output_type": "stream",
     "text": [
      "\n",
      " 90%|███████████████████████████████████████████████████████████████████████████████████████████████████████████████████▊            | 457/505 [00:01<00:00, 361.74it/s]\u001b[A\n",
      "100%|████████████████████████████████████████████████████████████████████████████████████████████████████████████████████████████████| 505/505 [00:01<00:00, 369.33it/s]\u001b[A\n"
     ]
    },
    {
     "name": "stdout",
     "output_type": "stream",
     "text": [
      "single positional indexer is out-of-bounds\n",
      "single positional indexer is out-of-bounds\n",
      "single positional indexer is out-of-bounds\n",
      "single positional indexer is out-of-bounds\n",
      "single positional indexer is out-of-bounds\n",
      "single positional indexer is out-of-bounds\n"
     ]
    },
    {
     "name": "stderr",
     "output_type": "stream",
     "text": [
      "\n",
      "  0%|                                                                                                                                           | 0/505 [00:00<?, ?it/s]\u001b[A\n",
      "  7%|█████████▍                                                                                                                       | 37/505 [00:00<00:01, 362.67it/s]\u001b[A\n",
      " 15%|██████████████████▉                                                                                                              | 74/505 [00:00<00:01, 358.53it/s]\u001b[A\n",
      " 22%|███████████████████████████▉                                                                                                    | 110/505 [00:00<00:01, 359.15it/s]\u001b[A"
     ]
    },
    {
     "name": "stdout",
     "output_type": "stream",
     "text": [
      "single positional indexer is out-of-bounds\n",
      "single positional indexer is out-of-bounds\n",
      "single positional indexer is out-of-bounds\n"
     ]
    },
    {
     "name": "stderr",
     "output_type": "stream",
     "text": [
      "\n",
      " 29%|█████████████████████████████████████                                                                                           | 146/505 [00:00<00:01, 351.22it/s]\u001b[A\n",
      " 36%|██████████████████████████████████████████████▍                                                                                 | 183/505 [00:00<00:00, 355.31it/s]\u001b[A\n",
      " 43%|███████████████████████████████████████████████████████▌                                                                        | 219/505 [00:00<00:00, 354.48it/s]\u001b[A\n",
      " 50%|████████████████████████████████████████████████████████████████▋                                                               | 255/505 [00:00<00:00, 356.23it/s]\u001b[A\n",
      " 58%|██████████████████████████████████████████████████████████████████████████                                                      | 292/505 [00:00<00:00, 358.28it/s]\u001b[A\n",
      " 65%|███████████████████████████████████████████████████████████████████████████████████▏                                            | 328/505 [00:00<00:00, 358.79it/s]\u001b[A\n",
      " 72%|████████████████████████████████████████████████████████████████████████████████████████████▎                                   | 364/505 [00:01<00:00, 358.04it/s]\u001b[A\n",
      " 79%|█████████████████████████████████████████████████████████████████████████████████████████████████████▍                          | 400/505 [00:01<00:00, 355.37it/s]\u001b[A"
     ]
    },
    {
     "name": "stdout",
     "output_type": "stream",
     "text": [
      "single positional indexer is out-of-bounds\n",
      "single positional indexer is out-of-bounds\n"
     ]
    },
    {
     "name": "stderr",
     "output_type": "stream",
     "text": [
      "\n",
      " 86%|██████████████████████████████████████████████████████████████████████████████████████████████████████████████▌                 | 436/505 [00:01<00:00, 353.55it/s]\u001b[A\n",
      "100%|████████████████████████████████████████████████████████████████████████████████████████████████████████████████████████████████| 505/505 [00:01<00:00, 354.56it/s]\u001b[A\n"
     ]
    },
    {
     "name": "stdout",
     "output_type": "stream",
     "text": [
      "single positional indexer is out-of-bounds\n",
      "single positional indexer is out-of-bounds\n",
      "single positional indexer is out-of-bounds\n",
      "single positional indexer is out-of-bounds\n",
      "single positional indexer is out-of-bounds\n",
      "single positional indexer is out-of-bounds\n"
     ]
    },
    {
     "name": "stderr",
     "output_type": "stream",
     "text": [
      "\n",
      "  0%|                                                                                                                                           | 0/505 [00:00<?, ?it/s]\u001b[A\n",
      "  7%|████████▉                                                                                                                        | 35/505 [00:00<00:01, 346.46it/s]\u001b[A\n",
      " 14%|█████████████████▉                                                                                                               | 70/505 [00:00<00:01, 348.49it/s]\u001b[A\n",
      " 21%|██████████████████████████▊                                                                                                     | 106/505 [00:00<00:01, 352.09it/s]\u001b[A"
     ]
    },
    {
     "name": "stdout",
     "output_type": "stream",
     "text": [
      "single positional indexer is out-of-bounds\n",
      "single positional indexer is out-of-bounds\n",
      "single positional indexer is out-of-bounds\n"
     ]
    },
    {
     "name": "stderr",
     "output_type": "stream",
     "text": [
      "\n",
      " 28%|███████████████████████████████████▉                                                                                            | 142/505 [00:00<00:01, 348.32it/s]\u001b[A\n",
      " 35%|████████████████████████████████████████████▊                                                                                   | 177/505 [00:00<00:00, 348.89it/s]\u001b[A\n",
      " 42%|█████████████████████████████████████████████████████▉                                                                          | 213/505 [00:00<00:00, 352.60it/s]\u001b[A\n",
      " 50%|███████████████████████████████████████████████████████████████▎                                                                | 250/505 [00:00<00:00, 355.91it/s]\u001b[A\n",
      " 57%|████████████████████████████████████████████████████████████████████████▍                                                       | 286/505 [00:00<00:00, 357.18it/s]\u001b[A\n",
      " 64%|█████████████████████████████████████████████████████████████████████████████████▊                                              | 323/505 [00:00<00:00, 358.90it/s]\u001b[A\n",
      " 71%|██████████████████████████████████████████████████████████████████████████████████████████▉                                     | 359/505 [00:01<00:00, 357.03it/s]\u001b[A\n",
      " 78%|████████████████████████████████████████████████████████████████████████████████████████████████████                            | 395/505 [00:01<00:00, 355.74it/s]\u001b[A"
     ]
    },
    {
     "name": "stdout",
     "output_type": "stream",
     "text": [
      "single positional indexer is out-of-bounds\n",
      "single positional indexer is out-of-bounds\n"
     ]
    },
    {
     "name": "stderr",
     "output_type": "stream",
     "text": [
      "\n",
      " 85%|█████████████████████████████████████████████████████████████████████████████████████████████████████████████▏                  | 431/505 [00:01<00:00, 348.61it/s]\u001b[A\n",
      " 92%|██████████████████████████████████████████████████████████████████████████████████████████████████████████████████████▎         | 467/505 [00:01<00:00, 350.92it/s]\u001b[A\n",
      "100%|████████████████████████████████████████████████████████████████████████████████████████████████████████████████████████████████| 505/505 [00:01<00:00, 353.31it/s]\u001b[A\n"
     ]
    },
    {
     "name": "stdout",
     "output_type": "stream",
     "text": [
      "single positional indexer is out-of-bounds\n",
      "single positional indexer is out-of-bounds\n",
      "single positional indexer is out-of-bounds\n",
      "single positional indexer is out-of-bounds\n",
      "single positional indexer is out-of-bounds\n",
      "single positional indexer is out-of-bounds\n"
     ]
    },
    {
     "name": "stderr",
     "output_type": "stream",
     "text": [
      "\n",
      "  0%|                                                                                                                                           | 0/505 [00:00<?, ?it/s]\u001b[A\n",
      "  7%|█████████▏                                                                                                                       | 36/505 [00:00<00:01, 356.36it/s]\u001b[A\n",
      " 14%|██████████████████▍                                                                                                              | 72/505 [00:00<00:01, 354.29it/s]\u001b[A\n",
      " 21%|███████████████████████████▎                                                                                                    | 108/505 [00:00<00:01, 353.64it/s]\u001b[A"
     ]
    },
    {
     "name": "stdout",
     "output_type": "stream",
     "text": [
      "single positional indexer is out-of-bounds\n",
      "single positional indexer is out-of-bounds\n",
      "single positional indexer is out-of-bounds\n"
     ]
    },
    {
     "name": "stderr",
     "output_type": "stream",
     "text": [
      "\n",
      " 29%|████████████████████████████████████▍                                                                                           | 144/505 [00:00<00:01, 354.71it/s]\u001b[A\n",
      " 36%|█████████████████████████████████████████████▌                                                                                  | 180/505 [00:00<00:00, 355.29it/s]\u001b[A\n",
      " 43%|██████████████████████████████████████████████████████▋                                                                         | 216/505 [00:00<00:00, 355.65it/s]\u001b[A\n",
      " 50%|███████████████████████████████████████████████████████████████▊                                                                | 252/505 [00:00<00:00, 351.34it/s]\u001b[A\n",
      " 57%|████████████████████████████████████████████████████████████████████████▉                                                       | 288/505 [00:00<00:00, 352.92it/s]\u001b[A\n",
      " 64%|██████████████████████████████████████████████████████████████████████████████████▍                                             | 325/505 [00:00<00:00, 357.06it/s]\u001b[A\n",
      " 71%|███████████████████████████████████████████████████████████████████████████████████████████▌                                    | 361/505 [00:01<00:00, 355.84it/s]\u001b[A\n",
      " 79%|████████████████████████████████████████████████████████████████████████████████████████████████████▋                           | 397/505 [00:01<00:00, 356.00it/s]\u001b[A"
     ]
    },
    {
     "name": "stdout",
     "output_type": "stream",
     "text": [
      "single positional indexer is out-of-bounds\n",
      "single positional indexer is out-of-bounds\n"
     ]
    },
    {
     "name": "stderr",
     "output_type": "stream",
     "text": [
      "\n",
      " 86%|█████████████████████████████████████████████████████████████████████████████████████████████████████████████▊                  | 433/505 [00:01<00:00, 356.11it/s]\u001b[A\n",
      " 93%|██████████████████████████████████████████████████████████████████████████████████████████████████████████████████████▉         | 469/505 [00:01<00:00, 354.06it/s]\u001b[A\n",
      "100%|████████████████████████████████████████████████████████████████████████████████████████████████████████████████████████████████| 505/505 [00:01<00:00, 354.32it/s]\u001b[A\n",
      " 85%|██████████████████████████████████████████████████████████████████████████████████████████████████████████████▊                    | 11/13 [01:00<00:11,  5.63s/it]"
     ]
    },
    {
     "name": "stdout",
     "output_type": "stream",
     "text": [
      "single positional indexer is out-of-bounds\n",
      "single positional indexer is out-of-bounds\n",
      "single positional indexer is out-of-bounds\n",
      "single positional indexer is out-of-bounds\n",
      "single positional indexer is out-of-bounds\n",
      "single positional indexer is out-of-bounds\n"
     ]
    },
    {
     "name": "stderr",
     "output_type": "stream",
     "text": [
      "\n",
      "  0%|                                                                                                                                           | 0/505 [00:00<?, ?it/s]\u001b[A\n",
      "  7%|█████████▏                                                                                                                       | 36/505 [00:00<00:01, 359.92it/s]\u001b[A\n",
      " 14%|██████████████████▍                                                                                                              | 72/505 [00:00<00:01, 359.92it/s]\u001b[A\n",
      " 21%|███████████████████████████▎                                                                                                    | 108/505 [00:00<00:01, 359.92it/s]\u001b[A"
     ]
    },
    {
     "name": "stdout",
     "output_type": "stream",
     "text": [
      "single positional indexer is out-of-bounds\n",
      "single positional indexer is out-of-bounds\n"
     ]
    },
    {
     "name": "stderr",
     "output_type": "stream",
     "text": [
      "\n",
      " 29%|████████████████████████████████████▍                                                                                           | 144/505 [00:00<00:01, 358.50it/s]\u001b[A\n",
      " 36%|█████████████████████████████████████████████▉                                                                                  | 181/505 [00:00<00:00, 362.61it/s]\u001b[A\n",
      " 43%|███████████████████████████████████████████████████████▎                                                                        | 218/505 [00:00<00:00, 365.09it/s]\u001b[A\n",
      " 50%|████████████████████████████████████████████████████████████████▋                                                               | 255/505 [00:00<00:00, 364.29it/s]\u001b[A\n",
      " 58%|██████████████████████████████████████████████████████████████████████████                                                      | 292/505 [00:00<00:00, 354.83it/s]\u001b[A\n",
      " 65%|███████████████████████████████████████████████████████████████████████████████████▏                                            | 328/505 [00:00<00:00, 356.38it/s]\u001b[A\n",
      " 72%|████████████████████████████████████████████████████████████████████████████████████████████▎                                   | 364/505 [00:01<00:00, 354.23it/s]\u001b[A\n",
      " 79%|█████████████████████████████████████████████████████████████████████████████████████████████████████▍                          | 400/505 [00:01<00:00, 353.82it/s]\u001b[A"
     ]
    },
    {
     "name": "stdout",
     "output_type": "stream",
     "text": [
      "single positional indexer is out-of-bounds\n"
     ]
    },
    {
     "name": "stderr",
     "output_type": "stream",
     "text": [
      "\n",
      " 86%|██████████████████████████████████████████████████████████████████████████████████████████████████████████████▌                 | 436/505 [00:01<00:00, 354.58it/s]\u001b[A\n",
      "100%|████████████████████████████████████████████████████████████████████████████████████████████████████████████████████████████████| 505/505 [00:01<00:00, 356.81it/s]\u001b[A\n"
     ]
    },
    {
     "name": "stdout",
     "output_type": "stream",
     "text": [
      "single positional indexer is out-of-bounds\n",
      "single positional indexer is out-of-bounds\n",
      "single positional indexer is out-of-bounds\n",
      "single positional indexer is out-of-bounds\n",
      "single positional indexer is out-of-bounds\n",
      "single positional indexer is out-of-bounds\n"
     ]
    },
    {
     "name": "stderr",
     "output_type": "stream",
     "text": [
      "\n",
      "  0%|                                                                                                                                           | 0/505 [00:00<?, ?it/s]\u001b[A\n",
      "  7%|████████▉                                                                                                                        | 35/505 [00:00<00:01, 349.92it/s]\u001b[A\n",
      " 14%|██████████████████▏                                                                                                              | 71/505 [00:00<00:01, 355.80it/s]\u001b[A\n",
      " 21%|███████████████████████████                                                                                                     | 107/505 [00:00<00:01, 357.68it/s]\u001b[A"
     ]
    },
    {
     "name": "stdout",
     "output_type": "stream",
     "text": [
      "single positional indexer is out-of-bounds\n",
      "single positional indexer is out-of-bounds\n"
     ]
    },
    {
     "name": "stderr",
     "output_type": "stream",
     "text": [
      "\n",
      " 28%|████████████████████████████████████▏                                                                                           | 143/505 [00:00<00:01, 357.16it/s]\u001b[A\n",
      " 35%|█████████████████████████████████████████████▎                                                                                  | 179/505 [00:00<00:00, 355.59it/s]\u001b[A\n",
      " 43%|██████████████████████████████████████████████████████▍                                                                         | 215/505 [00:00<00:00, 357.05it/s]\u001b[A\n",
      " 50%|███████████████████████████████████████████████████████████████▌                                                                | 251/505 [00:00<00:00, 357.99it/s]\u001b[A\n",
      " 57%|████████████████████████████████████████████████████████████████████████▉                                                       | 288/505 [00:00<00:00, 359.49it/s]\u001b[A\n",
      " 64%|██████████████████████████████████████████████████████████████████████████████████                                              | 324/505 [00:00<00:00, 359.62it/s]\u001b[A\n",
      " 71%|███████████████████████████████████████████████████████████████████████████████████████████▏                                    | 360/505 [00:01<00:00, 358.61it/s]\u001b[A\n",
      " 78%|████████████████████████████████████████████████████████████████████████████████████████████████████▎                           | 396/505 [00:01<00:00, 357.92it/s]\u001b[A\n"
     ]
    },
    {
     "name": "stdout",
     "output_type": "stream",
     "text": [
      "single positional indexer is out-of-bounds\n"
     ]
    },
    {
     "name": "stderr",
     "output_type": "stream",
     "text": [
      " 86%|█████████████████████████████████████████████████████████████████████████████████████████████████████████████▍                  | 432/505 [00:01<00:00, 357.44it/s]\u001b[A\n",
      " 93%|██████████████████████████████████████████████████████████████████████████████████████████████████████████████████████▌         | 468/505 [00:01<00:00, 357.11it/s]\u001b[A\n",
      "100%|████████████████████████████████████████████████████████████████████████████████████████████████████████████████████████████████| 505/505 [00:01<00:00, 357.32it/s]\u001b[A\n"
     ]
    },
    {
     "name": "stdout",
     "output_type": "stream",
     "text": [
      "single positional indexer is out-of-bounds\n",
      "single positional indexer is out-of-bounds\n",
      "single positional indexer is out-of-bounds\n",
      "single positional indexer is out-of-bounds\n",
      "single positional indexer is out-of-bounds\n",
      "single positional indexer is out-of-bounds\n"
     ]
    },
    {
     "name": "stderr",
     "output_type": "stream",
     "text": [
      "\n",
      "  0%|                                                                                                                                           | 0/505 [00:00<?, ?it/s]\u001b[A\n",
      "  7%|████████▉                                                                                                                        | 35/505 [00:00<00:01, 349.93it/s]\u001b[A\n",
      " 14%|█████████████████▉                                                                                                               | 70/505 [00:00<00:01, 345.85it/s]\u001b[A\n",
      " 21%|██████████████████████████▌                                                                                                     | 105/505 [00:00<00:01, 334.06it/s]\u001b[A"
     ]
    },
    {
     "name": "stdout",
     "output_type": "stream",
     "text": [
      "single positional indexer is out-of-bounds\n",
      "single positional indexer is out-of-bounds\n"
     ]
    },
    {
     "name": "stderr",
     "output_type": "stream",
     "text": [
      "\n",
      " 28%|███████████████████████████████████▏                                                                                            | 139/505 [00:00<00:01, 331.22it/s]\u001b[A\n",
      " 34%|███████████████████████████████████████████▊                                                                                    | 173/505 [00:00<00:01, 326.27it/s]\u001b[A\n",
      " 41%|████████████████████████████████████████████████████▏                                                                           | 206/505 [00:00<00:00, 325.33it/s]\u001b[A\n",
      " 47%|████████████████████████████████████████████████████████████▌                                                                   | 239/505 [00:00<00:00, 326.79it/s]\u001b[A\n",
      " 54%|█████████████████████████████████████████████████████████████████████▏                                                          | 273/505 [00:00<00:00, 329.86it/s]\u001b[A\n",
      " 61%|█████████████████████████████████████████████████████████████████████████████▊                                                  | 307/505 [00:00<00:00, 332.96it/s]\u001b[A\n",
      " 68%|██████████████████████████████████████████████████████████████████████████████████████▋                                         | 342/505 [00:01<00:00, 338.14it/s]\u001b[A\n",
      " 75%|███████████████████████████████████████████████████████████████████████████████████████████████▌                                | 377/505 [00:01<00:00, 340.16it/s]\u001b[A\n",
      " 82%|████████████████████████████████████████████████████████████████████████████████████████████████████████▍                       | 412/505 [00:01<00:00, 338.01it/s]\u001b[A"
     ]
    },
    {
     "name": "stdout",
     "output_type": "stream",
     "text": [
      "single positional indexer is out-of-bounds\n"
     ]
    },
    {
     "name": "stderr",
     "output_type": "stream",
     "text": [
      "\n",
      " 89%|█████████████████████████████████████████████████████████████████████████████████████████████████████████████████▎              | 447/505 [00:01<00:00, 339.53it/s]\u001b[A\n",
      "100%|████████████████████████████████████████████████████████████████████████████████████████████████████████████████████████████████| 505/505 [00:01<00:00, 335.36it/s]\u001b[A\n"
     ]
    },
    {
     "name": "stdout",
     "output_type": "stream",
     "text": [
      "single positional indexer is out-of-bounds\n",
      "single positional indexer is out-of-bounds\n",
      "single positional indexer is out-of-bounds\n",
      "single positional indexer is out-of-bounds\n",
      "single positional indexer is out-of-bounds\n",
      "single positional indexer is out-of-bounds\n"
     ]
    },
    {
     "name": "stderr",
     "output_type": "stream",
     "text": [
      "\n",
      "  0%|                                                                                                                                           | 0/505 [00:00<?, ?it/s]\u001b[A\n",
      "  7%|████████▉                                                                                                                        | 35/505 [00:00<00:01, 343.06it/s]\u001b[A\n",
      " 14%|██████████████████▏                                                                                                              | 71/505 [00:00<00:01, 350.85it/s]\u001b[A\n",
      " 21%|███████████████████████████                                                                                                     | 107/505 [00:00<00:01, 351.77it/s]\u001b[A"
     ]
    },
    {
     "name": "stdout",
     "output_type": "stream",
     "text": [
      "single positional indexer is out-of-bounds\n",
      "single positional indexer is out-of-bounds\n"
     ]
    },
    {
     "name": "stderr",
     "output_type": "stream",
     "text": [
      "\n",
      " 28%|████████████████████████████████████▏                                                                                           | 143/505 [00:00<00:01, 342.90it/s]\u001b[A\n",
      " 35%|█████████████████████████████████████████████                                                                                   | 178/505 [00:00<00:00, 340.58it/s]\u001b[A\n",
      " 42%|█████████████████████████████████████████████████████▉                                                                          | 213/505 [00:00<00:00, 338.08it/s]\u001b[A\n",
      " 49%|██████████████████████████████████████████████████████████████▌                                                                 | 247/505 [00:00<00:00, 335.48it/s]\u001b[A\n",
      " 56%|███████████████████████████████████████████████████████████████████████▏                                                        | 281/505 [00:00<00:00, 334.78it/s]\u001b[A\n",
      " 62%|███████████████████████████████████████████████████████████████████████████████▊                                                | 315/505 [00:00<00:00, 335.33it/s]\u001b[A\n",
      " 69%|████████████████████████████████████████████████████████████████████████████████████████▍                                       | 349/505 [00:01<00:00, 334.69it/s]\u001b[A\n",
      " 76%|█████████████████████████████████████████████████████████████████████████████████████████████████                               | 383/505 [00:01<00:00, 333.26it/s]\u001b[A\n",
      " 83%|█████████████████████████████████████████████████████████████████████████████████████████████████████████▉                      | 418/505 [00:01<00:00, 338.24it/s]\u001b[A"
     ]
    },
    {
     "name": "stdout",
     "output_type": "stream",
     "text": [
      "single positional indexer is out-of-bounds\n"
     ]
    },
    {
     "name": "stderr",
     "output_type": "stream",
     "text": [
      "\n",
      " 90%|██████████████████████████████████████████████████████████████████████████████████████████████████████████████████▊             | 453/505 [00:01<00:00, 340.71it/s]\u001b[A\n",
      "100%|████████████████████████████████████████████████████████████████████████████████████████████████████████████████████████████████| 505/505 [00:01<00:00, 338.85it/s]\u001b[A\n",
      " 92%|████████████████████████████████████████████████████████████████████████████████████████████████████████████████████████▉          | 12/13 [01:06<00:05,  5.71s/it]"
     ]
    },
    {
     "name": "stdout",
     "output_type": "stream",
     "text": [
      "single positional indexer is out-of-bounds\n",
      "single positional indexer is out-of-bounds\n",
      "single positional indexer is out-of-bounds\n",
      "single positional indexer is out-of-bounds\n",
      "single positional indexer is out-of-bounds\n"
     ]
    },
    {
     "name": "stderr",
     "output_type": "stream",
     "text": [
      "\n",
      "  0%|                                                                                                                                           | 0/505 [00:00<?, ?it/s]\u001b[A\n",
      "  7%|████████▉                                                                                                                        | 35/505 [00:00<00:01, 346.46it/s]\u001b[A\n",
      " 14%|█████████████████▉                                                                                                               | 70/505 [00:00<00:01, 342.47it/s]\u001b[A\n",
      " 21%|██████████████████████████▌                                                                                                     | 105/505 [00:00<00:01, 345.83it/s]\u001b[A"
     ]
    },
    {
     "name": "stdout",
     "output_type": "stream",
     "text": [
      "single positional indexer is out-of-bounds\n",
      "single positional indexer is out-of-bounds\n"
     ]
    },
    {
     "name": "stderr",
     "output_type": "stream",
     "text": [
      "\n",
      " 28%|███████████████████████████████████▉                                                                                            | 142/505 [00:00<00:01, 353.89it/s]\u001b[A\n",
      " 35%|█████████████████████████████████████████████                                                                                   | 178/505 [00:00<00:00, 356.05it/s]\u001b[A\n",
      " 43%|██████████████████████████████████████████████████████▍                                                                         | 215/505 [00:00<00:00, 359.52it/s]\u001b[A\n",
      " 50%|███████████████████████████████████████████████████████████████▌                                                                | 251/505 [00:00<00:00, 355.04it/s]\u001b[A\n",
      " 57%|████████████████████████████████████████████████████████████████████████▉                                                       | 288/505 [00:00<00:00, 357.47it/s]\u001b[A\n",
      " 64%|██████████████████████████████████████████████████████████████████████████████████                                              | 324/505 [00:00<00:00, 357.12it/s]\u001b[A\n",
      " 71%|███████████████████████████████████████████████████████████████████████████████████████████▏                                    | 360/505 [00:01<00:00, 357.97it/s]\u001b[A\n",
      " 78%|████████████████████████████████████████████████████████████████████████████████████████████████████▎                           | 396/505 [00:01<00:00, 354.26it/s]\u001b[A\n"
     ]
    },
    {
     "name": "stdout",
     "output_type": "stream",
     "text": [
      "single positional indexer is out-of-bounds\n"
     ]
    },
    {
     "name": "stderr",
     "output_type": "stream",
     "text": [
      " 86%|█████████████████████████████████████████████████████████████████████████████████████████████████████████████▍                  | 432/505 [00:01<00:00, 352.78it/s]\u001b[A\n",
      "100%|████████████████████████████████████████████████████████████████████████████████████████████████████████████████████████████████| 505/505 [00:01<00:00, 355.05it/s]\u001b[A\n"
     ]
    },
    {
     "name": "stdout",
     "output_type": "stream",
     "text": [
      "single positional indexer is out-of-bounds\n",
      "single positional indexer is out-of-bounds\n",
      "single positional indexer is out-of-bounds\n",
      "single positional indexer is out-of-bounds\n",
      "single positional indexer is out-of-bounds\n"
     ]
    },
    {
     "name": "stderr",
     "output_type": "stream",
     "text": [
      "\n",
      "  0%|                                                                                                                                           | 0/505 [00:00<?, ?it/s]\u001b[A\n",
      "  7%|████████▉                                                                                                                        | 35/505 [00:00<00:01, 349.92it/s]\u001b[A"
     ]
    },
    {
     "name": "stdout",
     "output_type": "stream",
     "text": [
      "single positional indexer is out-of-bounds"
     ]
    },
    {
     "name": "stderr",
     "output_type": "stream",
     "text": [
      "\n",
      " 14%|██████████████████▏                                                                                                              | 71/505 [00:00<00:01, 355.80it/s]\u001b[A\n",
      " 21%|███████████████████████████                                                                                                     | 107/505 [00:00<00:01, 357.68it/s]\u001b[A"
     ]
    },
    {
     "name": "stdout",
     "output_type": "stream",
     "text": [
      "\n",
      "single positional indexer is out-of-bounds\n"
     ]
    },
    {
     "name": "stderr",
     "output_type": "stream",
     "text": [
      "\n",
      " 28%|████████████████████████████████████▏                                                                                           | 143/505 [00:00<00:01, 357.15it/s]\u001b[A\n",
      " 36%|█████████████████████████████████████████████▌                                                                                  | 180/505 [00:00<00:00, 360.45it/s]\u001b[A\n",
      " 43%|███████████████████████████████████████████████████████                                                                         | 217/505 [00:00<00:00, 357.60it/s]\u001b[A\n",
      " 50%|████████████████████████████████████████████████████████████████▍                                                               | 254/505 [00:00<00:00, 359.26it/s]\u001b[A\n",
      " 58%|█████████████████████████████████████████████████████████████████████████▊                                                      | 291/505 [00:00<00:00, 360.34it/s]\u001b[A\n",
      " 65%|███████████████████████████████████████████████████████████████████████████████████▏                                            | 328/505 [00:00<00:00, 361.07it/s]\u001b[A\n",
      " 72%|████████████████████████████████████████████████████████████████████████████████████████████▌                                   | 365/505 [00:01<00:00, 360.47it/s]\u001b[A\n",
      " 80%|█████████████████████████████████████████████████████████████████████████████████████████████████████▉                          | 402/505 [00:01<00:00, 361.14it/s]\u001b[A\n",
      " 87%|███████████████████████████████████████████████████████████████████████████████████████████████████████████████▎                | 439/505 [00:01<00:00, 360.53it/s]\u001b[A\n",
      "100%|████████████████████████████████████████████████████████████████████████████████████████████████████████████████████████████████| 505/505 [00:01<00:00, 357.57it/s]\u001b[A\n"
     ]
    },
    {
     "name": "stdout",
     "output_type": "stream",
     "text": [
      "single positional indexer is out-of-bounds\n",
      "single positional indexer is out-of-bounds\n",
      "single positional indexer is out-of-bounds\n",
      "single positional indexer is out-of-bounds\n",
      "single positional indexer is out-of-bounds\n"
     ]
    },
    {
     "name": "stderr",
     "output_type": "stream",
     "text": [
      "\n",
      "  0%|                                                                                                                                           | 0/505 [00:00<?, ?it/s]\u001b[A\n",
      "  7%|████████▍                                                                                                                        | 33/505 [00:00<00:01, 323.46it/s]\u001b[A\n",
      " 13%|████████████████▊                                                                                                                | 66/505 [00:00<00:01, 325.33it/s]\u001b[A\n",
      " 20%|█████████████████████████▎                                                                                                      | 100/505 [00:00<00:01, 329.05it/s]\u001b[A\n"
     ]
    },
    {
     "name": "stdout",
     "output_type": "stream",
     "text": [
      "single positional indexer is out-of-bounds\n",
      "single positional indexer is out-of-bounds\n"
     ]
    },
    {
     "name": "stderr",
     "output_type": "stream",
     "text": [
      " 26%|█████████████████████████████████▋                                                                                              | 133/505 [00:00<00:01, 329.39it/s]\u001b[A\n",
      " 33%|██████████████████████████████████████████                                                                                      | 166/505 [00:00<00:01, 326.08it/s]\u001b[A\n",
      " 40%|██████████████████████████████████████████████████▋                                                                             | 200/505 [00:00<00:00, 328.52it/s]\u001b[A\n",
      " 46%|███████████████████████████████████████████████████████████▎                                                                    | 234/505 [00:00<00:00, 331.14it/s]\u001b[A\n",
      " 53%|███████████████████████████████████████████████████████████████████▉                                                            | 268/505 [00:00<00:00, 329.75it/s]\u001b[A\n",
      " 60%|████████████████████████████████████████████████████████████████████████████▌                                                   | 302/505 [00:00<00:00, 330.84it/s]\u001b[A\n",
      " 67%|█████████████████████████████████████████████████████████████████████████████████████▍                                          | 337/505 [00:01<00:00, 335.62it/s]\u001b[A\n",
      " 74%|██████████████████████████████████████████████████████████████████████████████████████████████▎                                 | 372/505 [00:01<00:00, 337.90it/s]\u001b[A\n",
      " 80%|██████████████████████████████████████████████████████████████████████████████████████████████████████▉                         | 406/505 [00:01<00:00, 338.51it/s]\u001b[A\n",
      " 87%|███████████████████████████████████████████████████████████████████████████████████████████████████████████████▌                | 440/505 [00:01<00:00, 333.92it/s]\u001b[A\n",
      "100%|████████████████████████████████████████████████████████████████████████████████████████████████████████████████████████████████| 505/505 [00:01<00:00, 332.83it/s]\u001b[A\n"
     ]
    },
    {
     "name": "stdout",
     "output_type": "stream",
     "text": [
      "single positional indexer is out-of-bounds\n",
      "single positional indexer is out-of-bounds\n",
      "single positional indexer is out-of-bounds\n",
      "single positional indexer is out-of-bounds\n",
      "single positional indexer is out-of-bounds\n"
     ]
    },
    {
     "name": "stderr",
     "output_type": "stream",
     "text": [
      "\n",
      "  0%|                                                                                                                                           | 0/505 [00:00<?, ?it/s]\u001b[A\n",
      " 11%|██████████████▎                                                                                                                  | 56/505 [00:00<00:00, 559.88it/s]\u001b[A"
     ]
    },
    {
     "name": "stdout",
     "output_type": "stream",
     "text": [
      "single positional indexer is out-of-bounds\n",
      "single positional indexer is out-of-bounds\n"
     ]
    },
    {
     "name": "stderr",
     "output_type": "stream",
     "text": [
      "\n",
      " 23%|█████████████████████████████▏                                                                                                  | 115/505 [00:00<00:00, 574.14it/s]\u001b[A\n",
      " 34%|███████████████████████████████████████████▊                                                                                    | 173/505 [00:00<00:00, 576.75it/s]\u001b[A\n",
      " 46%|██████████████████████████████████████████████████████████▊                                                                     | 232/505 [00:00<00:00, 581.92it/s]\u001b[A\n",
      " 58%|█████████████████████████████████████████████████████████████████████████▊                                                      | 291/505 [00:00<00:00, 582.68it/s]\u001b[A\n",
      " 69%|████████████████████████████████████████████████████████████████████████████████████████▋                                       | 350/505 [00:00<00:00, 585.12it/s]\u001b[A\n",
      " 81%|███████████████████████████████████████████████████████████████████████████████████████████████████████▉                        | 410/505 [00:00<00:00, 589.93it/s]\u001b[A"
     ]
    },
    {
     "name": "stdout",
     "output_type": "stream",
     "text": [
      "single positional indexer is out-of-bounds\n"
     ]
    },
    {
     "name": "stderr",
     "output_type": "stream",
     "text": [
      "\n",
      "100%|████████████████████████████████████████████████████████████████████████████████████████████████████████████████████████████████| 505/505 [00:00<00:00, 585.72it/s]\u001b[A\n",
      "100%|███████████████████████████████████████████████████████████████████████████████████████████████████████████████████████████████████| 13/13 [01:11<00:00,  5.53s/it]"
     ]
    },
    {
     "name": "stdout",
     "output_type": "stream",
     "text": [
      "single positional indexer is out-of-bounds\n",
      "single positional indexer is out-of-bounds\n",
      "single positional indexer is out-of-bounds\n",
      "single positional indexer is out-of-bounds\n"
     ]
    },
    {
     "name": "stderr",
     "output_type": "stream",
     "text": [
      "\n"
     ]
    }
   ],
   "source": [
    "\n",
    "start = 2015\n",
    "end = 2022\n",
    "sim = []\n",
    "for year in tqdm(range(start,end)):\n",
    "    for quarter in range(1,5):\n",
    "        quarterly = prices[(prices[\"year\"]==year) & (prices[\"quarter\"]==quarter)]\n",
    "        for ticker in sp5[\"Symbol\"].unique():\n",
    "            try:\n",
    "                ticker_data = quarterly[quarterly[\"ticker\"]==ticker].sort_values(\"date\")\n",
    "                sp = ticker_data.iloc[0][\"adjClose\"].item()\n",
    "                ticker_data[\"quarterly_performance\"] = (ticker_data[\"adjClose\"] - sp) / sp\n",
    "                sim.append(ticker_data)\n",
    "            except Exception as e:\n",
    "                print(str(e))"
   ]
  },
  {
   "cell_type": "code",
   "execution_count": 33,
   "id": "30f60de4",
   "metadata": {},
   "outputs": [
    {
     "ename": "TypeError",
     "evalue": "'>=' not supported between instances of 'numpy.ndarray' and 'Timestamp'",
     "output_type": "error",
     "traceback": [
      "\u001b[1;31m---------------------------------------------------------------------------\u001b[0m",
      "\u001b[1;31mTypeError\u001b[0m                                 Traceback (most recent call last)",
      "\u001b[1;32m~\\AppData\\Local\\Temp/ipykernel_12924/2215473040.py\u001b[0m in \u001b[0;36m<module>\u001b[1;34m\u001b[0m\n\u001b[0;32m      1\u001b[0m \u001b[0moriginal\u001b[0m \u001b[1;33m=\u001b[0m \u001b[0mpd\u001b[0m\u001b[1;33m.\u001b[0m\u001b[0mconcat\u001b[0m\u001b[1;33m(\u001b[0m\u001b[0msim\u001b[0m\u001b[1;33m)\u001b[0m\u001b[1;33m.\u001b[0m\u001b[0msort_values\u001b[0m\u001b[1;33m(\u001b[0m\u001b[1;34m\"date\"\u001b[0m\u001b[1;33m)\u001b[0m\u001b[1;33m\u001b[0m\u001b[1;33m\u001b[0m\u001b[0m\n\u001b[1;32m----> 2\u001b[1;33m \u001b[0moriginal\u001b[0m \u001b[1;33m=\u001b[0m \u001b[0moriginal\u001b[0m\u001b[1;33m[\u001b[0m\u001b[0moriginal\u001b[0m\u001b[1;33m[\u001b[0m\u001b[1;34m\"year\"\u001b[0m\u001b[1;33m]\u001b[0m \u001b[1;33m>=\u001b[0m \u001b[0mstart\u001b[0m\u001b[1;33m]\u001b[0m\u001b[1;33m\u001b[0m\u001b[1;33m\u001b[0m\u001b[0m\n\u001b[0m",
      "\u001b[1;32m~\\AppData\\Roaming\\Python\\Python39\\site-packages\\pandas\\core\\ops\\common.py\u001b[0m in \u001b[0;36mnew_method\u001b[1;34m(self, other)\u001b[0m\n\u001b[0;32m     67\u001b[0m         \u001b[0mother\u001b[0m \u001b[1;33m=\u001b[0m \u001b[0mitem_from_zerodim\u001b[0m\u001b[1;33m(\u001b[0m\u001b[0mother\u001b[0m\u001b[1;33m)\u001b[0m\u001b[1;33m\u001b[0m\u001b[1;33m\u001b[0m\u001b[0m\n\u001b[0;32m     68\u001b[0m \u001b[1;33m\u001b[0m\u001b[0m\n\u001b[1;32m---> 69\u001b[1;33m         \u001b[1;32mreturn\u001b[0m \u001b[0mmethod\u001b[0m\u001b[1;33m(\u001b[0m\u001b[0mself\u001b[0m\u001b[1;33m,\u001b[0m \u001b[0mother\u001b[0m\u001b[1;33m)\u001b[0m\u001b[1;33m\u001b[0m\u001b[1;33m\u001b[0m\u001b[0m\n\u001b[0m\u001b[0;32m     70\u001b[0m \u001b[1;33m\u001b[0m\u001b[0m\n\u001b[0;32m     71\u001b[0m     \u001b[1;32mreturn\u001b[0m \u001b[0mnew_method\u001b[0m\u001b[1;33m\u001b[0m\u001b[1;33m\u001b[0m\u001b[0m\n",
      "\u001b[1;32m~\\AppData\\Roaming\\Python\\Python39\\site-packages\\pandas\\core\\arraylike.py\u001b[0m in \u001b[0;36m__ge__\u001b[1;34m(self, other)\u001b[0m\n\u001b[0;32m     50\u001b[0m     \u001b[1;33m@\u001b[0m\u001b[0munpack_zerodim_and_defer\u001b[0m\u001b[1;33m(\u001b[0m\u001b[1;34m\"__ge__\"\u001b[0m\u001b[1;33m)\u001b[0m\u001b[1;33m\u001b[0m\u001b[1;33m\u001b[0m\u001b[0m\n\u001b[0;32m     51\u001b[0m     \u001b[1;32mdef\u001b[0m \u001b[0m__ge__\u001b[0m\u001b[1;33m(\u001b[0m\u001b[0mself\u001b[0m\u001b[1;33m,\u001b[0m \u001b[0mother\u001b[0m\u001b[1;33m)\u001b[0m\u001b[1;33m:\u001b[0m\u001b[1;33m\u001b[0m\u001b[1;33m\u001b[0m\u001b[0m\n\u001b[1;32m---> 52\u001b[1;33m         \u001b[1;32mreturn\u001b[0m \u001b[0mself\u001b[0m\u001b[1;33m.\u001b[0m\u001b[0m_cmp_method\u001b[0m\u001b[1;33m(\u001b[0m\u001b[0mother\u001b[0m\u001b[1;33m,\u001b[0m \u001b[0moperator\u001b[0m\u001b[1;33m.\u001b[0m\u001b[0mge\u001b[0m\u001b[1;33m)\u001b[0m\u001b[1;33m\u001b[0m\u001b[1;33m\u001b[0m\u001b[0m\n\u001b[0m\u001b[0;32m     53\u001b[0m \u001b[1;33m\u001b[0m\u001b[0m\n\u001b[0;32m     54\u001b[0m     \u001b[1;31m# -------------------------------------------------------------\u001b[0m\u001b[1;33m\u001b[0m\u001b[1;33m\u001b[0m\u001b[1;33m\u001b[0m\u001b[0m\n",
      "\u001b[1;32m~\\AppData\\Roaming\\Python\\Python39\\site-packages\\pandas\\core\\series.py\u001b[0m in \u001b[0;36m_cmp_method\u001b[1;34m(self, other, op)\u001b[0m\n\u001b[0;32m   5499\u001b[0m \u001b[1;33m\u001b[0m\u001b[0m\n\u001b[0;32m   5500\u001b[0m         \u001b[1;32mwith\u001b[0m \u001b[0mnp\u001b[0m\u001b[1;33m.\u001b[0m\u001b[0merrstate\u001b[0m\u001b[1;33m(\u001b[0m\u001b[0mall\u001b[0m\u001b[1;33m=\u001b[0m\u001b[1;34m\"ignore\"\u001b[0m\u001b[1;33m)\u001b[0m\u001b[1;33m:\u001b[0m\u001b[1;33m\u001b[0m\u001b[1;33m\u001b[0m\u001b[0m\n\u001b[1;32m-> 5501\u001b[1;33m             \u001b[0mres_values\u001b[0m \u001b[1;33m=\u001b[0m \u001b[0mops\u001b[0m\u001b[1;33m.\u001b[0m\u001b[0mcomparison_op\u001b[0m\u001b[1;33m(\u001b[0m\u001b[0mlvalues\u001b[0m\u001b[1;33m,\u001b[0m \u001b[0mrvalues\u001b[0m\u001b[1;33m,\u001b[0m \u001b[0mop\u001b[0m\u001b[1;33m)\u001b[0m\u001b[1;33m\u001b[0m\u001b[1;33m\u001b[0m\u001b[0m\n\u001b[0m\u001b[0;32m   5502\u001b[0m \u001b[1;33m\u001b[0m\u001b[0m\n\u001b[0;32m   5503\u001b[0m         \u001b[1;32mreturn\u001b[0m \u001b[0mself\u001b[0m\u001b[1;33m.\u001b[0m\u001b[0m_construct_result\u001b[0m\u001b[1;33m(\u001b[0m\u001b[0mres_values\u001b[0m\u001b[1;33m,\u001b[0m \u001b[0mname\u001b[0m\u001b[1;33m=\u001b[0m\u001b[0mres_name\u001b[0m\u001b[1;33m)\u001b[0m\u001b[1;33m\u001b[0m\u001b[1;33m\u001b[0m\u001b[0m\n",
      "\u001b[1;32m~\\AppData\\Roaming\\Python\\Python39\\site-packages\\pandas\\core\\ops\\array_ops.py\u001b[0m in \u001b[0;36mcomparison_op\u001b[1;34m(left, right, op)\u001b[0m\n\u001b[0;32m    268\u001b[0m     ):\n\u001b[0;32m    269\u001b[0m         \u001b[1;31m# Call the method on lvalues\u001b[0m\u001b[1;33m\u001b[0m\u001b[1;33m\u001b[0m\u001b[1;33m\u001b[0m\u001b[0m\n\u001b[1;32m--> 270\u001b[1;33m         \u001b[0mres_values\u001b[0m \u001b[1;33m=\u001b[0m \u001b[0mop\u001b[0m\u001b[1;33m(\u001b[0m\u001b[0mlvalues\u001b[0m\u001b[1;33m,\u001b[0m \u001b[0mrvalues\u001b[0m\u001b[1;33m)\u001b[0m\u001b[1;33m\u001b[0m\u001b[1;33m\u001b[0m\u001b[0m\n\u001b[0m\u001b[0;32m    271\u001b[0m \u001b[1;33m\u001b[0m\u001b[0m\n\u001b[0;32m    272\u001b[0m     \u001b[1;32melif\u001b[0m \u001b[0mis_scalar\u001b[0m\u001b[1;33m(\u001b[0m\u001b[0mrvalues\u001b[0m\u001b[1;33m)\u001b[0m \u001b[1;32mand\u001b[0m \u001b[0misna\u001b[0m\u001b[1;33m(\u001b[0m\u001b[0mrvalues\u001b[0m\u001b[1;33m)\u001b[0m\u001b[1;33m:\u001b[0m\u001b[1;33m\u001b[0m\u001b[1;33m\u001b[0m\u001b[0m\n",
      "\u001b[1;31mTypeError\u001b[0m: '>=' not supported between instances of 'numpy.ndarray' and 'Timestamp'"
     ]
    }
   ],
   "source": [
    "original = pd.concat(sim).sort_values(\"date\")"
   ]
  },
  {
   "cell_type": "code",
   "execution_count": 40,
   "id": "630ad7b9",
   "metadata": {},
   "outputs": [],
   "source": [
    "original = original[original[\"year\"] >= 2018]"
   ]
  },
  {
   "cell_type": "code",
   "execution_count": 81,
   "id": "66c4d574",
   "metadata": {},
   "outputs": [
    {
     "data": {
      "text/html": [
       "<div>\n",
       "<style scoped>\n",
       "    .dataframe tbody tr th:only-of-type {\n",
       "        vertical-align: middle;\n",
       "    }\n",
       "\n",
       "    .dataframe tbody tr th {\n",
       "        vertical-align: top;\n",
       "    }\n",
       "\n",
       "    .dataframe thead th {\n",
       "        text-align: right;\n",
       "    }\n",
       "</style>\n",
       "<table border=\"1\" class=\"dataframe\">\n",
       "  <thead>\n",
       "    <tr style=\"text-align: right;\">\n",
       "      <th></th>\n",
       "      <th>_id</th>\n",
       "      <th>date</th>\n",
       "      <th>close</th>\n",
       "      <th>high</th>\n",
       "      <th>low</th>\n",
       "      <th>open</th>\n",
       "      <th>volume</th>\n",
       "      <th>adjClose</th>\n",
       "      <th>adjHigh</th>\n",
       "      <th>adjLow</th>\n",
       "      <th>adjOpen</th>\n",
       "      <th>adjVolume</th>\n",
       "      <th>divCash</th>\n",
       "      <th>splitFactor</th>\n",
       "      <th>ticker</th>\n",
       "      <th>year</th>\n",
       "      <th>quarter</th>\n",
       "      <th>week</th>\n",
       "      <th>month</th>\n",
       "      <th>quarterly_performance</th>\n",
       "    </tr>\n",
       "  </thead>\n",
       "  <tbody>\n",
       "    <tr>\n",
       "      <th>1808321</th>\n",
       "      <td>6157f09d20b66d7211790dd3</td>\n",
       "      <td>2018-01-02 00:00:00+00:00</td>\n",
       "      <td>33.51</td>\n",
       "      <td>33.57</td>\n",
       "      <td>32.83</td>\n",
       "      <td>32.99</td>\n",
       "      <td>5446404</td>\n",
       "      <td>32.081724</td>\n",
       "      <td>32.139167</td>\n",
       "      <td>31.430707</td>\n",
       "      <td>31.583888</td>\n",
       "      <td>5446404</td>\n",
       "      <td>0.00</td>\n",
       "      <td>1.0</td>\n",
       "      <td>MGM</td>\n",
       "      <td>2018</td>\n",
       "      <td>1</td>\n",
       "      <td>1</td>\n",
       "      <td>1</td>\n",
       "      <td>-0.000000</td>\n",
       "    </tr>\n",
       "    <tr>\n",
       "      <th>1801333</th>\n",
       "      <td>6157f09b20b66d721178f287</td>\n",
       "      <td>2018-01-02 00:00:00+00:00</td>\n",
       "      <td>626.10</td>\n",
       "      <td>627.20</td>\n",
       "      <td>621.53</td>\n",
       "      <td>622.44</td>\n",
       "      <td>126886</td>\n",
       "      <td>626.100000</td>\n",
       "      <td>627.200000</td>\n",
       "      <td>621.530000</td>\n",
       "      <td>622.440000</td>\n",
       "      <td>126886</td>\n",
       "      <td>0.00</td>\n",
       "      <td>1.0</td>\n",
       "      <td>MTD</td>\n",
       "      <td>2018</td>\n",
       "      <td>1</td>\n",
       "      <td>1</td>\n",
       "      <td>1</td>\n",
       "      <td>-0.000000</td>\n",
       "    </tr>\n",
       "    <tr>\n",
       "      <th>1795324</th>\n",
       "      <td>6157f09920b66d721178db0e</td>\n",
       "      <td>2018-01-02 00:00:00+00:00</td>\n",
       "      <td>50.18</td>\n",
       "      <td>50.86</td>\n",
       "      <td>49.65</td>\n",
       "      <td>50.81</td>\n",
       "      <td>5408383</td>\n",
       "      <td>43.477438</td>\n",
       "      <td>44.066610</td>\n",
       "      <td>43.018230</td>\n",
       "      <td>44.023289</td>\n",
       "      <td>5408383</td>\n",
       "      <td>0.00</td>\n",
       "      <td>1.0</td>\n",
       "      <td>MET</td>\n",
       "      <td>2018</td>\n",
       "      <td>1</td>\n",
       "      <td>1</td>\n",
       "      <td>1</td>\n",
       "      <td>-0.000000</td>\n",
       "    </tr>\n",
       "    <tr>\n",
       "      <th>126480</th>\n",
       "      <td>6157ee4520b66d72115f6422</td>\n",
       "      <td>2018-01-02 00:00:00+00:00</td>\n",
       "      <td>101.92</td>\n",
       "      <td>104.52</td>\n",
       "      <td>101.68</td>\n",
       "      <td>104.07</td>\n",
       "      <td>4788245</td>\n",
       "      <td>94.069027</td>\n",
       "      <td>96.468747</td>\n",
       "      <td>93.847514</td>\n",
       "      <td>96.053411</td>\n",
       "      <td>4788245</td>\n",
       "      <td>0.00</td>\n",
       "      <td>1.0</td>\n",
       "      <td>ALL</td>\n",
       "      <td>2018</td>\n",
       "      <td>1</td>\n",
       "      <td>1</td>\n",
       "      <td>1</td>\n",
       "      <td>-0.000000</td>\n",
       "    </tr>\n",
       "    <tr>\n",
       "      <th>1789916</th>\n",
       "      <td>6157f09720b66d721178c5ee</td>\n",
       "      <td>2018-01-02 00:00:00+00:00</td>\n",
       "      <td>56.22</td>\n",
       "      <td>56.75</td>\n",
       "      <td>56.05</td>\n",
       "      <td>56.59</td>\n",
       "      <td>10048319</td>\n",
       "      <td>47.832748</td>\n",
       "      <td>48.283679</td>\n",
       "      <td>47.688109</td>\n",
       "      <td>48.147549</td>\n",
       "      <td>10530638</td>\n",
       "      <td>0.00</td>\n",
       "      <td>1.0</td>\n",
       "      <td>MRK</td>\n",
       "      <td>2018</td>\n",
       "      <td>1</td>\n",
       "      <td>1</td>\n",
       "      <td>1</td>\n",
       "      <td>-0.000000</td>\n",
       "    </tr>\n",
       "    <tr>\n",
       "      <th>...</th>\n",
       "      <td>...</td>\n",
       "      <td>...</td>\n",
       "      <td>...</td>\n",
       "      <td>...</td>\n",
       "      <td>...</td>\n",
       "      <td>...</td>\n",
       "      <td>...</td>\n",
       "      <td>...</td>\n",
       "      <td>...</td>\n",
       "      <td>...</td>\n",
       "      <td>...</td>\n",
       "      <td>...</td>\n",
       "      <td>...</td>\n",
       "      <td>...</td>\n",
       "      <td>...</td>\n",
       "      <td>...</td>\n",
       "      <td>...</td>\n",
       "      <td>...</td>\n",
       "      <td>...</td>\n",
       "      <td>...</td>\n",
       "    </tr>\n",
       "    <tr>\n",
       "      <th>2929518</th>\n",
       "      <td>6189d1b4c7b9b11a8a6c0813</td>\n",
       "      <td>2021-11-08 00:00:00+00:00</td>\n",
       "      <td>55.28</td>\n",
       "      <td>56.42</td>\n",
       "      <td>54.91</td>\n",
       "      <td>56.42</td>\n",
       "      <td>1319126</td>\n",
       "      <td>55.280000</td>\n",
       "      <td>56.420000</td>\n",
       "      <td>54.910000</td>\n",
       "      <td>56.420000</td>\n",
       "      <td>1319126</td>\n",
       "      <td>0.00</td>\n",
       "      <td>1.0</td>\n",
       "      <td>LNT</td>\n",
       "      <td>2021</td>\n",
       "      <td>4</td>\n",
       "      <td>45</td>\n",
       "      <td>11</td>\n",
       "      <td>0.008964</td>\n",
       "    </tr>\n",
       "    <tr>\n",
       "      <th>2929943</th>\n",
       "      <td>6189d2c6c7b9b11a8a6c09bc</td>\n",
       "      <td>2021-11-08 00:00:00+00:00</td>\n",
       "      <td>187.30</td>\n",
       "      <td>187.59</td>\n",
       "      <td>184.58</td>\n",
       "      <td>186.20</td>\n",
       "      <td>1381807</td>\n",
       "      <td>187.300000</td>\n",
       "      <td>187.590000</td>\n",
       "      <td>184.580000</td>\n",
       "      <td>186.200000</td>\n",
       "      <td>1381807</td>\n",
       "      <td>0.00</td>\n",
       "      <td>1.0</td>\n",
       "      <td>TT</td>\n",
       "      <td>2021</td>\n",
       "      <td>4</td>\n",
       "      <td>45</td>\n",
       "      <td>11</td>\n",
       "      <td>-0.071878</td>\n",
       "    </tr>\n",
       "    <tr>\n",
       "      <th>2929807</th>\n",
       "      <td>6189d26fc7b9b11a8a6c0934</td>\n",
       "      <td>2021-11-08 00:00:00+00:00</td>\n",
       "      <td>63.74</td>\n",
       "      <td>64.63</td>\n",
       "      <td>63.58</td>\n",
       "      <td>64.02</td>\n",
       "      <td>4402215</td>\n",
       "      <td>63.740000</td>\n",
       "      <td>64.630000</td>\n",
       "      <td>63.580000</td>\n",
       "      <td>64.020000</td>\n",
       "      <td>4402215</td>\n",
       "      <td>0.48</td>\n",
       "      <td>1.0</td>\n",
       "      <td>MET</td>\n",
       "      <td>2021</td>\n",
       "      <td>4</td>\n",
       "      <td>45</td>\n",
       "      <td>11</td>\n",
       "      <td>-0.019514</td>\n",
       "    </tr>\n",
       "    <tr>\n",
       "      <th>2929805</th>\n",
       "      <td>6189d26ec7b9b11a8a6c0932</td>\n",
       "      <td>2021-11-08 00:00:00+00:00</td>\n",
       "      <td>123.02</td>\n",
       "      <td>123.96</td>\n",
       "      <td>122.34</td>\n",
       "      <td>123.03</td>\n",
       "      <td>4181678</td>\n",
       "      <td>123.020000</td>\n",
       "      <td>123.960000</td>\n",
       "      <td>122.340000</td>\n",
       "      <td>123.030000</td>\n",
       "      <td>4181678</td>\n",
       "      <td>0.00</td>\n",
       "      <td>1.0</td>\n",
       "      <td>MDT</td>\n",
       "      <td>2021</td>\n",
       "      <td>4</td>\n",
       "      <td>45</td>\n",
       "      <td>11</td>\n",
       "      <td>0.033697</td>\n",
       "    </tr>\n",
       "    <tr>\n",
       "      <th>2929997</th>\n",
       "      <td>6189d2e7c7b9b11a8a6c09f2</td>\n",
       "      <td>2021-11-08 00:00:00+00:00</td>\n",
       "      <td>126.22</td>\n",
       "      <td>127.33</td>\n",
       "      <td>125.97</td>\n",
       "      <td>126.43</td>\n",
       "      <td>834836</td>\n",
       "      <td>126.220000</td>\n",
       "      <td>127.330000</td>\n",
       "      <td>125.970000</td>\n",
       "      <td>126.430000</td>\n",
       "      <td>834836</td>\n",
       "      <td>0.00</td>\n",
       "      <td>1.0</td>\n",
       "      <td>YUM</td>\n",
       "      <td>2021</td>\n",
       "      <td>4</td>\n",
       "      <td>45</td>\n",
       "      <td>11</td>\n",
       "      <td>-0.000000</td>\n",
       "    </tr>\n",
       "  </tbody>\n",
       "</table>\n",
       "<p>479128 rows × 20 columns</p>\n",
       "</div>"
      ],
      "text/plain": [
       "                              _id                      date   close    high  \\\n",
       "1808321  6157f09d20b66d7211790dd3 2018-01-02 00:00:00+00:00   33.51   33.57   \n",
       "1801333  6157f09b20b66d721178f287 2018-01-02 00:00:00+00:00  626.10  627.20   \n",
       "1795324  6157f09920b66d721178db0e 2018-01-02 00:00:00+00:00   50.18   50.86   \n",
       "126480   6157ee4520b66d72115f6422 2018-01-02 00:00:00+00:00  101.92  104.52   \n",
       "1789916  6157f09720b66d721178c5ee 2018-01-02 00:00:00+00:00   56.22   56.75   \n",
       "...                           ...                       ...     ...     ...   \n",
       "2929518  6189d1b4c7b9b11a8a6c0813 2021-11-08 00:00:00+00:00   55.28   56.42   \n",
       "2929943  6189d2c6c7b9b11a8a6c09bc 2021-11-08 00:00:00+00:00  187.30  187.59   \n",
       "2929807  6189d26fc7b9b11a8a6c0934 2021-11-08 00:00:00+00:00   63.74   64.63   \n",
       "2929805  6189d26ec7b9b11a8a6c0932 2021-11-08 00:00:00+00:00  123.02  123.96   \n",
       "2929997  6189d2e7c7b9b11a8a6c09f2 2021-11-08 00:00:00+00:00  126.22  127.33   \n",
       "\n",
       "            low    open    volume    adjClose     adjHigh      adjLow  \\\n",
       "1808321   32.83   32.99   5446404   32.081724   32.139167   31.430707   \n",
       "1801333  621.53  622.44    126886  626.100000  627.200000  621.530000   \n",
       "1795324   49.65   50.81   5408383   43.477438   44.066610   43.018230   \n",
       "126480   101.68  104.07   4788245   94.069027   96.468747   93.847514   \n",
       "1789916   56.05   56.59  10048319   47.832748   48.283679   47.688109   \n",
       "...         ...     ...       ...         ...         ...         ...   \n",
       "2929518   54.91   56.42   1319126   55.280000   56.420000   54.910000   \n",
       "2929943  184.58  186.20   1381807  187.300000  187.590000  184.580000   \n",
       "2929807   63.58   64.02   4402215   63.740000   64.630000   63.580000   \n",
       "2929805  122.34  123.03   4181678  123.020000  123.960000  122.340000   \n",
       "2929997  125.97  126.43    834836  126.220000  127.330000  125.970000   \n",
       "\n",
       "            adjOpen  adjVolume  divCash  splitFactor ticker  year  quarter  \\\n",
       "1808321   31.583888    5446404     0.00          1.0    MGM  2018        1   \n",
       "1801333  622.440000     126886     0.00          1.0    MTD  2018        1   \n",
       "1795324   44.023289    5408383     0.00          1.0    MET  2018        1   \n",
       "126480    96.053411    4788245     0.00          1.0    ALL  2018        1   \n",
       "1789916   48.147549   10530638     0.00          1.0    MRK  2018        1   \n",
       "...             ...        ...      ...          ...    ...   ...      ...   \n",
       "2929518   56.420000    1319126     0.00          1.0    LNT  2021        4   \n",
       "2929943  186.200000    1381807     0.00          1.0     TT  2021        4   \n",
       "2929807   64.020000    4402215     0.48          1.0    MET  2021        4   \n",
       "2929805  123.030000    4181678     0.00          1.0    MDT  2021        4   \n",
       "2929997  126.430000     834836     0.00          1.0    YUM  2021        4   \n",
       "\n",
       "         week  month  quarterly_performance  \n",
       "1808321     1      1              -0.000000  \n",
       "1801333     1      1              -0.000000  \n",
       "1795324     1      1              -0.000000  \n",
       "126480      1      1              -0.000000  \n",
       "1789916     1      1              -0.000000  \n",
       "...       ...    ...                    ...  \n",
       "2929518    45     11               0.008964  \n",
       "2929943    45     11              -0.071878  \n",
       "2929807    45     11              -0.019514  \n",
       "2929805    45     11               0.033697  \n",
       "2929997    45     11              -0.000000  \n",
       "\n",
       "[479128 rows x 20 columns]"
      ]
     },
     "execution_count": 81,
     "metadata": {},
     "output_type": "execute_result"
    }
   ],
   "source": [
    "final_sim"
   ]
  },
  {
   "cell_type": "code",
   "execution_count": 56,
   "id": "220eb457",
   "metadata": {},
   "outputs": [
    {
     "name": "stderr",
     "output_type": "stream",
     "text": [
      "  0%|                                                                                                                                             | 0/2 [00:00<?, ?it/s]\n",
      "  0%|                                                                                                                                             | 0/3 [00:00<?, ?it/s]\u001b[A\n",
      "\n",
      "  0%|                                                                                                                                             | 0/3 [00:00<?, ?it/s]\u001b[A\u001b[AC:\\Users\\ericj\\AppData\\Roaming\\Python\\Python39\\site-packages\\pandas\\core\\series.py:1056: SettingWithCopyWarning: \n",
      "A value is trying to be set on a copy of a slice from a DataFrame\n",
      "\n",
      "See the caveats in the documentation: https://pandas.pydata.org/pandas-docs/stable/user_guide/indexing.html#returning-a-view-versus-a-copy\n",
      "  cacher_needs_updating = self._check_is_chained_assignment_possible()\n",
      "C:\\Users\\ericj\\AppData\\Roaming\\Python\\Python39\\site-packages\\pandas\\core\\indexing.py:1724: SettingWithCopyWarning: \n",
      "A value is trying to be set on a copy of a slice from a DataFrame\n",
      "\n",
      "See the caveats in the documentation: https://pandas.pydata.org/pandas-docs/stable/user_guide/indexing.html#returning-a-view-versus-a-copy\n",
      "  self._setitem_with_indexer_missing(indexer, value)\n",
      "\n",
      "\n",
      " 33%|████████████████████████████████████████████                                                                                        | 1/3 [01:57<03:54, 117.00s/it]\u001b[A\u001b[A\n",
      "\n",
      " 67%|████████████████████████████████████████████████████████████████████████████████████████                                            | 2/3 [03:32<01:44, 104.40s/it]\u001b[A\u001b[A\n",
      "\n",
      "100%|█████████████████████████████████████████████████████████████████████████████████████████████████████████████████████████████████████| 3/3 [04:53<00:00, 97.84s/it]\u001b[A\u001b[A\n",
      "\n",
      " 33%|████████████████████████████████████████████                                                                                        | 1/3 [04:53<09:47, 293.51s/it]\u001b[A\n",
      "\n",
      "  0%|                                                                                                                                             | 0/3 [00:00<?, ?it/s]\u001b[A\u001b[A\n",
      "\n",
      " 33%|████████████████████████████████████████████▎                                                                                        | 1/3 [01:35<03:11, 95.66s/it]\u001b[A\u001b[A\n",
      "\n",
      " 67%|████████████████████████████████████████████████████████████████████████████████████████▋                                            | 2/3 [02:38<01:16, 76.29s/it]\u001b[A\u001b[A\n",
      "\n",
      "100%|█████████████████████████████████████████████████████████████████████████████████████████████████████████████████████████████████████| 3/3 [03:29<00:00, 69.76s/it]\u001b[A\u001b[A\n",
      "\n",
      " 67%|████████████████████████████████████████████████████████████████████████████████████████                                            | 2/3 [08:22<04:03, 243.96s/it]\u001b[A\n",
      "\n",
      "  0%|                                                                                                                                             | 0/3 [00:00<?, ?it/s]\u001b[A\u001b[A\n",
      "\n",
      " 33%|████████████████████████████████████████████▎                                                                                        | 1/3 [01:31<03:02, 91.36s/it]\u001b[A\u001b[A\n",
      "\n",
      " 67%|████████████████████████████████████████████████████████████████████████████████████████▋                                            | 2/3 [02:36<01:16, 76.06s/it]\u001b[A\u001b[A\n",
      "\n",
      "100%|█████████████████████████████████████████████████████████████████████████████████████████████████████████████████████████████████████| 3/3 [03:21<00:00, 67.16s/it]\u001b[A\u001b[A\n",
      "\n",
      "100%|████████████████████████████████████████████████████████████████████████████████████████████████████████████████████████████████████| 3/3 [11:44<00:00, 234.76s/it]\u001b[A\n",
      " 50%|██████████████████████████████████████████████████████████████████                                                                  | 1/2 [11:44<11:44, 704.32s/it]\n",
      "  0%|                                                                                                                                             | 0/3 [00:00<?, ?it/s]\u001b[A\n",
      "\n",
      "  0%|                                                                                                                                             | 0/3 [00:00<?, ?it/s]\u001b[A\u001b[A\n",
      "\n",
      " 33%|████████████████████████████████████████████                                                                                        | 1/3 [01:59<03:58, 119.34s/it]\u001b[A\u001b[A\n",
      "\n",
      " 67%|████████████████████████████████████████████████████████████████████████████████████████                                            | 2/3 [03:32<01:43, 103.78s/it]\u001b[A\u001b[A\n",
      "\n",
      "100%|█████████████████████████████████████████████████████████████████████████████████████████████████████████████████████████████████████| 3/3 [04:52<00:00, 97.55s/it]\u001b[A\u001b[A\n",
      "\n",
      " 33%|████████████████████████████████████████████                                                                                        | 1/3 [04:52<09:45, 292.65s/it]\u001b[A\n",
      "\n",
      "  0%|                                                                                                                                             | 0/3 [00:00<?, ?it/s]\u001b[A\u001b[A\n",
      "\n",
      " 33%|████████████████████████████████████████████▎                                                                                        | 1/3 [01:30<03:01, 90.92s/it]\u001b[A\u001b[A\n",
      "\n",
      " 67%|████████████████████████████████████████████████████████████████████████████████████████▋                                            | 2/3 [02:30<01:12, 72.65s/it]\u001b[A\u001b[A\n",
      "\n",
      "100%|█████████████████████████████████████████████████████████████████████████████████████████████████████████████████████████████████████| 3/3 [03:16<00:00, 65.43s/it]\u001b[A\u001b[A\n",
      "\n",
      " 67%|████████████████████████████████████████████████████████████████████████████████████████                                            | 2/3 [08:08<03:55, 235.96s/it]\u001b[A\n",
      "\n",
      "  0%|                                                                                                                                             | 0/3 [00:00<?, ?it/s]\u001b[A\u001b[A\n",
      "\n",
      " 33%|████████████████████████████████████████████▎                                                                                        | 1/3 [01:21<02:42, 81.37s/it]\u001b[A\u001b[A\n",
      "\n",
      " 67%|████████████████████████████████████████████████████████████████████████████████████████▋                                            | 2/3 [02:14<01:04, 64.83s/it]\u001b[A\u001b[A\n",
      "\n",
      "100%|█████████████████████████████████████████████████████████████████████████████████████████████████████████████████████████████████████| 3/3 [02:53<00:00, 57.99s/it]\u001b[A\u001b[A\n",
      "\n",
      "100%|████████████████████████████████████████████████████████████████████████████████████████████████████████████████████████████████████| 3/3 [11:02<00:00, 220.97s/it]\u001b[A\n",
      "100%|████████████████████████████████████████████████████████████████████████████████████████████████████████████████████████████████████| 2/2 [22:47<00:00, 683.63s/it]\n"
     ]
    }
   ],
   "source": [
    "trades = []\n",
    "start = original[\"date\"].min()\n",
    "end = original[\"date\"].max()\n",
    "seats = 6\n",
    "for value in tqdm([True,False]):\n",
    "    final_sim = original.copy()\n",
    "    if not value:\n",
    "        final_sim[\"quarterly_performance\"] = final_sim[\"quarterly_performance\"] * -1\n",
    "    for delta in tqdm(range(0,15,5)):\n",
    "        d = delta/100\n",
    "        for hpr in tqdm(range(10,40,10)):\n",
    "            for seat in range(seats):\n",
    "                date = start\n",
    "                while date <= end:\n",
    "                    if date.weekday() > 4:\n",
    "                        date = date + timedelta(days=1)\n",
    "                    try:\n",
    "                        todays_sim = final_sim[(final_sim[\"date\"]==date) \n",
    "                                               & (final_sim[\"quarterly_performance\"] > d)].sort_values(\"quarterly_performance\",ascending=False)\n",
    "                        if todays_sim.index.size < 1:\n",
    "                            date = date + timedelta(days=1)\n",
    "                        else:\n",
    "                            try:\n",
    "                                if seat > todays_sim.index.size:\n",
    "                                    date = date + timedelta(days=1)\n",
    "                                else:\n",
    "                                    trade = todays_sim.iloc[seat]\n",
    "                                    ticker = trade[\"ticker\"]\n",
    "                                    buy_price = trade[\"adjClose\"]\n",
    "                                    exit_price = buy_price * (1+d)\n",
    "                                    max_date = date + timedelta(days=hpr)\n",
    "                                    exits = final_sim[(final_sim[\"ticker\"]==ticker) & \n",
    "                                                        (final_sim[\"date\"] > date) & \\\n",
    "                                                      (final_sim[\"date\"] <= max_date) & \\\n",
    "                                                      (final_sim[\"adjClose\"] >= exit_price)\n",
    "                                                    ]\n",
    "                                    if exits.index.size < 1:\n",
    "                                        exits = final_sim[(final_sim[\"ticker\"]==ticker) & \n",
    "                                                      (final_sim[\"year\"] == date.year) & \\\n",
    "                                                           (final_sim[\"date\"] >= max_date)].sort_values(\"date\")\n",
    "                                        sell_trade = exits.iloc[0]\n",
    "                                    else:\n",
    "                                        sell_trade = exits.iloc[0]\n",
    "                                    trade[\"sell_date\"] = sell_trade[\"date\"]\n",
    "                                    trade[\"sell_price\"] = sell_trade[\"adjClose\"]\n",
    "                                    trade[\"delta\"] = (trade[\"sell_price\"] - trade[\"adjClose\"]) / trade[\"adjClose\"]\n",
    "                                    trade[\"hpr\"] = hpr\n",
    "                                    trade[\"d\"] = d\n",
    "                                    trade[\"value\"] = value\n",
    "                                    trade[\"seat\"] = seat\n",
    "                                    trades.append(trade)\n",
    "                                    date = sell_trade[\"date\"] + timedelta(days=1)\n",
    "                            except Exception as e:\n",
    "                                date = date + timedelta(days=1)\n",
    "                            date = date + timedelta(days=1)\n",
    "                    except Exception as e:\n",
    "                        date = date + timedelta(days=1)"
   ]
  },
  {
   "cell_type": "code",
   "execution_count": 57,
   "id": "811fdc27",
   "metadata": {},
   "outputs": [],
   "source": [
    "t = pd.DataFrame(trades)"
   ]
  },
  {
   "cell_type": "code",
   "execution_count": 72,
   "id": "66286284",
   "metadata": {},
   "outputs": [
    {
     "name": "stderr",
     "output_type": "stream",
     "text": [
      "  0%|                                                                                                                                             | 0/2 [00:00<?, ?it/s]\n",
      "  0%|                                                                                                                                             | 0/3 [00:00<?, ?it/s]\u001b[A\n",
      "\n",
      "  0%|                                                                                                                                             | 0/3 [00:00<?, ?it/s]\u001b[A\u001b[AC:\\Users\\ericj\\AppData\\Local\\Temp/ipykernel_12924/2164506480.py:20: SettingWithCopyWarning: \n",
      "A value is trying to be set on a copy of a slice from a DataFrame.\n",
      "Try using .loc[row_indexer,col_indexer] = value instead\n",
      "\n",
      "See the caveats in the documentation: https://pandas.pydata.org/pandas-docs/stable/user_guide/indexing.html#returning-a-view-versus-a-copy\n",
      "  seat_trades[\"actual_hpr\"] = (seat_trades[\"sell_date\"] - seat_trades[\"date\"])\n",
      "C:\\Users\\ericj\\AppData\\Local\\Temp/ipykernel_12924/2164506480.py:21: SettingWithCopyWarning: \n",
      "A value is trying to be set on a copy of a slice from a DataFrame.\n",
      "Try using .loc[row_indexer,col_indexer] = value instead\n",
      "\n",
      "See the caveats in the documentation: https://pandas.pydata.org/pandas-docs/stable/user_guide/indexing.html#returning-a-view-versus-a-copy\n",
      "  seat_trades[\"actual_hpr\"] =[x.days for x in seat_trades[\"actual_hpr\"]]\n",
      "100%|█████████████████████████████████████████████████████████████████████████████████████████████████████████████████████████████████████| 3/3 [00:00<00:00, 52.30it/s]\n",
      "\n",
      "\n",
      "100%|█████████████████████████████████████████████████████████████████████████████████████████████████████████████████████████████████████| 3/3 [00:00<00:00, 76.91it/s]\u001b[A\u001b[A\n",
      "\n",
      " 67%|████████████████████████████████████████████████████████████████████████████████████████▋                                            | 2/3 [00:00<00:00, 19.93it/s]\u001b[A\n",
      "\n",
      "100%|█████████████████████████████████████████████████████████████████████████████████████████████████████████████████████████████████████| 3/3 [00:00<00:00, 85.70it/s]\u001b[A\u001b[A\n",
      "100%|█████████████████████████████████████████████████████████████████████████████████████████████████████████████████████████████████████| 3/3 [00:00<00:00, 21.68it/s]\n",
      " 50%|██████████████████████████████████████████████████████████████████▌                                                                  | 1/2 [00:00<00:00,  7.20it/s]\n",
      "  0%|                                                                                                                                             | 0/3 [00:00<?, ?it/s]\u001b[A\n",
      "\n",
      "100%|█████████████████████████████████████████████████████████████████████████████████████████████████████████████████████████████████████| 3/3 [00:00<00:00, 54.53it/s]\u001b[A\u001b[A\n",
      "\n",
      "\n",
      "100%|█████████████████████████████████████████████████████████████████████████████████████████████████████████████████████████████████████| 3/3 [00:00<00:00, 76.91it/s]\u001b[A\u001b[A\n",
      "\n",
      "\n",
      "100%|█████████████████████████████████████████████████████████████████████████████████████████████████████████████████████████████████████| 3/3 [00:00<00:00, 83.32it/s]\u001b[A\u001b[A\n",
      "\n",
      "100%|█████████████████████████████████████████████████████████████████████████████████████████████████████████████████████████████████████| 3/3 [00:00<00:00, 22.05it/s]\u001b[A\n",
      "100%|█████████████████████████████████████████████████████████████████████████████████████████████████████████████████████████████████████| 2/2 [00:00<00:00,  7.25it/s]\n"
     ]
    }
   ],
   "source": [
    "a = []\n",
    "seats = 5\n",
    "for value in tqdm([True,False]):\n",
    "    for delta in tqdm(range(0,15,5)):\n",
    "        d = delta/100\n",
    "        for hpr in tqdm(range(10,40,10)):\n",
    "            score_trades = t[(t[\"hpr\"]==hpr) & \n",
    "                             (t[\"d\"]==d)]\n",
    "            cash = []\n",
    "            for seat in range(seats):\n",
    "                initial = float(100 / seats)\n",
    "                seat_trades = score_trades[score_trades[\"seat\"]==seat]\n",
    "                for delta in seat_trades[\"delta\"]:\n",
    "                    initial = initial * (1+delta)\n",
    "                    cash.append(initial)\n",
    "                analysis = {}\n",
    "                analysis[\"trades\"] = seat_trades.index.size\n",
    "                if seat_trades.index.size > 0:\n",
    "                    analysis[\"winrate\"] = seat_trades[seat_trades[\"delta\"] > 0].index.size / seat_trades.index.size\n",
    "                    seat_trades[\"actual_hpr\"] = (seat_trades[\"sell_date\"] - seat_trades[\"date\"])\n",
    "                    seat_trades[\"actual_hpr\"] =[x.days for x in seat_trades[\"actual_hpr\"]]\n",
    "                    analysis[\"avg_hpr\"] = seat_trades[\"actual_hpr\"].mean()\n",
    "                    analysis[\"avg_delta\"] = seat_trades[\"delta\"].mean()\n",
    "                    analysis[\"seat\"] = seat\n",
    "                    analysis[\"d\"] = d\n",
    "                    analysis[\"hpr\"] = hpr\n",
    "                    analysis[\"value\"] = value\n",
    "                    analysis[\"pv\"] = initial\n",
    "                    a.append(analysis)"
   ]
  },
  {
   "cell_type": "code",
   "execution_count": 73,
   "id": "d4fc9256",
   "metadata": {},
   "outputs": [
    {
     "data": {
      "text/html": [
       "<div>\n",
       "<style scoped>\n",
       "    .dataframe tbody tr th:only-of-type {\n",
       "        vertical-align: middle;\n",
       "    }\n",
       "\n",
       "    .dataframe tbody tr th {\n",
       "        vertical-align: top;\n",
       "    }\n",
       "\n",
       "    .dataframe thead th {\n",
       "        text-align: right;\n",
       "    }\n",
       "</style>\n",
       "<table border=\"1\" class=\"dataframe\">\n",
       "  <thead>\n",
       "    <tr style=\"text-align: right;\">\n",
       "      <th></th>\n",
       "      <th>d</th>\n",
       "      <th>hpr</th>\n",
       "      <th>value</th>\n",
       "      <th>trades</th>\n",
       "      <th>winrate</th>\n",
       "      <th>avg_hpr</th>\n",
       "      <th>avg_delta</th>\n",
       "      <th>0</th>\n",
       "      <th>1</th>\n",
       "      <th>2</th>\n",
       "      <th>3</th>\n",
       "      <th>4</th>\n",
       "      <th>pv</th>\n",
       "    </tr>\n",
       "  </thead>\n",
       "  <tbody>\n",
       "    <tr>\n",
       "      <th>0</th>\n",
       "      <td>0.00</td>\n",
       "      <td>20</td>\n",
       "      <td>False</td>\n",
       "      <td>348.2</td>\n",
       "      <td>0.880603</td>\n",
       "      <td>5.328873</td>\n",
       "      <td>0.006920</td>\n",
       "      <td>39.540138</td>\n",
       "      <td>76.018625</td>\n",
       "      <td>587.202515</td>\n",
       "      <td>208.466798</td>\n",
       "      <td>33.058876</td>\n",
       "      <td>944.286953</td>\n",
       "    </tr>\n",
       "    <tr>\n",
       "      <th>1</th>\n",
       "      <td>0.00</td>\n",
       "      <td>20</td>\n",
       "      <td>True</td>\n",
       "      <td>348.2</td>\n",
       "      <td>0.880603</td>\n",
       "      <td>5.328873</td>\n",
       "      <td>0.006920</td>\n",
       "      <td>39.540138</td>\n",
       "      <td>76.018625</td>\n",
       "      <td>587.202515</td>\n",
       "      <td>208.466798</td>\n",
       "      <td>33.058876</td>\n",
       "      <td>944.286953</td>\n",
       "    </tr>\n",
       "    <tr>\n",
       "      <th>2</th>\n",
       "      <td>0.00</td>\n",
       "      <td>30</td>\n",
       "      <td>False</td>\n",
       "      <td>306.2</td>\n",
       "      <td>0.912613</td>\n",
       "      <td>6.477134</td>\n",
       "      <td>0.006767</td>\n",
       "      <td>4.654681</td>\n",
       "      <td>54.564187</td>\n",
       "      <td>193.473814</td>\n",
       "      <td>478.278546</td>\n",
       "      <td>37.688580</td>\n",
       "      <td>768.659808</td>\n",
       "    </tr>\n",
       "    <tr>\n",
       "      <th>3</th>\n",
       "      <td>0.00</td>\n",
       "      <td>30</td>\n",
       "      <td>True</td>\n",
       "      <td>306.2</td>\n",
       "      <td>0.912613</td>\n",
       "      <td>6.477134</td>\n",
       "      <td>0.006767</td>\n",
       "      <td>4.654681</td>\n",
       "      <td>54.564187</td>\n",
       "      <td>193.473814</td>\n",
       "      <td>478.278546</td>\n",
       "      <td>37.688580</td>\n",
       "      <td>768.659808</td>\n",
       "    </tr>\n",
       "    <tr>\n",
       "      <th>4</th>\n",
       "      <td>0.05</td>\n",
       "      <td>10</td>\n",
       "      <td>False</td>\n",
       "      <td>235.2</td>\n",
       "      <td>0.612510</td>\n",
       "      <td>8.856703</td>\n",
       "      <td>0.007989</td>\n",
       "      <td>258.967021</td>\n",
       "      <td>11.138430</td>\n",
       "      <td>134.402524</td>\n",
       "      <td>10.713634</td>\n",
       "      <td>69.211866</td>\n",
       "      <td>484.433475</td>\n",
       "    </tr>\n",
       "    <tr>\n",
       "      <th>5</th>\n",
       "      <td>0.05</td>\n",
       "      <td>10</td>\n",
       "      <td>True</td>\n",
       "      <td>235.2</td>\n",
       "      <td>0.612510</td>\n",
       "      <td>8.856703</td>\n",
       "      <td>0.007989</td>\n",
       "      <td>258.967021</td>\n",
       "      <td>11.138430</td>\n",
       "      <td>134.402524</td>\n",
       "      <td>10.713634</td>\n",
       "      <td>69.211866</td>\n",
       "      <td>484.433475</td>\n",
       "    </tr>\n",
       "    <tr>\n",
       "      <th>6</th>\n",
       "      <td>0.10</td>\n",
       "      <td>20</td>\n",
       "      <td>False</td>\n",
       "      <td>127.6</td>\n",
       "      <td>0.614509</td>\n",
       "      <td>17.445789</td>\n",
       "      <td>0.017388</td>\n",
       "      <td>34.804334</td>\n",
       "      <td>42.914836</td>\n",
       "      <td>63.550376</td>\n",
       "      <td>189.680535</td>\n",
       "      <td>126.714961</td>\n",
       "      <td>457.665042</td>\n",
       "    </tr>\n",
       "    <tr>\n",
       "      <th>7</th>\n",
       "      <td>0.10</td>\n",
       "      <td>20</td>\n",
       "      <td>True</td>\n",
       "      <td>127.6</td>\n",
       "      <td>0.614509</td>\n",
       "      <td>17.445789</td>\n",
       "      <td>0.017388</td>\n",
       "      <td>34.804334</td>\n",
       "      <td>42.914836</td>\n",
       "      <td>63.550376</td>\n",
       "      <td>189.680535</td>\n",
       "      <td>126.714961</td>\n",
       "      <td>457.665042</td>\n",
       "    </tr>\n",
       "    <tr>\n",
       "      <th>8</th>\n",
       "      <td>0.05</td>\n",
       "      <td>20</td>\n",
       "      <td>True</td>\n",
       "      <td>165.0</td>\n",
       "      <td>0.653127</td>\n",
       "      <td>14.026164</td>\n",
       "      <td>0.012651</td>\n",
       "      <td>118.793504</td>\n",
       "      <td>180.730044</td>\n",
       "      <td>88.876965</td>\n",
       "      <td>42.031593</td>\n",
       "      <td>10.971347</td>\n",
       "      <td>441.403453</td>\n",
       "    </tr>\n",
       "    <tr>\n",
       "      <th>9</th>\n",
       "      <td>0.05</td>\n",
       "      <td>20</td>\n",
       "      <td>False</td>\n",
       "      <td>165.0</td>\n",
       "      <td>0.653127</td>\n",
       "      <td>14.026164</td>\n",
       "      <td>0.012651</td>\n",
       "      <td>118.793504</td>\n",
       "      <td>180.730044</td>\n",
       "      <td>88.876965</td>\n",
       "      <td>42.031593</td>\n",
       "      <td>10.971347</td>\n",
       "      <td>441.403453</td>\n",
       "    </tr>\n",
       "    <tr>\n",
       "      <th>10</th>\n",
       "      <td>0.05</td>\n",
       "      <td>30</td>\n",
       "      <td>False</td>\n",
       "      <td>130.6</td>\n",
       "      <td>0.712106</td>\n",
       "      <td>18.417020</td>\n",
       "      <td>0.014391</td>\n",
       "      <td>10.700374</td>\n",
       "      <td>62.089367</td>\n",
       "      <td>102.747852</td>\n",
       "      <td>45.680731</td>\n",
       "      <td>66.882454</td>\n",
       "      <td>288.100777</td>\n",
       "    </tr>\n",
       "    <tr>\n",
       "      <th>11</th>\n",
       "      <td>0.05</td>\n",
       "      <td>30</td>\n",
       "      <td>True</td>\n",
       "      <td>130.6</td>\n",
       "      <td>0.712106</td>\n",
       "      <td>18.417020</td>\n",
       "      <td>0.014391</td>\n",
       "      <td>10.700374</td>\n",
       "      <td>62.089367</td>\n",
       "      <td>102.747852</td>\n",
       "      <td>45.680731</td>\n",
       "      <td>66.882454</td>\n",
       "      <td>288.100777</td>\n",
       "    </tr>\n",
       "    <tr>\n",
       "      <th>12</th>\n",
       "      <td>0.00</td>\n",
       "      <td>10</td>\n",
       "      <td>False</td>\n",
       "      <td>417.0</td>\n",
       "      <td>0.812905</td>\n",
       "      <td>3.959256</td>\n",
       "      <td>0.003498</td>\n",
       "      <td>26.015343</td>\n",
       "      <td>7.511937</td>\n",
       "      <td>38.244089</td>\n",
       "      <td>42.008821</td>\n",
       "      <td>108.603826</td>\n",
       "      <td>222.384015</td>\n",
       "    </tr>\n",
       "    <tr>\n",
       "      <th>13</th>\n",
       "      <td>0.00</td>\n",
       "      <td>10</td>\n",
       "      <td>True</td>\n",
       "      <td>417.0</td>\n",
       "      <td>0.812905</td>\n",
       "      <td>3.959256</td>\n",
       "      <td>0.003498</td>\n",
       "      <td>26.015343</td>\n",
       "      <td>7.511937</td>\n",
       "      <td>38.244089</td>\n",
       "      <td>42.008821</td>\n",
       "      <td>108.603826</td>\n",
       "      <td>222.384015</td>\n",
       "    </tr>\n",
       "    <tr>\n",
       "      <th>14</th>\n",
       "      <td>0.10</td>\n",
       "      <td>30</td>\n",
       "      <td>False</td>\n",
       "      <td>94.6</td>\n",
       "      <td>0.593892</td>\n",
       "      <td>25.188746</td>\n",
       "      <td>0.014834</td>\n",
       "      <td>14.197702</td>\n",
       "      <td>24.819507</td>\n",
       "      <td>87.104504</td>\n",
       "      <td>7.488755</td>\n",
       "      <td>70.360959</td>\n",
       "      <td>203.971427</td>\n",
       "    </tr>\n",
       "    <tr>\n",
       "      <th>15</th>\n",
       "      <td>0.10</td>\n",
       "      <td>30</td>\n",
       "      <td>True</td>\n",
       "      <td>94.6</td>\n",
       "      <td>0.593892</td>\n",
       "      <td>25.188746</td>\n",
       "      <td>0.014834</td>\n",
       "      <td>14.197702</td>\n",
       "      <td>24.819507</td>\n",
       "      <td>87.104504</td>\n",
       "      <td>7.488755</td>\n",
       "      <td>70.360959</td>\n",
       "      <td>203.971427</td>\n",
       "    </tr>\n",
       "    <tr>\n",
       "      <th>16</th>\n",
       "      <td>0.10</td>\n",
       "      <td>10</td>\n",
       "      <td>True</td>\n",
       "      <td>192.8</td>\n",
       "      <td>0.534463</td>\n",
       "      <td>10.482699</td>\n",
       "      <td>0.005536</td>\n",
       "      <td>39.389723</td>\n",
       "      <td>5.484435</td>\n",
       "      <td>21.914555</td>\n",
       "      <td>37.790729</td>\n",
       "      <td>23.569173</td>\n",
       "      <td>128.148615</td>\n",
       "    </tr>\n",
       "    <tr>\n",
       "      <th>17</th>\n",
       "      <td>0.10</td>\n",
       "      <td>10</td>\n",
       "      <td>False</td>\n",
       "      <td>192.8</td>\n",
       "      <td>0.534463</td>\n",
       "      <td>10.482699</td>\n",
       "      <td>0.005536</td>\n",
       "      <td>39.389723</td>\n",
       "      <td>5.484435</td>\n",
       "      <td>21.914555</td>\n",
       "      <td>37.790729</td>\n",
       "      <td>23.569173</td>\n",
       "      <td>128.148615</td>\n",
       "    </tr>\n",
       "  </tbody>\n",
       "</table>\n",
       "</div>"
      ],
      "text/plain": [
       "       d  hpr  value  trades   winrate    avg_hpr  avg_delta           0  \\\n",
       "0   0.00   20  False   348.2  0.880603   5.328873   0.006920   39.540138   \n",
       "1   0.00   20   True   348.2  0.880603   5.328873   0.006920   39.540138   \n",
       "2   0.00   30  False   306.2  0.912613   6.477134   0.006767    4.654681   \n",
       "3   0.00   30   True   306.2  0.912613   6.477134   0.006767    4.654681   \n",
       "4   0.05   10  False   235.2  0.612510   8.856703   0.007989  258.967021   \n",
       "5   0.05   10   True   235.2  0.612510   8.856703   0.007989  258.967021   \n",
       "6   0.10   20  False   127.6  0.614509  17.445789   0.017388   34.804334   \n",
       "7   0.10   20   True   127.6  0.614509  17.445789   0.017388   34.804334   \n",
       "8   0.05   20   True   165.0  0.653127  14.026164   0.012651  118.793504   \n",
       "9   0.05   20  False   165.0  0.653127  14.026164   0.012651  118.793504   \n",
       "10  0.05   30  False   130.6  0.712106  18.417020   0.014391   10.700374   \n",
       "11  0.05   30   True   130.6  0.712106  18.417020   0.014391   10.700374   \n",
       "12  0.00   10  False   417.0  0.812905   3.959256   0.003498   26.015343   \n",
       "13  0.00   10   True   417.0  0.812905   3.959256   0.003498   26.015343   \n",
       "14  0.10   30  False    94.6  0.593892  25.188746   0.014834   14.197702   \n",
       "15  0.10   30   True    94.6  0.593892  25.188746   0.014834   14.197702   \n",
       "16  0.10   10   True   192.8  0.534463  10.482699   0.005536   39.389723   \n",
       "17  0.10   10  False   192.8  0.534463  10.482699   0.005536   39.389723   \n",
       "\n",
       "             1           2           3           4          pv  \n",
       "0    76.018625  587.202515  208.466798   33.058876  944.286953  \n",
       "1    76.018625  587.202515  208.466798   33.058876  944.286953  \n",
       "2    54.564187  193.473814  478.278546   37.688580  768.659808  \n",
       "3    54.564187  193.473814  478.278546   37.688580  768.659808  \n",
       "4    11.138430  134.402524   10.713634   69.211866  484.433475  \n",
       "5    11.138430  134.402524   10.713634   69.211866  484.433475  \n",
       "6    42.914836   63.550376  189.680535  126.714961  457.665042  \n",
       "7    42.914836   63.550376  189.680535  126.714961  457.665042  \n",
       "8   180.730044   88.876965   42.031593   10.971347  441.403453  \n",
       "9   180.730044   88.876965   42.031593   10.971347  441.403453  \n",
       "10   62.089367  102.747852   45.680731   66.882454  288.100777  \n",
       "11   62.089367  102.747852   45.680731   66.882454  288.100777  \n",
       "12    7.511937   38.244089   42.008821  108.603826  222.384015  \n",
       "13    7.511937   38.244089   42.008821  108.603826  222.384015  \n",
       "14   24.819507   87.104504    7.488755   70.360959  203.971427  \n",
       "15   24.819507   87.104504    7.488755   70.360959  203.971427  \n",
       "16    5.484435   21.914555   37.790729   23.569173  128.148615  \n",
       "17    5.484435   21.914555   37.790729   23.569173  128.148615  "
      ]
     },
     "execution_count": 73,
     "metadata": {},
     "output_type": "execute_result"
    }
   ],
   "source": [
    "final = pd.DataFrame(a)\n",
    "da_key = [\"d\",\"hpr\",\"value\"]\n",
    "hl = final.pivot_table(index=da_key,columns=\"seat\",values=\"pv\")\n",
    "report = final.merge(hl.reset_index(),on=da_key).drop([\"pv\",\"seat\"],axis=1).groupby(da_key).mean()\n",
    "report[\"pv\"] = [sum([row[1][x] for x in range(seats)]) for row in report.iterrows()]\n",
    "report.sort_values(\"pv\",ascending=False).reset_index()"
   ]
  },
  {
   "cell_type": "code",
   "execution_count": 74,
   "id": "01c665d6",
   "metadata": {},
   "outputs": [],
   "source": [
    "hpr = report.sort_values(\"pv\",ascending=False).reset_index().iloc[0][\"hpr\"].item()\n",
    "d = report.sort_values(\"pv\",ascending=False).reset_index().iloc[0][\"d\"].item()\n",
    "value = report.sort_values(\"pv\",ascending=False).reset_index().iloc[0][\"value\"].item()\n",
    "benchmark = t[(t[\"hpr\"]==hpr) & (t[\"d\"]==d) & (t[\"value\"]==value)]"
   ]
  },
  {
   "cell_type": "code",
   "execution_count": 75,
   "id": "06741b0e",
   "metadata": {},
   "outputs": [
    {
     "name": "stderr",
     "output_type": "stream",
     "text": [
      "  0%|                                                                                                                                             | 0/5 [00:00<?, ?it/s]C:\\Users\\ericj\\AppData\\Local\\Temp/ipykernel_12924/744403605.py:9: SettingWithCopyWarning: \n",
      "A value is trying to be set on a copy of a slice from a DataFrame.\n",
      "Try using .loc[row_indexer,col_indexer] = value instead\n",
      "\n",
      "See the caveats in the documentation: https://pandas.pydata.org/pandas-docs/stable/user_guide/indexing.html#returning-a-view-versus-a-copy\n",
      "  seat_trades[\"pv\"] = timeline\n",
      "C:\\Users\\ericj\\AppData\\Local\\Temp/ipykernel_12924/744403605.py:9: SettingWithCopyWarning: \n",
      "A value is trying to be set on a copy of a slice from a DataFrame.\n",
      "Try using .loc[row_indexer,col_indexer] = value instead\n",
      "\n",
      "See the caveats in the documentation: https://pandas.pydata.org/pandas-docs/stable/user_guide/indexing.html#returning-a-view-versus-a-copy\n",
      "  seat_trades[\"pv\"] = timeline\n",
      "C:\\Users\\ericj\\AppData\\Local\\Temp/ipykernel_12924/744403605.py:9: SettingWithCopyWarning: \n",
      "A value is trying to be set on a copy of a slice from a DataFrame.\n",
      "Try using .loc[row_indexer,col_indexer] = value instead\n",
      "\n",
      "See the caveats in the documentation: https://pandas.pydata.org/pandas-docs/stable/user_guide/indexing.html#returning-a-view-versus-a-copy\n",
      "  seat_trades[\"pv\"] = timeline\n",
      "C:\\Users\\ericj\\AppData\\Local\\Temp/ipykernel_12924/744403605.py:9: SettingWithCopyWarning: \n",
      "A value is trying to be set on a copy of a slice from a DataFrame.\n",
      "Try using .loc[row_indexer,col_indexer] = value instead\n",
      "\n",
      "See the caveats in the documentation: https://pandas.pydata.org/pandas-docs/stable/user_guide/indexing.html#returning-a-view-versus-a-copy\n",
      "  seat_trades[\"pv\"] = timeline\n",
      "C:\\Users\\ericj\\AppData\\Local\\Temp/ipykernel_12924/744403605.py:9: SettingWithCopyWarning: \n",
      "A value is trying to be set on a copy of a slice from a DataFrame.\n",
      "Try using .loc[row_indexer,col_indexer] = value instead\n",
      "\n",
      "See the caveats in the documentation: https://pandas.pydata.org/pandas-docs/stable/user_guide/indexing.html#returning-a-view-versus-a-copy\n",
      "  seat_trades[\"pv\"] = timeline\n",
      "100%|████████████████████████████████████████████████████████████████████████████████████████████████████████████████████████████████████| 5/5 [00:00<00:00, 159.80it/s]\n"
     ]
    }
   ],
   "source": [
    "timelines =[]\n",
    "for seat in tqdm(range(seats)):\n",
    "    seat_trades = benchmark[benchmark[\"seat\"]==seat]\n",
    "    initial = float(100/seats)\n",
    "    timeline = []\n",
    "    for row in seat_trades.iterrows():\n",
    "        initial = initial * (1+row[1][\"delta\"])\n",
    "        timeline.append(initial)\n",
    "    seat_trades[\"pv\"] = timeline\n",
    "    timelines.append(seat_trades)"
   ]
  },
  {
   "cell_type": "code",
   "execution_count": 76,
   "id": "ffccdda8",
   "metadata": {},
   "outputs": [],
   "source": [
    "market.connect()\n",
    "sp5 = market.retrieve(\"sp500\")\n",
    "market.disconnect()\n",
    "sp5.rename(columns={\"Symbol\":\"ticker\"},inplace=True)\n",
    "benchmark = benchmark.merge(sp5,on=\"ticker\",how=\"left\")"
   ]
  },
  {
   "cell_type": "code",
   "execution_count": 77,
   "id": "fcedeb89",
   "metadata": {},
   "outputs": [
    {
     "data": {
      "text/html": [
       "<div>\n",
       "<style scoped>\n",
       "    .dataframe tbody tr th:only-of-type {\n",
       "        vertical-align: middle;\n",
       "    }\n",
       "\n",
       "    .dataframe tbody tr th {\n",
       "        vertical-align: top;\n",
       "    }\n",
       "\n",
       "    .dataframe thead th {\n",
       "        text-align: right;\n",
       "    }\n",
       "</style>\n",
       "<table border=\"1\" class=\"dataframe\">\n",
       "  <thead>\n",
       "    <tr style=\"text-align: right;\">\n",
       "      <th></th>\n",
       "      <th>year</th>\n",
       "      <th>GICS Sector</th>\n",
       "      <th>close</th>\n",
       "      <th>high</th>\n",
       "      <th>low</th>\n",
       "      <th>open</th>\n",
       "      <th>volume</th>\n",
       "      <th>adjClose</th>\n",
       "      <th>adjHigh</th>\n",
       "      <th>adjLow</th>\n",
       "      <th>...</th>\n",
       "      <th>week</th>\n",
       "      <th>month</th>\n",
       "      <th>quarterly_performance</th>\n",
       "      <th>sell_price</th>\n",
       "      <th>delta</th>\n",
       "      <th>hpr</th>\n",
       "      <th>d</th>\n",
       "      <th>value</th>\n",
       "      <th>seat</th>\n",
       "      <th>CIK</th>\n",
       "    </tr>\n",
       "  </thead>\n",
       "  <tbody>\n",
       "    <tr>\n",
       "      <th>0</th>\n",
       "      <td>2020</td>\n",
       "      <td>Industrials</td>\n",
       "      <td>27.008750</td>\n",
       "      <td>27.995784</td>\n",
       "      <td>26.421794</td>\n",
       "      <td>27.480937</td>\n",
       "      <td>4.200733e+07</td>\n",
       "      <td>36.484513</td>\n",
       "      <td>37.663934</td>\n",
       "      <td>35.792905</td>\n",
       "      <td>...</td>\n",
       "      <td>17.718750</td>\n",
       "      <td>4.343750</td>\n",
       "      <td>0.085259</td>\n",
       "      <td>37.765162</td>\n",
       "      <td>0.045427</td>\n",
       "      <td>20.0</td>\n",
       "      <td>0.0</td>\n",
       "      <td>0.0</td>\n",
       "      <td>2.406250</td>\n",
       "      <td>4.154516e+05</td>\n",
       "    </tr>\n",
       "    <tr>\n",
       "      <th>1</th>\n",
       "      <td>2020</td>\n",
       "      <td>Materials</td>\n",
       "      <td>113.875000</td>\n",
       "      <td>116.177500</td>\n",
       "      <td>111.717500</td>\n",
       "      <td>115.247500</td>\n",
       "      <td>1.215132e+07</td>\n",
       "      <td>112.418051</td>\n",
       "      <td>114.691235</td>\n",
       "      <td>110.288757</td>\n",
       "      <td>...</td>\n",
       "      <td>15.000000</td>\n",
       "      <td>3.750000</td>\n",
       "      <td>0.099386</td>\n",
       "      <td>117.557607</td>\n",
       "      <td>0.040455</td>\n",
       "      <td>20.0</td>\n",
       "      <td>0.0</td>\n",
       "      <td>0.0</td>\n",
       "      <td>3.750000</td>\n",
       "      <td>1.014855e+06</td>\n",
       "    </tr>\n",
       "    <tr>\n",
       "      <th>2</th>\n",
       "      <td>2021</td>\n",
       "      <td>Financials</td>\n",
       "      <td>313.182857</td>\n",
       "      <td>317.902871</td>\n",
       "      <td>310.235514</td>\n",
       "      <td>315.282857</td>\n",
       "      <td>1.620102e+06</td>\n",
       "      <td>311.701656</td>\n",
       "      <td>316.398719</td>\n",
       "      <td>308.767404</td>\n",
       "      <td>...</td>\n",
       "      <td>5.428571</td>\n",
       "      <td>1.714286</td>\n",
       "      <td>0.089221</td>\n",
       "      <td>319.831203</td>\n",
       "      <td>0.022562</td>\n",
       "      <td>20.0</td>\n",
       "      <td>0.0</td>\n",
       "      <td>0.0</td>\n",
       "      <td>3.857143</td>\n",
       "      <td>6.976993e+05</td>\n",
       "    </tr>\n",
       "    <tr>\n",
       "      <th>3</th>\n",
       "      <td>2020</td>\n",
       "      <td>Real Estate</td>\n",
       "      <td>97.383810</td>\n",
       "      <td>99.031738</td>\n",
       "      <td>96.210952</td>\n",
       "      <td>98.172857</td>\n",
       "      <td>2.419071e+06</td>\n",
       "      <td>93.957958</td>\n",
       "      <td>95.547300</td>\n",
       "      <td>92.835213</td>\n",
       "      <td>...</td>\n",
       "      <td>28.857143</td>\n",
       "      <td>6.761905</td>\n",
       "      <td>0.093409</td>\n",
       "      <td>95.649028</td>\n",
       "      <td>0.021214</td>\n",
       "      <td>20.0</td>\n",
       "      <td>0.0</td>\n",
       "      <td>0.0</td>\n",
       "      <td>3.428571</td>\n",
       "      <td>1.072503e+06</td>\n",
       "    </tr>\n",
       "    <tr>\n",
       "      <th>4</th>\n",
       "      <td>2018</td>\n",
       "      <td>Energy</td>\n",
       "      <td>42.463529</td>\n",
       "      <td>43.538229</td>\n",
       "      <td>41.705882</td>\n",
       "      <td>42.724706</td>\n",
       "      <td>6.934888e+06</td>\n",
       "      <td>39.146210</td>\n",
       "      <td>40.144520</td>\n",
       "      <td>38.442845</td>\n",
       "      <td>...</td>\n",
       "      <td>18.176471</td>\n",
       "      <td>5.823529</td>\n",
       "      <td>0.262868</td>\n",
       "      <td>40.000380</td>\n",
       "      <td>0.020976</td>\n",
       "      <td>20.0</td>\n",
       "      <td>0.0</td>\n",
       "      <td>0.0</td>\n",
       "      <td>2.235294</td>\n",
       "      <td>7.188376e+05</td>\n",
       "    </tr>\n",
       "    <tr>\n",
       "      <th>5</th>\n",
       "      <td>2021</td>\n",
       "      <td>Real Estate</td>\n",
       "      <td>148.000000</td>\n",
       "      <td>153.055000</td>\n",
       "      <td>147.555000</td>\n",
       "      <td>152.410000</td>\n",
       "      <td>1.814992e+06</td>\n",
       "      <td>146.573024</td>\n",
       "      <td>151.572107</td>\n",
       "      <td>146.131143</td>\n",
       "      <td>...</td>\n",
       "      <td>1.500000</td>\n",
       "      <td>1.000000</td>\n",
       "      <td>0.041612</td>\n",
       "      <td>147.539940</td>\n",
       "      <td>0.017485</td>\n",
       "      <td>20.0</td>\n",
       "      <td>0.0</td>\n",
       "      <td>0.0</td>\n",
       "      <td>2.500000</td>\n",
       "      <td>9.668715e+05</td>\n",
       "    </tr>\n",
       "    <tr>\n",
       "      <th>6</th>\n",
       "      <td>2018</td>\n",
       "      <td>Materials</td>\n",
       "      <td>90.686154</td>\n",
       "      <td>92.946154</td>\n",
       "      <td>89.143077</td>\n",
       "      <td>91.870769</td>\n",
       "      <td>5.507207e+06</td>\n",
       "      <td>83.545443</td>\n",
       "      <td>85.676623</td>\n",
       "      <td>82.206799</td>\n",
       "      <td>...</td>\n",
       "      <td>14.538462</td>\n",
       "      <td>3.615385</td>\n",
       "      <td>0.186574</td>\n",
       "      <td>84.783939</td>\n",
       "      <td>0.016945</td>\n",
       "      <td>20.0</td>\n",
       "      <td>0.0</td>\n",
       "      <td>0.0</td>\n",
       "      <td>1.923077</td>\n",
       "      <td>9.517224e+05</td>\n",
       "    </tr>\n",
       "    <tr>\n",
       "      <th>7</th>\n",
       "      <td>2019</td>\n",
       "      <td>Industrials</td>\n",
       "      <td>106.626667</td>\n",
       "      <td>108.935544</td>\n",
       "      <td>105.802522</td>\n",
       "      <td>108.054444</td>\n",
       "      <td>3.253428e+07</td>\n",
       "      <td>119.700590</td>\n",
       "      <td>122.089469</td>\n",
       "      <td>118.562990</td>\n",
       "      <td>...</td>\n",
       "      <td>14.000000</td>\n",
       "      <td>4.888889</td>\n",
       "      <td>0.074798</td>\n",
       "      <td>121.619329</td>\n",
       "      <td>0.015915</td>\n",
       "      <td>20.0</td>\n",
       "      <td>0.0</td>\n",
       "      <td>0.0</td>\n",
       "      <td>3.333333</td>\n",
       "      <td>3.545300e+04</td>\n",
       "    </tr>\n",
       "    <tr>\n",
       "      <th>8</th>\n",
       "      <td>2021</td>\n",
       "      <td>Information Technology</td>\n",
       "      <td>157.945116</td>\n",
       "      <td>162.063181</td>\n",
       "      <td>156.329593</td>\n",
       "      <td>160.662907</td>\n",
       "      <td>5.470303e+06</td>\n",
       "      <td>157.599219</td>\n",
       "      <td>161.712821</td>\n",
       "      <td>155.987441</td>\n",
       "      <td>...</td>\n",
       "      <td>18.465116</td>\n",
       "      <td>4.720930</td>\n",
       "      <td>0.182285</td>\n",
       "      <td>160.196014</td>\n",
       "      <td>0.015754</td>\n",
       "      <td>20.0</td>\n",
       "      <td>0.0</td>\n",
       "      <td>0.0</td>\n",
       "      <td>2.488372</td>\n",
       "      <td>9.663681e+05</td>\n",
       "    </tr>\n",
       "    <tr>\n",
       "      <th>9</th>\n",
       "      <td>2020</td>\n",
       "      <td>Consumer Staples</td>\n",
       "      <td>86.432000</td>\n",
       "      <td>88.507500</td>\n",
       "      <td>85.841000</td>\n",
       "      <td>87.519000</td>\n",
       "      <td>3.079344e+06</td>\n",
       "      <td>83.205325</td>\n",
       "      <td>85.206610</td>\n",
       "      <td>82.636558</td>\n",
       "      <td>...</td>\n",
       "      <td>22.100000</td>\n",
       "      <td>5.400000</td>\n",
       "      <td>0.023939</td>\n",
       "      <td>84.145399</td>\n",
       "      <td>0.012063</td>\n",
       "      <td>20.0</td>\n",
       "      <td>0.0</td>\n",
       "      <td>0.0</td>\n",
       "      <td>3.000000</td>\n",
       "      <td>6.935582e+05</td>\n",
       "    </tr>\n",
       "    <tr>\n",
       "      <th>10</th>\n",
       "      <td>2021</td>\n",
       "      <td>Consumer Staples</td>\n",
       "      <td>128.573077</td>\n",
       "      <td>130.019269</td>\n",
       "      <td>126.980854</td>\n",
       "      <td>128.513054</td>\n",
       "      <td>5.177543e+06</td>\n",
       "      <td>127.867954</td>\n",
       "      <td>129.308739</td>\n",
       "      <td>126.282180</td>\n",
       "      <td>...</td>\n",
       "      <td>20.153846</td>\n",
       "      <td>5.153846</td>\n",
       "      <td>0.141782</td>\n",
       "      <td>129.422794</td>\n",
       "      <td>0.011580</td>\n",
       "      <td>20.0</td>\n",
       "      <td>0.0</td>\n",
       "      <td>0.0</td>\n",
       "      <td>3.615385</td>\n",
       "      <td>9.917012e+05</td>\n",
       "    </tr>\n",
       "    <tr>\n",
       "      <th>11</th>\n",
       "      <td>2019</td>\n",
       "      <td>Financials</td>\n",
       "      <td>76.230000</td>\n",
       "      <td>77.020000</td>\n",
       "      <td>75.813333</td>\n",
       "      <td>76.606667</td>\n",
       "      <td>2.253599e+06</td>\n",
       "      <td>72.419004</td>\n",
       "      <td>73.166795</td>\n",
       "      <td>72.027181</td>\n",
       "      <td>...</td>\n",
       "      <td>28.666667</td>\n",
       "      <td>7.000000</td>\n",
       "      <td>0.067405</td>\n",
       "      <td>72.866476</td>\n",
       "      <td>0.010720</td>\n",
       "      <td>20.0</td>\n",
       "      <td>0.0</td>\n",
       "      <td>0.0</td>\n",
       "      <td>4.000000</td>\n",
       "      <td>5.545913e+05</td>\n",
       "    </tr>\n",
       "    <tr>\n",
       "      <th>12</th>\n",
       "      <td>2019</td>\n",
       "      <td>Materials</td>\n",
       "      <td>46.236154</td>\n",
       "      <td>46.849615</td>\n",
       "      <td>44.958462</td>\n",
       "      <td>45.742308</td>\n",
       "      <td>6.587959e+06</td>\n",
       "      <td>44.231665</td>\n",
       "      <td>44.822311</td>\n",
       "      <td>43.009151</td>\n",
       "      <td>...</td>\n",
       "      <td>23.230769</td>\n",
       "      <td>5.615385</td>\n",
       "      <td>0.238840</td>\n",
       "      <td>44.569634</td>\n",
       "      <td>0.010633</td>\n",
       "      <td>20.0</td>\n",
       "      <td>0.0</td>\n",
       "      <td>0.0</td>\n",
       "      <td>1.769231</td>\n",
       "      <td>1.408004e+06</td>\n",
       "    </tr>\n",
       "    <tr>\n",
       "      <th>13</th>\n",
       "      <td>2019</td>\n",
       "      <td>Utilities</td>\n",
       "      <td>50.426667</td>\n",
       "      <td>52.343333</td>\n",
       "      <td>49.306667</td>\n",
       "      <td>50.630000</td>\n",
       "      <td>4.454109e+06</td>\n",
       "      <td>46.420510</td>\n",
       "      <td>48.177873</td>\n",
       "      <td>45.395014</td>\n",
       "      <td>...</td>\n",
       "      <td>45.333333</td>\n",
       "      <td>10.333333</td>\n",
       "      <td>0.151303</td>\n",
       "      <td>46.953093</td>\n",
       "      <td>0.010477</td>\n",
       "      <td>20.0</td>\n",
       "      <td>0.0</td>\n",
       "      <td>0.0</td>\n",
       "      <td>2.666667</td>\n",
       "      <td>9.281380e+05</td>\n",
       "    </tr>\n",
       "    <tr>\n",
       "      <th>14</th>\n",
       "      <td>2021</td>\n",
       "      <td>Health Care</td>\n",
       "      <td>219.812297</td>\n",
       "      <td>223.717238</td>\n",
       "      <td>216.527192</td>\n",
       "      <td>220.959659</td>\n",
       "      <td>5.862817e+06</td>\n",
       "      <td>201.525484</td>\n",
       "      <td>204.866934</td>\n",
       "      <td>198.378307</td>\n",
       "      <td>...</td>\n",
       "      <td>16.756757</td>\n",
       "      <td>4.405405</td>\n",
       "      <td>0.219112</td>\n",
       "      <td>204.294429</td>\n",
       "      <td>0.010075</td>\n",
       "      <td>20.0</td>\n",
       "      <td>0.0</td>\n",
       "      <td>0.0</td>\n",
       "      <td>1.594595</td>\n",
       "      <td>9.824548e+05</td>\n",
       "    </tr>\n",
       "    <tr>\n",
       "      <th>15</th>\n",
       "      <td>2021</td>\n",
       "      <td>Materials</td>\n",
       "      <td>57.627500</td>\n",
       "      <td>58.631500</td>\n",
       "      <td>57.096250</td>\n",
       "      <td>58.400000</td>\n",
       "      <td>8.352410e+06</td>\n",
       "      <td>56.095851</td>\n",
       "      <td>57.073167</td>\n",
       "      <td>55.578721</td>\n",
       "      <td>...</td>\n",
       "      <td>6.250000</td>\n",
       "      <td>2.000000</td>\n",
       "      <td>0.087451</td>\n",
       "      <td>56.624063</td>\n",
       "      <td>0.009452</td>\n",
       "      <td>20.0</td>\n",
       "      <td>0.0</td>\n",
       "      <td>0.0</td>\n",
       "      <td>3.000000</td>\n",
       "      <td>1.164727e+06</td>\n",
       "    </tr>\n",
       "    <tr>\n",
       "      <th>16</th>\n",
       "      <td>2019</td>\n",
       "      <td>Consumer Discretionary</td>\n",
       "      <td>138.746812</td>\n",
       "      <td>141.486213</td>\n",
       "      <td>137.230596</td>\n",
       "      <td>139.361884</td>\n",
       "      <td>5.036174e+06</td>\n",
       "      <td>108.958926</td>\n",
       "      <td>111.020391</td>\n",
       "      <td>107.947618</td>\n",
       "      <td>...</td>\n",
       "      <td>33.753623</td>\n",
       "      <td>8.362319</td>\n",
       "      <td>0.224586</td>\n",
       "      <td>110.392717</td>\n",
       "      <td>0.009427</td>\n",
       "      <td>20.0</td>\n",
       "      <td>0.0</td>\n",
       "      <td>0.0</td>\n",
       "      <td>2.637681</td>\n",
       "      <td>1.008695e+06</td>\n",
       "    </tr>\n",
       "    <tr>\n",
       "      <th>17</th>\n",
       "      <td>2018</td>\n",
       "      <td>Financials</td>\n",
       "      <td>39.420909</td>\n",
       "      <td>40.000000</td>\n",
       "      <td>39.215455</td>\n",
       "      <td>39.719091</td>\n",
       "      <td>2.922031e+06</td>\n",
       "      <td>34.606537</td>\n",
       "      <td>35.117722</td>\n",
       "      <td>34.427709</td>\n",
       "      <td>...</td>\n",
       "      <td>22.000000</td>\n",
       "      <td>5.545455</td>\n",
       "      <td>0.160668</td>\n",
       "      <td>34.946293</td>\n",
       "      <td>0.009365</td>\n",
       "      <td>20.0</td>\n",
       "      <td>0.0</td>\n",
       "      <td>0.0</td>\n",
       "      <td>2.181818</td>\n",
       "      <td>3.380355e+04</td>\n",
       "    </tr>\n",
       "    <tr>\n",
       "      <th>18</th>\n",
       "      <td>2020</td>\n",
       "      <td>Health Care</td>\n",
       "      <td>243.821667</td>\n",
       "      <td>247.405828</td>\n",
       "      <td>240.213417</td>\n",
       "      <td>243.881870</td>\n",
       "      <td>3.470674e+06</td>\n",
       "      <td>243.382401</td>\n",
       "      <td>246.961567</td>\n",
       "      <td>239.778890</td>\n",
       "      <td>...</td>\n",
       "      <td>43.518519</td>\n",
       "      <td>10.314815</td>\n",
       "      <td>0.134494</td>\n",
       "      <td>245.450566</td>\n",
       "      <td>0.009180</td>\n",
       "      <td>20.0</td>\n",
       "      <td>0.0</td>\n",
       "      <td>0.0</td>\n",
       "      <td>1.907407</td>\n",
       "      <td>9.394708e+05</td>\n",
       "    </tr>\n",
       "    <tr>\n",
       "      <th>19</th>\n",
       "      <td>2021</td>\n",
       "      <td>Utilities</td>\n",
       "      <td>87.670000</td>\n",
       "      <td>89.980000</td>\n",
       "      <td>87.330000</td>\n",
       "      <td>88.960000</td>\n",
       "      <td>9.246930e+05</td>\n",
       "      <td>85.993198</td>\n",
       "      <td>88.259016</td>\n",
       "      <td>85.659701</td>\n",
       "      <td>...</td>\n",
       "      <td>2.000000</td>\n",
       "      <td>1.000000</td>\n",
       "      <td>0.067638</td>\n",
       "      <td>86.768088</td>\n",
       "      <td>0.009011</td>\n",
       "      <td>20.0</td>\n",
       "      <td>0.0</td>\n",
       "      <td>0.0</td>\n",
       "      <td>2.000000</td>\n",
       "      <td>7.318020e+05</td>\n",
       "    </tr>\n",
       "    <tr>\n",
       "      <th>20</th>\n",
       "      <td>2020</td>\n",
       "      <td>Information Technology</td>\n",
       "      <td>117.093448</td>\n",
       "      <td>119.494200</td>\n",
       "      <td>115.555003</td>\n",
       "      <td>118.247586</td>\n",
       "      <td>1.437131e+07</td>\n",
       "      <td>116.446168</td>\n",
       "      <td>118.834719</td>\n",
       "      <td>114.913275</td>\n",
       "      <td>...</td>\n",
       "      <td>38.655172</td>\n",
       "      <td>9.241379</td>\n",
       "      <td>0.127343</td>\n",
       "      <td>117.583188</td>\n",
       "      <td>0.008545</td>\n",
       "      <td>20.0</td>\n",
       "      <td>0.0</td>\n",
       "      <td>0.0</td>\n",
       "      <td>3.482759</td>\n",
       "      <td>8.020481e+05</td>\n",
       "    </tr>\n",
       "    <tr>\n",
       "      <th>21</th>\n",
       "      <td>2021</td>\n",
       "      <td>Consumer Discretionary</td>\n",
       "      <td>90.268980</td>\n",
       "      <td>93.762735</td>\n",
       "      <td>89.090531</td>\n",
       "      <td>92.383924</td>\n",
       "      <td>9.520704e+06</td>\n",
       "      <td>90.221252</td>\n",
       "      <td>93.711597</td>\n",
       "      <td>89.043158</td>\n",
       "      <td>...</td>\n",
       "      <td>26.204082</td>\n",
       "      <td>6.489796</td>\n",
       "      <td>0.206812</td>\n",
       "      <td>93.265869</td>\n",
       "      <td>0.008088</td>\n",
       "      <td>20.0</td>\n",
       "      <td>0.0</td>\n",
       "      <td>0.0</td>\n",
       "      <td>1.897959</td>\n",
       "      <td>1.003582e+06</td>\n",
       "    </tr>\n",
       "    <tr>\n",
       "      <th>22</th>\n",
       "      <td>2021</td>\n",
       "      <td>Communication Services</td>\n",
       "      <td>52.056190</td>\n",
       "      <td>53.478662</td>\n",
       "      <td>51.387938</td>\n",
       "      <td>52.911214</td>\n",
       "      <td>7.674274e+06</td>\n",
       "      <td>52.056190</td>\n",
       "      <td>53.478662</td>\n",
       "      <td>51.387938</td>\n",
       "      <td>...</td>\n",
       "      <td>19.380952</td>\n",
       "      <td>5.000000</td>\n",
       "      <td>0.177671</td>\n",
       "      <td>52.771429</td>\n",
       "      <td>0.007658</td>\n",
       "      <td>20.0</td>\n",
       "      <td>0.0</td>\n",
       "      <td>0.0</td>\n",
       "      <td>2.095238</td>\n",
       "      <td>1.380369e+06</td>\n",
       "    </tr>\n",
       "    <tr>\n",
       "      <th>23</th>\n",
       "      <td>2018</td>\n",
       "      <td>Utilities</td>\n",
       "      <td>54.667500</td>\n",
       "      <td>56.327500</td>\n",
       "      <td>54.275000</td>\n",
       "      <td>55.952500</td>\n",
       "      <td>6.448012e+06</td>\n",
       "      <td>47.938305</td>\n",
       "      <td>49.404379</td>\n",
       "      <td>47.598265</td>\n",
       "      <td>...</td>\n",
       "      <td>21.250000</td>\n",
       "      <td>5.500000</td>\n",
       "      <td>0.036542</td>\n",
       "      <td>48.327266</td>\n",
       "      <td>0.007396</td>\n",
       "      <td>20.0</td>\n",
       "      <td>0.0</td>\n",
       "      <td>0.0</td>\n",
       "      <td>2.250000</td>\n",
       "      <td>1.061826e+06</td>\n",
       "    </tr>\n",
       "    <tr>\n",
       "      <th>24</th>\n",
       "      <td>2020</td>\n",
       "      <td>Utilities</td>\n",
       "      <td>45.908095</td>\n",
       "      <td>46.555476</td>\n",
       "      <td>45.049524</td>\n",
       "      <td>45.857619</td>\n",
       "      <td>1.093145e+07</td>\n",
       "      <td>43.698677</td>\n",
       "      <td>44.314155</td>\n",
       "      <td>42.883399</td>\n",
       "      <td>...</td>\n",
       "      <td>28.285714</td>\n",
       "      <td>6.761905</td>\n",
       "      <td>0.136793</td>\n",
       "      <td>43.834816</td>\n",
       "      <td>0.007252</td>\n",
       "      <td>20.0</td>\n",
       "      <td>0.0</td>\n",
       "      <td>0.0</td>\n",
       "      <td>2.000000</td>\n",
       "      <td>1.064199e+06</td>\n",
       "    </tr>\n",
       "    <tr>\n",
       "      <th>25</th>\n",
       "      <td>2019</td>\n",
       "      <td>Information Technology</td>\n",
       "      <td>99.263696</td>\n",
       "      <td>100.765326</td>\n",
       "      <td>98.015546</td>\n",
       "      <td>99.684348</td>\n",
       "      <td>8.254529e+06</td>\n",
       "      <td>89.681341</td>\n",
       "      <td>91.097047</td>\n",
       "      <td>88.520760</td>\n",
       "      <td>...</td>\n",
       "      <td>26.108696</td>\n",
       "      <td>6.413043</td>\n",
       "      <td>0.168839</td>\n",
       "      <td>90.115683</td>\n",
       "      <td>0.007051</td>\n",
       "      <td>20.0</td>\n",
       "      <td>0.0</td>\n",
       "      <td>0.0</td>\n",
       "      <td>2.804348</td>\n",
       "      <td>9.757715e+05</td>\n",
       "    </tr>\n",
       "    <tr>\n",
       "      <th>26</th>\n",
       "      <td>2018</td>\n",
       "      <td>Consumer Staples</td>\n",
       "      <td>66.536667</td>\n",
       "      <td>68.097500</td>\n",
       "      <td>65.827500</td>\n",
       "      <td>67.631667</td>\n",
       "      <td>9.041565e+06</td>\n",
       "      <td>56.733228</td>\n",
       "      <td>58.051693</td>\n",
       "      <td>56.130780</td>\n",
       "      <td>...</td>\n",
       "      <td>20.416667</td>\n",
       "      <td>5.083333</td>\n",
       "      <td>0.169638</td>\n",
       "      <td>57.076074</td>\n",
       "      <td>0.006966</td>\n",
       "      <td>20.0</td>\n",
       "      <td>0.0</td>\n",
       "      <td>0.0</td>\n",
       "      <td>2.000000</td>\n",
       "      <td>7.160436e+05</td>\n",
       "    </tr>\n",
       "    <tr>\n",
       "      <th>27</th>\n",
       "      <td>2021</td>\n",
       "      <td>Industrials</td>\n",
       "      <td>123.410000</td>\n",
       "      <td>125.260714</td>\n",
       "      <td>122.658214</td>\n",
       "      <td>124.343929</td>\n",
       "      <td>7.467684e+06</td>\n",
       "      <td>123.097920</td>\n",
       "      <td>124.944298</td>\n",
       "      <td>122.348837</td>\n",
       "      <td>...</td>\n",
       "      <td>22.642857</td>\n",
       "      <td>5.642857</td>\n",
       "      <td>0.146992</td>\n",
       "      <td>123.479071</td>\n",
       "      <td>0.006306</td>\n",
       "      <td>20.0</td>\n",
       "      <td>0.0</td>\n",
       "      <td>0.0</td>\n",
       "      <td>3.642857</td>\n",
       "      <td>8.563470e+05</td>\n",
       "    </tr>\n",
       "    <tr>\n",
       "      <th>28</th>\n",
       "      <td>2019</td>\n",
       "      <td>Health Care</td>\n",
       "      <td>149.552456</td>\n",
       "      <td>152.032118</td>\n",
       "      <td>147.391318</td>\n",
       "      <td>150.161053</td>\n",
       "      <td>6.320491e+06</td>\n",
       "      <td>146.996128</td>\n",
       "      <td>149.441704</td>\n",
       "      <td>144.868726</td>\n",
       "      <td>...</td>\n",
       "      <td>17.368421</td>\n",
       "      <td>4.315789</td>\n",
       "      <td>0.178443</td>\n",
       "      <td>147.014923</td>\n",
       "      <td>0.005239</td>\n",
       "      <td>20.0</td>\n",
       "      <td>0.0</td>\n",
       "      <td>0.0</td>\n",
       "      <td>2.245614</td>\n",
       "      <td>9.679452e+05</td>\n",
       "    </tr>\n",
       "    <tr>\n",
       "      <th>29</th>\n",
       "      <td>2018</td>\n",
       "      <td>Industrials</td>\n",
       "      <td>51.315625</td>\n",
       "      <td>52.732188</td>\n",
       "      <td>50.678097</td>\n",
       "      <td>52.110937</td>\n",
       "      <td>3.284545e+07</td>\n",
       "      <td>67.627277</td>\n",
       "      <td>69.333396</td>\n",
       "      <td>66.597503</td>\n",
       "      <td>...</td>\n",
       "      <td>24.718750</td>\n",
       "      <td>6.062500</td>\n",
       "      <td>0.179858</td>\n",
       "      <td>68.066825</td>\n",
       "      <td>0.003061</td>\n",
       "      <td>20.0</td>\n",
       "      <td>0.0</td>\n",
       "      <td>0.0</td>\n",
       "      <td>2.812500</td>\n",
       "      <td>3.336122e+05</td>\n",
       "    </tr>\n",
       "    <tr>\n",
       "      <th>30</th>\n",
       "      <td>2018</td>\n",
       "      <td>Communication Services</td>\n",
       "      <td>70.273226</td>\n",
       "      <td>71.770645</td>\n",
       "      <td>69.375065</td>\n",
       "      <td>70.949526</td>\n",
       "      <td>1.486614e+07</td>\n",
       "      <td>69.304041</td>\n",
       "      <td>70.777084</td>\n",
       "      <td>68.411204</td>\n",
       "      <td>...</td>\n",
       "      <td>28.935484</td>\n",
       "      <td>7.064516</td>\n",
       "      <td>0.221428</td>\n",
       "      <td>69.877678</td>\n",
       "      <td>0.002875</td>\n",
       "      <td>20.0</td>\n",
       "      <td>0.0</td>\n",
       "      <td>0.0</td>\n",
       "      <td>2.322581</td>\n",
       "      <td>1.044528e+06</td>\n",
       "    </tr>\n",
       "    <tr>\n",
       "      <th>31</th>\n",
       "      <td>2018</td>\n",
       "      <td>Consumer Discretionary</td>\n",
       "      <td>111.240377</td>\n",
       "      <td>113.412736</td>\n",
       "      <td>109.558113</td>\n",
       "      <td>112.124906</td>\n",
       "      <td>5.530853e+06</td>\n",
       "      <td>102.331521</td>\n",
       "      <td>104.281515</td>\n",
       "      <td>100.754771</td>\n",
       "      <td>...</td>\n",
       "      <td>24.037736</td>\n",
       "      <td>5.943396</td>\n",
       "      <td>0.166297</td>\n",
       "      <td>102.713938</td>\n",
       "      <td>0.002711</td>\n",
       "      <td>20.0</td>\n",
       "      <td>0.0</td>\n",
       "      <td>0.0</td>\n",
       "      <td>2.924528</td>\n",
       "      <td>9.073999e+05</td>\n",
       "    </tr>\n",
       "    <tr>\n",
       "      <th>32</th>\n",
       "      <td>2019</td>\n",
       "      <td>Consumer Staples</td>\n",
       "      <td>77.255500</td>\n",
       "      <td>78.464000</td>\n",
       "      <td>76.650500</td>\n",
       "      <td>77.812000</td>\n",
       "      <td>1.431814e+07</td>\n",
       "      <td>60.527741</td>\n",
       "      <td>61.475823</td>\n",
       "      <td>60.105305</td>\n",
       "      <td>...</td>\n",
       "      <td>9.400000</td>\n",
       "      <td>2.500000</td>\n",
       "      <td>0.109761</td>\n",
       "      <td>60.774778</td>\n",
       "      <td>0.002246</td>\n",
       "      <td>20.0</td>\n",
       "      <td>0.0</td>\n",
       "      <td>0.0</td>\n",
       "      <td>2.200000</td>\n",
       "      <td>9.262922e+05</td>\n",
       "    </tr>\n",
       "    <tr>\n",
       "      <th>33</th>\n",
       "      <td>2020</td>\n",
       "      <td>Consumer Discretionary</td>\n",
       "      <td>66.595000</td>\n",
       "      <td>68.633098</td>\n",
       "      <td>65.743202</td>\n",
       "      <td>67.673868</td>\n",
       "      <td>1.375143e+07</td>\n",
       "      <td>66.144104</td>\n",
       "      <td>68.173136</td>\n",
       "      <td>65.295193</td>\n",
       "      <td>...</td>\n",
       "      <td>22.700000</td>\n",
       "      <td>5.540000</td>\n",
       "      <td>0.208053</td>\n",
       "      <td>66.639141</td>\n",
       "      <td>0.001811</td>\n",
       "      <td>20.0</td>\n",
       "      <td>0.0</td>\n",
       "      <td>0.0</td>\n",
       "      <td>2.700000</td>\n",
       "      <td>1.082133e+06</td>\n",
       "    </tr>\n",
       "    <tr>\n",
       "      <th>34</th>\n",
       "      <td>2018</td>\n",
       "      <td>Health Care</td>\n",
       "      <td>110.925517</td>\n",
       "      <td>113.050862</td>\n",
       "      <td>108.048621</td>\n",
       "      <td>111.055172</td>\n",
       "      <td>4.479886e+06</td>\n",
       "      <td>109.558855</td>\n",
       "      <td>111.648275</td>\n",
       "      <td>106.701741</td>\n",
       "      <td>...</td>\n",
       "      <td>24.620690</td>\n",
       "      <td>6.103448</td>\n",
       "      <td>0.209558</td>\n",
       "      <td>108.941532</td>\n",
       "      <td>0.001188</td>\n",
       "      <td>20.0</td>\n",
       "      <td>0.0</td>\n",
       "      <td>0.0</td>\n",
       "      <td>2.000000</td>\n",
       "      <td>8.125182e+05</td>\n",
       "    </tr>\n",
       "    <tr>\n",
       "      <th>35</th>\n",
       "      <td>2019</td>\n",
       "      <td>Energy</td>\n",
       "      <td>29.457000</td>\n",
       "      <td>30.250333</td>\n",
       "      <td>29.135667</td>\n",
       "      <td>29.909667</td>\n",
       "      <td>9.505154e+06</td>\n",
       "      <td>27.694317</td>\n",
       "      <td>28.442038</td>\n",
       "      <td>27.391095</td>\n",
       "      <td>...</td>\n",
       "      <td>30.300000</td>\n",
       "      <td>7.366667</td>\n",
       "      <td>0.167153</td>\n",
       "      <td>27.146719</td>\n",
       "      <td>0.000540</td>\n",
       "      <td>20.0</td>\n",
       "      <td>0.0</td>\n",
       "      <td>0.0</td>\n",
       "      <td>3.066667</td>\n",
       "      <td>5.114263e+05</td>\n",
       "    </tr>\n",
       "    <tr>\n",
       "      <th>36</th>\n",
       "      <td>2021</td>\n",
       "      <td>Energy</td>\n",
       "      <td>48.050233</td>\n",
       "      <td>49.163279</td>\n",
       "      <td>47.456893</td>\n",
       "      <td>48.459547</td>\n",
       "      <td>7.237729e+06</td>\n",
       "      <td>47.788530</td>\n",
       "      <td>48.895026</td>\n",
       "      <td>47.197906</td>\n",
       "      <td>...</td>\n",
       "      <td>26.348837</td>\n",
       "      <td>6.604651</td>\n",
       "      <td>0.158222</td>\n",
       "      <td>47.912439</td>\n",
       "      <td>0.000414</td>\n",
       "      <td>20.0</td>\n",
       "      <td>0.0</td>\n",
       "      <td>0.0</td>\n",
       "      <td>2.767442</td>\n",
       "      <td>8.250361e+05</td>\n",
       "    </tr>\n",
       "    <tr>\n",
       "      <th>37</th>\n",
       "      <td>2019</td>\n",
       "      <td>Real Estate</td>\n",
       "      <td>118.902000</td>\n",
       "      <td>119.702000</td>\n",
       "      <td>117.826000</td>\n",
       "      <td>118.756000</td>\n",
       "      <td>1.878281e+06</td>\n",
       "      <td>110.831549</td>\n",
       "      <td>111.577938</td>\n",
       "      <td>109.827786</td>\n",
       "      <td>...</td>\n",
       "      <td>50.400000</td>\n",
       "      <td>11.800000</td>\n",
       "      <td>0.166558</td>\n",
       "      <td>111.129307</td>\n",
       "      <td>-0.000872</td>\n",
       "      <td>20.0</td>\n",
       "      <td>0.0</td>\n",
       "      <td>0.0</td>\n",
       "      <td>2.600000</td>\n",
       "      <td>1.001480e+06</td>\n",
       "    </tr>\n",
       "    <tr>\n",
       "      <th>38</th>\n",
       "      <td>2018</td>\n",
       "      <td>Information Technology</td>\n",
       "      <td>71.290000</td>\n",
       "      <td>73.006425</td>\n",
       "      <td>70.195932</td>\n",
       "      <td>71.900227</td>\n",
       "      <td>1.437394e+07</td>\n",
       "      <td>59.369612</td>\n",
       "      <td>60.747896</td>\n",
       "      <td>58.535259</td>\n",
       "      <td>...</td>\n",
       "      <td>31.181818</td>\n",
       "      <td>7.522727</td>\n",
       "      <td>0.233357</td>\n",
       "      <td>58.704417</td>\n",
       "      <td>-0.003285</td>\n",
       "      <td>20.0</td>\n",
       "      <td>0.0</td>\n",
       "      <td>0.0</td>\n",
       "      <td>1.886364</td>\n",
       "      <td>1.084502e+06</td>\n",
       "    </tr>\n",
       "    <tr>\n",
       "      <th>39</th>\n",
       "      <td>2019</td>\n",
       "      <td>Communication Services</td>\n",
       "      <td>46.067619</td>\n",
       "      <td>47.013471</td>\n",
       "      <td>45.432910</td>\n",
       "      <td>46.367143</td>\n",
       "      <td>2.112390e+07</td>\n",
       "      <td>45.101623</td>\n",
       "      <td>46.021822</td>\n",
       "      <td>44.477377</td>\n",
       "      <td>...</td>\n",
       "      <td>22.095238</td>\n",
       "      <td>5.904762</td>\n",
       "      <td>0.142664</td>\n",
       "      <td>44.777314</td>\n",
       "      <td>-0.007453</td>\n",
       "      <td>20.0</td>\n",
       "      <td>0.0</td>\n",
       "      <td>0.0</td>\n",
       "      <td>2.047619</td>\n",
       "      <td>8.038067e+05</td>\n",
       "    </tr>\n",
       "    <tr>\n",
       "      <th>40</th>\n",
       "      <td>2018</td>\n",
       "      <td>Real Estate</td>\n",
       "      <td>44.153750</td>\n",
       "      <td>45.050000</td>\n",
       "      <td>43.811250</td>\n",
       "      <td>44.523750</td>\n",
       "      <td>4.349492e+06</td>\n",
       "      <td>38.814049</td>\n",
       "      <td>39.612271</td>\n",
       "      <td>38.520201</td>\n",
       "      <td>...</td>\n",
       "      <td>8.750000</td>\n",
       "      <td>2.375000</td>\n",
       "      <td>0.143824</td>\n",
       "      <td>38.917265</td>\n",
       "      <td>-0.010282</td>\n",
       "      <td>20.0</td>\n",
       "      <td>0.0</td>\n",
       "      <td>0.0</td>\n",
       "      <td>4.125000</td>\n",
       "      <td>7.953770e+05</td>\n",
       "    </tr>\n",
       "    <tr>\n",
       "      <th>41</th>\n",
       "      <td>2020</td>\n",
       "      <td>Financials</td>\n",
       "      <td>119.750000</td>\n",
       "      <td>121.543636</td>\n",
       "      <td>117.826364</td>\n",
       "      <td>121.029091</td>\n",
       "      <td>7.463646e+06</td>\n",
       "      <td>117.030774</td>\n",
       "      <td>118.763814</td>\n",
       "      <td>115.146741</td>\n",
       "      <td>...</td>\n",
       "      <td>24.454545</td>\n",
       "      <td>5.818182</td>\n",
       "      <td>0.110921</td>\n",
       "      <td>116.411524</td>\n",
       "      <td>-0.014863</td>\n",
       "      <td>20.0</td>\n",
       "      <td>0.0</td>\n",
       "      <td>0.0</td>\n",
       "      <td>1.818182</td>\n",
       "      <td>2.586214e+05</td>\n",
       "    </tr>\n",
       "    <tr>\n",
       "      <th>42</th>\n",
       "      <td>2020</td>\n",
       "      <td>Energy</td>\n",
       "      <td>31.158500</td>\n",
       "      <td>32.275622</td>\n",
       "      <td>30.659710</td>\n",
       "      <td>31.738750</td>\n",
       "      <td>1.512170e+07</td>\n",
       "      <td>29.369169</td>\n",
       "      <td>30.436810</td>\n",
       "      <td>28.898060</td>\n",
       "      <td>...</td>\n",
       "      <td>22.175000</td>\n",
       "      <td>5.375000</td>\n",
       "      <td>0.292408</td>\n",
       "      <td>28.591719</td>\n",
       "      <td>-0.024403</td>\n",
       "      <td>20.0</td>\n",
       "      <td>0.0</td>\n",
       "      <td>0.0</td>\n",
       "      <td>2.450000</td>\n",
       "      <td>9.141498e+05</td>\n",
       "    </tr>\n",
       "    <tr>\n",
       "      <th>43</th>\n",
       "      <td>2020</td>\n",
       "      <td>Communication Services</td>\n",
       "      <td>42.318000</td>\n",
       "      <td>44.182000</td>\n",
       "      <td>41.950000</td>\n",
       "      <td>43.696000</td>\n",
       "      <td>8.116269e+06</td>\n",
       "      <td>41.944174</td>\n",
       "      <td>43.793107</td>\n",
       "      <td>41.577288</td>\n",
       "      <td>...</td>\n",
       "      <td>21.800000</td>\n",
       "      <td>5.400000</td>\n",
       "      <td>0.115851</td>\n",
       "      <td>40.948375</td>\n",
       "      <td>-0.055023</td>\n",
       "      <td>20.0</td>\n",
       "      <td>0.0</td>\n",
       "      <td>0.0</td>\n",
       "      <td>2.200000</td>\n",
       "      <td>1.040861e+06</td>\n",
       "    </tr>\n",
       "  </tbody>\n",
       "</table>\n",
       "<p>44 rows × 25 columns</p>\n",
       "</div>"
      ],
      "text/plain": [
       "    year             GICS Sector       close        high         low  \\\n",
       "0   2020             Industrials   27.008750   27.995784   26.421794   \n",
       "1   2020               Materials  113.875000  116.177500  111.717500   \n",
       "2   2021              Financials  313.182857  317.902871  310.235514   \n",
       "3   2020             Real Estate   97.383810   99.031738   96.210952   \n",
       "4   2018                  Energy   42.463529   43.538229   41.705882   \n",
       "5   2021             Real Estate  148.000000  153.055000  147.555000   \n",
       "6   2018               Materials   90.686154   92.946154   89.143077   \n",
       "7   2019             Industrials  106.626667  108.935544  105.802522   \n",
       "8   2021  Information Technology  157.945116  162.063181  156.329593   \n",
       "9   2020        Consumer Staples   86.432000   88.507500   85.841000   \n",
       "10  2021        Consumer Staples  128.573077  130.019269  126.980854   \n",
       "11  2019              Financials   76.230000   77.020000   75.813333   \n",
       "12  2019               Materials   46.236154   46.849615   44.958462   \n",
       "13  2019               Utilities   50.426667   52.343333   49.306667   \n",
       "14  2021             Health Care  219.812297  223.717238  216.527192   \n",
       "15  2021               Materials   57.627500   58.631500   57.096250   \n",
       "16  2019  Consumer Discretionary  138.746812  141.486213  137.230596   \n",
       "17  2018              Financials   39.420909   40.000000   39.215455   \n",
       "18  2020             Health Care  243.821667  247.405828  240.213417   \n",
       "19  2021               Utilities   87.670000   89.980000   87.330000   \n",
       "20  2020  Information Technology  117.093448  119.494200  115.555003   \n",
       "21  2021  Consumer Discretionary   90.268980   93.762735   89.090531   \n",
       "22  2021  Communication Services   52.056190   53.478662   51.387938   \n",
       "23  2018               Utilities   54.667500   56.327500   54.275000   \n",
       "24  2020               Utilities   45.908095   46.555476   45.049524   \n",
       "25  2019  Information Technology   99.263696  100.765326   98.015546   \n",
       "26  2018        Consumer Staples   66.536667   68.097500   65.827500   \n",
       "27  2021             Industrials  123.410000  125.260714  122.658214   \n",
       "28  2019             Health Care  149.552456  152.032118  147.391318   \n",
       "29  2018             Industrials   51.315625   52.732188   50.678097   \n",
       "30  2018  Communication Services   70.273226   71.770645   69.375065   \n",
       "31  2018  Consumer Discretionary  111.240377  113.412736  109.558113   \n",
       "32  2019        Consumer Staples   77.255500   78.464000   76.650500   \n",
       "33  2020  Consumer Discretionary   66.595000   68.633098   65.743202   \n",
       "34  2018             Health Care  110.925517  113.050862  108.048621   \n",
       "35  2019                  Energy   29.457000   30.250333   29.135667   \n",
       "36  2021                  Energy   48.050233   49.163279   47.456893   \n",
       "37  2019             Real Estate  118.902000  119.702000  117.826000   \n",
       "38  2018  Information Technology   71.290000   73.006425   70.195932   \n",
       "39  2019  Communication Services   46.067619   47.013471   45.432910   \n",
       "40  2018             Real Estate   44.153750   45.050000   43.811250   \n",
       "41  2020              Financials  119.750000  121.543636  117.826364   \n",
       "42  2020                  Energy   31.158500   32.275622   30.659710   \n",
       "43  2020  Communication Services   42.318000   44.182000   41.950000   \n",
       "\n",
       "          open        volume    adjClose     adjHigh      adjLow  ...  \\\n",
       "0    27.480937  4.200733e+07   36.484513   37.663934   35.792905  ...   \n",
       "1   115.247500  1.215132e+07  112.418051  114.691235  110.288757  ...   \n",
       "2   315.282857  1.620102e+06  311.701656  316.398719  308.767404  ...   \n",
       "3    98.172857  2.419071e+06   93.957958   95.547300   92.835213  ...   \n",
       "4    42.724706  6.934888e+06   39.146210   40.144520   38.442845  ...   \n",
       "5   152.410000  1.814992e+06  146.573024  151.572107  146.131143  ...   \n",
       "6    91.870769  5.507207e+06   83.545443   85.676623   82.206799  ...   \n",
       "7   108.054444  3.253428e+07  119.700590  122.089469  118.562990  ...   \n",
       "8   160.662907  5.470303e+06  157.599219  161.712821  155.987441  ...   \n",
       "9    87.519000  3.079344e+06   83.205325   85.206610   82.636558  ...   \n",
       "10  128.513054  5.177543e+06  127.867954  129.308739  126.282180  ...   \n",
       "11   76.606667  2.253599e+06   72.419004   73.166795   72.027181  ...   \n",
       "12   45.742308  6.587959e+06   44.231665   44.822311   43.009151  ...   \n",
       "13   50.630000  4.454109e+06   46.420510   48.177873   45.395014  ...   \n",
       "14  220.959659  5.862817e+06  201.525484  204.866934  198.378307  ...   \n",
       "15   58.400000  8.352410e+06   56.095851   57.073167   55.578721  ...   \n",
       "16  139.361884  5.036174e+06  108.958926  111.020391  107.947618  ...   \n",
       "17   39.719091  2.922031e+06   34.606537   35.117722   34.427709  ...   \n",
       "18  243.881870  3.470674e+06  243.382401  246.961567  239.778890  ...   \n",
       "19   88.960000  9.246930e+05   85.993198   88.259016   85.659701  ...   \n",
       "20  118.247586  1.437131e+07  116.446168  118.834719  114.913275  ...   \n",
       "21   92.383924  9.520704e+06   90.221252   93.711597   89.043158  ...   \n",
       "22   52.911214  7.674274e+06   52.056190   53.478662   51.387938  ...   \n",
       "23   55.952500  6.448012e+06   47.938305   49.404379   47.598265  ...   \n",
       "24   45.857619  1.093145e+07   43.698677   44.314155   42.883399  ...   \n",
       "25   99.684348  8.254529e+06   89.681341   91.097047   88.520760  ...   \n",
       "26   67.631667  9.041565e+06   56.733228   58.051693   56.130780  ...   \n",
       "27  124.343929  7.467684e+06  123.097920  124.944298  122.348837  ...   \n",
       "28  150.161053  6.320491e+06  146.996128  149.441704  144.868726  ...   \n",
       "29   52.110937  3.284545e+07   67.627277   69.333396   66.597503  ...   \n",
       "30   70.949526  1.486614e+07   69.304041   70.777084   68.411204  ...   \n",
       "31  112.124906  5.530853e+06  102.331521  104.281515  100.754771  ...   \n",
       "32   77.812000  1.431814e+07   60.527741   61.475823   60.105305  ...   \n",
       "33   67.673868  1.375143e+07   66.144104   68.173136   65.295193  ...   \n",
       "34  111.055172  4.479886e+06  109.558855  111.648275  106.701741  ...   \n",
       "35   29.909667  9.505154e+06   27.694317   28.442038   27.391095  ...   \n",
       "36   48.459547  7.237729e+06   47.788530   48.895026   47.197906  ...   \n",
       "37  118.756000  1.878281e+06  110.831549  111.577938  109.827786  ...   \n",
       "38   71.900227  1.437394e+07   59.369612   60.747896   58.535259  ...   \n",
       "39   46.367143  2.112390e+07   45.101623   46.021822   44.477377  ...   \n",
       "40   44.523750  4.349492e+06   38.814049   39.612271   38.520201  ...   \n",
       "41  121.029091  7.463646e+06  117.030774  118.763814  115.146741  ...   \n",
       "42   31.738750  1.512170e+07   29.369169   30.436810   28.898060  ...   \n",
       "43   43.696000  8.116269e+06   41.944174   43.793107   41.577288  ...   \n",
       "\n",
       "         week      month  quarterly_performance  sell_price     delta   hpr  \\\n",
       "0   17.718750   4.343750               0.085259   37.765162  0.045427  20.0   \n",
       "1   15.000000   3.750000               0.099386  117.557607  0.040455  20.0   \n",
       "2    5.428571   1.714286               0.089221  319.831203  0.022562  20.0   \n",
       "3   28.857143   6.761905               0.093409   95.649028  0.021214  20.0   \n",
       "4   18.176471   5.823529               0.262868   40.000380  0.020976  20.0   \n",
       "5    1.500000   1.000000               0.041612  147.539940  0.017485  20.0   \n",
       "6   14.538462   3.615385               0.186574   84.783939  0.016945  20.0   \n",
       "7   14.000000   4.888889               0.074798  121.619329  0.015915  20.0   \n",
       "8   18.465116   4.720930               0.182285  160.196014  0.015754  20.0   \n",
       "9   22.100000   5.400000               0.023939   84.145399  0.012063  20.0   \n",
       "10  20.153846   5.153846               0.141782  129.422794  0.011580  20.0   \n",
       "11  28.666667   7.000000               0.067405   72.866476  0.010720  20.0   \n",
       "12  23.230769   5.615385               0.238840   44.569634  0.010633  20.0   \n",
       "13  45.333333  10.333333               0.151303   46.953093  0.010477  20.0   \n",
       "14  16.756757   4.405405               0.219112  204.294429  0.010075  20.0   \n",
       "15   6.250000   2.000000               0.087451   56.624063  0.009452  20.0   \n",
       "16  33.753623   8.362319               0.224586  110.392717  0.009427  20.0   \n",
       "17  22.000000   5.545455               0.160668   34.946293  0.009365  20.0   \n",
       "18  43.518519  10.314815               0.134494  245.450566  0.009180  20.0   \n",
       "19   2.000000   1.000000               0.067638   86.768088  0.009011  20.0   \n",
       "20  38.655172   9.241379               0.127343  117.583188  0.008545  20.0   \n",
       "21  26.204082   6.489796               0.206812   93.265869  0.008088  20.0   \n",
       "22  19.380952   5.000000               0.177671   52.771429  0.007658  20.0   \n",
       "23  21.250000   5.500000               0.036542   48.327266  0.007396  20.0   \n",
       "24  28.285714   6.761905               0.136793   43.834816  0.007252  20.0   \n",
       "25  26.108696   6.413043               0.168839   90.115683  0.007051  20.0   \n",
       "26  20.416667   5.083333               0.169638   57.076074  0.006966  20.0   \n",
       "27  22.642857   5.642857               0.146992  123.479071  0.006306  20.0   \n",
       "28  17.368421   4.315789               0.178443  147.014923  0.005239  20.0   \n",
       "29  24.718750   6.062500               0.179858   68.066825  0.003061  20.0   \n",
       "30  28.935484   7.064516               0.221428   69.877678  0.002875  20.0   \n",
       "31  24.037736   5.943396               0.166297  102.713938  0.002711  20.0   \n",
       "32   9.400000   2.500000               0.109761   60.774778  0.002246  20.0   \n",
       "33  22.700000   5.540000               0.208053   66.639141  0.001811  20.0   \n",
       "34  24.620690   6.103448               0.209558  108.941532  0.001188  20.0   \n",
       "35  30.300000   7.366667               0.167153   27.146719  0.000540  20.0   \n",
       "36  26.348837   6.604651               0.158222   47.912439  0.000414  20.0   \n",
       "37  50.400000  11.800000               0.166558  111.129307 -0.000872  20.0   \n",
       "38  31.181818   7.522727               0.233357   58.704417 -0.003285  20.0   \n",
       "39  22.095238   5.904762               0.142664   44.777314 -0.007453  20.0   \n",
       "40   8.750000   2.375000               0.143824   38.917265 -0.010282  20.0   \n",
       "41  24.454545   5.818182               0.110921  116.411524 -0.014863  20.0   \n",
       "42  22.175000   5.375000               0.292408   28.591719 -0.024403  20.0   \n",
       "43  21.800000   5.400000               0.115851   40.948375 -0.055023  20.0   \n",
       "\n",
       "      d  value      seat           CIK  \n",
       "0   0.0    0.0  2.406250  4.154516e+05  \n",
       "1   0.0    0.0  3.750000  1.014855e+06  \n",
       "2   0.0    0.0  3.857143  6.976993e+05  \n",
       "3   0.0    0.0  3.428571  1.072503e+06  \n",
       "4   0.0    0.0  2.235294  7.188376e+05  \n",
       "5   0.0    0.0  2.500000  9.668715e+05  \n",
       "6   0.0    0.0  1.923077  9.517224e+05  \n",
       "7   0.0    0.0  3.333333  3.545300e+04  \n",
       "8   0.0    0.0  2.488372  9.663681e+05  \n",
       "9   0.0    0.0  3.000000  6.935582e+05  \n",
       "10  0.0    0.0  3.615385  9.917012e+05  \n",
       "11  0.0    0.0  4.000000  5.545913e+05  \n",
       "12  0.0    0.0  1.769231  1.408004e+06  \n",
       "13  0.0    0.0  2.666667  9.281380e+05  \n",
       "14  0.0    0.0  1.594595  9.824548e+05  \n",
       "15  0.0    0.0  3.000000  1.164727e+06  \n",
       "16  0.0    0.0  2.637681  1.008695e+06  \n",
       "17  0.0    0.0  2.181818  3.380355e+04  \n",
       "18  0.0    0.0  1.907407  9.394708e+05  \n",
       "19  0.0    0.0  2.000000  7.318020e+05  \n",
       "20  0.0    0.0  3.482759  8.020481e+05  \n",
       "21  0.0    0.0  1.897959  1.003582e+06  \n",
       "22  0.0    0.0  2.095238  1.380369e+06  \n",
       "23  0.0    0.0  2.250000  1.061826e+06  \n",
       "24  0.0    0.0  2.000000  1.064199e+06  \n",
       "25  0.0    0.0  2.804348  9.757715e+05  \n",
       "26  0.0    0.0  2.000000  7.160436e+05  \n",
       "27  0.0    0.0  3.642857  8.563470e+05  \n",
       "28  0.0    0.0  2.245614  9.679452e+05  \n",
       "29  0.0    0.0  2.812500  3.336122e+05  \n",
       "30  0.0    0.0  2.322581  1.044528e+06  \n",
       "31  0.0    0.0  2.924528  9.073999e+05  \n",
       "32  0.0    0.0  2.200000  9.262922e+05  \n",
       "33  0.0    0.0  2.700000  1.082133e+06  \n",
       "34  0.0    0.0  2.000000  8.125182e+05  \n",
       "35  0.0    0.0  3.066667  5.114263e+05  \n",
       "36  0.0    0.0  2.767442  8.250361e+05  \n",
       "37  0.0    0.0  2.600000  1.001480e+06  \n",
       "38  0.0    0.0  1.886364  1.084502e+06  \n",
       "39  0.0    0.0  2.047619  8.038067e+05  \n",
       "40  0.0    0.0  4.125000  7.953770e+05  \n",
       "41  0.0    0.0  1.818182  2.586214e+05  \n",
       "42  0.0    0.0  2.450000  9.141498e+05  \n",
       "43  0.0    0.0  2.200000  1.040861e+06  \n",
       "\n",
       "[44 rows x 25 columns]"
      ]
     },
     "execution_count": 77,
     "metadata": {},
     "output_type": "execute_result"
    }
   ],
   "source": [
    "# industry check\n",
    "benchmark.groupby([\"year\",\"GICS Sector\"]).mean().sort_values(\"delta\",ascending=False).reset_index()"
   ]
  },
  {
   "cell_type": "code",
   "execution_count": 78,
   "id": "a93d934f",
   "metadata": {},
   "outputs": [
    {
     "data": {
      "text/html": [
       "<div>\n",
       "<style scoped>\n",
       "    .dataframe tbody tr th:only-of-type {\n",
       "        vertical-align: middle;\n",
       "    }\n",
       "\n",
       "    .dataframe tbody tr th {\n",
       "        vertical-align: top;\n",
       "    }\n",
       "\n",
       "    .dataframe thead th {\n",
       "        text-align: right;\n",
       "    }\n",
       "</style>\n",
       "<table border=\"1\" class=\"dataframe\">\n",
       "  <thead>\n",
       "    <tr style=\"text-align: right;\">\n",
       "      <th></th>\n",
       "      <th>year</th>\n",
       "      <th>ticker</th>\n",
       "      <th>close</th>\n",
       "      <th>high</th>\n",
       "      <th>low</th>\n",
       "      <th>open</th>\n",
       "      <th>volume</th>\n",
       "      <th>adjClose</th>\n",
       "      <th>adjHigh</th>\n",
       "      <th>adjLow</th>\n",
       "      <th>...</th>\n",
       "      <th>month</th>\n",
       "      <th>quarterly_performance</th>\n",
       "      <th>sell_price</th>\n",
       "      <th>delta</th>\n",
       "      <th>hpr</th>\n",
       "      <th>d</th>\n",
       "      <th>value</th>\n",
       "      <th>seat</th>\n",
       "      <th>CIK</th>\n",
       "      <th>Security</th>\n",
       "    </tr>\n",
       "  </thead>\n",
       "  <tbody>\n",
       "    <tr>\n",
       "      <th>0</th>\n",
       "      <td>2021</td>\n",
       "      <td>TSLA</td>\n",
       "      <td>563.000000</td>\n",
       "      <td>620.125000</td>\n",
       "      <td>558.790000</td>\n",
       "      <td>600.550000</td>\n",
       "      <td>5.178696e+07</td>\n",
       "      <td>563.000000</td>\n",
       "      <td>620.125000</td>\n",
       "      <td>558.790000</td>\n",
       "      <td>...</td>\n",
       "      <td>3.000000</td>\n",
       "      <td>0.228524</td>\n",
       "      <td>673.580000</td>\n",
       "      <td>0.196412</td>\n",
       "      <td>20.0</td>\n",
       "      <td>0.0</td>\n",
       "      <td>0.0</td>\n",
       "      <td>2.000000</td>\n",
       "      <td>1318605.0</td>\n",
       "      <td>Tesla</td>\n",
       "    </tr>\n",
       "    <tr>\n",
       "      <th>1</th>\n",
       "      <td>2020</td>\n",
       "      <td>GPS</td>\n",
       "      <td>11.180000</td>\n",
       "      <td>11.850000</td>\n",
       "      <td>11.060000</td>\n",
       "      <td>11.660000</td>\n",
       "      <td>1.404405e+07</td>\n",
       "      <td>11.051480</td>\n",
       "      <td>11.713778</td>\n",
       "      <td>10.932859</td>\n",
       "      <td>...</td>\n",
       "      <td>7.000000</td>\n",
       "      <td>0.103448</td>\n",
       "      <td>12.425501</td>\n",
       "      <td>0.124329</td>\n",
       "      <td>20.0</td>\n",
       "      <td>0.0</td>\n",
       "      <td>0.0</td>\n",
       "      <td>5.000000</td>\n",
       "      <td>39911.0</td>\n",
       "      <td>Gap</td>\n",
       "    </tr>\n",
       "    <tr>\n",
       "      <th>2</th>\n",
       "      <td>2020</td>\n",
       "      <td>MAR</td>\n",
       "      <td>63.000000</td>\n",
       "      <td>70.590000</td>\n",
       "      <td>61.550000</td>\n",
       "      <td>69.290000</td>\n",
       "      <td>8.062657e+06</td>\n",
       "      <td>63.000000</td>\n",
       "      <td>70.590000</td>\n",
       "      <td>61.550000</td>\n",
       "      <td>...</td>\n",
       "      <td>4.000000</td>\n",
       "      <td>0.088937</td>\n",
       "      <td>70.590000</td>\n",
       "      <td>0.120476</td>\n",
       "      <td>20.0</td>\n",
       "      <td>0.0</td>\n",
       "      <td>0.0</td>\n",
       "      <td>5.000000</td>\n",
       "      <td>1048286.0</td>\n",
       "      <td>Marriott International</td>\n",
       "    </tr>\n",
       "    <tr>\n",
       "      <th>3</th>\n",
       "      <td>2020</td>\n",
       "      <td>CARR</td>\n",
       "      <td>13.865000</td>\n",
       "      <td>14.742500</td>\n",
       "      <td>13.126250</td>\n",
       "      <td>14.240000</td>\n",
       "      <td>1.970367e+07</td>\n",
       "      <td>13.664646</td>\n",
       "      <td>14.529465</td>\n",
       "      <td>12.936571</td>\n",
       "      <td>...</td>\n",
       "      <td>4.000000</td>\n",
       "      <td>0.078738</td>\n",
       "      <td>14.908902</td>\n",
       "      <td>0.093815</td>\n",
       "      <td>20.0</td>\n",
       "      <td>0.0</td>\n",
       "      <td>0.0</td>\n",
       "      <td>1.750000</td>\n",
       "      <td>1783180.0</td>\n",
       "      <td>Carrier Global</td>\n",
       "    </tr>\n",
       "    <tr>\n",
       "      <th>4</th>\n",
       "      <td>2020</td>\n",
       "      <td>RCL</td>\n",
       "      <td>44.925000</td>\n",
       "      <td>48.980000</td>\n",
       "      <td>44.460000</td>\n",
       "      <td>45.625000</td>\n",
       "      <td>2.171700e+07</td>\n",
       "      <td>44.925000</td>\n",
       "      <td>48.980000</td>\n",
       "      <td>44.460000</td>\n",
       "      <td>...</td>\n",
       "      <td>6.500000</td>\n",
       "      <td>0.430525</td>\n",
       "      <td>48.130000</td>\n",
       "      <td>0.091342</td>\n",
       "      <td>20.0</td>\n",
       "      <td>0.0</td>\n",
       "      <td>0.0</td>\n",
       "      <td>1.500000</td>\n",
       "      <td>884887.0</td>\n",
       "      <td>Royal Caribbean Group</td>\n",
       "    </tr>\n",
       "    <tr>\n",
       "      <th>5</th>\n",
       "      <td>2020</td>\n",
       "      <td>DAL</td>\n",
       "      <td>21.840000</td>\n",
       "      <td>22.695000</td>\n",
       "      <td>20.525000</td>\n",
       "      <td>22.157500</td>\n",
       "      <td>7.567001e+07</td>\n",
       "      <td>21.840000</td>\n",
       "      <td>22.695000</td>\n",
       "      <td>20.525000</td>\n",
       "      <td>...</td>\n",
       "      <td>4.250000</td>\n",
       "      <td>0.085044</td>\n",
       "      <td>23.492500</td>\n",
       "      <td>0.077586</td>\n",
       "      <td>20.0</td>\n",
       "      <td>0.0</td>\n",
       "      <td>0.0</td>\n",
       "      <td>2.750000</td>\n",
       "      <td>27904.0</td>\n",
       "      <td>Delta Air Lines</td>\n",
       "    </tr>\n",
       "    <tr>\n",
       "      <th>6</th>\n",
       "      <td>2020</td>\n",
       "      <td>CZR</td>\n",
       "      <td>21.832000</td>\n",
       "      <td>24.951000</td>\n",
       "      <td>21.158000</td>\n",
       "      <td>23.669000</td>\n",
       "      <td>8.975461e+06</td>\n",
       "      <td>21.832000</td>\n",
       "      <td>24.951000</td>\n",
       "      <td>21.158000</td>\n",
       "      <td>...</td>\n",
       "      <td>4.600000</td>\n",
       "      <td>0.536328</td>\n",
       "      <td>23.124000</td>\n",
       "      <td>0.076954</td>\n",
       "      <td>20.0</td>\n",
       "      <td>0.0</td>\n",
       "      <td>0.0</td>\n",
       "      <td>2.000000</td>\n",
       "      <td>1590895.0</td>\n",
       "      <td>Caesars Entertainment</td>\n",
       "    </tr>\n",
       "    <tr>\n",
       "      <th>7</th>\n",
       "      <td>2020</td>\n",
       "      <td>LYV</td>\n",
       "      <td>36.530000</td>\n",
       "      <td>38.320000</td>\n",
       "      <td>35.985000</td>\n",
       "      <td>37.455000</td>\n",
       "      <td>5.504180e+06</td>\n",
       "      <td>36.530000</td>\n",
       "      <td>38.320000</td>\n",
       "      <td>35.985000</td>\n",
       "      <td>...</td>\n",
       "      <td>4.000000</td>\n",
       "      <td>0.060442</td>\n",
       "      <td>38.900000</td>\n",
       "      <td>0.064838</td>\n",
       "      <td>20.0</td>\n",
       "      <td>0.0</td>\n",
       "      <td>0.0</td>\n",
       "      <td>2.500000</td>\n",
       "      <td>1335258.0</td>\n",
       "      <td>Live Nation Entertainment</td>\n",
       "    </tr>\n",
       "    <tr>\n",
       "      <th>8</th>\n",
       "      <td>2018</td>\n",
       "      <td>HES</td>\n",
       "      <td>39.126667</td>\n",
       "      <td>40.886667</td>\n",
       "      <td>37.366667</td>\n",
       "      <td>39.516667</td>\n",
       "      <td>7.537898e+06</td>\n",
       "      <td>37.251303</td>\n",
       "      <td>38.926946</td>\n",
       "      <td>35.575661</td>\n",
       "      <td>...</td>\n",
       "      <td>12.000000</td>\n",
       "      <td>0.472867</td>\n",
       "      <td>39.425195</td>\n",
       "      <td>0.060086</td>\n",
       "      <td>20.0</td>\n",
       "      <td>0.0</td>\n",
       "      <td>0.0</td>\n",
       "      <td>1.666667</td>\n",
       "      <td>4447.0</td>\n",
       "      <td>Hess Corporation</td>\n",
       "    </tr>\n",
       "    <tr>\n",
       "      <th>9</th>\n",
       "      <td>2020</td>\n",
       "      <td>OTIS</td>\n",
       "      <td>45.045000</td>\n",
       "      <td>46.935000</td>\n",
       "      <td>43.490000</td>\n",
       "      <td>45.380000</td>\n",
       "      <td>1.540413e+07</td>\n",
       "      <td>44.200363</td>\n",
       "      <td>46.054924</td>\n",
       "      <td>42.674521</td>\n",
       "      <td>...</td>\n",
       "      <td>4.000000</td>\n",
       "      <td>0.035439</td>\n",
       "      <td>46.751611</td>\n",
       "      <td>0.058900</td>\n",
       "      <td>20.0</td>\n",
       "      <td>0.0</td>\n",
       "      <td>0.0</td>\n",
       "      <td>2.500000</td>\n",
       "      <td>1781335.0</td>\n",
       "      <td>Otis Worldwide</td>\n",
       "    </tr>\n",
       "    <tr>\n",
       "      <th>10</th>\n",
       "      <td>2018</td>\n",
       "      <td>NLSN</td>\n",
       "      <td>24.620000</td>\n",
       "      <td>25.670000</td>\n",
       "      <td>23.800000</td>\n",
       "      <td>25.420000</td>\n",
       "      <td>3.002664e+07</td>\n",
       "      <td>22.331730</td>\n",
       "      <td>23.284139</td>\n",
       "      <td>21.587944</td>\n",
       "      <td>...</td>\n",
       "      <td>8.000000</td>\n",
       "      <td>0.195162</td>\n",
       "      <td>23.628821</td>\n",
       "      <td>0.058083</td>\n",
       "      <td>20.0</td>\n",
       "      <td>0.0</td>\n",
       "      <td>0.0</td>\n",
       "      <td>4.000000</td>\n",
       "      <td>1492633.0</td>\n",
       "      <td>Nielsen Holdings</td>\n",
       "    </tr>\n",
       "    <tr>\n",
       "      <th>11</th>\n",
       "      <td>2020</td>\n",
       "      <td>MLM</td>\n",
       "      <td>173.745000</td>\n",
       "      <td>176.740000</td>\n",
       "      <td>170.715000</td>\n",
       "      <td>174.880000</td>\n",
       "      <td>1.060299e+06</td>\n",
       "      <td>171.558569</td>\n",
       "      <td>174.515880</td>\n",
       "      <td>168.566699</td>\n",
       "      <td>...</td>\n",
       "      <td>4.500000</td>\n",
       "      <td>0.066489</td>\n",
       "      <td>180.840278</td>\n",
       "      <td>0.054221</td>\n",
       "      <td>20.0</td>\n",
       "      <td>0.0</td>\n",
       "      <td>0.0</td>\n",
       "      <td>4.500000</td>\n",
       "      <td>916076.0</td>\n",
       "      <td>Martin Marietta Materials</td>\n",
       "    </tr>\n",
       "    <tr>\n",
       "      <th>12</th>\n",
       "      <td>2020</td>\n",
       "      <td>MCK</td>\n",
       "      <td>131.020000</td>\n",
       "      <td>133.970000</td>\n",
       "      <td>129.160000</td>\n",
       "      <td>132.950000</td>\n",
       "      <td>1.604182e+06</td>\n",
       "      <td>129.128669</td>\n",
       "      <td>132.036084</td>\n",
       "      <td>127.295519</td>\n",
       "      <td>...</td>\n",
       "      <td>4.000000</td>\n",
       "      <td>0.015331</td>\n",
       "      <td>135.672817</td>\n",
       "      <td>0.050679</td>\n",
       "      <td>20.0</td>\n",
       "      <td>0.0</td>\n",
       "      <td>0.0</td>\n",
       "      <td>4.000000</td>\n",
       "      <td>927653.0</td>\n",
       "      <td>McKesson Corporation</td>\n",
       "    </tr>\n",
       "    <tr>\n",
       "      <th>13</th>\n",
       "      <td>2018</td>\n",
       "      <td>LYV</td>\n",
       "      <td>36.610000</td>\n",
       "      <td>38.710000</td>\n",
       "      <td>36.570100</td>\n",
       "      <td>38.430000</td>\n",
       "      <td>4.924744e+06</td>\n",
       "      <td>36.610000</td>\n",
       "      <td>38.710000</td>\n",
       "      <td>36.570100</td>\n",
       "      <td>...</td>\n",
       "      <td>4.000000</td>\n",
       "      <td>0.040870</td>\n",
       "      <td>38.430000</td>\n",
       "      <td>0.049713</td>\n",
       "      <td>20.0</td>\n",
       "      <td>0.0</td>\n",
       "      <td>0.0</td>\n",
       "      <td>1.000000</td>\n",
       "      <td>1335258.0</td>\n",
       "      <td>Live Nation Entertainment</td>\n",
       "    </tr>\n",
       "    <tr>\n",
       "      <th>14</th>\n",
       "      <td>2021</td>\n",
       "      <td>FIS</td>\n",
       "      <td>123.460000</td>\n",
       "      <td>125.490000</td>\n",
       "      <td>123.130000</td>\n",
       "      <td>125.250000</td>\n",
       "      <td>4.543749e+06</td>\n",
       "      <td>122.423679</td>\n",
       "      <td>124.436640</td>\n",
       "      <td>122.096450</td>\n",
       "      <td>...</td>\n",
       "      <td>1.000000</td>\n",
       "      <td>0.117576</td>\n",
       "      <td>128.145246</td>\n",
       "      <td>0.046736</td>\n",
       "      <td>20.0</td>\n",
       "      <td>0.0</td>\n",
       "      <td>0.0</td>\n",
       "      <td>2.000000</td>\n",
       "      <td>1136893.0</td>\n",
       "      <td>Fidelity National Information Services</td>\n",
       "    </tr>\n",
       "    <tr>\n",
       "      <th>15</th>\n",
       "      <td>2021</td>\n",
       "      <td>NOV</td>\n",
       "      <td>13.200000</td>\n",
       "      <td>13.675000</td>\n",
       "      <td>12.980500</td>\n",
       "      <td>13.170000</td>\n",
       "      <td>5.199163e+06</td>\n",
       "      <td>13.200000</td>\n",
       "      <td>13.675000</td>\n",
       "      <td>12.980500</td>\n",
       "      <td>...</td>\n",
       "      <td>4.000000</td>\n",
       "      <td>0.106790</td>\n",
       "      <td>13.825000</td>\n",
       "      <td>0.046338</td>\n",
       "      <td>20.0</td>\n",
       "      <td>0.0</td>\n",
       "      <td>0.0</td>\n",
       "      <td>5.000000</td>\n",
       "      <td>1021860.0</td>\n",
       "      <td>Nov</td>\n",
       "    </tr>\n",
       "    <tr>\n",
       "      <th>16</th>\n",
       "      <td>2020</td>\n",
       "      <td>AES</td>\n",
       "      <td>12.400000</td>\n",
       "      <td>12.823333</td>\n",
       "      <td>12.213333</td>\n",
       "      <td>12.660000</td>\n",
       "      <td>8.222806e+06</td>\n",
       "      <td>11.937631</td>\n",
       "      <td>12.344129</td>\n",
       "      <td>11.757811</td>\n",
       "      <td>...</td>\n",
       "      <td>5.000000</td>\n",
       "      <td>0.024198</td>\n",
       "      <td>12.443131</td>\n",
       "      <td>0.042791</td>\n",
       "      <td>20.0</td>\n",
       "      <td>0.0</td>\n",
       "      <td>0.0</td>\n",
       "      <td>3.666667</td>\n",
       "      <td>874761.0</td>\n",
       "      <td>AES Corp</td>\n",
       "    </tr>\n",
       "    <tr>\n",
       "      <th>17</th>\n",
       "      <td>2019</td>\n",
       "      <td>WDC</td>\n",
       "      <td>39.205000</td>\n",
       "      <td>40.225000</td>\n",
       "      <td>38.555000</td>\n",
       "      <td>39.887500</td>\n",
       "      <td>6.551750e+06</td>\n",
       "      <td>37.791054</td>\n",
       "      <td>38.773888</td>\n",
       "      <td>37.169440</td>\n",
       "      <td>...</td>\n",
       "      <td>6.000000</td>\n",
       "      <td>0.188176</td>\n",
       "      <td>39.297322</td>\n",
       "      <td>0.042225</td>\n",
       "      <td>20.0</td>\n",
       "      <td>0.0</td>\n",
       "      <td>0.0</td>\n",
       "      <td>4.250000</td>\n",
       "      <td>106040.0</td>\n",
       "      <td>Western Digital</td>\n",
       "    </tr>\n",
       "    <tr>\n",
       "      <th>18</th>\n",
       "      <td>2020</td>\n",
       "      <td>GE</td>\n",
       "      <td>6.440000</td>\n",
       "      <td>6.575714</td>\n",
       "      <td>6.368571</td>\n",
       "      <td>6.481429</td>\n",
       "      <td>1.098033e+08</td>\n",
       "      <td>51.193013</td>\n",
       "      <td>52.271837</td>\n",
       "      <td>50.625212</td>\n",
       "      <td>...</td>\n",
       "      <td>4.571429</td>\n",
       "      <td>0.085227</td>\n",
       "      <td>53.327948</td>\n",
       "      <td>0.041563</td>\n",
       "      <td>20.0</td>\n",
       "      <td>0.0</td>\n",
       "      <td>0.0</td>\n",
       "      <td>1.714286</td>\n",
       "      <td>40545.0</td>\n",
       "      <td>General Electric</td>\n",
       "    </tr>\n",
       "    <tr>\n",
       "      <th>19</th>\n",
       "      <td>2021</td>\n",
       "      <td>MA</td>\n",
       "      <td>321.560000</td>\n",
       "      <td>323.520000</td>\n",
       "      <td>317.580000</td>\n",
       "      <td>320.910000</td>\n",
       "      <td>4.930713e+06</td>\n",
       "      <td>320.804574</td>\n",
       "      <td>322.759969</td>\n",
       "      <td>316.833924</td>\n",
       "      <td>...</td>\n",
       "      <td>2.000000</td>\n",
       "      <td>0.084001</td>\n",
       "      <td>333.584480</td>\n",
       "      <td>0.039837</td>\n",
       "      <td>20.0</td>\n",
       "      <td>0.0</td>\n",
       "      <td>0.0</td>\n",
       "      <td>5.000000</td>\n",
       "      <td>1141391.0</td>\n",
       "      <td>Mastercard</td>\n",
       "    </tr>\n",
       "  </tbody>\n",
       "</table>\n",
       "<p>20 rows × 26 columns</p>\n",
       "</div>"
      ],
      "text/plain": [
       "    year ticker       close        high         low        open        volume  \\\n",
       "0   2021   TSLA  563.000000  620.125000  558.790000  600.550000  5.178696e+07   \n",
       "1   2020    GPS   11.180000   11.850000   11.060000   11.660000  1.404405e+07   \n",
       "2   2020    MAR   63.000000   70.590000   61.550000   69.290000  8.062657e+06   \n",
       "3   2020   CARR   13.865000   14.742500   13.126250   14.240000  1.970367e+07   \n",
       "4   2020    RCL   44.925000   48.980000   44.460000   45.625000  2.171700e+07   \n",
       "5   2020    DAL   21.840000   22.695000   20.525000   22.157500  7.567001e+07   \n",
       "6   2020    CZR   21.832000   24.951000   21.158000   23.669000  8.975461e+06   \n",
       "7   2020    LYV   36.530000   38.320000   35.985000   37.455000  5.504180e+06   \n",
       "8   2018    HES   39.126667   40.886667   37.366667   39.516667  7.537898e+06   \n",
       "9   2020   OTIS   45.045000   46.935000   43.490000   45.380000  1.540413e+07   \n",
       "10  2018   NLSN   24.620000   25.670000   23.800000   25.420000  3.002664e+07   \n",
       "11  2020    MLM  173.745000  176.740000  170.715000  174.880000  1.060299e+06   \n",
       "12  2020    MCK  131.020000  133.970000  129.160000  132.950000  1.604182e+06   \n",
       "13  2018    LYV   36.610000   38.710000   36.570100   38.430000  4.924744e+06   \n",
       "14  2021    FIS  123.460000  125.490000  123.130000  125.250000  4.543749e+06   \n",
       "15  2021    NOV   13.200000   13.675000   12.980500   13.170000  5.199163e+06   \n",
       "16  2020    AES   12.400000   12.823333   12.213333   12.660000  8.222806e+06   \n",
       "17  2019    WDC   39.205000   40.225000   38.555000   39.887500  6.551750e+06   \n",
       "18  2020     GE    6.440000    6.575714    6.368571    6.481429  1.098033e+08   \n",
       "19  2021     MA  321.560000  323.520000  317.580000  320.910000  4.930713e+06   \n",
       "\n",
       "      adjClose     adjHigh      adjLow  ...      month  quarterly_performance  \\\n",
       "0   563.000000  620.125000  558.790000  ...   3.000000               0.228524   \n",
       "1    11.051480   11.713778   10.932859  ...   7.000000               0.103448   \n",
       "2    63.000000   70.590000   61.550000  ...   4.000000               0.088937   \n",
       "3    13.664646   14.529465   12.936571  ...   4.000000               0.078738   \n",
       "4    44.925000   48.980000   44.460000  ...   6.500000               0.430525   \n",
       "5    21.840000   22.695000   20.525000  ...   4.250000               0.085044   \n",
       "6    21.832000   24.951000   21.158000  ...   4.600000               0.536328   \n",
       "7    36.530000   38.320000   35.985000  ...   4.000000               0.060442   \n",
       "8    37.251303   38.926946   35.575661  ...  12.000000               0.472867   \n",
       "9    44.200363   46.054924   42.674521  ...   4.000000               0.035439   \n",
       "10   22.331730   23.284139   21.587944  ...   8.000000               0.195162   \n",
       "11  171.558569  174.515880  168.566699  ...   4.500000               0.066489   \n",
       "12  129.128669  132.036084  127.295519  ...   4.000000               0.015331   \n",
       "13   36.610000   38.710000   36.570100  ...   4.000000               0.040870   \n",
       "14  122.423679  124.436640  122.096450  ...   1.000000               0.117576   \n",
       "15   13.200000   13.675000   12.980500  ...   4.000000               0.106790   \n",
       "16   11.937631   12.344129   11.757811  ...   5.000000               0.024198   \n",
       "17   37.791054   38.773888   37.169440  ...   6.000000               0.188176   \n",
       "18   51.193013   52.271837   50.625212  ...   4.571429               0.085227   \n",
       "19  320.804574  322.759969  316.833924  ...   2.000000               0.084001   \n",
       "\n",
       "    sell_price     delta   hpr    d  value      seat        CIK  \\\n",
       "0   673.580000  0.196412  20.0  0.0    0.0  2.000000  1318605.0   \n",
       "1    12.425501  0.124329  20.0  0.0    0.0  5.000000    39911.0   \n",
       "2    70.590000  0.120476  20.0  0.0    0.0  5.000000  1048286.0   \n",
       "3    14.908902  0.093815  20.0  0.0    0.0  1.750000  1783180.0   \n",
       "4    48.130000  0.091342  20.0  0.0    0.0  1.500000   884887.0   \n",
       "5    23.492500  0.077586  20.0  0.0    0.0  2.750000    27904.0   \n",
       "6    23.124000  0.076954  20.0  0.0    0.0  2.000000  1590895.0   \n",
       "7    38.900000  0.064838  20.0  0.0    0.0  2.500000  1335258.0   \n",
       "8    39.425195  0.060086  20.0  0.0    0.0  1.666667     4447.0   \n",
       "9    46.751611  0.058900  20.0  0.0    0.0  2.500000  1781335.0   \n",
       "10   23.628821  0.058083  20.0  0.0    0.0  4.000000  1492633.0   \n",
       "11  180.840278  0.054221  20.0  0.0    0.0  4.500000   916076.0   \n",
       "12  135.672817  0.050679  20.0  0.0    0.0  4.000000   927653.0   \n",
       "13   38.430000  0.049713  20.0  0.0    0.0  1.000000  1335258.0   \n",
       "14  128.145246  0.046736  20.0  0.0    0.0  2.000000  1136893.0   \n",
       "15   13.825000  0.046338  20.0  0.0    0.0  5.000000  1021860.0   \n",
       "16   12.443131  0.042791  20.0  0.0    0.0  3.666667   874761.0   \n",
       "17   39.297322  0.042225  20.0  0.0    0.0  4.250000   106040.0   \n",
       "18   53.327948  0.041563  20.0  0.0    0.0  1.714286    40545.0   \n",
       "19  333.584480  0.039837  20.0  0.0    0.0  5.000000  1141391.0   \n",
       "\n",
       "                                  Security  \n",
       "0                                    Tesla  \n",
       "1                                      Gap  \n",
       "2                   Marriott International  \n",
       "3                           Carrier Global  \n",
       "4                    Royal Caribbean Group  \n",
       "5                          Delta Air Lines  \n",
       "6                    Caesars Entertainment  \n",
       "7                Live Nation Entertainment  \n",
       "8                         Hess Corporation  \n",
       "9                           Otis Worldwide  \n",
       "10                        Nielsen Holdings  \n",
       "11               Martin Marietta Materials  \n",
       "12                    McKesson Corporation  \n",
       "13               Live Nation Entertainment  \n",
       "14  Fidelity National Information Services  \n",
       "15                                     Nov  \n",
       "16                                AES Corp  \n",
       "17                         Western Digital  \n",
       "18                        General Electric  \n",
       "19                              Mastercard  \n",
       "\n",
       "[20 rows x 26 columns]"
      ]
     },
     "execution_count": 78,
     "metadata": {},
     "output_type": "execute_result"
    }
   ],
   "source": [
    "benchmark.groupby([\"year\",\"ticker\"]).mean().sort_values(\"delta\",ascending=False).reset_index().merge(sp5[[\"ticker\",\"Security\"]],on=\"ticker\",how=\"left\").head(20)"
   ]
  }
 ],
 "metadata": {
  "kernelspec": {
   "display_name": "Python 3 (ipykernel)",
   "language": "python",
   "name": "python3"
  },
  "language_info": {
   "codemirror_mode": {
    "name": "ipython",
    "version": 3
   },
   "file_extension": ".py",
   "mimetype": "text/x-python",
   "name": "python",
   "nbconvert_exporter": "python",
   "pygments_lexer": "ipython3",
   "version": "3.10.1"
  }
 },
 "nbformat": 4,
 "nbformat_minor": 5
}
