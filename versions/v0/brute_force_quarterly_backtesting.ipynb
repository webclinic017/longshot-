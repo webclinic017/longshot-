{
 "cells": [
  {
   "cell_type": "code",
   "execution_count": 1,
   "metadata": {},
   "outputs": [],
   "source": [
    "from database.market import Market\n",
    "from database.strategy import Strategy\n",
    "import pandas as pd\n",
    "from datetime import datetime, timedelta\n",
    "from tqdm import tqdm\n",
    "import matplotlib.pyplot as plt\n",
    "pd.options.mode.chained_assignment = None\n",
    "import pytz"
   ]
  },
  {
   "cell_type": "code",
   "execution_count": 2,
   "metadata": {},
   "outputs": [],
   "source": [
    "market = Market()\n",
    "strategy = Strategy()"
   ]
  },
  {
   "cell_type": "code",
   "execution_count": 3,
   "metadata": {},
   "outputs": [],
   "source": [
    "market.connect()\n",
    "prices = market.retrieve(\"prices\")\n",
    "market.disconnect()"
   ]
  },
  {
   "cell_type": "code",
   "execution_count": 4,
   "metadata": {},
   "outputs": [],
   "source": [
    "strategy.connect()\n",
    "quarterly_sim = strategy.retrieve(\"quarterly_short_sim\")\n",
    "strategy.disconnect()"
   ]
  },
  {
   "cell_type": "code",
   "execution_count": 5,
   "metadata": {},
   "outputs": [
    {
     "data": {
      "text/plain": [
       "Index(['_id', 'year', 'quarter', 'ticker',\n",
       "       'quarterly_price_regression_prediction', 'score', 'model_training_year',\n",
       "       'category_training_year'],\n",
       "      dtype='object')"
      ]
     },
     "execution_count": 5,
     "metadata": {},
     "output_type": "execute_result"
    }
   ],
   "source": [
    "quarterly_sim.columns"
   ]
  },
  {
   "cell_type": "code",
   "execution_count": 6,
   "metadata": {},
   "outputs": [],
   "source": [
    "prices[\"date\"] = pd.to_datetime(prices[\"date\"])\n",
    "prices[\"year\"] = [x.year for x in prices[\"date\"]]\n",
    "prices[\"quarter\"] = [x.quarter for x in prices[\"date\"]]\n",
    "prices[\"week\"] = [x.week for x in prices[\"date\"]]"
   ]
  },
  {
   "cell_type": "code",
   "execution_count": 7,
   "metadata": {},
   "outputs": [
    {
     "data": {
      "text/plain": [
       "Timestamp('2021-10-08 00:00:00+0000', tz='UTC')"
      ]
     },
     "execution_count": 7,
     "metadata": {},
     "output_type": "execute_result"
    }
   ],
   "source": [
    "prices[\"date\"].max()"
   ]
  },
  {
   "cell_type": "code",
   "execution_count": 8,
   "metadata": {},
   "outputs": [],
   "source": [
    "final_sim = prices.merge(quarterly_sim,on=[\"year\",\"quarter\",\"ticker\"],how=\"right\")\n",
    "final_sim[\"quarterly_delta\"] = (final_sim[\"quarterly_price_regression_prediction\"] - final_sim[\"adjClose\"]) / final_sim[\"adjClose\"]\n",
    "final_sim = final_sim[(final_sim[\"date\"]>=prices[\"date\"].max())]"
   ]
  },
  {
   "cell_type": "code",
   "execution_count": 9,
   "metadata": {},
   "outputs": [
    {
     "ename": "NameError",
     "evalue": "name 'current_sim' is not defined",
     "output_type": "error",
     "traceback": [
      "\u001b[1;31m---------------------------------------------------------------------------\u001b[0m",
      "\u001b[1;31mNameError\u001b[0m                                 Traceback (most recent call last)",
      "\u001b[1;32m~\\AppData\\Local\\Temp/ipykernel_3360/1157599277.py\u001b[0m in \u001b[0;36m<module>\u001b[1;34m\u001b[0m\n\u001b[1;32m----> 1\u001b[1;33m \u001b[0mcurrent_sim\u001b[0m\u001b[1;33m[\u001b[0m\u001b[1;33m(\u001b[0m\u001b[0mcurrent_sim\u001b[0m\u001b[1;33m[\u001b[0m\u001b[1;34m\"quarter\"\u001b[0m\u001b[1;33m]\u001b[0m\u001b[1;33m==\u001b[0m\u001b[1;36m4\u001b[0m\u001b[1;33m)\u001b[0m \u001b[1;33m&\u001b[0m \u001b[1;33m(\u001b[0m\u001b[0mcurrent_sim\u001b[0m\u001b[1;33m[\u001b[0m\u001b[1;34m\"year\"\u001b[0m\u001b[1;33m]\u001b[0m\u001b[1;33m==\u001b[0m\u001b[1;36m2021\u001b[0m\u001b[1;33m)\u001b[0m\u001b[1;33m]\u001b[0m\u001b[1;33m\u001b[0m\u001b[1;33m\u001b[0m\u001b[0m\n\u001b[0m",
      "\u001b[1;31mNameError\u001b[0m: name 'current_sim' is not defined"
     ]
    }
   ],
   "source": [
    "current_sim[(current_sim[\"quarter\"]==4) & (current_sim[\"year\"]==2021)]"
   ]
  },
  {
   "cell_type": "code",
   "execution_count": null,
   "metadata": {},
   "outputs": [],
   "source": [
    "final_sim[final_sim[\"score\"]>0.90].groupby(\"ticker\").mean().sort_values(\"quarterly_delta\",ascending=False).head(20)"
   ]
  },
  {
   "cell_type": "code",
   "execution_count": 38,
   "metadata": {
    "scrolled": true
   },
   "outputs": [
    {
     "name": "stderr",
     "output_type": "stream",
     "text": [
      "  0%|                                                                                                                                             | 0/4 [00:00<?, ?it/s]\n",
      "  0%|                                                                                                                                             | 0/5 [00:00<?, ?it/s]\u001b[A\n",
      " 20%|██████████████████████████▍                                                                                                         | 1/5 [02:07<08:28, 127.22s/it]\u001b[A\n",
      " 40%|████████████████████████████████████████████████████▊                                                                               | 2/5 [04:09<06:12, 124.08s/it]\u001b[A\n",
      " 60%|███████████████████████████████████████████████████████████████████████████████▏                                                    | 3/5 [06:34<04:27, 133.64s/it]\u001b[A\n",
      " 80%|█████████████████████████████████████████████████████████████████████████████████████████████████████████▌                          | 4/5 [08:47<02:13, 133.36s/it]\u001b[A\n",
      "100%|████████████████████████████████████████████████████████████████████████████████████████████████████████████████████████████████████| 5/5 [11:11<00:00, 134.22s/it]\u001b[A\n",
      " 25%|█████████████████████████████████                                                                                                   | 1/4 [11:11<33:33, 671.12s/it]\n",
      "  0%|                                                                                                                                             | 0/5 [00:00<?, ?it/s]\u001b[A\n",
      " 20%|██████████████████████████▌                                                                                                          | 1/5 [01:14<04:58, 74.69s/it]\u001b[A\n",
      " 40%|█████████████████████████████████████████████████████▏                                                                               | 2/5 [02:33<03:51, 77.25s/it]\u001b[A\n",
      " 60%|███████████████████████████████████████████████████████████████████████████████▊                                                     | 3/5 [03:53<02:36, 78.48s/it]\u001b[A\n",
      " 80%|██████████████████████████████████████████████████████████████████████████████████████████████████████████▍                          | 4/5 [05:13<01:19, 79.11s/it]\u001b[A\n",
      "100%|█████████████████████████████████████████████████████████████████████████████████████████████████████████████████████████████████████| 5/5 [06:33<00:00, 78.76s/it]\u001b[A\n",
      " 50%|██████████████████████████████████████████████████████████████████                                                                  | 2/4 [17:44<16:55, 508.00s/it]\n",
      "  0%|                                                                                                                                             | 0/5 [00:00<?, ?it/s]\u001b[A\n",
      " 20%|██████████████████████████▌                                                                                                          | 1/5 [01:33<06:12, 93.24s/it]\u001b[A\n",
      " 40%|█████████████████████████████████████████████████████▏                                                                               | 2/5 [03:14<04:53, 97.99s/it]\u001b[A\n",
      " 60%|███████████████████████████████████████████████████████████████████████████████▊                                                     | 3/5 [04:54<03:17, 98.82s/it]\u001b[A\n",
      " 80%|██████████████████████████████████████████████████████████████████████████████████████████████████████████▍                          | 4/5 [06:34<01:39, 99.20s/it]\u001b[A\n",
      "100%|█████████████████████████████████████████████████████████████████████████████████████████████████████████████████████████████████████| 5/5 [08:13<00:00, 98.75s/it]\u001b[A\n",
      " 75%|███████████████████████████████████████████████████████████████████████████████████████████████████                                 | 3/4 [25:58<08:21, 501.50s/it]\n",
      "  0%|                                                                                                                                             | 0/5 [00:00<?, ?it/s]\u001b[A\n",
      " 20%|██████████████████████████▌                                                                                                          | 1/5 [01:32<06:09, 92.33s/it]\u001b[A\n",
      " 40%|█████████████████████████████████████████████████████▏                                                                               | 2/5 [03:05<04:37, 92.65s/it]\u001b[A\n",
      " 60%|███████████████████████████████████████████████████████████████████████████████▊                                                     | 3/5 [04:40<03:07, 93.67s/it]\u001b[A\n",
      " 80%|██████████████████████████████████████████████████████████████████████████████████████████████████████████▍                          | 4/5 [06:14<01:34, 94.14s/it]\u001b[A\n",
      "100%|█████████████████████████████████████████████████████████████████████████████████████████████████████████████████████████████████████| 5/5 [07:49<00:00, 93.97s/it]\u001b[A\n",
      "100%|████████████████████████████████████████████████████████████████████████████████████████████████████████████████████████████████████| 4/4 [33:48<00:00, 507.13s/it]\n"
     ]
    }
   ],
   "source": [
    "trades = []\n",
    "analysis = []\n",
    "seats = 11\n",
    "for quarterly_category_training_year in tqdm(range(1,5)):\n",
    "    for quarterly_model_training_year in tqdm(range(1,6)):\n",
    "        for value in [True,False]:\n",
    "            current_sim = quarterly_sim[(quarterly_sim[\"model_training_year\"]==quarterly_model_training_year) & (quarterly_sim[\"category_training_year\"]==quarterly_category_training_year)]\n",
    "            final_sim = prices.merge(current_sim,on=[\"year\",\"quarter\",\"ticker\"],how=\"left\")\n",
    "            final_sim = final_sim[[\"year\",\"quarter\",\"week\",\"date\",\"ticker\",\"adjClose\",\"quarterly_price_regression_prediction\",\"score\"]]\n",
    "            final_sim[\"quarterly_delta\"] = (final_sim[\"quarterly_price_regression_prediction\"] - final_sim[\"adjClose\"]) / final_sim[\"adjClose\"]\n",
    "            final_sim = final_sim[(final_sim[\"year\"]>=2019)]\n",
    "            start = final_sim[\"date\"].min()\n",
    "            end = final_sim[\"date\"].max()\n",
    "            date = start\n",
    "            final_sim.sort_values(\"date\",ascending=True,inplace=True)\n",
    "            if not value:\n",
    "                final_sim[\"quarterly_delta\"] = final_sim[\"quarterly_delta\"] * -1\n",
    "            analysis.append({\n",
    "                  \"qmty\":quarterly_model_training_year,\n",
    "                  \"qcty\":quarterly_category_training_year,\n",
    "                 \"index_size\":final_sim.index.size})\n",
    "            for delta in range(0,15,5):\n",
    "                d = float(delta/100)\n",
    "                for score in range(60,100,10):\n",
    "                    date = start\n",
    "                    while date <= end:\n",
    "                        req = float(score/100)\n",
    "                        if date.weekday() > 4:\n",
    "                            date = date + timedelta(days=1)\n",
    "                        try:\n",
    "                            todays_sim = final_sim[(final_sim[\"date\"]==date) \n",
    "                                                   & (final_sim[\"quarterly_delta\"] >= d) \\\n",
    "                                                  & (final_sim[\"score\"] >= req)].sort_values(\"quarterly_delta\",ascending=False)\n",
    "                            if todays_sim.index.size < 1:\n",
    "                                date = date + timedelta(days=1)\n",
    "                            else:\n",
    "                                for seat in range(min(seats,todays_sim.index.size)):\n",
    "                                    try:\n",
    "                                        trade = todays_sim.iloc[seat]\n",
    "                                        ticker = trade[\"ticker\"]\n",
    "                                        buy_price = trade[\"adjClose\"]\n",
    "                                        exit_price = buy_price * (1+delta)\n",
    "                                        max_days = min(30,(datetime(date.year,12,24).astimezone(pytz.utc)-date).days)\n",
    "                                        max_date = date + timedelta(days=max_days)\n",
    "                                        exits = final_sim[(final_sim[\"ticker\"]==ticker) & \n",
    "                                                            (final_sim[\"date\"] > date) & \\\n",
    "                                                          (final_sim[\"date\"] <= max_date) & \\\n",
    "                                                        (final_sim[\"year\"] == date.year) & \\\n",
    "                                                          (final_sim[\"adjClose\"] >= exit_price)]\n",
    "                                        if exits.index.size < 1:\n",
    "                                            exits = final_sim[(final_sim[\"ticker\"]==ticker) & \\\n",
    "                                                          (final_sim[\"year\"] == date.year) & \\\n",
    "                                                        (final_sim[\"date\"] >max_date) & \\\n",
    "                                                          (final_sim[\"adjClose\"] >= buy_price)].sort_values(\"date\",ascending=False)\n",
    "                                            if exits.index.size > 0:\n",
    "                                                exits.sort_values(\"date\",inplace=True)\n",
    "                                                sell_trade = exits.iloc[0]\n",
    "                                            else:\n",
    "                                                exits = final_sim[(final_sim[\"ticker\"]==ticker) & \\\n",
    "                                                        (final_sim[\"date\"] >max_date) & \\\n",
    "                                                          (final_sim[\"year\"] == date.year)].sort_values(\"date\")\n",
    "                                                exits.sort_values(\"date\",inplace=True)\n",
    "                                                sell_trade = exits.iloc[exits.index.size - 1]\n",
    "                                        else:\n",
    "                                            exits.sort_values(\"date\",inplace=True)\n",
    "                                            sell_trade = exits.iloc[0]\n",
    "                                        trade[\"sell_date\"] = sell_trade[\"date\"]\n",
    "                                        trade[\"sell_price\"] = sell_trade[\"adjClose\"]\n",
    "                                        trade[\"delta\"] = (trade[\"sell_price\"] - trade[\"adjClose\"]) / trade[\"adjClose\"]\n",
    "                                        trade[\"score\"] = score\n",
    "                                        trade[\"d\"] = delta\n",
    "                                        trade[\"qcty\"] = quarterly_category_training_year\n",
    "                                        trade[\"qmty\"] = quarterly_model_training_year\n",
    "                                        trade[\"value\"] = value\n",
    "                                        trade[\"seat\"] = seat\n",
    "                                        strategy.store(\"quarterly_trades\",pd.DataFrame([trade]))\n",
    "                                        date = sell_trade[\"date\"] + timedelta(days=1)\n",
    "                                    except Exception as e:\n",
    "                                        continue\n",
    "                                date = date + timedelta(days=1)\n",
    "                        except Exception as e:\n",
    "                            date = date + timedelta(days=1)"
   ]
  }
 ],
 "metadata": {
  "kernelspec": {
   "display_name": "Python 3 (ipykernel)",
   "language": "python",
   "name": "python3"
  },
  "language_info": {
   "codemirror_mode": {
    "name": "ipython",
    "version": 3
   },
   "file_extension": ".py",
   "mimetype": "text/x-python",
   "name": "python",
   "nbconvert_exporter": "python",
   "pygments_lexer": "ipython3",
   "version": "3.9.6"
  }
 },
 "nbformat": 4,
 "nbformat_minor": 4
}
