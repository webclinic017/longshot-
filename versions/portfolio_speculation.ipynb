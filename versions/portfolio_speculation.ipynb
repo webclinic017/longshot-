{
 "cells": [
  {
   "cell_type": "code",
   "execution_count": 1,
   "id": "aa80f443",
   "metadata": {
    "scrolled": true
   },
   "outputs": [],
   "source": [
    "from datetime import datetime, timedelta\n",
    "import pytz\n",
    "import pandas as pd\n",
    "from tqdm import tqdm\n",
    "from modeler.modeler import Modeler as m\n",
    "from processor.processor import Processor as p\n",
    "from database.market import Market\n",
    "from database.adatabase import ADatabase\n",
    "import numpy as np\n",
    "import matplotlib.pyplot as plt\n",
    "import pickle\n",
    "import matplotlib.dates as mdates\n",
    "import statistics"
   ]
  },
  {
   "cell_type": "code",
   "execution_count": 2,
   "id": "e5adbebb",
   "metadata": {},
   "outputs": [],
   "source": [
    "market = Market()\n",
    "speculation_db = ADatabase(\"speculation\")\n",
    "training_year = 4\n",
    "signal = 0.1\n",
    "req = 0.1\n",
    "positions = 5\n",
    "today = datetime(2022,8,18)\n",
    "year = today.year\n",
    "week =  today.isocalendar()[1]\n",
    "# today = datetime.now()"
   ]
  },
  {
   "cell_type": "code",
   "execution_count": 3,
   "id": "cc8c6d2f",
   "metadata": {},
   "outputs": [
    {
     "data": {
      "text/plain": [
       "33"
      ]
     },
     "execution_count": 3,
     "metadata": {},
     "output_type": "execute_result"
    }
   ],
   "source": [
    "week"
   ]
  },
  {
   "cell_type": "code",
   "execution_count": 4,
   "id": "2e94da53",
   "metadata": {},
   "outputs": [],
   "source": [
    "market.connect()\n",
    "sp5 = market.retrieve(\"sp500\")\n",
    "market.disconnect()"
   ]
  },
  {
   "cell_type": "code",
   "execution_count": 5,
   "id": "55413186",
   "metadata": {},
   "outputs": [],
   "source": [
    "speculation_db.connect()\n",
    "recs = speculation_db.retrieve('recs')\n",
    "speculation_db.disconnect()"
   ]
  },
  {
   "cell_type": "code",
   "execution_count": 6,
   "id": "dadf5341",
   "metadata": {},
   "outputs": [],
   "source": [
    "relevant_recs = recs[(recs[\"week\"]==week) \\\n",
    "                     & (recs[\"year\"]==year) \\\n",
    "                     & (recs[\"training_year\"]==training_year)]"
   ]
  },
  {
   "cell_type": "code",
   "execution_count": 7,
   "id": "3c8fcfa0",
   "metadata": {},
   "outputs": [],
   "source": [
    "relevant_recs[\"prediction\"] = (relevant_recs[\"xgb_prediction\"] + relevant_recs[\"skl_prediction\"] + relevant_recs[\"cat_prediction\"]) / 3"
   ]
  },
  {
   "cell_type": "code",
   "execution_count": 8,
   "id": "870e0980",
   "metadata": {},
   "outputs": [
    {
     "data": {
      "text/html": [
       "<div>\n",
       "<style scoped>\n",
       "    .dataframe tbody tr th:only-of-type {\n",
       "        vertical-align: middle;\n",
       "    }\n",
       "\n",
       "    .dataframe tbody tr th {\n",
       "        vertical-align: top;\n",
       "    }\n",
       "\n",
       "    .dataframe thead th {\n",
       "        text-align: right;\n",
       "    }\n",
       "</style>\n",
       "<table border=\"1\" class=\"dataframe\">\n",
       "  <thead>\n",
       "    <tr style=\"text-align: right;\">\n",
       "      <th></th>\n",
       "      <th>year</th>\n",
       "      <th>week</th>\n",
       "      <th>ticker</th>\n",
       "      <th>training_year</th>\n",
       "      <th>skl_prediction</th>\n",
       "      <th>skl_score</th>\n",
       "      <th>xgb_prediction</th>\n",
       "      <th>xgb_score</th>\n",
       "      <th>cat_prediction</th>\n",
       "      <th>cat_score</th>\n",
       "      <th>prediction</th>\n",
       "    </tr>\n",
       "  </thead>\n",
       "  <tbody>\n",
       "    <tr>\n",
       "      <th>1494</th>\n",
       "      <td>2022</td>\n",
       "      <td>33</td>\n",
       "      <td>MMM</td>\n",
       "      <td>4</td>\n",
       "      <td>150.610623</td>\n",
       "      <td>0.998268</td>\n",
       "      <td>147.624878</td>\n",
       "      <td>0.99676</td>\n",
       "      <td>164.092261</td>\n",
       "      <td>0.917739</td>\n",
       "      <td>154.109254</td>\n",
       "    </tr>\n",
       "    <tr>\n",
       "      <th>1495</th>\n",
       "      <td>2022</td>\n",
       "      <td>33</td>\n",
       "      <td>AOS</td>\n",
       "      <td>4</td>\n",
       "      <td>62.288876</td>\n",
       "      <td>0.998268</td>\n",
       "      <td>64.534576</td>\n",
       "      <td>0.99676</td>\n",
       "      <td>63.723778</td>\n",
       "      <td>0.917739</td>\n",
       "      <td>63.515743</td>\n",
       "    </tr>\n",
       "    <tr>\n",
       "      <th>1496</th>\n",
       "      <td>2022</td>\n",
       "      <td>33</td>\n",
       "      <td>ABT</td>\n",
       "      <td>4</td>\n",
       "      <td>110.404819</td>\n",
       "      <td>0.998268</td>\n",
       "      <td>109.400787</td>\n",
       "      <td>0.99676</td>\n",
       "      <td>119.878028</td>\n",
       "      <td>0.917739</td>\n",
       "      <td>113.227878</td>\n",
       "    </tr>\n",
       "    <tr>\n",
       "      <th>1497</th>\n",
       "      <td>2022</td>\n",
       "      <td>33</td>\n",
       "      <td>ABBV</td>\n",
       "      <td>4</td>\n",
       "      <td>143.179402</td>\n",
       "      <td>0.998268</td>\n",
       "      <td>146.302368</td>\n",
       "      <td>0.99676</td>\n",
       "      <td>120.384186</td>\n",
       "      <td>0.917739</td>\n",
       "      <td>136.621986</td>\n",
       "    </tr>\n",
       "    <tr>\n",
       "      <th>1498</th>\n",
       "      <td>2022</td>\n",
       "      <td>33</td>\n",
       "      <td>ABMD</td>\n",
       "      <td>4</td>\n",
       "      <td>291.372336</td>\n",
       "      <td>0.998268</td>\n",
       "      <td>278.221100</td>\n",
       "      <td>0.99676</td>\n",
       "      <td>259.648373</td>\n",
       "      <td>0.917739</td>\n",
       "      <td>276.413936</td>\n",
       "    </tr>\n",
       "    <tr>\n",
       "      <th>...</th>\n",
       "      <td>...</td>\n",
       "      <td>...</td>\n",
       "      <td>...</td>\n",
       "      <td>...</td>\n",
       "      <td>...</td>\n",
       "      <td>...</td>\n",
       "      <td>...</td>\n",
       "      <td>...</td>\n",
       "      <td>...</td>\n",
       "      <td>...</td>\n",
       "      <td>...</td>\n",
       "    </tr>\n",
       "    <tr>\n",
       "      <th>1987</th>\n",
       "      <td>2022</td>\n",
       "      <td>33</td>\n",
       "      <td>WYNN</td>\n",
       "      <td>4</td>\n",
       "      <td>66.831180</td>\n",
       "      <td>0.998268</td>\n",
       "      <td>68.142555</td>\n",
       "      <td>0.99676</td>\n",
       "      <td>64.626058</td>\n",
       "      <td>0.917739</td>\n",
       "      <td>66.533264</td>\n",
       "    </tr>\n",
       "    <tr>\n",
       "      <th>1988</th>\n",
       "      <td>2022</td>\n",
       "      <td>33</td>\n",
       "      <td>XEL</td>\n",
       "      <td>4</td>\n",
       "      <td>75.619537</td>\n",
       "      <td>0.998268</td>\n",
       "      <td>77.647385</td>\n",
       "      <td>0.99676</td>\n",
       "      <td>68.978636</td>\n",
       "      <td>0.917739</td>\n",
       "      <td>74.081853</td>\n",
       "    </tr>\n",
       "    <tr>\n",
       "      <th>1989</th>\n",
       "      <td>2022</td>\n",
       "      <td>33</td>\n",
       "      <td>XYL</td>\n",
       "      <td>4</td>\n",
       "      <td>101.256655</td>\n",
       "      <td>0.998268</td>\n",
       "      <td>103.355980</td>\n",
       "      <td>0.99676</td>\n",
       "      <td>89.955445</td>\n",
       "      <td>0.917739</td>\n",
       "      <td>98.189360</td>\n",
       "    </tr>\n",
       "    <tr>\n",
       "      <th>1990</th>\n",
       "      <td>2022</td>\n",
       "      <td>33</td>\n",
       "      <td>YUM</td>\n",
       "      <td>4</td>\n",
       "      <td>118.655374</td>\n",
       "      <td>0.998268</td>\n",
       "      <td>117.038528</td>\n",
       "      <td>0.99676</td>\n",
       "      <td>120.517986</td>\n",
       "      <td>0.917739</td>\n",
       "      <td>118.737296</td>\n",
       "    </tr>\n",
       "    <tr>\n",
       "      <th>1991</th>\n",
       "      <td>2022</td>\n",
       "      <td>33</td>\n",
       "      <td>ZBRA</td>\n",
       "      <td>4</td>\n",
       "      <td>332.876755</td>\n",
       "      <td>0.998268</td>\n",
       "      <td>316.954834</td>\n",
       "      <td>0.99676</td>\n",
       "      <td>333.875388</td>\n",
       "      <td>0.917739</td>\n",
       "      <td>327.902326</td>\n",
       "    </tr>\n",
       "  </tbody>\n",
       "</table>\n",
       "<p>498 rows × 11 columns</p>\n",
       "</div>"
      ],
      "text/plain": [
       "      year  week ticker  training_year  skl_prediction  skl_score  \\\n",
       "1494  2022    33    MMM              4      150.610623   0.998268   \n",
       "1495  2022    33    AOS              4       62.288876   0.998268   \n",
       "1496  2022    33    ABT              4      110.404819   0.998268   \n",
       "1497  2022    33   ABBV              4      143.179402   0.998268   \n",
       "1498  2022    33   ABMD              4      291.372336   0.998268   \n",
       "...    ...   ...    ...            ...             ...        ...   \n",
       "1987  2022    33   WYNN              4       66.831180   0.998268   \n",
       "1988  2022    33    XEL              4       75.619537   0.998268   \n",
       "1989  2022    33    XYL              4      101.256655   0.998268   \n",
       "1990  2022    33    YUM              4      118.655374   0.998268   \n",
       "1991  2022    33   ZBRA              4      332.876755   0.998268   \n",
       "\n",
       "      xgb_prediction  xgb_score  cat_prediction  cat_score  prediction  \n",
       "1494      147.624878    0.99676      164.092261   0.917739  154.109254  \n",
       "1495       64.534576    0.99676       63.723778   0.917739   63.515743  \n",
       "1496      109.400787    0.99676      119.878028   0.917739  113.227878  \n",
       "1497      146.302368    0.99676      120.384186   0.917739  136.621986  \n",
       "1498      278.221100    0.99676      259.648373   0.917739  276.413936  \n",
       "...              ...        ...             ...        ...         ...  \n",
       "1987       68.142555    0.99676       64.626058   0.917739   66.533264  \n",
       "1988       77.647385    0.99676       68.978636   0.917739   74.081853  \n",
       "1989      103.355980    0.99676       89.955445   0.917739   98.189360  \n",
       "1990      117.038528    0.99676      120.517986   0.917739  118.737296  \n",
       "1991      316.954834    0.99676      333.875388   0.917739  327.902326  \n",
       "\n",
       "[498 rows x 11 columns]"
      ]
     },
     "execution_count": 8,
     "metadata": {},
     "output_type": "execute_result"
    }
   ],
   "source": [
    "relevant_recs"
   ]
  },
  {
   "cell_type": "code",
   "execution_count": 9,
   "id": "235a8676",
   "metadata": {
    "scrolled": true
   },
   "outputs": [
    {
     "name": "stderr",
     "output_type": "stream",
     "text": [
      "100%|███████████████████████████████████████████████████████████████████████████████████████████████████████████████████████████████████████████████████████| 498/498 [00:36<00:00, 13.74it/s]\n"
     ]
    }
   ],
   "source": [
    "market.connect()\n",
    "ticker_prices = []\n",
    "for ticker in tqdm(relevant_recs[\"ticker\"].unique()):\n",
    "    prices = market.retrieve_ticker_prices(\"prices\",ticker)\n",
    "    prices = p.column_date_processing(prices)\n",
    "    prices[\"year\"] = [x.year for x in prices[\"date\"]]\n",
    "    prices[\"week\"] = [x.week for x in prices[\"date\"]]\n",
    "    relevant_data = prices[prices[\"date\"]==today]\n",
    "    ticker_prices.append(relevant_data)\n",
    "market.disconnect()"
   ]
  },
  {
   "cell_type": "code",
   "execution_count": 10,
   "id": "76786a2c",
   "metadata": {},
   "outputs": [],
   "source": [
    "tp = pd.concat(ticker_prices)"
   ]
  },
  {
   "cell_type": "code",
   "execution_count": 11,
   "id": "ebaa1c70",
   "metadata": {},
   "outputs": [],
   "source": [
    "final = tp.groupby([\"date\",\"ticker\"]).mean().reset_index()\n",
    "final = final.merge(relevant_recs,on=[\"year\",\"week\",\"ticker\"])\n",
    "final[\"delta\"] = (final[\"prediction\"] - final[\"adjclose\"]) / final[\"adjclose\"]"
   ]
  },
  {
   "cell_type": "code",
   "execution_count": 12,
   "id": "a14ad2f0",
   "metadata": {},
   "outputs": [],
   "source": [
    "todays_rec = final[[\"date\",\"ticker\",\"adjclose\",\"prediction\",\"delta\"]][final[\"delta\"]>=signal].sort_values(\"delta\",ascending=False).head(positions)"
   ]
  },
  {
   "cell_type": "code",
   "execution_count": 13,
   "id": "5ff9e31e",
   "metadata": {},
   "outputs": [
    {
     "data": {
      "text/html": [
       "<div>\n",
       "<style scoped>\n",
       "    .dataframe tbody tr th:only-of-type {\n",
       "        vertical-align: middle;\n",
       "    }\n",
       "\n",
       "    .dataframe tbody tr th {\n",
       "        vertical-align: top;\n",
       "    }\n",
       "\n",
       "    .dataframe thead th {\n",
       "        text-align: right;\n",
       "    }\n",
       "</style>\n",
       "<table border=\"1\" class=\"dataframe\">\n",
       "  <thead>\n",
       "    <tr style=\"text-align: right;\">\n",
       "      <th></th>\n",
       "      <th>date</th>\n",
       "      <th>ticker</th>\n",
       "      <th>adjclose</th>\n",
       "      <th>prediction</th>\n",
       "      <th>delta</th>\n",
       "    </tr>\n",
       "  </thead>\n",
       "  <tbody>\n",
       "    <tr>\n",
       "      <th>173</th>\n",
       "      <td>2022-08-18</td>\n",
       "      <td>F</td>\n",
       "      <td>16.15</td>\n",
       "      <td>21.301943</td>\n",
       "      <td>0.319006</td>\n",
       "    </tr>\n",
       "    <tr>\n",
       "      <th>63</th>\n",
       "      <td>2022-08-18</td>\n",
       "      <td>BKNG</td>\n",
       "      <td>2144.73</td>\n",
       "      <td>2770.457008</td>\n",
       "      <td>0.291751</td>\n",
       "    </tr>\n",
       "    <tr>\n",
       "      <th>448</th>\n",
       "      <td>2022-08-18</td>\n",
       "      <td>UAA</td>\n",
       "      <td>9.76</td>\n",
       "      <td>12.068085</td>\n",
       "      <td>0.236484</td>\n",
       "    </tr>\n",
       "    <tr>\n",
       "      <th>337</th>\n",
       "      <td>2022-08-18</td>\n",
       "      <td>NWSA</td>\n",
       "      <td>18.28</td>\n",
       "      <td>22.196766</td>\n",
       "      <td>0.214265</td>\n",
       "    </tr>\n",
       "    <tr>\n",
       "      <th>307</th>\n",
       "      <td>2022-08-18</td>\n",
       "      <td>MRNA</td>\n",
       "      <td>150.00</td>\n",
       "      <td>175.437291</td>\n",
       "      <td>0.169582</td>\n",
       "    </tr>\n",
       "  </tbody>\n",
       "</table>\n",
       "</div>"
      ],
      "text/plain": [
       "          date ticker  adjclose   prediction     delta\n",
       "173 2022-08-18      F     16.15    21.301943  0.319006\n",
       "63  2022-08-18   BKNG   2144.73  2770.457008  0.291751\n",
       "448 2022-08-18    UAA      9.76    12.068085  0.236484\n",
       "337 2022-08-18   NWSA     18.28    22.196766  0.214265\n",
       "307 2022-08-18   MRNA    150.00   175.437291  0.169582"
      ]
     },
     "execution_count": 13,
     "metadata": {},
     "output_type": "execute_result"
    }
   ],
   "source": [
    "todays_rec"
   ]
  },
  {
   "cell_type": "code",
   "execution_count": 14,
   "id": "bb6d2b9f",
   "metadata": {},
   "outputs": [],
   "source": [
    "speculation_db.connect()\n",
    "portfolios = speculation_db.retrieve(\"portfolios\")\n",
    "speculation_db.disconnect()"
   ]
  },
  {
   "cell_type": "code",
   "execution_count": 15,
   "id": "10f1a5ea",
   "metadata": {},
   "outputs": [],
   "source": [
    "if portfolios.index.size < 1:\n",
    "    positions_dictionary = {}\n",
    "    portfolio = {\"date\":today}\n",
    "    for position in range(positions):\n",
    "        positions_dictionary[position] = {\"cash\":100000/positions,\"asset\":{},\"queue\":{}}\n",
    "    portfolio[\"positions\"] = positions_dictionary\n",
    "else:\n",
    "    portfolios[\"positions\"] = [pickle.loads(x) for x in portfolios[\"positions\"]]\n",
    "    portfolio = portfolios.sort_values(\"date\",ascending=False).head(positions).to_dict(\"records\")[0]"
   ]
  },
  {
   "cell_type": "code",
   "execution_count": 16,
   "id": "d779de86",
   "metadata": {},
   "outputs": [],
   "source": [
    "existing_assets = [portfolio[\"positions\"][position][\"asset\"][\"ticker\"] for position in portfolio[\"positions\"].keys() if \"ticker\" in portfolio[\"positions\"][position][\"asset\"].keys()]"
   ]
  },
  {
   "cell_type": "code",
   "execution_count": 17,
   "id": "40eb070e",
   "metadata": {},
   "outputs": [
    {
     "data": {
      "text/plain": [
       "{'date': Timestamp('2022-08-17 00:00:00'),\n",
       " 'positions': {0: {'cash': 8.380000000001019,\n",
       "   'asset': {'date': datetime.datetime(2022, 8, 10, 0, 0),\n",
       "    'ticker': 'WBD',\n",
       "    'amount': 1557,\n",
       "    'price': 13.1},\n",
       "   'queue': {}},\n",
       "  1: {'cash': 6.540000000000873,\n",
       "   'asset': {'date': datetime.datetime(2022, 8, 15, 0, 0),\n",
       "    'ticker': 'F',\n",
       "    'amount': 1247,\n",
       "    'price': 16.18},\n",
       "   'queue': {}},\n",
       "  2: {'cash': 23.0199999999968,\n",
       "   'asset': {'date': datetime.datetime(2022, 8, 15, 0, 0),\n",
       "    'ticker': 'NLOK',\n",
       "    'amount': 918,\n",
       "    'price': 24.19},\n",
       "   'queue': {}},\n",
       "  3: {'cash': 8.180000000000291,\n",
       "   'asset': {'date': datetime.datetime(2022, 8, 15, 0, 0),\n",
       "    'ticker': 'NCLH',\n",
       "    'amount': 1447,\n",
       "    'price': 14.16},\n",
       "   'queue': {}},\n",
       "  4: {'cash': 12.319999999999709,\n",
       "   'asset': {'date': datetime.datetime(2022, 8, 9, 0, 0),\n",
       "    'ticker': 'NLOK',\n",
       "    'amount': 814,\n",
       "    'price': 24.17},\n",
       "   'queue': {}}}}"
      ]
     },
     "execution_count": 17,
     "metadata": {},
     "output_type": "execute_result"
    }
   ],
   "source": [
    "portfolio"
   ]
  },
  {
   "cell_type": "code",
   "execution_count": 18,
   "id": "a61c6b3e",
   "metadata": {
    "scrolled": true
   },
   "outputs": [
    {
     "name": "stdout",
     "output_type": "stream",
     "text": [
      "hold\n"
     ]
    }
   ],
   "source": [
    "## looking for exits\n",
    "speculation_db.connect()\n",
    "for position in range(positions):\n",
    "    position_dictionary = portfolio[\"positions\"][position]\n",
    "    if len(list(position_dictionary[\"asset\"].keys())) > 0:\n",
    "        asset = position_dictionary[\"asset\"]\n",
    "        ticker = asset[\"ticker\"]\n",
    "        amount = asset[\"amount\"]\n",
    "        price = asset[\"price\"]\n",
    "        exit_price = price * (1+req)\n",
    "        spread = final[final[\"ticker\"]==ticker]\n",
    "        current_price = spread[\"high\"].item()\n",
    "        current_gain = (current_price - price) / price\n",
    "        if spread[\"high\"].item() >= exit_price:\n",
    "            position_dictionary[\"cash\"] = position_dictionary[\"cash\"] + (exit_price * amount)\n",
    "            trade = asset\n",
    "            trade[\"sell_date\"] = today\n",
    "            trade[\"sell_price\"] = exit_price\n",
    "            trade[\"position\"] = position\n",
    "            trade[\"req\"] = req\n",
    "            trade[\"training_year\"] = training_year\n",
    "            trade[\"signal\"] = signal\n",
    "            speculation_db.store(\"ledger\",pd.DataFrame([trade]))\n",
    "            print(\"sell\",exit_price,spread[\"high\"].item())\n",
    "            position_dictionary[\"asset\"] = {}\n",
    "        else:\n",
    "            if today.weekday() >= 4 and int((today-asset[\"date\"]).days) >= 7:\n",
    "                print(\"due date\")\n",
    "                position_dictionary[\"cash\"] = position_dictionary[\"cash\"] + (spread[\"adjclose\"].item() * amount)\n",
    "                trade = asset\n",
    "                trade[\"sell_date\"] = today\n",
    "                trade[\"sell_price\"] = spread[\"adjclose\"].item()\n",
    "                trade[\"position\"] = position\n",
    "                trade[\"req\"] = req\n",
    "                trade[\"training_year\"] = training_year\n",
    "                trade[\"signal\"] = signal\n",
    "                speculation_db.store(\"ledger\",pd.DataFrame([trade]))\n",
    "                position_dictionary[\"asset\"] = {}\n",
    "            else:\n",
    "                offerings =  todays_rec[(~todays_rec[\"ticker\"].isin(existing_assets))]\n",
    "                offerings.sort_values(\"delta\",ascending=False,inplace=True)\n",
    "                if offerings.index.size > position:\n",
    "                    offering = offerings.iloc[position]\n",
    "                    if (current_gain > 0)  and today.weekday() < 2 and (offering[\"delta\"] > (req - current_gain)) and (offering[\"delta\"] >= signal):\n",
    "                        print(\"swap\")\n",
    "                        trade = asset\n",
    "                        trade[\"sell_date\"] = today\n",
    "                        trade[\"sell_price\"] = current_price\n",
    "                        trade[\"position\"] = position\n",
    "                        trade[\"req\"] = req\n",
    "                        trade[\"training_year\"] = training_year\n",
    "                        trade[\"signal\"] = signal\n",
    "                        trade_df = pd.DataFrame([trade])\n",
    "                        speculation_db.store(\"ledger\",trade_df)\n",
    "                        position_dictionary[\"cash\"] = position_dictionary[\"cash\"] + current_price * asset[\"amount\"]\n",
    "                        position_dictionary[\"asset\"] = {}\n",
    "                        cash = position_dictionary[\"cash\"]\n",
    "                        position_rec = offering\n",
    "                        price = position_rec[\"adjclose\"]\n",
    "                        ticker = position_rec[\"ticker\"]\n",
    "                        amount = int(cash/price)\n",
    "                        position_dictionary[\"queue\"] = {\"ticker\":ticker,\"price\":price,\"amount\":amount,\"swap\":True,\"projected_delta\":offering[\"delta\"]}\n",
    "                else:\n",
    "                    print(\"hold\")\n",
    "    else:\n",
    "        print(position_dictionary[\"cash\"])\n",
    "speculation_db.disconnect()"
   ]
  },
  {
   "cell_type": "code",
   "execution_count": 19,
   "id": "d7ea9f9e",
   "metadata": {},
   "outputs": [
    {
     "data": {
      "text/plain": [
       "{'date': Timestamp('2022-08-17 00:00:00'),\n",
       " 'positions': {0: {'cash': 8.380000000001019,\n",
       "   'asset': {'date': datetime.datetime(2022, 8, 10, 0, 0),\n",
       "    'ticker': 'WBD',\n",
       "    'amount': 1557,\n",
       "    'price': 13.1},\n",
       "   'queue': {}},\n",
       "  1: {'cash': 6.540000000000873,\n",
       "   'asset': {'date': datetime.datetime(2022, 8, 15, 0, 0),\n",
       "    'ticker': 'F',\n",
       "    'amount': 1247,\n",
       "    'price': 16.18},\n",
       "   'queue': {}},\n",
       "  2: {'cash': 23.0199999999968,\n",
       "   'asset': {'date': datetime.datetime(2022, 8, 15, 0, 0),\n",
       "    'ticker': 'NLOK',\n",
       "    'amount': 918,\n",
       "    'price': 24.19},\n",
       "   'queue': {}},\n",
       "  3: {'cash': 8.180000000000291,\n",
       "   'asset': {'date': datetime.datetime(2022, 8, 15, 0, 0),\n",
       "    'ticker': 'NCLH',\n",
       "    'amount': 1447,\n",
       "    'price': 14.16},\n",
       "   'queue': {}},\n",
       "  4: {'cash': 12.319999999999709,\n",
       "   'asset': {'date': datetime.datetime(2022, 8, 9, 0, 0),\n",
       "    'ticker': 'NLOK',\n",
       "    'amount': 814,\n",
       "    'price': 24.17},\n",
       "   'queue': {}}}}"
      ]
     },
     "execution_count": 19,
     "metadata": {},
     "output_type": "execute_result"
    }
   ],
   "source": [
    "portfolio"
   ]
  },
  {
   "cell_type": "code",
   "execution_count": 20,
   "id": "21dad77d",
   "metadata": {},
   "outputs": [
    {
     "name": "stdout",
     "output_type": "stream",
     "text": [
      "8.380000000001019\n",
      "6.540000000000873\n",
      "23.0199999999968\n",
      "8.180000000000291\n",
      "12.319999999999709\n"
     ]
    }
   ],
   "source": [
    "## looking for entries\n",
    "for position in range(positions):\n",
    "    position_dictionary = portfolio[\"positions\"][position]\n",
    "    if len(list(position_dictionary[\"queue\"].keys())) > 0:\n",
    "        queue = position_dictionary[\"queue\"]\n",
    "        ticker = queue[\"ticker\"]\n",
    "        amount = queue[\"amount\"]\n",
    "        price = queue[\"price\"]\n",
    "        spread = final[final[\"ticker\"]==ticker]\n",
    "        if (price <= spread[\"high\"].item()) and today.weekday() < 2:\n",
    "            print(\"buy\")\n",
    "            position_dictionary[\"asset\"] = {\"date\":today,\"ticker\":ticker,\"amount\":amount,\"price\":price,\"swap\":queue[\"swap\"],\"projected_delta\":queue[\"projected_delta\"]}\n",
    "            position_dictionary[\"cash\"] = position_dictionary[\"cash\"] - amount * price\n",
    "            position_dictionary[\"queue\"] = {}\n",
    "        else:\n",
    "            position_dictionary[\"queue\"] = {}\n",
    "            print(\"fail\")\n",
    "    else:\n",
    "        print(position_dictionary[\"cash\"])"
   ]
  },
  {
   "cell_type": "code",
   "execution_count": 21,
   "id": "ff40123a",
   "metadata": {},
   "outputs": [
    {
     "data": {
      "text/plain": [
       "{'date': Timestamp('2022-08-17 00:00:00'),\n",
       " 'positions': {0: {'cash': 8.380000000001019,\n",
       "   'asset': {'date': datetime.datetime(2022, 8, 10, 0, 0),\n",
       "    'ticker': 'WBD',\n",
       "    'amount': 1557,\n",
       "    'price': 13.1},\n",
       "   'queue': {}},\n",
       "  1: {'cash': 6.540000000000873,\n",
       "   'asset': {'date': datetime.datetime(2022, 8, 15, 0, 0),\n",
       "    'ticker': 'F',\n",
       "    'amount': 1247,\n",
       "    'price': 16.18},\n",
       "   'queue': {}},\n",
       "  2: {'cash': 23.0199999999968,\n",
       "   'asset': {'date': datetime.datetime(2022, 8, 15, 0, 0),\n",
       "    'ticker': 'NLOK',\n",
       "    'amount': 918,\n",
       "    'price': 24.19},\n",
       "   'queue': {}},\n",
       "  3: {'cash': 8.180000000000291,\n",
       "   'asset': {'date': datetime.datetime(2022, 8, 15, 0, 0),\n",
       "    'ticker': 'NCLH',\n",
       "    'amount': 1447,\n",
       "    'price': 14.16},\n",
       "   'queue': {}},\n",
       "  4: {'cash': 12.319999999999709,\n",
       "   'asset': {'date': datetime.datetime(2022, 8, 9, 0, 0),\n",
       "    'ticker': 'NLOK',\n",
       "    'amount': 814,\n",
       "    'price': 24.17},\n",
       "   'queue': {}}}}"
      ]
     },
     "execution_count": 21,
     "metadata": {},
     "output_type": "execute_result"
    }
   ],
   "source": [
    "portfolio"
   ]
  },
  {
   "cell_type": "code",
   "execution_count": 22,
   "id": "352f93c4",
   "metadata": {},
   "outputs": [
    {
     "name": "stdout",
     "output_type": "stream",
     "text": [
      "{}\n",
      "{}\n",
      "{}\n",
      "{}\n",
      "{}\n"
     ]
    }
   ],
   "source": [
    "## looking for recs\n",
    "for position in range(positions):\n",
    "    position_dictionary = portfolio[\"positions\"][position]\n",
    "    ## recommendation impossible\n",
    "    if (len(list(position_dictionary[\"queue\"].keys())) > 0) or (len(list(position_dictionary[\"asset\"].keys())) > 0) or (position_dictionary[\"cash\"]<=1.0) or (position >= todays_rec.index.size):\n",
    "        print(position_dictionary[\"queue\"])\n",
    "    else:\n",
    "        cash = position_dictionary[\"cash\"]\n",
    "        position_rec = todays_rec.iloc[position]\n",
    "        price = position_rec[\"adjclose\"]\n",
    "        ticker = position_rec[\"ticker\"]\n",
    "        amount = int(cash/price)\n",
    "        if amount < 1 or ticker in existing_assets:\n",
    "            continue\n",
    "        else:\n",
    "            position_dictionary[\"queue\"] = {\"ticker\":ticker,\"price\":price,\"amount\":amount,\"swap\":False,\"projected_delta\":position_rec[\"delta\"]}\n",
    "## storing"
   ]
  },
  {
   "cell_type": "code",
   "execution_count": 23,
   "id": "7a82618e",
   "metadata": {},
   "outputs": [],
   "source": [
    "portfolio[\"date\"] = today"
   ]
  },
  {
   "cell_type": "code",
   "execution_count": 24,
   "id": "52a749b1",
   "metadata": {},
   "outputs": [],
   "source": [
    "portfolio[\"positions\"] = pickle.dumps(portfolio[\"positions\"])"
   ]
  },
  {
   "cell_type": "code",
   "execution_count": 25,
   "id": "3ad10bdc",
   "metadata": {},
   "outputs": [
    {
     "data": {
      "text/plain": [
       "{'date': datetime.datetime(2022, 8, 18, 0, 0),\n",
       " 'positions': b'\\x80\\x04\\x95w\\x02\\x00\\x00\\x00\\x00\\x00\\x00}\\x94(K\\x00}\\x94(\\x8c\\x04cash\\x94\\x8c\\x15numpy.core.multiarray\\x94\\x8c\\x06scalar\\x94\\x93\\x94\\x8c\\x05numpy\\x94\\x8c\\x05dtype\\x94\\x93\\x94\\x8c\\x02f8\\x94\\x89\\x88\\x87\\x94R\\x94(K\\x03\\x8c\\x01<\\x94NNNJ\\xff\\xff\\xff\\xffJ\\xff\\xff\\xff\\xffK\\x00t\\x94bC\\x08\\x00\\xf8(\\\\\\x8f\\xc2 @\\x94\\x86\\x94R\\x94\\x8c\\x05asset\\x94}\\x94(\\x8c\\x04date\\x94\\x8c\\x08datetime\\x94\\x8c\\x08datetime\\x94\\x93\\x94C\\n\\x07\\xe6\\x08\\n\\x00\\x00\\x00\\x00\\x00\\x00\\x94\\x85\\x94R\\x94\\x8c\\x06ticker\\x94\\x8c\\x03WBD\\x94\\x8c\\x06amount\\x94M\\x15\\x06\\x8c\\x05price\\x94h\\x05h\\x0bC\\x08333333*@\\x94\\x86\\x94R\\x94u\\x8c\\x05queue\\x94}\\x94uK\\x01}\\x94(h\\x02h\\x05h\\x0bC\\x08\\x00`\\x8f\\xc2\\xf5(\\x1a@\\x94\\x86\\x94R\\x94h\\x11}\\x94(\\x8c\\x04date\\x94h\\x16C\\n\\x07\\xe6\\x08\\x0f\\x00\\x00\\x00\\x00\\x00\\x00\\x94\\x85\\x94R\\x94\\x8c\\x06ticker\\x94\\x8c\\x01F\\x94\\x8c\\x06amount\\x94M\\xdf\\x04\\x8c\\x05price\\x94h\\x05h\\x0bC\\x08\\xaeG\\xe1z\\x14.0@\\x94\\x86\\x94R\\x94uh!}\\x94uK\\x02}\\x94(h\\x02h\\x05h\\x0bC\\x08\\x00\\xe8Q\\xb8\\x1e\\x057@\\x94\\x86\\x94R\\x94h\\x11}\\x94(h(h+h,\\x8c\\x04NLOK\\x94h.M\\x96\\x03h/h\\x05h\\x0bC\\x08q=\\n\\xd7\\xa308@\\x94\\x86\\x94R\\x94uh!}\\x94uK\\x03}\\x94(h\\x02h\\x05h\\x0bC\\x08\\x00\\x90\\xc2\\xf5(\\\\ @\\x94\\x86\\x94R\\x94h\\x11}\\x94(h(h+h,\\x8c\\x04NCLH\\x94h.M\\xa7\\x05h/h\\x05h\\x0bC\\x08R\\xb8\\x1e\\x85\\xebQ,@\\x94\\x86\\x94R\\x94uh!}\\x94uK\\x04}\\x94(h\\x02h\\x05h\\x0bC\\x08\\x00p=\\n\\xd7\\xa3(@\\x94\\x86\\x94R\\x94h\\x11}\\x94(\\x8c\\x04date\\x94h\\x16C\\n\\x07\\xe6\\x08\\t\\x00\\x00\\x00\\x00\\x00\\x00\\x94\\x85\\x94R\\x94\\x8c\\x06ticker\\x94\\x8c\\x04NLOK\\x94\\x8c\\x06amount\\x94M.\\x03\\x8c\\x05price\\x94h\\x05h\\x0bC\\x08\\xecQ\\xb8\\x1e\\x85+8@\\x94\\x86\\x94R\\x94uh!}\\x94uu.'}"
      ]
     },
     "execution_count": 25,
     "metadata": {},
     "output_type": "execute_result"
    }
   ],
   "source": [
    "portfolio"
   ]
  },
  {
   "cell_type": "code",
   "execution_count": 26,
   "id": "3f870cea",
   "metadata": {},
   "outputs": [],
   "source": [
    "speculation_db.connect()\n",
    "speculation_db.store(\"portfolios\",pd.DataFrame([portfolio]))\n",
    "speculation_db.disconnect()"
   ]
  }
 ],
 "metadata": {
  "kernelspec": {
   "display_name": "Python 3 (ipykernel)",
   "language": "python",
   "name": "python3"
  },
  "language_info": {
   "codemirror_mode": {
    "name": "ipython",
    "version": 3
   },
   "file_extension": ".py",
   "mimetype": "text/x-python",
   "name": "python",
   "nbconvert_exporter": "python",
   "pygments_lexer": "ipython3",
   "version": "3.10.5"
  }
 },
 "nbformat": 4,
 "nbformat_minor": 5
}
