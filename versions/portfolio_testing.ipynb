{
 "cells": [
  {
   "cell_type": "code",
   "execution_count": 1,
   "id": "be5fd7f3",
   "metadata": {},
   "outputs": [],
   "source": [
    "from datetime import datetime, timedelta\n",
    "from strategy.stratfact import StratFact\n",
    "from backtester.backtester import Backtester\n",
    "from portfolio.equity_portfolio import EquityPortfolio\n",
    "from processor.processor import Processor as p\n",
    "from tqdm import tqdm\n",
    "import pytz\n",
    "import pandas as pd\n",
    "import numpy as np\n",
    "import matplotlib.pyplot as plt"
   ]
  },
  {
   "cell_type": "code",
   "execution_count": 3,
   "id": "d898af98",
   "metadata": {},
   "outputs": [],
   "source": [
    "start = datetime(2016,1,1)\n",
    "end = datetime(2022,1,1)\n",
    "seats = 10"
   ]
  },
  {
   "cell_type": "code",
   "execution_count": 3,
   "id": "f06ab242",
   "metadata": {},
   "outputs": [],
   "source": [
    "# port = EquityPortfolio(start,end,\"portfolio\",strats = {\"rolling_percent\":{\"modeling_params\":{\"days\":100,\"currency\":\"prices\"},\n",
    "#                         \"trading_params\":{\"requirement\":5,\"value\":True}},\n",
    "# \"progress_report\":{\"modeling_params\":{}\n",
    "#                    ,\"trading_params\":{\"value\":True,\"requirement\":5}},\n",
    "# \"financial_predict\":{\"modeling_params\":{\"score_requirement\":70,\"categories\":4,\"model_training_year\":4},\n",
    "#                     \"trading_params\":{\"requirement\":10,\"value\":True}},\n",
    "# \"speculation\":{\"modeling_params\":{\"number_of_training_weeks\":14,\"categories\":4\n",
    "#                                   ,\"model_training_year\":1,\"score_requirement\":70},\n",
    "#                \"trading_params\":{\"score_requirement\":70,\"requirement\":5,\"value\":True}},\n",
    "# \"competition\":{\"modeling_params\":{\"categories\":4,\"model_training_year\":1,\"score_requirement\":70},\n",
    "#                 \"trading_params\":{\"score_requirement\":70,\"requirement\":5,\"value\":True}}})"
   ]
  },
  {
   "cell_type": "code",
   "execution_count": 4,
   "id": "d8c15ee5",
   "metadata": {},
   "outputs": [],
   "source": [
    "port = EquityPortfolio(start,end,\"industry_price_portfolio\",strats = \n",
    "{\"rolling_percent\":{\"modeling_params\":{\"days\":100,\"currency\":\"prices\"},\n",
    "                        \"trading_params\":{\"requirement\":5,\"value\":True}},\n",
    "\"progress_report\":{\"modeling_params\":{}\n",
    "                   ,\"trading_params\":{\"value\":True,\"requirement\":5}},\n",
    "\"financial_predict\":{\"modeling_params\":{\"score_requirement\":70,\"categories\":3,\"model_training_year\":4},\n",
    "                    \"trading_params\":{\"requirement\":10,\"value\":True}},\n",
    "\"speculation\":{\"modeling_params\":{\"number_of_training_weeks\":14,\"categories\":3\n",
    "                                  ,\"model_training_year\":4,\"score_requirement\":70},\n",
    "               \"trading_params\":{\"score_requirement\":70,\"requirement\":5,\"value\":True}},\n",
    "\"competition\":{\"modeling_params\":{\"categories\":3,\"model_training_year\":4,\"score_requirement\":70},\n",
    "                \"trading_params\":{\"score_requirement\":70,\"requirement\":5,\"value\":True}}})"
   ]
  },
  {
   "cell_type": "code",
   "execution_count": 5,
   "id": "9ddd3a86",
   "metadata": {},
   "outputs": [
    {
     "name": "stderr",
     "output_type": "stream",
     "text": [
      "100%|█████████████████████████████████████████████████████████████████████████████████████████████████████████████████████████████████████████████████████████████████████████████████████████████████████████████████████████████████████| 5/5 [00:52<00:00, 10.58s/it]\n"
     ]
    }
   ],
   "source": [
    "port.load()"
   ]
  },
  {
   "cell_type": "code",
   "execution_count": 5,
   "id": "3e667ee3",
   "metadata": {
    "scrolled": false
   },
   "outputs": [
    {
     "name": "stderr",
     "output_type": "stream",
     "text": [
      "100%|██████████████████████████████████████████████████████████████████████████████████████████████| 5/5 [00:16<00:00,  3.21s/it]\n"
     ]
    }
   ],
   "source": [
    "port.transform()"
   ]
  },
  {
   "cell_type": "code",
   "execution_count": null,
   "id": "69c246eb",
   "metadata": {
    "scrolled": true
   },
   "outputs": [
    {
     "name": "stderr",
     "output_type": "stream",
     "text": [
      " 60%|████████████████████████████████████████████████████████▍                                     | 3/5 [00:17<00:12,  6.48s/it]\n",
      "speculation_sim_year:   0%|                                                                                | 0/7 [00:00<?, ?it/s]\u001b[A"
     ]
    },
    {
     "name": "stdout",
     "output_type": "stream",
     "text": [
      "200Communication Services list index out of range\n",
      "200Communication Services list index out of range\n"
     ]
    },
    {
     "name": "stderr",
     "output_type": "stream",
     "text": [
      "\n",
      "speculation_sim_year:  14%|█████████▋                                                          | 1/7 [21:38<2:09:52, 1298.67s/it]\u001b[A\n",
      "speculation_sim_year:  29%|███████████████████▍                                                | 2/7 [43:17<1:48:13, 1298.68s/it]\u001b[A"
     ]
    }
   ],
   "source": [
    "port.sim()"
   ]
  },
  {
   "cell_type": "code",
   "execution_count": null,
   "id": "5747ae69",
   "metadata": {
    "scrolled": true
   },
   "outputs": [],
   "source": [
    "port.strats[\"rolling_percent\"]"
   ]
  },
  {
   "cell_type": "code",
   "execution_count": 6,
   "id": "0d4e6116",
   "metadata": {
    "scrolled": true
   },
   "outputs": [
    {
     "name": "stderr",
     "output_type": "stream",
     "text": [
      "  0%|                                                                                                                                                                                                                                             | 0/5 [00:00<?, ?it/s]\n",
      "backtesting_seats:   0%|                                                                                                                                                                                                                         | 0/10 [00:00<?, ?it/s]\u001b[A\n",
      "backtesting_seats:  10%|████████████████████▉                                                                                                                                                                                            | 1/10 [00:05<00:52,  5.79s/it]\u001b[A\n",
      "backtesting_seats:  20%|█████████████████████████████████████████▊                                                                                                                                                                       | 2/10 [00:15<01:05,  8.17s/it]\u001b[A\n",
      "backtesting_seats:  30%|██████████████████████████████████████████████████████████████▋                                                                                                                                                  | 3/10 [00:25<01:01,  8.77s/it]\u001b[A\n",
      "backtesting_seats:  40%|███████████████████████████████████████████████████████████████████████████████████▌                                                                                                                             | 4/10 [00:34<00:54,  9.03s/it]\u001b[A\n",
      "backtesting_seats:  50%|████████████████████████████████████████████████████████████████████████████████████████████████████████▌                                                                                                        | 5/10 [00:45<00:48,  9.71s/it]\u001b[A\n",
      "backtesting_seats:  60%|█████████████████████████████████████████████████████████████████████████████████████████████████████████████████████████████▍                                                                                   | 6/10 [00:55<00:39,  9.76s/it]\u001b[A\n",
      "backtesting_seats:  70%|██████████████████████████████████████████████████████████████████████████████████████████████████████████████████████████████████████████████████▎                                                              | 7/10 [01:05<00:29,  9.84s/it]\u001b[A\n",
      "backtesting_seats:  80%|███████████████████████████████████████████████████████████████████████████████████████████████████████████████████████████████████████████████████████████████████████▏                                         | 8/10 [01:14<00:19,  9.73s/it]\u001b[A\n",
      "backtesting_seats:  90%|████████████████████████████████████████████████████████████████████████████████████████████████████████████████████████████████████████████████████████████████████████████████████████████                     | 9/10 [01:25<00:09,  9.94s/it]\u001b[A\n",
      "backtesting_seats: 100%|████████████████████████████████████████████████████████████████████████████████████████████████████████████████████████████████████████████████████████████████████████████████████████████████████████████████| 10/10 [01:35<00:00,  9.57s/it]\u001b[A\n",
      " 20%|█████████████████████████████████████████████▊                                                                                                                                                                                       | 1/5 [01:39<06:38, 99.58s/it]\n",
      "backtesting_seats:   0%|                                                                                                                                                                                                                         | 0/10 [00:00<?, ?it/s]\u001b[A\n",
      "backtesting_seats:  10%|████████████████████▉                                                                                                                                                                                            | 1/10 [00:04<00:44,  4.94s/it]\u001b[A\n",
      "backtesting_seats:  20%|█████████████████████████████████████████▊                                                                                                                                                                       | 2/10 [00:14<01:03,  7.94s/it]\u001b[A\n",
      "backtesting_seats:  30%|██████████████████████████████████████████████████████████████▋                                                                                                                                                  | 3/10 [00:26<01:05,  9.41s/it]\u001b[A\n",
      "backtesting_seats:  40%|███████████████████████████████████████████████████████████████████████████████████▌                                                                                                                             | 4/10 [00:37<01:01, 10.21s/it]\u001b[A\n",
      "backtesting_seats:  50%|████████████████████████████████████████████████████████████████████████████████████████████████████████▌                                                                                                        | 5/10 [00:48<00:51, 10.32s/it]\u001b[A\n",
      "backtesting_seats:  60%|█████████████████████████████████████████████████████████████████████████████████████████████████████████████████████████████▍                                                                                   | 6/10 [00:59<00:43, 10.75s/it]\u001b[A\n",
      "backtesting_seats:  70%|██████████████████████████████████████████████████████████████████████████████████████████████████████████████████████████████████████████████████▎                                                              | 7/10 [01:10<00:32, 10.82s/it]\u001b[A\n",
      "backtesting_seats:  80%|███████████████████████████████████████████████████████████████████████████████████████████████████████████████████████████████████████████████████████████████████████▏                                         | 8/10 [01:22<00:22, 11.01s/it]\u001b[A\n",
      "backtesting_seats:  90%|████████████████████████████████████████████████████████████████████████████████████████████████████████████████████████████████████████████████████████████████████████████████████████████                     | 9/10 [01:33<00:11, 11.06s/it]\u001b[A\n",
      "backtesting_seats: 100%|████████████████████████████████████████████████████████████████████████████████████████████████████████████████████████████████████████████████████████████████████████████████████████████████████████████████| 10/10 [01:44<00:00, 10.46s/it]\u001b[A\n",
      " 40%|███████████████████████████████████████████████████████████████████████████████████████████▏                                                                                                                                        | 2/5 [03:26<05:12, 104.10s/it]\n",
      "backtesting_seats:   0%|                                                                                                                                                                                                                         | 0/10 [00:00<?, ?it/s]\u001b[A\n",
      "backtesting_seats:  10%|████████████████████▉                                                                                                                                                                                            | 1/10 [00:03<00:35,  3.99s/it]\u001b[A\n",
      "backtesting_seats:  20%|█████████████████████████████████████████▊                                                                                                                                                                       | 2/10 [00:13<00:55,  6.99s/it]\u001b[A\n",
      "backtesting_seats:  30%|██████████████████████████████████████████████████████████████▋                                                                                                                                                  | 3/10 [00:22<00:55,  7.92s/it]\u001b[A\n",
      "backtesting_seats:  40%|███████████████████████████████████████████████████████████████████████████████████▌                                                                                                                             | 4/10 [00:31<00:51,  8.58s/it]\u001b[A\n",
      "backtesting_seats:  50%|████████████████████████████████████████████████████████████████████████████████████████████████████████▌                                                                                                        | 5/10 [00:40<00:42,  8.56s/it]\u001b[A\n",
      "backtesting_seats:  60%|█████████████████████████████████████████████████████████████████████████████████████████████████████████████████████████████▍                                                                                   | 6/10 [00:49<00:35,  8.77s/it]\u001b[A\n",
      "backtesting_seats:  70%|██████████████████████████████████████████████████████████████████████████████████████████████████████████████████████████████████████████████████▎                                                              | 7/10 [00:59<00:27,  9.06s/it]\u001b[A\n",
      "backtesting_seats:  80%|███████████████████████████████████████████████████████████████████████████████████████████████████████████████████████████████████████████████████████████████████████▏                                         | 8/10 [01:08<00:18,  9.10s/it]\u001b[A\n",
      "backtesting_seats:  90%|████████████████████████████████████████████████████████████████████████████████████████████████████████████████████████████████████████████████████████████████████████████████████████████                     | 9/10 [01:17<00:09,  9.19s/it]\u001b[A\n",
      "backtesting_seats: 100%|████████████████████████████████████████████████████████████████████████████████████████████████████████████████████████████████████████████████████████████████████████████████████████████████████████████████| 10/10 [01:26<00:00,  8.65s/it]\u001b[A\n",
      " 60%|████████████████████████████████████████████████████████████████████████████████████████████████████████████████████████████████████████▊                                                                                           | 3/5 [05:03<03:21, 100.72s/it]\n",
      "backtesting_seats:   0%|                                                                                                                                                                                                                         | 0/10 [00:00<?, ?it/s]\u001b[A\n",
      "backtesting_seats:  10%|████████████████████▉                                                                                                                                                                                            | 1/10 [00:09<01:24,  9.39s/it]\u001b[A\n",
      "backtesting_seats:  20%|█████████████████████████████████████████▊                                                                                                                                                                       | 2/10 [00:33<02:24, 18.01s/it]\u001b[A\n",
      "backtesting_seats:  30%|██████████████████████████████████████████████████████████████▋                                                                                                                                                  | 3/10 [01:02<02:42, 23.18s/it]\u001b[A\n",
      "backtesting_seats:  40%|███████████████████████████████████████████████████████████████████████████████████▌                                                                                                                             | 4/10 [01:38<02:48, 28.05s/it]\u001b[A\n",
      "backtesting_seats:  50%|████████████████████████████████████████████████████████████████████████████████████████████████████████▌                                                                                                        | 5/10 [02:28<03:00, 36.04s/it]\u001b[A\n",
      "backtesting_seats:  60%|█████████████████████████████████████████████████████████████████████████████████████████████████████████████████████████████▍                                                                                   | 6/10 [03:24<02:51, 42.87s/it]\u001b[A\n",
      "backtesting_seats:  70%|██████████████████████████████████████████████████████████████████████████████████████████████████████████████████████████████████████████████████▎                                                              | 7/10 [04:28<02:29, 49.84s/it]\u001b[A\n",
      "backtesting_seats:  80%|███████████████████████████████████████████████████████████████████████████████████████████████████████████████████████████████████████████████████████████████████████▏                                         | 8/10 [05:45<01:56, 58.44s/it]\u001b[A\n",
      "backtesting_seats:  90%|████████████████████████████████████████████████████████████████████████████████████████████████████████████████████████████████████████████████████████████████████████████████████████████                     | 9/10 [07:09<01:06, 66.39s/it]\u001b[A\n",
      "backtesting_seats: 100%|████████████████████████████████████████████████████████████████████████████████████████████████████████████████████████████████████████████████████████████████████████████████████████████████████████████████| 10/10 [08:39<00:00, 51.93s/it]\u001b[A\n",
      " 80%|██████████████████████████████████████████████████████████████████████████████████████████████████████████████████████████████████████████████████████████████████████████████████████▍                                             | 4/5 [13:51<04:29, 269.21s/it]\n",
      "backtesting_seats:   0%|                                                                                                                                                                                                                         | 0/10 [00:00<?, ?it/s]\u001b[A\n",
      "backtesting_seats:  10%|████████████████████▉                                                                                                                                                                                            | 1/10 [00:24<03:43, 24.80s/it]\u001b[A\n",
      "backtesting_seats:  20%|█████████████████████████████████████████▊                                                                                                                                                                       | 2/10 [01:13<05:11, 38.89s/it]\u001b[A\n",
      "backtesting_seats:  30%|██████████████████████████████████████████████████████████████▋                                                                                                                                                  | 3/10 [02:07<05:21, 45.96s/it]\u001b[A\n",
      "backtesting_seats:  40%|███████████████████████████████████████████████████████████████████████████████████▌                                                                                                                             | 4/10 [03:05<05:04, 50.67s/it]\u001b[A\n",
      "backtesting_seats:  50%|████████████████████████████████████████████████████████████████████████████████████████████████████████▌                                                                                                        | 5/10 [03:55<04:12, 50.48s/it]\u001b[A\n",
      "backtesting_seats:  60%|█████████████████████████████████████████████████████████████████████████████████████████████████████████████████████████████▍                                                                                   | 6/10 [04:54<03:33, 53.34s/it]\u001b[A\n",
      "backtesting_seats:  70%|██████████████████████████████████████████████████████████████████████████████████████████████████████████████████████████████████████████████████▎                                                              | 7/10 [05:51<02:43, 54.36s/it]\u001b[A\n",
      "backtesting_seats:  80%|███████████████████████████████████████████████████████████████████████████████████████████████████████████████████████████████████████████████████████████████████████▏                                         | 8/10 [06:39<01:45, 52.54s/it]\u001b[A\n",
      "backtesting_seats:  90%|████████████████████████████████████████████████████████████████████████████████████████████████████████████████████████████████████████████████████████████████████████████████████████████                     | 9/10 [07:32<00:52, 52.70s/it]\u001b[A\n",
      "backtesting_seats: 100%|████████████████████████████████████████████████████████████████████████████████████████████████████████████████████████████████████████████████████████████████████████████████████████████████████████████████| 10/10 [08:26<00:00, 50.64s/it]\u001b[A\n"
     ]
    },
    {
     "name": "stderr",
     "output_type": "stream",
     "text": [
      "100%|████████████████████████████████████████████████████████████████████████████████████████████████████████████████████████████████████████████████████████████████████████████████████████████████████████████████████████████████████| 5/5 [22:44<00:00, 272.93s/it]\n"
     ]
    }
   ],
   "source": [
    "trades = port.backtest()"
   ]
  },
  {
   "cell_type": "code",
   "execution_count": 7,
   "id": "51ac3cb5",
   "metadata": {},
   "outputs": [
    {
     "data": {
      "image/png": "[encoded data removed]",
      "text/plain": [
       "<Figure size 432x288 with 1 Axes>"
      ]
     },
     "metadata": {
      "needs_background": "light"
     },
     "output_type": "display_data"
    }
   ],
   "source": [
    "at = trades\n",
    "strats = trades[\"strategy\"].unique()\n",
    "all_analysis = []\n",
    "for strat in strats:\n",
    "    strat_trades = at[at[\"strategy\"]==strat]\n",
    "    cash = []\n",
    "    stuff = []\n",
    "    total_cash = 100\n",
    "    number_of_strats=1\n",
    "    for seat in range(seats):\n",
    "        initial = float(total_cash / number_of_strats / seats )\n",
    "        seat_trades = strat_trades[strat_trades[\"seat\"]==seat]\n",
    "        for delta in seat_trades[\"delta\"]:\n",
    "            initial = initial * (1+delta)\n",
    "            cash.append(initial)\n",
    "    strat_trades[\"pv\"] = cash\n",
    "    stuff.append(strat_trades)\n",
    "    analysis = pd.concat(stuff).pivot_table(index=[\"sell_date\"],columns=\"seat\",values=\"pv\").fillna(method=\"ffill\").fillna(float(total_cash / number_of_strats / seats )).reset_index()\n",
    "    analysis[\"pv\"] = [sum([row[1][i] for i in range(seats)]) for row in analysis.iterrows()]\n",
    "    analysis[\"strategy\"] = strat\n",
    "    all_analysis.append(analysis)\n",
    "    plt.plot(analysis[\"sell_date\"],analysis[\"pv\"])\n",
    "plt.legend(strats)\n",
    "plt.show()"
   ]
  },
  {
   "cell_type": "code",
   "execution_count": 8,
   "id": "7e0fa65c",
   "metadata": {},
   "outputs": [
    {
     "data": {
      "text/html": [
       "<div>\n",
       "<style scoped>\n",
       "    .dataframe tbody tr th:only-of-type {\n",
       "        vertical-align: middle;\n",
       "    }\n",
       "\n",
       "    .dataframe tbody tr th {\n",
       "        vertical-align: top;\n",
       "    }\n",
       "\n",
       "    .dataframe thead th {\n",
       "        text-align: right;\n",
       "    }\n",
       "</style>\n",
       "<table border=\"1\" class=\"dataframe\">\n",
       "  <thead>\n",
       "    <tr style=\"text-align: right;\">\n",
       "      <th>seat</th>\n",
       "      <th>sell_date</th>\n",
       "      <th>0</th>\n",
       "      <th>1</th>\n",
       "      <th>2</th>\n",
       "      <th>3</th>\n",
       "      <th>4</th>\n",
       "      <th>5</th>\n",
       "      <th>6</th>\n",
       "      <th>7</th>\n",
       "      <th>8</th>\n",
       "      <th>9</th>\n",
       "      <th>pv</th>\n",
       "      <th>strategy</th>\n",
       "    </tr>\n",
       "  </thead>\n",
       "  <tbody>\n",
       "    <tr>\n",
       "      <th>0</th>\n",
       "      <td>2016-01-06</td>\n",
       "      <td>10.000000</td>\n",
       "      <td>10.000000</td>\n",
       "      <td>10.000000</td>\n",
       "      <td>10.000000</td>\n",
       "      <td>10.500000</td>\n",
       "      <td>10.000000</td>\n",
       "      <td>10.000000</td>\n",
       "      <td>10.000000</td>\n",
       "      <td>10.000000</td>\n",
       "      <td>10.000000</td>\n",
       "      <td>100.500000</td>\n",
       "      <td>rolling_percent</td>\n",
       "    </tr>\n",
       "    <tr>\n",
       "      <th>1</th>\n",
       "      <td>2016-01-15</td>\n",
       "      <td>10.000000</td>\n",
       "      <td>10.000000</td>\n",
       "      <td>10.500000</td>\n",
       "      <td>10.000000</td>\n",
       "      <td>10.500000</td>\n",
       "      <td>10.000000</td>\n",
       "      <td>10.000000</td>\n",
       "      <td>10.000000</td>\n",
       "      <td>10.000000</td>\n",
       "      <td>10.000000</td>\n",
       "      <td>101.000000</td>\n",
       "      <td>rolling_percent</td>\n",
       "    </tr>\n",
       "    <tr>\n",
       "      <th>2</th>\n",
       "      <td>2016-01-22</td>\n",
       "      <td>10.000000</td>\n",
       "      <td>10.000000</td>\n",
       "      <td>11.025000</td>\n",
       "      <td>10.000000</td>\n",
       "      <td>10.500000</td>\n",
       "      <td>10.000000</td>\n",
       "      <td>10.000000</td>\n",
       "      <td>10.000000</td>\n",
       "      <td>10.000000</td>\n",
       "      <td>10.000000</td>\n",
       "      <td>101.525000</td>\n",
       "      <td>rolling_percent</td>\n",
       "    </tr>\n",
       "    <tr>\n",
       "      <th>3</th>\n",
       "      <td>2016-01-26</td>\n",
       "      <td>10.000000</td>\n",
       "      <td>10.000000</td>\n",
       "      <td>11.576250</td>\n",
       "      <td>10.000000</td>\n",
       "      <td>10.500000</td>\n",
       "      <td>10.000000</td>\n",
       "      <td>10.000000</td>\n",
       "      <td>10.000000</td>\n",
       "      <td>10.000000</td>\n",
       "      <td>10.000000</td>\n",
       "      <td>102.076250</td>\n",
       "      <td>rolling_percent</td>\n",
       "    </tr>\n",
       "    <tr>\n",
       "      <th>4</th>\n",
       "      <td>2016-01-28</td>\n",
       "      <td>10.000000</td>\n",
       "      <td>10.000000</td>\n",
       "      <td>12.155063</td>\n",
       "      <td>10.000000</td>\n",
       "      <td>10.500000</td>\n",
       "      <td>10.000000</td>\n",
       "      <td>10.000000</td>\n",
       "      <td>10.000000</td>\n",
       "      <td>10.000000</td>\n",
       "      <td>10.000000</td>\n",
       "      <td>102.655062</td>\n",
       "      <td>rolling_percent</td>\n",
       "    </tr>\n",
       "    <tr>\n",
       "      <th>...</th>\n",
       "      <td>...</td>\n",
       "      <td>...</td>\n",
       "      <td>...</td>\n",
       "      <td>...</td>\n",
       "      <td>...</td>\n",
       "      <td>...</td>\n",
       "      <td>...</td>\n",
       "      <td>...</td>\n",
       "      <td>...</td>\n",
       "      <td>...</td>\n",
       "      <td>...</td>\n",
       "      <td>...</td>\n",
       "      <td>...</td>\n",
       "    </tr>\n",
       "    <tr>\n",
       "      <th>489</th>\n",
       "      <td>2021-09-22</td>\n",
       "      <td>1.007991</td>\n",
       "      <td>2.560225</td>\n",
       "      <td>0.283735</td>\n",
       "      <td>2.458781</td>\n",
       "      <td>2.078266</td>\n",
       "      <td>1.439666</td>\n",
       "      <td>1.876724</td>\n",
       "      <td>4.723810</td>\n",
       "      <td>3.199653</td>\n",
       "      <td>1.991560</td>\n",
       "      <td>21.620411</td>\n",
       "      <td>competition</td>\n",
       "    </tr>\n",
       "    <tr>\n",
       "      <th>490</th>\n",
       "      <td>2021-09-23</td>\n",
       "      <td>1.007991</td>\n",
       "      <td>2.560225</td>\n",
       "      <td>0.283735</td>\n",
       "      <td>2.458781</td>\n",
       "      <td>2.078266</td>\n",
       "      <td>1.439666</td>\n",
       "      <td>1.876724</td>\n",
       "      <td>4.723810</td>\n",
       "      <td>3.199653</td>\n",
       "      <td>1.991560</td>\n",
       "      <td>21.620411</td>\n",
       "      <td>competition</td>\n",
       "    </tr>\n",
       "    <tr>\n",
       "      <th>491</th>\n",
       "      <td>2021-09-27</td>\n",
       "      <td>1.007991</td>\n",
       "      <td>2.560225</td>\n",
       "      <td>0.283735</td>\n",
       "      <td>2.458781</td>\n",
       "      <td>2.078266</td>\n",
       "      <td>1.439666</td>\n",
       "      <td>1.876724</td>\n",
       "      <td>4.723810</td>\n",
       "      <td>3.199653</td>\n",
       "      <td>1.991560</td>\n",
       "      <td>21.620411</td>\n",
       "      <td>competition</td>\n",
       "    </tr>\n",
       "    <tr>\n",
       "      <th>492</th>\n",
       "      <td>2021-09-29</td>\n",
       "      <td>1.007991</td>\n",
       "      <td>2.560225</td>\n",
       "      <td>0.283735</td>\n",
       "      <td>2.458781</td>\n",
       "      <td>2.078266</td>\n",
       "      <td>1.439666</td>\n",
       "      <td>1.876724</td>\n",
       "      <td>4.723810</td>\n",
       "      <td>3.199653</td>\n",
       "      <td>1.991560</td>\n",
       "      <td>21.620411</td>\n",
       "      <td>competition</td>\n",
       "    </tr>\n",
       "    <tr>\n",
       "      <th>493</th>\n",
       "      <td>2021-10-01</td>\n",
       "      <td>1.048079</td>\n",
       "      <td>2.769359</td>\n",
       "      <td>0.287927</td>\n",
       "      <td>2.414192</td>\n",
       "      <td>2.108204</td>\n",
       "      <td>1.419596</td>\n",
       "      <td>1.855942</td>\n",
       "      <td>4.715844</td>\n",
       "      <td>3.110339</td>\n",
       "      <td>1.997406</td>\n",
       "      <td>21.726889</td>\n",
       "      <td>competition</td>\n",
       "    </tr>\n",
       "  </tbody>\n",
       "</table>\n",
       "<p>2367 rows × 13 columns</p>\n",
       "</div>"
      ],
      "text/plain": [
       "seat  sell_date          0          1          2          3          4  \\\n",
       "0    2016-01-06  10.000000  10.000000  10.000000  10.000000  10.500000   \n",
       "1    2016-01-15  10.000000  10.000000  10.500000  10.000000  10.500000   \n",
       "2    2016-01-22  10.000000  10.000000  11.025000  10.000000  10.500000   \n",
       "3    2016-01-26  10.000000  10.000000  11.576250  10.000000  10.500000   \n",
       "4    2016-01-28  10.000000  10.000000  12.155063  10.000000  10.500000   \n",
       "..          ...        ...        ...        ...        ...        ...   \n",
       "489  2021-09-22   1.007991   2.560225   0.283735   2.458781   2.078266   \n",
       "490  2021-09-23   1.007991   2.560225   0.283735   2.458781   2.078266   \n",
       "491  2021-09-27   1.007991   2.560225   0.283735   2.458781   2.078266   \n",
       "492  2021-09-29   1.007991   2.560225   0.283735   2.458781   2.078266   \n",
       "493  2021-10-01   1.048079   2.769359   0.287927   2.414192   2.108204   \n",
       "\n",
       "seat          5          6          7          8          9          pv  \\\n",
       "0     10.000000  10.000000  10.000000  10.000000  10.000000  100.500000   \n",
       "1     10.000000  10.000000  10.000000  10.000000  10.000000  101.000000   \n",
       "2     10.000000  10.000000  10.000000  10.000000  10.000000  101.525000   \n",
       "3     10.000000  10.000000  10.000000  10.000000  10.000000  102.076250   \n",
       "4     10.000000  10.000000  10.000000  10.000000  10.000000  102.655062   \n",
       "..          ...        ...        ...        ...        ...         ...   \n",
       "489    1.439666   1.876724   4.723810   3.199653   1.991560   21.620411   \n",
       "490    1.439666   1.876724   4.723810   3.199653   1.991560   21.620411   \n",
       "491    1.439666   1.876724   4.723810   3.199653   1.991560   21.620411   \n",
       "492    1.439666   1.876724   4.723810   3.199653   1.991560   21.620411   \n",
       "493    1.419596   1.855942   4.715844   3.110339   1.997406   21.726889   \n",
       "\n",
       "seat         strategy  \n",
       "0     rolling_percent  \n",
       "1     rolling_percent  \n",
       "2     rolling_percent  \n",
       "3     rolling_percent  \n",
       "4     rolling_percent  \n",
       "..                ...  \n",
       "489       competition  \n",
       "490       competition  \n",
       "491       competition  \n",
       "492       competition  \n",
       "493       competition  \n",
       "\n",
       "[2367 rows x 13 columns]"
      ]
     },
     "execution_count": 8,
     "metadata": {},
     "output_type": "execute_result"
    }
   ],
   "source": [
    "hl = pd.concat(all_analysis)\n",
    "hl"
   ]
  }
 ],
 "metadata": {
  "kernelspec": {
   "display_name": "Python 3 (ipykernel)",
   "language": "python",
   "name": "python3"
  },
  "language_info": {
   "codemirror_mode": {
    "name": "ipython",
    "version": 3
   },
   "file_extension": ".py",
   "mimetype": "text/x-python",
   "name": "python",
   "nbconvert_exporter": "python",
   "pygments_lexer": "ipython3",
   "version": "3.10.5"
  }
 },
 "nbformat": 4,
 "nbformat_minor": 5
}
