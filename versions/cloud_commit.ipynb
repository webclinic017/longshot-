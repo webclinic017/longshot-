{
 "cells": [
  {
   "cell_type": "code",
   "execution_count": 1,
   "id": "c35059cd",
   "metadata": {},
   "outputs": [],
   "source": [
    "from database.adatabase import ADatabase\n",
    "import pandas as pd\n",
    "from tqdm import tqdm"
   ]
  },
  {
   "cell_type": "code",
   "execution_count": 3,
   "id": "50d72039",
   "metadata": {},
   "outputs": [],
   "source": [
    "cloud_db = ADatabase(\"arttie\")"
   ]
  },
  {
   "cell_type": "code",
   "execution_count": 5,
   "id": "2f0f5fef",
   "metadata": {},
   "outputs": [
    {
     "name": "stderr",
     "output_type": "stream",
     "text": [
      "100%|█████████████████████████████████████████████████████████████████████████████████████████████████████████████████████████████████████████████████████████████████████████████████████████████████████████████████████████████████████| 3/3 [00:09<00:00,  3.06s/it]\n"
     ]
    }
   ],
   "source": [
    "for strat in tqdm([\"financial\",\"speculation\",\"competition\"]):\n",
    "    db = ADatabase(f\"strategy_{strat}\")\n",
    "    db.connect()\n",
    "    sim = db.retrieve(\"predictions\")\n",
    "    db.disconnect()\n",
    "    cloud_db.cloud_connect()\n",
    "    cloud_db.store(strat,sim)\n",
    "    cloud_db.disconnect()\n",
    "    "
   ]
  }
 ],
 "metadata": {
  "kernelspec": {
   "display_name": "Python 3 (ipykernel)",
   "language": "python",
   "name": "python3"
  },
  "language_info": {
   "codemirror_mode": {
    "name": "ipython",
    "version": 3
   },
   "file_extension": ".py",
   "mimetype": "text/x-python",
   "name": "python",
   "nbconvert_exporter": "python",
   "pygments_lexer": "ipython3",
   "version": "3.10.1"
  }
 },
 "nbformat": 4,
 "nbformat_minor": 5
}
