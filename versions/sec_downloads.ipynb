{
 "cells": [
  {
   "cell_type": "code",
   "execution_count": 1,
   "metadata": {},
   "outputs": [],
   "source": [
    "from time import sleep\n",
    "from zipfile import ZipFile\n",
    "from urllib.request import urlretrieve\n",
    "from tqdm import tqdm\n",
    "from bs4 import BeautifulSoup\n",
    "from database.market import Market\n",
    "import os\n",
    "import requests as r"
   ]
  },
  {
   "cell_type": "code",
   "execution_count": 2,
   "metadata": {},
   "outputs": [],
   "source": [
    "market = Market()\n",
    "market.connect()\n",
    "sp5 = market.retrieve(\"sp500\")\n",
    "market.disconnect()"
   ]
  },
  {
   "cell_type": "code",
   "execution_count": 3,
   "metadata": {},
   "outputs": [],
   "source": [
    "ciks = sp5[\"CIK\"]"
   ]
  },
  {
   "cell_type": "code",
   "execution_count": 4,
   "metadata": {},
   "outputs": [
    {
     "data": {
      "text/plain": [
       "815094"
      ]
     },
     "execution_count": 4,
     "metadata": {},
     "output_type": "execute_result"
    }
   ],
   "source": [
    "ciks[4]"
   ]
  },
  {
   "cell_type": "code",
   "execution_count": null,
   "metadata": {
    "scrolled": true
   },
   "outputs": [
    {
     "name": "stderr",
     "output_type": "stream",
     "text": [
      "  0%|                                                   | 0/10 [00:00<?, ?it/s]\n",
      "0it [00:00, ?it/s]\u001b[A\n",
      "1it [1:41:34, 6094.97s/it]\u001b[A\n",
      " 10%|███▌                                | 1/10 [1:41:35<15:14:23, 6095.93s/it]\n",
      "0it [00:00, ?it/s]\u001b[A\n",
      "1it [1:01:58, 3718.30s/it]\u001b[A\n",
      " 20%|███████▏                            | 2/10 [2:43:34<10:26:20, 4697.61s/it]\n",
      "0it [00:00, ?it/s]\u001b[A\n",
      "1it [1:48:46, 6526.39s/it]\u001b[A\n",
      " 30%|██████████▊                         | 3/10 [4:32:22<10:45:33, 5533.31s/it]\n",
      "0it [00:00, ?it/s]\u001b[A\n",
      "1it [1:03:32, 3812.56s/it]\u001b[A\n",
      " 40%|██████████████▊                      | 4/10 [5:35:55<8:05:25, 4854.20s/it]\n",
      "0it [00:00, ?it/s]\u001b[A\n",
      "1it [1:27:44, 5264.28s/it]\u001b[A\n",
      " 50%|██████████████████▌                  | 5/10 [7:03:40<6:56:52, 5002.43s/it]\n",
      "0it [00:00, ?it/s]\u001b[A\n",
      "1it [1:14:34, 4474.55s/it]\u001b[A\n",
      " 60%|██████████████████████▏              | 6/10 [8:18:16<5:21:32, 4823.15s/it]\n",
      "0it [00:00, ?it/s]\u001b[A\n",
      "1it [1:17:52, 4672.91s/it]\u001b[A\n",
      " 70%|█████████████████████████▉           | 7/10 [9:36:09<3:58:42, 4774.19s/it]\n",
      "0it [00:00, ?it/s]\u001b[A"
     ]
    }
   ],
   "source": [
    "for cik in tqdm(ciks[12:13]):\n",
    "    try:\n",
    "        os.makedirs(f\"./sec_docs/{cik}\",exist_ok=True)\n",
    "        headers = {\n",
    "            'User-Agent': 'chung.ejy',\n",
    "            'From': 'chung.ejy@gmail.com'  # This is another valid field\n",
    "        }\n",
    "        base = f\"https://www.sec.gov/Archives/edgar/data/{cik}\"\n",
    "        resp = r.request(url=base,method=\"GET\",headers=headers)\n",
    "        soup = BeautifulSoup(resp.text, 'html.parser').find(\"table\")\n",
    "        for child in tqdm(soup.children):\n",
    "            for c in child.children:\n",
    "                try:\n",
    "                    file_name = c.find(\"a\").text\n",
    "                    second_url = base + f\"/{file_name}\"\n",
    "                    second_resp = r.request(url=second_url,method=\"GET\",headers=headers)\n",
    "                    second_soup = BeautifulSoup(second_resp.text, 'html.parser').find(\"table\")\n",
    "                    for second_child in second_soup.children:\n",
    "                        for c2 in second_child.children:\n",
    "                            try:\n",
    "                                file_name = c2.find(\"a\").text\n",
    "                                if \".txt\" in file_name:\n",
    "                                    final_url = second_url + \"/\" + file_name\n",
    "                                    third_resp = r.get(final_url,headers=headers)\n",
    "                                    with open(f\"./sec_docs/{cik}/{file_name}\", 'w') as file:\n",
    "                                        file.write(third_resp.text)\n",
    "                                    sleep(1)\n",
    "                                else:\n",
    "                                    continue\n",
    "                            except Exception as e:\n",
    "                                continue\n",
    "                except Exception as e:\n",
    "                    continue\n",
    "    except Exception as e:\n",
    "        print(str(e))"
   ]
  }
 ],
 "metadata": {
  "kernelspec": {
   "display_name": "Python 3 (ipykernel)",
   "language": "python",
   "name": "python3"
  },
  "language_info": {
   "codemirror_mode": {
    "name": "ipython",
    "version": 3
   },
   "file_extension": ".py",
   "mimetype": "text/x-python",
   "name": "python",
   "nbconvert_exporter": "python",
   "pygments_lexer": "ipython3",
   "version": "3.10.1"
  }
 },
 "nbformat": 4,
 "nbformat_minor": 4
}
