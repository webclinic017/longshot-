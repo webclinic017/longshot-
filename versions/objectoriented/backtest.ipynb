{
 "cells": [
  {
   "cell_type": "code",
   "execution_count": 1,
   "id": "aa80f443",
   "metadata": {
    "scrolled": true
   },
   "outputs": [],
   "source": [
    "from datetime import datetime, timedelta\n",
    "import pandas as pd\n",
    "from tqdm import tqdm\n",
    "from portfolio.portfolio_fact import PortfolioFactory\n",
    "from strats.strat_fact import StratFactory as stratfact\n",
    "from modeler_strats.modeler_strat_fact import ModelerStratFactory as modelstratfact\n",
    "from diversifier.diversifier_fact import DiversifierFactory as diversifyfact\n",
    "from database.market import Market\n",
    "from fund.fund import Fund\n",
    "from fund.states import States\n",
    "from processor.processor import Processor as p\n",
    "from backtester.backtester import Backtester"
   ]
  },
  {
   "cell_type": "code",
   "execution_count": 2,
   "id": "83a40641",
   "metadata": {},
   "outputs": [],
   "source": [
    "market = Market()"
   ]
  },
  {
   "cell_type": "code",
   "execution_count": 3,
   "id": "e5adbebb",
   "metadata": {},
   "outputs": [],
   "source": [
    "fund = Fund(\"delta\",States.BACKTEST)\n",
    "fund.pull_portfolios()\n",
    "fund.initialize_portfolios()\n",
    "fund.reset()"
   ]
  },
  {
   "cell_type": "code",
   "execution_count": 4,
   "id": "72986b08",
   "metadata": {},
   "outputs": [
    {
     "name": "stderr",
     "output_type": "stream",
     "text": [
      "100%|████████████████████████████████████████████████████████████████████████████████████████████████████████████████████████████████████████████████████| 18/18 [18:05<00:00, 60.31s/it]\n",
      "100%|████████████████████████████████████████████████████████████████████████████████████████████████████████████████████████████████████████████████████| 18/18 [22:38<00:00, 75.49s/it]\n",
      "100%|████████████████████████████████████████████████████████████████████████████████████████████████████████████████████████████████████████████████████| 18/18 [21:11<00:00, 70.66s/it]\n",
      "100%|████████████████████████████████████████████████████████████████████████████████████████████████████████████████████████████████████████████████████| 18/18 [24:28<00:00, 81.57s/it]\n"
     ]
    }
   ],
   "source": [
    "fund.backtest()"
   ]
  },
  {
   "cell_type": "code",
   "execution_count": null,
   "id": "43832589",
   "metadata": {},
   "outputs": [],
   "source": []
  }
 ],
 "metadata": {
  "kernelspec": {
   "display_name": "Python 3 (ipykernel)",
   "language": "python",
   "name": "python3"
  },
  "language_info": {
   "codemirror_mode": {
    "name": "ipython",
    "version": 3
   },
   "file_extension": ".py",
   "mimetype": "text/x-python",
   "name": "python",
   "nbconvert_exporter": "python",
   "pygments_lexer": "ipython3",
   "version": "3.10.5"
  }
 },
 "nbformat": 4,
 "nbformat_minor": 5
}
