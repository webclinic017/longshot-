{
 "cells": [
  {
   "cell_type": "code",
   "execution_count": 2,
   "id": "cbc5fd9d",
   "metadata": {},
   "outputs": [],
   "source": [
    "import pandas as pd\n",
    "from fund.fund import Fund\n",
    "from fund.states import States"
   ]
  },
  {
   "cell_type": "code",
   "execution_count": 3,
   "id": "a7435f9b",
   "metadata": {},
   "outputs": [],
   "source": [
    "modeler_types = [\"universal\",\"industry\"]\n",
    "diversifier_types = [\"basic\",\"industry\"]\n",
    "portfolios = []\n",
    "for modeler_type in modeler_types:\n",
    "    for diversifier_type in diversifier_types:\n",
    "        portfolios.append( {\"name\":\"speculation\"\n",
    "                            ,\"portfolio_type\":\"universal\"\n",
    "                            ,\"modeler_type\":modeler_type\n",
    "                            ,\"diversifier_type\":diversifier_type\n",
    "                            ,\"positions\":10})"
   ]
  },
  {
   "cell_type": "code",
   "execution_count": 4,
   "id": "2a23a4b2",
   "metadata": {},
   "outputs": [
    {
     "data": {
      "text/plain": [
       "[{'name': 'speculation',\n",
       "  'portfolio_type': 'universal',\n",
       "  'modeler_type': 'universal',\n",
       "  'diversifier_type': 'basic',\n",
       "  'positions': 10},\n",
       " {'name': 'speculation',\n",
       "  'portfolio_type': 'universal',\n",
       "  'modeler_type': 'universal',\n",
       "  'diversifier_type': 'industry',\n",
       "  'positions': 10},\n",
       " {'name': 'speculation',\n",
       "  'portfolio_type': 'universal',\n",
       "  'modeler_type': 'industry',\n",
       "  'diversifier_type': 'basic',\n",
       "  'positions': 10},\n",
       " {'name': 'speculation',\n",
       "  'portfolio_type': 'universal',\n",
       "  'modeler_type': 'industry',\n",
       "  'diversifier_type': 'industry',\n",
       "  'positions': 10}]"
      ]
     },
     "execution_count": 4,
     "metadata": {},
     "output_type": "execute_result"
    }
   ],
   "source": [
    "portfolios"
   ]
  },
  {
   "cell_type": "code",
   "execution_count": 5,
   "id": "dadad4c8",
   "metadata": {},
   "outputs": [],
   "source": [
    "fund = Fund(\"delta\",States.BACKTEST)"
   ]
  },
  {
   "cell_type": "code",
   "execution_count": 6,
   "id": "d082a8c2",
   "metadata": {},
   "outputs": [],
   "source": [
    "fund.db.connect()\n",
    "fund.db.store(\"portfolios\",pd.DataFrame(portfolios))\n",
    "fund.db.disconnect()"
   ]
  }
 ],
 "metadata": {
  "kernelspec": {
   "display_name": "Python 3 (ipykernel)",
   "language": "python",
   "name": "python3"
  },
  "language_info": {
   "codemirror_mode": {
    "name": "ipython",
    "version": 3
   },
   "file_extension": ".py",
   "mimetype": "text/x-python",
   "name": "python",
   "nbconvert_exporter": "python",
   "pygments_lexer": "ipython3",
   "version": "3.10.5"
  }
 },
 "nbformat": 4,
 "nbformat_minor": 5
}
