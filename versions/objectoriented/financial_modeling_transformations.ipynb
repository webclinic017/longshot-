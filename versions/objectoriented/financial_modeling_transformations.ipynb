{
 "cells": [
  {
   "cell_type": "code",
   "execution_count": 1,
   "id": "cf2b054b",
   "metadata": {},
   "outputs": [],
   "source": [
    "from database.market import Market\n",
    "from database.sec import SEC\n",
    "import pandas as pd\n",
    "from tqdm import tqdm\n",
    "from modeler_strats.universal_modeler import UniversalModeler\n",
    "from processor.processor import Processor as p\n",
    "from datetime import datetime\n",
    "from functional.transformer import Transformer as tf\n",
    "from database.adatabase import ADatabase"
   ]
  },
  {
   "cell_type": "code",
   "execution_count": 2,
   "id": "cb655ec4",
   "metadata": {},
   "outputs": [],
   "source": [
    "market = Market()\n",
    "sec = SEC()\n",
    "market.connect()\n",
    "sp500 = market.retrieve(\"sp500\")\n",
    "market.disconnect()\n",
    "modeler = UniversalModeler()\n",
    "fs = ADatabase(\"FS\")"
   ]
  },
  {
   "cell_type": "code",
   "execution_count": 3,
   "id": "0109de59",
   "metadata": {},
   "outputs": [],
   "source": [
    "included_columns=[\n",
    "    \"year\",\n",
    "    \"quarter\",\n",
    "    \"date\",\n",
    "    \"filed\",\n",
    "    \"ticker\",\n",
    "    'GICS Sector',\n",
    "    'GICS Sub-Industry',\n",
    "    \"adjclose\",\n",
    " 'assets',\n",
    " 'liabilitiesandstockholdersequity',\n",
    " 'accumulatedothercomprehensiveincomelossnetoftax',\n",
    " 'earningspersharediluted',\n",
    " 'earningspersharebasic',\n",
    "    \"y\"\n",
    "]"
   ]
  },
  {
   "cell_type": "code",
   "execution_count": 4,
   "id": "683320e0",
   "metadata": {},
   "outputs": [],
   "source": [
    "factors =[\n",
    "    \"adjclose\",\n",
    " 'assets',\n",
    " 'liabilitiesandstockholdersequity',\n",
    " 'accumulatedothercomprehensiveincomelossnetoftax',\n",
    " 'earningspersharediluted',\n",
    " 'earningspersharebasic',\n",
    "]"
   ]
  },
  {
   "cell_type": "code",
   "execution_count": 5,
   "id": "79482a7a",
   "metadata": {
    "scrolled": true
   },
   "outputs": [
    {
     "name": "stderr",
     "output_type": "stream",
     "text": [
      " 25%|████████████████████████████████████▋                                                                                                             | 125/497 [00:40<01:50,  3.36it/s]"
     ]
    },
    {
     "name": "stdout",
     "output_type": "stream",
     "text": [
      "STZ \"['earningspersharediluted', 'earningspersharebasic'] not in index\"\n"
     ]
    },
    {
     "name": "stderr",
     "output_type": "stream",
     "text": [
      " 32%|██████████████████████████████████████████████▍                                                                                                   | 158/497 [00:50<02:12,  2.56it/s]"
     ]
    },
    {
     "name": "stdout",
     "output_type": "stream",
     "text": [
      "DRE 'year'\n"
     ]
    },
    {
     "name": "stderr",
     "output_type": "stream",
     "text": [
      " 39%|████████████████████████████████████████████████████████▋                                                                                         | 193/497 [01:02<01:59,  2.55it/s]"
     ]
    },
    {
     "name": "stdout",
     "output_type": "stream",
     "text": [
      "FRC 'filed'\n"
     ]
    },
    {
     "name": "stderr",
     "output_type": "stream",
     "text": [
      " 41%|███████████████████████████████████████████████████████████▉                                                                                      | 204/497 [01:05<00:57,  5.06it/s]"
     ]
    },
    {
     "name": "stdout",
     "output_type": "stream",
     "text": [
      "FBHS 'year'\n"
     ]
    },
    {
     "name": "stderr",
     "output_type": "stream",
     "text": [
      " 45%|██████████████████████████████████████████████████████████████████                                                                                | 225/497 [01:13<01:38,  2.76it/s]"
     ]
    },
    {
     "name": "stdout",
     "output_type": "stream",
     "text": [
      "HSY \"['earningspersharediluted', 'earningspersharebasic'] not in index\"\n"
     ]
    },
    {
     "name": "stderr",
     "output_type": "stream",
     "text": [
      " 52%|███████████████████████████████████████████████████████████████████████████▊                                                                      | 258/497 [01:24<00:54,  4.42it/s]"
     ]
    },
    {
     "name": "stdout",
     "output_type": "stream",
     "text": [
      "JBHT \"['accumulatedothercomprehensiveincomelossnetoftax'] not in index\"\n",
      "JKHY \"['accumulatedothercomprehensiveincomelossnetoftax'] not in index\"\n"
     ]
    },
    {
     "name": "stderr",
     "output_type": "stream",
     "text": [
      " 64%|█████████████████████████████████████████████████████████████████████████████████████████████▍                                                    | 318/497 [01:44<00:45,  3.91it/s]"
     ]
    },
    {
     "name": "stdout",
     "output_type": "stream",
     "text": [
      "MNST \"['earningspersharediluted', 'earningspersharebasic'] not in index\"\n"
     ]
    },
    {
     "name": "stderr",
     "output_type": "stream",
     "text": [
      " 69%|████████████████████████████████████████████████████████████████████████████████████████████████████▊                                             | 343/497 [01:52<00:45,  3.38it/s]"
     ]
    },
    {
     "name": "stdout",
     "output_type": "stream",
     "text": [
      "NVR \"['accumulatedothercomprehensiveincomelossnetoftax'] not in index\"\n"
     ]
    },
    {
     "name": "stderr",
     "output_type": "stream",
     "text": [
      " 70%|██████████████████████████████████████████████████████████████████████████████████████████████████████▏                                           | 348/497 [01:53<00:33,  4.46it/s]"
     ]
    },
    {
     "name": "stdout",
     "output_type": "stream",
     "text": [
      "ODFL \"['accumulatedothercomprehensiveincomelossnetoftax'] not in index\"\n"
     ]
    },
    {
     "name": "stderr",
     "output_type": "stream",
     "text": [
      " 74%|████████████████████████████████████████████████████████████████████████████████████████████████████████████                                      | 368/497 [01:59<00:41,  3.13it/s]"
     ]
    },
    {
     "name": "stdout",
     "output_type": "stream",
     "text": [
      "PXD \"['accumulatedothercomprehensiveincomelossnetoftax'] not in index\"\n"
     ]
    },
    {
     "name": "stderr",
     "output_type": "stream",
     "text": [
      " 82%|████████████████████████████████████████████████████████████████████████████████████████████████████████████████████████▍                         | 410/497 [02:14<00:37,  2.33it/s]"
     ]
    },
    {
     "name": "stdout",
     "output_type": "stream",
     "text": [
      "SBNY 'filed'\n"
     ]
    },
    {
     "name": "stderr",
     "output_type": "stream",
     "text": [
      " 86%|████████████████████████████████████████████████████████████████████████████████████████████████████████████████████████████▊                     | 425/497 [02:19<00:20,  3.43it/s]"
     ]
    },
    {
     "name": "stdout",
     "output_type": "stream",
     "text": [
      "SYF \"['accumulatedothercomprehensiveincomelossnetoftax'] not in index\"\n"
     ]
    },
    {
     "name": "stderr",
     "output_type": "stream",
     "text": [
      " 91%|████████████████████████████████████████████████████████████████████████████████████████████████████████████████████████████████████▏             | 450/497 [02:25<00:11,  4.07it/s]"
     ]
    },
    {
     "name": "stdout",
     "output_type": "stream",
     "text": [
      "TSN \"['earningspersharebasic'] not in index\"\n"
     ]
    },
    {
     "name": "stderr",
     "output_type": "stream",
     "text": [
      " 95%|██████████████████████████████████████████████████████████████████████████████████████████████████████████████████████████████████████████        | 470/497 [02:32<00:07,  3.44it/s]"
     ]
    },
    {
     "name": "stdout",
     "output_type": "stream",
     "text": [
      "V \"['earningspersharediluted', 'earningspersharebasic'] not in index\"\n"
     ]
    },
    {
     "name": "stderr",
     "output_type": "stream",
     "text": [
      "100%|██████████████████████████████████████████████████████████████████████████████████████████████████████████████████████████████████████████████████| 497/497 [02:41<00:00,  3.07it/s]\n"
     ]
    }
   ],
   "source": [
    "analysis = []\n",
    "sec.connect()\n",
    "market.connect()\n",
    "all_filings = []\n",
    "for ticker in tqdm(sp500[\"Symbol\"]):\n",
    "    try:\n",
    "        cik = sp500[sp500[\"Symbol\"]==ticker][\"CIK\"].item()\n",
    "        filing = sec.retrieve_filing_data(cik)\n",
    "        prices = market.retrieve_ticker_prices(\"prices\",ticker)\n",
    "        filing[\"ticker\"] = ticker\n",
    "        filing[\"date\"] = [datetime.strptime(str(x),\"%Y%m%d\") for x in filing[\"filed\"]]\n",
    "        filing = p.column_date_processing(filing)\n",
    "        prices = p.column_date_processing(prices)\n",
    "        prices = prices.groupby([\"year\",\"quarter\",\"ticker\"]).mean()\n",
    "        prices[\"y\"] = prices[\"adjclose\"].shift(-4)\n",
    "        data = filing.merge(prices,on=[\"year\",\"quarter\",\"ticker\"],how=\"left\")\n",
    "        data = data.merge(sp500.rename(columns={\"Symbol\":\"ticker\"}),on=\"ticker\",how=\"left\")[included_columns]\n",
    "        all_filings.append(data)\n",
    "    except Exception as e:\n",
    "        print(ticker,str(e))\n",
    "sec.disconnect()\n",
    "market.disconnect()"
   ]
  },
  {
   "cell_type": "code",
   "execution_count": 6,
   "id": "f7d8547b",
   "metadata": {},
   "outputs": [
    {
     "data": {
      "text/html": [
       "<div>\n",
       "<style scoped>\n",
       "    .dataframe tbody tr th:only-of-type {\n",
       "        vertical-align: middle;\n",
       "    }\n",
       "\n",
       "    .dataframe tbody tr th {\n",
       "        vertical-align: top;\n",
       "    }\n",
       "\n",
       "    .dataframe thead th {\n",
       "        text-align: right;\n",
       "    }\n",
       "</style>\n",
       "<table border=\"1\" class=\"dataframe\">\n",
       "  <thead>\n",
       "    <tr style=\"text-align: right;\">\n",
       "      <th></th>\n",
       "      <th>year</th>\n",
       "      <th>quarter</th>\n",
       "      <th>date</th>\n",
       "      <th>filed</th>\n",
       "      <th>ticker</th>\n",
       "      <th>GICS Sector</th>\n",
       "      <th>GICS Sub-Industry</th>\n",
       "      <th>adjclose</th>\n",
       "      <th>assets</th>\n",
       "      <th>liabilitiesandstockholdersequity</th>\n",
       "      <th>accumulatedothercomprehensiveincomelossnetoftax</th>\n",
       "      <th>earningspersharediluted</th>\n",
       "      <th>earningspersharebasic</th>\n",
       "      <th>y</th>\n",
       "    </tr>\n",
       "  </thead>\n",
       "  <tbody>\n",
       "    <tr>\n",
       "      <th>0</th>\n",
       "      <td>2012</td>\n",
       "      <td>1</td>\n",
       "      <td>2012-02-16</td>\n",
       "      <td>20120216</td>\n",
       "      <td>MMM</td>\n",
       "      <td>Industrials</td>\n",
       "      <td>Industrial Conglomerates</td>\n",
       "      <td>63.545741</td>\n",
       "      <td>2.967400e+10</td>\n",
       "      <td>3.088600e+10</td>\n",
       "      <td>-4.284000e+09</td>\n",
       "      <td>2.519091</td>\n",
       "      <td>2.555455</td>\n",
       "      <td>76.368726</td>\n",
       "    </tr>\n",
       "    <tr>\n",
       "      <th>1</th>\n",
       "      <td>2012</td>\n",
       "      <td>2</td>\n",
       "      <td>2012-05-03</td>\n",
       "      <td>20120503</td>\n",
       "      <td>MMM</td>\n",
       "      <td>Industrials</td>\n",
       "      <td>Industrial Conglomerates</td>\n",
       "      <td>63.627935</td>\n",
       "      <td>3.181550e+10</td>\n",
       "      <td>3.181550e+10</td>\n",
       "      <td>-4.905000e+09</td>\n",
       "      <td>1.540000</td>\n",
       "      <td>1.565000</td>\n",
       "      <td>81.819282</td>\n",
       "    </tr>\n",
       "    <tr>\n",
       "      <th>2</th>\n",
       "      <td>2012</td>\n",
       "      <td>3</td>\n",
       "      <td>2012-08-02</td>\n",
       "      <td>20120802</td>\n",
       "      <td>MMM</td>\n",
       "      <td>Industrials</td>\n",
       "      <td>Industrial Conglomerates</td>\n",
       "      <td>67.603937</td>\n",
       "      <td>3.247750e+10</td>\n",
       "      <td>3.247750e+10</td>\n",
       "      <td>-5.018500e+09</td>\n",
       "      <td>2.400000</td>\n",
       "      <td>2.440000</td>\n",
       "      <td>88.124361</td>\n",
       "    </tr>\n",
       "    <tr>\n",
       "      <th>3</th>\n",
       "      <td>2012</td>\n",
       "      <td>4</td>\n",
       "      <td>2012-11-01</td>\n",
       "      <td>20121101</td>\n",
       "      <td>MMM</td>\n",
       "      <td>Industrials</td>\n",
       "      <td>Industrial Conglomerates</td>\n",
       "      <td>68.030758</td>\n",
       "      <td>3.304750e+10</td>\n",
       "      <td>3.304750e+10</td>\n",
       "      <td>-4.786500e+09</td>\n",
       "      <td>3.172500</td>\n",
       "      <td>3.217500</td>\n",
       "      <td>97.059920</td>\n",
       "    </tr>\n",
       "    <tr>\n",
       "      <th>4</th>\n",
       "      <td>2013</td>\n",
       "      <td>1</td>\n",
       "      <td>2013-02-14</td>\n",
       "      <td>20130214</td>\n",
       "      <td>MMM</td>\n",
       "      <td>Industrials</td>\n",
       "      <td>Industrial Conglomerates</td>\n",
       "      <td>76.368726</td>\n",
       "      <td>3.188267e+10</td>\n",
       "      <td>3.274600e+10</td>\n",
       "      <td>-4.887500e+09</td>\n",
       "      <td>2.743636</td>\n",
       "      <td>2.783636</td>\n",
       "      <td>101.847559</td>\n",
       "    </tr>\n",
       "    <tr>\n",
       "      <th>...</th>\n",
       "      <td>...</td>\n",
       "      <td>...</td>\n",
       "      <td>...</td>\n",
       "      <td>...</td>\n",
       "      <td>...</td>\n",
       "      <td>...</td>\n",
       "      <td>...</td>\n",
       "      <td>...</td>\n",
       "      <td>...</td>\n",
       "      <td>...</td>\n",
       "      <td>...</td>\n",
       "      <td>...</td>\n",
       "      <td>...</td>\n",
       "      <td>...</td>\n",
       "    </tr>\n",
       "    <tr>\n",
       "      <th>37</th>\n",
       "      <td>2021</td>\n",
       "      <td>4</td>\n",
       "      <td>2021-11-04</td>\n",
       "      <td>20211104</td>\n",
       "      <td>ZTS</td>\n",
       "      <td>Health Care</td>\n",
       "      <td>Pharmaceuticals</td>\n",
       "      <td>216.862532</td>\n",
       "      <td>1.365700e+10</td>\n",
       "      <td>1.365700e+10</td>\n",
       "      <td>-6.985000e+08</td>\n",
       "      <td>2.057500</td>\n",
       "      <td>2.070000</td>\n",
       "      <td>147.533594</td>\n",
       "    </tr>\n",
       "    <tr>\n",
       "      <th>38</th>\n",
       "      <td>2022</td>\n",
       "      <td>1</td>\n",
       "      <td>2022-02-15</td>\n",
       "      <td>20220215</td>\n",
       "      <td>ZTS</td>\n",
       "      <td>Health Care</td>\n",
       "      <td>Pharmaceuticals</td>\n",
       "      <td>196.040632</td>\n",
       "      <td>1.375450e+10</td>\n",
       "      <td>1.375450e+10</td>\n",
       "      <td>-7.470000e+08</td>\n",
       "      <td>3.600000</td>\n",
       "      <td>3.623333</td>\n",
       "      <td>156.787441</td>\n",
       "    </tr>\n",
       "    <tr>\n",
       "      <th>39</th>\n",
       "      <td>2022</td>\n",
       "      <td>2</td>\n",
       "      <td>2022-05-05</td>\n",
       "      <td>20220505</td>\n",
       "      <td>ZTS</td>\n",
       "      <td>Health Care</td>\n",
       "      <td>Pharmaceuticals</td>\n",
       "      <td>171.798380</td>\n",
       "      <td>1.388000e+10</td>\n",
       "      <td>1.388000e+10</td>\n",
       "      <td>-7.340000e+08</td>\n",
       "      <td>1.215000</td>\n",
       "      <td>1.220000</td>\n",
       "      <td>NaN</td>\n",
       "    </tr>\n",
       "    <tr>\n",
       "      <th>40</th>\n",
       "      <td>2022</td>\n",
       "      <td>3</td>\n",
       "      <td>2022-08-04</td>\n",
       "      <td>20220804</td>\n",
       "      <td>ZTS</td>\n",
       "      <td>Health Care</td>\n",
       "      <td>Pharmaceuticals</td>\n",
       "      <td>166.327240</td>\n",
       "      <td>1.383500e+10</td>\n",
       "      <td>1.383500e+10</td>\n",
       "      <td>-7.430000e+08</td>\n",
       "      <td>1.702500</td>\n",
       "      <td>1.712500</td>\n",
       "      <td>NaN</td>\n",
       "    </tr>\n",
       "    <tr>\n",
       "      <th>41</th>\n",
       "      <td>2022</td>\n",
       "      <td>4</td>\n",
       "      <td>2022-11-03</td>\n",
       "      <td>20221103</td>\n",
       "      <td>ZTS</td>\n",
       "      <td>Health Care</td>\n",
       "      <td>Pharmaceuticals</td>\n",
       "      <td>147.533594</td>\n",
       "      <td>1.378700e+10</td>\n",
       "      <td>1.378700e+10</td>\n",
       "      <td>-7.865000e+08</td>\n",
       "      <td>2.300000</td>\n",
       "      <td>2.307500</td>\n",
       "      <td>NaN</td>\n",
       "    </tr>\n",
       "  </tbody>\n",
       "</table>\n",
       "<p>20809 rows × 14 columns</p>\n",
       "</div>"
      ],
      "text/plain": [
       "    year  quarter       date     filed ticker  GICS Sector  \\\n",
       "0   2012        1 2012-02-16  20120216    MMM  Industrials   \n",
       "1   2012        2 2012-05-03  20120503    MMM  Industrials   \n",
       "2   2012        3 2012-08-02  20120802    MMM  Industrials   \n",
       "3   2012        4 2012-11-01  20121101    MMM  Industrials   \n",
       "4   2013        1 2013-02-14  20130214    MMM  Industrials   \n",
       "..   ...      ...        ...       ...    ...          ...   \n",
       "37  2021        4 2021-11-04  20211104    ZTS  Health Care   \n",
       "38  2022        1 2022-02-15  20220215    ZTS  Health Care   \n",
       "39  2022        2 2022-05-05  20220505    ZTS  Health Care   \n",
       "40  2022        3 2022-08-04  20220804    ZTS  Health Care   \n",
       "41  2022        4 2022-11-03  20221103    ZTS  Health Care   \n",
       "\n",
       "           GICS Sub-Industry    adjclose        assets  \\\n",
       "0   Industrial Conglomerates   63.545741  2.967400e+10   \n",
       "1   Industrial Conglomerates   63.627935  3.181550e+10   \n",
       "2   Industrial Conglomerates   67.603937  3.247750e+10   \n",
       "3   Industrial Conglomerates   68.030758  3.304750e+10   \n",
       "4   Industrial Conglomerates   76.368726  3.188267e+10   \n",
       "..                       ...         ...           ...   \n",
       "37           Pharmaceuticals  216.862532  1.365700e+10   \n",
       "38           Pharmaceuticals  196.040632  1.375450e+10   \n",
       "39           Pharmaceuticals  171.798380  1.388000e+10   \n",
       "40           Pharmaceuticals  166.327240  1.383500e+10   \n",
       "41           Pharmaceuticals  147.533594  1.378700e+10   \n",
       "\n",
       "    liabilitiesandstockholdersequity  \\\n",
       "0                       3.088600e+10   \n",
       "1                       3.181550e+10   \n",
       "2                       3.247750e+10   \n",
       "3                       3.304750e+10   \n",
       "4                       3.274600e+10   \n",
       "..                               ...   \n",
       "37                      1.365700e+10   \n",
       "38                      1.375450e+10   \n",
       "39                      1.388000e+10   \n",
       "40                      1.383500e+10   \n",
       "41                      1.378700e+10   \n",
       "\n",
       "    accumulatedothercomprehensiveincomelossnetoftax  earningspersharediluted  \\\n",
       "0                                     -4.284000e+09                 2.519091   \n",
       "1                                     -4.905000e+09                 1.540000   \n",
       "2                                     -5.018500e+09                 2.400000   \n",
       "3                                     -4.786500e+09                 3.172500   \n",
       "4                                     -4.887500e+09                 2.743636   \n",
       "..                                              ...                      ...   \n",
       "37                                    -6.985000e+08                 2.057500   \n",
       "38                                    -7.470000e+08                 3.600000   \n",
       "39                                    -7.340000e+08                 1.215000   \n",
       "40                                    -7.430000e+08                 1.702500   \n",
       "41                                    -7.865000e+08                 2.300000   \n",
       "\n",
       "    earningspersharebasic           y  \n",
       "0                2.555455   76.368726  \n",
       "1                1.565000   81.819282  \n",
       "2                2.440000   88.124361  \n",
       "3                3.217500   97.059920  \n",
       "4                2.783636  101.847559  \n",
       "..                    ...         ...  \n",
       "37               2.070000  147.533594  \n",
       "38               3.623333  156.787441  \n",
       "39               1.220000         NaN  \n",
       "40               1.712500         NaN  \n",
       "41               2.307500         NaN  \n",
       "\n",
       "[20809 rows x 14 columns]"
      ]
     },
     "execution_count": 6,
     "metadata": {},
     "output_type": "execute_result"
    }
   ],
   "source": [
    "training_data = pd.concat(all_filings)\n",
    "training_data"
   ]
  },
  {
   "cell_type": "code",
   "execution_count": 10,
   "id": "c15a57e3",
   "metadata": {},
   "outputs": [],
   "source": [
    "fs.connect()\n",
    "for year in range(2019,2020):\n",
    "    training_set = training_data[(training_data[\"year\"]<year) & (training_data[\"year\"]>=year-7)].reset_index().copy()\n",
    "    training_set.dropna(inplace=True)\n",
    "    training_set = training_set.reset_index()\n",
    "    prediction_set = training_data[training_data[\"year\"]==year].reset_index()\n",
    "    stuff = modeler.model(training_set,prediction_set,factors)\n",
    "    stuff[\"year\"] = [row[1][\"year\"] + 1 for row in stuff.iterrows()]\n",
    "    fs.store(\"sim\",stuff)\n",
    "fs.disconnect()"
   ]
  },
  {
   "cell_type": "code",
   "execution_count": 12,
   "id": "4b5ca104",
   "metadata": {
    "scrolled": false
   },
   "outputs": [
    {
     "ename": "NameError",
     "evalue": "name 'speculation_db' is not defined",
     "output_type": "error",
     "traceback": [
      "\u001b[1;31m---------------------------------------------------------------------------\u001b[0m",
      "\u001b[1;31mNameError\u001b[0m                                 Traceback (most recent call last)",
      "\u001b[1;32m~\\AppData\\Local\\Temp/ipykernel_8688/3208435008.py\u001b[0m in \u001b[0;36m<module>\u001b[1;34m\u001b[0m\n\u001b[1;32m----> 1\u001b[1;33m \u001b[0mspeculation_db\u001b[0m\u001b[1;33m.\u001b[0m\u001b[0mconnect\u001b[0m\u001b[1;33m(\u001b[0m\u001b[1;33m)\u001b[0m\u001b[1;33m\u001b[0m\u001b[1;33m\u001b[0m\u001b[0m\n\u001b[0m\u001b[0;32m      2\u001b[0m \u001b[1;32mfor\u001b[0m \u001b[0mparameter\u001b[0m \u001b[1;32min\u001b[0m \u001b[0mtqdm\u001b[0m\u001b[1;33m(\u001b[0m\u001b[0mparameters\u001b[0m\u001b[1;33m)\u001b[0m\u001b[1;33m:\u001b[0m\u001b[1;33m\u001b[0m\u001b[1;33m\u001b[0m\u001b[0m\n\u001b[0;32m      3\u001b[0m     \u001b[0miteration_trades\u001b[0m \u001b[1;33m=\u001b[0m \u001b[0mb\u001b[0m\u001b[1;33m.\u001b[0m\u001b[0mbacktest\u001b[0m\u001b[1;33m(\u001b[0m\u001b[0msim\u001b[0m\u001b[1;33m,\u001b[0m\u001b[0mparameter\u001b[0m\u001b[1;33m,\u001b[0m\u001b[0mstart_date\u001b[0m\u001b[1;33m,\u001b[0m\u001b[0mend_date\u001b[0m\u001b[1;33m)\u001b[0m\u001b[1;33m\u001b[0m\u001b[1;33m\u001b[0m\u001b[0m\n\u001b[0;32m      4\u001b[0m     \u001b[0mspeculation_db\u001b[0m\u001b[1;33m.\u001b[0m\u001b[0mstore\u001b[0m\u001b[1;33m(\u001b[0m\u001b[1;34m\"trades\"\u001b[0m\u001b[1;33m,\u001b[0m\u001b[0mpd\u001b[0m\u001b[1;33m.\u001b[0m\u001b[0mDataFrame\u001b[0m\u001b[1;33m(\u001b[0m\u001b[0miteration_trades\u001b[0m\u001b[1;33m)\u001b[0m\u001b[1;33m)\u001b[0m\u001b[1;33m\u001b[0m\u001b[1;33m\u001b[0m\u001b[0m\n\u001b[0;32m      5\u001b[0m \u001b[0mspeculation_db\u001b[0m\u001b[1;33m.\u001b[0m\u001b[0mdisconnect\u001b[0m\u001b[1;33m(\u001b[0m\u001b[1;33m)\u001b[0m\u001b[1;33m\u001b[0m\u001b[1;33m\u001b[0m\u001b[0m\n",
      "\u001b[1;31mNameError\u001b[0m: name 'speculation_db' is not defined"
     ]
    }
   ],
   "source": []
  }
 ],
 "metadata": {
  "kernelspec": {
   "display_name": "Python 3 (ipykernel)",
   "language": "python",
   "name": "python3"
  },
  "language_info": {
   "codemirror_mode": {
    "name": "ipython",
    "version": 3
   },
   "file_extension": ".py",
   "mimetype": "text/x-python",
   "name": "python",
   "nbconvert_exporter": "python",
   "pygments_lexer": "ipython3",
   "version": "3.10.5"
  }
 },
 "nbformat": 4,
 "nbformat_minor": 5
}
