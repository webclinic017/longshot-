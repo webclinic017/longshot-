{
 "cells": [
  {
   "cell_type": "code",
   "execution_count": 11,
   "id": "aa80f443",
   "metadata": {
    "scrolled": true
   },
   "outputs": [],
   "source": [
    "from datetime import datetime, timedelta\n",
    "import pytz\n",
    "import pandas as pd\n",
    "from tqdm import tqdm\n",
    "from modeler.modeler import Modeler as m\n",
    "from processor.processor import Processor as p\n",
    "from database.market import Market\n",
    "from database.adatabase import ADatabase\n",
    "import numpy as np\n",
    "import matplotlib.pyplot as plt\n",
    "import pickle\n",
    "from functional.backtester import Backtester as b"
   ]
  },
  {
   "cell_type": "code",
   "execution_count": 12,
   "id": "b38d4176",
   "metadata": {
    "scrolled": true
   },
   "outputs": [],
   "source": [
    "start_date = datetime(2020,1,1)\n",
    "end_date = datetime(2023,1,1)"
   ]
  },
  {
   "cell_type": "code",
   "execution_count": 13,
   "id": "e5adbebb",
   "metadata": {},
   "outputs": [],
   "source": [
    "market = Market()\n",
    "speculation_db = ADatabase(\"FS\")"
   ]
  },
  {
   "cell_type": "code",
   "execution_count": 14,
   "id": "235a8676",
   "metadata": {
    "scrolled": true
   },
   "outputs": [],
   "source": [
    "market.connect()\n",
    "prices = market.retrieve(\"prices\")\n",
    "sp500 = market.retrieve(\"sp500\")\n",
    "market.disconnect()\n",
    "prices = p.column_date_processing(prices)\n",
    "prices[\"year\"] = [x.year for x in prices[\"date\"]]\n",
    "prices[\"week\"] = [x.week for x in prices[\"date\"]]\n",
    "prices[\"quarter\"] = [x.quarter for x in prices[\"date\"]]\n",
    "sp500 = sp500.rename(columns={\"Symbol\":\"ticker\"})"
   ]
  },
  {
   "cell_type": "code",
   "execution_count": 15,
   "id": "5b375c05",
   "metadata": {},
   "outputs": [],
   "source": [
    "speculation_db.connect()\n",
    "simulation = speculation_db.retrieve(\"sim\")\n",
    "speculation_db.disconnect()"
   ]
  },
  {
   "cell_type": "code",
   "execution_count": 16,
   "id": "a61c6b3e",
   "metadata": {},
   "outputs": [],
   "source": [
    "simulation = prices.merge(simulation.drop([\"adjclose\",\"date\"],axis=1),on=[\"year\",\"quarter\",\"ticker\"],how=\"left\")"
   ]
  },
  {
   "cell_type": "code",
   "execution_count": 17,
   "id": "c040f7fd",
   "metadata": {},
   "outputs": [],
   "source": [
    "simulation[\"delta\"] = (simulation[\"prediction\"] - simulation[\"adjclose\"]) / simulation[\"adjclose\"]"
   ]
  },
  {
   "cell_type": "code",
   "execution_count": 18,
   "id": "27072ec7",
   "metadata": {},
   "outputs": [],
   "source": [
    "sim = simulation.dropna()"
   ]
  },
  {
   "cell_type": "code",
   "execution_count": 19,
   "id": "7710948a",
   "metadata": {
    "scrolled": true
   },
   "outputs": [],
   "source": [
    "trades = []\n",
    "reqs = [0.1,0.2,0.3]\n",
    "values = [True,False]\n",
    "parameters = []\n",
    "positions = 10\n",
    "for value in values:\n",
    "    for signal in reqs:\n",
    "        for req in reqs:\n",
    "            parameter = {\"value\":value,\"signal\":signal,\"req\":req}\n",
    "            parameters.append(parameter)"
   ]
  },
  {
   "cell_type": "code",
   "execution_count": 20,
   "id": "40c956bc",
   "metadata": {
    "scrolled": true
   },
   "outputs": [
    {
     "name": "stderr",
     "output_type": "stream",
     "text": [
      "100%|█████████████████████████████████████████████████████████████████████████████████████████████████████████████████████████████████████████████████████████████████████| 18/18 [03:50<00:00, 12.83s/it]\n"
     ]
    }
   ],
   "source": [
    "speculation_db.connect()\n",
    "for parameter in tqdm(parameters):\n",
    "    iteration_trades = b.financial_backtest(sim,parameter,start_date,end_date)\n",
    "    speculation_db.store(\"trades\",pd.DataFrame(iteration_trades))\n",
    "speculation_db.disconnect()"
   ]
  }
 ],
 "metadata": {
  "kernelspec": {
   "display_name": "Python 3 (ipykernel)",
   "language": "python",
   "name": "python3"
  },
  "language_info": {
   "codemirror_mode": {
    "name": "ipython",
    "version": 3
   },
   "file_extension": ".py",
   "mimetype": "text/x-python",
   "name": "python",
   "nbconvert_exporter": "python",
   "pygments_lexer": "ipython3",
   "version": "3.10.5"
  }
 },
 "nbformat": 4,
 "nbformat_minor": 5
}
