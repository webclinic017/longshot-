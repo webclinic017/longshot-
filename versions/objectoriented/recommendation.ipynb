{
 "cells": [
  {
   "cell_type": "code",
   "execution_count": 1,
   "id": "f17099ef",
   "metadata": {},
   "outputs": [],
   "source": [
    "from fund.fund import Fund\n",
    "from fund.states import States\n",
    "from strats.speculation import Speculation\n",
    "from modeler_strats.modeler_strat_fact import ModelerStratFactory as modelstratfact\n",
    "import pickle"
   ]
  },
  {
   "cell_type": "code",
   "execution_count": 2,
   "id": "4490a73c",
   "metadata": {},
   "outputs": [],
   "source": [
    "fund = Fund(\"delta\",States.SIM)\n",
    "fund.pull_portfolios()\n",
    "fund.initialize_portfolios()\n",
    "speculation = Speculation(4)"
   ]
  },
  {
   "cell_type": "code",
   "execution_count": 3,
   "id": "91c952a7",
   "metadata": {},
   "outputs": [],
   "source": [
    "start_year = 2023\n",
    "end_year = 2024"
   ]
  },
  {
   "cell_type": "code",
   "execution_count": 4,
   "id": "f4b279a3",
   "metadata": {},
   "outputs": [],
   "source": [
    "model_strats = [\n",
    "                \"universal\",\n",
    "                \"industry\",\n",
    "               ]"
   ]
  },
  {
   "cell_type": "code",
   "execution_count": 5,
   "id": "c7b65a0f",
   "metadata": {},
   "outputs": [],
   "source": [
    "speculation.pull_factors()"
   ]
  },
  {
   "cell_type": "code",
   "execution_count": 6,
   "id": "decf77a8",
   "metadata": {},
   "outputs": [
    {
     "ename": "AttributeError",
     "evalue": "'Speculation' object has no attribute 'recommend_set'",
     "output_type": "error",
     "traceback": [
      "\u001b[1;31m---------------------------------------------------------------------------\u001b[0m",
      "\u001b[1;31mAttributeError\u001b[0m                            Traceback (most recent call last)",
      "\u001b[1;32m~\\AppData\\Local\\Temp/ipykernel_18504/3340257272.py\u001b[0m in \u001b[0;36m<module>\u001b[1;34m\u001b[0m\n\u001b[0;32m      3\u001b[0m     \u001b[0mspeculation\u001b[0m\u001b[1;33m.\u001b[0m\u001b[0mdb\u001b[0m\u001b[1;33m.\u001b[0m\u001b[0mconnect\u001b[0m\u001b[1;33m(\u001b[0m\u001b[1;33m)\u001b[0m\u001b[1;33m\u001b[0m\u001b[1;33m\u001b[0m\u001b[0m\n\u001b[0;32m      4\u001b[0m     \u001b[1;32mfor\u001b[0m \u001b[0myear\u001b[0m \u001b[1;32min\u001b[0m \u001b[0mrange\u001b[0m\u001b[1;33m(\u001b[0m\u001b[0mstart_year\u001b[0m\u001b[1;33m,\u001b[0m\u001b[0mend_year\u001b[0m\u001b[1;33m)\u001b[0m\u001b[1;33m:\u001b[0m\u001b[1;33m\u001b[0m\u001b[1;33m\u001b[0m\u001b[0m\n\u001b[1;32m----> 5\u001b[1;33m         \u001b[0mprediction_set\u001b[0m \u001b[1;33m=\u001b[0m \u001b[0mspeculation\u001b[0m\u001b[1;33m.\u001b[0m\u001b[0mrecommend_set\u001b[0m\u001b[1;33m(\u001b[0m\u001b[0mmodel_strat\u001b[0m\u001b[1;33m)\u001b[0m\u001b[1;33m\u001b[0m\u001b[1;33m\u001b[0m\u001b[0m\n\u001b[0m\u001b[0;32m      6\u001b[0m         \u001b[0mmodels\u001b[0m \u001b[1;33m=\u001b[0m \u001b[0mspeculation\u001b[0m\u001b[1;33m.\u001b[0m\u001b[0mpull_models\u001b[0m\u001b[1;33m(\u001b[0m\u001b[0mmodel_strat\u001b[0m\u001b[1;33m)\u001b[0m\u001b[1;33m\u001b[0m\u001b[1;33m\u001b[0m\u001b[0m\n\u001b[0;32m      7\u001b[0m         \u001b[0mstuff\u001b[0m \u001b[1;33m=\u001b[0m \u001b[0mmodeler_class\u001b[0m\u001b[1;33m.\u001b[0m\u001b[0mrecommend\u001b[0m\u001b[1;33m(\u001b[0m\u001b[0mmodels\u001b[0m\u001b[1;33m,\u001b[0m\u001b[0mprediction_set\u001b[0m\u001b[1;33m,\u001b[0m\u001b[0mspeculation\u001b[0m\u001b[1;33m.\u001b[0m\u001b[0mfactors\u001b[0m\u001b[1;33m)\u001b[0m\u001b[1;33m\u001b[0m\u001b[1;33m\u001b[0m\u001b[0m\n",
      "\u001b[1;31mAttributeError\u001b[0m: 'Speculation' object has no attribute 'recommend_set'"
     ]
    }
   ],
   "source": [
    "for model_strat in model_strats:\n",
    "    modeler_class = modelstratfact.build_modeler_strat(model_strat)\n",
    "    speculation.db.connect()\n",
    "    for year in range(start_year,end_year):\n",
    "        prediction_set = speculation.recommend_set(model_strat)\n",
    "        models = speculation.pull_models(model_strat)\n",
    "        stuff = modeler_class.recommend(models,prediction_set,speculation.factors)\n",
    "        stuff = speculation.prediction_clean(stuff)\n",
    "        speculation.db.store(f\"{modeler_class.name}_recs\",stuff)\n",
    "    speculation.db.disconnect()"
   ]
  },
  {
   "cell_type": "code",
   "execution_count": null,
   "id": "f7aa4322",
   "metadata": {},
   "outputs": [],
   "source": [
    "stuff"
   ]
  }
 ],
 "metadata": {
  "kernelspec": {
   "display_name": "Python 3 (ipykernel)",
   "language": "python",
   "name": "python3"
  },
  "language_info": {
   "codemirror_mode": {
    "name": "ipython",
    "version": 3
   },
   "file_extension": ".py",
   "mimetype": "text/x-python",
   "name": "python",
   "nbconvert_exporter": "python",
   "pygments_lexer": "ipython3",
   "version": "3.10.5"
  }
 },
 "nbformat": 4,
 "nbformat_minor": 5
}
