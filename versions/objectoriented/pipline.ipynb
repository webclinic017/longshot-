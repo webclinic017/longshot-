{
 "cells": [
  {
   "cell_type": "markdown",
   "id": "38c8ac17",
   "metadata": {},
   "source": [
    "sec_extraction\n",
    "sec_transformation\n",
    "sec_clean\n",
    "delete data\n",
    "retransform recommend data\n",
    "reslice data\n",
    "remodel\n",
    "recommend"
   ]
  }
 ],
 "metadata": {
  "kernelspec": {
   "display_name": "Python 3 (ipykernel)",
   "language": "python",
   "name": "python3"
  },
  "language_info": {
   "codemirror_mode": {
    "name": "ipython",
    "version": 3
   },
   "file_extension": ".py",
   "mimetype": "text/x-python",
   "name": "python",
   "nbconvert_exporter": "python",
   "pygments_lexer": "ipython3",
   "version": "3.10.5"
  }
 },
 "nbformat": 4,
 "nbformat_minor": 5
}
