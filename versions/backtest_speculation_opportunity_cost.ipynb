{
 "cells": [
  {
   "cell_type": "code",
   "execution_count": 2,
   "id": "aa80f443",
   "metadata": {
    "scrolled": true
   },
   "outputs": [],
   "source": [
    "from datetime import datetime, timedelta\n",
    "import pytz\n",
    "import pandas as pd\n",
    "from tqdm import tqdm\n",
    "from modeler.modeler import Modeler as m\n",
    "from processor.processor import Processor as p\n",
    "from database.market import Market\n",
    "from database.adatabase import ADatabase\n",
    "import numpy as np\n",
    "import matplotlib.pyplot as plt\n",
    "import pickle\n",
    "import matplotlib.dates as mdates\n",
    "import statistics"
   ]
  },
  {
   "cell_type": "code",
   "execution_count": 8,
   "id": "e5adbebb",
   "metadata": {},
   "outputs": [],
   "source": [
    "market = Market()\n",
    "speculation_db = ADatabase(\"speculation\")"
   ]
  },
  {
   "cell_type": "code",
   "execution_count": 4,
   "id": "235a8676",
   "metadata": {
    "scrolled": true
   },
   "outputs": [],
   "source": [
    "market.connect()\n",
    "prices = market.retrieve(\"pdr_prices\")\n",
    "market.disconnect()\n",
    "prices = p.column_date_processing(prices)\n",
    "prices[\"year\"] = [x.year for x in prices[\"date\"]]\n",
    "prices[\"week\"] = [x.week for x in prices[\"date\"]]"
   ]
  },
  {
   "cell_type": "code",
   "execution_count": 24,
   "id": "e9ee7c22",
   "metadata": {},
   "outputs": [],
   "source": [
    "value = True\n",
    "training_year = 4\n",
    "positions = 5\n",
    "start_date = datetime(2016,1,1)\n",
    "end_date = datetime(2022,7,1)"
   ]
  },
  {
   "cell_type": "code",
   "execution_count": 25,
   "id": "9f108277",
   "metadata": {},
   "outputs": [],
   "source": [
    "speculation_db.connect()\n",
    "simulation = speculation_db.retrieve(f\"pdr_sim\")\n",
    "simulation[\"year\"] = [int(x) for x in simulation[\"year\"]]\n",
    "sim = prices.copy().merge(simulation[(simulation[\"training_year\"]==training_year)],on=[\"year\",\"week\",\"ticker\"],how=\"left\")\n",
    "sim = sim.dropna()\n",
    "sim[\"prediction\"] = (sim[\"xgb_prediction\"] + sim[\"skl_prediction\"] + sim[\"cat_prediction\"]) / 3\n",
    "sim[\"delta\"] = (sim[\"prediction\"] - sim[\"adjclose\"]) / sim[\"adjclose\"]\n",
    "speculation_db.disconnect()"
   ]
  },
  {
   "cell_type": "code",
   "execution_count": 26,
   "id": "7983a64d",
   "metadata": {},
   "outputs": [],
   "source": [
    "included_cols = [\n",
    "                \"date\",\"sell_date\",\"ticker\"\n",
    "                 ,\"adjclose\",\"sell_price\"\n",
    "                 ,\"delta\",\"projected_delta\"\n",
    "                 ,\"position\",\"req\",\"value\",\"training_year\"\n",
    "                 ,\"signal\",\"swap\"\n",
    "                ]"
   ]
  },
  {
   "cell_type": "code",
   "execution_count": 27,
   "id": "a6842192",
   "metadata": {},
   "outputs": [],
   "source": [
    "def trade_factory(trade,date,current_price,current_gain,position,req,value,training_year,signal,swap):\n",
    "    trade[\"sell_date\"] = date\n",
    "    trade[\"sell_price\"] = min(trade[\"adjclose\"]*(1+req),current_price)\n",
    "    trade[\"delta\"] = (trade[\"sell_price\"] - trade[\"adjclose\"]) / trade[\"adjclose\"]\n",
    "    trade[\"position\"] = position\n",
    "    trade[\"req\"] = req\n",
    "    trade[\"value\"] = value\n",
    "    trade[\"training_year\"] = training_year\n",
    "    trade[\"signal\"] = signal\n",
    "    trade[\"swap\"] = swap\n",
    "    return trade"
   ]
  },
  {
   "cell_type": "code",
   "execution_count": 28,
   "id": "dfd86c00",
   "metadata": {},
   "outputs": [],
   "source": [
    "def purchase_factory(date,position_dictionary,offering):\n",
    "    purchase_dictionary = {}\n",
    "    purchase_dictionary[\"adjclose\"] = offering[\"adjclose\"]\n",
    "    purchase_dictionary[\"ticker\"] = offering[\"ticker\"]\n",
    "    purchase_dictionary[\"amount\"] = int(position_dictionary[\"cash\"] / offering[\"adjclose\"])\n",
    "    purchase_dictionary[\"date\"] = date\n",
    "    purchase_dictionary[\"projected_delta\"] = offering[\"delta\"]\n",
    "    return purchase_dictionary"
   ]
  },
  {
   "cell_type": "code",
   "execution_count": 29,
   "id": "0224a6ee",
   "metadata": {},
   "outputs": [],
   "source": [
    "def portfolio_init(start_date,positions,req,value,signal):\n",
    "    portfolio = {\"date\":start_date}\n",
    "    portfolio[\"positions\"] = {}\n",
    "    portfolio[\"req\"] = req\n",
    "    portfolio[\"value\"] = value\n",
    "    portfolio[\"signal\"] = signal\n",
    "    for position in range(positions):\n",
    "        portfolio[\"positions\"][position] = {\"cash\":100/positions,\"asset\":{}}\n",
    "    return portfolio"
   ]
  },
  {
   "cell_type": "code",
   "execution_count": 30,
   "id": "e14127e9",
   "metadata": {},
   "outputs": [],
   "source": [
    "def current_ticker_list(portfolio,positions):\n",
    "    current_tickers = [portfolio[\"positions\"][position][\"asset\"][\"ticker\"] for position in range(positions)\n",
    "                                  if len(portfolio[\"positions\"][position][\"asset\"].keys()) > 0]\n",
    "    return current_tickers"
   ]
  },
  {
   "cell_type": "code",
   "execution_count": 33,
   "id": "a61c6b3e",
   "metadata": {
    "scrolled": true
   },
   "outputs": [
    {
     "name": "stderr",
     "output_type": "stream",
     "text": [
      "100%|█████████████████████████████████████████████████████████████████████████████████████████████████████████████████████████████████████████| 3/3 [15:45<00:00, 315.15s/it]\n"
     ]
    }
   ],
   "source": [
    "signals = [0.1,0.3,0.5]\n",
    "reqs = [0.05,0.1,0.15]\n",
    "values = [True]\n",
    "speculation_db.connect()\n",
    "for signal in tqdm(signals):\n",
    "    for value in values:\n",
    "        iterration_sim = sim.copy()\n",
    "        if value==False:\n",
    "            iterration_sim[\"delta\"] = iterration_sim[\"delta\"] * -1\n",
    "        for req in reqs:\n",
    "            portfolio = portfolio_init(start_date,positions,req,value,signal)\n",
    "            date = start_date\n",
    "            current_tickers = []\n",
    "            while date < end_date:\n",
    "                year = date.year\n",
    "                day_jump = 3 if date.weekday() == 4 else 1\n",
    "                for position in range(positions):\n",
    "                    current_tickers = current_ticker_list(portfolio,positions)\n",
    "                    position_dictionary = portfolio[\"positions\"][position]\n",
    "                    try:\n",
    "                        ## check recs\n",
    "                        todays_recs = iterration_sim[(iterration_sim[\"date\"]==date) & (iterration_sim[\"delta\"] > signal) & (~iterration_sim[\"ticker\"].isin(current_tickers))]\n",
    "                        todays_recs.sort_values(\"delta\",ascending=False,inplace=True)\n",
    "                        if (len(position_dictionary[\"asset\"].keys()) == 0) and (todays_recs.index.size > position) and (date.weekday() <= 2) and (prices[prices[\"date\"]==date].index.size > 0):\n",
    "                            offering = todays_recs.iloc[position]\n",
    "                            purchase_dictionary = purchase_factory(date,position_dictionary,offering)\n",
    "                            position_dictionary[\"asset\"] = purchase_dictionary\n",
    "                            position_dictionary[\"cash\"] = position_dictionary[\"cash\"] - offering[\"adjclose\"] * purchase_dictionary[\"amount\"]\n",
    "                            current_tickers = current_ticker_list(portfolio,positions)\n",
    "                        # check exits\n",
    "                        if len(position_dictionary[\"asset\"].keys()) > 0:\n",
    "                            asset_dictionary = position_dictionary[\"asset\"]\n",
    "                            days_passed = int((date - asset_dictionary[\"date\"]).days)\n",
    "                            max_days = 7 + asset_dictionary[\"date\"].weekday() + 1\n",
    "                            ticker = asset_dictionary[\"ticker\"]\n",
    "                            price_data = prices[(prices[\"ticker\"]==ticker) & (prices[\"date\"]==date)]\n",
    "                            if price_data.index.size > 0:\n",
    "                                current_price = price_data.iloc[0][\"adjclose\"].item()\n",
    "                                buy_price = asset_dictionary[\"adjclose\"]\n",
    "                                current_gain = (current_price - buy_price) / buy_price\n",
    "                                if current_gain > req or days_passed >= max_days:\n",
    "                                    trade = trade_factory(asset_dictionary,date,current_price,current_gain,position\n",
    "                                                          ,req,value,training_year,signal,swap=False)\n",
    "                                    trade_df = pd.DataFrame([trade])\n",
    "                                    speculation_db.store(\"oc_trades\",trade_df[included_cols])\n",
    "                                    position_dictionary[\"cash\"] = position_dictionary[\"cash\"] + current_price * trade[\"amount\"]\n",
    "                                    position_dictionary[\"asset\"] = {}\n",
    "                                    current_tickers = current_ticker_list(portfolio,positions)\n",
    "                                else:\n",
    "                                    offerings =  iterration_sim[(iterration_sim[\"date\"]==date) & (iterration_sim[\"delta\"] >= signal) & (~iterration_sim[\"ticker\"].isin(current_tickers))]\n",
    "                                    offerings.sort_values(\"delta\",ascending=False,inplace=True)\n",
    "#                                     print(\"swap\",offerings.index.size,position)\n",
    "                                    if offerings.index.size > position:\n",
    "                                        offering = offerings.iloc[position]\n",
    "                                        if (current_gain > 0) and (offering[\"delta\"] > (asset_dictionary[\"projected_delta\"] - current_gain)) and (offering[\"delta\"] >= signal):\n",
    "                                            trade = trade_factory(asset_dictionary,date,current_price,current_gain,position\n",
    "                                                              ,req,value,training_year,signal,swap=True)                       \n",
    "                                            trade_df = pd.DataFrame([trade])\n",
    "                                            speculation_db.store(\"oc_trades\",trade_df[included_cols])\n",
    "                                            position_dictionary[\"cash\"] = position_dictionary[\"cash\"] + current_price * trade[\"amount\"]\n",
    "                                            purchase_dictionary = purchase_factory(date,position_dictionary,offering)\n",
    "                                            position_dictionary[\"asset\"] = purchase_dictionary\n",
    "                                            position_dictionary[\"cash\"] = position_dictionary[\"cash\"] - offering[\"adjclose\"] * purchase_dictionary[\"amount\"]\n",
    "                                            current_tickers = current_ticker_list(portfolio,positions)\n",
    "                    except Exception as e:\n",
    "                        print(str(e))\n",
    "                    date = date+timedelta(days=day_jump)\n",
    "speculation_db.disconnect()"
   ]
  },
  {
   "cell_type": "code",
   "execution_count": null,
   "id": "c6c73209",
   "metadata": {},
   "outputs": [],
   "source": [
    "(4-1)//3 + 1"
   ]
  }
 ],
 "metadata": {
  "kernelspec": {
   "display_name": "Python 3 (ipykernel)",
   "language": "python",
   "name": "python3"
  },
  "language_info": {
   "codemirror_mode": {
    "name": "ipython",
    "version": 3
   },
   "file_extension": ".py",
   "mimetype": "text/x-python",
   "name": "python",
   "nbconvert_exporter": "python",
   "pygments_lexer": "ipython3",
   "version": "3.10.5"
  }
 },
 "nbformat": 4,
 "nbformat_minor": 5
}
