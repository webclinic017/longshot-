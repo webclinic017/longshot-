{
 "cells": [
  {
   "cell_type": "code",
   "execution_count": 1,
   "id": "aa80f443",
   "metadata": {
    "scrolled": true
   },
   "outputs": [],
   "source": [
    "from datetime import datetime, timedelta\n",
    "import pytz\n",
    "import pandas as pd\n",
    "from tqdm import tqdm\n",
    "from modeler.modeler import Modeler as m\n",
    "from processor.processor import Processor as p\n",
    "from database.market import Market\n",
    "from database.adatabase import ADatabase\n",
    "import numpy as np\n",
    "import matplotlib.pyplot as plt\n",
    "import pickle"
   ]
  },
  {
   "cell_type": "code",
   "execution_count": 2,
   "id": "e5adbebb",
   "metadata": {},
   "outputs": [],
   "source": [
    "market = Market()\n",
    "speculation_db = ADatabase(\"spec\")"
   ]
  },
  {
   "cell_type": "code",
   "execution_count": 3,
   "id": "235a8676",
   "metadata": {},
   "outputs": [],
   "source": [
    "market.connect()\n",
    "prices = market.retrieve(\"prices\")\n",
    "sp5 = market.retrieve(\"sp500\")\n",
    "market.disconnect()"
   ]
  },
  {
   "cell_type": "code",
   "execution_count": 4,
   "id": "4a1d71da",
   "metadata": {},
   "outputs": [],
   "source": [
    "prices = p.column_date_processing(prices)"
   ]
  },
  {
   "cell_type": "code",
   "execution_count": 5,
   "id": "8bd7689f",
   "metadata": {},
   "outputs": [],
   "source": [
    "prices[\"year\"] = [x.year for x in prices[\"date\"]]\n",
    "prices[\"week\"] = [x.week for x in prices[\"date\"]]\n",
    "prices[\"quarter\"] = [x.quarter for x in prices[\"date\"]]"
   ]
  },
  {
   "cell_type": "code",
   "execution_count": 6,
   "id": "26526c95",
   "metadata": {},
   "outputs": [
    {
     "name": "stderr",
     "output_type": "stream",
     "text": [
      "100%|████████████████████████████████████████████████████████████████████████| 497/497 [00:53<00:00,  9.28it/s]\n"
     ]
    }
   ],
   "source": [
    "data = []\n",
    "for ticker in tqdm(sp5[\"Symbol\"]):\n",
    "    ticker_data = prices[prices[\"ticker\"]==ticker]\n",
    "    ticker_data.sort_values(\"date\",ascending=True)\n",
    "    ticker_data = ticker_data.groupby([\"year\",\"week\"]).mean().reset_index()\n",
    "    for i in range(14):\n",
    "        ticker_data[str(i)] = ticker_data[\"adjclose\"].shift(i)\n",
    "    ticker_data[\"d1\"] = ticker_data[\"adjclose\"].pct_change(periods=7)\n",
    "    ticker_data[\"d2\"] = ticker_data[\"d1\"].pct_change(periods=1)\n",
    "    ticker_data[\"d3\"] = ticker_data[\"d2\"].pct_change(periods=1)\n",
    "    ticker_data.dropna(inplace=True)\n",
    "    ticker_data[\"ticker\"] = ticker\n",
    "    data.append(ticker_data)\n",
    "    "
   ]
  },
  {
   "cell_type": "code",
   "execution_count": 7,
   "id": "5b2570a1",
   "metadata": {},
   "outputs": [],
   "source": [
    "final_data = pd.concat(data)"
   ]
  },
  {
   "cell_type": "code",
   "execution_count": 8,
   "id": "70b80e11",
   "metadata": {},
   "outputs": [
    {
     "data": {
      "text/html": [
       "<div>\n",
       "<style scoped>\n",
       "    .dataframe tbody tr th:only-of-type {\n",
       "        vertical-align: middle;\n",
       "    }\n",
       "\n",
       "    .dataframe tbody tr th {\n",
       "        vertical-align: top;\n",
       "    }\n",
       "\n",
       "    .dataframe thead th {\n",
       "        text-align: right;\n",
       "    }\n",
       "</style>\n",
       "<table border=\"1\" class=\"dataframe\">\n",
       "  <thead>\n",
       "    <tr style=\"text-align: right;\">\n",
       "      <th></th>\n",
       "      <th>year</th>\n",
       "      <th>week</th>\n",
       "      <th>close</th>\n",
       "      <th>high</th>\n",
       "      <th>low</th>\n",
       "      <th>open</th>\n",
       "      <th>volume</th>\n",
       "      <th>adjclose</th>\n",
       "      <th>adjhigh</th>\n",
       "      <th>adjlow</th>\n",
       "      <th>...</th>\n",
       "      <th>8</th>\n",
       "      <th>9</th>\n",
       "      <th>10</th>\n",
       "      <th>11</th>\n",
       "      <th>12</th>\n",
       "      <th>13</th>\n",
       "      <th>d1</th>\n",
       "      <th>d2</th>\n",
       "      <th>d3</th>\n",
       "      <th>ticker</th>\n",
       "    </tr>\n",
       "  </thead>\n",
       "  <tbody>\n",
       "    <tr>\n",
       "      <th>13</th>\n",
       "      <td>2012</td>\n",
       "      <td>14</td>\n",
       "      <td>88.2825</td>\n",
       "      <td>88.600</td>\n",
       "      <td>87.5950</td>\n",
       "      <td>88.345</td>\n",
       "      <td>1490621.5</td>\n",
       "      <td>65.410132</td>\n",
       "      <td>65.645373</td>\n",
       "      <td>64.900750</td>\n",
       "      <td>...</td>\n",
       "      <td>64.552681</td>\n",
       "      <td>64.255366</td>\n",
       "      <td>63.740216</td>\n",
       "      <td>62.691886</td>\n",
       "      <td>61.791478</td>\n",
       "      <td>63.318207</td>\n",
       "      <td>0.009971</td>\n",
       "      <td>-0.520761</td>\n",
       "      <td>1.488143</td>\n",
       "      <td>MMM</td>\n",
       "    </tr>\n",
       "    <tr>\n",
       "      <th>14</th>\n",
       "      <td>2012</td>\n",
       "      <td>15</td>\n",
       "      <td>85.7620</td>\n",
       "      <td>86.476</td>\n",
       "      <td>85.2227</td>\n",
       "      <td>85.998</td>\n",
       "      <td>2639420.0</td>\n",
       "      <td>63.542647</td>\n",
       "      <td>64.071662</td>\n",
       "      <td>63.143069</td>\n",
       "      <td>...</td>\n",
       "      <td>64.764344</td>\n",
       "      <td>64.552681</td>\n",
       "      <td>64.255366</td>\n",
       "      <td>63.740216</td>\n",
       "      <td>62.691886</td>\n",
       "      <td>61.791478</td>\n",
       "      <td>-0.023934</td>\n",
       "      <td>-3.400322</td>\n",
       "      <td>5.529528</td>\n",
       "      <td>MMM</td>\n",
       "    </tr>\n",
       "    <tr>\n",
       "      <th>15</th>\n",
       "      <td>2012</td>\n",
       "      <td>16</td>\n",
       "      <td>87.0520</td>\n",
       "      <td>87.516</td>\n",
       "      <td>86.4620</td>\n",
       "      <td>86.764</td>\n",
       "      <td>2587640.0</td>\n",
       "      <td>64.498431</td>\n",
       "      <td>64.842218</td>\n",
       "      <td>64.061290</td>\n",
       "      <td>...</td>\n",
       "      <td>65.100798</td>\n",
       "      <td>64.764344</td>\n",
       "      <td>64.552681</td>\n",
       "      <td>64.255366</td>\n",
       "      <td>63.740216</td>\n",
       "      <td>62.691886</td>\n",
       "      <td>-0.007276</td>\n",
       "      <td>-0.696018</td>\n",
       "      <td>-0.795308</td>\n",
       "      <td>MMM</td>\n",
       "    </tr>\n",
       "    <tr>\n",
       "      <th>16</th>\n",
       "      <td>2012</td>\n",
       "      <td>17</td>\n",
       "      <td>88.6200</td>\n",
       "      <td>89.070</td>\n",
       "      <td>88.0320</td>\n",
       "      <td>88.568</td>\n",
       "      <td>3360580.0</td>\n",
       "      <td>65.660192</td>\n",
       "      <td>65.993605</td>\n",
       "      <td>65.224531</td>\n",
       "      <td>...</td>\n",
       "      <td>64.971137</td>\n",
       "      <td>65.100798</td>\n",
       "      <td>64.764344</td>\n",
       "      <td>64.552681</td>\n",
       "      <td>64.255366</td>\n",
       "      <td>63.740216</td>\n",
       "      <td>0.028098</td>\n",
       "      <td>-4.861947</td>\n",
       "      <td>5.985371</td>\n",
       "      <td>MMM</td>\n",
       "    </tr>\n",
       "    <tr>\n",
       "      <th>17</th>\n",
       "      <td>2012</td>\n",
       "      <td>18</td>\n",
       "      <td>89.3080</td>\n",
       "      <td>89.618</td>\n",
       "      <td>88.7520</td>\n",
       "      <td>89.242</td>\n",
       "      <td>2326940.0</td>\n",
       "      <td>66.169943</td>\n",
       "      <td>66.399628</td>\n",
       "      <td>65.757993</td>\n",
       "      <td>...</td>\n",
       "      <td>63.865687</td>\n",
       "      <td>64.971137</td>\n",
       "      <td>65.100798</td>\n",
       "      <td>64.764344</td>\n",
       "      <td>64.552681</td>\n",
       "      <td>64.255366</td>\n",
       "      <td>0.004092</td>\n",
       "      <td>-0.854351</td>\n",
       "      <td>-0.824278</td>\n",
       "      <td>MMM</td>\n",
       "    </tr>\n",
       "  </tbody>\n",
       "</table>\n",
       "<p>5 rows × 33 columns</p>\n",
       "</div>"
      ],
      "text/plain": [
       "    year  week    close    high      low    open     volume   adjclose  \\\n",
       "13  2012    14  88.2825  88.600  87.5950  88.345  1490621.5  65.410132   \n",
       "14  2012    15  85.7620  86.476  85.2227  85.998  2639420.0  63.542647   \n",
       "15  2012    16  87.0520  87.516  86.4620  86.764  2587640.0  64.498431   \n",
       "16  2012    17  88.6200  89.070  88.0320  88.568  3360580.0  65.660192   \n",
       "17  2012    18  89.3080  89.618  88.7520  89.242  2326940.0  66.169943   \n",
       "\n",
       "      adjhigh     adjlow  ...          8          9         10         11  \\\n",
       "13  65.645373  64.900750  ...  64.552681  64.255366  63.740216  62.691886   \n",
       "14  64.071662  63.143069  ...  64.764344  64.552681  64.255366  63.740216   \n",
       "15  64.842218  64.061290  ...  65.100798  64.764344  64.552681  64.255366   \n",
       "16  65.993605  65.224531  ...  64.971137  65.100798  64.764344  64.552681   \n",
       "17  66.399628  65.757993  ...  63.865687  64.971137  65.100798  64.764344   \n",
       "\n",
       "           12         13        d1        d2        d3  ticker  \n",
       "13  61.791478  63.318207  0.009971 -0.520761  1.488143     MMM  \n",
       "14  62.691886  61.791478 -0.023934 -3.400322  5.529528     MMM  \n",
       "15  63.740216  62.691886 -0.007276 -0.696018 -0.795308     MMM  \n",
       "16  64.255366  63.740216  0.028098 -4.861947  5.985371     MMM  \n",
       "17  64.552681  64.255366  0.004092 -0.854351 -0.824278     MMM  \n",
       "\n",
       "[5 rows x 33 columns]"
      ]
     },
     "execution_count": 8,
     "metadata": {},
     "output_type": "execute_result"
    }
   ],
   "source": [
    "final_data.head()"
   ]
  },
  {
   "cell_type": "code",
   "execution_count": null,
   "id": "5e6f48f8",
   "metadata": {
    "scrolled": true
   },
   "outputs": [
    {
     "name": "stderr",
     "output_type": "stream",
     "text": [
      " 56%|████████████████████████████████████████▏                               | 277/497 [26:09<23:09,  6.32s/it]"
     ]
    }
   ],
   "source": [
    "start_year = 2023\n",
    "end_year = 2024\n",
    "training_years = 4\n",
    "speculation_db.connect()\n",
    "for year in range(start_year,end_year):\n",
    "    for ticker in tqdm(sp5[\"Symbol\"]):\n",
    "        try:\n",
    "            ticker_data = final_data[final_data[\"ticker\"]==ticker]\n",
    "            factors = [str(i) for i in range(14)]\n",
    "            training_data = ticker_data[(ticker_data[\"year\"]<year) & (ticker_data[\"year\"]>=year-training_years)].reset_index(drop=True)\n",
    "            prediction_data = ticker_data[ticker_data[\"year\"]==year]\n",
    "            if training_data.index.size > 100:\n",
    "                refined_data = {\"X\":training_data[factors],\"y\":training_data[[\"adjclose\"]].rename(columns={\"adjclose\":\"y\"})}\n",
    "                models = m.regression(refined_data)\n",
    "                models[\"model\"] = [pickle.dumps(x) for x in models[\"model\"]]\n",
    "                models[\"ticker\"] = ticker\n",
    "                models[\"year\"] = year\n",
    "                models[\"training_years\"] = training_years\n",
    "                speculation_db.store(\"models\",models)\n",
    "            else:\n",
    "                continue\n",
    "        except Exception as e:\n",
    "            print(year,ticker,str(e))\n",
    "speculation_db.disconnect()"
   ]
  },
  {
   "cell_type": "code",
   "execution_count": 10,
   "id": "9f1a477f",
   "metadata": {},
   "outputs": [
    {
     "name": "stderr",
     "output_type": "stream",
     "text": [
      " 13%|██████████████████████▊                                                                                                                                                  | 68/505 [00:03<00:24, 17.69it/s]"
     ]
    },
    {
     "name": "stdout",
     "output_type": "stream",
     "text": [
      "strategy_speculation predictions documents must be a non-empty list\n"
     ]
    },
    {
     "name": "stderr",
     "output_type": "stream",
     "text": [
      " 17%|████████████████████████████▍                                                                                                                                            | 85/505 [00:04<00:23, 18.00it/s]"
     ]
    },
    {
     "name": "stdout",
     "output_type": "stream",
     "text": [
      "strategy_speculation predictions documents must be a non-empty list\n"
     ]
    },
    {
     "name": "stderr",
     "output_type": "stream",
     "text": [
      " 99%|█████████████████████████████████████████████████████████████████████████████████████████████████████████████████████████████████████████████████████████████████████▋  | 498/505 [00:29<00:00, 16.97it/s]"
     ]
    },
    {
     "name": "stdout",
     "output_type": "stream",
     "text": [
      "2022 WLTW Found array with 0 sample(s) (shape=(0, 14)) while a minimum of 1 is required.\n"
     ]
    },
    {
     "name": "stderr",
     "output_type": "stream",
     "text": [
      "100%|████████████████████████████████████████████████████████████████████████████████████████████████████████████████████████████████████████████████████████████████████████| 505/505 [00:29<00:00, 17.01it/s]"
     ]
    },
    {
     "name": "stdout",
     "output_type": "stream",
     "text": [
      "strategy_speculation predictions documents must be a non-empty list\n",
      "strategy_speculation predictions documents must be a non-empty list\n",
      "strategy_speculation predictions documents must be a non-empty list\n",
      "strategy_speculation predictions documents must be a non-empty list\n"
     ]
    },
    {
     "name": "stderr",
     "output_type": "stream",
     "text": [
      "\n"
     ]
    }
   ],
   "source": [
    "speculation_db.connect()\n",
    "models = speculation_db.retrieve(\"models\")\n",
    "models[\"model\"] = [pickle.loads(x) for x in models[\"model\"]]\n",
    "for year in range(start_year,end_year):\n",
    "    for ticker in tqdm(sp5[\"Symbol\"]):\n",
    "        try:\n",
    "            ticker_data = final_data[final_data[\"ticker\"]==ticker]\n",
    "            factors = [str(i) for i in range(14)]\n",
    "            prediction_data = ticker_data[ticker_data[\"year\"]==year]\n",
    "            ticker_model_data = models[(models[\"ticker\"]==ticker) & (models[\"year\"]==year) & (models[\"training_years\"]==training_years)]\n",
    "            for row in ticker_model_data.iterrows():\n",
    "                model = row[1][\"model\"]\n",
    "                api = row[1][\"api\"]\n",
    "                score = row[1][\"score\"]\n",
    "                prediction_data[f\"{api}_prediction\"] = model.predict(prediction_data[factors])\n",
    "                prediction_data[f\"{api}_score\"] = score\n",
    "            included_columns = [\"year\",\"week\",\"ticker\"]\n",
    "            included_columns.extend([x for x in prediction_data.columns if \"score\" in x or \"prediction\" in x])\n",
    "            speculation_db.store(\"predictions\",prediction_data[included_columns].tail(1))\n",
    "        except Exception as e:\n",
    "            print(year,ticker,str(e))\n",
    "speculation_db.disconnect()"
   ]
  },
  {
   "cell_type": "code",
   "execution_count": 11,
   "id": "91b98268",
   "metadata": {},
   "outputs": [],
   "source": [
    "speculation_db.connect()\n",
    "predictions = speculation_db.retrieve(\"predictions\")\n",
    "speculation_db.disconnect()"
   ]
  },
  {
   "cell_type": "code",
   "execution_count": null,
   "id": "f942393d",
   "metadata": {},
   "outputs": [],
   "source": [
    "snapshot = prices.merge(predictions,on=[\"year\",\"week\",\"ticker\"])\n",
    "todays = snapshot[snapshot[\"date\"]==snapshot[\"date\"].max()]\n",
    "todays[\"prediction\"] = (todays[\"skl_prediction\"] + todays[\"xgb_prediction\"] + todays[\"cat_prediction\"]) / 3\n",
    "todays[\"delta\"] = (todays[\"prediction\"] - todays[\"adjclose\"]) / todays[\"adjclose\"]"
   ]
  },
  {
   "cell_type": "code",
   "execution_count": null,
   "id": "0f1e05cd",
   "metadata": {},
   "outputs": [],
   "source": [
    "todays[[\"date\",\"delta\",\"adjclose\",\"ticker\"]].sort_values(\"delta\",ascending=False).head(20).dropna()"
   ]
  }
 ],
 "metadata": {
  "kernelspec": {
   "display_name": "Python 3 (ipykernel)",
   "language": "python",
   "name": "python3"
  },
  "language_info": {
   "codemirror_mode": {
    "name": "ipython",
    "version": 3
   },
   "file_extension": ".py",
   "mimetype": "text/x-python",
   "name": "python",
   "nbconvert_exporter": "python",
   "pygments_lexer": "ipython3",
   "version": "3.10.5"
  }
 },
 "nbformat": 4,
 "nbformat_minor": 5
}
