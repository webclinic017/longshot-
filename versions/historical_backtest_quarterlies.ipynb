{
 "cells": [
  {
   "cell_type": "code",
   "execution_count": 1,
   "id": "aa80f443",
   "metadata": {
    "scrolled": true
   },
   "outputs": [],
   "source": [
    "from backtester.quarterly_backtester import QuarterlyBacktester\n",
    "from datetime import datetime"
   ]
  },
  {
   "cell_type": "code",
   "execution_count": 2,
   "id": "b38d4176",
   "metadata": {
    "scrolled": true
   },
   "outputs": [],
   "source": [
    "start_date = datetime(2020,1,1)\n",
    "end_date = datetime(2023,1,1)\n",
    "positions = 10\n",
    "current = False\n",
    "strats = [\"financial\",\"dividends\",\"earnings\"]\n",
    "    b = QuarterlyBacktester(strats,current,positions,start_date,end_date)"
   ]
  },
  {
   "cell_type": "code",
   "execution_count": 4,
   "id": "65a02b57",
   "metadata": {},
   "outputs": [
    {
     "name": "stderr",
     "output_type": "stream",
     "text": [
      "100%|██████████████████████████████████████████████████████████████████████████████████████████████████████████████████████████████████████████████████████████| 10/10 [00:02<00:00,  3.49it/s]\n"
     ]
    }
   ],
   "source": [
    "price_returns = b.stock_returns()"
   ]
  },
  {
   "cell_type": "code",
   "execution_count": 5,
   "id": "af7d6612",
   "metadata": {},
   "outputs": [],
   "source": [
    "sims = b.pull_sims()"
   ]
  },
  {
   "cell_type": "code",
   "execution_count": 6,
   "id": "a61c6b3e",
   "metadata": {},
   "outputs": [],
   "source": [
    "sim = b.create_sim(sims,price_returns)"
   ]
  },
  {
   "cell_type": "code",
   "execution_count": 7,
   "id": "ea5d2fb1",
   "metadata": {},
   "outputs": [],
   "source": [
    "sim.sort_values([\"year\",\"quarter\"],inplace=True)"
   ]
  },
  {
   "cell_type": "code",
   "execution_count": 8,
   "id": "7710948a",
   "metadata": {
    "scrolled": true
   },
   "outputs": [],
   "source": [
    "parameters = b.create_parameters()"
   ]
  },
  {
   "cell_type": "code",
   "execution_count": 9,
   "id": "5b25c25d",
   "metadata": {},
   "outputs": [
    {
     "data": {
      "text/plain": [
       "12"
      ]
     },
     "execution_count": 9,
     "metadata": {},
     "output_type": "execute_result"
    }
   ],
   "source": [
    "len(parameters)"
   ]
  },
  {
   "cell_type": "code",
   "execution_count": 10,
   "id": "3ed60da2",
   "metadata": {},
   "outputs": [],
   "source": [
    "parameter = parameters[0]"
   ]
  },
  {
   "cell_type": "code",
   "execution_count": 11,
   "id": "46d149ee",
   "metadata": {},
   "outputs": [
    {
     "name": "stderr",
     "output_type": "stream",
     "text": [
      "100%|██████████████████████████████████████████████████████████████████████████████████████████████████████████████████████████████████████████████████████████| 12/12 [00:00<00:00, 28.97it/s]\n"
     ]
    }
   ],
   "source": [
    "b.backtest(parameters,sim,price_returns)"
   ]
  }
 ],
 "metadata": {
  "kernelspec": {
   "display_name": "Python 3 (ipykernel)",
   "language": "python",
   "name": "python3"
  },
  "language_info": {
   "codemirror_mode": {
    "name": "ipython",
    "version": 3
   },
   "file_extension": ".py",
   "mimetype": "text/x-python",
   "name": "python",
   "nbconvert_exporter": "python",
   "pygments_lexer": "ipython3",
   "version": "3.10.5"
  }
 },
 "nbformat": 4,
 "nbformat_minor": 5
}
