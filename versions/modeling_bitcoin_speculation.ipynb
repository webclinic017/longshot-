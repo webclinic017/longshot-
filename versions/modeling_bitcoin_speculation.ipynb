{
 "cells": [
  {
   "cell_type": "code",
   "execution_count": 12,
   "id": "aa80f443",
   "metadata": {
    "scrolled": true
   },
   "outputs": [],
   "source": [
    "from datetime import datetime, timedelta\n",
    "import pandas as pd\n",
    "from tqdm import tqdm\n",
    "from modeler.modeler import Modeler as m\n",
    "from processor.processor import Processor as p\n",
    "from database.market import Market\n",
    "from database.adatabase import ADatabase\n",
    "import numpy as np\n",
    "import pickle"
   ]
  },
  {
   "cell_type": "code",
   "execution_count": 5,
   "id": "e5adbebb",
   "metadata": {},
   "outputs": [],
   "source": [
    "market = Market()\n",
    "speculation_db = ADatabase(\"bitcoin_speculation\")"
   ]
  },
  {
   "cell_type": "code",
   "execution_count": 6,
   "id": "ef5ae53c",
   "metadata": {},
   "outputs": [],
   "source": [
    "speculation_db.connect()\n",
    "data = speculation_db.retrieve(\"pdr_data\")\n",
    "speculation_db.disconnect()"
   ]
  },
  {
   "cell_type": "code",
   "execution_count": 8,
   "id": "3d9be390",
   "metadata": {},
   "outputs": [],
   "source": [
    "factors = [str(x) for x in range(14)]\n",
    "factors.append(\"adjclose\")\n",
    "factors.append(\"d1\")\n",
    "factors.append(\"d2\")\n",
    "factors.append(\"d3\")"
   ]
  },
  {
   "cell_type": "code",
   "execution_count": 13,
   "id": "235a8676",
   "metadata": {
    "scrolled": true
   },
   "outputs": [
    {
     "name": "stderr",
     "output_type": "stream",
     "text": [
      "100%|███████████████████████████████████████████████████████████████████████████████████████████████████████████████████████████████████████████████████████████| 1/1 [00:10<00:00, 10.01s/it]\n"
     ]
    }
   ],
   "source": [
    "sim = []\n",
    "speculation_db.connect()\n",
    "errors = []\n",
    "training_year = 1\n",
    "for training_year in [1,4]:\n",
    "    for year in tqdm(range(start_year,end_year)):\n",
    "        try:\n",
    "            training_data = data[(data[\"year\"]<year) & (data[\"year\"]>=year-training_year)]\n",
    "            training_data.dropna(inplace=True)\n",
    "            training_data.reset_index(drop=True,inplace=True)\n",
    "            prediction_data = data[data[\"year\"]==year].dropna().reset_index()\n",
    "            if training_data.index.size > 100 and prediction_data.index.size > 40:\n",
    "                refined = {\"X\":training_data[factors],\"y\":training_data[\"y\"]}\n",
    "                models = m.regression(refined)\n",
    "                for row in models.iterrows():\n",
    "                    try:\n",
    "                        model = row[1][\"model\"]\n",
    "                        api = row[1][\"api\"]\n",
    "                        score = row[1][\"score\"]\n",
    "                        prediction_data[f\"{api}_prediction\"] = model.predict(prediction_data[factors])\n",
    "                        prediction_data[f\"{api}_score\"] = score \n",
    "                    except Exception as e:\n",
    "                        print(str(e))\n",
    "                included_columns = [\"date\",\"ticker\",\"training_year\"]\n",
    "                included_columns.extend([x for x in prediction_data.columns if \"score\" in x or \"prediction\" in x])\n",
    "                prediction_data[\"training_year\"] = training_year\n",
    "                speculation_db.store(\"pdr_sim\",prediction_data[included_columns])\n",
    "            else:\n",
    "                errors.append([year,training_data.index.size,prediction_data.index.size,\"not_enough_stuff\"])\n",
    "        except Exception as e:\n",
    "            errors.append([year,training_data.index.size,prediction_data.index.size,str(e)])\n",
    "speculation_db.disconnect()"
   ]
  },
  {
   "cell_type": "code",
   "execution_count": 14,
   "id": "c93b608c",
   "metadata": {},
   "outputs": [
    {
     "data": {
      "text/html": [
       "<div>\n",
       "<style scoped>\n",
       "    .dataframe tbody tr th:only-of-type {\n",
       "        vertical-align: middle;\n",
       "    }\n",
       "\n",
       "    .dataframe tbody tr th {\n",
       "        vertical-align: top;\n",
       "    }\n",
       "\n",
       "    .dataframe thead th {\n",
       "        text-align: right;\n",
       "    }\n",
       "</style>\n",
       "<table border=\"1\" class=\"dataframe\">\n",
       "  <thead>\n",
       "    <tr style=\"text-align: right;\">\n",
       "      <th></th>\n",
       "    </tr>\n",
       "  </thead>\n",
       "  <tbody>\n",
       "  </tbody>\n",
       "</table>\n",
       "</div>"
      ],
      "text/plain": [
       "Empty DataFrame\n",
       "Columns: []\n",
       "Index: []"
      ]
     },
     "execution_count": 14,
     "metadata": {},
     "output_type": "execute_result"
    }
   ],
   "source": [
    "pd.DataFrame(errors)"
   ]
  }
 ],
 "metadata": {
  "kernelspec": {
   "display_name": "Python 3 (ipykernel)",
   "language": "python",
   "name": "python3"
  },
  "language_info": {
   "codemirror_mode": {
    "name": "ipython",
    "version": 3
   },
   "file_extension": ".py",
   "mimetype": "text/x-python",
   "name": "python",
   "nbconvert_exporter": "python",
   "pygments_lexer": "ipython3",
   "version": "3.10.5"
  }
 },
 "nbformat": 4,
 "nbformat_minor": 5
}
