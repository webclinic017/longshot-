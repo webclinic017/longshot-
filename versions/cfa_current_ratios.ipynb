{
 "cells": [
  {
   "cell_type": "code",
   "execution_count": 8,
   "id": "85013c4d",
   "metadata": {},
   "outputs": [],
   "source": [
    "import pandas as pd\n",
    "from database.market import Market\n",
    "from database.sec import SEC\n",
    "from tqdm import tqdm\n",
    "from datetime import datetime\n",
    "import matplotlib.pyplot as plt\n",
    "from processor.processor import Processor as p\n",
    "import re"
   ]
  },
  {
   "cell_type": "code",
   "execution_count": 9,
   "id": "f7e8d9e4",
   "metadata": {},
   "outputs": [],
   "source": [
    "market = Market()\n",
    "market.connect()\n",
    "sp5 = market.retrieve(\"sp500\")\n",
    "market.disconnect()"
   ]
  },
  {
   "cell_type": "code",
   "execution_count": 13,
   "id": "96025fcb",
   "metadata": {},
   "outputs": [],
   "source": [
    "sec = SEC()\n",
    "year = 2022\n",
    "quarter = 2"
   ]
  },
  {
   "cell_type": "code",
   "execution_count": 14,
   "id": "bed4e73f",
   "metadata": {},
   "outputs": [],
   "source": [
    "whut=['Assets',\n",
    " 'LiabilitiesAndStockholdersEquity',\n",
    " 'filed',\n",
    " 'year',\n",
    " 'quarter',\n",
    " 'EarningsPerShareBasic',\n",
    " 'EarningsPerShareDiluted',\n",
    " 'StockholdersEquity',\n",
    " 'NetIncomeLoss',\n",
    " 'AssetsCurrent',\n",
    " 'LiabilitiesCurrent']"
   ]
  },
  {
   "cell_type": "code",
   "execution_count": null,
   "id": "7cfb3a84",
   "metadata": {},
   "outputs": [
    {
     "name": "stderr",
     "output_type": "stream",
     "text": [
      "  0%|                                                  | 0/504 [00:00<?, ?it/s]C:\\Users\\eric\\AppData\\Local\\Temp/ipykernel_6480/2644742056.py:10: SettingWithCopyWarning: \n",
      "A value is trying to be set on a copy of a slice from a DataFrame.\n",
      "Try using .loc[row_indexer,col_indexer] = value instead\n",
      "\n",
      "See the caveats in the documentation: https://pandas.pydata.org/pandas-docs/stable/user_guide/indexing.html#returning-a-view-versus-a-copy\n",
      "  aggregated_filings[\"date\"] = [datetime.strptime(str(x),\"%Y%m%d\") for x in filings[\"filed\"]]\n",
      "C:\\Users\\eric\\AppData\\Local\\Temp/ipykernel_6480/2644742056.py:17: SettingWithCopyWarning: \n",
      "A value is trying to be set on a copy of a slice from a DataFrame.\n",
      "Try using .loc[row_indexer,col_indexer] = value instead\n",
      "\n",
      "See the caveats in the documentation: https://pandas.pydata.org/pandas-docs/stable/user_guide/indexing.html#returning-a-view-versus-a-copy\n",
      "  aggregated_filings[\"year\"] = [x.year for x in aggregated_filings[\"date\"]]\n",
      "C:\\Users\\eric\\AppData\\Local\\Temp/ipykernel_6480/2644742056.py:18: SettingWithCopyWarning: \n",
      "A value is trying to be set on a copy of a slice from a DataFrame.\n",
      "Try using .loc[row_indexer,col_indexer] = value instead\n",
      "\n",
      "See the caveats in the documentation: https://pandas.pydata.org/pandas-docs/stable/user_guide/indexing.html#returning-a-view-versus-a-copy\n",
      "  aggregated_filings[\"quarter\"] = [x.quarter for x in aggregated_filings[\"date\"]]\n",
      "  0%|                                          | 1/504 [00:00<01:18,  6.37it/s]C:\\Users\\eric\\AppData\\Local\\Temp/ipykernel_6480/2644742056.py:10: SettingWithCopyWarning: \n",
      "A value is trying to be set on a copy of a slice from a DataFrame.\n",
      "Try using .loc[row_indexer,col_indexer] = value instead\n",
      "\n",
      "See the caveats in the documentation: https://pandas.pydata.org/pandas-docs/stable/user_guide/indexing.html#returning-a-view-versus-a-copy\n",
      "  aggregated_filings[\"date\"] = [datetime.strptime(str(x),\"%Y%m%d\") for x in filings[\"filed\"]]\n"
     ]
    }
   ],
   "source": [
    "market.connect()\n",
    "sec.connect()\n",
    "for ticker in tqdm(sp5[\"Symbol\"]):\n",
    "    try:\n",
    "        cik = sp5[sp5[\"Symbol\"]==ticker][\"CIK\"].item()\n",
    "        filings = sec.retrieve_filing_data(int(cik))\n",
    "        filings.fillna(0,inplace=True)\n",
    "        filing_included_columns = [x for x in filings.columns if x in whut]\n",
    "        aggregated_filings = filings[whut]\n",
    "        aggregated_filings[\"date\"] = [datetime.strptime(str(x),\"%Y%m%d\") for x in filings[\"filed\"]]    \n",
    "        stock_price = market.retrieve_ticker_prices(\"prices\",ticker)\n",
    "        stock_price = p.column_date_processing(stock_price)\n",
    "        stock_price.dtypes\n",
    "        stock_price[\"year\"] = [x.year for x in stock_price[\"date\"]]\n",
    "        stock_price[\"quarter\"] = [x.quarter for x in stock_price[\"date\"]]\n",
    "        stock_price = stock_price.groupby([\"year\",\"quarter\"]).mean().reset_index()\n",
    "        aggregated_filings[\"year\"] = [x.year for x in aggregated_filings[\"date\"]]\n",
    "        aggregated_filings[\"quarter\"] = [x.quarter for x in aggregated_filings[\"date\"]]\n",
    "        ds = aggregated_filings.merge(stock_price[[\"year\",\"quarter\",\"adjclose\"]],on=[\"year\",\"quarter\"])\n",
    "        ds.drop(\"filed\",inplace=True,axis=1)\n",
    "        ds = ds[(ds[\"year\"]==year) & (ds[\"quarter\"]==quarter)]\n",
    "        ds[\"ticker\"] = ticker\n",
    "        market.store(\"high_level_filings\",ds)\n",
    "    except Exception as e:\n",
    "        print(ticker,str(e))\n",
    "market.disconnect()\n",
    "sec.disconnect()"
   ]
  },
  {
   "cell_type": "code",
   "execution_count": null,
   "id": "41bb9d05",
   "metadata": {},
   "outputs": [],
   "source": [
    "ds.corr()"
   ]
  },
  {
   "cell_type": "code",
   "execution_count": null,
   "id": "eac42fac",
   "metadata": {},
   "outputs": [],
   "source": [
    "for col in whut:\n",
    "    try:\n",
    "        x = ds[\"date\"]\n",
    "        y1 = ds[col]/100\n",
    "        y2 = ds[\"adjclose\"]\n",
    "        fig, ax1 = plt.subplots()\n",
    "        ax2 = ax1.twinx()\n",
    "        ax1.plot(x, y1, 'g-')\n",
    "        ax2.plot(x, y2, 'b-')\n",
    "        plt.title(col)\n",
    "        plt.show()\n",
    "    except:\n",
    "        continue"
   ]
  },
  {
   "cell_type": "code",
   "execution_count": null,
   "id": "02022d28",
   "metadata": {},
   "outputs": [],
   "source": []
  }
 ],
 "metadata": {
  "kernelspec": {
   "display_name": "Python 3 (ipykernel)",
   "language": "python",
   "name": "python3"
  },
  "language_info": {
   "codemirror_mode": {
    "name": "ipython",
    "version": 3
   },
   "file_extension": ".py",
   "mimetype": "text/x-python",
   "name": "python",
   "nbconvert_exporter": "python",
   "pygments_lexer": "ipython3",
   "version": "3.10.5"
  }
 },
 "nbformat": 4,
 "nbformat_minor": 5
}
