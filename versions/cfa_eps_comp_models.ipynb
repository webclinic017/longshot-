{
 "cells": [
  {
   "cell_type": "code",
   "execution_count": 2,
   "id": "f17099ef",
   "metadata": {},
   "outputs": [],
   "source": [
    "from database.market import Market\n",
    "import pandas as pd\n",
    "from tqdm import tqdm\n",
    "from datetime import datetime, timedelta\n",
    "from modeler.modeler import Modeler as m\n",
    "from processor.processor import Processor as p\n",
    "from database.adatabase import ADatabase"
   ]
  },
  {
   "cell_type": "code",
   "execution_count": 3,
   "id": "c552f31d",
   "metadata": {},
   "outputs": [],
   "source": [
    "strat = ADatabase(\"cfa\")"
   ]
  },
  {
   "cell_type": "code",
   "execution_count": 4,
   "id": "31aaccd5",
   "metadata": {},
   "outputs": [],
   "source": [
    "market = Market()\n",
    "market.connect()\n",
    "sp500 = market.retrieve(\"sp500\")\n",
    "market.disconnect()"
   ]
  },
  {
   "cell_type": "code",
   "execution_count": null,
   "id": "decf77a8",
   "metadata": {},
   "outputs": [
    {
     "name": "stderr",
     "output_type": "stream",
     "text": [
      "  0%|                                                                                                                                                       | 0/6 [00:00<?, ?it/s]\n",
      "  0%|                                                                                                                                                       | 0/1 [00:00<?, ?it/s]\u001b[A\n",
      "100%|█████████████████████████████████████████████████████████████████████████████████████████████████████████████████████████████████████████████| 1/1 [31:15<00:00, 1875.92s/it]\u001b[A\n",
      " 17%|███████████████████████▏                                                                                                                   | 1/6 [31:16<2:36:20, 1876.03s/it]\n",
      "  0%|                                                                                                                                                       | 0/1 [00:00<?, ?it/s]\u001b[A"
     ]
    },
    {
     "name": "stdout",
     "output_type": "stream",
     "text": [
      "'date'\n",
      "Found array with 0 sample(s) (shape=(0, 29)) while a minimum of 1 is required.\n",
      "Found array with 0 sample(s) (shape=(0, 29)) while a minimum of 1 is required.\n",
      "Found array with 0 sample(s) (shape=(0, 29)) while a minimum of 1 is required.\n",
      "Cannot have number of splits n_splits=5 greater than the number of samples: n_samples=0.\n",
      "Cannot have number of splits n_splits=5 greater than the number of samples: n_samples=0.\n",
      "'str' object has no attribute 'predict'\n",
      "'str' object has no attribute 'predict'\n",
      "'str' object has no attribute 'predict'\n",
      "'skl_prediction'\n",
      "Cannot have number of splits n_splits=5 greater than the number of samples: n_samples=3.\n",
      "Cannot have number of splits n_splits=5 greater than the number of samples: n_samples=3.\n",
      "'str' object has no attribute 'predict'\n",
      "'str' object has no attribute 'predict'\n",
      "'xgb_prediction'\n"
     ]
    },
    {
     "name": "stderr",
     "output_type": "stream",
     "text": [
      "\n",
      "100%|██████████████████████████████████████████████████████████████████████████████████████████████████████████████████████████████████████████████| 1/1 [05:05<00:00, 305.80s/it]\u001b[A\n",
      " 33%|██████████████████████████████████████████████▋                                                                                             | 2/6 [36:21<1:03:29, 952.37s/it]\n",
      "  0%|                                                                                                                                                       | 0/1 [00:00<?, ?it/s]\u001b[A"
     ]
    }
   ],
   "source": [
    "market.connect()\n",
    "for industry in tqdm(sp500[\"GICS Sector\"].unique()[5:]):\n",
    "    industry_tickers = sp500[sp500[\"GICS Sector\"]==industry][\"Symbol\"]\n",
    "    industry_filings = market.retrieve_eps_filings(industry)\n",
    "    for projection_value in tqdm([4]):\n",
    "        start_year = int(2019 - 1)\n",
    "        end_year = 2023 - 1\n",
    "        for ticker in industry_tickers:\n",
    "            try:\n",
    "                ticker_prices = market.retrieve_ticker_prices(\"prices\",ticker)\n",
    "                ticker_prices = p.column_date_processing(ticker_prices)\n",
    "                ticker_prices[\"year\"] = [x.year for x in ticker_prices[\"date\"]]\n",
    "                ticker_prices[\"quarter\"] = [x.quarter for x in ticker_prices[\"date\"]]\n",
    "                quarterlies = ticker_prices.groupby([\"year\",\"quarter\"]).mean().reset_index()\n",
    "                stuff = industry_filings.merge(quarterlies[[\"year\",\"quarter\",\"adjclose\"]],on=[\"year\",\"quarter\"],how=\"left\")\n",
    "                rekt = stuff.copy()\n",
    "                rekt[\"ticker\"]=ticker\n",
    "                rekt[\"y\"] = rekt['adjclose'].shift(-projection_value)\n",
    "                rekt.dropna(inplace=True)\n",
    "                strat.connect()\n",
    "                factors = [x for x in rekt.columns if x not in [\"year\",\"quarter\",\"ticker\",\"date\",\"industry\",\"y\"]]\n",
    "                for training_year in [7]:\n",
    "                    for year in range(start_year,int(end_year)):\n",
    "                        try:\n",
    "                            training_set = rekt[(rekt[\"year\"]<year) & (rekt[\"year\"]>=year-training_year)].reset_index()\n",
    "                            prediction_set = rekt[(rekt[\"year\"]==year)]\n",
    "                            refined = {\"X\":training_set[factors],\"y\":training_set[\"y\"]}\n",
    "                            models = m.regression(refined)\n",
    "                            for row in models.iterrows():\n",
    "                                try:\n",
    "                                    model = row[1][\"model\"]\n",
    "                                    api = row[1][\"api\"]\n",
    "                                    prediction_set[f\"{api}_prediction\"] = model.predict(prediction_set[factors])\n",
    "                                except Exception as e:\n",
    "                                    print(str(e))\n",
    "                            prediction_set[\"prediction\"] = (prediction_set[\"skl_prediction\"] + prediction_set[\"xgb_prediction\"] + prediction_set[\"cat_prediction\"]) / 3\n",
    "                            prediction_set[\"new_quarter\"] = [(row[1][\"quarter\"] + projection_value) % 4 for row in prediction_set.iterrows()]\n",
    "                            prediction_set[\"new_quarter\"] = prediction_set[\"new_quarter\"].replace(0,4)\n",
    "                            prediction_set[\"new_year\"] = [row[1][\"year\"] if row[1][\"quarter\"] + projection_value <=4 \\\n",
    "                                                          else row[1][\"year\"]+ 1 for row in prediction_set.iterrows()]\n",
    "                            prediction_set = prediction_set[[\"new_year\",\"new_quarter\",\"ticker\",\"prediction\"]].rename(columns={\"new_year\":\"year\",\"new_quarter\":\"quarter\"})\n",
    "                            prediction_set[\"training_year\"] = training_year\n",
    "                            prediction_set[\"projection_value\"] = projection_value\n",
    "                            prediction_set = prediction_set.groupby([\"year\",\"quarter\"]).mean().reset_index()\n",
    "                            prediction_set[\"ticker\"] = ticker                        \n",
    "                            strat.store(\"eps_sim\",prediction_set)\n",
    "                        except Exception as e:\n",
    "                            print(str(e))\n",
    "                            continue\n",
    "                strat.disconnect()\n",
    "            except Exception as e:\n",
    "                print(str(e))\n",
    "                continue\n",
    "market.disconnect()"
   ]
  },
  {
   "cell_type": "code",
   "execution_count": null,
   "id": "339f446f",
   "metadata": {},
   "outputs": [],
   "source": [
    "prediction_set"
   ]
  }
 ],
 "metadata": {
  "kernelspec": {
   "display_name": "Python 3 (ipykernel)",
   "language": "python",
   "name": "python3"
  },
  "language_info": {
   "codemirror_mode": {
    "name": "ipython",
    "version": 3
   },
   "file_extension": ".py",
   "mimetype": "text/x-python",
   "name": "python",
   "nbconvert_exporter": "python",
   "pygments_lexer": "ipython3",
   "version": "3.10.5"
  }
 },
 "nbformat": 4,
 "nbformat_minor": 5
}
