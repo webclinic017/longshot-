{
 "cells": [
  {
   "cell_type": "code",
   "execution_count": 11,
   "id": "5a24d11e",
   "metadata": {},
   "outputs": [],
   "source": [
    "import pandas as pd\n",
    "from database.market import Market\n",
    "from database.sec import SEC\n",
    "from database.adatabase import ADatabase\n",
    "from processor.processor import Processor as p\n",
    "from datetime import datetime\n",
    "from tqdm import tqdm\n",
    "import numpy as np\n",
    "from modeler_strats.universal_modeler import UniversalModeler\n",
    "import pickle"
   ]
  },
  {
   "cell_type": "code",
   "execution_count": 12,
   "id": "39ee7553",
   "metadata": {},
   "outputs": [],
   "source": [
    "current_year = 2023"
   ]
  },
  {
   "cell_type": "code",
   "execution_count": 13,
   "id": "1f7fc22a",
   "metadata": {},
   "outputs": [],
   "source": [
    "market = Market()\n",
    "sec = SEC()\n",
    "spec = ADatabase(\"earnings\")\n",
    "umod = UniversalModeler()"
   ]
  },
  {
   "cell_type": "code",
   "execution_count": 14,
   "id": "b0c57b4d",
   "metadata": {},
   "outputs": [],
   "source": [
    "market.connect()\n",
    "sp500 = market.retrieve(\"sp500\")\n",
    "market.disconnect()\n",
    "sp500 = sp500.rename(columns={\"Symbol\":\"ticker\"})"
   ]
  },
  {
   "cell_type": "code",
   "execution_count": 15,
   "id": "983a4ac6",
   "metadata": {},
   "outputs": [],
   "source": [
    "factors = ['assets',\n",
    " 'liabilitiesandstockholdersequity',\n",
    " 'incometaxexpensebenefit',\n",
    " 'retainedearningsaccumulateddeficit',\n",
    " 'accumulatedothercomprehensiveincomelossnetoftax',\n",
    " 'earningspersharebasic',\n",
    " 'earningspersharediluted',\n",
    " 'propertyplantandequipmentnet',\n",
    " 'cashandcashequivalentsatcarryingvalue',\n",
    " 'entitycommonstocksharesoutstanding',\n",
    " 'weightedaveragenumberofdilutedsharesoutstanding',\n",
    " 'weightedaveragenumberofsharesoutstandingbasic',\n",
    " 'stockholdersequity']"
   ]
  },
  {
   "cell_type": "code",
   "execution_count": 16,
   "id": "06e0c3f1",
   "metadata": {},
   "outputs": [],
   "source": [
    "included_columns=[\n",
    "    \"year\",\n",
    "    \"week\",\n",
    "    \"ticker\",\n",
    "    \"adjclose\",\n",
    "    \"y\"\n",
    "]"
   ]
  },
  {
   "cell_type": "code",
   "execution_count": 17,
   "id": "c552e7c0",
   "metadata": {},
   "outputs": [],
   "source": [
    "included_columns.extend(factors)"
   ]
  },
  {
   "cell_type": "code",
   "execution_count": 18,
   "id": "fb51d227",
   "metadata": {},
   "outputs": [],
   "source": [
    "training_sets = []"
   ]
  },
  {
   "cell_type": "code",
   "execution_count": 20,
   "id": "c551e792",
   "metadata": {
    "scrolled": true
   },
   "outputs": [
    {
     "name": "stdout",
     "output_type": "stream",
     "text": [
      "ACN \"['entitycommonstocksharesoutstanding'] not in index\"\n",
      "ADM \"['stockholdersequity'] not in index\"\n",
      "ARE \"['incometaxexpensebenefit'] not in index\"\n",
      "ALL \"['cashandcashequivalentsatcarryingvalue'] not in index\"\n",
      "GOOGL \"['weightedaveragenumberofdilutedsharesoutstanding', 'weightedaveragenumberofsharesoutstandingbasic'] not in index\"\n",
      "AXP \"['cashandcashequivalentsatcarryingvalue'] not in index\"\n",
      "AIG \"['cashandcashequivalentsatcarryingvalue'] not in index\"\n",
      "AJG \"['weightedaveragenumberofdilutedsharesoutstanding'] not in index\"\n",
      "T \"['stockholdersequity'] not in index\"\n",
      "AVB \"['propertyplantandequipmentnet'] not in index\"\n",
      "BKR \"['weightedaveragenumberofsharesoutstandingbasic'] not in index\"\n",
      "BIO \"['entitycommonstocksharesoutstanding'] not in index\"\n",
      "BXP \"['incometaxexpensebenefit', 'propertyplantandequipmentnet'] not in index\"\n",
      "BSX \"['stockholdersequity'] not in index\"\n",
      "CPT \"['incometaxexpensebenefit', 'retainedearningsaccumulateddeficit', 'propertyplantandequipmentnet'] not in index\"\n",
      "COF \"['cashandcashequivalentsatcarryingvalue'] not in index\"\n",
      "KMX \"['stockholdersequity'] not in index\"\n",
      "CAT \"['stockholdersequity'] not in index\"\n",
      "CI \"['weightedaveragenumberofsharesoutstandingbasic'] not in index\"\n",
      "C \"['propertyplantandequipmentnet'] not in index\"\n",
      "CME \"['entitycommonstocksharesoutstanding'] not in index\"\n",
      "CMCSA \"['entitycommonstocksharesoutstanding'] not in index\"\n",
      "CMA \"['stockholdersequity'] not in index\"\n",
      "STZ 'earningspersharebasic'\n",
      "CSX \"['stockholdersequity'] not in index\"\n",
      "DLR \"['propertyplantandequipmentnet'] not in index\"\n",
      "DISH \"['entitycommonstocksharesoutstanding'] not in index\"\n",
      "EPAM \"['retainedearningsaccumulateddeficit'] not in index\"\n",
      "EQR \"['propertyplantandequipmentnet'] not in index\"\n",
      "ESS \"['retainedearningsaccumulateddeficit', 'propertyplantandequipmentnet'] not in index\"\n",
      "EL \"['entitycommonstocksharesoutstanding'] not in index\"\n",
      "RE \"['propertyplantandequipmentnet'] not in index\"\n",
      "ES \"['propertyplantandequipmentnet'] not in index\"\n",
      "EXPE \"['entitycommonstocksharesoutstanding'] not in index\"\n",
      "FFIV \"['stockholdersequity'] not in index\"\n",
      "FRT \"['incometaxexpensebenefit', 'retainedearningsaccumulateddeficit', 'propertyplantandequipmentnet'] not in index\"\n",
      "FITB \"['cashandcashequivalentsatcarryingvalue'] not in index\"\n",
      "F \"['entitycommonstocksharesoutstanding'] not in index\"\n",
      "GL \"['propertyplantandequipmentnet'] not in index\"\n",
      "HIG \"['cashandcashequivalentsatcarryingvalue'] not in index\"\n",
      "PEAK \"['retainedearningsaccumulateddeficit', 'propertyplantandequipmentnet'] not in index\"\n",
      "HSY 'earningspersharebasic'\n",
      "HRL \"['entitycommonstocksharesoutstanding'] not in index\"\n",
      "ITW \"['stockholdersequity'] not in index\"\n",
      "JBHT \"['accumulatedothercomprehensiveincomelossnetoftax'] not in index\"\n",
      "JKHY \"['accumulatedothercomprehensiveincomelossnetoftax'] not in index\"\n",
      "JNJ \"['stockholdersequity'] not in index\"\n",
      "KEY \"['cashandcashequivalentsatcarryingvalue'] not in index\"\n",
      "KIM \"['propertyplantandequipmentnet'] not in index\"\n",
      "LEN \"['entitycommonstocksharesoutstanding'] not in index\"\n",
      "LNC \"['propertyplantandequipmentnet'] not in index\"\n",
      "L \"['cashandcashequivalentsatcarryingvalue'] not in index\"\n",
      "MA \"['entitycommonstocksharesoutstanding'] not in index\"\n",
      "MKC \"['entitycommonstocksharesoutstanding'] not in index\"\n",
      "META \"['entitycommonstocksharesoutstanding'] not in index\"\n",
      "MET \"['propertyplantandequipmentnet'] not in index\"\n",
      "MAA \"['retainedearningsaccumulateddeficit', 'propertyplantandequipmentnet'] not in index\"\n",
      "TAP \"['entitycommonstocksharesoutstanding'] not in index\"\n",
      "MNST 'earningspersharebasic'\n",
      "NWSA \"['entitycommonstocksharesoutstanding'] not in index\"\n",
      "NTRS \"['cashandcashequivalentsatcarryingvalue'] not in index\"\n",
      "NRG \"['stockholdersequity'] not in index\"\n",
      "NVR \"['accumulatedothercomprehensiveincomelossnetoftax', 'propertyplantandequipmentnet'] not in index\"\n",
      "ODFL \"['accumulatedothercomprehensiveincomelossnetoftax'] not in index\"\n",
      "PARA \"['entitycommonstocksharesoutstanding'] not in index\"\n",
      "PXD \"['accumulatedothercomprehensiveincomelossnetoftax'] not in index\"\n",
      "PNC \"['cashandcashequivalentsatcarryingvalue'] not in index\"\n",
      "PG \"['stockholdersequity'] not in index\"\n",
      "PGR \"['cashandcashequivalentsatcarryingvalue'] not in index\"\n",
      "PEG \"['propertyplantandequipmentnet'] not in index\"\n",
      "PSA \"['propertyplantandequipmentnet'] not in index\"\n",
      "RL \"['entitycommonstocksharesoutstanding'] not in index\"\n",
      "O \"['retainedearningsaccumulateddeficit', 'propertyplantandequipmentnet'] not in index\"\n",
      "REG \"['retainedearningsaccumulateddeficit'] not in index\"\n",
      "SPG \"['propertyplantandequipmentnet', 'entitycommonstocksharesoutstanding'] not in index\"\n",
      "STT \"['cashandcashequivalentsatcarryingvalue'] not in index\"\n",
      "SYF \"['accumulatedothercomprehensiveincomelossnetoftax', 'propertyplantandequipmentnet'] not in index\"\n",
      "SYY \"['retainedearningsaccumulateddeficit'] not in index\"\n",
      "TROW \"['retainedearningsaccumulateddeficit'] not in index\"\n",
      "TRV \"['propertyplantandequipmentnet', 'cashandcashequivalentsatcarryingvalue'] not in index\"\n",
      "TFC \"['stockholdersequity'] not in index\"\n",
      "TSN 'earningspersharebasic'\n",
      "UDR \"['retainedearningsaccumulateddeficit', 'propertyplantandequipmentnet'] not in index\"\n",
      "UAA \"['entitycommonstocksharesoutstanding'] not in index\"\n",
      "UPS \"['entitycommonstocksharesoutstanding'] not in index\"\n",
      "UHS \"['entitycommonstocksharesoutstanding'] not in index\"\n",
      "VTR \"['propertyplantandequipmentnet'] not in index\"\n",
      "V 'earningspersharebasic'\n",
      "VNO \"['propertyplantandequipmentnet'] not in index\"\n",
      "WFC \"['cashandcashequivalentsatcarryingvalue'] not in index\"\n",
      "WELL \"['propertyplantandequipmentnet'] not in index\"\n",
      "ZION \"['cashandcashequivalentsatcarryingvalue'] not in index\"\n"
     ]
    }
   ],
   "source": [
    "sec.connect()\n",
    "market.connect()\n",
    "for ticker in sp500[\"ticker\"].unique():\n",
    "    try:\n",
    "        cik = int(sp500[sp500[\"ticker\"]==ticker][\"CIK\"])\n",
    "        prices = market.retrieve_ticker_prices(\"prices\",ticker)\n",
    "        prices = p.column_date_processing(prices)\n",
    "        prices[\"year\"] = [x.year for x in prices[\"date\"]]\n",
    "        prices[\"quarter\"] = [x.quarter for x in prices[\"date\"]]\n",
    "        filing = sec.retrieve_filing_data(cik)\n",
    "        filing = p.column_date_processing(filing)\n",
    "        filing = filing.groupby([\"year\",\"quarter\"]).mean().reset_index()\n",
    "        ticker_data = prices.copy()\n",
    "        ticker_data.sort_values(\"date\",ascending=True,inplace=True)\n",
    "        ticker_data[\"adjclose\"] = [float(x) for x in ticker_data[\"adjclose\"]]\n",
    "        ticker_data = ticker_data.groupby([\"year\",\"quarter\"]).mean().reset_index()\n",
    "        ticker_data.dropna(inplace=True)\n",
    "        ticker_data[\"ticker\"] = ticker\n",
    "        ticker_data = ticker_data.merge(filing,on=[\"year\",\"quarter\"],how=\"left\").reset_index()\n",
    "        ticker_data[\"y\"] = ticker_data[\"earningspersharebasic\"].shift(-4)\n",
    "        ticker_data = ticker_data[included_columns]\n",
    "        training_sets.append(ticker_data)\n",
    "    except Exception as e:\n",
    "        print(ticker,str(e))\n",
    "sec.disconnect()\n",
    "market.disconnect()"
   ]
  },
  {
   "cell_type": "code",
   "execution_count": 21,
   "id": "0ea5d66b",
   "metadata": {},
   "outputs": [],
   "source": [
    "data = pd.concat(training_sets)"
   ]
  },
  {
   "cell_type": "code",
   "execution_count": 22,
   "id": "736f208f",
   "metadata": {},
   "outputs": [],
   "source": [
    "data = data.dropna()"
   ]
  },
  {
   "cell_type": "code",
   "execution_count": 24,
   "id": "23ad6193",
   "metadata": {},
   "outputs": [
    {
     "name": "stderr",
     "output_type": "stream",
     "text": [
      "100%|█████████████████████████████████████████████████████████████████████████████████████████████████████████████████████████████████████████████████████████████████████████████| 1/1 [00:10<00:00, 10.51s/it]\n"
     ]
    }
   ],
   "source": [
    "spec.connect()\n",
    "for modeler in [umod]:\n",
    "    for year in tqdm(range(current_year,current_year+1)):\n",
    "        training_slice = data[(data[\"year\"]<year) & (data[\"year\"] >= year - 4)].reset_index(drop=True)\n",
    "        set_name = \"models\"\n",
    "        stuff = modeler.recommend_model(training_slice,factors,tf=False)\n",
    "spec.disconnect()"
   ]
  },
  {
   "cell_type": "code",
   "execution_count": 25,
   "id": "a454f7ac",
   "metadata": {},
   "outputs": [],
   "source": [
    "stuff[\"model\"] = [pickle.dumps(x) for x in stuff[\"model\"]]"
   ]
  },
  {
   "cell_type": "code",
   "execution_count": 26,
   "id": "5aea7679",
   "metadata": {},
   "outputs": [],
   "source": [
    "spec.connect()\n",
    "models = spec.store(\"models\",stuff)\n",
    "spec.disconnect()"
   ]
  }
 ],
 "metadata": {
  "kernelspec": {
   "display_name": "Python 3 (ipykernel)",
   "language": "python",
   "name": "python3"
  },
  "language_info": {
   "codemirror_mode": {
    "name": "ipython",
    "version": 3
   },
   "file_extension": ".py",
   "mimetype": "text/x-python",
   "name": "python",
   "nbconvert_exporter": "python",
   "pygments_lexer": "ipython3",
   "version": "3.10.5"
  }
 },
 "nbformat": 4,
 "nbformat_minor": 5
}
