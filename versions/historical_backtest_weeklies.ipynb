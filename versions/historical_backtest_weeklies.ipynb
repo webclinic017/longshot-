{
 "cells": [
  {
   "cell_type": "code",
   "execution_count": 1,
   "id": "aa80f443",
   "metadata": {
    "scrolled": true
   },
   "outputs": [],
   "source": [
    "from backtester.weekly_backtester import WeeklyBacktester\n",
    "from datetime import datetime"
   ]
  },
  {
   "cell_type": "code",
   "execution_count": 2,
   "id": "b38d4176",
   "metadata": {
    "scrolled": true
   },
   "outputs": [],
   "source": [
    "start_date = datetime(2020,1,1)\n",
    "end_date = datetime(2023,1,1)\n",
    "positions = 20\n",
    "strats = [\"spec\",\"rolling\",\"window\"]\n",
    "current = False"
   ]
  },
  {
   "cell_type": "code",
   "execution_count": 3,
   "id": "e5adbebb",
   "metadata": {},
   "outputs": [],
   "source": [
    "b = WeeklyBacktester(strat_class,current,positions,start_date,end_date)"
   ]
  },
  {
   "cell_type": "code",
   "execution_count": 4,
   "id": "aecca194",
   "metadata": {},
   "outputs": [
    {
     "name": "stderr",
     "output_type": "stream",
     "text": [
      "100%|██████████████████████████████████████████████████████████████████████████████████████████████████████████████████████████████████████████████████████████| 10/10 [00:00<00:00, 11.13it/s]\n"
     ]
    }
   ],
   "source": [
    "price_returns = b.stock_returns()"
   ]
  },
  {
   "cell_type": "code",
   "execution_count": 5,
   "id": "7710948a",
   "metadata": {
    "scrolled": true
   },
   "outputs": [],
   "source": [
    "parameters = b.create_parameters()"
   ]
  },
  {
   "cell_type": "code",
   "execution_count": 6,
   "id": "4067fa09",
   "metadata": {},
   "outputs": [
    {
     "ename": "TypeError",
     "evalue": "WeeklyBacktester.create_sim() missing 2 required positional arguments: 'sims' and 'price_returns'",
     "output_type": "error",
     "traceback": [
      "\u001b[1;31m---------------------------------------------------------------------------\u001b[0m",
      "\u001b[1;31mTypeError\u001b[0m                                 Traceback (most recent call last)",
      "\u001b[1;32m~\\AppData\\Local\\Temp/ipykernel_4144/1630515315.py\u001b[0m in \u001b[0;36m<module>\u001b[1;34m\u001b[0m\n\u001b[1;32m----> 1\u001b[1;33m \u001b[0msims\u001b[0m \u001b[1;33m=\u001b[0m \u001b[0mb\u001b[0m\u001b[1;33m.\u001b[0m\u001b[0mcreate_sim\u001b[0m\u001b[1;33m(\u001b[0m\u001b[1;33m)\u001b[0m\u001b[1;33m\u001b[0m\u001b[1;33m\u001b[0m\u001b[0m\n\u001b[0m",
      "\u001b[1;31mTypeError\u001b[0m: WeeklyBacktester.create_sim() missing 2 required positional arguments: 'sims' and 'price_returns'"
     ]
    }
   ],
   "source": [
    "sims = b.pull"
   ]
  },
  {
   "cell_type": "code",
   "execution_count": 15,
   "id": "40c956bc",
   "metadata": {},
   "outputs": [
    {
     "name": "stderr",
     "output_type": "stream",
     "text": [
      "100%|██████████████████████████████████████████████████████████████████████████████████████████████████████████████████████████████████████████████████████████| 48/48 [11:10<00:00, 13.97s/it]\n"
     ]
    }
   ],
   "source": [
    "weeklies_db.connect()\n",
    "weeklies_db.drop(\"trades\")\n",
    "for parameter in tqdm(parameters):\n",
    "    backtest_data = sim.copy().dropna()\n",
    "    strat = parameter[\"strat\"]\n",
    "    backtest_data = returns_class.returns_backtest(strat,backtest_data)\n",
    "    b.backtest(backtest_data.copy(),positions,parameter,start_date,end_date,weeklies_db)\n",
    "weeklies_db.disconnect()"
   ]
  }
 ],
 "metadata": {
  "kernelspec": {
   "display_name": "Python 3 (ipykernel)",
   "language": "python",
   "name": "python3"
  },
  "language_info": {
   "codemirror_mode": {
    "name": "ipython",
    "version": 3
   },
   "file_extension": ".py",
   "mimetype": "text/x-python",
   "name": "python",
   "nbconvert_exporter": "python",
   "pygments_lexer": "ipython3",
   "version": "3.10.5"
  }
 },
 "nbformat": 4,
 "nbformat_minor": 5
}
