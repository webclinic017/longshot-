{
 "cells": [
  {
   "cell_type": "code",
   "execution_count": 17,
   "id": "f17099ef",
   "metadata": {},
   "outputs": [],
   "source": [
    "from database.market import Market\n",
    "import pandas as pd\n",
    "from tqdm import tqdm\n",
    "from datetime import datetime, timedelta\n",
    "from modeler.modeler import Modeler as m\n",
    "from processor.processor import Processor as p\n",
    "from database.adatabase import ADatabase\n",
    "import pickle"
   ]
  },
  {
   "cell_type": "code",
   "execution_count": 2,
   "id": "c552f31d",
   "metadata": {},
   "outputs": [],
   "source": [
    "strat = ADatabase(\"cfa\")"
   ]
  },
  {
   "cell_type": "code",
   "execution_count": 3,
   "id": "31aaccd5",
   "metadata": {},
   "outputs": [],
   "source": [
    "market = Market()\n",
    "market.connect()\n",
    "sp500 = market.retrieve(\"sp500\")\n",
    "market.disconnect()"
   ]
  },
  {
   "cell_type": "code",
   "execution_count": 4,
   "id": "3c8a71f4",
   "metadata": {},
   "outputs": [],
   "source": [
    "factors=['assets', 'liabilitiesandstockholdersequity',\n",
    "       'earningspersharebasic', 'earningspersharediluted',\n",
    "       'stockholdersequity', 'netincomeloss', 'assetscurrent',\n",
    "       'liabilitiescurrent','adjclose']"
   ]
  },
  {
   "cell_type": "code",
   "execution_count": 5,
   "id": "b1491c23",
   "metadata": {},
   "outputs": [],
   "source": [
    "year = 2022\n",
    "quarter = 2\n",
    "projection_value = 4\n",
    "training_year = 1"
   ]
  },
  {
   "cell_type": "code",
   "execution_count": 8,
   "id": "decf77a8",
   "metadata": {},
   "outputs": [
    {
     "name": "stderr",
     "output_type": "stream",
     "text": [
      "100%|█████████████████████████████████████████████████████████████| 1/1 [00:07<00:00,  7.72s/it]\n"
     ]
    }
   ],
   "source": [
    "ds = []\n",
    "market.connect()\n",
    "for ticker in sp500[\"Symbol\"]:\n",
    "    try:\n",
    "        filing = market.retrieve_high_level_filings(ticker)\n",
    "        filing = p.column_date_processing(filing)\n",
    "        filing.sort_values(\"date\",inplace=True)\n",
    "        filing[\"y\"] = filing['adjclose'].shift(-projection_value)\n",
    "        ds.append(filing)\n",
    "    except Exception as e:\n",
    "        continue\n",
    "market.disconnect()\n",
    "rekt = pd.concat(ds)\n",
    "rekt.dropna(inplace=True)\n",
    "strat.connect()\n",
    "start_year = int(year - projection_value/4)\n",
    "end_year = start_year + 1\n",
    "for year in tqdm(range(start_year,int(end_year))):\n",
    "    try:\n",
    "        training_set = rekt[(rekt[\"year\"]<year) & (rekt[\"year\"]>=year-training_year)].reset_index()\n",
    "        prediction_set = rekt[(rekt[\"year\"]==year)]\n",
    "        refined = {\"X\":training_set[factors],\"y\":training_set[\"y\"]}\n",
    "        models = m.regression(refined)\n",
    "        for row in models.iterrows():\n",
    "            try:\n",
    "                model = row[1][\"model\"]\n",
    "                api = row[1][\"api\"]\n",
    "                prediction_set[f\"{api}_prediction\"] = model.predict(prediction_set[factors])\n",
    "            except Exception as e:\n",
    "                print(str(e))\n",
    "        prediction_set[\"prediction\"] = (prediction_set[\"skl_prediction\"] + prediction_set[\"xgb_prediction\"] + prediction_set[\"cat_prediction\"]) / 3\n",
    "        prediction_set[\"new_quarter\"] = [(row[1][\"quarter\"] + projection_value) % 4 for row in prediction_set.iterrows()]\n",
    "        prediction_set[\"new_quarter\"] = prediction_set[\"new_quarter\"].replace(0,4)\n",
    "        prediction_set[\"new_year\"] = [row[1][\"year\"] if row[1][\"quarter\"] + projection_value <=4 \\\n",
    "                                      else row[1][\"year\"]+ projection_value/4 for row in prediction_set.iterrows()]\n",
    "        prediction_set = prediction_set[[\"new_year\",\"new_quarter\",\"ticker\",\"prediction\"]].rename(columns={\"new_year\":\"year\",\"new_quarter\":\"quarter\"})\n",
    "        prediction_set[\"training_year\"] = training_year\n",
    "        prediction_set[\"projection_value\"] = projection_value\n",
    "    except:\n",
    "        continue\n",
    "    strat.disconnect()"
   ]
  },
  {
   "cell_type": "code",
   "execution_count": 14,
   "id": "8f579224",
   "metadata": {},
   "outputs": [],
   "source": [
    "strat.connect()\n",
    "strat.store(\"recs\",prediction_set)\n",
    "strat.disconnect()"
   ]
  },
  {
   "cell_type": "code",
   "execution_count": 18,
   "id": "1eb35c73",
   "metadata": {},
   "outputs": [],
   "source": [
    "models[\"model\"] = [pickle.dumps(x) for x in models[\"model\"]]\n",
    "models[\"year\"] = year\n",
    "models[\"quarter\"] = quarter\n",
    "models[\"projection_Value\"] = projection_value\n",
    "models[\"training_year\"] = training_year\n",
    "strat.connect()\n",
    "strat.store(\"models\",models)\n",
    "strat.disconnect()"
   ]
  }
 ],
 "metadata": {
  "kernelspec": {
   "display_name": "Python 3 (ipykernel)",
   "language": "python",
   "name": "python3"
  },
  "language_info": {
   "codemirror_mode": {
    "name": "ipython",
    "version": 3
   },
   "file_extension": ".py",
   "mimetype": "text/x-python",
   "name": "python",
   "nbconvert_exporter": "python",
   "pygments_lexer": "ipython3",
   "version": "3.10.5"
  }
 },
 "nbformat": 4,
 "nbformat_minor": 5
}
