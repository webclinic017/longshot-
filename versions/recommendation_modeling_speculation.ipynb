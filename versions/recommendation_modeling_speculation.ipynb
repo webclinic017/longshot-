{
 "cells": [
  {
   "cell_type": "code",
   "execution_count": 1,
   "id": "aa80f443",
   "metadata": {
    "scrolled": true
   },
   "outputs": [],
   "source": [
    "from datetime import datetime, timedelta\n",
    "import pandas as pd\n",
    "from tqdm import tqdm\n",
    "from modeler.modeler import Modeler as m\n",
    "from processor.processor import Processor as p\n",
    "from database.market import Market\n",
    "from database.adatabase import ADatabase\n",
    "import numpy as np\n",
    "import pickle"
   ]
  },
  {
   "cell_type": "code",
   "execution_count": 2,
   "id": "b38d4176",
   "metadata": {
    "scrolled": true
   },
   "outputs": [],
   "source": [
    "start_year = datetime.now().year"
   ]
  },
  {
   "cell_type": "code",
   "execution_count": 3,
   "id": "e5adbebb",
   "metadata": {},
   "outputs": [],
   "source": [
    "market = Market()\n",
    "speculation_db = ADatabase(\"speculation\")"
   ]
  },
  {
   "cell_type": "code",
   "execution_count": 4,
   "id": "ddfd7ef7",
   "metadata": {},
   "outputs": [],
   "source": [
    "market.connect()\n",
    "sp5 = market.retrieve(\"sp500\")\n",
    "market.disconnect()"
   ]
  },
  {
   "cell_type": "code",
   "execution_count": 5,
   "id": "b9071b73",
   "metadata": {},
   "outputs": [
    {
     "name": "stderr",
     "output_type": "stream",
     "text": [
      "  9%|████▊                                                | 46/504 [00:03<00:35, 13.04it/s]"
     ]
    },
    {
     "name": "stdout",
     "output_type": "stream",
     "text": [
      "'date'\n"
     ]
    },
    {
     "name": "stderr",
     "output_type": "stream",
     "text": [
      " 13%|███████▏                                             | 68/504 [00:05<00:32, 13.38it/s]"
     ]
    },
    {
     "name": "stdout",
     "output_type": "stream",
     "text": [
      "'date'\n"
     ]
    },
    {
     "name": "stderr",
     "output_type": "stream",
     "text": [
      " 16%|████████▋                                            | 83/504 [00:06<00:28, 14.95it/s]"
     ]
    },
    {
     "name": "stdout",
     "output_type": "stream",
     "text": [
      "'date'\n"
     ]
    },
    {
     "name": "stderr",
     "output_type": "stream",
     "text": [
      "100%|████████████████████████████████████████████████████| 504/504 [00:38<00:00, 13.02it/s]\n"
     ]
    },
    {
     "name": "stdout",
     "output_type": "stream",
     "text": [
      "'date'\n",
      "'date'\n",
      "'date'\n"
     ]
    }
   ],
   "source": [
    "market.connect()\n",
    "data = []\n",
    "for ticker in tqdm(sp5[\"Symbol\"]):\n",
    "    try:\n",
    "        ticker_data = market.retrieve_ticker_prices(\"prices\",ticker)\n",
    "        ticker_data = p.column_date_processing(ticker_data)\n",
    "        ticker_data[\"year\"] = [x.year for x in ticker_data[\"date\"]]\n",
    "        ticker_data[\"week\"] = [x.week for x in ticker_data[\"date\"]]\n",
    "        ticker_data.sort_values(\"date\",ascending=True)\n",
    "        ticker_data[\"adjclose\"] = [float(x) for x in ticker_data[\"adjclose\"]]\n",
    "        ticker_data = ticker_data.groupby([\"year\",\"week\"]).mean().reset_index()\n",
    "        for i in range(14):\n",
    "            ticker_data[str(i)] = ticker_data[\"adjclose\"].shift(i)\n",
    "        ticker_data[\"d1\"] = ticker_data[\"adjclose\"].pct_change(periods=7)\n",
    "        ticker_data[\"d2\"] = ticker_data[\"d1\"].pct_change(periods=1)\n",
    "        ticker_data[\"d3\"] = ticker_data[\"d2\"].pct_change(periods=1)\n",
    "        ticker_data[\"y\"] = ticker_data[\"adjclose\"].shift(-1)\n",
    "        ticker_data.dropna(inplace=True)\n",
    "        ticker_data[\"ticker\"] = ticker\n",
    "        data.append(ticker_data)\n",
    "    except Exception as e:\n",
    "        print(str(e))\n",
    "        continue\n",
    "final_data = pd.concat(data)\n",
    "market.disconnect()"
   ]
  },
  {
   "cell_type": "code",
   "execution_count": 6,
   "id": "80fa6a8f",
   "metadata": {},
   "outputs": [],
   "source": [
    "factors = [str(i) for i in range(14)]\n",
    "factors.append(\"d1\")\n",
    "factors.append(\"d2\")\n",
    "factors.append(\"d3\")\n",
    "factors.append(\"adjclose\")"
   ]
  },
  {
   "cell_type": "code",
   "execution_count": 7,
   "id": "69092590",
   "metadata": {},
   "outputs": [],
   "source": [
    "final_data = final_data.replace([np.inf, -np.inf], np.nan).dropna()"
   ]
  },
  {
   "cell_type": "code",
   "execution_count": 8,
   "id": "235a8676",
   "metadata": {
    "scrolled": true
   },
   "outputs": [
    {
     "name": "stderr",
     "output_type": "stream",
     "text": [
      "100%|████████████████████████████████████████████████████████| 1/1 [00:22<00:00, 22.62s/it]\n"
     ]
    }
   ],
   "source": [
    "sim = []\n",
    "speculation_db.connect()\n",
    "errors = []\n",
    "training_year = 4\n",
    "for year in tqdm(range(start_year,start_year+1)):\n",
    "        try:\n",
    "            training_data = final_data[(final_data[\"year\"]<year) & (final_data[\"year\"]>=year-training_year)]\n",
    "            training_data.dropna(inplace=True)\n",
    "            training_data.reset_index(drop=True,inplace=True)\n",
    "            if training_data.index.size > 100:\n",
    "                refined_data = {\"X\":training_data[factors],\"y\":training_data[[\"y\"]]}\n",
    "                models = m.regression(refined_data)\n",
    "                models[\"year\"] = year\n",
    "                models[\"training_year\"] = training_year\n",
    "                models[\"model\"] = [pickle.dumps(x) for x in models[\"model\"]]\n",
    "                speculation_db.store(\"models\",models)\n",
    "            else:\n",
    "                errors.append([year,training_data.index.size,prediction_data.index.size,\"not_enough_stuff\"])\n",
    "        except Exception as e:\n",
    "            errors.append([year,training_data.index.size,prediction_data.index.size,str(e)])\n",
    "speculation_db.disconnect()"
   ]
  }
 ],
 "metadata": {
  "kernelspec": {
   "display_name": "Python 3 (ipykernel)",
   "language": "python",
   "name": "python3"
  },
  "language_info": {
   "codemirror_mode": {
    "name": "ipython",
    "version": 3
   },
   "file_extension": ".py",
   "mimetype": "text/x-python",
   "name": "python",
   "nbconvert_exporter": "python",
   "pygments_lexer": "ipython3",
   "version": "3.10.5"
  }
 },
 "nbformat": 4,
 "nbformat_minor": 5
}
