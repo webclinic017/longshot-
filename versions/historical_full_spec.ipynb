{
 "cells": [
  {
   "cell_type": "code",
   "execution_count": 1,
   "id": "5a24d11e",
   "metadata": {},
   "outputs": [],
   "source": [
    "import pandas as pd\n",
    "from database.market import Market\n",
    "from database.adatabase import ADatabase\n",
    "from processor.processor import Processor as p\n",
    "from datetime import datetime\n",
    "from tqdm import tqdm\n",
    "import numpy as np\n",
    "from modeler_strats.universal_modeler import UniversalModeler"
   ]
  },
  {
   "cell_type": "code",
   "execution_count": 2,
   "id": "1f7fc22a",
   "metadata": {},
   "outputs": [],
   "source": [
    "market = Market()\n",
    "spec = ADatabase(\"spec\")\n",
    "umod = UniversalModeler()"
   ]
  },
  {
   "cell_type": "code",
   "execution_count": 3,
   "id": "b0c57b4d",
   "metadata": {},
   "outputs": [],
   "source": [
    "market.connect()\n",
    "sp500 = market.retrieve(\"sp500\")\n",
    "market.disconnect()\n",
    "sp500 = sp500.rename(columns={\"Symbol\":\"ticker\"})"
   ]
  },
  {
   "cell_type": "code",
   "execution_count": 4,
   "id": "983a4ac6",
   "metadata": {},
   "outputs": [],
   "source": [
    "factors = [str(x) for x in range(14)]"
   ]
  },
  {
   "cell_type": "code",
   "execution_count": 5,
   "id": "06e0c3f1",
   "metadata": {},
   "outputs": [],
   "source": [
    "included_columns=[\n",
    "    \"year\",\n",
    "    \"week\",\n",
    "    \"ticker\",\n",
    "    \"adjclose\",\n",
    "    \"y\"\n",
    "]"
   ]
  },
  {
   "cell_type": "code",
   "execution_count": 6,
   "id": "c552e7c0",
   "metadata": {},
   "outputs": [],
   "source": [
    "included_columns.extend(factors)"
   ]
  },
  {
   "cell_type": "code",
   "execution_count": 7,
   "id": "fb51d227",
   "metadata": {},
   "outputs": [],
   "source": [
    "training_sets = []"
   ]
  },
  {
   "cell_type": "code",
   "execution_count": 8,
   "id": "c551e792",
   "metadata": {},
   "outputs": [],
   "source": [
    "for ticker in sp500[\"ticker\"].unique():\n",
    "    try:\n",
    "        prices = market.retrieve_ticker_prices(\"prices\",ticker)\n",
    "        prices = p.column_date_processing(prices)\n",
    "        prices[\"year\"] = [x.year for x in prices[\"date\"]]\n",
    "        prices[\"quarter\"] = [x.quarter for x in prices[\"date\"]]\n",
    "        ticker_data = prices[prices[\"ticker\"]==ticker]\n",
    "        ticker_data.sort_values(\"date\",ascending=True,inplace=True)\n",
    "        ticker_data[\"adjclose\"] = [float(x) for x in ticker_data[\"adjclose\"]]\n",
    "        ticker_data = ticker_data.groupby([\"year\",\"week\"]).mean().reset_index()\n",
    "        for i in range(14):\n",
    "            ticker_data[str(i)] = ticker_data[\"adjclose\"].shift(i)\n",
    "        ticker_data[\"d1\"] = ticker_data[\"adjclose\"].pct_change(periods=1)\n",
    "        ticker_data[\"d2\"] = ticker_data[\"d1\"].pct_change(periods=1)\n",
    "        ticker_data[\"d3\"] = ticker_data[\"d2\"].pct_change(periods=1)\n",
    "        ticker_data[\"rolling14\"] = ticker_data[\"adjclose\"].rolling(window=14).mean()\n",
    "        ticker_data.dropna(inplace=True)\n",
    "        ticker_data[\"ticker\"] = ticker\n",
    "        ticker_data[\"y\"] = ticker_data[\"adjclose\"].shift(-1)\n",
    "        ticker_data = ticker_data.replace([np.inf, -np.inf], np.nan).dropna()\n",
    "        ticker_data.dropna(inplace=True)\n",
    "        ticker_data = ticker_data[included_columns]\n",
    "        training_sets.append(ticker_data)\n",
    "    except:\n",
    "        continue"
   ]
  },
  {
   "cell_type": "code",
   "execution_count": 9,
   "id": "0ea5d66b",
   "metadata": {},
   "outputs": [],
   "source": [
    "data = pd.concat(training_sets)"
   ]
  },
  {
   "cell_type": "code",
   "execution_count": 10,
   "id": "736f208f",
   "metadata": {},
   "outputs": [],
   "source": [
    "data = data.dropna()"
   ]
  },
  {
   "cell_type": "code",
   "execution_count": 11,
   "id": "23ad6193",
   "metadata": {
    "scrolled": true
   },
   "outputs": [
    {
     "name": "stderr",
     "output_type": "stream",
     "text": [
      "\r",
      "  0%|                                                                                                                                                             | 0/14 [00:00<?, ?it/s]"
     ]
    },
    {
     "name": "stdout",
     "output_type": "stream",
     "text": [
      "Epoch 1/10\n",
      "2012/2012 [==============================] - 2s 752us/step - loss: 77.1475 - mean_absolute_percentage_error: 9.0433\n",
      "Epoch 2/10\n",
      "2012/2012 [==============================] - 1s 736us/step - loss: 28.4474 - mean_absolute_percentage_error: 6.9298\n",
      "Epoch 3/10\n",
      "2012/2012 [==============================] - 1s 735us/step - loss: 24.2801 - mean_absolute_percentage_error: 6.3560\n",
      "Epoch 4/10\n",
      "2012/2012 [==============================] - 2s 761us/step - loss: 24.2860 - mean_absolute_percentage_error: 6.2407\n",
      "Epoch 5/10\n",
      "2012/2012 [==============================] - 2s 762us/step - loss: 21.0680 - mean_absolute_percentage_error: 5.4089\n",
      "Epoch 6/10\n",
      "2012/2012 [==============================] - 2s 758us/step - loss: 23.3633 - mean_absolute_percentage_error: 5.6942\n",
      "Epoch 7/10\n",
      "2012/2012 [==============================] - 2s 759us/step - loss: 22.2354 - mean_absolute_percentage_error: 5.7466\n",
      "Epoch 8/10\n",
      "2012/2012 [==============================] - 2s 758us/step - loss: 20.6229 - mean_absolute_percentage_error: 5.3978\n",
      "Epoch 9/10\n",
      "2012/2012 [==============================] - 1s 727us/step - loss: 21.0262 - mean_absolute_percentage_error: 5.6623\n",
      "Epoch 10/10\n",
      "2012/2012 [==============================] - 1s 726us/step - loss: 17.7482 - mean_absolute_percentage_error: 5.1064\n",
      "671/671 [==============================] - 0s 517us/step\n",
      "705/705 [==============================] - 0s 534us/step\n"
     ]
    },
    {
     "name": "stderr",
     "output_type": "stream",
     "text": [
      "\r",
      "  7%|██████████▋                                                                                                                                          | 1/14 [01:01<13:18, 61.39s/it]"
     ]
    },
    {
     "name": "stdout",
     "output_type": "stream",
     "text": [
      "Epoch 1/10\n",
      "2053/2053 [==============================] - 2s 746us/step - loss: 38.9610 - mean_absolute_percentage_error: 8.7095\n",
      "Epoch 2/10\n",
      "2053/2053 [==============================] - 2s 742us/step - loss: 28.8343 - mean_absolute_percentage_error: 7.5592\n",
      "Epoch 3/10\n",
      "2053/2053 [==============================] - 2s 742us/step - loss: 23.5254 - mean_absolute_percentage_error: 6.6559\n",
      "Epoch 4/10\n",
      "2053/2053 [==============================] - 2s 743us/step - loss: 19.8118 - mean_absolute_percentage_error: 6.2656\n",
      "Epoch 5/10\n",
      "2053/2053 [==============================] - 2s 741us/step - loss: 18.9273 - mean_absolute_percentage_error: 5.9387\n",
      "Epoch 6/10\n",
      "2053/2053 [==============================] - 2s 750us/step - loss: 16.8252 - mean_absolute_percentage_error: 5.8703\n",
      "Epoch 7/10\n",
      "2053/2053 [==============================] - 2s 746us/step - loss: 16.7386 - mean_absolute_percentage_error: 5.6743\n",
      "Epoch 8/10\n",
      "2053/2053 [==============================] - 2s 745us/step - loss: 16.5656 - mean_absolute_percentage_error: 5.5444\n",
      "Epoch 9/10\n",
      "2053/2053 [==============================] - 2s 749us/step - loss: 16.7480 - mean_absolute_percentage_error: 5.4539\n",
      "Epoch 10/10\n",
      "2053/2053 [==============================] - 2s 750us/step - loss: 13.5753 - mean_absolute_percentage_error: 5.4631\n",
      "685/685 [==============================] - 0s 544us/step\n",
      "701/701 [==============================] - 0s 549us/step\n"
     ]
    },
    {
     "name": "stderr",
     "output_type": "stream",
     "text": [
      "\r",
      " 14%|█████████████████████▎                                                                                                                               | 2/14 [02:02<12:14, 61.25s/it]"
     ]
    },
    {
     "name": "stdout",
     "output_type": "stream",
     "text": [
      "Epoch 1/10\n",
      "2078/2078 [==============================] - 2s 747us/step - loss: 29.5697 - mean_absolute_percentage_error: 8.3107\n",
      "Epoch 2/10\n",
      "2078/2078 [==============================] - 2s 743us/step - loss: 21.1234 - mean_absolute_percentage_error: 6.8062\n",
      "Epoch 3/10\n",
      "2078/2078 [==============================] - 2s 741us/step - loss: 20.7752 - mean_absolute_percentage_error: 6.4025\n",
      "Epoch 4/10\n",
      "2078/2078 [==============================] - 2s 741us/step - loss: 16.2721 - mean_absolute_percentage_error: 6.1350\n",
      "Epoch 5/10\n",
      "2078/2078 [==============================] - 2s 741us/step - loss: 18.4826 - mean_absolute_percentage_error: 6.4598\n",
      "Epoch 6/10\n",
      "2078/2078 [==============================] - 2s 744us/step - loss: 17.5978 - mean_absolute_percentage_error: 5.8673\n",
      "Epoch 7/10\n",
      "2078/2078 [==============================] - 2s 743us/step - loss: 15.0965 - mean_absolute_percentage_error: 5.7416\n",
      "Epoch 8/10\n",
      "2078/2078 [==============================] - 2s 745us/step - loss: 16.0794 - mean_absolute_percentage_error: 6.0228\n",
      "Epoch 9/10\n",
      "2078/2078 [==============================] - 2s 743us/step - loss: 15.8910 - mean_absolute_percentage_error: 5.8456\n",
      "Epoch 10/10\n",
      "2078/2078 [==============================] - 2s 742us/step - loss: 15.3168 - mean_absolute_percentage_error: 5.5483\n",
      "693/693 [==============================] - 0s 541us/step\n",
      "716/716 [==============================] - 0s 557us/step\n"
     ]
    },
    {
     "name": "stderr",
     "output_type": "stream",
     "text": [
      "\r",
      " 21%|███████████████████████████████▉                                                                                                                     | 3/14 [03:05<11:23, 62.10s/it]"
     ]
    },
    {
     "name": "stdout",
     "output_type": "stream",
     "text": [
      "Epoch 1/10\n",
      "2107/2107 [==============================] - 2s 750us/step - loss: 21.9301 - mean_absolute_percentage_error: 7.5803\n",
      "Epoch 2/10\n",
      "2107/2107 [==============================] - 2s 761us/step - loss: 13.8489 - mean_absolute_percentage_error: 6.3332\n",
      "Epoch 3/10\n",
      "2107/2107 [==============================] - 2s 791us/step - loss: 11.7388 - mean_absolute_percentage_error: 5.7687\n",
      "Epoch 4/10\n",
      "2107/2107 [==============================] - 2s 753us/step - loss: 10.4317 - mean_absolute_percentage_error: 5.6339\n",
      "Epoch 5/10\n",
      "2107/2107 [==============================] - 2s 742us/step - loss: 12.2634 - mean_absolute_percentage_error: 5.8104\n",
      "Epoch 6/10\n",
      "2107/2107 [==============================] - 2s 785us/step - loss: 10.3470 - mean_absolute_percentage_error: 5.3428\n",
      "Epoch 7/10\n",
      "2107/2107 [==============================] - 2s 754us/step - loss: 9.3693 - mean_absolute_percentage_error: 5.3032\n",
      "Epoch 8/10\n",
      "2107/2107 [==============================] - 2s 789us/step - loss: 9.0250 - mean_absolute_percentage_error: 5.1809\n",
      "Epoch 9/10\n",
      "2107/2107 [==============================] - 2s 791us/step - loss: 8.7163 - mean_absolute_percentage_error: 5.2313\n",
      "Epoch 10/10\n",
      "2107/2107 [==============================] - 2s 793us/step - loss: 9.5299 - mean_absolute_percentage_error: 5.0243\n",
      "703/703 [==============================] - 0s 544us/step\n",
      "727/727 [==============================] - 0s 548us/step\n"
     ]
    },
    {
     "name": "stderr",
     "output_type": "stream",
     "text": [
      "\r",
      " 29%|██████████████████████████████████████████▌                                                                                                          | 4/14 [04:09<10:29, 62.91s/it]"
     ]
    },
    {
     "name": "stdout",
     "output_type": "stream",
     "text": [
      "Epoch 1/10\n",
      "2136/2136 [==============================] - 2s 747us/step - loss: 30.8711 - mean_absolute_percentage_error: 7.2467\n",
      "Epoch 2/10\n",
      "2136/2136 [==============================] - 2s 745us/step - loss: 13.6286 - mean_absolute_percentage_error: 5.4412\n",
      "Epoch 3/10\n",
      "2136/2136 [==============================] - 2s 759us/step - loss: 13.1945 - mean_absolute_percentage_error: 5.1638\n",
      "Epoch 4/10\n",
      "2136/2136 [==============================] - 2s 755us/step - loss: 13.3162 - mean_absolute_percentage_error: 5.2070\n",
      "Epoch 5/10\n",
      "2136/2136 [==============================] - 2s 755us/step - loss: 12.3357 - mean_absolute_percentage_error: 5.0004\n",
      "Epoch 6/10\n",
      "2136/2136 [==============================] - 2s 755us/step - loss: 12.4990 - mean_absolute_percentage_error: 4.7993\n",
      "Epoch 7/10\n",
      "2136/2136 [==============================] - 2s 755us/step - loss: 10.7500 - mean_absolute_percentage_error: 4.7803\n",
      "Epoch 8/10\n",
      "2136/2136 [==============================] - 2s 757us/step - loss: 10.9852 - mean_absolute_percentage_error: 4.7100\n",
      "Epoch 9/10\n",
      "2136/2136 [==============================] - 2s 762us/step - loss: 10.8487 - mean_absolute_percentage_error: 4.5817\n",
      "Epoch 10/10\n",
      "2136/2136 [==============================] - 2s 744us/step - loss: 10.1093 - mean_absolute_percentage_error: 4.4538\n",
      "712/712 [==============================] - 0s 526us/step\n",
      "738/738 [==============================] - 0s 535us/step\n"
     ]
    },
    {
     "name": "stderr",
     "output_type": "stream",
     "text": [
      "\r",
      " 36%|█████████████████████████████████████████████████████▏                                                                                               | 5/14 [05:20<09:51, 65.74s/it]"
     ]
    },
    {
     "name": "stdout",
     "output_type": "stream",
     "text": [
      "Epoch 1/10\n",
      "2161/2161 [==============================] - 2s 748us/step - loss: 28.5247 - mean_absolute_percentage_error: 6.2493\n",
      "Epoch 2/10\n",
      "2161/2161 [==============================] - 2s 744us/step - loss: 16.1145 - mean_absolute_percentage_error: 4.7511\n",
      "Epoch 3/10\n",
      "2161/2161 [==============================] - 2s 757us/step - loss: 15.7932 - mean_absolute_percentage_error: 4.5235\n",
      "Epoch 4/10\n",
      "2161/2161 [==============================] - 2s 753us/step - loss: 15.4710 - mean_absolute_percentage_error: 4.5753\n",
      "Epoch 5/10\n",
      "2161/2161 [==============================] - 2s 748us/step - loss: 14.2733 - mean_absolute_percentage_error: 4.5023\n",
      "Epoch 6/10\n",
      "2161/2161 [==============================] - 2s 746us/step - loss: 12.4814 - mean_absolute_percentage_error: 4.0710\n",
      "Epoch 7/10\n",
      "2161/2161 [==============================] - 2s 745us/step - loss: 11.9362 - mean_absolute_percentage_error: 4.0648\n",
      "Epoch 8/10\n",
      "2161/2161 [==============================] - 2s 745us/step - loss: 10.6016 - mean_absolute_percentage_error: 3.8573\n",
      "Epoch 9/10\n",
      "2161/2161 [==============================] - 2s 744us/step - loss: 11.3865 - mean_absolute_percentage_error: 3.8226\n",
      "Epoch 10/10\n",
      "2161/2161 [==============================] - 2s 737us/step - loss: 10.2169 - mean_absolute_percentage_error: 3.8036\n",
      "721/721 [==============================] - 0s 539us/step\n",
      "749/749 [==============================] - 0s 554us/step\n"
     ]
    },
    {
     "name": "stderr",
     "output_type": "stream",
     "text": [
      "\r",
      " 43%|███████████████████████████████████████████████████████████████▊                                                                                     | 6/14 [06:28<08:53, 66.64s/it]"
     ]
    },
    {
     "name": "stdout",
     "output_type": "stream",
     "text": [
      "Epoch 1/10\n",
      "2197/2197 [==============================] - 2s 751us/step - loss: 37.0663 - mean_absolute_percentage_error: 5.6324\n",
      "Epoch 2/10\n",
      "2197/2197 [==============================] - 2s 747us/step - loss: 30.1106 - mean_absolute_percentage_error: 4.9746\n",
      "Epoch 3/10\n",
      "2197/2197 [==============================] - 2s 746us/step - loss: 21.0258 - mean_absolute_percentage_error: 4.3326\n",
      "Epoch 4/10\n",
      "2197/2197 [==============================] - 2s 746us/step - loss: 19.7612 - mean_absolute_percentage_error: 4.3304\n",
      "Epoch 5/10\n",
      "2197/2197 [==============================] - 2s 747us/step - loss: 23.0360 - mean_absolute_percentage_error: 4.4061\n",
      "Epoch 6/10\n",
      "2197/2197 [==============================] - 2s 746us/step - loss: 17.7639 - mean_absolute_percentage_error: 4.0418\n",
      "Epoch 7/10\n",
      "2197/2197 [==============================] - 2s 747us/step - loss: 16.5345 - mean_absolute_percentage_error: 3.8497\n",
      "Epoch 8/10\n",
      "2197/2197 [==============================] - 2s 743us/step - loss: 17.7729 - mean_absolute_percentage_error: 3.8262\n",
      "Epoch 9/10\n",
      "2197/2197 [==============================] - 2s 742us/step - loss: 16.4704 - mean_absolute_percentage_error: 3.8086\n",
      "Epoch 10/10\n",
      "2197/2197 [==============================] - 2s 741us/step - loss: 16.5228 - mean_absolute_percentage_error: 3.8449\n",
      "733/733 [==============================] - 0s 555us/step\n",
      "778/778 [==============================] - 0s 561us/step\n"
     ]
    },
    {
     "name": "stderr",
     "output_type": "stream",
     "text": [
      "\r",
      " 50%|██████████████████████████████████████████████████████████████████████████▌                                                                          | 7/14 [07:33<07:42, 66.08s/it]"
     ]
    },
    {
     "name": "stdout",
     "output_type": "stream",
     "text": [
      "Epoch 1/10\n",
      "2243/2243 [==============================] - 2s 805us/step - loss: 53.2516 - mean_absolute_percentage_error: 5.6058\n",
      "Epoch 2/10\n",
      "2243/2243 [==============================] - 2s 758us/step - loss: 33.3163 - mean_absolute_percentage_error: 4.6170\n",
      "Epoch 3/10\n",
      "2243/2243 [==============================] - 2s 741us/step - loss: 29.2691 - mean_absolute_percentage_error: 4.3857\n",
      "Epoch 4/10\n",
      "2243/2243 [==============================] - 2s 742us/step - loss: 29.7717 - mean_absolute_percentage_error: 4.2347\n",
      "Epoch 5/10\n",
      "2243/2243 [==============================] - 2s 758us/step - loss: 28.9611 - mean_absolute_percentage_error: 4.1716\n",
      "Epoch 6/10\n",
      "2243/2243 [==============================] - 2s 715us/step - loss: 24.4203 - mean_absolute_percentage_error: 3.8094\n",
      "Epoch 7/10\n",
      "2243/2243 [==============================] - 2s 712us/step - loss: 24.2697 - mean_absolute_percentage_error: 3.7387\n",
      "Epoch 8/10\n",
      "2243/2243 [==============================] - 2s 709us/step - loss: 22.8508 - mean_absolute_percentage_error: 3.6988\n",
      "Epoch 9/10\n",
      "2243/2243 [==============================] - 2s 714us/step - loss: 21.8847 - mean_absolute_percentage_error: 3.6175\n",
      "Epoch 10/10\n",
      "2243/2243 [==============================] - 2s 696us/step - loss: 20.1236 - mean_absolute_percentage_error: 3.5491\n",
      "748/748 [==============================] - 0s 573us/step\n",
      "774/774 [==============================] - 0s 617us/step\n"
     ]
    },
    {
     "name": "stderr",
     "output_type": "stream",
     "text": [
      "\r",
      " 57%|█████████████████████████████████████████████████████████████████████████████████████▏                                                               | 8/14 [08:46<06:48, 68.16s/it]"
     ]
    },
    {
     "name": "stdout",
     "output_type": "stream",
     "text": [
      "Epoch 1/10\n",
      "2278/2278 [==============================] - 2s 676us/step - loss: 99.9191 - mean_absolute_percentage_error: 6.4021\n",
      "Epoch 2/10\n",
      "2278/2278 [==============================] - 2s 678us/step - loss: 53.8419 - mean_absolute_percentage_error: 5.1453\n",
      "Epoch 3/10\n",
      "2278/2278 [==============================] - 2s 760us/step - loss: 45.6735 - mean_absolute_percentage_error: 4.6800\n",
      "Epoch 4/10\n",
      "2278/2278 [==============================] - 2s 775us/step - loss: 39.2652 - mean_absolute_percentage_error: 4.1778\n",
      "Epoch 5/10\n",
      "2278/2278 [==============================] - 2s 770us/step - loss: 33.3546 - mean_absolute_percentage_error: 3.8472\n",
      "Epoch 6/10\n",
      "2278/2278 [==============================] - 2s 862us/step - loss: 31.7492 - mean_absolute_percentage_error: 3.8745\n",
      "Epoch 7/10\n",
      "2278/2278 [==============================] - 2s 750us/step - loss: 37.9304 - mean_absolute_percentage_error: 4.0232\n",
      "Epoch 8/10\n",
      "2278/2278 [==============================] - 2s 746us/step - loss: 31.8358 - mean_absolute_percentage_error: 3.9286\n",
      "Epoch 9/10\n",
      "2278/2278 [==============================] - 2s 758us/step - loss: 29.2194 - mean_absolute_percentage_error: 3.7600\n",
      "Epoch 10/10\n",
      "2278/2278 [==============================] - 2s 710us/step - loss: 29.1226 - mean_absolute_percentage_error: 3.6823\n",
      "760/760 [==============================] - 0s 552us/step\n",
      "779/779 [==============================] - 0s 541us/step\n"
     ]
    },
    {
     "name": "stderr",
     "output_type": "stream",
     "text": [
      "\r",
      " 64%|███████████████████████████████████████████████████████████████████████████████████████████████▊                                                     | 9/14 [10:00<05:49, 69.94s/it]"
     ]
    },
    {
     "name": "stdout",
     "output_type": "stream",
     "text": [
      "Epoch 1/10\n",
      "2309/2309 [==============================] - 2s 720us/step - loss: 225.9964 - mean_absolute_percentage_error: 6.0113\n",
      "Epoch 2/10\n",
      "2309/2309 [==============================] - 2s 741us/step - loss: 81.8861 - mean_absolute_percentage_error: 5.1173\n",
      "Epoch 3/10\n",
      "2309/2309 [==============================] - 2s 746us/step - loss: 73.8459 - mean_absolute_percentage_error: 4.9393\n",
      "Epoch 4/10\n",
      "2309/2309 [==============================] - 2s 743us/step - loss: 62.4249 - mean_absolute_percentage_error: 4.4914\n",
      "Epoch 5/10\n",
      "2309/2309 [==============================] - 2s 754us/step - loss: 100.8090 - mean_absolute_percentage_error: 5.2224\n",
      "Epoch 6/10\n",
      "2309/2309 [==============================] - 2s 731us/step - loss: 42.6980 - mean_absolute_percentage_error: 3.9315\n",
      "Epoch 7/10\n",
      "2309/2309 [==============================] - 2s 745us/step - loss: 47.8320 - mean_absolute_percentage_error: 3.9506\n",
      "Epoch 8/10\n",
      "2309/2309 [==============================] - 2s 760us/step - loss: 47.4493 - mean_absolute_percentage_error: 4.0493\n",
      "Epoch 9/10\n",
      "2309/2309 [==============================] - 2s 752us/step - loss: 40.9153 - mean_absolute_percentage_error: 3.8499\n",
      "Epoch 10/10\n",
      "2309/2309 [==============================] - 2s 744us/step - loss: 38.5858 - mean_absolute_percentage_error: 3.6997\n",
      "770/770 [==============================] - 0s 583us/step\n",
      "785/785 [==============================] - 0s 555us/step\n"
     ]
    },
    {
     "name": "stderr",
     "output_type": "stream",
     "text": [
      "\r",
      " 71%|█████████████████████████████████████████████████████████████████████████████████████████████████████████▋                                          | 10/14 [11:12<04:43, 70.75s/it]"
     ]
    },
    {
     "name": "stdout",
     "output_type": "stream",
     "text": [
      "Epoch 1/10\n",
      "2336/2336 [==============================] - 2s 693us/step - loss: 205.8825 - mean_absolute_percentage_error: 6.7089\n",
      "Epoch 2/10\n",
      "2336/2336 [==============================] - 2s 704us/step - loss: 137.6473 - mean_absolute_percentage_error: 5.3195\n",
      "Epoch 3/10\n",
      "2336/2336 [==============================] - 2s 747us/step - loss: 151.1092 - mean_absolute_percentage_error: 5.2470\n",
      "Epoch 4/10\n",
      "2336/2336 [==============================] - 2s 773us/step - loss: 84.2136 - mean_absolute_percentage_error: 4.2350\n",
      "Epoch 5/10\n",
      "2336/2336 [==============================] - 2s 809us/step - loss: 89.6282 - mean_absolute_percentage_error: 4.1849\n",
      "Epoch 6/10\n",
      "2336/2336 [==============================] - 2s 776us/step - loss: 92.9924 - mean_absolute_percentage_error: 4.3274\n",
      "Epoch 7/10\n",
      "2336/2336 [==============================] - 2s 797us/step - loss: 70.9672 - mean_absolute_percentage_error: 4.0788\n",
      "Epoch 8/10\n",
      "2336/2336 [==============================] - 2s 751us/step - loss: 79.2791 - mean_absolute_percentage_error: 4.3536\n",
      "Epoch 9/10\n",
      "2336/2336 [==============================] - 2s 742us/step - loss: 67.9173 - mean_absolute_percentage_error: 3.9651\n",
      "Epoch 10/10\n",
      "2336/2336 [==============================] - 2s 743us/step - loss: 65.9174 - mean_absolute_percentage_error: 3.7511\n",
      "779/779 [==============================] - 0s 527us/step\n",
      "793/793 [==============================] - 1s 605us/step\n"
     ]
    },
    {
     "name": "stderr",
     "output_type": "stream",
     "text": [
      "\r",
      " 79%|████████████████████████████████████████████████████████████████████████████████████████████████████████████████████▎                               | 11/14 [12:23<03:31, 70.62s/it]"
     ]
    },
    {
     "name": "stdout",
     "output_type": "stream",
     "text": [
      "Epoch 1/10\n",
      "2347/2347 [==============================] - 2s 767us/step - loss: 518.8364 - mean_absolute_percentage_error: 7.9749\n",
      "Epoch 2/10\n",
      "2347/2347 [==============================] - 2s 740us/step - loss: 160.2870 - mean_absolute_percentage_error: 5.3262\n",
      "Epoch 3/10\n",
      "2347/2347 [==============================] - 2s 746us/step - loss: 152.3138 - mean_absolute_percentage_error: 5.2129\n",
      "Epoch 4/10\n",
      "2347/2347 [==============================] - 2s 730us/step - loss: 125.2841 - mean_absolute_percentage_error: 4.5826\n",
      "Epoch 5/10\n",
      "2347/2347 [==============================] - 2s 715us/step - loss: 132.8860 - mean_absolute_percentage_error: 4.7178\n",
      "Epoch 6/10\n",
      "2347/2347 [==============================] - 2s 737us/step - loss: 155.6582 - mean_absolute_percentage_error: 4.9399\n",
      "Epoch 7/10\n",
      "2347/2347 [==============================] - 2s 741us/step - loss: 89.8008 - mean_absolute_percentage_error: 4.1023\n",
      "Epoch 8/10\n",
      "2347/2347 [==============================] - 2s 744us/step - loss: 115.8747 - mean_absolute_percentage_error: 4.5936\n",
      "Epoch 9/10\n",
      "2347/2347 [==============================] - 2s 729us/step - loss: 105.9417 - mean_absolute_percentage_error: 4.2570\n",
      "Epoch 10/10\n",
      "2347/2347 [==============================] - 2s 756us/step - loss: 100.8410 - mean_absolute_percentage_error: 4.0941\n",
      "783/783 [==============================] - 1s 588us/step\n",
      "814/814 [==============================] - 0s 550us/step\n"
     ]
    },
    {
     "name": "stderr",
     "output_type": "stream",
     "text": [
      "\r",
      " 86%|██████████████████████████████████████████████████████████████████████████████████████████████████████████████████████████████▊                     | 12/14 [13:38<02:23, 71.97s/it]"
     ]
    },
    {
     "name": "stdout",
     "output_type": "stream",
     "text": [
      "Epoch 1/10\n",
      "2377/2377 [==============================] - 2s 756us/step - loss: 1030.3181 - mean_absolute_percentage_error: 8.6599\n",
      "Epoch 2/10\n",
      "2377/2377 [==============================] - 2s 796us/step - loss: 290.5408 - mean_absolute_percentage_error: 6.3674\n",
      "Epoch 3/10\n",
      "2377/2377 [==============================] - 2s 761us/step - loss: 292.7289 - mean_absolute_percentage_error: 5.9428\n",
      "Epoch 4/10\n",
      "2377/2377 [==============================] - 2s 759us/step - loss: 201.9640 - mean_absolute_percentage_error: 5.1564\n",
      "Epoch 5/10\n",
      "2377/2377 [==============================] - 2s 745us/step - loss: 214.1402 - mean_absolute_percentage_error: 5.1968\n",
      "Epoch 6/10\n",
      "2377/2377 [==============================] - 2s 797us/step - loss: 202.4704 - mean_absolute_percentage_error: 5.0852\n",
      "Epoch 7/10\n",
      "2377/2377 [==============================] - 2s 723us/step - loss: 241.5986 - mean_absolute_percentage_error: 5.1943\n",
      "Epoch 8/10\n",
      "2377/2377 [==============================] - 2s 717us/step - loss: 205.1389 - mean_absolute_percentage_error: 4.8334\n",
      "Epoch 9/10\n",
      "2377/2377 [==============================] - 2s 736us/step - loss: 176.1121 - mean_absolute_percentage_error: 4.7312\n",
      "Epoch 10/10\n",
      "2377/2377 [==============================] - 2s 730us/step - loss: 155.1946 - mean_absolute_percentage_error: 4.5598\n",
      "793/793 [==============================] - 0s 541us/step\n",
      "802/802 [==============================] - 0s 544us/step\n"
     ]
    },
    {
     "name": "stderr",
     "output_type": "stream",
     "text": [
      "\r",
      " 93%|█████████████████████████████████████████████████████████████████████████████████████████████████████████████████████████████████████████▍          | 13/14 [14:54<01:13, 73.29s/it]"
     ]
    },
    {
     "name": "stdout",
     "output_type": "stream",
     "text": [
      "Epoch 1/10\n",
      "2394/2394 [==============================] - 2s 719us/step - loss: 886.6486 - mean_absolute_percentage_error: 8.1182\n",
      "Epoch 2/10\n",
      "2394/2394 [==============================] - 2s 776us/step - loss: 426.2489 - mean_absolute_percentage_error: 6.3671\n",
      "Epoch 3/10\n",
      "2394/2394 [==============================] - 2s 713us/step - loss: 386.0768 - mean_absolute_percentage_error: 5.7646\n",
      "Epoch 4/10\n",
      "2394/2394 [==============================] - 2s 718us/step - loss: 366.5302 - mean_absolute_percentage_error: 5.5408\n",
      "Epoch 5/10\n",
      "2394/2394 [==============================] - 2s 721us/step - loss: 245.0331 - mean_absolute_percentage_error: 5.0596\n",
      "Epoch 6/10\n",
      "2394/2394 [==============================] - 2s 764us/step - loss: 273.3865 - mean_absolute_percentage_error: 5.0238\n",
      "Epoch 7/10\n",
      "2394/2394 [==============================] - 2s 733us/step - loss: 248.7941 - mean_absolute_percentage_error: 4.7673\n",
      "Epoch 8/10\n",
      "2394/2394 [==============================] - 2s 716us/step - loss: 218.9812 - mean_absolute_percentage_error: 4.4908\n",
      "Epoch 9/10\n",
      "2394/2394 [==============================] - 2s 719us/step - loss: 298.3999 - mean_absolute_percentage_error: 4.9705\n",
      "Epoch 10/10\n",
      "2394/2394 [==============================] - 2s 731us/step - loss: 238.2667 - mean_absolute_percentage_error: 4.6981\n",
      "798/798 [==============================] - 1s 606us/step\n",
      "803/803 [==============================] - 0s 577us/step\n"
     ]
    },
    {
     "name": "stderr",
     "output_type": "stream",
     "text": [
      "100%|████████████████████████████████████████████████████████████████████████████████████████████████████████████████████████████████████████████████████| 14/14 [16:08<00:00, 69.20s/it]\n"
     ]
    }
   ],
   "source": [
    "spec.connect()\n",
    "years = 4\n",
    "for modeler in [umod]:\n",
    "    for year in tqdm(range(2009,2023)):\n",
    "        training_slice = data[(data[\"year\"]<year) & (data[\"year\"] >= year - years)].reset_index(drop=True)\n",
    "        prediction_set = data[data[\"year\"]==year].reset_index(drop=True)\n",
    "        set_name = \"sim\"\n",
    "        stuff = modeler.model(training_slice,prediction_set,factors)\n",
    "        stuff[\"training_years\"] = years\n",
    "        spec.store(set_name,stuff)\n",
    "spec.disconnect()\n"
   ]
  }
 ],
 "metadata": {
  "kernelspec": {
   "display_name": "Python 3 (ipykernel)",
   "language": "python",
   "name": "python3"
  },
  "language_info": {
   "codemirror_mode": {
    "name": "ipython",
    "version": 3
   },
   "file_extension": ".py",
   "mimetype": "text/x-python",
   "name": "python",
   "nbconvert_exporter": "python",
   "pygments_lexer": "ipython3",
   "version": "3.10.5"
  }
 },
 "nbformat": 4,
 "nbformat_minor": 5
}
