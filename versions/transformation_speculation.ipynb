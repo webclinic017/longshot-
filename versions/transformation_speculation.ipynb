{
 "cells": [
  {
   "cell_type": "code",
   "execution_count": 2,
   "id": "aa80f443",
   "metadata": {
    "scrolled": true
   },
   "outputs": [],
   "source": [
    "from datetime import datetime, timedelta\n",
    "import pandas as pd\n",
    "from tqdm import tqdm\n",
    "from processor.processor import Processor as p\n",
    "from database.market import Market\n",
    "from strats.speculation import Speculation\n",
    "import numpy as np"
   ]
  },
  {
   "cell_type": "code",
   "execution_count": 3,
   "id": "e5adbebb",
   "metadata": {},
   "outputs": [],
   "source": [
    "market = Market()"
   ]
  },
  {
   "cell_type": "code",
   "execution_count": 4,
   "id": "134d97e2",
   "metadata": {},
   "outputs": [],
   "source": [
    "training_year = 4\n",
    "strat_class = Speculation(training_year)"
   ]
  },
  {
   "cell_type": "code",
   "execution_count": 5,
   "id": "646d9c09",
   "metadata": {},
   "outputs": [],
   "source": [
    "factors = [str(x) for x in range(14)]\n",
    "factors.append(\"d1\")\n",
    "factors.append(\"d2\")\n",
    "factors.append(\"d3\")"
   ]
  },
  {
   "cell_type": "code",
   "execution_count": 6,
   "id": "78c95688",
   "metadata": {},
   "outputs": [],
   "source": [
    "included_columns=[x for x in factors]\n",
    "included_columns.extend(['year',\"week\",\"ticker\",\"y\"])"
   ]
  },
  {
   "cell_type": "code",
   "execution_count": 7,
   "id": "8b11aec8",
   "metadata": {},
   "outputs": [
    {
     "name": "stdout",
     "output_type": "stream",
     "text": [
      "init factors\n",
      "init included_columns\n"
     ]
    }
   ],
   "source": [
    "if not strat_class.check_factors():\n",
    "    print(\"init factors\")\n",
    "    strat_class.assign_factors(factors)\n",
    "if not strat_class.check_included_columns():\n",
    "    print(\"init included_columns\")\n",
    "    strat_class.assign_included_columns(included_columns)"
   ]
  },
  {
   "cell_type": "code",
   "execution_count": 8,
   "id": "ad3afb1e",
   "metadata": {},
   "outputs": [],
   "source": [
    "strat_class.pull_included_columns()\n",
    "strat_class.pull_factors()"
   ]
  },
  {
   "cell_type": "code",
   "execution_count": 9,
   "id": "815b8697",
   "metadata": {},
   "outputs": [],
   "source": [
    "market.connect()\n",
    "sp5 = market.retrieve(\"sp500\")\n",
    "deactivated_tickers = market.retrieve(\"deactivated_tickers\")\n",
    "unmodeled_tickers = market.retrieve(\"unmodeled_tickers\")\n",
    "market.disconnect()"
   ]
  },
  {
   "cell_type": "code",
   "execution_count": 11,
   "id": "7f934cd2",
   "metadata": {},
   "outputs": [
    {
     "data": {
      "text/html": [
       "<div>\n",
       "<style scoped>\n",
       "    .dataframe tbody tr th:only-of-type {\n",
       "        vertical-align: middle;\n",
       "    }\n",
       "\n",
       "    .dataframe tbody tr th {\n",
       "        vertical-align: top;\n",
       "    }\n",
       "\n",
       "    .dataframe thead th {\n",
       "        text-align: right;\n",
       "    }\n",
       "</style>\n",
       "<table border=\"1\" class=\"dataframe\">\n",
       "  <thead>\n",
       "    <tr style=\"text-align: right;\">\n",
       "      <th></th>\n",
       "      <th>tickers</th>\n",
       "    </tr>\n",
       "  </thead>\n",
       "  <tbody>\n",
       "    <tr>\n",
       "      <th>0</th>\n",
       "      <td>STZ</td>\n",
       "    </tr>\n",
       "    <tr>\n",
       "      <th>1</th>\n",
       "      <td>FRC</td>\n",
       "    </tr>\n",
       "    <tr>\n",
       "      <th>2</th>\n",
       "      <td>HSY</td>\n",
       "    </tr>\n",
       "    <tr>\n",
       "      <th>3</th>\n",
       "      <td>MNST</td>\n",
       "    </tr>\n",
       "    <tr>\n",
       "      <th>4</th>\n",
       "      <td>SBNY</td>\n",
       "    </tr>\n",
       "    <tr>\n",
       "      <th>5</th>\n",
       "      <td>TDG</td>\n",
       "    </tr>\n",
       "    <tr>\n",
       "      <th>6</th>\n",
       "      <td>V</td>\n",
       "    </tr>\n",
       "    <tr>\n",
       "      <th>7</th>\n",
       "      <td>ZBH</td>\n",
       "    </tr>\n",
       "    <tr>\n",
       "      <th>8</th>\n",
       "      <td>ZION</td>\n",
       "    </tr>\n",
       "    <tr>\n",
       "      <th>9</th>\n",
       "      <td>ZTS</td>\n",
       "    </tr>\n",
       "  </tbody>\n",
       "</table>\n",
       "</div>"
      ],
      "text/plain": [
       "  tickers\n",
       "0     STZ\n",
       "1     FRC\n",
       "2     HSY\n",
       "3    MNST\n",
       "4    SBNY\n",
       "5     TDG\n",
       "6       V\n",
       "7     ZBH\n",
       "8    ZION\n",
       "9     ZTS"
      ]
     },
     "execution_count": 11,
     "metadata": {},
     "output_type": "execute_result"
    }
   ],
   "source": [
    "unmodeled_tickers"
   ]
  },
  {
   "cell_type": "code",
   "execution_count": 16,
   "id": "a9781393",
   "metadata": {},
   "outputs": [],
   "source": [
    "tickers = [x for x in sp5[\"Symbol\"] if x not in list(deactivated_tickers[\"ticker\"]) and x not in list(unmodeled_tickers[\"tickers\"])]"
   ]
  },
  {
   "cell_type": "code",
   "execution_count": 17,
   "id": "5c6d33e5",
   "metadata": {},
   "outputs": [
    {
     "data": {
      "text/plain": [
       "403"
      ]
     },
     "execution_count": 17,
     "metadata": {},
     "output_type": "execute_result"
    }
   ],
   "source": [
    "len(tickers)"
   ]
  },
  {
   "cell_type": "code",
   "execution_count": 18,
   "id": "235a8676",
   "metadata": {
    "scrolled": true
   },
   "outputs": [
    {
     "name": "stderr",
     "output_type": "stream",
     "text": [
      "  0%|                                                                                                                                                | 0/403 [00:00<?, ?it/s]E:\\projects\\longshot_venv\\longshot\\processor\\processor.py:19: FutureWarning: Series.dt.weekofyear and Series.dt.week have been deprecated.  Please use Series.dt.isocalendar().week instead.\n",
      "  data[\"week\"] = data[\"date\"].dt.week\n",
      "100%|██████████████████████████████████████████████████████████████████████████████████████████████████████████████████████████████████████| 403/403 [00:43<00:00,  9.36it/s]\n"
     ]
    }
   ],
   "source": [
    "market.connect()\n",
    "strat_class.db.connect()\n",
    "for ticker in tqdm(tickers):\n",
    "    try:\n",
    "        prices = market.retrieve_ticker_prices(\"prices\",ticker)\n",
    "        prices = p.column_date_processing(prices)\n",
    "        complete = strat_class.transform(prices,ticker)\n",
    "        strat_class.db.store(\"data\",complete[strat_class.included_columns])\n",
    "    except:\n",
    "        continue\n",
    "strat_class.db.disconnect()\n",
    "market.disconnect()"
   ]
  }
 ],
 "metadata": {
  "kernelspec": {
   "display_name": "Python 3 (ipykernel)",
   "language": "python",
   "name": "python3"
  },
  "language_info": {
   "codemirror_mode": {
    "name": "ipython",
    "version": 3
   },
   "file_extension": ".py",
   "mimetype": "text/x-python",
   "name": "python",
   "nbconvert_exporter": "python",
   "pygments_lexer": "ipython3",
   "version": "3.10.5"
  }
 },
 "nbformat": 4,
 "nbformat_minor": 5
}
