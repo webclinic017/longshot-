{
 "cells": [
  {
   "cell_type": "code",
   "execution_count": 17,
   "id": "aa80f443",
   "metadata": {
    "scrolled": true
   },
   "outputs": [],
   "source": [
    "from datetime import datetime, timedelta\n",
    "import pandas as pd\n",
    "from tqdm import tqdm\n",
    "from modeler.modeler import Modeler as m\n",
    "from processor.processor import Processor as p\n",
    "from database.market import Market\n",
    "from database.adatabase import ADatabase\n",
    "import numpy as np"
   ]
  },
  {
   "cell_type": "code",
   "execution_count": 18,
   "id": "b38d4176",
   "metadata": {
    "scrolled": true
   },
   "outputs": [],
   "source": [
    "start_year = datetime.now().year\n",
    "end_year = start_year + 1\n",
    "training_year = 4"
   ]
  },
  {
   "cell_type": "code",
   "execution_count": 19,
   "id": "e5adbebb",
   "metadata": {},
   "outputs": [],
   "source": [
    "market = Market()\n",
    "speculation_db = ADatabase(\"bitcoin_speculation\")"
   ]
  },
  {
   "cell_type": "code",
   "execution_count": 1,
   "id": "ef5ae53c",
   "metadata": {},
   "outputs": [
    {
     "ename": "NameError",
     "evalue": "name 'market' is not defined",
     "output_type": "error",
     "traceback": [
      "\u001b[1;31m---------------------------------------------------------------------------\u001b[0m",
      "\u001b[1;31mNameError\u001b[0m                                 Traceback (most recent call last)",
      "\u001b[1;32m~\\AppData\\Local\\Temp/ipykernel_7096/3074502916.py\u001b[0m in \u001b[0;36m<module>\u001b[1;34m\u001b[0m\n\u001b[1;32m----> 1\u001b[1;33m \u001b[0mmarket\u001b[0m\u001b[1;33m.\u001b[0m\u001b[0mconnect\u001b[0m\u001b[1;33m(\u001b[0m\u001b[1;33m)\u001b[0m\u001b[1;33m\u001b[0m\u001b[1;33m\u001b[0m\u001b[0m\n\u001b[0m\u001b[0;32m      2\u001b[0m \u001b[0mticker\u001b[0m \u001b[1;33m=\u001b[0m \u001b[1;34m\"BTC\"\u001b[0m\u001b[1;33m\u001b[0m\u001b[1;33m\u001b[0m\u001b[0m\n\u001b[0;32m      3\u001b[0m \u001b[0mdata\u001b[0m \u001b[1;33m=\u001b[0m \u001b[1;33m[\u001b[0m\u001b[1;33m]\u001b[0m\u001b[1;33m\u001b[0m\u001b[1;33m\u001b[0m\u001b[0m\n\u001b[0;32m      4\u001b[0m \u001b[1;32mtry\u001b[0m\u001b[1;33m:\u001b[0m\u001b[1;33m\u001b[0m\u001b[1;33m\u001b[0m\u001b[0m\n\u001b[0;32m      5\u001b[0m     \u001b[0mprices\u001b[0m\u001b[1;33m[\u001b[0m\u001b[1;34m\"year\"\u001b[0m\u001b[1;33m]\u001b[0m \u001b[1;33m=\u001b[0m \u001b[1;33m[\u001b[0m\u001b[0mx\u001b[0m\u001b[1;33m.\u001b[0m\u001b[0myear\u001b[0m \u001b[1;32mfor\u001b[0m \u001b[0mx\u001b[0m \u001b[1;32min\u001b[0m \u001b[0mprices\u001b[0m\u001b[1;33m[\u001b[0m\u001b[1;34m\"date\"\u001b[0m\u001b[1;33m]\u001b[0m\u001b[1;33m]\u001b[0m\u001b[1;33m\u001b[0m\u001b[1;33m\u001b[0m\u001b[0m\n",
      "\u001b[1;31mNameError\u001b[0m: name 'market' is not defined"
     ]
    }
   ],
   "source": [
    "speculation_db.connect()\n",
    "data = speculation_db.retrieve(\"pdr_data\")\n",
    "speculation_db.disconnect()"
   ]
  },
  {
   "cell_type": "code",
   "execution_count": 22,
   "id": "3d9be390",
   "metadata": {},
   "outputs": [],
   "source": [
    "factors = [str(x) for x in range(14)]\n",
    "factors.append(\"adjclose\")\n",
    "factors.append(\"d1\")\n",
    "factors.append(\"d2\")\n",
    "factors.append(\"d3\")"
   ]
  },
  {
   "cell_type": "code",
   "execution_count": 24,
   "id": "235a8676",
   "metadata": {
    "scrolled": true
   },
   "outputs": [
    {
     "name": "stderr",
     "output_type": "stream",
     "text": [
      "100%|██████████████████████████████████████████████████████████████████████████████████████████████████████████████████████████████████████████| 7/7 [01:00<00:00,  8.66s/it]\n",
      "100%|██████████████████████████████████████████████████████████████████████████████████████████████████████████████████████████████████████████| 7/7 [01:11<00:00, 10.27s/it]\n"
     ]
    }
   ],
   "source": [
    "sim = []\n",
    "speculation_db.connect()\n",
    "errors = []\n",
    "for year in tqdm(range(start_year,end_year)):\n",
    "    try:\n",
    "        training_data = data[(data[\"year\"]<year) & (data[\"year\"]>=year-training_year)]\n",
    "        training_data.dropna(inplace=True)\n",
    "        training_data.reset_index(drop=True,inplace=True)\n",
    "        prediction_data = data[data[\"year\"]==year].dropna().reset_index()\n",
    "        if training_data.index.size > 100 and prediction_data.index.size > 40:\n",
    "            refined = {\"X\":training_data[factors],\"y\":training_data[\"y\"]}\n",
    "            models = m.regression(refined)            \n",
    "            models[\"year\"] = year\n",
    "            models[\"training_year\"] = training_year\n",
    "            models[\"model\"] = [pickle.dumps(x) for x in models[\"model\"]]\n",
    "            speculation_db.store(\"models\",models)\n",
    "        else:\n",
    "            errors.append([year,training_data.index.size,prediction_data.index.size,\"not_enough_stuff\"])\n",
    "    except Exception as e:\n",
    "        errors.append([year,training_data.index.size,prediction_data.index.size,str(e)])\n",
    "speculation_db.disconnect()"
   ]
  }
 ],
 "metadata": {
  "kernelspec": {
   "display_name": "Python 3 (ipykernel)",
   "language": "python",
   "name": "python3"
  },
  "language_info": {
   "codemirror_mode": {
    "name": "ipython",
    "version": 3
   },
   "file_extension": ".py",
   "mimetype": "text/x-python",
   "name": "python",
   "nbconvert_exporter": "python",
   "pygments_lexer": "ipython3",
   "version": "3.10.5"
  }
 },
 "nbformat": 4,
 "nbformat_minor": 5
}
