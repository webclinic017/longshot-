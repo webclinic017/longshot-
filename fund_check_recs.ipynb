{
 "cells": [
  {
   "cell_type": "code",
   "execution_count": 1,
   "id": "288d8afc",
   "metadata": {},
   "outputs": [],
   "source": [
    "from datetime import datetime\n",
    "from fund.fund import Fund\n",
    "from pricer.pricer import Pricer as pricer_list\n",
    "from ranker.ranker import Ranker as ranker_list\n",
    "from classifier.classifier import Classifier as classifier_list\n",
    "from portfolio.aportfolio import APortfolio\n",
    "from parameters.parameters import Parameters \n",
    "import pandas as pd\n",
    "from returns.products import Products\n",
    "from processor.processor import Processor as p\n",
    "from returns.products import Products\n",
    "from database.market import Market"
   ]
  },
  {
   "cell_type": "code",
   "execution_count": 2,
   "id": "d4fb0e35",
   "metadata": {},
   "outputs": [],
   "source": [
    "portfolio_ii = APortfolio(pricer_list.WEEKLY_STOCK_ROLLING\n",
    "                           ,classifier_list.NONE\n",
    "                          ,ranker_list.NONE)\n",
    "# portfolio_v = APortfolio(pricer_list.WEEKLY_CRYPTO_WINDOW\n",
    "#                           ,classifier_list.NONE\n",
    "#                           ,ranker_list.NONE)\n",
    "portfolios = []\n",
    "portfolios.append(portfolio_ii)\n",
    "# portfolios.append(portfolio_v)"
   ]
  },
  {
   "cell_type": "code",
   "execution_count": 3,
   "id": "f0974d81",
   "metadata": {},
   "outputs": [],
   "source": [
    "backtest_start_date = datetime(2001,1,1)\n",
    "backtest_end_date  = datetime(2023,1,1)\n",
    "current_start_date = datetime(2023,1,1)\n",
    "current_end_date = datetime.now()\n",
    "week = datetime.now().isocalendar()[1]"
   ]
  },
  {
   "cell_type": "code",
   "execution_count": 4,
   "id": "f025727e",
   "metadata": {},
   "outputs": [],
   "source": [
    "fund = Fund(portfolios,backtest_start_date,backtest_end_date,current_start_date)\n",
    "market = Market()"
   ]
  },
  {
   "cell_type": "code",
   "execution_count": 5,
   "id": "8f5af5d6",
   "metadata": {},
   "outputs": [],
   "source": [
    "fund.initialize_portfolios()\n",
    "fund.initialize_backtesters()"
   ]
  },
  {
   "cell_type": "code",
   "execution_count": 6,
   "id": "014f3398",
   "metadata": {},
   "outputs": [],
   "source": [
    "fund.reset()\n",
    "recs = fund.pull_recommendation()"
   ]
  },
  {
   "cell_type": "code",
   "execution_count": 7,
   "id": "e6aa6ede",
   "metadata": {},
   "outputs": [],
   "source": [
    "analysis = pd.concat(recs)"
   ]
  },
  {
   "cell_type": "code",
   "execution_count": 8,
   "id": "5acebbe3",
   "metadata": {},
   "outputs": [
    {
     "data": {
      "text/html": [
       "<div>\n",
       "<style scoped>\n",
       "    .dataframe tbody tr th:only-of-type {\n",
       "        vertical-align: middle;\n",
       "    }\n",
       "\n",
       "    .dataframe tbody tr th {\n",
       "        vertical-align: top;\n",
       "    }\n",
       "\n",
       "    .dataframe thead th {\n",
       "        text-align: right;\n",
       "    }\n",
       "</style>\n",
       "<table border=\"1\" class=\"dataframe\">\n",
       "  <thead>\n",
       "    <tr style=\"text-align: right;\">\n",
       "      <th></th>\n",
       "      <th>year</th>\n",
       "      <th>week</th>\n",
       "      <th>ticker</th>\n",
       "      <th>Security</th>\n",
       "      <th>GICS Sector</th>\n",
       "      <th>position</th>\n",
       "      <th>weekly_delta</th>\n",
       "      <th>weekly_delta_sign</th>\n",
       "      <th>portfolio</th>\n",
       "    </tr>\n",
       "  </thead>\n",
       "  <tbody>\n",
       "  </tbody>\n",
       "</table>\n",
       "</div>"
      ],
      "text/plain": [
       "Empty DataFrame\n",
       "Columns: [year, week, ticker, Security, GICS Sector, position, weekly_delta, weekly_delta_sign, portfolio]\n",
       "Index: []"
      ]
     },
     "execution_count": 8,
     "metadata": {},
     "output_type": "execute_result"
    }
   ],
   "source": [
    "analysis[analysis[\"week\"]==week].sort_values([\"week\",\"weekly_delta\"],ascending=False).head(20)"
   ]
  }
 ],
 "metadata": {
  "kernelspec": {
   "display_name": "Python 3 (ipykernel)",
   "language": "python",
   "name": "python3"
  },
  "language_info": {
   "codemirror_mode": {
    "name": "ipython",
    "version": 3
   },
   "file_extension": ".py",
   "mimetype": "text/x-python",
   "name": "python",
   "nbconvert_exporter": "python",
   "pygments_lexer": "ipython3",
   "version": "3.10.5"
  }
 },
 "nbformat": 4,
 "nbformat_minor": 5
}
