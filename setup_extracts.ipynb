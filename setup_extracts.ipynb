{
 "cells": [
  {
   "cell_type": "code",
   "execution_count": 1,
   "id": "69a32e37",
   "metadata": {},
   "outputs": [],
   "source": [
    "import pandas as pd\n",
    "from database.market import Market\n",
    "from database.adatabase import ADatabase\n",
    "from datetime import datetime, timedelta\n",
    "from tqdm import tqdm\n",
    "from extractor.tiingo_extractor import TiingoExtractor\n",
    "from extractor.forex_extractor import FOREXExtractor\n",
    "from extractor.fred_extractor import FREDExtractor\n",
    "from processor.processor import Processor as p"
   ]
  },
  {
   "cell_type": "code",
   "execution_count": 3,
   "id": "ef0d66bd",
   "metadata": {},
   "outputs": [],
   "source": [
    "market = Market()"
   ]
  },
  {
   "cell_type": "code",
   "execution_count": 10,
   "id": "93eb4153",
   "metadata": {},
   "outputs": [],
   "source": [
    "sp5 = pd.read_csv(\"sp500.csv\")\n",
    "sp5 = sp5.drop(\"Unnamed: 0\",axis=1)"
   ]
  },
  {
   "cell_type": "code",
   "execution_count": 4,
   "id": "87160cb8",
   "metadata": {},
   "outputs": [],
   "source": [
    "market.connect()\n",
    "market.store(\"sp500\",sp5)\n",
    "market.disconnect()"
   ]
  },
  {
   "cell_type": "code",
   "execution_count": null,
   "id": "b039f028",
   "metadata": {},
   "outputs": [],
   "source": [
    "market.connect()\n",
    "start = datetime(2020,1,1).strftime(\"%Y-%m-%d\")\n",
    "market.disconnect()\n",
    "end = datetime.now().strftime(\"%Y-%m-%d\")"
   ]
  },
  {
   "cell_type": "code",
   "execution_count": null,
   "id": "c9eb0794",
   "metadata": {},
   "outputs": [],
   "source": [
    "market.connect()\n",
    "try:\n",
    "    try:\n",
    "        data = TiingoExtractor.crypto(\"BTC\",start,end)\n",
    "        data[\"ticker\"] = 'BTC'\n",
    "        market.store(\"crypto\",data)\n",
    "    except:\n",
    "        print(ticker,\"tiingo\")\n",
    "except Exception as e:\n",
    "    print(ticker,str(e))\n",
    "market.disconnect()"
   ]
  },
  {
   "cell_type": "code",
   "execution_count": null,
   "id": "006ead0b",
   "metadata": {},
   "outputs": [],
   "source": [
    "market.connect()\n",
    "try:\n",
    "    data = FREDExtractor.spy(start,end)\n",
    "    market.store(\"spy\",data)\n",
    "    data = FREDExtractor.tyields(start,end)\n",
    "    market.store(\"tyields\",data)\n",
    "    data = FREDExtractor.tyields2(start,end)\n",
    "    market.store(\"tyields2\",data)\n",
    "    data = FREDExtractor.tyields10(start,end)\n",
    "    market.store(\"tyields10\",data)\n",
    "except Exception as e:\n",
    "    print(str(e))\n",
    "market.disconnect()"
   ]
  },
  {
   "cell_type": "code",
   "execution_count": null,
   "id": "6dc6c68d",
   "metadata": {},
   "outputs": [],
   "source": [
    "## cloud db update\n",
    "start = datetime.now() - timedelta(days=800)\n",
    "market.connect()\n",
    "stocks = market.retrieve(\"stocks\")\n",
    "crypto = market.retrieve(\"crypto\")\n",
    "tyields = market.retrieve(\"tyields\")\n",
    "tyields2 = market.retrieve(\"tyields2\")\n",
    "tyields10 = market.retrieve(\"tyields10\")\n",
    "bench = market.retrieve(\"spy\")\n",
    "market.disconnect()\n",
    "stocks = p.column_date_processing(stocks)\n",
    "stocks = stocks[stocks[\"date\"]>=start]\n",
    "crypto = p.column_date_processing(crypto)\n",
    "crypto = crypto[crypto[\"date\"]>=start]\n",
    "market.cloud_connect()\n",
    "market.drop(\"stocks\")\n",
    "market.drop(\"tyields\")\n",
    "market.drop(\"tyields2\")\n",
    "market.drop(\"tyields10\")\n",
    "market.drop(\"spy\")\n",
    "market.drop(\"crypto\")\n",
    "market.store(\"tyields\",tyields)\n",
    "market.store(\"tyields2\",tyields2)\n",
    "market.store(\"tyields10\",tyields10)\n",
    "market.store(\"spy\",bench)\n",
    "market.store(\"stocks\",stocks)\n",
    "market.create_index(\"stocks\",\"ticker\")\n",
    "market.store(\"crypto\",crypto)\n",
    "market.create_index(\"crypto\",\"ticker\")\n",
    "market.disconnect()"
   ]
  }
 ],
 "metadata": {
  "kernelspec": {
   "display_name": "Python 3 (ipykernel)",
   "language": "python",
   "name": "python3"
  },
  "language_info": {
   "codemirror_mode": {
    "name": "ipython",
    "version": 3
   },
   "file_extension": ".py",
   "mimetype": "text/x-python",
   "name": "python",
   "nbconvert_exporter": "python",
   "pygments_lexer": "ipython3",
   "version": "3.10.5"
  }
 },
 "nbformat": 4,
 "nbformat_minor": 5
}
