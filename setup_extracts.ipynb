{
 "cells": [
  {
   "cell_type": "code",
   "execution_count": 4,
   "id": "69a32e37",
   "metadata": {},
   "outputs": [],
   "source": [
    "import pandas as pd\n",
    "from database.market import Market\n",
    "from database.adatabase import ADatabase\n",
    "from datetime import datetime, timedelta\n",
    "from tqdm import tqdm\n",
    "from extractor.tiingo_extractor import TiingoExtractor\n",
    "from extractor.forex_extractor import FOREXExtractor\n",
    "from extractor.fred_extractor import FREDExtractor\n",
    "from processor.processor import Processor as p"
   ]
  },
  {
   "cell_type": "code",
   "execution_count": 5,
   "id": "ef0d66bd",
   "metadata": {},
   "outputs": [],
   "source": [
    "market = Market()"
   ]
  },
  {
   "cell_type": "code",
   "execution_count": 6,
   "id": "93eb4153",
   "metadata": {},
   "outputs": [],
   "source": [
    "# sp5 = pd.read_csv(\"sp500.csv\")\n",
    "# sp5 = sp5.drop(\"Unnamed: 0\",axis=1)"
   ]
  },
  {
   "cell_type": "code",
   "execution_count": 7,
   "id": "87160cb8",
   "metadata": {},
   "outputs": [],
   "source": [
    "# market.connect()\n",
    "# market.store(\"sp500\",sp5)\n",
    "# market.disconnect()"
   ]
  },
  {
   "cell_type": "code",
   "execution_count": 8,
   "id": "b039f028",
   "metadata": {},
   "outputs": [],
   "source": [
    "market.connect()\n",
    "start = datetime(2023,8,4).strftime(\"%Y-%m-%d\")\n",
    "market.disconnect()\n",
    "end = datetime.now().strftime(\"%Y-%m-%d\")"
   ]
  },
  {
   "cell_type": "code",
   "execution_count": 9,
   "id": "c9eb0794",
   "metadata": {},
   "outputs": [],
   "source": [
    "# market.connect()\n",
    "# try:\n",
    "#     try:\n",
    "#         data = TiingoExtractor.crypto(\"BTC\",start,end)\n",
    "#         data[\"ticker\"] = 'BTC'\n",
    "#         market.store(\"crypto\",data)\n",
    "#     except:\n",
    "#         print(ticker,\"tiingo\")\n",
    "# except Exception as e:\n",
    "#     print(ticker,str(e))\n",
    "# market.disconnect()"
   ]
  },
  {
   "cell_type": "code",
   "execution_count": 10,
   "id": "006ead0b",
   "metadata": {},
   "outputs": [],
   "source": [
    "market.connect()\n",
    "try:\n",
    "    data = FREDExtractor.spy(start,end)\n",
    "    market.store(\"spy\",data)\n",
    "    data = FREDExtractor.tyields(start,end)\n",
    "    market.store(\"tyields\",data)\n",
    "    data = FREDExtractor.tyields2(start,end)\n",
    "    market.store(\"tyields2\",data)\n",
    "    data = FREDExtractor.tyields10(start,end)\n",
    "    market.store(\"tyields10\",data)\n",
    "except Exception as e:\n",
    "    print(str(e))\n",
    "market.disconnect()"
   ]
  },
  {
   "cell_type": "code",
   "execution_count": 11,
   "id": "5ff78a83",
   "metadata": {},
   "outputs": [
    {
     "data": {
      "text/html": [
       "<div>\n",
       "<style scoped>\n",
       "    .dataframe tbody tr th:only-of-type {\n",
       "        vertical-align: middle;\n",
       "    }\n",
       "\n",
       "    .dataframe tbody tr th {\n",
       "        vertical-align: top;\n",
       "    }\n",
       "\n",
       "    .dataframe thead th {\n",
       "        text-align: right;\n",
       "    }\n",
       "</style>\n",
       "<table border=\"1\" class=\"dataframe\">\n",
       "  <thead>\n",
       "    <tr style=\"text-align: right;\">\n",
       "      <th></th>\n",
       "      <th>realtime_start</th>\n",
       "      <th>realtime_end</th>\n",
       "      <th>date</th>\n",
       "      <th>value</th>\n",
       "    </tr>\n",
       "  </thead>\n",
       "  <tbody>\n",
       "    <tr>\n",
       "      <th>0</th>\n",
       "      <td>2023-08-08</td>\n",
       "      <td>2023-08-08</td>\n",
       "      <td>2023-08-04</td>\n",
       "      <td>4.05</td>\n",
       "    </tr>\n",
       "  </tbody>\n",
       "</table>\n",
       "</div>"
      ],
      "text/plain": [
       "  realtime_start realtime_end        date  value\n",
       "0     2023-08-08   2023-08-08  2023-08-04   4.05"
      ]
     },
     "execution_count": 11,
     "metadata": {},
     "output_type": "execute_result"
    }
   ],
   "source": []
  }
 ],
 "metadata": {
  "kernelspec": {
   "display_name": "Python 3 (ipykernel)",
   "language": "python",
   "name": "python3"
  },
  "language_info": {
   "codemirror_mode": {
    "name": "ipython",
    "version": 3
   },
   "file_extension": ".py",
   "mimetype": "text/x-python",
   "name": "python",
   "nbconvert_exporter": "python",
   "pygments_lexer": "ipython3",
   "version": "3.10.5"
  }
 },
 "nbformat": 4,
 "nbformat_minor": 5
}
