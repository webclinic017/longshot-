{
 "cells": [
  {
   "cell_type": "code",
   "execution_count": 1,
   "id": "5a24d11e",
   "metadata": {},
   "outputs": [],
   "source": [
    "import pandas as pd\n",
    "from database.market import Market\n",
    "from database.adatabase import ADatabase\n",
    "from processor.processor import Processor as p\n",
    "from datetime import datetime\n",
    "from tqdm import tqdm\n",
    "import numpy as np\n",
    "from modeler_strats.universal_modeler import UniversalModeler"
   ]
  },
  {
   "cell_type": "code",
   "execution_count": 2,
   "id": "1f7fc22a",
   "metadata": {},
   "outputs": [],
   "source": [
    "market = Market()\n",
    "spec = ADatabase(\"forex\")\n",
    "umod = UniversalModeler()"
   ]
  },
  {
   "cell_type": "code",
   "execution_count": 3,
   "id": "983a4ac6",
   "metadata": {},
   "outputs": [],
   "source": [
    "factors = [str(x) for x in range(14)]"
   ]
  },
  {
   "cell_type": "code",
   "execution_count": 4,
   "id": "06e0c3f1",
   "metadata": {},
   "outputs": [],
   "source": [
    "included_columns=[\n",
    "    \"year\",\n",
    "    \"week\",\n",
    "    \"ticker\",\n",
    "    \"adjclose\",\n",
    "    \"y\"\n",
    "]"
   ]
  },
  {
   "cell_type": "code",
   "execution_count": 5,
   "id": "c552e7c0",
   "metadata": {},
   "outputs": [],
   "source": [
    "included_columns.extend(factors)"
   ]
  },
  {
   "cell_type": "code",
   "execution_count": 6,
   "id": "fb51d227",
   "metadata": {},
   "outputs": [],
   "source": [
    "training_sets = []"
   ]
  },
  {
   "cell_type": "code",
   "execution_count": 7,
   "id": "1a6e9b70",
   "metadata": {},
   "outputs": [],
   "source": [
    "market.connect()\n",
    "data = market.retrieve(\"forex\")\n",
    "market.disconnect()"
   ]
  },
  {
   "cell_type": "code",
   "execution_count": 10,
   "id": "99ade471",
   "metadata": {},
   "outputs": [],
   "source": [
    "all_prices = data.melt(id_vars=\"date\",value_vars=[x for x in data.columns if x != \"date\"]).rename(columns={\"variable\":\"ticker\",\"value\":\"adjclose\"})"
   ]
  },
  {
   "cell_type": "code",
   "execution_count": 11,
   "id": "d0c50b92",
   "metadata": {},
   "outputs": [
    {
     "data": {
      "text/html": [
       "<div>\n",
       "<style scoped>\n",
       "    .dataframe tbody tr th:only-of-type {\n",
       "        vertical-align: middle;\n",
       "    }\n",
       "\n",
       "    .dataframe tbody tr th {\n",
       "        vertical-align: top;\n",
       "    }\n",
       "\n",
       "    .dataframe thead th {\n",
       "        text-align: right;\n",
       "    }\n",
       "</style>\n",
       "<table border=\"1\" class=\"dataframe\">\n",
       "  <thead>\n",
       "    <tr style=\"text-align: right;\">\n",
       "      <th></th>\n",
       "      <th>date</th>\n",
       "      <th>ticker</th>\n",
       "      <th>adjclose</th>\n",
       "    </tr>\n",
       "  </thead>\n",
       "  <tbody>\n",
       "    <tr>\n",
       "      <th>0</th>\n",
       "      <td>2000-01-01</td>\n",
       "      <td>ANG</td>\n",
       "      <td>1.790000</td>\n",
       "    </tr>\n",
       "    <tr>\n",
       "      <th>1</th>\n",
       "      <td>2000-01-02</td>\n",
       "      <td>ANG</td>\n",
       "      <td>1.790000</td>\n",
       "    </tr>\n",
       "    <tr>\n",
       "      <th>2</th>\n",
       "      <td>2000-01-03</td>\n",
       "      <td>ANG</td>\n",
       "      <td>1.790000</td>\n",
       "    </tr>\n",
       "    <tr>\n",
       "      <th>3</th>\n",
       "      <td>2000-01-04</td>\n",
       "      <td>ANG</td>\n",
       "      <td>1.790000</td>\n",
       "    </tr>\n",
       "    <tr>\n",
       "      <th>4</th>\n",
       "      <td>2000-01-05</td>\n",
       "      <td>ANG</td>\n",
       "      <td>1.790000</td>\n",
       "    </tr>\n",
       "    <tr>\n",
       "      <th>...</th>\n",
       "      <td>...</td>\n",
       "      <td>...</td>\n",
       "      <td>...</td>\n",
       "    </tr>\n",
       "    <tr>\n",
       "      <th>1446015</th>\n",
       "      <td>2023-04-11</td>\n",
       "      <td>VES</td>\n",
       "      <td>24.361623</td>\n",
       "    </tr>\n",
       "    <tr>\n",
       "      <th>1446016</th>\n",
       "      <td>2023-04-12</td>\n",
       "      <td>VES</td>\n",
       "      <td>24.442814</td>\n",
       "    </tr>\n",
       "    <tr>\n",
       "      <th>1446017</th>\n",
       "      <td>2023-04-13</td>\n",
       "      <td>VES</td>\n",
       "      <td>24.457308</td>\n",
       "    </tr>\n",
       "    <tr>\n",
       "      <th>1446018</th>\n",
       "      <td>2023-04-14</td>\n",
       "      <td>VES</td>\n",
       "      <td>24.511235</td>\n",
       "    </tr>\n",
       "    <tr>\n",
       "      <th>1446019</th>\n",
       "      <td>2023-04-15</td>\n",
       "      <td>VES</td>\n",
       "      <td>24.511235</td>\n",
       "    </tr>\n",
       "  </tbody>\n",
       "</table>\n",
       "<p>1446020 rows × 3 columns</p>\n",
       "</div>"
      ],
      "text/plain": [
       "               date ticker   adjclose\n",
       "0        2000-01-01    ANG   1.790000\n",
       "1        2000-01-02    ANG   1.790000\n",
       "2        2000-01-03    ANG   1.790000\n",
       "3        2000-01-04    ANG   1.790000\n",
       "4        2000-01-05    ANG   1.790000\n",
       "...             ...    ...        ...\n",
       "1446015  2023-04-11    VES  24.361623\n",
       "1446016  2023-04-12    VES  24.442814\n",
       "1446017  2023-04-13    VES  24.457308\n",
       "1446018  2023-04-14    VES  24.511235\n",
       "1446019  2023-04-15    VES  24.511235\n",
       "\n",
       "[1446020 rows x 3 columns]"
      ]
     },
     "execution_count": 11,
     "metadata": {},
     "output_type": "execute_result"
    }
   ],
   "source": [
    "all_prices"
   ]
  },
  {
   "cell_type": "code",
   "execution_count": 12,
   "id": "c551e792",
   "metadata": {},
   "outputs": [
    {
     "name": "stderr",
     "output_type": "stream",
     "text": [
      "100%|██████████████████████████████████████████████████████████████████████████████████████████████████████████| 170/170 [00:19<00:00,  8.56it/s]\n"
     ]
    }
   ],
   "source": [
    "for ticker in tqdm(all_prices[\"ticker\"].unique()):\n",
    "    try:\n",
    "        prices = all_prices[all_prices[\"ticker\"]==ticker]\n",
    "        prices = p.column_date_processing(prices)\n",
    "        prices[\"year\"] = [x.year for x in prices[\"date\"]]\n",
    "        prices[\"quarter\"] = [x.quarter for x in prices[\"date\"]]\n",
    "        ticker_data = prices[prices[\"ticker\"]==ticker]\n",
    "        ticker_data.sort_values(\"date\",ascending=True,inplace=True)\n",
    "        ticker_data[\"adjclose\"] = [float(x) for x in ticker_data[\"adjclose\"]]\n",
    "        ticker_data = ticker_data.groupby([\"year\",\"week\"]).mean().reset_index()\n",
    "        for i in range(14):\n",
    "            ticker_data[str(i)] = ticker_data[\"adjclose\"].shift(i)\n",
    "        ticker_data[\"d1\"] = ticker_data[\"adjclose\"].pct_change(periods=1)\n",
    "        ticker_data[\"d2\"] = ticker_data[\"d1\"].pct_change(periods=1)\n",
    "        ticker_data[\"d3\"] = ticker_data[\"d2\"].pct_change(periods=1)\n",
    "        ticker_data[\"rolling14\"] = ticker_data[\"adjclose\"].rolling(window=14).mean()\n",
    "        ticker_data.dropna(inplace=True)\n",
    "        ticker_data[\"ticker\"] = ticker\n",
    "        ticker_data[\"y\"] = ticker_data[\"adjclose\"].shift(-1)\n",
    "        ticker_data = ticker_data.replace([np.inf, -np.inf], np.nan).dropna()\n",
    "        ticker_data.dropna(inplace=True)\n",
    "        ticker_data = ticker_data[included_columns]\n",
    "        training_sets.append(ticker_data)\n",
    "    except:\n",
    "        continue"
   ]
  },
  {
   "cell_type": "code",
   "execution_count": 13,
   "id": "0ea5d66b",
   "metadata": {},
   "outputs": [],
   "source": [
    "data = pd.concat(training_sets)"
   ]
  },
  {
   "cell_type": "code",
   "execution_count": 14,
   "id": "736f208f",
   "metadata": {},
   "outputs": [],
   "source": [
    "data = data.dropna()"
   ]
  },
  {
   "cell_type": "code",
   "execution_count": 15,
   "id": "23ad6193",
   "metadata": {
    "scrolled": true
   },
   "outputs": [
    {
     "name": "stderr",
     "output_type": "stream",
     "text": [
      "\r",
      "  0%|                                                                                                                     | 0/14 [00:00<?, ?it/s]"
     ]
    },
    {
     "name": "stdout",
     "output_type": "stream",
     "text": [
      "Epoch 1/10\n",
      "636/636 [==============================] - 1s 837us/step - loss: 138776.4219 - mean_absolute_percentage_error: 7.3704\n",
      "Epoch 2/10\n",
      "636/636 [==============================] - 0s 753us/step - loss: 15177.1963 - mean_absolute_percentage_error: 6.2005\n",
      "Epoch 3/10\n",
      "636/636 [==============================] - 0s 750us/step - loss: 14028.9170 - mean_absolute_percentage_error: 5.5299\n",
      "Epoch 4/10\n",
      "636/636 [==============================] - 0s 748us/step - loss: 8247.0654 - mean_absolute_percentage_error: 5.9860\n",
      "Epoch 5/10\n",
      "636/636 [==============================] - 0s 756us/step - loss: 5624.3604 - mean_absolute_percentage_error: 6.2836\n",
      "Epoch 6/10\n",
      "636/636 [==============================] - 0s 752us/step - loss: 7862.6318 - mean_absolute_percentage_error: 7.0520\n",
      "Epoch 7/10\n",
      "636/636 [==============================] - 0s 747us/step - loss: 8175.4668 - mean_absolute_percentage_error: 4.3493\n",
      "Epoch 8/10\n",
      "636/636 [==============================] - 0s 750us/step - loss: 9193.1445 - mean_absolute_percentage_error: 3.5492\n",
      "Epoch 9/10\n",
      "636/636 [==============================] - 0s 758us/step - loss: 5660.9033 - mean_absolute_percentage_error: 2.9343\n",
      "Epoch 10/10\n",
      "636/636 [==============================] - 0s 759us/step - loss: 5355.7847 - mean_absolute_percentage_error: 6.5552\n",
      "212/212 [==============================] - 0s 597us/step\n",
      "230/230 [==============================] - 0s 563us/step\n"
     ]
    },
    {
     "name": "stderr",
     "output_type": "stream",
     "text": [
      "\r",
      "  7%|███████▊                                                                                                     | 1/14 [00:27<05:55, 27.38s/it]"
     ]
    },
    {
     "name": "stdout",
     "output_type": "stream",
     "text": [
      "Epoch 1/10\n",
      "647/647 [==============================] - 1s 796us/step - loss: 54573.9102 - mean_absolute_percentage_error: 4.6424\n",
      "Epoch 2/10\n",
      "647/647 [==============================] - 0s 771us/step - loss: 10275.9229 - mean_absolute_percentage_error: 3.8243\n",
      "Epoch 3/10\n",
      "647/647 [==============================] - 0s 771us/step - loss: 8014.5986 - mean_absolute_percentage_error: 2.6303\n",
      "Epoch 4/10\n",
      "647/647 [==============================] - 1s 779us/step - loss: 6617.9116 - mean_absolute_percentage_error: 3.4762\n",
      "Epoch 5/10\n",
      "647/647 [==============================] - 0s 765us/step - loss: 17375.6348 - mean_absolute_percentage_error: 4.6031\n",
      "Epoch 6/10\n",
      "647/647 [==============================] - 1s 782us/step - loss: 5121.3291 - mean_absolute_percentage_error: 5.9867\n",
      "Epoch 7/10\n",
      "647/647 [==============================] - 0s 766us/step - loss: 9091.6709 - mean_absolute_percentage_error: 3.8941\n",
      "Epoch 8/10\n",
      "647/647 [==============================] - 0s 757us/step - loss: 4943.3267 - mean_absolute_percentage_error: 2.4839\n",
      "Epoch 9/10\n",
      "647/647 [==============================] - 0s 755us/step - loss: 4927.8257 - mean_absolute_percentage_error: 3.0847\n",
      "Epoch 10/10\n",
      "647/647 [==============================] - 0s 762us/step - loss: 6437.7148 - mean_absolute_percentage_error: 2.2496\n",
      "216/216 [==============================] - 0s 558us/step\n",
      "229/229 [==============================] - 0s 553us/step\n"
     ]
    },
    {
     "name": "stderr",
     "output_type": "stream",
     "text": [
      "\r",
      " 14%|███████████████▌                                                                                             | 2/14 [00:54<05:27, 27.29s/it]"
     ]
    },
    {
     "name": "stdout",
     "output_type": "stream",
     "text": [
      "Epoch 1/10\n",
      "662/662 [==============================] - 1s 740us/step - loss: 54615.8789 - mean_absolute_percentage_error: 4.8818\n",
      "Epoch 2/10\n",
      "662/662 [==============================] - 0s 731us/step - loss: 18415.2695 - mean_absolute_percentage_error: 6.1233\n",
      "Epoch 3/10\n",
      "662/662 [==============================] - 0s 731us/step - loss: 10616.0859 - mean_absolute_percentage_error: 5.8694\n",
      "Epoch 4/10\n",
      "662/662 [==============================] - 0s 740us/step - loss: 17045.5625 - mean_absolute_percentage_error: 4.6633\n",
      "Epoch 5/10\n",
      "662/662 [==============================] - 0s 726us/step - loss: 8848.6016 - mean_absolute_percentage_error: 3.0478\n",
      "Epoch 6/10\n",
      "662/662 [==============================] - 0s 726us/step - loss: 10467.8535 - mean_absolute_percentage_error: 3.7043\n",
      "Epoch 7/10\n",
      "662/662 [==============================] - 0s 725us/step - loss: 11012.5176 - mean_absolute_percentage_error: 3.7408\n",
      "Epoch 8/10\n",
      "662/662 [==============================] - 0s 729us/step - loss: 9774.7383 - mean_absolute_percentage_error: 3.5819\n",
      "Epoch 9/10\n",
      "662/662 [==============================] - 0s 744us/step - loss: 11341.8682 - mean_absolute_percentage_error: 4.1288\n",
      "Epoch 10/10\n",
      "662/662 [==============================] - 0s 727us/step - loss: 8424.7021 - mean_absolute_percentage_error: 2.4085\n",
      "221/221 [==============================] - 0s 559us/step\n",
      "233/233 [==============================] - 0s 573us/step\n"
     ]
    },
    {
     "name": "stderr",
     "output_type": "stream",
     "text": [
      "\r",
      " 21%|███████████████████████▎                                                                                     | 3/14 [01:23<05:05, 27.81s/it]"
     ]
    },
    {
     "name": "stdout",
     "output_type": "stream",
     "text": [
      "Epoch 1/10\n",
      "680/680 [==============================] - 1s 739us/step - loss: 25237.1152 - mean_absolute_percentage_error: 5.1871\n",
      "Epoch 2/10\n",
      "680/680 [==============================] - 0s 717us/step - loss: 16676.3945 - mean_absolute_percentage_error: 4.3723\n",
      "Epoch 3/10\n",
      "680/680 [==============================] - 0s 729us/step - loss: 15758.5547 - mean_absolute_percentage_error: 8.2627\n",
      "Epoch 4/10\n",
      "680/680 [==============================] - 0s 723us/step - loss: 13176.3926 - mean_absolute_percentage_error: 10.5639\n",
      "Epoch 5/10\n",
      "680/680 [==============================] - 0s 716us/step - loss: 12109.6875 - mean_absolute_percentage_error: 9.6141\n",
      "Epoch 6/10\n",
      "680/680 [==============================] - 0s 720us/step - loss: 15500.0557 - mean_absolute_percentage_error: 5.1611\n",
      "Epoch 7/10\n",
      "680/680 [==============================] - 0s 714us/step - loss: 8216.1504 - mean_absolute_percentage_error: 3.4825\n",
      "Epoch 8/10\n",
      "680/680 [==============================] - 0s 725us/step - loss: 9010.1074 - mean_absolute_percentage_error: 8.7794\n",
      "Epoch 9/10\n",
      "680/680 [==============================] - 0s 717us/step - loss: 9815.1357 - mean_absolute_percentage_error: 12.8153\n",
      "Epoch 10/10\n",
      "680/680 [==============================] - 0s 725us/step - loss: 7594.3198 - mean_absolute_percentage_error: 14.3902\n",
      "227/227 [==============================] - 0s 553us/step\n",
      "241/241 [==============================] - 0s 579us/step\n"
     ]
    },
    {
     "name": "stderr",
     "output_type": "stream",
     "text": [
      "\r",
      " 29%|███████████████████████████████▏                                                                             | 4/14 [01:51<04:41, 28.16s/it]"
     ]
    },
    {
     "name": "stdout",
     "output_type": "stream",
     "text": [
      "Epoch 1/10\n",
      "698/698 [==============================] - 1s 778us/step - loss: 85950.6953 - mean_absolute_percentage_error: 5.8974\n",
      "Epoch 2/10\n",
      "698/698 [==============================] - 1s 775us/step - loss: 22038.9004 - mean_absolute_percentage_error: 5.5903\n",
      "Epoch 3/10\n",
      "698/698 [==============================] - 1s 768us/step - loss: 8181.9648 - mean_absolute_percentage_error: 4.3875\n",
      "Epoch 4/10\n",
      "698/698 [==============================] - 1s 762us/step - loss: 10506.6123 - mean_absolute_percentage_error: 6.2031\n",
      "Epoch 5/10\n",
      "698/698 [==============================] - 1s 759us/step - loss: 8844.3965 - mean_absolute_percentage_error: 7.4840\n",
      "Epoch 6/10\n",
      "698/698 [==============================] - 1s 763us/step - loss: 12733.1807 - mean_absolute_percentage_error: 6.6675\n",
      "Epoch 7/10\n",
      "698/698 [==============================] - 1s 769us/step - loss: 10898.3535 - mean_absolute_percentage_error: 6.5462\n",
      "Epoch 8/10\n",
      "698/698 [==============================] - 1s 765us/step - loss: 7801.9536 - mean_absolute_percentage_error: 7.7380\n",
      "Epoch 9/10\n",
      "698/698 [==============================] - 1s 771us/step - loss: 8009.5435 - mean_absolute_percentage_error: 6.0215\n",
      "Epoch 10/10\n",
      "698/698 [==============================] - 1s 773us/step - loss: 8232.1689 - mean_absolute_percentage_error: 4.9369\n",
      "233/233 [==============================] - 0s 604us/step\n",
      "250/250 [==============================] - 0s 573us/step\n"
     ]
    },
    {
     "name": "stderr",
     "output_type": "stream",
     "text": [
      "\r",
      " 36%|██████████████████████████████████████▉                                                                      | 5/14 [02:21<04:18, 28.75s/it]"
     ]
    },
    {
     "name": "stdout",
     "output_type": "stream",
     "text": [
      "Epoch 1/10\n",
      "713/713 [==============================] - 1s 766us/step - loss: 163455.9531 - mean_absolute_percentage_error: 12.1676\n",
      "Epoch 2/10\n",
      "713/713 [==============================] - 1s 765us/step - loss: 16005.2529 - mean_absolute_percentage_error: 11.4107\n",
      "Epoch 3/10\n",
      "713/713 [==============================] - 1s 757us/step - loss: 13780.0576 - mean_absolute_percentage_error: 4.6794\n",
      "Epoch 4/10\n",
      "713/713 [==============================] - 1s 759us/step - loss: 26171.6680 - mean_absolute_percentage_error: 11.5550\n",
      "Epoch 5/10\n",
      "713/713 [==============================] - 1s 753us/step - loss: 9148.3711 - mean_absolute_percentage_error: 14.9350\n",
      "Epoch 6/10\n",
      "713/713 [==============================] - 1s 755us/step - loss: 18512.4258 - mean_absolute_percentage_error: 9.7957\n",
      "Epoch 7/10\n",
      "713/713 [==============================] - 1s 754us/step - loss: 11296.7344 - mean_absolute_percentage_error: 12.7249\n",
      "Epoch 8/10\n",
      "713/713 [==============================] - 1s 770us/step - loss: 12511.7686 - mean_absolute_percentage_error: 15.6468\n",
      "Epoch 9/10\n",
      "713/713 [==============================] - 1s 758us/step - loss: 12071.3389 - mean_absolute_percentage_error: 14.3573\n",
      "Epoch 10/10\n",
      "713/713 [==============================] - 1s 758us/step - loss: 11300.9746 - mean_absolute_percentage_error: 9.1554\n",
      "238/238 [==============================] - 0s 566us/step\n",
      "255/255 [==============================] - 0s 721us/step\n"
     ]
    },
    {
     "name": "stderr",
     "output_type": "stream",
     "text": [
      "\r",
      " 43%|██████████████████████████████████████████████▋                                                              | 6/14 [02:51<03:52, 29.03s/it]"
     ]
    },
    {
     "name": "stdout",
     "output_type": "stream",
     "text": [
      "Epoch 1/10\n",
      "733/733 [==============================] - 1s 780us/step - loss: 99436.0312 - mean_absolute_percentage_error: 12.5682\n",
      "Epoch 2/10\n",
      "733/733 [==============================] - 1s 788us/step - loss: 18620.2539 - mean_absolute_percentage_error: 16.4589\n",
      "Epoch 3/10\n",
      "733/733 [==============================] - 1s 765us/step - loss: 26505.3848 - mean_absolute_percentage_error: 21.2327\n",
      "Epoch 4/10\n",
      "733/733 [==============================] - 1s 758us/step - loss: 17276.8984 - mean_absolute_percentage_error: 22.6853\n",
      "Epoch 5/10\n",
      "733/733 [==============================] - 1s 764us/step - loss: 21376.3457 - mean_absolute_percentage_error: 24.0853\n",
      "Epoch 6/10\n",
      "733/733 [==============================] - 1s 758us/step - loss: 15218.7002 - mean_absolute_percentage_error: 32.1878\n",
      "Epoch 7/10\n",
      "733/733 [==============================] - 1s 776us/step - loss: 14426.1201 - mean_absolute_percentage_error: 9.6150\n",
      "Epoch 8/10\n",
      "733/733 [==============================] - 1s 771us/step - loss: 11444.8965 - mean_absolute_percentage_error: 12.8802\n",
      "Epoch 9/10\n",
      "733/733 [==============================] - 1s 796us/step - loss: 12835.9268 - mean_absolute_percentage_error: 12.2316\n",
      "Epoch 10/10\n",
      "733/733 [==============================] - 1s 768us/step - loss: 11950.2129 - mean_absolute_percentage_error: 15.4781\n",
      "245/245 [==============================] - 0s 590us/step\n",
      "260/260 [==============================] - 0s 572us/step\n"
     ]
    },
    {
     "name": "stderr",
     "output_type": "stream",
     "text": [
      "\r",
      " 50%|██████████████████████████████████████████████████████▌                                                      | 7/14 [03:22<03:27, 29.70s/it]"
     ]
    },
    {
     "name": "stdout",
     "output_type": "stream",
     "text": [
      "Epoch 1/10\n",
      "754/754 [==============================] - 1s 804us/step - loss: 96689.9297 - mean_absolute_percentage_error: 24.3677\n",
      "Epoch 2/10\n",
      "754/754 [==============================] - 1s 784us/step - loss: 22127.8828 - mean_absolute_percentage_error: 13.0288\n",
      "Epoch 3/10\n",
      "754/754 [==============================] - 1s 794us/step - loss: 13265.3232 - mean_absolute_percentage_error: 21.8714\n",
      "Epoch 4/10\n",
      "754/754 [==============================] - 1s 805us/step - loss: 31583.5332 - mean_absolute_percentage_error: 17.4979\n",
      "Epoch 5/10\n",
      "754/754 [==============================] - 1s 786us/step - loss: 10533.0254 - mean_absolute_percentage_error: 17.0901\n",
      "Epoch 6/10\n",
      "754/754 [==============================] - 1s 776us/step - loss: 15835.1309 - mean_absolute_percentage_error: 16.7452\n",
      "Epoch 7/10\n",
      "754/754 [==============================] - 1s 774us/step - loss: 11487.8086 - mean_absolute_percentage_error: 27.9503\n",
      "Epoch 8/10\n",
      "754/754 [==============================] - 1s 780us/step - loss: 9927.5439 - mean_absolute_percentage_error: 31.5120\n",
      "Epoch 9/10\n",
      "754/754 [==============================] - 1s 788us/step - loss: 8581.6299 - mean_absolute_percentage_error: 28.5265\n",
      "Epoch 10/10\n",
      "754/754 [==============================] - 1s 777us/step - loss: 11357.6699 - mean_absolute_percentage_error: 18.1956\n",
      "252/252 [==============================] - 0s 558us/step\n",
      "261/261 [==============================] - 0s 569us/step\n"
     ]
    },
    {
     "name": "stderr",
     "output_type": "stream",
     "text": [
      "\r",
      " 57%|██████████████████████████████████████████████████████████████▎                                              | 8/14 [03:53<03:00, 30.14s/it]"
     ]
    },
    {
     "name": "stdout",
     "output_type": "stream",
     "text": [
      "Epoch 1/10\n",
      "770/770 [==============================] - 1s 771us/step - loss: 209888.7500 - mean_absolute_percentage_error: 23.3856\n",
      "Epoch 2/10\n",
      "770/770 [==============================] - 1s 758us/step - loss: 37891.9727 - mean_absolute_percentage_error: 15.2247\n",
      "Epoch 3/10\n",
      "770/770 [==============================] - 1s 760us/step - loss: 50736.3164 - mean_absolute_percentage_error: 11.7633\n",
      "Epoch 4/10\n",
      "770/770 [==============================] - 1s 756us/step - loss: 20856.1797 - mean_absolute_percentage_error: 14.5549\n",
      "Epoch 5/10\n",
      "770/770 [==============================] - 1s 754us/step - loss: 23885.8789 - mean_absolute_percentage_error: 13.2614\n",
      "Epoch 6/10\n",
      "770/770 [==============================] - 1s 754us/step - loss: 25607.7812 - mean_absolute_percentage_error: 31.1757\n",
      "Epoch 7/10\n",
      "770/770 [==============================] - 1s 757us/step - loss: 15976.8193 - mean_absolute_percentage_error: 25.6836\n",
      "Epoch 8/10\n",
      "770/770 [==============================] - 1s 768us/step - loss: 23135.1895 - mean_absolute_percentage_error: 14.2629\n",
      "Epoch 9/10\n",
      "770/770 [==============================] - 1s 765us/step - loss: 14789.0967 - mean_absolute_percentage_error: 12.0117\n",
      "Epoch 10/10\n",
      "770/770 [==============================] - 1s 766us/step - loss: 17720.0820 - mean_absolute_percentage_error: 14.0064\n",
      "257/257 [==============================] - 0s 559us/step\n",
      "255/255 [==============================] - 0s 571us/step\n"
     ]
    },
    {
     "name": "stderr",
     "output_type": "stream",
     "text": [
      "\r",
      " 64%|██████████████████████████████████████████████████████████████████████                                       | 9/14 [04:22<02:29, 29.98s/it]"
     ]
    },
    {
     "name": "stdout",
     "output_type": "stream",
     "text": [
      "Epoch 1/10\n",
      "773/773 [==============================] - 1s 768us/step - loss: 142914.5156 - mean_absolute_percentage_error: 56.5300\n",
      "Epoch 2/10\n",
      "773/773 [==============================] - 1s 769us/step - loss: 53253.2500 - mean_absolute_percentage_error: 35.0117\n",
      "Epoch 3/10\n",
      "773/773 [==============================] - 1s 767us/step - loss: 39252.8477 - mean_absolute_percentage_error: 33.9837\n",
      "Epoch 4/10\n",
      "773/773 [==============================] - 1s 758us/step - loss: 24547.3770 - mean_absolute_percentage_error: 32.5254\n",
      "Epoch 5/10\n",
      "773/773 [==============================] - 1s 764us/step - loss: 16082.2568 - mean_absolute_percentage_error: 40.5505\n",
      "Epoch 6/10\n",
      "773/773 [==============================] - 1s 775us/step - loss: 29926.4277 - mean_absolute_percentage_error: 37.1744\n",
      "Epoch 7/10\n",
      "773/773 [==============================] - 1s 763us/step - loss: 13669.8311 - mean_absolute_percentage_error: 46.2334\n",
      "Epoch 8/10\n",
      "773/773 [==============================] - 1s 755us/step - loss: 14784.5039 - mean_absolute_percentage_error: 46.2709\n",
      "Epoch 9/10\n",
      "773/773 [==============================] - 1s 756us/step - loss: 26732.4082 - mean_absolute_percentage_error: 59.9240\n",
      "Epoch 10/10\n",
      "773/773 [==============================] - 1s 781us/step - loss: 12172.1611 - mean_absolute_percentage_error: 229.2743\n",
      "258/258 [==============================] - 0s 615us/step\n",
      "256/256 [==============================] - 0s 596us/step\n"
     ]
    },
    {
     "name": "stderr",
     "output_type": "stream",
     "text": [
      "\r",
      " 71%|█████████████████████████████████████████████████████████████████████████████▏                              | 10/14 [04:54<02:01, 30.47s/it]"
     ]
    },
    {
     "name": "stdout",
     "output_type": "stream",
     "text": [
      "Epoch 1/10\n",
      "773/773 [==============================] - 1s 817us/step - loss: 10484536.0000 - mean_absolute_percentage_error: 677.9913\n",
      "Epoch 2/10\n",
      "773/773 [==============================] - 1s 808us/step - loss: 13962976.0000 - mean_absolute_percentage_error: 1367.1367\n",
      "Epoch 3/10\n",
      "773/773 [==============================] - 1s 803us/step - loss: 8038349.5000 - mean_absolute_percentage_error: 2328.5994\n",
      "Epoch 4/10\n",
      "773/773 [==============================] - 1s 810us/step - loss: 6368406.5000 - mean_absolute_percentage_error: 3631.8938\n",
      "Epoch 5/10\n",
      "773/773 [==============================] - 1s 804us/step - loss: 8352693.5000 - mean_absolute_percentage_error: 4570.8667\n",
      "Epoch 6/10\n",
      "773/773 [==============================] - 1s 806us/step - loss: 5316821.0000 - mean_absolute_percentage_error: 5889.8413\n",
      "Epoch 7/10\n",
      "773/773 [==============================] - 1s 816us/step - loss: 5709641.5000 - mean_absolute_percentage_error: 8273.7588\n",
      "Epoch 8/10\n",
      "773/773 [==============================] - 1s 801us/step - loss: 4249934.5000 - mean_absolute_percentage_error: 8895.7900\n",
      "Epoch 9/10\n",
      "773/773 [==============================] - 1s 791us/step - loss: 5777853.5000 - mean_absolute_percentage_error: 9453.0439\n",
      "Epoch 10/10\n",
      "773/773 [==============================] - 1s 773us/step - loss: 6396355.0000 - mean_absolute_percentage_error: 9607.7432\n",
      "258/258 [==============================] - 0s 548us/step\n",
      "257/257 [==============================] - 0s 605us/step\n"
     ]
    },
    {
     "name": "stderr",
     "output_type": "stream",
     "text": [
      "\r",
      " 79%|████████████████████████████████████████████████████████████████████████████████████▊                       | 11/14 [05:29<01:35, 31.90s/it]"
     ]
    },
    {
     "name": "stdout",
     "output_type": "stream",
     "text": [
      "Epoch 1/10\n",
      "770/770 [==============================] - 1s 1ms/step - loss: 7908562.5000 - mean_absolute_percentage_error: 867.4593\n",
      "Epoch 2/10\n",
      "770/770 [==============================] - 1s 989us/step - loss: 3552348.5000 - mean_absolute_percentage_error: 2632.1587\n",
      "Epoch 3/10\n",
      "770/770 [==============================] - 1s 995us/step - loss: 4944718.0000 - mean_absolute_percentage_error: 1798.4872\n",
      "Epoch 4/10\n",
      "770/770 [==============================] - 1s 1ms/step - loss: 2304264.0000 - mean_absolute_percentage_error: 1175.2711\n",
      "Epoch 5/10\n",
      "770/770 [==============================] - 1s 996us/step - loss: 1849841.6250 - mean_absolute_percentage_error: 3192.9841\n",
      "Epoch 6/10\n",
      "770/770 [==============================] - 1s 1ms/step - loss: 3170864.2500 - mean_absolute_percentage_error: 2986.5767\n",
      "Epoch 7/10\n",
      "770/770 [==============================] - 1s 1ms/step - loss: 1362430.1250 - mean_absolute_percentage_error: 3697.7793\n",
      "Epoch 8/10\n",
      "770/770 [==============================] - 1s 1ms/step - loss: 1252026.3750 - mean_absolute_percentage_error: 5877.8730\n",
      "Epoch 9/10\n",
      "770/770 [==============================] - 1s 999us/step - loss: 985104.5625 - mean_absolute_percentage_error: 6822.2725\n",
      "Epoch 10/10\n",
      "770/770 [==============================] - 1s 1ms/step - loss: 2453209.5000 - mean_absolute_percentage_error: 4730.2544\n",
      "257/257 [==============================] - 0s 742us/step\n",
      "261/261 [==============================] - 0s 754us/step\n"
     ]
    },
    {
     "name": "stderr",
     "output_type": "stream",
     "text": [
      "\r",
      " 86%|████████████████████████████████████████████████████████████████████████████████████████████▌               | 12/14 [06:11<01:09, 35.00s/it]"
     ]
    },
    {
     "name": "stdout",
     "output_type": "stream",
     "text": [
      "Epoch 1/10\n",
      "770/770 [==============================] - 2s 997us/step - loss: 12109568.0000 - mean_absolute_percentage_error: 1749.8960\n",
      "Epoch 2/10\n",
      "770/770 [==============================] - 1s 1ms/step - loss: 7003584.0000 - mean_absolute_percentage_error: 6057.5195\n",
      "Epoch 3/10\n",
      "770/770 [==============================] - 1s 990us/step - loss: 5832998.5000 - mean_absolute_percentage_error: 6115.4487\n",
      "Epoch 4/10\n",
      "770/770 [==============================] - 1s 990us/step - loss: 6813699.5000 - mean_absolute_percentage_error: 6852.4546\n",
      "Epoch 5/10\n",
      "770/770 [==============================] - 1s 990us/step - loss: 5854497.0000 - mean_absolute_percentage_error: 11632.7080\n",
      "Epoch 6/10\n",
      "770/770 [==============================] - 1s 1ms/step - loss: 5409882.0000 - mean_absolute_percentage_error: 15583.2031\n",
      "Epoch 7/10\n",
      "770/770 [==============================] - 1s 990us/step - loss: 6528171.0000 - mean_absolute_percentage_error: 22426.9160\n",
      "Epoch 8/10\n",
      "770/770 [==============================] - 1s 1ms/step - loss: 4197738.0000 - mean_absolute_percentage_error: 26193.1426\n",
      "Epoch 9/10\n",
      "770/770 [==============================] - 1s 961us/step - loss: 7178669.0000 - mean_absolute_percentage_error: 29370.3086\n",
      "Epoch 10/10\n",
      "770/770 [==============================] - 1s 979us/step - loss: 4588472.5000 - mean_absolute_percentage_error: 33436.8359\n",
      "257/257 [==============================] - 0s 735us/step\n",
      "253/253 [==============================] - 0s 746us/step\n"
     ]
    },
    {
     "name": "stderr",
     "output_type": "stream",
     "text": [
      "\r",
      " 93%|████████████████████████████████████████████████████████████████████████████████████████████████████▎       | 13/14 [06:59<00:38, 38.93s/it]"
     ]
    },
    {
     "name": "stdout",
     "output_type": "stream",
     "text": [
      "Epoch 1/10\n",
      "768/768 [==============================] - 1s 947us/step - loss: nan - mean_absolute_percentage_error: nan\n",
      "Epoch 2/10\n",
      "768/768 [==============================] - 1s 950us/step - loss: nan - mean_absolute_percentage_error: nan\n",
      "Epoch 3/10\n",
      "768/768 [==============================] - 1s 944us/step - loss: nan - mean_absolute_percentage_error: nan\n",
      "Epoch 4/10\n",
      "768/768 [==============================] - 1s 950us/step - loss: nan - mean_absolute_percentage_error: nan\n",
      "Epoch 5/10\n",
      "768/768 [==============================] - 1s 926us/step - loss: nan - mean_absolute_percentage_error: nan\n",
      "Epoch 6/10\n",
      "768/768 [==============================] - 1s 934us/step - loss: nan - mean_absolute_percentage_error: nan\n",
      "Epoch 7/10\n",
      "768/768 [==============================] - 1s 951us/step - loss: nan - mean_absolute_percentage_error: nan\n",
      "Epoch 8/10\n",
      "768/768 [==============================] - 1s 931us/step - loss: nan - mean_absolute_percentage_error: nan\n",
      "Epoch 9/10\n",
      "768/768 [==============================] - 1s 938us/step - loss: nan - mean_absolute_percentage_error: nan\n",
      "Epoch 10/10\n",
      "768/768 [==============================] - 1s 938us/step - loss: nan - mean_absolute_percentage_error: nan\n",
      "256/256 [==============================] - 0s 698us/step\n",
      "Input contains NaN, infinity or a value too large for dtype('float32').\n"
     ]
    },
    {
     "name": "stderr",
     "output_type": "stream",
     "text": [
      "\r",
      " 93%|████████████████████████████████████████████████████████████████████████████████████████████████████▎       | 13/14 [07:46<00:35, 35.90s/it]"
     ]
    },
    {
     "name": "stdout",
     "output_type": "stream",
     "text": [
      "'str' object has no attribute 'predict'\n"
     ]
    },
    {
     "name": "stderr",
     "output_type": "stream",
     "text": [
      "\n"
     ]
    },
    {
     "ename": "KeyError",
     "evalue": "'tf_prediction'",
     "output_type": "error",
     "traceback": [
      "\u001b[1;31m---------------------------------------------------------------------------\u001b[0m",
      "\u001b[1;31mKeyError\u001b[0m                                  Traceback (most recent call last)",
      "\u001b[1;32m~\\AppData\\Local\\Programs\\Python\\Python310\\lib\\site-packages\\pandas\\core\\indexes\\base.py\u001b[0m in \u001b[0;36mget_loc\u001b[1;34m(self, key, method, tolerance)\u001b[0m\n\u001b[0;32m   3360\u001b[0m             \u001b[1;32mtry\u001b[0m\u001b[1;33m:\u001b[0m\u001b[1;33m\u001b[0m\u001b[1;33m\u001b[0m\u001b[0m\n\u001b[1;32m-> 3361\u001b[1;33m                 \u001b[1;32mreturn\u001b[0m \u001b[0mself\u001b[0m\u001b[1;33m.\u001b[0m\u001b[0m_engine\u001b[0m\u001b[1;33m.\u001b[0m\u001b[0mget_loc\u001b[0m\u001b[1;33m(\u001b[0m\u001b[0mcasted_key\u001b[0m\u001b[1;33m)\u001b[0m\u001b[1;33m\u001b[0m\u001b[1;33m\u001b[0m\u001b[0m\n\u001b[0m\u001b[0;32m   3362\u001b[0m             \u001b[1;32mexcept\u001b[0m \u001b[0mKeyError\u001b[0m \u001b[1;32mas\u001b[0m \u001b[0merr\u001b[0m\u001b[1;33m:\u001b[0m\u001b[1;33m\u001b[0m\u001b[1;33m\u001b[0m\u001b[0m\n",
      "\u001b[1;32m~\\AppData\\Local\\Programs\\Python\\Python310\\lib\\site-packages\\pandas\\_libs\\index.pyx\u001b[0m in \u001b[0;36mpandas._libs.index.IndexEngine.get_loc\u001b[1;34m()\u001b[0m\n",
      "\u001b[1;32m~\\AppData\\Local\\Programs\\Python\\Python310\\lib\\site-packages\\pandas\\_libs\\index.pyx\u001b[0m in \u001b[0;36mpandas._libs.index.IndexEngine.get_loc\u001b[1;34m()\u001b[0m\n",
      "\u001b[1;32mpandas\\_libs\\hashtable_class_helper.pxi\u001b[0m in \u001b[0;36mpandas._libs.hashtable.PyObjectHashTable.get_item\u001b[1;34m()\u001b[0m\n",
      "\u001b[1;32mpandas\\_libs\\hashtable_class_helper.pxi\u001b[0m in \u001b[0;36mpandas._libs.hashtable.PyObjectHashTable.get_item\u001b[1;34m()\u001b[0m\n",
      "\u001b[1;31mKeyError\u001b[0m: 'tf_prediction'",
      "\nThe above exception was the direct cause of the following exception:\n",
      "\u001b[1;31mKeyError\u001b[0m                                  Traceback (most recent call last)",
      "\u001b[1;32m~\\AppData\\Local\\Temp/ipykernel_3848/3749375292.py\u001b[0m in \u001b[0;36m<module>\u001b[1;34m\u001b[0m\n\u001b[0;32m      6\u001b[0m         \u001b[0mprediction_set\u001b[0m \u001b[1;33m=\u001b[0m \u001b[0mdata\u001b[0m\u001b[1;33m[\u001b[0m\u001b[0mdata\u001b[0m\u001b[1;33m[\u001b[0m\u001b[1;34m\"year\"\u001b[0m\u001b[1;33m]\u001b[0m\u001b[1;33m==\u001b[0m\u001b[0myear\u001b[0m\u001b[1;33m]\u001b[0m\u001b[1;33m.\u001b[0m\u001b[0mreset_index\u001b[0m\u001b[1;33m(\u001b[0m\u001b[0mdrop\u001b[0m\u001b[1;33m=\u001b[0m\u001b[1;32mTrue\u001b[0m\u001b[1;33m)\u001b[0m\u001b[1;33m\u001b[0m\u001b[1;33m\u001b[0m\u001b[0m\n\u001b[0;32m      7\u001b[0m         \u001b[0mset_name\u001b[0m \u001b[1;33m=\u001b[0m \u001b[1;34m\"sim\"\u001b[0m\u001b[1;33m\u001b[0m\u001b[1;33m\u001b[0m\u001b[0m\n\u001b[1;32m----> 8\u001b[1;33m         \u001b[0mstuff\u001b[0m \u001b[1;33m=\u001b[0m \u001b[0mmodeler\u001b[0m\u001b[1;33m.\u001b[0m\u001b[0mmodel\u001b[0m\u001b[1;33m(\u001b[0m\u001b[0mtraining_slice\u001b[0m\u001b[1;33m,\u001b[0m\u001b[0mprediction_set\u001b[0m\u001b[1;33m,\u001b[0m\u001b[0mfactors\u001b[0m\u001b[1;33m)\u001b[0m\u001b[1;33m\u001b[0m\u001b[1;33m\u001b[0m\u001b[0m\n\u001b[0m\u001b[0;32m      9\u001b[0m         \u001b[0mstuff\u001b[0m\u001b[1;33m[\u001b[0m\u001b[1;34m\"training_years\"\u001b[0m\u001b[1;33m]\u001b[0m \u001b[1;33m=\u001b[0m \u001b[0myears\u001b[0m\u001b[1;33m\u001b[0m\u001b[1;33m\u001b[0m\u001b[0m\n\u001b[0;32m     10\u001b[0m         \u001b[0mspec\u001b[0m\u001b[1;33m.\u001b[0m\u001b[0mstore\u001b[0m\u001b[1;33m(\u001b[0m\u001b[0mset_name\u001b[0m\u001b[1;33m,\u001b[0m\u001b[0mstuff\u001b[0m\u001b[1;33m)\u001b[0m\u001b[1;33m\u001b[0m\u001b[1;33m\u001b[0m\u001b[0m\n",
      "\u001b[1;32mE:\\projects\\longshot_venv\\longshot\\modeler_strats\\universal_modeler.py\u001b[0m in \u001b[0;36mmodel\u001b[1;34m(self, training_set, prediction_set, factors)\u001b[0m\n\u001b[0;32m     11\u001b[0m         \u001b[0mmodels\u001b[0m \u001b[1;33m=\u001b[0m \u001b[0mm\u001b[0m\u001b[1;33m.\u001b[0m\u001b[0mregression\u001b[0m\u001b[1;33m(\u001b[0m\u001b[0mrefined\u001b[0m\u001b[1;33m)\u001b[0m\u001b[1;33m\u001b[0m\u001b[1;33m\u001b[0m\u001b[0m\n\u001b[0;32m     12\u001b[0m         \u001b[0mprediction_set\u001b[0m \u001b[1;33m=\u001b[0m \u001b[0mm\u001b[0m\u001b[1;33m.\u001b[0m\u001b[0mpredict\u001b[0m\u001b[1;33m(\u001b[0m\u001b[0mmodels\u001b[0m\u001b[1;33m,\u001b[0m\u001b[0mprediction_set\u001b[0m\u001b[1;33m,\u001b[0m\u001b[0mfactors\u001b[0m\u001b[1;33m)\u001b[0m\u001b[1;33m\u001b[0m\u001b[1;33m\u001b[0m\u001b[0m\n\u001b[1;32m---> 13\u001b[1;33m         \u001b[0mprediction_set\u001b[0m\u001b[1;33m[\u001b[0m\u001b[1;34m\"prediction\"\u001b[0m\u001b[1;33m]\u001b[0m \u001b[1;33m=\u001b[0m \u001b[1;33m(\u001b[0m\u001b[0mprediction_set\u001b[0m\u001b[1;33m[\u001b[0m\u001b[1;34m\"cat_prediction\"\u001b[0m\u001b[1;33m]\u001b[0m \u001b[1;33m+\u001b[0m \u001b[0mprediction_set\u001b[0m\u001b[1;33m[\u001b[0m\u001b[1;34m\"xgb_prediction\"\u001b[0m\u001b[1;33m]\u001b[0m \u001b[1;33m+\u001b[0m \u001b[0mprediction_set\u001b[0m\u001b[1;33m[\u001b[0m\u001b[1;34m\"tf_prediction\"\u001b[0m\u001b[1;33m]\u001b[0m\u001b[1;33m)\u001b[0m \u001b[1;33m/\u001b[0m \u001b[1;36m3\u001b[0m\u001b[1;33m\u001b[0m\u001b[1;33m\u001b[0m\u001b[0m\n\u001b[0m\u001b[0;32m     14\u001b[0m         \u001b[1;32mreturn\u001b[0m \u001b[0mprediction_set\u001b[0m\u001b[1;33m\u001b[0m\u001b[1;33m\u001b[0m\u001b[0m\n\u001b[0;32m     15\u001b[0m \u001b[1;33m\u001b[0m\u001b[0m\n",
      "\u001b[1;32m~\\AppData\\Local\\Programs\\Python\\Python310\\lib\\site-packages\\pandas\\core\\frame.py\u001b[0m in \u001b[0;36m__getitem__\u001b[1;34m(self, key)\u001b[0m\n\u001b[0;32m   3456\u001b[0m             \u001b[1;32mif\u001b[0m \u001b[0mself\u001b[0m\u001b[1;33m.\u001b[0m\u001b[0mcolumns\u001b[0m\u001b[1;33m.\u001b[0m\u001b[0mnlevels\u001b[0m \u001b[1;33m>\u001b[0m \u001b[1;36m1\u001b[0m\u001b[1;33m:\u001b[0m\u001b[1;33m\u001b[0m\u001b[1;33m\u001b[0m\u001b[0m\n\u001b[0;32m   3457\u001b[0m                 \u001b[1;32mreturn\u001b[0m \u001b[0mself\u001b[0m\u001b[1;33m.\u001b[0m\u001b[0m_getitem_multilevel\u001b[0m\u001b[1;33m(\u001b[0m\u001b[0mkey\u001b[0m\u001b[1;33m)\u001b[0m\u001b[1;33m\u001b[0m\u001b[1;33m\u001b[0m\u001b[0m\n\u001b[1;32m-> 3458\u001b[1;33m             \u001b[0mindexer\u001b[0m \u001b[1;33m=\u001b[0m \u001b[0mself\u001b[0m\u001b[1;33m.\u001b[0m\u001b[0mcolumns\u001b[0m\u001b[1;33m.\u001b[0m\u001b[0mget_loc\u001b[0m\u001b[1;33m(\u001b[0m\u001b[0mkey\u001b[0m\u001b[1;33m)\u001b[0m\u001b[1;33m\u001b[0m\u001b[1;33m\u001b[0m\u001b[0m\n\u001b[0m\u001b[0;32m   3459\u001b[0m             \u001b[1;32mif\u001b[0m \u001b[0mis_integer\u001b[0m\u001b[1;33m(\u001b[0m\u001b[0mindexer\u001b[0m\u001b[1;33m)\u001b[0m\u001b[1;33m:\u001b[0m\u001b[1;33m\u001b[0m\u001b[1;33m\u001b[0m\u001b[0m\n\u001b[0;32m   3460\u001b[0m                 \u001b[0mindexer\u001b[0m \u001b[1;33m=\u001b[0m \u001b[1;33m[\u001b[0m\u001b[0mindexer\u001b[0m\u001b[1;33m]\u001b[0m\u001b[1;33m\u001b[0m\u001b[1;33m\u001b[0m\u001b[0m\n",
      "\u001b[1;32m~\\AppData\\Local\\Programs\\Python\\Python310\\lib\\site-packages\\pandas\\core\\indexes\\base.py\u001b[0m in \u001b[0;36mget_loc\u001b[1;34m(self, key, method, tolerance)\u001b[0m\n\u001b[0;32m   3361\u001b[0m                 \u001b[1;32mreturn\u001b[0m \u001b[0mself\u001b[0m\u001b[1;33m.\u001b[0m\u001b[0m_engine\u001b[0m\u001b[1;33m.\u001b[0m\u001b[0mget_loc\u001b[0m\u001b[1;33m(\u001b[0m\u001b[0mcasted_key\u001b[0m\u001b[1;33m)\u001b[0m\u001b[1;33m\u001b[0m\u001b[1;33m\u001b[0m\u001b[0m\n\u001b[0;32m   3362\u001b[0m             \u001b[1;32mexcept\u001b[0m \u001b[0mKeyError\u001b[0m \u001b[1;32mas\u001b[0m \u001b[0merr\u001b[0m\u001b[1;33m:\u001b[0m\u001b[1;33m\u001b[0m\u001b[1;33m\u001b[0m\u001b[0m\n\u001b[1;32m-> 3363\u001b[1;33m                 \u001b[1;32mraise\u001b[0m \u001b[0mKeyError\u001b[0m\u001b[1;33m(\u001b[0m\u001b[0mkey\u001b[0m\u001b[1;33m)\u001b[0m \u001b[1;32mfrom\u001b[0m \u001b[0merr\u001b[0m\u001b[1;33m\u001b[0m\u001b[1;33m\u001b[0m\u001b[0m\n\u001b[0m\u001b[0;32m   3364\u001b[0m \u001b[1;33m\u001b[0m\u001b[0m\n\u001b[0;32m   3365\u001b[0m         \u001b[1;32mif\u001b[0m \u001b[0mis_scalar\u001b[0m\u001b[1;33m(\u001b[0m\u001b[0mkey\u001b[0m\u001b[1;33m)\u001b[0m \u001b[1;32mand\u001b[0m \u001b[0misna\u001b[0m\u001b[1;33m(\u001b[0m\u001b[0mkey\u001b[0m\u001b[1;33m)\u001b[0m \u001b[1;32mand\u001b[0m \u001b[1;32mnot\u001b[0m \u001b[0mself\u001b[0m\u001b[1;33m.\u001b[0m\u001b[0mhasnans\u001b[0m\u001b[1;33m:\u001b[0m\u001b[1;33m\u001b[0m\u001b[1;33m\u001b[0m\u001b[0m\n",
      "\u001b[1;31mKeyError\u001b[0m: 'tf_prediction'"
     ]
    }
   ],
   "source": [
    "spec.connect()\n",
    "years = 4\n",
    "for modeler in [umod]:\n",
    "    for year in tqdm(range(2009,2023)):\n",
    "        training_slice = data[(data[\"year\"]<year) & (data[\"year\"] >= year - years)].reset_index(drop=True)\n",
    "        prediction_set = data[data[\"year\"]==year].reset_index(drop=True)\n",
    "        set_name = \"sim\"\n",
    "        stuff = modeler.model(training_slice,prediction_set,factors)\n",
    "        stuff[\"training_years\"] = years\n",
    "        spec.store(set_name,stuff)\n",
    "spec.disconnect()\n"
   ]
  }
 ],
 "metadata": {
  "kernelspec": {
   "display_name": "Python 3 (ipykernel)",
   "language": "python",
   "name": "python3"
  },
  "language_info": {
   "codemirror_mode": {
    "name": "ipython",
    "version": 3
   },
   "file_extension": ".py",
   "mimetype": "text/x-python",
   "name": "python",
   "nbconvert_exporter": "python",
   "pygments_lexer": "ipython3",
   "version": "3.10.5"
  }
 },
 "nbformat": 4,
 "nbformat_minor": 5
}
