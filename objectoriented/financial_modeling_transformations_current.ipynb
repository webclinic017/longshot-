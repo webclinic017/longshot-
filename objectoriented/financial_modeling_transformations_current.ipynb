{
 "cells": [
  {
   "cell_type": "code",
   "execution_count": 1,
   "id": "cf2b054b",
   "metadata": {},
   "outputs": [],
   "source": [
    "from database.market import Market\n",
    "from database.sec import SEC\n",
    "import pandas as pd\n",
    "from tqdm import tqdm\n",
    "from modeler_strats.universal_modeler import UniversalModeler\n",
    "from processor.processor import Processor as p\n",
    "from datetime import datetime\n",
    "from functional.transformer import Transformer as tf\n",
    "from database.adatabase import ADatabase"
   ]
  },
  {
   "cell_type": "code",
   "execution_count": 2,
   "id": "cb655ec4",
   "metadata": {},
   "outputs": [],
   "source": [
    "market = Market()\n",
    "sec = SEC()\n",
    "market.connect()\n",
    "sp500 = market.retrieve(\"sp500\")\n",
    "market.disconnect()\n",
    "modeler = UniversalModeler()\n",
    "fs = ADatabase(\"FS\")"
   ]
  },
  {
   "cell_type": "code",
   "execution_count": 3,
   "id": "0109de59",
   "metadata": {},
   "outputs": [],
   "source": [
    "included_columns=[\n",
    "    \"year\",\n",
    "    \"quarter\",\n",
    "    \"ticker\",\n",
    "    'GICS Sector',\n",
    "    'GICS Sub-Industry',\n",
    "    \"adjclose\",\n",
    " 'assets',\n",
    " 'liabilitiesandstockholdersequity',\n",
    " 'accumulatedothercomprehensiveincomelossnetoftax',\n",
    " 'earningspersharediluted',\n",
    " 'earningspersharebasic',\n",
    "    \"y\"\n",
    "]"
   ]
  },
  {
   "cell_type": "code",
   "execution_count": 4,
   "id": "683320e0",
   "metadata": {},
   "outputs": [],
   "source": [
    "factors =[\n",
    "    \"adjclose\",\n",
    " 'assets',\n",
    " 'liabilitiesandstockholdersequity',\n",
    " 'accumulatedothercomprehensiveincomelossnetoftax',\n",
    " 'earningspersharediluted',\n",
    " 'earningspersharebasic',\n",
    "]"
   ]
  },
  {
   "cell_type": "code",
   "execution_count": 5,
   "id": "79482a7a",
   "metadata": {
    "scrolled": true
   },
   "outputs": [
    {
     "name": "stderr",
     "output_type": "stream",
     "text": [
      " 25%|████████████████████████████████████▋                                                                                                             | 125/497 [00:39<01:48,  3.43it/s]"
     ]
    },
    {
     "name": "stdout",
     "output_type": "stream",
     "text": [
      "STZ \"['earningspersharediluted', 'earningspersharebasic'] not in index\"\n"
     ]
    },
    {
     "name": "stderr",
     "output_type": "stream",
     "text": [
      " 32%|██████████████████████████████████████████████▍                                                                                                   | 158/497 [00:49<02:10,  2.59it/s]"
     ]
    },
    {
     "name": "stdout",
     "output_type": "stream",
     "text": [
      "DRE 'year'\n"
     ]
    },
    {
     "name": "stderr",
     "output_type": "stream",
     "text": [
      " 39%|████████████████████████████████████████████████████████▋                                                                                         | 193/497 [01:01<01:58,  2.55it/s]"
     ]
    },
    {
     "name": "stdout",
     "output_type": "stream",
     "text": [
      "FRC 'filed'\n"
     ]
    },
    {
     "name": "stderr",
     "output_type": "stream",
     "text": [
      " 41%|███████████████████████████████████████████████████████████▉                                                                                      | 204/497 [01:04<01:00,  4.85it/s]"
     ]
    },
    {
     "name": "stdout",
     "output_type": "stream",
     "text": [
      "FBHS 'year'\n"
     ]
    },
    {
     "name": "stderr",
     "output_type": "stream",
     "text": [
      " 45%|██████████████████████████████████████████████████████████████████                                                                                | 225/497 [01:13<01:47,  2.53it/s]"
     ]
    },
    {
     "name": "stdout",
     "output_type": "stream",
     "text": [
      "HSY \"['earningspersharediluted', 'earningspersharebasic'] not in index\"\n"
     ]
    },
    {
     "name": "stderr",
     "output_type": "stream",
     "text": [
      " 52%|███████████████████████████████████████████████████████████████████████████▊                                                                      | 258/497 [01:24<00:55,  4.34it/s]"
     ]
    },
    {
     "name": "stdout",
     "output_type": "stream",
     "text": [
      "JBHT \"['accumulatedothercomprehensiveincomelossnetoftax'] not in index\"\n",
      "JKHY \"['accumulatedothercomprehensiveincomelossnetoftax'] not in index\"\n"
     ]
    },
    {
     "name": "stderr",
     "output_type": "stream",
     "text": [
      " 64%|█████████████████████████████████████████████████████████████████████████████████████████████▍                                                    | 318/497 [01:44<00:45,  3.93it/s]"
     ]
    },
    {
     "name": "stdout",
     "output_type": "stream",
     "text": [
      "MNST \"['earningspersharediluted', 'earningspersharebasic'] not in index\"\n"
     ]
    },
    {
     "name": "stderr",
     "output_type": "stream",
     "text": [
      " 69%|████████████████████████████████████████████████████████████████████████████████████████████████████▊                                             | 343/497 [01:53<00:51,  2.96it/s]"
     ]
    },
    {
     "name": "stdout",
     "output_type": "stream",
     "text": [
      "NVR \"['accumulatedothercomprehensiveincomelossnetoftax'] not in index\"\n"
     ]
    },
    {
     "name": "stderr",
     "output_type": "stream",
     "text": [
      " 70%|█████████████████████████████████████████████████████████████████████████████████████████████████████▉                                            | 347/497 [01:54<00:43,  3.45it/s]"
     ]
    },
    {
     "name": "stdout",
     "output_type": "stream",
     "text": [
      "ODFL \"['accumulatedothercomprehensiveincomelossnetoftax'] not in index\"\n"
     ]
    },
    {
     "name": "stderr",
     "output_type": "stream",
     "text": [
      " 74%|████████████████████████████████████████████████████████████████████████████████████████████████████████████                                      | 368/497 [02:01<00:47,  2.69it/s]"
     ]
    },
    {
     "name": "stdout",
     "output_type": "stream",
     "text": [
      "PXD \"['accumulatedothercomprehensiveincomelossnetoftax'] not in index\"\n"
     ]
    },
    {
     "name": "stderr",
     "output_type": "stream",
     "text": [
      " 82%|████████████████████████████████████████████████████████████████████████████████████████████████████████████████████████▍                         | 410/497 [02:17<00:40,  2.15it/s]"
     ]
    },
    {
     "name": "stdout",
     "output_type": "stream",
     "text": [
      "SBNY 'filed'\n"
     ]
    },
    {
     "name": "stderr",
     "output_type": "stream",
     "text": [
      " 86%|████████████████████████████████████████████████████████████████████████████████████████████████████████████████████████████▊                     | 425/497 [02:23<00:22,  3.15it/s]"
     ]
    },
    {
     "name": "stdout",
     "output_type": "stream",
     "text": [
      "SYF \"['accumulatedothercomprehensiveincomelossnetoftax'] not in index\"\n"
     ]
    },
    {
     "name": "stderr",
     "output_type": "stream",
     "text": [
      " 91%|████████████████████████████████████████████████████████████████████████████████████████████████████████████████████████████████████▏             | 450/497 [02:30<00:13,  3.50it/s]"
     ]
    },
    {
     "name": "stdout",
     "output_type": "stream",
     "text": [
      "TSN \"['earningspersharebasic'] not in index\"\n"
     ]
    },
    {
     "name": "stderr",
     "output_type": "stream",
     "text": [
      " 95%|██████████████████████████████████████████████████████████████████████████████████████████████████████████████████████████████████████████        | 470/497 [02:37<00:08,  3.05it/s]"
     ]
    },
    {
     "name": "stdout",
     "output_type": "stream",
     "text": [
      "V \"['earningspersharediluted', 'earningspersharebasic'] not in index\"\n"
     ]
    },
    {
     "name": "stderr",
     "output_type": "stream",
     "text": [
      "100%|██████████████████████████████████████████████████████████████████████████████████████████████████████████████████████████████████████████████████| 497/497 [02:48<00:00,  2.95it/s]\n"
     ]
    }
   ],
   "source": [
    "analysis = []\n",
    "sec.connect()\n",
    "market.connect()\n",
    "all_filings = []\n",
    "for ticker in tqdm(sp500[\"Symbol\"]):\n",
    "    try:\n",
    "        cik = sp500[sp500[\"Symbol\"]==ticker][\"CIK\"].item()\n",
    "        filing = sec.retrieve_filing_data(cik)\n",
    "        prices = market.retrieve_ticker_prices(\"prices\",ticker)\n",
    "        data = tf.financials(filing,prices,sp500,ticker,included_columns)\n",
    "        all_filings.append(data)\n",
    "    except Exception as e:\n",
    "        print(ticker,str(e))\n",
    "sec.disconnect()\n",
    "market.disconnect()"
   ]
  },
  {
   "cell_type": "code",
   "execution_count": 6,
   "id": "f7d8547b",
   "metadata": {},
   "outputs": [
    {
     "data": {
      "text/html": [
       "<div>\n",
       "<style scoped>\n",
       "    .dataframe tbody tr th:only-of-type {\n",
       "        vertical-align: middle;\n",
       "    }\n",
       "\n",
       "    .dataframe tbody tr th {\n",
       "        vertical-align: top;\n",
       "    }\n",
       "\n",
       "    .dataframe thead th {\n",
       "        text-align: right;\n",
       "    }\n",
       "</style>\n",
       "<table border=\"1\" class=\"dataframe\">\n",
       "  <thead>\n",
       "    <tr style=\"text-align: right;\">\n",
       "      <th></th>\n",
       "      <th>year</th>\n",
       "      <th>quarter</th>\n",
       "      <th>ticker</th>\n",
       "      <th>GICS Sector</th>\n",
       "      <th>GICS Sub-Industry</th>\n",
       "      <th>adjclose</th>\n",
       "      <th>assets</th>\n",
       "      <th>liabilitiesandstockholdersequity</th>\n",
       "      <th>accumulatedothercomprehensiveincomelossnetoftax</th>\n",
       "      <th>earningspersharediluted</th>\n",
       "      <th>earningspersharebasic</th>\n",
       "      <th>y</th>\n",
       "    </tr>\n",
       "  </thead>\n",
       "  <tbody>\n",
       "    <tr>\n",
       "      <th>0</th>\n",
       "      <td>2012</td>\n",
       "      <td>1</td>\n",
       "      <td>MMM</td>\n",
       "      <td>Industrials</td>\n",
       "      <td>Industrial Conglomerates</td>\n",
       "      <td>63.545741</td>\n",
       "      <td>2.967400e+10</td>\n",
       "      <td>3.088600e+10</td>\n",
       "      <td>-4.284000e+09</td>\n",
       "      <td>2.519091</td>\n",
       "      <td>2.555455</td>\n",
       "      <td>63.627935</td>\n",
       "    </tr>\n",
       "    <tr>\n",
       "      <th>1</th>\n",
       "      <td>2012</td>\n",
       "      <td>2</td>\n",
       "      <td>MMM</td>\n",
       "      <td>Industrials</td>\n",
       "      <td>Industrial Conglomerates</td>\n",
       "      <td>63.627935</td>\n",
       "      <td>3.181550e+10</td>\n",
       "      <td>3.181550e+10</td>\n",
       "      <td>-4.905000e+09</td>\n",
       "      <td>1.540000</td>\n",
       "      <td>1.565000</td>\n",
       "      <td>67.603937</td>\n",
       "    </tr>\n",
       "    <tr>\n",
       "      <th>2</th>\n",
       "      <td>2012</td>\n",
       "      <td>3</td>\n",
       "      <td>MMM</td>\n",
       "      <td>Industrials</td>\n",
       "      <td>Industrial Conglomerates</td>\n",
       "      <td>67.603937</td>\n",
       "      <td>3.247750e+10</td>\n",
       "      <td>3.247750e+10</td>\n",
       "      <td>-5.018500e+09</td>\n",
       "      <td>2.400000</td>\n",
       "      <td>2.440000</td>\n",
       "      <td>68.030758</td>\n",
       "    </tr>\n",
       "    <tr>\n",
       "      <th>3</th>\n",
       "      <td>2012</td>\n",
       "      <td>4</td>\n",
       "      <td>MMM</td>\n",
       "      <td>Industrials</td>\n",
       "      <td>Industrial Conglomerates</td>\n",
       "      <td>68.030758</td>\n",
       "      <td>3.304750e+10</td>\n",
       "      <td>3.304750e+10</td>\n",
       "      <td>-4.786500e+09</td>\n",
       "      <td>3.172500</td>\n",
       "      <td>3.217500</td>\n",
       "      <td>76.368726</td>\n",
       "    </tr>\n",
       "    <tr>\n",
       "      <th>4</th>\n",
       "      <td>2013</td>\n",
       "      <td>1</td>\n",
       "      <td>MMM</td>\n",
       "      <td>Industrials</td>\n",
       "      <td>Industrial Conglomerates</td>\n",
       "      <td>76.368726</td>\n",
       "      <td>3.188267e+10</td>\n",
       "      <td>3.274600e+10</td>\n",
       "      <td>-4.887500e+09</td>\n",
       "      <td>2.743636</td>\n",
       "      <td>2.783636</td>\n",
       "      <td>81.819282</td>\n",
       "    </tr>\n",
       "    <tr>\n",
       "      <th>...</th>\n",
       "      <td>...</td>\n",
       "      <td>...</td>\n",
       "      <td>...</td>\n",
       "      <td>...</td>\n",
       "      <td>...</td>\n",
       "      <td>...</td>\n",
       "      <td>...</td>\n",
       "      <td>...</td>\n",
       "      <td>...</td>\n",
       "      <td>...</td>\n",
       "      <td>...</td>\n",
       "      <td>...</td>\n",
       "    </tr>\n",
       "    <tr>\n",
       "      <th>37</th>\n",
       "      <td>2021</td>\n",
       "      <td>4</td>\n",
       "      <td>ZTS</td>\n",
       "      <td>Health Care</td>\n",
       "      <td>Pharmaceuticals</td>\n",
       "      <td>216.862532</td>\n",
       "      <td>1.365700e+10</td>\n",
       "      <td>1.365700e+10</td>\n",
       "      <td>-6.985000e+08</td>\n",
       "      <td>2.057500</td>\n",
       "      <td>2.070000</td>\n",
       "      <td>196.040632</td>\n",
       "    </tr>\n",
       "    <tr>\n",
       "      <th>38</th>\n",
       "      <td>2022</td>\n",
       "      <td>1</td>\n",
       "      <td>ZTS</td>\n",
       "      <td>Health Care</td>\n",
       "      <td>Pharmaceuticals</td>\n",
       "      <td>196.040632</td>\n",
       "      <td>1.375450e+10</td>\n",
       "      <td>1.375450e+10</td>\n",
       "      <td>-7.470000e+08</td>\n",
       "      <td>3.600000</td>\n",
       "      <td>3.623333</td>\n",
       "      <td>171.798380</td>\n",
       "    </tr>\n",
       "    <tr>\n",
       "      <th>39</th>\n",
       "      <td>2022</td>\n",
       "      <td>2</td>\n",
       "      <td>ZTS</td>\n",
       "      <td>Health Care</td>\n",
       "      <td>Pharmaceuticals</td>\n",
       "      <td>171.798380</td>\n",
       "      <td>1.388000e+10</td>\n",
       "      <td>1.388000e+10</td>\n",
       "      <td>-7.340000e+08</td>\n",
       "      <td>1.215000</td>\n",
       "      <td>1.220000</td>\n",
       "      <td>166.327240</td>\n",
       "    </tr>\n",
       "    <tr>\n",
       "      <th>40</th>\n",
       "      <td>2022</td>\n",
       "      <td>3</td>\n",
       "      <td>ZTS</td>\n",
       "      <td>Health Care</td>\n",
       "      <td>Pharmaceuticals</td>\n",
       "      <td>166.327240</td>\n",
       "      <td>1.383500e+10</td>\n",
       "      <td>1.383500e+10</td>\n",
       "      <td>-7.430000e+08</td>\n",
       "      <td>1.702500</td>\n",
       "      <td>1.712500</td>\n",
       "      <td>147.533594</td>\n",
       "    </tr>\n",
       "    <tr>\n",
       "      <th>41</th>\n",
       "      <td>2022</td>\n",
       "      <td>4</td>\n",
       "      <td>ZTS</td>\n",
       "      <td>Health Care</td>\n",
       "      <td>Pharmaceuticals</td>\n",
       "      <td>147.533594</td>\n",
       "      <td>1.378700e+10</td>\n",
       "      <td>1.378700e+10</td>\n",
       "      <td>-7.865000e+08</td>\n",
       "      <td>2.300000</td>\n",
       "      <td>2.307500</td>\n",
       "      <td>156.787441</td>\n",
       "    </tr>\n",
       "  </tbody>\n",
       "</table>\n",
       "<p>20809 rows × 12 columns</p>\n",
       "</div>"
      ],
      "text/plain": [
       "    year  quarter ticker  GICS Sector         GICS Sub-Industry    adjclose  \\\n",
       "0   2012        1    MMM  Industrials  Industrial Conglomerates   63.545741   \n",
       "1   2012        2    MMM  Industrials  Industrial Conglomerates   63.627935   \n",
       "2   2012        3    MMM  Industrials  Industrial Conglomerates   67.603937   \n",
       "3   2012        4    MMM  Industrials  Industrial Conglomerates   68.030758   \n",
       "4   2013        1    MMM  Industrials  Industrial Conglomerates   76.368726   \n",
       "..   ...      ...    ...          ...                       ...         ...   \n",
       "37  2021        4    ZTS  Health Care           Pharmaceuticals  216.862532   \n",
       "38  2022        1    ZTS  Health Care           Pharmaceuticals  196.040632   \n",
       "39  2022        2    ZTS  Health Care           Pharmaceuticals  171.798380   \n",
       "40  2022        3    ZTS  Health Care           Pharmaceuticals  166.327240   \n",
       "41  2022        4    ZTS  Health Care           Pharmaceuticals  147.533594   \n",
       "\n",
       "          assets  liabilitiesandstockholdersequity  \\\n",
       "0   2.967400e+10                      3.088600e+10   \n",
       "1   3.181550e+10                      3.181550e+10   \n",
       "2   3.247750e+10                      3.247750e+10   \n",
       "3   3.304750e+10                      3.304750e+10   \n",
       "4   3.188267e+10                      3.274600e+10   \n",
       "..           ...                               ...   \n",
       "37  1.365700e+10                      1.365700e+10   \n",
       "38  1.375450e+10                      1.375450e+10   \n",
       "39  1.388000e+10                      1.388000e+10   \n",
       "40  1.383500e+10                      1.383500e+10   \n",
       "41  1.378700e+10                      1.378700e+10   \n",
       "\n",
       "    accumulatedothercomprehensiveincomelossnetoftax  earningspersharediluted  \\\n",
       "0                                     -4.284000e+09                 2.519091   \n",
       "1                                     -4.905000e+09                 1.540000   \n",
       "2                                     -5.018500e+09                 2.400000   \n",
       "3                                     -4.786500e+09                 3.172500   \n",
       "4                                     -4.887500e+09                 2.743636   \n",
       "..                                              ...                      ...   \n",
       "37                                    -6.985000e+08                 2.057500   \n",
       "38                                    -7.470000e+08                 3.600000   \n",
       "39                                    -7.340000e+08                 1.215000   \n",
       "40                                    -7.430000e+08                 1.702500   \n",
       "41                                    -7.865000e+08                 2.300000   \n",
       "\n",
       "    earningspersharebasic           y  \n",
       "0                2.555455   63.627935  \n",
       "1                1.565000   67.603937  \n",
       "2                2.440000   68.030758  \n",
       "3                3.217500   76.368726  \n",
       "4                2.783636   81.819282  \n",
       "..                    ...         ...  \n",
       "37               2.070000  196.040632  \n",
       "38               3.623333  171.798380  \n",
       "39               1.220000  166.327240  \n",
       "40               1.712500  147.533594  \n",
       "41               2.307500  156.787441  \n",
       "\n",
       "[20809 rows x 12 columns]"
      ]
     },
     "execution_count": 6,
     "metadata": {},
     "output_type": "execute_result"
    }
   ],
   "source": [
    "training_data = pd.concat(all_filings)\n",
    "training_data"
   ]
  },
  {
   "cell_type": "code",
   "execution_count": 12,
   "id": "c15a57e3",
   "metadata": {},
   "outputs": [
    {
     "name": "stdout",
     "output_type": "stream",
     "text": [
      "Input contains NaN, infinity or a value too large for dtype('float64').\n"
     ]
    },
    {
     "ename": "KeyError",
     "evalue": "'skl_prediction'",
     "output_type": "error",
     "traceback": [
      "\u001b[1;31m---------------------------------------------------------------------------\u001b[0m",
      "\u001b[1;31mKeyError\u001b[0m                                  Traceback (most recent call last)",
      "\u001b[1;32m~\\AppData\\Local\\Programs\\Python\\Python310\\lib\\site-packages\\pandas\\core\\indexes\\base.py\u001b[0m in \u001b[0;36mget_loc\u001b[1;34m(self, key, method, tolerance)\u001b[0m\n\u001b[0;32m   3360\u001b[0m             \u001b[1;32mtry\u001b[0m\u001b[1;33m:\u001b[0m\u001b[1;33m\u001b[0m\u001b[1;33m\u001b[0m\u001b[0m\n\u001b[1;32m-> 3361\u001b[1;33m                 \u001b[1;32mreturn\u001b[0m \u001b[0mself\u001b[0m\u001b[1;33m.\u001b[0m\u001b[0m_engine\u001b[0m\u001b[1;33m.\u001b[0m\u001b[0mget_loc\u001b[0m\u001b[1;33m(\u001b[0m\u001b[0mcasted_key\u001b[0m\u001b[1;33m)\u001b[0m\u001b[1;33m\u001b[0m\u001b[1;33m\u001b[0m\u001b[0m\n\u001b[0m\u001b[0;32m   3362\u001b[0m             \u001b[1;32mexcept\u001b[0m \u001b[0mKeyError\u001b[0m \u001b[1;32mas\u001b[0m \u001b[0merr\u001b[0m\u001b[1;33m:\u001b[0m\u001b[1;33m\u001b[0m\u001b[1;33m\u001b[0m\u001b[0m\n",
      "\u001b[1;32m~\\AppData\\Local\\Programs\\Python\\Python310\\lib\\site-packages\\pandas\\_libs\\index.pyx\u001b[0m in \u001b[0;36mpandas._libs.index.IndexEngine.get_loc\u001b[1;34m()\u001b[0m\n",
      "\u001b[1;32m~\\AppData\\Local\\Programs\\Python\\Python310\\lib\\site-packages\\pandas\\_libs\\index.pyx\u001b[0m in \u001b[0;36mpandas._libs.index.IndexEngine.get_loc\u001b[1;34m()\u001b[0m\n",
      "\u001b[1;32mpandas\\_libs\\hashtable_class_helper.pxi\u001b[0m in \u001b[0;36mpandas._libs.hashtable.PyObjectHashTable.get_item\u001b[1;34m()\u001b[0m\n",
      "\u001b[1;32mpandas\\_libs\\hashtable_class_helper.pxi\u001b[0m in \u001b[0;36mpandas._libs.hashtable.PyObjectHashTable.get_item\u001b[1;34m()\u001b[0m\n",
      "\u001b[1;31mKeyError\u001b[0m: 'skl_prediction'",
      "\nThe above exception was the direct cause of the following exception:\n",
      "\u001b[1;31mKeyError\u001b[0m                                  Traceback (most recent call last)",
      "\u001b[1;32m~\\AppData\\Local\\Temp/ipykernel_11036/3232725919.py\u001b[0m in \u001b[0;36m<module>\u001b[1;34m\u001b[0m\n\u001b[0;32m      5\u001b[0m     \u001b[0mtraining_set\u001b[0m\u001b[1;33m.\u001b[0m\u001b[0mreset_index\u001b[0m\u001b[1;33m(\u001b[0m\u001b[0minplace\u001b[0m\u001b[1;33m=\u001b[0m\u001b[1;32mTrue\u001b[0m\u001b[1;33m)\u001b[0m\u001b[1;33m\u001b[0m\u001b[1;33m\u001b[0m\u001b[0m\n\u001b[0;32m      6\u001b[0m     \u001b[0mprediction_set\u001b[0m \u001b[1;33m=\u001b[0m \u001b[0mtraining_data\u001b[0m\u001b[1;33m[\u001b[0m\u001b[0mtraining_data\u001b[0m\u001b[1;33m[\u001b[0m\u001b[1;34m\"year\"\u001b[0m\u001b[1;33m]\u001b[0m\u001b[1;33m==\u001b[0m\u001b[0myear\u001b[0m\u001b[1;33m]\u001b[0m\u001b[1;33m.\u001b[0m\u001b[0mreset_index\u001b[0m\u001b[1;33m(\u001b[0m\u001b[1;33m)\u001b[0m\u001b[1;33m\u001b[0m\u001b[1;33m\u001b[0m\u001b[0m\n\u001b[1;32m----> 7\u001b[1;33m     \u001b[0mstuff\u001b[0m \u001b[1;33m=\u001b[0m \u001b[0mmodeler\u001b[0m\u001b[1;33m.\u001b[0m\u001b[0mmodel\u001b[0m\u001b[1;33m(\u001b[0m\u001b[0mtraining_set\u001b[0m\u001b[1;33m,\u001b[0m\u001b[0mprediction_set\u001b[0m\u001b[1;33m,\u001b[0m\u001b[0mfactors\u001b[0m\u001b[1;33m)\u001b[0m\u001b[1;33m\u001b[0m\u001b[1;33m\u001b[0m\u001b[0m\n\u001b[0m\u001b[0;32m      8\u001b[0m     \u001b[0mfs\u001b[0m\u001b[1;33m.\u001b[0m\u001b[0mstore\u001b[0m\u001b[1;33m(\u001b[0m\u001b[1;34m\"sim\"\u001b[0m\u001b[1;33m,\u001b[0m\u001b[0mstuff\u001b[0m\u001b[1;33m)\u001b[0m\u001b[1;33m\u001b[0m\u001b[1;33m\u001b[0m\u001b[0m\n\u001b[0;32m      9\u001b[0m \u001b[0mfs\u001b[0m\u001b[1;33m.\u001b[0m\u001b[0mdisconnect\u001b[0m\u001b[1;33m(\u001b[0m\u001b[1;33m)\u001b[0m\u001b[1;33m\u001b[0m\u001b[1;33m\u001b[0m\u001b[0m\n",
      "\u001b[1;32mE:\\projects\\longshot_venv\\longshot\\modeler_strats\\universal_modeler.py\u001b[0m in \u001b[0;36mmodel\u001b[1;34m(self, training_set, prediction_set, factors)\u001b[0m\n\u001b[0;32m     11\u001b[0m         \u001b[0mmodels\u001b[0m \u001b[1;33m=\u001b[0m \u001b[0mm\u001b[0m\u001b[1;33m.\u001b[0m\u001b[0mregression\u001b[0m\u001b[1;33m(\u001b[0m\u001b[0mrefined\u001b[0m\u001b[1;33m)\u001b[0m\u001b[1;33m\u001b[0m\u001b[1;33m\u001b[0m\u001b[0m\n\u001b[0;32m     12\u001b[0m         \u001b[0mprediction_set\u001b[0m \u001b[1;33m=\u001b[0m \u001b[0mm\u001b[0m\u001b[1;33m.\u001b[0m\u001b[0mpredict\u001b[0m\u001b[1;33m(\u001b[0m\u001b[0mmodels\u001b[0m\u001b[1;33m,\u001b[0m\u001b[0mprediction_set\u001b[0m\u001b[1;33m,\u001b[0m\u001b[0mfactors\u001b[0m\u001b[1;33m)\u001b[0m\u001b[1;33m\u001b[0m\u001b[1;33m\u001b[0m\u001b[0m\n\u001b[1;32m---> 13\u001b[1;33m         \u001b[0mprediction_set\u001b[0m\u001b[1;33m[\u001b[0m\u001b[1;34m\"prediction\"\u001b[0m\u001b[1;33m]\u001b[0m \u001b[1;33m=\u001b[0m \u001b[1;33m(\u001b[0m\u001b[0mprediction_set\u001b[0m\u001b[1;33m[\u001b[0m\u001b[1;34m\"skl_prediction\"\u001b[0m\u001b[1;33m]\u001b[0m \u001b[1;33m+\u001b[0m \u001b[0mprediction_set\u001b[0m\u001b[1;33m[\u001b[0m\u001b[1;34m\"cat_prediction\"\u001b[0m\u001b[1;33m]\u001b[0m \u001b[1;33m+\u001b[0m \u001b[0mprediction_set\u001b[0m\u001b[1;33m[\u001b[0m\u001b[1;34m\"xgb_prediction\"\u001b[0m\u001b[1;33m]\u001b[0m\u001b[1;33m)\u001b[0m \u001b[1;33m/\u001b[0m \u001b[1;36m3\u001b[0m\u001b[1;33m\u001b[0m\u001b[1;33m\u001b[0m\u001b[0m\n\u001b[0m\u001b[0;32m     14\u001b[0m         \u001b[0mprediction_set\u001b[0m\u001b[1;33m[\u001b[0m\u001b[1;34m\"delta\"\u001b[0m\u001b[1;33m]\u001b[0m \u001b[1;33m=\u001b[0m \u001b[1;33m(\u001b[0m\u001b[0mprediction_set\u001b[0m\u001b[1;33m[\u001b[0m\u001b[1;34m\"prediction\"\u001b[0m\u001b[1;33m]\u001b[0m \u001b[1;33m-\u001b[0m \u001b[0mprediction_set\u001b[0m\u001b[1;33m[\u001b[0m\u001b[1;34m\"adjclose\"\u001b[0m\u001b[1;33m]\u001b[0m\u001b[1;33m)\u001b[0m \u001b[1;33m/\u001b[0m \u001b[0mprediction_set\u001b[0m\u001b[1;33m[\u001b[0m\u001b[1;34m\"adjclose\"\u001b[0m\u001b[1;33m]\u001b[0m\u001b[1;33m\u001b[0m\u001b[1;33m\u001b[0m\u001b[0m\n\u001b[0;32m     15\u001b[0m         \u001b[1;32mreturn\u001b[0m \u001b[0mprediction_set\u001b[0m\u001b[1;33m\u001b[0m\u001b[1;33m\u001b[0m\u001b[0m\n",
      "\u001b[1;32m~\\AppData\\Local\\Programs\\Python\\Python310\\lib\\site-packages\\pandas\\core\\frame.py\u001b[0m in \u001b[0;36m__getitem__\u001b[1;34m(self, key)\u001b[0m\n\u001b[0;32m   3456\u001b[0m             \u001b[1;32mif\u001b[0m \u001b[0mself\u001b[0m\u001b[1;33m.\u001b[0m\u001b[0mcolumns\u001b[0m\u001b[1;33m.\u001b[0m\u001b[0mnlevels\u001b[0m \u001b[1;33m>\u001b[0m \u001b[1;36m1\u001b[0m\u001b[1;33m:\u001b[0m\u001b[1;33m\u001b[0m\u001b[1;33m\u001b[0m\u001b[0m\n\u001b[0;32m   3457\u001b[0m                 \u001b[1;32mreturn\u001b[0m \u001b[0mself\u001b[0m\u001b[1;33m.\u001b[0m\u001b[0m_getitem_multilevel\u001b[0m\u001b[1;33m(\u001b[0m\u001b[0mkey\u001b[0m\u001b[1;33m)\u001b[0m\u001b[1;33m\u001b[0m\u001b[1;33m\u001b[0m\u001b[0m\n\u001b[1;32m-> 3458\u001b[1;33m             \u001b[0mindexer\u001b[0m \u001b[1;33m=\u001b[0m \u001b[0mself\u001b[0m\u001b[1;33m.\u001b[0m\u001b[0mcolumns\u001b[0m\u001b[1;33m.\u001b[0m\u001b[0mget_loc\u001b[0m\u001b[1;33m(\u001b[0m\u001b[0mkey\u001b[0m\u001b[1;33m)\u001b[0m\u001b[1;33m\u001b[0m\u001b[1;33m\u001b[0m\u001b[0m\n\u001b[0m\u001b[0;32m   3459\u001b[0m             \u001b[1;32mif\u001b[0m \u001b[0mis_integer\u001b[0m\u001b[1;33m(\u001b[0m\u001b[0mindexer\u001b[0m\u001b[1;33m)\u001b[0m\u001b[1;33m:\u001b[0m\u001b[1;33m\u001b[0m\u001b[1;33m\u001b[0m\u001b[0m\n\u001b[0;32m   3460\u001b[0m                 \u001b[0mindexer\u001b[0m \u001b[1;33m=\u001b[0m \u001b[1;33m[\u001b[0m\u001b[0mindexer\u001b[0m\u001b[1;33m]\u001b[0m\u001b[1;33m\u001b[0m\u001b[1;33m\u001b[0m\u001b[0m\n",
      "\u001b[1;32m~\\AppData\\Local\\Programs\\Python\\Python310\\lib\\site-packages\\pandas\\core\\indexes\\base.py\u001b[0m in \u001b[0;36mget_loc\u001b[1;34m(self, key, method, tolerance)\u001b[0m\n\u001b[0;32m   3361\u001b[0m                 \u001b[1;32mreturn\u001b[0m \u001b[0mself\u001b[0m\u001b[1;33m.\u001b[0m\u001b[0m_engine\u001b[0m\u001b[1;33m.\u001b[0m\u001b[0mget_loc\u001b[0m\u001b[1;33m(\u001b[0m\u001b[0mcasted_key\u001b[0m\u001b[1;33m)\u001b[0m\u001b[1;33m\u001b[0m\u001b[1;33m\u001b[0m\u001b[0m\n\u001b[0;32m   3362\u001b[0m             \u001b[1;32mexcept\u001b[0m \u001b[0mKeyError\u001b[0m \u001b[1;32mas\u001b[0m \u001b[0merr\u001b[0m\u001b[1;33m:\u001b[0m\u001b[1;33m\u001b[0m\u001b[1;33m\u001b[0m\u001b[0m\n\u001b[1;32m-> 3363\u001b[1;33m                 \u001b[1;32mraise\u001b[0m \u001b[0mKeyError\u001b[0m\u001b[1;33m(\u001b[0m\u001b[0mkey\u001b[0m\u001b[1;33m)\u001b[0m \u001b[1;32mfrom\u001b[0m \u001b[0merr\u001b[0m\u001b[1;33m\u001b[0m\u001b[1;33m\u001b[0m\u001b[0m\n\u001b[0m\u001b[0;32m   3364\u001b[0m \u001b[1;33m\u001b[0m\u001b[0m\n\u001b[0;32m   3365\u001b[0m         \u001b[1;32mif\u001b[0m \u001b[0mis_scalar\u001b[0m\u001b[1;33m(\u001b[0m\u001b[0mkey\u001b[0m\u001b[1;33m)\u001b[0m \u001b[1;32mand\u001b[0m \u001b[0misna\u001b[0m\u001b[1;33m(\u001b[0m\u001b[0mkey\u001b[0m\u001b[1;33m)\u001b[0m \u001b[1;32mand\u001b[0m \u001b[1;32mnot\u001b[0m \u001b[0mself\u001b[0m\u001b[1;33m.\u001b[0m\u001b[0mhasnans\u001b[0m\u001b[1;33m:\u001b[0m\u001b[1;33m\u001b[0m\u001b[1;33m\u001b[0m\u001b[0m\n",
      "\u001b[1;31mKeyError\u001b[0m: 'skl_prediction'"
     ]
    }
   ],
   "source": [
    "fs.connect()\n",
    "for year in range(2022,2023):\n",
    "    training_set = training_data[(training_data[\"year\"]<year) & (training_data[\"year\"]>=year-7)].reset_index()\n",
    "    training_set.dropna(inplace=True)\n",
    "    training_set.reset_index(inplace=True)\n",
    "    prediction_set = training_data[training_data[\"year\"]==year].reset_index()\n",
    "    stuff = modeler.model(training_set,prediction_set,factors)\n",
    "    fs.store(\"sim\",stuff)\n",
    "fs.disconnect()"
   ]
  },
  {
   "cell_type": "code",
   "execution_count": null,
   "id": "87edb935",
   "metadata": {},
   "outputs": [],
   "source": []
  },
  {
   "cell_type": "code",
   "execution_count": 13,
   "id": "27f5f3b1",
   "metadata": {},
   "outputs": [
    {
     "data": {
      "text/html": [
       "<div>\n",
       "<style scoped>\n",
       "    .dataframe tbody tr th:only-of-type {\n",
       "        vertical-align: middle;\n",
       "    }\n",
       "\n",
       "    .dataframe tbody tr th {\n",
       "        vertical-align: top;\n",
       "    }\n",
       "\n",
       "    .dataframe thead th {\n",
       "        text-align: right;\n",
       "    }\n",
       "</style>\n",
       "<table border=\"1\" class=\"dataframe\">\n",
       "  <thead>\n",
       "    <tr style=\"text-align: right;\">\n",
       "      <th></th>\n",
       "      <th>level_0</th>\n",
       "      <th>index</th>\n",
       "      <th>year</th>\n",
       "      <th>quarter</th>\n",
       "      <th>ticker</th>\n",
       "      <th>GICS Sector</th>\n",
       "      <th>GICS Sub-Industry</th>\n",
       "      <th>adjclose</th>\n",
       "      <th>assets</th>\n",
       "      <th>liabilitiesandstockholdersequity</th>\n",
       "      <th>accumulatedothercomprehensiveincomelossnetoftax</th>\n",
       "      <th>earningspersharediluted</th>\n",
       "      <th>earningspersharebasic</th>\n",
       "      <th>y</th>\n",
       "    </tr>\n",
       "  </thead>\n",
       "  <tbody>\n",
       "    <tr>\n",
       "      <th>0</th>\n",
       "      <td>0</td>\n",
       "      <td>14</td>\n",
       "      <td>2015</td>\n",
       "      <td>1</td>\n",
       "      <td>MMM</td>\n",
       "      <td>Industrials</td>\n",
       "      <td>Industrial Conglomerates</td>\n",
       "      <td>129.367972</td>\n",
       "      <td>3.289833e+10</td>\n",
       "      <td>3.240950e+10</td>\n",
       "      <td>-4.994250e+09</td>\n",
       "      <td>3.158182</td>\n",
       "      <td>3.211818</td>\n",
       "      <td>126.637959</td>\n",
       "    </tr>\n",
       "    <tr>\n",
       "      <th>1</th>\n",
       "      <td>1</td>\n",
       "      <td>15</td>\n",
       "      <td>2015</td>\n",
       "      <td>2</td>\n",
       "      <td>MMM</td>\n",
       "      <td>Industrials</td>\n",
       "      <td>Industrial Conglomerates</td>\n",
       "      <td>126.637959</td>\n",
       "      <td>3.095600e+10</td>\n",
       "      <td>3.095600e+10</td>\n",
       "      <td>-5.091000e+09</td>\n",
       "      <td>1.820000</td>\n",
       "      <td>1.855000</td>\n",
       "      <td>116.876628</td>\n",
       "    </tr>\n",
       "    <tr>\n",
       "      <th>2</th>\n",
       "      <td>2</td>\n",
       "      <td>16</td>\n",
       "      <td>2015</td>\n",
       "      <td>3</td>\n",
       "      <td>MMM</td>\n",
       "      <td>Industrials</td>\n",
       "      <td>Industrial Conglomerates</td>\n",
       "      <td>116.876628</td>\n",
       "      <td>3.132850e+10</td>\n",
       "      <td>3.132850e+10</td>\n",
       "      <td>-5.043833e+09</td>\n",
       "      <td>2.875000</td>\n",
       "      <td>2.927500</td>\n",
       "      <td>123.018297</td>\n",
       "    </tr>\n",
       "    <tr>\n",
       "      <th>3</th>\n",
       "      <td>3</td>\n",
       "      <td>17</td>\n",
       "      <td>2015</td>\n",
       "      <td>4</td>\n",
       "      <td>MMM</td>\n",
       "      <td>Industrials</td>\n",
       "      <td>Industrial Conglomerates</td>\n",
       "      <td>123.018297</td>\n",
       "      <td>3.226350e+10</td>\n",
       "      <td>3.226350e+10</td>\n",
       "      <td>-6.378000e+09</td>\n",
       "      <td>3.905000</td>\n",
       "      <td>3.980000</td>\n",
       "      <td>123.893221</td>\n",
       "    </tr>\n",
       "    <tr>\n",
       "      <th>4</th>\n",
       "      <td>4</td>\n",
       "      <td>18</td>\n",
       "      <td>2016</td>\n",
       "      <td>1</td>\n",
       "      <td>MMM</td>\n",
       "      <td>Industrials</td>\n",
       "      <td>Industrial Conglomerates</td>\n",
       "      <td>123.893221</td>\n",
       "      <td>3.241033e+10</td>\n",
       "      <td>3.196350e+10</td>\n",
       "      <td>-6.324000e+09</td>\n",
       "      <td>3.350909</td>\n",
       "      <td>3.412727</td>\n",
       "      <td>136.840319</td>\n",
       "    </tr>\n",
       "    <tr>\n",
       "      <th>...</th>\n",
       "      <td>...</td>\n",
       "      <td>...</td>\n",
       "      <td>...</td>\n",
       "      <td>...</td>\n",
       "      <td>...</td>\n",
       "      <td>...</td>\n",
       "      <td>...</td>\n",
       "      <td>...</td>\n",
       "      <td>...</td>\n",
       "      <td>...</td>\n",
       "      <td>...</td>\n",
       "      <td>...</td>\n",
       "      <td>...</td>\n",
       "      <td>...</td>\n",
       "    </tr>\n",
       "    <tr>\n",
       "      <th>12233</th>\n",
       "      <td>13435</td>\n",
       "      <td>33</td>\n",
       "      <td>2020</td>\n",
       "      <td>4</td>\n",
       "      <td>ZTS</td>\n",
       "      <td>Health Care</td>\n",
       "      <td>Pharmaceuticals</td>\n",
       "      <td>160.142303</td>\n",
       "      <td>1.263500e+10</td>\n",
       "      <td>1.263500e+10</td>\n",
       "      <td>-7.305000e+08</td>\n",
       "      <td>1.720000</td>\n",
       "      <td>1.735000</td>\n",
       "      <td>156.264042</td>\n",
       "    </tr>\n",
       "    <tr>\n",
       "      <th>12234</th>\n",
       "      <td>13436</td>\n",
       "      <td>34</td>\n",
       "      <td>2021</td>\n",
       "      <td>1</td>\n",
       "      <td>ZTS</td>\n",
       "      <td>Health Care</td>\n",
       "      <td>Pharmaceuticals</td>\n",
       "      <td>156.264042</td>\n",
       "      <td>1.257700e+10</td>\n",
       "      <td>1.257700e+10</td>\n",
       "      <td>-7.280000e+08</td>\n",
       "      <td>3.153333</td>\n",
       "      <td>3.180000</td>\n",
       "      <td>171.537970</td>\n",
       "    </tr>\n",
       "    <tr>\n",
       "      <th>12235</th>\n",
       "      <td>13437</td>\n",
       "      <td>35</td>\n",
       "      <td>2021</td>\n",
       "      <td>2</td>\n",
       "      <td>ZTS</td>\n",
       "      <td>Health Care</td>\n",
       "      <td>Pharmaceuticals</td>\n",
       "      <td>171.537970</td>\n",
       "      <td>1.370250e+10</td>\n",
       "      <td>1.370250e+10</td>\n",
       "      <td>-6.815000e+08</td>\n",
       "      <td>1.025000</td>\n",
       "      <td>1.035000</td>\n",
       "      <td>199.582126</td>\n",
       "    </tr>\n",
       "    <tr>\n",
       "      <th>12236</th>\n",
       "      <td>13438</td>\n",
       "      <td>36</td>\n",
       "      <td>2021</td>\n",
       "      <td>3</td>\n",
       "      <td>ZTS</td>\n",
       "      <td>Health Care</td>\n",
       "      <td>Pharmaceuticals</td>\n",
       "      <td>199.582126</td>\n",
       "      <td>1.383900e+10</td>\n",
       "      <td>1.383900e+10</td>\n",
       "      <td>-6.765000e+08</td>\n",
       "      <td>1.442500</td>\n",
       "      <td>1.450000</td>\n",
       "      <td>216.862532</td>\n",
       "    </tr>\n",
       "    <tr>\n",
       "      <th>12237</th>\n",
       "      <td>13439</td>\n",
       "      <td>37</td>\n",
       "      <td>2021</td>\n",
       "      <td>4</td>\n",
       "      <td>ZTS</td>\n",
       "      <td>Health Care</td>\n",
       "      <td>Pharmaceuticals</td>\n",
       "      <td>216.862532</td>\n",
       "      <td>1.365700e+10</td>\n",
       "      <td>1.365700e+10</td>\n",
       "      <td>-6.985000e+08</td>\n",
       "      <td>2.057500</td>\n",
       "      <td>2.070000</td>\n",
       "      <td>196.040632</td>\n",
       "    </tr>\n",
       "  </tbody>\n",
       "</table>\n",
       "<p>12238 rows × 14 columns</p>\n",
       "</div>"
      ],
      "text/plain": [
       "       level_0  index  year  quarter ticker  GICS Sector  \\\n",
       "0            0     14  2015        1    MMM  Industrials   \n",
       "1            1     15  2015        2    MMM  Industrials   \n",
       "2            2     16  2015        3    MMM  Industrials   \n",
       "3            3     17  2015        4    MMM  Industrials   \n",
       "4            4     18  2016        1    MMM  Industrials   \n",
       "...        ...    ...   ...      ...    ...          ...   \n",
       "12233    13435     33  2020        4    ZTS  Health Care   \n",
       "12234    13436     34  2021        1    ZTS  Health Care   \n",
       "12235    13437     35  2021        2    ZTS  Health Care   \n",
       "12236    13438     36  2021        3    ZTS  Health Care   \n",
       "12237    13439     37  2021        4    ZTS  Health Care   \n",
       "\n",
       "              GICS Sub-Industry    adjclose        assets  \\\n",
       "0      Industrial Conglomerates  129.367972  3.289833e+10   \n",
       "1      Industrial Conglomerates  126.637959  3.095600e+10   \n",
       "2      Industrial Conglomerates  116.876628  3.132850e+10   \n",
       "3      Industrial Conglomerates  123.018297  3.226350e+10   \n",
       "4      Industrial Conglomerates  123.893221  3.241033e+10   \n",
       "...                         ...         ...           ...   \n",
       "12233           Pharmaceuticals  160.142303  1.263500e+10   \n",
       "12234           Pharmaceuticals  156.264042  1.257700e+10   \n",
       "12235           Pharmaceuticals  171.537970  1.370250e+10   \n",
       "12236           Pharmaceuticals  199.582126  1.383900e+10   \n",
       "12237           Pharmaceuticals  216.862532  1.365700e+10   \n",
       "\n",
       "       liabilitiesandstockholdersequity  \\\n",
       "0                          3.240950e+10   \n",
       "1                          3.095600e+10   \n",
       "2                          3.132850e+10   \n",
       "3                          3.226350e+10   \n",
       "4                          3.196350e+10   \n",
       "...                                 ...   \n",
       "12233                      1.263500e+10   \n",
       "12234                      1.257700e+10   \n",
       "12235                      1.370250e+10   \n",
       "12236                      1.383900e+10   \n",
       "12237                      1.365700e+10   \n",
       "\n",
       "       accumulatedothercomprehensiveincomelossnetoftax  \\\n",
       "0                                        -4.994250e+09   \n",
       "1                                        -5.091000e+09   \n",
       "2                                        -5.043833e+09   \n",
       "3                                        -6.378000e+09   \n",
       "4                                        -6.324000e+09   \n",
       "...                                                ...   \n",
       "12233                                    -7.305000e+08   \n",
       "12234                                    -7.280000e+08   \n",
       "12235                                    -6.815000e+08   \n",
       "12236                                    -6.765000e+08   \n",
       "12237                                    -6.985000e+08   \n",
       "\n",
       "       earningspersharediluted  earningspersharebasic           y  \n",
       "0                     3.158182               3.211818  126.637959  \n",
       "1                     1.820000               1.855000  116.876628  \n",
       "2                     2.875000               2.927500  123.018297  \n",
       "3                     3.905000               3.980000  123.893221  \n",
       "4                     3.350909               3.412727  136.840319  \n",
       "...                        ...                    ...         ...  \n",
       "12233                 1.720000               1.735000  156.264042  \n",
       "12234                 3.153333               3.180000  171.537970  \n",
       "12235                 1.025000               1.035000  199.582126  \n",
       "12236                 1.442500               1.450000  216.862532  \n",
       "12237                 2.057500               2.070000  196.040632  \n",
       "\n",
       "[12238 rows x 14 columns]"
      ]
     },
     "execution_count": 13,
     "metadata": {},
     "output_type": "execute_result"
    }
   ],
   "source": [
    "training_set"
   ]
  }
 ],
 "metadata": {
  "kernelspec": {
   "display_name": "Python 3 (ipykernel)",
   "language": "python",
   "name": "python3"
  },
  "language_info": {
   "codemirror_mode": {
    "name": "ipython",
    "version": 3
   },
   "file_extension": ".py",
   "mimetype": "text/x-python",
   "name": "python",
   "nbconvert_exporter": "python",
   "pygments_lexer": "ipython3",
   "version": "3.10.5"
  }
 },
 "nbformat": 4,
 "nbformat_minor": 5
}
