{
 "cells": [
  {
   "cell_type": "code",
   "execution_count": 1,
   "id": "f17099ef",
   "metadata": {},
   "outputs": [],
   "source": [
    "import pandas as pd\n",
    "from tqdm import tqdm\n",
    "from datetime import datetime, timedelta\n",
    "from processor.processor import Processor as p\n",
    "from database.market import Market\n",
    "from database.sec import SEC"
   ]
  },
  {
   "cell_type": "code",
   "execution_count": 2,
   "id": "c7d71037",
   "metadata": {},
   "outputs": [],
   "source": [
    "market = Market()\n",
    "sec = SEC()"
   ]
  },
  {
   "cell_type": "code",
   "execution_count": 3,
   "id": "0056f6a4",
   "metadata": {},
   "outputs": [],
   "source": [
    "relevant = ['year',\n",
    " 'quarter',\n",
    " 'week',\n",
    " 'assets',\n",
    " 'liabilitiesandstockholdersequity',\n",
    " 'incometaxexpensebenefit',\n",
    " 'retainedearningsaccumulateddeficit',\n",
    " 'earningspersharediluted',\n",
    " 'earningspersharebasic',\n",
    " 'cashandcashequivalentsatcarryingvalue',\n",
    " 'stockholdersequity',\n",
    " 'propertyplantandequipmentnet',\n",
    " 'netincomeloss']"
   ]
  },
  {
   "cell_type": "code",
   "execution_count": 4,
   "id": "ee59853d",
   "metadata": {
    "scrolled": true
   },
   "outputs": [],
   "source": [
    "market.connect()\n",
    "sp500 = market.retrieve(\"sp500\")\n",
    "market.disconnect()\n",
    "#     sp500 = sp500.rename(columns={\"Symbol\":\"ticker\"})\n",
    "#     if data.index.size < 1:\n",
    "#         for ticker in sp500[\"ticker\"].unique():\n",
    "#             try:\n",
    "#                 row = sp500[sp500[\"ticker\"]==ticker]\n",
    "#                 cik = int(row[\"CIK\"])\n",
    "#                 sec.connect()\n",
    "#                 filing_data = sec.retrieve_filing_data(cik)\n",
    "#                 sec.disconnect()\n",
    "#                 filing_data[\"date\"] = [datetime.strptime(str(x),\"%Y%m%d\") for x in filing_data[\"filed\"]]\n",
    "#                 filing_data = p.column_date_processing(filing_data)\n",
    "#                 filing_data[\"ticker\"] = ticker\n",
    "#                 market.connect()\n",
    "#                 prices = market.retrieve_ticker_prices(\"prices\",ticker)\n",
    "#                 market.disconnect()\n",
    "#                 prices = p.column_date_processing(prices)\n",
    "#                 prices.sort_values(\"date\",inplace=True)\n",
    "#                 prices = prices.groupby([\"year\",\"quarter\"]).mean().reset_index()\n",
    "#                 filing_data = filing_data.merge(prices,on=[\"year\",\"quarter\"],how=\"left\")\n",
    "#                 filing_data[\"y\"] = filing_data['adjclose'].shift(-1)\n",
    "#                 complete = filing_data.fillna(method=\"bfill\").fillna(method=\"ffill\").groupby([\"year\",\"quarter\",\"ticker\"]).mean().reset_index()\n",
    "#                 complete = complete.merge(sp500[[\"ticker\",\"GICS Sector\",\"GICS Sub-Industry\"]],on=\"ticker\",how=\"left\")[self.included_columns]\n",
    "#                 self.db.store(\"data\",complete)\n",
    "#             except Exception as e:\n",
    "#                 self.db.store(\"unmodeled\",pd.DataFrame([{\"ticker\":ticker,\"error\":str(e)}]))"
   ]
  },
  {
   "cell_type": "code",
   "execution_count": 5,
   "id": "e9302c18",
   "metadata": {},
   "outputs": [],
   "source": [
    "tickers = sp500[\"Symbol\"].unique()"
   ]
  },
  {
   "cell_type": "code",
   "execution_count": 6,
   "id": "1b445b28",
   "metadata": {},
   "outputs": [
    {
     "name": "stdout",
     "output_type": "stream",
     "text": [
      "ADM \"['stockholdersequity'] not in index\"\n",
      "ARE \"['incometaxexpensebenefit'] not in index\"\n",
      "ALL \"['cashandcashequivalentsatcarryingvalue'] not in index\"\n",
      "AXP \"['cashandcashequivalentsatcarryingvalue'] not in index\"\n",
      "AIG \"['cashandcashequivalentsatcarryingvalue'] not in index\"\n",
      "T \"['stockholdersequity'] not in index\"\n",
      "AVB \"['propertyplantandequipmentnet'] not in index\"\n",
      "BXP \"['incometaxexpensebenefit', 'propertyplantandequipmentnet'] not in index\"\n",
      "BSX \"['stockholdersequity', 'netincomeloss'] not in index\"\n",
      "CPT \"['incometaxexpensebenefit', 'retainedearningsaccumulateddeficit', 'propertyplantandequipmentnet'] not in index\"\n",
      "COF \"['cashandcashequivalentsatcarryingvalue'] not in index\"\n",
      "KMX \"['stockholdersequity'] not in index\"\n",
      "CAT \"['stockholdersequity', 'netincomeloss'] not in index\"\n",
      "CI \"['netincomeloss'] not in index\"\n",
      "C \"['propertyplantandequipmentnet'] not in index\"\n",
      "CMA \"['stockholdersequity', 'netincomeloss'] not in index\"\n",
      "STZ \"['earningspersharediluted', 'earningspersharebasic'] not in index\"\n",
      "CSX \"['stockholdersequity'] not in index\"\n",
      "CMI \"['netincomeloss'] not in index\"\n",
      "DLR \"['propertyplantandequipmentnet'] not in index\"\n",
      "DISH \"['netincomeloss'] not in index\"\n",
      "DRE \"['retainedearningsaccumulateddeficit', 'propertyplantandequipmentnet', 'netincomeloss'] not in index\"\n",
      "EW \"['netincomeloss'] not in index\"\n",
      "EPAM \"['retainedearningsaccumulateddeficit'] not in index\"\n",
      "EQR \"['propertyplantandequipmentnet'] not in index\"\n",
      "ESS \"['retainedearningsaccumulateddeficit', 'propertyplantandequipmentnet'] not in index\"\n",
      "RE \"['propertyplantandequipmentnet'] not in index\"\n",
      "ES \"['propertyplantandequipmentnet'] not in index\"\n",
      "FFIV \"['stockholdersequity'] not in index\"\n",
      "FRT \"['incometaxexpensebenefit', 'retainedearningsaccumulateddeficit', 'propertyplantandequipmentnet'] not in index\"\n",
      "FITB \"['cashandcashequivalentsatcarryingvalue'] not in index\"\n",
      "FRC 'filed'\n",
      "FTV \"['netincomeloss'] not in index\"\n",
      "FOXA \"['netincomeloss'] not in index\"\n",
      "FCX \"['netincomeloss'] not in index\"\n",
      "GL \"['propertyplantandequipmentnet'] not in index\"\n",
      "HIG \"['cashandcashequivalentsatcarryingvalue'] not in index\"\n",
      "PEAK \"['retainedearningsaccumulateddeficit', 'propertyplantandequipmentnet'] not in index\"\n",
      "HSY \"['earningspersharediluted', 'earningspersharebasic'] not in index\"\n",
      "ITW \"['stockholdersequity', 'netincomeloss'] not in index\"\n",
      "IRM \"['netincomeloss'] not in index\"\n",
      "JNJ \"['stockholdersequity'] not in index\"\n",
      "KEY \"['cashandcashequivalentsatcarryingvalue'] not in index\"\n",
      "KEYS \"['netincomeloss'] not in index\"\n",
      "KIM \"['propertyplantandequipmentnet'] not in index\"\n",
      "LNC \"['propertyplantandequipmentnet'] not in index\"\n",
      "L \"['cashandcashequivalentsatcarryingvalue'] not in index\"\n",
      "MET \"['propertyplantandequipmentnet'] not in index\"\n",
      "MAA \"['retainedearningsaccumulateddeficit', 'propertyplantandequipmentnet'] not in index\"\n",
      "MNST \"['earningspersharediluted', 'earningspersharebasic', 'netincomeloss'] not in index\"\n",
      "NTRS \"['cashandcashequivalentsatcarryingvalue'] not in index\"\n",
      "NRG \"['stockholdersequity'] not in index\"\n",
      "NVR \"['propertyplantandequipmentnet'] not in index\"\n",
      "PNW \"['netincomeloss'] not in index\"\n",
      "PNC \"['cashandcashequivalentsatcarryingvalue'] not in index\"\n",
      "PG \"['stockholdersequity'] not in index\"\n",
      "PGR \"['cashandcashequivalentsatcarryingvalue'] not in index\"\n",
      "PEG \"['propertyplantandequipmentnet'] not in index\"\n",
      "PSA \"['propertyplantandequipmentnet'] not in index\"\n",
      "O \"['retainedearningsaccumulateddeficit', 'propertyplantandequipmentnet'] not in index\"\n",
      "REG \"['retainedearningsaccumulateddeficit'] not in index\"\n",
      "SBNY 'filed'\n",
      "SPG \"['propertyplantandequipmentnet', 'netincomeloss'] not in index\"\n",
      "STT \"['cashandcashequivalentsatcarryingvalue'] not in index\"\n",
      "SYF \"['propertyplantandequipmentnet'] not in index\"\n",
      "SYY \"['retainedearningsaccumulateddeficit'] not in index\"\n",
      "TROW \"['retainedearningsaccumulateddeficit'] not in index\"\n",
      "TRV \"['cashandcashequivalentsatcarryingvalue', 'propertyplantandequipmentnet'] not in index\"\n",
      "TFC \"['stockholdersequity', 'netincomeloss'] not in index\"\n",
      "TSN \"['earningspersharebasic'] not in index\"\n",
      "UDR \"['retainedearningsaccumulateddeficit', 'propertyplantandequipmentnet'] not in index\"\n",
      "VTR \"['propertyplantandequipmentnet', 'netincomeloss'] not in index\"\n",
      "V \"['earningspersharediluted', 'earningspersharebasic', 'stockholdersequity'] not in index\"\n",
      "VNO \"['propertyplantandequipmentnet'] not in index\"\n",
      "WAT \"['netincomeloss'] not in index\"\n",
      "WFC \"['cashandcashequivalentsatcarryingvalue'] not in index\"\n",
      "WELL \"['propertyplantandequipmentnet'] not in index\"\n",
      "ZION \"['cashandcashequivalentsatcarryingvalue'] not in index\"\n"
     ]
    }
   ],
   "source": [
    "filings = []\n",
    "sec.connect()\n",
    "for ticker in tickers:\n",
    "    try:\n",
    "        cik = sp500[sp500[\"Symbol\"]==ticker][\"CIK\"].item()\n",
    "        filing = sec.retrieve_filing_data(cik)\n",
    "        filing = p.column_date_processing(filing)\n",
    "        filing[\"filed\"] = pd.to_datetime(filing[\"filed\"])\n",
    "        filing[\"year\"] = [x.year for x in filing[\"filed\"]]\n",
    "        filing[\"quarter\"] = [x.quarter for x in filing[\"filed\"]]\n",
    "        filing[\"week\"] = [x.week for x in filing[\"filed\"]]\n",
    "        filings.append(filing[relevant])\n",
    "    except Exception as e:\n",
    "        print(ticker, str(e))\n",
    "sec.disconnect()"
   ]
  },
  {
   "cell_type": "code",
   "execution_count": null,
   "id": "f27f8b36",
   "metadata": {},
   "outputs": [],
   "source": []
  }
 ],
 "metadata": {
  "kernelspec": {
   "display_name": "Python 3 (ipykernel)",
   "language": "python",
   "name": "python3"
  },
  "language_info": {
   "codemirror_mode": {
    "name": "ipython",
    "version": 3
   },
   "file_extension": ".py",
   "mimetype": "text/x-python",
   "name": "python",
   "nbconvert_exporter": "python",
   "pygments_lexer": "ipython3",
   "version": "3.10.5"
  }
 },
 "nbformat": 4,
 "nbformat_minor": 5
}
