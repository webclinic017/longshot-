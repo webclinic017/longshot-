{
 "cells": [
  {
   "cell_type": "code",
   "execution_count": 14,
   "id": "f17099ef",
   "metadata": {},
   "outputs": [],
   "source": [
    "from database.market import Market\n",
    "from database.sec import SEC\n",
    "import pandas as pd\n",
    "from tqdm import tqdm\n",
    "from datetime import datetime, timedelta\n",
    "from modeler.modeler import Modeler as m\n",
    "from processor.processor import Processor as p\n",
    "from database.adatabase import ADatabase\n",
    "from strats.speculation import Speculation"
   ]
  },
  {
   "cell_type": "code",
   "execution_count": 15,
   "id": "c552f31d",
   "metadata": {},
   "outputs": [],
   "source": [
    "sec = SEC()\n",
    "market = Market()"
   ]
  },
  {
   "cell_type": "code",
   "execution_count": 16,
   "id": "18734fe8",
   "metadata": {},
   "outputs": [],
   "source": [
    "strat_class = Speculation(4)"
   ]
  },
  {
   "cell_type": "code",
   "execution_count": 17,
   "id": "3c8a71f4",
   "metadata": {},
   "outputs": [],
   "source": []
  },
  {
   "cell_type": "code",
   "execution_count": 18,
   "id": "82b36497",
   "metadata": {},
   "outputs": [],
   "source": []
  },
  {
   "cell_type": "code",
   "execution_count": 19,
   "id": "7fa7e63c",
   "metadata": {},
   "outputs": [],
   "source": []
  },
  {
   "cell_type": "code",
   "execution_count": 20,
   "id": "ae11206f",
   "metadata": {},
   "outputs": [
    {
     "name": "stdout",
     "output_type": "stream",
     "text": [
      "init factors\n",
      "init included_columns\n"
     ]
    }
   ],
   "source": [
    "if not strat_class.check_factors():\n",
    "    print(\"init factors\")\n",
    "    strat_class.assign_factors(factors)\n",
    "if not strat_class.check_included_columns():\n",
    "    print(\"init included_columns\")\n",
    "    strat_class.assign_included_columns(included_columns)"
   ]
  },
  {
   "cell_type": "code",
   "execution_count": 21,
   "id": "b8213def",
   "metadata": {},
   "outputs": [],
   "source": [
    "strat_class.pull_included_columns()\n",
    "strat_class.pull_factors()"
   ]
  },
  {
   "cell_type": "code",
   "execution_count": 22,
   "id": "05209bde",
   "metadata": {},
   "outputs": [
    {
     "data": {
      "text/plain": [
       "['year',\n",
       " 'week',\n",
       " 'ticker',\n",
       " 'GICS Sector',\n",
       " 'GICS Sub-Industry',\n",
       " 'adjclose',\n",
       " 'y',\n",
       " '0',\n",
       " '1',\n",
       " '2',\n",
       " '3',\n",
       " '4',\n",
       " '5',\n",
       " '6',\n",
       " '7',\n",
       " '8',\n",
       " '9',\n",
       " '10',\n",
       " '11',\n",
       " '12',\n",
       " '13']"
      ]
     },
     "execution_count": 22,
     "metadata": {},
     "output_type": "execute_result"
    }
   ],
   "source": [
    "strat_class.included_columns"
   ]
  },
  {
   "cell_type": "code",
   "execution_count": 23,
   "id": "5f208695",
   "metadata": {},
   "outputs": [
    {
     "data": {
      "text/plain": [
       "['0', '1', '2', '3', '4', '5', '6', '7', '8', '9', '10', '11', '12', '13']"
      ]
     },
     "execution_count": 23,
     "metadata": {},
     "output_type": "execute_result"
    }
   ],
   "source": [
    "strat_class.factors"
   ]
  }
 ],
 "metadata": {
  "kernelspec": {
   "display_name": "Python 3 (ipykernel)",
   "language": "python",
   "name": "python3"
  },
  "language_info": {
   "codemirror_mode": {
    "name": "ipython",
    "version": 3
   },
   "file_extension": ".py",
   "mimetype": "text/x-python",
   "name": "python",
   "nbconvert_exporter": "python",
   "pygments_lexer": "ipython3",
   "version": "3.10.5"
  }
 },
 "nbformat": 4,
 "nbformat_minor": 5
}
