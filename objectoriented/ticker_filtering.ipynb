{
 "cells": [
  {
   "cell_type": "code",
   "execution_count": 1,
   "id": "d7eaec62",
   "metadata": {},
   "outputs": [],
   "source": [
    "import pandas as pd\n",
    "from database.market import Market\n",
    "import matplotlib.pyplot as plt\n",
    "from processor.processor import Processor as p\n",
    "from datetime import datetime\n",
    "from statistics import variance\n",
    "from tqdm import tqdm"
   ]
  },
  {
   "cell_type": "code",
   "execution_count": 2,
   "id": "dfed8fdb",
   "metadata": {},
   "outputs": [],
   "source": [
    "market = Market()"
   ]
  },
  {
   "cell_type": "code",
   "execution_count": 3,
   "id": "f85f641a",
   "metadata": {},
   "outputs": [
    {
     "name": "stderr",
     "output_type": "stream",
     "text": [
      "E:\\projects\\longshot_venv\\longshot\\processor\\processor.py:19: FutureWarning: Series.dt.weekofyear and Series.dt.week have been deprecated.  Please use Series.dt.isocalendar().week instead.\n",
      "  data[\"week\"] = data[\"date\"].dt.week\n",
      "E:\\projects\\longshot_venv\\longshot\\processor\\processor.py:19: FutureWarning: Series.dt.weekofyear and Series.dt.week have been deprecated.  Please use Series.dt.isocalendar().week instead.\n",
      "  data[\"week\"] = data[\"date\"].dt.week\n"
     ]
    }
   ],
   "source": [
    "market.connect()\n",
    "prices = market.retrieve(\"prices\")\n",
    "pdr_prices = market.retrieve(\"pdr_prices\")\n",
    "prices = p.column_date_processing(prices)\n",
    "pdr_prices = p.column_date_processing(pdr_prices)\n",
    "market.disconnect()"
   ]
  },
  {
   "cell_type": "code",
   "execution_count": 4,
   "id": "c6a71a81",
   "metadata": {},
   "outputs": [],
   "source": [
    "prices = prices.groupby([\"date\",\"ticker\"]).mean().reset_index()\n",
    "pdr_prices = pdr_prices.groupby([\"date\",\"ticker\"]).mean().reset_index()"
   ]
  },
  {
   "cell_type": "code",
   "execution_count": 5,
   "id": "44145e1b",
   "metadata": {},
   "outputs": [],
   "source": [
    "start_date = datetime(2012,1,1)\n",
    "end_date = datetime.now()"
   ]
  },
  {
   "cell_type": "code",
   "execution_count": 6,
   "id": "03b8868e",
   "metadata": {},
   "outputs": [
    {
     "name": "stderr",
     "output_type": "stream",
     "text": [
      "100%|██████████████████████████████████████████████████████████████████████████████████████████████████████████████████████████████████████| 497/497 [01:09<00:00,  7.16it/s]\n"
     ]
    }
   ],
   "source": [
    "analysis = []\n",
    "for ticker in tqdm(prices[\"ticker\"].unique()):\n",
    "    ticker_data = prices[(prices[\"ticker\"]==ticker) & (prices[\"date\"]>=start_date)].sort_values(\"date\")\n",
    "    pdr_data = pdr_prices[(pdr_prices[\"ticker\"]==ticker) & (pdr_prices[\"date\"]>=start_date)].sort_values(\"date\")\n",
    "    merged = ticker_data.merge(pdr_data,on=\"date\")\n",
    "    merged[\"diff\"] = abs(merged[\"adjclose_x\"] - merged[\"adjclose_y\"]) /  merged[\"adjclose_y\"]\n",
    "#     var = sum((ticker_data[\"adjclose\"] - pdr_data[\"adjclose\"]) / pdr_data[\"adjclose\"]) / pdr_data[\"adjclose\"].index.size\n",
    "    analysis.append({\"ticker\":ticker\n",
    "                     ,\"tiingo_count\":ticker_data.index.size\n",
    "                     ,\"pdr_count\":pdr_data.index.size\n",
    "                     ,\"count_diff\":abs(ticker_data.index.size-pdr_data.index.size)\n",
    "                     ,\"var\":merged[\"diff\"].mean()})"
   ]
  },
  {
   "cell_type": "code",
   "execution_count": 7,
   "id": "f2930e00",
   "metadata": {},
   "outputs": [],
   "source": [
    "a = pd.DataFrame(analysis)"
   ]
  },
  {
   "cell_type": "code",
   "execution_count": 8,
   "id": "9a6b8bc9",
   "metadata": {},
   "outputs": [],
   "source": [
    "deactivated_tickers = a[(a[\"var\"]>=0.005) | (a[\"count_diff\"]>=10) | (a[\"pdr_count\"]< 2670) | (a[\"tiingo_count\"]< 2670)]"
   ]
  },
  {
   "cell_type": "code",
   "execution_count": 9,
   "id": "a2311ea9",
   "metadata": {},
   "outputs": [
    {
     "data": {
      "text/html": [
       "<div>\n",
       "<style scoped>\n",
       "    .dataframe tbody tr th:only-of-type {\n",
       "        vertical-align: middle;\n",
       "    }\n",
       "\n",
       "    .dataframe tbody tr th {\n",
       "        vertical-align: top;\n",
       "    }\n",
       "\n",
       "    .dataframe thead th {\n",
       "        text-align: right;\n",
       "    }\n",
       "</style>\n",
       "<table border=\"1\" class=\"dataframe\">\n",
       "  <thead>\n",
       "    <tr style=\"text-align: right;\">\n",
       "      <th></th>\n",
       "      <th>ticker</th>\n",
       "      <th>tiingo_count</th>\n",
       "      <th>pdr_count</th>\n",
       "      <th>count_diff</th>\n",
       "      <th>var</th>\n",
       "    </tr>\n",
       "  </thead>\n",
       "  <tbody>\n",
       "    <tr>\n",
       "      <th>36</th>\n",
       "      <td>APD</td>\n",
       "      <td>2690</td>\n",
       "      <td>2690</td>\n",
       "      <td>0</td>\n",
       "      <td>0.036205</td>\n",
       "    </tr>\n",
       "    <tr>\n",
       "      <th>38</th>\n",
       "      <td>APTV</td>\n",
       "      <td>2690</td>\n",
       "      <td>2690</td>\n",
       "      <td>0</td>\n",
       "      <td>0.009397</td>\n",
       "    </tr>\n",
       "    <tr>\n",
       "      <th>43</th>\n",
       "      <td>AVGO</td>\n",
       "      <td>2690</td>\n",
       "      <td>2690</td>\n",
       "      <td>0</td>\n",
       "      <td>0.008503</td>\n",
       "    </tr>\n",
       "    <tr>\n",
       "      <th>68</th>\n",
       "      <td>CAG</td>\n",
       "      <td>2690</td>\n",
       "      <td>2690</td>\n",
       "      <td>0</td>\n",
       "      <td>0.007747</td>\n",
       "    </tr>\n",
       "    <tr>\n",
       "      <th>71</th>\n",
       "      <td>CB</td>\n",
       "      <td>2690</td>\n",
       "      <td>2690</td>\n",
       "      <td>0</td>\n",
       "      <td>0.015322</td>\n",
       "    </tr>\n",
       "    <tr>\n",
       "      <th>...</th>\n",
       "      <td>...</td>\n",
       "      <td>...</td>\n",
       "      <td>...</td>\n",
       "      <td>...</td>\n",
       "      <td>...</td>\n",
       "    </tr>\n",
       "    <tr>\n",
       "      <th>492</th>\n",
       "      <td>CARR</td>\n",
       "      <td>625</td>\n",
       "      <td>625</td>\n",
       "      <td>0</td>\n",
       "      <td>0.000025</td>\n",
       "    </tr>\n",
       "    <tr>\n",
       "      <th>493</th>\n",
       "      <td>OTIS</td>\n",
       "      <td>625</td>\n",
       "      <td>625</td>\n",
       "      <td>0</td>\n",
       "      <td>0.000061</td>\n",
       "    </tr>\n",
       "    <tr>\n",
       "      <th>494</th>\n",
       "      <td>VTRS</td>\n",
       "      <td>457</td>\n",
       "      <td>2690</td>\n",
       "      <td>2233</td>\n",
       "      <td>0.000102</td>\n",
       "    </tr>\n",
       "    <tr>\n",
       "      <th>495</th>\n",
       "      <td>OGN</td>\n",
       "      <td>323</td>\n",
       "      <td>334</td>\n",
       "      <td>11</td>\n",
       "      <td>0.000220</td>\n",
       "    </tr>\n",
       "    <tr>\n",
       "      <th>496</th>\n",
       "      <td>CEG</td>\n",
       "      <td>152</td>\n",
       "      <td>162</td>\n",
       "      <td>10</td>\n",
       "      <td>0.000066</td>\n",
       "    </tr>\n",
       "  </tbody>\n",
       "</table>\n",
       "<p>85 rows × 5 columns</p>\n",
       "</div>"
      ],
      "text/plain": [
       "    ticker  tiingo_count  pdr_count  count_diff       var\n",
       "36     APD          2690       2690           0  0.036205\n",
       "38    APTV          2690       2690           0  0.009397\n",
       "43    AVGO          2690       2690           0  0.008503\n",
       "68     CAG          2690       2690           0  0.007747\n",
       "71      CB          2690       2690           0  0.015322\n",
       "..     ...           ...        ...         ...       ...\n",
       "492   CARR           625        625           0  0.000025\n",
       "493   OTIS           625        625           0  0.000061\n",
       "494   VTRS           457       2690        2233  0.000102\n",
       "495    OGN           323        334          11  0.000220\n",
       "496    CEG           152        162          10  0.000066\n",
       "\n",
       "[85 rows x 5 columns]"
      ]
     },
     "execution_count": 9,
     "metadata": {},
     "output_type": "execute_result"
    }
   ],
   "source": [
    "deactivated_tickers"
   ]
  },
  {
   "cell_type": "code",
   "execution_count": 10,
   "id": "20623f8f",
   "metadata": {},
   "outputs": [],
   "source": [
    "market.connect()\n",
    "market.store(\"deactivated_tickers\",deactivated_tickers)\n",
    "market.disconnect()"
   ]
  }
 ],
 "metadata": {
  "kernelspec": {
   "display_name": "Python 3 (ipykernel)",
   "language": "python",
   "name": "python3"
  },
  "language_info": {
   "codemirror_mode": {
    "name": "ipython",
    "version": 3
   },
   "file_extension": ".py",
   "mimetype": "text/x-python",
   "name": "python",
   "nbconvert_exporter": "python",
   "pygments_lexer": "ipython3",
   "version": "3.10.5"
  }
 },
 "nbformat": 4,
 "nbformat_minor": 5
}
