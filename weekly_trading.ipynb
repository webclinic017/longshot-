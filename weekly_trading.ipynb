{
 "cells": [
  {
   "cell_type": "code",
   "execution_count": 1,
   "id": "fd7ea1d3",
   "metadata": {},
   "outputs": [],
   "source": [
    "from tradealgorithm.tradealgorithm import TradeAlgorithm\n",
    "from tradealgorithm.tradealgorithmfactory import TradeAlgorithmFactory\n",
    "from pricer.pricer_factory import PricerFactory\n",
    "from pricer.pricer import Pricer\n",
    "from ranker.ranker_factory import RankerFactory\n",
    "from ranker.ranker import Ranker\n",
    "from classifier.classifier_factory import ClassifierFactory\n",
    "from classifier.classifier import Classifier\n",
    "from datetime import datetime\n",
    "from tqdm import tqdm\n",
    "from alpaca_api.alpaca_api import AlpacaApi\n",
    "from time import sleep\n",
    "import pandas as pd"
   ]
  },
  {
   "cell_type": "code",
   "execution_count": 2,
   "id": "9a62a77e",
   "metadata": {},
   "outputs": [],
   "source": [
    "trade_algo = TradeAlgorithmFactory.build(TradeAlgorithm.RRR_BETA)\n",
    "alp = AlpacaApi()"
   ]
  },
  {
   "cell_type": "code",
   "execution_count": 3,
   "id": "e7b9084d",
   "metadata": {},
   "outputs": [],
   "source": [
    "ranker_class = Ranker.NONE\n",
    "classifier_class = Classifier.NONE\n",
    "current = False"
   ]
  },
  {
   "cell_type": "code",
   "execution_count": 4,
   "id": "c3ed100e",
   "metadata": {},
   "outputs": [],
   "source": [
    "start = datetime(2023,1,1)\n",
    "end = datetime.now()\n",
    "current_date = datetime.now()\n",
    "week = current_date.isocalendar()[1]\n",
    "positions = 20"
   ]
  },
  {
   "cell_type": "code",
   "execution_count": 10,
   "id": "645a067a",
   "metadata": {},
   "outputs": [],
   "source": [
    "pricer_classes = [] \n",
    "# pricer_classes.append(Pricer.WEEKLY_STOCK_WINDOW)\n",
    "pricer_classes.append(Pricer.DAILY_STOCK_ROLLING)"
   ]
  },
  {
   "cell_type": "code",
   "execution_count": 11,
   "id": "d2e18bb2",
   "metadata": {
    "scrolled": true
   },
   "outputs": [
    {
     "name": "stderr",
     "output_type": "stream",
     "text": [
      "100%|███████████████████████████████████████████████████████████████████████████████████████████████████████████████████████████████████████████████████████████████████████| 1/1 [00:00<00:00,  1.34it/s]\n"
     ]
    }
   ],
   "source": [
    "for pricer_class in tqdm(pricer_classes):\n",
    "    try:\n",
    "        trade_algo.initialize(pricer_class,ranker_class,classifier_class,start,end,current_date)\n",
    "        trade_algo.initialize_classes()\n",
    "        final = trade_algo.pull_recommendations()\n",
    "        if final.index.size > 0:\n",
    "            final = final[final[\"week\"]==week].sort_values(\"weekly_delta\",ascending=False).head(positions)\n",
    "            account = alp.live_get_account()\n",
    "            cash = float(account.cash)\n",
    "#             cash = 100\n",
    "            # executing order\n",
    "            order_data = []\n",
    "            for row in final.iterrows():\n",
    "                try:\n",
    "                    ticker = \"BTC/USD\" if row[1][\"ticker\"] == \"BTC\" else row[1][\"ticker\"] \n",
    "                    amount = cash / positions\n",
    "                    print(ticker,amount)\n",
    "#                     order_data.append(alp.live_market_order(ticker,amount))\n",
    "#                     sleep(1)\n",
    "                except Exception as e:\n",
    "                    trade_algo.db.connect()\n",
    "                    trade_algo.db.store(\"errors\",pd.DataFrame([{\"date\":str(datetime.now()),\"error\":str(e)}]))\n",
    "                    trade_algo.db.disconnect()\n",
    "            order_dicts = pd.DataFrame([json.loads(order_d.json()) for order_d in order_data])\n",
    "#             trade_algo.db.cloud_connect()\n",
    "#             trade_algo.db.store(\"orders\",order_dicts)\n",
    "#             trade_algo.db.disconnect()\n",
    "            trade_algo.db.connect()\n",
    "            trade_algo.db.store(\"orders\",order_dicts)\n",
    "            trade_algo.db.disconnect()\n",
    "#         trade_algo.db.cloud_connect()\n",
    "#         trade_algo.db.store(\"iterations\",pd.DataFrame([{\"date\":str(datetime.now()),\"status\":\"complete\"}]))\n",
    "#         trade_algo.db.disconnect()\n",
    "        trade_algo.db.connect()\n",
    "        trade_algo.db.store(\"algo_iterations\",pd.DataFrame([{\"date\":str(datetime.now()),\"status\":\"complete\"}]))\n",
    "        trade_algo.db.disconnect()\n",
    "#         sleep(300)\n",
    "    except Exception as e:\n",
    "#             trade_algo.db.cloud_connect()\n",
    "#             trade_algo.db.store(\"iterations\",pd.DataFrame([{\"date\":str(datetime.now()),\"status\":\"incomplete\"}]))\n",
    "#             trade_algo.db.store(\"errors\",pd.DataFrame([{\"date\":str(datetime.now()),\"status\":\"trade\",\"error\":str(e)}]))\n",
    "#             trade_algo.db.disconnect()\n",
    "            trade_algo.db.connect()\n",
    "            trade_algo.db.store(\"algo_iterations\",pd.DataFrame([{\"date\":str(datetime.now()),\"status\":\"incomplete\"}]))\n",
    "            trade_algo.db.store(\"errors\",pd.DataFrame([{\"date\":str(datetime.now()),\"status\":\"trade\",\"error\":str(e)}]))\n",
    "            trade_algo.db.disconnect()"
   ]
  },
  {
   "cell_type": "code",
   "execution_count": 7,
   "id": "3d50a63c",
   "metadata": {},
   "outputs": [
    {
     "data": {
      "text/plain": [
       "101.28"
      ]
     },
     "execution_count": 7,
     "metadata": {},
     "output_type": "execute_result"
    }
   ],
   "source": [
    "cash"
   ]
  }
 ],
 "metadata": {
  "kernelspec": {
   "display_name": "Python 3 (ipykernel)",
   "language": "python",
   "name": "python3"
  },
  "language_info": {
   "codemirror_mode": {
    "name": "ipython",
    "version": 3
   },
   "file_extension": ".py",
   "mimetype": "text/x-python",
   "name": "python",
   "nbconvert_exporter": "python",
   "pygments_lexer": "ipython3",
   "version": "3.10.5"
  }
 },
 "nbformat": 4,
 "nbformat_minor": 5
}
