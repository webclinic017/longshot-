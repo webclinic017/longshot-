{
 "cells": [
  {
   "cell_type": "code",
   "execution_count": 14,
   "id": "fd7ea1d3",
   "metadata": {},
   "outputs": [],
   "source": [
    "from tradealgorithm.tradealgorithm import TradeAlgorithm\n",
    "from tradealgorithm.tradealgorithmfactory import TradeAlgorithmFactory\n",
    "from pricer.pricer_factory import PricerFactory\n",
    "from pricer.pricer import Pricer\n",
    "from ranker.ranker_factory import RankerFactory\n",
    "from ranker.ranker import Ranker\n",
    "from classifier.classifier_factory import ClassifierFactory\n",
    "from classifier.classifier import Classifier\n",
    "from datetime import datetime\n",
    "from tqdm import tqdm\n",
    "from alpaca_api.alpaca_api import AlpacaApi\n",
    "from time import sleep\n",
    "import pandas as pd"
   ]
  },
  {
   "cell_type": "code",
   "execution_count": 15,
   "id": "9a62a77e",
   "metadata": {},
   "outputs": [],
   "source": [
    "trade_algo = TradeAlgorithmFactory.build(TradeAlgorithm.RRR_BETA)\n",
    "alp = AlpacaApi()"
   ]
  },
  {
   "cell_type": "code",
   "execution_count": 16,
   "id": "e7b9084d",
   "metadata": {},
   "outputs": [],
   "source": [
    "ranker_class = Ranker.NONE\n",
    "classifier_class = Classifier.NONE\n",
    "current = False"
   ]
  },
  {
   "cell_type": "code",
   "execution_count": 17,
   "id": "c3ed100e",
   "metadata": {},
   "outputs": [],
   "source": [
    "start = datetime(2001,1,1)\n",
    "end = datetime(2023,1,1)\n",
    "current_date = datetime.now()\n",
    "# week = current_date.week\n",
    "week = 29\n",
    "positions = 20"
   ]
  },
  {
   "cell_type": "code",
   "execution_count": 18,
   "id": "645a067a",
   "metadata": {},
   "outputs": [],
   "source": [
    "pricer_classes = [] \n",
    "# pricer_classes.append(Pricer.DAILY_STOCK_ROLLING)\n",
    "pricer_classes.append(Pricer.WEEKLY_STOCK_ROLLING)\n",
    "# pricer_classes.append(Pricer.MONTHLY_STOCK_ROLLING)\n",
    "# pricer_classes.append(Pricer.QUARTERLY_STOCK_ROLLING)\n",
    "# pricer_classes.append(Pricer.DAILY_STOCK_WINDOW)\n",
    "# pricer_classes.append(Pricer.WEEKLY_STOCK_WINDOW)\n",
    "# pricer_classes.append(Pricer.MONTHLY_STOCK_WINDOW)\n",
    "# pricer_classes.append(Pricer.QUARTERLY_STOCK_WINDOW)"
   ]
  },
  {
   "cell_type": "code",
   "execution_count": 19,
   "id": "d2e18bb2",
   "metadata": {
    "scrolled": true
   },
   "outputs": [
    {
     "name": "stderr",
     "output_type": "stream",
     "text": [
      "\r",
      "  0%|                                                                                                                                                                               | 0/1 [00:00<?, ?it/s]"
     ]
    },
    {
     "name": "stdout",
     "output_type": "stream",
     "text": [
      "CCL 0\n",
      "NVDA 0\n",
      "TSLA 0\n",
      "META 0\n",
      "NCLH 0\n",
      "ADBE 0\n",
      "AVGO 0\n",
      "RCL 0\n",
      "MTCH 0\n",
      "PHM 0\n",
      "NFLX 0\n",
      "DAL 0\n",
      "ISRG 0\n",
      "LYV 0\n",
      "DPZ 0\n",
      "GNRC 0\n",
      "NOW 0\n",
      "PAYC 0\n",
      "NXPI 0\n",
      "AMZN 0\n",
      "wsr_n_n_b_r orders documents must be a non-empty list\n",
      "wsr_n_n_b_r orders documents must be a non-empty list\n"
     ]
    },
    {
     "name": "stderr",
     "output_type": "stream",
     "text": [
      "100%|███████████████████████████████████████████████████████████████████████████████████████████████████████████████████████████████████████████████████████████████████████| 1/1 [00:04<00:00,  4.02s/it]\n"
     ]
    }
   ],
   "source": [
    "for pricer_class in tqdm(pricer_classes):\n",
    "    try:\n",
    "        trade_algo.initialize(pricer_class,ranker_class,classifier_class,start,end,current_date)\n",
    "        trade_algo.initialize_classes()\n",
    "        final = trade_algo.pull_recommendations()\n",
    "        if final.index.size > 0:\n",
    "            final = final[final[\"week\"]==week].sort_values(\"weekly_delta\",ascending=False).head(positions)\n",
    "            trade_algo.db.cloud_connect()\n",
    "            trade_algo.db.store(\"proposals\",final)\n",
    "            trade_algo.db.disconnect()\n",
    "            trade_algo.db.connect()\n",
    "            trade_algo.db.store(\"proposals\",final)\n",
    "            trade_algo.db.disconnect()\n",
    "            account = alp.live_get_account()\n",
    "            cash = float(account.cash)\n",
    "            # executing order\n",
    "            order_data = []\n",
    "            for row in final.iterrows():\n",
    "                try:\n",
    "                    ticker = \"BTC/USD\" if row[1][\"ticker\"] == \"BTC\" else row[1][\"ticker\"] \n",
    "                    amount = round(cash / (positions))\n",
    "                    print(ticker,amount)\n",
    "#                     order_data.append(alp.paper_market_order(ticker,amount))\n",
    "#                     sleep(1)\n",
    "                except Exception as e:\n",
    "                    trade_algo.db.cloud_connect()\n",
    "                    trade_algo.db.store(\"errors\",pd.DataFrame([{\"date\":str(datetime.now()),\"error\":str(e)}]))\n",
    "                    trade_algo.db.disconnect()\n",
    "            order_dicts = pd.DataFrame([json.loads(order_d.json()) for order_d in order_data])\n",
    "            trade_algo.db.cloud_connect()\n",
    "            trade_algo.db.store(\"orders\",order_dicts)\n",
    "            trade_algo.db.disconnect()\n",
    "            trade_algo.db.connect()\n",
    "            trade_algo.db.store(\"orders\",order_dicts)\n",
    "            trade_algo.db.disconnect()\n",
    "        trade_algo.db.cloud_connect()\n",
    "        trade_algo.db.store(\"iterations\",pd.DataFrame([{\"date\":str(datetime.now()),\"status\":\"complete\"}]))\n",
    "        trade_algo.db.disconnect()\n",
    "        trade_algo.db.connect()\n",
    "        trade_algo.db.store(\"iterations\",pd.DataFrame([{\"date\":str(datetime.now()),\"status\":\"complete\"}]))\n",
    "        trade_algo.db.disconnect()\n",
    "#         sleep(300)\n",
    "    except Exception as e:\n",
    "            trade_algo.db.cloud_connect()\n",
    "            trade_algo.db.store(\"iterations\",pd.DataFrame([{\"date\":str(datetime.now()),\"status\":\"incomplete\"}]))\n",
    "            trade_algo.db.store(\"errors\",pd.DataFrame([{\"date\":str(datetime.now()),\"status\":\"trade\",\"error\":str(e)}]))\n",
    "            trade_algo.db.disconnect()\n",
    "            trade_algo.db.connect()\n",
    "            trade_algo.db.store(\"iterations\",pd.DataFrame([{\"date\":str(datetime.now()),\"status\":\"incomplete\"}]))\n",
    "            trade_algo.db.store(\"errors\",pd.DataFrame([{\"date\":str(datetime.now()),\"status\":\"trade\",\"error\":str(e)}]))\n",
    "            trade_algo.db.disconnect()"
   ]
  },
  {
   "cell_type": "code",
   "execution_count": null,
   "id": "fa212b5c",
   "metadata": {},
   "outputs": [],
   "source": [
    "[]"
   ]
  }
 ],
 "metadata": {
  "kernelspec": {
   "display_name": "Python 3 (ipykernel)",
   "language": "python",
   "name": "python3"
  },
  "language_info": {
   "codemirror_mode": {
    "name": "ipython",
    "version": 3
   },
   "file_extension": ".py",
   "mimetype": "text/x-python",
   "name": "python",
   "nbconvert_exporter": "python",
   "pygments_lexer": "ipython3",
   "version": "3.10.5"
  }
 },
 "nbformat": 4,
 "nbformat_minor": 5
}
