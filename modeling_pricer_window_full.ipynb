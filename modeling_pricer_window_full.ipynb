{
 "cells": [
  {
   "cell_type": "code",
   "execution_count": 5,
   "id": "5a24d11e",
   "metadata": {},
   "outputs": [],
   "source": [
    "from pricer.pricer import Pricer\n",
    "from pricer.pricer_factory import PricerFactory\n",
    "from datetime import datetime\n",
    "from processor.processor import Processor as p"
   ]
  },
  {
   "cell_type": "code",
   "execution_count": 6,
   "id": "15454e26",
   "metadata": {},
   "outputs": [],
   "source": [
    "pricers = []\n",
    "pricers.append(Pricer.DAILY_STOCK_WINDOW)\n",
    "pricers.append(Pricer.YEARLY_STOCK_WINDOW)\n",
    "pricers.append(Pricer.QUARTERLY_STOCK_WINDOW)\n",
    "pricers.append(Pricer.MONTHLY_STOCK_WINDOW)\n",
    "pricers.append(Pricer.WEEKLY_STOCK_WINDOW)"
   ]
  },
  {
   "cell_type": "code",
   "execution_count": 7,
   "id": "a77d9b13",
   "metadata": {},
   "outputs": [],
   "source": [
    "backtest_start_date = datetime(2001,1,1)\n",
    "backtest_end_date = datetime(2023,1,1)\n",
    "current_year = datetime.now().year"
   ]
  },
  {
   "cell_type": "code",
   "execution_count": null,
   "id": "1f7fc22a",
   "metadata": {},
   "outputs": [
    {
     "name": "stderr",
     "output_type": "stream",
     "text": [
      "100%|███████████████████████████████████████████████████████████████████████████████████████████████████████████████████████████████████████████████████████████████████| 490/490 [01:11<00:00,  6.81it/s]\n"
     ]
    },
    {
     "name": "stdout",
     "output_type": "stream",
     "text": [
      "initialize 'NoneType' object has no attribute 'initialize'\n",
      "initialize 'NoneType' object has no attribute 'initialize'\n",
      "initialize 'NoneType' object has no attribute 'initialize'\n"
     ]
    },
    {
     "name": "stderr",
     "output_type": "stream",
     "text": [
      " 30%|█████████████████████████████████████████████████▏                                                                                                                 | 148/490 [00:20<00:44,  7.71it/s]"
     ]
    }
   ],
   "source": [
    "## initializing pricer_class\n",
    "for pricer_enum in pricers:\n",
    "    try:\n",
    "        status = \"initialize\"\n",
    "        pricer_class = PricerFactory.build(pricer_enum)\n",
    "        pricer_class.initialize()\n",
    "        pricer_class.drop_sim()\n",
    "        status = \"sim\"\n",
    "        test_sim = pricer_class.create_sim()\n",
    "    except Exception as e:\n",
    "        print(status,str(e))"
   ]
  }
 ],
 "metadata": {
  "kernelspec": {
   "display_name": "Python 3 (ipykernel)",
   "language": "python",
   "name": "python3"
  },
  "language_info": {
   "codemirror_mode": {
    "name": "ipython",
    "version": 3
   },
   "file_extension": ".py",
   "mimetype": "text/x-python",
   "name": "python",
   "nbconvert_exporter": "python",
   "pygments_lexer": "ipython3",
   "version": "3.10.5"
  }
 },
 "nbformat": 4,
 "nbformat_minor": 5
}
