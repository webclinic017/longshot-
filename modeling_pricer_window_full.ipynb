{
 "cells": [
  {
   "cell_type": "code",
   "execution_count": 1,
   "id": "5a24d11e",
   "metadata": {},
   "outputs": [],
   "source": [
    "import pandas as pd\n",
    "from pricer.pricer import Pricer\n",
    "from pricer.pricer_factory import PricerFactory\n",
    "from database.market import Market\n",
    "from database.sec import SEC\n",
    "from database.adatabase import ADatabase\n",
    "from processor.processor import Processor as p\n",
    "from datetime import datetime, timedelta\n",
    "from tqdm import tqdm\n",
    "import numpy as np\n",
    "from modeler_strats.universal_modeler import UniversalModeler"
   ]
  },
  {
   "cell_type": "code",
   "execution_count": 2,
   "id": "15454e26",
   "metadata": {},
   "outputs": [],
   "source": [
    "## initializing pricer_class\n",
    "pricer_class = PricerFactory.build(Pricer.WEEKLY_STOCK_WINDOW)"
   ]
  },
  {
   "cell_type": "code",
   "execution_count": 3,
   "id": "a77d9b13",
   "metadata": {},
   "outputs": [],
   "source": [
    "backtest_start_date = datetime(2016,1,1)\n",
    "backtest_end_date = datetime(2023,1,1)\n",
    "current_year = datetime.now().year"
   ]
  },
  {
   "cell_type": "code",
   "execution_count": 4,
   "id": "1f7fc22a",
   "metadata": {},
   "outputs": [],
   "source": [
    "## creating database objects\n",
    "market = Market()\n",
    "modeler_strat = UniversalModeler()"
   ]
  },
  {
   "cell_type": "code",
   "execution_count": 5,
   "id": "b0c57b4d",
   "metadata": {},
   "outputs": [],
   "source": [
    "market.connect()\n",
    "sp500 = market.retrieve(\"sp500\")\n",
    "market.disconnect()\n",
    "sp500 = sp500.rename(columns={\"Symbol\":\"ticker\"})"
   ]
  },
  {
   "cell_type": "code",
   "execution_count": 6,
   "id": "c551e792",
   "metadata": {
    "scrolled": true
   },
   "outputs": [
    {
     "name": "stderr",
     "output_type": "stream",
     "text": [
      "100%|█████████████████████████████████████████████████████████████████████████████████████████████████████████████████████████████████████████████████████████████████████████| 490/490 [00:33<00:00, 14.49it/s]\n"
     ]
    }
   ],
   "source": [
    "market.connect()\n",
    "training_sets = []\n",
    "for ticker in tqdm(sp500[\"ticker\"].unique()):\n",
    "    try:\n",
    "        prices = market.retrieve_ticker_prices(pricer_class.asset_class.value,ticker)\n",
    "        prices = p.column_date_processing(prices)\n",
    "        ticker_data = pricer_class.training_set(ticker,prices)\n",
    "        training_sets.append(ticker_data)\n",
    "    except Exception as e:\n",
    "        print(str(e))\n",
    "        continue\n",
    "market.disconnect()"
   ]
  },
  {
   "cell_type": "code",
   "execution_count": 7,
   "id": "0ea5d66b",
   "metadata": {},
   "outputs": [],
   "source": [
    "data = pd.concat(training_sets)"
   ]
  },
  {
   "cell_type": "code",
   "execution_count": 8,
   "id": "736f208f",
   "metadata": {},
   "outputs": [],
   "source": [
    "training_data = data.dropna().copy().sort_values([\"year\",\"week\"])"
   ]
  },
  {
   "cell_type": "code",
   "execution_count": 9,
   "id": "dd5ef196",
   "metadata": {},
   "outputs": [],
   "source": [
    "training_data = training_data.groupby([\"year\",\"quarter\",\"week\",\"ticker\"]).mean().reset_index()"
   ]
  },
  {
   "cell_type": "code",
   "execution_count": 10,
   "id": "23ad6193",
   "metadata": {
    "scrolled": true
   },
   "outputs": [],
   "source": [
    "# pricer_class.db.connect()\n",
    "# relevant_columns = list(set(list(training_data.columns)) - set(pricer_class.factors))\n",
    "# pricer_class.db.store(\"sim\",training_data[relevant_columns])\n",
    "# pricer_class.db.disconnect()"
   ]
  },
  {
   "cell_type": "code",
   "execution_count": 10,
   "id": "62f45ba4",
   "metadata": {},
   "outputs": [],
   "source": [
    "pricer_class.db.connect()\n",
    "pricer_class.db.drop(\"predictions\")\n",
    "relevant_columns = list(set(list(training_data.columns)) - set(pricer_class.factors))\n",
    "predictions = pricer_class.sim_processor(training_data)\n",
    "pricer_class.db.store(\"predictions\",predictions[predictions[\"year\"]==current_year][relevant_columns])\n",
    "pricer_class.db.disconnect()"
   ]
  }
 ],
 "metadata": {
  "kernelspec": {
   "display_name": "Python 3 (ipykernel)",
   "language": "python",
   "name": "python3"
  },
  "language_info": {
   "codemirror_mode": {
    "name": "ipython",
    "version": 3
   },
   "file_extension": ".py",
   "mimetype": "text/x-python",
   "name": "python",
   "nbconvert_exporter": "python",
   "pygments_lexer": "ipython3",
   "version": "3.10.5"
  }
 },
 "nbformat": 4,
 "nbformat_minor": 5
}
