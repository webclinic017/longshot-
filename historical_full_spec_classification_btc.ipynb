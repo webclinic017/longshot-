{
 "cells": [
  {
   "cell_type": "code",
   "execution_count": 1,
   "id": "5a24d11e",
   "metadata": {},
   "outputs": [],
   "source": [
    "import pandas as pd\n",
    "from database.market import Market\n",
    "from database.adatabase import ADatabase\n",
    "from processor.processor import Processor as p\n",
    "from datetime import datetime\n",
    "from tqdm import tqdm\n",
    "import numpy as np\n",
    "from modeler_strats.universal_modeler import UniversalModeler"
   ]
  },
  {
   "cell_type": "code",
   "execution_count": 2,
   "id": "1f7fc22a",
   "metadata": {},
   "outputs": [],
   "source": [
    "market = Market()\n",
    "spec = ADatabase(\"spec_btc\")\n",
    "umod = UniversalModeler()"
   ]
  },
  {
   "cell_type": "code",
   "execution_count": 3,
   "id": "983a4ac6",
   "metadata": {},
   "outputs": [],
   "source": [
    "factors = []\n",
    "factors.append(\"d1\")\n",
    "factors.append(\"d2\")\n",
    "factors.append(\"d3\")\n",
    "factors.append(\"rolling14\")"
   ]
  },
  {
   "cell_type": "code",
   "execution_count": 4,
   "id": "06e0c3f1",
   "metadata": {},
   "outputs": [],
   "source": [
    "included_columns=[\n",
    "    \"year\",\n",
    "    \"week\",\n",
    "    \"ticker\",\n",
    "    \"adjclose\",\n",
    "    \"y\"\n",
    "]"
   ]
  },
  {
   "cell_type": "code",
   "execution_count": 5,
   "id": "c552e7c0",
   "metadata": {},
   "outputs": [],
   "source": [
    "included_columns.extend(factors)"
   ]
  },
  {
   "cell_type": "code",
   "execution_count": 6,
   "id": "fb51d227",
   "metadata": {},
   "outputs": [],
   "source": [
    "training_sets = []"
   ]
  },
  {
   "cell_type": "code",
   "execution_count": 9,
   "id": "c551e792",
   "metadata": {},
   "outputs": [],
   "source": [
    "prices = pd.read_csv(\"./csv_files/prices/BTC-USD.csv\")\n",
    "prices = p.column_date_processing(prices)\n",
    "prices[\"year\"] = [x.year for x in prices[\"date\"]]\n",
    "prices[\"quarter\"] = [x.quarter for x in prices[\"date\"]]\n",
    "ticker_data = prices\n",
    "ticker_data.sort_values(\"date\",ascending=True,inplace=True)\n",
    "ticker_data[\"adjclose\"] = [float(x) for x in ticker_data[\"adjclose\"]]\n",
    "ticker_data = ticker_data.groupby([\"year\",\"week\"]).mean().reset_index()\n",
    "ticker_data[\"d1\"] = ticker_data[\"adjclose\"].pct_change(periods=1)\n",
    "ticker_data[\"d2\"] = ticker_data[\"d1\"].pct_change(periods=1)\n",
    "ticker_data[\"d3\"] = ticker_data[\"d2\"].pct_change(periods=1)\n",
    "ticker_data[\"rolling14\"] = ticker_data[\"adjclose\"].rolling(window=14).mean()\n",
    "ticker_data.dropna(inplace=True)\n",
    "ticker_data[\"ticker\"] = \"BTC\"\n",
    "ticker_data[\"future\"] = ticker_data[\"adjclose\"].shift(-1)\n",
    "ticker_data[\"delta\"] = (ticker_data[\"future\"] - ticker_data[\"adjclose\"]) / ticker_data[\"adjclose\"]\n",
    "ticker_data[\"y\"] = [x > 0 for x in ticker_data[\"delta\"]]\n",
    "ticker_data = ticker_data.replace([np.inf, -np.inf], np.nan).dropna()\n",
    "ticker_data.dropna(inplace=True)\n",
    "ticker_data = ticker_data[included_columns]\n",
    "training_sets.append(ticker_data)"
   ]
  },
  {
   "cell_type": "code",
   "execution_count": 10,
   "id": "0ea5d66b",
   "metadata": {},
   "outputs": [],
   "source": [
    "data = pd.concat(training_sets)"
   ]
  },
  {
   "cell_type": "code",
   "execution_count": 11,
   "id": "736f208f",
   "metadata": {},
   "outputs": [],
   "source": [
    "data = data.dropna()"
   ]
  },
  {
   "cell_type": "code",
   "execution_count": 12,
   "id": "cf022a2a",
   "metadata": {},
   "outputs": [
    {
     "data": {
      "text/html": [
       "<div>\n",
       "<style scoped>\n",
       "    .dataframe tbody tr th:only-of-type {\n",
       "        vertical-align: middle;\n",
       "    }\n",
       "\n",
       "    .dataframe tbody tr th {\n",
       "        vertical-align: top;\n",
       "    }\n",
       "\n",
       "    .dataframe thead th {\n",
       "        text-align: right;\n",
       "    }\n",
       "</style>\n",
       "<table border=\"1\" class=\"dataframe\">\n",
       "  <thead>\n",
       "    <tr style=\"text-align: right;\">\n",
       "      <th></th>\n",
       "      <th>year</th>\n",
       "      <th>week</th>\n",
       "      <th>ticker</th>\n",
       "      <th>adjclose</th>\n",
       "      <th>y</th>\n",
       "      <th>d1</th>\n",
       "      <th>d2</th>\n",
       "      <th>d3</th>\n",
       "      <th>rolling14</th>\n",
       "    </tr>\n",
       "  </thead>\n",
       "  <tbody>\n",
       "    <tr>\n",
       "      <th>13</th>\n",
       "      <td>2014</td>\n",
       "      <td>50</td>\n",
       "      <td>BTC</td>\n",
       "      <td>351.792712</td>\n",
       "      <td>False</td>\n",
       "      <td>-0.064348</td>\n",
       "      <td>-15.492858</td>\n",
       "      <td>19.339296</td>\n",
       "      <td>368.388483</td>\n",
       "    </tr>\n",
       "    <tr>\n",
       "      <th>14</th>\n",
       "      <td>2014</td>\n",
       "      <td>51</td>\n",
       "      <td>BTC</td>\n",
       "      <td>324.602997</td>\n",
       "      <td>False</td>\n",
       "      <td>-0.077289</td>\n",
       "      <td>0.201103</td>\n",
       "      <td>-1.012980</td>\n",
       "      <td>369.107745</td>\n",
       "    </tr>\n",
       "    <tr>\n",
       "      <th>15</th>\n",
       "      <td>2014</td>\n",
       "      <td>52</td>\n",
       "      <td>BTC</td>\n",
       "      <td>324.146572</td>\n",
       "      <td>False</td>\n",
       "      <td>-0.001406</td>\n",
       "      <td>-0.981807</td>\n",
       "      <td>-5.882119</td>\n",
       "      <td>362.485428</td>\n",
       "    </tr>\n",
       "    <tr>\n",
       "      <th>16</th>\n",
       "      <td>2015</td>\n",
       "      <td>1</td>\n",
       "      <td>BTC</td>\n",
       "      <td>293.639503</td>\n",
       "      <td>False</td>\n",
       "      <td>-0.094115</td>\n",
       "      <td>65.933264</td>\n",
       "      <td>-68.155001</td>\n",
       "      <td>354.338781</td>\n",
       "    </tr>\n",
       "    <tr>\n",
       "      <th>17</th>\n",
       "      <td>2015</td>\n",
       "      <td>2</td>\n",
       "      <td>BTC</td>\n",
       "      <td>281.316140</td>\n",
       "      <td>False</td>\n",
       "      <td>-0.041968</td>\n",
       "      <td>-0.554081</td>\n",
       "      <td>-1.008404</td>\n",
       "      <td>348.616607</td>\n",
       "    </tr>\n",
       "    <tr>\n",
       "      <th>...</th>\n",
       "      <td>...</td>\n",
       "      <td>...</td>\n",
       "      <td>...</td>\n",
       "      <td>...</td>\n",
       "      <td>...</td>\n",
       "      <td>...</td>\n",
       "      <td>...</td>\n",
       "      <td>...</td>\n",
       "      <td>...</td>\n",
       "    </tr>\n",
       "    <tr>\n",
       "      <th>441</th>\n",
       "      <td>2023</td>\n",
       "      <td>6</td>\n",
       "      <td>BTC</td>\n",
       "      <td>22299.014230</td>\n",
       "      <td>True</td>\n",
       "      <td>-0.041856</td>\n",
       "      <td>-6.179370</td>\n",
       "      <td>6.118892</td>\n",
       "      <td>19225.297426</td>\n",
       "    </tr>\n",
       "    <tr>\n",
       "      <th>442</th>\n",
       "      <td>2023</td>\n",
       "      <td>7</td>\n",
       "      <td>BTC</td>\n",
       "      <td>23642.106306</td>\n",
       "      <td>True</td>\n",
       "      <td>0.060231</td>\n",
       "      <td>-2.439014</td>\n",
       "      <td>-0.605297</td>\n",
       "      <td>19660.973556</td>\n",
       "    </tr>\n",
       "    <tr>\n",
       "      <th>443</th>\n",
       "      <td>2023</td>\n",
       "      <td>8</td>\n",
       "      <td>BTC</td>\n",
       "      <td>23905.221819</td>\n",
       "      <td>False</td>\n",
       "      <td>0.011129</td>\n",
       "      <td>-0.815226</td>\n",
       "      <td>-0.665756</td>\n",
       "      <td>20179.092198</td>\n",
       "    </tr>\n",
       "    <tr>\n",
       "      <th>444</th>\n",
       "      <td>2023</td>\n",
       "      <td>9</td>\n",
       "      <td>BTC</td>\n",
       "      <td>22991.969308</td>\n",
       "      <td>False</td>\n",
       "      <td>-0.038203</td>\n",
       "      <td>-4.432715</td>\n",
       "      <td>4.437405</td>\n",
       "      <td>20651.753520</td>\n",
       "    </tr>\n",
       "    <tr>\n",
       "      <th>445</th>\n",
       "      <td>2023</td>\n",
       "      <td>10</td>\n",
       "      <td>BTC</td>\n",
       "      <td>22141.411458</td>\n",
       "      <td>False</td>\n",
       "      <td>-0.036994</td>\n",
       "      <td>-0.031656</td>\n",
       "      <td>-0.992859</td>\n",
       "      <td>21029.962637</td>\n",
       "    </tr>\n",
       "  </tbody>\n",
       "</table>\n",
       "<p>433 rows × 9 columns</p>\n",
       "</div>"
      ],
      "text/plain": [
       "     year  week ticker      adjclose      y        d1         d2         d3  \\\n",
       "13   2014    50    BTC    351.792712  False -0.064348 -15.492858  19.339296   \n",
       "14   2014    51    BTC    324.602997  False -0.077289   0.201103  -1.012980   \n",
       "15   2014    52    BTC    324.146572  False -0.001406  -0.981807  -5.882119   \n",
       "16   2015     1    BTC    293.639503  False -0.094115  65.933264 -68.155001   \n",
       "17   2015     2    BTC    281.316140  False -0.041968  -0.554081  -1.008404   \n",
       "..    ...   ...    ...           ...    ...       ...        ...        ...   \n",
       "441  2023     6    BTC  22299.014230   True -0.041856  -6.179370   6.118892   \n",
       "442  2023     7    BTC  23642.106306   True  0.060231  -2.439014  -0.605297   \n",
       "443  2023     8    BTC  23905.221819  False  0.011129  -0.815226  -0.665756   \n",
       "444  2023     9    BTC  22991.969308  False -0.038203  -4.432715   4.437405   \n",
       "445  2023    10    BTC  22141.411458  False -0.036994  -0.031656  -0.992859   \n",
       "\n",
       "        rolling14  \n",
       "13     368.388483  \n",
       "14     369.107745  \n",
       "15     362.485428  \n",
       "16     354.338781  \n",
       "17     348.616607  \n",
       "..            ...  \n",
       "441  19225.297426  \n",
       "442  19660.973556  \n",
       "443  20179.092198  \n",
       "444  20651.753520  \n",
       "445  21029.962637  \n",
       "\n",
       "[433 rows x 9 columns]"
      ]
     },
     "execution_count": 12,
     "metadata": {},
     "output_type": "execute_result"
    }
   ],
   "source": [
    "data"
   ]
  },
  {
   "cell_type": "code",
   "execution_count": 13,
   "id": "23ad6193",
   "metadata": {
    "scrolled": true
   },
   "outputs": [
    {
     "name": "stderr",
     "output_type": "stream",
     "text": [
      "\r",
      "  0%|                                                                                                                                                              | 0/4 [00:00<?, ?it/s]"
     ]
    },
    {
     "name": "stdout",
     "output_type": "stream",
     "text": [
      "Epoch 1/10\n",
      "5/5 [==============================] - 0s 2ms/step - loss: 382.6129 - accuracy: 0.5541\n",
      "Epoch 2/10\n",
      "5/5 [==============================] - 0s 1ms/step - loss: 328.6661 - accuracy: 0.5414\n",
      "Epoch 3/10\n",
      "5/5 [==============================] - 0s 1ms/step - loss: 297.6216 - accuracy: 0.5541\n",
      "Epoch 4/10\n",
      "5/5 [==============================] - 0s 1ms/step - loss: 312.3242 - accuracy: 0.5223\n",
      "Epoch 5/10\n",
      "5/5 [==============================] - 0s 1ms/step - loss: 292.4773 - accuracy: 0.5032\n",
      "Epoch 6/10\n",
      "5/5 [==============================] - 0s 1ms/step - loss: 297.3690 - accuracy: 0.5541\n",
      "Epoch 7/10\n",
      "5/5 [==============================] - 0s 1ms/step - loss: 247.8511 - accuracy: 0.5669\n",
      "Epoch 8/10\n",
      "5/5 [==============================] - 0s 1ms/step - loss: 339.6029 - accuracy: 0.4777\n",
      "Epoch 9/10\n",
      "5/5 [==============================] - 0s 1ms/step - loss: 239.6805 - accuracy: 0.6115\n",
      "Epoch 10/10\n",
      "5/5 [==============================] - 0s 1000us/step - loss: 341.2742 - accuracy: 0.4650\n",
      "2/2 [==============================] - 0s 2ms/step\n",
      "2/2 [==============================] - 0s 1ms/step\n"
     ]
    },
    {
     "name": "stderr",
     "output_type": "stream",
     "text": [
      "\r",
      " 25%|█████████████████████████████████████▌                                                                                                                | 1/4 [00:24<01:12, 24.11s/it]"
     ]
    },
    {
     "name": "stdout",
     "output_type": "stream",
     "text": [
      "Epoch 1/10\n",
      "5/5 [==============================] - 0s 1ms/step - loss: 270.8972 - accuracy: 0.4679\n",
      "Epoch 2/10\n",
      "5/5 [==============================] - 0s 1ms/step - loss: 290.8687 - accuracy: 0.4487\n",
      "Epoch 3/10\n",
      "5/5 [==============================] - 0s 1ms/step - loss: 266.1268 - accuracy: 0.5000\n",
      "Epoch 4/10\n",
      "5/5 [==============================] - 0s 1ms/step - loss: 279.4962 - accuracy: 0.5128\n",
      "Epoch 5/10\n",
      "5/5 [==============================] - 0s 1ms/step - loss: 250.9156 - accuracy: 0.5128\n",
      "Epoch 6/10\n",
      "5/5 [==============================] - 0s 1ms/step - loss: 238.9463 - accuracy: 0.5641\n",
      "Epoch 7/10\n",
      "5/5 [==============================] - 0s 1ms/step - loss: 262.9842 - accuracy: 0.5128\n",
      "Epoch 8/10\n",
      "5/5 [==============================] - 0s 1ms/step - loss: 211.1204 - accuracy: 0.4679\n",
      "Epoch 9/10\n",
      "5/5 [==============================] - 0s 1ms/step - loss: 169.1870 - accuracy: 0.5769\n",
      "Epoch 10/10\n",
      "5/5 [==============================] - 0s 1ms/step - loss: 280.3284 - accuracy: 0.4487\n",
      "2/2 [==============================] - 0s 2ms/step\n",
      "2/2 [==============================] - 0s 2ms/step\n"
     ]
    },
    {
     "name": "stderr",
     "output_type": "stream",
     "text": [
      "\r",
      " 50%|███████████████████████████████████████████████████████████████████████████                                                                           | 2/4 [00:51<00:51, 25.79s/it]"
     ]
    },
    {
     "name": "stdout",
     "output_type": "stream",
     "text": [
      "Epoch 1/10\n",
      "5/5 [==============================] - 0s 2ms/step - loss: 492.3776 - accuracy: 0.4872\n",
      "Epoch 2/10\n",
      "5/5 [==============================] - 0s 1ms/step - loss: 502.9213 - accuracy: 0.4872\n",
      "Epoch 3/10\n",
      "5/5 [==============================] - 0s 1ms/step - loss: 532.0969 - accuracy: 0.4808\n",
      "Epoch 4/10\n",
      "5/5 [==============================] - 0s 1ms/step - loss: 482.9414 - accuracy: 0.4936\n",
      "Epoch 5/10\n",
      "5/5 [==============================] - 0s 1ms/step - loss: 479.2236 - accuracy: 0.4808\n",
      "Epoch 6/10\n",
      "5/5 [==============================] - 0s 1ms/step - loss: 427.7989 - accuracy: 0.5192\n",
      "Epoch 7/10\n",
      "5/5 [==============================] - 0s 1ms/step - loss: 477.2938 - accuracy: 0.5064\n",
      "Epoch 8/10\n",
      "5/5 [==============================] - 0s 1ms/step - loss: 493.4785 - accuracy: 0.5192\n",
      "Epoch 9/10\n",
      "5/5 [==============================] - 0s 1ms/step - loss: 439.7801 - accuracy: 0.4936\n",
      "Epoch 10/10\n",
      "5/5 [==============================] - 0s 1ms/step - loss: 421.4207 - accuracy: 0.4872\n",
      "2/2 [==============================] - 0s 2ms/step\n",
      "2/2 [==============================] - 0s 1000us/step\n"
     ]
    },
    {
     "name": "stderr",
     "output_type": "stream",
     "text": [
      "\r",
      " 75%|████████████████████████████████████████████████████████████████████████████████████████████████████████████████▌                                     | 3/4 [01:18<00:26, 26.40s/it]"
     ]
    },
    {
     "name": "stdout",
     "output_type": "stream",
     "text": [
      "Epoch 1/10\n",
      "5/5 [==============================] - 0s 2ms/step - loss: 1359.9952 - accuracy: 0.4522\n",
      "Epoch 2/10\n",
      "5/5 [==============================] - 0s 2ms/step - loss: 1227.6227 - accuracy: 0.5287\n",
      "Epoch 3/10\n",
      "5/5 [==============================] - 0s 1ms/step - loss: 1168.4987 - accuracy: 0.4522\n",
      "Epoch 4/10\n",
      "5/5 [==============================] - 0s 2ms/step - loss: 1553.5315 - accuracy: 0.4841\n",
      "Epoch 5/10\n",
      "5/5 [==============================] - 0s 1ms/step - loss: 1135.7750 - accuracy: 0.5032\n",
      "Epoch 6/10\n",
      "5/5 [==============================] - 0s 1ms/step - loss: 1493.4648 - accuracy: 0.5223\n",
      "Epoch 7/10\n",
      "5/5 [==============================] - 0s 1ms/step - loss: 1709.8225 - accuracy: 0.3949\n",
      "Epoch 8/10\n",
      "5/5 [==============================] - 0s 2ms/step - loss: 923.2621 - accuracy: 0.5478\n",
      "Epoch 9/10\n",
      "5/5 [==============================] - 0s 1ms/step - loss: 1388.9606 - accuracy: 0.4586\n",
      "Epoch 10/10\n",
      "5/5 [==============================] - 0s 1ms/step - loss: 1194.8516 - accuracy: 0.5287\n",
      "2/2 [==============================] - 0s 999us/step\n",
      "2/2 [==============================] - 0s 2ms/step\n"
     ]
    },
    {
     "name": "stderr",
     "output_type": "stream",
     "text": [
      "100%|██████████████████████████████████████████████████████████████████████████████████████████████████████████████████████████████████████████████████████| 4/4 [01:42<00:00, 25.71s/it]\n"
     ]
    }
   ],
   "source": [
    "years = 4\n",
    "for modeler in [umod]:\n",
    "    for year in tqdm(range(2019,2023)):\n",
    "        training_slice = data[(data[\"year\"]<year) & (data[\"year\"] >= year - years)].reset_index(drop=True)\n",
    "        prediction_set = data[data[\"year\"]==year].reset_index(drop=True)\n",
    "        set_name = \"sim\"\n",
    "        stuff = modeler.recommend_classification_model(training_slice,factors,multioutput=False)\n",
    "        stuff[\"training_years\"] = years"
   ]
  },
  {
   "cell_type": "code",
   "execution_count": null,
   "id": "ea17892d",
   "metadata": {},
   "outputs": [],
   "source": [
    "stuff[\"model\"] = [pickle.dumps(x) for x in stuff[\"model\"]]"
   ]
  },
  {
   "cell_type": "code",
   "execution_count": null,
   "id": "6977e792",
   "metadata": {},
   "outputs": [],
   "source": [
    "spec.connect()\n",
    "models = spec.store(\"models\",stuff)\n",
    "spec.disconnect()"
   ]
  }
 ],
 "metadata": {
  "kernelspec": {
   "display_name": "Python 3 (ipykernel)",
   "language": "python",
   "name": "python3"
  },
  "language_info": {
   "codemirror_mode": {
    "name": "ipython",
    "version": 3
   },
   "file_extension": ".py",
   "mimetype": "text/x-python",
   "name": "python",
   "nbconvert_exporter": "python",
   "pygments_lexer": "ipython3",
   "version": "3.10.5"
  }
 },
 "nbformat": 4,
 "nbformat_minor": 5
}
