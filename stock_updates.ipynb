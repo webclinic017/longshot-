{
 "cells": [
  {
   "cell_type": "code",
   "execution_count": 1,
   "id": "363c9439",
   "metadata": {},
   "outputs": [],
   "source": [
    "import pandas as pd\n",
    "import matplotlib.pyplot as plt\n",
    "from database.market import Market\n",
    "from database.adatabase import ADatabase\n",
    "from datetime import datetime, timedelta\n",
    "from tqdm import tqdm\n",
    "from extractor.tiingo_extractor import TiingoExtractor\n",
    "from extractor.forex_extractor import FOREXExtractor\n",
    "from extractor.fred_extractor import FREDExtractor\n",
    "from time import sleep\n",
    "from processor.processor import Processor as p"
   ]
  },
  {
   "cell_type": "code",
   "execution_count": 2,
   "id": "0ca38ab8",
   "metadata": {},
   "outputs": [],
   "source": [
    "market = Market()\n",
    "sp500 = ADatabase(\"sp500\")\n",
    "market.connect()\n",
    "sp5 = market.retrieve(\"sp500\")\n",
    "market.disconnect()"
   ]
  },
  {
   "cell_type": "code",
   "execution_count": 3,
   "id": "55873d93",
   "metadata": {},
   "outputs": [
    {
     "name": "stdout",
     "output_type": "stream",
     "text": [
      "2023-06-21 2023-06-21\n"
     ]
    }
   ],
   "source": [
    "market.connect()\n",
    "start = market.retrieve_max_date(\"stocks\")\n",
    "# start = datetime(2012,1,1).strftime(\"%Y-%m-%d\")\n",
    "market.disconnect()\n",
    "end = datetime.now().strftime(\"%Y-%m-%d\")\n",
    "print(start,end)"
   ]
  },
  {
   "cell_type": "code",
   "execution_count": null,
   "id": "da49ff53",
   "metadata": {
    "scrolled": true
   },
   "outputs": [],
   "source": [
    "market.connect()\n",
    "data = FOREXExtractor.extract(start,end)\n",
    "values = pd.DataFrame(data[\"rates\"].values.tolist())\n",
    "dates = data[\"rates\"].keys().tolist()\n",
    "values[\"dates\"]= dates\n",
    "market.store(\"forex\",values)\n",
    "market.disconnect()"
   ]
  },
  {
   "cell_type": "code",
   "execution_count": null,
   "id": "5e411956",
   "metadata": {
    "scrolled": true
   },
   "outputs": [],
   "source": [
    "market.connect()\n",
    "for ticker in tqdm(list(sp5[\"Symbol\"].unique())):\n",
    "    try:\n",
    "        if \".\" in ticker:\n",
    "            ticker = ticker.replace(\".\",\"-\")\n",
    "        try:\n",
    "            data = TiingoExtractor.extract(ticker,start,end)\n",
    "            data[\"ticker\"] = ticker\n",
    "            market.store(\"stocks\",data)\n",
    "        except:\n",
    "            print(ticker,\"tiingo\")\n",
    "    except Exception as e:\n",
    "        print(ticker,str(e))\n",
    "market.disconnect()"
   ]
  },
  {
   "cell_type": "code",
   "execution_count": null,
   "id": "a505f4a3",
   "metadata": {},
   "outputs": [],
   "source": [
    "market.connect()\n",
    "try:\n",
    "    data = FREDExtractor.spy(start,end)\n",
    "    market.store(\"spy\",data)\n",
    "    data = FREDExtractor.tyields(start,end)\n",
    "    market.store(\"tyields\",data)\n",
    "except Exception as e:\n",
    "    print(str(e))\n",
    "market.disconnect()"
   ]
  },
  {
   "cell_type": "code",
   "execution_count": null,
   "id": "24e6d55c",
   "metadata": {
    "scrolled": true
   },
   "outputs": [],
   "source": [
    "analysis = []\n",
    "market.connect()\n",
    "periods = [\"year\",\"quarter\",\"month\",\"week\"]\n",
    "for ticker in tqdm(sp5[\"Symbol\"].unique()):\n",
    "    report = {}\n",
    "    try:\n",
    "        test = market.retrieve_ticker_prices(\"stocks\",ticker)\n",
    "        test[\"date\"] = pd.to_datetime(test[\"date\"])\n",
    "        test[\"year\"] = [x.year for x in test[\"date\"]]\n",
    "        test = test[test[\"year\"]==test[\"year\"].max()].sort_values(\"date\")      \n",
    "        test[\"quarter\"] = [x.quarter for x in test[\"date\"]]\n",
    "        test[\"week\"] = [x.week for x in test[\"date\"]]\n",
    "        test[\"month\"] = [x.month for x in test[\"date\"]]\n",
    "        ep = test.tail(1)[\"adjClose\"].item()\n",
    "        for period in periods:\n",
    "            current = test.tail(1)[period].item()\n",
    "            window = test[(test[period]==current)].sort_values(\"date\")\n",
    "            sp = window.iloc[0][\"adjClose\"].item()\n",
    "            gain = (ep - sp) / sp\n",
    "            report[f\"{period}_gain\"] = gain\n",
    "        report[\"day_gain\"] = (ep - test.tail(2).iloc[0][\"adjClose\"].item())/test.tail(2).iloc[0][\"adjClose\"].item()\n",
    "        report[\"ticker\"] = ticker\n",
    "        analysis.append(report)\n",
    "    except Exception as e:\n",
    "        print(ticker,str(e))\n",
    "market.disconnect()"
   ]
  },
  {
   "cell_type": "code",
   "execution_count": null,
   "id": "21766d21",
   "metadata": {},
   "outputs": [],
   "source": [
    "period = \"day\"\n",
    "a = pd.DataFrame(analysis)\n",
    "a = a.merge(sp5[[\"Symbol\",\"Security\",\"GICS Sector\",\"GICS Sub-Industry\"]].rename(columns={\"Symbol\":\"ticker\"}),on=\"ticker\")\n",
    "a.sort_values(f\"{period}_gain\",ascending=False).head(20)"
   ]
  },
  {
   "cell_type": "code",
   "execution_count": null,
   "id": "aea594fd",
   "metadata": {},
   "outputs": [],
   "source": [
    "a.groupby(\"GICS Sector\").mean().sort_values(\"quarter_gain\",ascending=False).head(20)"
   ]
  },
  {
   "cell_type": "code",
   "execution_count": null,
   "id": "7f119d56",
   "metadata": {},
   "outputs": [],
   "source": []
  },
  {
   "cell_type": "code",
   "execution_count": 5,
   "id": "37cac05c",
   "metadata": {},
   "outputs": [],
   "source": [
    "## cloud db update\n",
    "start = datetime.now() - timedelta(days=800)\n",
    "market.connect()\n",
    "stocks = market.retrieve(\"stocks\")\n",
    "tyields = market.retrieve(\"tyields\")\n",
    "bench = market.retrieve(\"spy\")\n",
    "market.disconnect()\n",
    "stocks = p.column_date_processing(stocks)\n",
    "stocks = stocks[stocks[\"date\"]>=start]\n",
    "market.cloud_connect()\n",
    "market.drop(\"stocks\")\n",
    "market.drop(\"tyields\")\n",
    "market.drop(\"spy\")\n",
    "market.store(\"tyields\",tyields)\n",
    "market.store(\"spy\",bench)\n",
    "market.store(\"stocks\",stocks)\n",
    "market.create_index(\"stocks\",\"ticker\")\n",
    "market.disconnect()"
   ]
  }
 ],
 "metadata": {
  "kernelspec": {
   "display_name": "Python 3 (ipykernel)",
   "language": "python",
   "name": "python3"
  },
  "language_info": {
   "codemirror_mode": {
    "name": "ipython",
    "version": 3
   },
   "file_extension": ".py",
   "mimetype": "text/x-python",
   "name": "python",
   "nbconvert_exporter": "python",
   "pygments_lexer": "ipython3",
   "version": "3.10.5"
  }
 },
 "nbformat": 4,
 "nbformat_minor": 5
}
