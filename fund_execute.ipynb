{
 "cells": [
  {
   "cell_type": "markdown",
   "id": "567d82e9",
   "metadata": {},
   "source": [
    "## Don't Run All Make sure to convert to live later"
   ]
  },
  {
   "cell_type": "code",
   "execution_count": null,
   "id": "288d8afc",
   "metadata": {},
   "outputs": [],
   "source": [
    "from datetime import datetime\n",
    "from fund.fund import Fund\n",
    "from pricer.pricer import Pricer as pricer_list\n",
    "from ranker.ranker import Ranker as ranker_list\n",
    "from classifier.classifier import Classifier as classifier_list\n",
    "from portfolio.aportfolio import APortfolio\n",
    "from parameters.parameters import Parameters \n",
    "import pandas as pd\n",
    "from returns.products import Products\n",
    "from processor.processor import Processor as p\n",
    "from alpaca_api.alpaca_api import AlpacaApi\n",
    "from time import sleep"
   ]
  },
  {
   "cell_type": "code",
   "execution_count": null,
   "id": "7f681c74",
   "metadata": {},
   "outputs": [],
   "source": [
    "alp = AlpacaApi()"
   ]
  },
  {
   "cell_type": "code",
   "execution_count": null,
   "id": "d4fb0e35",
   "metadata": {},
   "outputs": [],
   "source": [
    "portfolio = APortfolio(pricer_list.WEEKLY_STOCK_SPECULATION\n",
    "                          ,classifier_list.WEEKLY_STOCK_SPECULATION_CLASSIFIER\n",
    "                          ,ranker_list.WEEKLY_STOCK_ROLLING_RANKER)\n",
    "portfolios = [portfolio]"
   ]
  },
  {
   "cell_type": "code",
   "execution_count": null,
   "id": "f0974d81",
   "metadata": {},
   "outputs": [],
   "source": [
    "backtest_start_date = datetime(2023,1,1)\n",
    "backtest_end_date  = datetime.now()\n",
    "current_start_date = datetime.now()\n",
    "positions = 20"
   ]
  },
  {
   "cell_type": "code",
   "execution_count": null,
   "id": "f025727e",
   "metadata": {},
   "outputs": [],
   "source": [
    "fund = Fund(portfolios,backtest_start_date,backtest_end_date,current_start_date)"
   ]
  },
  {
   "cell_type": "code",
   "execution_count": null,
   "id": "8f5af5d6",
   "metadata": {},
   "outputs": [],
   "source": [
    "fund.initialize_portfolios()"
   ]
  },
  {
   "cell_type": "code",
   "execution_count": null,
   "id": "25cc627d",
   "metadata": {},
   "outputs": [],
   "source": [
    "test_portfolio = fund.portfolios[0]\n",
    "db = test_portfolio.db\n",
    "db.connect()\n",
    "trades = db.retrieve(\"recs\")\n",
    "db.disconnect()"
   ]
  },
  {
   "cell_type": "code",
   "execution_count": null,
   "id": "cec15358",
   "metadata": {},
   "outputs": [],
   "source": [
    "# account = alp.paper_get_account()\n",
    "# cash = float(account.cash) - 10"
   ]
  },
  {
   "cell_type": "code",
   "execution_count": null,
   "id": "0a2b50e6",
   "metadata": {},
   "outputs": [],
   "source": [
    "# alp.paper_trading_client.get_all_positions()"
   ]
  },
  {
   "cell_type": "code",
   "execution_count": null,
   "id": "6d638491",
   "metadata": {},
   "outputs": [],
   "source": [
    "fail"
   ]
  },
  {
   "cell_type": "code",
   "execution_count": null,
   "id": "014d2c4c",
   "metadata": {},
   "outputs": [],
   "source": [
    "order_data = []\n",
    "for row in trades.iterrows():\n",
    "    try:\n",
    "        ticker = row[1][\"ticker\"]\n",
    "        amount = round(cash / positions) \n",
    "        print(ticker,amount)\n",
    "        order_data.append(alp.paper_market_order(ticker,amount))\n",
    "        sleep(5)\n",
    "    except Exception as e:\n",
    "        print(str(e))\n",
    "    "
   ]
  },
  {
   "cell_type": "code",
   "execution_count": null,
   "id": "a405852a",
   "metadata": {},
   "outputs": [],
   "source": [
    "order_data"
   ]
  },
  {
   "cell_type": "code",
   "execution_count": null,
   "id": "9ed7672d",
   "metadata": {},
   "outputs": [],
   "source": [
    "## close all\n",
    "# close_data = alp.paper_close_all()"
   ]
  }
 ],
 "metadata": {
  "kernelspec": {
   "display_name": "Python 3 (ipykernel)",
   "language": "python",
   "name": "python3"
  },
  "language_info": {
   "codemirror_mode": {
    "name": "ipython",
    "version": 3
   },
   "file_extension": ".py",
   "mimetype": "text/x-python",
   "name": "python",
   "nbconvert_exporter": "python",
   "pygments_lexer": "ipython3",
   "version": "3.10.5"
  }
 },
 "nbformat": 4,
 "nbformat_minor": 5
}
