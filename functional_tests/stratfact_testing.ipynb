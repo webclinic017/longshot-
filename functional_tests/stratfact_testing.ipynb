{
 "cells": [
  {
   "cell_type": "code",
   "execution_count": 1,
   "id": "afa00d87",
   "metadata": {},
   "outputs": [],
   "source": [
    "from datetime import datetime\n",
    "from strategy.stratfact import StratFact"
   ]
  },
  {
   "cell_type": "code",
   "execution_count": 2,
   "id": "18b935ec",
   "metadata": {},
   "outputs": [],
   "source": [
    "start = datetime(2020,1,1)\n",
    "end = datetime(2021,1,1)"
   ]
  },
  {
   "cell_type": "code",
   "execution_count": 5,
   "id": "a0f29b99",
   "metadata": {},
   "outputs": [],
   "source": [
    "rp = StratFact.create_strat(start,end,\"rolling_percent\",params= {\"timeframe\":\"daily\"\n",
    "                ,\"requirement\":5\n",
    "                ,\"days\":7\n",
    "                ,\"value\":True\n",
    "                ,\"currency\":\"crypto\"})\n",
    "pr = StratFact.create_strat(start,end,\"progress_report\",params={\"timeframe\":\"quarterly\"\n",
    "                    ,\"requirement\":5})"
   ]
  }
 ],
 "metadata": {
  "kernelspec": {
   "display_name": "Python 3 (ipykernel)",
   "language": "python",
   "name": "python3"
  },
  "language_info": {
   "codemirror_mode": {
    "name": "ipython",
    "version": 3
   },
   "file_extension": ".py",
   "mimetype": "text/x-python",
   "name": "python",
   "nbconvert_exporter": "python",
   "pygments_lexer": "ipython3",
   "version": "3.10.0"
  }
 },
 "nbformat": 4,
 "nbformat_minor": 5
}
