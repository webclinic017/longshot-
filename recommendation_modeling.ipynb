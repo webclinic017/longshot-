{
 "cells": [
  {
   "cell_type": "code",
   "execution_count": 10,
   "id": "f17099ef",
   "metadata": {},
   "outputs": [],
   "source": [
    "from fund.fund import Fund\n",
    "from fund.states import States"
   ]
  },
  {
   "cell_type": "code",
   "execution_count": 11,
   "id": "4490a73c",
   "metadata": {},
   "outputs": [],
   "source": [
    "fund = Fund(\"delta\",States.SIM)\n",
    "fund.pull_portfolios()\n",
    "fund.initialize_portfolios()"
   ]
  },
  {
   "cell_type": "code",
   "execution_count": 12,
   "id": "decf77a8",
   "metadata": {},
   "outputs": [],
   "source": [
    "fund.recommend_model()"
   ]
  }
 ],
 "metadata": {
  "kernelspec": {
   "display_name": "Python 3 (ipykernel)",
   "language": "python",
   "name": "python3"
  },
  "language_info": {
   "codemirror_mode": {
    "name": "ipython",
    "version": 3
   },
   "file_extension": ".py",
   "mimetype": "text/x-python",
   "name": "python",
   "nbconvert_exporter": "python",
   "pygments_lexer": "ipython3",
   "version": "3.10.5"
  }
 },
 "nbformat": 4,
 "nbformat_minor": 5
}
