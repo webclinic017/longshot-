{
 "cells": [
  {
   "cell_type": "code",
   "execution_count": 2,
   "id": "1f183b9e",
   "metadata": {},
   "outputs": [],
   "source": [
    "from time_horizons.time_horizons_factory import TimeHorizonFactory\n",
    "from time_horizons.time_horizons import TimeHorizons"
   ]
  },
  {
   "cell_type": "code",
   "execution_count": 3,
   "id": "e22330f4",
   "metadata": {},
   "outputs": [],
   "source": [
    "weekly = TimeHorizonFactory.build(TimeHorizons.WEEKLY)\n",
    "daily = TimeHorizonFactory.build(TimeHorizons.DAILY)"
   ]
  },
  {
   "cell_type": "code",
   "execution_count": 5,
   "id": "8d5a1430",
   "metadata": {},
   "outputs": [
    {
     "data": {
      "text/plain": [
       "<time_horizons.atime_horizon.ATimeHorizon at 0x1833e1cfd30>"
      ]
     },
     "execution_count": 5,
     "metadata": {},
     "output_type": "execute_result"
    }
   ],
   "source": [
    "daily"
   ]
  }
 ],
 "metadata": {
  "kernelspec": {
   "display_name": "Python 3 (ipykernel)",
   "language": "python",
   "name": "python3"
  },
  "language_info": {
   "codemirror_mode": {
    "name": "ipython",
    "version": 3
   },
   "file_extension": ".py",
   "mimetype": "text/x-python",
   "name": "python",
   "nbconvert_exporter": "python",
   "pygments_lexer": "ipython3",
   "version": "3.10.5"
  }
 },
 "nbformat": 4,
 "nbformat_minor": 5
}
