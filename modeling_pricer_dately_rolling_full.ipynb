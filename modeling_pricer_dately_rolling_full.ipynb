{
 "cells": [
  {
   "cell_type": "code",
   "execution_count": 1,
   "id": "5a24d11e",
   "metadata": {},
   "outputs": [],
   "source": [
    "import pandas as pd\n",
    "from pricer.pricer import Pricer\n",
    "from pricer.pricer_factory import PricerFactory\n",
    "from database.market import Market\n",
    "from database.sec import SEC\n",
    "from database.adatabase import ADatabase\n",
    "from processor.processor import Processor as p\n",
    "from datetime import datetime, timedelta\n",
    "from tqdm import tqdm\n",
    "import numpy as np\n",
    "from modeler_strats.universal_modeler import UniversalModeler"
   ]
  },
  {
   "cell_type": "code",
   "execution_count": 2,
   "id": "15454e26",
   "metadata": {},
   "outputs": [],
   "source": [
    "## initializing pricer_class\n",
    "pricer_class = PricerFactory.build(Pricer.DAILY_STOCK_ROLLING)"
   ]
  },
  {
   "cell_type": "code",
   "execution_count": 3,
   "id": "a77d9b13",
   "metadata": {},
   "outputs": [],
   "source": [
    "backtest_start_date = datetime(2001,1,1)\n",
    "backtest_end_date = datetime(2023,1,1)\n",
    "current_year = datetime.now().year"
   ]
  },
  {
   "cell_type": "code",
   "execution_count": 4,
   "id": "1f7fc22a",
   "metadata": {},
   "outputs": [],
   "source": [
    "## creating database objects\n",
    "market = Market()\n",
    "sec = SEC()\n",
    "modeler_strat = UniversalModeler()"
   ]
  },
  {
   "cell_type": "code",
   "execution_count": 5,
   "id": "b0c57b4d",
   "metadata": {},
   "outputs": [],
   "source": [
    "market.connect()\n",
    "sp500 = market.retrieve(\"sp500\")\n",
    "market.disconnect()\n",
    "sp500 = sp500.rename(columns={\"Symbol\":\"ticker\"})"
   ]
  },
  {
   "cell_type": "code",
   "execution_count": 8,
   "id": "c551e792",
   "metadata": {
    "scrolled": true
   },
   "outputs": [
    {
     "name": "stderr",
     "output_type": "stream",
     "text": [
      "100%|███████████████████████████████████████████████████████████████████████████████████████████████████████████████████████████████████████████████████████████████████| 490/490 [01:07<00:00,  7.24it/s]\n"
     ]
    }
   ],
   "source": [
    "market.connect()\n",
    "training_sets = []\n",
    "for ticker in tqdm(sp500[\"ticker\"].unique()):\n",
    "    try:\n",
    "        prices = market.retrieve_ticker_prices(pricer_class.asset_class.value,ticker)\n",
    "        prices = p.column_date_processing(prices)\n",
    "        ticker_data = pricer_class.training_set(ticker,prices,False)\n",
    "        training_sets.append(ticker_data)\n",
    "    except Exception as e:\n",
    "        print(str(e))\n",
    "        continue\n",
    "market.disconnect()"
   ]
  },
  {
   "cell_type": "code",
   "execution_count": 9,
   "id": "0ea5d66b",
   "metadata": {},
   "outputs": [],
   "source": [
    "data = pd.concat(training_sets)"
   ]
  },
  {
   "cell_type": "code",
   "execution_count": 11,
   "id": "736f208f",
   "metadata": {},
   "outputs": [],
   "source": [
    "training_data = data.dropna().copy().sort_values([\"year\",\"date\"])"
   ]
  },
  {
   "cell_type": "code",
   "execution_count": 12,
   "id": "dd5ef196",
   "metadata": {},
   "outputs": [],
   "source": [
    "training_data = training_data.groupby([\"year\",\"quarter\",\"date\",\"ticker\"]).mean().reset_index()"
   ]
  },
  {
   "cell_type": "code",
   "execution_count": 13,
   "id": "23c2ed14",
   "metadata": {},
   "outputs": [
    {
     "data": {
      "text/html": [
       "<div>\n",
       "<style scoped>\n",
       "    .dataframe tbody tr th:only-of-type {\n",
       "        vertical-align: middle;\n",
       "    }\n",
       "\n",
       "    .dataframe tbody tr th {\n",
       "        vertical-align: top;\n",
       "    }\n",
       "\n",
       "    .dataframe thead th {\n",
       "        text-align: right;\n",
       "    }\n",
       "</style>\n",
       "<table border=\"1\" class=\"dataframe\">\n",
       "  <thead>\n",
       "    <tr style=\"text-align: right;\">\n",
       "      <th></th>\n",
       "      <th>year</th>\n",
       "      <th>quarter</th>\n",
       "      <th>date</th>\n",
       "      <th>ticker</th>\n",
       "      <th>price_prediction</th>\n",
       "    </tr>\n",
       "  </thead>\n",
       "  <tbody>\n",
       "    <tr>\n",
       "      <th>0</th>\n",
       "      <td>2000</td>\n",
       "      <td>2</td>\n",
       "      <td>2000-05-24</td>\n",
       "      <td>A</td>\n",
       "      <td>59.717194</td>\n",
       "    </tr>\n",
       "    <tr>\n",
       "      <th>1</th>\n",
       "      <td>2000</td>\n",
       "      <td>2</td>\n",
       "      <td>2000-05-24</td>\n",
       "      <td>AAPL</td>\n",
       "      <td>0.871308</td>\n",
       "    </tr>\n",
       "    <tr>\n",
       "      <th>2</th>\n",
       "      <td>2000</td>\n",
       "      <td>2</td>\n",
       "      <td>2000-05-24</td>\n",
       "      <td>ABC</td>\n",
       "      <td>3.326919</td>\n",
       "    </tr>\n",
       "    <tr>\n",
       "      <th>3</th>\n",
       "      <td>2000</td>\n",
       "      <td>2</td>\n",
       "      <td>2000-05-24</td>\n",
       "      <td>ABMD</td>\n",
       "      <td>24.289600</td>\n",
       "    </tr>\n",
       "    <tr>\n",
       "      <th>4</th>\n",
       "      <td>2000</td>\n",
       "      <td>2</td>\n",
       "      <td>2000-05-24</td>\n",
       "      <td>ABT</td>\n",
       "      <td>8.842085</td>\n",
       "    </tr>\n",
       "    <tr>\n",
       "      <th>...</th>\n",
       "      <td>...</td>\n",
       "      <td>...</td>\n",
       "      <td>...</td>\n",
       "      <td>...</td>\n",
       "      <td>...</td>\n",
       "    </tr>\n",
       "    <tr>\n",
       "      <th>2537671</th>\n",
       "      <td>2023</td>\n",
       "      <td>3</td>\n",
       "      <td>2023-07-21</td>\n",
       "      <td>YUM</td>\n",
       "      <td>133.652339</td>\n",
       "    </tr>\n",
       "    <tr>\n",
       "      <th>2537672</th>\n",
       "      <td>2023</td>\n",
       "      <td>3</td>\n",
       "      <td>2023-07-21</td>\n",
       "      <td>ZBH</td>\n",
       "      <td>134.108355</td>\n",
       "    </tr>\n",
       "    <tr>\n",
       "      <th>2537673</th>\n",
       "      <td>2023</td>\n",
       "      <td>3</td>\n",
       "      <td>2023-07-21</td>\n",
       "      <td>ZBRA</td>\n",
       "      <td>287.979500</td>\n",
       "    </tr>\n",
       "    <tr>\n",
       "      <th>2537674</th>\n",
       "      <td>2023</td>\n",
       "      <td>3</td>\n",
       "      <td>2023-07-21</td>\n",
       "      <td>ZION</td>\n",
       "      <td>30.331782</td>\n",
       "    </tr>\n",
       "    <tr>\n",
       "      <th>2537675</th>\n",
       "      <td>2023</td>\n",
       "      <td>3</td>\n",
       "      <td>2023-07-21</td>\n",
       "      <td>ZTS</td>\n",
       "      <td>170.773257</td>\n",
       "    </tr>\n",
       "  </tbody>\n",
       "</table>\n",
       "<p>2537676 rows × 5 columns</p>\n",
       "</div>"
      ],
      "text/plain": [
       "         year  quarter       date ticker  price_prediction\n",
       "0        2000        2 2000-05-24      A         59.717194\n",
       "1        2000        2 2000-05-24   AAPL          0.871308\n",
       "2        2000        2 2000-05-24    ABC          3.326919\n",
       "3        2000        2 2000-05-24   ABMD         24.289600\n",
       "4        2000        2 2000-05-24    ABT          8.842085\n",
       "...       ...      ...        ...    ...               ...\n",
       "2537671  2023        3 2023-07-21    YUM        133.652339\n",
       "2537672  2023        3 2023-07-21    ZBH        134.108355\n",
       "2537673  2023        3 2023-07-21   ZBRA        287.979500\n",
       "2537674  2023        3 2023-07-21   ZION         30.331782\n",
       "2537675  2023        3 2023-07-21    ZTS        170.773257\n",
       "\n",
       "[2537676 rows x 5 columns]"
      ]
     },
     "execution_count": 13,
     "metadata": {},
     "output_type": "execute_result"
    }
   ],
   "source": [
    "training_data"
   ]
  },
  {
   "cell_type": "code",
   "execution_count": 14,
   "id": "23ad6193",
   "metadata": {
    "scrolled": true
   },
   "outputs": [],
   "source": [
    "pricer_class.db.connect()\n",
    "relevant_columns = list(set(list(training_data.columns)) - set(pricer_class.factors))\n",
    "pricer_class.db.store(\"sim\",training_data[relevant_columns])\n",
    "pricer_class.db.disconnect()"
   ]
  },
  {
   "cell_type": "code",
   "execution_count": null,
   "id": "c2cd6067",
   "metadata": {},
   "outputs": [],
   "source": [
    "pricer_class.db.connect()\n",
    "pricer_class.db.drop(\"predictions\")\n",
    "relevant_columns = list(set(list(training_data.columns)) - set(pricer_class.factors))\n",
    "predictions = pricer_class.sim_processor(training_data)\n",
    "pricer_class.db.store(\"predictions\",predictions[predictions[\"year\"]==current_year][relevant_columns])\n",
    "pricer_class.db.disconnect()"
   ]
  }
 ],
 "metadata": {
  "kernelspec": {
   "display_name": "Python 3 (ipykernel)",
   "language": "python",
   "name": "python3"
  },
  "language_info": {
   "codemirror_mode": {
    "name": "ipython",
    "version": 3
   },
   "file_extension": ".py",
   "mimetype": "text/x-python",
   "name": "python",
   "nbconvert_exporter": "python",
   "pygments_lexer": "ipython3",
   "version": "3.10.5"
  }
 },
 "nbformat": 4,
 "nbformat_minor": 5
}
