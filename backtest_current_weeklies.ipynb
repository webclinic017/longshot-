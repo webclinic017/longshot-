{
 "cells": [
  {
   "cell_type": "code",
   "execution_count": 1,
   "id": "aa80f443",
   "metadata": {
    "scrolled": true
   },
   "outputs": [],
   "source": [
    "## database imports\n",
    "from database.market import Market\n",
    "from database.adatabase import ADatabase\n",
    "\n",
    "## data processor import\n",
    "from processor.processor import Processor as p\n",
    "\n",
    "## risk and return class imports\n",
    "from returns.products import Products as returns_products_class\n",
    "from risk.weekly_risk import WeeklyRisk as risk_class\n",
    "from returns.weekly_returns import WeeklyReturns as returns_class\n",
    "\n",
    "## backtester import\n",
    "from backtester.weekly_backtester import WeeklyBacktester as b\n",
    "\n",
    "## additional imports\n",
    "from datetime import datetime\n",
    "import pandas as pd\n",
    "from tqdm import tqdm"
   ]
  },
  {
   "cell_type": "code",
   "execution_count": 2,
   "id": "b38d4176",
   "metadata": {
    "scrolled": true
   },
   "outputs": [],
   "source": [
    "start_date = datetime(2023,1,1)\n",
    "end_date = datetime.now()"
   ]
  },
  {
   "cell_type": "code",
   "execution_count": 3,
   "id": "e5adbebb",
   "metadata": {},
   "outputs": [],
   "source": [
    "market = Market()\n",
    "speculation_db = ADatabase(\"spec\")\n",
    "classification_db = ADatabase(\"spec_classification\")\n",
    "class_spec = ADatabase(\"class_spec\")\n",
    "weeklies_db = ADatabase(\"current_weekly\")"
   ]
  },
  {
   "cell_type": "code",
   "execution_count": 4,
   "id": "235a8676",
   "metadata": {
    "scrolled": true
   },
   "outputs": [],
   "source": [
    "market.connect()\n",
    "sp500 = market.retrieve(\"sp500\")\n",
    "market.disconnect()\n",
    "sp500 = sp500.rename(columns={\"Symbol\":\"ticker\"})"
   ]
  },
  {
   "cell_type": "code",
   "execution_count": 5,
   "id": "41568a2d",
   "metadata": {},
   "outputs": [],
   "source": [
    "tyields = returns_products_class.tyields()\n",
    "bench_returns = returns_products_class.spy_bench()"
   ]
  },
  {
   "cell_type": "code",
   "execution_count": 6,
   "id": "17def7c2",
   "metadata": {},
   "outputs": [
    {
     "name": "stderr",
     "output_type": "stream",
     "text": [
      "100%|████████████████████████████████████████████████████████████████████████████████████████████████████████████████████████████████████████████████████████| 490/490 [00:49<00:00,  9.89it/s]\n"
     ]
    }
   ],
   "source": [
    "new_prices = []\n",
    "market.connect()\n",
    "for ticker in tqdm(sp500[\"ticker\"].unique()):\n",
    "    try:\n",
    "        ticker_sim = market.retrieve_ticker_prices(\"prices\",ticker)\n",
    "        ticker_sim = returns_class.returns(ticker_sim)\n",
    "        completed = risk_class.risk(ticker_sim,bench_returns)\n",
    "        new_prices.append(completed)\n",
    "    except Exception as e:\n",
    "        print(str(e))\n",
    "        continue\n",
    "market.disconnect()\n",
    "price_returns = pd.concat(new_prices)"
   ]
  },
  {
   "cell_type": "code",
   "execution_count": 7,
   "id": "5b375c05",
   "metadata": {},
   "outputs": [],
   "source": [
    "speculation_db.connect()\n",
    "simulation = speculation_db.retrieve(\"predictions\")\n",
    "speculation_db.disconnect()"
   ]
  },
  {
   "cell_type": "code",
   "execution_count": 8,
   "id": "fa606062",
   "metadata": {},
   "outputs": [],
   "source": [
    "classification_db.connect()\n",
    "classification_simulation = classification_db.retrieve(\"predictions\")\n",
    "classification_db.disconnect()"
   ]
  },
  {
   "cell_type": "code",
   "execution_count": 9,
   "id": "a61c6b3e",
   "metadata": {},
   "outputs": [],
   "source": [
    "simulation = price_returns.merge(simulation.drop(\"adjclose\",axis=1)[[\"year\",\"week\",\"ticker\",\"prediction\"]],on=[\"year\",\"week\",\"ticker\"],how=\"left\") \\\n",
    "                    .merge(classification_simulation.drop([\"adjclose\"],axis=1)[[\"year\",\"week\",\"ticker\",\"classification_prediction\"]],on=[\"year\",\"week\",\"ticker\"],how=\"left\") \\\n",
    "                    .merge(tyields[[\"date\",\"weekly_yield\"]],on=\"date\",how=\"left\")"
   ]
  },
  {
   "cell_type": "code",
   "execution_count": 10,
   "id": "c040f7fd",
   "metadata": {},
   "outputs": [],
   "source": [
    "sim = simulation.dropna()"
   ]
  },
  {
   "cell_type": "code",
   "execution_count": 11,
   "id": "50e5eda7",
   "metadata": {},
   "outputs": [],
   "source": [
    "sim.sort_values([\"date\",\"ticker\"],inplace=True)\n",
    "sim = sim.groupby([\"date\",\"ticker\",\"classification_prediction\"]).mean().reset_index()"
   ]
  },
  {
   "cell_type": "code",
   "execution_count": 12,
   "id": "7710948a",
   "metadata": {
    "scrolled": true
   },
   "outputs": [],
   "source": [
    "trades = []\n",
    "values = [True,False]\n",
    "classifications = [True,False]\n",
    "ceilings = [True,False]\n",
    "floors = [True,False]\n",
    "parameters = []\n",
    "positions = 10\n",
    "strats = [\"spec\",\"rolling\",\"window\"]\n",
    "for strat in strats:\n",
    "    for value in values:\n",
    "        for classification in classifications:\n",
    "            for ceiling in ceilings:\n",
    "                for floor in floors:\n",
    "                    parameter = {\n",
    "                                \"value\":value\n",
    "                                 ,\"classification\":classification\n",
    "                                 ,\"ceiling\":ceiling\n",
    "                                 ,\"floor\":floor\n",
    "                                ,\"strat\":strat\n",
    "                                }\n",
    "                    parameters.append(parameter)"
   ]
  },
  {
   "cell_type": "code",
   "execution_count": 14,
   "id": "40c956bc",
   "metadata": {},
   "outputs": [
    {
     "name": "stderr",
     "output_type": "stream",
     "text": [
      "100%|██████████████████████████████████████████████████████████████████████████████████████████████████████████████████████████████████████████████████████████| 48/48 [01:13<00:00,  1.53s/it]\n"
     ]
    }
   ],
   "source": [
    "weeklies_db.connect()\n",
    "weeklies_db.drop(\"trades\")\n",
    "for parameter in tqdm(parameters):\n",
    "    backtest_data = sim.copy().dropna()\n",
    "    strat = parameter[\"strat\"]\n",
    "    backtest_data = returns_class.returns_backtest(strat,backtest_data)\n",
    "    b.backtest(backtest_data.copy(),positions,parameter,start_date,end_date,weeklies_db)\n",
    "weeklies_db.disconnect()"
   ]
  }
 ],
 "metadata": {
  "kernelspec": {
   "display_name": "Python 3 (ipykernel)",
   "language": "python",
   "name": "python3"
  },
  "language_info": {
   "codemirror_mode": {
    "name": "ipython",
    "version": 3
   },
   "file_extension": ".py",
   "mimetype": "text/x-python",
   "name": "python",
   "nbconvert_exporter": "python",
   "pygments_lexer": "ipython3",
   "version": "3.10.5"
  }
 },
 "nbformat": 4,
 "nbformat_minor": 5
}
