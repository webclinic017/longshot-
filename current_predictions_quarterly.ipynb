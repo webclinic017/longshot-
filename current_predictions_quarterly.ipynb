{
 "cells": [
  {
   "cell_type": "code",
   "execution_count": 1,
   "id": "aa80f443",
   "metadata": {
    "scrolled": true
   },
   "outputs": [],
   "source": [
    "## database imports\n",
    "from database.market import Market\n",
    "from database.adatabase import ADatabase\n",
    "from database.sec import SEC\n",
    "\n",
    "## data processor import\n",
    "from processor.processor import Processor as p\n",
    "\n",
    "## modeler import\n",
    "from modeler_strats.universal_modeler import UniversalModeler\n",
    "\n",
    "## strategy impors\n",
    "from strategy.financial import Financial as financials\n",
    "from strategy.earnings import Earnings as earnings\n",
    "from strategy.dividends import Dividends as dividends\n",
    "\n",
    "## miscellaneous\n",
    "import numpy as np\n",
    "import matplotlib.pyplot as plt\n",
    "import pickle\n",
    "import math\n",
    "from statistics import variance\n",
    "from datetime import datetime, timedelta\n",
    "import pytz\n",
    "import pandas as pd\n",
    "from tqdm import tqdm"
   ]
  },
  {
   "cell_type": "code",
   "execution_count": 2,
   "id": "b38d4176",
   "metadata": {
    "scrolled": true
   },
   "outputs": [],
   "source": [
    "start_date = datetime(2023,1,1)\n",
    "end_date = datetime.now()"
   ]
  },
  {
   "cell_type": "code",
   "execution_count": 3,
   "id": "e5adbebb",
   "metadata": {},
   "outputs": [],
   "source": [
    "market = Market()\n",
    "sec = SEC()\n",
    "umod = UniversalModeler()"
   ]
  },
  {
   "cell_type": "code",
   "execution_count": 4,
   "id": "235a8676",
   "metadata": {
    "scrolled": true
   },
   "outputs": [],
   "source": [
    "market.connect()\n",
    "sp500 = market.retrieve(\"sp500\")\n",
    "sp500 = sp500.rename(columns={\"Symbol\":\"ticker\"})\n",
    "market.disconnect()"
   ]
  },
  {
   "cell_type": "code",
   "execution_count": 5,
   "id": "ff3f2251",
   "metadata": {},
   "outputs": [],
   "source": [
    "financial_factors = financials.factors()"
   ]
  },
  {
   "cell_type": "code",
   "execution_count": 6,
   "id": "08da2943",
   "metadata": {},
   "outputs": [],
   "source": [
    "dividend_factors = dividends.factors()"
   ]
  },
  {
   "cell_type": "code",
   "execution_count": 7,
   "id": "c362d307",
   "metadata": {},
   "outputs": [],
   "source": [
    "included_columns=[\n",
    "    \"year\",\n",
    "    \"quarter\",\n",
    "    \"week\",\n",
    "    \"ticker\",\n",
    "    \"adjclose\"\n",
    "]\n",
    "included_columns.extend(financial_factors)\n",
    "included_columns.extend(dividend_factors)\n",
    "included_columns = list(set(included_columns))"
   ]
  },
  {
   "cell_type": "code",
   "execution_count": 12,
   "id": "c008211b",
   "metadata": {},
   "outputs": [],
   "source": [
    "strategies = {\"financial\":financial_factors,\"earnings\":financial_factors,\"dividends\":dividend_factors}"
   ]
  },
  {
   "cell_type": "code",
   "execution_count": 13,
   "id": "f388e4bb",
   "metadata": {
    "scrolled": true
   },
   "outputs": [
    {
     "name": "stderr",
     "output_type": "stream",
     "text": [
      "  1%|█▉                                                                                                                                                        | 6/490 [00:01<01:57,  4.11it/s]"
     ]
    },
    {
     "name": "stdout",
     "output_type": "stream",
     "text": [
      "\"['entitycommonstocksharesoutstanding'] not in index\"\n"
     ]
    },
    {
     "name": "stderr",
     "output_type": "stream",
     "text": [
      "  2%|██▌                                                                                                                                                       | 8/490 [00:02<02:20,  3.42it/s]"
     ]
    },
    {
     "name": "stdout",
     "output_type": "stream",
     "text": [
      "\"['stockholdersequity'] not in index\"\n"
     ]
    },
    {
     "name": "stderr",
     "output_type": "stream",
     "text": [
      "  4%|█████▉                                                                                                                                                   | 19/490 [00:06<02:40,  2.93it/s]"
     ]
    },
    {
     "name": "stdout",
     "output_type": "stream",
     "text": [
      "\"['incometaxexpensebenefit'] not in index\"\n"
     ]
    },
    {
     "name": "stderr",
     "output_type": "stream",
     "text": [
      "  5%|███████▏                                                                                                                                                 | 23/490 [00:07<02:36,  2.99it/s]"
     ]
    },
    {
     "name": "stdout",
     "output_type": "stream",
     "text": [
      "\"['cashandcashequivalentsatcarryingvalue'] not in index\"\n"
     ]
    },
    {
     "name": "stderr",
     "output_type": "stream",
     "text": [
      "\r",
      "  5%|███████▍                                                                                                                                                 | 24/490 [00:07<02:26,  3.18it/s]"
     ]
    },
    {
     "name": "stdout",
     "output_type": "stream",
     "text": [
      "\"['weightedaveragenumberofsharesoutstandingbasic', 'weightedaveragenumberofdilutedsharesoutstanding'] not in index\"\n"
     ]
    },
    {
     "name": "stderr",
     "output_type": "stream",
     "text": [
      "  7%|█████████▉                                                                                                                                               | 32/490 [00:10<03:15,  2.35it/s]"
     ]
    },
    {
     "name": "stdout",
     "output_type": "stream",
     "text": [
      "\"['cashandcashequivalentsatcarryingvalue'] not in index\"\n"
     ]
    },
    {
     "name": "stderr",
     "output_type": "stream",
     "text": [
      "\r",
      "  7%|██████████▎                                                                                                                                              | 33/490 [00:11<03:57,  1.92it/s]"
     ]
    },
    {
     "name": "stdout",
     "output_type": "stream",
     "text": [
      "\"['cashandcashequivalentsatcarryingvalue'] not in index\"\n"
     ]
    },
    {
     "name": "stderr",
     "output_type": "stream",
     "text": [
      " 10%|███████████████▎                                                                                                                                         | 49/490 [00:16<02:16,  3.24it/s]"
     ]
    },
    {
     "name": "stdout",
     "output_type": "stream",
     "text": [
      "\"['weightedaveragenumberofdilutedsharesoutstanding'] not in index\"\n"
     ]
    },
    {
     "name": "stderr",
     "output_type": "stream",
     "text": [
      " 10%|███████████████▉                                                                                                                                         | 51/490 [00:17<02:42,  2.71it/s]"
     ]
    },
    {
     "name": "stdout",
     "output_type": "stream",
     "text": [
      "\"['stockholdersequity'] not in index\"\n"
     ]
    },
    {
     "name": "stderr",
     "output_type": "stream",
     "text": [
      " 11%|█████████████████▏                                                                                                                                       | 55/490 [00:18<02:17,  3.17it/s]"
     ]
    },
    {
     "name": "stdout",
     "output_type": "stream",
     "text": [
      "\"['propertyplantandequipmentnet'] not in index\"\n"
     ]
    },
    {
     "name": "stderr",
     "output_type": "stream",
     "text": [
      " 12%|█████████████████▊                                                                                                                                       | 57/490 [00:19<02:06,  3.43it/s]"
     ]
    },
    {
     "name": "stdout",
     "output_type": "stream",
     "text": [
      "\"['weightedaveragenumberofsharesoutstandingbasic'] not in index\"\n"
     ]
    },
    {
     "name": "stderr",
     "output_type": "stream",
     "text": [
      " 13%|████████████████████▎                                                                                                                                    | 65/490 [00:22<02:21,  3.00it/s]"
     ]
    },
    {
     "name": "stdout",
     "output_type": "stream",
     "text": [
      "\"['entitycommonstocksharesoutstanding'] not in index\"\n"
     ]
    },
    {
     "name": "stderr",
     "output_type": "stream",
     "text": [
      " 15%|██████████████████████▊                                                                                                                                  | 73/490 [00:25<02:42,  2.57it/s]"
     ]
    },
    {
     "name": "stdout",
     "output_type": "stream",
     "text": [
      "\"['propertyplantandequipmentnet', 'incometaxexpensebenefit'] not in index\"\n"
     ]
    },
    {
     "name": "stderr",
     "output_type": "stream",
     "text": [
      "\r",
      " 15%|███████████████████████                                                                                                                                  | 74/490 [00:26<02:52,  2.41it/s]"
     ]
    },
    {
     "name": "stdout",
     "output_type": "stream",
     "text": [
      "\"['stockholdersequity'] not in index\"\n"
     ]
    },
    {
     "name": "stderr",
     "output_type": "stream",
     "text": [
      " 17%|█████████████████████████▌                                                                                                                               | 82/490 [00:28<02:08,  3.17it/s]"
     ]
    },
    {
     "name": "stdout",
     "output_type": "stream",
     "text": [
      "\"['retainedearningsaccumulateddeficit', 'propertyplantandequipmentnet', 'incometaxexpensebenefit'] not in index\"\n"
     ]
    },
    {
     "name": "stderr",
     "output_type": "stream",
     "text": [
      " 17%|██████████████████████████▏                                                                                                                              | 84/490 [00:30<03:29,  1.94it/s]"
     ]
    },
    {
     "name": "stdout",
     "output_type": "stream",
     "text": [
      "\"['cashandcashequivalentsatcarryingvalue'] not in index\"\n"
     ]
    },
    {
     "name": "stderr",
     "output_type": "stream",
     "text": [
      " 18%|██████████████████████████▊                                                                                                                              | 86/490 [00:30<02:35,  2.59it/s]"
     ]
    },
    {
     "name": "stdout",
     "output_type": "stream",
     "text": [
      "\"['stockholdersequity'] not in index\"\n"
     ]
    },
    {
     "name": "stderr",
     "output_type": "stream",
     "text": [
      " 18%|████████████████████████████                                                                                                                             | 90/490 [00:31<02:09,  3.10it/s]"
     ]
    },
    {
     "name": "stdout",
     "output_type": "stream",
     "text": [
      "\"['stockholdersequity'] not in index\"\n"
     ]
    },
    {
     "name": "stderr",
     "output_type": "stream",
     "text": [
      " 22%|████████████████████████████████▉                                                                                                                       | 106/490 [00:37<02:02,  3.13it/s]"
     ]
    },
    {
     "name": "stdout",
     "output_type": "stream",
     "text": [
      "\"['weightedaveragenumberofsharesoutstandingbasic'] not in index\"\n"
     ]
    },
    {
     "name": "stderr",
     "output_type": "stream",
     "text": [
      " 22%|██████████████████████████████████                                                                                                                      | 110/490 [00:38<02:47,  2.26it/s]"
     ]
    },
    {
     "name": "stdout",
     "output_type": "stream",
     "text": [
      "\"['propertyplantandequipmentnet'] not in index\"\n"
     ]
    },
    {
     "name": "stderr",
     "output_type": "stream",
     "text": [
      " 23%|███████████████████████████████████                                                                                                                     | 113/490 [00:39<02:20,  2.69it/s]"
     ]
    },
    {
     "name": "stdout",
     "output_type": "stream",
     "text": [
      "\"['entitycommonstocksharesoutstanding'] not in index\"\n"
     ]
    },
    {
     "name": "stderr",
     "output_type": "stream",
     "text": [
      " 24%|████████████████████████████████████▌                                                                                                                   | 118/490 [00:41<02:06,  2.94it/s]"
     ]
    },
    {
     "name": "stdout",
     "output_type": "stream",
     "text": [
      "\"['entitycommonstocksharesoutstanding'] not in index\"\n"
     ]
    },
    {
     "name": "stderr",
     "output_type": "stream",
     "text": [
      "\r",
      " 24%|████████████████████████████████████▉                                                                                                                   | 119/490 [00:41<02:21,  2.62it/s]"
     ]
    },
    {
     "name": "stdout",
     "output_type": "stream",
     "text": [
      "\"['stockholdersequity'] not in index\"\n"
     ]
    },
    {
     "name": "stderr",
     "output_type": "stream",
     "text": [
      " 25%|██████████████████████████████████████▍                                                                                                                 | 124/490 [00:43<02:04,  2.94it/s]"
     ]
    },
    {
     "name": "stdout",
     "output_type": "stream",
     "text": [
      "\"['entitycommonstocksharesoutstanding', 'weightedaveragenumberofsharesoutstandingbasic', 'earningspersharebasic', 'earningspersharediluted', 'weightedaveragenumberofdilutedsharesoutstanding'] not in index\"\n"
     ]
    },
    {
     "name": "stderr",
     "output_type": "stream",
     "text": [
      " 27%|████████████████████████████████████████▉                                                                                                               | 132/490 [00:46<01:33,  3.84it/s]"
     ]
    },
    {
     "name": "stdout",
     "output_type": "stream",
     "text": [
      "\"['stockholdersequity'] not in index\"\n"
     ]
    },
    {
     "name": "stderr",
     "output_type": "stream",
     "text": [
      " 30%|████████████████████████████████████████████▉                                                                                                           | 145/490 [00:50<02:03,  2.79it/s]"
     ]
    },
    {
     "name": "stdout",
     "output_type": "stream",
     "text": [
      "\"['propertyplantandequipmentnet'] not in index\"\n"
     ]
    },
    {
     "name": "stderr",
     "output_type": "stream",
     "text": [
      " 30%|█████████████████████████████████████████████▌                                                                                                          | 147/490 [00:51<01:58,  2.90it/s]"
     ]
    },
    {
     "name": "stdout",
     "output_type": "stream",
     "text": [
      "\"['entitycommonstocksharesoutstanding'] not in index\"\n"
     ]
    },
    {
     "name": "stderr",
     "output_type": "stream",
     "text": [
      " 35%|█████████████████████████████████████████████████████                                                                                                   | 171/490 [01:00<02:05,  2.55it/s]"
     ]
    },
    {
     "name": "stdout",
     "output_type": "stream",
     "text": [
      "\"['retainedearningsaccumulateddeficit'] not in index\"\n"
     ]
    },
    {
     "name": "stderr",
     "output_type": "stream",
     "text": [
      " 36%|█████████████████████████████████████████████████████▉                                                                                                  | 174/490 [01:01<02:18,  2.28it/s]"
     ]
    },
    {
     "name": "stdout",
     "output_type": "stream",
     "text": [
      "\"['propertyplantandequipmentnet'] not in index\"\n"
     ]
    },
    {
     "name": "stderr",
     "output_type": "stream",
     "text": [
      "\r",
      " 36%|██████████████████████████████████████████████████████▎                                                                                                 | 175/490 [01:02<02:10,  2.41it/s]"
     ]
    },
    {
     "name": "stdout",
     "output_type": "stream",
     "text": [
      "\"['retainedearningsaccumulateddeficit', 'propertyplantandequipmentnet'] not in index\"\n"
     ]
    },
    {
     "name": "stderr",
     "output_type": "stream",
     "text": [
      " 36%|██████████████████████████████████████████████████████▉                                                                                                 | 177/490 [01:02<01:43,  3.04it/s]"
     ]
    },
    {
     "name": "stdout",
     "output_type": "stream",
     "text": [
      "\"['entitycommonstocksharesoutstanding'] not in index\"\n"
     ]
    },
    {
     "name": "stderr",
     "output_type": "stream",
     "text": [
      " 37%|███████████████████████████████████████████████████████▌                                                                                                | 179/490 [01:03<01:31,  3.39it/s]"
     ]
    },
    {
     "name": "stdout",
     "output_type": "stream",
     "text": [
      "\"['propertyplantandequipmentnet'] not in index\"\n"
     ]
    },
    {
     "name": "stderr",
     "output_type": "stream",
     "text": [
      "\r",
      " 37%|███████████████████████████████████████████████████████▊                                                                                                | 180/490 [01:03<01:45,  2.94it/s]"
     ]
    },
    {
     "name": "stdout",
     "output_type": "stream",
     "text": [
      "\"['propertyplantandequipmentnet'] not in index\"\n"
     ]
    },
    {
     "name": "stderr",
     "output_type": "stream",
     "text": [
      " 37%|████████████████████████████████████████████████████████▊                                                                                               | 183/490 [01:05<02:25,  2.12it/s]"
     ]
    },
    {
     "name": "stdout",
     "output_type": "stream",
     "text": [
      "\"['entitycommonstocksharesoutstanding'] not in index\"\n"
     ]
    },
    {
     "name": "stderr",
     "output_type": "stream",
     "text": [
      " 38%|█████████████████████████████████████████████████████████▋                                                                                              | 186/490 [01:06<01:44,  2.90it/s]"
     ]
    },
    {
     "name": "stdout",
     "output_type": "stream",
     "text": [
      "\"['stockholdersequity'] not in index\"\n"
     ]
    },
    {
     "name": "stderr",
     "output_type": "stream",
     "text": [
      " 39%|██████████████████████████████████████████████████████████▋                                                                                             | 189/490 [01:07<01:22,  3.65it/s]"
     ]
    },
    {
     "name": "stdout",
     "output_type": "stream",
     "text": [
      "\"['retainedearningsaccumulateddeficit', 'propertyplantandequipmentnet', 'incometaxexpensebenefit'] not in index\"\n"
     ]
    },
    {
     "name": "stderr",
     "output_type": "stream",
     "text": [
      " 39%|███████████████████████████████████████████████████████████▏                                                                                            | 191/490 [01:08<02:09,  2.31it/s]"
     ]
    },
    {
     "name": "stdout",
     "output_type": "stream",
     "text": [
      "\"['cashandcashequivalentsatcarryingvalue'] not in index\"\n"
     ]
    },
    {
     "name": "stderr",
     "output_type": "stream",
     "text": [
      " 40%|█████████████████████████████████████████████████████████████                                                                                           | 197/490 [01:10<01:42,  2.85it/s]"
     ]
    },
    {
     "name": "stdout",
     "output_type": "stream",
     "text": [
      "\"['entitycommonstocksharesoutstanding'] not in index\"\n"
     ]
    },
    {
     "name": "stderr",
     "output_type": "stream",
     "text": [
      " 43%|█████████████████████████████████████████████████████████████████▊                                                                                      | 212/490 [01:16<01:59,  2.32it/s]"
     ]
    },
    {
     "name": "stdout",
     "output_type": "stream",
     "text": [
      "\"['propertyplantandequipmentnet'] not in index\"\n"
     ]
    },
    {
     "name": "stderr",
     "output_type": "stream",
     "text": [
      " 44%|███████████████████████████████████████████████████████████████████                                                                                     | 216/490 [01:18<02:25,  1.89it/s]"
     ]
    },
    {
     "name": "stdout",
     "output_type": "stream",
     "text": [
      "\"['cashandcashequivalentsatcarryingvalue'] not in index\"\n"
     ]
    },
    {
     "name": "stderr",
     "output_type": "stream",
     "text": [
      " 45%|███████████████████████████████████████████████████████████████████▉                                                                                    | 219/490 [01:19<01:58,  2.30it/s]"
     ]
    },
    {
     "name": "stdout",
     "output_type": "stream",
     "text": [
      "\"['retainedearningsaccumulateddeficit', 'propertyplantandequipmentnet'] not in index\"\n"
     ]
    },
    {
     "name": "stderr",
     "output_type": "stream",
     "text": [
      " 45%|████████████████████████████████████████████████████████████████████▌                                                                                   | 221/490 [01:20<01:47,  2.51it/s]"
     ]
    },
    {
     "name": "stdout",
     "output_type": "stream",
     "text": [
      "\"['earningspersharebasic', 'earningspersharediluted'] not in index\"\n"
     ]
    },
    {
     "name": "stderr",
     "output_type": "stream",
     "text": [
      " 47%|██████████████████████████████████████████████████████████████████████▋                                                                                 | 228/490 [01:22<01:23,  3.13it/s]"
     ]
    },
    {
     "name": "stdout",
     "output_type": "stream",
     "text": [
      "\"['entitycommonstocksharesoutstanding'] not in index\"\n"
     ]
    },
    {
     "name": "stderr",
     "output_type": "stream",
     "text": [
      " 49%|█████████████████████████████████████████████████████████████████████████▊                                                                              | 238/490 [01:26<01:23,  3.01it/s]"
     ]
    },
    {
     "name": "stdout",
     "output_type": "stream",
     "text": [
      "\"['stockholdersequity'] not in index\"\n"
     ]
    },
    {
     "name": "stderr",
     "output_type": "stream",
     "text": [
      " 52%|██████████████████████████████████████████████████████████████████████████████▊                                                                         | 254/490 [01:31<01:01,  3.87it/s]"
     ]
    },
    {
     "name": "stdout",
     "output_type": "stream",
     "text": [
      "\"['accumulatedothercomprehensiveincomelossnetoftax'] not in index\"\n",
      "\"['accumulatedothercomprehensiveincomelossnetoftax'] not in index\"\n"
     ]
    },
    {
     "name": "stderr",
     "output_type": "stream",
     "text": [
      " 52%|███████████████████████████████████████████████████████████████████████████████▍                                                                        | 256/490 [01:31<01:06,  3.50it/s]"
     ]
    },
    {
     "name": "stdout",
     "output_type": "stream",
     "text": [
      "\"['stockholdersequity'] not in index\"\n"
     ]
    },
    {
     "name": "stderr",
     "output_type": "stream",
     "text": [
      " 53%|████████████████████████████████████████████████████████████████████████████████▉                                                                       | 261/490 [01:34<01:56,  1.96it/s]"
     ]
    },
    {
     "name": "stdout",
     "output_type": "stream",
     "text": [
      "\"['cashandcashequivalentsatcarryingvalue'] not in index\"\n"
     ]
    },
    {
     "name": "stderr",
     "output_type": "stream",
     "text": [
      " 54%|█████████████████████████████████████████████████████████████████████████████████▉                                                                      | 264/490 [01:35<01:35,  2.36it/s]"
     ]
    },
    {
     "name": "stdout",
     "output_type": "stream",
     "text": [
      "\"['propertyplantandequipmentnet'] not in index\"\n"
     ]
    },
    {
     "name": "stderr",
     "output_type": "stream",
     "text": [
      " 56%|█████████████████████████████████████████████████████████████████████████████████████▎                                                                  | 275/490 [01:39<01:13,  2.92it/s]"
     ]
    },
    {
     "name": "stdout",
     "output_type": "stream",
     "text": [
      "\"['entitycommonstocksharesoutstanding'] not in index\"\n"
     ]
    },
    {
     "name": "stderr",
     "output_type": "stream",
     "text": [
      "\r",
      " 56%|█████████████████████████████████████████████████████████████████████████████████████▌                                                                  | 276/490 [01:40<01:24,  2.52it/s]"
     ]
    },
    {
     "name": "stdout",
     "output_type": "stream",
     "text": [
      "\"['propertyplantandequipmentnet'] not in index\"\n"
     ]
    },
    {
     "name": "stderr",
     "output_type": "stream",
     "text": [
      " 57%|███████████████████████████████████████████████████████████████████████████████████████▏                                                                | 281/490 [01:42<01:29,  2.33it/s]"
     ]
    },
    {
     "name": "stdout",
     "output_type": "stream",
     "text": [
      "\"['cashandcashequivalentsatcarryingvalue'] not in index\"\n"
     ]
    },
    {
     "name": "stderr",
     "output_type": "stream",
     "text": [
      " 60%|██████████████████████████████████████████████████████████████████████████████████████████▉                                                             | 293/490 [01:46<01:10,  2.81it/s]"
     ]
    },
    {
     "name": "stdout",
     "output_type": "stream",
     "text": [
      "\"['entitycommonstocksharesoutstanding'] not in index\"\n"
     ]
    },
    {
     "name": "stderr",
     "output_type": "stream",
     "text": [
      " 60%|███████████████████████████████████████████████████████████████████████████████████████████▊                                                            | 296/490 [01:47<00:58,  3.34it/s]"
     ]
    },
    {
     "name": "stdout",
     "output_type": "stream",
     "text": [
      "\"['entitycommonstocksharesoutstanding'] not in index\"\n"
     ]
    },
    {
     "name": "stderr",
     "output_type": "stream",
     "text": [
      " 61%|█████████████████████████████████████████████████████████████████████████████████████████████                                                           | 300/490 [01:48<00:58,  3.25it/s]"
     ]
    },
    {
     "name": "stdout",
     "output_type": "stream",
     "text": [
      "\"['entitycommonstocksharesoutstanding'] not in index\"\n"
     ]
    },
    {
     "name": "stderr",
     "output_type": "stream",
     "text": [
      "\r",
      " 61%|█████████████████████████████████████████████████████████████████████████████████████████████▎                                                          | 301/490 [01:49<01:31,  2.07it/s]"
     ]
    },
    {
     "name": "stdout",
     "output_type": "stream",
     "text": [
      "\"['propertyplantandequipmentnet'] not in index\"\n"
     ]
    },
    {
     "name": "stderr",
     "output_type": "stream",
     "text": [
      " 63%|███████████████████████████████████████████████████████████████████████████████████████████████▌                                                        | 308/490 [01:51<00:48,  3.76it/s]"
     ]
    },
    {
     "name": "stdout",
     "output_type": "stream",
     "text": [
      "\"['retainedearningsaccumulateddeficit', 'propertyplantandequipmentnet'] not in index\"\n"
     ]
    },
    {
     "name": "stderr",
     "output_type": "stream",
     "text": [
      " 63%|████████████████████████████████████████████████████████████████████████████████████████████████▍                                                       | 311/490 [01:52<01:00,  2.94it/s]"
     ]
    },
    {
     "name": "stdout",
     "output_type": "stream",
     "text": [
      "\"['entitycommonstocksharesoutstanding'] not in index\"\n"
     ]
    },
    {
     "name": "stderr",
     "output_type": "stream",
     "text": [
      " 64%|█████████████████████████████████████████████████████████████████████████████████████████████████▍                                                      | 314/490 [01:53<00:50,  3.48it/s]"
     ]
    },
    {
     "name": "stdout",
     "output_type": "stream",
     "text": [
      "\"['earningspersharebasic', 'earningspersharediluted'] not in index\"\n"
     ]
    },
    {
     "name": "stderr",
     "output_type": "stream",
     "text": [
      " 66%|████████████████████████████████████████████████████████████████████████████████████████████████████▊                                                   | 325/490 [01:57<00:59,  2.79it/s]"
     ]
    },
    {
     "name": "stdout",
     "output_type": "stream",
     "text": [
      "\"['entitycommonstocksharesoutstanding'] not in index\"\n"
     ]
    },
    {
     "name": "stderr",
     "output_type": "stream",
     "text": [
      " 68%|██████████████████████████████████████████████████████████████████████████████████████████████████████▋                                                 | 331/490 [01:59<00:59,  2.69it/s]"
     ]
    },
    {
     "name": "stdout",
     "output_type": "stream",
     "text": [
      "\"['cashandcashequivalentsatcarryingvalue'] not in index\"\n"
     ]
    },
    {
     "name": "stderr",
     "output_type": "stream",
     "text": [
      " 68%|███████████████████████████████████████████████████████████████████████████████████████████████████████▉                                                | 335/490 [02:01<00:59,  2.62it/s]"
     ]
    },
    {
     "name": "stdout",
     "output_type": "stream",
     "text": [
      "\"['stockholdersequity'] not in index\"\n"
     ]
    },
    {
     "name": "stderr",
     "output_type": "stream",
     "text": [
      " 69%|████████████████████████████████████████████████████████████████████████████████████████████████████████▊                                               | 338/490 [02:02<00:50,  3.00it/s]"
     ]
    },
    {
     "name": "stdout",
     "output_type": "stream",
     "text": [
      "\"['accumulatedothercomprehensiveincomelossnetoftax', 'propertyplantandequipmentnet'] not in index\"\n"
     ]
    },
    {
     "name": "stderr",
     "output_type": "stream",
     "text": [
      " 70%|██████████████████████████████████████████████████████████████████████████████████████████████████████████                                              | 342/490 [02:03<00:38,  3.80it/s]"
     ]
    },
    {
     "name": "stdout",
     "output_type": "stream",
     "text": [
      "\"['accumulatedothercomprehensiveincomelossnetoftax'] not in index\"\n"
     ]
    },
    {
     "name": "stderr",
     "output_type": "stream",
     "text": [
      " 71%|████████████████████████████████████████████████████████████████████████████████████████████████████████████▌                                           | 350/490 [02:05<00:41,  3.37it/s]"
     ]
    },
    {
     "name": "stdout",
     "output_type": "stream",
     "text": [
      "\"['entitycommonstocksharesoutstanding'] not in index\"\n"
     ]
    },
    {
     "name": "stderr",
     "output_type": "stream",
     "text": [
      " 74%|████████████████████████████████████████████████████████████████████████████████████████████████████████████████▌                                       | 363/490 [02:09<00:45,  2.82it/s]"
     ]
    },
    {
     "name": "stdout",
     "output_type": "stream",
     "text": [
      "\"['accumulatedothercomprehensiveincomelossnetoftax'] not in index\"\n"
     ]
    },
    {
     "name": "stderr",
     "output_type": "stream",
     "text": [
      " 74%|█████████████████████████████████████████████████████████████████████████████████████████████████████████████████▏                                      | 365/490 [02:10<00:47,  2.66it/s]"
     ]
    },
    {
     "name": "stdout",
     "output_type": "stream",
     "text": [
      "\"['cashandcashequivalentsatcarryingvalue'] not in index\"\n"
     ]
    },
    {
     "name": "stderr",
     "output_type": "stream",
     "text": [
      " 75%|██████████████████████████████████████████████████████████████████████████████████████████████████████████████████▍                                     | 369/490 [02:12<00:50,  2.40it/s]"
     ]
    },
    {
     "name": "stdout",
     "output_type": "stream",
     "text": [
      "\"['stockholdersequity'] not in index\"\n"
     ]
    },
    {
     "name": "stderr",
     "output_type": "stream",
     "text": [
      "\r",
      " 76%|██████████████████████████████████████████████████████████████████████████████████████████████████████████████████▊                                     | 370/490 [02:12<00:48,  2.46it/s]"
     ]
    },
    {
     "name": "stdout",
     "output_type": "stream",
     "text": [
      "\"['cashandcashequivalentsatcarryingvalue'] not in index\"\n"
     ]
    },
    {
     "name": "stderr",
     "output_type": "stream",
     "text": [
      " 76%|███████████████████████████████████████████████████████████████████████████████████████████████████████████████████▋                                    | 373/490 [02:14<00:57,  2.05it/s]"
     ]
    },
    {
     "name": "stdout",
     "output_type": "stream",
     "text": [
      "\"['propertyplantandequipmentnet'] not in index\"\n"
     ]
    },
    {
     "name": "stderr",
     "output_type": "stream",
     "text": [
      " 77%|████████████████████████████████████████████████████████████████████████████████████████████████████████████████████▎                                   | 375/490 [02:15<00:46,  2.48it/s]"
     ]
    },
    {
     "name": "stdout",
     "output_type": "stream",
     "text": [
      "\"['propertyplantandequipmentnet'] not in index\"\n"
     ]
    },
    {
     "name": "stderr",
     "output_type": "stream",
     "text": [
      " 78%|██████████████████████████████████████████████████████████████████████████████████████████████████████████████████████▍                                 | 382/490 [02:17<00:36,  2.97it/s]"
     ]
    },
    {
     "name": "stdout",
     "output_type": "stream",
     "text": [
      "\"['entitycommonstocksharesoutstanding'] not in index\"\n"
     ]
    },
    {
     "name": "stderr",
     "output_type": "stream",
     "text": [
      " 79%|███████████████████████████████████████████████████████████████████████████████████████████████████████████████████████▍                                | 385/490 [02:18<00:43,  2.41it/s]"
     ]
    },
    {
     "name": "stdout",
     "output_type": "stream",
     "text": [
      "\"['retainedearningsaccumulateddeficit', 'propertyplantandequipmentnet'] not in index\"\n"
     ]
    },
    {
     "name": "stderr",
     "output_type": "stream",
     "text": [
      "\r",
      " 79%|███████████████████████████████████████████████████████████████████████████████████████████████████████████████████████▋                                | 386/490 [02:19<00:41,  2.50it/s]"
     ]
    },
    {
     "name": "stdout",
     "output_type": "stream",
     "text": [
      "\"['retainedearningsaccumulateddeficit'] not in index\"\n"
     ]
    },
    {
     "name": "stderr",
     "output_type": "stream",
     "text": [
      " 83%|█████████████████████████████████████████████████████████████████████████████████████████████████████████████████████████████▉                          | 406/490 [02:26<00:34,  2.43it/s]"
     ]
    },
    {
     "name": "stdout",
     "output_type": "stream",
     "text": [
      "\"['entitycommonstocksharesoutstanding', 'propertyplantandequipmentnet'] not in index\"\n"
     ]
    },
    {
     "name": "stderr",
     "output_type": "stream",
     "text": [
      " 85%|████████████████████████████████████████████████████████████████████████████████████████████████████████████████████████████████▋                       | 415/490 [02:30<00:35,  2.09it/s]"
     ]
    },
    {
     "name": "stdout",
     "output_type": "stream",
     "text": [
      "\"['cashandcashequivalentsatcarryingvalue'] not in index\"\n"
     ]
    },
    {
     "name": "stderr",
     "output_type": "stream",
     "text": [
      " 85%|█████████████████████████████████████████████████████████████████████████████████████████████████████████████████████████████████▋                      | 418/490 [02:31<00:21,  3.34it/s]"
     ]
    },
    {
     "name": "stdout",
     "output_type": "stream",
     "text": [
      "\"['accumulatedothercomprehensiveincomelossnetoftax', 'propertyplantandequipmentnet'] not in index\"\n"
     ]
    },
    {
     "name": "stderr",
     "output_type": "stream",
     "text": [
      " 86%|██████████████████████████████████████████████████████████████████████████████████████████████████████████████████████████████████▎                     | 420/490 [02:31<00:19,  3.62it/s]"
     ]
    },
    {
     "name": "stdout",
     "output_type": "stream",
     "text": [
      "\"['retainedearningsaccumulateddeficit'] not in index\"\n"
     ]
    },
    {
     "name": "stderr",
     "output_type": "stream",
     "text": [
      " 86%|██████████████████████████████████████████████████████████████████████████████████████████████████████████████████████████████████▉                     | 422/490 [02:32<00:19,  3.53it/s]"
     ]
    },
    {
     "name": "stdout",
     "output_type": "stream",
     "text": [
      "\"['retainedearningsaccumulateddeficit'] not in index\"\n"
     ]
    },
    {
     "name": "stderr",
     "output_type": "stream",
     "text": [
      " 89%|███████████████████████████████████████████████████████████████████████████████████████████████████████████████████████████████████████▊                | 438/490 [02:37<00:15,  3.28it/s]"
     ]
    },
    {
     "name": "stdout",
     "output_type": "stream",
     "text": [
      "\"['cashandcashequivalentsatcarryingvalue', 'propertyplantandequipmentnet'] not in index\"\n"
     ]
    },
    {
     "name": "stderr",
     "output_type": "stream",
     "text": [
      " 90%|████████████████████████████████████████████████████████████████████████████████████████████████████████████████████████████████████████▍               | 440/490 [02:38<00:17,  2.86it/s]"
     ]
    },
    {
     "name": "stdout",
     "output_type": "stream",
     "text": [
      "\"['stockholdersequity'] not in index\"\n"
     ]
    },
    {
     "name": "stderr",
     "output_type": "stream",
     "text": [
      " 90%|█████████████████████████████████████████████████████████████████████████████████████████████████████████████████████████████████████████▍              | 443/490 [02:38<00:13,  3.57it/s]"
     ]
    },
    {
     "name": "stdout",
     "output_type": "stream",
     "text": [
      "\"['entitycommonstocksharesoutstanding', 'weightedaveragenumberofsharesoutstandingbasic', 'earningspersharebasic'] not in index\"\n"
     ]
    },
    {
     "name": "stderr",
     "output_type": "stream",
     "text": [
      " 91%|██████████████████████████████████████████████████████████████████████████████████████████████████████████████████████████████████████████▎             | 446/490 [02:40<00:15,  2.76it/s]"
     ]
    },
    {
     "name": "stdout",
     "output_type": "stream",
     "text": [
      "\"['retainedearningsaccumulateddeficit', 'propertyplantandequipmentnet'] not in index\"\n"
     ]
    },
    {
     "name": "stderr",
     "output_type": "stream",
     "text": [
      "\r",
      " 91%|██████████████████████████████████████████████████████████████████████████████████████████████████████████████████████████████████████████▋             | 447/490 [02:40<00:13,  3.11it/s]"
     ]
    },
    {
     "name": "stdout",
     "output_type": "stream",
     "text": [
      "\"['entitycommonstocksharesoutstanding'] not in index\"\n"
     ]
    },
    {
     "name": "stderr",
     "output_type": "stream",
     "text": [
      " 92%|███████████████████████████████████████████████████████████████████████████████████████████████████████████████████████████████████████████▌            | 450/490 [02:41<00:13,  3.06it/s]"
     ]
    },
    {
     "name": "stdout",
     "output_type": "stream",
     "text": [
      "\"['entitycommonstocksharesoutstanding'] not in index\"\n"
     ]
    },
    {
     "name": "stderr",
     "output_type": "stream",
     "text": [
      " 92%|████████████████████████████████████████████████████████████████████████████████████████████████████████████████████████████████████████████▌           | 453/490 [02:42<00:11,  3.23it/s]"
     ]
    },
    {
     "name": "stdout",
     "output_type": "stream",
     "text": [
      "\"['entitycommonstocksharesoutstanding'] not in index\"\n"
     ]
    },
    {
     "name": "stderr",
     "output_type": "stream",
     "text": [
      " 93%|█████████████████████████████████████████████████████████████████████████████████████████████████████████████████████████████████████████████▏          | 455/490 [02:42<00:11,  2.93it/s]"
     ]
    },
    {
     "name": "stdout",
     "output_type": "stream",
     "text": [
      "\"['propertyplantandequipmentnet'] not in index\"\n"
     ]
    },
    {
     "name": "stderr",
     "output_type": "stream",
     "text": [
      " 94%|███████████████████████████████████████████████████████████████████████████████████████████████████████████████████████████████████████████████▌        | 463/490 [02:45<00:08,  3.23it/s]"
     ]
    },
    {
     "name": "stdout",
     "output_type": "stream",
     "text": [
      "\"['entitycommonstocksharesoutstanding', 'weightedaveragenumberofsharesoutstandingbasic', 'earningspersharebasic', 'earningspersharediluted', 'weightedaveragenumberofdilutedsharesoutstanding', 'stockholdersequity'] not in index\"\n"
     ]
    },
    {
     "name": "stderr",
     "output_type": "stream",
     "text": [
      "\r",
      " 95%|███████████████████████████████████████████████████████████████████████████████████████████████████████████████████████████████████████████████▉        | 464/490 [02:46<00:08,  3.11it/s]"
     ]
    },
    {
     "name": "stdout",
     "output_type": "stream",
     "text": [
      "\"['propertyplantandequipmentnet'] not in index\"\n"
     ]
    },
    {
     "name": "stderr",
     "output_type": "stream",
     "text": [
      " 97%|██████████████████████████████████████████████████████████████████████████████████████████████████████████████████████████████████████████████████▋     | 473/490 [02:49<00:08,  1.96it/s]"
     ]
    },
    {
     "name": "stdout",
     "output_type": "stream",
     "text": [
      "\"['cashandcashequivalentsatcarryingvalue'] not in index\"\n"
     ]
    },
    {
     "name": "stderr",
     "output_type": "stream",
     "text": [
      "\r",
      " 97%|███████████████████████████████████████████████████████████████████████████████████████████████████████████████████████████████████████████████████     | 474/490 [02:50<00:07,  2.03it/s]"
     ]
    },
    {
     "name": "stdout",
     "output_type": "stream",
     "text": [
      "\"['propertyplantandequipmentnet'] not in index\"\n"
     ]
    },
    {
     "name": "stderr",
     "output_type": "stream",
     "text": [
      "100%|███████████████████████████████████████████████████████████████████████████████████████████████████████████████████████████████████████████████████████▋| 489/490 [02:56<00:00,  1.89it/s]"
     ]
    },
    {
     "name": "stdout",
     "output_type": "stream",
     "text": [
      "\"['cashandcashequivalentsatcarryingvalue'] not in index\"\n"
     ]
    },
    {
     "name": "stderr",
     "output_type": "stream",
     "text": [
      "100%|████████████████████████████████████████████████████████████████████████████████████████████████████████████████████████████████████████████████████████| 490/490 [02:56<00:00,  2.78it/s]\n"
     ]
    }
   ],
   "source": [
    "training_sets = []\n",
    "sec.connect()\n",
    "market.connect()\n",
    "for ticker in tqdm(sp500[\"ticker\"].unique()):\n",
    "    try:\n",
    "        cik = int(sp500[sp500[\"ticker\"]==ticker][\"CIK\"])\n",
    "        prices = market.retrieve_ticker_prices(\"prices\",ticker)\n",
    "        prices = p.column_date_processing(prices)\n",
    "        filing = sec.retrieve_filing_data(cik)\n",
    "        filing = p.column_date_processing(filing)\n",
    "        ticker_data = financials.transform(prices,filing)\n",
    "        ticker_data = ticker_data[included_columns]\n",
    "        training_sets.append(ticker_data)\n",
    "    except Exception as e:\n",
    "        print(str(e))\n",
    "        continue\n",
    "sec.disconnect()\n",
    "market.disconnect()\n",
    "data = pd.concat(training_sets)"
   ]
  },
  {
   "cell_type": "code",
   "execution_count": 14,
   "id": "f0aaeff1",
   "metadata": {},
   "outputs": [],
   "source": [
    "prediction_slice = data[data[\"year\"]>=start_date.year-2].copy().reset_index(drop=True)\n",
    "prediction_slice_quarterly = prediction_slice.copy().groupby([\"year\",\"quarter\",\"ticker\"]).mean().reset_index()"
   ]
  },
  {
   "cell_type": "code",
   "execution_count": 18,
   "id": "ccd4e287",
   "metadata": {},
   "outputs": [],
   "source": [
    "for strat in strategies.keys():\n",
    "    try:\n",
    "        factors = strategies[strat]\n",
    "        strat_db = ADatabase(strat)\n",
    "        strat_db.connect()\n",
    "        models = strat_db.retrieve(\"models\")\n",
    "        simulation = umod.recommend(models,prediction_slice_quarterly.copy(),factors)\n",
    "        simulation[f\"{strat}_prediction\"] = (simulation[\"cat_prediction\"] + simulation[\"xgb_prediction\"]) / 2\n",
    "        strat_db.drop(\"predictions\")\n",
    "        strat_db.store(\"predictions\",simulation)\n",
    "        strat_db.disconnect()\n",
    "    except Exception as e:\n",
    "        print(str(e))"
   ]
  }
 ],
 "metadata": {
  "kernelspec": {
   "display_name": "Python 3 (ipykernel)",
   "language": "python",
   "name": "python3"
  },
  "language_info": {
   "codemirror_mode": {
    "name": "ipython",
    "version": 3
   },
   "file_extension": ".py",
   "mimetype": "text/x-python",
   "name": "python",
   "nbconvert_exporter": "python",
   "pygments_lexer": "ipython3",
   "version": "3.10.5"
  }
 },
 "nbformat": 4,
 "nbformat_minor": 5
}
