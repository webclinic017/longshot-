{
 "cells": [
  {
   "cell_type": "code",
   "execution_count": 18,
   "id": "5a24d11e",
   "metadata": {},
   "outputs": [],
   "source": [
    "import pandas as pd\n",
    "from pricer.pricer import Pricer\n",
    "from pricer.pricer_factory import PricerFactory\n",
    "from database.market import Market\n",
    "from database.sec import SEC\n",
    "from database.adatabase import ADatabase\n",
    "from processor.processor import Processor as p\n",
    "from datetime import datetime, timedelta\n",
    "from tqdm import tqdm\n",
    "import numpy as np\n",
    "from modeler_strats.universal_modeler import UniversalModeler"
   ]
  },
  {
   "cell_type": "code",
   "execution_count": 2,
   "id": "15454e26",
   "metadata": {},
   "outputs": [],
   "source": [
    "## initializing pricer_class\n",
    "pricer_class = PricerFactory.build(Pricer.QUARTERLY_STOCK_FINANCIAL)"
   ]
  },
  {
   "cell_type": "code",
   "execution_count": 16,
   "id": "a77d9b13",
   "metadata": {},
   "outputs": [],
   "source": [
    "backtest_start_date = datetime(2016,1,1)\n",
    "backtest_end_date = datetime(2023,1,1)"
   ]
  },
  {
   "cell_type": "code",
   "execution_count": 29,
   "id": "1f7fc22a",
   "metadata": {},
   "outputs": [],
   "source": [
    "## creating database objects\n",
    "market = Market()\n",
    "sec = SEC()\n",
    "modeler_strat = UniversalModeler()"
   ]
  },
  {
   "cell_type": "code",
   "execution_count": 4,
   "id": "b0c57b4d",
   "metadata": {},
   "outputs": [],
   "source": [
    "market.connect()\n",
    "sp500 = market.retrieve(\"sp500\")\n",
    "market.disconnect()\n",
    "sp500 = sp500.rename(columns={\"Symbol\":\"ticker\"})"
   ]
  },
  {
   "cell_type": "code",
   "execution_count": 20,
   "id": "c551e792",
   "metadata": {
    "scrolled": true
   },
   "outputs": [
    {
     "name": "stderr",
     "output_type": "stream",
     "text": [
      "  1%|█▉                                                                                                                                                        | 6/490 [00:01<01:53,  4.26it/s]"
     ]
    },
    {
     "name": "stdout",
     "output_type": "stream",
     "text": [
      "\"['entitycommonstocksharesoutstanding'] not in index\"\n"
     ]
    },
    {
     "name": "stderr",
     "output_type": "stream",
     "text": [
      "  2%|██▌                                                                                                                                                       | 8/490 [00:02<02:17,  3.51it/s]"
     ]
    },
    {
     "name": "stdout",
     "output_type": "stream",
     "text": [
      "\"['stockholdersequity'] not in index\"\n"
     ]
    },
    {
     "name": "stderr",
     "output_type": "stream",
     "text": [
      "  4%|█████▉                                                                                                                                                   | 19/490 [00:06<02:37,  2.98it/s]"
     ]
    },
    {
     "name": "stdout",
     "output_type": "stream",
     "text": [
      "\"['incometaxexpensebenefit'] not in index\"\n"
     ]
    },
    {
     "name": "stderr",
     "output_type": "stream",
     "text": [
      "  5%|███████▏                                                                                                                                                 | 23/490 [00:07<02:32,  3.07it/s]"
     ]
    },
    {
     "name": "stdout",
     "output_type": "stream",
     "text": [
      "\"['cashandcashequivalentsatcarryingvalue'] not in index\"\n"
     ]
    },
    {
     "name": "stderr",
     "output_type": "stream",
     "text": [
      "\r",
      "  5%|███████▍                                                                                                                                                 | 24/490 [00:07<02:23,  3.24it/s]"
     ]
    },
    {
     "name": "stdout",
     "output_type": "stream",
     "text": [
      "\"['weightedaveragenumberofdilutedsharesoutstanding', 'weightedaveragenumberofsharesoutstandingbasic'] not in index\"\n"
     ]
    },
    {
     "name": "stderr",
     "output_type": "stream",
     "text": [
      "  7%|█████████▉                                                                                                                                               | 32/490 [00:10<03:10,  2.40it/s]"
     ]
    },
    {
     "name": "stdout",
     "output_type": "stream",
     "text": [
      "\"['cashandcashequivalentsatcarryingvalue'] not in index\"\n"
     ]
    },
    {
     "name": "stderr",
     "output_type": "stream",
     "text": [
      "\r",
      "  7%|██████████▎                                                                                                                                              | 33/490 [00:11<03:52,  1.96it/s]"
     ]
    },
    {
     "name": "stdout",
     "output_type": "stream",
     "text": [
      "\"['cashandcashequivalentsatcarryingvalue'] not in index\"\n"
     ]
    },
    {
     "name": "stderr",
     "output_type": "stream",
     "text": [
      " 10%|███████████████▎                                                                                                                                         | 49/490 [00:16<02:12,  3.32it/s]"
     ]
    },
    {
     "name": "stdout",
     "output_type": "stream",
     "text": [
      "\"['weightedaveragenumberofdilutedsharesoutstanding'] not in index\"\n"
     ]
    },
    {
     "name": "stderr",
     "output_type": "stream",
     "text": [
      " 10%|███████████████▉                                                                                                                                         | 51/490 [00:17<02:39,  2.74it/s]"
     ]
    },
    {
     "name": "stdout",
     "output_type": "stream",
     "text": [
      "\"['stockholdersequity'] not in index\"\n"
     ]
    },
    {
     "name": "stderr",
     "output_type": "stream",
     "text": [
      " 11%|█████████████████▏                                                                                                                                       | 55/490 [00:18<02:14,  3.24it/s]"
     ]
    },
    {
     "name": "stdout",
     "output_type": "stream",
     "text": [
      "\"['propertyplantandequipmentnet'] not in index\"\n"
     ]
    },
    {
     "name": "stderr",
     "output_type": "stream",
     "text": [
      " 12%|█████████████████▊                                                                                                                                       | 57/490 [00:19<02:03,  3.50it/s]"
     ]
    },
    {
     "name": "stdout",
     "output_type": "stream",
     "text": [
      "\"['weightedaveragenumberofsharesoutstandingbasic'] not in index\"\n"
     ]
    },
    {
     "name": "stderr",
     "output_type": "stream",
     "text": [
      " 13%|████████████████████▎                                                                                                                                    | 65/490 [00:22<02:18,  3.06it/s]"
     ]
    },
    {
     "name": "stdout",
     "output_type": "stream",
     "text": [
      "\"['entitycommonstocksharesoutstanding'] not in index\"\n"
     ]
    },
    {
     "name": "stderr",
     "output_type": "stream",
     "text": [
      " 15%|██████████████████████▊                                                                                                                                  | 73/490 [00:25<02:38,  2.63it/s]"
     ]
    },
    {
     "name": "stdout",
     "output_type": "stream",
     "text": [
      "\"['incometaxexpensebenefit', 'propertyplantandequipmentnet'] not in index\"\n"
     ]
    },
    {
     "name": "stderr",
     "output_type": "stream",
     "text": [
      "\r",
      " 15%|███████████████████████                                                                                                                                  | 74/490 [00:25<02:48,  2.47it/s]"
     ]
    },
    {
     "name": "stdout",
     "output_type": "stream",
     "text": [
      "\"['stockholdersequity'] not in index\"\n"
     ]
    },
    {
     "name": "stderr",
     "output_type": "stream",
     "text": [
      " 17%|█████████████████████████▌                                                                                                                               | 82/490 [00:28<02:05,  3.25it/s]"
     ]
    },
    {
     "name": "stdout",
     "output_type": "stream",
     "text": [
      "\"['incometaxexpensebenefit', 'retainedearningsaccumulateddeficit', 'propertyplantandequipmentnet'] not in index\"\n"
     ]
    },
    {
     "name": "stderr",
     "output_type": "stream",
     "text": [
      " 17%|██████████████████████████▏                                                                                                                              | 84/490 [00:29<03:22,  2.01it/s]"
     ]
    },
    {
     "name": "stdout",
     "output_type": "stream",
     "text": [
      "\"['cashandcashequivalentsatcarryingvalue'] not in index\"\n"
     ]
    },
    {
     "name": "stderr",
     "output_type": "stream",
     "text": [
      " 18%|██████████████████████████▊                                                                                                                              | 86/490 [00:29<02:31,  2.66it/s]"
     ]
    },
    {
     "name": "stdout",
     "output_type": "stream",
     "text": [
      "\"['stockholdersequity'] not in index\"\n"
     ]
    },
    {
     "name": "stderr",
     "output_type": "stream",
     "text": [
      " 18%|████████████████████████████                                                                                                                             | 90/490 [00:30<02:05,  3.18it/s]"
     ]
    },
    {
     "name": "stdout",
     "output_type": "stream",
     "text": [
      "\"['stockholdersequity'] not in index\"\n"
     ]
    },
    {
     "name": "stderr",
     "output_type": "stream",
     "text": [
      " 22%|████████████████████████████████▉                                                                                                                       | 106/490 [00:36<01:59,  3.20it/s]"
     ]
    },
    {
     "name": "stdout",
     "output_type": "stream",
     "text": [
      "\"['weightedaveragenumberofsharesoutstandingbasic'] not in index\"\n"
     ]
    },
    {
     "name": "stderr",
     "output_type": "stream",
     "text": [
      " 22%|██████████████████████████████████                                                                                                                      | 110/490 [00:37<02:43,  2.32it/s]"
     ]
    },
    {
     "name": "stdout",
     "output_type": "stream",
     "text": [
      "\"['propertyplantandequipmentnet'] not in index\"\n"
     ]
    },
    {
     "name": "stderr",
     "output_type": "stream",
     "text": [
      " 23%|███████████████████████████████████                                                                                                                     | 113/490 [00:38<02:17,  2.74it/s]"
     ]
    },
    {
     "name": "stdout",
     "output_type": "stream",
     "text": [
      "\"['entitycommonstocksharesoutstanding'] not in index\"\n"
     ]
    },
    {
     "name": "stderr",
     "output_type": "stream",
     "text": [
      " 24%|████████████████████████████████████▌                                                                                                                   | 118/490 [00:40<02:04,  2.98it/s]"
     ]
    },
    {
     "name": "stdout",
     "output_type": "stream",
     "text": [
      "\"['entitycommonstocksharesoutstanding'] not in index\"\n"
     ]
    },
    {
     "name": "stderr",
     "output_type": "stream",
     "text": [
      "\r",
      " 24%|████████████████████████████████████▉                                                                                                                   | 119/490 [00:41<02:18,  2.67it/s]"
     ]
    },
    {
     "name": "stdout",
     "output_type": "stream",
     "text": [
      "\"['stockholdersequity'] not in index\"\n"
     ]
    },
    {
     "name": "stderr",
     "output_type": "stream",
     "text": [
      " 25%|██████████████████████████████████████▍                                                                                                                 | 124/490 [00:42<01:57,  3.11it/s]"
     ]
    },
    {
     "name": "stdout",
     "output_type": "stream",
     "text": [
      "\"['earningspersharebasic', 'earningspersharediluted', 'entitycommonstocksharesoutstanding', 'weightedaveragenumberofdilutedsharesoutstanding', 'weightedaveragenumberofsharesoutstandingbasic'] not in index\"\n"
     ]
    },
    {
     "name": "stderr",
     "output_type": "stream",
     "text": [
      " 27%|████████████████████████████████████████▉                                                                                                               | 132/490 [00:44<01:30,  3.96it/s]"
     ]
    },
    {
     "name": "stdout",
     "output_type": "stream",
     "text": [
      "\"['stockholdersequity'] not in index\"\n"
     ]
    },
    {
     "name": "stderr",
     "output_type": "stream",
     "text": [
      " 30%|████████████████████████████████████████████▉                                                                                                           | 145/490 [00:49<01:59,  2.88it/s]"
     ]
    },
    {
     "name": "stdout",
     "output_type": "stream",
     "text": [
      "\"['propertyplantandequipmentnet'] not in index\"\n"
     ]
    },
    {
     "name": "stderr",
     "output_type": "stream",
     "text": [
      " 30%|█████████████████████████████████████████████▌                                                                                                          | 147/490 [00:50<01:54,  2.98it/s]"
     ]
    },
    {
     "name": "stdout",
     "output_type": "stream",
     "text": [
      "\"['entitycommonstocksharesoutstanding'] not in index\"\n"
     ]
    },
    {
     "name": "stderr",
     "output_type": "stream",
     "text": [
      " 35%|█████████████████████████████████████████████████████                                                                                                   | 171/490 [00:58<02:01,  2.62it/s]"
     ]
    },
    {
     "name": "stdout",
     "output_type": "stream",
     "text": [
      "\"['retainedearningsaccumulateddeficit'] not in index\"\n"
     ]
    },
    {
     "name": "stderr",
     "output_type": "stream",
     "text": [
      " 36%|█████████████████████████████████████████████████████▉                                                                                                  | 174/490 [01:00<02:14,  2.35it/s]"
     ]
    },
    {
     "name": "stdout",
     "output_type": "stream",
     "text": [
      "\"['propertyplantandequipmentnet'] not in index\"\n"
     ]
    },
    {
     "name": "stderr",
     "output_type": "stream",
     "text": [
      "\r",
      " 36%|██████████████████████████████████████████████████████▎                                                                                                 | 175/490 [01:00<02:08,  2.46it/s]"
     ]
    },
    {
     "name": "stdout",
     "output_type": "stream",
     "text": [
      "\"['retainedearningsaccumulateddeficit', 'propertyplantandequipmentnet'] not in index\"\n"
     ]
    },
    {
     "name": "stderr",
     "output_type": "stream",
     "text": [
      " 36%|██████████████████████████████████████████████████████▉                                                                                                 | 177/490 [01:01<01:40,  3.10it/s]"
     ]
    },
    {
     "name": "stdout",
     "output_type": "stream",
     "text": [
      "\"['entitycommonstocksharesoutstanding'] not in index\"\n"
     ]
    },
    {
     "name": "stderr",
     "output_type": "stream",
     "text": [
      " 37%|███████████████████████████████████████████████████████▌                                                                                                | 179/490 [01:01<01:29,  3.48it/s]"
     ]
    },
    {
     "name": "stdout",
     "output_type": "stream",
     "text": [
      "\"['propertyplantandequipmentnet'] not in index\"\n"
     ]
    },
    {
     "name": "stderr",
     "output_type": "stream",
     "text": [
      "\r",
      " 37%|███████████████████████████████████████████████████████▊                                                                                                | 180/490 [01:01<01:42,  3.02it/s]"
     ]
    },
    {
     "name": "stdout",
     "output_type": "stream",
     "text": [
      "\"['propertyplantandequipmentnet'] not in index\"\n"
     ]
    },
    {
     "name": "stderr",
     "output_type": "stream",
     "text": [
      " 37%|████████████████████████████████████████████████████████▊                                                                                               | 183/490 [01:04<02:20,  2.19it/s]"
     ]
    },
    {
     "name": "stdout",
     "output_type": "stream",
     "text": [
      "\"['entitycommonstocksharesoutstanding'] not in index\"\n"
     ]
    },
    {
     "name": "stderr",
     "output_type": "stream",
     "text": [
      " 38%|█████████████████████████████████████████████████████████▋                                                                                              | 186/490 [01:04<01:41,  3.00it/s]"
     ]
    },
    {
     "name": "stdout",
     "output_type": "stream",
     "text": [
      "\"['stockholdersequity'] not in index\"\n"
     ]
    },
    {
     "name": "stderr",
     "output_type": "stream",
     "text": [
      " 39%|██████████████████████████████████████████████████████████▋                                                                                             | 189/490 [01:05<01:19,  3.78it/s]"
     ]
    },
    {
     "name": "stdout",
     "output_type": "stream",
     "text": [
      "\"['incometaxexpensebenefit', 'retainedearningsaccumulateddeficit', 'propertyplantandequipmentnet'] not in index\"\n"
     ]
    },
    {
     "name": "stderr",
     "output_type": "stream",
     "text": [
      " 39%|███████████████████████████████████████████████████████████▏                                                                                            | 191/490 [01:06<02:04,  2.41it/s]"
     ]
    },
    {
     "name": "stdout",
     "output_type": "stream",
     "text": [
      "\"['cashandcashequivalentsatcarryingvalue'] not in index\"\n"
     ]
    },
    {
     "name": "stderr",
     "output_type": "stream",
     "text": [
      " 40%|█████████████████████████████████████████████████████████████                                                                                           | 197/490 [01:08<01:39,  2.95it/s]"
     ]
    },
    {
     "name": "stdout",
     "output_type": "stream",
     "text": [
      "\"['entitycommonstocksharesoutstanding'] not in index\"\n"
     ]
    },
    {
     "name": "stderr",
     "output_type": "stream",
     "text": [
      " 43%|█████████████████████████████████████████████████████████████████▊                                                                                      | 212/490 [01:14<01:56,  2.38it/s]"
     ]
    },
    {
     "name": "stdout",
     "output_type": "stream",
     "text": [
      "\"['propertyplantandequipmentnet'] not in index\"\n"
     ]
    },
    {
     "name": "stderr",
     "output_type": "stream",
     "text": [
      " 44%|███████████████████████████████████████████████████████████████████                                                                                     | 216/490 [01:16<02:22,  1.93it/s]"
     ]
    },
    {
     "name": "stdout",
     "output_type": "stream",
     "text": [
      "\"['cashandcashequivalentsatcarryingvalue'] not in index\"\n"
     ]
    },
    {
     "name": "stderr",
     "output_type": "stream",
     "text": [
      " 45%|███████████████████████████████████████████████████████████████████▉                                                                                    | 219/490 [01:17<01:55,  2.35it/s]"
     ]
    },
    {
     "name": "stdout",
     "output_type": "stream",
     "text": [
      "\"['retainedearningsaccumulateddeficit', 'propertyplantandequipmentnet'] not in index\"\n"
     ]
    },
    {
     "name": "stderr",
     "output_type": "stream",
     "text": [
      " 45%|████████████████████████████████████████████████████████████████████▌                                                                                   | 221/490 [01:17<01:44,  2.59it/s]"
     ]
    },
    {
     "name": "stdout",
     "output_type": "stream",
     "text": [
      "\"['earningspersharebasic', 'earningspersharediluted'] not in index\"\n"
     ]
    },
    {
     "name": "stderr",
     "output_type": "stream",
     "text": [
      " 47%|██████████████████████████████████████████████████████████████████████▋                                                                                 | 228/490 [01:20<01:22,  3.19it/s]"
     ]
    },
    {
     "name": "stdout",
     "output_type": "stream",
     "text": [
      "\"['entitycommonstocksharesoutstanding'] not in index\"\n"
     ]
    },
    {
     "name": "stderr",
     "output_type": "stream",
     "text": [
      " 49%|█████████████████████████████████████████████████████████████████████████▊                                                                              | 238/490 [01:24<01:21,  3.07it/s]"
     ]
    },
    {
     "name": "stdout",
     "output_type": "stream",
     "text": [
      "\"['stockholdersequity'] not in index\"\n"
     ]
    },
    {
     "name": "stderr",
     "output_type": "stream",
     "text": [
      " 52%|██████████████████████████████████████████████████████████████████████████████▊                                                                         | 254/490 [01:28<01:00,  3.93it/s]"
     ]
    },
    {
     "name": "stdout",
     "output_type": "stream",
     "text": [
      "\"['accumulatedothercomprehensiveincomelossnetoftax'] not in index\"\n",
      "\"['accumulatedothercomprehensiveincomelossnetoftax'] not in index\"\n"
     ]
    },
    {
     "name": "stderr",
     "output_type": "stream",
     "text": [
      " 52%|███████████████████████████████████████████████████████████████████████████████▍                                                                        | 256/490 [01:29<01:05,  3.60it/s]"
     ]
    },
    {
     "name": "stdout",
     "output_type": "stream",
     "text": [
      "\"['stockholdersequity'] not in index\"\n"
     ]
    },
    {
     "name": "stderr",
     "output_type": "stream",
     "text": [
      " 53%|████████████████████████████████████████████████████████████████████████████████▉                                                                       | 261/490 [01:32<01:52,  2.04it/s]"
     ]
    },
    {
     "name": "stdout",
     "output_type": "stream",
     "text": [
      "\"['cashandcashequivalentsatcarryingvalue'] not in index\"\n"
     ]
    },
    {
     "name": "stderr",
     "output_type": "stream",
     "text": [
      " 54%|█████████████████████████████████████████████████████████████████████████████████▉                                                                      | 264/490 [01:33<01:32,  2.45it/s]"
     ]
    },
    {
     "name": "stdout",
     "output_type": "stream",
     "text": [
      "\"['propertyplantandequipmentnet'] not in index\"\n"
     ]
    },
    {
     "name": "stderr",
     "output_type": "stream",
     "text": [
      " 56%|█████████████████████████████████████████████████████████████████████████████████████▎                                                                  | 275/490 [01:37<01:11,  3.00it/s]"
     ]
    },
    {
     "name": "stdout",
     "output_type": "stream",
     "text": [
      "\"['entitycommonstocksharesoutstanding'] not in index\"\n"
     ]
    },
    {
     "name": "stderr",
     "output_type": "stream",
     "text": [
      "\r",
      " 56%|█████████████████████████████████████████████████████████████████████████████████████▌                                                                  | 276/490 [01:37<01:22,  2.59it/s]"
     ]
    },
    {
     "name": "stdout",
     "output_type": "stream",
     "text": [
      "\"['propertyplantandequipmentnet'] not in index\"\n"
     ]
    },
    {
     "name": "stderr",
     "output_type": "stream",
     "text": [
      " 57%|███████████████████████████████████████████████████████████████████████████████████████▏                                                                | 281/490 [01:39<01:27,  2.39it/s]"
     ]
    },
    {
     "name": "stdout",
     "output_type": "stream",
     "text": [
      "\"['cashandcashequivalentsatcarryingvalue'] not in index\"\n"
     ]
    },
    {
     "name": "stderr",
     "output_type": "stream",
     "text": [
      " 60%|██████████████████████████████████████████████████████████████████████████████████████████▉                                                             | 293/490 [01:43<01:07,  2.90it/s]"
     ]
    },
    {
     "name": "stdout",
     "output_type": "stream",
     "text": [
      "\"['entitycommonstocksharesoutstanding'] not in index\"\n"
     ]
    },
    {
     "name": "stderr",
     "output_type": "stream",
     "text": [
      " 60%|███████████████████████████████████████████████████████████████████████████████████████████▊                                                            | 296/490 [01:44<00:56,  3.42it/s]"
     ]
    },
    {
     "name": "stdout",
     "output_type": "stream",
     "text": [
      "\"['entitycommonstocksharesoutstanding'] not in index\"\n"
     ]
    },
    {
     "name": "stderr",
     "output_type": "stream",
     "text": [
      " 61%|█████████████████████████████████████████████████████████████████████████████████████████████                                                           | 300/490 [01:45<00:56,  3.33it/s]"
     ]
    },
    {
     "name": "stdout",
     "output_type": "stream",
     "text": [
      "\"['entitycommonstocksharesoutstanding'] not in index\"\n"
     ]
    },
    {
     "name": "stderr",
     "output_type": "stream",
     "text": [
      "\r",
      " 61%|█████████████████████████████████████████████████████████████████████████████████████████████▎                                                          | 301/490 [01:46<01:28,  2.14it/s]"
     ]
    },
    {
     "name": "stdout",
     "output_type": "stream",
     "text": [
      "\"['propertyplantandequipmentnet'] not in index\"\n"
     ]
    },
    {
     "name": "stderr",
     "output_type": "stream",
     "text": [
      " 63%|███████████████████████████████████████████████████████████████████████████████████████████████▌                                                        | 308/490 [01:48<00:47,  3.87it/s]"
     ]
    },
    {
     "name": "stdout",
     "output_type": "stream",
     "text": [
      "\"['retainedearningsaccumulateddeficit', 'propertyplantandequipmentnet'] not in index\"\n"
     ]
    },
    {
     "name": "stderr",
     "output_type": "stream",
     "text": [
      " 63%|████████████████████████████████████████████████████████████████████████████████████████████████▍                                                       | 311/490 [01:49<00:58,  3.04it/s]"
     ]
    },
    {
     "name": "stdout",
     "output_type": "stream",
     "text": [
      "\"['entitycommonstocksharesoutstanding'] not in index\"\n"
     ]
    },
    {
     "name": "stderr",
     "output_type": "stream",
     "text": [
      " 64%|█████████████████████████████████████████████████████████████████████████████████████████████████▍                                                      | 314/490 [01:50<00:48,  3.60it/s]"
     ]
    },
    {
     "name": "stdout",
     "output_type": "stream",
     "text": [
      "\"['earningspersharebasic', 'earningspersharediluted'] not in index\"\n"
     ]
    },
    {
     "name": "stderr",
     "output_type": "stream",
     "text": [
      " 66%|████████████████████████████████████████████████████████████████████████████████████████████████████▊                                                   | 325/490 [01:54<00:58,  2.84it/s]"
     ]
    },
    {
     "name": "stdout",
     "output_type": "stream",
     "text": [
      "\"['entitycommonstocksharesoutstanding'] not in index\"\n"
     ]
    },
    {
     "name": "stderr",
     "output_type": "stream",
     "text": [
      " 68%|██████████████████████████████████████████████████████████████████████████████████████████████████████▋                                                 | 331/490 [01:56<00:57,  2.78it/s]"
     ]
    },
    {
     "name": "stdout",
     "output_type": "stream",
     "text": [
      "\"['cashandcashequivalentsatcarryingvalue'] not in index\"\n"
     ]
    },
    {
     "name": "stderr",
     "output_type": "stream",
     "text": [
      " 68%|███████████████████████████████████████████████████████████████████████████████████████████████████████▉                                                | 335/490 [01:58<00:57,  2.71it/s]"
     ]
    },
    {
     "name": "stdout",
     "output_type": "stream",
     "text": [
      "\"['stockholdersequity'] not in index\"\n"
     ]
    },
    {
     "name": "stderr",
     "output_type": "stream",
     "text": [
      " 69%|████████████████████████████████████████████████████████████████████████████████████████████████████████▊                                               | 338/490 [01:59<00:49,  3.09it/s]"
     ]
    },
    {
     "name": "stdout",
     "output_type": "stream",
     "text": [
      "\"['accumulatedothercomprehensiveincomelossnetoftax', 'propertyplantandequipmentnet'] not in index\"\n"
     ]
    },
    {
     "name": "stderr",
     "output_type": "stream",
     "text": [
      " 70%|██████████████████████████████████████████████████████████████████████████████████████████████████████████                                              | 342/490 [02:00<00:38,  3.86it/s]"
     ]
    },
    {
     "name": "stdout",
     "output_type": "stream",
     "text": [
      "\"['accumulatedothercomprehensiveincomelossnetoftax'] not in index\"\n"
     ]
    },
    {
     "name": "stderr",
     "output_type": "stream",
     "text": [
      " 71%|████████████████████████████████████████████████████████████████████████████████████████████████████████████▌                                           | 350/490 [02:02<00:40,  3.47it/s]"
     ]
    },
    {
     "name": "stdout",
     "output_type": "stream",
     "text": [
      "\"['entitycommonstocksharesoutstanding'] not in index\"\n"
     ]
    },
    {
     "name": "stderr",
     "output_type": "stream",
     "text": [
      " 74%|████████████████████████████████████████████████████████████████████████████████████████████████████████████████▌                                       | 363/490 [02:06<00:43,  2.94it/s]"
     ]
    },
    {
     "name": "stdout",
     "output_type": "stream",
     "text": [
      "\"['accumulatedothercomprehensiveincomelossnetoftax'] not in index\"\n"
     ]
    },
    {
     "name": "stderr",
     "output_type": "stream",
     "text": [
      " 74%|█████████████████████████████████████████████████████████████████████████████████████████████████████████████████▏                                      | 365/490 [02:07<00:45,  2.73it/s]"
     ]
    },
    {
     "name": "stdout",
     "output_type": "stream",
     "text": [
      "\"['cashandcashequivalentsatcarryingvalue'] not in index\"\n"
     ]
    },
    {
     "name": "stderr",
     "output_type": "stream",
     "text": [
      " 75%|██████████████████████████████████████████████████████████████████████████████████████████████████████████████████▍                                     | 369/490 [02:08<00:48,  2.48it/s]"
     ]
    },
    {
     "name": "stdout",
     "output_type": "stream",
     "text": [
      "\"['stockholdersequity'] not in index\"\n"
     ]
    },
    {
     "name": "stderr",
     "output_type": "stream",
     "text": [
      "\r",
      " 76%|██████████████████████████████████████████████████████████████████████████████████████████████████████████████████▊                                     | 370/490 [02:09<00:47,  2.54it/s]"
     ]
    },
    {
     "name": "stdout",
     "output_type": "stream",
     "text": [
      "\"['cashandcashequivalentsatcarryingvalue'] not in index\"\n"
     ]
    },
    {
     "name": "stderr",
     "output_type": "stream",
     "text": [
      " 76%|███████████████████████████████████████████████████████████████████████████████████████████████████████████████████▋                                    | 373/490 [02:10<00:55,  2.11it/s]"
     ]
    },
    {
     "name": "stdout",
     "output_type": "stream",
     "text": [
      "\"['propertyplantandequipmentnet'] not in index\"\n"
     ]
    },
    {
     "name": "stderr",
     "output_type": "stream",
     "text": [
      " 77%|████████████████████████████████████████████████████████████████████████████████████████████████████████████████████▎                                   | 375/490 [02:11<00:45,  2.55it/s]"
     ]
    },
    {
     "name": "stdout",
     "output_type": "stream",
     "text": [
      "\"['propertyplantandequipmentnet'] not in index\"\n"
     ]
    },
    {
     "name": "stderr",
     "output_type": "stream",
     "text": [
      " 78%|██████████████████████████████████████████████████████████████████████████████████████████████████████████████████████▍                                 | 382/490 [02:13<00:35,  3.06it/s]"
     ]
    },
    {
     "name": "stdout",
     "output_type": "stream",
     "text": [
      "\"['entitycommonstocksharesoutstanding'] not in index\"\n"
     ]
    },
    {
     "name": "stderr",
     "output_type": "stream",
     "text": [
      " 79%|███████████████████████████████████████████████████████████████████████████████████████████████████████████████████████▍                                | 385/490 [02:15<00:41,  2.50it/s]"
     ]
    },
    {
     "name": "stdout",
     "output_type": "stream",
     "text": [
      "\"['retainedearningsaccumulateddeficit', 'propertyplantandequipmentnet'] not in index\"\n"
     ]
    },
    {
     "name": "stderr",
     "output_type": "stream",
     "text": [
      "\r",
      " 79%|███████████████████████████████████████████████████████████████████████████████████████████████████████████████████████▋                                | 386/490 [02:15<00:40,  2.60it/s]"
     ]
    },
    {
     "name": "stdout",
     "output_type": "stream",
     "text": [
      "\"['retainedearningsaccumulateddeficit'] not in index\"\n"
     ]
    },
    {
     "name": "stderr",
     "output_type": "stream",
     "text": [
      " 83%|█████████████████████████████████████████████████████████████████████████████████████████████████████████████████████████████▉                          | 406/490 [02:22<00:33,  2.51it/s]"
     ]
    },
    {
     "name": "stdout",
     "output_type": "stream",
     "text": [
      "\"['propertyplantandequipmentnet', 'entitycommonstocksharesoutstanding'] not in index\"\n"
     ]
    },
    {
     "name": "stderr",
     "output_type": "stream",
     "text": [
      " 85%|████████████████████████████████████████████████████████████████████████████████████████████████████████████████████████████████▋                       | 415/490 [02:26<00:34,  2.17it/s]"
     ]
    },
    {
     "name": "stdout",
     "output_type": "stream",
     "text": [
      "\"['cashandcashequivalentsatcarryingvalue'] not in index\"\n"
     ]
    },
    {
     "name": "stderr",
     "output_type": "stream",
     "text": [
      " 85%|█████████████████████████████████████████████████████████████████████████████████████████████████████████████████████████████████▋                      | 418/490 [02:27<00:21,  3.42it/s]"
     ]
    },
    {
     "name": "stdout",
     "output_type": "stream",
     "text": [
      "\"['accumulatedothercomprehensiveincomelossnetoftax', 'propertyplantandequipmentnet'] not in index\"\n"
     ]
    },
    {
     "name": "stderr",
     "output_type": "stream",
     "text": [
      " 86%|██████████████████████████████████████████████████████████████████████████████████████████████████████████████████████████████████▎                     | 420/490 [02:27<00:18,  3.69it/s]"
     ]
    },
    {
     "name": "stdout",
     "output_type": "stream",
     "text": [
      "\"['retainedearningsaccumulateddeficit'] not in index\"\n"
     ]
    },
    {
     "name": "stderr",
     "output_type": "stream",
     "text": [
      " 86%|██████████████████████████████████████████████████████████████████████████████████████████████████████████████████████████████████▉                     | 422/490 [02:28<00:18,  3.60it/s]"
     ]
    },
    {
     "name": "stdout",
     "output_type": "stream",
     "text": [
      "\"['retainedearningsaccumulateddeficit'] not in index\"\n"
     ]
    },
    {
     "name": "stderr",
     "output_type": "stream",
     "text": [
      " 89%|███████████████████████████████████████████████████████████████████████████████████████████████████████████████████████████████████████▊                | 438/490 [02:33<00:15,  3.32it/s]"
     ]
    },
    {
     "name": "stdout",
     "output_type": "stream",
     "text": [
      "\"['propertyplantandequipmentnet', 'cashandcashequivalentsatcarryingvalue'] not in index\"\n"
     ]
    },
    {
     "name": "stderr",
     "output_type": "stream",
     "text": [
      " 90%|████████████████████████████████████████████████████████████████████████████████████████████████████████████████████████████████████████▍               | 440/490 [02:33<00:17,  2.90it/s]"
     ]
    },
    {
     "name": "stdout",
     "output_type": "stream",
     "text": [
      "\"['stockholdersequity'] not in index\"\n"
     ]
    },
    {
     "name": "stderr",
     "output_type": "stream",
     "text": [
      " 90%|█████████████████████████████████████████████████████████████████████████████████████████████████████████████████████████████████████████▍              | 443/490 [02:34<00:12,  3.65it/s]"
     ]
    },
    {
     "name": "stdout",
     "output_type": "stream",
     "text": [
      "\"['earningspersharebasic', 'entitycommonstocksharesoutstanding', 'weightedaveragenumberofsharesoutstandingbasic'] not in index\"\n"
     ]
    },
    {
     "name": "stderr",
     "output_type": "stream",
     "text": [
      " 91%|██████████████████████████████████████████████████████████████████████████████████████████████████████████████████████████████████████████▎             | 446/490 [02:35<00:15,  2.81it/s]"
     ]
    },
    {
     "name": "stdout",
     "output_type": "stream",
     "text": [
      "\"['retainedearningsaccumulateddeficit', 'propertyplantandequipmentnet'] not in index\"\n"
     ]
    },
    {
     "name": "stderr",
     "output_type": "stream",
     "text": [
      "\r",
      " 91%|██████████████████████████████████████████████████████████████████████████████████████████████████████████████████████████████████████████▋             | 447/490 [02:36<00:13,  3.17it/s]"
     ]
    },
    {
     "name": "stdout",
     "output_type": "stream",
     "text": [
      "\"['entitycommonstocksharesoutstanding'] not in index\"\n"
     ]
    },
    {
     "name": "stderr",
     "output_type": "stream",
     "text": [
      " 92%|███████████████████████████████████████████████████████████████████████████████████████████████████████████████████████████████████████████▌            | 450/490 [02:37<00:12,  3.14it/s]"
     ]
    },
    {
     "name": "stdout",
     "output_type": "stream",
     "text": [
      "\"['entitycommonstocksharesoutstanding'] not in index\"\n"
     ]
    },
    {
     "name": "stderr",
     "output_type": "stream",
     "text": [
      " 92%|████████████████████████████████████████████████████████████████████████████████████████████████████████████████████████████████████████████▌           | 453/490 [02:37<00:11,  3.32it/s]"
     ]
    },
    {
     "name": "stdout",
     "output_type": "stream",
     "text": [
      "\"['entitycommonstocksharesoutstanding'] not in index\"\n"
     ]
    },
    {
     "name": "stderr",
     "output_type": "stream",
     "text": [
      " 93%|█████████████████████████████████████████████████████████████████████████████████████████████████████████████████████████████████████████████▏          | 455/490 [02:38<00:11,  3.03it/s]"
     ]
    },
    {
     "name": "stdout",
     "output_type": "stream",
     "text": [
      "\"['propertyplantandequipmentnet'] not in index\"\n"
     ]
    },
    {
     "name": "stderr",
     "output_type": "stream",
     "text": [
      " 94%|███████████████████████████████████████████████████████████████████████████████████████████████████████████████████████████████████████████████▌        | 463/490 [02:41<00:08,  3.31it/s]"
     ]
    },
    {
     "name": "stdout",
     "output_type": "stream",
     "text": [
      "\"['earningspersharebasic', 'earningspersharediluted', 'entitycommonstocksharesoutstanding', 'weightedaveragenumberofdilutedsharesoutstanding', 'weightedaveragenumberofsharesoutstandingbasic', 'stockholdersequity'] not in index\"\n"
     ]
    },
    {
     "name": "stderr",
     "output_type": "stream",
     "text": [
      "\r",
      " 95%|███████████████████████████████████████████████████████████████████████████████████████████████████████████████████████████████████████████████▉        | 464/490 [02:41<00:08,  3.20it/s]"
     ]
    },
    {
     "name": "stdout",
     "output_type": "stream",
     "text": [
      "\"['propertyplantandequipmentnet'] not in index\"\n"
     ]
    },
    {
     "name": "stderr",
     "output_type": "stream",
     "text": [
      " 97%|██████████████████████████████████████████████████████████████████████████████████████████████████████████████████████████████████████████████████▋     | 473/490 [02:45<00:08,  2.03it/s]"
     ]
    },
    {
     "name": "stdout",
     "output_type": "stream",
     "text": [
      "\"['cashandcashequivalentsatcarryingvalue'] not in index\"\n"
     ]
    },
    {
     "name": "stderr",
     "output_type": "stream",
     "text": [
      "\r",
      " 97%|███████████████████████████████████████████████████████████████████████████████████████████████████████████████████████████████████████████████████     | 474/490 [02:45<00:07,  2.11it/s]"
     ]
    },
    {
     "name": "stdout",
     "output_type": "stream",
     "text": [
      "\"['propertyplantandequipmentnet'] not in index\"\n"
     ]
    },
    {
     "name": "stderr",
     "output_type": "stream",
     "text": [
      "100%|███████████████████████████████████████████████████████████████████████████████████████████████████████████████████████████████████████████████████████▋| 489/490 [02:51<00:00,  1.95it/s]"
     ]
    },
    {
     "name": "stdout",
     "output_type": "stream",
     "text": [
      "\"['cashandcashequivalentsatcarryingvalue'] not in index\"\n"
     ]
    },
    {
     "name": "stderr",
     "output_type": "stream",
     "text": [
      "100%|████████████████████████████████████████████████████████████████████████████████████████████████████████████████████████████████████████████████████████| 490/490 [02:51<00:00,  2.86it/s]\n"
     ]
    }
   ],
   "source": [
    "market.connect()\n",
    "sec.connect()\n",
    "training_sets = []\n",
    "for ticker in tqdm(sp500[\"ticker\"].unique()):\n",
    "    try:\n",
    "        cik = int(sp500[sp500[\"ticker\"]==ticker][\"CIK\"])\n",
    "        prices = market.retrieve_ticker_prices(pricer_class.asset_class.value,ticker)\n",
    "        prices = p.column_date_processing(prices)\n",
    "        filing = sec.retrieve_filing_data(cik)\n",
    "        filing = p.column_date_processing(filing)\n",
    "        ticker_data = pricer_class.training_set(ticker,prices,filing)\n",
    "        training_sets.append(ticker_data)\n",
    "    except Exception as e:\n",
    "        print(str(e))\n",
    "        continue\n",
    "market.disconnect()\n",
    "sec.disconnect()"
   ]
  },
  {
   "cell_type": "code",
   "execution_count": 21,
   "id": "0ea5d66b",
   "metadata": {},
   "outputs": [],
   "source": [
    "data = pd.concat(training_sets)"
   ]
  },
  {
   "cell_type": "code",
   "execution_count": 25,
   "id": "736f208f",
   "metadata": {},
   "outputs": [],
   "source": [
    "training_data = data.dropna().copy().sort_values([\"year\",\"quarter\"])"
   ]
  },
  {
   "cell_type": "code",
   "execution_count": 26,
   "id": "dd5ef196",
   "metadata": {},
   "outputs": [
    {
     "data": {
      "text/html": [
       "<div>\n",
       "<style scoped>\n",
       "    .dataframe tbody tr th:only-of-type {\n",
       "        vertical-align: middle;\n",
       "    }\n",
       "\n",
       "    .dataframe tbody tr th {\n",
       "        vertical-align: top;\n",
       "    }\n",
       "\n",
       "    .dataframe thead th {\n",
       "        text-align: right;\n",
       "    }\n",
       "</style>\n",
       "<table border=\"1\" class=\"dataframe\">\n",
       "  <thead>\n",
       "    <tr style=\"text-align: right;\">\n",
       "      <th></th>\n",
       "      <th>assets</th>\n",
       "      <th>liabilitiesandstockholdersequity</th>\n",
       "      <th>incometaxexpensebenefit</th>\n",
       "      <th>retainedearningsaccumulateddeficit</th>\n",
       "      <th>accumulatedothercomprehensiveincomelossnetoftax</th>\n",
       "      <th>earningspersharebasic</th>\n",
       "      <th>earningspersharediluted</th>\n",
       "      <th>propertyplantandequipmentnet</th>\n",
       "      <th>cashandcashequivalentsatcarryingvalue</th>\n",
       "      <th>entitycommonstocksharesoutstanding</th>\n",
       "      <th>weightedaveragenumberofdilutedsharesoutstanding</th>\n",
       "      <th>weightedaveragenumberofsharesoutstandingbasic</th>\n",
       "      <th>stockholdersequity</th>\n",
       "      <th>year</th>\n",
       "      <th>quarter</th>\n",
       "      <th>ticker</th>\n",
       "      <th>adjclose</th>\n",
       "      <th>y</th>\n",
       "    </tr>\n",
       "  </thead>\n",
       "  <tbody>\n",
       "    <tr>\n",
       "      <th>48</th>\n",
       "      <td>2.967400e+10</td>\n",
       "      <td>3.088600e+10</td>\n",
       "      <td>1.551333e+09</td>\n",
       "      <td>2.717150e+10</td>\n",
       "      <td>-4.284000e+09</td>\n",
       "      <td>2.555455</td>\n",
       "      <td>2.519091</td>\n",
       "      <td>7.472500e+09</td>\n",
       "      <td>2.621250e+09</td>\n",
       "      <td>6.945438e+08</td>\n",
       "      <td>7.170667e+08</td>\n",
       "      <td>7.075667e+08</td>\n",
       "      <td>1.554150e+10</td>\n",
       "      <td>2012</td>\n",
       "      <td>1</td>\n",
       "      <td>MMM</td>\n",
       "      <td>62.705929</td>\n",
       "      <td>75.359447</td>\n",
       "    </tr>\n",
       "    <tr>\n",
       "      <th>48</th>\n",
       "      <td>5.781079e+10</td>\n",
       "      <td>5.781079e+10</td>\n",
       "      <td>1.001597e+09</td>\n",
       "      <td>1.915527e+10</td>\n",
       "      <td>-1.036652e+09</td>\n",
       "      <td>1.295333</td>\n",
       "      <td>1.286000</td>\n",
       "      <td>7.821467e+09</td>\n",
       "      <td>5.845638e+09</td>\n",
       "      <td>1.572357e+09</td>\n",
       "      <td>1.559512e+09</td>\n",
       "      <td>1.550342e+09</td>\n",
       "      <td>2.342031e+10</td>\n",
       "      <td>2012</td>\n",
       "      <td>1</td>\n",
       "      <td>ABT</td>\n",
       "      <td>21.876468</td>\n",
       "      <td>27.886848</td>\n",
       "    </tr>\n",
       "    <tr>\n",
       "      <th>48</th>\n",
       "      <td>1.361070e+08</td>\n",
       "      <td>1.361070e+08</td>\n",
       "      <td>4.665000e+05</td>\n",
       "      <td>-2.753060e+08</td>\n",
       "      <td>-1.145500e+06</td>\n",
       "      <td>-0.060000</td>\n",
       "      <td>-0.062500</td>\n",
       "      <td>6.343000e+06</td>\n",
       "      <td>4.976000e+06</td>\n",
       "      <td>3.899407e+07</td>\n",
       "      <td>3.820800e+07</td>\n",
       "      <td>3.776500e+07</td>\n",
       "      <td>1.112605e+08</td>\n",
       "      <td>2012</td>\n",
       "      <td>1</td>\n",
       "      <td>ABMD</td>\n",
       "      <td>20.784597</td>\n",
       "      <td>14.939677</td>\n",
       "    </tr>\n",
       "    <tr>\n",
       "      <th>48</th>\n",
       "      <td>8.814056e+09</td>\n",
       "      <td>8.814056e+09</td>\n",
       "      <td>1.484770e+08</td>\n",
       "      <td>6.383864e+09</td>\n",
       "      <td>3.101900e+07</td>\n",
       "      <td>0.530909</td>\n",
       "      <td>0.525227</td>\n",
       "      <td>5.135792e+08</td>\n",
       "      <td>8.832672e+08</td>\n",
       "      <td>4.949645e+08</td>\n",
       "      <td>5.129899e+08</td>\n",
       "      <td>5.063682e+08</td>\n",
       "      <td>5.476906e+09</td>\n",
       "      <td>2012</td>\n",
       "      <td>1</td>\n",
       "      <td>ADBE</td>\n",
       "      <td>32.043629</td>\n",
       "      <td>39.490917</td>\n",
       "    </tr>\n",
       "    <tr>\n",
       "      <th>48</th>\n",
       "      <td>3.336135e+10</td>\n",
       "      <td>3.336135e+10</td>\n",
       "      <td>2.682250e+08</td>\n",
       "      <td>1.195825e+10</td>\n",
       "      <td>3.533000e+08</td>\n",
       "      <td>0.997500</td>\n",
       "      <td>0.987500</td>\n",
       "      <td>7.120500e+08</td>\n",
       "      <td>1.417425e+09</td>\n",
       "      <td>4.905759e+08</td>\n",
       "      <td>4.945000e+08</td>\n",
       "      <td>4.894250e+08</td>\n",
       "      <td>6.096400e+09</td>\n",
       "      <td>2012</td>\n",
       "      <td>1</td>\n",
       "      <td>ADP</td>\n",
       "      <td>37.387025</td>\n",
       "      <td>42.938299</td>\n",
       "    </tr>\n",
       "    <tr>\n",
       "      <th>...</th>\n",
       "      <td>...</td>\n",
       "      <td>...</td>\n",
       "      <td>...</td>\n",
       "      <td>...</td>\n",
       "      <td>...</td>\n",
       "      <td>...</td>\n",
       "      <td>...</td>\n",
       "      <td>...</td>\n",
       "      <td>...</td>\n",
       "      <td>...</td>\n",
       "      <td>...</td>\n",
       "      <td>...</td>\n",
       "      <td>...</td>\n",
       "      <td>...</td>\n",
       "      <td>...</td>\n",
       "      <td>...</td>\n",
       "      <td>...</td>\n",
       "      <td>...</td>\n",
       "    </tr>\n",
       "    <tr>\n",
       "      <th>41</th>\n",
       "      <td>8.245333e+09</td>\n",
       "      <td>8.513000e+09</td>\n",
       "      <td>4.333333e+07</td>\n",
       "      <td>2.042000e+09</td>\n",
       "      <td>-3.920000e+08</td>\n",
       "      <td>2.003333</td>\n",
       "      <td>1.986667</td>\n",
       "      <td>6.505000e+08</td>\n",
       "      <td>1.061000e+09</td>\n",
       "      <td>1.799011e+08</td>\n",
       "      <td>1.812737e+08</td>\n",
       "      <td>1.801167e+08</td>\n",
       "      <td>3.093000e+09</td>\n",
       "      <td>2022</td>\n",
       "      <td>1</td>\n",
       "      <td>XYL</td>\n",
       "      <td>94.415087</td>\n",
       "      <td>104.252934</td>\n",
       "    </tr>\n",
       "    <tr>\n",
       "      <th>88</th>\n",
       "      <td>5.795000e+09</td>\n",
       "      <td>5.795000e+09</td>\n",
       "      <td>8.033333e+07</td>\n",
       "      <td>3.154500e+09</td>\n",
       "      <td>-4.900000e+07</td>\n",
       "      <td>11.723333</td>\n",
       "      <td>11.613333</td>\n",
       "      <td>2.730000e+08</td>\n",
       "      <td>1.766667e+08</td>\n",
       "      <td>5.307974e+07</td>\n",
       "      <td>5.413670e+07</td>\n",
       "      <td>5.362634e+07</td>\n",
       "      <td>2.075500e+09</td>\n",
       "      <td>2022</td>\n",
       "      <td>1</td>\n",
       "      <td>ZBRA</td>\n",
       "      <td>459.417581</td>\n",
       "      <td>302.155806</td>\n",
       "    </tr>\n",
       "    <tr>\n",
       "      <th>82</th>\n",
       "      <td>2.393705e+10</td>\n",
       "      <td>2.393705e+10</td>\n",
       "      <td>-1.154667e+08</td>\n",
       "      <td>1.018955e+10</td>\n",
       "      <td>-2.647000e+08</td>\n",
       "      <td>2.260000</td>\n",
       "      <td>2.236667</td>\n",
       "      <td>2.032100e+09</td>\n",
       "      <td>6.403000e+08</td>\n",
       "      <td>2.091774e+08</td>\n",
       "      <td>2.080333e+08</td>\n",
       "      <td>2.069000e+08</td>\n",
       "      <td>1.242745e+10</td>\n",
       "      <td>2022</td>\n",
       "      <td>1</td>\n",
       "      <td>ZBH</td>\n",
       "      <td>119.336857</td>\n",
       "      <td>125.327806</td>\n",
       "    </tr>\n",
       "    <tr>\n",
       "      <th>89</th>\n",
       "      <td>7.604651e+09</td>\n",
       "      <td>7.604651e+09</td>\n",
       "      <td>4.597550e+07</td>\n",
       "      <td>4.760722e+09</td>\n",
       "      <td>2.521667e+06</td>\n",
       "      <td>1.610000</td>\n",
       "      <td>1.600000</td>\n",
       "      <td>1.520187e+09</td>\n",
       "      <td>8.111307e+08</td>\n",
       "      <td>1.118816e+08</td>\n",
       "      <td>1.153655e+08</td>\n",
       "      <td>1.143420e+08</td>\n",
       "      <td>1.892206e+09</td>\n",
       "      <td>2022</td>\n",
       "      <td>2</td>\n",
       "      <td>TSCO</td>\n",
       "      <td>199.983109</td>\n",
       "      <td>232.826575</td>\n",
       "    </tr>\n",
       "    <tr>\n",
       "      <th>78</th>\n",
       "      <td>1.235507e+10</td>\n",
       "      <td>1.235507e+10</td>\n",
       "      <td>8.165000e+05</td>\n",
       "      <td>-2.379682e+09</td>\n",
       "      <td>7.652500e+06</td>\n",
       "      <td>-2.060000</td>\n",
       "      <td>-2.060000</td>\n",
       "      <td>8.718018e+09</td>\n",
       "      <td>2.419941e+09</td>\n",
       "      <td>1.159650e+08</td>\n",
       "      <td>1.130250e+08</td>\n",
       "      <td>1.130250e+08</td>\n",
       "      <td>-2.757290e+08</td>\n",
       "      <td>2022</td>\n",
       "      <td>2</td>\n",
       "      <td>WYNN</td>\n",
       "      <td>66.092419</td>\n",
       "      <td>108.186222</td>\n",
       "    </tr>\n",
       "  </tbody>\n",
       "</table>\n",
       "<p>11525 rows × 18 columns</p>\n",
       "</div>"
      ],
      "text/plain": [
       "          assets  liabilitiesandstockholdersequity  incometaxexpensebenefit  \\\n",
       "48  2.967400e+10                      3.088600e+10             1.551333e+09   \n",
       "48  5.781079e+10                      5.781079e+10             1.001597e+09   \n",
       "48  1.361070e+08                      1.361070e+08             4.665000e+05   \n",
       "48  8.814056e+09                      8.814056e+09             1.484770e+08   \n",
       "48  3.336135e+10                      3.336135e+10             2.682250e+08   \n",
       "..           ...                               ...                      ...   \n",
       "41  8.245333e+09                      8.513000e+09             4.333333e+07   \n",
       "88  5.795000e+09                      5.795000e+09             8.033333e+07   \n",
       "82  2.393705e+10                      2.393705e+10            -1.154667e+08   \n",
       "89  7.604651e+09                      7.604651e+09             4.597550e+07   \n",
       "78  1.235507e+10                      1.235507e+10             8.165000e+05   \n",
       "\n",
       "    retainedearningsaccumulateddeficit  \\\n",
       "48                        2.717150e+10   \n",
       "48                        1.915527e+10   \n",
       "48                       -2.753060e+08   \n",
       "48                        6.383864e+09   \n",
       "48                        1.195825e+10   \n",
       "..                                 ...   \n",
       "41                        2.042000e+09   \n",
       "88                        3.154500e+09   \n",
       "82                        1.018955e+10   \n",
       "89                        4.760722e+09   \n",
       "78                       -2.379682e+09   \n",
       "\n",
       "    accumulatedothercomprehensiveincomelossnetoftax  earningspersharebasic  \\\n",
       "48                                    -4.284000e+09               2.555455   \n",
       "48                                    -1.036652e+09               1.295333   \n",
       "48                                    -1.145500e+06              -0.060000   \n",
       "48                                     3.101900e+07               0.530909   \n",
       "48                                     3.533000e+08               0.997500   \n",
       "..                                              ...                    ...   \n",
       "41                                    -3.920000e+08               2.003333   \n",
       "88                                    -4.900000e+07              11.723333   \n",
       "82                                    -2.647000e+08               2.260000   \n",
       "89                                     2.521667e+06               1.610000   \n",
       "78                                     7.652500e+06              -2.060000   \n",
       "\n",
       "    earningspersharediluted  propertyplantandequipmentnet  \\\n",
       "48                 2.519091                  7.472500e+09   \n",
       "48                 1.286000                  7.821467e+09   \n",
       "48                -0.062500                  6.343000e+06   \n",
       "48                 0.525227                  5.135792e+08   \n",
       "48                 0.987500                  7.120500e+08   \n",
       "..                      ...                           ...   \n",
       "41                 1.986667                  6.505000e+08   \n",
       "88                11.613333                  2.730000e+08   \n",
       "82                 2.236667                  2.032100e+09   \n",
       "89                 1.600000                  1.520187e+09   \n",
       "78                -2.060000                  8.718018e+09   \n",
       "\n",
       "    cashandcashequivalentsatcarryingvalue  entitycommonstocksharesoutstanding  \\\n",
       "48                           2.621250e+09                        6.945438e+08   \n",
       "48                           5.845638e+09                        1.572357e+09   \n",
       "48                           4.976000e+06                        3.899407e+07   \n",
       "48                           8.832672e+08                        4.949645e+08   \n",
       "48                           1.417425e+09                        4.905759e+08   \n",
       "..                                    ...                                 ...   \n",
       "41                           1.061000e+09                        1.799011e+08   \n",
       "88                           1.766667e+08                        5.307974e+07   \n",
       "82                           6.403000e+08                        2.091774e+08   \n",
       "89                           8.111307e+08                        1.118816e+08   \n",
       "78                           2.419941e+09                        1.159650e+08   \n",
       "\n",
       "    weightedaveragenumberofdilutedsharesoutstanding  \\\n",
       "48                                     7.170667e+08   \n",
       "48                                     1.559512e+09   \n",
       "48                                     3.820800e+07   \n",
       "48                                     5.129899e+08   \n",
       "48                                     4.945000e+08   \n",
       "..                                              ...   \n",
       "41                                     1.812737e+08   \n",
       "88                                     5.413670e+07   \n",
       "82                                     2.080333e+08   \n",
       "89                                     1.153655e+08   \n",
       "78                                     1.130250e+08   \n",
       "\n",
       "    weightedaveragenumberofsharesoutstandingbasic  stockholdersequity  year  \\\n",
       "48                                   7.075667e+08        1.554150e+10  2012   \n",
       "48                                   1.550342e+09        2.342031e+10  2012   \n",
       "48                                   3.776500e+07        1.112605e+08  2012   \n",
       "48                                   5.063682e+08        5.476906e+09  2012   \n",
       "48                                   4.894250e+08        6.096400e+09  2012   \n",
       "..                                            ...                 ...   ...   \n",
       "41                                   1.801167e+08        3.093000e+09  2022   \n",
       "88                                   5.362634e+07        2.075500e+09  2022   \n",
       "82                                   2.069000e+08        1.242745e+10  2022   \n",
       "89                                   1.143420e+08        1.892206e+09  2022   \n",
       "78                                   1.130250e+08       -2.757290e+08  2022   \n",
       "\n",
       "    quarter ticker    adjclose           y  \n",
       "48        1    MMM   62.705929   75.359447  \n",
       "48        1    ABT   21.876468   27.886848  \n",
       "48        1   ABMD   20.784597   14.939677  \n",
       "48        1   ADBE   32.043629   39.490917  \n",
       "48        1    ADP   37.387025   42.938299  \n",
       "..      ...    ...         ...         ...  \n",
       "41        1    XYL   94.415087  104.252934  \n",
       "88        1   ZBRA  459.417581  302.155806  \n",
       "82        1    ZBH  119.336857  125.327806  \n",
       "89        2   TSCO  199.983109  232.826575  \n",
       "78        2   WYNN   66.092419  108.186222  \n",
       "\n",
       "[11525 rows x 18 columns]"
      ]
     },
     "execution_count": 26,
     "metadata": {},
     "output_type": "execute_result"
    }
   ],
   "source": [
    "training_data"
   ]
  },
  {
   "cell_type": "code",
   "execution_count": 36,
   "id": "23ad6193",
   "metadata": {
    "scrolled": true
   },
   "outputs": [
    {
     "name": "stdout",
     "output_type": "stream",
     "text": [
      "2015 3237 1142\n",
      "2016 4379 1151\n",
      "2017 4493 1178\n",
      "2018 4599 1188\n",
      "2019 4659 1185\n",
      "2020 4702 1113\n",
      "2021 4664 1064\n"
     ]
    }
   ],
   "source": [
    "pricer_class.db.connect()\n",
    "model_start_date = backtest_start_date - timedelta(pricer_class.time_horizon_class.model_date_offset)\n",
    "model_end_date = backtest_end_date - timedelta(pricer_class.time_horizon_class.model_date_offset)\n",
    "for year in range(model_start_date.year,model_end_date.year):\n",
    "    training_slice = training_data[(training_data[\"year\"]<year) & (training_data[\"year\"] >= year - 4)].reset_index(drop=True)\n",
    "    prediction_set = training_data[training_data[\"year\"]==year].reset_index(drop=True)\n",
    "    stuff = modeler_strat.model(training_slice,prediction_set,pricer_class.factors,False)\n",
    "    stuff = stuff.rename(columns={\"prediction\":f\"price_prediction\"})\n",
    "    relevant_columns = list(set(list(stuff.columns)) - set(pricer_class.factors))\n",
    "    stuff = pricer_class.sim_processor(stuff)\n",
    "    pricer_class.db.store(\"sim\",stuff[relevant_columns])\n",
    "pricer_class.db.disconnect()"
   ]
  }
 ],
 "metadata": {
  "kernelspec": {
   "display_name": "Python 3 (ipykernel)",
   "language": "python",
   "name": "python3"
  },
  "language_info": {
   "codemirror_mode": {
    "name": "ipython",
    "version": 3
   },
   "file_extension": ".py",
   "mimetype": "text/x-python",
   "name": "python",
   "nbconvert_exporter": "python",
   "pygments_lexer": "ipython3",
   "version": "3.10.5"
  }
 },
 "nbformat": 4,
 "nbformat_minor": 5
}
