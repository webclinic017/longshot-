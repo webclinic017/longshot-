{
 "cells": [
  {
   "cell_type": "code",
   "execution_count": 1,
   "id": "fd7ea1d3",
   "metadata": {},
   "outputs": [],
   "source": [
    "from tradealgorithm.tradealgorithm import TradeAlgorithm\n",
    "from tradealgorithm.tradealgorithmfactory import TradeAlgorithmFactory\n",
    "from pricer.pricer_factory import PricerFactory\n",
    "from pricer.pricer import Pricer\n",
    "from ranker.ranker_factory import RankerFactory\n",
    "from ranker.ranker import Ranker\n",
    "from classifier.classifier_factory import ClassifierFactory\n",
    "from classifier.classifier import Classifier\n",
    "from datetime import datetime\n",
    "from tqdm import tqdm"
   ]
  },
  {
   "cell_type": "code",
   "execution_count": 2,
   "id": "9a62a77e",
   "metadata": {},
   "outputs": [],
   "source": [
    "trade_algo = TradeAlgorithmFactory.build(TradeAlgorithm.RRR_BETA)"
   ]
  },
  {
   "cell_type": "code",
   "execution_count": 3,
   "id": "e7b9084d",
   "metadata": {},
   "outputs": [],
   "source": [
    "ranker_class = Ranker.NONE\n",
    "classifier_class = Classifier.NONE\n",
    "current = False"
   ]
  },
  {
   "cell_type": "code",
   "execution_count": 4,
   "id": "c3ed100e",
   "metadata": {},
   "outputs": [],
   "source": [
    "start = datetime(2001,1,1)\n",
    "end = datetime(2020,1,1)\n",
    "current_date = datetime.now()"
   ]
  },
  {
   "cell_type": "code",
   "execution_count": 5,
   "id": "645a067a",
   "metadata": {},
   "outputs": [],
   "source": [
    "pricer_classes = [] \n",
    "pricer_classes.append(Pricer.MONTHLY_STOCK_ROLLING)\n",
    "pricer_classes.append(Pricer.WEEKLY_STOCK_ROLLING)\n",
    "pricer_classes.append(Pricer.DAILY_STOCK_ROLLING)\n",
    "pricer_classes.append(Pricer.MONTHLY_STOCK_WINDOW)\n",
    "pricer_classes.append(Pricer.WEEKLY_STOCK_WINDOW)\n",
    "pricer_classes.append(Pricer.DAILY_STOCK_WINDOW)\n",
    "pricer_classes.append(Pricer.DAILY_STOCK_MEANREVERSION)\n",
    "pricer_classes.append(Pricer.DAILY_STOCK_DEVROLLING)\n",
    "pricer_classes.append(Pricer.DAILY_STOCK_BREAKOUT)"
   ]
  },
  {
   "cell_type": "code",
   "execution_count": 6,
   "id": "d2e18bb2",
   "metadata": {
    "scrolled": true
   },
   "outputs": [
    {
     "name": "stderr",
     "output_type": "stream",
     "text": [
      "  0%|                                                                                                                                     | 0/9 [00:00<?, ?it/s]\n",
      "  0%|                                                                                                                                     | 0/3 [00:00<?, ?it/s]\u001b[A\n",
      " 33%|█████████████████████████████████████████▋                                                                                   | 1/3 [00:02<00:04,  2.13s/it]\u001b[A\n",
      " 67%|███████████████████████████████████████████████████████████████████████████████████▎                                         | 2/3 [00:04<00:02,  2.07s/it]\u001b[A\n",
      "100%|█████████████████████████████████████████████████████████████████████████████████████████████████████████████████████████████| 3/3 [00:06<00:00,  2.13s/it]\u001b[A\n",
      " 11%|█████████████▉                                                                                                               | 1/9 [01:05<08:43, 65.43s/it]\n",
      "  0%|                                                                                                                                     | 0/3 [00:00<?, ?it/s]\u001b[A\n",
      " 33%|█████████████████████████████████████████▋                                                                                   | 1/3 [00:03<00:06,  3.24s/it]\u001b[A\n",
      " 67%|███████████████████████████████████████████████████████████████████████████████████▎                                         | 2/3 [00:06<00:03,  3.14s/it]\u001b[A\n",
      "100%|█████████████████████████████████████████████████████████████████████████████████████████████████████████████████████████████| 3/3 [00:09<00:00,  3.32s/it]\u001b[A\n",
      " 22%|███████████████████████████▊                                                                                                 | 2/9 [02:15<07:55, 67.91s/it]\n",
      "  0%|                                                                                                                                     | 0/3 [00:00<?, ?it/s]\u001b[A\n",
      " 33%|█████████████████████████████████████████▋                                                                                   | 1/3 [00:06<00:13,  6.63s/it]\u001b[A\n",
      " 67%|███████████████████████████████████████████████████████████████████████████████████▎                                         | 2/3 [00:16<00:08,  8.71s/it]\u001b[A\n",
      "100%|█████████████████████████████████████████████████████████████████████████████████████████████████████████████████████████████| 3/3 [00:36<00:00, 12.06s/it]\u001b[A\n",
      " 33%|█████████████████████████████████████████▋                                                                                   | 3/9 [04:03<08:37, 86.31s/it]\n",
      "  0%|                                                                                                                                     | 0/3 [00:00<?, ?it/s]\u001b[A\n",
      " 33%|█████████████████████████████████████████▋                                                                                   | 1/3 [00:02<00:04,  2.17s/it]\u001b[A\n",
      " 67%|███████████████████████████████████████████████████████████████████████████████████▎                                         | 2/3 [00:04<00:02,  2.11s/it]\u001b[A\n",
      "100%|█████████████████████████████████████████████████████████████████████████████████████████████████████████████████████████████| 3/3 [00:06<00:00,  2.16s/it]\u001b[A\n",
      " 44%|███████████████████████████████████████████████████████▌                                                                     | 4/9 [05:04<06:22, 76.43s/it]\n",
      "  0%|                                                                                                                                     | 0/3 [00:00<?, ?it/s]\u001b[A\n",
      " 33%|█████████████████████████████████████████▋                                                                                   | 1/3 [00:03<00:06,  3.26s/it]\u001b[A\n",
      " 67%|███████████████████████████████████████████████████████████████████████████████████▎                                         | 2/3 [00:06<00:03,  3.15s/it]\u001b[A\n",
      "100%|█████████████████████████████████████████████████████████████████████████████████████████████████████████████████████████████| 3/3 [00:10<00:00,  3.44s/it]\u001b[A\n",
      " 56%|█████████████████████████████████████████████████████████████████████▍                                                       | 5/9 [06:09<04:48, 72.23s/it]\n",
      "  0%|                                                                                                                                     | 0/3 [00:00<?, ?it/s]\u001b[A\n",
      " 33%|█████████████████████████████████████████▋                                                                                   | 1/3 [00:06<00:12,  6.05s/it]\u001b[A\n",
      " 67%|███████████████████████████████████████████████████████████████████████████████████▎                                         | 2/3 [00:17<00:09,  9.11s/it]\u001b[A\n",
      "100%|█████████████████████████████████████████████████████████████████████████████████████████████████████████████████████████████| 3/3 [00:38<00:00, 12.95s/it]\u001b[A\n",
      " 67%|███████████████████████████████████████████████████████████████████████████████████▎                                         | 6/9 [07:53<04:09, 83.22s/it]\n",
      "  0%|                                                                                                                                     | 0/3 [00:00<?, ?it/s]\u001b[A\n",
      " 33%|█████████████████████████████████████████▋                                                                                   | 1/3 [00:02<00:04,  2.04s/it]\u001b[A\n",
      " 67%|███████████████████████████████████████████████████████████████████████████████████▎                                         | 2/3 [00:03<00:01,  1.94s/it]\u001b[A\n",
      "100%|█████████████████████████████████████████████████████████████████████████████████████████████████████████████████████████████| 3/3 [00:05<00:00,  1.92s/it]\u001b[A\n",
      " 78%|█████████████████████████████████████████████████████████████████████████████████████████████████▏                           | 7/9 [09:07<02:39, 79.93s/it]\n",
      "  0%|                                                                                                                                     | 0/3 [00:00<?, ?it/s]\u001b[A\n",
      " 33%|█████████████████████████████████████████▋                                                                                   | 1/3 [00:08<00:17,  8.51s/it]\u001b[A\n",
      " 67%|███████████████████████████████████████████████████████████████████████████████████▎                                         | 2/3 [00:31<00:17, 17.15s/it]\u001b[A\n",
      "100%|█████████████████████████████████████████████████████████████████████████████████████████████████████████████████████████████| 3/3 [01:22<00:00, 27.34s/it]\u001b[A\n",
      " 89%|██████████████████████████████████████████████████████████████████████████████████████████████████████████████▏             | 8/9 [11:37<01:42, 102.29s/it]\n",
      "  0%|                                                                                                                                     | 0/3 [00:00<?, ?it/s]\u001b[A\n",
      " 33%|█████████████████████████████████████████▋                                                                                   | 1/3 [00:16<00:33, 16.93s/it]\u001b[A\n",
      " 67%|███████████████████████████████████████████████████████████████████████████████████▎                                         | 2/3 [00:38<00:19, 19.80s/it]\u001b[A\n",
      "100%|█████████████████████████████████████████████████████████████████████████████████████████████████████████████████████████████| 3/3 [01:25<00:00, 28.52s/it]\u001b[A\n",
      "100%|█████████████████████████████████████████████████████████████████████████████████████████████████████████████████████████████| 9/9 [14:12<00:00, 94.70s/it]\n"
     ]
    }
   ],
   "source": [
    "for pricer_class in tqdm(pricer_classes):\n",
    "    try:\n",
    "        trade_algo.initialize(pricer_class,ranker_class,classifier_class,start,end,current_date)\n",
    "        trade_algo.initialize_bench_and_yields()\n",
    "        trade_algo.initialize_classes()\n",
    "        simulation = trade_algo.create_simulation()\n",
    "        returns = trade_algo.create_returns(False)\n",
    "        merged = trade_algo.merge_sim_returns(simulation,returns)\n",
    "        complete = trade_algo.apply_yields(merged,False)\n",
    "        trade_algo.drop_trades()\n",
    "        trade_algo.drop_iterations()\n",
    "        trade_algo.initialize_backtester()\n",
    "        trades = trade_algo.run_backtest(complete)\n",
    "    except Exception as e:\n",
    "        print(trade_algo.name,str(e))"
   ]
  }
 ],
 "metadata": {
  "kernelspec": {
   "display_name": "Python 3 (ipykernel)",
   "language": "python",
   "name": "python3"
  },
  "language_info": {
   "codemirror_mode": {
    "name": "ipython",
    "version": 3
   },
   "file_extension": ".py",
   "mimetype": "text/x-python",
   "name": "python",
   "nbconvert_exporter": "python",
   "pygments_lexer": "ipython3",
   "version": "3.10.5"
  }
 },
 "nbformat": 4,
 "nbformat_minor": 5
}
