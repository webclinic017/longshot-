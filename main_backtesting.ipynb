{
 "cells": [
  {
   "cell_type": "code",
   "execution_count": 1,
   "id": "fd7ea1d3",
   "metadata": {},
   "outputs": [],
   "source": [
    "from tradealgorithm.tradealgorithm import TradeAlgorithm\n",
    "from tradealgorithm.tradealgorithmfactory import TradeAlgorithmFactory\n",
    "from pricer.pricer_factory import PricerFactory\n",
    "from pricer.pricer import Pricer\n",
    "from ranker.ranker_factory import RankerFactory\n",
    "from ranker.ranker import Ranker\n",
    "from classifier.classifier_factory import ClassifierFactory\n",
    "from classifier.classifier import Classifier\n",
    "from datetime import datetime\n",
    "from tqdm import tqdm"
   ]
  },
  {
   "cell_type": "code",
   "execution_count": 2,
   "id": "9a62a77e",
   "metadata": {},
   "outputs": [],
   "source": [
    "trade_algo = TradeAlgorithmFactory.build(TradeAlgorithm.RRR_BETA)"
   ]
  },
  {
   "cell_type": "code",
   "execution_count": 3,
   "id": "e7b9084d",
   "metadata": {},
   "outputs": [],
   "source": [
    "ranker_class = Ranker.NONE\n",
    "classifier_class = Classifier.NONE\n",
    "current = False"
   ]
  },
  {
   "cell_type": "code",
   "execution_count": 4,
   "id": "c3ed100e",
   "metadata": {},
   "outputs": [],
   "source": [
    "start = datetime(2001,1,1)\n",
    "end = datetime(2020,1,1)\n",
    "current_date = datetime.now()"
   ]
  },
  {
   "cell_type": "code",
   "execution_count": 5,
   "id": "645a067a",
   "metadata": {},
   "outputs": [],
   "source": [
    "pricer_classes = [] \n",
    "pricer_classes.append(Pricer.MONTHLY_STOCK_ROLLING)\n",
    "pricer_classes.append(Pricer.WEEKLY_STOCK_ROLLING)\n",
    "pricer_classes.append(Pricer.DAILY_STOCK_ROLLING)\n",
    "pricer_classes.append(Pricer.MONTHLY_STOCK_WINDOW)\n",
    "pricer_classes.append(Pricer.WEEKLY_STOCK_WINDOW)\n",
    "pricer_classes.append(Pricer.DAILY_STOCK_WINDOW)\n",
    "pricer_classes.append(Pricer.DAILY_STOCK_MEANREVERSION)\n",
    "pricer_classes.append(Pricer.DAILY_STOCK_DEVROLLING)\n",
    "pricer_classes.append(Pricer.DAILY_STOCK_BREAKOUT)"
   ]
  },
  {
   "cell_type": "code",
   "execution_count": null,
   "id": "d2e18bb2",
   "metadata": {
    "scrolled": true
   },
   "outputs": [
    {
     "name": "stderr",
     "output_type": "stream",
     "text": [
      "  0%|                                                                                                                                    | 0/9 [00:00<?, ?it/s]\n",
      "  0%|                                                                                                                                   | 0/18 [00:00<?, ?it/s]\u001b[A\n",
      "  6%|██████▊                                                                                                                    | 1/18 [00:02<00:40,  2.40s/it]\u001b[A\n",
      " 11%|█████████████▋                                                                                                             | 2/18 [00:04<00:36,  2.30s/it]\u001b[A\n",
      " 17%|████████████████████▌                                                                                                      | 3/18 [00:06<00:33,  2.23s/it]\u001b[A\n",
      " 22%|███████████████████████████▎                                                                                               | 4/18 [00:09<00:31,  2.26s/it]\u001b[A\n",
      " 28%|██████████████████████████████████▏                                                                                        | 5/18 [00:11<00:28,  2.21s/it]\u001b[A\n",
      " 33%|█████████████████████████████████████████                                                                                  | 6/18 [00:13<00:26,  2.21s/it]\u001b[A\n",
      " 39%|███████████████████████████████████████████████▊                                                                           | 7/18 [00:15<00:24,  2.23s/it]\u001b[A\n",
      " 44%|██████████████████████████████████████████████████████▋                                                                    | 8/18 [00:18<00:23,  2.37s/it]\u001b[A\n",
      " 50%|█████████████████████████████████████████████████████████████▌                                                             | 9/18 [00:20<00:20,  2.32s/it]\u001b[A\n",
      " 56%|███████████████████████████████████████████████████████████████████▊                                                      | 10/18 [00:22<00:17,  2.23s/it]\u001b[A\n",
      " 61%|██████████████████████████████████████████████████████████████████████████▌                                               | 11/18 [00:24<00:15,  2.18s/it]\u001b[A\n",
      " 67%|█████████████████████████████████████████████████████████████████████████████████▎                                        | 12/18 [00:26<00:12,  2.14s/it]\u001b[A\n",
      " 72%|████████████████████████████████████████████████████████████████████████████████████████                                  | 13/18 [00:28<00:10,  2.10s/it]\u001b[A\n",
      " 78%|██████████████████████████████████████████████████████████████████████████████████████████████▉                           | 14/18 [00:30<00:08,  2.04s/it]\u001b[A\n",
      " 83%|█████████████████████████████████████████████████████████████████████████████████████████████████████▋                    | 15/18 [00:32<00:06,  2.01s/it]\u001b[A\n",
      " 89%|████████████████████████████████████████████████████████████████████████████████████████████████████████████▍             | 16/18 [00:34<00:04,  2.04s/it]\u001b[A\n",
      " 94%|███████████████████████████████████████████████████████████████████████████████████████████████████████████████████▏      | 17/18 [00:36<00:02,  2.08s/it]\u001b[A\n",
      "100%|██████████████████████████████████████████████████████████████████████████████████████████████████████████████████████████| 18/18 [00:39<00:00,  2.17s/it]\u001b[A\n",
      " 11%|█████████████▍                                                                                                           | 1/9 [08:24<1:07:13, 504.13s/it]\n",
      "  0%|                                                                                                                                   | 0/18 [00:00<?, ?it/s]\u001b[A\n",
      "  6%|██████▊                                                                                                                    | 1/18 [00:04<01:14,  4.40s/it]\u001b[A\n",
      " 11%|█████████████▋                                                                                                             | 2/18 [00:08<01:06,  4.13s/it]\u001b[A\n",
      " 17%|████████████████████▌                                                                                                      | 3/18 [00:12<00:59,  3.97s/it]\u001b[A\n",
      " 22%|███████████████████████████▎                                                                                               | 4/18 [00:15<00:54,  3.89s/it]\u001b[A\n",
      " 28%|██████████████████████████████████▏                                                                                        | 5/18 [00:19<00:50,  3.87s/it]\u001b[A\n",
      " 33%|█████████████████████████████████████████                                                                                  | 6/18 [00:23<00:45,  3.81s/it]\u001b[A\n",
      " 39%|███████████████████████████████████████████████▊                                                                           | 7/18 [00:27<00:44,  4.05s/it]\u001b[A\n",
      " 44%|██████████████████████████████████████████████████████▋                                                                    | 8/18 [00:32<00:42,  4.20s/it]\u001b[A\n",
      " 50%|█████████████████████████████████████████████████████████████▌                                                             | 9/18 [00:37<00:38,  4.30s/it]\u001b[A\n",
      " 56%|███████████████████████████████████████████████████████████████████▊                                                      | 10/18 [00:40<00:33,  4.13s/it]\u001b[A\n",
      " 61%|██████████████████████████████████████████████████████████████████████████▌                                               | 11/18 [00:44<00:28,  4.02s/it]\u001b[A\n",
      " 67%|█████████████████████████████████████████████████████████████████████████████████▎                                        | 12/18 [00:48<00:23,  3.93s/it]\u001b[A\n",
      " 72%|████████████████████████████████████████████████████████████████████████████████████████                                  | 13/18 [00:51<00:19,  3.84s/it]\u001b[A\n",
      " 78%|██████████████████████████████████████████████████████████████████████████████████████████████▉                           | 14/18 [00:55<00:15,  3.81s/it]\u001b[A\n",
      " 83%|█████████████████████████████████████████████████████████████████████████████████████████████████████▋                    | 15/18 [00:59<00:11,  3.78s/it]\u001b[A\n",
      " 89%|████████████████████████████████████████████████████████████████████████████████████████████████████████████▍             | 16/18 [01:03<00:08,  4.03s/it]\u001b[A\n",
      " 94%|███████████████████████████████████████████████████████████████████████████████████████████████████████████████████▏      | 17/18 [01:08<00:04,  4.20s/it]\u001b[A\n",
      "100%|██████████████████████████████████████████████████████████████████████████████████████████████████████████████████████████| 18/18 [01:13<00:00,  4.06s/it]\u001b[A\n",
      " 22%|██████████████████████████▉                                                                                              | 2/9 [17:18<1:00:55, 522.17s/it]"
     ]
    }
   ],
   "source": [
    "for pricer_class in tqdm(pricer_classes):\n",
    "    try:\n",
    "        trade_algo.initialize(pricer_class,ranker_class,classifier_class,start,end,current_date)\n",
    "        trade_algo.initialize_bench_and_yields()\n",
    "        trade_algo.initialize_classes()\n",
    "        simulation = trade_algo.create_simulation()\n",
    "        returns = trade_algo.create_returns(False)\n",
    "        merged = trade_algo.merge_sim_returns(simulation,returns)\n",
    "        complete = trade_algo.apply_yields(merged,False)\n",
    "        trade_algo.drop_trades()\n",
    "        trade_algo.initialize_backtester()\n",
    "        trades = trade_algo.run_backtest(complete)\n",
    "    except Exception as e:\n",
    "        print(trade_algo.name,str(e))"
   ]
  },
  {
   "cell_type": "code",
   "execution_count": null,
   "id": "698405b2",
   "metadata": {},
   "outputs": [],
   "source": [
    "trade_algo.positions"
   ]
  }
 ],
 "metadata": {
  "kernelspec": {
   "display_name": "Python 3 (ipykernel)",
   "language": "python",
   "name": "python3"
  },
  "language_info": {
   "codemirror_mode": {
    "name": "ipython",
    "version": 3
   },
   "file_extension": ".py",
   "mimetype": "text/x-python",
   "name": "python",
   "nbconvert_exporter": "python",
   "pygments_lexer": "ipython3",
   "version": "3.10.5"
  }
 },
 "nbformat": 4,
 "nbformat_minor": 5
}
