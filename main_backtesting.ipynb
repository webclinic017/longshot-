{
 "cells": [
  {
   "cell_type": "code",
   "execution_count": 1,
   "id": "fd7ea1d3",
   "metadata": {},
   "outputs": [],
   "source": [
    "from fund.fund import Fund\n",
    "from datetime import datetime, timedelta\n",
    "from tqdm import tqdm"
   ]
  },
  {
   "cell_type": "code",
   "execution_count": 2,
   "id": "bde09400",
   "metadata": {},
   "outputs": [],
   "source": [
    "delta_fund = Fund()\n",
    "delta_fund.initialize()"
   ]
  },
  {
   "cell_type": "code",
   "execution_count": 3,
   "id": "d2e18bb2",
   "metadata": {
    "scrolled": true
   },
   "outputs": [
    {
     "name": "stderr",
     "output_type": "stream",
     "text": [
      "100%|████████████████████████████████████████████████████████████████████████████████████████████████████████████████████████████████| 18/18 [1:05:11<00:00, 217.31s/it]\n"
     ]
    }
   ],
   "source": [
    "for strategy in tqdm(delta_fund.strategies):\n",
    "    try:\n",
    "        returns = strategy.create_returns(False)\n",
    "        simulation = strategy.create_simulation()\n",
    "        merged = strategy.merge_sim_returns(simulation,returns)\n",
    "        complete = strategy.apply_yields(merged,False)\n",
    "        strategy.drop_trades()\n",
    "        strategy.drop_iterations()\n",
    "        strategy.initialize_backtester()\n",
    "        trades = strategy.run_backtest(complete)\n",
    "    except Exception as e:\n",
    "        print(strategy.name,str(e))"
   ]
  }
 ],
 "metadata": {
  "kernelspec": {
   "display_name": "Python 3 (ipykernel)",
   "language": "python",
   "name": "python3"
  },
  "language_info": {
   "codemirror_mode": {
    "name": "ipython",
    "version": 3
   },
   "file_extension": ".py",
   "mimetype": "text/x-python",
   "name": "python",
   "nbconvert_exporter": "python",
   "pygments_lexer": "ipython3",
   "version": "3.10.5"
  }
 },
 "nbformat": 4,
 "nbformat_minor": 5
}
