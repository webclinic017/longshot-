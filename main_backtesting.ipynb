{
 "cells": [
  {
   "cell_type": "code",
   "execution_count": 1,
   "id": "fd7ea1d3",
   "metadata": {},
   "outputs": [],
   "source": [
    "from tradealgorithm.tradealgorithm import TradeAlgorithm\n",
    "from tradealgorithm.tradealgorithmfactory import TradeAlgorithmFactory\n",
    "from pricer.pricer_factory import PricerFactory\n",
    "from pricer.pricer import Pricer\n",
    "from ranker.ranker_factory import RankerFactory\n",
    "from ranker.ranker import Ranker\n",
    "from classifier.classifier_factory import ClassifierFactory\n",
    "from classifier.classifier import Classifier\n",
    "from datetime import datetime\n",
    "from tqdm import tqdm"
   ]
  },
  {
   "cell_type": "code",
   "execution_count": 2,
   "id": "9a62a77e",
   "metadata": {},
   "outputs": [],
   "source": [
    "trade_algo = TradeAlgorithmFactory.build(TradeAlgorithm.RRR_BETA)"
   ]
  },
  {
   "cell_type": "code",
   "execution_count": 3,
   "id": "e7b9084d",
   "metadata": {},
   "outputs": [],
   "source": [
    "ranker_class = Ranker.NONE\n",
    "classifier_class = Classifier.NONE\n",
    "current = False"
   ]
  },
  {
   "cell_type": "code",
   "execution_count": 4,
   "id": "c3ed100e",
   "metadata": {},
   "outputs": [],
   "source": [
    "start = datetime(2001,1,1)\n",
    "end = datetime(2020,1,1)\n",
    "current_date = datetime.now()"
   ]
  },
  {
   "cell_type": "code",
   "execution_count": 5,
   "id": "645a067a",
   "metadata": {},
   "outputs": [],
   "source": [
    "pricer_classes = [] \n",
    "pricer_classes.append(Pricer.WEEKLY_STOCK_ROLLING)\n",
    "pricer_classes.append(Pricer.WEEKLY_STOCK_WINDOW)\n",
    "pricer_classes.append(Pricer.DAILY_STOCK_ROLLING)\n",
    "pricer_classes.append(Pricer.DAILY_STOCK_WINDOW)\n",
    "pricer_classes.append(Pricer.DAILY_STOCK_MEANREVERSION)\n",
    "pricer_classes.append(Pricer.DAILY_STOCK_DEVROLLING)\n",
    "pricer_classes.append(Pricer.DAILY_STOCK_BREAKOUT)"
   ]
  },
  {
   "cell_type": "code",
   "execution_count": 6,
   "id": "d2e18bb2",
   "metadata": {
    "scrolled": true
   },
   "outputs": [
    {
     "name": "stderr",
     "output_type": "stream",
     "text": [
      "  0%|                                                                                                                                                             | 0/7 [00:00<?, ?it/s]\n",
      "  0%|                                                                                                                                                             | 0/3 [00:00<?, ?it/s]\u001b[A\n",
      " 33%|█████████████████████████████████████████████████▋                                                                                                   | 1/3 [00:03<00:06,  3.15s/it]\u001b[A\n",
      " 67%|███████████████████████████████████████████████████████████████████████████████████████████████████▎                                                 | 2/3 [00:06<00:03,  3.16s/it]\u001b[A\n",
      "100%|█████████████████████████████████████████████████████████████████████████████████████████████████████████████████████████████████████████████████████| 3/3 [00:10<00:00,  3.36s/it]\u001b[A\n",
      " 14%|█████████████████████▎                                                                                                                               | 1/7 [01:13<07:22, 73.78s/it]\n",
      "  0%|                                                                                                                                                             | 0/3 [00:00<?, ?it/s]\u001b[A\n",
      " 33%|█████████████████████████████████████████████████▋                                                                                                   | 1/3 [00:03<00:06,  3.48s/it]\u001b[A\n",
      " 67%|███████████████████████████████████████████████████████████████████████████████████████████████████▎                                                 | 2/3 [00:06<00:03,  3.37s/it]\u001b[A\n",
      "100%|█████████████████████████████████████████████████████████████████████████████████████████████████████████████████████████████████████████████████████| 3/3 [00:10<00:00,  3.66s/it]\u001b[A\n",
      " 29%|██████████████████████████████████████████▌                                                                                                          | 2/7 [02:18<05:41, 68.23s/it]\n",
      "  0%|                                                                                                                                                             | 0/3 [00:00<?, ?it/s]\u001b[A\n",
      " 33%|█████████████████████████████████████████████████▋                                                                                                   | 1/3 [00:07<00:15,  7.66s/it]\u001b[A\n",
      " 67%|███████████████████████████████████████████████████████████████████████████████████████████████████▎                                                 | 2/3 [00:19<00:10, 10.40s/it]\u001b[A\n",
      "100%|█████████████████████████████████████████████████████████████████████████████████████████████████████████████████████████████████████████████████████| 3/3 [00:41<00:00, 13.99s/it]\u001b[A\n",
      " 43%|███████████████████████████████████████████████████████████████▊                                                                                     | 3/7 [04:04<05:42, 85.61s/it]\n",
      "  0%|                                                                                                                                                             | 0/3 [00:00<?, ?it/s]\u001b[A\n",
      " 33%|█████████████████████████████████████████████████▋                                                                                                   | 1/3 [00:06<00:13,  6.58s/it]\u001b[A\n",
      " 67%|███████████████████████████████████████████████████████████████████████████████████████████████████▎                                                 | 2/3 [00:19<00:10, 10.33s/it]\u001b[A\n",
      "100%|█████████████████████████████████████████████████████████████████████████████████████████████████████████████████████████████████████████████████████| 3/3 [00:43<00:00, 14.34s/it]\u001b[A\n",
      " 57%|█████████████████████████████████████████████████████████████████████████████████████▏                                                               | 4/7 [05:53<04:44, 94.69s/it]\n",
      "  0%|                                                                                                                                                             | 0/3 [00:00<?, ?it/s]\u001b[A\n",
      " 33%|█████████████████████████████████████████████████▋                                                                                                   | 1/3 [00:01<00:03,  1.87s/it]\u001b[A\n",
      " 67%|███████████████████████████████████████████████████████████████████████████████████████████████████▎                                                 | 2/3 [00:03<00:01,  1.81s/it]\u001b[A\n",
      "100%|█████████████████████████████████████████████████████████████████████████████████████████████████████████████████████████████████████████████████████| 3/3 [00:05<00:00,  1.77s/it]\u001b[A\n",
      " 71%|██████████████████████████████████████████████████████████████████████████████████████████████████████████▍                                          | 5/7 [07:03<02:52, 86.02s/it]\n",
      "  0%|                                                                                                                                                             | 0/3 [00:00<?, ?it/s]\u001b[A\n",
      " 33%|█████████████████████████████████████████████████▋                                                                                                   | 1/3 [00:09<00:18,  9.36s/it]\u001b[A\n",
      " 67%|███████████████████████████████████████████████████████████████████████████████████████████████████▎                                                 | 2/3 [00:34<00:18, 18.91s/it]\u001b[A\n",
      "100%|█████████████████████████████████████████████████████████████████████████████████████████████████████████████████████████████████████████████████████| 3/3 [01:31<00:00, 30.48s/it]\u001b[A\n",
      " 86%|██████████████████████████████████████████████████████████████████████████████████████████████████████████████████████████████▊                     | 6/7 [09:41<01:50, 110.43s/it]\n",
      "  0%|                                                                                                                                                             | 0/3 [00:00<?, ?it/s]\u001b[A\n",
      " 33%|█████████████████████████████████████████████████▋                                                                                                   | 1/3 [00:19<00:38, 19.37s/it]\u001b[A\n",
      " 67%|███████████████████████████████████████████████████████████████████████████████████████████████████▎                                                 | 2/3 [00:44<00:22, 22.96s/it]\u001b[A\n",
      "100%|█████████████████████████████████████████████████████████████████████████████████████████████████████████████████████████████████████████████████████| 3/3 [01:36<00:00, 32.30s/it]\u001b[A\n",
      "100%|████████████████████████████████████████████████████████████████████████████████████████████████████████████████████████████████████████████████████| 7/7 [12:28<00:00, 106.93s/it]\n"
     ]
    }
   ],
   "source": [
    "for pricer_class in tqdm(pricer_classes):\n",
    "    try:\n",
    "        trade_algo.initialize(pricer_class,ranker_class,classifier_class,start,end,current_date)\n",
    "        trade_algo.initialize_bench_and_yields()\n",
    "        trade_algo.initialize_classes()\n",
    "        simulation = trade_algo.create_simulation()\n",
    "        returns = trade_algo.create_returns(False)\n",
    "        merged = trade_algo.merge_sim_returns(simulation,returns)\n",
    "        complete = trade_algo.apply_yields(merged,False)\n",
    "        trade_algo.reset()\n",
    "        trade_algo.initialize_backtester()\n",
    "        trades = trade_algo.run_backtest(complete)\n",
    "    except Exception as e:\n",
    "        print(trade_algo.name,str(e))"
   ]
  }
 ],
 "metadata": {
  "kernelspec": {
   "display_name": "Python 3 (ipykernel)",
   "language": "python",
   "name": "python3"
  },
  "language_info": {
   "codemirror_mode": {
    "name": "ipython",
    "version": 3
   },
   "file_extension": ".py",
   "mimetype": "text/x-python",
   "name": "python",
   "nbconvert_exporter": "python",
   "pygments_lexer": "ipython3",
   "version": "3.10.5"
  }
 },
 "nbformat": 4,
 "nbformat_minor": 5
}
