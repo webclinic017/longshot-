{
 "cells": [
  {
   "cell_type": "code",
   "execution_count": 1,
   "id": "aa80f443",
   "metadata": {
    "scrolled": true
   },
   "outputs": [],
   "source": [
    "## database imports\n",
    "from database.market import Market\n",
    "from database.sec import SEC\n",
    "from database.adatabase import ADatabase\n",
    "\n",
    "## data processor import\n",
    "from processor.processor import Processor as p\n",
    "\n",
    "## risk and return class imports\n",
    "from returns.products import Products as returns_products_class\n",
    "from risk.quarterly_risk import QuarterlyRisk as risk_class\n",
    "from returns.quarterly_returns import QuarterlyReturns as returns_class\n",
    "\n",
    "## strategy filters\n",
    "from strategy_filters.quarterly_filter import QuarterlyFilter as quarterly_filter_class\n",
    "\n",
    "## backtester import\n",
    "from backtester.quarterly_backtester import QuarterlyBacktester as b\n",
    "\n",
    "## dividend ticker transform\n",
    "from strategy.dividends import Dividends as dividends_class\n",
    "\n",
    "## additional imports\n",
    "from datetime import datetime\n",
    "import pandas as pd\n",
    "from tqdm import tqdm"
   ]
  },
  {
   "cell_type": "code",
   "execution_count": 2,
   "id": "b38d4176",
   "metadata": {
    "scrolled": true
   },
   "outputs": [],
   "source": [
    "start_date = datetime(2023,1,1)\n",
    "end_date = datetime.now()"
   ]
  },
  {
   "cell_type": "code",
   "execution_count": 3,
   "id": "e5adbebb",
   "metadata": {},
   "outputs": [],
   "source": [
    "market = Market()\n",
    "sec = SEC()\n",
    "fin_db = ADatabase(\"financial\")\n",
    "earnings_db = ADatabase(\"earnings\")\n",
    "dividends_db = ADatabase(\"dividends\")\n",
    "current_db = ADatabase(\"all_financial\")"
   ]
  },
  {
   "cell_type": "code",
   "execution_count": 4,
   "id": "235a8676",
   "metadata": {
    "scrolled": true
   },
   "outputs": [],
   "source": [
    "market.connect()\n",
    "sp500 = market.retrieve(\"sp500\")\n",
    "market.disconnect()\n",
    "sp500 = sp500.rename(columns={\"Symbol\":\"ticker\"})"
   ]
  },
  {
   "cell_type": "code",
   "execution_count": 5,
   "id": "41568a2d",
   "metadata": {},
   "outputs": [],
   "source": [
    "tyields = returns_products_class.tyields()\n",
    "bench_returns = returns_products_class.spy_bench()"
   ]
  },
  {
   "cell_type": "code",
   "execution_count": 6,
   "id": "17def7c2",
   "metadata": {
    "scrolled": true
   },
   "outputs": [
    {
     "name": "stderr",
     "output_type": "stream",
     "text": [
      "100%|████████████████████████████████████████████████████████████████████████████████████████████████████████████████████████████████████████████████████████| 490/490 [03:05<00:00,  2.64it/s]\n"
     ]
    }
   ],
   "source": [
    "new_prices = []\n",
    "market.connect()\n",
    "sec.connect()\n",
    "for ticker in tqdm(sp500[\"ticker\"].unique()):\n",
    "    try:\n",
    "        cik = int(sp500[sp500[\"ticker\"]==ticker][\"CIK\"])\n",
    "        financials = sec.retrieve_filing_data(cik)\n",
    "        ticker_sim = market.retrieve_ticker_prices(\"prices\",ticker)\n",
    "        ticker_sim = returns_class.returns(ticker_sim,financials)\n",
    "        completed = risk_class.risk(ticker_sim,bench_returns)\n",
    "        new_prices.append(completed)\n",
    "    except:\n",
    "        continue\n",
    "sec.disconnect()\n",
    "market.disconnect()\n",
    "price_returns = pd.concat(new_prices)"
   ]
  },
  {
   "cell_type": "code",
   "execution_count": 7,
   "id": "c58b4ca8",
   "metadata": {},
   "outputs": [],
   "source": [
    "fin_db.connect()\n",
    "financial_simulation = fin_db.retrieve(\"predictions\")\n",
    "fin_db.disconnect()"
   ]
  },
  {
   "cell_type": "code",
   "execution_count": 8,
   "id": "0cc740f0",
   "metadata": {},
   "outputs": [],
   "source": [
    "earnings_db.connect()\n",
    "earnings_simulation = earnings_db.retrieve(\"predictions\")\n",
    "earnings_db.disconnect()\n",
    "earnings_simulation.rename(columns={\"prediction\":\"earnings_prediction\"},inplace=True)"
   ]
  },
  {
   "cell_type": "code",
   "execution_count": 9,
   "id": "702606ec",
   "metadata": {},
   "outputs": [],
   "source": [
    "dividends_db.connect()\n",
    "dividends_simulation = dividends_db.retrieve(\"predictions\")\n",
    "dividends_db.disconnect()\n",
    "dividends_simulation.rename(columns={\"prediction\":\"dividends_prediction\"},inplace=True)"
   ]
  },
  {
   "cell_type": "code",
   "execution_count": 10,
   "id": "a61c6b3e",
   "metadata": {},
   "outputs": [],
   "source": [
    "sim = price_returns.merge(tyields[[\"year\",\"quarter\",\"quarterly_yield\"]],on=[\"year\",\"quarter\"],how=\"left\") \\\n",
    "                    .merge(financial_simulation[[\"year\",\"quarter\",\"ticker\",\"financial_prediction\"]],on=[\"year\",\"quarter\",\"ticker\"],how=\"left\") \\\n",
    "                    .merge(earnings_simulation[[\"year\",\"quarter\",\"ticker\",\"earnings_prediction\"]],on=[\"year\",\"quarter\",\"ticker\"],how=\"left\") \\\n",
    "                    .merge(dividends_simulation[[\"year\",\"quarter\",\"ticker\",\"dividends_prediction\"]],on=[\"year\",\"quarter\",\"ticker\"],how=\"left\")\n",
    "sim = sim.dropna().groupby([\"year\",\"quarter\",\"ticker\"]).mean().reset_index()"
   ]
  },
  {
   "cell_type": "code",
   "execution_count": 11,
   "id": "6400ef4d",
   "metadata": {},
   "outputs": [],
   "source": [
    "ranks = sim.merge(sp500[[\"ticker\",\"GICS Sector\"]],how=\"left\").groupby([\"year\",\"quarter\",\"GICS Sector\"]).mean().reset_index().sort_values([\"year\",\"quarter\",\"quarterly_return\"],ascending=False).groupby([\"year\",\"quarter\"]).first().reset_index().rename(columns={\"GICS Sector\":\"top_sector\"})[[\"year\",\"quarter\",\"top_sector\"]]\n",
    "ranks[\"year\"] = ranks[\"year\"] + 1"
   ]
  },
  {
   "cell_type": "code",
   "execution_count": 12,
   "id": "ea5d2fb1",
   "metadata": {},
   "outputs": [],
   "source": [
    "sim.sort_values([\"year\",\"quarter\"],inplace=True)"
   ]
  },
  {
   "cell_type": "code",
   "execution_count": 13,
   "id": "0a4aa3a9",
   "metadata": {},
   "outputs": [],
   "source": [
    "dividend_tickers = dividends_class.dividend_tickers(price_returns)"
   ]
  },
  {
   "cell_type": "code",
   "execution_count": 14,
   "id": "7710948a",
   "metadata": {
    "scrolled": true
   },
   "outputs": [],
   "source": [
    "values = [True,False]\n",
    "ceilings = [True,False]\n",
    "parameters = []\n",
    "positions = 10\n",
    "strats = [\"dividends\",\"earnings\",\"sector\",\"financials\"]\n",
    "for strat in strats:\n",
    "    for value in values:\n",
    "        for ceiling in ceilings:\n",
    "            parameter = {\"value\":value\n",
    "                         ,\"ceiling\":ceiling\n",
    "                        ,\"strat\":strat\n",
    "                        }\n",
    "            parameters.append(parameter)"
   ]
  },
  {
   "cell_type": "code",
   "execution_count": 15,
   "id": "5b25c25d",
   "metadata": {},
   "outputs": [
    {
     "data": {
      "text/plain": [
       "16"
      ]
     },
     "execution_count": 15,
     "metadata": {},
     "output_type": "execute_result"
    }
   ],
   "source": [
    "len(parameters)"
   ]
  },
  {
   "cell_type": "code",
   "execution_count": 16,
   "id": "3ed60da2",
   "metadata": {},
   "outputs": [],
   "source": [
    "parameter = parameters[0]"
   ]
  },
  {
   "cell_type": "code",
   "execution_count": 17,
   "id": "40c956bc",
   "metadata": {
    "scrolled": true
   },
   "outputs": [
    {
     "name": "stderr",
     "output_type": "stream",
     "text": [
      "100%|██████████████████████████████████████████████████████████████████████████████████████████████████████████████████████████████████████████████████████████| 16/16 [00:00<00:00, 16.91it/s]\n"
     ]
    }
   ],
   "source": [
    "current_db.connect()\n",
    "current_db.drop(\"trades\")\n",
    "for parameter in tqdm(parameters):\n",
    "    simulation = sim.copy()\n",
    "    strat = parameter[\"strat\"]\n",
    "    simulation = returns_class.returns_backtest(simulation,strat,dividend_tickers)\n",
    "    simulation = quarterly_filter_class.strategy_filter(strat,simulation,sp500,ranks)\n",
    "    b.backtest(simulation.copy(),positions,parameter,start_date,end_date,current_db)\n",
    "current_db.disconnect()"
   ]
  },
  {
   "cell_type": "code",
   "execution_count": 18,
   "id": "46d149ee",
   "metadata": {},
   "outputs": [
    {
     "data": {
      "text/plain": [
       "Index(['year', 'quarter', 'ticker', 'quarter_start', 'quarter_end',\n",
       "       'return_end', 'commonstockdividendspersharecashpaid',\n",
       "       'quarterly_return', 'bench_quarterly_return', 'quarterly_variance',\n",
       "       'market_quarterly_cov', 'quarterly_beta', 'quarterly_yield',\n",
       "       'financial_prediction', 'earnings_prediction', 'dividends_prediction',\n",
       "       'market_quarterly_return', 'projected_quarterly_return',\n",
       "       'quarterly_delta', 'quarterly_delta_sign', 'quarterly_rrr'],\n",
       "      dtype='object')"
      ]
     },
     "execution_count": 18,
     "metadata": {},
     "output_type": "execute_result"
    }
   ],
   "source": [
    "simulation.columns"
   ]
  }
 ],
 "metadata": {
  "kernelspec": {
   "display_name": "Python 3 (ipykernel)",
   "language": "python",
   "name": "python3"
  },
  "language_info": {
   "codemirror_mode": {
    "name": "ipython",
    "version": 3
   },
   "file_extension": ".py",
   "mimetype": "text/x-python",
   "name": "python",
   "nbconvert_exporter": "python",
   "pygments_lexer": "ipython3",
   "version": "3.10.5"
  }
 },
 "nbformat": 4,
 "nbformat_minor": 5
}
