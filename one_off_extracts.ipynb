{
 "cells": [
  {
   "cell_type": "code",
   "execution_count": 1,
   "id": "69a32e37",
   "metadata": {},
   "outputs": [],
   "source": [
    "import pandas as pd\n",
    "from database.market import Market\n",
    "from database.adatabase import ADatabase\n",
    "from datetime import datetime, timedelta\n",
    "from tqdm import tqdm\n",
    "from extractor.tiingo_extractor import TiingoExtractor\n",
    "from extractor.forex_extractor import FOREXExtractor\n",
    "from extractor.fred_extractor import FREDExtractor\n",
    "from processor.processor import Processor as p\n",
    "\n",
    "market = Market()\n",
    "sp500 = ADatabase(\"sp500\")\n",
    "market.connect()\n",
    "sp5 = market.retrieve(\"sp500\")\n",
    "market.disconnect()\n",
    "\n",
    "start = datetime(2000,1,1).strftime(\"%Y-%m-%d\")\n",
    "end = datetime.now().strftime(\"%Y-%m-%d\")\n",
    "\n",
    "market.connect()\n",
    "try:\n",
    "    data = FREDExtractor.spy(start,end)\n",
    "    market.store(\"spy\",data)\n",
    "    data = FREDExtractor.tyields(start,end)\n",
    "    market.store(\"tyields\",data)\n",
    "    data = FREDExtractor.tyields2(start,end)\n",
    "    market.store(\"tyields2\",data)\n",
    "    data = FREDExtractor.tyields10(start,end)\n",
    "    market.store(\"tyields10\",data)\n",
    "except Exception as e:\n",
    "    print(str(e))\n",
    "market.disconnect()\n"
   ]
  },
  {
   "cell_type": "code",
   "execution_count": 4,
   "id": "c929b813",
   "metadata": {},
   "outputs": [],
   "source": [
    "market.connect()\n",
    "tyields = market.retrieve(\"tyields\")\n",
    "tyields2 = market.retrieve(\"tyields2\")\n",
    "tyields10 = market.retrieve(\"tyields10\")\n",
    "bench = market.retrieve(\"spy\")\n",
    "market.disconnect()\n",
    "market.cloud_connect()\n",
    "market.drop(\"tyields\")\n",
    "market.drop(\"tyields2\")\n",
    "market.drop(\"tyields10\")\n",
    "market.drop(\"spy\")\n",
    "market.store(\"tyields\",tyields)\n",
    "market.store(\"tyields2\",tyields2)\n",
    "market.store(\"tyields10\",tyields10)\n",
    "market.store(\"spy\",bench)\n",
    "market.disconnect()"
   ]
  }
 ],
 "metadata": {
  "kernelspec": {
   "display_name": "Python 3 (ipykernel)",
   "language": "python",
   "name": "python3"
  },
  "language_info": {
   "codemirror_mode": {
    "name": "ipython",
    "version": 3
   },
   "file_extension": ".py",
   "mimetype": "text/x-python",
   "name": "python",
   "nbconvert_exporter": "python",
   "pygments_lexer": "ipython3",
   "version": "3.10.5"
  }
 },
 "nbformat": 4,
 "nbformat_minor": 5
}
