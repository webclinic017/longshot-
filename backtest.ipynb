{
 "cells": [
  {
   "cell_type": "code",
   "execution_count": 1,
   "id": "aa80f443",
   "metadata": {
    "scrolled": true
   },
   "outputs": [],
   "source": [
    "from datetime import datetime, timedelta\n",
    "import pandas as pd\n",
    "from tqdm import tqdm\n",
    "from fund.fund import Fund\n",
    "from fund.states import States"
   ]
  },
  {
   "cell_type": "code",
   "execution_count": 2,
   "id": "e5adbebb",
   "metadata": {},
   "outputs": [],
   "source": [
    "fund = Fund(\"delta\",States.BACKTEST)\n",
    "fund.pull_portfolios()\n",
    "fund.initialize_portfolios()\n",
    "fund.reset()"
   ]
  },
  {
   "cell_type": "code",
   "execution_count": 3,
   "id": "72986b08",
   "metadata": {},
   "outputs": [
    {
     "name": "stderr",
     "output_type": "stream",
     "text": [
      "100%|██████████████████████████████████████████████████████████████████████████████████████████████████████████████████████████████████████████████████████████| 9/9 [40:29<00:00, 270.00s/it]\n"
     ]
    }
   ],
   "source": [
    "fund.backtest()"
   ]
  }
 ],
 "metadata": {
  "kernelspec": {
   "display_name": "Python 3 (ipykernel)",
   "language": "python",
   "name": "python3"
  },
  "language_info": {
   "codemirror_mode": {
    "name": "ipython",
    "version": 3
   },
   "file_extension": ".py",
   "mimetype": "text/x-python",
   "name": "python",
   "nbconvert_exporter": "python",
   "pygments_lexer": "ipython3",
   "version": "3.10.5"
  }
 },
 "nbformat": 4,
 "nbformat_minor": 5
}
