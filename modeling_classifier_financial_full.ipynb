{
 "cells": [
  {
   "cell_type": "code",
   "execution_count": 12,
   "id": "5a24d11e",
   "metadata": {},
   "outputs": [],
   "source": [
    "import pandas as pd\n",
    "from classifier.classifier import Classifier\n",
    "from classifier.classifier_factory import ClassifierFactory\n",
    "from database.market import Market\n",
    "from database.sec import SEC\n",
    "from database.adatabase import ADatabase\n",
    "from processor.processor import Processor as p\n",
    "from datetime import datetime, timedelta\n",
    "from tqdm import tqdm\n",
    "import numpy as np\n",
    "from modeler_strats.universal_modeler import UniversalModeler\n",
    "import pickle"
   ]
  },
  {
   "cell_type": "code",
   "execution_count": 2,
   "id": "cf2fb683",
   "metadata": {},
   "outputs": [],
   "source": [
    "## initializing classifier_class\n",
    "classifier_class = ClassifierFactory.build(Classifier.QUARTERLY_STOCK_FINANCIAL_CLASSIFIER)"
   ]
  },
  {
   "cell_type": "code",
   "execution_count": 10,
   "id": "c3c0e3ed",
   "metadata": {},
   "outputs": [],
   "source": [
    "backtest_start_date = datetime(2016,1,1)\n",
    "backtest_end_date = datetime(2023,1,1)\n",
    "current_year = datetime.now().year"
   ]
  },
  {
   "cell_type": "code",
   "execution_count": 4,
   "id": "1f7fc22a",
   "metadata": {},
   "outputs": [],
   "source": [
    "## creating database objects\n",
    "market = Market()\n",
    "sec = SEC()\n",
    "modeler_strat = UniversalModeler()"
   ]
  },
  {
   "cell_type": "code",
   "execution_count": 5,
   "id": "b0c57b4d",
   "metadata": {},
   "outputs": [],
   "source": [
    "market.connect()\n",
    "sp500 = market.retrieve(\"sp500\")\n",
    "market.disconnect()\n",
    "sp500 = sp500.rename(columns={\"Symbol\":\"ticker\"})"
   ]
  },
  {
   "cell_type": "code",
   "execution_count": 6,
   "id": "c551e792",
   "metadata": {
    "scrolled": true
   },
   "outputs": [
    {
     "name": "stderr",
     "output_type": "stream",
     "text": [
      "  1%|██                                                                                                                                                                         | 6/490 [00:01<01:55,  4.18it/s]"
     ]
    },
    {
     "name": "stdout",
     "output_type": "stream",
     "text": [
      "\"['entitycommonstocksharesoutstanding'] not in index\"\n"
     ]
    },
    {
     "name": "stderr",
     "output_type": "stream",
     "text": [
      "  2%|██▊                                                                                                                                                                        | 8/490 [00:02<02:19,  3.47it/s]"
     ]
    },
    {
     "name": "stdout",
     "output_type": "stream",
     "text": [
      "\"['stockholdersequity'] not in index\"\n"
     ]
    },
    {
     "name": "stderr",
     "output_type": "stream",
     "text": [
      "  4%|██████▌                                                                                                                                                                   | 19/490 [00:06<02:39,  2.96it/s]"
     ]
    },
    {
     "name": "stdout",
     "output_type": "stream",
     "text": [
      "\"['incometaxexpensebenefit'] not in index\"\n"
     ]
    },
    {
     "name": "stderr",
     "output_type": "stream",
     "text": [
      "  5%|███████▉                                                                                                                                                                  | 23/490 [00:07<02:34,  3.03it/s]"
     ]
    },
    {
     "name": "stdout",
     "output_type": "stream",
     "text": [
      "\"['cashandcashequivalentsatcarryingvalue'] not in index\"\n"
     ]
    },
    {
     "name": "stderr",
     "output_type": "stream",
     "text": [
      "\r",
      "  5%|████████▎                                                                                                                                                                 | 24/490 [00:07<02:24,  3.22it/s]"
     ]
    },
    {
     "name": "stdout",
     "output_type": "stream",
     "text": [
      "\"['weightedaveragenumberofdilutedsharesoutstanding', 'weightedaveragenumberofsharesoutstandingbasic'] not in index\"\n"
     ]
    },
    {
     "name": "stderr",
     "output_type": "stream",
     "text": [
      "  7%|███████████                                                                                                                                                               | 32/490 [00:10<03:11,  2.39it/s]"
     ]
    },
    {
     "name": "stdout",
     "output_type": "stream",
     "text": [
      "\"['cashandcashequivalentsatcarryingvalue'] not in index\"\n"
     ]
    },
    {
     "name": "stderr",
     "output_type": "stream",
     "text": [
      "\r",
      "  7%|███████████▍                                                                                                                                                              | 33/490 [00:11<03:53,  1.96it/s]"
     ]
    },
    {
     "name": "stdout",
     "output_type": "stream",
     "text": [
      "\"['cashandcashequivalentsatcarryingvalue'] not in index\"\n"
     ]
    },
    {
     "name": "stderr",
     "output_type": "stream",
     "text": [
      " 10%|█████████████████                                                                                                                                                         | 49/490 [00:16<02:14,  3.29it/s]"
     ]
    },
    {
     "name": "stdout",
     "output_type": "stream",
     "text": [
      "\"['weightedaveragenumberofdilutedsharesoutstanding'] not in index\"\n"
     ]
    },
    {
     "name": "stderr",
     "output_type": "stream",
     "text": [
      " 10%|█████████████████▋                                                                                                                                                        | 51/490 [00:17<02:40,  2.74it/s]"
     ]
    },
    {
     "name": "stdout",
     "output_type": "stream",
     "text": [
      "\"['stockholdersequity'] not in index\"\n"
     ]
    },
    {
     "name": "stderr",
     "output_type": "stream",
     "text": [
      " 11%|███████████████████                                                                                                                                                       | 55/490 [00:18<02:14,  3.22it/s]"
     ]
    },
    {
     "name": "stdout",
     "output_type": "stream",
     "text": [
      "\"['propertyplantandequipmentnet'] not in index\"\n"
     ]
    },
    {
     "name": "stderr",
     "output_type": "stream",
     "text": [
      " 12%|███████████████████▊                                                                                                                                                      | 57/490 [00:19<02:04,  3.46it/s]"
     ]
    },
    {
     "name": "stdout",
     "output_type": "stream",
     "text": [
      "\"['weightedaveragenumberofsharesoutstandingbasic'] not in index\"\n"
     ]
    },
    {
     "name": "stderr",
     "output_type": "stream",
     "text": [
      " 13%|██████████████████████▌                                                                                                                                                   | 65/490 [00:22<02:19,  3.04it/s]"
     ]
    },
    {
     "name": "stdout",
     "output_type": "stream",
     "text": [
      "\"['entitycommonstocksharesoutstanding'] not in index\"\n"
     ]
    },
    {
     "name": "stderr",
     "output_type": "stream",
     "text": [
      " 15%|█████████████████████████▎                                                                                                                                                | 73/490 [00:25<02:40,  2.60it/s]"
     ]
    },
    {
     "name": "stdout",
     "output_type": "stream",
     "text": [
      "\"['incometaxexpensebenefit', 'propertyplantandequipmentnet'] not in index\"\n"
     ]
    },
    {
     "name": "stderr",
     "output_type": "stream",
     "text": [
      "\r",
      " 15%|█████████████████████████▋                                                                                                                                                | 74/490 [00:25<02:49,  2.45it/s]"
     ]
    },
    {
     "name": "stdout",
     "output_type": "stream",
     "text": [
      "\"['stockholdersequity'] not in index\"\n"
     ]
    },
    {
     "name": "stderr",
     "output_type": "stream",
     "text": [
      " 17%|████████████████████████████▍                                                                                                                                             | 82/490 [00:28<02:07,  3.20it/s]"
     ]
    },
    {
     "name": "stdout",
     "output_type": "stream",
     "text": [
      "\"['incometaxexpensebenefit', 'retainedearningsaccumulateddeficit', 'propertyplantandequipmentnet'] not in index\"\n"
     ]
    },
    {
     "name": "stderr",
     "output_type": "stream",
     "text": [
      " 17%|█████████████████████████████▏                                                                                                                                            | 84/490 [00:29<03:26,  1.97it/s]"
     ]
    },
    {
     "name": "stdout",
     "output_type": "stream",
     "text": [
      "\"['cashandcashequivalentsatcarryingvalue'] not in index\"\n"
     ]
    },
    {
     "name": "stderr",
     "output_type": "stream",
     "text": [
      " 18%|█████████████████████████████▊                                                                                                                                            | 86/490 [00:30<02:33,  2.63it/s]"
     ]
    },
    {
     "name": "stdout",
     "output_type": "stream",
     "text": [
      "\"['stockholdersequity'] not in index\"\n"
     ]
    },
    {
     "name": "stderr",
     "output_type": "stream",
     "text": [
      " 18%|███████████████████████████████▏                                                                                                                                          | 90/490 [00:31<02:06,  3.16it/s]"
     ]
    },
    {
     "name": "stdout",
     "output_type": "stream",
     "text": [
      "\"['stockholdersequity'] not in index\"\n"
     ]
    },
    {
     "name": "stderr",
     "output_type": "stream",
     "text": [
      " 22%|████████████████████████████████████▌                                                                                                                                    | 106/490 [00:36<02:00,  3.20it/s]"
     ]
    },
    {
     "name": "stdout",
     "output_type": "stream",
     "text": [
      "\"['weightedaveragenumberofsharesoutstandingbasic'] not in index\"\n"
     ]
    },
    {
     "name": "stderr",
     "output_type": "stream",
     "text": [
      " 22%|█████████████████████████████████████▉                                                                                                                                   | 110/490 [00:38<02:44,  2.31it/s]"
     ]
    },
    {
     "name": "stdout",
     "output_type": "stream",
     "text": [
      "\"['propertyplantandequipmentnet'] not in index\"\n"
     ]
    },
    {
     "name": "stderr",
     "output_type": "stream",
     "text": [
      " 23%|██████████████████████████████████████▉                                                                                                                                  | 113/490 [00:39<02:18,  2.73it/s]"
     ]
    },
    {
     "name": "stdout",
     "output_type": "stream",
     "text": [
      "\"['entitycommonstocksharesoutstanding'] not in index\"\n"
     ]
    },
    {
     "name": "stderr",
     "output_type": "stream",
     "text": [
      " 24%|████████████████████████████████████████▋                                                                                                                                | 118/490 [00:40<02:04,  2.99it/s]"
     ]
    },
    {
     "name": "stdout",
     "output_type": "stream",
     "text": [
      "\"['entitycommonstocksharesoutstanding'] not in index\"\n"
     ]
    },
    {
     "name": "stderr",
     "output_type": "stream",
     "text": [
      "\r",
      " 24%|█████████████████████████████████████████                                                                                                                                | 119/490 [00:41<02:18,  2.67it/s]"
     ]
    },
    {
     "name": "stdout",
     "output_type": "stream",
     "text": [
      "\"['stockholdersequity'] not in index\"\n"
     ]
    },
    {
     "name": "stderr",
     "output_type": "stream",
     "text": [
      " 25%|██████████████████████████████████████████▊                                                                                                                              | 124/490 [00:43<01:58,  3.09it/s]"
     ]
    },
    {
     "name": "stdout",
     "output_type": "stream",
     "text": [
      "\"['earningspersharebasic', 'earningspersharediluted', 'entitycommonstocksharesoutstanding', 'weightedaveragenumberofdilutedsharesoutstanding', 'weightedaveragenumberofsharesoutstandingbasic'] not in index\"\n"
     ]
    },
    {
     "name": "stderr",
     "output_type": "stream",
     "text": [
      " 27%|█████████████████████████████████████████████▌                                                                                                                           | 132/490 [00:45<01:30,  3.94it/s]"
     ]
    },
    {
     "name": "stdout",
     "output_type": "stream",
     "text": [
      "\"['stockholdersequity'] not in index\"\n"
     ]
    },
    {
     "name": "stderr",
     "output_type": "stream",
     "text": [
      " 30%|██████████████████████████████████████████████████                                                                                                                       | 145/490 [00:49<02:00,  2.85it/s]"
     ]
    },
    {
     "name": "stdout",
     "output_type": "stream",
     "text": [
      "\"['propertyplantandequipmentnet'] not in index\"\n"
     ]
    },
    {
     "name": "stderr",
     "output_type": "stream",
     "text": [
      " 30%|██████████████████████████████████████████████████▋                                                                                                                      | 147/490 [00:50<01:55,  2.97it/s]"
     ]
    },
    {
     "name": "stdout",
     "output_type": "stream",
     "text": [
      "\"['entitycommonstocksharesoutstanding'] not in index\"\n"
     ]
    },
    {
     "name": "stderr",
     "output_type": "stream",
     "text": [
      " 35%|██████████████████████████████████████████████████████████▉                                                                                                              | 171/490 [00:59<02:02,  2.60it/s]"
     ]
    },
    {
     "name": "stdout",
     "output_type": "stream",
     "text": [
      "\"['retainedearningsaccumulateddeficit'] not in index\"\n"
     ]
    },
    {
     "name": "stderr",
     "output_type": "stream",
     "text": [
      " 36%|████████████████████████████████████████████████████████████                                                                                                             | 174/490 [01:00<02:15,  2.33it/s]"
     ]
    },
    {
     "name": "stdout",
     "output_type": "stream",
     "text": [
      "\"['propertyplantandequipmentnet'] not in index\"\n"
     ]
    },
    {
     "name": "stderr",
     "output_type": "stream",
     "text": [
      "\r",
      " 36%|████████████████████████████████████████████████████████████▎                                                                                                            | 175/490 [01:00<02:07,  2.47it/s]"
     ]
    },
    {
     "name": "stdout",
     "output_type": "stream",
     "text": [
      "\"['retainedearningsaccumulateddeficit', 'propertyplantandequipmentnet'] not in index\"\n"
     ]
    },
    {
     "name": "stderr",
     "output_type": "stream",
     "text": [
      "\r",
      " 36%|████████████████████████████████████████████████████████████▋                                                                                                            | 176/490 [01:01<01:57,  2.67it/s]"
     ]
    },
    {
     "name": "stdout",
     "output_type": "stream",
     "text": [
      "\"['entitycommonstocksharesoutstanding'] not in index\"\n"
     ]
    },
    {
     "name": "stderr",
     "output_type": "stream",
     "text": [
      " 37%|█████████████████████████████████████████████████████████████▋                                                                                                           | 179/490 [01:01<01:29,  3.48it/s]"
     ]
    },
    {
     "name": "stdout",
     "output_type": "stream",
     "text": [
      "\"['propertyplantandequipmentnet'] not in index\"\n"
     ]
    },
    {
     "name": "stderr",
     "output_type": "stream",
     "text": [
      "\r",
      " 37%|██████████████████████████████████████████████████████████████                                                                                                           | 180/490 [01:02<01:43,  3.01it/s]"
     ]
    },
    {
     "name": "stdout",
     "output_type": "stream",
     "text": [
      "\"['propertyplantandequipmentnet'] not in index\"\n"
     ]
    },
    {
     "name": "stderr",
     "output_type": "stream",
     "text": [
      " 37%|███████████████████████████████████████████████████████████████                                                                                                          | 183/490 [01:04<02:21,  2.17it/s]"
     ]
    },
    {
     "name": "stdout",
     "output_type": "stream",
     "text": [
      "\"['entitycommonstocksharesoutstanding'] not in index\"\n"
     ]
    },
    {
     "name": "stderr",
     "output_type": "stream",
     "text": [
      " 38%|████████████████████████████████████████████████████████████████▏                                                                                                        | 186/490 [01:05<01:42,  2.98it/s]"
     ]
    },
    {
     "name": "stdout",
     "output_type": "stream",
     "text": [
      "\"['stockholdersequity'] not in index\"\n"
     ]
    },
    {
     "name": "stderr",
     "output_type": "stream",
     "text": [
      " 39%|█████████████████████████████████████████████████████████████████▏                                                                                                       | 189/490 [01:06<01:20,  3.76it/s]"
     ]
    },
    {
     "name": "stdout",
     "output_type": "stream",
     "text": [
      "\"['incometaxexpensebenefit', 'retainedearningsaccumulateddeficit', 'propertyplantandequipmentnet'] not in index\"\n"
     ]
    },
    {
     "name": "stderr",
     "output_type": "stream",
     "text": [
      " 39%|█████████████████████████████████████████████████████████████████▉                                                                                                       | 191/490 [01:07<02:05,  2.38it/s]"
     ]
    },
    {
     "name": "stdout",
     "output_type": "stream",
     "text": [
      "\"['cashandcashequivalentsatcarryingvalue'] not in index\"\n"
     ]
    },
    {
     "name": "stderr",
     "output_type": "stream",
     "text": [
      " 40%|███████████████████████████████████████████████████████████████████▉                                                                                                     | 197/490 [01:09<01:40,  2.92it/s]"
     ]
    },
    {
     "name": "stdout",
     "output_type": "stream",
     "text": [
      "\"['entitycommonstocksharesoutstanding'] not in index\"\n"
     ]
    },
    {
     "name": "stderr",
     "output_type": "stream",
     "text": [
      " 43%|█████████████████████████████████████████████████████████████████████████                                                                                                | 212/490 [01:14<01:58,  2.35it/s]"
     ]
    },
    {
     "name": "stdout",
     "output_type": "stream",
     "text": [
      "\"['propertyplantandequipmentnet'] not in index\"\n"
     ]
    },
    {
     "name": "stderr",
     "output_type": "stream",
     "text": [
      " 44%|██████████████████████████████████████████████████████████████████████████▍                                                                                              | 216/490 [01:16<02:21,  1.93it/s]"
     ]
    },
    {
     "name": "stdout",
     "output_type": "stream",
     "text": [
      "\"['cashandcashequivalentsatcarryingvalue'] not in index\"\n"
     ]
    },
    {
     "name": "stderr",
     "output_type": "stream",
     "text": [
      " 45%|███████████████████████████████████████████████████████████████████████████▌                                                                                             | 219/490 [01:17<01:56,  2.33it/s]"
     ]
    },
    {
     "name": "stdout",
     "output_type": "stream",
     "text": [
      "\"['retainedearningsaccumulateddeficit', 'propertyplantandequipmentnet'] not in index\"\n"
     ]
    },
    {
     "name": "stderr",
     "output_type": "stream",
     "text": [
      " 45%|████████████████████████████████████████████████████████████████████████████▏                                                                                            | 221/490 [01:18<01:44,  2.57it/s]"
     ]
    },
    {
     "name": "stdout",
     "output_type": "stream",
     "text": [
      "\"['earningspersharebasic', 'earningspersharediluted'] not in index\"\n"
     ]
    },
    {
     "name": "stderr",
     "output_type": "stream",
     "text": [
      " 47%|██████████████████████████████████████████████████████████████████████████████▋                                                                                          | 228/490 [01:21<01:21,  3.20it/s]"
     ]
    },
    {
     "name": "stdout",
     "output_type": "stream",
     "text": [
      "\"['entitycommonstocksharesoutstanding'] not in index\"\n"
     ]
    },
    {
     "name": "stderr",
     "output_type": "stream",
     "text": [
      " 49%|██████████████████████████████████████████████████████████████████████████████████                                                                                       | 238/490 [01:24<01:21,  3.11it/s]"
     ]
    },
    {
     "name": "stdout",
     "output_type": "stream",
     "text": [
      "\"['stockholdersequity'] not in index\"\n"
     ]
    },
    {
     "name": "stderr",
     "output_type": "stream",
     "text": [
      " 52%|███████████████████████████████████████████████████████████████████████████████████████▌                                                                                 | 254/490 [01:29<00:59,  3.97it/s]"
     ]
    },
    {
     "name": "stdout",
     "output_type": "stream",
     "text": [
      "\"['accumulatedothercomprehensiveincomelossnetoftax'] not in index\"\n",
      "\"['accumulatedothercomprehensiveincomelossnetoftax'] not in index\"\n"
     ]
    },
    {
     "name": "stderr",
     "output_type": "stream",
     "text": [
      " 52%|████████████████████████████████████████████████████████████████████████████████████████▎                                                                                | 256/490 [01:29<01:04,  3.62it/s]"
     ]
    },
    {
     "name": "stdout",
     "output_type": "stream",
     "text": [
      "\"['stockholdersequity'] not in index\"\n"
     ]
    },
    {
     "name": "stderr",
     "output_type": "stream",
     "text": [
      " 53%|██████████████████████████████████████████████████████████████████████████████████████████                                                                               | 261/490 [01:32<01:53,  2.02it/s]"
     ]
    },
    {
     "name": "stdout",
     "output_type": "stream",
     "text": [
      "\"['cashandcashequivalentsatcarryingvalue'] not in index\"\n"
     ]
    },
    {
     "name": "stderr",
     "output_type": "stream",
     "text": [
      " 54%|███████████████████████████████████████████████████████████████████████████████████████████                                                                              | 264/490 [01:33<01:33,  2.42it/s]"
     ]
    },
    {
     "name": "stdout",
     "output_type": "stream",
     "text": [
      "\"['propertyplantandequipmentnet'] not in index\"\n"
     ]
    },
    {
     "name": "stderr",
     "output_type": "stream",
     "text": [
      " 56%|██████████████████████████████████████████████████████████████████████████████████████████████▊                                                                          | 275/490 [01:37<01:12,  2.96it/s]"
     ]
    },
    {
     "name": "stdout",
     "output_type": "stream",
     "text": [
      "\"['entitycommonstocksharesoutstanding'] not in index\"\n"
     ]
    },
    {
     "name": "stderr",
     "output_type": "stream",
     "text": [
      " 57%|███████████████████████████████████████████████████████████████████████████████████████████████▌                                                                         | 277/490 [01:38<01:11,  2.98it/s]"
     ]
    },
    {
     "name": "stdout",
     "output_type": "stream",
     "text": [
      "\"['propertyplantandequipmentnet'] not in index\"\n"
     ]
    },
    {
     "name": "stderr",
     "output_type": "stream",
     "text": [
      " 57%|████████████████████████████████████████████████████████████████████████████████████████████████▉                                                                        | 281/490 [01:40<01:28,  2.37it/s]"
     ]
    },
    {
     "name": "stdout",
     "output_type": "stream",
     "text": [
      "\"['cashandcashequivalentsatcarryingvalue'] not in index\"\n"
     ]
    },
    {
     "name": "stderr",
     "output_type": "stream",
     "text": [
      " 60%|█████████████████████████████████████████████████████████████████████████████████████████████████████                                                                    | 293/490 [01:44<01:08,  2.86it/s]"
     ]
    },
    {
     "name": "stdout",
     "output_type": "stream",
     "text": [
      "\"['entitycommonstocksharesoutstanding'] not in index\"\n"
     ]
    },
    {
     "name": "stderr",
     "output_type": "stream",
     "text": [
      " 60%|██████████████████████████████████████████████████████████████████████████████████████████████████████                                                                   | 296/490 [01:45<00:57,  3.39it/s]"
     ]
    },
    {
     "name": "stdout",
     "output_type": "stream",
     "text": [
      "\"['entitycommonstocksharesoutstanding'] not in index\"\n"
     ]
    },
    {
     "name": "stderr",
     "output_type": "stream",
     "text": [
      " 61%|███████████████████████████████████████████████████████████████████████████████████████████████████████▍                                                                 | 300/490 [01:46<00:57,  3.30it/s]"
     ]
    },
    {
     "name": "stdout",
     "output_type": "stream",
     "text": [
      "\"['entitycommonstocksharesoutstanding'] not in index\"\n"
     ]
    },
    {
     "name": "stderr",
     "output_type": "stream",
     "text": [
      "\r",
      " 61%|███████████████████████████████████████████████████████████████████████████████████████████████████████▊                                                                 | 301/490 [01:47<01:29,  2.11it/s]"
     ]
    },
    {
     "name": "stdout",
     "output_type": "stream",
     "text": [
      "\"['propertyplantandequipmentnet'] not in index\"\n"
     ]
    },
    {
     "name": "stderr",
     "output_type": "stream",
     "text": [
      " 63%|██████████████████████████████████████████████████████████████████████████████████████████████████████████▏                                                              | 308/490 [01:49<00:47,  3.83it/s]"
     ]
    },
    {
     "name": "stdout",
     "output_type": "stream",
     "text": [
      "\"['retainedearningsaccumulateddeficit', 'propertyplantandequipmentnet'] not in index\"\n"
     ]
    },
    {
     "name": "stderr",
     "output_type": "stream",
     "text": [
      " 63%|███████████████████████████████████████████████████████████████████████████████████████████████████████████▎                                                             | 311/490 [01:50<00:59,  3.01it/s]"
     ]
    },
    {
     "name": "stdout",
     "output_type": "stream",
     "text": [
      "\"['entitycommonstocksharesoutstanding'] not in index\"\n"
     ]
    },
    {
     "name": "stderr",
     "output_type": "stream",
     "text": [
      " 64%|████████████████████████████████████████████████████████████████████████████████████████████████████████████▎                                                            | 314/490 [01:51<00:49,  3.56it/s]"
     ]
    },
    {
     "name": "stdout",
     "output_type": "stream",
     "text": [
      "\"['earningspersharebasic', 'earningspersharediluted'] not in index\"\n"
     ]
    },
    {
     "name": "stderr",
     "output_type": "stream",
     "text": [
      " 66%|████████████████████████████████████████████████████████████████████████████████████████████████████████████████                                                         | 325/490 [01:55<00:57,  2.85it/s]"
     ]
    },
    {
     "name": "stdout",
     "output_type": "stream",
     "text": [
      "\"['entitycommonstocksharesoutstanding'] not in index\"\n"
     ]
    },
    {
     "name": "stderr",
     "output_type": "stream",
     "text": [
      " 68%|██████████████████████████████████████████████████████████████████████████████████████████████████████████████████▏                                                      | 331/490 [01:57<00:58,  2.73it/s]"
     ]
    },
    {
     "name": "stdout",
     "output_type": "stream",
     "text": [
      "\"['cashandcashequivalentsatcarryingvalue'] not in index\"\n"
     ]
    },
    {
     "name": "stderr",
     "output_type": "stream",
     "text": [
      " 68%|███████████████████████████████████████████████████████████████████████████████████████████████████████████████████▌                                                     | 335/490 [01:59<00:58,  2.67it/s]"
     ]
    },
    {
     "name": "stdout",
     "output_type": "stream",
     "text": [
      "\"['stockholdersequity'] not in index\"\n"
     ]
    },
    {
     "name": "stderr",
     "output_type": "stream",
     "text": [
      " 69%|████████████████████████████████████████████████████████████████████████████████████████████████████████████████████▌                                                    | 338/490 [02:00<00:49,  3.07it/s]"
     ]
    },
    {
     "name": "stdout",
     "output_type": "stream",
     "text": [
      "\"['accumulatedothercomprehensiveincomelossnetoftax', 'propertyplantandequipmentnet'] not in index\"\n"
     ]
    },
    {
     "name": "stderr",
     "output_type": "stream",
     "text": [
      " 70%|█████████████████████████████████████████████████████████████████████████████████████████████████████████████████████▉                                                   | 342/490 [02:01<00:38,  3.86it/s]"
     ]
    },
    {
     "name": "stdout",
     "output_type": "stream",
     "text": [
      "\"['accumulatedothercomprehensiveincomelossnetoftax'] not in index\"\n"
     ]
    },
    {
     "name": "stderr",
     "output_type": "stream",
     "text": [
      " 71%|████████████████████████████████████████████████████████████████████████████████████████████████████████████████████████▋                                                | 350/490 [02:03<00:40,  3.42it/s]"
     ]
    },
    {
     "name": "stdout",
     "output_type": "stream",
     "text": [
      "\"['entitycommonstocksharesoutstanding'] not in index\"\n"
     ]
    },
    {
     "name": "stderr",
     "output_type": "stream",
     "text": [
      " 74%|█████████████████████████████████████████████████████████████████████████████████████████████████████████████████████████████▏                                           | 363/490 [02:07<00:44,  2.89it/s]"
     ]
    },
    {
     "name": "stdout",
     "output_type": "stream",
     "text": [
      "\"['accumulatedothercomprehensiveincomelossnetoftax'] not in index\"\n"
     ]
    },
    {
     "name": "stderr",
     "output_type": "stream",
     "text": [
      " 74%|█████████████████████████████████████████████████████████████████████████████████████████████████████████████████████████████▉                                           | 365/490 [02:08<00:46,  2.71it/s]"
     ]
    },
    {
     "name": "stdout",
     "output_type": "stream",
     "text": [
      "\"['cashandcashequivalentsatcarryingvalue'] not in index\"\n"
     ]
    },
    {
     "name": "stderr",
     "output_type": "stream",
     "text": [
      " 75%|███████████████████████████████████████████████████████████████████████████████████████████████████████████████████████████████▎                                         | 369/490 [02:09<00:49,  2.44it/s]"
     ]
    },
    {
     "name": "stdout",
     "output_type": "stream",
     "text": [
      "\"['stockholdersequity'] not in index\"\n"
     ]
    },
    {
     "name": "stderr",
     "output_type": "stream",
     "text": [
      "\r",
      " 76%|███████████████████████████████████████████████████████████████████████████████████████████████████████████████████████████████▌                                         | 370/490 [02:10<00:47,  2.51it/s]"
     ]
    },
    {
     "name": "stdout",
     "output_type": "stream",
     "text": [
      "\"['cashandcashequivalentsatcarryingvalue'] not in index\"\n"
     ]
    },
    {
     "name": "stderr",
     "output_type": "stream",
     "text": [
      " 76%|████████████████████████████████████████████████████████████████████████████████████████████████████████████████████████████████▋                                        | 373/490 [02:11<00:55,  2.09it/s]"
     ]
    },
    {
     "name": "stdout",
     "output_type": "stream",
     "text": [
      "\"['propertyplantandequipmentnet'] not in index\"\n"
     ]
    },
    {
     "name": "stderr",
     "output_type": "stream",
     "text": [
      " 77%|█████████████████████████████████████████████████████████████████████████████████████████████████████████████████████████████████▎                                       | 375/490 [02:12<00:45,  2.53it/s]"
     ]
    },
    {
     "name": "stdout",
     "output_type": "stream",
     "text": [
      "\"['propertyplantandequipmentnet'] not in index\"\n"
     ]
    },
    {
     "name": "stderr",
     "output_type": "stream",
     "text": [
      " 78%|███████████████████████████████████████████████████████████████████████████████████████████████████████████████████████████████████▊                                     | 382/490 [02:14<00:36,  3.00it/s]"
     ]
    },
    {
     "name": "stdout",
     "output_type": "stream",
     "text": [
      "\"['entitycommonstocksharesoutstanding'] not in index\"\n"
     ]
    },
    {
     "name": "stderr",
     "output_type": "stream",
     "text": [
      " 79%|████████████████████████████████████████████████████████████████████████████████████████████████████████████████████████████████████▊                                    | 385/490 [02:16<00:42,  2.46it/s]"
     ]
    },
    {
     "name": "stdout",
     "output_type": "stream",
     "text": [
      "\"['retainedearningsaccumulateddeficit', 'propertyplantandequipmentnet'] not in index\"\n"
     ]
    },
    {
     "name": "stderr",
     "output_type": "stream",
     "text": [
      "\r",
      " 79%|█████████████████████████████████████████████████████████████████████████████████████████████████████████████████████████████████████▏                                   | 386/490 [02:16<00:40,  2.55it/s]"
     ]
    },
    {
     "name": "stdout",
     "output_type": "stream",
     "text": [
      "\"['retainedearningsaccumulateddeficit'] not in index\"\n"
     ]
    },
    {
     "name": "stderr",
     "output_type": "stream",
     "text": [
      " 83%|████████████████████████████████████████████████████████████████████████████████████████████████████████████████████████████████████████████                             | 406/490 [02:23<00:33,  2.47it/s]"
     ]
    },
    {
     "name": "stdout",
     "output_type": "stream",
     "text": [
      "\"['propertyplantandequipmentnet', 'entitycommonstocksharesoutstanding'] not in index\"\n"
     ]
    },
    {
     "name": "stderr",
     "output_type": "stream",
     "text": [
      " 85%|███████████████████████████████████████████████████████████████████████████████████████████████████████████████████████████████████████████████▏                         | 415/490 [02:27<00:35,  2.14it/s]"
     ]
    },
    {
     "name": "stdout",
     "output_type": "stream",
     "text": [
      "\"['cashandcashequivalentsatcarryingvalue'] not in index\"\n"
     ]
    },
    {
     "name": "stderr",
     "output_type": "stream",
     "text": [
      " 85%|████████████████████████████████████████████████████████████████████████████████████████████████████████████████████████████████████████████████▏                        | 418/490 [02:28<00:21,  3.42it/s]"
     ]
    },
    {
     "name": "stdout",
     "output_type": "stream",
     "text": [
      "\"['accumulatedothercomprehensiveincomelossnetoftax', 'propertyplantandequipmentnet'] not in index\"\n"
     ]
    },
    {
     "name": "stderr",
     "output_type": "stream",
     "text": [
      " 86%|████████████████████████████████████████████████████████████████████████████████████████████████████████████████████████████████████████████████▊                        | 420/490 [02:28<00:18,  3.72it/s]"
     ]
    },
    {
     "name": "stdout",
     "output_type": "stream",
     "text": [
      "\"['retainedearningsaccumulateddeficit'] not in index\"\n"
     ]
    },
    {
     "name": "stderr",
     "output_type": "stream",
     "text": [
      " 86%|█████████████████████████████████████████████████████████████████████████████████████████████████████████████████████████████████████████████████▌                       | 422/490 [02:29<00:18,  3.62it/s]"
     ]
    },
    {
     "name": "stdout",
     "output_type": "stream",
     "text": [
      "\"['retainedearningsaccumulateddeficit'] not in index\"\n"
     ]
    },
    {
     "name": "stderr",
     "output_type": "stream",
     "text": [
      " 89%|███████████████████████████████████████████████████████████████████████████████████████████████████████████████████████████████████████████████████████                  | 438/490 [02:34<00:15,  3.34it/s]"
     ]
    },
    {
     "name": "stdout",
     "output_type": "stream",
     "text": [
      "\"['propertyplantandequipmentnet', 'cashandcashequivalentsatcarryingvalue'] not in index\"\n"
     ]
    },
    {
     "name": "stderr",
     "output_type": "stream",
     "text": [
      " 90%|███████████████████████████████████████████████████████████████████████████████████████████████████████████████████████████████████████████████████████▊                 | 440/490 [02:35<00:17,  2.91it/s]"
     ]
    },
    {
     "name": "stdout",
     "output_type": "stream",
     "text": [
      "\"['stockholdersequity'] not in index\"\n"
     ]
    },
    {
     "name": "stderr",
     "output_type": "stream",
     "text": [
      " 90%|████████████████████████████████████████████████████████████████████████████████████████████████████████████████████████████████████████████████████████▊                | 443/490 [02:35<00:12,  3.65it/s]"
     ]
    },
    {
     "name": "stdout",
     "output_type": "stream",
     "text": [
      "\"['earningspersharebasic', 'entitycommonstocksharesoutstanding', 'weightedaveragenumberofsharesoutstandingbasic'] not in index\"\n"
     ]
    },
    {
     "name": "stderr",
     "output_type": "stream",
     "text": [
      " 91%|█████████████████████████████████████████████████████████████████████████████████████████████████████████████████████████████████████████████████████████▊               | 446/490 [02:37<00:15,  2.81it/s]"
     ]
    },
    {
     "name": "stdout",
     "output_type": "stream",
     "text": [
      "\"['retainedearningsaccumulateddeficit', 'propertyplantandequipmentnet'] not in index\"\n"
     ]
    },
    {
     "name": "stderr",
     "output_type": "stream",
     "text": [
      "\r",
      " 91%|██████████████████████████████████████████████████████████████████████████████████████████████████████████████████████████████████████████████████████████▏              | 447/490 [02:37<00:13,  3.17it/s]"
     ]
    },
    {
     "name": "stdout",
     "output_type": "stream",
     "text": [
      "\"['entitycommonstocksharesoutstanding'] not in index\"\n"
     ]
    },
    {
     "name": "stderr",
     "output_type": "stream",
     "text": [
      " 92%|███████████████████████████████████████████████████████████████████████████████████████████████████████████████████████████████████████████████████████████▏             | 450/490 [02:38<00:12,  3.12it/s]"
     ]
    },
    {
     "name": "stdout",
     "output_type": "stream",
     "text": [
      "\"['entitycommonstocksharesoutstanding'] not in index\"\n"
     ]
    },
    {
     "name": "stderr",
     "output_type": "stream",
     "text": [
      " 92%|████████████████████████████████████████████████████████████████████████████████████████████████████████████████████████████████████████████████████████████▏            | 453/490 [02:39<00:11,  3.31it/s]"
     ]
    },
    {
     "name": "stdout",
     "output_type": "stream",
     "text": [
      "\"['entitycommonstocksharesoutstanding'] not in index\"\n"
     ]
    },
    {
     "name": "stderr",
     "output_type": "stream",
     "text": [
      " 93%|████████████████████████████████████████████████████████████████████████████████████████████████████████████████████████████████████████████████████████████▉            | 455/490 [02:39<00:11,  3.01it/s]"
     ]
    },
    {
     "name": "stdout",
     "output_type": "stream",
     "text": [
      "\"['propertyplantandequipmentnet'] not in index\"\n"
     ]
    },
    {
     "name": "stderr",
     "output_type": "stream",
     "text": [
      " 94%|███████████████████████████████████████████████████████████████████████████████████████████████████████████████████████████████████████████████████████████████▋         | 463/490 [02:42<00:08,  3.31it/s]"
     ]
    },
    {
     "name": "stdout",
     "output_type": "stream",
     "text": [
      "\"['earningspersharebasic', 'earningspersharediluted', 'entitycommonstocksharesoutstanding', 'weightedaveragenumberofdilutedsharesoutstanding', 'weightedaveragenumberofsharesoutstandingbasic', 'stockholdersequity'] not in index\"\n"
     ]
    },
    {
     "name": "stderr",
     "output_type": "stream",
     "text": [
      "\r",
      " 95%|████████████████████████████████████████████████████████████████████████████████████████████████████████████████████████████████████████████████████████████████         | 464/490 [02:42<00:08,  3.19it/s]"
     ]
    },
    {
     "name": "stdout",
     "output_type": "stream",
     "text": [
      "\"['propertyplantandequipmentnet'] not in index\"\n"
     ]
    },
    {
     "name": "stderr",
     "output_type": "stream",
     "text": [
      " 97%|███████████████████████████████████████████████████████████████████████████████████████████████████████████████████████████████████████████████████████████████████▏     | 473/490 [02:46<00:08,  2.00it/s]"
     ]
    },
    {
     "name": "stdout",
     "output_type": "stream",
     "text": [
      "\"['cashandcashequivalentsatcarryingvalue'] not in index\"\n"
     ]
    },
    {
     "name": "stderr",
     "output_type": "stream",
     "text": [
      "\r",
      " 97%|███████████████████████████████████████████████████████████████████████████████████████████████████████████████████████████████████████████████████████████████████▍     | 474/490 [02:47<00:07,  2.08it/s]"
     ]
    },
    {
     "name": "stdout",
     "output_type": "stream",
     "text": [
      "\"['propertyplantandequipmentnet'] not in index\"\n"
     ]
    },
    {
     "name": "stderr",
     "output_type": "stream",
     "text": [
      "100%|████████████████████████████████████████████████████████████████████████████████████████████████████████████████████████████████████████████████████████████████████████▋| 489/490 [02:52<00:00,  1.90it/s]"
     ]
    },
    {
     "name": "stdout",
     "output_type": "stream",
     "text": [
      "\"['cashandcashequivalentsatcarryingvalue'] not in index\"\n"
     ]
    },
    {
     "name": "stderr",
     "output_type": "stream",
     "text": [
      "100%|█████████████████████████████████████████████████████████████████████████████████████████████████████████████████████████████████████████████████████████████████████████| 490/490 [02:52<00:00,  2.83it/s]\n"
     ]
    }
   ],
   "source": [
    "market.connect()\n",
    "sec.connect()\n",
    "training_sets = []\n",
    "for ticker in tqdm(sp500[\"ticker\"].unique()):\n",
    "    try:\n",
    "        cik = int(sp500[sp500[\"ticker\"]==ticker][\"CIK\"])\n",
    "        prices = market.retrieve_ticker_prices(classifier_class.asset_class.value,ticker)\n",
    "        prices = p.column_date_processing(prices)\n",
    "        filing = sec.retrieve_filing_data(cik)\n",
    "        filing = p.column_date_processing(filing)\n",
    "        ticker_data = classifier_class.training_set(ticker,prices,filing,False)\n",
    "        training_sets.append(ticker_data)\n",
    "    except Exception as e:\n",
    "        print(str(e))\n",
    "        continue\n",
    "market.disconnect()\n",
    "sec.disconnect()\n",
    "data = pd.concat(training_sets)\n",
    "training_data = data.dropna().copy().sort_values([\"year\",\"quarter\"])"
   ]
  },
  {
   "cell_type": "code",
   "execution_count": 16,
   "id": "dd5ef196",
   "metadata": {},
   "outputs": [
    {
     "data": {
      "text/html": [
       "<div>\n",
       "<style scoped>\n",
       "    .dataframe tbody tr th:only-of-type {\n",
       "        vertical-align: middle;\n",
       "    }\n",
       "\n",
       "    .dataframe tbody tr th {\n",
       "        vertical-align: top;\n",
       "    }\n",
       "\n",
       "    .dataframe thead th {\n",
       "        text-align: right;\n",
       "    }\n",
       "</style>\n",
       "<table border=\"1\" class=\"dataframe\">\n",
       "  <thead>\n",
       "    <tr style=\"text-align: right;\">\n",
       "      <th></th>\n",
       "      <th>assets</th>\n",
       "      <th>liabilitiesandstockholdersequity</th>\n",
       "      <th>incometaxexpensebenefit</th>\n",
       "      <th>retainedearningsaccumulateddeficit</th>\n",
       "      <th>accumulatedothercomprehensiveincomelossnetoftax</th>\n",
       "      <th>earningspersharebasic</th>\n",
       "      <th>earningspersharediluted</th>\n",
       "      <th>propertyplantandequipmentnet</th>\n",
       "      <th>cashandcashequivalentsatcarryingvalue</th>\n",
       "      <th>entitycommonstocksharesoutstanding</th>\n",
       "      <th>weightedaveragenumberofdilutedsharesoutstanding</th>\n",
       "      <th>weightedaveragenumberofsharesoutstandingbasic</th>\n",
       "      <th>stockholdersequity</th>\n",
       "      <th>year</th>\n",
       "      <th>quarter</th>\n",
       "      <th>ticker</th>\n",
       "      <th>adjclose</th>\n",
       "      <th>y</th>\n",
       "    </tr>\n",
       "  </thead>\n",
       "  <tbody>\n",
       "    <tr>\n",
       "      <th>48</th>\n",
       "      <td>2.967400e+10</td>\n",
       "      <td>3.088600e+10</td>\n",
       "      <td>1.551333e+09</td>\n",
       "      <td>2.717150e+10</td>\n",
       "      <td>-4.284000e+09</td>\n",
       "      <td>2.555455</td>\n",
       "      <td>2.519091</td>\n",
       "      <td>7.472500e+09</td>\n",
       "      <td>2.621250e+09</td>\n",
       "      <td>6.945438e+08</td>\n",
       "      <td>7.170667e+08</td>\n",
       "      <td>7.075667e+08</td>\n",
       "      <td>1.554150e+10</td>\n",
       "      <td>2012</td>\n",
       "      <td>1</td>\n",
       "      <td>MMM</td>\n",
       "      <td>62.705929</td>\n",
       "      <td>True</td>\n",
       "    </tr>\n",
       "    <tr>\n",
       "      <th>48</th>\n",
       "      <td>5.781079e+10</td>\n",
       "      <td>5.781079e+10</td>\n",
       "      <td>1.001597e+09</td>\n",
       "      <td>1.915527e+10</td>\n",
       "      <td>-1.036652e+09</td>\n",
       "      <td>1.295333</td>\n",
       "      <td>1.286000</td>\n",
       "      <td>7.821467e+09</td>\n",
       "      <td>5.845638e+09</td>\n",
       "      <td>1.572357e+09</td>\n",
       "      <td>1.559512e+09</td>\n",
       "      <td>1.550342e+09</td>\n",
       "      <td>2.342031e+10</td>\n",
       "      <td>2012</td>\n",
       "      <td>1</td>\n",
       "      <td>ABT</td>\n",
       "      <td>21.876468</td>\n",
       "      <td>True</td>\n",
       "    </tr>\n",
       "    <tr>\n",
       "      <th>48</th>\n",
       "      <td>1.361070e+08</td>\n",
       "      <td>1.361070e+08</td>\n",
       "      <td>4.665000e+05</td>\n",
       "      <td>-2.753060e+08</td>\n",
       "      <td>-1.145500e+06</td>\n",
       "      <td>-0.060000</td>\n",
       "      <td>-0.062500</td>\n",
       "      <td>6.343000e+06</td>\n",
       "      <td>4.976000e+06</td>\n",
       "      <td>3.899407e+07</td>\n",
       "      <td>3.820800e+07</td>\n",
       "      <td>3.776500e+07</td>\n",
       "      <td>1.112605e+08</td>\n",
       "      <td>2012</td>\n",
       "      <td>1</td>\n",
       "      <td>ABMD</td>\n",
       "      <td>20.784597</td>\n",
       "      <td>False</td>\n",
       "    </tr>\n",
       "    <tr>\n",
       "      <th>48</th>\n",
       "      <td>8.814056e+09</td>\n",
       "      <td>8.814056e+09</td>\n",
       "      <td>1.484770e+08</td>\n",
       "      <td>6.383864e+09</td>\n",
       "      <td>3.101900e+07</td>\n",
       "      <td>0.530909</td>\n",
       "      <td>0.525227</td>\n",
       "      <td>5.135792e+08</td>\n",
       "      <td>8.832672e+08</td>\n",
       "      <td>4.949645e+08</td>\n",
       "      <td>5.129899e+08</td>\n",
       "      <td>5.063682e+08</td>\n",
       "      <td>5.476906e+09</td>\n",
       "      <td>2012</td>\n",
       "      <td>1</td>\n",
       "      <td>ADBE</td>\n",
       "      <td>32.043629</td>\n",
       "      <td>True</td>\n",
       "    </tr>\n",
       "    <tr>\n",
       "      <th>48</th>\n",
       "      <td>3.336135e+10</td>\n",
       "      <td>3.336135e+10</td>\n",
       "      <td>2.682250e+08</td>\n",
       "      <td>1.195825e+10</td>\n",
       "      <td>3.533000e+08</td>\n",
       "      <td>0.997500</td>\n",
       "      <td>0.987500</td>\n",
       "      <td>7.120500e+08</td>\n",
       "      <td>1.417425e+09</td>\n",
       "      <td>4.905759e+08</td>\n",
       "      <td>4.945000e+08</td>\n",
       "      <td>4.894250e+08</td>\n",
       "      <td>6.096400e+09</td>\n",
       "      <td>2012</td>\n",
       "      <td>1</td>\n",
       "      <td>ADP</td>\n",
       "      <td>37.387025</td>\n",
       "      <td>True</td>\n",
       "    </tr>\n",
       "    <tr>\n",
       "      <th>...</th>\n",
       "      <td>...</td>\n",
       "      <td>...</td>\n",
       "      <td>...</td>\n",
       "      <td>...</td>\n",
       "      <td>...</td>\n",
       "      <td>...</td>\n",
       "      <td>...</td>\n",
       "      <td>...</td>\n",
       "      <td>...</td>\n",
       "      <td>...</td>\n",
       "      <td>...</td>\n",
       "      <td>...</td>\n",
       "      <td>...</td>\n",
       "      <td>...</td>\n",
       "      <td>...</td>\n",
       "      <td>...</td>\n",
       "      <td>...</td>\n",
       "      <td>...</td>\n",
       "    </tr>\n",
       "    <tr>\n",
       "      <th>92</th>\n",
       "      <td>7.090000e+09</td>\n",
       "      <td>7.090000e+09</td>\n",
       "      <td>3.653333e+08</td>\n",
       "      <td>1.010000e+10</td>\n",
       "      <td>-1.380000e+08</td>\n",
       "      <td>21.013333</td>\n",
       "      <td>20.906667</td>\n",
       "      <td>1.442500e+09</td>\n",
       "      <td>2.830000e+08</td>\n",
       "      <td>5.019927e+07</td>\n",
       "      <td>5.233333e+07</td>\n",
       "      <td>5.210000e+07</td>\n",
       "      <td>2.157000e+09</td>\n",
       "      <td>2023</td>\n",
       "      <td>1</td>\n",
       "      <td>GWW</td>\n",
       "      <td>637.035881</td>\n",
       "      <td>False</td>\n",
       "    </tr>\n",
       "    <tr>\n",
       "      <th>81</th>\n",
       "      <td>8.003275e+09</td>\n",
       "      <td>1.297296e+10</td>\n",
       "      <td>1.914923e+08</td>\n",
       "      <td>-2.499943e+09</td>\n",
       "      <td>2.800000e+06</td>\n",
       "      <td>-9.913333</td>\n",
       "      <td>-9.913333</td>\n",
       "      <td>7.830684e+09</td>\n",
       "      <td>3.086485e+09</td>\n",
       "      <td>1.136878e+08</td>\n",
       "      <td>1.113760e+08</td>\n",
       "      <td>1.113760e+08</td>\n",
       "      <td>-4.826280e+08</td>\n",
       "      <td>2023</td>\n",
       "      <td>1</td>\n",
       "      <td>WYNN</td>\n",
       "      <td>104.590726</td>\n",
       "      <td>False</td>\n",
       "    </tr>\n",
       "    <tr>\n",
       "      <th>45</th>\n",
       "      <td>8.326000e+09</td>\n",
       "      <td>8.114000e+09</td>\n",
       "      <td>6.666667e+07</td>\n",
       "      <td>2.223000e+09</td>\n",
       "      <td>-2.985000e+08</td>\n",
       "      <td>1.916667</td>\n",
       "      <td>1.903333</td>\n",
       "      <td>6.370000e+08</td>\n",
       "      <td>1.146500e+09</td>\n",
       "      <td>1.802784e+08</td>\n",
       "      <td>1.812013e+08</td>\n",
       "      <td>1.801933e+08</td>\n",
       "      <td>3.356000e+09</td>\n",
       "      <td>2023</td>\n",
       "      <td>1</td>\n",
       "      <td>XYL</td>\n",
       "      <td>104.252934</td>\n",
       "      <td>False</td>\n",
       "    </tr>\n",
       "    <tr>\n",
       "      <th>92</th>\n",
       "      <td>6.872000e+09</td>\n",
       "      <td>6.872000e+09</td>\n",
       "      <td>8.933333e+07</td>\n",
       "      <td>3.804500e+09</td>\n",
       "      <td>-4.750000e+07</td>\n",
       "      <td>11.316667</td>\n",
       "      <td>11.223333</td>\n",
       "      <td>2.750000e+08</td>\n",
       "      <td>2.016667e+08</td>\n",
       "      <td>5.140474e+07</td>\n",
       "      <td>5.345813e+07</td>\n",
       "      <td>5.303189e+07</td>\n",
       "      <td>2.425000e+09</td>\n",
       "      <td>2023</td>\n",
       "      <td>1</td>\n",
       "      <td>ZBRA</td>\n",
       "      <td>302.155806</td>\n",
       "      <td>False</td>\n",
       "    </tr>\n",
       "    <tr>\n",
       "      <th>86</th>\n",
       "      <td>2.226120e+10</td>\n",
       "      <td>2.226120e+10</td>\n",
       "      <td>2.326667e+07</td>\n",
       "      <td>9.925750e+09</td>\n",
       "      <td>-2.054500e+08</td>\n",
       "      <td>0.786667</td>\n",
       "      <td>0.780000</td>\n",
       "      <td>1.854550e+09</td>\n",
       "      <td>3.769000e+08</td>\n",
       "      <td>2.089803e+08</td>\n",
       "      <td>2.092333e+08</td>\n",
       "      <td>2.084000e+08</td>\n",
       "      <td>1.234050e+10</td>\n",
       "      <td>2023</td>\n",
       "      <td>1</td>\n",
       "      <td>ZBH</td>\n",
       "      <td>125.327806</td>\n",
       "      <td>False</td>\n",
       "    </tr>\n",
       "  </tbody>\n",
       "</table>\n",
       "<p>12305 rows × 18 columns</p>\n",
       "</div>"
      ],
      "text/plain": [
       "          assets  liabilitiesandstockholdersequity  incometaxexpensebenefit  \\\n",
       "48  2.967400e+10                      3.088600e+10             1.551333e+09   \n",
       "48  5.781079e+10                      5.781079e+10             1.001597e+09   \n",
       "48  1.361070e+08                      1.361070e+08             4.665000e+05   \n",
       "48  8.814056e+09                      8.814056e+09             1.484770e+08   \n",
       "48  3.336135e+10                      3.336135e+10             2.682250e+08   \n",
       "..           ...                               ...                      ...   \n",
       "92  7.090000e+09                      7.090000e+09             3.653333e+08   \n",
       "81  8.003275e+09                      1.297296e+10             1.914923e+08   \n",
       "45  8.326000e+09                      8.114000e+09             6.666667e+07   \n",
       "92  6.872000e+09                      6.872000e+09             8.933333e+07   \n",
       "86  2.226120e+10                      2.226120e+10             2.326667e+07   \n",
       "\n",
       "    retainedearningsaccumulateddeficit  \\\n",
       "48                        2.717150e+10   \n",
       "48                        1.915527e+10   \n",
       "48                       -2.753060e+08   \n",
       "48                        6.383864e+09   \n",
       "48                        1.195825e+10   \n",
       "..                                 ...   \n",
       "92                        1.010000e+10   \n",
       "81                       -2.499943e+09   \n",
       "45                        2.223000e+09   \n",
       "92                        3.804500e+09   \n",
       "86                        9.925750e+09   \n",
       "\n",
       "    accumulatedothercomprehensiveincomelossnetoftax  earningspersharebasic  \\\n",
       "48                                    -4.284000e+09               2.555455   \n",
       "48                                    -1.036652e+09               1.295333   \n",
       "48                                    -1.145500e+06              -0.060000   \n",
       "48                                     3.101900e+07               0.530909   \n",
       "48                                     3.533000e+08               0.997500   \n",
       "..                                              ...                    ...   \n",
       "92                                    -1.380000e+08              21.013333   \n",
       "81                                     2.800000e+06              -9.913333   \n",
       "45                                    -2.985000e+08               1.916667   \n",
       "92                                    -4.750000e+07              11.316667   \n",
       "86                                    -2.054500e+08               0.786667   \n",
       "\n",
       "    earningspersharediluted  propertyplantandequipmentnet  \\\n",
       "48                 2.519091                  7.472500e+09   \n",
       "48                 1.286000                  7.821467e+09   \n",
       "48                -0.062500                  6.343000e+06   \n",
       "48                 0.525227                  5.135792e+08   \n",
       "48                 0.987500                  7.120500e+08   \n",
       "..                      ...                           ...   \n",
       "92                20.906667                  1.442500e+09   \n",
       "81                -9.913333                  7.830684e+09   \n",
       "45                 1.903333                  6.370000e+08   \n",
       "92                11.223333                  2.750000e+08   \n",
       "86                 0.780000                  1.854550e+09   \n",
       "\n",
       "    cashandcashequivalentsatcarryingvalue  entitycommonstocksharesoutstanding  \\\n",
       "48                           2.621250e+09                        6.945438e+08   \n",
       "48                           5.845638e+09                        1.572357e+09   \n",
       "48                           4.976000e+06                        3.899407e+07   \n",
       "48                           8.832672e+08                        4.949645e+08   \n",
       "48                           1.417425e+09                        4.905759e+08   \n",
       "..                                    ...                                 ...   \n",
       "92                           2.830000e+08                        5.019927e+07   \n",
       "81                           3.086485e+09                        1.136878e+08   \n",
       "45                           1.146500e+09                        1.802784e+08   \n",
       "92                           2.016667e+08                        5.140474e+07   \n",
       "86                           3.769000e+08                        2.089803e+08   \n",
       "\n",
       "    weightedaveragenumberofdilutedsharesoutstanding  \\\n",
       "48                                     7.170667e+08   \n",
       "48                                     1.559512e+09   \n",
       "48                                     3.820800e+07   \n",
       "48                                     5.129899e+08   \n",
       "48                                     4.945000e+08   \n",
       "..                                              ...   \n",
       "92                                     5.233333e+07   \n",
       "81                                     1.113760e+08   \n",
       "45                                     1.812013e+08   \n",
       "92                                     5.345813e+07   \n",
       "86                                     2.092333e+08   \n",
       "\n",
       "    weightedaveragenumberofsharesoutstandingbasic  stockholdersequity  year  \\\n",
       "48                                   7.075667e+08        1.554150e+10  2012   \n",
       "48                                   1.550342e+09        2.342031e+10  2012   \n",
       "48                                   3.776500e+07        1.112605e+08  2012   \n",
       "48                                   5.063682e+08        5.476906e+09  2012   \n",
       "48                                   4.894250e+08        6.096400e+09  2012   \n",
       "..                                            ...                 ...   ...   \n",
       "92                                   5.210000e+07        2.157000e+09  2023   \n",
       "81                                   1.113760e+08       -4.826280e+08  2023   \n",
       "45                                   1.801933e+08        3.356000e+09  2023   \n",
       "92                                   5.303189e+07        2.425000e+09  2023   \n",
       "86                                   2.084000e+08        1.234050e+10  2023   \n",
       "\n",
       "    quarter ticker    adjclose      y  \n",
       "48        1    MMM   62.705929   True  \n",
       "48        1    ABT   21.876468   True  \n",
       "48        1   ABMD   20.784597  False  \n",
       "48        1   ADBE   32.043629   True  \n",
       "48        1    ADP   37.387025   True  \n",
       "..      ...    ...         ...    ...  \n",
       "92        1    GWW  637.035881  False  \n",
       "81        1   WYNN  104.590726  False  \n",
       "45        1    XYL  104.252934  False  \n",
       "92        1   ZBRA  302.155806  False  \n",
       "86        1    ZBH  125.327806  False  \n",
       "\n",
       "[12305 rows x 18 columns]"
      ]
     },
     "execution_count": 16,
     "metadata": {},
     "output_type": "execute_result"
    }
   ],
   "source": [
    "training_data"
   ]
  },
  {
   "cell_type": "code",
   "execution_count": 20,
   "id": "23ad6193",
   "metadata": {
    "scrolled": true
   },
   "outputs": [
    {
     "name": "stdout",
     "output_type": "stream",
     "text": [
      "Epoch 1/10\n",
      "76/76 [==============================] - 0s 854us/step - loss: 2650919680.0000 - accuracy: 0.6543\n",
      "Epoch 2/10\n",
      "76/76 [==============================] - 0s 827us/step - loss: 46178025472.0000 - accuracy: 0.7173\n",
      "Epoch 3/10\n",
      "76/76 [==============================] - 0s 800us/step - loss: 15661608960.0000 - accuracy: 0.7520\n",
      "Epoch 4/10\n",
      "76/76 [==============================] - 0s 814us/step - loss: 19632384000.0000 - accuracy: 0.7515\n",
      "Epoch 5/10\n",
      "76/76 [==============================] - 0s 800us/step - loss: 1077571328.0000 - accuracy: 0.7474\n",
      "Epoch 6/10\n",
      "76/76 [==============================] - 0s 800us/step - loss: 12132969472.0000 - accuracy: 0.7314\n",
      "Epoch 7/10\n",
      "76/76 [==============================] - 0s 787us/step - loss: 667940544.0000 - accuracy: 0.7359\n",
      "Epoch 8/10\n",
      "76/76 [==============================] - 0s 800us/step - loss: 650937280.0000 - accuracy: 0.7227\n",
      "Epoch 9/10\n",
      "76/76 [==============================] - 0s 800us/step - loss: 506830144.0000 - accuracy: 0.7309\n",
      "Epoch 10/10\n",
      "76/76 [==============================] - 0s 800us/step - loss: 42772025344.0000 - accuracy: 0.7371\n",
      "26/26 [==============================] - 0s 560us/step\n",
      "36/36 [==============================] - 0s 600us/step\n",
      "Epoch 1/10\n",
      "103/103 [==============================] - 0s 824us/step - loss: 48067854336.0000 - accuracy: 0.5289\n",
      "Epoch 2/10\n",
      "103/103 [==============================] - 0s 791us/step - loss: 52443324416.0000 - accuracy: 0.6352\n",
      "Epoch 3/10\n",
      "103/103 [==============================] - 0s 794us/step - loss: 5601967616.0000 - accuracy: 0.6328\n",
      "Epoch 4/10\n",
      "103/103 [==============================] - 0s 794us/step - loss: 36342013952.0000 - accuracy: 0.6477\n",
      "Epoch 5/10\n",
      "103/103 [==============================] - 0s 794us/step - loss: 11644218368.0000 - accuracy: 0.6556\n",
      "Epoch 6/10\n",
      "103/103 [==============================] - 0s 804us/step - loss: 47393591296.0000 - accuracy: 0.6748\n",
      "Epoch 7/10\n",
      "103/103 [==============================] - 0s 804us/step - loss: 827185728.0000 - accuracy: 0.6596\n",
      "Epoch 8/10\n",
      "103/103 [==============================] - 0s 784us/step - loss: 47101202432.0000 - accuracy: 0.6565\n",
      "Epoch 9/10\n",
      "103/103 [==============================] - 0s 804us/step - loss: 13984860160.0000 - accuracy: 0.6848\n",
      "Epoch 10/10\n",
      "103/103 [==============================] - 0s 794us/step - loss: 8314088960.0000 - accuracy: 0.6480\n",
      "35/35 [==============================] - 0s 588us/step\n",
      "36/36 [==============================] - 0s 743us/step\n",
      "Epoch 1/10\n",
      "106/106 [==============================] - 0s 829us/step - loss: 31529834496.0000 - accuracy: 0.6165\n",
      "Epoch 2/10\n",
      "106/106 [==============================] - 0s 800us/step - loss: 1383254400.0000 - accuracy: 0.6595\n",
      "Epoch 3/10\n",
      "106/106 [==============================] - 0s 800us/step - loss: 4989115904.0000 - accuracy: 0.6515\n",
      "Epoch 4/10\n",
      "106/106 [==============================] - 0s 791us/step - loss: 30409508864.0000 - accuracy: 0.6622\n",
      "Epoch 5/10\n",
      "106/106 [==============================] - 0s 800us/step - loss: 550249664.0000 - accuracy: 0.6509\n",
      "Epoch 6/10\n",
      "106/106 [==============================] - 0s 810us/step - loss: 13217424384.0000 - accuracy: 0.6509\n",
      "Epoch 7/10\n",
      "106/106 [==============================] - 0s 810us/step - loss: 29395417088.0000 - accuracy: 0.6055\n",
      "Epoch 8/10\n",
      "106/106 [==============================] - 0s 810us/step - loss: 2360818176.0000 - accuracy: 0.5996\n",
      "Epoch 9/10\n",
      "106/106 [==============================] - 0s 791us/step - loss: 127920008.0000 - accuracy: 0.4933\n",
      "Epoch 10/10\n",
      "106/106 [==============================] - 0s 800us/step - loss: 14945743872.0000 - accuracy: 0.5432\n",
      "36/36 [==============================] - 0s 600us/step\n",
      "37/37 [==============================] - 0s 639us/step\n",
      "Epoch 1/10\n",
      "108/108 [==============================] - 1s 873us/step - loss: 5152680448.0000 - accuracy: 0.4543\n",
      "Epoch 2/10\n",
      "108/108 [==============================] - 0s 1ms/step - loss: 25992728576.0000 - accuracy: 0.6187\n",
      "Epoch 3/10\n",
      "108/108 [==============================] - 0s 1ms/step - loss: 1549947392.0000 - accuracy: 0.6126\n",
      "Epoch 4/10\n",
      "108/108 [==============================] - 0s 1ms/step - loss: 16633634816.0000 - accuracy: 0.6176\n",
      "Epoch 5/10\n",
      "108/108 [==============================] - 0s 879us/step - loss: 16525604864.0000 - accuracy: 0.6295\n",
      "Epoch 6/10\n",
      "108/108 [==============================] - 0s 860us/step - loss: 32992321536.0000 - accuracy: 0.6237\n",
      "Epoch 7/10\n",
      "108/108 [==============================] - 0s 860us/step - loss: 47322656768.0000 - accuracy: 0.6213\n",
      "Epoch 8/10\n",
      "108/108 [==============================] - 0s 851us/step - loss: 54352285696.0000 - accuracy: 0.5993\n",
      "Epoch 9/10\n",
      "108/108 [==============================] - 0s 888us/step - loss: 16460809216.0000 - accuracy: 0.5807\n",
      "Epoch 10/10\n",
      "108/108 [==============================] - 0s 897us/step - loss: 44502142976.0000 - accuracy: 0.5462\n",
      "36/36 [==============================] - 0s 657us/step\n",
      "38/38 [==============================] - 0s 676us/step\n",
      "Epoch 1/10\n",
      "110/110 [==============================] - 0s 828us/step - loss: 27946090496.0000 - accuracy: 0.5767\n",
      "Epoch 2/10\n",
      "110/110 [==============================] - 0s 817us/step - loss: 14803017728.0000 - accuracy: 0.6027\n",
      "Epoch 3/10\n",
      "110/110 [==============================] - 0s 844us/step - loss: 13669736448.0000 - accuracy: 0.6070\n",
      "Epoch 4/10\n",
      "110/110 [==============================] - 0s 808us/step - loss: 18880038912.0000 - accuracy: 0.6122\n",
      "Epoch 5/10\n",
      "110/110 [==============================] - 0s 808us/step - loss: 6986208256.0000 - accuracy: 0.5924\n",
      "Epoch 6/10\n",
      "110/110 [==============================] - 0s 808us/step - loss: 27980494848.0000 - accuracy: 0.5847\n",
      "Epoch 7/10\n",
      "110/110 [==============================] - 0s 808us/step - loss: 12054693888.0000 - accuracy: 0.6173\n",
      "Epoch 8/10\n",
      "110/110 [==============================] - 0s 789us/step - loss: 5888183296.0000 - accuracy: 0.5916\n",
      "Epoch 9/10\n",
      "110/110 [==============================] - 0s 798us/step - loss: 11444289536.0000 - accuracy: 0.5547\n",
      "Epoch 10/10\n",
      "110/110 [==============================] - 0s 798us/step - loss: 1365386112.0000 - accuracy: 0.5303\n",
      "37/37 [==============================] - 0s 556us/step\n",
      "38/38 [==============================] - 0s 811us/step\n",
      "Epoch 1/10\n",
      "111/111 [==============================] - 1s 800us/step - loss: 39256862720.0000 - accuracy: 0.5786\n",
      "Epoch 2/10\n",
      "111/111 [==============================] - 0s 791us/step - loss: 5453686784.0000 - accuracy: 0.5641\n",
      "Epoch 3/10\n",
      "111/111 [==============================] - 0s 791us/step - loss: 12110362624.0000 - accuracy: 0.5856\n",
      "Epoch 4/10\n",
      "111/111 [==============================] - 0s 791us/step - loss: 15904034816.0000 - accuracy: 0.5981\n",
      "Epoch 5/10\n",
      "111/111 [==============================] - 0s 791us/step - loss: 24873455616.0000 - accuracy: 0.6001\n",
      "Epoch 6/10\n",
      "111/111 [==============================] - 0s 791us/step - loss: 578089792.0000 - accuracy: 0.6143\n",
      "Epoch 7/10\n",
      "111/111 [==============================] - 0s 791us/step - loss: 4655468544.0000 - accuracy: 0.5729\n",
      "Epoch 8/10\n",
      "111/111 [==============================] - 0s 800us/step - loss: 6580464640.0000 - accuracy: 0.5355\n",
      "Epoch 9/10\n",
      "111/111 [==============================] - 0s 782us/step - loss: 27113234432.0000 - accuracy: 0.5020\n",
      "Epoch 10/10\n",
      "111/111 [==============================] - 0s 773us/step - loss: 2486959872.0000 - accuracy: 0.4691\n",
      "37/37 [==============================] - 0s 583us/step\n",
      "35/35 [==============================] - 0s 647us/step\n",
      "Epoch 1/10\n",
      "110/110 [==============================] - 0s 826us/step - loss: 5912840704.0000 - accuracy: 0.6109\n",
      "Epoch 2/10\n",
      "110/110 [==============================] - 0s 817us/step - loss: 4120481536.0000 - accuracy: 0.5992\n",
      "Epoch 3/10\n",
      "110/110 [==============================] - 0s 798us/step - loss: 2745316096.0000 - accuracy: 0.6161\n",
      "Epoch 4/10\n",
      "110/110 [==============================] - 0s 817us/step - loss: 2899618304.0000 - accuracy: 0.6204\n",
      "Epoch 5/10\n",
      "110/110 [==============================] - 0s 808us/step - loss: 1675680256.0000 - accuracy: 0.6329\n",
      "Epoch 6/10\n",
      "110/110 [==============================] - 0s 798us/step - loss: 1641250560.0000 - accuracy: 0.6432\n",
      "Epoch 7/10\n",
      "110/110 [==============================] - 0s 808us/step - loss: 830021376.0000 - accuracy: 0.6204\n",
      "Epoch 8/10\n",
      "110/110 [==============================] - 0s 798us/step - loss: 736383552.0000 - accuracy: 0.6318\n",
      "Epoch 9/10\n",
      "110/110 [==============================] - 0s 808us/step - loss: 429777184.0000 - accuracy: 0.6172\n",
      "Epoch 10/10\n",
      "110/110 [==============================] - 0s 798us/step - loss: 259215744.0000 - accuracy: 0.6381\n",
      "37/37 [==============================] - 0s 583us/step\n",
      "34/34 [==============================] - 0s 606us/step\n"
     ]
    }
   ],
   "source": [
    "# classifier_class.db.connect()\n",
    "# model_start_date = backtest_start_date - timedelta(classifier_class.time_horizon_class.model_date_offset)\n",
    "# model_end_date = backtest_end_date - timedelta(classifier_class.time_horizon_class.model_date_offset)\n",
    "# for year in range(model_start_date.year,model_end_date.year):\n",
    "#     training_slice = training_data[(training_data[\"year\"]<year) & (training_data[\"year\"] >= year - 4)].reset_index(drop=True)\n",
    "#     prediction_set = training_data[training_data[\"year\"]==year].reset_index(drop=True)\n",
    "#     stuff = modeler_strat.classification_model(training_slice,prediction_set,classifier_class.factors,False)\n",
    "#     stuff = stuff.rename(columns={\"prediction\":f\"classification_prediction\"})\n",
    "#     relevant_columns = list(set(list(stuff.columns)) - set(classifier_class.factors))\n",
    "#     stuff = classifier_class.sim_processor(stuff)\n",
    "#     classifier_class.db.store(\"sim\",stuff[relevant_columns])\n",
    "# classifier_class.db.disconnect()"
   ]
  },
  {
   "cell_type": "code",
   "execution_count": 11,
   "id": "71a35523",
   "metadata": {},
   "outputs": [
    {
     "name": "stdout",
     "output_type": "stream",
     "text": [
      "Epoch 1/10\n",
      "98/98 [==============================] - 1s 913us/step - loss: 6224008704.0000 - accuracy: 0.5027\n",
      "Epoch 2/10\n",
      "98/98 [==============================] - 0s 835us/step - loss: 4382301184.0000 - accuracy: 0.5188\n",
      "Epoch 3/10\n",
      "98/98 [==============================] - 0s 825us/step - loss: 3195948288.0000 - accuracy: 0.5034\n",
      "Epoch 4/10\n",
      "98/98 [==============================] - 0s 825us/step - loss: 3461654016.0000 - accuracy: 0.5169\n",
      "Epoch 5/10\n",
      "98/98 [==============================] - 0s 815us/step - loss: 1542200320.0000 - accuracy: 0.5101\n",
      "Epoch 6/10\n",
      "98/98 [==============================] - 0s 804us/step - loss: 1223403904.0000 - accuracy: 0.5098\n",
      "Epoch 7/10\n",
      "98/98 [==============================] - 0s 804us/step - loss: 2124088832.0000 - accuracy: 0.5018\n",
      "Epoch 8/10\n",
      "98/98 [==============================] - 0s 815us/step - loss: 689298880.0000 - accuracy: 0.4809\n",
      "Epoch 9/10\n",
      "98/98 [==============================] - 0s 804us/step - loss: 1247713792.0000 - accuracy: 0.5034\n",
      "Epoch 10/10\n",
      "98/98 [==============================] - 0s 803us/step - loss: 543051840.0000 - accuracy: 0.4821\n",
      "33/33 [==============================] - 0s 563us/step\n"
     ]
    },
    {
     "ename": "NameError",
     "evalue": "name 'pickle' is not defined",
     "output_type": "error",
     "traceback": [
      "\u001b[1;31m---------------------------------------------------------------------------\u001b[0m",
      "\u001b[1;31mNameError\u001b[0m                                 Traceback (most recent call last)",
      "\u001b[1;32m~\\AppData\\Local\\Temp/ipykernel_12152/2913829573.py\u001b[0m in \u001b[0;36m<module>\u001b[1;34m\u001b[0m\n\u001b[0;32m      2\u001b[0m \u001b[0mtraining_slice\u001b[0m \u001b[1;33m=\u001b[0m \u001b[0mtraining_data\u001b[0m\u001b[1;33m[\u001b[0m\u001b[1;33m(\u001b[0m\u001b[0mtraining_data\u001b[0m\u001b[1;33m[\u001b[0m\u001b[1;34m\"year\"\u001b[0m\u001b[1;33m]\u001b[0m\u001b[1;33m<\u001b[0m\u001b[0mcurrent_year\u001b[0m\u001b[1;33m)\u001b[0m \u001b[1;33m&\u001b[0m \u001b[1;33m(\u001b[0m\u001b[0mtraining_data\u001b[0m\u001b[1;33m[\u001b[0m\u001b[1;34m\"year\"\u001b[0m\u001b[1;33m]\u001b[0m \u001b[1;33m>=\u001b[0m \u001b[0mcurrent_year\u001b[0m \u001b[1;33m-\u001b[0m \u001b[1;36m4\u001b[0m\u001b[1;33m)\u001b[0m\u001b[1;33m]\u001b[0m\u001b[1;33m.\u001b[0m\u001b[0mreset_index\u001b[0m\u001b[1;33m(\u001b[0m\u001b[0mdrop\u001b[0m\u001b[1;33m=\u001b[0m\u001b[1;32mTrue\u001b[0m\u001b[1;33m)\u001b[0m\u001b[1;33m\u001b[0m\u001b[1;33m\u001b[0m\u001b[0m\n\u001b[0;32m      3\u001b[0m \u001b[0mstuff\u001b[0m \u001b[1;33m=\u001b[0m \u001b[0mmodeler_strat\u001b[0m\u001b[1;33m.\u001b[0m\u001b[0mrecommend_classification_model\u001b[0m\u001b[1;33m(\u001b[0m\u001b[0mtraining_slice\u001b[0m\u001b[1;33m,\u001b[0m\u001b[0mclassifier_class\u001b[0m\u001b[1;33m.\u001b[0m\u001b[0mfactors\u001b[0m\u001b[1;33m,\u001b[0m\u001b[1;32mFalse\u001b[0m\u001b[1;33m)\u001b[0m\u001b[1;33m\u001b[0m\u001b[1;33m\u001b[0m\u001b[0m\n\u001b[1;32m----> 4\u001b[1;33m \u001b[0mstuff\u001b[0m\u001b[1;33m[\u001b[0m\u001b[1;34m\"model\"\u001b[0m\u001b[1;33m]\u001b[0m \u001b[1;33m=\u001b[0m \u001b[1;33m[\u001b[0m\u001b[0mpickle\u001b[0m\u001b[1;33m.\u001b[0m\u001b[0mdumps\u001b[0m\u001b[1;33m(\u001b[0m\u001b[0mx\u001b[0m\u001b[1;33m)\u001b[0m \u001b[1;32mfor\u001b[0m \u001b[0mx\u001b[0m \u001b[1;32min\u001b[0m \u001b[0mstuff\u001b[0m\u001b[1;33m[\u001b[0m\u001b[1;34m\"model\"\u001b[0m\u001b[1;33m]\u001b[0m\u001b[1;33m]\u001b[0m\u001b[1;33m\u001b[0m\u001b[1;33m\u001b[0m\u001b[0m\n\u001b[0m\u001b[0;32m      5\u001b[0m \u001b[0mstuff\u001b[0m\u001b[1;33m[\u001b[0m\u001b[1;34m\"year\"\u001b[0m\u001b[1;33m]\u001b[0m \u001b[1;33m=\u001b[0m \u001b[0mcurrent_year\u001b[0m\u001b[1;33m\u001b[0m\u001b[1;33m\u001b[0m\u001b[0m\n\u001b[0;32m      6\u001b[0m \u001b[0mclassifier_class\u001b[0m\u001b[1;33m.\u001b[0m\u001b[0mdb\u001b[0m\u001b[1;33m.\u001b[0m\u001b[0mstore\u001b[0m\u001b[1;33m(\u001b[0m\u001b[1;34m\"models\"\u001b[0m\u001b[1;33m,\u001b[0m\u001b[0mstuff\u001b[0m\u001b[1;33m)\u001b[0m\u001b[1;33m\u001b[0m\u001b[1;33m\u001b[0m\u001b[0m\n",
      "\u001b[1;32m~\\AppData\\Local\\Temp/ipykernel_12152/2913829573.py\u001b[0m in \u001b[0;36m<listcomp>\u001b[1;34m(.0)\u001b[0m\n\u001b[0;32m      2\u001b[0m \u001b[0mtraining_slice\u001b[0m \u001b[1;33m=\u001b[0m \u001b[0mtraining_data\u001b[0m\u001b[1;33m[\u001b[0m\u001b[1;33m(\u001b[0m\u001b[0mtraining_data\u001b[0m\u001b[1;33m[\u001b[0m\u001b[1;34m\"year\"\u001b[0m\u001b[1;33m]\u001b[0m\u001b[1;33m<\u001b[0m\u001b[0mcurrent_year\u001b[0m\u001b[1;33m)\u001b[0m \u001b[1;33m&\u001b[0m \u001b[1;33m(\u001b[0m\u001b[0mtraining_data\u001b[0m\u001b[1;33m[\u001b[0m\u001b[1;34m\"year\"\u001b[0m\u001b[1;33m]\u001b[0m \u001b[1;33m>=\u001b[0m \u001b[0mcurrent_year\u001b[0m \u001b[1;33m-\u001b[0m \u001b[1;36m4\u001b[0m\u001b[1;33m)\u001b[0m\u001b[1;33m]\u001b[0m\u001b[1;33m.\u001b[0m\u001b[0mreset_index\u001b[0m\u001b[1;33m(\u001b[0m\u001b[0mdrop\u001b[0m\u001b[1;33m=\u001b[0m\u001b[1;32mTrue\u001b[0m\u001b[1;33m)\u001b[0m\u001b[1;33m\u001b[0m\u001b[1;33m\u001b[0m\u001b[0m\n\u001b[0;32m      3\u001b[0m \u001b[0mstuff\u001b[0m \u001b[1;33m=\u001b[0m \u001b[0mmodeler_strat\u001b[0m\u001b[1;33m.\u001b[0m\u001b[0mrecommend_classification_model\u001b[0m\u001b[1;33m(\u001b[0m\u001b[0mtraining_slice\u001b[0m\u001b[1;33m,\u001b[0m\u001b[0mclassifier_class\u001b[0m\u001b[1;33m.\u001b[0m\u001b[0mfactors\u001b[0m\u001b[1;33m,\u001b[0m\u001b[1;32mFalse\u001b[0m\u001b[1;33m)\u001b[0m\u001b[1;33m\u001b[0m\u001b[1;33m\u001b[0m\u001b[0m\n\u001b[1;32m----> 4\u001b[1;33m \u001b[0mstuff\u001b[0m\u001b[1;33m[\u001b[0m\u001b[1;34m\"model\"\u001b[0m\u001b[1;33m]\u001b[0m \u001b[1;33m=\u001b[0m \u001b[1;33m[\u001b[0m\u001b[0mpickle\u001b[0m\u001b[1;33m.\u001b[0m\u001b[0mdumps\u001b[0m\u001b[1;33m(\u001b[0m\u001b[0mx\u001b[0m\u001b[1;33m)\u001b[0m \u001b[1;32mfor\u001b[0m \u001b[0mx\u001b[0m \u001b[1;32min\u001b[0m \u001b[0mstuff\u001b[0m\u001b[1;33m[\u001b[0m\u001b[1;34m\"model\"\u001b[0m\u001b[1;33m]\u001b[0m\u001b[1;33m]\u001b[0m\u001b[1;33m\u001b[0m\u001b[1;33m\u001b[0m\u001b[0m\n\u001b[0m\u001b[0;32m      5\u001b[0m \u001b[0mstuff\u001b[0m\u001b[1;33m[\u001b[0m\u001b[1;34m\"year\"\u001b[0m\u001b[1;33m]\u001b[0m \u001b[1;33m=\u001b[0m \u001b[0mcurrent_year\u001b[0m\u001b[1;33m\u001b[0m\u001b[1;33m\u001b[0m\u001b[0m\n\u001b[0;32m      6\u001b[0m \u001b[0mclassifier_class\u001b[0m\u001b[1;33m.\u001b[0m\u001b[0mdb\u001b[0m\u001b[1;33m.\u001b[0m\u001b[0mstore\u001b[0m\u001b[1;33m(\u001b[0m\u001b[1;34m\"models\"\u001b[0m\u001b[1;33m,\u001b[0m\u001b[0mstuff\u001b[0m\u001b[1;33m)\u001b[0m\u001b[1;33m\u001b[0m\u001b[1;33m\u001b[0m\u001b[0m\n",
      "\u001b[1;31mNameError\u001b[0m: name 'pickle' is not defined"
     ]
    }
   ],
   "source": [
    "classifier_class.db.connect()\n",
    "training_slice = training_data[(training_data[\"year\"]<current_year) & (training_data[\"year\"] >= current_year - 4)].reset_index(drop=True)\n",
    "stuff = modeler_strat.recommend_classification_model(training_slice,classifier_class.factors,False)\n",
    "stuff[\"model\"] = [pickle.dumps(x) for x in stuff[\"model\"]]\n",
    "stuff[\"year\"] = current_year\n",
    "classifier_class.db.store(\"models\",stuff)\n",
    "\n",
    "classifier_class.db.disconnect()"
   ]
  },
  {
   "cell_type": "code",
   "execution_count": 14,
   "id": "429c17ff",
   "metadata": {},
   "outputs": [
    {
     "name": "stderr",
     "output_type": "stream",
     "text": [
      "  1%|██                                                                                                                                                                         | 6/490 [00:01<01:57,  4.11it/s]"
     ]
    },
    {
     "name": "stdout",
     "output_type": "stream",
     "text": [
      "\"['entitycommonstocksharesoutstanding'] not in index\"\n"
     ]
    },
    {
     "name": "stderr",
     "output_type": "stream",
     "text": [
      "  2%|██▊                                                                                                                                                                        | 8/490 [00:02<02:21,  3.42it/s]"
     ]
    },
    {
     "name": "stdout",
     "output_type": "stream",
     "text": [
      "\"['stockholdersequity'] not in index\"\n"
     ]
    },
    {
     "name": "stderr",
     "output_type": "stream",
     "text": [
      "  4%|██████▌                                                                                                                                                                   | 19/490 [00:06<02:43,  2.89it/s]"
     ]
    },
    {
     "name": "stdout",
     "output_type": "stream",
     "text": [
      "\"['incometaxexpensebenefit'] not in index\"\n"
     ]
    },
    {
     "name": "stderr",
     "output_type": "stream",
     "text": [
      "  5%|███████▉                                                                                                                                                                  | 23/490 [00:07<02:37,  2.97it/s]"
     ]
    },
    {
     "name": "stdout",
     "output_type": "stream",
     "text": [
      "\"['cashandcashequivalentsatcarryingvalue'] not in index\"\n"
     ]
    },
    {
     "name": "stderr",
     "output_type": "stream",
     "text": [
      "\r",
      "  5%|████████▎                                                                                                                                                                 | 24/490 [00:07<02:27,  3.16it/s]"
     ]
    },
    {
     "name": "stdout",
     "output_type": "stream",
     "text": [
      "\"['weightedaveragenumberofdilutedsharesoutstanding', 'weightedaveragenumberofsharesoutstandingbasic'] not in index\"\n"
     ]
    },
    {
     "name": "stderr",
     "output_type": "stream",
     "text": [
      "  7%|███████████                                                                                                                                                               | 32/490 [00:10<03:17,  2.32it/s]"
     ]
    },
    {
     "name": "stdout",
     "output_type": "stream",
     "text": [
      "\"['cashandcashequivalentsatcarryingvalue'] not in index\"\n"
     ]
    },
    {
     "name": "stderr",
     "output_type": "stream",
     "text": [
      "\r",
      "  7%|███████████▍                                                                                                                                                              | 33/490 [00:11<03:59,  1.91it/s]"
     ]
    },
    {
     "name": "stdout",
     "output_type": "stream",
     "text": [
      "\"['cashandcashequivalentsatcarryingvalue'] not in index\"\n"
     ]
    },
    {
     "name": "stderr",
     "output_type": "stream",
     "text": [
      " 10%|█████████████████                                                                                                                                                         | 49/490 [00:16<02:17,  3.22it/s]"
     ]
    },
    {
     "name": "stdout",
     "output_type": "stream",
     "text": [
      "\"['weightedaveragenumberofdilutedsharesoutstanding'] not in index\"\n"
     ]
    },
    {
     "name": "stderr",
     "output_type": "stream",
     "text": [
      " 10%|█████████████████▋                                                                                                                                                        | 51/490 [00:17<02:44,  2.67it/s]"
     ]
    },
    {
     "name": "stdout",
     "output_type": "stream",
     "text": [
      "\"['stockholdersequity'] not in index\"\n"
     ]
    },
    {
     "name": "stderr",
     "output_type": "stream",
     "text": [
      " 11%|███████████████████                                                                                                                                                       | 55/490 [00:19<02:18,  3.13it/s]"
     ]
    },
    {
     "name": "stdout",
     "output_type": "stream",
     "text": [
      "\"['propertyplantandequipmentnet'] not in index\"\n"
     ]
    },
    {
     "name": "stderr",
     "output_type": "stream",
     "text": [
      " 12%|███████████████████▊                                                                                                                                                      | 57/490 [00:19<02:07,  3.40it/s]"
     ]
    },
    {
     "name": "stdout",
     "output_type": "stream",
     "text": [
      "\"['weightedaveragenumberofsharesoutstandingbasic'] not in index\"\n"
     ]
    },
    {
     "name": "stderr",
     "output_type": "stream",
     "text": [
      " 13%|██████████████████████▌                                                                                                                                                   | 65/490 [00:22<02:23,  2.96it/s]"
     ]
    },
    {
     "name": "stdout",
     "output_type": "stream",
     "text": [
      "\"['entitycommonstocksharesoutstanding'] not in index\"\n"
     ]
    },
    {
     "name": "stderr",
     "output_type": "stream",
     "text": [
      " 15%|█████████████████████████▎                                                                                                                                                | 73/490 [00:26<02:43,  2.56it/s]"
     ]
    },
    {
     "name": "stdout",
     "output_type": "stream",
     "text": [
      "\"['incometaxexpensebenefit', 'propertyplantandequipmentnet'] not in index\"\n"
     ]
    },
    {
     "name": "stderr",
     "output_type": "stream",
     "text": [
      "\r",
      " 15%|█████████████████████████▋                                                                                                                                                | 74/490 [00:26<02:53,  2.40it/s]"
     ]
    },
    {
     "name": "stdout",
     "output_type": "stream",
     "text": [
      "\"['stockholdersequity'] not in index\"\n"
     ]
    },
    {
     "name": "stderr",
     "output_type": "stream",
     "text": [
      " 17%|████████████████████████████▍                                                                                                                                             | 82/490 [00:28<02:09,  3.16it/s]"
     ]
    },
    {
     "name": "stdout",
     "output_type": "stream",
     "text": [
      "\"['incometaxexpensebenefit', 'retainedearningsaccumulateddeficit', 'propertyplantandequipmentnet'] not in index\"\n"
     ]
    },
    {
     "name": "stderr",
     "output_type": "stream",
     "text": [
      " 17%|█████████████████████████████▏                                                                                                                                            | 84/490 [00:30<03:30,  1.92it/s]"
     ]
    },
    {
     "name": "stdout",
     "output_type": "stream",
     "text": [
      "\"['cashandcashequivalentsatcarryingvalue'] not in index\"\n"
     ]
    },
    {
     "name": "stderr",
     "output_type": "stream",
     "text": [
      " 18%|█████████████████████████████▊                                                                                                                                            | 86/490 [00:30<02:37,  2.57it/s]"
     ]
    },
    {
     "name": "stdout",
     "output_type": "stream",
     "text": [
      "\"['stockholdersequity'] not in index\"\n"
     ]
    },
    {
     "name": "stderr",
     "output_type": "stream",
     "text": [
      " 18%|███████████████████████████████▏                                                                                                                                          | 90/490 [00:31<02:08,  3.11it/s]"
     ]
    },
    {
     "name": "stdout",
     "output_type": "stream",
     "text": [
      "\"['stockholdersequity'] not in index\"\n"
     ]
    },
    {
     "name": "stderr",
     "output_type": "stream",
     "text": [
      " 22%|████████████████████████████████████▌                                                                                                                                    | 106/490 [00:37<02:02,  3.13it/s]"
     ]
    },
    {
     "name": "stdout",
     "output_type": "stream",
     "text": [
      "\"['weightedaveragenumberofsharesoutstandingbasic'] not in index\"\n"
     ]
    },
    {
     "name": "stderr",
     "output_type": "stream",
     "text": [
      " 22%|█████████████████████████████████████▉                                                                                                                                   | 110/490 [00:39<02:47,  2.26it/s]"
     ]
    },
    {
     "name": "stdout",
     "output_type": "stream",
     "text": [
      "\"['propertyplantandequipmentnet'] not in index\"\n"
     ]
    },
    {
     "name": "stderr",
     "output_type": "stream",
     "text": [
      " 23%|██████████████████████████████████████▉                                                                                                                                  | 113/490 [00:40<02:20,  2.69it/s]"
     ]
    },
    {
     "name": "stdout",
     "output_type": "stream",
     "text": [
      "\"['entitycommonstocksharesoutstanding'] not in index\"\n"
     ]
    },
    {
     "name": "stderr",
     "output_type": "stream",
     "text": [
      " 24%|████████████████████████████████████████▋                                                                                                                                | 118/490 [00:41<02:06,  2.95it/s]"
     ]
    },
    {
     "name": "stdout",
     "output_type": "stream",
     "text": [
      "\"['entitycommonstocksharesoutstanding'] not in index\"\n"
     ]
    },
    {
     "name": "stderr",
     "output_type": "stream",
     "text": [
      "\r",
      " 24%|█████████████████████████████████████████                                                                                                                                | 119/490 [00:42<02:23,  2.58it/s]"
     ]
    },
    {
     "name": "stdout",
     "output_type": "stream",
     "text": [
      "\"['stockholdersequity'] not in index\"\n"
     ]
    },
    {
     "name": "stderr",
     "output_type": "stream",
     "text": [
      " 25%|██████████████████████████████████████████▊                                                                                                                              | 124/490 [00:44<02:00,  3.04it/s]"
     ]
    },
    {
     "name": "stdout",
     "output_type": "stream",
     "text": [
      "\"['earningspersharebasic', 'earningspersharediluted', 'entitycommonstocksharesoutstanding', 'weightedaveragenumberofdilutedsharesoutstanding', 'weightedaveragenumberofsharesoutstandingbasic'] not in index\"\n"
     ]
    },
    {
     "name": "stderr",
     "output_type": "stream",
     "text": [
      " 27%|█████████████████████████████████████████████▌                                                                                                                           | 132/490 [00:46<01:31,  3.91it/s]"
     ]
    },
    {
     "name": "stdout",
     "output_type": "stream",
     "text": [
      "\"['stockholdersequity'] not in index\"\n"
     ]
    },
    {
     "name": "stderr",
     "output_type": "stream",
     "text": [
      " 30%|██████████████████████████████████████████████████                                                                                                                       | 145/490 [00:50<02:03,  2.80it/s]"
     ]
    },
    {
     "name": "stdout",
     "output_type": "stream",
     "text": [
      "\"['propertyplantandequipmentnet'] not in index\"\n"
     ]
    },
    {
     "name": "stderr",
     "output_type": "stream",
     "text": [
      " 30%|██████████████████████████████████████████████████▋                                                                                                                      | 147/490 [00:51<01:57,  2.92it/s]"
     ]
    },
    {
     "name": "stdout",
     "output_type": "stream",
     "text": [
      "\"['entitycommonstocksharesoutstanding'] not in index\"\n"
     ]
    },
    {
     "name": "stderr",
     "output_type": "stream",
     "text": [
      " 35%|██████████████████████████████████████████████████████████▉                                                                                                              | 171/490 [01:00<02:06,  2.53it/s]"
     ]
    },
    {
     "name": "stdout",
     "output_type": "stream",
     "text": [
      "\"['retainedearningsaccumulateddeficit'] not in index\"\n"
     ]
    },
    {
     "name": "stderr",
     "output_type": "stream",
     "text": [
      " 36%|████████████████████████████████████████████████████████████                                                                                                             | 174/490 [01:01<02:18,  2.29it/s]"
     ]
    },
    {
     "name": "stdout",
     "output_type": "stream",
     "text": [
      "\"['propertyplantandequipmentnet'] not in index\"\n"
     ]
    },
    {
     "name": "stderr",
     "output_type": "stream",
     "text": [
      "\r",
      " 36%|████████████████████████████████████████████████████████████▎                                                                                                            | 175/490 [01:02<02:10,  2.42it/s]"
     ]
    },
    {
     "name": "stdout",
     "output_type": "stream",
     "text": [
      "\"['retainedearningsaccumulateddeficit', 'propertyplantandequipmentnet'] not in index\"\n"
     ]
    },
    {
     "name": "stderr",
     "output_type": "stream",
     "text": [
      " 36%|█████████████████████████████████████████████████████████████                                                                                                            | 177/490 [01:02<01:42,  3.05it/s]"
     ]
    },
    {
     "name": "stdout",
     "output_type": "stream",
     "text": [
      "\"['entitycommonstocksharesoutstanding'] not in index\"\n"
     ]
    },
    {
     "name": "stderr",
     "output_type": "stream",
     "text": [
      " 37%|█████████████████████████████████████████████████████████████▋                                                                                                           | 179/490 [01:03<01:30,  3.43it/s]"
     ]
    },
    {
     "name": "stdout",
     "output_type": "stream",
     "text": [
      "\"['propertyplantandequipmentnet'] not in index\"\n"
     ]
    },
    {
     "name": "stderr",
     "output_type": "stream",
     "text": [
      "\r",
      " 37%|██████████████████████████████████████████████████████████████                                                                                                           | 180/490 [01:03<01:44,  2.96it/s]"
     ]
    },
    {
     "name": "stdout",
     "output_type": "stream",
     "text": [
      "\"['propertyplantandequipmentnet'] not in index\"\n"
     ]
    },
    {
     "name": "stderr",
     "output_type": "stream",
     "text": [
      " 37%|███████████████████████████████████████████████████████████████                                                                                                          | 183/490 [01:05<02:23,  2.14it/s]"
     ]
    },
    {
     "name": "stdout",
     "output_type": "stream",
     "text": [
      "\"['entitycommonstocksharesoutstanding'] not in index\"\n"
     ]
    },
    {
     "name": "stderr",
     "output_type": "stream",
     "text": [
      " 38%|████████████████████████████████████████████████████████████████▏                                                                                                        | 186/490 [01:06<01:43,  2.95it/s]"
     ]
    },
    {
     "name": "stdout",
     "output_type": "stream",
     "text": [
      "\"['stockholdersequity'] not in index\"\n"
     ]
    },
    {
     "name": "stderr",
     "output_type": "stream",
     "text": [
      " 39%|█████████████████████████████████████████████████████████████████▏                                                                                                       | 189/490 [01:07<01:22,  3.63it/s]"
     ]
    },
    {
     "name": "stdout",
     "output_type": "stream",
     "text": [
      "\"['incometaxexpensebenefit', 'retainedearningsaccumulateddeficit', 'propertyplantandequipmentnet'] not in index\"\n"
     ]
    },
    {
     "name": "stderr",
     "output_type": "stream",
     "text": [
      " 39%|█████████████████████████████████████████████████████████████████▉                                                                                                       | 191/490 [01:08<02:09,  2.32it/s]"
     ]
    },
    {
     "name": "stdout",
     "output_type": "stream",
     "text": [
      "\"['cashandcashequivalentsatcarryingvalue'] not in index\"\n"
     ]
    },
    {
     "name": "stderr",
     "output_type": "stream",
     "text": [
      " 40%|███████████████████████████████████████████████████████████████████▉                                                                                                     | 197/490 [01:10<01:42,  2.86it/s]"
     ]
    },
    {
     "name": "stdout",
     "output_type": "stream",
     "text": [
      "\"['entitycommonstocksharesoutstanding'] not in index\"\n"
     ]
    },
    {
     "name": "stderr",
     "output_type": "stream",
     "text": [
      " 43%|█████████████████████████████████████████████████████████████████████████                                                                                                | 212/490 [01:16<01:58,  2.35it/s]"
     ]
    },
    {
     "name": "stdout",
     "output_type": "stream",
     "text": [
      "\"['propertyplantandequipmentnet'] not in index\"\n"
     ]
    },
    {
     "name": "stderr",
     "output_type": "stream",
     "text": [
      " 44%|██████████████████████████████████████████████████████████████████████████▍                                                                                              | 216/490 [01:18<02:23,  1.92it/s]"
     ]
    },
    {
     "name": "stdout",
     "output_type": "stream",
     "text": [
      "\"['cashandcashequivalentsatcarryingvalue'] not in index\"\n"
     ]
    },
    {
     "name": "stderr",
     "output_type": "stream",
     "text": [
      " 45%|███████████████████████████████████████████████████████████████████████████▌                                                                                             | 219/490 [01:19<01:55,  2.34it/s]"
     ]
    },
    {
     "name": "stdout",
     "output_type": "stream",
     "text": [
      "\"['retainedearningsaccumulateddeficit', 'propertyplantandequipmentnet'] not in index\"\n"
     ]
    },
    {
     "name": "stderr",
     "output_type": "stream",
     "text": [
      " 45%|████████████████████████████████████████████████████████████████████████████▏                                                                                            | 221/490 [01:20<01:44,  2.57it/s]"
     ]
    },
    {
     "name": "stdout",
     "output_type": "stream",
     "text": [
      "\"['earningspersharebasic', 'earningspersharediluted'] not in index\"\n"
     ]
    },
    {
     "name": "stderr",
     "output_type": "stream",
     "text": [
      " 47%|██████████████████████████████████████████████████████████████████████████████▋                                                                                          | 228/490 [01:22<01:22,  3.17it/s]"
     ]
    },
    {
     "name": "stdout",
     "output_type": "stream",
     "text": [
      "\"['entitycommonstocksharesoutstanding'] not in index\"\n"
     ]
    },
    {
     "name": "stderr",
     "output_type": "stream",
     "text": [
      " 49%|██████████████████████████████████████████████████████████████████████████████████                                                                                       | 238/490 [01:26<01:22,  3.07it/s]"
     ]
    },
    {
     "name": "stdout",
     "output_type": "stream",
     "text": [
      "\"['stockholdersequity'] not in index\"\n"
     ]
    },
    {
     "name": "stderr",
     "output_type": "stream",
     "text": [
      " 52%|███████████████████████████████████████████████████████████████████████████████████████▌                                                                                 | 254/490 [01:30<00:59,  3.94it/s]"
     ]
    },
    {
     "name": "stdout",
     "output_type": "stream",
     "text": [
      "\"['accumulatedothercomprehensiveincomelossnetoftax'] not in index\"\n",
      "\"['accumulatedothercomprehensiveincomelossnetoftax'] not in index\"\n"
     ]
    },
    {
     "name": "stderr",
     "output_type": "stream",
     "text": [
      " 52%|████████████████████████████████████████████████████████████████████████████████████████▎                                                                                | 256/490 [01:31<01:05,  3.58it/s]"
     ]
    },
    {
     "name": "stdout",
     "output_type": "stream",
     "text": [
      "\"['stockholdersequity'] not in index\"\n"
     ]
    },
    {
     "name": "stderr",
     "output_type": "stream",
     "text": [
      " 53%|██████████████████████████████████████████████████████████████████████████████████████████                                                                               | 261/490 [01:34<01:52,  2.03it/s]"
     ]
    },
    {
     "name": "stdout",
     "output_type": "stream",
     "text": [
      "\"['cashandcashequivalentsatcarryingvalue'] not in index\"\n"
     ]
    },
    {
     "name": "stderr",
     "output_type": "stream",
     "text": [
      " 54%|███████████████████████████████████████████████████████████████████████████████████████████                                                                              | 264/490 [01:35<01:32,  2.44it/s]"
     ]
    },
    {
     "name": "stdout",
     "output_type": "stream",
     "text": [
      "\"['propertyplantandequipmentnet'] not in index\"\n"
     ]
    },
    {
     "name": "stderr",
     "output_type": "stream",
     "text": [
      " 56%|██████████████████████████████████████████████████████████████████████████████████████████████▊                                                                          | 275/490 [01:39<01:11,  3.01it/s]"
     ]
    },
    {
     "name": "stdout",
     "output_type": "stream",
     "text": [
      "\"['entitycommonstocksharesoutstanding'] not in index\"\n"
     ]
    },
    {
     "name": "stderr",
     "output_type": "stream",
     "text": [
      "\r",
      " 56%|███████████████████████████████████████████████████████████████████████████████████████████████▏                                                                         | 276/490 [01:39<01:22,  2.60it/s]"
     ]
    },
    {
     "name": "stdout",
     "output_type": "stream",
     "text": [
      "\"['propertyplantandequipmentnet'] not in index\"\n"
     ]
    },
    {
     "name": "stderr",
     "output_type": "stream",
     "text": [
      " 57%|████████████████████████████████████████████████████████████████████████████████████████████████▉                                                                        | 281/490 [01:41<01:27,  2.38it/s]"
     ]
    },
    {
     "name": "stdout",
     "output_type": "stream",
     "text": [
      "\"['cashandcashequivalentsatcarryingvalue'] not in index\"\n"
     ]
    },
    {
     "name": "stderr",
     "output_type": "stream",
     "text": [
      " 60%|█████████████████████████████████████████████████████████████████████████████████████████████████████                                                                    | 293/490 [01:45<01:09,  2.84it/s]"
     ]
    },
    {
     "name": "stdout",
     "output_type": "stream",
     "text": [
      "\"['entitycommonstocksharesoutstanding'] not in index\"\n"
     ]
    },
    {
     "name": "stderr",
     "output_type": "stream",
     "text": [
      " 60%|██████████████████████████████████████████████████████████████████████████████████████████████████████                                                                   | 296/490 [01:46<00:57,  3.36it/s]"
     ]
    },
    {
     "name": "stdout",
     "output_type": "stream",
     "text": [
      "\"['entitycommonstocksharesoutstanding'] not in index\"\n"
     ]
    },
    {
     "name": "stderr",
     "output_type": "stream",
     "text": [
      " 61%|███████████████████████████████████████████████████████████████████████████████████████████████████████▍                                                                 | 300/490 [01:48<00:57,  3.30it/s]"
     ]
    },
    {
     "name": "stdout",
     "output_type": "stream",
     "text": [
      "\"['entitycommonstocksharesoutstanding'] not in index\"\n"
     ]
    },
    {
     "name": "stderr",
     "output_type": "stream",
     "text": [
      "\r",
      " 61%|███████████████████████████████████████████████████████████████████████████████████████████████████████▊                                                                 | 301/490 [01:48<01:29,  2.11it/s]"
     ]
    },
    {
     "name": "stdout",
     "output_type": "stream",
     "text": [
      "\"['propertyplantandequipmentnet'] not in index\"\n"
     ]
    },
    {
     "name": "stderr",
     "output_type": "stream",
     "text": [
      " 63%|██████████████████████████████████████████████████████████████████████████████████████████████████████████▏                                                              | 308/490 [01:50<00:47,  3.84it/s]"
     ]
    },
    {
     "name": "stdout",
     "output_type": "stream",
     "text": [
      "\"['retainedearningsaccumulateddeficit', 'propertyplantandequipmentnet'] not in index\"\n"
     ]
    },
    {
     "name": "stderr",
     "output_type": "stream",
     "text": [
      " 63%|███████████████████████████████████████████████████████████████████████████████████████████████████████████▎                                                             | 311/490 [01:51<00:59,  3.03it/s]"
     ]
    },
    {
     "name": "stdout",
     "output_type": "stream",
     "text": [
      "\"['entitycommonstocksharesoutstanding'] not in index\"\n"
     ]
    },
    {
     "name": "stderr",
     "output_type": "stream",
     "text": [
      " 64%|████████████████████████████████████████████████████████████████████████████████████████████████████████████▎                                                            | 314/490 [01:52<00:49,  3.56it/s]"
     ]
    },
    {
     "name": "stdout",
     "output_type": "stream",
     "text": [
      "\"['earningspersharebasic', 'earningspersharediluted'] not in index\"\n"
     ]
    },
    {
     "name": "stderr",
     "output_type": "stream",
     "text": [
      " 66%|████████████████████████████████████████████████████████████████████████████████████████████████████████████████                                                         | 325/490 [01:56<00:58,  2.84it/s]"
     ]
    },
    {
     "name": "stdout",
     "output_type": "stream",
     "text": [
      "\"['entitycommonstocksharesoutstanding'] not in index\"\n"
     ]
    },
    {
     "name": "stderr",
     "output_type": "stream",
     "text": [
      " 68%|██████████████████████████████████████████████████████████████████████████████████████████████████████████████████▏                                                      | 331/490 [01:59<00:58,  2.71it/s]"
     ]
    },
    {
     "name": "stdout",
     "output_type": "stream",
     "text": [
      "\"['cashandcashequivalentsatcarryingvalue'] not in index\"\n"
     ]
    },
    {
     "name": "stderr",
     "output_type": "stream",
     "text": [
      " 68%|███████████████████████████████████████████████████████████████████████████████████████████████████████████████████▌                                                     | 335/490 [02:00<00:58,  2.66it/s]"
     ]
    },
    {
     "name": "stdout",
     "output_type": "stream",
     "text": [
      "\"['stockholdersequity'] not in index\"\n"
     ]
    },
    {
     "name": "stderr",
     "output_type": "stream",
     "text": [
      " 69%|████████████████████████████████████████████████████████████████████████████████████████████████████████████████████▌                                                    | 338/490 [02:01<00:49,  3.05it/s]"
     ]
    },
    {
     "name": "stdout",
     "output_type": "stream",
     "text": [
      "\"['accumulatedothercomprehensiveincomelossnetoftax', 'propertyplantandequipmentnet'] not in index\"\n"
     ]
    },
    {
     "name": "stderr",
     "output_type": "stream",
     "text": [
      " 70%|█████████████████████████████████████████████████████████████████████████████████████████████████████████████████████▉                                                   | 342/490 [02:02<00:39,  3.76it/s]"
     ]
    },
    {
     "name": "stdout",
     "output_type": "stream",
     "text": [
      "\"['accumulatedothercomprehensiveincomelossnetoftax'] not in index\"\n"
     ]
    },
    {
     "name": "stderr",
     "output_type": "stream",
     "text": [
      " 71%|████████████████████████████████████████████████████████████████████████████████████████████████████████████████████████▋                                                | 350/490 [02:04<00:40,  3.44it/s]"
     ]
    },
    {
     "name": "stdout",
     "output_type": "stream",
     "text": [
      "\"['entitycommonstocksharesoutstanding'] not in index\"\n"
     ]
    },
    {
     "name": "stderr",
     "output_type": "stream",
     "text": [
      " 74%|█████████████████████████████████████████████████████████████████████████████████████████████████████████████████████████████▏                                           | 363/490 [02:08<00:44,  2.87it/s]"
     ]
    },
    {
     "name": "stdout",
     "output_type": "stream",
     "text": [
      "\"['accumulatedothercomprehensiveincomelossnetoftax'] not in index\"\n"
     ]
    },
    {
     "name": "stderr",
     "output_type": "stream",
     "text": [
      " 74%|█████████████████████████████████████████████████████████████████████████████████████████████████████████████████████████████▉                                           | 365/490 [02:09<00:46,  2.71it/s]"
     ]
    },
    {
     "name": "stdout",
     "output_type": "stream",
     "text": [
      "\"['cashandcashequivalentsatcarryingvalue'] not in index\"\n"
     ]
    },
    {
     "name": "stderr",
     "output_type": "stream",
     "text": [
      " 75%|███████████████████████████████████████████████████████████████████████████████████████████████████████████████████████████████▎                                         | 369/490 [02:11<00:49,  2.46it/s]"
     ]
    },
    {
     "name": "stdout",
     "output_type": "stream",
     "text": [
      "\"['stockholdersequity'] not in index\"\n"
     ]
    },
    {
     "name": "stderr",
     "output_type": "stream",
     "text": [
      "\r",
      " 76%|███████████████████████████████████████████████████████████████████████████████████████████████████████████████████████████████▌                                         | 370/490 [02:11<00:47,  2.52it/s]"
     ]
    },
    {
     "name": "stdout",
     "output_type": "stream",
     "text": [
      "\"['cashandcashequivalentsatcarryingvalue'] not in index\"\n"
     ]
    },
    {
     "name": "stderr",
     "output_type": "stream",
     "text": [
      " 76%|████████████████████████████████████████████████████████████████████████████████████████████████████████████████████████████████▋                                        | 373/490 [02:13<00:55,  2.11it/s]"
     ]
    },
    {
     "name": "stdout",
     "output_type": "stream",
     "text": [
      "\"['propertyplantandequipmentnet'] not in index\"\n"
     ]
    },
    {
     "name": "stderr",
     "output_type": "stream",
     "text": [
      " 77%|█████████████████████████████████████████████████████████████████████████████████████████████████████████████████████████████████▎                                       | 375/490 [02:14<00:45,  2.54it/s]"
     ]
    },
    {
     "name": "stdout",
     "output_type": "stream",
     "text": [
      "\"['propertyplantandequipmentnet'] not in index\"\n"
     ]
    },
    {
     "name": "stderr",
     "output_type": "stream",
     "text": [
      " 78%|███████████████████████████████████████████████████████████████████████████████████████████████████████████████████████████████████▊                                     | 382/490 [02:16<00:35,  3.06it/s]"
     ]
    },
    {
     "name": "stdout",
     "output_type": "stream",
     "text": [
      "\"['entitycommonstocksharesoutstanding'] not in index\"\n"
     ]
    },
    {
     "name": "stderr",
     "output_type": "stream",
     "text": [
      " 79%|████████████████████████████████████████████████████████████████████████████████████████████████████████████████████████████████████▊                                    | 385/490 [02:17<00:41,  2.50it/s]"
     ]
    },
    {
     "name": "stdout",
     "output_type": "stream",
     "text": [
      "\"['retainedearningsaccumulateddeficit', 'propertyplantandequipmentnet'] not in index\"\n"
     ]
    },
    {
     "name": "stderr",
     "output_type": "stream",
     "text": [
      "\r",
      " 79%|█████████████████████████████████████████████████████████████████████████████████████████████████████████████████████████████████████▏                                   | 386/490 [02:18<00:40,  2.59it/s]"
     ]
    },
    {
     "name": "stdout",
     "output_type": "stream",
     "text": [
      "\"['retainedearningsaccumulateddeficit'] not in index\"\n"
     ]
    },
    {
     "name": "stderr",
     "output_type": "stream",
     "text": [
      " 83%|████████████████████████████████████████████████████████████████████████████████████████████████████████████████████████████████████████████                             | 406/490 [02:25<00:33,  2.48it/s]"
     ]
    },
    {
     "name": "stdout",
     "output_type": "stream",
     "text": [
      "\"['propertyplantandequipmentnet', 'entitycommonstocksharesoutstanding'] not in index\"\n"
     ]
    },
    {
     "name": "stderr",
     "output_type": "stream",
     "text": [
      " 85%|███████████████████████████████████████████████████████████████████████████████████████████████████████████████████████████████████████████████▏                         | 415/490 [02:29<00:35,  2.13it/s]"
     ]
    },
    {
     "name": "stdout",
     "output_type": "stream",
     "text": [
      "\"['cashandcashequivalentsatcarryingvalue'] not in index\"\n"
     ]
    },
    {
     "name": "stderr",
     "output_type": "stream",
     "text": [
      " 85%|████████████████████████████████████████████████████████████████████████████████████████████████████████████████████████████████████████████████▏                        | 418/490 [02:29<00:21,  3.36it/s]"
     ]
    },
    {
     "name": "stdout",
     "output_type": "stream",
     "text": [
      "\"['accumulatedothercomprehensiveincomelossnetoftax', 'propertyplantandequipmentnet'] not in index\"\n"
     ]
    },
    {
     "name": "stderr",
     "output_type": "stream",
     "text": [
      " 86%|████████████████████████████████████████████████████████████████████████████████████████████████████████████████████████████████████████████████▊                        | 420/490 [02:30<00:19,  3.62it/s]"
     ]
    },
    {
     "name": "stdout",
     "output_type": "stream",
     "text": [
      "\"['retainedearningsaccumulateddeficit'] not in index\"\n"
     ]
    },
    {
     "name": "stderr",
     "output_type": "stream",
     "text": [
      " 86%|█████████████████████████████████████████████████████████████████████████████████████████████████████████████████████████████████████████████████▌                       | 422/490 [02:30<00:19,  3.44it/s]"
     ]
    },
    {
     "name": "stdout",
     "output_type": "stream",
     "text": [
      "\"['retainedearningsaccumulateddeficit'] not in index\"\n"
     ]
    },
    {
     "name": "stderr",
     "output_type": "stream",
     "text": [
      " 89%|███████████████████████████████████████████████████████████████████████████████████████████████████████████████████████████████████████████████████████                  | 438/490 [02:35<00:15,  3.30it/s]"
     ]
    },
    {
     "name": "stdout",
     "output_type": "stream",
     "text": [
      "\"['propertyplantandequipmentnet', 'cashandcashequivalentsatcarryingvalue'] not in index\"\n"
     ]
    },
    {
     "name": "stderr",
     "output_type": "stream",
     "text": [
      " 90%|███████████████████████████████████████████████████████████████████████████████████████████████████████████████████████████████████████████████████████▊                 | 440/490 [02:36<00:17,  2.89it/s]"
     ]
    },
    {
     "name": "stdout",
     "output_type": "stream",
     "text": [
      "\"['stockholdersequity'] not in index\"\n"
     ]
    },
    {
     "name": "stderr",
     "output_type": "stream",
     "text": [
      " 90%|████████████████████████████████████████████████████████████████████████████████████████████████████████████████████████████████████████████████████████▊                | 443/490 [02:37<00:13,  3.60it/s]"
     ]
    },
    {
     "name": "stdout",
     "output_type": "stream",
     "text": [
      "\"['earningspersharebasic', 'entitycommonstocksharesoutstanding', 'weightedaveragenumberofsharesoutstandingbasic'] not in index\"\n"
     ]
    },
    {
     "name": "stderr",
     "output_type": "stream",
     "text": [
      " 91%|█████████████████████████████████████████████████████████████████████████████████████████████████████████████████████████████████████████████████████████▊               | 446/490 [02:38<00:15,  2.80it/s]"
     ]
    },
    {
     "name": "stdout",
     "output_type": "stream",
     "text": [
      "\"['retainedearningsaccumulateddeficit', 'propertyplantandequipmentnet'] not in index\"\n"
     ]
    },
    {
     "name": "stderr",
     "output_type": "stream",
     "text": [
      "\r",
      " 91%|██████████████████████████████████████████████████████████████████████████████████████████████████████████████████████████████████████████████████████████▏              | 447/490 [02:38<00:13,  3.17it/s]"
     ]
    },
    {
     "name": "stdout",
     "output_type": "stream",
     "text": [
      "\"['entitycommonstocksharesoutstanding'] not in index\"\n"
     ]
    },
    {
     "name": "stderr",
     "output_type": "stream",
     "text": [
      " 92%|███████████████████████████████████████████████████████████████████████████████████████████████████████████████████████████████████████████████████████████▏             | 450/490 [02:39<00:12,  3.15it/s]"
     ]
    },
    {
     "name": "stdout",
     "output_type": "stream",
     "text": [
      "\"['entitycommonstocksharesoutstanding'] not in index\"\n"
     ]
    },
    {
     "name": "stderr",
     "output_type": "stream",
     "text": [
      " 92%|████████████████████████████████████████████████████████████████████████████████████████████████████████████████████████████████████████████████████████████▏            | 453/490 [02:40<00:11,  3.31it/s]"
     ]
    },
    {
     "name": "stdout",
     "output_type": "stream",
     "text": [
      "\"['entitycommonstocksharesoutstanding'] not in index\"\n"
     ]
    },
    {
     "name": "stderr",
     "output_type": "stream",
     "text": [
      " 93%|████████████████████████████████████████████████████████████████████████████████████████████████████████████████████████████████████████████████████████████▉            | 455/490 [02:41<00:11,  3.01it/s]"
     ]
    },
    {
     "name": "stdout",
     "output_type": "stream",
     "text": [
      "\"['propertyplantandequipmentnet'] not in index\"\n"
     ]
    },
    {
     "name": "stderr",
     "output_type": "stream",
     "text": [
      " 94%|███████████████████████████████████████████████████████████████████████████████████████████████████████████████████████████████████████████████████████████████▋         | 463/490 [02:44<00:08,  3.32it/s]"
     ]
    },
    {
     "name": "stdout",
     "output_type": "stream",
     "text": [
      "\"['earningspersharebasic', 'earningspersharediluted', 'entitycommonstocksharesoutstanding', 'weightedaveragenumberofdilutedsharesoutstanding', 'weightedaveragenumberofsharesoutstandingbasic', 'stockholdersequity'] not in index\"\n"
     ]
    },
    {
     "name": "stderr",
     "output_type": "stream",
     "text": [
      "\r",
      " 95%|████████████████████████████████████████████████████████████████████████████████████████████████████████████████████████████████████████████████████████████████         | 464/490 [02:44<00:08,  3.20it/s]"
     ]
    },
    {
     "name": "stdout",
     "output_type": "stream",
     "text": [
      "\"['propertyplantandequipmentnet'] not in index\"\n"
     ]
    },
    {
     "name": "stderr",
     "output_type": "stream",
     "text": [
      " 97%|███████████████████████████████████████████████████████████████████████████████████████████████████████████████████████████████████████████████████████████████████▏     | 473/490 [02:48<00:08,  2.00it/s]"
     ]
    },
    {
     "name": "stdout",
     "output_type": "stream",
     "text": [
      "\"['cashandcashequivalentsatcarryingvalue'] not in index\"\n"
     ]
    },
    {
     "name": "stderr",
     "output_type": "stream",
     "text": [
      "\r",
      " 97%|███████████████████████████████████████████████████████████████████████████████████████████████████████████████████████████████████████████████████████████████████▍     | 474/490 [02:48<00:07,  2.08it/s]"
     ]
    },
    {
     "name": "stdout",
     "output_type": "stream",
     "text": [
      "\"['propertyplantandequipmentnet'] not in index\"\n"
     ]
    },
    {
     "name": "stderr",
     "output_type": "stream",
     "text": [
      "100%|████████████████████████████████████████████████████████████████████████████████████████████████████████████████████████████████████████████████████████████████████████▋| 489/490 [02:54<00:00,  1.89it/s]"
     ]
    },
    {
     "name": "stdout",
     "output_type": "stream",
     "text": [
      "\"['cashandcashequivalentsatcarryingvalue'] not in index\"\n"
     ]
    },
    {
     "name": "stderr",
     "output_type": "stream",
     "text": [
      "100%|█████████████████████████████████████████████████████████████████████████████████████████████████████████████████████████████████████████████████████████████████████████| 490/490 [02:54<00:00,  2.81it/s]\n"
     ]
    }
   ],
   "source": [
    "market.connect()\n",
    "sec.connect()\n",
    "training_sets = []\n",
    "for ticker in tqdm(sp500[\"ticker\"].unique()):\n",
    "    try:\n",
    "        cik = int(sp500[sp500[\"ticker\"]==ticker][\"CIK\"])\n",
    "        prices = market.retrieve_ticker_prices(classifier_class.asset_class.value,ticker)\n",
    "        prices = p.column_date_processing(prices)\n",
    "        filing = sec.retrieve_filing_data(cik)\n",
    "        filing = p.column_date_processing(filing)\n",
    "        ticker_data = classifier_class.training_set(ticker,prices,filing,True)\n",
    "        training_sets.append(ticker_data)\n",
    "    except Exception as e:\n",
    "        print(str(e))\n",
    "        continue\n",
    "market.disconnect()\n",
    "sec.disconnect()\n",
    "data = pd.concat(training_sets)\n",
    "training_data = data.dropna().copy().sort_values([\"year\",\"quarter\"])"
   ]
  },
  {
   "cell_type": "code",
   "execution_count": 15,
   "id": "219d50d7",
   "metadata": {},
   "outputs": [
    {
     "data": {
      "text/html": [
       "<div>\n",
       "<style scoped>\n",
       "    .dataframe tbody tr th:only-of-type {\n",
       "        vertical-align: middle;\n",
       "    }\n",
       "\n",
       "    .dataframe tbody tr th {\n",
       "        vertical-align: top;\n",
       "    }\n",
       "\n",
       "    .dataframe thead th {\n",
       "        text-align: right;\n",
       "    }\n",
       "</style>\n",
       "<table border=\"1\" class=\"dataframe\">\n",
       "  <thead>\n",
       "    <tr style=\"text-align: right;\">\n",
       "      <th></th>\n",
       "      <th>assets</th>\n",
       "      <th>liabilitiesandstockholdersequity</th>\n",
       "      <th>incometaxexpensebenefit</th>\n",
       "      <th>retainedearningsaccumulateddeficit</th>\n",
       "      <th>accumulatedothercomprehensiveincomelossnetoftax</th>\n",
       "      <th>earningspersharebasic</th>\n",
       "      <th>earningspersharediluted</th>\n",
       "      <th>propertyplantandequipmentnet</th>\n",
       "      <th>cashandcashequivalentsatcarryingvalue</th>\n",
       "      <th>entitycommonstocksharesoutstanding</th>\n",
       "      <th>weightedaveragenumberofdilutedsharesoutstanding</th>\n",
       "      <th>weightedaveragenumberofsharesoutstandingbasic</th>\n",
       "      <th>stockholdersequity</th>\n",
       "      <th>year</th>\n",
       "      <th>quarter</th>\n",
       "      <th>ticker</th>\n",
       "      <th>adjclose</th>\n",
       "    </tr>\n",
       "  </thead>\n",
       "  <tbody>\n",
       "    <tr>\n",
       "      <th>48</th>\n",
       "      <td>2.967400e+10</td>\n",
       "      <td>3.088600e+10</td>\n",
       "      <td>1.551333e+09</td>\n",
       "      <td>2.717150e+10</td>\n",
       "      <td>-4.284000e+09</td>\n",
       "      <td>2.555455</td>\n",
       "      <td>2.519091</td>\n",
       "      <td>7.472500e+09</td>\n",
       "      <td>2.621250e+09</td>\n",
       "      <td>6.945438e+08</td>\n",
       "      <td>7.170667e+08</td>\n",
       "      <td>7.075667e+08</td>\n",
       "      <td>1.554150e+10</td>\n",
       "      <td>2012</td>\n",
       "      <td>1</td>\n",
       "      <td>MMM</td>\n",
       "      <td>62.705929</td>\n",
       "    </tr>\n",
       "    <tr>\n",
       "      <th>48</th>\n",
       "      <td>5.781079e+10</td>\n",
       "      <td>5.781079e+10</td>\n",
       "      <td>1.001597e+09</td>\n",
       "      <td>1.915527e+10</td>\n",
       "      <td>-1.036652e+09</td>\n",
       "      <td>1.295333</td>\n",
       "      <td>1.286000</td>\n",
       "      <td>7.821467e+09</td>\n",
       "      <td>5.845638e+09</td>\n",
       "      <td>1.572357e+09</td>\n",
       "      <td>1.559512e+09</td>\n",
       "      <td>1.550342e+09</td>\n",
       "      <td>2.342031e+10</td>\n",
       "      <td>2012</td>\n",
       "      <td>1</td>\n",
       "      <td>ABT</td>\n",
       "      <td>21.876468</td>\n",
       "    </tr>\n",
       "    <tr>\n",
       "      <th>48</th>\n",
       "      <td>1.361070e+08</td>\n",
       "      <td>1.361070e+08</td>\n",
       "      <td>4.665000e+05</td>\n",
       "      <td>-2.753060e+08</td>\n",
       "      <td>-1.145500e+06</td>\n",
       "      <td>-0.060000</td>\n",
       "      <td>-0.062500</td>\n",
       "      <td>6.343000e+06</td>\n",
       "      <td>4.976000e+06</td>\n",
       "      <td>3.899407e+07</td>\n",
       "      <td>3.820800e+07</td>\n",
       "      <td>3.776500e+07</td>\n",
       "      <td>1.112605e+08</td>\n",
       "      <td>2012</td>\n",
       "      <td>1</td>\n",
       "      <td>ABMD</td>\n",
       "      <td>20.784597</td>\n",
       "    </tr>\n",
       "    <tr>\n",
       "      <th>48</th>\n",
       "      <td>8.814056e+09</td>\n",
       "      <td>8.814056e+09</td>\n",
       "      <td>1.484770e+08</td>\n",
       "      <td>6.383864e+09</td>\n",
       "      <td>3.101900e+07</td>\n",
       "      <td>0.530909</td>\n",
       "      <td>0.525227</td>\n",
       "      <td>5.135792e+08</td>\n",
       "      <td>8.832672e+08</td>\n",
       "      <td>4.949645e+08</td>\n",
       "      <td>5.129899e+08</td>\n",
       "      <td>5.063682e+08</td>\n",
       "      <td>5.476906e+09</td>\n",
       "      <td>2012</td>\n",
       "      <td>1</td>\n",
       "      <td>ADBE</td>\n",
       "      <td>32.043629</td>\n",
       "    </tr>\n",
       "    <tr>\n",
       "      <th>48</th>\n",
       "      <td>3.336135e+10</td>\n",
       "      <td>3.336135e+10</td>\n",
       "      <td>2.682250e+08</td>\n",
       "      <td>1.195825e+10</td>\n",
       "      <td>3.533000e+08</td>\n",
       "      <td>0.997500</td>\n",
       "      <td>0.987500</td>\n",
       "      <td>7.120500e+08</td>\n",
       "      <td>1.417425e+09</td>\n",
       "      <td>4.905759e+08</td>\n",
       "      <td>4.945000e+08</td>\n",
       "      <td>4.894250e+08</td>\n",
       "      <td>6.096400e+09</td>\n",
       "      <td>2012</td>\n",
       "      <td>1</td>\n",
       "      <td>ADP</td>\n",
       "      <td>37.387025</td>\n",
       "    </tr>\n",
       "    <tr>\n",
       "      <th>...</th>\n",
       "      <td>...</td>\n",
       "      <td>...</td>\n",
       "      <td>...</td>\n",
       "      <td>...</td>\n",
       "      <td>...</td>\n",
       "      <td>...</td>\n",
       "      <td>...</td>\n",
       "      <td>...</td>\n",
       "      <td>...</td>\n",
       "      <td>...</td>\n",
       "      <td>...</td>\n",
       "      <td>...</td>\n",
       "      <td>...</td>\n",
       "      <td>...</td>\n",
       "      <td>...</td>\n",
       "      <td>...</td>\n",
       "      <td>...</td>\n",
       "    </tr>\n",
       "    <tr>\n",
       "      <th>92</th>\n",
       "      <td>7.090000e+09</td>\n",
       "      <td>7.090000e+09</td>\n",
       "      <td>3.653333e+08</td>\n",
       "      <td>1.010000e+10</td>\n",
       "      <td>-1.380000e+08</td>\n",
       "      <td>21.013333</td>\n",
       "      <td>20.906667</td>\n",
       "      <td>1.442500e+09</td>\n",
       "      <td>2.830000e+08</td>\n",
       "      <td>5.019927e+07</td>\n",
       "      <td>5.233333e+07</td>\n",
       "      <td>5.210000e+07</td>\n",
       "      <td>2.157000e+09</td>\n",
       "      <td>2023</td>\n",
       "      <td>1</td>\n",
       "      <td>GWW</td>\n",
       "      <td>637.035881</td>\n",
       "    </tr>\n",
       "    <tr>\n",
       "      <th>81</th>\n",
       "      <td>8.003275e+09</td>\n",
       "      <td>1.297296e+10</td>\n",
       "      <td>1.914923e+08</td>\n",
       "      <td>-2.499943e+09</td>\n",
       "      <td>2.800000e+06</td>\n",
       "      <td>-9.913333</td>\n",
       "      <td>-9.913333</td>\n",
       "      <td>7.830684e+09</td>\n",
       "      <td>3.086485e+09</td>\n",
       "      <td>1.136878e+08</td>\n",
       "      <td>1.113760e+08</td>\n",
       "      <td>1.113760e+08</td>\n",
       "      <td>-4.826280e+08</td>\n",
       "      <td>2023</td>\n",
       "      <td>1</td>\n",
       "      <td>WYNN</td>\n",
       "      <td>104.590726</td>\n",
       "    </tr>\n",
       "    <tr>\n",
       "      <th>45</th>\n",
       "      <td>8.326000e+09</td>\n",
       "      <td>8.114000e+09</td>\n",
       "      <td>6.666667e+07</td>\n",
       "      <td>2.223000e+09</td>\n",
       "      <td>-2.985000e+08</td>\n",
       "      <td>1.916667</td>\n",
       "      <td>1.903333</td>\n",
       "      <td>6.370000e+08</td>\n",
       "      <td>1.146500e+09</td>\n",
       "      <td>1.802784e+08</td>\n",
       "      <td>1.812013e+08</td>\n",
       "      <td>1.801933e+08</td>\n",
       "      <td>3.356000e+09</td>\n",
       "      <td>2023</td>\n",
       "      <td>1</td>\n",
       "      <td>XYL</td>\n",
       "      <td>104.252934</td>\n",
       "    </tr>\n",
       "    <tr>\n",
       "      <th>92</th>\n",
       "      <td>6.872000e+09</td>\n",
       "      <td>6.872000e+09</td>\n",
       "      <td>8.933333e+07</td>\n",
       "      <td>3.804500e+09</td>\n",
       "      <td>-4.750000e+07</td>\n",
       "      <td>11.316667</td>\n",
       "      <td>11.223333</td>\n",
       "      <td>2.750000e+08</td>\n",
       "      <td>2.016667e+08</td>\n",
       "      <td>5.140474e+07</td>\n",
       "      <td>5.345813e+07</td>\n",
       "      <td>5.303189e+07</td>\n",
       "      <td>2.425000e+09</td>\n",
       "      <td>2023</td>\n",
       "      <td>1</td>\n",
       "      <td>ZBRA</td>\n",
       "      <td>302.155806</td>\n",
       "    </tr>\n",
       "    <tr>\n",
       "      <th>86</th>\n",
       "      <td>2.226120e+10</td>\n",
       "      <td>2.226120e+10</td>\n",
       "      <td>2.326667e+07</td>\n",
       "      <td>9.925750e+09</td>\n",
       "      <td>-2.054500e+08</td>\n",
       "      <td>0.786667</td>\n",
       "      <td>0.780000</td>\n",
       "      <td>1.854550e+09</td>\n",
       "      <td>3.769000e+08</td>\n",
       "      <td>2.089803e+08</td>\n",
       "      <td>2.092333e+08</td>\n",
       "      <td>2.084000e+08</td>\n",
       "      <td>1.234050e+10</td>\n",
       "      <td>2023</td>\n",
       "      <td>1</td>\n",
       "      <td>ZBH</td>\n",
       "      <td>125.327806</td>\n",
       "    </tr>\n",
       "  </tbody>\n",
       "</table>\n",
       "<p>12305 rows × 17 columns</p>\n",
       "</div>"
      ],
      "text/plain": [
       "          assets  liabilitiesandstockholdersequity  incometaxexpensebenefit  \\\n",
       "48  2.967400e+10                      3.088600e+10             1.551333e+09   \n",
       "48  5.781079e+10                      5.781079e+10             1.001597e+09   \n",
       "48  1.361070e+08                      1.361070e+08             4.665000e+05   \n",
       "48  8.814056e+09                      8.814056e+09             1.484770e+08   \n",
       "48  3.336135e+10                      3.336135e+10             2.682250e+08   \n",
       "..           ...                               ...                      ...   \n",
       "92  7.090000e+09                      7.090000e+09             3.653333e+08   \n",
       "81  8.003275e+09                      1.297296e+10             1.914923e+08   \n",
       "45  8.326000e+09                      8.114000e+09             6.666667e+07   \n",
       "92  6.872000e+09                      6.872000e+09             8.933333e+07   \n",
       "86  2.226120e+10                      2.226120e+10             2.326667e+07   \n",
       "\n",
       "    retainedearningsaccumulateddeficit  \\\n",
       "48                        2.717150e+10   \n",
       "48                        1.915527e+10   \n",
       "48                       -2.753060e+08   \n",
       "48                        6.383864e+09   \n",
       "48                        1.195825e+10   \n",
       "..                                 ...   \n",
       "92                        1.010000e+10   \n",
       "81                       -2.499943e+09   \n",
       "45                        2.223000e+09   \n",
       "92                        3.804500e+09   \n",
       "86                        9.925750e+09   \n",
       "\n",
       "    accumulatedothercomprehensiveincomelossnetoftax  earningspersharebasic  \\\n",
       "48                                    -4.284000e+09               2.555455   \n",
       "48                                    -1.036652e+09               1.295333   \n",
       "48                                    -1.145500e+06              -0.060000   \n",
       "48                                     3.101900e+07               0.530909   \n",
       "48                                     3.533000e+08               0.997500   \n",
       "..                                              ...                    ...   \n",
       "92                                    -1.380000e+08              21.013333   \n",
       "81                                     2.800000e+06              -9.913333   \n",
       "45                                    -2.985000e+08               1.916667   \n",
       "92                                    -4.750000e+07              11.316667   \n",
       "86                                    -2.054500e+08               0.786667   \n",
       "\n",
       "    earningspersharediluted  propertyplantandequipmentnet  \\\n",
       "48                 2.519091                  7.472500e+09   \n",
       "48                 1.286000                  7.821467e+09   \n",
       "48                -0.062500                  6.343000e+06   \n",
       "48                 0.525227                  5.135792e+08   \n",
       "48                 0.987500                  7.120500e+08   \n",
       "..                      ...                           ...   \n",
       "92                20.906667                  1.442500e+09   \n",
       "81                -9.913333                  7.830684e+09   \n",
       "45                 1.903333                  6.370000e+08   \n",
       "92                11.223333                  2.750000e+08   \n",
       "86                 0.780000                  1.854550e+09   \n",
       "\n",
       "    cashandcashequivalentsatcarryingvalue  entitycommonstocksharesoutstanding  \\\n",
       "48                           2.621250e+09                        6.945438e+08   \n",
       "48                           5.845638e+09                        1.572357e+09   \n",
       "48                           4.976000e+06                        3.899407e+07   \n",
       "48                           8.832672e+08                        4.949645e+08   \n",
       "48                           1.417425e+09                        4.905759e+08   \n",
       "..                                    ...                                 ...   \n",
       "92                           2.830000e+08                        5.019927e+07   \n",
       "81                           3.086485e+09                        1.136878e+08   \n",
       "45                           1.146500e+09                        1.802784e+08   \n",
       "92                           2.016667e+08                        5.140474e+07   \n",
       "86                           3.769000e+08                        2.089803e+08   \n",
       "\n",
       "    weightedaveragenumberofdilutedsharesoutstanding  \\\n",
       "48                                     7.170667e+08   \n",
       "48                                     1.559512e+09   \n",
       "48                                     3.820800e+07   \n",
       "48                                     5.129899e+08   \n",
       "48                                     4.945000e+08   \n",
       "..                                              ...   \n",
       "92                                     5.233333e+07   \n",
       "81                                     1.113760e+08   \n",
       "45                                     1.812013e+08   \n",
       "92                                     5.345813e+07   \n",
       "86                                     2.092333e+08   \n",
       "\n",
       "    weightedaveragenumberofsharesoutstandingbasic  stockholdersequity  year  \\\n",
       "48                                   7.075667e+08        1.554150e+10  2012   \n",
       "48                                   1.550342e+09        2.342031e+10  2012   \n",
       "48                                   3.776500e+07        1.112605e+08  2012   \n",
       "48                                   5.063682e+08        5.476906e+09  2012   \n",
       "48                                   4.894250e+08        6.096400e+09  2012   \n",
       "..                                            ...                 ...   ...   \n",
       "92                                   5.210000e+07        2.157000e+09  2023   \n",
       "81                                   1.113760e+08       -4.826280e+08  2023   \n",
       "45                                   1.801933e+08        3.356000e+09  2023   \n",
       "92                                   5.303189e+07        2.425000e+09  2023   \n",
       "86                                   2.084000e+08        1.234050e+10  2023   \n",
       "\n",
       "    quarter ticker    adjclose  \n",
       "48        1    MMM   62.705929  \n",
       "48        1    ABT   21.876468  \n",
       "48        1   ABMD   20.784597  \n",
       "48        1   ADBE   32.043629  \n",
       "48        1    ADP   37.387025  \n",
       "..      ...    ...         ...  \n",
       "92        1    GWW  637.035881  \n",
       "81        1   WYNN  104.590726  \n",
       "45        1    XYL  104.252934  \n",
       "92        1   ZBRA  302.155806  \n",
       "86        1    ZBH  125.327806  \n",
       "\n",
       "[12305 rows x 17 columns]"
      ]
     },
     "execution_count": 15,
     "metadata": {},
     "output_type": "execute_result"
    }
   ],
   "source": [
    "training_data"
   ]
  },
  {
   "cell_type": "code",
   "execution_count": 16,
   "id": "8d760874",
   "metadata": {},
   "outputs": [
    {
     "name": "stdout",
     "output_type": "stream",
     "text": [
      "Keras model archive loading:\n",
      "File Name                                             Modified             Size\n",
      "config.json                                    2023-06-13 10:32:02         2143\n",
      "metadata.json                                  2023-06-13 10:32:02           64\n",
      "variables.h5                                   2023-06-13 10:32:02        25400\n",
      "Keras weights file (<HDF5 file \"variables.h5\" (mode r)>) loading:\n",
      "...layers\\dense\n",
      "......vars\n",
      ".........0\n",
      ".........1\n",
      "...layers\\dense_1\n",
      "......vars\n",
      ".........0\n",
      ".........1\n",
      "...layers\\dropout\n",
      "......vars\n",
      "...metrics\\mean\n",
      "......vars\n",
      ".........0\n",
      ".........1\n",
      "...metrics\\mean_metric_wrapper\n",
      "......vars\n",
      ".........0\n",
      ".........1\n",
      "...optimizer\n",
      "......vars\n",
      ".........0\n",
      ".........1\n",
      ".........2\n",
      ".........3\n",
      ".........4\n",
      ".........5\n",
      ".........6\n",
      ".........7\n",
      ".........8\n",
      "...vars\n",
      "385/385 [==============================] - 0s 534us/step\n"
     ]
    }
   ],
   "source": [
    "classifier_class.db.connect()\n",
    "classifier_class.db.drop(\"predictions\")\n",
    "prediction_set = training_data.reset_index(drop=True)\n",
    "models = classifier_class.db.retrieve(\"models\")\n",
    "stuff = modeler_strat.recommend_classification(models,prediction_set,classifier_class.factors)\n",
    "stuff = stuff.rename(columns={\"prediction\":f\"classification_prediction\"})\n",
    "relevant_columns = list(set(list(stuff.columns)) - set(classifier_class.factors))\n",
    "stuff = classifier_class.sim_processor(stuff)\n",
    "stuff = stuff[stuff[\"year\"]==current_year]\n",
    "classifier_class.db.store(\"predictions\",stuff[relevant_columns])\n",
    "classifier_class.db.disconnect()"
   ]
  }
 ],
 "metadata": {
  "kernelspec": {
   "display_name": "Python 3 (ipykernel)",
   "language": "python",
   "name": "python3"
  },
  "language_info": {
   "codemirror_mode": {
    "name": "ipython",
    "version": 3
   },
   "file_extension": ".py",
   "mimetype": "text/x-python",
   "name": "python",
   "nbconvert_exporter": "python",
   "pygments_lexer": "ipython3",
   "version": "3.10.5"
  }
 },
 "nbformat": 4,
 "nbformat_minor": 5
}
