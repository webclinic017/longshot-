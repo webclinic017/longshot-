{
 "cells": [
  {
   "cell_type": "code",
   "execution_count": 1,
   "id": "aa80f443",
   "metadata": {
    "scrolled": true
   },
   "outputs": [],
   "source": [
    "## database imports\n",
    "from database.market import Market\n",
    "from database.adatabase import ADatabase\n",
    "\n",
    "## data processor import\n",
    "from processor.processor import Processor as p\n",
    "\n",
    "## risk and return class imports\n",
    "from returns.products import Products as returns_products_class\n",
    "from risk.weekly_risk import WeeklyRisk as risk_class\n",
    "from returns.weekly_returns import WeeklyReturns as returns_class\n",
    "\n",
    "## backtester import\n",
    "from backtester.weekly_backtester import WeeklyBacktester as b\n",
    "\n",
    "## additional imports\n",
    "from datetime import datetime\n",
    "import pandas as pd\n",
    "from tqdm import tqdm"
   ]
  },
  {
   "cell_type": "code",
   "execution_count": 17,
   "id": "b38d4176",
   "metadata": {
    "scrolled": true
   },
   "outputs": [],
   "source": [
    "start_date = datetime(2023,1,1)\n",
    "end_date = datetime.now()"
   ]
  },
  {
   "cell_type": "code",
   "execution_count": 18,
   "id": "e5adbebb",
   "metadata": {},
   "outputs": [],
   "source": [
    "market = Market()\n",
    "speculation_db = ADatabase(\"btc_spec\")\n",
    "classification_db = ADatabase(\"btc_spec_classification\")\n",
    "btc_db = ADatabase(\"btc_current\")"
   ]
  },
  {
   "cell_type": "code",
   "execution_count": 19,
   "id": "235a8676",
   "metadata": {
    "scrolled": true
   },
   "outputs": [],
   "source": [
    "market.connect()\n",
    "prices = market.retrieve(\"crypto\")\n",
    "market.disconnect()\n",
    "current_prices = pd.read_csv(\"./csv_files/prices/BTC-USD.csv\")\n",
    "current_prices[\"ticker\"] = \"BTC\"\n",
    "current_prices = p.column_date_processing(current_prices)\n",
    "prices = p.column_date_processing(prices)\n",
    "prices[\"ticker\"] = \"BTC\"\n",
    "prices = pd.concat([prices,current_prices])"
   ]
  },
  {
   "cell_type": "code",
   "execution_count": 20,
   "id": "9bdab5e1",
   "metadata": {},
   "outputs": [],
   "source": [
    "tyields = returns_products_class.tyields()\n",
    "bench_returns = returns_products_class.spy_bench()"
   ]
  },
  {
   "cell_type": "code",
   "execution_count": 21,
   "id": "f5b10169",
   "metadata": {},
   "outputs": [],
   "source": [
    "ticker_sim = prices.copy()\n",
    "price_returns = returns_class.returns(ticker_sim)\n",
    "price_returns = risk_class.risk(ticker_sim,bench_returns)"
   ]
  },
  {
   "cell_type": "code",
   "execution_count": 22,
   "id": "5b375c05",
   "metadata": {},
   "outputs": [],
   "source": [
    "speculation_db.connect()\n",
    "simulation = speculation_db.retrieve(\"predictions\")\n",
    "speculation_db.disconnect()"
   ]
  },
  {
   "cell_type": "code",
   "execution_count": 23,
   "id": "fa606062",
   "metadata": {},
   "outputs": [],
   "source": [
    "classification_db.connect()\n",
    "classification_simulation = classification_db.retrieve(\"predictions\")\n",
    "classification_db.disconnect()"
   ]
  },
  {
   "cell_type": "code",
   "execution_count": 24,
   "id": "a61c6b3e",
   "metadata": {},
   "outputs": [],
   "source": [
    "simulation = price_returns.merge(simulation.drop(\"adjclose\",axis=1)[[\"year\",\"week\",\"ticker\",\"prediction\"]],on=[\"year\",\"week\",\"ticker\"],how=\"left\") \\\n",
    "                    .merge(classification_simulation.drop([\"adjclose\"],axis=1)[[\"year\",\"week\",\"ticker\",\"classification_prediction\"]],on=[\"year\",\"week\",\"ticker\"],how=\"left\") \\\n",
    "                    .merge(tyields[[\"date\",\"weekly_yield\"]],on=\"date\",how=\"left\")"
   ]
  },
  {
   "cell_type": "code",
   "execution_count": 25,
   "id": "c040f7fd",
   "metadata": {},
   "outputs": [],
   "source": [
    "sim = simulation.dropna()"
   ]
  },
  {
   "cell_type": "code",
   "execution_count": 26,
   "id": "bc8fc475",
   "metadata": {},
   "outputs": [],
   "source": [
    "sim.sort_values(\"date\",inplace=True)"
   ]
  },
  {
   "cell_type": "code",
   "execution_count": 27,
   "id": "809990bd",
   "metadata": {},
   "outputs": [],
   "source": [
    "sim = sim.groupby([\"date\",\"ticker\",\"classification_prediction\"]).mean().reset_index()"
   ]
  },
  {
   "cell_type": "code",
   "execution_count": 28,
   "id": "7710948a",
   "metadata": {
    "scrolled": true
   },
   "outputs": [],
   "source": [
    "trades = []\n",
    "values = [True,False]\n",
    "classifications = [True,False]\n",
    "ceilings = [True,False]\n",
    "floors = [True,False]\n",
    "parameters = []\n",
    "positions = 1\n",
    "strats = [\"spec\",\"rolling\",\"window\"]\n",
    "for strat in strats:\n",
    "    for value in values:\n",
    "        for classification in classifications:\n",
    "            for ceiling in ceilings:\n",
    "                for floor in floors:\n",
    "                    parameter = {\n",
    "                                \"value\":value\n",
    "                                 ,\"classification\":classification\n",
    "                                 ,\"ceiling\":ceiling\n",
    "                                 ,\"floor\":floor\n",
    "                                ,\"strat\":strat\n",
    "                                }\n",
    "                    parameters.append(parameter)"
   ]
  },
  {
   "cell_type": "code",
   "execution_count": 29,
   "id": "2ffb7b04",
   "metadata": {},
   "outputs": [],
   "source": [
    "parameter = parameters[0]"
   ]
  },
  {
   "cell_type": "code",
   "execution_count": 30,
   "id": "40c956bc",
   "metadata": {},
   "outputs": [
    {
     "name": "stderr",
     "output_type": "stream",
     "text": [
      "100%|██████████████████████████████████████████████████████████████████████████████████████████████████████████████████████████████████████████████████████████| 48/48 [00:00<00:00, 49.58it/s]\n"
     ]
    }
   ],
   "source": [
    "btc_db.connect()\n",
    "btc_db.drop(\"trades\")\n",
    "for parameter in tqdm(parameters):\n",
    "    backtest_data = sim.copy().dropna()\n",
    "    strat = parameter[\"strat\"]\n",
    "    backtest_data = returns_class.returns_backtest(strat,backtest_data)\n",
    "    b.backtest(backtest_data.copy(),positions,parameter,start_date,end_date,btc_db)\n",
    "btc_db.disconnect()"
   ]
  }
 ],
 "metadata": {
  "kernelspec": {
   "display_name": "Python 3 (ipykernel)",
   "language": "python",
   "name": "python3"
  },
  "language_info": {
   "codemirror_mode": {
    "name": "ipython",
    "version": 3
   },
   "file_extension": ".py",
   "mimetype": "text/x-python",
   "name": "python",
   "nbconvert_exporter": "python",
   "pygments_lexer": "ipython3",
   "version": "3.10.5"
  }
 },
 "nbformat": 4,
 "nbformat_minor": 5
}
