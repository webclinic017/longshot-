{
 "cells": [
  {
   "cell_type": "code",
   "execution_count": 5,
   "id": "29d1e6b6",
   "metadata": {},
   "outputs": [],
   "source": [
    "from fund.fund import Fund\n",
    "import pandas as pd\n",
    "from datetime import datetime"
   ]
  },
  {
   "cell_type": "code",
   "execution_count": 6,
   "id": "abea5134",
   "metadata": {},
   "outputs": [],
   "source": [
    "delta_fund = Fund(datetime.now(),datetime.now(),datetime.now())\n",
    "delta_fund.initialize()"
   ]
  },
  {
   "cell_type": "code",
   "execution_count": 7,
   "id": "53087e9d",
   "metadata": {},
   "outputs": [],
   "source": [
    "strategies = pd.DataFrame([{\"strategy\":x.name} for x in delta_fund.strategies])"
   ]
  },
  {
   "cell_type": "code",
   "execution_count": 8,
   "id": "646d8003",
   "metadata": {},
   "outputs": [
    {
     "data": {
      "text/html": [
       "<div>\n",
       "<style scoped>\n",
       "    .dataframe tbody tr th:only-of-type {\n",
       "        vertical-align: middle;\n",
       "    }\n",
       "\n",
       "    .dataframe tbody tr th {\n",
       "        vertical-align: top;\n",
       "    }\n",
       "\n",
       "    .dataframe thead th {\n",
       "        text-align: right;\n",
       "    }\n",
       "</style>\n",
       "<table border=\"1\" class=\"dataframe\">\n",
       "  <thead>\n",
       "    <tr style=\"text-align: right;\">\n",
       "      <th></th>\n",
       "      <th>strategy</th>\n",
       "    </tr>\n",
       "  </thead>\n",
       "  <tbody>\n",
       "    <tr>\n",
       "      <th>0</th>\n",
       "      <td>strategy_dsrp_qsrc_qser_b_r</td>\n",
       "    </tr>\n",
       "    <tr>\n",
       "      <th>1</th>\n",
       "      <td>strategy_dsrp_qsrc_qsrr_b_r</td>\n",
       "    </tr>\n",
       "    <tr>\n",
       "      <th>2</th>\n",
       "      <td>strategy_wsrp_qsrc_qser_b_r</td>\n",
       "    </tr>\n",
       "    <tr>\n",
       "      <th>3</th>\n",
       "      <td>strategy_wsrp_qsrc_qsrr_b_r</td>\n",
       "    </tr>\n",
       "    <tr>\n",
       "      <th>4</th>\n",
       "      <td>strategy_qsrp_qsrc_qser_b_r</td>\n",
       "    </tr>\n",
       "    <tr>\n",
       "      <th>5</th>\n",
       "      <td>strategy_qsrp_qsrc_qsrr_b_r</td>\n",
       "    </tr>\n",
       "    <tr>\n",
       "      <th>6</th>\n",
       "      <td>strategy_dswp_qsrc_qser_b_r</td>\n",
       "    </tr>\n",
       "    <tr>\n",
       "      <th>7</th>\n",
       "      <td>strategy_dswp_qsrc_qsrr_b_r</td>\n",
       "    </tr>\n",
       "    <tr>\n",
       "      <th>8</th>\n",
       "      <td>strategy_wswp_qsrc_qser_b_r</td>\n",
       "    </tr>\n",
       "    <tr>\n",
       "      <th>9</th>\n",
       "      <td>strategy_wswp_qsrc_qsrr_b_r</td>\n",
       "    </tr>\n",
       "    <tr>\n",
       "      <th>10</th>\n",
       "      <td>strategy_qswp_qsrc_qser_b_r</td>\n",
       "    </tr>\n",
       "    <tr>\n",
       "      <th>11</th>\n",
       "      <td>strategy_qswp_qsrc_qsrr_b_r</td>\n",
       "    </tr>\n",
       "  </tbody>\n",
       "</table>\n",
       "</div>"
      ],
      "text/plain": [
       "                       strategy\n",
       "0   strategy_dsrp_qsrc_qser_b_r\n",
       "1   strategy_dsrp_qsrc_qsrr_b_r\n",
       "2   strategy_wsrp_qsrc_qser_b_r\n",
       "3   strategy_wsrp_qsrc_qsrr_b_r\n",
       "4   strategy_qsrp_qsrc_qser_b_r\n",
       "5   strategy_qsrp_qsrc_qsrr_b_r\n",
       "6   strategy_dswp_qsrc_qser_b_r\n",
       "7   strategy_dswp_qsrc_qsrr_b_r\n",
       "8   strategy_wswp_qsrc_qser_b_r\n",
       "9   strategy_wswp_qsrc_qsrr_b_r\n",
       "10  strategy_qswp_qsrc_qser_b_r\n",
       "11  strategy_qswp_qsrc_qsrr_b_r"
      ]
     },
     "execution_count": 8,
     "metadata": {},
     "output_type": "execute_result"
    }
   ],
   "source": [
    "delta_fund.db.connect()\n",
    "delta_fund.drop(\"strategies\")\n",
    "delta_fund.db.store(\"strategies\",strategies)\n",
    "delta_fund.db.disconnect()"
   ]
  },
  {
   "cell_type": "code",
   "execution_count": null,
   "id": "5e565643",
   "metadata": {},
   "outputs": [],
   "source": [
    "delta_fund.db.cloud_connect()\n",
    "delta_fund.drop(\"strategies\")\n",
    "delta_fund.db.store(\"strategies\",strategies)\n",
    "delta_fund.db.disconnect()"
   ]
  }
 ],
 "metadata": {
  "kernelspec": {
   "display_name": "Python 3 (ipykernel)",
   "language": "python",
   "name": "python3"
  },
  "language_info": {
   "codemirror_mode": {
    "name": "ipython",
    "version": 3
   },
   "file_extension": ".py",
   "mimetype": "text/x-python",
   "name": "python",
   "nbconvert_exporter": "python",
   "pygments_lexer": "ipython3",
   "version": "3.10.5"
  }
 },
 "nbformat": 4,
 "nbformat_minor": 5
}
