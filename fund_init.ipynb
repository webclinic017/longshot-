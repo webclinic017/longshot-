{
 "cells": [
  {
   "cell_type": "code",
   "execution_count": 9,
   "id": "5c63f7a9",
   "metadata": {},
   "outputs": [],
   "source": [
    "from fund.fund import Fund\n",
    "import pandas as pd\n",
    "from datetime import datetime"
   ]
  },
  {
   "cell_type": "code",
   "execution_count": 10,
   "id": "f7d224a9",
   "metadata": {},
   "outputs": [],
   "source": [
    "delta_fund = Fund(datetime.now(),datetime.now(),datetime.now())\n",
    "delta_fund.initialize()"
   ]
  },
  {
   "cell_type": "code",
   "execution_count": 11,
   "id": "5ec0f924",
   "metadata": {},
   "outputs": [],
   "source": [
    "strategies = pd.DataFrame([{\"strategy\":x.name} for x in delta_fund.strategies])"
   ]
  },
  {
   "cell_type": "code",
   "execution_count": 13,
   "id": "ae19e47a",
   "metadata": {},
   "outputs": [],
   "source": [
    "delta_fund.db.connect()\n",
    "delta_fund.db.drop(\"strategies\")\n",
    "delta_fund.db.store(\"strategies\",strategies)\n",
    "delta_fund.db.disconnect()"
   ]
  },
  {
   "cell_type": "code",
   "execution_count": 14,
   "id": "d67e24b8",
   "metadata": {},
   "outputs": [],
   "source": [
    "delta_fund.db.cloud_connect()\n",
    "delta_fund.db.drop(\"strategies\")\n",
    "delta_fund.db.store(\"strategies\",strategies)\n",
    "delta_fund.db.disconnect()"
   ]
  }
 ],
 "metadata": {
  "kernelspec": {
   "display_name": "Python 3 (ipykernel)",
   "language": "python",
   "name": "python3"
  },
  "language_info": {
   "codemirror_mode": {
    "name": "ipython",
    "version": 3
   },
   "file_extension": ".py",
   "mimetype": "text/x-python",
   "name": "python",
   "nbconvert_exporter": "python",
   "pygments_lexer": "ipython3",
   "version": "3.10.5"
  }
 },
 "nbformat": 4,
 "nbformat_minor": 5
}
