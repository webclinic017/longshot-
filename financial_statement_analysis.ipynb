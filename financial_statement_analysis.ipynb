{
 "cells": [
  {
   "cell_type": "code",
   "execution_count": 1,
   "id": "aa80f443",
   "metadata": {
    "scrolled": true
   },
   "outputs": [],
   "source": [
    "from database.market import Market\n",
    "from database.sec import SEC\n",
    "from database.adatabase import ADatabase\n",
    "from processor.processor import Processor as p\n",
    "from datetime import datetime, timedelta\n",
    "import pytz\n",
    "import pandas as pd\n",
    "from tqdm import tqdm\n",
    "import matplotlib.pyplot as plt\n",
    "import numpy as np\n",
    "pd.options.mode.chained_assignment = None"
   ]
  },
  {
   "cell_type": "code",
   "execution_count": 2,
   "id": "b38d4176",
   "metadata": {
    "scrolled": true
   },
   "outputs": [],
   "source": [
    "market = Market()\n",
    "sec = SEC()"
   ]
  },
  {
   "cell_type": "code",
   "execution_count": 3,
   "id": "5cfc636a",
   "metadata": {},
   "outputs": [],
   "source": [
    "market.connect()\n",
    "sp5 = market.retrieve(\"sp500\")\n",
    "market.disconnect()"
   ]
  },
  {
   "cell_type": "code",
   "execution_count": 46,
   "id": "de141c46",
   "metadata": {},
   "outputs": [],
   "source": [
    "keywords = ['earnings',\"debt\",\"liabilities\",\"assets\",\"stockholder\",\"equity\",\"income\",\"revenue\"]"
   ]
  },
  {
   "cell_type": "code",
   "execution_count": 81,
   "id": "4fc6315a",
   "metadata": {
    "scrolled": true
   },
   "outputs": [
    {
     "name": "stderr",
     "output_type": "stream",
     "text": [
      "  6%|█████████▋                                                                                                                                                        | 3/50 [00:00<00:14,  3.23it/s]C:\\Users\\eric\\AppData\\Local\\Temp/ipykernel_5180/2397120343.py:26: UserWarning: DataFrame columns are not unique, some columns will be omitted.\n",
      "  filings.append(cleaned[cleaned[\"year\"]==2023].to_dict(\"records\")[0])\n",
      " 10%|████████████████▏                                                                                                                                                 | 5/50 [00:01<00:11,  3.84it/s]"
     ]
    },
    {
     "name": "stdout",
     "output_type": "stream",
     "text": [
      "ABMD\n"
     ]
    },
    {
     "name": "stderr",
     "output_type": "stream",
     "text": [
      "C:\\Users\\eric\\AppData\\Local\\Temp/ipykernel_5180/2397120343.py:26: UserWarning: DataFrame columns are not unique, some columns will be omitted.\n",
      "  filings.append(cleaned[cleaned[\"year\"]==2023].to_dict(\"records\")[0])\n",
      "\r",
      " 12%|███████████████████▍                                                                                                                                              | 6/50 [00:01<00:11,  3.86it/s]"
     ]
    },
    {
     "name": "stdout",
     "output_type": "stream",
     "text": [
      "ACN\n"
     ]
    },
    {
     "name": "stderr",
     "output_type": "stream",
     "text": [
      "C:\\Users\\eric\\AppData\\Local\\Temp/ipykernel_5180/2397120343.py:26: UserWarning: DataFrame columns are not unique, some columns will be omitted.\n",
      "  filings.append(cleaned[cleaned[\"year\"]==2023].to_dict(\"records\")[0])\n",
      " 14%|██████████████████████▋                                                                                                                                           | 7/50 [00:01<00:11,  3.66it/s]C:\\Users\\eric\\AppData\\Local\\Temp/ipykernel_5180/2397120343.py:26: UserWarning: DataFrame columns are not unique, some columns will be omitted.\n",
      "  filings.append(cleaned[cleaned[\"year\"]==2023].to_dict(\"records\")[0])\n",
      " 16%|█████████████████████████▉                                                                                                                                        | 8/50 [00:02<00:13,  3.20it/s]C:\\Users\\eric\\AppData\\Local\\Temp/ipykernel_5180/2397120343.py:26: UserWarning: DataFrame columns are not unique, some columns will be omitted.\n",
      "  filings.append(cleaned[cleaned[\"year\"]==2023].to_dict(\"records\")[0])\n",
      " 18%|█████████████████████████████▏                                                                                                                                    | 9/50 [00:02<00:12,  3.21it/s]C:\\Users\\eric\\AppData\\Local\\Temp/ipykernel_5180/2397120343.py:26: UserWarning: DataFrame columns are not unique, some columns will be omitted.\n",
      "  filings.append(cleaned[cleaned[\"year\"]==2023].to_dict(\"records\")[0])\n",
      " 20%|████████████████████████████████▏                                                                                                                                | 10/50 [00:03<00:13,  2.98it/s]"
     ]
    },
    {
     "name": "stdout",
     "output_type": "stream",
     "text": [
      "ADP\n"
     ]
    },
    {
     "name": "stderr",
     "output_type": "stream",
     "text": [
      "C:\\Users\\eric\\AppData\\Local\\Temp/ipykernel_5180/2397120343.py:26: UserWarning: DataFrame columns are not unique, some columns will be omitted.\n",
      "  filings.append(cleaned[cleaned[\"year\"]==2023].to_dict(\"records\")[0])\n",
      " 24%|██████████████████████████████████████▋                                                                                                                          | 12/50 [00:04<00:15,  2.41it/s]C:\\Users\\eric\\AppData\\Local\\Temp/ipykernel_5180/2397120343.py:26: UserWarning: DataFrame columns are not unique, some columns will be omitted.\n",
      "  filings.append(cleaned[cleaned[\"year\"]==2023].to_dict(\"records\")[0])\n",
      " 26%|█████████████████████████████████████████▊                                                                                                                       | 13/50 [00:04<00:15,  2.44it/s]C:\\Users\\eric\\AppData\\Local\\Temp/ipykernel_5180/2397120343.py:26: UserWarning: DataFrame columns are not unique, some columns will be omitted.\n",
      "  filings.append(cleaned[cleaned[\"year\"]==2023].to_dict(\"records\")[0])\n",
      " 28%|█████████████████████████████████████████████                                                                                                                    | 14/50 [00:04<00:15,  2.36it/s]"
     ]
    },
    {
     "name": "stdout",
     "output_type": "stream",
     "text": [
      "A\n"
     ]
    },
    {
     "name": "stderr",
     "output_type": "stream",
     "text": [
      "C:\\Users\\eric\\AppData\\Local\\Temp/ipykernel_5180/2397120343.py:26: UserWarning: DataFrame columns are not unique, some columns will be omitted.\n",
      "  filings.append(cleaned[cleaned[\"year\"]==2023].to_dict(\"records\")[0])\n",
      "\r",
      " 30%|████████████████████████████████████████████████▎                                                                                                                | 15/50 [00:05<00:14,  2.38it/s]"
     ]
    },
    {
     "name": "stdout",
     "output_type": "stream",
     "text": [
      "APD\n"
     ]
    },
    {
     "name": "stderr",
     "output_type": "stream",
     "text": [
      "C:\\Users\\eric\\AppData\\Local\\Temp/ipykernel_5180/2397120343.py:26: UserWarning: DataFrame columns are not unique, some columns will be omitted.\n",
      "  filings.append(cleaned[cleaned[\"year\"]==2023].to_dict(\"records\")[0])\n",
      " 34%|██████████████████████████████████████████████████████▋                                                                                                          | 17/50 [00:05<00:11,  2.96it/s]C:\\Users\\eric\\AppData\\Local\\Temp/ipykernel_5180/2397120343.py:26: UserWarning: DataFrame columns are not unique, some columns will be omitted.\n",
      "  filings.append(cleaned[cleaned[\"year\"]==2023].to_dict(\"records\")[0])\n",
      " 36%|█████████████████████████████████████████████████████████▉                                                                                                       | 18/50 [00:06<00:11,  2.76it/s]C:\\Users\\eric\\AppData\\Local\\Temp/ipykernel_5180/2397120343.py:26: UserWarning: DataFrame columns are not unique, some columns will be omitted.\n",
      "  filings.append(cleaned[cleaned[\"year\"]==2023].to_dict(\"records\")[0])\n",
      " 38%|█████████████████████████████████████████████████████████████▏                                                                                                   | 19/50 [00:06<00:11,  2.73it/s]C:\\Users\\eric\\AppData\\Local\\Temp/ipykernel_5180/2397120343.py:26: UserWarning: DataFrame columns are not unique, some columns will be omitted.\n",
      "  filings.append(cleaned[cleaned[\"year\"]==2023].to_dict(\"records\")[0])\n",
      " 42%|███████████████████████████████████████████████████████████████████▌                                                                                             | 21/50 [00:07<00:08,  3.31it/s]C:\\Users\\eric\\AppData\\Local\\Temp/ipykernel_5180/2397120343.py:26: UserWarning: DataFrame columns are not unique, some columns will be omitted.\n",
      "  filings.append(cleaned[cleaned[\"year\"]==2023].to_dict(\"records\")[0])\n",
      " 44%|██████████████████████████████████████████████████████████████████████▊                                                                                          | 22/50 [00:07<00:08,  3.29it/s]C:\\Users\\eric\\AppData\\Local\\Temp/ipykernel_5180/2397120343.py:26: UserWarning: DataFrame columns are not unique, some columns will be omitted.\n",
      "  filings.append(cleaned[cleaned[\"year\"]==2023].to_dict(\"records\")[0])\n",
      " 46%|██████████████████████████████████████████████████████████████████████████                                                                                       | 23/50 [00:07<00:09,  2.81it/s]C:\\Users\\eric\\AppData\\Local\\Temp/ipykernel_5180/2397120343.py:26: UserWarning: DataFrame columns are not unique, some columns will be omitted.\n",
      "  filings.append(cleaned[cleaned[\"year\"]==2023].to_dict(\"records\")[0])\n",
      " 48%|█████████████████████████████████████████████████████████████████████████████▎                                                                                   | 24/50 [00:08<00:08,  2.99it/s]C:\\Users\\eric\\AppData\\Local\\Temp/ipykernel_5180/2397120343.py:26: UserWarning: DataFrame columns are not unique, some columns will be omitted.\n",
      "  filings.append(cleaned[cleaned[\"year\"]==2023].to_dict(\"records\")[0])\n",
      " 50%|████████████████████████████████████████████████████████████████████████████████▌                                                                                | 25/50 [00:08<00:09,  2.68it/s]C:\\Users\\eric\\AppData\\Local\\Temp/ipykernel_5180/2397120343.py:26: UserWarning: DataFrame columns are not unique, some columns will be omitted.\n",
      "  filings.append(cleaned[cleaned[\"year\"]==2023].to_dict(\"records\")[0])\n",
      " 54%|██████████████████████████████████████████████████████████████████████████████████████▉                                                                          | 27/50 [00:09<00:07,  3.17it/s]"
     ]
    },
    {
     "name": "stdout",
     "output_type": "stream",
     "text": [
      "AMCR\n"
     ]
    },
    {
     "name": "stderr",
     "output_type": "stream",
     "text": [
      "C:\\Users\\eric\\AppData\\Local\\Temp/ipykernel_5180/2397120343.py:26: UserWarning: DataFrame columns are not unique, some columns will be omitted.\n",
      "  filings.append(cleaned[cleaned[\"year\"]==2023].to_dict(\"records\")[0])\n",
      " 56%|██████████████████████████████████████████████████████████████████████████████████████████▏                                                                      | 28/50 [00:09<00:07,  2.89it/s]C:\\Users\\eric\\AppData\\Local\\Temp/ipykernel_5180/2397120343.py:26: UserWarning: DataFrame columns are not unique, some columns will be omitted.\n",
      "  filings.append(cleaned[cleaned[\"year\"]==2023].to_dict(\"records\")[0])\n",
      " 58%|█████████████████████████████████████████████████████████████████████████████████████████████▍                                                                   | 29/50 [00:09<00:07,  2.76it/s]C:\\Users\\eric\\AppData\\Local\\Temp/ipykernel_5180/2397120343.py:26: UserWarning: DataFrame columns are not unique, some columns will be omitted.\n",
      "  filings.append(cleaned[cleaned[\"year\"]==2023].to_dict(\"records\")[0])\n",
      " 60%|████████████████████████████████████████████████████████████████████████████████████████████████▌                                                                | 30/50 [00:10<00:08,  2.34it/s]C:\\Users\\eric\\AppData\\Local\\Temp/ipykernel_5180/2397120343.py:26: UserWarning: DataFrame columns are not unique, some columns will be omitted.\n",
      "  filings.append(cleaned[cleaned[\"year\"]==2023].to_dict(\"records\")[0])\n",
      " 62%|███████████████████████████████████████████████████████████████████████████████████████████████████▊                                                             | 31/50 [00:11<00:08,  2.24it/s]C:\\Users\\eric\\AppData\\Local\\Temp/ipykernel_5180/2397120343.py:26: UserWarning: DataFrame columns are not unique, some columns will be omitted.\n",
      "  filings.append(cleaned[cleaned[\"year\"]==2023].to_dict(\"records\")[0])\n",
      " 64%|███████████████████████████████████████████████████████████████████████████████████████████████████████                                                          | 32/50 [00:11<00:08,  2.21it/s]C:\\Users\\eric\\AppData\\Local\\Temp/ipykernel_5180/2397120343.py:26: UserWarning: DataFrame columns are not unique, some columns will be omitted.\n",
      "  filings.append(cleaned[cleaned[\"year\"]==2023].to_dict(\"records\")[0])\n",
      " 66%|██████████████████████████████████████████████████████████████████████████████████████████████████████████▎                                                      | 33/50 [00:12<00:09,  1.82it/s]C:\\Users\\eric\\AppData\\Local\\Temp/ipykernel_5180/2397120343.py:26: UserWarning: DataFrame columns are not unique, some columns will be omitted.\n",
      "  filings.append(cleaned[cleaned[\"year\"]==2023].to_dict(\"records\")[0])\n",
      " 68%|█████████████████████████████████████████████████████████████████████████████████████████████████████████████▍                                                   | 34/50 [00:12<00:08,  1.97it/s]C:\\Users\\eric\\AppData\\Local\\Temp/ipykernel_5180/2397120343.py:26: UserWarning: DataFrame columns are not unique, some columns will be omitted.\n",
      "  filings.append(cleaned[cleaned[\"year\"]==2023].to_dict(\"records\")[0])\n",
      " 72%|███████████████████████████████████████████████████████████████████████████████████████████████████████████████████▉                                             | 36/50 [00:13<00:06,  2.06it/s]C:\\Users\\eric\\AppData\\Local\\Temp/ipykernel_5180/2397120343.py:26: UserWarning: DataFrame columns are not unique, some columns will be omitted.\n",
      "  filings.append(cleaned[cleaned[\"year\"]==2023].to_dict(\"records\")[0])\n",
      " 74%|███████████████████████████████████████████████████████████████████████████████████████████████████████████████████████▏                                         | 37/50 [00:13<00:05,  2.29it/s]"
     ]
    },
    {
     "name": "stdout",
     "output_type": "stream",
     "text": [
      "ABC\n"
     ]
    },
    {
     "name": "stderr",
     "output_type": "stream",
     "text": [
      " 76%|██████████████████████████████████████████████████████████████████████████████████████████████████████████████████████████▎                                      | 38/50 [00:14<00:04,  2.55it/s]C:\\Users\\eric\\AppData\\Local\\Temp/ipykernel_5180/2397120343.py:26: UserWarning: DataFrame columns are not unique, some columns will be omitted.\n",
      "  filings.append(cleaned[cleaned[\"year\"]==2023].to_dict(\"records\")[0])\n",
      " 80%|████████████████████████████████████████████████████████████████████████████████████████████████████████████████████████████████▊                                | 40/50 [00:14<00:03,  3.11it/s]C:\\Users\\eric\\AppData\\Local\\Temp/ipykernel_5180/2397120343.py:26: UserWarning: DataFrame columns are not unique, some columns will be omitted.\n",
      "  filings.append(cleaned[cleaned[\"year\"]==2023].to_dict(\"records\")[0])\n",
      " 82%|████████████████████████████████████████████████████████████████████████████████████████████████████████████████████████████████████                             | 41/50 [00:15<00:03,  2.85it/s]"
     ]
    },
    {
     "name": "stdout",
     "output_type": "stream",
     "text": [
      "ADI\n"
     ]
    },
    {
     "name": "stderr",
     "output_type": "stream",
     "text": [
      " 84%|███████████████████████████████████████████████████████████████████████████████████████████████████████████████████████████████████████▏                         | 42/50 [00:15<00:02,  3.08it/s]C:\\Users\\eric\\AppData\\Local\\Temp/ipykernel_5180/2397120343.py:26: UserWarning: DataFrame columns are not unique, some columns will be omitted.\n",
      "  filings.append(cleaned[cleaned[\"year\"]==2023].to_dict(\"records\")[0])\n",
      " 86%|██████████████████████████████████████████████████████████████████████████████████████████████████████████████████████████████████████████▍                      | 43/50 [00:15<00:02,  2.98it/s]C:\\Users\\eric\\AppData\\Local\\Temp/ipykernel_5180/2397120343.py:26: UserWarning: DataFrame columns are not unique, some columns will be omitted.\n",
      "  filings.append(cleaned[cleaned[\"year\"]==2023].to_dict(\"records\")[0])\n",
      " 88%|█████████████████████████████████████████████████████████████████████████████████████████████████████████████████████████████████████████████▋                   | 44/50 [00:16<00:02,  2.48it/s]C:\\Users\\eric\\AppData\\Local\\Temp/ipykernel_5180/2397120343.py:26: UserWarning: DataFrame columns are not unique, some columns will be omitted.\n",
      "  filings.append(cleaned[cleaned[\"year\"]==2023].to_dict(\"records\")[0])\n",
      " 90%|████████████████████████████████████████████████████████████████████████████████████████████████████████████████████████████████████████████████▉                | 45/50 [00:16<00:01,  2.74it/s]"
     ]
    },
    {
     "name": "stdout",
     "output_type": "stream",
     "text": [
      "AAPL\n"
     ]
    },
    {
     "name": "stderr",
     "output_type": "stream",
     "text": [
      "C:\\Users\\eric\\AppData\\Local\\Temp/ipykernel_5180/2397120343.py:26: UserWarning: DataFrame columns are not unique, some columns will be omitted.\n",
      "  filings.append(cleaned[cleaned[\"year\"]==2023].to_dict(\"records\")[0])\n",
      "\r",
      " 92%|████████████████████████████████████████████████████████████████████████████████████████████████████████████████████████████████████████████████████             | 46/50 [00:16<00:01,  2.72it/s]"
     ]
    },
    {
     "name": "stdout",
     "output_type": "stream",
     "text": [
      "AMAT\n"
     ]
    },
    {
     "name": "stderr",
     "output_type": "stream",
     "text": [
      " 94%|███████████████████████████████████████████████████████████████████████████████████████████████████████████████████████████████████████████████████████▎         | 47/50 [00:17<00:01,  2.77it/s]C:\\Users\\eric\\AppData\\Local\\Temp/ipykernel_5180/2397120343.py:26: UserWarning: DataFrame columns are not unique, some columns will be omitted.\n",
      "  filings.append(cleaned[cleaned[\"year\"]==2023].to_dict(\"records\")[0])\n",
      " 98%|█████████████████████████████████████████████████████████████████████████████████████████████████████████████████████████████████████████████████████████████▊   | 49/50 [00:17<00:00,  3.02it/s]C:\\Users\\eric\\AppData\\Local\\Temp/ipykernel_5180/2397120343.py:26: UserWarning: DataFrame columns are not unique, some columns will be omitted.\n",
      "  filings.append(cleaned[cleaned[\"year\"]==2023].to_dict(\"records\")[0])\n",
      "100%|█████████████████████████████████████████████████████████████████████████████████████████████████████████████████████████████████████████████████████████████████| 50/50 [00:18<00:00,  2.71it/s]\n"
     ]
    }
   ],
   "source": [
    "filings = []\n",
    "sec.connect()\n",
    "market.connect()\n",
    "for i in tqdm(range(50)):\n",
    "    try:\n",
    "        row = sp5.iloc[i]\n",
    "        ticker = row[\"Symbol\"]\n",
    "        cik = int(row[\"CIK\"])\n",
    "        prices = market.retrieve_ticker_prices(\"prices\",ticker)\n",
    "        prices = p.column_date_processing(prices)\n",
    "        prices = prices.groupby([\"year\",\"ticker\"]).mean().reset_index()\n",
    "        financials = sec.retrieve_filing_data(int(cik))\n",
    "        financials = p.column_date_processing(financials)\n",
    "        financials[\"date\"] = [datetime.strptime(str(x),\"%Y%m%d\") for x in financials[\"filed\"]]\n",
    "        financials[\"year\"] = [x.year for x in financials[\"date\"]]\n",
    "        financials[\"quarter\"] = [x.quarter for x in financials[\"date\"]]\n",
    "        financials = financials[financials[\"form\"]==\"10-K\"]\n",
    "        included = [\"year\",\"quarter\",\"date\"]\n",
    "        for keyword in keywords:\n",
    "            included.extend([x for x in financials.columns if keyword in x])\n",
    "        included = list(set(included))\n",
    "        cleaned = financials[included].reset_index(drop=True).fillna(method=\"ffill\").fillna(method=\"bfill\")\n",
    "        cleaned[\"ticker\"] = ticker\n",
    "        cleaned[\"industry\"] = row[\"GICS Sector\"]\n",
    "        cleaned = cleaned.merge(prices[[\"year\",\"ticker\",\"adjclose\"]],on=[\"year\",\"ticker\"])\n",
    "        filings.append(cleaned[cleaned[\"year\"]==2023].to_dict(\"records\")[0])\n",
    "    except:\n",
    "        print(ticker)\n",
    "        continue\n",
    "sec.disconnect()\n",
    "market.disconnect()"
   ]
  },
  {
   "cell_type": "code",
   "execution_count": 82,
   "id": "aee41497",
   "metadata": {},
   "outputs": [],
   "source": [
    "financials = pd.DataFrame(filings)"
   ]
  },
  {
   "cell_type": "code",
   "execution_count": 75,
   "id": "ec21c2f5",
   "metadata": {},
   "outputs": [],
   "source": [
    "# [x for x in financials.columns if \"revenue\" in x]"
   ]
  },
  {
   "cell_type": "code",
   "execution_count": 83,
   "id": "e238ec34",
   "metadata": {},
   "outputs": [],
   "source": [
    "financials[\"price_to_earnings\"] = financials[\"earningspersharebasic\"] / financials[\"adjclose\"]\n",
    "financials[\"current_ratio\"] = financials[\"assetscurrent\"] / financials[\"liabilitiescurrent\"]\n",
    "financials[\"debt_to_equity\"] = financials[\"longtermdebtcurrent\"] / financials[\"stockholdersequity\"]\n",
    "financials[\"debt_to_assets\"] = financials[\"longtermdebtcurrent\"] / financials[\"assets\"]\n",
    "financials[\"net_profit_margin\"] = financials[\"netincomeloss\"] / financials[\"revenues\"]"
   ]
  },
  {
   "cell_type": "code",
   "execution_count": 84,
   "id": "9685424f",
   "metadata": {},
   "outputs": [],
   "source": [
    "analysis = financials[[\"date\",\"ticker\",\"current_ratio\",\"price_to_earnings\",\"debt_to_equity\",\"debt_to_assets\",\"net_profit_margin\",\"adjclose\"]]"
   ]
  },
  {
   "cell_type": "code",
   "execution_count": 85,
   "id": "981deeda",
   "metadata": {},
   "outputs": [
    {
     "data": {
      "text/html": [
       "<div>\n",
       "<style scoped>\n",
       "    .dataframe tbody tr th:only-of-type {\n",
       "        vertical-align: middle;\n",
       "    }\n",
       "\n",
       "    .dataframe tbody tr th {\n",
       "        vertical-align: top;\n",
       "    }\n",
       "\n",
       "    .dataframe thead th {\n",
       "        text-align: right;\n",
       "    }\n",
       "</style>\n",
       "<table border=\"1\" class=\"dataframe\">\n",
       "  <thead>\n",
       "    <tr style=\"text-align: right;\">\n",
       "      <th></th>\n",
       "      <th>current_ratio</th>\n",
       "      <th>price_to_earnings</th>\n",
       "      <th>debt_to_equity</th>\n",
       "      <th>debt_to_assets</th>\n",
       "      <th>net_profit_margin</th>\n",
       "      <th>adjclose</th>\n",
       "    </tr>\n",
       "  </thead>\n",
       "  <tbody>\n",
       "    <tr>\n",
       "      <th>current_ratio</th>\n",
       "      <td>1.000000</td>\n",
       "      <td>0.142900</td>\n",
       "      <td>-0.168745</td>\n",
       "      <td>-0.367497</td>\n",
       "      <td>0.552447</td>\n",
       "      <td>-0.059005</td>\n",
       "    </tr>\n",
       "    <tr>\n",
       "      <th>price_to_earnings</th>\n",
       "      <td>0.142900</td>\n",
       "      <td>1.000000</td>\n",
       "      <td>-0.861744</td>\n",
       "      <td>-0.212148</td>\n",
       "      <td>0.237699</td>\n",
       "      <td>0.259767</td>\n",
       "    </tr>\n",
       "    <tr>\n",
       "      <th>debt_to_equity</th>\n",
       "      <td>-0.168745</td>\n",
       "      <td>-0.861744</td>\n",
       "      <td>1.000000</td>\n",
       "      <td>0.438452</td>\n",
       "      <td>-0.159553</td>\n",
       "      <td>-0.181724</td>\n",
       "    </tr>\n",
       "    <tr>\n",
       "      <th>debt_to_assets</th>\n",
       "      <td>-0.367497</td>\n",
       "      <td>-0.212148</td>\n",
       "      <td>0.438452</td>\n",
       "      <td>1.000000</td>\n",
       "      <td>-0.302174</td>\n",
       "      <td>0.037494</td>\n",
       "    </tr>\n",
       "    <tr>\n",
       "      <th>net_profit_margin</th>\n",
       "      <td>0.552447</td>\n",
       "      <td>0.237699</td>\n",
       "      <td>-0.159553</td>\n",
       "      <td>-0.302174</td>\n",
       "      <td>1.000000</td>\n",
       "      <td>0.389252</td>\n",
       "    </tr>\n",
       "    <tr>\n",
       "      <th>adjclose</th>\n",
       "      <td>-0.059005</td>\n",
       "      <td>0.259767</td>\n",
       "      <td>-0.181724</td>\n",
       "      <td>0.037494</td>\n",
       "      <td>0.389252</td>\n",
       "      <td>1.000000</td>\n",
       "    </tr>\n",
       "  </tbody>\n",
       "</table>\n",
       "</div>"
      ],
      "text/plain": [
       "                   current_ratio  price_to_earnings  debt_to_equity  \\\n",
       "current_ratio           1.000000           0.142900       -0.168745   \n",
       "price_to_earnings       0.142900           1.000000       -0.861744   \n",
       "debt_to_equity         -0.168745          -0.861744        1.000000   \n",
       "debt_to_assets         -0.367497          -0.212148        0.438452   \n",
       "net_profit_margin       0.552447           0.237699       -0.159553   \n",
       "adjclose               -0.059005           0.259767       -0.181724   \n",
       "\n",
       "                   debt_to_assets  net_profit_margin  adjclose  \n",
       "current_ratio           -0.367497           0.552447 -0.059005  \n",
       "price_to_earnings       -0.212148           0.237699  0.259767  \n",
       "debt_to_equity           0.438452          -0.159553 -0.181724  \n",
       "debt_to_assets           1.000000          -0.302174  0.037494  \n",
       "net_profit_margin       -0.302174           1.000000  0.389252  \n",
       "adjclose                 0.037494           0.389252  1.000000  "
      ]
     },
     "execution_count": 85,
     "metadata": {},
     "output_type": "execute_result"
    }
   ],
   "source": [
    "analysis.corr()"
   ]
  },
  {
   "cell_type": "code",
   "execution_count": 34,
   "id": "52b2563f",
   "metadata": {},
   "outputs": [],
   "source": [
    "# start_date = datetime(2020,1,1)\n",
    "# window = financials[financials[\"date\"]>= start_date]\n",
    "# plt.plot(window[\"date\"],window[\"price_to_earnings\"])"
   ]
  },
  {
   "cell_type": "code",
   "execution_count": 35,
   "id": "99fba308",
   "metadata": {},
   "outputs": [],
   "source": [
    "spy = pd.read_csv(\"./csv_files/FED/SPY.csv\")"
   ]
  },
  {
   "cell_type": "code",
   "execution_count": 36,
   "id": "02cae929",
   "metadata": {},
   "outputs": [],
   "source": [
    "spy = p.column_date_processing(spy)"
   ]
  },
  {
   "cell_type": "code",
   "execution_count": 37,
   "id": "c3a04f7c",
   "metadata": {},
   "outputs": [],
   "source": [
    "spy[\"year\"] = [x.year for x in spy[\"date\"]]\n",
    "spy[\"quarter\"] = [x.quarter for x in spy[\"date\"]]\n",
    "spy_quarterly = spy.groupby([\"year\",\"quarter\"]).mean().reset_index()"
   ]
  },
  {
   "cell_type": "code",
   "execution_count": 38,
   "id": "c865e761",
   "metadata": {},
   "outputs": [
    {
     "data": {
      "text/plain": [
       "date        datetime64[ns]\n",
       "open               float64\n",
       "high               float64\n",
       "low                float64\n",
       "close              float64\n",
       "adjclose           float64\n",
       "volume               int64\n",
       "year                 int64\n",
       "quarter              int64\n",
       "week                UInt32\n",
       "dtype: object"
      ]
     },
     "execution_count": 38,
     "metadata": {},
     "output_type": "execute_result"
    }
   ],
   "source": [
    "spy.dtypes"
   ]
  },
  {
   "cell_type": "code",
   "execution_count": 39,
   "id": "d43e8d65",
   "metadata": {},
   "outputs": [],
   "source": [
    "fed_fund = pd.read_csv(\"./csv_files/FED/FEDFUNDS.csv\")\n",
    "fed_fund = p.column_date_processing(fed_fund)\n",
    "fed_fund[\"year\"] = [x.year for x in fed_fund[\"date\"]]\n",
    "fed_fund[\"quarter\"] = [x.quarter for x in fed_fund[\"date\"]]\n",
    "fed_fund_quarterly = fed_fund.groupby([\"year\",\"quarter\"]).mean().reset_index()"
   ]
  },
  {
   "cell_type": "code",
   "execution_count": 40,
   "id": "6202ac3b",
   "metadata": {},
   "outputs": [
    {
     "data": {
      "text/html": [
       "<div>\n",
       "<style scoped>\n",
       "    .dataframe tbody tr th:only-of-type {\n",
       "        vertical-align: middle;\n",
       "    }\n",
       "\n",
       "    .dataframe tbody tr th {\n",
       "        vertical-align: top;\n",
       "    }\n",
       "\n",
       "    .dataframe thead th {\n",
       "        text-align: right;\n",
       "    }\n",
       "</style>\n",
       "<table border=\"1\" class=\"dataframe\">\n",
       "  <thead>\n",
       "    <tr style=\"text-align: right;\">\n",
       "      <th></th>\n",
       "      <th>year</th>\n",
       "      <th>quarter</th>\n",
       "      <th>cpi</th>\n",
       "      <th>week</th>\n",
       "      <th>inflation</th>\n",
       "    </tr>\n",
       "  </thead>\n",
       "  <tbody>\n",
       "    <tr>\n",
       "      <th>0</th>\n",
       "      <td>1947</td>\n",
       "      <td>1</td>\n",
       "      <td>21.700000</td>\n",
       "      <td>5.0</td>\n",
       "      <td>NaN</td>\n",
       "    </tr>\n",
       "    <tr>\n",
       "      <th>1</th>\n",
       "      <td>1947</td>\n",
       "      <td>2</td>\n",
       "      <td>22.010000</td>\n",
       "      <td>18.0</td>\n",
       "      <td>0.014286</td>\n",
       "    </tr>\n",
       "    <tr>\n",
       "      <th>2</th>\n",
       "      <td>1947</td>\n",
       "      <td>3</td>\n",
       "      <td>22.490000</td>\n",
       "      <td>31.333333</td>\n",
       "      <td>0.021808</td>\n",
       "    </tr>\n",
       "    <tr>\n",
       "      <th>3</th>\n",
       "      <td>1947</td>\n",
       "      <td>4</td>\n",
       "      <td>23.126667</td>\n",
       "      <td>44.333333</td>\n",
       "      <td>0.028309</td>\n",
       "    </tr>\n",
       "    <tr>\n",
       "      <th>4</th>\n",
       "      <td>1948</td>\n",
       "      <td>1</td>\n",
       "      <td>23.616667</td>\n",
       "      <td>5.333333</td>\n",
       "      <td>0.021188</td>\n",
       "    </tr>\n",
       "    <tr>\n",
       "      <th>...</th>\n",
       "      <td>...</td>\n",
       "      <td>...</td>\n",
       "      <td>...</td>\n",
       "      <td>...</td>\n",
       "      <td>...</td>\n",
       "    </tr>\n",
       "    <tr>\n",
       "      <th>299</th>\n",
       "      <td>2021</td>\n",
       "      <td>4</td>\n",
       "      <td>278.413333</td>\n",
       "      <td>43.666667</td>\n",
       "      <td>0.019219</td>\n",
       "    </tr>\n",
       "    <tr>\n",
       "      <th>300</th>\n",
       "      <td>2022</td>\n",
       "      <td>1</td>\n",
       "      <td>284.607667</td>\n",
       "      <td>22.0</td>\n",
       "      <td>0.022249</td>\n",
       "    </tr>\n",
       "    <tr>\n",
       "      <th>301</th>\n",
       "      <td>2022</td>\n",
       "      <td>2</td>\n",
       "      <td>291.821667</td>\n",
       "      <td>17.333333</td>\n",
       "      <td>0.025347</td>\n",
       "    </tr>\n",
       "    <tr>\n",
       "      <th>302</th>\n",
       "      <td>2022</td>\n",
       "      <td>3</td>\n",
       "      <td>295.884000</td>\n",
       "      <td>30.666667</td>\n",
       "      <td>0.013921</td>\n",
       "    </tr>\n",
       "    <tr>\n",
       "      <th>303</th>\n",
       "      <td>2022</td>\n",
       "      <td>4</td>\n",
       "      <td>298.174333</td>\n",
       "      <td>43.666667</td>\n",
       "      <td>0.007741</td>\n",
       "    </tr>\n",
       "  </tbody>\n",
       "</table>\n",
       "<p>304 rows × 5 columns</p>\n",
       "</div>"
      ],
      "text/plain": [
       "     year  quarter         cpi       week  inflation\n",
       "0    1947        1   21.700000        5.0        NaN\n",
       "1    1947        2   22.010000       18.0   0.014286\n",
       "2    1947        3   22.490000  31.333333   0.021808\n",
       "3    1947        4   23.126667  44.333333   0.028309\n",
       "4    1948        1   23.616667   5.333333   0.021188\n",
       "..    ...      ...         ...        ...        ...\n",
       "299  2021        4  278.413333  43.666667   0.019219\n",
       "300  2022        1  284.607667       22.0   0.022249\n",
       "301  2022        2  291.821667  17.333333   0.025347\n",
       "302  2022        3  295.884000  30.666667   0.013921\n",
       "303  2022        4  298.174333  43.666667   0.007741\n",
       "\n",
       "[304 rows x 5 columns]"
      ]
     },
     "execution_count": 40,
     "metadata": {},
     "output_type": "execute_result"
    }
   ],
   "source": [
    "cpi = pd.read_csv(\"./csv_files/FED/CPIAUCSL.csv\")\n",
    "cpi = p.column_date_processing(cpi)\n",
    "cpi[\"year\"] = [x.year for x in cpi[\"date\"]]\n",
    "cpi[\"quarter\"] = [x.quarter for x in cpi[\"date\"]]\n",
    "cpi_quarterly = cpi.groupby([\"year\",\"quarter\"]).mean().reset_index()\n",
    "cpi_quarterly.rename(columns={\"cpiaucsl\":\"cpi\"},inplace=True)\n",
    "cpi_quarterly[\"inflation\"] = cpi_quarterly[\"cpi\"].pct_change()\n",
    "cpi_quarterly"
   ]
  },
  {
   "cell_type": "code",
   "execution_count": 41,
   "id": "fa5ced5b",
   "metadata": {},
   "outputs": [],
   "source": [
    "discount = pd.read_csv(\"./csv_files/FED/DISCOUNTRATE.csv\")\n",
    "discount = p.column_date_processing(discount)\n",
    "discount[\"year\"] = [x.year for x in discount[\"date\"]]\n",
    "discount[\"quarter\"] = [x.quarter for x in discount[\"date\"]]\n",
    "discount_quarterly = discount.groupby([\"year\",\"quarter\"]).mean().reset_index()\n",
    "discount_quarterly.rename(columns={\"intdsrusm193n\":\"discount_rate\"},inplace=True)"
   ]
  },
  {
   "cell_type": "code",
   "execution_count": 42,
   "id": "24dd0692",
   "metadata": {},
   "outputs": [
    {
     "data": {
      "text/html": [
       "<div>\n",
       "<style scoped>\n",
       "    .dataframe tbody tr th:only-of-type {\n",
       "        vertical-align: middle;\n",
       "    }\n",
       "\n",
       "    .dataframe tbody tr th {\n",
       "        vertical-align: top;\n",
       "    }\n",
       "\n",
       "    .dataframe thead th {\n",
       "        text-align: right;\n",
       "    }\n",
       "</style>\n",
       "<table border=\"1\" class=\"dataframe\">\n",
       "  <thead>\n",
       "    <tr style=\"text-align: right;\">\n",
       "      <th></th>\n",
       "      <th>date</th>\n",
       "      <th>intdsrusm193n</th>\n",
       "      <th>year</th>\n",
       "      <th>quarter</th>\n",
       "      <th>week</th>\n",
       "    </tr>\n",
       "  </thead>\n",
       "  <tbody>\n",
       "    <tr>\n",
       "      <th>0</th>\n",
       "      <td>1950-01-01</td>\n",
       "      <td>1.50</td>\n",
       "      <td>1950</td>\n",
       "      <td>1</td>\n",
       "      <td>52</td>\n",
       "    </tr>\n",
       "    <tr>\n",
       "      <th>1</th>\n",
       "      <td>1950-02-01</td>\n",
       "      <td>1.50</td>\n",
       "      <td>1950</td>\n",
       "      <td>1</td>\n",
       "      <td>5</td>\n",
       "    </tr>\n",
       "    <tr>\n",
       "      <th>2</th>\n",
       "      <td>1950-03-01</td>\n",
       "      <td>1.50</td>\n",
       "      <td>1950</td>\n",
       "      <td>1</td>\n",
       "      <td>9</td>\n",
       "    </tr>\n",
       "    <tr>\n",
       "      <th>3</th>\n",
       "      <td>1950-04-01</td>\n",
       "      <td>1.50</td>\n",
       "      <td>1950</td>\n",
       "      <td>2</td>\n",
       "      <td>13</td>\n",
       "    </tr>\n",
       "    <tr>\n",
       "      <th>4</th>\n",
       "      <td>1950-05-01</td>\n",
       "      <td>1.50</td>\n",
       "      <td>1950</td>\n",
       "      <td>2</td>\n",
       "      <td>18</td>\n",
       "    </tr>\n",
       "    <tr>\n",
       "      <th>...</th>\n",
       "      <td>...</td>\n",
       "      <td>...</td>\n",
       "      <td>...</td>\n",
       "      <td>...</td>\n",
       "      <td>...</td>\n",
       "    </tr>\n",
       "    <tr>\n",
       "      <th>855</th>\n",
       "      <td>2021-04-01</td>\n",
       "      <td>0.25</td>\n",
       "      <td>2021</td>\n",
       "      <td>2</td>\n",
       "      <td>13</td>\n",
       "    </tr>\n",
       "    <tr>\n",
       "      <th>856</th>\n",
       "      <td>2021-05-01</td>\n",
       "      <td>0.25</td>\n",
       "      <td>2021</td>\n",
       "      <td>2</td>\n",
       "      <td>17</td>\n",
       "    </tr>\n",
       "    <tr>\n",
       "      <th>857</th>\n",
       "      <td>2021-06-01</td>\n",
       "      <td>0.25</td>\n",
       "      <td>2021</td>\n",
       "      <td>2</td>\n",
       "      <td>22</td>\n",
       "    </tr>\n",
       "    <tr>\n",
       "      <th>858</th>\n",
       "      <td>2021-07-01</td>\n",
       "      <td>0.25</td>\n",
       "      <td>2021</td>\n",
       "      <td>3</td>\n",
       "      <td>26</td>\n",
       "    </tr>\n",
       "    <tr>\n",
       "      <th>859</th>\n",
       "      <td>2021-08-01</td>\n",
       "      <td>0.25</td>\n",
       "      <td>2021</td>\n",
       "      <td>3</td>\n",
       "      <td>30</td>\n",
       "    </tr>\n",
       "  </tbody>\n",
       "</table>\n",
       "<p>860 rows × 5 columns</p>\n",
       "</div>"
      ],
      "text/plain": [
       "          date  intdsrusm193n  year  quarter  week\n",
       "0   1950-01-01           1.50  1950        1    52\n",
       "1   1950-02-01           1.50  1950        1     5\n",
       "2   1950-03-01           1.50  1950        1     9\n",
       "3   1950-04-01           1.50  1950        2    13\n",
       "4   1950-05-01           1.50  1950        2    18\n",
       "..         ...            ...   ...      ...   ...\n",
       "855 2021-04-01           0.25  2021        2    13\n",
       "856 2021-05-01           0.25  2021        2    17\n",
       "857 2021-06-01           0.25  2021        2    22\n",
       "858 2021-07-01           0.25  2021        3    26\n",
       "859 2021-08-01           0.25  2021        3    30\n",
       "\n",
       "[860 rows x 5 columns]"
      ]
     },
     "execution_count": 42,
     "metadata": {},
     "output_type": "execute_result"
    }
   ],
   "source": [
    "discount"
   ]
  },
  {
   "cell_type": "code",
   "execution_count": 43,
   "id": "58f3c9cf",
   "metadata": {},
   "outputs": [
    {
     "data": {
      "image/png": "[encoded data removed]",
      "text/plain": [
       "<Figure size 432x288 with 2 Axes>"
      ]
     },
     "metadata": {
      "needs_background": "light"
     },
     "output_type": "display_data"
    }
   ],
   "source": [
    "from statistics import variance\n",
    "var_check = []\n",
    "for year in range(2012,2022):\n",
    "    mean = spy[spy[\"year\"]==year][\"adjclose\"].mean()\n",
    "    diff = (spy[spy[\"year\"]==year][\"adjclose\"] - mean) / mean\n",
    "    diff_squared = [abs(x) for x in diff]\n",
    "    diff_total = sum(diff_squared)\n",
    "    var = diff_total / spy[spy[\"year\"]==year][\"adjclose\"].index.size\n",
    "    var_check.append({\"year\":year,\"var\":var})\n",
    "var_graph = pd.DataFrame(var_check) \\\n",
    ".merge(fed_fund.groupby(\"year\").mean().reset_index().drop(\"quarter\",axis=1),on=[\"year\"]) \\\n",
    ".merge(discount_quarterly.groupby(\"year\").mean().reset_index().drop(\"quarter\",axis=1),on=[\"year\"]) \\\n",
    ".merge(cpi_quarterly.groupby(\"year\").mean().reset_index().drop(\"quarter\",axis=1),on=[\"year\"])\n",
    "var_graph[\"fedfunds\"] = var_graph[\"fedfunds\"]/100\n",
    "var_graph[\"discount_rate\"] = var_graph[\"discount_rate\"]/100\n",
    "var_graph[\"rate_diff\"] = var_graph[\"discount_rate\"] - var_graph[\"fedfunds\"]\n",
    "metric = \"prog\"\n",
    "fig,ax = plt.subplots()\n",
    "ax.plot(var_graph[\"year\"],var_graph[\"var\"],color=\"red\")\n",
    "ax.set_xlabel(\"date\")\n",
    "ax.set_ylabel(\"var\")\n",
    "ax2 = ax.twinx()\n",
    "# ax.plot(var_graph[\"year\"],var_graph[\"fedfunds\"],color=\"blue\")\n",
    "ax.plot(var_graph[\"year\"],var_graph[\"discount_rate\"],color=\"purple\")\n",
    "ax.plot(var_graph[\"year\"],var_graph[\"inflation\"],color=\"maroon\")\n",
    "# ax2.set_xlabel(\"date\")\n",
    "ax2.set_ylabel(\"fedfunds\")\n",
    "plt.legend([\"spy\",\"se\",\"cpi\"])\n",
    "plt.show()"
   ]
  },
  {
   "cell_type": "code",
   "execution_count": 21,
   "id": "5cef23f5",
   "metadata": {},
   "outputs": [
    {
     "data": {
      "text/html": [
       "<div>\n",
       "<style scoped>\n",
       "    .dataframe tbody tr th:only-of-type {\n",
       "        vertical-align: middle;\n",
       "    }\n",
       "\n",
       "    .dataframe tbody tr th {\n",
       "        vertical-align: top;\n",
       "    }\n",
       "\n",
       "    .dataframe thead th {\n",
       "        text-align: right;\n",
       "    }\n",
       "</style>\n",
       "<table border=\"1\" class=\"dataframe\">\n",
       "  <thead>\n",
       "    <tr style=\"text-align: right;\">\n",
       "      <th></th>\n",
       "      <th>year</th>\n",
       "      <th>var</th>\n",
       "      <th>fedfunds</th>\n",
       "      <th>week_x</th>\n",
       "      <th>discount_rate</th>\n",
       "      <th>week_y</th>\n",
       "      <th>cpi</th>\n",
       "      <th>week</th>\n",
       "      <th>inflation</th>\n",
       "      <th>rate_diff</th>\n",
       "    </tr>\n",
       "  </thead>\n",
       "  <tbody>\n",
       "    <tr>\n",
       "      <th>0</th>\n",
       "      <td>2012</td>\n",
       "      <td>0.032116</td>\n",
       "      <td>0.001400</td>\n",
       "      <td>28.583333</td>\n",
       "      <td>0.007500</td>\n",
       "      <td>28.583333</td>\n",
       "      <td>229.586083</td>\n",
       "      <td>28.583333</td>\n",
       "      <td>0.004727</td>\n",
       "      <td>0.006100</td>\n",
       "    </tr>\n",
       "    <tr>\n",
       "      <th>1</th>\n",
       "      <td>2013</td>\n",
       "      <td>0.054330</td>\n",
       "      <td>0.001075</td>\n",
       "      <td>24.5</td>\n",
       "      <td>0.007500</td>\n",
       "      <td>24.5</td>\n",
       "      <td>232.951750</td>\n",
       "      <td>24.5</td>\n",
       "      <td>0.003008</td>\n",
       "      <td>0.006425</td>\n",
       "    </tr>\n",
       "    <tr>\n",
       "      <th>2</th>\n",
       "      <td>2014</td>\n",
       "      <td>0.039515</td>\n",
       "      <td>0.000892</td>\n",
       "      <td>24.666667</td>\n",
       "      <td>0.007500</td>\n",
       "      <td>24.666667</td>\n",
       "      <td>236.715000</td>\n",
       "      <td>24.666667</td>\n",
       "      <td>0.002903</td>\n",
       "      <td>0.006608</td>\n",
       "    </tr>\n",
       "    <tr>\n",
       "      <th>3</th>\n",
       "      <td>2015</td>\n",
       "      <td>0.020536</td>\n",
       "      <td>0.001325</td>\n",
       "      <td>24.75</td>\n",
       "      <td>0.007708</td>\n",
       "      <td>24.75</td>\n",
       "      <td>237.001750</td>\n",
       "      <td>24.75</td>\n",
       "      <td>0.001012</td>\n",
       "      <td>0.006383</td>\n",
       "    </tr>\n",
       "    <tr>\n",
       "      <th>4</th>\n",
       "      <td>2016</td>\n",
       "      <td>0.043295</td>\n",
       "      <td>0.003950</td>\n",
       "      <td>28.5</td>\n",
       "      <td>0.010208</td>\n",
       "      <td>28.5</td>\n",
       "      <td>240.005417</td>\n",
       "      <td>28.5</td>\n",
       "      <td>0.004492</td>\n",
       "      <td>0.006258</td>\n",
       "    </tr>\n",
       "    <tr>\n",
       "      <th>5</th>\n",
       "      <td>2017</td>\n",
       "      <td>0.040714</td>\n",
       "      <td>0.010017</td>\n",
       "      <td>28.5</td>\n",
       "      <td>0.016250</td>\n",
       "      <td>28.5</td>\n",
       "      <td>245.121000</td>\n",
       "      <td>28.5</td>\n",
       "      <td>0.005232</td>\n",
       "      <td>0.006233</td>\n",
       "    </tr>\n",
       "    <tr>\n",
       "      <th>6</th>\n",
       "      <td>2018</td>\n",
       "      <td>0.029185</td>\n",
       "      <td>0.018317</td>\n",
       "      <td>24.333333</td>\n",
       "      <td>0.024583</td>\n",
       "      <td>24.333333</td>\n",
       "      <td>251.098917</td>\n",
       "      <td>24.333333</td>\n",
       "      <td>0.005469</td>\n",
       "      <td>0.006267</td>\n",
       "    </tr>\n",
       "    <tr>\n",
       "      <th>7</th>\n",
       "      <td>2019</td>\n",
       "      <td>0.043849</td>\n",
       "      <td>0.021583</td>\n",
       "      <td>24.5</td>\n",
       "      <td>0.027500</td>\n",
       "      <td>24.5</td>\n",
       "      <td>255.646500</td>\n",
       "      <td>24.5</td>\n",
       "      <td>0.005006</td>\n",
       "      <td>0.005917</td>\n",
       "    </tr>\n",
       "    <tr>\n",
       "      <th>8</th>\n",
       "      <td>2020</td>\n",
       "      <td>0.080046</td>\n",
       "      <td>0.003758</td>\n",
       "      <td>24.75</td>\n",
       "      <td>0.005833</td>\n",
       "      <td>24.75</td>\n",
       "      <td>258.838250</td>\n",
       "      <td>24.75</td>\n",
       "      <td>0.003014</td>\n",
       "      <td>0.002075</td>\n",
       "    </tr>\n",
       "    <tr>\n",
       "      <th>9</th>\n",
       "      <td>2021</td>\n",
       "      <td>0.060009</td>\n",
       "      <td>0.000800</td>\n",
       "      <td>28.416667</td>\n",
       "      <td>0.002500</td>\n",
       "      <td>22.555556</td>\n",
       "      <td>270.965417</td>\n",
       "      <td>28.416667</td>\n",
       "      <td>0.016403</td>\n",
       "      <td>0.001700</td>\n",
       "    </tr>\n",
       "  </tbody>\n",
       "</table>\n",
       "</div>"
      ],
      "text/plain": [
       "   year       var  fedfunds     week_x  discount_rate     week_y         cpi  \\\n",
       "0  2012  0.032116  0.001400  28.583333       0.007500  28.583333  229.586083   \n",
       "1  2013  0.054330  0.001075       24.5       0.007500       24.5  232.951750   \n",
       "2  2014  0.039515  0.000892  24.666667       0.007500  24.666667  236.715000   \n",
       "3  2015  0.020536  0.001325      24.75       0.007708      24.75  237.001750   \n",
       "4  2016  0.043295  0.003950       28.5       0.010208       28.5  240.005417   \n",
       "5  2017  0.040714  0.010017       28.5       0.016250       28.5  245.121000   \n",
       "6  2018  0.029185  0.018317  24.333333       0.024583  24.333333  251.098917   \n",
       "7  2019  0.043849  0.021583       24.5       0.027500       24.5  255.646500   \n",
       "8  2020  0.080046  0.003758      24.75       0.005833      24.75  258.838250   \n",
       "9  2021  0.060009  0.000800  28.416667       0.002500  22.555556  270.965417   \n",
       "\n",
       "        week  inflation  rate_diff  \n",
       "0  28.583333   0.004727   0.006100  \n",
       "1       24.5   0.003008   0.006425  \n",
       "2  24.666667   0.002903   0.006608  \n",
       "3      24.75   0.001012   0.006383  \n",
       "4       28.5   0.004492   0.006258  \n",
       "5       28.5   0.005232   0.006233  \n",
       "6  24.333333   0.005469   0.006267  \n",
       "7       24.5   0.005006   0.005917  \n",
       "8      24.75   0.003014   0.002075  \n",
       "9  28.416667   0.016403   0.001700  "
      ]
     },
     "execution_count": 21,
     "metadata": {},
     "output_type": "execute_result"
    }
   ],
   "source": [
    "var_graph"
   ]
  },
  {
   "cell_type": "code",
   "execution_count": 199,
   "id": "d6f5cde0",
   "metadata": {},
   "outputs": [],
   "source": [
    "financials[\"liabilities\"] = financials[\"liabilitiesandstockholdersequity\"] - financials[\"stockholdersequity\"]\n",
    "financials_quarterly = financials.groupby([\"year\",\"quarter\"]).sum().reset_index()"
   ]
  },
  {
   "cell_type": "code",
   "execution_count": 200,
   "id": "b2784702",
   "metadata": {},
   "outputs": [
    {
     "name": "stderr",
     "output_type": "stream",
     "text": [
      "C:\\Users\\eric\\AppData\\Local\\Programs\\Python\\Python310\\lib\\site-packages\\pandas\\core\\frame.py:9190: FutureWarning: Passing 'suffixes' which cause duplicate columns {'week_x'} in the result is deprecated and will raise a MergeError in a future version.\n",
      "  return merge(\n"
     ]
    }
   ],
   "source": [
    "graphics = financials_quarterly.drop(\"adjclose\",axis=1).merge(cpi_quarterly,on=[\"year\",\"quarter\"],how=\"left\") \\\n",
    "                            .merge(fed_fund_quarterly,on=[\"year\",\"quarter\"],how=\"left\") \\\n",
    "                            .merge(discount_quarterly,on=[\"year\",\"quarter\"],how=\"left\") \\\n",
    "                            .merge(spy_quarterly,on=[\"year\",\"quarter\"],how=\"left\").copy()\n",
    "graphics[\"date\"] = [datetime(int(row[1][\"year\"]),int((row[1][\"quarter\"] - 1) * 3 + 1),1) for row in graphics.iterrows()]\n",
    "graphics = graphics[(graphics[\"date\"]>datetime(2013,1,1))].copy()\n",
    "graphics.sort_values(\"date\",inplace=True)\n",
    "cpi_prog = [0]\n",
    "for i in range(1,graphics.index.size):\n",
    "    prev = cpi_prog[i-1]\n",
    "    cpi_prog.append((1+prev) * (1 +  graphics[\"inflation\"].iloc[i]) -1) \n",
    "graphics[\"inflation_prog\"] = cpi_prog\n",
    "for vals in [\"assets\",\"liabilities\",\"stockholdersequity\",\"spy\"]:\n",
    "    if vals == \"spy\":\n",
    "        graphics[f\"{vals}_adj\"] = [row[1][\"adjclose\"] * (1-row[1][\"inflation_prog\"]) for row in graphics.iterrows()]\n",
    "    else:\n",
    "        graphics[f\"{vals}_adj\"] = [row[1][vals] * (1-row[1][\"inflation_prog\"]) for row in graphics.iterrows()]\n",
    "graphics[\"spy_prog\"] = (graphics[\"adjclose\"] - graphics[\"adjclose\"].iloc[0]) / graphics[\"adjclose\"].iloc[0]\n",
    "# graphics[\"cash_prog\"] = (graphics[\"cashandcashequivalentsatcarryingvalue\"] - graphics[\"cashandcashequivalentsatcarryingvalue\"].iloc[0]) / graphics[\"cashandcashequivalentsatcarryingvalue\"].iloc[0]\n",
    "graphics[\"se_prog\"] = (graphics[\"stockholdersequity\"] - graphics[\"stockholdersequity\"].iloc[0]) / graphics[\"stockholdersequity\"].iloc[0]\n",
    "graphics[\"assets_prog\"] = (graphics[\"assets\"] - graphics[\"assets\"].iloc[0]) / graphics[\"assets\"].iloc[0]\n",
    "graphics[\"liabilities_prog\"] = (graphics[\"liabilities\"] - graphics[\"liabilities\"].iloc[0]) / graphics[\"liabilities\"].iloc[0]\n",
    "graphics[\"spy_delt\"] = graphics[\"spy_prog\"].pct_change()\n",
    "graphics[\"se_delt\"] = graphics[\"se_prog\"].pct_change()\n",
    "graphics[\"assets_delt\"] = graphics[\"assets_prog\"].pct_change()\n",
    "# graphics[\"cash_delt\"] = graphics[\"cash_prog\"].pct_change()\n",
    "graphics[\"liabilities_delt\"] = graphics[\"liabilities_prog\"].pct_change()\n",
    "# graphics[\"cash_prog_adj\"] = (graphics[\"cashandcashequivalentsatcarryingvalue_adj\"] - graphics[\"cashandcashequivalentsatcarryingvalue_adj\"].iloc[0]) / graphics[\"cashandcashequivalentsatcarryingvalue_adj\"].iloc[0]\n",
    "graphics[\"spy_prog_adj\"] = (graphics[\"spy_adj\"] - graphics[\"spy_adj\"].iloc[0]) / graphics[\"spy_adj\"].iloc[0]\n",
    "graphics[\"se_prog_adj\"] = (graphics[\"stockholdersequity_adj\"] - graphics[\"stockholdersequity_adj\"].iloc[0]) / graphics[\"stockholdersequity_adj\"].iloc[0]\n",
    "graphics[\"assets_prog_adj\"] = (graphics[\"assets_adj\"] - graphics[\"assets_adj\"].iloc[0]) / graphics[\"assets_adj\"].iloc[0]\n",
    "graphics[\"liabilities_prog_adj\"] = (graphics[\"liabilities_adj\"] - graphics[\"liabilities_adj\"].iloc[0]) / graphics[\"liabilities_adj\"].iloc[0]\n",
    "graphics[\"spy_delt_adj\"] = graphics[\"spy_prog\"].pct_change()\n",
    "graphics[\"se_delt_adj\"] = graphics[\"se_prog\"].pct_change()\n",
    "graphics[\"assets_delt_adj\"] = graphics[\"assets_prog\"].pct_change()\n",
    "graphics[\"liabilities_delt_adj\"] = graphics[\"liabilities_prog\"].pct_change()\n",
    "# graphics[\"cash_delt_adj\"] = graphics[\"cash_prog\"].pct_change()\n",
    "graphics[\"cpi_delt\"] = graphics[\"inflation_prog\"].pct_change()"
   ]
  },
  {
   "cell_type": "code",
   "execution_count": 205,
   "id": "b0e3a476",
   "metadata": {},
   "outputs": [
    {
     "data": {
      "image/png": "[encoded data removed]",
      "text/plain": [
       "<Figure size 960x560 with 1 Axes>"
      ]
     },
     "metadata": {
      "needs_background": "light"
     },
     "output_type": "display_data"
    }
   ],
   "source": [
    "metric = \"prog\"\n",
    "plt.figure(figsize=(12, 7), dpi=80)\n",
    "# plt.plot(graphics[\"date\"],graphics[f\"spy_{metric}\"],color=\"blue\")\n",
    "plt.plot(graphics[\"date\"],graphics[f\"spy_{metric}_adj\"],color=\"navy\")\n",
    "# plt.plot(graphics[\"date\"],graphics[f\"assets_{metric}\"],color=\"maroon\")\n",
    "plt.plot(graphics[\"date\"],graphics[f\"assets_{metric}_adj\"],color=\"green\")\n",
    "# plt.plot(graphics[\"date\"],graphics[f\"liabilities_{metric}\"],color=\"maroon\")\n",
    "plt.plot(graphics[\"date\"],graphics[f\"liabilities_{metric}_adj\"],color=\"red\")\n",
    "# plt.plot(graphics[\"date\"],graphics[f\"assets_{metric}\"],color=\"navy\")\n",
    "plt.legend([\"bench\",\"assets\",\"liabilities\"])\n",
    "plt.show()"
   ]
  }
 ],
 "metadata": {
  "kernelspec": {
   "display_name": "Python 3 (ipykernel)",
   "language": "python",
   "name": "python3"
  },
  "language_info": {
   "codemirror_mode": {
    "name": "ipython",
    "version": 3
   },
   "file_extension": ".py",
   "mimetype": "text/x-python",
   "name": "python",
   "nbconvert_exporter": "python",
   "pygments_lexer": "ipython3",
   "version": "3.10.5"
  }
 },
 "nbformat": 4,
 "nbformat_minor": 5
}
