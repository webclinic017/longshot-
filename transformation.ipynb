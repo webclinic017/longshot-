{
 "cells": [
  {
   "cell_type": "code",
   "execution_count": 6,
   "id": "f17099ef",
   "metadata": {},
   "outputs": [],
   "source": [
    "import pandas as pd\n",
    "from tqdm import tqdm\n",
    "from datetime import datetime, timedelta\n",
    "from processor.processor import Processor as p\n",
    "from database.adatabase import ADatabase\n",
    "from fund.fund import Fund\n",
    "from fund.states import States"
   ]
  },
  {
   "cell_type": "code",
   "execution_count": 7,
   "id": "c552f31d",
   "metadata": {},
   "outputs": [],
   "source": [
    "fund = Fund(\"delta\",States.BACKTEST)"
   ]
  },
  {
   "cell_type": "code",
   "execution_count": 8,
   "id": "5b2db619",
   "metadata": {},
   "outputs": [],
   "source": [
    "fund.pull_portfolios()\n",
    "fund.initialize_portfolios()"
   ]
  },
  {
   "cell_type": "code",
   "execution_count": 9,
   "id": "ee59853d",
   "metadata": {
    "scrolled": true
   },
   "outputs": [
    {
     "name": "stdout",
     "output_type": "stream",
     "text": [
      "ACN \"['entitycommonstocksharesoutstanding'] not in index\"\n",
      "ADM \"['stockholdersequity'] not in index\"\n",
      "ARE \"['incometaxexpensebenefit'] not in index\"\n",
      "ALL \"['cashandcashequivalentsatcarryingvalue'] not in index\"\n"
     ]
    },
    {
     "name": "stderr",
     "output_type": "stream",
     "text": [
      "E:\\projects\\longshot_venv\\longshot\\processor\\processor.py:19: FutureWarning: Series.dt.weekofyear and Series.dt.week have been deprecated.  Please use Series.dt.isocalendar().week instead.\n",
      "  data[\"week\"] = data[\"date\"].dt.week\n"
     ]
    },
    {
     "name": "stdout",
     "output_type": "stream",
     "text": [
      "GOOGL \"['weightedaveragenumberofsharesoutstandingbasic', 'weightedaveragenumberofdilutedsharesoutstanding'] not in index\"\n",
      "AXP \"['cashandcashequivalentsatcarryingvalue'] not in index\"\n",
      "AIG \"['cashandcashequivalentsatcarryingvalue'] not in index\"\n",
      "AJG \"['weightedaveragenumberofdilutedsharesoutstanding'] not in index\"\n",
      "T \"['stockholdersequity'] not in index\"\n",
      "AVB \"['propertyplantandequipmentnet'] not in index\"\n",
      "BKR \"['weightedaveragenumberofsharesoutstandingbasic', 'entitycommonstocksharesoutstanding'] not in index\"\n",
      "BIO \"['entitycommonstocksharesoutstanding'] not in index\"\n",
      "BXP \"['incometaxexpensebenefit', 'propertyplantandequipmentnet'] not in index\"\n",
      "BSX \"['stockholdersequity', 'netincomeloss'] not in index\"\n",
      "CPT \"['incometaxexpensebenefit', 'retainedearningsaccumulateddeficit', 'propertyplantandequipmentnet'] not in index\"\n",
      "COF \"['cashandcashequivalentsatcarryingvalue'] not in index\"\n",
      "KMX \"['stockholdersequity'] not in index\"\n",
      "CAT \"['stockholdersequity', 'netincomeloss'] not in index\"\n",
      "CI \"['weightedaveragenumberofsharesoutstandingbasic', 'netincomeloss'] not in index\"\n",
      "C \"['propertyplantandequipmentnet'] not in index\"\n",
      "CME \"['entitycommonstocksharesoutstanding'] not in index\"\n",
      "CMCSA \"['entitycommonstocksharesoutstanding'] not in index\"\n",
      "CMA \"['stockholdersequity', 'netincomeloss'] not in index\"\n",
      "STZ \"['earningspersharediluted', 'earningspersharebasic', 'weightedaveragenumberofsharesoutstandingbasic', 'weightedaveragenumberofdilutedsharesoutstanding', 'entitycommonstocksharesoutstanding'] not in index\"\n",
      "CSX \"['stockholdersequity'] not in index\"\n",
      "CMI \"['netincomeloss'] not in index\"\n",
      "DLR \"['propertyplantandequipmentnet'] not in index\"\n",
      "DISH \"['entitycommonstocksharesoutstanding', 'netincomeloss'] not in index\"\n",
      "DRE \"['retainedearningsaccumulateddeficit', 'propertyplantandequipmentnet', 'netincomeloss'] not in index\"\n",
      "EW \"['netincomeloss'] not in index\"\n",
      "EOG \"['stockholdersequity'] not in index\"\n",
      "EPAM \"['retainedearningsaccumulateddeficit'] not in index\"\n",
      "EQR \"['propertyplantandequipmentnet'] not in index\"\n",
      "ESS \"['retainedearningsaccumulateddeficit', 'propertyplantandequipmentnet'] not in index\"\n",
      "EL \"['entitycommonstocksharesoutstanding'] not in index\"\n",
      "RE \"['propertyplantandequipmentnet'] not in index\"\n",
      "ES \"['propertyplantandequipmentnet'] not in index\"\n",
      "EXPE \"['entitycommonstocksharesoutstanding'] not in index\"\n",
      "FFIV \"['stockholdersequity'] not in index\"\n",
      "FRT \"['incometaxexpensebenefit', 'retainedearningsaccumulateddeficit', 'propertyplantandequipmentnet'] not in index\"\n",
      "FITB \"['cashandcashequivalentsatcarryingvalue'] not in index\"\n",
      "FRC 'filed'\n",
      "F \"['entitycommonstocksharesoutstanding'] not in index\"\n",
      "FTV \"['netincomeloss'] not in index\"\n",
      "FOXA \"['netincomeloss'] not in index\"\n",
      "FCX \"['netincomeloss'] not in index\"\n",
      "GL \"['propertyplantandequipmentnet'] not in index\"\n",
      "HIG \"['cashandcashequivalentsatcarryingvalue'] not in index\"\n",
      "PEAK \"['retainedearningsaccumulateddeficit', 'propertyplantandequipmentnet'] not in index\"\n",
      "HSY \"['earningspersharediluted', 'earningspersharebasic'] not in index\"\n",
      "HRL \"['entitycommonstocksharesoutstanding'] not in index\"\n",
      "ITW \"['stockholdersequity', 'netincomeloss'] not in index\"\n",
      "IRM \"['netincomeloss'] not in index\"\n",
      "JBHT \"['accumulatedothercomprehensiveincomelossnetoftax'] not in index\"\n",
      "JKHY \"['accumulatedothercomprehensiveincomelossnetoftax'] not in index\"\n",
      "JNJ \"['stockholdersequity'] not in index\"\n",
      "KEY \"['cashandcashequivalentsatcarryingvalue'] not in index\"\n",
      "KEYS \"['netincomeloss'] not in index\"\n",
      "KIM \"['propertyplantandequipmentnet'] not in index\"\n",
      "LEN \"['entitycommonstocksharesoutstanding'] not in index\"\n",
      "LNC \"['propertyplantandequipmentnet'] not in index\"\n",
      "L \"['cashandcashequivalentsatcarryingvalue'] not in index\"\n",
      "MA \"['entitycommonstocksharesoutstanding'] not in index\"\n"
     ]
    },
    {
     "name": "stderr",
     "output_type": "stream",
     "text": [
      "E:\\projects\\longshot_venv\\longshot\\processor\\processor.py:19: FutureWarning: Series.dt.weekofyear and Series.dt.week have been deprecated.  Please use Series.dt.isocalendar().week instead.\n",
      "  data[\"week\"] = data[\"date\"].dt.week\n"
     ]
    },
    {
     "name": "stdout",
     "output_type": "stream",
     "text": [
      "MKC \"['entitycommonstocksharesoutstanding'] not in index\"\n",
      "META \"['entitycommonstocksharesoutstanding'] not in index\"\n",
      "MET \"['propertyplantandequipmentnet'] not in index\"\n",
      "MAA \"['retainedearningsaccumulateddeficit', 'propertyplantandequipmentnet'] not in index\"\n",
      "TAP \"['entitycommonstocksharesoutstanding'] not in index\"\n",
      "MNST \"['earningspersharediluted', 'earningspersharebasic', 'netincomeloss'] not in index\"\n"
     ]
    },
    {
     "name": "stderr",
     "output_type": "stream",
     "text": [
      "E:\\projects\\longshot_venv\\longshot\\processor\\processor.py:19: FutureWarning: Series.dt.weekofyear and Series.dt.week have been deprecated.  Please use Series.dt.isocalendar().week instead.\n",
      "  data[\"week\"] = data[\"date\"].dt.week\n"
     ]
    },
    {
     "name": "stdout",
     "output_type": "stream",
     "text": [
      "NWSA \"['entitycommonstocksharesoutstanding'] not in index\"\n",
      "NTRS \"['cashandcashequivalentsatcarryingvalue'] not in index\"\n",
      "NRG \"['stockholdersequity'] not in index\"\n",
      "NVR \"['accumulatedothercomprehensiveincomelossnetoftax', 'propertyplantandequipmentnet'] not in index\"\n",
      "ODFL \"['accumulatedothercomprehensiveincomelossnetoftax'] not in index\"\n",
      "PARA \"['entitycommonstocksharesoutstanding'] not in index\"\n",
      "PNW \"['netincomeloss'] not in index\"\n",
      "PXD \"['accumulatedothercomprehensiveincomelossnetoftax'] not in index\"\n",
      "PNC \"['cashandcashequivalentsatcarryingvalue'] not in index\"\n",
      "PG \"['stockholdersequity'] not in index\"\n",
      "PGR \"['cashandcashequivalentsatcarryingvalue'] not in index\"\n",
      "PEG \"['propertyplantandequipmentnet'] not in index\"\n",
      "PSA \"['propertyplantandequipmentnet'] not in index\"\n",
      "RL \"['entitycommonstocksharesoutstanding'] not in index\"\n",
      "O \"['retainedearningsaccumulateddeficit', 'propertyplantandequipmentnet'] not in index\"\n",
      "REG \"['retainedearningsaccumulateddeficit'] not in index\"\n",
      "SBNY 'filed'\n",
      "SPG \"['entitycommonstocksharesoutstanding', 'propertyplantandequipmentnet', 'netincomeloss'] not in index\"\n",
      "STT \"['cashandcashequivalentsatcarryingvalue'] not in index\"\n",
      "SYF \"['accumulatedothercomprehensiveincomelossnetoftax', 'propertyplantandequipmentnet'] not in index\"\n",
      "SYY \"['retainedearningsaccumulateddeficit'] not in index\"\n",
      "TROW \"['retainedearningsaccumulateddeficit'] not in index\"\n",
      "TDG \"['earningspersharediluted', 'earningspersharebasic', 'weightedaveragenumberofdilutedsharesoutstanding'] not in index\"\n",
      "TRV \"['cashandcashequivalentsatcarryingvalue', 'propertyplantandequipmentnet'] not in index\"\n",
      "TFC \"['stockholdersequity', 'netincomeloss'] not in index\"\n"
     ]
    },
    {
     "name": "stderr",
     "output_type": "stream",
     "text": [
      "E:\\projects\\longshot_venv\\longshot\\processor\\processor.py:19: FutureWarning: Series.dt.weekofyear and Series.dt.week have been deprecated.  Please use Series.dt.isocalendar().week instead.\n",
      "  data[\"week\"] = data[\"date\"].dt.week\n"
     ]
    },
    {
     "name": "stdout",
     "output_type": "stream",
     "text": [
      "TSN \"['earningspersharebasic', 'weightedaveragenumberofsharesoutstandingbasic', 'entitycommonstocksharesoutstanding'] not in index\"\n",
      "UDR \"['retainedearningsaccumulateddeficit', 'propertyplantandequipmentnet'] not in index\"\n"
     ]
    },
    {
     "name": "stderr",
     "output_type": "stream",
     "text": [
      "E:\\projects\\longshot_venv\\longshot\\processor\\processor.py:19: FutureWarning: Series.dt.weekofyear and Series.dt.week have been deprecated.  Please use Series.dt.isocalendar().week instead.\n",
      "  data[\"week\"] = data[\"date\"].dt.week\n"
     ]
    },
    {
     "name": "stdout",
     "output_type": "stream",
     "text": [
      "UAA \"['entitycommonstocksharesoutstanding'] not in index\"\n",
      "UPS \"['entitycommonstocksharesoutstanding'] not in index\"\n",
      "UHS \"['entitycommonstocksharesoutstanding'] not in index\"\n",
      "VTR \"['propertyplantandequipmentnet', 'netincomeloss'] not in index\"\n",
      "V \"['earningspersharediluted', 'earningspersharebasic', 'weightedaveragenumberofsharesoutstandingbasic', 'weightedaveragenumberofdilutedsharesoutstanding', 'entitycommonstocksharesoutstanding', 'stockholdersequity'] not in index\"\n",
      "VNO \"['propertyplantandequipmentnet'] not in index\"\n",
      "WAT \"['netincomeloss'] not in index\"\n",
      "WFC \"['cashandcashequivalentsatcarryingvalue'] not in index\"\n",
      "WELL \"['propertyplantandequipmentnet'] not in index\"\n"
     ]
    },
    {
     "name": "stderr",
     "output_type": "stream",
     "text": [
      "E:\\projects\\longshot_venv\\longshot\\processor\\processor.py:19: FutureWarning: Series.dt.weekofyear and Series.dt.week have been deprecated.  Please use Series.dt.isocalendar().week instead.\n",
      "  data[\"week\"] = data[\"date\"].dt.week\n"
     ]
    },
    {
     "name": "stdout",
     "output_type": "stream",
     "text": [
      "ZION \"['cashandcashequivalentsatcarryingvalue'] not in index\"\n"
     ]
    }
   ],
   "source": [
    "fund.transform()"
   ]
  },
  {
   "cell_type": "code",
   "execution_count": null,
   "id": "e9302c18",
   "metadata": {},
   "outputs": [],
   "source": []
  }
 ],
 "metadata": {
  "kernelspec": {
   "display_name": "Python 3 (ipykernel)",
   "language": "python",
   "name": "python3"
  },
  "language_info": {
   "codemirror_mode": {
    "name": "ipython",
    "version": 3
   },
   "file_extension": ".py",
   "mimetype": "text/x-python",
   "name": "python",
   "nbconvert_exporter": "python",
   "pygments_lexer": "ipython3",
   "version": "3.10.5"
  }
 },
 "nbformat": 4,
 "nbformat_minor": 5
}
