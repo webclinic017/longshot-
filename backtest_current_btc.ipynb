{
 "cells": [
  {
   "cell_type": "code",
   "execution_count": 77,
   "id": "aa80f443",
   "metadata": {
    "scrolled": true
   },
   "outputs": [],
   "source": [
    "from datetime import datetime, timedelta\n",
    "import pytz\n",
    "import pandas as pd\n",
    "from tqdm import tqdm\n",
    "from modeler.modeler import Modeler as m\n",
    "from processor.processor import Processor as p\n",
    "from database.market import Market\n",
    "from database.adatabase import ADatabase\n",
    "from modeler_strats.universal_modeler import UniversalModeler\n",
    "from transformer.adhoc_transforms import Adhoc as adhocs\n",
    "from transformer.risk_transforms import Risk as risks\n",
    "from transformer.analysis_transforms import Analysis as anas\n",
    "\n",
    "import numpy as np\n",
    "import matplotlib.pyplot as plt\n",
    "import pickle\n",
    "from functional.backtester import Backtester as b\n",
    "import math"
   ]
  },
  {
   "cell_type": "code",
   "execution_count": 78,
   "id": "b38d4176",
   "metadata": {
    "scrolled": true
   },
   "outputs": [],
   "source": [
    "start_date = datetime(2023,1,1)\n",
    "end_date = datetime.now()"
   ]
  },
  {
   "cell_type": "code",
   "execution_count": 79,
   "id": "e5adbebb",
   "metadata": {},
   "outputs": [],
   "source": [
    "market = Market()\n",
    "speculation_db = ADatabase(\"btc_spec\")\n",
    "classification_db = ADatabase(\"btc_spec_classification\")\n",
    "current_db = ADatabase(\"btc_current\")\n",
    "umod = UniversalModeler()"
   ]
  },
  {
   "cell_type": "code",
   "execution_count": 80,
   "id": "23c58493",
   "metadata": {},
   "outputs": [],
   "source": [
    "market.connect()\n",
    "prices = market.retrieve(\"crypto\")\n",
    "sp500 = market.retrieve(\"sp500\")\n",
    "sp500 = sp500.rename(columns={\"Symbol\":\"ticker\"})\n",
    "market.disconnect()\n",
    "current_prices = pd.read_csv(\"./csv_files/prices/BTC-USD.csv\")\n",
    "current_prices[\"ticker\"] = \"BTC\"\n",
    "current_prices = p.column_date_processing(current_prices)\n",
    "prices = p.column_date_processing(prices)\n",
    "prices[\"ticker\"] = \"BTC\"\n",
    "prices = pd.concat([prices,current_prices])"
   ]
  },
  {
   "cell_type": "code",
   "execution_count": 81,
   "id": "d3f8c4e0",
   "metadata": {},
   "outputs": [],
   "source": [
    "tyields = adhocs.tyields()\n",
    "bench_returns = adhocs.spy_bench()"
   ]
  },
  {
   "cell_type": "code",
   "execution_count": 54,
   "id": "2877c3ed",
   "metadata": {},
   "outputs": [],
   "source": [
    "trades = []\n",
    "values = [True,False]\n",
    "classifications = [True,False]\n",
    "ceilings = [True,False]\n",
    "floors = [True,False]\n",
    "parameters = []\n",
    "positions = 1\n",
    "strats = [\"spec\",\"rolling\",\"window\"]\n",
    "for strat in strats:\n",
    "    for value in values:\n",
    "        for classification in classifications:\n",
    "            for ceiling in ceilings:\n",
    "                for floor in floors:\n",
    "                    parameter = {\n",
    "                                \"value\":value\n",
    "                                 ,\"classification\":classification\n",
    "                                 ,\"ceiling\":ceiling\n",
    "                                 ,\"floor\":floor\n",
    "                                ,\"strat\":strat\n",
    "                                }\n",
    "                    parameters.append(parameter)"
   ]
  },
  {
   "cell_type": "code",
   "execution_count": 82,
   "id": "a5ce2846",
   "metadata": {},
   "outputs": [],
   "source": [
    "market.connect()\n",
    "prices = market.retrieve(\"crypto\")\n",
    "market.disconnect()\n",
    "current_prices = pd.read_csv(\"./csv_files/prices/BTC-USD.csv\")\n",
    "current_prices[\"ticker\"] = \"BTC\"\n",
    "current_prices = p.column_date_processing(current_prices)\n",
    "prices = p.column_date_processing(prices)\n",
    "prices[\"year\"] = [x.year for x in prices[\"date\"]]\n",
    "prices[\"week\"] = [x.week for x in prices[\"date\"]]\n",
    "prices[\"quarter\"] = [x.quarter for x in prices[\"date\"]]\n",
    "prices[\"ticker\"] = \"BTC\"\n",
    "prices = pd.concat([prices,current_prices])"
   ]
  },
  {
   "cell_type": "code",
   "execution_count": 84,
   "id": "7ee62853",
   "metadata": {},
   "outputs": [],
   "source": [
    "speculation_db.connect()\n",
    "simulation = speculation_db.retrieve(\"predictions\")\n",
    "speculation_db.disconnect()"
   ]
  },
  {
   "cell_type": "code",
   "execution_count": 85,
   "id": "05c05728",
   "metadata": {},
   "outputs": [],
   "source": [
    "classification_db.connect()\n",
    "classification_simulation = classification_db.retrieve(\"predictions\")\n",
    "classification_db.disconnect()"
   ]
  },
  {
   "cell_type": "code",
   "execution_count": 86,
   "id": "f388e4bb",
   "metadata": {},
   "outputs": [],
   "source": [
    "ticker_sim = prices.copy()\n",
    "price_returns = risks.weekly_risk_prep(ticker_sim,bench_returns)"
   ]
  },
  {
   "cell_type": "code",
   "execution_count": 87,
   "id": "a61c6b3e",
   "metadata": {},
   "outputs": [],
   "source": [
    "sim = price_returns.merge(simulation.drop(\"adjclose\",axis=1)[[\"year\",\"week\",\"ticker\",\"prediction\"]],on=[\"year\",\"week\",\"ticker\"],how=\"left\") \\\n",
    "                    .merge(classification_simulation.drop([\"adjclose\",\"training_years\"],axis=1,errors=\"ignore\")[[\"year\",\"week\",\"ticker\",\"classification_prediction\"]],on=[\"year\",\"week\",\"ticker\"],how=\"left\") \\\n",
    "                    .merge(tyields[[\"date\",\"weekly_yield\"]],on=\"date\",how=\"left\")"
   ]
  },
  {
   "cell_type": "code",
   "execution_count": 88,
   "id": "7710948a",
   "metadata": {
    "scrolled": true
   },
   "outputs": [
    {
     "name": "stderr",
     "output_type": "stream",
     "text": [
      "100%|██████████████████████████████████████████████████████████████████████████████████████████████████████████████████████████████████████████████████████████| 48/48 [00:01<00:00, 39.62it/s]\n"
     ]
    }
   ],
   "source": [
    "current_db.connect()\n",
    "current_db.drop(\"trades\")\n",
    "for parameter in tqdm(parameters):\n",
    "    backtest_data = sim.copy().dropna()\n",
    "    strat = parameter[\"strat\"]\n",
    "    backtest_data = risks.weekly_backtest_prep(strat,backtest_data)\n",
    "    b.weeklies_backtest(backtest_data.copy(),positions,parameter,start_date,end_date,current_db)\n",
    "current_db.disconnect()"
   ]
  }
 ],
 "metadata": {
  "kernelspec": {
   "display_name": "Python 3 (ipykernel)",
   "language": "python",
   "name": "python3"
  },
  "language_info": {
   "codemirror_mode": {
    "name": "ipython",
    "version": 3
   },
   "file_extension": ".py",
   "mimetype": "text/x-python",
   "name": "python",
   "nbconvert_exporter": "python",
   "pygments_lexer": "ipython3",
   "version": "3.10.5"
  }
 },
 "nbformat": 4,
 "nbformat_minor": 5
}
