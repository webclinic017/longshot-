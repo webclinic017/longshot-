{
 "cells": [
  {
   "cell_type": "code",
   "execution_count": 1,
   "id": "9d92f602",
   "metadata": {},
   "outputs": [],
   "source": [
    "from coinbase.coinbase import Coinbase\n",
    "import pandas as pd"
   ]
  },
  {
   "cell_type": "code",
   "execution_count": 2,
   "id": "155a2bd9",
   "metadata": {},
   "outputs": [],
   "source": [
    "cbs = Coinbase()\n",
    "accounts = cbs.get_accounts()\n",
    "# balance = accounts[accounts[\"currency\"]==\"USD\"][\"balance\"].iloc[0]\n",
    "# sell_statement = cbs.place_sell(trade[\"product_id\"]\n",
    "#                                             ,trade[\"sell_price\"]\n",
    "#                                             ,trade[\"size\"])\n",
    "# buy = cbs.place_buy(symbol,buy_price,size)"
   ]
  },
  {
   "cell_type": "code",
   "execution_count": 3,
   "id": "2f180720",
   "metadata": {},
   "outputs": [
    {
     "data": {
      "text/plain": [
       "'Bad Request'"
      ]
     },
     "execution_count": 3,
     "metadata": {},
     "output_type": "execute_result"
    }
   ],
   "source": [
    "accounts.reason"
   ]
  }
 ],
 "metadata": {
  "kernelspec": {
   "display_name": "Python 3 (ipykernel)",
   "language": "python",
   "name": "python3"
  },
  "language_info": {
   "codemirror_mode": {
    "name": "ipython",
    "version": 3
   },
   "file_extension": ".py",
   "mimetype": "text/x-python",
   "name": "python",
   "nbconvert_exporter": "python",
   "pygments_lexer": "ipython3",
   "version": "3.10.5"
  }
 },
 "nbformat": 4,
 "nbformat_minor": 5
}
