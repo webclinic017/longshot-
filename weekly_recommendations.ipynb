{
 "cells": [
  {
   "cell_type": "code",
   "execution_count": 10,
   "id": "fd7ea1d3",
   "metadata": {},
   "outputs": [],
   "source": [
    "from tradealgorithm.tradealgorithm import TradeAlgorithm\n",
    "from tradealgorithm.tradealgorithmfactory import TradeAlgorithmFactory\n",
    "from pricer.pricer_factory import PricerFactory\n",
    "from pricer.pricer import Pricer\n",
    "from ranker.ranker_factory import RankerFactory\n",
    "from ranker.ranker import Ranker\n",
    "from classifier.classifier_factory import ClassifierFactory\n",
    "from classifier.classifier import Classifier\n",
    "from datetime import datetime\n",
    "from tqdm import tqdm"
   ]
  },
  {
   "cell_type": "code",
   "execution_count": 11,
   "id": "9a62a77e",
   "metadata": {},
   "outputs": [],
   "source": [
    "trade_algo = TradeAlgorithmFactory.build(TradeAlgorithm.RRR_BETA)"
   ]
  },
  {
   "cell_type": "code",
   "execution_count": 12,
   "id": "e7b9084d",
   "metadata": {},
   "outputs": [],
   "source": [
    "ranker_class = Ranker.NONE\n",
    "classifier_class = Classifier.NONE\n",
    "current = False"
   ]
  },
  {
   "cell_type": "code",
   "execution_count": 13,
   "id": "c3ed100e",
   "metadata": {},
   "outputs": [],
   "source": [
    "start = datetime(2001,1,1)\n",
    "end = datetime(2023,1,1)\n",
    "current_date = datetime.now()"
   ]
  },
  {
   "cell_type": "code",
   "execution_count": 14,
   "id": "645a067a",
   "metadata": {},
   "outputs": [],
   "source": [
    "pricer_classes = [] \n",
    "# pricer_classes.append(Pricer.DAILY_STOCK_ROLLING)\n",
    "pricer_classes.append(Pricer.WEEKLY_STOCK_ROLLING)\n",
    "# pricer_classes.append(Pricer.MONTHLY_STOCK_ROLLING)\n",
    "# pricer_classes.append(Pricer.QUARTERLY_STOCK_ROLLING)\n",
    "# pricer_classes.append(Pricer.DAILY_STOCK_WINDOW)\n",
    "pricer_classes.append(Pricer.WEEKLY_STOCK_WINDOW)\n",
    "# pricer_classes.append(Pricer.MONTHLY_STOCK_WINDOW)\n",
    "# pricer_classes.append(Pricer.QUARTERLY_STOCK_WINDOW)"
   ]
  },
  {
   "cell_type": "code",
   "execution_count": 15,
   "id": "d2e18bb2",
   "metadata": {
    "scrolled": true
   },
   "outputs": [
    {
     "name": "stderr",
     "output_type": "stream",
     "text": [
      " 25%|█████████████████████████████████████████▊                                                                                                                             | 1/4 [00:55<02:45, 55.26s/it]"
     ]
    },
    {
     "name": "stdout",
     "output_type": "stream",
     "text": [
      "Index(['year', 'quarter', 'month', 'week', 'date', 'ticker',\n",
      "       'price_prediction', 'close', 'high', 'low', 'open', 'volume',\n",
      "       'adjclose', 'adjhigh', 'adjlow', 'adjopen', 'adjvolume', 'divcash',\n",
      "       'splitfactor', 'prev_close', 'day', 'dately_risk_return',\n",
      "       'bench_dately_return', 'dately_variance', 'market_dately_cov',\n",
      "       'dately_beta', 'value', 'yield1', 'dately_yield1', 'weekly_yield1',\n",
      "       'monthly_yield1', 'quarterly_yield1', 'yield2', 'dately_yield2',\n",
      "       'weekly_yield2', 'monthly_yield2', 'quarterly_yield2', 'yield10',\n",
      "       'dately_yield10', 'weekly_yield10', 'monthly_yield10',\n",
      "       'quarterly_yield10', 'market_dately_return', 'projected_dately_return',\n",
      "       'dately_delta', 'dately_delta_sign', 'dately_rrr_tyield1',\n",
      "       'dately_rrr_tyield2', 'dately_rrr_tyield10'],\n",
      "      dtype='object')\n"
     ]
    },
    {
     "name": "stderr",
     "output_type": "stream",
     "text": [
      "\r",
      " 50%|███████████████████████████████████████████████████████████████████████████████████▌                                                                                   | 2/4 [01:48<01:47, 54.00s/it]"
     ]
    },
    {
     "name": "stdout",
     "output_type": "stream",
     "text": [
      "Index(['year', 'quarter', 'month', 'week', 'date', 'ticker',\n",
      "       'price_prediction', 'close', 'high', 'low', 'open', 'volume',\n",
      "       'adjclose', 'adjhigh', 'adjlow', 'adjopen', 'adjvolume', 'divcash',\n",
      "       'splitfactor', 'prev_close', 'day', 'weekly_risk_return',\n",
      "       'bench_weekly_return', 'weekly_variance', 'market_weekly_cov',\n",
      "       'weekly_beta', 'value', 'yield1', 'dately_yield1', 'weekly_yield1',\n",
      "       'monthly_yield1', 'quarterly_yield1', 'yield2', 'dately_yield2',\n",
      "       'weekly_yield2', 'monthly_yield2', 'quarterly_yield2', 'yield10',\n",
      "       'dately_yield10', 'weekly_yield10', 'monthly_yield10',\n",
      "       'quarterly_yield10', 'market_weekly_return', 'projected_weekly_return',\n",
      "       'weekly_delta', 'weekly_delta_sign', 'weekly_rrr_tyield1',\n",
      "       'weekly_rrr_tyield2', 'weekly_rrr_tyield10'],\n",
      "      dtype='object')\n"
     ]
    },
    {
     "name": "stderr",
     "output_type": "stream",
     "text": [
      "\r",
      " 75%|█████████████████████████████████████████████████████████████████████████████████████████████████████████████████████████████▎                                         | 3/4 [02:41<00:53, 53.75s/it]"
     ]
    },
    {
     "name": "stdout",
     "output_type": "stream",
     "text": [
      "Index(['year', 'quarter', 'month', 'week', 'date', 'ticker',\n",
      "       'price_prediction', 'close', 'high', 'low', 'open', 'volume',\n",
      "       'adjclose', 'adjhigh', 'adjlow', 'adjopen', 'adjvolume', 'divcash',\n",
      "       'splitfactor', 'prev_close', 'day', 'monthly_risk_return',\n",
      "       'bench_monthly_return', 'monthly_variance', 'market_monthly_cov',\n",
      "       'monthly_beta', 'value', 'yield1', 'dately_yield1', 'weekly_yield1',\n",
      "       'monthly_yield1', 'quarterly_yield1', 'yield2', 'dately_yield2',\n",
      "       'weekly_yield2', 'monthly_yield2', 'quarterly_yield2', 'yield10',\n",
      "       'dately_yield10', 'weekly_yield10', 'monthly_yield10',\n",
      "       'quarterly_yield10', 'market_monthly_return',\n",
      "       'projected_monthly_return', 'monthly_delta', 'monthly_delta_sign',\n",
      "       'monthly_rrr_tyield1', 'monthly_rrr_tyield2', 'monthly_rrr_tyield10'],\n",
      "      dtype='object')\n"
     ]
    },
    {
     "name": "stderr",
     "output_type": "stream",
     "text": [
      "100%|███████████████████████████████████████████████████████████████████████████████████████████████████████████████████████████████████████████████████████████████████████| 4/4 [03:35<00:00, 53.80s/it]"
     ]
    },
    {
     "name": "stdout",
     "output_type": "stream",
     "text": [
      "Index(['year', 'quarter', 'month', 'week', 'date', 'ticker',\n",
      "       'price_prediction', 'close', 'high', 'low', 'open', 'volume',\n",
      "       'adjclose', 'adjhigh', 'adjlow', 'adjopen', 'adjvolume', 'divcash',\n",
      "       'splitfactor', 'prev_close', 'day', 'quarterly_risk_return',\n",
      "       'bench_quarterly_return', 'quarterly_variance', 'market_quarterly_cov',\n",
      "       'quarterly_beta', 'value', 'yield1', 'dately_yield1', 'weekly_yield1',\n",
      "       'monthly_yield1', 'quarterly_yield1', 'yield2', 'dately_yield2',\n",
      "       'weekly_yield2', 'monthly_yield2', 'quarterly_yield2', 'yield10',\n",
      "       'dately_yield10', 'weekly_yield10', 'monthly_yield10',\n",
      "       'quarterly_yield10', 'market_quarterly_return',\n",
      "       'projected_quarterly_return', 'quarterly_delta', 'quarterly_delta_sign',\n",
      "       'quarterly_rrr_tyield1', 'quarterly_rrr_tyield2',\n",
      "       'quarterly_rrr_tyield10'],\n",
      "      dtype='object')\n"
     ]
    },
    {
     "name": "stderr",
     "output_type": "stream",
     "text": [
      "\n"
     ]
    }
   ],
   "source": [
    "for pricer_class in tqdm(pricer_classes):\n",
    "    try:\n",
    "        trade_algo.initialize(pricer_class,ranker_class,classifier_class,start,end,current_date)\n",
    "        trade_algo.initialize_bench_and_yields()\n",
    "        trade_algo.initialize_classes()\n",
    "        trade_algo.load_optimal_parameter()\n",
    "        simulation = trade_algo.create_current_simulation()\n",
    "        returns = trade_algo.create_returns(True)\n",
    "        merged = trade_algo.merge_sim_returns(simulation,returns)\n",
    "        complete = trade_algo.apply_yields(merged,True)\n",
    "        print(complete.columns)\n",
    "#         trade_algo.initialize_backtester()\n",
    "#         trades = trade_algo.run_recommendation(complete)\n",
    "    except Exception as e:\n",
    "        print(trade_algo.name,str(e))"
   ]
  },
  {
   "cell_type": "code",
   "execution_count": 19,
   "id": "e82971a8",
   "metadata": {},
   "outputs": [
    {
     "ename": "AttributeError",
     "evalue": "'Series' object has no attribute 'weekday'",
     "output_type": "error",
     "traceback": [
      "\u001b[1;31m---------------------------------------------------------------------------\u001b[0m",
      "\u001b[1;31mAttributeError\u001b[0m                            Traceback (most recent call last)",
      "\u001b[1;32m~\\AppData\\Local\\Temp/ipykernel_6968/630907533.py\u001b[0m in \u001b[0;36m<module>\u001b[1;34m\u001b[0m\n\u001b[1;32m----> 1\u001b[1;33m \u001b[0mcomplete\u001b[0m\u001b[1;33m[\u001b[0m\u001b[1;34m\"date\"\u001b[0m\u001b[1;33m]\u001b[0m\u001b[1;33m.\u001b[0m\u001b[0mweekday\u001b[0m\u001b[1;33m\u001b[0m\u001b[1;33m\u001b[0m\u001b[0m\n\u001b[0m",
      "\u001b[1;32m~\\AppData\\Local\\Programs\\Python\\Python310\\lib\\site-packages\\pandas\\core\\generic.py\u001b[0m in \u001b[0;36m__getattr__\u001b[1;34m(self, name)\u001b[0m\n\u001b[0;32m   5485\u001b[0m         ):\n\u001b[0;32m   5486\u001b[0m             \u001b[1;32mreturn\u001b[0m \u001b[0mself\u001b[0m\u001b[1;33m[\u001b[0m\u001b[0mname\u001b[0m\u001b[1;33m]\u001b[0m\u001b[1;33m\u001b[0m\u001b[1;33m\u001b[0m\u001b[0m\n\u001b[1;32m-> 5487\u001b[1;33m         \u001b[1;32mreturn\u001b[0m \u001b[0mobject\u001b[0m\u001b[1;33m.\u001b[0m\u001b[0m__getattribute__\u001b[0m\u001b[1;33m(\u001b[0m\u001b[0mself\u001b[0m\u001b[1;33m,\u001b[0m \u001b[0mname\u001b[0m\u001b[1;33m)\u001b[0m\u001b[1;33m\u001b[0m\u001b[1;33m\u001b[0m\u001b[0m\n\u001b[0m\u001b[0;32m   5488\u001b[0m \u001b[1;33m\u001b[0m\u001b[0m\n\u001b[0;32m   5489\u001b[0m     \u001b[1;32mdef\u001b[0m \u001b[0m__setattr__\u001b[0m\u001b[1;33m(\u001b[0m\u001b[0mself\u001b[0m\u001b[1;33m,\u001b[0m \u001b[0mname\u001b[0m\u001b[1;33m:\u001b[0m \u001b[0mstr\u001b[0m\u001b[1;33m,\u001b[0m \u001b[0mvalue\u001b[0m\u001b[1;33m)\u001b[0m \u001b[1;33m->\u001b[0m \u001b[1;32mNone\u001b[0m\u001b[1;33m:\u001b[0m\u001b[1;33m\u001b[0m\u001b[1;33m\u001b[0m\u001b[0m\n",
      "\u001b[1;31mAttributeError\u001b[0m: 'Series' object has no attribute 'weekday'"
     ]
    }
   ],
   "source": [
    "[]"
   ]
  }
 ],
 "metadata": {
  "kernelspec": {
   "display_name": "Python 3 (ipykernel)",
   "language": "python",
   "name": "python3"
  },
  "language_info": {
   "codemirror_mode": {
    "name": "ipython",
    "version": 3
   },
   "file_extension": ".py",
   "mimetype": "text/x-python",
   "name": "python",
   "nbconvert_exporter": "python",
   "pygments_lexer": "ipython3",
   "version": "3.10.5"
  }
 },
 "nbformat": 4,
 "nbformat_minor": 5
}
