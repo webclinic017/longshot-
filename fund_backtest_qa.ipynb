{
 "cells": [
  {
   "cell_type": "code",
   "execution_count": 1,
   "id": "288d8afc",
   "metadata": {},
   "outputs": [],
   "source": [
    "from datetime import datetime\n",
    "from fund.fund import Fund\n",
    "from pricer.pricer import Pricer as pricer_list\n",
    "from ranker.ranker import Ranker as ranker_list\n",
    "from classifier.classifier import Classifier as classifier_list\n",
    "from portfolio.aportfolio import APortfolio\n",
    "from parameters.parameters import Parameters \n",
    "import pandas as pd\n",
    "from returns.products import Products\n",
    "from processor.processor import Processor as p\n",
    "from returns.products import Products\n",
    "from database.market import Market"
   ]
  },
  {
   "cell_type": "code",
   "execution_count": 2,
   "id": "c613d937",
   "metadata": {},
   "outputs": [],
   "source": [
    "parameter = {\n",
    "    \"value\":True\n",
    "    ,\"ceiling\":True\n",
    "    ,\"classification\":False\n",
    "    ,\"rank\":False\n",
    "    ,\"short\":False\n",
    "    ,\"risk\":True\n",
    "    ,\"market_return\":1.15\n",
    "    ,\"buy_day\":1\n",
    "    ,\"sell_day\":5\n",
    "}\n"
   ]
  },
  {
   "cell_type": "code",
   "execution_count": 3,
   "id": "d4fb0e35",
   "metadata": {},
   "outputs": [],
   "source": [
    "portfolio = APortfolio(pricer_list.WEEKLY_STOCK_SPECULATION\n",
    "                          ,classifier_list.NONE\n",
    "                          ,ranker_list.NONE)\n",
    "# portfolio_ii = APortfolio(pricer_list.WEEKLY_STOCK_ROLLING\n",
    "#                            ,classifier_list.NONE\n",
    "#                           ,ranker_list.NONE)\n",
    "# portfolio_iii = APortfolio(pricer_list.WEEKLY_STOCK_WINDOW\n",
    "#                           ,classifier_list.NONE\n",
    "#                           ,ranker_list.NONE)\n",
    "# portfolio_v = APortfolio(pricer_list.WEEKLY_CRYPTO_ROLLING\n",
    "#                           ,classifier_list.WEEKLY_CRYPTO_FASTSLOW_CLASSIFIER\n",
    "#                           ,ranker_list.WEEKLY_CRYPTO_FASTSLOW_RANKER)\n",
    "# portfolio_vi = APortfolio(pricer_list.WEEKLY_CRYPTO_WINDOW\n",
    "#                           ,classifier_list.WEEKLY_CRYPTO_FASTSLOW_CLASSIFIER\n",
    "#                           ,ranker_list.WEEKLY_CRYPTO_FASTSLOW_RANKER)\n",
    "portfolio_vii = APortfolio(pricer_list.WEEKLY_CRYPTO_SPECULATION\n",
    "                          ,classifier_list.NONE\n",
    "                          ,ranker_list.NONE)\n",
    "\n",
    "portfolios = []\n",
    "portfolios.append(portfolio)\n",
    "# portfolios.append(portfolio_ii)\n",
    "# portfolios.append(portfolio_iii)\n",
    "# portfolios.append(portfolio_iv)\n",
    "# portfolios.append(portfolio_v)\n",
    "# portfolios.append(portfolio_vi)\n",
    "portfolios.append(portfolio_vii)"
   ]
  },
  {
   "cell_type": "code",
   "execution_count": 4,
   "id": "f0974d81",
   "metadata": {},
   "outputs": [],
   "source": [
    "backtest_start_date = datetime(2023,6,1)\n",
    "backtest_end_date  = datetime(2023,7,1)\n",
    "current_start_date = datetime.now()"
   ]
  },
  {
   "cell_type": "code",
   "execution_count": 5,
   "id": "f025727e",
   "metadata": {},
   "outputs": [],
   "source": [
    "fund = Fund(portfolios,backtest_start_date,backtest_end_date,current_start_date)\n",
    "market = Market()"
   ]
  },
  {
   "cell_type": "code",
   "execution_count": 6,
   "id": "8f5af5d6",
   "metadata": {},
   "outputs": [],
   "source": [
    "fund.initialize_portfolios()\n",
    "fund.initialize_backtesters()"
   ]
  },
  {
   "cell_type": "code",
   "execution_count": 7,
   "id": "014f3398",
   "metadata": {},
   "outputs": [
    {
     "name": "stderr",
     "output_type": "stream",
     "text": [
      "100%|██████████████████████████████████████████████████████████████████████████████████████████████████████████████████████████████████████| 2/2 [00:44<00:00, 22.37s/it]\n"
     ]
    }
   ],
   "source": [
    "fund.run_backtest_qa(market,parameter)"
   ]
  }
 ],
 "metadata": {
  "kernelspec": {
   "display_name": "Python 3 (ipykernel)",
   "language": "python",
   "name": "python3"
  },
  "language_info": {
   "codemirror_mode": {
    "name": "ipython",
    "version": 3
   },
   "file_extension": ".py",
   "mimetype": "text/x-python",
   "name": "python",
   "nbconvert_exporter": "python",
   "pygments_lexer": "ipython3",
   "version": "3.10.5"
  }
 },
 "nbformat": 4,
 "nbformat_minor": 5
}
