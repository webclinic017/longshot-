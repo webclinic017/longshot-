{
 "cells": [
  {
   "cell_type": "code",
   "execution_count": 19,
   "id": "75e39cfc",
   "metadata": {},
   "outputs": [],
   "source": [
    "import pandas as pd\n",
    "from database.market import Market\n",
    "from datetime import datetime,timedelta\n",
    "from parameters.parameters import Parameters\n",
    "from backtester.backtester_lite import BacktesterLite\n",
    "from processor.processor import Processor as p\n",
    "from tqdm import tqdm\n",
    "import matplotlib.pyplot as plt"
   ]
  },
  {
   "cell_type": "code",
   "execution_count": 20,
   "id": "646704bb",
   "metadata": {},
   "outputs": [],
   "source": [
    "market = Market()"
   ]
  },
  {
   "cell_type": "code",
   "execution_count": 21,
   "id": "35e88bda",
   "metadata": {},
   "outputs": [],
   "source": [
    "market.connect()\n",
    "sp500 = market.retrieve(\"sp500\").rename(columns={\"Symbol\":\"ticker\"})\n",
    "market.disconnect()"
   ]
  },
  {
   "cell_type": "code",
   "execution_count": 22,
   "id": "09347e51",
   "metadata": {},
   "outputs": [],
   "source": [
    "start_date = datetime(2001,1,1)\n",
    "end_date = datetime(2020,1,1)\n",
    "lookbacks = [1,5,20,60]\n",
    "holding_periods = [1,5,10,15,20]\n",
    "floors = [-10,0,0.05,0.1]\n",
    "ceilings = [0.1,0.5,1,10]\n",
    "volatilities = []\n",
    "# positions = 20\n",
    "# tickers = sp500[\"ticker\"]\n",
    "# asset = \"stocks\"\n",
    "positions = 1\n",
    "tickers = [\"BTC\"]\n",
    "asset = \"crypto\""
   ]
  },
  {
   "cell_type": "code",
   "execution_count": 23,
   "id": "35d87312",
   "metadata": {},
   "outputs": [],
   "source": [
    "parameters = Parameters.parameters_lite(lookbacks,holding_periods,ceilings,floors)"
   ]
  },
  {
   "cell_type": "code",
   "execution_count": 24,
   "id": "ae56ed13",
   "metadata": {},
   "outputs": [
    {
     "data": {
      "text/plain": [
       "1280"
      ]
     },
     "execution_count": 24,
     "metadata": {},
     "output_type": "execute_result"
    }
   ],
   "source": [
    "len(parameters)"
   ]
  },
  {
   "cell_type": "code",
   "execution_count": 25,
   "id": "aea4f139",
   "metadata": {},
   "outputs": [
    {
     "name": "stderr",
     "output_type": "stream",
     "text": [
      "100%|████████████████████████████████████████████████████████████████████████████████████████████████████████████████████████████████████████████████████████████████████████| 1/1 [00:00<00:00,  1.01it/s]\n"
     ]
    }
   ],
   "source": [
    "simulation = []\n",
    "market.connect()\n",
    "for ticker in tqdm(tickers):\n",
    "    try:\n",
    "        ticker_data = market.retrieve_ticker_prices(asset,ticker)\n",
    "        ticker_data = p.column_date_processing(ticker_data)\n",
    "        ticker_data.sort_values(\"date\",inplace=True)\n",
    "        ticker_data[\"week\"] = [x.week for x in ticker_data[\"date\"]]\n",
    "        ticker_data[\"day\"] = [x.weekday() for x in ticker_data[\"date\"]]\n",
    "        ticker_data[\"prev_close\"] = ticker_data[\"adjclose\"].shift(1)\n",
    "        for lookback in lookbacks:\n",
    "            ticker_data[f\"window_{lookback}\"] = ticker_data[\"prev_close\"].shift(lookback)\n",
    "            ticker_data[f\"rolling_{lookback}\"] = ticker_data[\"prev_close\"].rolling(lookback).mean()\n",
    "#             ticker_data[f\"rolling_stdev_{lookback}\"] = ticker_data[\"prev_close\"].rolling(lookback).std()\n",
    "#             ticker_data[f\"rolling_pct_stdev_{lookback}\"] = ticker_data[f\"rolling_stdev_{lookback}\"] / ticker_data[f\"rolling_{lookback}\"]\n",
    "        for holding_period in holding_periods:\n",
    "            ticker_data[f\"return_{holding_period}\"] = (ticker_data[\"adjclose\"].shift(-holding_period) - ticker_data[\"adjclose\"]) / ticker_data[\"adjclose\"]\n",
    "        simulation.append(ticker_data.dropna())\n",
    "    except Exception as e:\n",
    "        print(ticker,str(e))\n",
    "market.disconnect()\n",
    "final = pd.concat(simulation)"
   ]
  },
  {
   "cell_type": "code",
   "execution_count": 26,
   "id": "aa217607",
   "metadata": {},
   "outputs": [],
   "source": [
    "final = pd.concat(simulation)"
   ]
  },
  {
   "cell_type": "code",
   "execution_count": 27,
   "id": "d605d454",
   "metadata": {},
   "outputs": [
    {
     "data": {
      "text/html": [
       "<div>\n",
       "<style scoped>\n",
       "    .dataframe tbody tr th:only-of-type {\n",
       "        vertical-align: middle;\n",
       "    }\n",
       "\n",
       "    .dataframe tbody tr th {\n",
       "        vertical-align: top;\n",
       "    }\n",
       "\n",
       "    .dataframe thead th {\n",
       "        text-align: right;\n",
       "    }\n",
       "</style>\n",
       "<table border=\"1\" class=\"dataframe\">\n",
       "  <thead>\n",
       "    <tr style=\"text-align: right;\">\n",
       "      <th></th>\n",
       "      <th>date</th>\n",
       "      <th>open</th>\n",
       "      <th>high</th>\n",
       "      <th>low</th>\n",
       "      <th>adjclose</th>\n",
       "      <th>volume</th>\n",
       "      <th>volumenotional</th>\n",
       "      <th>tradesdone</th>\n",
       "      <th>ticker</th>\n",
       "      <th>year</th>\n",
       "      <th>...</th>\n",
       "      <th>rolling_5</th>\n",
       "      <th>window_20</th>\n",
       "      <th>rolling_20</th>\n",
       "      <th>window_60</th>\n",
       "      <th>rolling_60</th>\n",
       "      <th>return_1</th>\n",
       "      <th>return_5</th>\n",
       "      <th>return_10</th>\n",
       "      <th>return_15</th>\n",
       "      <th>return_20</th>\n",
       "    </tr>\n",
       "  </thead>\n",
       "  <tbody>\n",
       "    <tr>\n",
       "      <th>4300</th>\n",
       "      <td>2011-08-22</td>\n",
       "      <td>11.700000</td>\n",
       "      <td>11.700000</td>\n",
       "      <td>11.700000</td>\n",
       "      <td>11.700000</td>\n",
       "      <td>0.090000</td>\n",
       "      <td>1.053000e+00</td>\n",
       "      <td>0.0</td>\n",
       "      <td>BTC</td>\n",
       "      <td>2011</td>\n",
       "      <td>...</td>\n",
       "      <td>11.700000</td>\n",
       "      <td>11.700000</td>\n",
       "      <td>11.700000</td>\n",
       "      <td>10.900000</td>\n",
       "      <td>11.456833</td>\n",
       "      <td>0.000000</td>\n",
       "      <td>0.000000</td>\n",
       "      <td>0.000000</td>\n",
       "      <td>0.000000</td>\n",
       "      <td>0.000000</td>\n",
       "    </tr>\n",
       "    <tr>\n",
       "      <th>8598</th>\n",
       "      <td>2011-08-22</td>\n",
       "      <td>11.700000</td>\n",
       "      <td>11.700000</td>\n",
       "      <td>11.700000</td>\n",
       "      <td>11.700000</td>\n",
       "      <td>0.090000</td>\n",
       "      <td>1.053000e+00</td>\n",
       "      <td>0.0</td>\n",
       "      <td>BTC</td>\n",
       "      <td>2011</td>\n",
       "      <td>...</td>\n",
       "      <td>11.700000</td>\n",
       "      <td>11.700000</td>\n",
       "      <td>11.700000</td>\n",
       "      <td>10.900000</td>\n",
       "      <td>11.470167</td>\n",
       "      <td>0.000000</td>\n",
       "      <td>0.000000</td>\n",
       "      <td>0.000000</td>\n",
       "      <td>0.000000</td>\n",
       "      <td>0.000000</td>\n",
       "    </tr>\n",
       "    <tr>\n",
       "      <th>77813</th>\n",
       "      <td>2011-08-22</td>\n",
       "      <td>11.700000</td>\n",
       "      <td>11.700000</td>\n",
       "      <td>11.700000</td>\n",
       "      <td>11.700000</td>\n",
       "      <td>0.090000</td>\n",
       "      <td>1.053000e+00</td>\n",
       "      <td>0.0</td>\n",
       "      <td>BTC</td>\n",
       "      <td>2011</td>\n",
       "      <td>...</td>\n",
       "      <td>11.700000</td>\n",
       "      <td>11.700000</td>\n",
       "      <td>11.700000</td>\n",
       "      <td>10.900000</td>\n",
       "      <td>11.483500</td>\n",
       "      <td>0.000000</td>\n",
       "      <td>0.000000</td>\n",
       "      <td>0.000000</td>\n",
       "      <td>0.000000</td>\n",
       "      <td>0.000000</td>\n",
       "    </tr>\n",
       "    <tr>\n",
       "      <th>43105</th>\n",
       "      <td>2011-08-22</td>\n",
       "      <td>11.700000</td>\n",
       "      <td>11.700000</td>\n",
       "      <td>11.700000</td>\n",
       "      <td>11.700000</td>\n",
       "      <td>0.090000</td>\n",
       "      <td>1.053000e+00</td>\n",
       "      <td>0.0</td>\n",
       "      <td>BTC</td>\n",
       "      <td>2011</td>\n",
       "      <td>...</td>\n",
       "      <td>11.700000</td>\n",
       "      <td>11.700000</td>\n",
       "      <td>11.700000</td>\n",
       "      <td>10.900000</td>\n",
       "      <td>11.496833</td>\n",
       "      <td>0.000000</td>\n",
       "      <td>0.000000</td>\n",
       "      <td>0.000000</td>\n",
       "      <td>0.000000</td>\n",
       "      <td>0.000000</td>\n",
       "    </tr>\n",
       "    <tr>\n",
       "      <th>34450</th>\n",
       "      <td>2011-08-22</td>\n",
       "      <td>11.700000</td>\n",
       "      <td>11.700000</td>\n",
       "      <td>11.700000</td>\n",
       "      <td>11.700000</td>\n",
       "      <td>0.090000</td>\n",
       "      <td>1.053000e+00</td>\n",
       "      <td>0.0</td>\n",
       "      <td>BTC</td>\n",
       "      <td>2011</td>\n",
       "      <td>...</td>\n",
       "      <td>11.700000</td>\n",
       "      <td>11.700000</td>\n",
       "      <td>11.700000</td>\n",
       "      <td>10.900000</td>\n",
       "      <td>11.510167</td>\n",
       "      <td>0.000000</td>\n",
       "      <td>0.000000</td>\n",
       "      <td>0.000000</td>\n",
       "      <td>0.000000</td>\n",
       "      <td>0.000000</td>\n",
       "    </tr>\n",
       "    <tr>\n",
       "      <th>...</th>\n",
       "      <td>...</td>\n",
       "      <td>...</td>\n",
       "      <td>...</td>\n",
       "      <td>...</td>\n",
       "      <td>...</td>\n",
       "      <td>...</td>\n",
       "      <td>...</td>\n",
       "      <td>...</td>\n",
       "      <td>...</td>\n",
       "      <td>...</td>\n",
       "      <td>...</td>\n",
       "      <td>...</td>\n",
       "      <td>...</td>\n",
       "      <td>...</td>\n",
       "      <td>...</td>\n",
       "      <td>...</td>\n",
       "      <td>...</td>\n",
       "      <td>...</td>\n",
       "      <td>...</td>\n",
       "      <td>...</td>\n",
       "      <td>...</td>\n",
       "    </tr>\n",
       "    <tr>\n",
       "      <th>69122</th>\n",
       "      <td>2023-08-05</td>\n",
       "      <td>29082.894158</td>\n",
       "      <td>29118.065846</td>\n",
       "      <td>28953.145428</td>\n",
       "      <td>29051.174830</td>\n",
       "      <td>3169.025186</td>\n",
       "      <td>9.206390e+07</td>\n",
       "      <td>157724.0</td>\n",
       "      <td>BTC</td>\n",
       "      <td>2023</td>\n",
       "      <td>...</td>\n",
       "      <td>29051.174830</td>\n",
       "      <td>29633.287964</td>\n",
       "      <td>29110.285444</td>\n",
       "      <td>29358.374157</td>\n",
       "      <td>29275.862082</td>\n",
       "      <td>-0.000135</td>\n",
       "      <td>-0.000385</td>\n",
       "      <td>0.004550</td>\n",
       "      <td>0.024805</td>\n",
       "      <td>0.024509</td>\n",
       "    </tr>\n",
       "    <tr>\n",
       "      <th>73464</th>\n",
       "      <td>2023-08-06</td>\n",
       "      <td>29051.063462</td>\n",
       "      <td>29167.647143</td>\n",
       "      <td>28961.741805</td>\n",
       "      <td>29047.264696</td>\n",
       "      <td>3121.588970</td>\n",
       "      <td>9.067362e+07</td>\n",
       "      <td>145192.0</td>\n",
       "      <td>BTC</td>\n",
       "      <td>2023</td>\n",
       "      <td>...</td>\n",
       "      <td>29051.174830</td>\n",
       "      <td>29088.545441</td>\n",
       "      <td>29108.416913</td>\n",
       "      <td>29358.374157</td>\n",
       "      <td>29270.742093</td>\n",
       "      <td>0.000000</td>\n",
       "      <td>0.000000</td>\n",
       "      <td>0.004545</td>\n",
       "      <td>0.024882</td>\n",
       "      <td>0.034951</td>\n",
       "    </tr>\n",
       "    <tr>\n",
       "      <th>64783</th>\n",
       "      <td>2023-08-06</td>\n",
       "      <td>29051.063462</td>\n",
       "      <td>29167.647143</td>\n",
       "      <td>28961.741805</td>\n",
       "      <td>29047.264696</td>\n",
       "      <td>3121.588970</td>\n",
       "      <td>9.067362e+07</td>\n",
       "      <td>145192.0</td>\n",
       "      <td>BTC</td>\n",
       "      <td>2023</td>\n",
       "      <td>...</td>\n",
       "      <td>29050.392804</td>\n",
       "      <td>29177.583336</td>\n",
       "      <td>29101.900981</td>\n",
       "      <td>29358.374157</td>\n",
       "      <td>29265.556935</td>\n",
       "      <td>0.000000</td>\n",
       "      <td>-0.000529</td>\n",
       "      <td>0.004685</td>\n",
       "      <td>0.007757</td>\n",
       "      <td>0.016674</td>\n",
       "    </tr>\n",
       "    <tr>\n",
       "      <th>77805</th>\n",
       "      <td>2023-08-06</td>\n",
       "      <td>29051.063462</td>\n",
       "      <td>29167.647143</td>\n",
       "      <td>28961.741805</td>\n",
       "      <td>29047.264696</td>\n",
       "      <td>3121.588970</td>\n",
       "      <td>9.067362e+07</td>\n",
       "      <td>145192.0</td>\n",
       "      <td>BTC</td>\n",
       "      <td>2023</td>\n",
       "      <td>...</td>\n",
       "      <td>29049.610777</td>\n",
       "      <td>29177.583336</td>\n",
       "      <td>29095.385049</td>\n",
       "      <td>29358.374157</td>\n",
       "      <td>29260.371778</td>\n",
       "      <td>0.000000</td>\n",
       "      <td>0.004685</td>\n",
       "      <td>0.024882</td>\n",
       "      <td>0.017879</td>\n",
       "      <td>0.013090</td>\n",
       "    </tr>\n",
       "    <tr>\n",
       "      <th>69123</th>\n",
       "      <td>2023-08-06</td>\n",
       "      <td>29051.063462</td>\n",
       "      <td>29167.647143</td>\n",
       "      <td>28961.741805</td>\n",
       "      <td>29047.264696</td>\n",
       "      <td>3121.588970</td>\n",
       "      <td>9.067362e+07</td>\n",
       "      <td>145192.0</td>\n",
       "      <td>BTC</td>\n",
       "      <td>2023</td>\n",
       "      <td>...</td>\n",
       "      <td>29048.828750</td>\n",
       "      <td>29174.738013</td>\n",
       "      <td>29089.011384</td>\n",
       "      <td>29358.374157</td>\n",
       "      <td>29255.186620</td>\n",
       "      <td>-0.000251</td>\n",
       "      <td>0.004685</td>\n",
       "      <td>0.024943</td>\n",
       "      <td>0.017891</td>\n",
       "      <td>0.012765</td>\n",
       "    </tr>\n",
       "  </tbody>\n",
       "</table>\n",
       "<p>82072 rows × 28 columns</p>\n",
       "</div>"
      ],
      "text/plain": [
       "            date          open          high           low      adjclose  \\\n",
       "4300  2011-08-22     11.700000     11.700000     11.700000     11.700000   \n",
       "8598  2011-08-22     11.700000     11.700000     11.700000     11.700000   \n",
       "77813 2011-08-22     11.700000     11.700000     11.700000     11.700000   \n",
       "43105 2011-08-22     11.700000     11.700000     11.700000     11.700000   \n",
       "34450 2011-08-22     11.700000     11.700000     11.700000     11.700000   \n",
       "...          ...           ...           ...           ...           ...   \n",
       "69122 2023-08-05  29082.894158  29118.065846  28953.145428  29051.174830   \n",
       "73464 2023-08-06  29051.063462  29167.647143  28961.741805  29047.264696   \n",
       "64783 2023-08-06  29051.063462  29167.647143  28961.741805  29047.264696   \n",
       "77805 2023-08-06  29051.063462  29167.647143  28961.741805  29047.264696   \n",
       "69123 2023-08-06  29051.063462  29167.647143  28961.741805  29047.264696   \n",
       "\n",
       "            volume  volumenotional  tradesdone ticker  year  ...  \\\n",
       "4300      0.090000    1.053000e+00         0.0    BTC  2011  ...   \n",
       "8598      0.090000    1.053000e+00         0.0    BTC  2011  ...   \n",
       "77813     0.090000    1.053000e+00         0.0    BTC  2011  ...   \n",
       "43105     0.090000    1.053000e+00         0.0    BTC  2011  ...   \n",
       "34450     0.090000    1.053000e+00         0.0    BTC  2011  ...   \n",
       "...            ...             ...         ...    ...   ...  ...   \n",
       "69122  3169.025186    9.206390e+07    157724.0    BTC  2023  ...   \n",
       "73464  3121.588970    9.067362e+07    145192.0    BTC  2023  ...   \n",
       "64783  3121.588970    9.067362e+07    145192.0    BTC  2023  ...   \n",
       "77805  3121.588970    9.067362e+07    145192.0    BTC  2023  ...   \n",
       "69123  3121.588970    9.067362e+07    145192.0    BTC  2023  ...   \n",
       "\n",
       "          rolling_5     window_20    rolling_20     window_60    rolling_60  \\\n",
       "4300      11.700000     11.700000     11.700000     10.900000     11.456833   \n",
       "8598      11.700000     11.700000     11.700000     10.900000     11.470167   \n",
       "77813     11.700000     11.700000     11.700000     10.900000     11.483500   \n",
       "43105     11.700000     11.700000     11.700000     10.900000     11.496833   \n",
       "34450     11.700000     11.700000     11.700000     10.900000     11.510167   \n",
       "...             ...           ...           ...           ...           ...   \n",
       "69122  29051.174830  29633.287964  29110.285444  29358.374157  29275.862082   \n",
       "73464  29051.174830  29088.545441  29108.416913  29358.374157  29270.742093   \n",
       "64783  29050.392804  29177.583336  29101.900981  29358.374157  29265.556935   \n",
       "77805  29049.610777  29177.583336  29095.385049  29358.374157  29260.371778   \n",
       "69123  29048.828750  29174.738013  29089.011384  29358.374157  29255.186620   \n",
       "\n",
       "       return_1  return_5  return_10  return_15  return_20  \n",
       "4300   0.000000  0.000000   0.000000   0.000000   0.000000  \n",
       "8598   0.000000  0.000000   0.000000   0.000000   0.000000  \n",
       "77813  0.000000  0.000000   0.000000   0.000000   0.000000  \n",
       "43105  0.000000  0.000000   0.000000   0.000000   0.000000  \n",
       "34450  0.000000  0.000000   0.000000   0.000000   0.000000  \n",
       "...         ...       ...        ...        ...        ...  \n",
       "69122 -0.000135 -0.000385   0.004550   0.024805   0.024509  \n",
       "73464  0.000000  0.000000   0.004545   0.024882   0.034951  \n",
       "64783  0.000000 -0.000529   0.004685   0.007757   0.016674  \n",
       "77805  0.000000  0.004685   0.024882   0.017879   0.013090  \n",
       "69123 -0.000251  0.004685   0.024943   0.017891   0.012765  \n",
       "\n",
       "[82072 rows x 28 columns]"
      ]
     },
     "execution_count": 27,
     "metadata": {},
     "output_type": "execute_result"
    }
   ],
   "source": [
    "final"
   ]
  },
  {
   "cell_type": "code",
   "execution_count": 28,
   "id": "39ecec75",
   "metadata": {},
   "outputs": [
    {
     "name": "stderr",
     "output_type": "stream",
     "text": [
      "100%|██████████████████████████████████████████████████████████████████████████████████████████████████████████████████████████████████████████████████████████████████| 1280/1280 [00:56<00:00, 22.72it/s]\n"
     ]
    }
   ],
   "source": [
    "all_trades = []\n",
    "for iteration in tqdm(range(len(parameters))):\n",
    "    try:\n",
    "        parameter = parameters[iteration]\n",
    "        trades = BacktesterLite.backtest(positions,final.copy(),iteration,parameter,False)\n",
    "        all_trades.append(trades)\n",
    "    except Exception as e:\n",
    "        print(str(e))"
   ]
  },
  {
   "cell_type": "code",
   "execution_count": 29,
   "id": "bf2983bf",
   "metadata": {},
   "outputs": [],
   "source": [
    "analysis = pd.concat(all_trades)\n",
    "analysis[\"return\"] = analysis[\"return\"] + 1"
   ]
  },
  {
   "cell_type": "code",
   "execution_count": 30,
   "id": "3a6791ec",
   "metadata": {
    "scrolled": true
   },
   "outputs": [
    {
     "name": "stderr",
     "output_type": "stream",
     "text": [
      "  2%|██▉                                                                                                                                                                 | 23/1280 [00:00<00:31, 40.29it/s]"
     ]
    },
    {
     "name": "stdout",
     "output_type": "stream",
     "text": [
      "single positional indexer is out-of-bounds\n",
      "single positional indexer is out-of-bounds\n",
      "single positional indexer is out-of-bounds\n",
      "single positional indexer is out-of-bounds\n",
      "single positional indexer is out-of-bounds\n",
      "single positional indexer is out-of-bounds\n",
      "single positional indexer is out-of-bounds\n",
      "single positional indexer is out-of-bounds\n",
      "single positional indexer is out-of-bounds\n",
      "single positional indexer is out-of-bounds\n"
     ]
    },
    {
     "name": "stderr",
     "output_type": "stream",
     "text": [
      "  3%|█████▎                                                                                                                                                              | 41/1280 [00:01<00:25, 47.84it/s]"
     ]
    },
    {
     "name": "stdout",
     "output_type": "stream",
     "text": [
      "single positional indexer is out-of-bounds\n",
      "single positional indexer is out-of-bounds\n",
      "single positional indexer is out-of-bounds\n",
      "single positional indexer is out-of-bounds\n",
      "single positional indexer is out-of-bounds\n",
      "single positional indexer is out-of-bounds\n",
      "single positional indexer is out-of-bounds\n",
      "single positional indexer is out-of-bounds\n",
      "single positional indexer is out-of-bounds\n",
      "single positional indexer is out-of-bounds\n"
     ]
    },
    {
     "name": "stderr",
     "output_type": "stream",
     "text": [
      "  5%|███████▊                                                                                                                                                            | 61/1280 [00:01<00:24, 50.65it/s]"
     ]
    },
    {
     "name": "stdout",
     "output_type": "stream",
     "text": [
      "single positional indexer is out-of-bounds\n",
      "single positional indexer is out-of-bounds\n",
      "single positional indexer is out-of-bounds\n",
      "single positional indexer is out-of-bounds\n",
      "single positional indexer is out-of-bounds\n",
      "single positional indexer is out-of-bounds\n",
      "single positional indexer is out-of-bounds\n",
      "single positional indexer is out-of-bounds\n",
      "single positional indexer is out-of-bounds\n",
      "single positional indexer is out-of-bounds\n"
     ]
    },
    {
     "name": "stderr",
     "output_type": "stream",
     "text": [
      "  6%|██████████▍                                                                                                                                                         | 81/1280 [00:01<00:23, 51.54it/s]"
     ]
    },
    {
     "name": "stdout",
     "output_type": "stream",
     "text": [
      "single positional indexer is out-of-bounds\n",
      "single positional indexer is out-of-bounds\n",
      "single positional indexer is out-of-bounds\n",
      "single positional indexer is out-of-bounds\n",
      "single positional indexer is out-of-bounds\n",
      "single positional indexer is out-of-bounds\n",
      "single positional indexer is out-of-bounds\n",
      "single positional indexer is out-of-bounds\n",
      "single positional indexer is out-of-bounds\n",
      "single positional indexer is out-of-bounds\n"
     ]
    },
    {
     "name": "stderr",
     "output_type": "stream",
     "text": [
      "  8%|████████████▌                                                                                                                                                       | 98/1280 [00:02<00:21, 55.97it/s]"
     ]
    },
    {
     "name": "stdout",
     "output_type": "stream",
     "text": [
      "single positional indexer is out-of-bounds\n",
      "single positional indexer is out-of-bounds\n",
      "single positional indexer is out-of-bounds\n",
      "single positional indexer is out-of-bounds\n",
      "single positional indexer is out-of-bounds\n"
     ]
    },
    {
     "name": "stderr",
     "output_type": "stream",
     "text": [
      " 14%|███████████████████████                                                                                                                                            | 181/1280 [00:03<00:22, 49.61it/s]"
     ]
    },
    {
     "name": "stdout",
     "output_type": "stream",
     "text": [
      "single positional indexer is out-of-bounds\n",
      "single positional indexer is out-of-bounds\n",
      "single positional indexer is out-of-bounds\n",
      "single positional indexer is out-of-bounds\n",
      "single positional indexer is out-of-bounds\n"
     ]
    },
    {
     "name": "stderr",
     "output_type": "stream",
     "text": [
      " 20%|█████████████████████████████████                                                                                                                                  | 260/1280 [00:05<00:16, 62.06it/s]"
     ]
    },
    {
     "name": "stdout",
     "output_type": "stream",
     "text": [
      "single positional indexer is out-of-bounds\n",
      "single positional indexer is out-of-bounds\n",
      "single positional indexer is out-of-bounds\n",
      "single positional indexer is out-of-bounds\n",
      "single positional indexer is out-of-bounds\n"
     ]
    },
    {
     "name": "stderr",
     "output_type": "stream",
     "text": [
      " 27%|███████████████████████████████████████████▍                                                                                                                       | 341/1280 [00:07<00:19, 48.67it/s]"
     ]
    },
    {
     "name": "stdout",
     "output_type": "stream",
     "text": [
      "single positional indexer is out-of-bounds\n",
      "single positional indexer is out-of-bounds\n",
      "single positional indexer is out-of-bounds\n",
      "single positional indexer is out-of-bounds\n",
      "single positional indexer is out-of-bounds\n",
      "single positional indexer is out-of-bounds\n",
      "single positional indexer is out-of-bounds\n",
      "single positional indexer is out-of-bounds\n",
      "single positional indexer is out-of-bounds\n",
      "single positional indexer is out-of-bounds\n"
     ]
    },
    {
     "name": "stderr",
     "output_type": "stream",
     "text": [
      " 28%|█████████████████████████████████████████████▉                                                                                                                     | 361/1280 [00:07<00:18, 50.04it/s]"
     ]
    },
    {
     "name": "stdout",
     "output_type": "stream",
     "text": [
      "single positional indexer is out-of-bounds\n",
      "single positional indexer is out-of-bounds\n",
      "single positional indexer is out-of-bounds\n",
      "single positional indexer is out-of-bounds\n",
      "single positional indexer is out-of-bounds\n",
      "single positional indexer is out-of-bounds\n",
      "single positional indexer is out-of-bounds\n",
      "single positional indexer is out-of-bounds\n",
      "single positional indexer is out-of-bounds\n",
      "single positional indexer is out-of-bounds\n"
     ]
    },
    {
     "name": "stderr",
     "output_type": "stream",
     "text": [
      " 30%|████████████████████████████████████████████████▌                                                                                                                  | 381/1280 [00:08<00:17, 50.68it/s]"
     ]
    },
    {
     "name": "stdout",
     "output_type": "stream",
     "text": [
      "single positional indexer is out-of-bounds\n",
      "single positional indexer is out-of-bounds\n",
      "single positional indexer is out-of-bounds\n",
      "single positional indexer is out-of-bounds\n",
      "single positional indexer is out-of-bounds\n",
      "single positional indexer is out-of-bounds\n",
      "single positional indexer is out-of-bounds\n",
      "single positional indexer is out-of-bounds\n",
      "single positional indexer is out-of-bounds\n",
      "single positional indexer is out-of-bounds\n"
     ]
    },
    {
     "name": "stderr",
     "output_type": "stream",
     "text": [
      " 31%|███████████████████████████████████████████████████                                                                                                                | 401/1280 [00:08<00:17, 51.23it/s]"
     ]
    },
    {
     "name": "stdout",
     "output_type": "stream",
     "text": [
      "single positional indexer is out-of-bounds\n",
      "single positional indexer is out-of-bounds\n",
      "single positional indexer is out-of-bounds\n",
      "single positional indexer is out-of-bounds\n",
      "single positional indexer is out-of-bounds\n",
      "single positional indexer is out-of-bounds\n",
      "single positional indexer is out-of-bounds\n",
      "single positional indexer is out-of-bounds\n",
      "single positional indexer is out-of-bounds\n",
      "single positional indexer is out-of-bounds\n"
     ]
    },
    {
     "name": "stderr",
     "output_type": "stream",
     "text": [
      " 33%|█████████████████████████████████████████████████████▉                                                                                                             | 424/1280 [00:09<00:17, 48.94it/s]"
     ]
    },
    {
     "name": "stdout",
     "output_type": "stream",
     "text": [
      "single positional indexer is out-of-bounds\n",
      "single positional indexer is out-of-bounds\n",
      "single positional indexer is out-of-bounds\n",
      "single positional indexer is out-of-bounds\n",
      "single positional indexer is out-of-bounds\n"
     ]
    },
    {
     "name": "stderr",
     "output_type": "stream",
     "text": [
      " 39%|███████████████████████████████████████████████████████████████▊                                                                                                   | 501/1280 [00:10<00:15, 49.84it/s]"
     ]
    },
    {
     "name": "stdout",
     "output_type": "stream",
     "text": [
      "single positional indexer is out-of-bounds\n",
      "single positional indexer is out-of-bounds\n",
      "single positional indexer is out-of-bounds\n",
      "single positional indexer is out-of-bounds\n",
      "single positional indexer is out-of-bounds\n"
     ]
    },
    {
     "name": "stderr",
     "output_type": "stream",
     "text": [
      " 45%|█████████████████████████████████████████████████████████████████████████▉                                                                                         | 581/1280 [00:12<00:13, 51.03it/s]"
     ]
    },
    {
     "name": "stdout",
     "output_type": "stream",
     "text": [
      "single positional indexer is out-of-bounds\n",
      "single positional indexer is out-of-bounds\n",
      "single positional indexer is out-of-bounds\n",
      "single positional indexer is out-of-bounds\n",
      "single positional indexer is out-of-bounds\n"
     ]
    },
    {
     "name": "stderr",
     "output_type": "stream",
     "text": [
      " 51%|███████████████████████████████████████████████████████████████████████████████████▊                                                                               | 658/1280 [00:13<00:11, 53.12it/s]"
     ]
    },
    {
     "name": "stdout",
     "output_type": "stream",
     "text": [
      "single positional indexer is out-of-bounds\n",
      "single positional indexer is out-of-bounds\n",
      "single positional indexer is out-of-bounds\n",
      "single positional indexer is out-of-bounds\n",
      "single positional indexer is out-of-bounds\n"
     ]
    },
    {
     "name": "stderr",
     "output_type": "stream",
     "text": [
      " 57%|█████████████████████████████████████████████████████████████████████████████████████████████                                                                      | 731/1280 [00:15<00:13, 41.04it/s]"
     ]
    },
    {
     "name": "stdout",
     "output_type": "stream",
     "text": [
      "single positional indexer is out-of-bounds\n",
      "single positional indexer is out-of-bounds\n",
      "single positional indexer is out-of-bounds\n",
      "single positional indexer is out-of-bounds\n",
      "single positional indexer is out-of-bounds\n"
     ]
    },
    {
     "name": "stderr",
     "output_type": "stream",
     "text": [
      " 64%|████████████████████████████████████████████████████████████████████████████████████████████████████████▌                                                          | 821/1280 [00:17<00:09, 48.86it/s]"
     ]
    },
    {
     "name": "stdout",
     "output_type": "stream",
     "text": [
      "single positional indexer is out-of-bounds\n",
      "single positional indexer is out-of-bounds\n",
      "single positional indexer is out-of-bounds\n",
      "single positional indexer is out-of-bounds\n",
      "single positional indexer is out-of-bounds\n"
     ]
    },
    {
     "name": "stderr",
     "output_type": "stream",
     "text": [
      " 70%|██████████████████████████████████████████████████████████████████████████████████████████████████████████████████▋                                                | 901/1280 [00:19<00:07, 50.22it/s]"
     ]
    },
    {
     "name": "stdout",
     "output_type": "stream",
     "text": [
      "single positional indexer is out-of-bounds\n",
      "single positional indexer is out-of-bounds\n",
      "single positional indexer is out-of-bounds\n",
      "single positional indexer is out-of-bounds\n",
      "single positional indexer is out-of-bounds\n"
     ]
    },
    {
     "name": "stderr",
     "output_type": "stream",
     "text": [
      " 77%|████████████████████████████████████████████████████████████████████████████████████████████████████████████████████████████▉                                      | 981/1280 [00:20<00:06, 48.04it/s]"
     ]
    },
    {
     "name": "stdout",
     "output_type": "stream",
     "text": [
      "single positional indexer is out-of-bounds\n",
      "single positional indexer is out-of-bounds\n",
      "single positional indexer is out-of-bounds\n",
      "single positional indexer is out-of-bounds\n",
      "single positional indexer is out-of-bounds\n"
     ]
    },
    {
     "name": "stderr",
     "output_type": "stream",
     "text": [
      " 83%|█████████████████████████████████████████████████████████████████████████████████████████████████████████████████████████████████████▉                            | 1058/1280 [00:22<00:04, 51.00it/s]"
     ]
    },
    {
     "name": "stdout",
     "output_type": "stream",
     "text": [
      "single positional indexer is out-of-bounds\n",
      "single positional indexer is out-of-bounds\n",
      "single positional indexer is out-of-bounds\n",
      "single positional indexer is out-of-bounds\n",
      "single positional indexer is out-of-bounds\n"
     ]
    },
    {
     "name": "stderr",
     "output_type": "stream",
     "text": [
      " 89%|████████████████████████████████████████████████████████████████████████████████████████████████████████████████████████████████████████████████▍                 | 1141/1280 [00:24<00:02, 47.65it/s]"
     ]
    },
    {
     "name": "stdout",
     "output_type": "stream",
     "text": [
      "single positional indexer is out-of-bounds\n",
      "single positional indexer is out-of-bounds\n",
      "single positional indexer is out-of-bounds\n",
      "single positional indexer is out-of-bounds\n",
      "single positional indexer is out-of-bounds\n"
     ]
    },
    {
     "name": "stderr",
     "output_type": "stream",
     "text": [
      " 95%|██████████████████████████████████████████████████████████████████████████████████████████████████████████████████████████████████████████████████████████▌       | 1221/1280 [00:26<00:01, 50.23it/s]"
     ]
    },
    {
     "name": "stdout",
     "output_type": "stream",
     "text": [
      "single positional indexer is out-of-bounds\n",
      "single positional indexer is out-of-bounds\n",
      "single positional indexer is out-of-bounds\n",
      "single positional indexer is out-of-bounds\n",
      "single positional indexer is out-of-bounds\n"
     ]
    },
    {
     "name": "stderr",
     "output_type": "stream",
     "text": [
      "100%|██████████████████████████████████████████████████████████████████████████████████████████████████████████████████████████████████████████████████████████████████| 1280/1280 [00:27<00:00, 46.72it/s]\n"
     ]
    }
   ],
   "source": [
    "report = []\n",
    "for iteration in tqdm(range(len(parameters))):\n",
    "    try:\n",
    "        parameter = parameters[iteration]\n",
    "        iteration_trades = analysis[analysis[\"iteration\"]==iteration]\n",
    "        iteration_trades = iteration_trades[(iteration_trades[\"date\"]>=start_date) & (iteration_trades[\"date\"]<=end_date)]\n",
    "        cumulative = iteration_trades.pivot_table(values=\"return\",index=\"date\",columns=\"position\").reset_index()\n",
    "        for i in range(positions):\n",
    "            if float(i) not in cumulative.columns:\n",
    "                cumulative[float(i)] = 1\n",
    "        cumulative[\"pv\"] = [sum([row[1][float(x)] * float(1/positions) for x in range(positions)]) for row in cumulative.iterrows()]\n",
    "        iter_report = cumulative.cumprod().iloc[-1]\n",
    "        for key in parameter.keys():\n",
    "            iter_report[key] = parameter[key]\n",
    "        iter_report[\"iteration\"] = iteration\n",
    "        report.append(iter_report[[\"pv\",\"iteration\"] + list(parameter.keys())])\n",
    "    except Exception as e:\n",
    "        print(str(e))\n",
    "        continue"
   ]
  },
  {
   "cell_type": "code",
   "execution_count": 31,
   "id": "2f4515fa",
   "metadata": {},
   "outputs": [],
   "source": [
    "performance = pd.DataFrame(report)"
   ]
  },
  {
   "cell_type": "code",
   "execution_count": 32,
   "id": "397ee36f",
   "metadata": {},
   "outputs": [
    {
     "data": {
      "text/html": [
       "<div>\n",
       "<style scoped>\n",
       "    .dataframe tbody tr th:only-of-type {\n",
       "        vertical-align: middle;\n",
       "    }\n",
       "\n",
       "    .dataframe tbody tr th {\n",
       "        vertical-align: top;\n",
       "    }\n",
       "\n",
       "    .dataframe thead th {\n",
       "        text-align: right;\n",
       "    }\n",
       "</style>\n",
       "<table border=\"1\" class=\"dataframe\">\n",
       "  <thead>\n",
       "    <tr style=\"text-align: right;\">\n",
       "      <th>position</th>\n",
       "      <th>pv</th>\n",
       "      <th>iteration</th>\n",
       "      <th>strategy</th>\n",
       "      <th>value</th>\n",
       "      <th>lookback</th>\n",
       "      <th>holding_period</th>\n",
       "      <th>floor</th>\n",
       "      <th>ceiling</th>\n",
       "    </tr>\n",
       "  </thead>\n",
       "  <tbody>\n",
       "    <tr>\n",
       "      <th>3016</th>\n",
       "      <td>1274.482833</td>\n",
       "      <td>425</td>\n",
       "      <td>rolling</td>\n",
       "      <td>False</td>\n",
       "      <td>5</td>\n",
       "      <td>1</td>\n",
       "      <td>0.0</td>\n",
       "      <td>0.5</td>\n",
       "    </tr>\n",
       "    <tr>\n",
       "      <th>3016</th>\n",
       "      <td>1274.482833</td>\n",
       "      <td>405</td>\n",
       "      <td>rolling</td>\n",
       "      <td>False</td>\n",
       "      <td>5</td>\n",
       "      <td>1</td>\n",
       "      <td>0.0</td>\n",
       "      <td>0.1</td>\n",
       "    </tr>\n",
       "    <tr>\n",
       "      <th>3016</th>\n",
       "      <td>1274.482833</td>\n",
       "      <td>465</td>\n",
       "      <td>rolling</td>\n",
       "      <td>False</td>\n",
       "      <td>5</td>\n",
       "      <td>1</td>\n",
       "      <td>0.0</td>\n",
       "      <td>10.0</td>\n",
       "    </tr>\n",
       "    <tr>\n",
       "      <th>3016</th>\n",
       "      <td>1274.482833</td>\n",
       "      <td>445</td>\n",
       "      <td>rolling</td>\n",
       "      <td>False</td>\n",
       "      <td>5</td>\n",
       "      <td>1</td>\n",
       "      <td>0.0</td>\n",
       "      <td>1.0</td>\n",
       "    </tr>\n",
       "    <tr>\n",
       "      <th>3021</th>\n",
       "      <td>1177.373761</td>\n",
       "      <td>725</td>\n",
       "      <td>window</td>\n",
       "      <td>True</td>\n",
       "      <td>5</td>\n",
       "      <td>1</td>\n",
       "      <td>0.0</td>\n",
       "      <td>0.1</td>\n",
       "    </tr>\n",
       "    <tr>\n",
       "      <th>3021</th>\n",
       "      <td>1177.373761</td>\n",
       "      <td>645</td>\n",
       "      <td>window</td>\n",
       "      <td>True</td>\n",
       "      <td>1</td>\n",
       "      <td>1</td>\n",
       "      <td>0.0</td>\n",
       "      <td>0.1</td>\n",
       "    </tr>\n",
       "    <tr>\n",
       "      <th>3021</th>\n",
       "      <td>1177.373761</td>\n",
       "      <td>640</td>\n",
       "      <td>window</td>\n",
       "      <td>True</td>\n",
       "      <td>1</td>\n",
       "      <td>1</td>\n",
       "      <td>-10.0</td>\n",
       "      <td>0.1</td>\n",
       "    </tr>\n",
       "    <tr>\n",
       "      <th>3021</th>\n",
       "      <td>1177.373761</td>\n",
       "      <td>720</td>\n",
       "      <td>window</td>\n",
       "      <td>True</td>\n",
       "      <td>5</td>\n",
       "      <td>1</td>\n",
       "      <td>-10.0</td>\n",
       "      <td>0.1</td>\n",
       "    </tr>\n",
       "    <tr>\n",
       "      <th>3021</th>\n",
       "      <td>689.287389</td>\n",
       "      <td>660</td>\n",
       "      <td>window</td>\n",
       "      <td>True</td>\n",
       "      <td>1</td>\n",
       "      <td>1</td>\n",
       "      <td>-10.0</td>\n",
       "      <td>0.5</td>\n",
       "    </tr>\n",
       "    <tr>\n",
       "      <th>3021</th>\n",
       "      <td>689.287389</td>\n",
       "      <td>745</td>\n",
       "      <td>window</td>\n",
       "      <td>True</td>\n",
       "      <td>5</td>\n",
       "      <td>1</td>\n",
       "      <td>0.0</td>\n",
       "      <td>0.5</td>\n",
       "    </tr>\n",
       "    <tr>\n",
       "      <th>3021</th>\n",
       "      <td>689.287389</td>\n",
       "      <td>740</td>\n",
       "      <td>window</td>\n",
       "      <td>True</td>\n",
       "      <td>5</td>\n",
       "      <td>1</td>\n",
       "      <td>-10.0</td>\n",
       "      <td>0.5</td>\n",
       "    </tr>\n",
       "    <tr>\n",
       "      <th>3021</th>\n",
       "      <td>689.287389</td>\n",
       "      <td>665</td>\n",
       "      <td>window</td>\n",
       "      <td>True</td>\n",
       "      <td>1</td>\n",
       "      <td>1</td>\n",
       "      <td>0.0</td>\n",
       "      <td>0.5</td>\n",
       "    </tr>\n",
       "    <tr>\n",
       "      <th>3021</th>\n",
       "      <td>595.186714</td>\n",
       "      <td>65</td>\n",
       "      <td>rolling</td>\n",
       "      <td>True</td>\n",
       "      <td>1</td>\n",
       "      <td>1</td>\n",
       "      <td>0.0</td>\n",
       "      <td>10.0</td>\n",
       "    </tr>\n",
       "    <tr>\n",
       "      <th>3021</th>\n",
       "      <td>595.186714</td>\n",
       "      <td>385</td>\n",
       "      <td>rolling</td>\n",
       "      <td>False</td>\n",
       "      <td>1</td>\n",
       "      <td>1</td>\n",
       "      <td>0.0</td>\n",
       "      <td>10.0</td>\n",
       "    </tr>\n",
       "    <tr>\n",
       "      <th>3021</th>\n",
       "      <td>595.186714</td>\n",
       "      <td>45</td>\n",
       "      <td>rolling</td>\n",
       "      <td>True</td>\n",
       "      <td>1</td>\n",
       "      <td>1</td>\n",
       "      <td>0.0</td>\n",
       "      <td>1.0</td>\n",
       "    </tr>\n",
       "    <tr>\n",
       "      <th>3021</th>\n",
       "      <td>595.186714</td>\n",
       "      <td>380</td>\n",
       "      <td>rolling</td>\n",
       "      <td>False</td>\n",
       "      <td>1</td>\n",
       "      <td>1</td>\n",
       "      <td>-10.0</td>\n",
       "      <td>10.0</td>\n",
       "    </tr>\n",
       "    <tr>\n",
       "      <th>3021</th>\n",
       "      <td>595.186714</td>\n",
       "      <td>365</td>\n",
       "      <td>rolling</td>\n",
       "      <td>False</td>\n",
       "      <td>1</td>\n",
       "      <td>1</td>\n",
       "      <td>0.0</td>\n",
       "      <td>1.0</td>\n",
       "    </tr>\n",
       "    <tr>\n",
       "      <th>3021</th>\n",
       "      <td>595.186714</td>\n",
       "      <td>60</td>\n",
       "      <td>rolling</td>\n",
       "      <td>True</td>\n",
       "      <td>1</td>\n",
       "      <td>1</td>\n",
       "      <td>-10.0</td>\n",
       "      <td>10.0</td>\n",
       "    </tr>\n",
       "    <tr>\n",
       "      <th>3021</th>\n",
       "      <td>595.186714</td>\n",
       "      <td>360</td>\n",
       "      <td>rolling</td>\n",
       "      <td>False</td>\n",
       "      <td>1</td>\n",
       "      <td>1</td>\n",
       "      <td>-10.0</td>\n",
       "      <td>1.0</td>\n",
       "    </tr>\n",
       "    <tr>\n",
       "      <th>3021</th>\n",
       "      <td>595.186714</td>\n",
       "      <td>345</td>\n",
       "      <td>rolling</td>\n",
       "      <td>False</td>\n",
       "      <td>1</td>\n",
       "      <td>1</td>\n",
       "      <td>0.0</td>\n",
       "      <td>0.5</td>\n",
       "    </tr>\n",
       "  </tbody>\n",
       "</table>\n",
       "</div>"
      ],
      "text/plain": [
       "position           pv  iteration strategy  value  lookback  holding_period  \\\n",
       "3016      1274.482833        425  rolling  False         5               1   \n",
       "3016      1274.482833        405  rolling  False         5               1   \n",
       "3016      1274.482833        465  rolling  False         5               1   \n",
       "3016      1274.482833        445  rolling  False         5               1   \n",
       "3021      1177.373761        725   window   True         5               1   \n",
       "3021      1177.373761        645   window   True         1               1   \n",
       "3021      1177.373761        640   window   True         1               1   \n",
       "3021      1177.373761        720   window   True         5               1   \n",
       "3021       689.287389        660   window   True         1               1   \n",
       "3021       689.287389        745   window   True         5               1   \n",
       "3021       689.287389        740   window   True         5               1   \n",
       "3021       689.287389        665   window   True         1               1   \n",
       "3021       595.186714         65  rolling   True         1               1   \n",
       "3021       595.186714        385  rolling  False         1               1   \n",
       "3021       595.186714         45  rolling   True         1               1   \n",
       "3021       595.186714        380  rolling  False         1               1   \n",
       "3021       595.186714        365  rolling  False         1               1   \n",
       "3021       595.186714         60  rolling   True         1               1   \n",
       "3021       595.186714        360  rolling  False         1               1   \n",
       "3021       595.186714        345  rolling  False         1               1   \n",
       "\n",
       "position  floor  ceiling  \n",
       "3016        0.0      0.5  \n",
       "3016        0.0      0.1  \n",
       "3016        0.0     10.0  \n",
       "3016        0.0      1.0  \n",
       "3021        0.0      0.1  \n",
       "3021        0.0      0.1  \n",
       "3021      -10.0      0.1  \n",
       "3021      -10.0      0.1  \n",
       "3021      -10.0      0.5  \n",
       "3021        0.0      0.5  \n",
       "3021      -10.0      0.5  \n",
       "3021        0.0      0.5  \n",
       "3021        0.0     10.0  \n",
       "3021        0.0     10.0  \n",
       "3021        0.0      1.0  \n",
       "3021      -10.0     10.0  \n",
       "3021        0.0      1.0  \n",
       "3021      -10.0     10.0  \n",
       "3021      -10.0      1.0  \n",
       "3021        0.0      0.5  "
      ]
     },
     "execution_count": 32,
     "metadata": {},
     "output_type": "execute_result"
    }
   ],
   "source": [
    "performance.sort_values(\"pv\",ascending=False).head(20)"
   ]
  },
  {
   "cell_type": "code",
   "execution_count": 33,
   "id": "d818efa6",
   "metadata": {},
   "outputs": [],
   "source": [
    "iteration = performance.sort_values(\"pv\",ascending=False).iloc[0][\"iteration\"]\n",
    "parameter = parameters[iteration]\n",
    "iteration_trades = analysis[analysis[\"iteration\"]==iteration]\n",
    "iteration_trades = iteration_trades[(iteration_trades[\"date\"]>=start_date) & (iteration_trades[\"date\"]<=end_date)]\n",
    "cumulative = iteration_trades.pivot_table(values=\"return\",index=\"date\",columns=\"position\").reset_index()\n",
    "cumulative[\"pv\"] = [sum([row[1][float(x)] * float(1/positions) for x in range(positions)]) for row in cumulative.iterrows()]\n",
    "cumulative[\"pv\"] = cumulative[\"pv\"].cumprod()"
   ]
  },
  {
   "cell_type": "code",
   "execution_count": 34,
   "id": "c0bbfffb",
   "metadata": {},
   "outputs": [
    {
     "data": {
      "text/html": [
       "<div>\n",
       "<style scoped>\n",
       "    .dataframe tbody tr th:only-of-type {\n",
       "        vertical-align: middle;\n",
       "    }\n",
       "\n",
       "    .dataframe tbody tr th {\n",
       "        vertical-align: top;\n",
       "    }\n",
       "\n",
       "    .dataframe thead th {\n",
       "        text-align: right;\n",
       "    }\n",
       "</style>\n",
       "<table border=\"1\" class=\"dataframe\">\n",
       "  <thead>\n",
       "    <tr style=\"text-align: right;\">\n",
       "      <th>position</th>\n",
       "      <th>date</th>\n",
       "      <th>0.0</th>\n",
       "      <th>pv</th>\n",
       "    </tr>\n",
       "  </thead>\n",
       "  <tbody>\n",
       "    <tr>\n",
       "      <th>0</th>\n",
       "      <td>2011-08-22</td>\n",
       "      <td>1.000000</td>\n",
       "      <td>1.000000</td>\n",
       "    </tr>\n",
       "    <tr>\n",
       "      <th>1</th>\n",
       "      <td>2011-08-23</td>\n",
       "      <td>0.897436</td>\n",
       "      <td>0.897436</td>\n",
       "    </tr>\n",
       "    <tr>\n",
       "      <th>2</th>\n",
       "      <td>2011-08-25</td>\n",
       "      <td>0.952381</td>\n",
       "      <td>0.854701</td>\n",
       "    </tr>\n",
       "    <tr>\n",
       "      <th>3</th>\n",
       "      <td>2011-08-26</td>\n",
       "      <td>0.800000</td>\n",
       "      <td>0.683761</td>\n",
       "    </tr>\n",
       "    <tr>\n",
       "      <th>4</th>\n",
       "      <td>2011-08-31</td>\n",
       "      <td>1.027500</td>\n",
       "      <td>0.702564</td>\n",
       "    </tr>\n",
       "    <tr>\n",
       "      <th>...</th>\n",
       "      <td>...</td>\n",
       "      <td>...</td>\n",
       "      <td>...</td>\n",
       "    </tr>\n",
       "    <tr>\n",
       "      <th>3012</th>\n",
       "      <td>2019-12-28</td>\n",
       "      <td>1.010096</td>\n",
       "      <td>1352.382762</td>\n",
       "    </tr>\n",
       "    <tr>\n",
       "      <th>3013</th>\n",
       "      <td>2019-12-29</td>\n",
       "      <td>0.980018</td>\n",
       "      <td>1325.358839</td>\n",
       "    </tr>\n",
       "    <tr>\n",
       "      <th>3014</th>\n",
       "      <td>2019-12-30</td>\n",
       "      <td>0.992840</td>\n",
       "      <td>1315.869118</td>\n",
       "    </tr>\n",
       "    <tr>\n",
       "      <th>3015</th>\n",
       "      <td>2019-12-31</td>\n",
       "      <td>1.000968</td>\n",
       "      <td>1317.142949</td>\n",
       "    </tr>\n",
       "    <tr>\n",
       "      <th>3016</th>\n",
       "      <td>2020-01-01</td>\n",
       "      <td>0.967612</td>\n",
       "      <td>1274.482833</td>\n",
       "    </tr>\n",
       "  </tbody>\n",
       "</table>\n",
       "<p>3017 rows × 3 columns</p>\n",
       "</div>"
      ],
      "text/plain": [
       "position       date       0.0           pv\n",
       "0        2011-08-22  1.000000     1.000000\n",
       "1        2011-08-23  0.897436     0.897436\n",
       "2        2011-08-25  0.952381     0.854701\n",
       "3        2011-08-26  0.800000     0.683761\n",
       "4        2011-08-31  1.027500     0.702564\n",
       "...             ...       ...          ...\n",
       "3012     2019-12-28  1.010096  1352.382762\n",
       "3013     2019-12-29  0.980018  1325.358839\n",
       "3014     2019-12-30  0.992840  1315.869118\n",
       "3015     2019-12-31  1.000968  1317.142949\n",
       "3016     2020-01-01  0.967612  1274.482833\n",
       "\n",
       "[3017 rows x 3 columns]"
      ]
     },
     "execution_count": 34,
     "metadata": {},
     "output_type": "execute_result"
    }
   ],
   "source": [
    "cumulative"
   ]
  },
  {
   "cell_type": "code",
   "execution_count": 35,
   "id": "372599c4",
   "metadata": {},
   "outputs": [
    {
     "data": {
      "text/plain": [
       "[<matplotlib.lines.Line2D at 0x1349f3df460>]"
      ]
     },
     "execution_count": 35,
     "metadata": {},
     "output_type": "execute_result"
    },
    {
     "data": {
      "image/png": "[encoded data removed]",
      "text/plain": [
       "<Figure size 432x288 with 1 Axes>"
      ]
     },
     "metadata": {
      "needs_background": "light"
     },
     "output_type": "display_data"
    }
   ],
   "source": [
    "plt.plot(cumulative[\"date\"],cumulative[\"pv\"])"
   ]
  },
  {
   "cell_type": "code",
   "execution_count": 36,
   "id": "a9cc1c42",
   "metadata": {},
   "outputs": [
    {
     "data": {
      "text/plain": [
       "{'strategy': 'rolling',\n",
       " 'value': False,\n",
       " 'lookback': 5,\n",
       " 'holding_period': 1,\n",
       " 'floor': 0,\n",
       " 'ceiling': 0.5}"
      ]
     },
     "execution_count": 36,
     "metadata": {},
     "output_type": "execute_result"
    }
   ],
   "source": [
    "parameter"
   ]
  }
 ],
 "metadata": {
  "kernelspec": {
   "display_name": "Python 3 (ipykernel)",
   "language": "python",
   "name": "python3"
  },
  "language_info": {
   "codemirror_mode": {
    "name": "ipython",
    "version": 3
   },
   "file_extension": ".py",
   "mimetype": "text/x-python",
   "name": "python",
   "nbconvert_exporter": "python",
   "pygments_lexer": "ipython3",
   "version": "3.10.5"
  }
 },
 "nbformat": 4,
 "nbformat_minor": 5
}
