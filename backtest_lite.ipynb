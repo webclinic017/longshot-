{
 "cells": [
  {
   "cell_type": "code",
   "execution_count": 1,
   "id": "75e39cfc",
   "metadata": {},
   "outputs": [],
   "source": [
    "import pandas as pd\n",
    "from datetime import datetime,timedelta\n",
    "from lite.parameters_lite import Parameters\n",
    "from lite.backtester_lite import Backtester\n",
    "from lite.transformer_lite import Transformer\n",
    "from processor.processor import Processor as p\n",
    "from alpaca_api.alpaca_api import AlpacaApi\n",
    "from tqdm import tqdm\n",
    "import matplotlib.pyplot as plt"
   ]
  },
  {
   "cell_type": "code",
   "execution_count": 2,
   "id": "646704bb",
   "metadata": {},
   "outputs": [],
   "source": [
    "alp = AlpacaApi()"
   ]
  },
  {
   "cell_type": "code",
   "execution_count": 3,
   "id": "35e88bda",
   "metadata": {},
   "outputs": [],
   "source": [
    "sp100 = pd.read_html(\"https://en.wikipedia.org/wiki/S%26P_100\",attrs={\"id\":\"constituents\"})[0]\n",
    "sp100.rename(columns={\"Symbol\":\"ticker\",\"Sector\":\"GICS Sector\"},inplace=True)"
   ]
  },
  {
   "cell_type": "code",
   "execution_count": 4,
   "id": "09347e51",
   "metadata": {},
   "outputs": [],
   "source": [
    "backtest_years = 1\n",
    "current = False\n",
    "extract_date = datetime.now() - timedelta(days=(backtest_years+1)*365.25)\n",
    "start_date = datetime.now() - timedelta(days=backtest_years*365.25)\n",
    "end_date = datetime.now()\n",
    "lookbacks = [5,20,60]\n",
    "tickers = sp100[\"ticker\"]\n",
    "positions = len(list(sp100[\"GICS Sector\"].unique()))"
   ]
  },
  {
   "cell_type": "code",
   "execution_count": 5,
   "id": "35d87312",
   "metadata": {},
   "outputs": [],
   "source": [
    "parameters = Parameters.parameters_lite(lookbacks)"
   ]
  },
  {
   "cell_type": "code",
   "execution_count": 6,
   "id": "aea4f139",
   "metadata": {},
   "outputs": [
    {
     "name": "stderr",
     "output_type": "stream",
     "text": [
      "100%|███████████████████████████████████████████████████████████████████████████████████████████████████████████████████████████████████████████████████████████████████████████████| 101/101 [00:10<00:00,  9.46it/s]\n"
     ]
    }
   ],
   "source": [
    "simulation = []\n",
    "for ticker in tqdm(tickers):\n",
    "    try:\n",
    "        ticker_data = alp.get_ticker_data(ticker,extract_date,end_date)\n",
    "        ticker_data = Transformer.transform(ticker_data,lookbacks,current)\n",
    "        simulation.append(ticker_data.dropna())\n",
    "    except Exception as e:\n",
    "        print(ticker,str(e))"
   ]
  },
  {
   "cell_type": "code",
   "execution_count": 7,
   "id": "aa217607",
   "metadata": {},
   "outputs": [],
   "source": [
    "final = pd.concat(simulation).merge(sp100[[\"ticker\",\"GICS Sector\"]],how=\"left\")"
   ]
  },
  {
   "cell_type": "code",
   "execution_count": 8,
   "id": "39ecec75",
   "metadata": {},
   "outputs": [
    {
     "name": "stderr",
     "output_type": "stream",
     "text": [
      "100%|█████████████████████████████████████████████████████████████████████████████████████████████████████████████████████████████████████████████████████████████████████████████████| 24/24 [00:00<00:00, 25.80it/s]\n"
     ]
    }
   ],
   "source": [
    "all_trades = []\n",
    "for iteration in tqdm(range(len(parameters))):\n",
    "    try:\n",
    "        parameter = parameters[iteration]\n",
    "        trades = Backtester.backtest(final.copy(),iteration,parameter,current)\n",
    "        all_trades.append(trades)\n",
    "    except Exception as e:\n",
    "        print(str(e))"
   ]
  },
  {
   "cell_type": "code",
   "execution_count": 9,
   "id": "bf2983bf",
   "metadata": {},
   "outputs": [],
   "source": [
    "analysis = pd.concat(all_trades)\n",
    "analysis[\"return\"] = analysis[\"return\"] + 1"
   ]
  },
  {
   "cell_type": "code",
   "execution_count": 10,
   "id": "3a6791ec",
   "metadata": {
    "scrolled": true
   },
   "outputs": [
    {
     "name": "stderr",
     "output_type": "stream",
     "text": [
      " 50%|████████████████████████████████████████████████████████████████████████████████████████▌                                                                                        | 12/24 [00:00<00:00, 57.97it/s]"
     ]
    },
    {
     "name": "stdout",
     "output_type": "stream",
     "text": [
      "single positional indexer is out-of-bounds\n",
      "single positional indexer is out-of-bounds\n",
      "single positional indexer is out-of-bounds\n"
     ]
    },
    {
     "name": "stderr",
     "output_type": "stream",
     "text": [
      "100%|█████████████████████████████████████████████████████████████████████████████████████████████████████████████████████████████████████████████████████████████████████████████████| 24/24 [00:00<00:00, 58.10it/s]"
     ]
    },
    {
     "name": "stdout",
     "output_type": "stream",
     "text": [
      "single positional indexer is out-of-bounds\n"
     ]
    },
    {
     "name": "stderr",
     "output_type": "stream",
     "text": [
      "\n"
     ]
    }
   ],
   "source": [
    "report = []\n",
    "for iteration in tqdm(range(len(parameters))):\n",
    "    try:\n",
    "        parameter = parameters[iteration]\n",
    "        iteration_trades = analysis[analysis[\"iteration\"]==iteration]\n",
    "        iteration_trades = iteration_trades[(iteration_trades[\"date\"]>=start_date) & (iteration_trades[\"date\"]<=end_date)]\n",
    "        cumulative = iteration_trades.pivot_table(values=\"return\",index=\"date\",columns=\"position\").reset_index()\n",
    "        for i in range(positions):\n",
    "            if float(i) not in cumulative.columns:\n",
    "                cumulative[float(i)] = 1\n",
    "        cumulative[\"pv\"] = [sum([row[1][float(x)] * float(1/positions) for x in range(positions)]) for row in cumulative.iterrows()]\n",
    "        iter_report = cumulative.cumprod().iloc[-1]\n",
    "        for key in parameter.keys():\n",
    "            iter_report[key] = parameter[key]\n",
    "        iter_report[\"iteration\"] = iteration\n",
    "        report.append(iter_report[[\"pv\",\"iteration\"] + list(parameter.keys())])\n",
    "    except Exception as e:\n",
    "        print(str(e))\n",
    "        continue"
   ]
  },
  {
   "cell_type": "code",
   "execution_count": 11,
   "id": "5d304c2e",
   "metadata": {},
   "outputs": [
    {
     "data": {
      "text/html": [
       "<div>\n",
       "<style scoped>\n",
       "    .dataframe tbody tr th:only-of-type {\n",
       "        vertical-align: middle;\n",
       "    }\n",
       "\n",
       "    .dataframe tbody tr th {\n",
       "        vertical-align: top;\n",
       "    }\n",
       "\n",
       "    .dataframe thead th {\n",
       "        text-align: right;\n",
       "    }\n",
       "</style>\n",
       "<table border=\"1\" class=\"dataframe\">\n",
       "  <thead>\n",
       "    <tr style=\"text-align: right;\">\n",
       "      <th></th>\n",
       "      <th>date</th>\n",
       "      <th>ticker</th>\n",
       "      <th>signal</th>\n",
       "      <th>return</th>\n",
       "      <th>position</th>\n",
       "      <th>iteration</th>\n",
       "      <th>strategy</th>\n",
       "      <th>value</th>\n",
       "      <th>lookback</th>\n",
       "      <th>volatility</th>\n",
       "    </tr>\n",
       "  </thead>\n",
       "  <tbody>\n",
       "    <tr>\n",
       "      <th>1503</th>\n",
       "      <td>2022-08-22 04:00:00</td>\n",
       "      <td>DUK</td>\n",
       "      <td>0.011513</td>\n",
       "      <td>0.990878</td>\n",
       "      <td>7.0</td>\n",
       "      <td>23</td>\n",
       "      <td>window</td>\n",
       "      <td>False</td>\n",
       "      <td>60</td>\n",
       "      <td>0.05</td>\n",
       "    </tr>\n",
       "    <tr>\n",
       "      <th>1504</th>\n",
       "      <td>2022-08-22 04:00:00</td>\n",
       "      <td>MET</td>\n",
       "      <td>0.059571</td>\n",
       "      <td>0.996398</td>\n",
       "      <td>8.0</td>\n",
       "      <td>23</td>\n",
       "      <td>window</td>\n",
       "      <td>False</td>\n",
       "      <td>60</td>\n",
       "      <td>0.05</td>\n",
       "    </tr>\n",
       "    <tr>\n",
       "      <th>1505</th>\n",
       "      <td>2022-08-22 04:00:00</td>\n",
       "      <td>AMT</td>\n",
       "      <td>0.063632</td>\n",
       "      <td>0.983225</td>\n",
       "      <td>9.0</td>\n",
       "      <td>23</td>\n",
       "      <td>window</td>\n",
       "      <td>False</td>\n",
       "      <td>60</td>\n",
       "      <td>0.05</td>\n",
       "    </tr>\n",
       "    <tr>\n",
       "      <th>1506</th>\n",
       "      <td>2022-08-22 04:00:00</td>\n",
       "      <td>MCD</td>\n",
       "      <td>0.087674</td>\n",
       "      <td>0.990825</td>\n",
       "      <td>10.0</td>\n",
       "      <td>23</td>\n",
       "      <td>window</td>\n",
       "      <td>False</td>\n",
       "      <td>60</td>\n",
       "      <td>0.05</td>\n",
       "    </tr>\n",
       "    <tr>\n",
       "      <th>1507</th>\n",
       "      <td>2022-08-22 04:00:00</td>\n",
       "      <td>UNH</td>\n",
       "      <td>0.095841</td>\n",
       "      <td>0.983895</td>\n",
       "      <td>0.0</td>\n",
       "      <td>23</td>\n",
       "      <td>window</td>\n",
       "      <td>False</td>\n",
       "      <td>60</td>\n",
       "      <td>0.05</td>\n",
       "    </tr>\n",
       "    <tr>\n",
       "      <th>...</th>\n",
       "      <td>...</td>\n",
       "      <td>...</td>\n",
       "      <td>...</td>\n",
       "      <td>...</td>\n",
       "      <td>...</td>\n",
       "      <td>...</td>\n",
       "      <td>...</td>\n",
       "      <td>...</td>\n",
       "      <td>...</td>\n",
       "      <td>...</td>\n",
       "    </tr>\n",
       "    <tr>\n",
       "      <th>3487</th>\n",
       "      <td>2023-08-21 04:00:00</td>\n",
       "      <td>GE</td>\n",
       "      <td>0.090885</td>\n",
       "      <td>1.006517</td>\n",
       "      <td>0.0</td>\n",
       "      <td>23</td>\n",
       "      <td>window</td>\n",
       "      <td>False</td>\n",
       "      <td>60</td>\n",
       "      <td>0.05</td>\n",
       "    </tr>\n",
       "    <tr>\n",
       "      <th>3488</th>\n",
       "      <td>2023-08-21 04:00:00</td>\n",
       "      <td>JNJ</td>\n",
       "      <td>0.090904</td>\n",
       "      <td>0.999821</td>\n",
       "      <td>1.0</td>\n",
       "      <td>23</td>\n",
       "      <td>window</td>\n",
       "      <td>False</td>\n",
       "      <td>60</td>\n",
       "      <td>0.05</td>\n",
       "    </tr>\n",
       "    <tr>\n",
       "      <th>3489</th>\n",
       "      <td>2023-08-21 04:00:00</td>\n",
       "      <td>COST</td>\n",
       "      <td>0.110232</td>\n",
       "      <td>0.991339</td>\n",
       "      <td>2.0</td>\n",
       "      <td>23</td>\n",
       "      <td>window</td>\n",
       "      <td>False</td>\n",
       "      <td>60</td>\n",
       "      <td>0.05</td>\n",
       "    </tr>\n",
       "    <tr>\n",
       "      <th>3490</th>\n",
       "      <td>2023-08-21 04:00:00</td>\n",
       "      <td>AMZN</td>\n",
       "      <td>0.136906</td>\n",
       "      <td>1.001708</td>\n",
       "      <td>3.0</td>\n",
       "      <td>23</td>\n",
       "      <td>window</td>\n",
       "      <td>False</td>\n",
       "      <td>60</td>\n",
       "      <td>0.05</td>\n",
       "    </tr>\n",
       "    <tr>\n",
       "      <th>3491</th>\n",
       "      <td>2023-08-21 04:00:00</td>\n",
       "      <td>ORCL</td>\n",
       "      <td>0.156792</td>\n",
       "      <td>1.005318</td>\n",
       "      <td>4.0</td>\n",
       "      <td>23</td>\n",
       "      <td>window</td>\n",
       "      <td>False</td>\n",
       "      <td>60</td>\n",
       "      <td>0.05</td>\n",
       "    </tr>\n",
       "  </tbody>\n",
       "</table>\n",
       "<p>1989 rows × 10 columns</p>\n",
       "</div>"
      ],
      "text/plain": [
       "                    date ticker    signal    return  position  iteration  \\\n",
       "1503 2022-08-22 04:00:00    DUK  0.011513  0.990878       7.0         23   \n",
       "1504 2022-08-22 04:00:00    MET  0.059571  0.996398       8.0         23   \n",
       "1505 2022-08-22 04:00:00    AMT  0.063632  0.983225       9.0         23   \n",
       "1506 2022-08-22 04:00:00    MCD  0.087674  0.990825      10.0         23   \n",
       "1507 2022-08-22 04:00:00    UNH  0.095841  0.983895       0.0         23   \n",
       "...                  ...    ...       ...       ...       ...        ...   \n",
       "3487 2023-08-21 04:00:00     GE  0.090885  1.006517       0.0         23   \n",
       "3488 2023-08-21 04:00:00    JNJ  0.090904  0.999821       1.0         23   \n",
       "3489 2023-08-21 04:00:00   COST  0.110232  0.991339       2.0         23   \n",
       "3490 2023-08-21 04:00:00   AMZN  0.136906  1.001708       3.0         23   \n",
       "3491 2023-08-21 04:00:00   ORCL  0.156792  1.005318       4.0         23   \n",
       "\n",
       "     strategy  value  lookback  volatility  \n",
       "1503   window  False        60        0.05  \n",
       "1504   window  False        60        0.05  \n",
       "1505   window  False        60        0.05  \n",
       "1506   window  False        60        0.05  \n",
       "1507   window  False        60        0.05  \n",
       "...       ...    ...       ...         ...  \n",
       "3487   window  False        60        0.05  \n",
       "3488   window  False        60        0.05  \n",
       "3489   window  False        60        0.05  \n",
       "3490   window  False        60        0.05  \n",
       "3491   window  False        60        0.05  \n",
       "\n",
       "[1989 rows x 10 columns]"
      ]
     },
     "execution_count": 11,
     "metadata": {},
     "output_type": "execute_result"
    }
   ],
   "source": [
    "iteration_trades"
   ]
  },
  {
   "cell_type": "code",
   "execution_count": 12,
   "id": "2f4515fa",
   "metadata": {},
   "outputs": [],
   "source": [
    "performance = pd.DataFrame(report)"
   ]
  },
  {
   "cell_type": "code",
   "execution_count": 13,
   "id": "397ee36f",
   "metadata": {},
   "outputs": [
    {
     "data": {
      "text/html": [
       "<div>\n",
       "<style scoped>\n",
       "    .dataframe tbody tr th:only-of-type {\n",
       "        vertical-align: middle;\n",
       "    }\n",
       "\n",
       "    .dataframe tbody tr th {\n",
       "        vertical-align: top;\n",
       "    }\n",
       "\n",
       "    .dataframe thead th {\n",
       "        text-align: right;\n",
       "    }\n",
       "</style>\n",
       "<table border=\"1\" class=\"dataframe\">\n",
       "  <thead>\n",
       "    <tr style=\"text-align: right;\">\n",
       "      <th>position</th>\n",
       "      <th>pv</th>\n",
       "      <th>iteration</th>\n",
       "      <th>strategy</th>\n",
       "      <th>value</th>\n",
       "      <th>lookback</th>\n",
       "      <th>volatility</th>\n",
       "    </tr>\n",
       "  </thead>\n",
       "  <tbody>\n",
       "    <tr>\n",
       "      <th>199</th>\n",
       "      <td>1.174798</td>\n",
       "      <td>21</td>\n",
       "      <td>window</td>\n",
       "      <td>False</td>\n",
       "      <td>20</td>\n",
       "      <td>0.05</td>\n",
       "    </tr>\n",
       "    <tr>\n",
       "      <th>199</th>\n",
       "      <td>1.088582</td>\n",
       "      <td>19</td>\n",
       "      <td>window</td>\n",
       "      <td>False</td>\n",
       "      <td>5</td>\n",
       "      <td>0.05</td>\n",
       "    </tr>\n",
       "    <tr>\n",
       "      <th>199</th>\n",
       "      <td>1.075864</td>\n",
       "      <td>7</td>\n",
       "      <td>rolling</td>\n",
       "      <td>False</td>\n",
       "      <td>5</td>\n",
       "      <td>0.05</td>\n",
       "    </tr>\n",
       "    <tr>\n",
       "      <th>199</th>\n",
       "      <td>1.070106</td>\n",
       "      <td>1</td>\n",
       "      <td>rolling</td>\n",
       "      <td>True</td>\n",
       "      <td>5</td>\n",
       "      <td>0.05</td>\n",
       "    </tr>\n",
       "    <tr>\n",
       "      <th>199</th>\n",
       "      <td>1.037222</td>\n",
       "      <td>9</td>\n",
       "      <td>rolling</td>\n",
       "      <td>False</td>\n",
       "      <td>20</td>\n",
       "      <td>0.05</td>\n",
       "    </tr>\n",
       "  </tbody>\n",
       "</table>\n",
       "</div>"
      ],
      "text/plain": [
       "position        pv  iteration strategy  value  lookback  volatility\n",
       "199       1.174798         21   window  False        20        0.05\n",
       "199       1.088582         19   window  False         5        0.05\n",
       "199       1.075864          7  rolling  False         5        0.05\n",
       "199       1.070106          1  rolling   True         5        0.05\n",
       "199       1.037222          9  rolling  False        20        0.05"
      ]
     },
     "execution_count": 13,
     "metadata": {},
     "output_type": "execute_result"
    }
   ],
   "source": [
    "performance.sort_values(\"pv\",ascending=False).head(5)"
   ]
  },
  {
   "cell_type": "code",
   "execution_count": 14,
   "id": "d818efa6",
   "metadata": {},
   "outputs": [],
   "source": [
    "iteration = performance.sort_values(\"pv\",ascending=False).iloc[0][\"iteration\"]\n",
    "parameter = parameters[iteration]\n",
    "iteration_trades = analysis[analysis[\"iteration\"]==iteration]\n",
    "iteration_trades = iteration_trades[(iteration_trades[\"date\"]>=start_date) & (iteration_trades[\"date\"]<=end_date)]\n",
    "cumulative = iteration_trades.pivot_table(values=\"return\",index=\"date\",columns=\"position\").reset_index()\n",
    "cumulative[\"pv\"] = [sum([row[1][float(x)] * float(1/positions) for x in range(positions)]) for row in cumulative.iterrows()]\n",
    "cumulative[\"pv\"] = cumulative[\"pv\"].cumprod()"
   ]
  },
  {
   "cell_type": "code",
   "execution_count": 15,
   "id": "c0bbfffb",
   "metadata": {},
   "outputs": [],
   "source": [
    "# cumulative"
   ]
  },
  {
   "cell_type": "code",
   "execution_count": 16,
   "id": "372599c4",
   "metadata": {},
   "outputs": [
    {
     "data": {
      "text/plain": [
       "[<matplotlib.lines.Line2D at 0x20e9de39f30>]"
      ]
     },
     "execution_count": 16,
     "metadata": {},
     "output_type": "execute_result"
    },
    {
     "data": {
      "image/png": "[encoded data removed]",
      "text/plain": [
       "<Figure size 432x288 with 1 Axes>"
      ]
     },
     "metadata": {
      "needs_background": "light"
     },
     "output_type": "display_data"
    }
   ],
   "source": [
    "plt.plot(cumulative[\"date\"],cumulative[\"pv\"])"
   ]
  },
  {
   "cell_type": "code",
   "execution_count": 17,
   "id": "a9cc1c42",
   "metadata": {},
   "outputs": [],
   "source": [
    "pd.DataFrame([parameter]).to_csv(\"parameter.csv\")"
   ]
  }
 ],
 "metadata": {
  "kernelspec": {
   "display_name": "Python 3 (ipykernel)",
   "language": "python",
   "name": "python3"
  },
  "language_info": {
   "codemirror_mode": {
    "name": "ipython",
    "version": 3
   },
   "file_extension": ".py",
   "mimetype": "text/x-python",
   "name": "python",
   "nbconvert_exporter": "python",
   "pygments_lexer": "ipython3",
   "version": "3.10.5"
  }
 },
 "nbformat": 4,
 "nbformat_minor": 5
}
