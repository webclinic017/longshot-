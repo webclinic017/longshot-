{
 "cells": [
  {
   "cell_type": "code",
   "execution_count": 1,
   "id": "75e39cfc",
   "metadata": {},
   "outputs": [],
   "source": [
    "import pandas as pd\n",
    "from datetime import datetime,timedelta\n",
    "from lite.parameters_lite import Parameters\n",
    "from lite.backtester_lite import Backtester\n",
    "from lite.transformer_lite import Transformer\n",
    "from processor.processor import Processor as p\n",
    "from alpaca_api.alpaca_api import AlpacaApi\n",
    "from tqdm import tqdm\n",
    "import matplotlib.pyplot as plt"
   ]
  },
  {
   "cell_type": "code",
   "execution_count": 2,
   "id": "646704bb",
   "metadata": {},
   "outputs": [],
   "source": [
    "alp = AlpacaApi()"
   ]
  },
  {
   "cell_type": "code",
   "execution_count": 3,
   "id": "35e88bda",
   "metadata": {},
   "outputs": [],
   "source": [
    "sp100 = pd.read_html(\"https://en.wikipedia.org/wiki/S%26P_100\",attrs={\"id\":\"constituents\"})[0]\n",
    "sp100.rename(columns={\"Symbol\":\"ticker\",\"Sector\":\"GICS Sector\"},inplace=True)"
   ]
  },
  {
   "cell_type": "code",
   "execution_count": 4,
   "id": "09347e51",
   "metadata": {},
   "outputs": [],
   "source": [
    "backtest_years = 1\n",
    "current = False\n",
    "extract_date = datetime.now() - timedelta(days=(backtest_years+1)*365.25)\n",
    "start_date = datetime.now() - timedelta(days=backtest_years*365.25)\n",
    "end_date = datetime.now()\n",
    "lookbacks = [5,20,60]\n",
    "tickers = sp100[\"ticker\"]\n",
    "positions = len(list(sp100[\"GICS Sector\"].unique()))"
   ]
  },
  {
   "cell_type": "code",
   "execution_count": 5,
   "id": "35d87312",
   "metadata": {},
   "outputs": [],
   "source": [
    "parameters = Parameters.parameters_lite(lookbacks)"
   ]
  },
  {
   "cell_type": "code",
   "execution_count": 6,
   "id": "aea4f139",
   "metadata": {},
   "outputs": [
    {
     "name": "stderr",
     "output_type": "stream",
     "text": [
      "100%|███████████████████████████████████████████████████████████████████████████████████████████████████████████████████████████████████████████████████████████████████████████████| 101/101 [00:11<00:00,  8.78it/s]\n"
     ]
    }
   ],
   "source": [
    "simulation = []\n",
    "for ticker in tqdm(tickers):\n",
    "    try:\n",
    "        ticker_data = alp.get_ticker_data(ticker,extract_date,end_date)\n",
    "        ticker_data = Transformer.transform(ticker_data,lookbacks,current)\n",
    "        simulation.append(ticker_data.dropna())\n",
    "    except Exception as e:\n",
    "        print(ticker,str(e))"
   ]
  },
  {
   "cell_type": "code",
   "execution_count": 7,
   "id": "aa217607",
   "metadata": {},
   "outputs": [],
   "source": [
    "final = pd.concat(simulation).merge(sp100[[\"ticker\",\"GICS Sector\"]],how=\"left\")"
   ]
  },
  {
   "cell_type": "code",
   "execution_count": 8,
   "id": "39ecec75",
   "metadata": {},
   "outputs": [
    {
     "name": "stderr",
     "output_type": "stream",
     "text": [
      "100%|█████████████████████████████████████████████████████████████████████████████████████████████████████████████████████████████████████████████████████████████████████████████████| 12/12 [00:00<00:00, 21.97it/s]\n"
     ]
    }
   ],
   "source": [
    "all_trades = []\n",
    "for iteration in tqdm(range(len(parameters))):\n",
    "    try:\n",
    "        parameter = parameters[iteration]\n",
    "        trades = Backtester.backtest(final.copy(),iteration,parameter,current)\n",
    "        all_trades.append(trades)\n",
    "    except Exception as e:\n",
    "        print(str(e))"
   ]
  },
  {
   "cell_type": "code",
   "execution_count": 9,
   "id": "bf2983bf",
   "metadata": {},
   "outputs": [],
   "source": [
    "analysis = pd.concat(all_trades)\n",
    "analysis[\"return\"] = analysis[\"return\"] + 1"
   ]
  },
  {
   "cell_type": "code",
   "execution_count": 10,
   "id": "3a6791ec",
   "metadata": {
    "scrolled": true
   },
   "outputs": [
    {
     "name": "stderr",
     "output_type": "stream",
     "text": [
      "100%|█████████████████████████████████████████████████████████████████████████████████████████████████████████████████████████████████████████████████████████████████████████████████| 12/12 [00:00<00:00, 51.71it/s]\n"
     ]
    }
   ],
   "source": [
    "report = []\n",
    "for iteration in tqdm(range(len(parameters))):\n",
    "    try:\n",
    "        parameter = parameters[iteration]\n",
    "        iteration_trades = analysis[analysis[\"iteration\"]==iteration]\n",
    "        iteration_trades = iteration_trades[(iteration_trades[\"date\"]>=start_date) & (iteration_trades[\"date\"]<=end_date)]\n",
    "        cumulative = iteration_trades.pivot_table(values=\"return\",index=\"date\",columns=\"position\").reset_index()\n",
    "        for i in range(positions):\n",
    "            if float(i) not in cumulative.columns:\n",
    "                cumulative[float(i)] = 1\n",
    "        cumulative[\"pv\"] = [sum([row[1][float(x)] * float(1/positions) for x in range(positions)]) for row in cumulative.iterrows()]\n",
    "        iter_report = cumulative.cumprod().iloc[-1]\n",
    "        for key in parameter.keys():\n",
    "            iter_report[key] = parameter[key]\n",
    "        iter_report[\"iteration\"] = iteration\n",
    "        report.append(iter_report[[\"pv\",\"iteration\"] + list(parameter.keys())])\n",
    "    except Exception as e:\n",
    "        print(str(e))\n",
    "        continue"
   ]
  },
  {
   "cell_type": "code",
   "execution_count": 11,
   "id": "5d304c2e",
   "metadata": {},
   "outputs": [
    {
     "data": {
      "text/html": [
       "<div>\n",
       "<style scoped>\n",
       "    .dataframe tbody tr th:only-of-type {\n",
       "        vertical-align: middle;\n",
       "    }\n",
       "\n",
       "    .dataframe tbody tr th {\n",
       "        vertical-align: top;\n",
       "    }\n",
       "\n",
       "    .dataframe thead th {\n",
       "        text-align: right;\n",
       "    }\n",
       "</style>\n",
       "<table border=\"1\" class=\"dataframe\">\n",
       "  <thead>\n",
       "    <tr style=\"text-align: right;\">\n",
       "      <th></th>\n",
       "      <th>date</th>\n",
       "      <th>ticker</th>\n",
       "      <th>signal</th>\n",
       "      <th>return</th>\n",
       "      <th>position</th>\n",
       "      <th>iteration</th>\n",
       "      <th>strategy</th>\n",
       "      <th>value</th>\n",
       "      <th>lookback</th>\n",
       "    </tr>\n",
       "  </thead>\n",
       "  <tbody>\n",
       "    <tr>\n",
       "      <th>1672</th>\n",
       "      <td>2022-08-22 04:00:00</td>\n",
       "      <td>LIN</td>\n",
       "      <td>-0.051434</td>\n",
       "      <td>0.994543</td>\n",
       "      <td>0</td>\n",
       "      <td>11</td>\n",
       "      <td>window</td>\n",
       "      <td>False</td>\n",
       "      <td>60</td>\n",
       "    </tr>\n",
       "    <tr>\n",
       "      <th>1673</th>\n",
       "      <td>2022-08-22 04:00:00</td>\n",
       "      <td>XOM</td>\n",
       "      <td>0.005931</td>\n",
       "      <td>1.042422</td>\n",
       "      <td>1</td>\n",
       "      <td>11</td>\n",
       "      <td>window</td>\n",
       "      <td>False</td>\n",
       "      <td>60</td>\n",
       "    </tr>\n",
       "    <tr>\n",
       "      <th>1674</th>\n",
       "      <td>2022-08-22 04:00:00</td>\n",
       "      <td>AMT</td>\n",
       "      <td>0.063632</td>\n",
       "      <td>0.983225</td>\n",
       "      <td>2</td>\n",
       "      <td>11</td>\n",
       "      <td>window</td>\n",
       "      <td>False</td>\n",
       "      <td>60</td>\n",
       "    </tr>\n",
       "    <tr>\n",
       "      <th>1675</th>\n",
       "      <td>2022-08-22 04:00:00</td>\n",
       "      <td>DHR</td>\n",
       "      <td>0.139129</td>\n",
       "      <td>0.993224</td>\n",
       "      <td>3</td>\n",
       "      <td>11</td>\n",
       "      <td>window</td>\n",
       "      <td>False</td>\n",
       "      <td>60</td>\n",
       "    </tr>\n",
       "    <tr>\n",
       "      <th>1676</th>\n",
       "      <td>2022-08-22 04:00:00</td>\n",
       "      <td>BLK</td>\n",
       "      <td>0.140023</td>\n",
       "      <td>1.002769</td>\n",
       "      <td>4</td>\n",
       "      <td>11</td>\n",
       "      <td>window</td>\n",
       "      <td>False</td>\n",
       "      <td>60</td>\n",
       "    </tr>\n",
       "    <tr>\n",
       "      <th>...</th>\n",
       "      <td>...</td>\n",
       "      <td>...</td>\n",
       "      <td>...</td>\n",
       "      <td>...</td>\n",
       "      <td>...</td>\n",
       "      <td>...</td>\n",
       "      <td>...</td>\n",
       "      <td>...</td>\n",
       "      <td>...</td>\n",
       "    </tr>\n",
       "    <tr>\n",
       "      <th>3867</th>\n",
       "      <td>2023-08-21 04:00:00</td>\n",
       "      <td>MET</td>\n",
       "      <td>0.174109</td>\n",
       "      <td>0.999193</td>\n",
       "      <td>6</td>\n",
       "      <td>11</td>\n",
       "      <td>window</td>\n",
       "      <td>False</td>\n",
       "      <td>60</td>\n",
       "    </tr>\n",
       "    <tr>\n",
       "      <th>3868</th>\n",
       "      <td>2023-08-21 04:00:00</td>\n",
       "      <td>CHTR</td>\n",
       "      <td>0.199848</td>\n",
       "      <td>0.998976</td>\n",
       "      <td>7</td>\n",
       "      <td>11</td>\n",
       "      <td>window</td>\n",
       "      <td>False</td>\n",
       "      <td>60</td>\n",
       "    </tr>\n",
       "    <tr>\n",
       "      <th>3869</th>\n",
       "      <td>2023-08-21 04:00:00</td>\n",
       "      <td>CAT</td>\n",
       "      <td>0.226954</td>\n",
       "      <td>0.995472</td>\n",
       "      <td>8</td>\n",
       "      <td>11</td>\n",
       "      <td>window</td>\n",
       "      <td>False</td>\n",
       "      <td>60</td>\n",
       "    </tr>\n",
       "    <tr>\n",
       "      <th>3870</th>\n",
       "      <td>2023-08-21 04:00:00</td>\n",
       "      <td>LLY</td>\n",
       "      <td>0.227129</td>\n",
       "      <td>1.003091</td>\n",
       "      <td>9</td>\n",
       "      <td>11</td>\n",
       "      <td>window</td>\n",
       "      <td>False</td>\n",
       "      <td>60</td>\n",
       "    </tr>\n",
       "    <tr>\n",
       "      <th>3871</th>\n",
       "      <td>2023-08-21 04:00:00</td>\n",
       "      <td>NVDA</td>\n",
       "      <td>0.291323</td>\n",
       "      <td>1.004748</td>\n",
       "      <td>10</td>\n",
       "      <td>11</td>\n",
       "      <td>window</td>\n",
       "      <td>False</td>\n",
       "      <td>60</td>\n",
       "    </tr>\n",
       "  </tbody>\n",
       "</table>\n",
       "<p>2200 rows × 9 columns</p>\n",
       "</div>"
      ],
      "text/plain": [
       "                    date ticker    signal    return  position  iteration  \\\n",
       "1672 2022-08-22 04:00:00    LIN -0.051434  0.994543         0         11   \n",
       "1673 2022-08-22 04:00:00    XOM  0.005931  1.042422         1         11   \n",
       "1674 2022-08-22 04:00:00    AMT  0.063632  0.983225         2         11   \n",
       "1675 2022-08-22 04:00:00    DHR  0.139129  0.993224         3         11   \n",
       "1676 2022-08-22 04:00:00    BLK  0.140023  1.002769         4         11   \n",
       "...                  ...    ...       ...       ...       ...        ...   \n",
       "3867 2023-08-21 04:00:00    MET  0.174109  0.999193         6         11   \n",
       "3868 2023-08-21 04:00:00   CHTR  0.199848  0.998976         7         11   \n",
       "3869 2023-08-21 04:00:00    CAT  0.226954  0.995472         8         11   \n",
       "3870 2023-08-21 04:00:00    LLY  0.227129  1.003091         9         11   \n",
       "3871 2023-08-21 04:00:00   NVDA  0.291323  1.004748        10         11   \n",
       "\n",
       "     strategy  value  lookback  \n",
       "1672   window  False        60  \n",
       "1673   window  False        60  \n",
       "1674   window  False        60  \n",
       "1675   window  False        60  \n",
       "1676   window  False        60  \n",
       "...       ...    ...       ...  \n",
       "3867   window  False        60  \n",
       "3868   window  False        60  \n",
       "3869   window  False        60  \n",
       "3870   window  False        60  \n",
       "3871   window  False        60  \n",
       "\n",
       "[2200 rows x 9 columns]"
      ]
     },
     "execution_count": 11,
     "metadata": {},
     "output_type": "execute_result"
    }
   ],
   "source": [
    "iteration_trades"
   ]
  },
  {
   "cell_type": "code",
   "execution_count": 12,
   "id": "2f4515fa",
   "metadata": {},
   "outputs": [],
   "source": [
    "performance = pd.DataFrame(report)"
   ]
  },
  {
   "cell_type": "code",
   "execution_count": 13,
   "id": "397ee36f",
   "metadata": {},
   "outputs": [
    {
     "data": {
      "text/html": [
       "<div>\n",
       "<style scoped>\n",
       "    .dataframe tbody tr th:only-of-type {\n",
       "        vertical-align: middle;\n",
       "    }\n",
       "\n",
       "    .dataframe tbody tr th {\n",
       "        vertical-align: top;\n",
       "    }\n",
       "\n",
       "    .dataframe thead th {\n",
       "        text-align: right;\n",
       "    }\n",
       "</style>\n",
       "<table border=\"1\" class=\"dataframe\">\n",
       "  <thead>\n",
       "    <tr style=\"text-align: right;\">\n",
       "      <th>position</th>\n",
       "      <th>pv</th>\n",
       "      <th>iteration</th>\n",
       "      <th>strategy</th>\n",
       "      <th>value</th>\n",
       "      <th>lookback</th>\n",
       "    </tr>\n",
       "  </thead>\n",
       "  <tbody>\n",
       "    <tr>\n",
       "      <th>199</th>\n",
       "      <td>1.349521</td>\n",
       "      <td>10</td>\n",
       "      <td>window</td>\n",
       "      <td>False</td>\n",
       "      <td>20</td>\n",
       "    </tr>\n",
       "    <tr>\n",
       "      <th>199</th>\n",
       "      <td>1.236761</td>\n",
       "      <td>5</td>\n",
       "      <td>rolling</td>\n",
       "      <td>False</td>\n",
       "      <td>60</td>\n",
       "    </tr>\n",
       "    <tr>\n",
       "      <th>199</th>\n",
       "      <td>1.215655</td>\n",
       "      <td>4</td>\n",
       "      <td>rolling</td>\n",
       "      <td>False</td>\n",
       "      <td>20</td>\n",
       "    </tr>\n",
       "    <tr>\n",
       "      <th>199</th>\n",
       "      <td>1.137740</td>\n",
       "      <td>11</td>\n",
       "      <td>window</td>\n",
       "      <td>False</td>\n",
       "      <td>60</td>\n",
       "    </tr>\n",
       "    <tr>\n",
       "      <th>199</th>\n",
       "      <td>1.133537</td>\n",
       "      <td>3</td>\n",
       "      <td>rolling</td>\n",
       "      <td>False</td>\n",
       "      <td>5</td>\n",
       "    </tr>\n",
       "  </tbody>\n",
       "</table>\n",
       "</div>"
      ],
      "text/plain": [
       "position        pv  iteration strategy  value  lookback\n",
       "199       1.349521         10   window  False        20\n",
       "199       1.236761          5  rolling  False        60\n",
       "199       1.215655          4  rolling  False        20\n",
       "199       1.137740         11   window  False        60\n",
       "199       1.133537          3  rolling  False         5"
      ]
     },
     "execution_count": 13,
     "metadata": {},
     "output_type": "execute_result"
    }
   ],
   "source": [
    "performance.sort_values(\"pv\",ascending=False).head(5)"
   ]
  },
  {
   "cell_type": "code",
   "execution_count": 14,
   "id": "d818efa6",
   "metadata": {},
   "outputs": [],
   "source": [
    "iteration = performance.sort_values(\"pv\",ascending=False).iloc[0][\"iteration\"]\n",
    "parameter = parameters[iteration]\n",
    "iteration_trades = analysis[analysis[\"iteration\"]==iteration]\n",
    "iteration_trades = iteration_trades[(iteration_trades[\"date\"]>=start_date) & (iteration_trades[\"date\"]<=end_date)]\n",
    "cumulative = iteration_trades.pivot_table(values=\"return\",index=\"date\",columns=\"position\").reset_index()\n",
    "cumulative[\"pv\"] = [sum([row[1][float(x)] * float(1/positions) for x in range(positions)]) for row in cumulative.iterrows()]\n",
    "cumulative[\"pv\"] = cumulative[\"pv\"].cumprod()"
   ]
  },
  {
   "cell_type": "code",
   "execution_count": 15,
   "id": "c0bbfffb",
   "metadata": {},
   "outputs": [],
   "source": [
    "# cumulative"
   ]
  },
  {
   "cell_type": "code",
   "execution_count": 16,
   "id": "372599c4",
   "metadata": {},
   "outputs": [
    {
     "data": {
      "text/plain": [
       "[<matplotlib.lines.Line2D at 0x1e421c7b6a0>]"
      ]
     },
     "execution_count": 16,
     "metadata": {},
     "output_type": "execute_result"
    },
    {
     "data": {
      "image/png": "[encoded data removed]",
      "text/plain": [
       "<Figure size 432x288 with 1 Axes>"
      ]
     },
     "metadata": {
      "needs_background": "light"
     },
     "output_type": "display_data"
    }
   ],
   "source": [
    "plt.plot(cumulative[\"date\"],cumulative[\"pv\"])"
   ]
  },
  {
   "cell_type": "code",
   "execution_count": 17,
   "id": "a9cc1c42",
   "metadata": {},
   "outputs": [],
   "source": [
    "pd.DataFrame([parameter]).to_csv(\"parameter.csv\")"
   ]
  }
 ],
 "metadata": {
  "kernelspec": {
   "display_name": "Python 3 (ipykernel)",
   "language": "python",
   "name": "python3"
  },
  "language_info": {
   "codemirror_mode": {
    "name": "ipython",
    "version": 3
   },
   "file_extension": ".py",
   "mimetype": "text/x-python",
   "name": "python",
   "nbconvert_exporter": "python",
   "pygments_lexer": "ipython3",
   "version": "3.10.5"
  }
 },
 "nbformat": 4,
 "nbformat_minor": 5
}
