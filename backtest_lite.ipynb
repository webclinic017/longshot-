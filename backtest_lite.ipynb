{
 "cells": [
  {
   "cell_type": "code",
   "execution_count": 1,
   "id": "75e39cfc",
   "metadata": {},
   "outputs": [],
   "source": [
    "import pandas as pd\n",
    "from database.market import Market\n",
    "from datetime import datetime,timedelta\n",
    "from parameters.parameters import Parameters\n",
    "from backtester.backtester_lite import BacktesterLite\n",
    "from processor.processor import Processor as p\n",
    "from tqdm import tqdm\n",
    "import matplotlib.pyplot as plt\n",
    "import json"
   ]
  },
  {
   "cell_type": "code",
   "execution_count": 2,
   "id": "646704bb",
   "metadata": {},
   "outputs": [],
   "source": [
    "market = Market()"
   ]
  },
  {
   "cell_type": "code",
   "execution_count": 3,
   "id": "35e88bda",
   "metadata": {},
   "outputs": [],
   "source": [
    "market.connect()\n",
    "sp500 = market.retrieve(\"sp500\").rename(columns={\"Symbol\":\"ticker\"})\n",
    "market.disconnect()"
   ]
  },
  {
   "cell_type": "code",
   "execution_count": 4,
   "id": "09347e51",
   "metadata": {},
   "outputs": [],
   "source": [
    "start_date = datetime(2000,1,1)\n",
    "end_date = datetime(2020,1,1)\n",
    "lookbacks = [5]\n",
    "holding_periods = [1]\n",
    "floors = [-10,0]\n",
    "ceilings = [1,10]\n",
    "local_min = [False]\n",
    "volatilities = [0.5,1]\n",
    "positions = 11\n",
    "tickers = sp500[\"ticker\"]\n",
    "asset = \"stocks\""
   ]
  },
  {
   "cell_type": "code",
   "execution_count": 5,
   "id": "35d87312",
   "metadata": {},
   "outputs": [],
   "source": [
    "parameters = Parameters.parameters_lite(lookbacks,holding_periods,ceilings,floors,volatilities,local_min)"
   ]
  },
  {
   "cell_type": "code",
   "execution_count": 6,
   "id": "ae56ed13",
   "metadata": {},
   "outputs": [
    {
     "data": {
      "text/plain": [
       "192"
      ]
     },
     "execution_count": 6,
     "metadata": {},
     "output_type": "execute_result"
    }
   ],
   "source": [
    "len(parameters)"
   ]
  },
  {
   "cell_type": "code",
   "execution_count": 7,
   "id": "aea4f139",
   "metadata": {},
   "outputs": [
    {
     "name": "stderr",
     "output_type": "stream",
     "text": [
      "100%|████████████████████████████████████████████████████████████████████████████████████████████████████████████████████████████████████████████████████████████████████████| 489/489 [00:42<00:00, 11.63it/s]\n"
     ]
    }
   ],
   "source": [
    "simulation = []\n",
    "market.connect()\n",
    "for ticker in tqdm(tickers):\n",
    "    try:\n",
    "        ticker_data = market.retrieve_ticker_prices(asset,ticker)\n",
    "        ticker_data = p.column_date_processing(ticker_data)\n",
    "        ticker_data.sort_values(\"date\",inplace=True)\n",
    "        ticker_data[\"week\"] = [x.week for x in ticker_data[\"date\"]]\n",
    "        ticker_data[\"day\"] = [x.weekday() for x in ticker_data[\"date\"]]\n",
    "        ticker_data[\"prev_close\"] = ticker_data[\"adjclose\"].shift(1)\n",
    "        for lookback in lookbacks:\n",
    "            ticker_data[f\"window_{lookback}\"] = ticker_data[\"prev_close\"].shift(lookback)\n",
    "            ticker_data[f\"rolling_{lookback}\"] = ticker_data[\"prev_close\"].rolling(lookback).mean()\n",
    "            ticker_data[\"d1\"] = ticker_data[f\"adjclose\"].pct_change()\n",
    "            ticker_data[f\"rolling_stdev_{lookback}\"] = ticker_data[\"prev_close\"].rolling(lookback).std()\n",
    "            ticker_data[f\"rolling_pct_stdev_{lookback}\"] = ticker_data[f\"rolling_stdev_{lookback}\"] / ticker_data[f\"rolling_{lookback}\"]\n",
    "        for holding_period in holding_periods:\n",
    "            ticker_data[f\"return_{holding_period}\"] = (ticker_data[\"adjclose\"].shift(-holding_period) - ticker_data[\"adjclose\"]) / ticker_data[\"adjclose\"]\n",
    "        simulation.append(ticker_data.dropna())\n",
    "    except Exception as e:\n",
    "        print(ticker,str(e))\n",
    "market.disconnect()\n",
    "final = pd.concat(simulation)"
   ]
  },
  {
   "cell_type": "code",
   "execution_count": 8,
   "id": "aa217607",
   "metadata": {},
   "outputs": [],
   "source": [
    "final = pd.concat(simulation).merge(sp500[[\"ticker\",\"GICS Sector\"]],how=\"left\")"
   ]
  },
  {
   "cell_type": "code",
   "execution_count": 9,
   "id": "39ecec75",
   "metadata": {},
   "outputs": [
    {
     "name": "stderr",
     "output_type": "stream",
     "text": [
      "100%|████████████████████████████████████████████████████████████████████████████████████████████████████████████████████████████████████████████████████████████████████████| 192/192 [13:44<00:00,  4.30s/it]\n"
     ]
    }
   ],
   "source": [
    "all_trades = []\n",
    "for iteration in tqdm(range(len(parameters))):\n",
    "    try:\n",
    "        parameter = parameters[iteration]\n",
    "        trades = BacktesterLite.backtest(positions,final.copy(),iteration,parameter,False)\n",
    "        all_trades.append(trades)\n",
    "    except Exception as e:\n",
    "        print(str(e))"
   ]
  },
  {
   "cell_type": "code",
   "execution_count": 10,
   "id": "bf2983bf",
   "metadata": {},
   "outputs": [],
   "source": [
    "analysis = pd.concat(all_trades)\n",
    "analysis[\"return\"] = analysis[\"return\"] + 1"
   ]
  },
  {
   "cell_type": "code",
   "execution_count": null,
   "id": "3a6791ec",
   "metadata": {
    "scrolled": true
   },
   "outputs": [
    {
     "name": "stderr",
     "output_type": "stream",
     "text": [
      " 32%|█████████████████████████████████████████████████████▋                                                                                                                   | 61/192 [00:20<00:40,  3.22it/s]"
     ]
    }
   ],
   "source": [
    "report = []\n",
    "for iteration in tqdm(range(len(parameters))):\n",
    "    try:\n",
    "        parameter = parameters[iteration]\n",
    "        iteration_trades = analysis[analysis[\"iteration\"]==iteration]\n",
    "        iteration_trades = iteration_trades[(iteration_trades[\"date\"]>=start_date) & (iteration_trades[\"date\"]<=end_date)]\n",
    "        cumulative = iteration_trades.pivot_table(values=\"return\",index=\"date\",columns=\"position\").reset_index()\n",
    "        for i in range(positions):\n",
    "            if float(i) not in cumulative.columns:\n",
    "                cumulative[float(i)] = 1\n",
    "        cumulative[\"pv\"] = [sum([row[1][float(x)] * float(1/positions) for x in range(positions)]) for row in cumulative.iterrows()]\n",
    "        iter_report = cumulative.cumprod().iloc[-1]\n",
    "        for key in parameter.keys():\n",
    "            iter_report[key] = parameter[key]\n",
    "        iter_report[\"iteration\"] = iteration\n",
    "        report.append(iter_report[[\"pv\",\"iteration\"] + list(parameter.keys())])\n",
    "    except Exception as e:\n",
    "        print(str(e))\n",
    "        continue"
   ]
  },
  {
   "cell_type": "code",
   "execution_count": null,
   "id": "5d304c2e",
   "metadata": {},
   "outputs": [],
   "source": [
    "iteration_trades"
   ]
  },
  {
   "cell_type": "code",
   "execution_count": null,
   "id": "2f4515fa",
   "metadata": {},
   "outputs": [],
   "source": [
    "performance = pd.DataFrame(report)"
   ]
  },
  {
   "cell_type": "code",
   "execution_count": null,
   "id": "397ee36f",
   "metadata": {},
   "outputs": [],
   "source": [
    "performance.sort_values(\"pv\",ascending=False).head(20)"
   ]
  },
  {
   "cell_type": "code",
   "execution_count": null,
   "id": "d818efa6",
   "metadata": {},
   "outputs": [],
   "source": [
    "iteration = performance.sort_values(\"pv\",ascending=False).iloc[0][\"iteration\"]\n",
    "parameter = parameters[iteration]\n",
    "iteration_trades = analysis[analysis[\"iteration\"]==iteration]\n",
    "iteration_trades = iteration_trades[(iteration_trades[\"date\"]>=start_date) & (iteration_trades[\"date\"]<=end_date)]\n",
    "cumulative = iteration_trades.pivot_table(values=\"return\",index=\"date\",columns=\"position\").reset_index()\n",
    "cumulative[\"pv\"] = [sum([row[1][float(x)] * float(1/positions) for x in range(positions)]) for row in cumulative.iterrows()]\n",
    "cumulative[\"pv\"] = cumulative[\"pv\"].cumprod()"
   ]
  },
  {
   "cell_type": "code",
   "execution_count": null,
   "id": "c0bbfffb",
   "metadata": {},
   "outputs": [],
   "source": [
    "cumulative"
   ]
  },
  {
   "cell_type": "code",
   "execution_count": null,
   "id": "372599c4",
   "metadata": {},
   "outputs": [],
   "source": [
    "plt.plot(cumulative[\"date\"],cumulative[\"pv\"])"
   ]
  },
  {
   "cell_type": "code",
   "execution_count": null,
   "id": "a9cc1c42",
   "metadata": {},
   "outputs": [],
   "source": [
    "pd.DataFrame([parameter]).to_csv(\"parameter.csv\")"
   ]
  }
 ],
 "metadata": {
  "kernelspec": {
   "display_name": "Python 3 (ipykernel)",
   "language": "python",
   "name": "python3"
  },
  "language_info": {
   "codemirror_mode": {
    "name": "ipython",
    "version": 3
   },
   "file_extension": ".py",
   "mimetype": "text/x-python",
   "name": "python",
   "nbconvert_exporter": "python",
   "pygments_lexer": "ipython3",
   "version": "3.10.5"
  }
 },
 "nbformat": 4,
 "nbformat_minor": 5
}
