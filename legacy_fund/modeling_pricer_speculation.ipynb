{
 "cells": [
  {
   "cell_type": "code",
   "execution_count": 1,
   "id": "5a24d11e",
   "metadata": {},
   "outputs": [],
   "source": [
    "from pricer.pricer import Pricer\n",
    "from pricer.pricer_factory import PricerFactory\n",
    "from datetime import datetime"
   ]
  },
  {
   "cell_type": "code",
   "execution_count": 2,
   "id": "1c8899e3",
   "metadata": {},
   "outputs": [],
   "source": [
    "pricers = []\n",
    "pricers.append(Pricer.DAILY_STOCK_SPECULATION)\n",
    "pricers.append(Pricer.QUARTERLY_STOCK_SPECULATION)\n",
    "pricers.append(Pricer.MONTHLY_STOCK_SPECULATION)\n",
    "pricers.append(Pricer.WEEKLY_STOCK_SPECULATION)"
   ]
  },
  {
   "cell_type": "code",
   "execution_count": 3,
   "id": "a34bb894",
   "metadata": {},
   "outputs": [],
   "source": [
    "start_date = datetime(2001,1,1)\n",
    "end_date = datetime(2023,1,1)\n",
    "current_year = datetime.now().year"
   ]
  },
  {
   "cell_type": "code",
   "execution_count": null,
   "id": "15454e26",
   "metadata": {},
   "outputs": [
    {
     "name": "stderr",
     "output_type": "stream",
     "text": [
      "100%|███████████████████████████████████████████████████████████████████████████████████████████████████████████████████████████████████████████████████████████████████| 490/490 [00:36<00:00, 13.46it/s]\n"
     ]
    },
    {
     "name": "stdout",
     "output_type": "stream",
     "text": [
      "Cannot have number of splits n_splits=5 greater than the number of samples: n_samples=0.\n",
      "Cannot have number of splits n_splits=5 greater than the number of samples: n_samples=0.\n",
      "'str' object has no attribute 'predict'\n",
      "'str' object has no attribute 'predict'\n",
      "2001 'cat_prediction'\n",
      "Cannot have number of splits n_splits=5 greater than the number of samples: n_samples=0.\n",
      "Cannot have number of splits n_splits=5 greater than the number of samples: n_samples=0.\n",
      "'str' object has no attribute 'predict'\n",
      "'str' object has no attribute 'predict'\n",
      "2002 'cat_prediction'\n",
      "Cannot have number of splits n_splits=5 greater than the number of samples: n_samples=0.\n",
      "Cannot have number of splits n_splits=5 greater than the number of samples: n_samples=0.\n",
      "'str' object has no attribute 'predict'\n",
      "'str' object has no attribute 'predict'\n",
      "2003 'cat_prediction'\n"
     ]
    },
    {
     "name": "stderr",
     "output_type": "stream",
     "text": [
      "100%|███████████████████████████████████████████████████████████████████████████████████████████████████████████████████████████████████████████████████████████████████| 490/490 [00:38<00:00, 12.85it/s]\n"
     ]
    },
    {
     "name": "stdout",
     "output_type": "stream",
     "text": [
      "Cannot have number of splits n_splits=5 greater than the number of samples: n_samples=0.\n",
      "Cannot have number of splits n_splits=5 greater than the number of samples: n_samples=0.\n",
      "'str' object has no attribute 'predict'\n",
      "'str' object has no attribute 'predict'\n",
      "2001 'cat_prediction'\n"
     ]
    },
    {
     "name": "stderr",
     "output_type": "stream",
     "text": [
      "100%|███████████████████████████████████████████████████████████████████████████████████████████████████████████████████████████████████████████████████████████████████| 490/490 [00:38<00:00, 12.81it/s]\n"
     ]
    },
    {
     "name": "stdout",
     "output_type": "stream",
     "text": [
      "weekly_stocks_speculation sim 'NoneType' object has no attribute 'to_dict'\n",
      "weekly_stocks_speculation sim 'NoneType' object has no attribute 'to_dict'\n",
      "weekly_stocks_speculation sim 'NoneType' object has no attribute 'to_dict'\n",
      "weekly_stocks_speculation sim 'NoneType' object has no attribute 'to_dict'\n",
      "weekly_stocks_speculation sim 'NoneType' object has no attribute 'to_dict'\n",
      "weekly_stocks_speculation sim 'NoneType' object has no attribute 'to_dict'\n",
      "weekly_stocks_speculation sim 'NoneType' object has no attribute 'to_dict'\n"
     ]
    }
   ],
   "source": [
    "## initializing pricer_class\n",
    "for pricer_enum in pricers[1:]:\n",
    "    try:\n",
    "        status = \"initialize\"\n",
    "        pricer_class = PricerFactory.build(pricer_enum)\n",
    "        pricer_class.initialize()\n",
    "        pricer_class.initialize_model_dates(start_date,end_date)\n",
    "        pricer_class.drop_models()\n",
    "        pricer_class.drop_sim()\n",
    "        pricer_class.training_set()\n",
    "        training_data = pricer_class.training_data\n",
    "        status = \"sim\"\n",
    "        test_sim = pricer_class.create_sim()\n",
    "        status = \"model\"\n",
    "        models = pricer_class.create_model()\n",
    "    except Exception as e:\n",
    "        print(status,str(e))"
   ]
  }
 ],
 "metadata": {
  "kernelspec": {
   "display_name": "Python 3 (ipykernel)",
   "language": "python",
   "name": "python3"
  },
  "language_info": {
   "codemirror_mode": {
    "name": "ipython",
    "version": 3
   },
   "file_extension": ".py",
   "mimetype": "text/x-python",
   "name": "python",
   "nbconvert_exporter": "python",
   "pygments_lexer": "ipython3",
   "version": "3.10.5"
  }
 },
 "nbformat": 4,
 "nbformat_minor": 5
}
