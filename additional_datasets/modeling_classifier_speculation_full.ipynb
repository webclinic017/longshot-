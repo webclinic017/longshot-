{
 "cells": [
  {
   "cell_type": "code",
   "execution_count": null,
   "id": "5a24d11e",
   "metadata": {},
   "outputs": [],
   "source": [
    "import pandas as pd\n",
    "from classifier.classifier import Classifier\n",
    "from classifier.classifier_factory import ClassifierFactory\n",
    "from database.market import Market\n",
    "from database.sec import SEC\n",
    "from database.adatabase import ADatabase\n",
    "from processor.processor import Processor as p\n",
    "from datetime import datetime, timedelta\n",
    "from tqdm import tqdm\n",
    "import numpy as np\n",
    "from modeler_strats.universal_modeler import UniversalModeler\n",
    "import pickle"
   ]
  },
  {
   "cell_type": "code",
   "execution_count": null,
   "id": "cf2fb683",
   "metadata": {},
   "outputs": [],
   "source": [
    "## initializing classifier_class\n",
    "classifier_class = ClassifierFactory.build(Classifier.WEEKLY_STOCK_SPECULATION_CLASSIFIER)"
   ]
  },
  {
   "cell_type": "code",
   "execution_count": null,
   "id": "c3c0e3ed",
   "metadata": {},
   "outputs": [],
   "source": [
    "backtest_start_date = datetime(2016,1,1)\n",
    "backtest_end_date = datetime(2023,1,1)\n",
    "current_year = datetime.now().year"
   ]
  },
  {
   "cell_type": "code",
   "execution_count": null,
   "id": "1f7fc22a",
   "metadata": {},
   "outputs": [],
   "source": [
    "## creating database objects\n",
    "market = Market()\n",
    "modeler_strat = UniversalModeler()"
   ]
  },
  {
   "cell_type": "code",
   "execution_count": null,
   "id": "b0c57b4d",
   "metadata": {},
   "outputs": [],
   "source": [
    "market.connect()\n",
    "sp500 = market.retrieve(\"sp500\")\n",
    "market.disconnect()\n",
    "sp500 = sp500.rename(columns={\"Symbol\":\"ticker\"})"
   ]
  },
  {
   "cell_type": "code",
   "execution_count": null,
   "id": "c551e792",
   "metadata": {
    "scrolled": true
   },
   "outputs": [],
   "source": [
    "market.connect()\n",
    "training_sets = []\n",
    "for ticker in tqdm(sp500[\"ticker\"].unique()):\n",
    "    try:\n",
    "        prices = market.retrieve_ticker_prices(classifier_class.asset_class.value,ticker)\n",
    "        prices = p.column_date_processing(prices)\n",
    "        ticker_data = classifier_class.training_set(ticker,prices,False)\n",
    "        training_sets.append(ticker_data)\n",
    "    except Exception as e:\n",
    "        print(str(e))\n",
    "        continue\n",
    "market.disconnect()\n",
    "data = pd.concat(training_sets)\n",
    "training_data = data.dropna().copy().sort_values([\"year\",\"week\"])"
   ]
  },
  {
   "cell_type": "code",
   "execution_count": null,
   "id": "23ad6193",
   "metadata": {
    "scrolled": true
   },
   "outputs": [],
   "source": [
    "# classifier_class.db.connect()\n",
    "# model_start_date = backtest_start_date - timedelta(classifier_class.time_horizon_class.model_date_offset)\n",
    "# model_end_date = backtest_end_date - timedelta(classifier_class.time_horizon_class.model_date_offset)\n",
    "# for year in range(model_start_date.year,model_end_date.year):\n",
    "#     training_slice = training_data[(training_data[\"year\"]<year) & (training_data[\"year\"] >= year - 4)].reset_index(drop=True)\n",
    "#     prediction_set = training_data[training_data[\"year\"]==year].reset_index(drop=True)\n",
    "#     stuff = modeler_strat.classification_model(training_slice,prediction_set,classifier_class.factors,False)\n",
    "#     stuff = stuff.rename(columns={\"prediction\":f\"classification_prediction\"})\n",
    "#     relevant_columns = list(set(list(stuff.columns)) - set(classifier_class.factors))\n",
    "#     stuff = classifier_class.sim_processor(stuff)\n",
    "#     classifier_class.db.store(\"sim\",stuff[relevant_columns])\n",
    "# classifier_class.db.disconnect()"
   ]
  },
  {
   "cell_type": "code",
   "execution_count": null,
   "id": "2f7e0cf6",
   "metadata": {},
   "outputs": [],
   "source": [
    "# classifier_class.db.connect()\n",
    "# training_slice = training_data[(training_data[\"year\"]<current_year) & (training_data[\"year\"] >= current_year - 4)].reset_index(drop=True)\n",
    "# stuff = modeler_strat.recommend_classification_model(training_slice,classifier_class.factors,False)\n",
    "# stuff[\"model\"] = [pickle.dumps(x) for x in stuff[\"model\"]]\n",
    "# stuff[\"year\"] = current_year\n",
    "# classifier_class.db.store(\"models\",stuff)\n",
    "# classifier_class.db.disconnect()"
   ]
  },
  {
   "cell_type": "code",
   "execution_count": null,
   "id": "a7b05bcd",
   "metadata": {},
   "outputs": [],
   "source": [
    "market.connect()\n",
    "training_sets = []\n",
    "for ticker in tqdm(sp500[\"ticker\"].unique()):\n",
    "    try:\n",
    "        prices = market.retrieve_ticker_prices(classifier_class.asset_class.value,ticker)\n",
    "        prices = p.column_date_processing(prices)\n",
    "        ticker_data = classifier_class.training_set(ticker,prices,True)\n",
    "        training_sets.append(ticker_data)\n",
    "    except Exception as e:\n",
    "        print(str(e))\n",
    "        continue\n",
    "market.disconnect()\n",
    "data = pd.concat(training_sets)\n",
    "training_data = data.dropna().copy().sort_values([\"year\",\"week\"])"
   ]
  },
  {
   "cell_type": "code",
   "execution_count": null,
   "id": "9c781548",
   "metadata": {},
   "outputs": [],
   "source": [
    "training_data"
   ]
  },
  {
   "cell_type": "code",
   "execution_count": null,
   "id": "2c9244ee",
   "metadata": {},
   "outputs": [],
   "source": [
    "classifier_class.db.connect()\n",
    "classifier_class.db.drop(\"predictions\")\n",
    "prediction_set = training_data[training_data[\"year\"]==current_year].reset_index(drop=True)\n",
    "models = classifier_class.db.retrieve(\"models\")\n",
    "stuff = modeler_strat.recommend_classification(models,prediction_set,classifier_class.factors)\n",
    "stuff = stuff.rename(columns={\"prediction\":f\"classification_prediction\"})\n",
    "relevant_columns = list(set(list(stuff.columns)) - set(classifier_class.factors))\n",
    "stuff = classifier_class.sim_processor(stuff)\n",
    "classifier_class.db.store(\"predictions\",stuff[relevant_columns])\n",
    "classifier_class.db.disconnect()"
   ]
  },
  {
   "cell_type": "code",
   "execution_count": null,
   "id": "c330fb02",
   "metadata": {},
   "outputs": [],
   "source": [
    "stuff"
   ]
  }
 ],
 "metadata": {
  "kernelspec": {
   "display_name": "Python 3 (ipykernel)",
   "language": "python",
   "name": "python3"
  },
  "language_info": {
   "codemirror_mode": {
    "name": "ipython",
    "version": 3
   },
   "file_extension": ".py",
   "mimetype": "text/x-python",
   "name": "python",
   "nbconvert_exporter": "python",
   "pygments_lexer": "ipython3",
   "version": "3.10.5"
  }
 },
 "nbformat": 4,
 "nbformat_minor": 5
}
