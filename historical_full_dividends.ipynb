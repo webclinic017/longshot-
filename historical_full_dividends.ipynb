{
 "cells": [
  {
   "cell_type": "code",
   "execution_count": 5,
   "id": "5a24d11e",
   "metadata": {},
   "outputs": [],
   "source": [
    "import pandas as pd\n",
    "from database.market import Market\n",
    "from database.sec import SEC\n",
    "from database.adatabase import ADatabase\n",
    "from processor.processor import Processor as p\n",
    "from datetime import datetime\n",
    "from tqdm import tqdm\n",
    "import numpy as np\n",
    "from modeler_strats.universal_modeler import UniversalModeler"
   ]
  },
  {
   "cell_type": "code",
   "execution_count": 6,
   "id": "1f7fc22a",
   "metadata": {},
   "outputs": [],
   "source": [
    "market = Market()\n",
    "sec = SEC()\n",
    "fin = ADatabase(\"dividends\")\n",
    "umod = UniversalModeler()"
   ]
  },
  {
   "cell_type": "code",
   "execution_count": 7,
   "id": "b0c57b4d",
   "metadata": {},
   "outputs": [],
   "source": [
    "market.connect()\n",
    "sp500 = market.retrieve(\"sp500\")\n",
    "market.disconnect()\n",
    "sp500 = sp500.rename(columns={\"Symbol\":\"ticker\"})"
   ]
  },
  {
   "cell_type": "code",
   "execution_count": 16,
   "id": "983a4ac6",
   "metadata": {},
   "outputs": [],
   "source": [
    "factors = ['assets',\n",
    " 'liabilitiesandstockholdersequity',\n",
    " 'incometaxexpensebenefit',\n",
    " 'retainedearningsaccumulateddeficit',\n",
    " 'accumulatedothercomprehensiveincomelossnetoftax',\n",
    " 'earningspersharebasic',\n",
    " 'earningspersharediluted',\n",
    " 'propertyplantandequipmentnet',\n",
    " 'cashandcashequivalentsatcarryingvalue',\n",
    " 'entitycommonstocksharesoutstanding',\n",
    " 'weightedaveragenumberofdilutedsharesoutstanding',\n",
    " 'weightedaveragenumberofsharesoutstandingbasic',\n",
    " 'stockholdersequity',\n",
    "\"commonstockdividendspersharecashpaid\"]"
   ]
  },
  {
   "cell_type": "code",
   "execution_count": 9,
   "id": "06e0c3f1",
   "metadata": {},
   "outputs": [],
   "source": [
    "included_columns=[\n",
    "    \"year\",\n",
    "    \"quarter\",\n",
    "    \"ticker\",\n",
    "    \"adjclose\",\n",
    "    \"y\"\n",
    "]"
   ]
  },
  {
   "cell_type": "code",
   "execution_count": 10,
   "id": "c552e7c0",
   "metadata": {},
   "outputs": [],
   "source": [
    "included_columns.extend(factors)"
   ]
  },
  {
   "cell_type": "code",
   "execution_count": 17,
   "id": "c551e792",
   "metadata": {
    "scrolled": true
   },
   "outputs": [
    {
     "name": "stderr",
     "output_type": "stream",
     "text": [
      "  1%|█                                                                                                                                                                          | 3/490 [00:00<02:24,  3.36it/s]"
     ]
    },
    {
     "name": "stdout",
     "output_type": "stream",
     "text": [
      "'commonstockdividendspersharecashpaid'\n"
     ]
    },
    {
     "name": "stderr",
     "output_type": "stream",
     "text": [
      "  1%|█▋                                                                                                                                                                         | 5/490 [00:01<02:02,  3.97it/s]"
     ]
    },
    {
     "name": "stdout",
     "output_type": "stream",
     "text": [
      "'commonstockdividendspersharecashpaid'\n"
     ]
    },
    {
     "name": "stderr",
     "output_type": "stream",
     "text": [
      "\r",
      "  1%|██                                                                                                                                                                         | 6/490 [00:01<02:00,  4.01it/s]"
     ]
    },
    {
     "name": "stdout",
     "output_type": "stream",
     "text": [
      "\"['entitycommonstocksharesoutstanding'] not in index\"\n"
     ]
    },
    {
     "name": "stderr",
     "output_type": "stream",
     "text": [
      "\r",
      "  1%|██▍                                                                                                                                                                        | 7/490 [00:01<02:06,  3.83it/s]"
     ]
    },
    {
     "name": "stdout",
     "output_type": "stream",
     "text": [
      "'commonstockdividendspersharecashpaid'\n"
     ]
    },
    {
     "name": "stderr",
     "output_type": "stream",
     "text": [
      "\r",
      "  2%|██▊                                                                                                                                                                        | 8/490 [00:02<02:24,  3.34it/s]"
     ]
    },
    {
     "name": "stdout",
     "output_type": "stream",
     "text": [
      "\"['stockholdersequity'] not in index\"\n"
     ]
    },
    {
     "name": "stderr",
     "output_type": "stream",
     "text": [
      "\r",
      "  2%|███▏                                                                                                                                                                       | 9/490 [00:02<02:23,  3.35it/s]"
     ]
    },
    {
     "name": "stdout",
     "output_type": "stream",
     "text": [
      "'commonstockdividendspersharecashpaid'\n"
     ]
    },
    {
     "name": "stderr",
     "output_type": "stream",
     "text": [
      "\r",
      "  2%|███▍                                                                                                                                                                      | 10/490 [00:02<02:34,  3.10it/s]"
     ]
    },
    {
     "name": "stdout",
     "output_type": "stream",
     "text": [
      "'commonstockdividendspersharecashpaid'\n"
     ]
    },
    {
     "name": "stderr",
     "output_type": "stream",
     "text": [
      "\r",
      "  2%|███▊                                                                                                                                                                      | 11/490 [00:03<02:26,  3.27it/s]"
     ]
    },
    {
     "name": "stdout",
     "output_type": "stream",
     "text": [
      "'commonstockdividendspersharecashpaid'\n"
     ]
    },
    {
     "name": "stderr",
     "output_type": "stream",
     "text": [
      "  3%|█████▏                                                                                                                                                                    | 15/490 [00:05<03:08,  2.52it/s]"
     ]
    },
    {
     "name": "stdout",
     "output_type": "stream",
     "text": [
      "'commonstockdividendspersharecashpaid'\n"
     ]
    },
    {
     "name": "stderr",
     "output_type": "stream",
     "text": [
      "\r",
      "  3%|█████▌                                                                                                                                                                    | 16/490 [00:05<02:50,  2.79it/s]"
     ]
    },
    {
     "name": "stdout",
     "output_type": "stream",
     "text": [
      "'commonstockdividendspersharecashpaid'\n"
     ]
    },
    {
     "name": "stderr",
     "output_type": "stream",
     "text": [
      "  4%|██████▏                                                                                                                                                                   | 18/490 [00:05<02:43,  2.88it/s]"
     ]
    },
    {
     "name": "stdout",
     "output_type": "stream",
     "text": [
      "'commonstockdividendspersharecashpaid'\n"
     ]
    },
    {
     "name": "stderr",
     "output_type": "stream",
     "text": [
      "\r",
      "  4%|██████▌                                                                                                                                                                   | 19/490 [00:06<02:45,  2.85it/s]"
     ]
    },
    {
     "name": "stdout",
     "output_type": "stream",
     "text": [
      "'commonstockdividendspersharecashpaid'\n"
     ]
    },
    {
     "name": "stderr",
     "output_type": "stream",
     "text": [
      "  4%|███████▎                                                                                                                                                                  | 21/490 [00:06<02:23,  3.26it/s]"
     ]
    },
    {
     "name": "stdout",
     "output_type": "stream",
     "text": [
      "'commonstockdividendspersharecashpaid'\n"
     ]
    },
    {
     "name": "stderr",
     "output_type": "stream",
     "text": [
      "  5%|███████▉                                                                                                                                                                  | 23/490 [00:07<02:45,  2.82it/s]"
     ]
    },
    {
     "name": "stdout",
     "output_type": "stream",
     "text": [
      "\"['cashandcashequivalentsatcarryingvalue'] not in index\"\n"
     ]
    },
    {
     "name": "stderr",
     "output_type": "stream",
     "text": [
      "\r",
      "  5%|████████▎                                                                                                                                                                 | 24/490 [00:07<02:34,  3.02it/s]"
     ]
    },
    {
     "name": "stdout",
     "output_type": "stream",
     "text": [
      "'commonstockdividendspersharecashpaid'\n"
     ]
    },
    {
     "name": "stderr",
     "output_type": "stream",
     "text": [
      "  5%|█████████                                                                                                                                                                 | 26/490 [00:08<02:38,  2.92it/s]"
     ]
    },
    {
     "name": "stdout",
     "output_type": "stream",
     "text": [
      "'commonstockdividendspersharecashpaid'\n"
     ]
    },
    {
     "name": "stderr",
     "output_type": "stream",
     "text": [
      "\r",
      "  6%|█████████▎                                                                                                                                                                | 27/490 [00:08<02:19,  3.32it/s]"
     ]
    },
    {
     "name": "stdout",
     "output_type": "stream",
     "text": [
      "'commonstockdividendspersharecashpaid'\n"
     ]
    },
    {
     "name": "stderr",
     "output_type": "stream",
     "text": [
      "\r",
      "  6%|█████████▋                                                                                                                                                                | 28/490 [00:09<02:31,  3.06it/s]"
     ]
    },
    {
     "name": "stdout",
     "output_type": "stream",
     "text": [
      "'commonstockdividendspersharecashpaid'\n"
     ]
    },
    {
     "name": "stderr",
     "output_type": "stream",
     "text": [
      "  6%|██████████▊                                                                                                                                                               | 31/490 [00:10<03:15,  2.35it/s]"
     ]
    },
    {
     "name": "stdout",
     "output_type": "stream",
     "text": [
      "'commonstockdividendspersharecashpaid'\n"
     ]
    },
    {
     "name": "stderr",
     "output_type": "stream",
     "text": [
      "\r",
      "  7%|███████████                                                                                                                                                               | 32/490 [00:11<03:17,  2.32it/s]"
     ]
    },
    {
     "name": "stdout",
     "output_type": "stream",
     "text": [
      "'commonstockdividendspersharecashpaid'\n"
     ]
    },
    {
     "name": "stderr",
     "output_type": "stream",
     "text": [
      "\r",
      "  7%|███████████▍                                                                                                                                                              | 33/490 [00:11<04:01,  1.90it/s]"
     ]
    },
    {
     "name": "stdout",
     "output_type": "stream",
     "text": [
      "\"['cashandcashequivalentsatcarryingvalue'] not in index\"\n"
     ]
    },
    {
     "name": "stderr",
     "output_type": "stream",
     "text": [
      "  7%|████████████▍                                                                                                                                                             | 36/490 [00:13<03:30,  2.16it/s]"
     ]
    },
    {
     "name": "stdout",
     "output_type": "stream",
     "text": [
      "'commonstockdividendspersharecashpaid'\n"
     ]
    },
    {
     "name": "stderr",
     "output_type": "stream",
     "text": [
      "  9%|██████████████▌                                                                                                                                                           | 42/490 [00:14<02:18,  3.24it/s]"
     ]
    },
    {
     "name": "stdout",
     "output_type": "stream",
     "text": [
      "'commonstockdividendspersharecashpaid'\n"
     ]
    },
    {
     "name": "stderr",
     "output_type": "stream",
     "text": [
      "  9%|███████████████▉                                                                                                                                                          | 46/490 [00:16<02:35,  2.86it/s]"
     ]
    },
    {
     "name": "stdout",
     "output_type": "stream",
     "text": [
      "'commonstockdividendspersharecashpaid'\n"
     ]
    },
    {
     "name": "stderr",
     "output_type": "stream",
     "text": [
      " 10%|████████████████▋                                                                                                                                                         | 48/490 [00:16<02:15,  3.26it/s]"
     ]
    },
    {
     "name": "stdout",
     "output_type": "stream",
     "text": [
      "'commonstockdividendspersharecashpaid'\n"
     ]
    },
    {
     "name": "stderr",
     "output_type": "stream",
     "text": [
      "\r",
      " 10%|█████████████████                                                                                                                                                         | 49/490 [00:17<02:19,  3.17it/s]"
     ]
    },
    {
     "name": "stdout",
     "output_type": "stream",
     "text": [
      "'commonstockdividendspersharecashpaid'\n"
     ]
    },
    {
     "name": "stderr",
     "output_type": "stream",
     "text": [
      " 10%|█████████████████▋                                                                                                                                                        | 51/490 [00:18<02:45,  2.65it/s]"
     ]
    },
    {
     "name": "stdout",
     "output_type": "stream",
     "text": [
      "'commonstockdividendspersharecashpaid'\n"
     ]
    },
    {
     "name": "stderr",
     "output_type": "stream",
     "text": [
      " 11%|██████████████████▍                                                                                                                                                       | 53/490 [00:18<02:49,  2.58it/s]"
     ]
    },
    {
     "name": "stdout",
     "output_type": "stream",
     "text": [
      "'commonstockdividendspersharecashpaid'\n"
     ]
    },
    {
     "name": "stderr",
     "output_type": "stream",
     "text": [
      "\r",
      " 11%|██████████████████▋                                                                                                                                                       | 54/490 [00:19<02:34,  2.82it/s]"
     ]
    },
    {
     "name": "stdout",
     "output_type": "stream",
     "text": [
      "'commonstockdividendspersharecashpaid'\n"
     ]
    },
    {
     "name": "stderr",
     "output_type": "stream",
     "text": [
      "\r",
      " 11%|███████████████████                                                                                                                                                       | 55/490 [00:19<02:24,  3.01it/s]"
     ]
    },
    {
     "name": "stdout",
     "output_type": "stream",
     "text": [
      "'commonstockdividendspersharecashpaid'\n"
     ]
    },
    {
     "name": "stderr",
     "output_type": "stream",
     "text": [
      " 12%|███████████████████▊                                                                                                                                                      | 57/490 [00:20<02:10,  3.31it/s]"
     ]
    },
    {
     "name": "stdout",
     "output_type": "stream",
     "text": [
      "'commonstockdividendspersharecashpaid'\n",
      "'commonstockdividendspersharecashpaid'\n"
     ]
    },
    {
     "name": "stderr",
     "output_type": "stream",
     "text": [
      " 13%|██████████████████████▏                                                                                                                                                   | 64/490 [00:23<02:36,  2.73it/s]"
     ]
    },
    {
     "name": "stdout",
     "output_type": "stream",
     "text": [
      "'commonstockdividendspersharecashpaid'\n"
     ]
    },
    {
     "name": "stderr",
     "output_type": "stream",
     "text": [
      "\r",
      " 13%|██████████████████████▌                                                                                                                                                   | 65/490 [00:23<02:26,  2.91it/s]"
     ]
    },
    {
     "name": "stdout",
     "output_type": "stream",
     "text": [
      "'commonstockdividendspersharecashpaid'\n"
     ]
    },
    {
     "name": "stderr",
     "output_type": "stream",
     "text": [
      " 14%|███████████████████████▏                                                                                                                                                  | 67/490 [00:23<02:16,  3.10it/s]"
     ]
    },
    {
     "name": "stdout",
     "output_type": "stream",
     "text": [
      "'commonstockdividendspersharecashpaid'\n"
     ]
    },
    {
     "name": "stderr",
     "output_type": "stream",
     "text": [
      " 14%|████████████████████████▋                                                                                                                                                 | 71/490 [00:25<02:47,  2.50it/s]"
     ]
    },
    {
     "name": "stdout",
     "output_type": "stream",
     "text": [
      "'commonstockdividendspersharecashpaid'\n"
     ]
    },
    {
     "name": "stderr",
     "output_type": "stream",
     "text": [
      "\r",
      " 15%|████████████████████████▉                                                                                                                                                 | 72/490 [00:26<02:56,  2.36it/s]"
     ]
    },
    {
     "name": "stdout",
     "output_type": "stream",
     "text": [
      "'commonstockdividendspersharecashpaid'\n"
     ]
    },
    {
     "name": "stderr",
     "output_type": "stream",
     "text": [
      "\r",
      " 15%|█████████████████████████▎                                                                                                                                                | 73/490 [00:26<02:50,  2.45it/s]"
     ]
    },
    {
     "name": "stdout",
     "output_type": "stream",
     "text": [
      "\"['incometaxexpensebenefit', 'propertyplantandequipmentnet'] not in index\"\n"
     ]
    },
    {
     "name": "stderr",
     "output_type": "stream",
     "text": [
      "\r",
      " 15%|█████████████████████████▋                                                                                                                                                | 74/490 [00:27<02:58,  2.33it/s]"
     ]
    },
    {
     "name": "stdout",
     "output_type": "stream",
     "text": [
      "'commonstockdividendspersharecashpaid'\n"
     ]
    },
    {
     "name": "stderr",
     "output_type": "stream",
     "text": [
      "\r",
      " 15%|██████████████████████████                                                                                                                                                | 75/490 [00:27<03:09,  2.19it/s]"
     ]
    },
    {
     "name": "stdout",
     "output_type": "stream",
     "text": [
      "'commonstockdividendspersharecashpaid'\n"
     ]
    },
    {
     "name": "stderr",
     "output_type": "stream",
     "text": [
      " 16%|██████████████████████████▋                                                                                                                                               | 77/490 [00:28<02:22,  2.90it/s]"
     ]
    },
    {
     "name": "stdout",
     "output_type": "stream",
     "text": [
      "'commonstockdividendspersharecashpaid'\n"
     ]
    },
    {
     "name": "stderr",
     "output_type": "stream",
     "text": [
      " 16%|███████████████████████████▍                                                                                                                                              | 79/490 [00:28<02:02,  3.36it/s]"
     ]
    },
    {
     "name": "stdout",
     "output_type": "stream",
     "text": [
      "'commonstockdividendspersharecashpaid'\n"
     ]
    },
    {
     "name": "stderr",
     "output_type": "stream",
     "text": [
      "\r",
      " 16%|███████████████████████████▊                                                                                                                                              | 80/490 [00:28<02:02,  3.34it/s]"
     ]
    },
    {
     "name": "stdout",
     "output_type": "stream",
     "text": [
      "'commonstockdividendspersharecashpaid'\n"
     ]
    },
    {
     "name": "stderr",
     "output_type": "stream",
     "text": [
      "\r",
      " 17%|████████████████████████████                                                                                                                                              | 81/490 [00:29<02:11,  3.12it/s]"
     ]
    },
    {
     "name": "stdout",
     "output_type": "stream",
     "text": [
      "'commonstockdividendspersharecashpaid'\n"
     ]
    },
    {
     "name": "stderr",
     "output_type": "stream",
     "text": [
      "\r",
      " 17%|████████████████████████████▍                                                                                                                                             | 82/490 [00:29<02:12,  3.09it/s]"
     ]
    },
    {
     "name": "stdout",
     "output_type": "stream",
     "text": [
      "'commonstockdividendspersharecashpaid'\n"
     ]
    },
    {
     "name": "stderr",
     "output_type": "stream",
     "text": [
      "\r",
      " 17%|████████████████████████████▊                                                                                                                                             | 83/490 [00:29<02:14,  3.04it/s]"
     ]
    },
    {
     "name": "stdout",
     "output_type": "stream",
     "text": [
      "'commonstockdividendspersharecashpaid'\n"
     ]
    },
    {
     "name": "stderr",
     "output_type": "stream",
     "text": [
      "\r",
      " 17%|█████████████████████████████▏                                                                                                                                            | 84/490 [00:30<03:30,  1.93it/s]"
     ]
    },
    {
     "name": "stdout",
     "output_type": "stream",
     "text": [
      "\"['cashandcashequivalentsatcarryingvalue'] not in index\"\n"
     ]
    },
    {
     "name": "stderr",
     "output_type": "stream",
     "text": [
      " 18%|█████████████████████████████▊                                                                                                                                            | 86/490 [00:31<02:38,  2.55it/s]"
     ]
    },
    {
     "name": "stdout",
     "output_type": "stream",
     "text": [
      "'commonstockdividendspersharecashpaid'\n"
     ]
    },
    {
     "name": "stderr",
     "output_type": "stream",
     "text": [
      " 18%|██████████████████████████████▌                                                                                                                                           | 88/490 [00:31<01:55,  3.47it/s]"
     ]
    },
    {
     "name": "stdout",
     "output_type": "stream",
     "text": [
      "'commonstockdividendspersharecashpaid'\n",
      "'commonstockdividendspersharecashpaid'\n"
     ]
    },
    {
     "name": "stderr",
     "output_type": "stream",
     "text": [
      "\r",
      " 18%|██████████████████████████████▉                                                                                                                                           | 89/490 [00:32<01:50,  3.64it/s]"
     ]
    },
    {
     "name": "stdout",
     "output_type": "stream",
     "text": [
      "'commonstockdividendspersharecashpaid'\n"
     ]
    },
    {
     "name": "stderr",
     "output_type": "stream",
     "text": [
      "\r",
      " 18%|███████████████████████████████▏                                                                                                                                          | 90/490 [00:32<02:21,  2.84it/s]"
     ]
    },
    {
     "name": "stdout",
     "output_type": "stream",
     "text": [
      "'commonstockdividendspersharecashpaid'\n"
     ]
    },
    {
     "name": "stderr",
     "output_type": "stream",
     "text": [
      " 19%|████████████████████████████████▎                                                                                                                                         | 93/490 [00:33<02:11,  3.01it/s]"
     ]
    },
    {
     "name": "stdout",
     "output_type": "stream",
     "text": [
      "'commonstockdividendspersharecashpaid'\n"
     ]
    },
    {
     "name": "stderr",
     "output_type": "stream",
     "text": [
      "\r",
      " 19%|████████████████████████████████▌                                                                                                                                         | 94/490 [00:33<02:08,  3.08it/s]"
     ]
    },
    {
     "name": "stdout",
     "output_type": "stream",
     "text": [
      "'commonstockdividendspersharecashpaid'\n"
     ]
    },
    {
     "name": "stderr",
     "output_type": "stream",
     "text": [
      "\r",
      " 19%|████████████████████████████████▉                                                                                                                                         | 95/490 [00:34<02:10,  3.04it/s]"
     ]
    },
    {
     "name": "stdout",
     "output_type": "stream",
     "text": [
      "'commonstockdividendspersharecashpaid'\n"
     ]
    },
    {
     "name": "stderr",
     "output_type": "stream",
     "text": [
      " 20%|█████████████████████████████████▋                                                                                                                                        | 97/490 [00:35<02:12,  2.97it/s]"
     ]
    },
    {
     "name": "stdout",
     "output_type": "stream",
     "text": [
      "'commonstockdividendspersharecashpaid'\n"
     ]
    },
    {
     "name": "stderr",
     "output_type": "stream",
     "text": [
      " 20%|██████████████████████████████████▎                                                                                                                                       | 99/490 [00:35<02:22,  2.74it/s]"
     ]
    },
    {
     "name": "stdout",
     "output_type": "stream",
     "text": [
      "'commonstockdividendspersharecashpaid'\n"
     ]
    },
    {
     "name": "stderr",
     "output_type": "stream",
     "text": [
      "\r",
      " 20%|██████████████████████████████████▍                                                                                                                                      | 100/490 [00:36<02:32,  2.55it/s]"
     ]
    },
    {
     "name": "stdout",
     "output_type": "stream",
     "text": [
      "'commonstockdividendspersharecashpaid'\n"
     ]
    },
    {
     "name": "stderr",
     "output_type": "stream",
     "text": [
      "\r",
      " 21%|██████████████████████████████████▊                                                                                                                                      | 101/490 [00:36<02:18,  2.81it/s]"
     ]
    },
    {
     "name": "stdout",
     "output_type": "stream",
     "text": [
      "'commonstockdividendspersharecashpaid'\n"
     ]
    },
    {
     "name": "stderr",
     "output_type": "stream",
     "text": [
      " 21%|███████████████████████████████████▌                                                                                                                                     | 103/490 [00:37<01:59,  3.23it/s]"
     ]
    },
    {
     "name": "stdout",
     "output_type": "stream",
     "text": [
      "'commonstockdividendspersharecashpaid'\n"
     ]
    },
    {
     "name": "stderr",
     "output_type": "stream",
     "text": [
      "\r",
      " 21%|███████████████████████████████████▊                                                                                                                                     | 104/490 [00:37<02:19,  2.77it/s]"
     ]
    },
    {
     "name": "stdout",
     "output_type": "stream",
     "text": [
      "'commonstockdividendspersharecashpaid'\n"
     ]
    },
    {
     "name": "stderr",
     "output_type": "stream",
     "text": [
      " 22%|████████████████████████████████████▌                                                                                                                                    | 106/490 [00:38<02:04,  3.09it/s]"
     ]
    },
    {
     "name": "stdout",
     "output_type": "stream",
     "text": [
      "\"['weightedaveragenumberofsharesoutstandingbasic'] not in index\"\n"
     ]
    },
    {
     "name": "stderr",
     "output_type": "stream",
     "text": [
      "\r",
      " 22%|████████████████████████████████████▉                                                                                                                                    | 107/490 [00:38<02:01,  3.15it/s]"
     ]
    },
    {
     "name": "stdout",
     "output_type": "stream",
     "text": [
      "'commonstockdividendspersharecashpaid'\n"
     ]
    },
    {
     "name": "stderr",
     "output_type": "stream",
     "text": [
      "\r",
      " 22%|█████████████████████████████████████▏                                                                                                                                   | 108/490 [00:38<01:54,  3.32it/s]"
     ]
    },
    {
     "name": "stdout",
     "output_type": "stream",
     "text": [
      "'commonstockdividendspersharecashpaid'\n"
     ]
    },
    {
     "name": "stderr",
     "output_type": "stream",
     "text": [
      " 22%|█████████████████████████████████████▉                                                                                                                                   | 110/490 [00:39<02:49,  2.24it/s]"
     ]
    },
    {
     "name": "stdout",
     "output_type": "stream",
     "text": [
      "'commonstockdividendspersharecashpaid'\n"
     ]
    },
    {
     "name": "stderr",
     "output_type": "stream",
     "text": [
      " 23%|██████████████████████████████████████▉                                                                                                                                  | 113/490 [00:40<02:33,  2.46it/s]"
     ]
    },
    {
     "name": "stdout",
     "output_type": "stream",
     "text": [
      "\"['entitycommonstocksharesoutstanding'] not in index\"\n"
     ]
    },
    {
     "name": "stderr",
     "output_type": "stream",
     "text": [
      "\r",
      " 23%|███████████████████████████████████████▎                                                                                                                                 | 114/490 [00:41<02:26,  2.56it/s]"
     ]
    },
    {
     "name": "stdout",
     "output_type": "stream",
     "text": [
      "'commonstockdividendspersharecashpaid'\n"
     ]
    },
    {
     "name": "stderr",
     "output_type": "stream",
     "text": [
      " 24%|████████████████████████████████████████▎                                                                                                                                | 117/490 [00:42<02:09,  2.89it/s]"
     ]
    },
    {
     "name": "stdout",
     "output_type": "stream",
     "text": [
      "'commonstockdividendspersharecashpaid'\n"
     ]
    },
    {
     "name": "stderr",
     "output_type": "stream",
     "text": [
      "\r",
      " 24%|████████████████████████████████████████▋                                                                                                                                | 118/490 [00:42<02:09,  2.87it/s]"
     ]
    },
    {
     "name": "stdout",
     "output_type": "stream",
     "text": [
      "'commonstockdividendspersharecashpaid'\n"
     ]
    },
    {
     "name": "stderr",
     "output_type": "stream",
     "text": [
      "\r",
      " 24%|█████████████████████████████████████████                                                                                                                                | 119/490 [00:43<02:23,  2.58it/s]"
     ]
    },
    {
     "name": "stdout",
     "output_type": "stream",
     "text": [
      "'commonstockdividendspersharecashpaid'\n"
     ]
    },
    {
     "name": "stderr",
     "output_type": "stream",
     "text": [
      " 25%|██████████████████████████████████████████▊                                                                                                                              | 124/490 [00:45<02:01,  3.02it/s]"
     ]
    },
    {
     "name": "stdout",
     "output_type": "stream",
     "text": [
      "'commonstockdividendspersharecashpaid'\n",
      "'commonstockdividendspersharecashpaid'\n"
     ]
    },
    {
     "name": "stderr",
     "output_type": "stream",
     "text": [
      " 26%|███████████████████████████████████████████▍                                                                                                                             | 126/490 [00:45<01:48,  3.36it/s]"
     ]
    },
    {
     "name": "stdout",
     "output_type": "stream",
     "text": [
      "'commonstockdividendspersharecashpaid'\n"
     ]
    },
    {
     "name": "stderr",
     "output_type": "stream",
     "text": [
      " 26%|████████████████████████████████████████████▏                                                                                                                            | 128/490 [00:46<01:47,  3.37it/s]"
     ]
    },
    {
     "name": "stdout",
     "output_type": "stream",
     "text": [
      "'commonstockdividendspersharecashpaid'\n"
     ]
    },
    {
     "name": "stderr",
     "output_type": "stream",
     "text": [
      " 27%|█████████████████████████████████████████████▌                                                                                                                           | 132/490 [00:47<01:34,  3.77it/s]"
     ]
    },
    {
     "name": "stdout",
     "output_type": "stream",
     "text": [
      "\"['stockholdersequity'] not in index\"\n"
     ]
    },
    {
     "name": "stderr",
     "output_type": "stream",
     "text": [
      " 28%|██████████████████████████████████████████████▉                                                                                                                          | 136/490 [00:48<01:52,  3.14it/s]"
     ]
    },
    {
     "name": "stdout",
     "output_type": "stream",
     "text": [
      "'commonstockdividendspersharecashpaid'\n"
     ]
    },
    {
     "name": "stderr",
     "output_type": "stream",
     "text": [
      " 28%|███████████████████████████████████████████████▌                                                                                                                         | 138/490 [00:49<01:55,  3.04it/s]"
     ]
    },
    {
     "name": "stdout",
     "output_type": "stream",
     "text": [
      "'commonstockdividendspersharecashpaid'\n"
     ]
    },
    {
     "name": "stderr",
     "output_type": "stream",
     "text": [
      " 29%|████████████████████████████████████████████████▎                                                                                                                        | 140/490 [00:50<01:57,  2.98it/s]"
     ]
    },
    {
     "name": "stdout",
     "output_type": "stream",
     "text": [
      "'commonstockdividendspersharecashpaid'\n"
     ]
    },
    {
     "name": "stderr",
     "output_type": "stream",
     "text": [
      " 29%|█████████████████████████████████████████████████▎                                                                                                                       | 143/490 [00:51<02:04,  2.80it/s]"
     ]
    },
    {
     "name": "stdout",
     "output_type": "stream",
     "text": [
      "'commonstockdividendspersharecashpaid'\n"
     ]
    },
    {
     "name": "stderr",
     "output_type": "stream",
     "text": [
      "\r",
      " 29%|█████████████████████████████████████████████████▋                                                                                                                       | 144/490 [00:51<02:06,  2.74it/s]"
     ]
    },
    {
     "name": "stdout",
     "output_type": "stream",
     "text": [
      "'commonstockdividendspersharecashpaid'\n"
     ]
    },
    {
     "name": "stderr",
     "output_type": "stream",
     "text": [
      "\r",
      " 30%|██████████████████████████████████████████████████                                                                                                                       | 145/490 [00:51<02:04,  2.77it/s]"
     ]
    },
    {
     "name": "stdout",
     "output_type": "stream",
     "text": [
      "'commonstockdividendspersharecashpaid'\n"
     ]
    },
    {
     "name": "stderr",
     "output_type": "stream",
     "text": [
      " 30%|██████████████████████████████████████████████████▋                                                                                                                      | 147/490 [00:52<01:58,  2.90it/s]"
     ]
    },
    {
     "name": "stdout",
     "output_type": "stream",
     "text": [
      "\"['entitycommonstocksharesoutstanding'] not in index\"\n"
     ]
    },
    {
     "name": "stderr",
     "output_type": "stream",
     "text": [
      " 31%|███████████████████████████████████████████████████▋                                                                                                                     | 150/490 [00:53<01:36,  3.54it/s]"
     ]
    },
    {
     "name": "stdout",
     "output_type": "stream",
     "text": [
      "'commonstockdividendspersharecashpaid'\n"
     ]
    },
    {
     "name": "stderr",
     "output_type": "stream",
     "text": [
      " 32%|█████████████████████████████████████████████████████▍                                                                                                                   | 155/490 [00:55<02:24,  2.32it/s]"
     ]
    },
    {
     "name": "stdout",
     "output_type": "stream",
     "text": [
      "'commonstockdividendspersharecashpaid'\n"
     ]
    },
    {
     "name": "stderr",
     "output_type": "stream",
     "text": [
      "\r",
      " 32%|█████████████████████████████████████████████████████▊                                                                                                                   | 156/490 [00:56<02:51,  1.95it/s]"
     ]
    },
    {
     "name": "stdout",
     "output_type": "stream",
     "text": [
      "'commonstockdividendspersharecashpaid'\n"
     ]
    },
    {
     "name": "stderr",
     "output_type": "stream",
     "text": [
      " 32%|██████████████████████████████████████████████████████▊                                                                                                                  | 159/490 [00:57<02:05,  2.64it/s]"
     ]
    },
    {
     "name": "stdout",
     "output_type": "stream",
     "text": [
      "'commonstockdividendspersharecashpaid'\n"
     ]
    },
    {
     "name": "stderr",
     "output_type": "stream",
     "text": [
      " 33%|███████████████████████████████████████████████████████▌                                                                                                                 | 161/490 [00:57<01:58,  2.79it/s]"
     ]
    },
    {
     "name": "stdout",
     "output_type": "stream",
     "text": [
      "'commonstockdividendspersharecashpaid'\n"
     ]
    },
    {
     "name": "stderr",
     "output_type": "stream",
     "text": [
      "\r",
      " 33%|███████████████████████████████████████████████████████▊                                                                                                                 | 162/490 [00:58<02:01,  2.70it/s]"
     ]
    },
    {
     "name": "stdout",
     "output_type": "stream",
     "text": [
      "'commonstockdividendspersharecashpaid'\n"
     ]
    },
    {
     "name": "stderr",
     "output_type": "stream",
     "text": [
      "\r",
      " 33%|████████████████████████████████████████████████████████▏                                                                                                                | 163/490 [00:58<02:14,  2.43it/s]"
     ]
    },
    {
     "name": "stdout",
     "output_type": "stream",
     "text": [
      "'commonstockdividendspersharecashpaid'\n"
     ]
    },
    {
     "name": "stderr",
     "output_type": "stream",
     "text": [
      "\r",
      " 33%|████████████████████████████████████████████████████████▌                                                                                                                | 164/490 [00:59<02:04,  2.63it/s]"
     ]
    },
    {
     "name": "stdout",
     "output_type": "stream",
     "text": [
      "'commonstockdividendspersharecashpaid'\n"
     ]
    },
    {
     "name": "stderr",
     "output_type": "stream",
     "text": [
      "\r",
      " 34%|████████████████████████████████████████████████████████▉                                                                                                                | 165/490 [00:59<01:52,  2.88it/s]"
     ]
    },
    {
     "name": "stdout",
     "output_type": "stream",
     "text": [
      "'commonstockdividendspersharecashpaid'\n"
     ]
    },
    {
     "name": "stderr",
     "output_type": "stream",
     "text": [
      " 34%|█████████████████████████████████████████████████████████▉                                                                                                               | 168/490 [01:00<01:30,  3.55it/s]"
     ]
    },
    {
     "name": "stdout",
     "output_type": "stream",
     "text": [
      "'commonstockdividendspersharecashpaid'\n"
     ]
    },
    {
     "name": "stderr",
     "output_type": "stream",
     "text": [
      "\r",
      " 34%|██████████████████████████████████████████████████████████▎                                                                                                              | 169/490 [01:01<02:46,  1.93it/s]"
     ]
    },
    {
     "name": "stdout",
     "output_type": "stream",
     "text": [
      "'commonstockdividendspersharecashpaid'\n"
     ]
    },
    {
     "name": "stderr",
     "output_type": "stream",
     "text": [
      " 35%|██████████████████████████████████████████████████████████▉                                                                                                              | 171/490 [01:01<02:06,  2.52it/s]"
     ]
    },
    {
     "name": "stdout",
     "output_type": "stream",
     "text": [
      "'commonstockdividendspersharecashpaid'\n"
     ]
    },
    {
     "name": "stderr",
     "output_type": "stream",
     "text": [
      " 36%|████████████████████████████████████████████████████████████                                                                                                             | 174/490 [01:03<02:19,  2.27it/s]"
     ]
    },
    {
     "name": "stdout",
     "output_type": "stream",
     "text": [
      "'commonstockdividendspersharecashpaid'\n"
     ]
    },
    {
     "name": "stderr",
     "output_type": "stream",
     "text": [
      "\r",
      " 36%|████████████████████████████████████████████████████████████▎                                                                                                            | 175/490 [01:03<02:11,  2.40it/s]"
     ]
    },
    {
     "name": "stdout",
     "output_type": "stream",
     "text": [
      "\"['retainedearningsaccumulateddeficit', 'propertyplantandequipmentnet'] not in index\"\n"
     ]
    },
    {
     "name": "stderr",
     "output_type": "stream",
     "text": [
      " 36%|█████████████████████████████████████████████████████████████                                                                                                            | 177/490 [01:04<01:43,  3.02it/s]"
     ]
    },
    {
     "name": "stdout",
     "output_type": "stream",
     "text": [
      "\"['entitycommonstocksharesoutstanding'] not in index\"\n",
      "'commonstockdividendspersharecashpaid'\n"
     ]
    },
    {
     "name": "stderr",
     "output_type": "stream",
     "text": [
      " 37%|█████████████████████████████████████████████████████████████▋                                                                                                           | 179/490 [01:04<01:31,  3.39it/s]"
     ]
    },
    {
     "name": "stdout",
     "output_type": "stream",
     "text": [
      "'commonstockdividendspersharecashpaid'\n",
      "'commonstockdividendspersharecashpaid'\n"
     ]
    },
    {
     "name": "stderr",
     "output_type": "stream",
     "text": [
      "\r",
      " 37%|██████████████████████████████████████████████████████████████                                                                                                           | 180/490 [01:05<01:46,  2.92it/s]"
     ]
    },
    {
     "name": "stdout",
     "output_type": "stream",
     "text": [
      "\"['propertyplantandequipmentnet'] not in index\"\n"
     ]
    },
    {
     "name": "stderr",
     "output_type": "stream",
     "text": [
      " 37%|███████████████████████████████████████████████████████████████                                                                                                          | 183/490 [01:07<02:24,  2.12it/s]"
     ]
    },
    {
     "name": "stdout",
     "output_type": "stream",
     "text": [
      "\"['entitycommonstocksharesoutstanding'] not in index\"\n"
     ]
    },
    {
     "name": "stderr",
     "output_type": "stream",
     "text": [
      " 38%|████████████████████████████████████████████████████████████████▏                                                                                                        | 186/490 [01:08<01:45,  2.88it/s]"
     ]
    },
    {
     "name": "stdout",
     "output_type": "stream",
     "text": [
      "'commonstockdividendspersharecashpaid'\n"
     ]
    },
    {
     "name": "stderr",
     "output_type": "stream",
     "text": [
      " 39%|█████████████████████████████████████████████████████████████████▏                                                                                                       | 189/490 [01:08<01:23,  3.60it/s]"
     ]
    },
    {
     "name": "stdout",
     "output_type": "stream",
     "text": [
      "\"['incometaxexpensebenefit', 'retainedearningsaccumulateddeficit', 'propertyplantandequipmentnet'] not in index\"\n"
     ]
    },
    {
     "name": "stderr",
     "output_type": "stream",
     "text": [
      "\r",
      " 39%|█████████████████████████████████████████████████████████████████▌                                                                                                       | 190/490 [01:09<01:29,  3.34it/s]"
     ]
    },
    {
     "name": "stdout",
     "output_type": "stream",
     "text": [
      "'commonstockdividendspersharecashpaid'\n"
     ]
    },
    {
     "name": "stderr",
     "output_type": "stream",
     "text": [
      "\r",
      " 39%|█████████████████████████████████████████████████████████████████▉                                                                                                       | 191/490 [01:09<02:09,  2.31it/s]"
     ]
    },
    {
     "name": "stdout",
     "output_type": "stream",
     "text": [
      "'commonstockdividendspersharecashpaid'\n"
     ]
    },
    {
     "name": "stderr",
     "output_type": "stream",
     "text": [
      " 40%|██████████████████████████████████████████████████████████████████▉                                                                                                      | 194/490 [01:11<01:56,  2.53it/s]"
     ]
    },
    {
     "name": "stdout",
     "output_type": "stream",
     "text": [
      "'commonstockdividendspersharecashpaid'\n"
     ]
    },
    {
     "name": "stderr",
     "output_type": "stream",
     "text": [
      "\r",
      " 40%|███████████████████████████████████████████████████████████████████▎                                                                                                     | 195/490 [01:11<01:43,  2.84it/s]"
     ]
    },
    {
     "name": "stdout",
     "output_type": "stream",
     "text": [
      "'commonstockdividendspersharecashpaid'\n"
     ]
    },
    {
     "name": "stderr",
     "output_type": "stream",
     "text": [
      "\r",
      " 40%|███████████████████████████████████████████████████████████████████▌                                                                                                     | 196/490 [01:11<01:50,  2.67it/s]"
     ]
    },
    {
     "name": "stdout",
     "output_type": "stream",
     "text": [
      "'commonstockdividendspersharecashpaid'\n"
     ]
    },
    {
     "name": "stderr",
     "output_type": "stream",
     "text": [
      "\r",
      " 40%|███████████████████████████████████████████████████████████████████▉                                                                                                     | 197/490 [01:12<01:45,  2.77it/s]"
     ]
    },
    {
     "name": "stdout",
     "output_type": "stream",
     "text": [
      "\"['entitycommonstocksharesoutstanding'] not in index\"\n"
     ]
    },
    {
     "name": "stderr",
     "output_type": "stream",
     "text": [
      " 41%|████████████████████████████████████████████████████████████████████▋                                                                                                    | 199/490 [01:12<01:22,  3.54it/s]"
     ]
    },
    {
     "name": "stdout",
     "output_type": "stream",
     "text": [
      "'commonstockdividendspersharecashpaid'\n"
     ]
    },
    {
     "name": "stderr",
     "output_type": "stream",
     "text": [
      "\r",
      " 41%|████████████████████████████████████████████████████████████████████▉                                                                                                    | 200/490 [01:12<01:07,  4.30it/s]"
     ]
    },
    {
     "name": "stdout",
     "output_type": "stream",
     "text": [
      "'commonstockdividendspersharecashpaid'\n"
     ]
    },
    {
     "name": "stderr",
     "output_type": "stream",
     "text": [
      "\r",
      " 41%|█████████████████████████████████████████████████████████████████████▎                                                                                                   | 201/490 [01:12<01:16,  3.75it/s]"
     ]
    },
    {
     "name": "stdout",
     "output_type": "stream",
     "text": [
      "'commonstockdividendspersharecashpaid'\n"
     ]
    },
    {
     "name": "stderr",
     "output_type": "stream",
     "text": [
      " 42%|██████████████████████████████████████████████████████████████████████▎                                                                                                  | 204/490 [01:14<01:35,  3.00it/s]"
     ]
    },
    {
     "name": "stdout",
     "output_type": "stream",
     "text": [
      "'commonstockdividendspersharecashpaid'\n"
     ]
    },
    {
     "name": "stderr",
     "output_type": "stream",
     "text": [
      "\r",
      " 42%|██████████████████████████████████████████████████████████████████████▋                                                                                                  | 205/490 [01:15<02:29,  1.90it/s]"
     ]
    },
    {
     "name": "stdout",
     "output_type": "stream",
     "text": [
      "'commonstockdividendspersharecashpaid'\n"
     ]
    },
    {
     "name": "stderr",
     "output_type": "stream",
     "text": [
      "\r",
      " 42%|███████████████████████████████████████████████████████████████████████                                                                                                  | 206/490 [01:15<02:05,  2.25it/s]"
     ]
    },
    {
     "name": "stdout",
     "output_type": "stream",
     "text": [
      "'commonstockdividendspersharecashpaid'\n"
     ]
    },
    {
     "name": "stderr",
     "output_type": "stream",
     "text": [
      "\r",
      " 42%|███████████████████████████████████████████████████████████████████████▍                                                                                                 | 207/490 [01:15<01:52,  2.52it/s]"
     ]
    },
    {
     "name": "stdout",
     "output_type": "stream",
     "text": [
      "'commonstockdividendspersharecashpaid'\n"
     ]
    },
    {
     "name": "stderr",
     "output_type": "stream",
     "text": [
      " 43%|████████████████████████████████████████████████████████████████████████▍                                                                                                | 210/490 [01:16<01:51,  2.51it/s]"
     ]
    },
    {
     "name": "stdout",
     "output_type": "stream",
     "text": [
      "'commonstockdividendspersharecashpaid'\n"
     ]
    },
    {
     "name": "stderr",
     "output_type": "stream",
     "text": [
      "\r",
      " 43%|████████████████████████████████████████████████████████████████████████▊                                                                                                | 211/490 [01:17<01:51,  2.49it/s]"
     ]
    },
    {
     "name": "stdout",
     "output_type": "stream",
     "text": [
      "'commonstockdividendspersharecashpaid'\n"
     ]
    },
    {
     "name": "stderr",
     "output_type": "stream",
     "text": [
      "\r",
      " 43%|█████████████████████████████████████████████████████████████████████████                                                                                                | 212/490 [01:17<02:03,  2.25it/s]"
     ]
    },
    {
     "name": "stdout",
     "output_type": "stream",
     "text": [
      "'commonstockdividendspersharecashpaid'\n"
     ]
    },
    {
     "name": "stderr",
     "output_type": "stream",
     "text": [
      " 44%|█████████████████████████████████████████████████████████████████████████▊                                                                                               | 214/490 [01:18<02:20,  1.97it/s]"
     ]
    },
    {
     "name": "stdout",
     "output_type": "stream",
     "text": [
      "'commonstockdividendspersharecashpaid'\n"
     ]
    },
    {
     "name": "stderr",
     "output_type": "stream",
     "text": [
      " 44%|██████████████████████████████████████████████████████████████████████████▍                                                                                              | 216/490 [01:19<02:26,  1.87it/s]"
     ]
    },
    {
     "name": "stdout",
     "output_type": "stream",
     "text": [
      "'commonstockdividendspersharecashpaid'\n"
     ]
    },
    {
     "name": "stderr",
     "output_type": "stream",
     "text": [
      "\r",
      " 44%|██████████████████████████████████████████████████████████████████████████▊                                                                                              | 217/490 [01:20<02:12,  2.06it/s]"
     ]
    },
    {
     "name": "stdout",
     "output_type": "stream",
     "text": [
      "'commonstockdividendspersharecashpaid'\n"
     ]
    },
    {
     "name": "stderr",
     "output_type": "stream",
     "text": [
      " 45%|███████████████████████████████████████████████████████████████████████████▌                                                                                             | 219/490 [01:21<01:58,  2.29it/s]"
     ]
    },
    {
     "name": "stdout",
     "output_type": "stream",
     "text": [
      "\"['retainedearningsaccumulateddeficit', 'propertyplantandequipmentnet'] not in index\"\n"
     ]
    },
    {
     "name": "stderr",
     "output_type": "stream",
     "text": [
      "\r",
      " 45%|███████████████████████████████████████████████████████████████████████████▉                                                                                             | 220/490 [01:21<01:48,  2.49it/s]"
     ]
    },
    {
     "name": "stdout",
     "output_type": "stream",
     "text": [
      "'commonstockdividendspersharecashpaid'\n"
     ]
    },
    {
     "name": "stderr",
     "output_type": "stream",
     "text": [
      "\r",
      " 45%|████████████████████████████████████████████████████████████████████████████▏                                                                                            | 221/490 [01:21<01:46,  2.52it/s]"
     ]
    },
    {
     "name": "stdout",
     "output_type": "stream",
     "text": [
      "'commonstockdividendspersharecashpaid'\n"
     ]
    },
    {
     "name": "stderr",
     "output_type": "stream",
     "text": [
      "\r",
      " 45%|████████████████████████████████████████████████████████████████████████████▌                                                                                            | 222/490 [01:22<01:49,  2.44it/s]"
     ]
    },
    {
     "name": "stdout",
     "output_type": "stream",
     "text": [
      "'commonstockdividendspersharecashpaid'\n"
     ]
    },
    {
     "name": "stderr",
     "output_type": "stream",
     "text": [
      "\r",
      " 46%|████████████████████████████████████████████████████████████████████████████▉                                                                                            | 223/490 [01:22<01:42,  2.62it/s]"
     ]
    },
    {
     "name": "stdout",
     "output_type": "stream",
     "text": [
      "'commonstockdividendspersharecashpaid'\n"
     ]
    },
    {
     "name": "stderr",
     "output_type": "stream",
     "text": [
      "\r",
      " 46%|█████████████████████████████████████████████████████████████████████████████▎                                                                                           | 224/490 [01:22<01:35,  2.80it/s]"
     ]
    },
    {
     "name": "stdout",
     "output_type": "stream",
     "text": [
      "'commonstockdividendspersharecashpaid'\n"
     ]
    },
    {
     "name": "stderr",
     "output_type": "stream",
     "text": [
      "\r",
      " 46%|█████████████████████████████████████████████████████████████████████████████▌                                                                                           | 225/490 [01:23<02:00,  2.19it/s]"
     ]
    },
    {
     "name": "stdout",
     "output_type": "stream",
     "text": [
      "'commonstockdividendspersharecashpaid'\n"
     ]
    },
    {
     "name": "stderr",
     "output_type": "stream",
     "text": [
      " 47%|██████████████████████████████████████████████████████████████████████████████▋                                                                                          | 228/490 [01:24<01:24,  3.09it/s]"
     ]
    },
    {
     "name": "stdout",
     "output_type": "stream",
     "text": [
      "'commonstockdividendspersharecashpaid'\n"
     ]
    },
    {
     "name": "stderr",
     "output_type": "stream",
     "text": [
      "\r",
      " 47%|██████████████████████████████████████████████████████████████████████████████▉                                                                                          | 229/490 [01:24<01:21,  3.22it/s]"
     ]
    },
    {
     "name": "stdout",
     "output_type": "stream",
     "text": [
      "'commonstockdividendspersharecashpaid'\n"
     ]
    },
    {
     "name": "stderr",
     "output_type": "stream",
     "text": [
      " 48%|████████████████████████████████████████████████████████████████████████████████▎                                                                                        | 233/490 [01:26<01:32,  2.77it/s]"
     ]
    },
    {
     "name": "stdout",
     "output_type": "stream",
     "text": [
      "'commonstockdividendspersharecashpaid'\n"
     ]
    },
    {
     "name": "stderr",
     "output_type": "stream",
     "text": [
      "\r",
      " 48%|████████████████████████████████████████████████████████████████████████████████▋                                                                                        | 234/490 [01:26<01:48,  2.37it/s]"
     ]
    },
    {
     "name": "stdout",
     "output_type": "stream",
     "text": [
      "'commonstockdividendspersharecashpaid'\n"
     ]
    },
    {
     "name": "stderr",
     "output_type": "stream",
     "text": [
      " 48%|█████████████████████████████████████████████████████████████████████████████████▋                                                                                       | 237/490 [01:27<01:32,  2.74it/s]"
     ]
    },
    {
     "name": "stdout",
     "output_type": "stream",
     "text": [
      "'commonstockdividendspersharecashpaid'\n"
     ]
    },
    {
     "name": "stderr",
     "output_type": "stream",
     "text": [
      "\r",
      " 49%|██████████████████████████████████████████████████████████████████████████████████                                                                                       | 238/490 [01:28<01:26,  2.93it/s]"
     ]
    },
    {
     "name": "stdout",
     "output_type": "stream",
     "text": [
      "\"['stockholdersequity'] not in index\"\n"
     ]
    },
    {
     "name": "stderr",
     "output_type": "stream",
     "text": [
      "\r",
      " 49%|██████████████████████████████████████████████████████████████████████████████████▍                                                                                      | 239/490 [01:28<01:25,  2.94it/s]"
     ]
    },
    {
     "name": "stdout",
     "output_type": "stream",
     "text": [
      "'commonstockdividendspersharecashpaid'\n"
     ]
    },
    {
     "name": "stderr",
     "output_type": "stream",
     "text": [
      " 49%|███████████████████████████████████████████████████████████████████████████████████                                                                                      | 241/490 [01:28<01:07,  3.68it/s]"
     ]
    },
    {
     "name": "stdout",
     "output_type": "stream",
     "text": [
      "'commonstockdividendspersharecashpaid'\n",
      "'commonstockdividendspersharecashpaid'\n"
     ]
    },
    {
     "name": "stderr",
     "output_type": "stream",
     "text": [
      "\r",
      " 49%|███████████████████████████████████████████████████████████████████████████████████▍                                                                                     | 242/490 [01:29<01:13,  3.39it/s]"
     ]
    },
    {
     "name": "stdout",
     "output_type": "stream",
     "text": [
      "'commonstockdividendspersharecashpaid'\n"
     ]
    },
    {
     "name": "stderr",
     "output_type": "stream",
     "text": [
      " 50%|████████████████████████████████████████████████████████████████████████████████████▌                                                                                    | 245/490 [01:30<01:25,  2.86it/s]"
     ]
    },
    {
     "name": "stdout",
     "output_type": "stream",
     "text": [
      "'commonstockdividendspersharecashpaid'\n"
     ]
    },
    {
     "name": "stderr",
     "output_type": "stream",
     "text": [
      " 51%|█████████████████████████████████████████████████████████████████████████████████████▌                                                                                   | 248/490 [01:31<01:15,  3.19it/s]"
     ]
    },
    {
     "name": "stdout",
     "output_type": "stream",
     "text": [
      "'commonstockdividendspersharecashpaid'\n"
     ]
    },
    {
     "name": "stderr",
     "output_type": "stream",
     "text": [
      "\r",
      " 51%|█████████████████████████████████████████████████████████████████████████████████████▉                                                                                   | 249/490 [01:31<01:23,  2.90it/s]"
     ]
    },
    {
     "name": "stdout",
     "output_type": "stream",
     "text": [
      "'commonstockdividendspersharecashpaid'\n"
     ]
    },
    {
     "name": "stderr",
     "output_type": "stream",
     "text": [
      " 52%|███████████████████████████████████████████████████████████████████████████████████████▌                                                                                 | 254/490 [01:33<01:04,  3.68it/s]"
     ]
    },
    {
     "name": "stdout",
     "output_type": "stream",
     "text": [
      "\"['accumulatedothercomprehensiveincomelossnetoftax'] not in index\"\n",
      "\"['accumulatedothercomprehensiveincomelossnetoftax'] not in index\"\n"
     ]
    },
    {
     "name": "stderr",
     "output_type": "stream",
     "text": [
      " 52%|████████████████████████████████████████████████████████████████████████████████████████▎                                                                                | 256/490 [01:33<01:08,  3.42it/s]"
     ]
    },
    {
     "name": "stdout",
     "output_type": "stream",
     "text": [
      "\"['stockholdersequity'] not in index\"\n"
     ]
    },
    {
     "name": "stderr",
     "output_type": "stream",
     "text": [
      " 53%|██████████████████████████████████████████████████████████████████████████████████████████                                                                               | 261/490 [01:36<01:55,  1.98it/s]"
     ]
    },
    {
     "name": "stdout",
     "output_type": "stream",
     "text": [
      "'commonstockdividendspersharecashpaid'\n"
     ]
    },
    {
     "name": "stderr",
     "output_type": "stream",
     "text": [
      "\r",
      " 53%|██████████████████████████████████████████████████████████████████████████████████████████▎                                                                              | 262/490 [01:36<01:41,  2.25it/s]"
     ]
    },
    {
     "name": "stdout",
     "output_type": "stream",
     "text": [
      "'commonstockdividendspersharecashpaid'\n"
     ]
    },
    {
     "name": "stderr",
     "output_type": "stream",
     "text": [
      " 54%|███████████████████████████████████████████████████████████████████████████████████████████                                                                              | 264/490 [01:37<01:35,  2.37it/s]"
     ]
    },
    {
     "name": "stdout",
     "output_type": "stream",
     "text": [
      "\"['propertyplantandequipmentnet'] not in index\"\n"
     ]
    },
    {
     "name": "stderr",
     "output_type": "stream",
     "text": [
      " 54%|████████████████████████████████████████████████████████████████████████████████████████████                                                                             | 267/490 [01:38<01:35,  2.34it/s]"
     ]
    },
    {
     "name": "stdout",
     "output_type": "stream",
     "text": [
      "'commonstockdividendspersharecashpaid'\n"
     ]
    },
    {
     "name": "stderr",
     "output_type": "stream",
     "text": [
      "\r",
      " 55%|████████████████████████████████████████████████████████████████████████████████████████████▍                                                                            | 268/490 [01:39<01:25,  2.60it/s]"
     ]
    },
    {
     "name": "stdout",
     "output_type": "stream",
     "text": [
      "'commonstockdividendspersharecashpaid'\n"
     ]
    },
    {
     "name": "stderr",
     "output_type": "stream",
     "text": [
      " 55%|█████████████████████████████████████████████████████████████████████████████████████████████                                                                            | 270/490 [01:40<01:29,  2.46it/s]"
     ]
    },
    {
     "name": "stdout",
     "output_type": "stream",
     "text": [
      "'commonstockdividendspersharecashpaid'\n"
     ]
    },
    {
     "name": "stderr",
     "output_type": "stream",
     "text": [
      " 56%|█████████████████████████████████████████████████████████████████████████████████████████████▊                                                                           | 272/490 [01:40<01:11,  3.05it/s]"
     ]
    },
    {
     "name": "stdout",
     "output_type": "stream",
     "text": [
      "'commonstockdividendspersharecashpaid'\n",
      "'commonstockdividendspersharecashpaid'\n"
     ]
    },
    {
     "name": "stderr",
     "output_type": "stream",
     "text": [
      " 56%|██████████████████████████████████████████████████████████████████████████████████████████████▊                                                                          | 275/490 [01:41<01:13,  2.91it/s]"
     ]
    },
    {
     "name": "stdout",
     "output_type": "stream",
     "text": [
      "\"['entitycommonstocksharesoutstanding'] not in index\"\n"
     ]
    },
    {
     "name": "stderr",
     "output_type": "stream",
     "text": [
      "\r",
      " 56%|███████████████████████████████████████████████████████████████████████████████████████████████▏                                                                         | 276/490 [01:42<01:24,  2.53it/s]"
     ]
    },
    {
     "name": "stdout",
     "output_type": "stream",
     "text": [
      "'commonstockdividendspersharecashpaid'\n"
     ]
    },
    {
     "name": "stderr",
     "output_type": "stream",
     "text": [
      " 57%|███████████████████████████████████████████████████████████████████████████████████████████████▉                                                                         | 278/490 [01:42<01:08,  3.08it/s]"
     ]
    },
    {
     "name": "stdout",
     "output_type": "stream",
     "text": [
      "'commonstockdividendspersharecashpaid'\n"
     ]
    },
    {
     "name": "stderr",
     "output_type": "stream",
     "text": [
      "\r",
      " 57%|████████████████████████████████████████████████████████████████████████████████████████████████▏                                                                        | 279/490 [01:43<01:15,  2.79it/s]"
     ]
    },
    {
     "name": "stdout",
     "output_type": "stream",
     "text": [
      "'commonstockdividendspersharecashpaid'\n"
     ]
    },
    {
     "name": "stderr",
     "output_type": "stream",
     "text": [
      " 57%|████████████████████████████████████████████████████████████████████████████████████████████████▉                                                                        | 281/490 [01:44<01:34,  2.20it/s]"
     ]
    },
    {
     "name": "stdout",
     "output_type": "stream",
     "text": [
      "\"['cashandcashequivalentsatcarryingvalue'] not in index\"\n"
     ]
    },
    {
     "name": "stderr",
     "output_type": "stream",
     "text": [
      " 59%|███████████████████████████████████████████████████████████████████████████████████████████████████▎                                                                     | 288/490 [01:46<01:12,  2.77it/s]"
     ]
    },
    {
     "name": "stdout",
     "output_type": "stream",
     "text": [
      "'commonstockdividendspersharecashpaid'\n"
     ]
    },
    {
     "name": "stderr",
     "output_type": "stream",
     "text": [
      " 60%|█████████████████████████████████████████████████████████████████████████████████████████████████████                                                                    | 293/490 [01:48<01:10,  2.78it/s]"
     ]
    },
    {
     "name": "stdout",
     "output_type": "stream",
     "text": [
      "'commonstockdividendspersharecashpaid'\n"
     ]
    },
    {
     "name": "stderr",
     "output_type": "stream",
     "text": [
      "\r",
      " 60%|█████████████████████████████████████████████████████████████████████████████████████████████████████▍                                                                   | 294/490 [01:48<01:14,  2.62it/s]"
     ]
    },
    {
     "name": "stdout",
     "output_type": "stream",
     "text": [
      "'commonstockdividendspersharecashpaid'\n"
     ]
    },
    {
     "name": "stderr",
     "output_type": "stream",
     "text": [
      " 60%|██████████████████████████████████████████████████████████████████████████████████████████████████████                                                                   | 296/490 [01:49<00:58,  3.29it/s]"
     ]
    },
    {
     "name": "stdout",
     "output_type": "stream",
     "text": [
      "\"['entitycommonstocksharesoutstanding'] not in index\"\n",
      "'commonstockdividendspersharecashpaid'\n"
     ]
    },
    {
     "name": "stderr",
     "output_type": "stream",
     "text": [
      " 61%|███████████████████████████████████████████████████████████████████████████████████████████████████████▍                                                                 | 300/490 [01:50<00:59,  3.22it/s]"
     ]
    },
    {
     "name": "stdout",
     "output_type": "stream",
     "text": [
      "'commonstockdividendspersharecashpaid'\n",
      "'commonstockdividendspersharecashpaid'\n"
     ]
    },
    {
     "name": "stderr",
     "output_type": "stream",
     "text": [
      "\r",
      " 61%|███████████████████████████████████████████████████████████████████████████████████████████████████████▊                                                                 | 301/490 [01:51<01:36,  1.95it/s]"
     ]
    },
    {
     "name": "stdout",
     "output_type": "stream",
     "text": [
      "\"['propertyplantandequipmentnet'] not in index\"\n"
     ]
    },
    {
     "name": "stderr",
     "output_type": "stream",
     "text": [
      "\r",
      " 62%|████████████████████████████████████████████████████████████████████████████████████████████████████████▏                                                                | 302/490 [01:52<01:23,  2.25it/s]"
     ]
    },
    {
     "name": "stdout",
     "output_type": "stream",
     "text": [
      "'commonstockdividendspersharecashpaid'\n"
     ]
    },
    {
     "name": "stderr",
     "output_type": "stream",
     "text": [
      " 62%|█████████████████████████████████████████████████████████████████████████████████████████████████████████▌                                                               | 306/490 [01:53<01:02,  2.92it/s]"
     ]
    },
    {
     "name": "stdout",
     "output_type": "stream",
     "text": [
      "'commonstockdividendspersharecashpaid'\n"
     ]
    },
    {
     "name": "stderr",
     "output_type": "stream",
     "text": [
      " 63%|██████████████████████████████████████████████████████████████████████████████████████████████████████████▏                                                              | 308/490 [01:53<00:49,  3.70it/s]"
     ]
    },
    {
     "name": "stdout",
     "output_type": "stream",
     "text": [
      "\"['retainedearningsaccumulateddeficit', 'propertyplantandequipmentnet'] not in index\"\n",
      "'commonstockdividendspersharecashpaid'\n"
     ]
    },
    {
     "name": "stderr",
     "output_type": "stream",
     "text": [
      "\r",
      " 63%|██████████████████████████████████████████████████████████████████████████████████████████████████████████▌                                                              | 309/490 [01:54<00:49,  3.62it/s]"
     ]
    },
    {
     "name": "stdout",
     "output_type": "stream",
     "text": [
      "'commonstockdividendspersharecashpaid'\n"
     ]
    },
    {
     "name": "stderr",
     "output_type": "stream",
     "text": [
      "\r",
      " 63%|██████████████████████████████████████████████████████████████████████████████████████████████████████████▉                                                              | 310/490 [01:54<00:59,  3.03it/s]"
     ]
    },
    {
     "name": "stdout",
     "output_type": "stream",
     "text": [
      "'commonstockdividendspersharecashpaid'\n"
     ]
    },
    {
     "name": "stderr",
     "output_type": "stream",
     "text": [
      "\r",
      " 63%|███████████████████████████████████████████████████████████████████████████████████████████████████████████▎                                                             | 311/490 [01:54<01:01,  2.92it/s]"
     ]
    },
    {
     "name": "stdout",
     "output_type": "stream",
     "text": [
      "\"['entitycommonstocksharesoutstanding'] not in index\"\n"
     ]
    },
    {
     "name": "stderr",
     "output_type": "stream",
     "text": [
      "\r",
      " 64%|███████████████████████████████████████████████████████████████████████████████████████████████████████████▌                                                             | 312/490 [01:55<01:00,  2.95it/s]"
     ]
    },
    {
     "name": "stdout",
     "output_type": "stream",
     "text": [
      "'commonstockdividendspersharecashpaid'\n"
     ]
    },
    {
     "name": "stderr",
     "output_type": "stream",
     "text": [
      " 64%|████████████████████████████████████████████████████████████████████████████████████████████████████████████▎                                                            | 314/490 [01:55<00:51,  3.44it/s]"
     ]
    },
    {
     "name": "stdout",
     "output_type": "stream",
     "text": [
      "'commonstockdividendspersharecashpaid'\n"
     ]
    },
    {
     "name": "stderr",
     "output_type": "stream",
     "text": [
      " 64%|████████████████████████████████████████████████████████████████████████████████████████████████████████████▉                                                            | 316/490 [01:56<01:16,  2.27it/s]"
     ]
    },
    {
     "name": "stdout",
     "output_type": "stream",
     "text": [
      "'commonstockdividendspersharecashpaid'\n"
     ]
    },
    {
     "name": "stderr",
     "output_type": "stream",
     "text": [
      " 66%|██████████████████████████████████████████████████████████████████████████████████████████████████████████████▋                                                          | 321/490 [01:58<01:01,  2.76it/s]"
     ]
    },
    {
     "name": "stdout",
     "output_type": "stream",
     "text": [
      "'commonstockdividendspersharecashpaid'\n"
     ]
    },
    {
     "name": "stderr",
     "output_type": "stream",
     "text": [
      "\r",
      " 66%|███████████████████████████████████████████████████████████████████████████████████████████████████████████████                                                          | 322/490 [01:58<00:54,  3.08it/s]"
     ]
    },
    {
     "name": "stdout",
     "output_type": "stream",
     "text": [
      "'commonstockdividendspersharecashpaid'\n"
     ]
    },
    {
     "name": "stderr",
     "output_type": "stream",
     "text": [
      " 66%|████████████████████████████████████████████████████████████████████████████████████████████████████████████████                                                         | 325/490 [02:00<00:59,  2.76it/s]"
     ]
    },
    {
     "name": "stdout",
     "output_type": "stream",
     "text": [
      "'commonstockdividendspersharecashpaid'\n"
     ]
    },
    {
     "name": "stderr",
     "output_type": "stream",
     "text": [
      " 67%|█████████████████████████████████████████████████████████████████████████████████████████████████████████████████▍                                                       | 329/490 [02:01<01:04,  2.49it/s]"
     ]
    },
    {
     "name": "stdout",
     "output_type": "stream",
     "text": [
      "'commonstockdividendspersharecashpaid'\n"
     ]
    },
    {
     "name": "stderr",
     "output_type": "stream",
     "text": [
      " 68%|██████████████████████████████████████████████████████████████████████████████████████████████████████████████████▏                                                      | 331/490 [02:02<01:00,  2.62it/s]"
     ]
    },
    {
     "name": "stdout",
     "output_type": "stream",
     "text": [
      "'commonstockdividendspersharecashpaid'\n"
     ]
    },
    {
     "name": "stderr",
     "output_type": "stream",
     "text": [
      "\r",
      " 68%|██████████████████████████████████████████████████████████████████████████████████████████████████████████████████▌                                                      | 332/490 [02:02<00:58,  2.71it/s]"
     ]
    },
    {
     "name": "stdout",
     "output_type": "stream",
     "text": [
      "'commonstockdividendspersharecashpaid'\n"
     ]
    },
    {
     "name": "stderr",
     "output_type": "stream",
     "text": [
      " 68%|███████████████████████████████████████████████████████████████████████████████████████████████████████████████████▏                                                     | 334/490 [02:03<00:51,  3.03it/s]"
     ]
    },
    {
     "name": "stdout",
     "output_type": "stream",
     "text": [
      "'commonstockdividendspersharecashpaid'\n"
     ]
    },
    {
     "name": "stderr",
     "output_type": "stream",
     "text": [
      "\r",
      " 68%|███████████████████████████████████████████████████████████████████████████████████████████████████████████████████▌                                                     | 335/490 [02:03<00:59,  2.60it/s]"
     ]
    },
    {
     "name": "stdout",
     "output_type": "stream",
     "text": [
      "\"['stockholdersequity'] not in index\"\n"
     ]
    },
    {
     "name": "stderr",
     "output_type": "stream",
     "text": [
      "\r",
      " 69%|███████████████████████████████████████████████████████████████████████████████████████████████████████████████████▉                                                     | 336/490 [02:04<00:54,  2.83it/s]"
     ]
    },
    {
     "name": "stdout",
     "output_type": "stream",
     "text": [
      "'commonstockdividendspersharecashpaid'\n"
     ]
    },
    {
     "name": "stderr",
     "output_type": "stream",
     "text": [
      " 69%|████████████████████████████████████████████████████████████████████████████████████████████████████████████████████▌                                                    | 338/490 [02:04<00:51,  2.96it/s]"
     ]
    },
    {
     "name": "stdout",
     "output_type": "stream",
     "text": [
      "'commonstockdividendspersharecashpaid'\n"
     ]
    },
    {
     "name": "stderr",
     "output_type": "stream",
     "text": [
      " 69%|█████████████████████████████████████████████████████████████████████████████████████████████████████████████████████▎                                                   | 340/490 [02:05<00:44,  3.38it/s]"
     ]
    },
    {
     "name": "stdout",
     "output_type": "stream",
     "text": [
      "'commonstockdividendspersharecashpaid'\n"
     ]
    },
    {
     "name": "stderr",
     "output_type": "stream",
     "text": [
      " 70%|█████████████████████████████████████████████████████████████████████████████████████████████████████████████████████▉                                                   | 342/490 [02:05<00:39,  3.71it/s]"
     ]
    },
    {
     "name": "stdout",
     "output_type": "stream",
     "text": [
      "'commonstockdividendspersharecashpaid'\n",
      "'commonstockdividendspersharecashpaid'\n"
     ]
    },
    {
     "name": "stderr",
     "output_type": "stream",
     "text": [
      "\r",
      " 70%|██████████████████████████████████████████████████████████████████████████████████████████████████████████████████████▎                                                  | 343/490 [02:06<00:38,  3.80it/s]"
     ]
    },
    {
     "name": "stdout",
     "output_type": "stream",
     "text": [
      "'commonstockdividendspersharecashpaid'\n"
     ]
    },
    {
     "name": "stderr",
     "output_type": "stream",
     "text": [
      " 71%|████████████████████████████████████████████████████████████████████████████████████████████████████████████████████████                                                 | 348/490 [02:07<00:32,  4.39it/s]"
     ]
    },
    {
     "name": "stdout",
     "output_type": "stream",
     "text": [
      "'commonstockdividendspersharecashpaid'\n"
     ]
    },
    {
     "name": "stderr",
     "output_type": "stream",
     "text": [
      " 71%|████████████████████████████████████████████████████████████████████████████████████████████████████████████████████████▋                                                | 350/490 [02:08<00:41,  3.33it/s]"
     ]
    },
    {
     "name": "stdout",
     "output_type": "stream",
     "text": [
      "\"['entitycommonstocksharesoutstanding'] not in index\"\n"
     ]
    },
    {
     "name": "stderr",
     "output_type": "stream",
     "text": [
      " 72%|█████████████████████████████████████████████████████████████████████████████████████████████████████████████████████████▋                                               | 353/490 [02:08<00:33,  4.13it/s]"
     ]
    },
    {
     "name": "stdout",
     "output_type": "stream",
     "text": [
      "'commonstockdividendspersharecashpaid'\n"
     ]
    },
    {
     "name": "stderr",
     "output_type": "stream",
     "text": [
      "\r",
      " 72%|██████████████████████████████████████████████████████████████████████████████████████████████████████████████████████████                                               | 354/490 [02:08<00:30,  4.44it/s]"
     ]
    },
    {
     "name": "stdout",
     "output_type": "stream",
     "text": [
      "'commonstockdividendspersharecashpaid'\n"
     ]
    },
    {
     "name": "stderr",
     "output_type": "stream",
     "text": [
      "\r",
      " 72%|██████████████████████████████████████████████████████████████████████████████████████████████████████████████████████████▍                                              | 355/490 [02:09<00:40,  3.36it/s]"
     ]
    },
    {
     "name": "stdout",
     "output_type": "stream",
     "text": [
      "'commonstockdividendspersharecashpaid'\n"
     ]
    },
    {
     "name": "stderr",
     "output_type": "stream",
     "text": [
      " 73%|███████████████████████████████████████████████████████████████████████████████████████████████████████████████████████████▏                                             | 357/490 [02:10<00:46,  2.85it/s]"
     ]
    },
    {
     "name": "stdout",
     "output_type": "stream",
     "text": [
      "'commonstockdividendspersharecashpaid'\n"
     ]
    },
    {
     "name": "stderr",
     "output_type": "stream",
     "text": [
      " 73%|████████████████████████████████████████████████████████████████████████████████████████████████████████████████████████████▏                                            | 360/490 [02:11<00:42,  3.03it/s]"
     ]
    },
    {
     "name": "stdout",
     "output_type": "stream",
     "text": [
      "'commonstockdividendspersharecashpaid'\n"
     ]
    },
    {
     "name": "stderr",
     "output_type": "stream",
     "text": [
      " 74%|████████████████████████████████████████████████████████████████████████████████████████████████████████████████████████████▊                                            | 362/490 [02:11<00:46,  2.78it/s]"
     ]
    },
    {
     "name": "stdout",
     "output_type": "stream",
     "text": [
      "'commonstockdividendspersharecashpaid'\n"
     ]
    },
    {
     "name": "stderr",
     "output_type": "stream",
     "text": [
      "\r",
      " 74%|█████████████████████████████████████████████████████████████████████████████████████████████████████████████████████████████▏                                           | 363/490 [02:12<00:47,  2.65it/s]"
     ]
    },
    {
     "name": "stdout",
     "output_type": "stream",
     "text": [
      "'commonstockdividendspersharecashpaid'\n"
     ]
    },
    {
     "name": "stderr",
     "output_type": "stream",
     "text": [
      "\r",
      " 74%|█████████████████████████████████████████████████████████████████████████████████████████████████████████████████████████████▌                                           | 364/490 [02:13<00:59,  2.12it/s]"
     ]
    },
    {
     "name": "stdout",
     "output_type": "stream",
     "text": [
      "'commonstockdividendspersharecashpaid'\n"
     ]
    },
    {
     "name": "stderr",
     "output_type": "stream",
     "text": [
      " 75%|██████████████████████████████████████████████████████████████████████████████████████████████████████████████████████████████▌                                          | 367/490 [02:14<01:03,  1.95it/s]"
     ]
    },
    {
     "name": "stdout",
     "output_type": "stream",
     "text": [
      "'commonstockdividendspersharecashpaid'\n"
     ]
    },
    {
     "name": "stderr",
     "output_type": "stream",
     "text": [
      "\r",
      " 75%|██████████████████████████████████████████████████████████████████████████████████████████████████████████████████████████████▉                                          | 368/490 [02:14<01:01,  2.00it/s]"
     ]
    },
    {
     "name": "stdout",
     "output_type": "stream",
     "text": [
      "'commonstockdividendspersharecashpaid'\n"
     ]
    },
    {
     "name": "stderr",
     "output_type": "stream",
     "text": [
      "\r",
      " 75%|███████████████████████████████████████████████████████████████████████████████████████████████████████████████████████████████▎                                         | 369/490 [02:15<00:51,  2.34it/s]"
     ]
    },
    {
     "name": "stdout",
     "output_type": "stream",
     "text": [
      "\"['stockholdersequity'] not in index\"\n"
     ]
    },
    {
     "name": "stderr",
     "output_type": "stream",
     "text": [
      "\r",
      " 76%|███████████████████████████████████████████████████████████████████████████████████████████████████████████████████████████████▌                                         | 370/490 [02:15<00:49,  2.41it/s]"
     ]
    },
    {
     "name": "stdout",
     "output_type": "stream",
     "text": [
      "\"['cashandcashequivalentsatcarryingvalue'] not in index\"\n"
     ]
    },
    {
     "name": "stderr",
     "output_type": "stream",
     "text": [
      " 76%|████████████████████████████████████████████████████████████████████████████████████████████████████████████████████████████████▎                                        | 372/490 [02:16<00:58,  2.02it/s]"
     ]
    },
    {
     "name": "stdout",
     "output_type": "stream",
     "text": [
      "'commonstockdividendspersharecashpaid'\n"
     ]
    },
    {
     "name": "stderr",
     "output_type": "stream",
     "text": [
      "\r",
      " 76%|████████████████████████████████████████████████████████████████████████████████████████████████████████████████████████████████▋                                        | 373/490 [02:17<00:57,  2.03it/s]"
     ]
    },
    {
     "name": "stdout",
     "output_type": "stream",
     "text": [
      "\"['propertyplantandequipmentnet'] not in index\"\n"
     ]
    },
    {
     "name": "stderr",
     "output_type": "stream",
     "text": [
      "\r",
      " 76%|████████████████████████████████████████████████████████████████████████████████████████████████████████████████████████████████▉                                        | 374/490 [02:17<00:52,  2.21it/s]"
     ]
    },
    {
     "name": "stdout",
     "output_type": "stream",
     "text": [
      "'commonstockdividendspersharecashpaid'\n"
     ]
    },
    {
     "name": "stderr",
     "output_type": "stream",
     "text": [
      "\r",
      " 77%|█████████████████████████████████████████████████████████████████████████████████████████████████████████████████████████████████▎                                       | 375/490 [02:17<00:46,  2.45it/s]"
     ]
    },
    {
     "name": "stdout",
     "output_type": "stream",
     "text": [
      "\"['propertyplantandequipmentnet'] not in index\"\n"
     ]
    },
    {
     "name": "stderr",
     "output_type": "stream",
     "text": [
      "\r",
      " 77%|█████████████████████████████████████████████████████████████████████████████████████████████████████████████████████████████████▋                                       | 376/490 [02:18<00:40,  2.80it/s]"
     ]
    },
    {
     "name": "stdout",
     "output_type": "stream",
     "text": [
      "'commonstockdividendspersharecashpaid'\n"
     ]
    },
    {
     "name": "stderr",
     "output_type": "stream",
     "text": [
      " 77%|██████████████████████████████████████████████████████████████████████████████████████████████████████████████████████████████████▎                                      | 378/490 [02:18<00:34,  3.27it/s]"
     ]
    },
    {
     "name": "stdout",
     "output_type": "stream",
     "text": [
      "'commonstockdividendspersharecashpaid'\n"
     ]
    },
    {
     "name": "stderr",
     "output_type": "stream",
     "text": [
      "\r",
      " 77%|██████████████████████████████████████████████████████████████████████████████████████████████████████████████████████████████████▋                                      | 379/490 [02:19<00:41,  2.70it/s]"
     ]
    },
    {
     "name": "stdout",
     "output_type": "stream",
     "text": [
      "'commonstockdividendspersharecashpaid'\n"
     ]
    },
    {
     "name": "stderr",
     "output_type": "stream",
     "text": [
      "\r",
      " 78%|███████████████████████████████████████████████████████████████████████████████████████████████████████████████████████████████████                                      | 380/490 [02:19<00:40,  2.70it/s]"
     ]
    },
    {
     "name": "stdout",
     "output_type": "stream",
     "text": [
      "'commonstockdividendspersharecashpaid'\n"
     ]
    },
    {
     "name": "stderr",
     "output_type": "stream",
     "text": [
      "\r",
      " 78%|███████████████████████████████████████████████████████████████████████████████████████████████████████████████████████████████████▍                                     | 381/490 [02:19<00:39,  2.77it/s]"
     ]
    },
    {
     "name": "stdout",
     "output_type": "stream",
     "text": [
      "'commonstockdividendspersharecashpaid'\n"
     ]
    },
    {
     "name": "stderr",
     "output_type": "stream",
     "text": [
      "\r",
      " 78%|███████████████████████████████████████████████████████████████████████████████████████████████████████████████████████████████████▊                                     | 382/490 [02:20<00:37,  2.86it/s]"
     ]
    },
    {
     "name": "stdout",
     "output_type": "stream",
     "text": [
      "'commonstockdividendspersharecashpaid'\n"
     ]
    },
    {
     "name": "stderr",
     "output_type": "stream",
     "text": [
      " 79%|████████████████████████████████████████████████████████████████████████████████████████████████████████████████████████████████████▊                                    | 385/490 [02:21<00:43,  2.39it/s]"
     ]
    },
    {
     "name": "stdout",
     "output_type": "stream",
     "text": [
      "\"['retainedearningsaccumulateddeficit', 'propertyplantandequipmentnet'] not in index\"\n"
     ]
    },
    {
     "name": "stderr",
     "output_type": "stream",
     "text": [
      "\r",
      " 79%|█████████████████████████████████████████████████████████████████████████████████████████████████████████████████████████████████████▏                                   | 386/490 [02:21<00:42,  2.47it/s]"
     ]
    },
    {
     "name": "stdout",
     "output_type": "stream",
     "text": [
      "'commonstockdividendspersharecashpaid'\n"
     ]
    },
    {
     "name": "stderr",
     "output_type": "stream",
     "text": [
      "\r",
      " 79%|█████████████████████████████████████████████████████████████████████████████████████████████████████████████████████████████████████▍                                   | 387/490 [02:22<00:37,  2.75it/s]"
     ]
    },
    {
     "name": "stdout",
     "output_type": "stream",
     "text": [
      "'commonstockdividendspersharecashpaid'\n"
     ]
    },
    {
     "name": "stderr",
     "output_type": "stream",
     "text": [
      "\r",
      " 79%|█████████████████████████████████████████████████████████████████████████████████████████████████████████████████████████████████████▊                                   | 388/490 [02:22<00:46,  2.19it/s]"
     ]
    },
    {
     "name": "stdout",
     "output_type": "stream",
     "text": [
      "'commonstockdividendspersharecashpaid'\n"
     ]
    },
    {
     "name": "stderr",
     "output_type": "stream",
     "text": [
      "\r",
      " 79%|██████████████████████████████████████████████████████████████████████████████████████████████████████████████████████████████████████▏                                  | 389/490 [02:23<00:44,  2.26it/s]"
     ]
    },
    {
     "name": "stdout",
     "output_type": "stream",
     "text": [
      "'commonstockdividendspersharecashpaid'\n"
     ]
    },
    {
     "name": "stderr",
     "output_type": "stream",
     "text": [
      " 80%|███████████████████████████████████████████████████████████████████████████████████████████████████████████████████████████████████████▏                                 | 392/490 [02:24<00:31,  3.16it/s]"
     ]
    },
    {
     "name": "stdout",
     "output_type": "stream",
     "text": [
      "'commonstockdividendspersharecashpaid'\n"
     ]
    },
    {
     "name": "stderr",
     "output_type": "stream",
     "text": [
      " 81%|████████████████████████████████████████████████████████████████████████████████████████████████████████████████████████████████████████▏                                | 395/490 [02:24<00:25,  3.78it/s]"
     ]
    },
    {
     "name": "stdout",
     "output_type": "stream",
     "text": [
      "'commonstockdividendspersharecashpaid'\n",
      "'commonstockdividendspersharecashpaid'\n"
     ]
    },
    {
     "name": "stderr",
     "output_type": "stream",
     "text": [
      " 81%|█████████████████████████████████████████████████████████████████████████████████████████████████████████████████████████████████████████▎                               | 398/490 [02:25<00:29,  3.10it/s]"
     ]
    },
    {
     "name": "stdout",
     "output_type": "stream",
     "text": [
      "'commonstockdividendspersharecashpaid'\n"
     ]
    },
    {
     "name": "stderr",
     "output_type": "stream",
     "text": [
      "\r",
      " 81%|█████████████████████████████████████████████████████████████████████████████████████████████████████████████████████████████████████████▌                               | 399/490 [02:26<00:30,  2.98it/s]"
     ]
    },
    {
     "name": "stdout",
     "output_type": "stream",
     "text": [
      "'commonstockdividendspersharecashpaid'\n"
     ]
    },
    {
     "name": "stderr",
     "output_type": "stream",
     "text": [
      "\r",
      " 82%|█████████████████████████████████████████████████████████████████████████████████████████████████████████████████████████████████████████▉                               | 400/490 [02:26<00:29,  3.06it/s]"
     ]
    },
    {
     "name": "stdout",
     "output_type": "stream",
     "text": [
      "'commonstockdividendspersharecashpaid'\n"
     ]
    },
    {
     "name": "stderr",
     "output_type": "stream",
     "text": [
      "\r",
      " 82%|██████████████████████████████████████████████████████████████████████████████████████████████████████████████████████████████████████████▎                              | 401/490 [02:26<00:30,  2.96it/s]"
     ]
    },
    {
     "name": "stdout",
     "output_type": "stream",
     "text": [
      "'commonstockdividendspersharecashpaid'\n"
     ]
    },
    {
     "name": "stderr",
     "output_type": "stream",
     "text": [
      " 82%|██████████████████████████████████████████████████████████████████████████████████████████████████████████████████████████████████████████▉                              | 403/490 [02:28<00:56,  1.55it/s]"
     ]
    },
    {
     "name": "stdout",
     "output_type": "stream",
     "text": [
      "'commonstockdividendspersharecashpaid'\n"
     ]
    },
    {
     "name": "stderr",
     "output_type": "stream",
     "text": [
      "\r",
      " 82%|███████████████████████████████████████████████████████████████████████████████████████████████████████████████████████████████████████████▎                             | 404/490 [02:28<00:45,  1.89it/s]"
     ]
    },
    {
     "name": "stdout",
     "output_type": "stream",
     "text": [
      "'commonstockdividendspersharecashpaid'\n"
     ]
    },
    {
     "name": "stderr",
     "output_type": "stream",
     "text": [
      " 83%|████████████████████████████████████████████████████████████████████████████████████████████████████████████████████████████████████████████                             | 406/490 [02:29<00:35,  2.39it/s]"
     ]
    },
    {
     "name": "stdout",
     "output_type": "stream",
     "text": [
      "\"['propertyplantandequipmentnet', 'entitycommonstocksharesoutstanding'] not in index\"\n"
     ]
    },
    {
     "name": "stderr",
     "output_type": "stream",
     "text": [
      "\r",
      " 83%|████████████████████████████████████████████████████████████████████████████████████████████████████████████████████████████████████████████▎                            | 407/490 [02:29<00:30,  2.73it/s]"
     ]
    },
    {
     "name": "stdout",
     "output_type": "stream",
     "text": [
      "'commonstockdividendspersharecashpaid'\n"
     ]
    },
    {
     "name": "stderr",
     "output_type": "stream",
     "text": [
      "\r",
      " 83%|████████████████████████████████████████████████████████████████████████████████████████████████████████████████████████████████████████████▋                            | 408/490 [02:30<00:28,  2.89it/s]"
     ]
    },
    {
     "name": "stdout",
     "output_type": "stream",
     "text": [
      "'commonstockdividendspersharecashpaid'\n"
     ]
    },
    {
     "name": "stderr",
     "output_type": "stream",
     "text": [
      " 84%|█████████████████████████████████████████████████████████████████████████████████████████████████████████████████████████████████████████████▍                           | 410/490 [02:30<00:25,  3.12it/s]"
     ]
    },
    {
     "name": "stdout",
     "output_type": "stream",
     "text": [
      "'commonstockdividendspersharecashpaid'\n"
     ]
    },
    {
     "name": "stderr",
     "output_type": "stream",
     "text": [
      " 84%|██████████████████████████████████████████████████████████████████████████████████████████████████████████████████████████████████████████████▍                          | 413/490 [02:32<00:38,  2.01it/s]"
     ]
    },
    {
     "name": "stdout",
     "output_type": "stream",
     "text": [
      "'commonstockdividendspersharecashpaid'\n"
     ]
    },
    {
     "name": "stderr",
     "output_type": "stream",
     "text": [
      " 85%|███████████████████████████████████████████████████████████████████████████████████████████████████████████████████████████████████████████████▏                         | 415/490 [02:33<00:36,  2.08it/s]"
     ]
    },
    {
     "name": "stdout",
     "output_type": "stream",
     "text": [
      "'commonstockdividendspersharecashpaid'\n"
     ]
    },
    {
     "name": "stderr",
     "output_type": "stream",
     "text": [
      " 85%|████████████████████████████████████████████████████████████████████████████████████████████████████████████████████████████████████████████████▏                        | 418/490 [02:34<00:21,  3.29it/s]"
     ]
    },
    {
     "name": "stdout",
     "output_type": "stream",
     "text": [
      "'commonstockdividendspersharecashpaid'\n",
      "'commonstockdividendspersharecashpaid'\n"
     ]
    },
    {
     "name": "stderr",
     "output_type": "stream",
     "text": [
      "\r",
      " 86%|████████████████████████████████████████████████████████████████████████████████████████████████████████████████████████████████████████████████▌                        | 419/490 [02:34<00:22,  3.13it/s]"
     ]
    },
    {
     "name": "stdout",
     "output_type": "stream",
     "text": [
      "'commonstockdividendspersharecashpaid'\n"
     ]
    },
    {
     "name": "stderr",
     "output_type": "stream",
     "text": [
      "\r",
      " 86%|████████████████████████████████████████████████████████████████████████████████████████████████████████████████████████████████████████████████▊                        | 420/490 [02:34<00:21,  3.32it/s]"
     ]
    },
    {
     "name": "stdout",
     "output_type": "stream",
     "text": [
      "'commonstockdividendspersharecashpaid'\n"
     ]
    },
    {
     "name": "stderr",
     "output_type": "stream",
     "text": [
      "\r",
      " 86%|█████████████████████████████████████████████████████████████████████████████████████████████████████████████████████████████████████████████████▏                       | 421/490 [02:35<00:22,  3.04it/s]"
     ]
    },
    {
     "name": "stdout",
     "output_type": "stream",
     "text": [
      "'commonstockdividendspersharecashpaid'\n"
     ]
    },
    {
     "name": "stderr",
     "output_type": "stream",
     "text": [
      "\r",
      " 86%|█████████████████████████████████████████████████████████████████████████████████████████████████████████████████████████████████████████████████▌                       | 422/490 [02:35<00:20,  3.35it/s]"
     ]
    },
    {
     "name": "stdout",
     "output_type": "stream",
     "text": [
      "'commonstockdividendspersharecashpaid'\n"
     ]
    },
    {
     "name": "stderr",
     "output_type": "stream",
     "text": [
      "\r",
      " 86%|█████████████████████████████████████████████████████████████████████████████████████████████████████████████████████████████████████████████████▉                       | 423/490 [02:35<00:20,  3.34it/s]"
     ]
    },
    {
     "name": "stdout",
     "output_type": "stream",
     "text": [
      "'commonstockdividendspersharecashpaid'\n"
     ]
    },
    {
     "name": "stderr",
     "output_type": "stream",
     "text": [
      "\r",
      " 87%|██████████████████████████████████████████████████████████████████████████████████████████████████████████████████████████████████████████████████▏                      | 424/490 [02:36<00:19,  3.33it/s]"
     ]
    },
    {
     "name": "stdout",
     "output_type": "stream",
     "text": [
      "'commonstockdividendspersharecashpaid'\n"
     ]
    },
    {
     "name": "stderr",
     "output_type": "stream",
     "text": [
      "\r",
      " 87%|██████████████████████████████████████████████████████████████████████████████████████████████████████████████████████████████████████████████████▌                      | 425/490 [02:36<00:19,  3.25it/s]"
     ]
    },
    {
     "name": "stdout",
     "output_type": "stream",
     "text": [
      "'commonstockdividendspersharecashpaid'\n"
     ]
    },
    {
     "name": "stderr",
     "output_type": "stream",
     "text": [
      " 87%|███████████████████████████████████████████████████████████████████████████████████████████████████████████████████████████████████████████████████▎                     | 427/490 [02:36<00:19,  3.24it/s]"
     ]
    },
    {
     "name": "stdout",
     "output_type": "stream",
     "text": [
      "'commonstockdividendspersharecashpaid'\n"
     ]
    },
    {
     "name": "stderr",
     "output_type": "stream",
     "text": [
      "\r",
      " 87%|███████████████████████████████████████████████████████████████████████████████████████████████████████████████████████████████████████████████████▌                     | 428/490 [02:37<00:20,  3.09it/s]"
     ]
    },
    {
     "name": "stdout",
     "output_type": "stream",
     "text": [
      "'commonstockdividendspersharecashpaid'\n"
     ]
    },
    {
     "name": "stderr",
     "output_type": "stream",
     "text": [
      " 88%|████████████████████████████████████████████████████████████████████████████████████████████████████████████████████████████████████████████████████▎                    | 430/490 [02:38<00:21,  2.78it/s]"
     ]
    },
    {
     "name": "stdout",
     "output_type": "stream",
     "text": [
      "'commonstockdividendspersharecashpaid'\n"
     ]
    },
    {
     "name": "stderr",
     "output_type": "stream",
     "text": [
      " 88%|█████████████████████████████████████████████████████████████████████████████████████████████████████████████████████████████████████████████████████▎                   | 433/490 [02:39<00:18,  3.02it/s]"
     ]
    },
    {
     "name": "stdout",
     "output_type": "stream",
     "text": [
      "'commonstockdividendspersharecashpaid'\n"
     ]
    },
    {
     "name": "stderr",
     "output_type": "stream",
     "text": [
      "\r",
      " 89%|█████████████████████████████████████████████████████████████████████████████████████████████████████████████████████████████████████████████████████▋                   | 434/490 [02:39<00:17,  3.19it/s]"
     ]
    },
    {
     "name": "stdout",
     "output_type": "stream",
     "text": [
      "'commonstockdividendspersharecashpaid'\n"
     ]
    },
    {
     "name": "stderr",
     "output_type": "stream",
     "text": [
      "\r",
      " 89%|██████████████████████████████████████████████████████████████████████████████████████████████████████████████████████████████████████████████████████                   | 435/490 [02:39<00:15,  3.49it/s]"
     ]
    },
    {
     "name": "stdout",
     "output_type": "stream",
     "text": [
      "'commonstockdividendspersharecashpaid'\n"
     ]
    },
    {
     "name": "stderr",
     "output_type": "stream",
     "text": [
      " 89%|███████████████████████████████████████████████████████████████████████████████████████████████████████████████████████████████████████████████████████                  | 438/490 [02:40<00:16,  3.21it/s]"
     ]
    },
    {
     "name": "stdout",
     "output_type": "stream",
     "text": [
      "'commonstockdividendspersharecashpaid'\n"
     ]
    },
    {
     "name": "stderr",
     "output_type": "stream",
     "text": [
      "\r",
      " 90%|███████████████████████████████████████████████████████████████████████████████████████████████████████████████████████████████████████████████████████▍                 | 439/490 [02:40<00:15,  3.26it/s]"
     ]
    },
    {
     "name": "stdout",
     "output_type": "stream",
     "text": [
      "'commonstockdividendspersharecashpaid'\n"
     ]
    },
    {
     "name": "stderr",
     "output_type": "stream",
     "text": [
      "\r",
      " 90%|███████████████████████████████████████████████████████████████████████████████████████████████████████████████████████████████████████████████████████▊                 | 440/490 [02:41<00:17,  2.80it/s]"
     ]
    },
    {
     "name": "stdout",
     "output_type": "stream",
     "text": [
      "'commonstockdividendspersharecashpaid'\n"
     ]
    },
    {
     "name": "stderr",
     "output_type": "stream",
     "text": [
      "\r",
      " 90%|████████████████████████████████████████████████████████████████████████████████████████████████████████████████████████████████████████████████████████                 | 441/490 [02:41<00:15,  3.15it/s]"
     ]
    },
    {
     "name": "stdout",
     "output_type": "stream",
     "text": [
      "'commonstockdividendspersharecashpaid'\n"
     ]
    },
    {
     "name": "stderr",
     "output_type": "stream",
     "text": [
      "\r",
      " 90%|████████████████████████████████████████████████████████████████████████████████████████████████████████████████████████████████████████████████████████▍                | 442/490 [02:41<00:14,  3.38it/s]"
     ]
    },
    {
     "name": "stdout",
     "output_type": "stream",
     "text": [
      "'commonstockdividendspersharecashpaid'\n"
     ]
    },
    {
     "name": "stderr",
     "output_type": "stream",
     "text": [
      "\r",
      " 90%|████████████████████████████████████████████████████████████████████████████████████████████████████████████████████████████████████████████████████████▊                | 443/490 [02:41<00:13,  3.52it/s]"
     ]
    },
    {
     "name": "stdout",
     "output_type": "stream",
     "text": [
      "'commonstockdividendspersharecashpaid'\n"
     ]
    },
    {
     "name": "stderr",
     "output_type": "stream",
     "text": [
      "\r",
      " 91%|█████████████████████████████████████████████████████████████████████████████████████████████████████████████████████████████████████████████████████████▏               | 444/490 [02:42<00:22,  2.06it/s]"
     ]
    },
    {
     "name": "stdout",
     "output_type": "stream",
     "text": [
      "'commonstockdividendspersharecashpaid'\n"
     ]
    },
    {
     "name": "stderr",
     "output_type": "stream",
     "text": [
      " 91%|█████████████████████████████████████████████████████████████████████████████████████████████████████████████████████████████████████████████████████████▊               | 446/490 [02:43<00:16,  2.63it/s]"
     ]
    },
    {
     "name": "stdout",
     "output_type": "stream",
     "text": [
      "\"['retainedearningsaccumulateddeficit', 'propertyplantandequipmentnet'] not in index\"\n",
      "'commonstockdividendspersharecashpaid'\n"
     ]
    },
    {
     "name": "stderr",
     "output_type": "stream",
     "text": [
      "\r",
      " 91%|██████████████████████████████████████████████████████████████████████████████████████████████████████████████████████████████████████████████████████████▏              | 447/490 [02:43<00:14,  2.99it/s]"
     ]
    },
    {
     "name": "stdout",
     "output_type": "stream",
     "text": [
      "'commonstockdividendspersharecashpaid'\n"
     ]
    },
    {
     "name": "stderr",
     "output_type": "stream",
     "text": [
      " 92%|██████████████████████████████████████████████████████████████████████████████████████████████████████████████████████████████████████████████████████████▊              | 449/490 [02:44<00:13,  2.94it/s]"
     ]
    },
    {
     "name": "stdout",
     "output_type": "stream",
     "text": [
      "'commonstockdividendspersharecashpaid'\n"
     ]
    },
    {
     "name": "stderr",
     "output_type": "stream",
     "text": [
      "\r",
      " 92%|███████████████████████████████████████████████████████████████████████████████████████████████████████████████████████████████████████████████████████████▏             | 450/490 [02:44<00:13,  3.00it/s]"
     ]
    },
    {
     "name": "stdout",
     "output_type": "stream",
     "text": [
      "\"['entitycommonstocksharesoutstanding'] not in index\"\n"
     ]
    },
    {
     "name": "stderr",
     "output_type": "stream",
     "text": [
      "\r",
      " 92%|███████████████████████████████████████████████████████████████████████████████████████████████████████████████████████████████████████████████████████████▌             | 451/490 [02:45<00:12,  3.20it/s]"
     ]
    },
    {
     "name": "stdout",
     "output_type": "stream",
     "text": [
      "'commonstockdividendspersharecashpaid'\n"
     ]
    },
    {
     "name": "stderr",
     "output_type": "stream",
     "text": [
      " 92%|████████████████████████████████████████████████████████████████████████████████████████████████████████████████████████████████████████████████████████████▏            | 453/490 [02:45<00:11,  3.18it/s]"
     ]
    },
    {
     "name": "stdout",
     "output_type": "stream",
     "text": [
      "\"['entitycommonstocksharesoutstanding'] not in index\"\n"
     ]
    },
    {
     "name": "stderr",
     "output_type": "stream",
     "text": [
      " 93%|████████████████████████████████████████████████████████████████████████████████████████████████████████████████████████████████████████████████████████████▉            | 455/490 [02:46<00:12,  2.91it/s]"
     ]
    },
    {
     "name": "stdout",
     "output_type": "stream",
     "text": [
      "\"['propertyplantandequipmentnet'] not in index\"\n"
     ]
    },
    {
     "name": "stderr",
     "output_type": "stream",
     "text": [
      "\r",
      " 93%|█████████████████████████████████████████████████████████████████████████████████████████████████████████████████████████████████████████████████████████████▎           | 456/490 [02:46<00:11,  3.00it/s]"
     ]
    },
    {
     "name": "stdout",
     "output_type": "stream",
     "text": [
      "'commonstockdividendspersharecashpaid'\n"
     ]
    },
    {
     "name": "stderr",
     "output_type": "stream",
     "text": [
      "\r",
      " 93%|█████████████████████████████████████████████████████████████████████████████████████████████████████████████████████████████████████████████████████████████▌           | 457/490 [02:47<00:12,  2.58it/s]"
     ]
    },
    {
     "name": "stdout",
     "output_type": "stream",
     "text": [
      "'commonstockdividendspersharecashpaid'\n"
     ]
    },
    {
     "name": "stderr",
     "output_type": "stream",
     "text": [
      "\r",
      " 93%|█████████████████████████████████████████████████████████████████████████████████████████████████████████████████████████████████████████████████████████████▉           | 458/490 [02:47<00:11,  2.67it/s]"
     ]
    },
    {
     "name": "stdout",
     "output_type": "stream",
     "text": [
      "'commonstockdividendspersharecashpaid'\n"
     ]
    },
    {
     "name": "stderr",
     "output_type": "stream",
     "text": [
      "\r",
      " 94%|██████████████████████████████████████████████████████████████████████████████████████████████████████████████████████████████████████████████████████████████▎          | 459/490 [02:47<00:11,  2.72it/s]"
     ]
    },
    {
     "name": "stdout",
     "output_type": "stream",
     "text": [
      "'commonstockdividendspersharecashpaid'\n"
     ]
    },
    {
     "name": "stderr",
     "output_type": "stream",
     "text": [
      " 94%|███████████████████████████████████████████████████████████████████████████████████████████████████████████████████████████████████████████████████████████████▋         | 463/490 [02:49<00:08,  3.22it/s]"
     ]
    },
    {
     "name": "stdout",
     "output_type": "stream",
     "text": [
      "\"['earningspersharebasic', 'earningspersharediluted', 'entitycommonstocksharesoutstanding', 'weightedaveragenumberofdilutedsharesoutstanding', 'weightedaveragenumberofsharesoutstandingbasic', 'stockholdersequity'] not in index\"\n"
     ]
    },
    {
     "name": "stderr",
     "output_type": "stream",
     "text": [
      "\r",
      " 95%|████████████████████████████████████████████████████████████████████████████████████████████████████████████████████████████████████████████████████████████████         | 464/490 [02:49<00:09,  2.85it/s]"
     ]
    },
    {
     "name": "stdout",
     "output_type": "stream",
     "text": [
      "\"['propertyplantandequipmentnet'] not in index\"\n"
     ]
    },
    {
     "name": "stderr",
     "output_type": "stream",
     "text": [
      " 95%|█████████████████████████████████████████████████████████████████████████████████████████████████████████████████████████████████████████████████████████████████        | 467/490 [02:50<00:07,  2.98it/s]"
     ]
    },
    {
     "name": "stdout",
     "output_type": "stream",
     "text": [
      "'commonstockdividendspersharecashpaid'\n"
     ]
    },
    {
     "name": "stderr",
     "output_type": "stream",
     "text": [
      " 96%|█████████████████████████████████████████████████████████████████████████████████████████████████████████████████████████████████████████████████████████████████▊       | 469/490 [02:51<00:07,  2.68it/s]"
     ]
    },
    {
     "name": "stdout",
     "output_type": "stream",
     "text": [
      "'commonstockdividendspersharecashpaid'\n"
     ]
    },
    {
     "name": "stderr",
     "output_type": "stream",
     "text": [
      " 96%|██████████████████████████████████████████████████████████████████████████████████████████████████████████████████████████████████████████████████████████████████▍      | 471/490 [02:52<00:07,  2.69it/s]"
     ]
    },
    {
     "name": "stdout",
     "output_type": "stream",
     "text": [
      "'commonstockdividendspersharecashpaid'\n"
     ]
    },
    {
     "name": "stderr",
     "output_type": "stream",
     "text": [
      "\r",
      " 96%|██████████████████████████████████████████████████████████████████████████████████████████████████████████████████████████████████████████████████████████████████▊      | 472/490 [02:52<00:06,  2.65it/s]"
     ]
    },
    {
     "name": "stdout",
     "output_type": "stream",
     "text": [
      "'commonstockdividendspersharecashpaid'\n"
     ]
    },
    {
     "name": "stderr",
     "output_type": "stream",
     "text": [
      "\r",
      " 97%|███████████████████████████████████████████████████████████████████████████████████████████████████████████████████████████████████████████████████████████████████▏     | 473/490 [02:53<00:08,  1.94it/s]"
     ]
    },
    {
     "name": "stdout",
     "output_type": "stream",
     "text": [
      "'commonstockdividendspersharecashpaid'\n"
     ]
    },
    {
     "name": "stderr",
     "output_type": "stream",
     "text": [
      "\r",
      " 97%|███████████████████████████████████████████████████████████████████████████████████████████████████████████████████████████████████████████████████████████████████▍     | 474/490 [02:53<00:07,  2.02it/s]"
     ]
    },
    {
     "name": "stdout",
     "output_type": "stream",
     "text": [
      "\"['propertyplantandequipmentnet'] not in index\"\n"
     ]
    },
    {
     "name": "stderr",
     "output_type": "stream",
     "text": [
      "\r",
      " 97%|███████████████████████████████████████████████████████████████████████████████████████████████████████████████████████████████████████████████████████████████████▊     | 475/490 [02:54<00:06,  2.23it/s]"
     ]
    },
    {
     "name": "stdout",
     "output_type": "stream",
     "text": [
      "'commonstockdividendspersharecashpaid'\n"
     ]
    },
    {
     "name": "stderr",
     "output_type": "stream",
     "text": [
      "\r",
      " 97%|████████████████████████████████████████████████████████████████████████████████████████████████████████████████████████████████████████████████████████████████████▏    | 476/490 [02:54<00:06,  2.31it/s]"
     ]
    },
    {
     "name": "stdout",
     "output_type": "stream",
     "text": [
      "'commonstockdividendspersharecashpaid'\n"
     ]
    },
    {
     "name": "stderr",
     "output_type": "stream",
     "text": [
      " 98%|█████████████████████████████████████████████████████████████████████████████████████████████████████████████████████████████████████████████████████████████████████▌   | 480/490 [02:55<00:03,  2.77it/s]"
     ]
    },
    {
     "name": "stdout",
     "output_type": "stream",
     "text": [
      "'commonstockdividendspersharecashpaid'\n"
     ]
    },
    {
     "name": "stderr",
     "output_type": "stream",
     "text": [
      " 99%|██████████████████████████████████████████████████████████████████████████████████████████████████████████████████████████████████████████████████████████████████████▉  | 484/490 [02:57<00:02,  2.78it/s]"
     ]
    },
    {
     "name": "stdout",
     "output_type": "stream",
     "text": [
      "'commonstockdividendspersharecashpaid'\n"
     ]
    },
    {
     "name": "stderr",
     "output_type": "stream",
     "text": [
      " 99%|███████████████████████████████████████████████████████████████████████████████████████████████████████████████████████████████████████████████████████████████████████▌ | 486/490 [02:58<00:01,  2.78it/s]"
     ]
    },
    {
     "name": "stdout",
     "output_type": "stream",
     "text": [
      "'commonstockdividendspersharecashpaid'\n"
     ]
    },
    {
     "name": "stderr",
     "output_type": "stream",
     "text": [
      "\r",
      " 99%|███████████████████████████████████████████████████████████████████████████████████████████████████████████████████████████████████████████████████████████████████████▉ | 487/490 [02:58<00:01,  2.76it/s]"
     ]
    },
    {
     "name": "stdout",
     "output_type": "stream",
     "text": [
      "'commonstockdividendspersharecashpaid'\n"
     ]
    },
    {
     "name": "stderr",
     "output_type": "stream",
     "text": [
      "\r",
      "100%|████████████████████████████████████████████████████████████████████████████████████████████████████████████████████████████████████████████████████████████████████████▎| 488/490 [02:58<00:00,  2.80it/s]"
     ]
    },
    {
     "name": "stdout",
     "output_type": "stream",
     "text": [
      "'commonstockdividendspersharecashpaid'\n"
     ]
    },
    {
     "name": "stderr",
     "output_type": "stream",
     "text": [
      "\r",
      "100%|████████████████████████████████████████████████████████████████████████████████████████████████████████████████████████████████████████████████████████████████████████▋| 489/490 [02:59<00:00,  1.82it/s]"
     ]
    },
    {
     "name": "stdout",
     "output_type": "stream",
     "text": [
      "\"['cashandcashequivalentsatcarryingvalue'] not in index\"\n"
     ]
    },
    {
     "name": "stderr",
     "output_type": "stream",
     "text": [
      "100%|█████████████████████████████████████████████████████████████████████████████████████████████████████████████████████████████████████████████████████████████████████████| 490/490 [03:00<00:00,  2.72it/s]\n"
     ]
    }
   ],
   "source": [
    "market.connect()\n",
    "sec.connect()\n",
    "training_sets = []\n",
    "for ticker in tqdm(sp500[\"ticker\"].unique()):\n",
    "    try:\n",
    "        cik = int(sp500[sp500[\"ticker\"]==ticker][\"CIK\"])\n",
    "        prices = market.retrieve_ticker_prices(\"prices\",ticker)\n",
    "        prices = p.column_date_processing(prices)\n",
    "        prices[\"year\"] = [x.year for x in prices[\"date\"]]\n",
    "        prices[\"quarter\"] = [x.quarter for x in prices[\"date\"]]\n",
    "        filing = sec.retrieve_filing_data(cik)\n",
    "        filing = p.column_date_processing(filing)\n",
    "        filing = filing.groupby([\"year\",\"quarter\"]).mean().reset_index()\n",
    "        ticker_data = prices.copy()\n",
    "        ticker_data.sort_values(\"date\",ascending=True,inplace=True)\n",
    "        ticker_data[\"adjclose\"] = [float(x) for x in ticker_data[\"adjclose\"]]\n",
    "        ticker_data = ticker_data.groupby([\"year\",\"quarter\"]).mean().reset_index()\n",
    "        ticker_data.dropna(inplace=True)\n",
    "        ticker_data[\"ticker\"] = ticker\n",
    "        ticker_data = ticker_data.merge(filing,on=[\"year\",\"quarter\"],how=\"left\").reset_index()\n",
    "        ticker_data[\"y\"] = ticker_data[\"adjclose\"].shift(-4) + ticker_data[\"commonstockdividendspersharecashpaid\"]\n",
    "        ticker_data = ticker_data[included_columns]\n",
    "        training_sets.append(ticker_data)\n",
    "    except Exception as e:\n",
    "        print(str(e))\n",
    "        continue\n",
    "market.disconnect()\n",
    "sec.disconnect()"
   ]
  },
  {
   "cell_type": "code",
   "execution_count": 18,
   "id": "0ea5d66b",
   "metadata": {},
   "outputs": [],
   "source": [
    "data = pd.concat(training_sets)"
   ]
  },
  {
   "cell_type": "code",
   "execution_count": 19,
   "id": "736f208f",
   "metadata": {},
   "outputs": [],
   "source": [
    "data = data.dropna()"
   ]
  },
  {
   "cell_type": "code",
   "execution_count": 20,
   "id": "dd5ef196",
   "metadata": {},
   "outputs": [
    {
     "data": {
      "text/html": [
       "<div>\n",
       "<style scoped>\n",
       "    .dataframe tbody tr th:only-of-type {\n",
       "        vertical-align: middle;\n",
       "    }\n",
       "\n",
       "    .dataframe tbody tr th {\n",
       "        vertical-align: top;\n",
       "    }\n",
       "\n",
       "    .dataframe thead th {\n",
       "        text-align: right;\n",
       "    }\n",
       "</style>\n",
       "<table border=\"1\" class=\"dataframe\">\n",
       "  <thead>\n",
       "    <tr style=\"text-align: right;\">\n",
       "      <th></th>\n",
       "      <th>year</th>\n",
       "      <th>quarter</th>\n",
       "      <th>ticker</th>\n",
       "      <th>adjclose</th>\n",
       "      <th>y</th>\n",
       "      <th>assets</th>\n",
       "      <th>liabilitiesandstockholdersequity</th>\n",
       "      <th>incometaxexpensebenefit</th>\n",
       "      <th>retainedearningsaccumulateddeficit</th>\n",
       "      <th>accumulatedothercomprehensiveincomelossnetoftax</th>\n",
       "      <th>earningspersharebasic</th>\n",
       "      <th>earningspersharediluted</th>\n",
       "      <th>propertyplantandequipmentnet</th>\n",
       "      <th>cashandcashequivalentsatcarryingvalue</th>\n",
       "      <th>entitycommonstocksharesoutstanding</th>\n",
       "      <th>weightedaveragenumberofdilutedsharesoutstanding</th>\n",
       "      <th>weightedaveragenumberofsharesoutstandingbasic</th>\n",
       "      <th>stockholdersequity</th>\n",
       "      <th>commonstockdividendspersharecashpaid</th>\n",
       "      <th>quarter</th>\n",
       "    </tr>\n",
       "  </thead>\n",
       "  <tbody>\n",
       "    <tr>\n",
       "      <th>48</th>\n",
       "      <td>2012</td>\n",
       "      <td>1</td>\n",
       "      <td>MMM</td>\n",
       "      <td>62.705929</td>\n",
       "      <td>77.472781</td>\n",
       "      <td>2.967400e+10</td>\n",
       "      <td>3.088600e+10</td>\n",
       "      <td>1.551333e+09</td>\n",
       "      <td>2.717150e+10</td>\n",
       "      <td>-4.284000e+09</td>\n",
       "      <td>2.555455</td>\n",
       "      <td>2.519091</td>\n",
       "      <td>7.472500e+09</td>\n",
       "      <td>2.621250e+09</td>\n",
       "      <td>694543763.0</td>\n",
       "      <td>7.170667e+08</td>\n",
       "      <td>7.075667e+08</td>\n",
       "      <td>1.554150e+10</td>\n",
       "      <td>2.113333</td>\n",
       "      <td>1</td>\n",
       "    </tr>\n",
       "    <tr>\n",
       "      <th>49</th>\n",
       "      <td>2012</td>\n",
       "      <td>2</td>\n",
       "      <td>MMM</td>\n",
       "      <td>62.787037</td>\n",
       "      <td>81.307970</td>\n",
       "      <td>3.181550e+10</td>\n",
       "      <td>3.181550e+10</td>\n",
       "      <td>4.520000e+08</td>\n",
       "      <td>2.860300e+10</td>\n",
       "      <td>-4.905000e+09</td>\n",
       "      <td>1.565000</td>\n",
       "      <td>1.540000</td>\n",
       "      <td>7.710500e+09</td>\n",
       "      <td>2.504800e+09</td>\n",
       "      <td>693872048.0</td>\n",
       "      <td>7.162500e+08</td>\n",
       "      <td>7.041500e+08</td>\n",
       "      <td>1.580100e+10</td>\n",
       "      <td>0.570000</td>\n",
       "      <td>2</td>\n",
       "    </tr>\n",
       "    <tr>\n",
       "      <th>50</th>\n",
       "      <td>2012</td>\n",
       "      <td>3</td>\n",
       "      <td>MMM</td>\n",
       "      <td>66.710493</td>\n",
       "      <td>87.814722</td>\n",
       "      <td>3.247750e+10</td>\n",
       "      <td>3.247750e+10</td>\n",
       "      <td>6.990000e+08</td>\n",
       "      <td>2.890650e+10</td>\n",
       "      <td>-5.018500e+09</td>\n",
       "      <td>2.440000</td>\n",
       "      <td>2.400000</td>\n",
       "      <td>7.686000e+09</td>\n",
       "      <td>3.070000e+09</td>\n",
       "      <td>691319463.0</td>\n",
       "      <td>7.149750e+08</td>\n",
       "      <td>7.039250e+08</td>\n",
       "      <td>1.591300e+10</td>\n",
       "      <td>0.855000</td>\n",
       "      <td>3</td>\n",
       "    </tr>\n",
       "    <tr>\n",
       "      <th>51</th>\n",
       "      <td>2012</td>\n",
       "      <td>4</td>\n",
       "      <td>MMM</td>\n",
       "      <td>67.131673</td>\n",
       "      <td>96.917189</td>\n",
       "      <td>3.304750e+10</td>\n",
       "      <td>3.304750e+10</td>\n",
       "      <td>9.145000e+08</td>\n",
       "      <td>2.924900e+10</td>\n",
       "      <td>-4.786500e+09</td>\n",
       "      <td>3.217500</td>\n",
       "      <td>3.172500</td>\n",
       "      <td>7.802500e+09</td>\n",
       "      <td>3.000250e+09</td>\n",
       "      <td>691931278.0</td>\n",
       "      <td>7.113250e+08</td>\n",
       "      <td>7.015750e+08</td>\n",
       "      <td>1.653200e+10</td>\n",
       "      <td>1.140000</td>\n",
       "      <td>4</td>\n",
       "    </tr>\n",
       "    <tr>\n",
       "      <th>52</th>\n",
       "      <td>2013</td>\n",
       "      <td>1</td>\n",
       "      <td>MMM</td>\n",
       "      <td>75.359447</td>\n",
       "      <td>102.721556</td>\n",
       "      <td>3.188267e+10</td>\n",
       "      <td>3.274600e+10</td>\n",
       "      <td>1.702000e+09</td>\n",
       "      <td>2.951350e+10</td>\n",
       "      <td>-4.887500e+09</td>\n",
       "      <td>2.783636</td>\n",
       "      <td>2.743636</td>\n",
       "      <td>8.022000e+09</td>\n",
       "      <td>2.879750e+09</td>\n",
       "      <td>689990255.0</td>\n",
       "      <td>7.159333e+08</td>\n",
       "      <td>7.053667e+08</td>\n",
       "      <td>1.649750e+10</td>\n",
       "      <td>2.220000</td>\n",
       "      <td>1</td>\n",
       "    </tr>\n",
       "    <tr>\n",
       "      <th>...</th>\n",
       "      <td>...</td>\n",
       "      <td>...</td>\n",
       "      <td>...</td>\n",
       "      <td>...</td>\n",
       "      <td>...</td>\n",
       "      <td>...</td>\n",
       "      <td>...</td>\n",
       "      <td>...</td>\n",
       "      <td>...</td>\n",
       "      <td>...</td>\n",
       "      <td>...</td>\n",
       "      <td>...</td>\n",
       "      <td>...</td>\n",
       "      <td>...</td>\n",
       "      <td>...</td>\n",
       "      <td>...</td>\n",
       "      <td>...</td>\n",
       "      <td>...</td>\n",
       "      <td>...</td>\n",
       "      <td>...</td>\n",
       "    </tr>\n",
       "    <tr>\n",
       "      <th>6</th>\n",
       "      <td>2014</td>\n",
       "      <td>3</td>\n",
       "      <td>ZTS</td>\n",
       "      <td>32.217975</td>\n",
       "      <td>44.032564</td>\n",
       "      <td>6.540000e+09</td>\n",
       "      <td>6.540000e+09</td>\n",
       "      <td>9.100000e+07</td>\n",
       "      <td>4.035000e+08</td>\n",
       "      <td>-2.090000e+08</td>\n",
       "      <td>0.412500</td>\n",
       "      <td>0.412500</td>\n",
       "      <td>1.302000e+09</td>\n",
       "      <td>4.685000e+08</td>\n",
       "      <td>501193395.0</td>\n",
       "      <td>5.008145e+08</td>\n",
       "      <td>5.003945e+08</td>\n",
       "      <td>1.100000e+09</td>\n",
       "      <td>0.066750</td>\n",
       "      <td>3</td>\n",
       "    </tr>\n",
       "    <tr>\n",
       "      <th>8</th>\n",
       "      <td>2015</td>\n",
       "      <td>1</td>\n",
       "      <td>ZTS</td>\n",
       "      <td>42.616156</td>\n",
       "      <td>40.601214</td>\n",
       "      <td>6.582500e+09</td>\n",
       "      <td>6.582500e+09</td>\n",
       "      <td>1.012727e+08</td>\n",
       "      <td>4.925000e+08</td>\n",
       "      <td>-2.005000e+08</td>\n",
       "      <td>0.473636</td>\n",
       "      <td>0.473636</td>\n",
       "      <td>1.306500e+09</td>\n",
       "      <td>4.720000e+08</td>\n",
       "      <td>500787817.0</td>\n",
       "      <td>5.007807e+08</td>\n",
       "      <td>5.003523e+08</td>\n",
       "      <td>1.125500e+09</td>\n",
       "      <td>0.188667</td>\n",
       "      <td>1</td>\n",
       "    </tr>\n",
       "    <tr>\n",
       "      <th>12</th>\n",
       "      <td>2016</td>\n",
       "      <td>1</td>\n",
       "      <td>ZTS</td>\n",
       "      <td>40.412547</td>\n",
       "      <td>52.181372</td>\n",
       "      <td>7.250500e+09</td>\n",
       "      <td>7.250500e+09</td>\n",
       "      <td>9.681818e+07</td>\n",
       "      <td>7.925000e+08</td>\n",
       "      <td>-3.397500e+08</td>\n",
       "      <td>0.426364</td>\n",
       "      <td>0.426364</td>\n",
       "      <td>1.312500e+09</td>\n",
       "      <td>7.407500e+08</td>\n",
       "      <td>497155532.0</td>\n",
       "      <td>5.014537e+08</td>\n",
       "      <td>5.002547e+08</td>\n",
       "      <td>1.189500e+09</td>\n",
       "      <td>0.303333</td>\n",
       "      <td>1</td>\n",
       "    </tr>\n",
       "    <tr>\n",
       "      <th>16</th>\n",
       "      <td>2017</td>\n",
       "      <td>1</td>\n",
       "      <td>ZTS</td>\n",
       "      <td>51.878038</td>\n",
       "      <td>76.496562</td>\n",
       "      <td>7.781000e+09</td>\n",
       "      <td>7.781000e+09</td>\n",
       "      <td>1.330000e+08</td>\n",
       "      <td>1.176500e+09</td>\n",
       "      <td>-6.100000e+08</td>\n",
       "      <td>0.530000</td>\n",
       "      <td>0.529091</td>\n",
       "      <td>1.344000e+09</td>\n",
       "      <td>8.432500e+08</td>\n",
       "      <td>491964064.0</td>\n",
       "      <td>5.007563e+08</td>\n",
       "      <td>4.988257e+08</td>\n",
       "      <td>1.277500e+09</td>\n",
       "      <td>0.344333</td>\n",
       "      <td>1</td>\n",
       "    </tr>\n",
       "    <tr>\n",
       "      <th>20</th>\n",
       "      <td>2018</td>\n",
       "      <td>1</td>\n",
       "      <td>ZTS</td>\n",
       "      <td>76.152228</td>\n",
       "      <td>88.714750</td>\n",
       "      <td>8.117500e+09</td>\n",
       "      <td>8.117500e+09</td>\n",
       "      <td>2.136364e+08</td>\n",
       "      <td>1.793000e+09</td>\n",
       "      <td>-5.515000e+08</td>\n",
       "      <td>0.682727</td>\n",
       "      <td>0.680000</td>\n",
       "      <td>1.408000e+09</td>\n",
       "      <td>1.081750e+09</td>\n",
       "      <td>485253713.0</td>\n",
       "      <td>4.978017e+08</td>\n",
       "      <td>4.951133e+08</td>\n",
       "      <td>1.628500e+09</td>\n",
       "      <td>0.391667</td>\n",
       "      <td>1</td>\n",
       "    </tr>\n",
       "  </tbody>\n",
       "</table>\n",
       "<p>3226 rows × 20 columns</p>\n",
       "</div>"
      ],
      "text/plain": [
       "    year  quarter ticker   adjclose           y        assets  \\\n",
       "48  2012        1    MMM  62.705929   77.472781  2.967400e+10   \n",
       "49  2012        2    MMM  62.787037   81.307970  3.181550e+10   \n",
       "50  2012        3    MMM  66.710493   87.814722  3.247750e+10   \n",
       "51  2012        4    MMM  67.131673   96.917189  3.304750e+10   \n",
       "52  2013        1    MMM  75.359447  102.721556  3.188267e+10   \n",
       "..   ...      ...    ...        ...         ...           ...   \n",
       "6   2014        3    ZTS  32.217975   44.032564  6.540000e+09   \n",
       "8   2015        1    ZTS  42.616156   40.601214  6.582500e+09   \n",
       "12  2016        1    ZTS  40.412547   52.181372  7.250500e+09   \n",
       "16  2017        1    ZTS  51.878038   76.496562  7.781000e+09   \n",
       "20  2018        1    ZTS  76.152228   88.714750  8.117500e+09   \n",
       "\n",
       "    liabilitiesandstockholdersequity  incometaxexpensebenefit  \\\n",
       "48                      3.088600e+10             1.551333e+09   \n",
       "49                      3.181550e+10             4.520000e+08   \n",
       "50                      3.247750e+10             6.990000e+08   \n",
       "51                      3.304750e+10             9.145000e+08   \n",
       "52                      3.274600e+10             1.702000e+09   \n",
       "..                               ...                      ...   \n",
       "6                       6.540000e+09             9.100000e+07   \n",
       "8                       6.582500e+09             1.012727e+08   \n",
       "12                      7.250500e+09             9.681818e+07   \n",
       "16                      7.781000e+09             1.330000e+08   \n",
       "20                      8.117500e+09             2.136364e+08   \n",
       "\n",
       "    retainedearningsaccumulateddeficit  \\\n",
       "48                        2.717150e+10   \n",
       "49                        2.860300e+10   \n",
       "50                        2.890650e+10   \n",
       "51                        2.924900e+10   \n",
       "52                        2.951350e+10   \n",
       "..                                 ...   \n",
       "6                         4.035000e+08   \n",
       "8                         4.925000e+08   \n",
       "12                        7.925000e+08   \n",
       "16                        1.176500e+09   \n",
       "20                        1.793000e+09   \n",
       "\n",
       "    accumulatedothercomprehensiveincomelossnetoftax  earningspersharebasic  \\\n",
       "48                                    -4.284000e+09               2.555455   \n",
       "49                                    -4.905000e+09               1.565000   \n",
       "50                                    -5.018500e+09               2.440000   \n",
       "51                                    -4.786500e+09               3.217500   \n",
       "52                                    -4.887500e+09               2.783636   \n",
       "..                                              ...                    ...   \n",
       "6                                     -2.090000e+08               0.412500   \n",
       "8                                     -2.005000e+08               0.473636   \n",
       "12                                    -3.397500e+08               0.426364   \n",
       "16                                    -6.100000e+08               0.530000   \n",
       "20                                    -5.515000e+08               0.682727   \n",
       "\n",
       "    earningspersharediluted  propertyplantandequipmentnet  \\\n",
       "48                 2.519091                  7.472500e+09   \n",
       "49                 1.540000                  7.710500e+09   \n",
       "50                 2.400000                  7.686000e+09   \n",
       "51                 3.172500                  7.802500e+09   \n",
       "52                 2.743636                  8.022000e+09   \n",
       "..                      ...                           ...   \n",
       "6                  0.412500                  1.302000e+09   \n",
       "8                  0.473636                  1.306500e+09   \n",
       "12                 0.426364                  1.312500e+09   \n",
       "16                 0.529091                  1.344000e+09   \n",
       "20                 0.680000                  1.408000e+09   \n",
       "\n",
       "    cashandcashequivalentsatcarryingvalue  entitycommonstocksharesoutstanding  \\\n",
       "48                           2.621250e+09                         694543763.0   \n",
       "49                           2.504800e+09                         693872048.0   \n",
       "50                           3.070000e+09                         691319463.0   \n",
       "51                           3.000250e+09                         691931278.0   \n",
       "52                           2.879750e+09                         689990255.0   \n",
       "..                                    ...                                 ...   \n",
       "6                            4.685000e+08                         501193395.0   \n",
       "8                            4.720000e+08                         500787817.0   \n",
       "12                           7.407500e+08                         497155532.0   \n",
       "16                           8.432500e+08                         491964064.0   \n",
       "20                           1.081750e+09                         485253713.0   \n",
       "\n",
       "    weightedaveragenumberofdilutedsharesoutstanding  \\\n",
       "48                                     7.170667e+08   \n",
       "49                                     7.162500e+08   \n",
       "50                                     7.149750e+08   \n",
       "51                                     7.113250e+08   \n",
       "52                                     7.159333e+08   \n",
       "..                                              ...   \n",
       "6                                      5.008145e+08   \n",
       "8                                      5.007807e+08   \n",
       "12                                     5.014537e+08   \n",
       "16                                     5.007563e+08   \n",
       "20                                     4.978017e+08   \n",
       "\n",
       "    weightedaveragenumberofsharesoutstandingbasic  stockholdersequity  \\\n",
       "48                                   7.075667e+08        1.554150e+10   \n",
       "49                                   7.041500e+08        1.580100e+10   \n",
       "50                                   7.039250e+08        1.591300e+10   \n",
       "51                                   7.015750e+08        1.653200e+10   \n",
       "52                                   7.053667e+08        1.649750e+10   \n",
       "..                                            ...                 ...   \n",
       "6                                    5.003945e+08        1.100000e+09   \n",
       "8                                    5.003523e+08        1.125500e+09   \n",
       "12                                   5.002547e+08        1.189500e+09   \n",
       "16                                   4.988257e+08        1.277500e+09   \n",
       "20                                   4.951133e+08        1.628500e+09   \n",
       "\n",
       "    commonstockdividendspersharecashpaid  quarter  \n",
       "48                              2.113333        1  \n",
       "49                              0.570000        2  \n",
       "50                              0.855000        3  \n",
       "51                              1.140000        4  \n",
       "52                              2.220000        1  \n",
       "..                                   ...      ...  \n",
       "6                               0.066750        3  \n",
       "8                               0.188667        1  \n",
       "12                              0.303333        1  \n",
       "16                              0.344333        1  \n",
       "20                              0.391667        1  \n",
       "\n",
       "[3226 rows x 20 columns]"
      ]
     },
     "execution_count": 20,
     "metadata": {},
     "output_type": "execute_result"
    }
   ],
   "source": [
    "data"
   ]
  },
  {
   "cell_type": "code",
   "execution_count": 21,
   "id": "23ad6193",
   "metadata": {
    "scrolled": true
   },
   "outputs": [
    {
     "name": "stderr",
     "output_type": "stream",
     "text": [
      "100%|█████████████████████████████████████████████████████████████████████████████████████████████████████████████████████████████████████████████████████████████████████████████| 7/7 [00:57<00:00,  8.28s/it]\n"
     ]
    }
   ],
   "source": [
    "fin.connect()\n",
    "years = 4\n",
    "for modeler in [umod]:\n",
    "    for year in tqdm(range(2016,2023)):\n",
    "        training_slice = data[(data[\"year\"]<year) & (data[\"year\"] >= year - years)].reset_index(drop=True)\n",
    "        prediction_set = data[data[\"year\"]==year].reset_index(drop=True)\n",
    "        set_name = \"sim\"\n",
    "        stuff = modeler.model(training_slice,prediction_set,factors,tf=False)\n",
    "        stuff[\"training_years\"] = years\n",
    "        fin.store(set_name,stuff)\n",
    "fin.disconnect()"
   ]
  },
  {
   "cell_type": "code",
   "execution_count": 22,
   "id": "38befc1e",
   "metadata": {},
   "outputs": [
    {
     "data": {
      "text/html": [
       "<div>\n",
       "<style scoped>\n",
       "    .dataframe tbody tr th:only-of-type {\n",
       "        vertical-align: middle;\n",
       "    }\n",
       "\n",
       "    .dataframe tbody tr th {\n",
       "        vertical-align: top;\n",
       "    }\n",
       "\n",
       "    .dataframe thead th {\n",
       "        text-align: right;\n",
       "    }\n",
       "</style>\n",
       "<table border=\"1\" class=\"dataframe\">\n",
       "  <thead>\n",
       "    <tr style=\"text-align: right;\">\n",
       "      <th></th>\n",
       "      <th>year</th>\n",
       "      <th>quarter</th>\n",
       "      <th>ticker</th>\n",
       "      <th>adjclose</th>\n",
       "      <th>y</th>\n",
       "      <th>assets</th>\n",
       "      <th>liabilitiesandstockholdersequity</th>\n",
       "      <th>incometaxexpensebenefit</th>\n",
       "      <th>retainedearningsaccumulateddeficit</th>\n",
       "      <th>accumulatedothercomprehensiveincomelossnetoftax</th>\n",
       "      <th>...</th>\n",
       "      <th>weightedaveragenumberofsharesoutstandingbasic</th>\n",
       "      <th>stockholdersequity</th>\n",
       "      <th>commonstockdividendspersharecashpaid</th>\n",
       "      <th>quarter</th>\n",
       "      <th>xgb_prediction</th>\n",
       "      <th>xgb_score</th>\n",
       "      <th>cat_prediction</th>\n",
       "      <th>cat_score</th>\n",
       "      <th>prediction</th>\n",
       "      <th>training_years</th>\n",
       "    </tr>\n",
       "  </thead>\n",
       "  <tbody>\n",
       "    <tr>\n",
       "      <th>0</th>\n",
       "      <td>2022</td>\n",
       "      <td>1</td>\n",
       "      <td>AES</td>\n",
       "      <td>21.809554</td>\n",
       "      <td>25.338703</td>\n",
       "      <td>3.373800e+10</td>\n",
       "      <td>3.378300e+10</td>\n",
       "      <td>1.022500e+08</td>\n",
       "      <td>-6.140000e+08</td>\n",
       "      <td>-2.282000e+09</td>\n",
       "      <td>...</td>\n",
       "      <td>6.650000e+08</td>\n",
       "      <td>2.716000e+09</td>\n",
       "      <td>0.150500</td>\n",
       "      <td>1</td>\n",
       "      <td>24.525713</td>\n",
       "      <td>0.874719</td>\n",
       "      <td>16.042456</td>\n",
       "      <td>0.850922</td>\n",
       "      <td>20.284085</td>\n",
       "      <td>4</td>\n",
       "    </tr>\n",
       "    <tr>\n",
       "      <th>1</th>\n",
       "      <td>2022</td>\n",
       "      <td>1</td>\n",
       "      <td>AFL</td>\n",
       "      <td>60.868745</td>\n",
       "      <td>69.427896</td>\n",
       "      <td>1.613140e+11</td>\n",
       "      <td>1.613140e+11</td>\n",
       "      <td>5.063333e+08</td>\n",
       "      <td>3.968250e+10</td>\n",
       "      <td>6.273250e+09</td>\n",
       "      <td>...</td>\n",
       "      <td>7.099110e+08</td>\n",
       "      <td>2.980825e+10</td>\n",
       "      <td>1.173333</td>\n",
       "      <td>1</td>\n",
       "      <td>259.045563</td>\n",
       "      <td>0.874719</td>\n",
       "      <td>109.269951</td>\n",
       "      <td>0.850922</td>\n",
       "      <td>184.157757</td>\n",
       "      <td>4</td>\n",
       "    </tr>\n",
       "    <tr>\n",
       "      <th>2</th>\n",
       "      <td>2022</td>\n",
       "      <td>1</td>\n",
       "      <td>A</td>\n",
       "      <td>136.502816</td>\n",
       "      <td>146.156531</td>\n",
       "      <td>1.051600e+10</td>\n",
       "      <td>1.051600e+10</td>\n",
       "      <td>3.000000e+07</td>\n",
       "      <td>2.535000e+08</td>\n",
       "      <td>-2.900000e+08</td>\n",
       "      <td>...</td>\n",
       "      <td>3.035000e+08</td>\n",
       "      <td>5.271500e+09</td>\n",
       "      <td>0.202000</td>\n",
       "      <td>1</td>\n",
       "      <td>90.601097</td>\n",
       "      <td>0.874719</td>\n",
       "      <td>92.416470</td>\n",
       "      <td>0.850922</td>\n",
       "      <td>91.508784</td>\n",
       "      <td>4</td>\n",
       "    </tr>\n",
       "    <tr>\n",
       "      <th>3</th>\n",
       "      <td>2022</td>\n",
       "      <td>1</td>\n",
       "      <td>ALLE</td>\n",
       "      <td>116.370657</td>\n",
       "      <td>113.099574</td>\n",
       "      <td>3.029200e+09</td>\n",
       "      <td>3.060200e+09</td>\n",
       "      <td>5.490000e+07</td>\n",
       "      <td>9.691000e+08</td>\n",
       "      <td>-1.984000e+08</td>\n",
       "      <td>...</td>\n",
       "      <td>9.193333e+07</td>\n",
       "      <td>7.942500e+08</td>\n",
       "      <td>1.266667</td>\n",
       "      <td>1</td>\n",
       "      <td>137.584885</td>\n",
       "      <td>0.874719</td>\n",
       "      <td>158.354928</td>\n",
       "      <td>0.850922</td>\n",
       "      <td>147.969906</td>\n",
       "      <td>4</td>\n",
       "    </tr>\n",
       "    <tr>\n",
       "      <th>4</th>\n",
       "      <td>2022</td>\n",
       "      <td>1</td>\n",
       "      <td>LNT</td>\n",
       "      <td>57.115556</td>\n",
       "      <td>54.147285</td>\n",
       "      <td>1.246271e+10</td>\n",
       "      <td>1.175633e+10</td>\n",
       "      <td>-1.577778e+07</td>\n",
       "      <td>1.693000e+09</td>\n",
       "      <td>-5.000000e+05</td>\n",
       "      <td>...</td>\n",
       "      <td>2.457000e+08</td>\n",
       "      <td>4.085333e+09</td>\n",
       "      <td>1.516667</td>\n",
       "      <td>1</td>\n",
       "      <td>64.739983</td>\n",
       "      <td>0.874719</td>\n",
       "      <td>87.152228</td>\n",
       "      <td>0.850922</td>\n",
       "      <td>75.946105</td>\n",
       "      <td>4</td>\n",
       "    </tr>\n",
       "    <tr>\n",
       "      <th>...</th>\n",
       "      <td>...</td>\n",
       "      <td>...</td>\n",
       "      <td>...</td>\n",
       "      <td>...</td>\n",
       "      <td>...</td>\n",
       "      <td>...</td>\n",
       "      <td>...</td>\n",
       "      <td>...</td>\n",
       "      <td>...</td>\n",
       "      <td>...</td>\n",
       "      <td>...</td>\n",
       "      <td>...</td>\n",
       "      <td>...</td>\n",
       "      <td>...</td>\n",
       "      <td>...</td>\n",
       "      <td>...</td>\n",
       "      <td>...</td>\n",
       "      <td>...</td>\n",
       "      <td>...</td>\n",
       "      <td>...</td>\n",
       "      <td>...</td>\n",
       "    </tr>\n",
       "    <tr>\n",
       "      <th>65</th>\n",
       "      <td>2022</td>\n",
       "      <td>1</td>\n",
       "      <td>WRK</td>\n",
       "      <td>44.355899</td>\n",
       "      <td>33.097756</td>\n",
       "      <td>2.916840e+10</td>\n",
       "      <td>2.916840e+10</td>\n",
       "      <td>5.445000e+07</td>\n",
       "      <td>1.659550e+09</td>\n",
       "      <td>-1.111750e+09</td>\n",
       "      <td>...</td>\n",
       "      <td>2.636500e+08</td>\n",
       "      <td>1.144350e+10</td>\n",
       "      <td>0.225000</td>\n",
       "      <td>1</td>\n",
       "      <td>42.011883</td>\n",
       "      <td>0.874719</td>\n",
       "      <td>47.937329</td>\n",
       "      <td>0.850922</td>\n",
       "      <td>44.974606</td>\n",
       "      <td>4</td>\n",
       "    </tr>\n",
       "    <tr>\n",
       "      <th>66</th>\n",
       "      <td>2022</td>\n",
       "      <td>1</td>\n",
       "      <td>WY</td>\n",
       "      <td>36.948036</td>\n",
       "      <td>32.005284</td>\n",
       "      <td>1.698150e+10</td>\n",
       "      <td>1.698150e+10</td>\n",
       "      <td>2.523333e+08</td>\n",
       "      <td>1.271000e+09</td>\n",
       "      <td>-6.505000e+08</td>\n",
       "      <td>...</td>\n",
       "      <td>7.474413e+08</td>\n",
       "      <td>9.225000e+09</td>\n",
       "      <td>1.016667</td>\n",
       "      <td>1</td>\n",
       "      <td>75.686234</td>\n",
       "      <td>0.874719</td>\n",
       "      <td>95.670372</td>\n",
       "      <td>0.850922</td>\n",
       "      <td>85.678303</td>\n",
       "      <td>4</td>\n",
       "    </tr>\n",
       "    <tr>\n",
       "      <th>67</th>\n",
       "      <td>2022</td>\n",
       "      <td>1</td>\n",
       "      <td>WHR</td>\n",
       "      <td>192.755651</td>\n",
       "      <td>146.233493</td>\n",
       "      <td>1.989800e+10</td>\n",
       "      <td>2.036050e+10</td>\n",
       "      <td>4.160000e+08</td>\n",
       "      <td>9.447500e+09</td>\n",
       "      <td>-2.584000e+09</td>\n",
       "      <td>...</td>\n",
       "      <td>6.283333e+07</td>\n",
       "      <td>4.365500e+09</td>\n",
       "      <td>5.016667</td>\n",
       "      <td>1</td>\n",
       "      <td>192.423691</td>\n",
       "      <td>0.874719</td>\n",
       "      <td>175.296696</td>\n",
       "      <td>0.850922</td>\n",
       "      <td>183.860194</td>\n",
       "      <td>4</td>\n",
       "    </tr>\n",
       "    <tr>\n",
       "      <th>68</th>\n",
       "      <td>2022</td>\n",
       "      <td>1</td>\n",
       "      <td>GWW</td>\n",
       "      <td>485.266612</td>\n",
       "      <td>643.039215</td>\n",
       "      <td>6.443500e+09</td>\n",
       "      <td>6.443500e+09</td>\n",
       "      <td>2.923333e+08</td>\n",
       "      <td>9.139500e+09</td>\n",
       "      <td>-7.850000e+07</td>\n",
       "      <td>...</td>\n",
       "      <td>5.336667e+07</td>\n",
       "      <td>1.851000e+09</td>\n",
       "      <td>6.003333</td>\n",
       "      <td>1</td>\n",
       "      <td>468.661377</td>\n",
       "      <td>0.874719</td>\n",
       "      <td>464.945793</td>\n",
       "      <td>0.850922</td>\n",
       "      <td>466.803585</td>\n",
       "      <td>4</td>\n",
       "    </tr>\n",
       "    <tr>\n",
       "      <th>69</th>\n",
       "      <td>2022</td>\n",
       "      <td>1</td>\n",
       "      <td>WYNN</td>\n",
       "      <td>84.264677</td>\n",
       "      <td>106.007392</td>\n",
       "      <td>8.093191e+09</td>\n",
       "      <td>1.320019e+10</td>\n",
       "      <td>2.473283e+08</td>\n",
       "      <td>-1.910249e+09</td>\n",
       "      <td>4.804000e+06</td>\n",
       "      <td>...</td>\n",
       "      <td>1.090833e+08</td>\n",
       "      <td>-2.832075e+08</td>\n",
       "      <td>1.416667</td>\n",
       "      <td>1</td>\n",
       "      <td>72.696800</td>\n",
       "      <td>0.874719</td>\n",
       "      <td>71.166000</td>\n",
       "      <td>0.850922</td>\n",
       "      <td>71.931400</td>\n",
       "      <td>4</td>\n",
       "    </tr>\n",
       "  </tbody>\n",
       "</table>\n",
       "<p>70 rows × 26 columns</p>\n",
       "</div>"
      ],
      "text/plain": [
       "    year  quarter ticker    adjclose           y        assets  \\\n",
       "0   2022        1    AES   21.809554   25.338703  3.373800e+10   \n",
       "1   2022        1    AFL   60.868745   69.427896  1.613140e+11   \n",
       "2   2022        1      A  136.502816  146.156531  1.051600e+10   \n",
       "3   2022        1   ALLE  116.370657  113.099574  3.029200e+09   \n",
       "4   2022        1    LNT   57.115556   54.147285  1.246271e+10   \n",
       "..   ...      ...    ...         ...         ...           ...   \n",
       "65  2022        1    WRK   44.355899   33.097756  2.916840e+10   \n",
       "66  2022        1     WY   36.948036   32.005284  1.698150e+10   \n",
       "67  2022        1    WHR  192.755651  146.233493  1.989800e+10   \n",
       "68  2022        1    GWW  485.266612  643.039215  6.443500e+09   \n",
       "69  2022        1   WYNN   84.264677  106.007392  8.093191e+09   \n",
       "\n",
       "    liabilitiesandstockholdersequity  incometaxexpensebenefit  \\\n",
       "0                       3.378300e+10             1.022500e+08   \n",
       "1                       1.613140e+11             5.063333e+08   \n",
       "2                       1.051600e+10             3.000000e+07   \n",
       "3                       3.060200e+09             5.490000e+07   \n",
       "4                       1.175633e+10            -1.577778e+07   \n",
       "..                               ...                      ...   \n",
       "65                      2.916840e+10             5.445000e+07   \n",
       "66                      1.698150e+10             2.523333e+08   \n",
       "67                      2.036050e+10             4.160000e+08   \n",
       "68                      6.443500e+09             2.923333e+08   \n",
       "69                      1.320019e+10             2.473283e+08   \n",
       "\n",
       "    retainedearningsaccumulateddeficit  \\\n",
       "0                        -6.140000e+08   \n",
       "1                         3.968250e+10   \n",
       "2                         2.535000e+08   \n",
       "3                         9.691000e+08   \n",
       "4                         1.693000e+09   \n",
       "..                                 ...   \n",
       "65                        1.659550e+09   \n",
       "66                        1.271000e+09   \n",
       "67                        9.447500e+09   \n",
       "68                        9.139500e+09   \n",
       "69                       -1.910249e+09   \n",
       "\n",
       "    accumulatedothercomprehensiveincomelossnetoftax  ...  \\\n",
       "0                                     -2.282000e+09  ...   \n",
       "1                                      6.273250e+09  ...   \n",
       "2                                     -2.900000e+08  ...   \n",
       "3                                     -1.984000e+08  ...   \n",
       "4                                     -5.000000e+05  ...   \n",
       "..                                              ...  ...   \n",
       "65                                    -1.111750e+09  ...   \n",
       "66                                    -6.505000e+08  ...   \n",
       "67                                    -2.584000e+09  ...   \n",
       "68                                    -7.850000e+07  ...   \n",
       "69                                     4.804000e+06  ...   \n",
       "\n",
       "    weightedaveragenumberofsharesoutstandingbasic  stockholdersequity  \\\n",
       "0                                    6.650000e+08        2.716000e+09   \n",
       "1                                    7.099110e+08        2.980825e+10   \n",
       "2                                    3.035000e+08        5.271500e+09   \n",
       "3                                    9.193333e+07        7.942500e+08   \n",
       "4                                    2.457000e+08        4.085333e+09   \n",
       "..                                            ...                 ...   \n",
       "65                                   2.636500e+08        1.144350e+10   \n",
       "66                                   7.474413e+08        9.225000e+09   \n",
       "67                                   6.283333e+07        4.365500e+09   \n",
       "68                                   5.336667e+07        1.851000e+09   \n",
       "69                                   1.090833e+08       -2.832075e+08   \n",
       "\n",
       "    commonstockdividendspersharecashpaid  quarter  xgb_prediction  xgb_score  \\\n",
       "0                               0.150500        1       24.525713   0.874719   \n",
       "1                               1.173333        1      259.045563   0.874719   \n",
       "2                               0.202000        1       90.601097   0.874719   \n",
       "3                               1.266667        1      137.584885   0.874719   \n",
       "4                               1.516667        1       64.739983   0.874719   \n",
       "..                                   ...      ...             ...        ...   \n",
       "65                              0.225000        1       42.011883   0.874719   \n",
       "66                              1.016667        1       75.686234   0.874719   \n",
       "67                              5.016667        1      192.423691   0.874719   \n",
       "68                              6.003333        1      468.661377   0.874719   \n",
       "69                              1.416667        1       72.696800   0.874719   \n",
       "\n",
       "    cat_prediction  cat_score  prediction  training_years  \n",
       "0        16.042456   0.850922   20.284085               4  \n",
       "1       109.269951   0.850922  184.157757               4  \n",
       "2        92.416470   0.850922   91.508784               4  \n",
       "3       158.354928   0.850922  147.969906               4  \n",
       "4        87.152228   0.850922   75.946105               4  \n",
       "..             ...        ...         ...             ...  \n",
       "65       47.937329   0.850922   44.974606               4  \n",
       "66       95.670372   0.850922   85.678303               4  \n",
       "67      175.296696   0.850922  183.860194               4  \n",
       "68      464.945793   0.850922  466.803585               4  \n",
       "69       71.166000   0.850922   71.931400               4  \n",
       "\n",
       "[70 rows x 26 columns]"
      ]
     },
     "execution_count": 22,
     "metadata": {},
     "output_type": "execute_result"
    }
   ],
   "source": [
    "stuff"
   ]
  }
 ],
 "metadata": {
  "kernelspec": {
   "display_name": "Python 3 (ipykernel)",
   "language": "python",
   "name": "python3"
  },
  "language_info": {
   "codemirror_mode": {
    "name": "ipython",
    "version": 3
   },
   "file_extension": ".py",
   "mimetype": "text/x-python",
   "name": "python",
   "nbconvert_exporter": "python",
   "pygments_lexer": "ipython3",
   "version": "3.10.5"
  }
 },
 "nbformat": 4,
 "nbformat_minor": 5
}
