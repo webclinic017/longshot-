{
 "cells": [
  {
   "cell_type": "code",
   "execution_count": 34,
   "id": "f17099ef",
   "metadata": {},
   "outputs": [],
   "source": [
    "from database.market import Market\n",
    "from database.sec import SEC\n",
    "import pandas as pd\n",
    "from tqdm import tqdm\n",
    "from datetime import datetime, timedelta\n",
    "from modeler.modeler import Modeler as m\n",
    "from processor.processor import Processor as p\n",
    "from database.adatabase import ADatabase\n",
    "from strats.financial import Financial"
   ]
  },
  {
   "cell_type": "code",
   "execution_count": 35,
   "id": "c552f31d",
   "metadata": {},
   "outputs": [],
   "source": [
    "sec = SEC()\n",
    "market = Market()"
   ]
  },
  {
   "cell_type": "code",
   "execution_count": 36,
   "id": "31aaccd5",
   "metadata": {},
   "outputs": [],
   "source": [
    "market.connect()\n",
    "sp500 = market.retrieve(\"sp500\")\n",
    "deactivated_tickers = market.retrieve(\"deactivated_tickers\")[\"ticker\"]\n",
    "market.disconnect()"
   ]
  },
  {
   "cell_type": "code",
   "execution_count": 37,
   "id": "94146e5b",
   "metadata": {},
   "outputs": [],
   "source": [
    "training_year = 4"
   ]
  },
  {
   "cell_type": "code",
   "execution_count": 38,
   "id": "18734fe8",
   "metadata": {},
   "outputs": [],
   "source": [
    "strat_class = Financial(training_year)"
   ]
  },
  {
   "cell_type": "code",
   "execution_count": 39,
   "id": "3c8a71f4",
   "metadata": {},
   "outputs": [],
   "source": [
    "included_columns=[\n",
    "    \"year\",\n",
    "    \"quarter\",\n",
    "    \"ticker\",\n",
    "    \"adjclose\",\n",
    " 'assets',\n",
    " 'liabilitiesandstockholdersequity',\n",
    " 'incometaxexpensebenefit',\n",
    " 'accumulatedothercomprehensiveincomelossnetoftax',\n",
    " 'retainedearningsaccumulateddeficit',\n",
    " 'earningspersharediluted',\n",
    " 'earningspersharebasic',\n",
    " 'weightedaveragenumberofsharesoutstandingbasic',\n",
    " 'weightedaveragenumberofdilutedsharesoutstanding',\n",
    " 'cashandcashequivalentsatcarryingvalue',\n",
    " 'entitycommonstocksharesoutstanding',\n",
    " 'stockholdersequity',\n",
    " 'propertyplantandequipmentnet',\n",
    " 'netincomeloss',\n",
    "    \"y\"\n",
    "]"
   ]
  },
  {
   "cell_type": "code",
   "execution_count": 40,
   "id": "7fa7e63c",
   "metadata": {},
   "outputs": [],
   "source": [
    "factors =[\n",
    "    \"adjclose\",\n",
    " 'assets',\n",
    " 'liabilitiesandstockholdersequity',\n",
    " 'incometaxexpensebenefit',\n",
    " 'accumulatedothercomprehensiveincomelossnetoftax',\n",
    " 'retainedearningsaccumulateddeficit',\n",
    " 'earningspersharediluted',\n",
    " 'earningspersharebasic',\n",
    " 'weightedaveragenumberofsharesoutstandingbasic',\n",
    " 'weightedaveragenumberofdilutedsharesoutstanding',\n",
    " 'cashandcashequivalentsatcarryingvalue',\n",
    " 'entitycommonstocksharesoutstanding',\n",
    " 'stockholdersequity',\n",
    " 'propertyplantandequipmentnet',\n",
    " 'netincomeloss',\n",
    "]"
   ]
  },
  {
   "cell_type": "code",
   "execution_count": 41,
   "id": "ae11206f",
   "metadata": {},
   "outputs": [
    {
     "name": "stdout",
     "output_type": "stream",
     "text": [
      "init factors\n",
      "init included_columns\n"
     ]
    }
   ],
   "source": [
    "if not strat_class.check_factors():\n",
    "    print(\"init factors\")\n",
    "    strat_class.assign_factors(factors)\n",
    "if not strat_class.check_included_columns():\n",
    "    print(\"init included_columns\")\n",
    "    strat_class.assign_included_columns(included_columns)"
   ]
  },
  {
   "cell_type": "code",
   "execution_count": 42,
   "id": "b8213def",
   "metadata": {},
   "outputs": [],
   "source": [
    "strat_class.pull_included_columns()\n",
    "strat_class.pull_factors()"
   ]
  },
  {
   "cell_type": "code",
   "execution_count": 43,
   "id": "05209bde",
   "metadata": {},
   "outputs": [
    {
     "data": {
      "text/plain": [
       "['year',\n",
       " 'quarter',\n",
       " 'ticker',\n",
       " 'adjclose',\n",
       " 'assets',\n",
       " 'liabilitiesandstockholdersequity',\n",
       " 'incometaxexpensebenefit',\n",
       " 'accumulatedothercomprehensiveincomelossnetoftax',\n",
       " 'retainedearningsaccumulateddeficit',\n",
       " 'earningspersharediluted',\n",
       " 'earningspersharebasic',\n",
       " 'weightedaveragenumberofsharesoutstandingbasic',\n",
       " 'weightedaveragenumberofdilutedsharesoutstanding',\n",
       " 'cashandcashequivalentsatcarryingvalue',\n",
       " 'entitycommonstocksharesoutstanding',\n",
       " 'stockholdersequity',\n",
       " 'propertyplantandequipmentnet',\n",
       " 'netincomeloss',\n",
       " 'y']"
      ]
     },
     "execution_count": 43,
     "metadata": {},
     "output_type": "execute_result"
    }
   ],
   "source": [
    "strat_class.included_columns"
   ]
  },
  {
   "cell_type": "code",
   "execution_count": 44,
   "id": "5f208695",
   "metadata": {},
   "outputs": [
    {
     "data": {
      "text/plain": [
       "['adjclose',\n",
       " 'assets',\n",
       " 'liabilitiesandstockholdersequity',\n",
       " 'incometaxexpensebenefit',\n",
       " 'accumulatedothercomprehensiveincomelossnetoftax',\n",
       " 'retainedearningsaccumulateddeficit',\n",
       " 'earningspersharediluted',\n",
       " 'earningspersharebasic',\n",
       " 'weightedaveragenumberofsharesoutstandingbasic',\n",
       " 'weightedaveragenumberofdilutedsharesoutstanding',\n",
       " 'cashandcashequivalentsatcarryingvalue',\n",
       " 'entitycommonstocksharesoutstanding',\n",
       " 'stockholdersequity',\n",
       " 'propertyplantandequipmentnet',\n",
       " 'netincomeloss']"
      ]
     },
     "execution_count": 44,
     "metadata": {},
     "output_type": "execute_result"
    }
   ],
   "source": [
    "strat_class.factors"
   ]
  }
 ],
 "metadata": {
  "kernelspec": {
   "display_name": "Python 3 (ipykernel)",
   "language": "python",
   "name": "python3"
  },
  "language_info": {
   "codemirror_mode": {
    "name": "ipython",
    "version": 3
   },
   "file_extension": ".py",
   "mimetype": "text/x-python",
   "name": "python",
   "nbconvert_exporter": "python",
   "pygments_lexer": "ipython3",
   "version": "3.10.5"
  }
 },
 "nbformat": 4,
 "nbformat_minor": 5
}
