{
 "cells": [
  {
   "cell_type": "code",
   "execution_count": 9,
   "id": "588a84de",
   "metadata": {},
   "outputs": [],
   "source": [
    "from alpaca.trading.client import TradingClient\n",
    "from dotenv import load_dotenv\n",
    "import os\n",
    "load_dotenv()\n",
    "api_key = os.getenv(\"ALPACAKEYID\")\n",
    "secret_key = os.getenv(\"ALPACASECRETKEY\")\n",
    "from alpaca.trading.requests import GetAssetsRequest\n",
    "from alpaca.trading.enums import AssetClass\n",
    "from alpaca.trading.requests import LimitOrderRequest\n",
    "from alpaca.trading.enums import OrderSide, TimeInForce\n",
    "from alpaca.trading.requests import MarketOrderRequest"
   ]
  },
  {
   "cell_type": "code",
   "execution_count": 2,
   "id": "ff1c4244",
   "metadata": {},
   "outputs": [],
   "source": [
    "trading_client = TradingClient(api_key, secret_key, paper=True)"
   ]
  },
  {
   "cell_type": "code",
   "execution_count": 3,
   "id": "dd3441ed",
   "metadata": {},
   "outputs": [],
   "source": [
    "account = trading_client.get_account()"
   ]
  },
  {
   "cell_type": "code",
   "execution_count": 6,
   "id": "b8bf78cd",
   "metadata": {},
   "outputs": [
    {
     "data": {
      "text/plain": [
       "'100000'"
      ]
     },
     "execution_count": 6,
     "metadata": {},
     "output_type": "execute_result"
    }
   ],
   "source": [
    "account.cash"
   ]
  },
  {
   "cell_type": "code",
   "execution_count": 6,
   "id": "a8813140",
   "metadata": {},
   "outputs": [],
   "source": [
    "market_order_data = MarketOrderRequest(\n",
    "                    symbol=\"SPY\",\n",
    "                    notional=0.023,\n",
    "                    side=OrderSide.BUY,\n",
    "                    time_in_force=TimeInForce.DAY\n",
    "                    )\n",
    "\n",
    "# Market order\n",
    "market_order = trading_client.submit_order(\n",
    "                order_data=market_order_data\n",
    "               )"
   ]
  },
  {
   "cell_type": "code",
   "execution_count": 10,
   "id": "5fbb7511",
   "metadata": {},
   "outputs": [
    {
     "data": {
      "text/plain": [
       "LimitOrderRequest(symbol='AAPL', qty=None, notional=4000.0, side=<OrderSide.BUY: 'buy'>, type=<OrderType.LIMIT: 'limit'>, time_in_force=<TimeInForce.FOK: 'fok'>, order_class=None, extended_hours=None, client_order_id=None, take_profit=None, stop_loss=None, limit_price=17000.0)"
      ]
     },
     "execution_count": 10,
     "metadata": {},
     "output_type": "execute_result"
    }
   ],
   "source": [
    "# trading_client.close_all_positions()"
   ]
  }
 ],
 "metadata": {
  "kernelspec": {
   "display_name": "Python 3 (ipykernel)",
   "language": "python",
   "name": "python3"
  },
  "language_info": {
   "codemirror_mode": {
    "name": "ipython",
    "version": 3
   },
   "file_extension": ".py",
   "mimetype": "text/x-python",
   "name": "python",
   "nbconvert_exporter": "python",
   "pygments_lexer": "ipython3",
   "version": "3.10.5"
  }
 },
 "nbformat": 4,
 "nbformat_minor": 5
}
