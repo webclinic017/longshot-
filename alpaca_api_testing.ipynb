{
 "cells": [
  {
   "cell_type": "code",
   "execution_count": 2,
   "id": "7be7dd33",
   "metadata": {},
   "outputs": [],
   "source": [
    "from alpaca_api.alpaca_api import AlpacaApi"
   ]
  },
  {
   "cell_type": "code",
   "execution_count": 3,
   "id": "e8c152b9",
   "metadata": {},
   "outputs": [],
   "source": [
    "alp = AlpacaApi()"
   ]
  },
  {
   "cell_type": "code",
   "execution_count": 4,
   "id": "b4603abc",
   "metadata": {},
   "outputs": [],
   "source": [
    "account = alp.get_account()"
   ]
  },
  {
   "cell_type": "code",
   "execution_count": null,
   "id": "4e6ded8f",
   "metadata": {},
   "outputs": [],
   "source": []
  }
 ],
 "metadata": {
  "kernelspec": {
   "display_name": "Python 3 (ipykernel)",
   "language": "python",
   "name": "python3"
  },
  "language_info": {
   "codemirror_mode": {
    "name": "ipython",
    "version": 3
   },
   "file_extension": ".py",
   "mimetype": "text/x-python",
   "name": "python",
   "nbconvert_exporter": "python",
   "pygments_lexer": "ipython3",
   "version": "3.10.5"
  }
 },
 "nbformat": 4,
 "nbformat_minor": 5
}
