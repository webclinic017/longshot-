{
 "cells": [
  {
   "cell_type": "code",
   "execution_count": 1,
   "id": "aa80f443",
   "metadata": {
    "scrolled": true
   },
   "outputs": [],
   "source": [
    "## personal imports\n",
    "from processor.processor import Processor as p\n",
    "from database.market import Market\n",
    "from database.adatabase import ADatabase\n",
    "from datetime import datetime\n",
    "from fund.fund import Fund\n",
    "from pricer.pricer import Pricer as pricer_list\n",
    "from ranker.ranker import Ranker as ranker_list\n",
    "from classifier.classifier import Classifier as classifier_list\n",
    "from portfolio.aportfolio import APortfolio\n",
    "from parameters.parameters import Parameters as params\n",
    "## analysis imports\n",
    "from analysis.quarterly_analysis import QuarterlyAnalysis as quarterly_analysis\n",
    "from analysis.weekly_analysis import WeeklyAnalysis as weekly_analysis\n",
    "\n",
    "## risk and return class imports\n",
    "from returns.products import Products as returns_products_class\n",
    "from fund.fund import Fund\n",
    "\n",
    "## standard imports\n",
    "from statistics import variance\n",
    "import math\n",
    "from datetime import datetime, timedelta\n",
    "import pytz\n",
    "import pandas as pd\n",
    "from tqdm import tqdm\n",
    "import numpy as np\n",
    "import matplotlib.pyplot as plt\n",
    "import pickle"
   ]
  },
  {
   "cell_type": "code",
   "execution_count": 2,
   "id": "dc1021a4",
   "metadata": {},
   "outputs": [],
   "source": [
    "backtest_start_date = datetime(2003,1,1)\n",
    "backtest_end_date  = datetime(2023,1,1)\n",
    "current_start_date = datetime(2023,1,1)"
   ]
  },
  {
   "cell_type": "code",
   "execution_count": 3,
   "id": "e5adbebb",
   "metadata": {},
   "outputs": [],
   "source": [
    "market = Market()"
   ]
  },
  {
   "cell_type": "code",
   "execution_count": 4,
   "id": "861fab11",
   "metadata": {},
   "outputs": [],
   "source": [
    "portfolio = APortfolio(pricer_list.WEEKLY_STOCK_SPECULATION\n",
    "                          ,classifier_list.NONE\n",
    "                          ,ranker_list.NONE)\n",
    "portfolio_ii = APortfolio(pricer_list.WEEKLY_STOCK_ROLLING\n",
    "                           ,classifier_list.NONE\n",
    "                          ,ranker_list.NONE)\n",
    "portfolio_iii = APortfolio(pricer_list.WEEKLY_STOCK_WINDOW\n",
    "                          ,classifier_list.NONE\n",
    "                          ,ranker_list.NONE)\n",
    "portfolio_iv = APortfolio(pricer_list.WEEKLY_CRYPTO_ROLLING\n",
    "                          ,classifier_list.NONE\n",
    "                          ,ranker_list.NONE)\n",
    "portfolio_v = APortfolio(pricer_list.WEEKLY_CRYPTO_WINDOW\n",
    "                          ,classifier_list.NONE\n",
    "                          ,ranker_list.NONE)\n",
    "portfolio_vi = APortfolio(pricer_list.WEEKLY_CRYPTO_SPECULATION\n",
    "                          ,classifier_list.NONE\n",
    "                          ,ranker_list.NONE)\n",
    "\n",
    "portfolios = []\n",
    "portfolios.append(portfolio)\n",
    "portfolios.append(portfolio_ii)\n",
    "portfolios.append(portfolio_iii)\n",
    "portfolios.append(portfolio_iv)\n",
    "portfolios.append(portfolio_v)\n",
    "portfolios.append(portfolio_vi)"
   ]
  },
  {
   "cell_type": "code",
   "execution_count": 5,
   "id": "b76c82be",
   "metadata": {},
   "outputs": [],
   "source": [
    "fund = Fund(portfolios,backtest_start_date,backtest_end_date,current_start_date)\n",
    "market = Market()\n",
    "fund.initialize_portfolios()"
   ]
  },
  {
   "cell_type": "code",
   "execution_count": 6,
   "id": "235a8676",
   "metadata": {
    "scrolled": true
   },
   "outputs": [],
   "source": [
    "market.connect()\n",
    "sp500 = market.retrieve(\"sp500\")\n",
    "market.disconnect()\n",
    "sp500 = sp500.rename(columns={\"Symbol\":\"ticker\"})"
   ]
  },
  {
   "cell_type": "code",
   "execution_count": 7,
   "id": "7df777cf",
   "metadata": {},
   "outputs": [],
   "source": [
    "market.connect()\n",
    "tyields = returns_products_class.tyields(market.retrieve(\"tyields\"))\n",
    "bench_returns = returns_products_class.spy_bench(market.retrieve(\"spy\"))\n",
    "market.disconnect()"
   ]
  },
  {
   "cell_type": "code",
   "execution_count": null,
   "id": "604a14af",
   "metadata": {
    "scrolled": true
   },
   "outputs": [
    {
     "name": "stderr",
     "output_type": "stream",
     "text": [
      "  0%|                                                                                                                                                                               | 0/6 [00:00<?, ?it/s]\n",
      "  0%|                                                                                                                                                                              | 0/48 [00:00<?, ?it/s]\u001b[A\n",
      "  2%|███▍                                                                                                                                                                  | 1/48 [00:02<01:48,  2.31s/it]\u001b[A\n",
      "  4%|██████▉                                                                                                                                                               | 2/48 [00:04<01:46,  2.31s/it]\u001b[A\n",
      "  6%|██████████▍                                                                                                                                                           | 3/48 [00:06<01:44,  2.32s/it]\u001b[A\n",
      "  8%|█████████████▊                                                                                                                                                        | 4/48 [00:09<01:42,  2.32s/it]\u001b[A\n",
      " 10%|█████████████████▎                                                                                                                                                    | 5/48 [00:12<01:49,  2.56s/it]\u001b[A\n",
      " 12%|████████████████████▊                                                                                                                                                 | 6/48 [00:15<01:53,  2.71s/it]\u001b[A\n",
      " 15%|████████████████████████▏                                                                                                                                             | 7/48 [00:18<01:54,  2.80s/it]\u001b[A\n",
      " 17%|███████████████████████████▋                                                                                                                                          | 8/48 [00:21<01:54,  2.87s/it]\u001b[A\n",
      " 19%|███████████████████████████████▏                                                                                                                                      | 9/48 [00:24<01:55,  2.96s/it]\u001b[A\n",
      " 21%|██████████████████████████████████▍                                                                                                                                  | 10/48 [00:27<01:54,  3.01s/it]\u001b[A\n",
      " 23%|█████████████████████████████████████▊                                                                                                                               | 11/48 [00:30<01:53,  3.06s/it]\u001b[A\n",
      " 25%|█████████████████████████████████████████▎                                                                                                                           | 12/48 [00:33<01:51,  3.09s/it]\u001b[A\n",
      " 27%|████████████████████████████████████████████▋                                                                                                                        | 13/48 [00:35<01:27,  2.51s/it]\u001b[A\n",
      " 29%|████████████████████████████████████████████████▏                                                                                                                    | 14/48 [00:36<01:11,  2.10s/it]\u001b[A\n",
      " 31%|███████████████████████████████████████████████████▌                                                                                                                 | 15/48 [00:37<00:59,  1.82s/it]\u001b[A\n",
      " 33%|███████████████████████████████████████████████████████                                                                                                              | 16/48 [00:38<00:51,  1.62s/it]\u001b[A\n",
      " 35%|██████████████████████████████████████████████████████████▍                                                                                                          | 17/48 [00:40<00:49,  1.59s/it]\u001b[A\n",
      " 38%|█████████████████████████████████████████████████████████████▉                                                                                                       | 18/48 [00:41<00:46,  1.56s/it]\u001b[A\n",
      " 40%|█████████████████████████████████████████████████████████████████▎                                                                                                   | 19/48 [00:43<00:44,  1.54s/it]\u001b[A\n",
      " 42%|████████████████████████████████████████████████████████████████████▊                                                                                                | 20/48 [00:44<00:42,  1.53s/it]\u001b[A\n",
      " 44%|████████████████████████████████████████████████████████████████████████▏                                                                                            | 21/48 [00:46<00:41,  1.54s/it]\u001b[A\n",
      " 46%|███████████████████████████████████████████████████████████████████████████▋                                                                                         | 22/48 [00:47<00:40,  1.55s/it]\u001b[A\n",
      " 48%|███████████████████████████████████████████████████████████████████████████████                                                                                      | 23/48 [00:49<00:39,  1.56s/it]\u001b[A\n",
      " 50%|██████████████████████████████████████████████████████████████████████████████████▌                                                                                  | 24/48 [00:50<00:37,  1.57s/it]\u001b[A\n",
      " 52%|█████████████████████████████████████████████████████████████████████████████████████▉                                                                               | 25/48 [00:51<00:30,  1.34s/it]\u001b[A\n",
      " 54%|█████████████████████████████████████████████████████████████████████████████████████████▍                                                                           | 26/48 [00:52<00:25,  1.17s/it]\u001b[A\n",
      " 56%|████████████████████████████████████████████████████████████████████████████████████████████▊                                                                        | 27/48 [00:53<00:22,  1.06s/it]\u001b[A\n",
      " 58%|████████████████████████████████████████████████████████████████████████████████████████████████▎                                                                    | 28/48 [00:54<00:19,  1.02it/s]\u001b[A\n",
      " 60%|███████████████████████████████████████████████████████████████████████████████████████████████████▋                                                                 | 29/48 [00:55<00:18,  1.01it/s]\u001b[A\n",
      " 62%|███████████████████████████████████████████████████████████████████████████████████████████████████████▏                                                             | 30/48 [00:56<00:17,  1.00it/s]\u001b[A\n",
      " 65%|██████████████████████████████████████████████████████████████████████████████████████████████████████████▌                                                          | 31/48 [00:57<00:17,  1.00s/it]\u001b[A\n",
      " 67%|██████████████████████████████████████████████████████████████████████████████████████████████████████████████                                                       | 32/48 [00:58<00:16,  1.01s/it]\u001b[A\n",
      " 69%|█████████████████████████████████████████████████████████████████████████████████████████████████████████████████▍                                                   | 33/48 [00:59<00:15,  1.03s/it]\u001b[A\n",
      " 71%|████████████████████████████████████████████████████████████████████████████████████████████████████████████████████▉                                                | 34/48 [01:00<00:14,  1.04s/it]\u001b[A\n",
      " 73%|████████████████████████████████████████████████████████████████████████████████████████████████████████████████████████▎                                            | 35/48 [01:01<00:13,  1.05s/it]\u001b[A\n",
      " 75%|███████████████████████████████████████████████████████████████████████████████████████████████████████████████████████████▊                                         | 36/48 [01:02<00:12,  1.06s/it]\u001b[A\n",
      " 77%|███████████████████████████████████████████████████████████████████████████████████████████████████████████████████████████████▏                                     | 37/48 [01:02<00:10,  1.09it/s]\u001b[A\n"
     ]
    },
    {
     "name": "stderr",
     "output_type": "stream",
     "text": [
      " 79%|██████████████████████████████████████████████████████████████████████████████████████████████████████████████████████████████████▋                                  | 38/48 [01:03<00:08,  1.23it/s]\u001b[A\n",
      " 81%|██████████████████████████████████████████████████████████████████████████████████████████████████████████████████████████████████████                               | 39/48 [01:04<00:06,  1.36it/s]\u001b[A\n",
      " 83%|█████████████████████████████████████████████████████████████████████████████████████████████████████████████████████████████████████████▌                           | 40/48 [01:04<00:05,  1.46it/s]\u001b[A\n",
      " 85%|████████████████████████████████████████████████████████████████████████████████████████████████████████████████████████████████████████████▉                        | 41/48 [01:05<00:04,  1.42it/s]\u001b[A\n",
      " 88%|████████████████████████████████████████████████████████████████████████████████████████████████████████████████████████████████████████████████▍                    | 42/48 [01:06<00:04,  1.38it/s]\u001b[A\n",
      " 90%|███████████████████████████████████████████████████████████████████████████████████████████████████████████████████████████████████████████████████▊                 | 43/48 [01:06<00:03,  1.35it/s]\u001b[A\n",
      " 92%|███████████████████████████████████████████████████████████████████████████████████████████████████████████████████████████████████████████████████████▎             | 44/48 [01:07<00:02,  1.34it/s]\u001b[A\n",
      " 94%|██████████████████████████████████████████████████████████████████████████████████████████████████████████████████████████████████████████████████████████▋          | 45/48 [01:08<00:02,  1.31it/s]\u001b[A\n",
      " 96%|██████████████████████████████████████████████████████████████████████████████████████████████████████████████████████████████████████████████████████████████▏      | 46/48 [01:09<00:01,  1.28it/s]\u001b[A\n",
      " 98%|█████████████████████████████████████████████████████████████████████████████████████████████████████████████████████████████████████████████████████████████████▌   | 47/48 [01:10<00:00,  1.26it/s]\u001b[A\n",
      "100%|█████████████████████████████████████████████████████████████████████████████████████████████████████████████████████████████████████████████████████████████████████| 48/48 [01:10<00:00,  1.48s/it]\u001b[A\n",
      " 17%|███████████████████████████▊                                                                                                                                           | 1/6 [01:10<05:54, 70.98s/it]\n",
      "  0%|                                                                                                                                                                              | 0/48 [00:00<?, ?it/s]\u001b[A\n",
      "  2%|███▍                                                                                                                                                                  | 1/48 [00:04<03:48,  4.86s/it]\u001b[A\n",
      "  4%|██████▉                                                                                                                                                               | 2/48 [00:09<03:40,  4.80s/it]\u001b[A\n",
      "  6%|██████████▍                                                                                                                                                           | 3/48 [00:14<03:39,  4.89s/it]\u001b[A\n",
      "  8%|█████████████▊                                                                                                                                                        | 4/48 [00:22<04:23,  5.98s/it]\u001b[A\n",
      " 10%|█████████████████▎                                                                                                                                                    | 5/48 [00:25<03:37,  5.06s/it]\u001b[A\n",
      " 12%|████████████████████▊                                                                                                                                                 | 6/48 [00:32<04:01,  5.75s/it]\u001b[A\n",
      " 15%|████████████████████████▏                                                                                                                                             | 7/48 [00:41<04:40,  6.85s/it]\u001b[A\n",
      " 17%|███████████████████████████▋                                                                                                                                          | 8/48 [00:54<05:45,  8.64s/it]\u001b[A\n",
      " 19%|███████████████████████████████▏                                                                                                                                      | 9/48 [00:58<04:37,  7.12s/it]\u001b[A\n",
      " 21%|██████████████████████████████████▍                                                                                                                                  | 10/48 [01:05<04:38,  7.34s/it]\u001b[A\n",
      " 23%|█████████████████████████████████████▊                                                                                                                               | 11/48 [01:16<05:05,  8.26s/it]\u001b[A\n",
      " 25%|█████████████████████████████████████████▎                                                                                                                           | 12/48 [01:30<06:01, 10.05s/it]\u001b[A\n",
      " 27%|████████████████████████████████████████████▋                                                                                                                        | 13/48 [01:32<04:29,  7.71s/it]\u001b[A\n",
      " 29%|████████████████████████████████████████████████▏                                                                                                                    | 14/48 [01:37<03:46,  6.67s/it]\u001b[A\n",
      " 31%|███████████████████████████████████████████████████▌                                                                                                                 | 15/48 [01:42<03:24,  6.21s/it]\u001b[A\n",
      " 33%|███████████████████████████████████████████████████████                                                                                                              | 16/48 [01:48<03:22,  6.34s/it]\u001b[A\n",
      " 35%|██████████████████████████████████████████████████████████▍                                                                                                          | 17/48 [01:58<03:46,  7.29s/it]\u001b[A\n",
      " 38%|█████████████████████████████████████████████████████████████▉                                                                                                       | 18/48 [02:09<04:11,  8.39s/it]\u001b[A\n",
      " 40%|█████████████████████████████████████████████████████████████████▎                                                                                                   | 19/48 [02:20<04:29,  9.29s/it]\u001b[A\n",
      " 42%|████████████████████████████████████████████████████████████████████▊                                                                                                | 20/48 [02:33<04:52, 10.44s/it]\u001b[A\n",
      " 44%|████████████████████████████████████████████████████████████████████████▏                                                                                            | 21/48 [02:49<05:22, 11.95s/it]\u001b[A\n",
      " 46%|███████████████████████████████████████████████████████████████████████████▋                                                                                         | 22/48 [03:06<05:53, 13.58s/it]\u001b[A\n",
      " 48%|███████████████████████████████████████████████████████████████████████████████                                                                                      | 23/48 [03:24<06:14, 14.98s/it]\u001b[A\n",
      " 50%|██████████████████████████████████████████████████████████████████████████████████▌                                                                                  | 24/48 [03:44<06:35, 16.46s/it]\u001b[A\n",
      " 52%|█████████████████████████████████████████████████████████████████████████████████████▉                                                                               | 25/48 [03:46<04:35, 11.97s/it]\u001b[A\n",
      " 54%|█████████████████████████████████████████████████████████████████████████████████████████▍                                                                           | 26/48 [03:49<03:22,  9.22s/it]\u001b[A\n"
     ]
    },
    {
     "name": "stderr",
     "output_type": "stream",
     "text": [
      " 56%|████████████████████████████████████████████████████████████████████████████████████████████▊                                                                        | 27/48 [03:52<02:36,  7.47s/it]\u001b[A\n",
      " 58%|████████████████████████████████████████████████████████████████████████████████████████████████▎                                                                    | 28/48 [03:56<02:10,  6.54s/it]\u001b[A\n",
      " 60%|███████████████████████████████████████████████████████████████████████████████████████████████████▋                                                                 | 29/48 [04:03<02:02,  6.46s/it]\u001b[A\n",
      " 62%|███████████████████████████████████████████████████████████████████████████████████████████████████████▏                                                             | 30/48 [04:10<02:01,  6.75s/it]\u001b[A\n",
      " 65%|██████████████████████████████████████████████████████████████████████████████████████████████████████████▌                                                          | 31/48 [04:17<01:57,  6.89s/it]\u001b[A\n",
      " 67%|██████████████████████████████████████████████████████████████████████████████████████████████████████████████                                                       | 32/48 [04:26<01:57,  7.32s/it]\u001b[A\n",
      " 69%|█████████████████████████████████████████████████████████████████████████████████████████████████████████████████▍                                                   | 33/48 [04:36<02:04,  8.32s/it]\u001b[A\n",
      " 71%|████████████████████████████████████████████████████████████████████████████████████████████████████████████████████▉                                                | 34/48 [04:48<02:11,  9.36s/it]\u001b[A\n",
      " 73%|████████████████████████████████████████████████████████████████████████████████████████████████████████████████████████▎                                            | 35/48 [05:00<02:12, 10.18s/it]\u001b[A\n",
      " 75%|███████████████████████████████████████████████████████████████████████████████████████████████████████████████████████████▊                                         | 36/48 [05:13<02:13, 11.12s/it]\u001b[A\n",
      " 77%|███████████████████████████████████████████████████████████████████████████████████████████████████████████████████████████████▏                                     | 37/48 [05:15<01:29,  8.12s/it]\u001b[A\n",
      " 79%|██████████████████████████████████████████████████████████████████████████████████████████████████████████████████████████████████▋                                  | 38/48 [05:17<01:03,  6.31s/it]\u001b[A\n",
      " 81%|██████████████████████████████████████████████████████████████████████████████████████████████████████████████████████████████████████                               | 39/48 [05:19<00:46,  5.18s/it]\u001b[A\n",
      " 83%|█████████████████████████████████████████████████████████████████████████████████████████████████████████████████████████████████████████▌                           | 40/48 [05:22<00:36,  4.59s/it]\u001b[A\n",
      " 85%|████████████████████████████████████████████████████████████████████████████████████████████████████████████████████████████████████████████▉                        | 41/48 [05:27<00:32,  4.62s/it]\u001b[A\n",
      " 88%|████████████████████████████████████████████████████████████████████████████████████████████████████████████████████████████████████████████████▍                    | 42/48 [05:33<00:29,  4.88s/it]\u001b[A\n",
      " 90%|███████████████████████████████████████████████████████████████████████████████████████████████████████████████████████████████████████████████████▊                 | 43/48 [05:38<00:25,  5.02s/it]\u001b[A\n",
      " 92%|███████████████████████████████████████████████████████████████████████████████████████████████████████████████████████████████████████████████████████▎             | 44/48 [05:44<00:21,  5.33s/it]\u001b[A\n",
      " 94%|██████████████████████████████████████████████████████████████████████████████████████████████████████████████████████████████████████████████████████████▋          | 45/48 [05:52<00:18,  6.17s/it]\u001b[A\n",
      " 96%|██████████████████████████████████████████████████████████████████████████████████████████████████████████████████████████████████████████████████████████████▏      | 46/48 [06:01<00:14,  7.03s/it]\u001b[A\n",
      " 98%|█████████████████████████████████████████████████████████████████████████████████████████████████████████████████████████████████████████████████████████████████▌   | 47/48 [06:10<00:07,  7.48s/it]\u001b[A"
     ]
    }
   ],
   "source": [
    "analysis = []\n",
    "parameters = params.parameters()\n",
    "indexer = list(parameters[0].keys()) + ['portfolio']\n",
    "indexer\n",
    "for portfolio in tqdm(portfolios):\n",
    "    portfolio.db.connect()\n",
    "    for parameter in tqdm(parameters):\n",
    "        try:\n",
    "            trade = portfolio.db.query(\"trades\",parameter)\n",
    "            if trade.index.size > 0:\n",
    "                indexer = list(parameters[0].keys()) + ['portfolio']\n",
    "                positions = int(portfolio.pricer_class.positions / 5) if portfolio.pricer_class.asset_class.value == \"stocks\" else 1\n",
    "                pricer_timeframe =  portfolio.pricer_class.time_horizon_class.naming_convention\n",
    "                trade = trade[trade[\"position\"] <= positions]\n",
    "                ledger = trade.sort_values([\"year\",pricer_timeframe]).copy()\n",
    "                anas = weekly_analysis if pricer_timeframe == \"week\" else quarterly_analysis\n",
    "                if ledger.index.size > 0:\n",
    "                    cumulative = anas.trade_analysis(ledger,positions,tyields,bench_returns)\n",
    "                    for key in parameter.keys():\n",
    "                        cumulative[key] = parameter[key]\n",
    "                    cumulative[\"portfolio\"] = portfolio.name\n",
    "                    analysis.append(cumulative[indexer + [\"pv\",\"beta\",\"rrr\",\"sharpe\"]].iloc[-1])\n",
    "        except Exception as e:\n",
    "            print(str(e))\n",
    "            continue\n",
    "    portfolio.db.disconnect()\n",
    "a = pd.DataFrame([x.to_dict() for x in analysis])"
   ]
  },
  {
   "cell_type": "code",
   "execution_count": null,
   "id": "ce2c3346",
   "metadata": {},
   "outputs": [],
   "source": [
    "a.sort_values(\"pv\",ascending=False).head(20)"
   ]
  },
  {
   "cell_type": "code",
   "execution_count": null,
   "id": "2507f843",
   "metadata": {
    "scrolled": true
   },
   "outputs": [],
   "source": [
    "a.sort_values(\"pv\",ascending=False).groupby(\"portfolio\").nth(0).reset_index()"
   ]
  },
  {
   "cell_type": "code",
   "execution_count": null,
   "id": "e073ac53",
   "metadata": {},
   "outputs": [],
   "source": [
    "top = a.sort_values(\"pv\",ascending=False).iloc[0]\n",
    "db = ADatabase(top[\"portfolio\"])\n",
    "parameter = top[[x for x in indexer if x != \"portfolio\"]].to_dict()\n",
    "parameter\n",
    "db.connect()\n",
    "analysis = db.query(\"trades\",parameter)\n",
    "db.disconnect()\n",
    "analysis.head()"
   ]
  },
  {
   "cell_type": "code",
   "execution_count": null,
   "id": "b439dfc2",
   "metadata": {},
   "outputs": [],
   "source": [
    "anas = weekly_analysis\n",
    "naming = \"week\"\n",
    "positions = int(int(analysis[\"position\"].max())/5)\n",
    "ledger = analysis[[\"year\",naming,\"ticker\",f\"{naming}ly_delta\",f\"{naming}ly_delta_sign\",\"actual_returns\",\"position\"]]\n",
    "ledger = ledger[ledger[\"year\"]>=backtest_start_date.year]\n",
    "ledger = ledger.merge(sp500[[\"ticker\",\"GICS Sector\",\"Security\"]],on=\"ticker\",how=\"left\")"
   ]
  },
  {
   "cell_type": "code",
   "execution_count": null,
   "id": "32717222",
   "metadata": {},
   "outputs": [],
   "source": [
    "ledger"
   ]
  },
  {
   "cell_type": "code",
   "execution_count": null,
   "id": "99b3a18b",
   "metadata": {},
   "outputs": [],
   "source": [
    "plt.figure(figsize=(12, 7), dpi=80)\n",
    "plt.scatter(ledger[f\"{naming}ly_delta\"] * 100, (ledger[\"actual_returns\"]-1)*100,s=10)"
   ]
  },
  {
   "cell_type": "code",
   "execution_count": null,
   "id": "c0631607",
   "metadata": {},
   "outputs": [],
   "source": [
    "ledger.sort_values([\"year\",naming,\"position\"],ascending=True).head(20)"
   ]
  },
  {
   "cell_type": "code",
   "execution_count": null,
   "id": "3465b762",
   "metadata": {},
   "outputs": [],
   "source": [
    "ledger[\"actual_returns\"].mean()"
   ]
  },
  {
   "cell_type": "code",
   "execution_count": null,
   "id": "1ab835e5",
   "metadata": {},
   "outputs": [],
   "source": [
    "ledger[ledger[\"actual_returns\"]>1].index.size / ledger.index.size"
   ]
  },
  {
   "cell_type": "code",
   "execution_count": null,
   "id": "57d92dfb",
   "metadata": {
    "scrolled": true
   },
   "outputs": [],
   "source": [
    "portfolio = ledger.pivot_table(index=[\"year\",naming],columns=\"position\",values=\"actual_returns\").fillna(1).reset_index()"
   ]
  },
  {
   "cell_type": "code",
   "execution_count": null,
   "id": "d4f532b4",
   "metadata": {},
   "outputs": [],
   "source": [
    "positions"
   ]
  },
  {
   "cell_type": "code",
   "execution_count": null,
   "id": "2ea19da9",
   "metadata": {
    "scrolled": false
   },
   "outputs": [],
   "source": [
    "cumulative = anas.iteration_analysis(portfolio,positions,bench_returns)"
   ]
  },
  {
   "cell_type": "code",
   "execution_count": null,
   "id": "65d705c0",
   "metadata": {
    "scrolled": false
   },
   "outputs": [],
   "source": [
    "cumulative.head(10)"
   ]
  },
  {
   "cell_type": "code",
   "execution_count": null,
   "id": "9427c4cd",
   "metadata": {},
   "outputs": [],
   "source": [
    "plt.figure(figsize=(12, 7), dpi=80)\n",
    "plt.plot(cumulative[\"date\"],cumulative[\"pv\"])\n",
    "plt.plot(cumulative[\"date\"],cumulative[\"bench\"])\n",
    "plt.legend([\"pv\",\"bench\"])"
   ]
  },
  {
   "cell_type": "code",
   "execution_count": null,
   "id": "ed243385",
   "metadata": {},
   "outputs": [],
   "source": [
    "cumulative.tail(20)"
   ]
  },
  {
   "cell_type": "code",
   "execution_count": null,
   "id": "4d71dfdd",
   "metadata": {},
   "outputs": [],
   "source": [
    "plt.figure(figsize=(12, 7), dpi=80)\n",
    "position_columns = [x for x in cumulative.columns if x not in [\"year\",\"week\",\"quarter\",\"date_string\",\"date\",\"pv\",\"adjclose\",\"bench\"]]\n",
    "for i in position_columns:\n",
    "    position = cumulative[i]\n",
    "    plt.plot(cumulative[\"date\"],position)\n",
    "\n",
    "plt.show()\n"
   ]
  },
  {
   "cell_type": "code",
   "execution_count": null,
   "id": "06d33d4e",
   "metadata": {},
   "outputs": [],
   "source": [
    "ledger.groupby([\"GICS Sector\"]).mean().sort_values(\"actual_returns\",ascending=False)"
   ]
  },
  {
   "cell_type": "code",
   "execution_count": null,
   "id": "35ba67f8",
   "metadata": {},
   "outputs": [],
   "source": [
    "ledger.groupby([\"year\",naming,\"ticker\",\"Security\"]).prod().sort_values(\"actual_returns\",ascending=False).head(30)"
   ]
  },
  {
   "cell_type": "code",
   "execution_count": null,
   "id": "29b4fbde",
   "metadata": {
    "scrolled": false
   },
   "outputs": [],
   "source": [
    "industry_analysis = ledger.pivot_table(index=[\"year\",naming],columns=\"GICS Sector\",values=\"actual_returns\").fillna(1).reset_index()\n",
    "industry_analysis[[x for x in industry_analysis.columns if x != \"sell_date\"]].cumprod()"
   ]
  }
 ],
 "metadata": {
  "kernelspec": {
   "display_name": "Python 3 (ipykernel)",
   "language": "python",
   "name": "python3"
  },
  "language_info": {
   "codemirror_mode": {
    "name": "ipython",
    "version": 3
   },
   "file_extension": ".py",
   "mimetype": "text/x-python",
   "name": "python",
   "nbconvert_exporter": "python",
   "pygments_lexer": "ipython3",
   "version": "3.10.5"
  }
 },
 "nbformat": 4,
 "nbformat_minor": 5
}
