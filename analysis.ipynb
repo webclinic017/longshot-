{
 "cells": [
  {
   "cell_type": "code",
   "execution_count": null,
   "id": "aa80f443",
   "metadata": {
    "scrolled": true
   },
   "outputs": [],
   "source": [
    "## personal imports\n",
    "from processor.processor import Processor as p\n",
    "from database.market import Market\n",
    "from database.adatabase import ADatabase\n",
    "from datetime import datetime\n",
    "\n",
    "from tradealgorithm.tradealgorithm import TradeAlgorithm\n",
    "from tradealgorithm.tradealgorithmfactory import TradeAlgorithmFactory\n",
    "from pricer.pricer_factory import PricerFactory\n",
    "from pricer.pricer import Pricer\n",
    "from ranker.ranker_factory import RankerFactory\n",
    "from ranker.ranker import Ranker\n",
    "from classifier.classifier_factory import ClassifierFactory\n",
    "from classifier.classifier import Classifier\n",
    "from datetime import datetime\n",
    "\n",
    "## risk and return class imports\n",
    "from returns.products import Products as returns_products_class\n",
    "\n",
    "## standard imports\n",
    "from statistics import variance\n",
    "import math\n",
    "from datetime import datetime, timedelta\n",
    "import pytz\n",
    "import pandas as pd\n",
    "from tqdm import tqdm\n",
    "import numpy as np\n",
    "import matplotlib.pyplot as plt\n",
    "import pickle"
   ]
  },
  {
   "cell_type": "code",
   "execution_count": null,
   "id": "dc1021a4",
   "metadata": {},
   "outputs": [],
   "source": [
    "start = datetime(2001,1,1)\n",
    "end  = datetime(2023,1,1)\n",
    "current_date = datetime(2023,1,1)"
   ]
  },
  {
   "cell_type": "code",
   "execution_count": null,
   "id": "e5adbebb",
   "metadata": {},
   "outputs": [],
   "source": [
    "market = Market()"
   ]
  },
  {
   "cell_type": "code",
   "execution_count": null,
   "id": "30786d51",
   "metadata": {},
   "outputs": [],
   "source": [
    "pricer_classes = [] \n",
    "# pricer_classes.append(Pricer.DAILY_STOCK_MEANREVERSION)\n",
    "# pricer_classes.append(Pricer.DAILY_STOCK_DEVROLLING)\n",
    "# pricer_classes.append(Pricer.DAILY_STOCK_BREAKOUT)\n",
    "# pricer_classes.append(Pricer.DAILY_STOCK_WINDOW)\n",
    "pricer_classes.append(Pricer.DAILY_STOCK_ROLLING)\n",
    "# pricer_classes.append(Pricer.WEEKLY_STOCK_WINDOW)\n",
    "# pricer_classes.append(Pricer.WEEKLY_STOCK_ROLLING)"
   ]
  },
  {
   "cell_type": "code",
   "execution_count": null,
   "id": "235a8676",
   "metadata": {
    "scrolled": true
   },
   "outputs": [],
   "source": [
    "market.connect()\n",
    "sp500 = market.retrieve(\"sp500\")\n",
    "market.disconnect()\n",
    "sp500 = sp500.rename(columns={\"Symbol\":\"ticker\"})"
   ]
  },
  {
   "cell_type": "code",
   "execution_count": null,
   "id": "7df777cf",
   "metadata": {},
   "outputs": [],
   "source": [
    "market.connect()\n",
    "tyields = returns_products_class.tyields(market.retrieve(\"tyields10\"),10)\n",
    "bench_returns = returns_products_class.spy_bench(market.retrieve(\"spy\"))\n",
    "market.disconnect()\n",
    "current = False\n",
    "ranker_class = Ranker.NONE\n",
    "classifier_class = Classifier.NONE"
   ]
  },
  {
   "cell_type": "code",
   "execution_count": null,
   "id": "604a14af",
   "metadata": {
    "scrolled": true
   },
   "outputs": [],
   "source": [
    "analysis = []\n",
    "trade_algos = []\n",
    "for pricer_class in tqdm(pricer_classes):\n",
    "    trade_algo = TradeAlgorithmFactory.build(TradeAlgorithm.RRR_BETA)\n",
    "    trade_algo.initialize(pricer_class,ranker_class,classifier_class,start,end,current_date)\n",
    "    trade_algo.initialize_bench_and_yields()\n",
    "    trade_algo.initialize_classes()\n",
    "    trade_algos.append(trade_algo)\n",
    "    trade_algo.db.connect()\n",
    "    parameters = trade_algo.pull_iterations().to_dict(\"records\")\n",
    "    for parameter in tqdm(parameters):\n",
    "        try:\n",
    "            trade = trade_algo.db.query(\"trades\",{\"iteration\":parameter[\"iteration\"]})\n",
    "            if trade.index.size > 0:\n",
    "                positions = int(trade_algo.positions) if trade_algo.pricer_class.asset_class.value == \"stocks\" else 1\n",
    "                pricer_timeframe =  trade_algo.pricer_class.time_horizon_class.naming_convention\n",
    "                trade = trade[trade[\"position\"] <= positions]\n",
    "                ledger = trade.sort_values([\"year\",pricer_timeframe]).copy()\n",
    "                anas = trade_algo.analysis\n",
    "                if ledger.index.size > 0:\n",
    "                    cumulative = anas.trade_analysis(ledger,positions,tyields,bench_returns)\n",
    "                    for key in parameter.keys():\n",
    "                        cumulative[key] = parameter[key]\n",
    "                    cumulative[\"trade_algo\"] = trade_algo.name\n",
    "                    for key in parameter.keys():\n",
    "                        cumulative[key] = parameter[key]\n",
    "                    analysis.append(cumulative[list(parameter.keys()) + [\"trade_algo\",\"pv\",\"beta\",\"rrr\",\"sharpe\"]].iloc[-1])\n",
    "        except Exception as e:\n",
    "            print(str(e))\n",
    "            continue\n",
    "    trade_algo.db.disconnect()\n",
    "a = pd.DataFrame([x.to_dict() for x in analysis])"
   ]
  },
  {
   "cell_type": "code",
   "execution_count": null,
   "id": "ce2c3346",
   "metadata": {},
   "outputs": [],
   "source": [
    "a.sort_values(\"pv\",ascending=False).head(20)"
   ]
  },
  {
   "cell_type": "code",
   "execution_count": null,
   "id": "2507f843",
   "metadata": {
    "scrolled": true
   },
   "outputs": [],
   "source": [
    "top_by_strategy = a.sort_values(\"pv\",ascending=False).groupby(\"trade_algo\").nth(0).reset_index().sort_values(\"pv\",ascending=False)\n",
    "top_by_strategy"
   ]
  },
  {
   "cell_type": "code",
   "execution_count": null,
   "id": "67b40568",
   "metadata": {},
   "outputs": [],
   "source": [
    "for row in top_by_strategy.iterrows():\n",
    "    algo_name = row[1][\"trade_algo\"]\n",
    "    parameter = row[1]\n",
    "    db = ADatabase(algo_name)\n",
    "    db.connect()\n",
    "    db.drop(\"optimal\")\n",
    "    db.store(\"optimal\",pd.DataFrame([row[1].to_dict()]))\n",
    "    db.disconnect()\n",
    "    db.cloud_connect()\n",
    "    db.drop(\"optimal\")\n",
    "    db.store(\"optimal\",pd.DataFrame([row[1].to_dict()]))\n",
    "    db.disconnect()"
   ]
  },
  {
   "cell_type": "code",
   "execution_count": null,
   "id": "e073ac53",
   "metadata": {},
   "outputs": [],
   "source": [
    "top = a.sort_values(\"pv\",ascending=False).iloc[0]\n",
    "db = ADatabase(top[\"trade_algo\"])\n",
    "db.connect()\n",
    "analysis = db.query(\"trades\",{\"iteration\":int(top[\"iteration\"])})\n",
    "db.disconnect()"
   ]
  },
  {
   "cell_type": "code",
   "execution_count": null,
   "id": "f407aeb9",
   "metadata": {},
   "outputs": [],
   "source": [
    "trade_algo_name = top[\"trade_algo\"]\n",
    "trade_algo_class = [x for x in trade_algos if x.name == trade_algo_name][0]\n",
    "anas = trade_algo_class.analysis\n",
    "naming = trade_algo_class.pricer_class.time_horizon_class.naming_convention\n",
    "positions = int(int(analysis[\"position\"].max()))\n",
    "ledger = analysis[[\"year\",naming,\"ticker\",f\"{naming}ly_delta\",f\"{naming}ly_delta_sign\",\"actual_returns\",\"position\"]]\n",
    "ledger = ledger[(ledger[\"year\"]>=start.year)]\n",
    "ledger = ledger.merge(sp500[[\"ticker\",\"GICS Sector\",\"Security\"]],on=\"ticker\",how=\"left\")"
   ]
  },
  {
   "cell_type": "code",
   "execution_count": null,
   "id": "58cb8902",
   "metadata": {},
   "outputs": [],
   "source": [
    "ledger"
   ]
  },
  {
   "cell_type": "code",
   "execution_count": null,
   "id": "99b3a18b",
   "metadata": {},
   "outputs": [],
   "source": [
    "plt.figure(figsize=(12, 7), dpi=80)\n",
    "plt.scatter(ledger[f\"{naming}ly_delta\"] * 100, (ledger[\"actual_returns\"]-1)*100,s=10)"
   ]
  },
  {
   "cell_type": "code",
   "execution_count": null,
   "id": "c0631607",
   "metadata": {},
   "outputs": [],
   "source": [
    "ledger.sort_values([\"year\",naming,\"position\"],ascending=True).head(40)"
   ]
  },
  {
   "cell_type": "code",
   "execution_count": null,
   "id": "a5b0a051",
   "metadata": {},
   "outputs": [],
   "source": [
    "ledger[ledger[\"position\"]<20].sort_values(\"actual_returns\",ascending=False).head(50)"
   ]
  },
  {
   "cell_type": "code",
   "execution_count": null,
   "id": "3465b762",
   "metadata": {},
   "outputs": [],
   "source": [
    "ledger[\"actual_returns\"].mean()"
   ]
  },
  {
   "cell_type": "code",
   "execution_count": null,
   "id": "1ab835e5",
   "metadata": {},
   "outputs": [],
   "source": [
    "ledger[ledger[\"actual_returns\"]>1].index.size / ledger.index.size"
   ]
  },
  {
   "cell_type": "code",
   "execution_count": null,
   "id": "57d92dfb",
   "metadata": {
    "scrolled": true
   },
   "outputs": [],
   "source": [
    "portfolio = ledger.pivot_table(index=[\"year\",naming],columns=\"position\",values=\"actual_returns\").fillna(1).reset_index()"
   ]
  },
  {
   "cell_type": "code",
   "execution_count": null,
   "id": "88e3f86f",
   "metadata": {},
   "outputs": [],
   "source": [
    "portfolio.head(20)"
   ]
  },
  {
   "cell_type": "code",
   "execution_count": null,
   "id": "940e6926",
   "metadata": {},
   "outputs": [],
   "source": [
    "plt.plot(portfolio[0])"
   ]
  },
  {
   "cell_type": "code",
   "execution_count": null,
   "id": "d4f532b4",
   "metadata": {},
   "outputs": [],
   "source": [
    "positions = 20"
   ]
  },
  {
   "cell_type": "code",
   "execution_count": null,
   "id": "2ea19da9",
   "metadata": {
    "scrolled": false
   },
   "outputs": [],
   "source": [
    "cumulative = anas.iteration_analysis(portfolio,positions,bench_returns)"
   ]
  },
  {
   "cell_type": "code",
   "execution_count": null,
   "id": "1c05d6ce",
   "metadata": {},
   "outputs": [],
   "source": [
    "anas.naming"
   ]
  },
  {
   "cell_type": "code",
   "execution_count": null,
   "id": "65d705c0",
   "metadata": {
    "scrolled": false
   },
   "outputs": [],
   "source": [
    "cumulative.tail(10)"
   ]
  },
  {
   "cell_type": "code",
   "execution_count": null,
   "id": "23cb6ea7",
   "metadata": {},
   "outputs": [],
   "source": [
    "cash_analysis = cumulative.copy()\n",
    "cash_analysis[\"previous_day\"] = cash_analysis[\"daily_returns\"].shift(1)\n",
    "cash_analysis[\"base\"] = [min(row[1][\"previous_day\"],1) for row in cash_analysis.iterrows()]\n",
    "cash_analysis[\"real_return\"] = cash_analysis[\"base\"] * cash_analysis[\"daily_returns\"]\n",
    "cash_analysis[\"cash\"] = [max(0,row[1][\"real_return\"]-1) * 100 for row in cash_analysis.iterrows()]\n",
    "cash_analysis[\"running_cash\"] = cash_analysis[\"cash\"].cumsum()"
   ]
  },
  {
   "cell_type": "code",
   "execution_count": null,
   "id": "f28efac6",
   "metadata": {},
   "outputs": [],
   "source": [
    "cash_analysis[\"cash\"].sum()"
   ]
  },
  {
   "cell_type": "code",
   "execution_count": null,
   "id": "1a4e24eb",
   "metadata": {},
   "outputs": [],
   "source": [
    "cash_analysis[[\"daily_returns\",\"base\",\"real_return\",\"cash\",\"running_cash\"]]"
   ]
  },
  {
   "cell_type": "code",
   "execution_count": null,
   "id": "f120af54",
   "metadata": {},
   "outputs": [],
   "source": [
    "plt.figure(figsize=(12, 7), dpi=80)\n",
    "plt.plot(cash_analysis[\"date\"],cash_analysis[\"running_cash\"])"
   ]
  },
  {
   "cell_type": "code",
   "execution_count": null,
   "id": "9427c4cd",
   "metadata": {},
   "outputs": [],
   "source": [
    "plt.figure(figsize=(12, 7), dpi=80)\n",
    "plt.plot(cumulative[\"date\"],cumulative[\"pv\"])\n",
    "plt.plot(cumulative[\"date\"],cumulative[\"bench\"])\n",
    "plt.legend([\"pv\",\"bench\"])"
   ]
  },
  {
   "cell_type": "code",
   "execution_count": null,
   "id": "ed243385",
   "metadata": {},
   "outputs": [],
   "source": [
    "cumulative.head(20)"
   ]
  },
  {
   "cell_type": "code",
   "execution_count": null,
   "id": "4d71dfdd",
   "metadata": {},
   "outputs": [],
   "source": [
    "plt.figure(figsize=(12, 7), dpi=80)\n",
    "position_columns = [x for x in cumulative.columns if x not in [\"year\",\"week\",\"quarter\",\"date_string\",\"date\",\"pv\",\"adjclose\",\"bench\"]]\n",
    "for i in position_columns:\n",
    "    position = cumulative[i]\n",
    "    plt.plot(cumulative[\"date\"],position)\n",
    "plt.show()\n"
   ]
  },
  {
   "cell_type": "code",
   "execution_count": null,
   "id": "06d33d4e",
   "metadata": {},
   "outputs": [],
   "source": [
    "ledger.groupby([\"GICS Sector\"]).mean().sort_values(\"actual_returns\",ascending=False)"
   ]
  },
  {
   "cell_type": "code",
   "execution_count": null,
   "id": "35ba67f8",
   "metadata": {},
   "outputs": [],
   "source": [
    "ledger.groupby([\"year\",naming,\"ticker\",\"Security\"]).prod().sort_values(\"actual_returns\",ascending=False).head(30)"
   ]
  },
  {
   "cell_type": "code",
   "execution_count": null,
   "id": "29b4fbde",
   "metadata": {
    "scrolled": false
   },
   "outputs": [],
   "source": [
    "industry_analysis = ledger.pivot_table(index=[\"year\",naming],columns=\"GICS Sector\",values=\"actual_returns\").fillna(1).reset_index()\n",
    "industry_analysis[[x for x in industry_analysis.columns if x != \"sell_date\"]].cumprod()"
   ]
  }
 ],
 "metadata": {
  "kernelspec": {
   "display_name": "Python 3 (ipykernel)",
   "language": "python",
   "name": "python3"
  },
  "language_info": {
   "codemirror_mode": {
    "name": "ipython",
    "version": 3
   },
   "file_extension": ".py",
   "mimetype": "text/x-python",
   "name": "python",
   "nbconvert_exporter": "python",
   "pygments_lexer": "ipython3",
   "version": "3.10.5"
  }
 },
 "nbformat": 4,
 "nbformat_minor": 5
}
