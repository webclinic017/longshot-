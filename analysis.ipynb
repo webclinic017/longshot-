{
 "cells": [
  {
   "cell_type": "code",
   "execution_count": 33,
   "id": "aa80f443",
   "metadata": {
    "scrolled": true
   },
   "outputs": [],
   "source": [
    "## personal imports\n",
    "from processor.processor import Processor as p\n",
    "from database.market import Market\n",
    "from database.adatabase import ADatabase\n",
    "from datetime import datetime\n",
    "\n",
    "from tradealgorithm.tradealgorithm import TradeAlgorithm\n",
    "from tradealgorithm.tradealgorithmfactory import TradeAlgorithmFactory\n",
    "from pricer.pricer_factory import PricerFactory\n",
    "from pricer.pricer import Pricer\n",
    "from ranker.ranker_factory import RankerFactory\n",
    "from ranker.ranker import Ranker\n",
    "from classifier.classifier_factory import ClassifierFactory\n",
    "from classifier.classifier import Classifier\n",
    "from datetime import datetime\n",
    "\n",
    "## risk and return class imports\n",
    "from returns.products import Products as returns_products_class\n",
    "\n",
    "## standard imports\n",
    "from statistics import variance\n",
    "import math\n",
    "from datetime import datetime, timedelta\n",
    "import pytz\n",
    "import pandas as pd\n",
    "from tqdm import tqdm\n",
    "import numpy as np\n",
    "import matplotlib.pyplot as plt\n",
    "import pickle"
   ]
  },
  {
   "cell_type": "code",
   "execution_count": 34,
   "id": "dc1021a4",
   "metadata": {},
   "outputs": [],
   "source": [
    "start = datetime(2001,1,1)\n",
    "end  = datetime(2023,1,1)\n",
    "current_date = datetime(2023,1,1)"
   ]
  },
  {
   "cell_type": "code",
   "execution_count": 35,
   "id": "e5adbebb",
   "metadata": {},
   "outputs": [],
   "source": [
    "market = Market()"
   ]
  },
  {
   "cell_type": "code",
   "execution_count": 36,
   "id": "861fab11",
   "metadata": {},
   "outputs": [],
   "source": [
    "trade_algo = TradeAlgorithmFactory.build(TradeAlgorithm.RRR_BETA)\n",
    "pricer_class = Pricer.DAILY_STOCK_ROLLING\n",
    "ranker_class = Ranker.NONE\n",
    "classifier_class = Classifier.NONE\n",
    "current = False\n",
    "trade_algo.initialize(pricer_class,ranker_class,classifier_class,start,end,current_date)\n",
    "trade_algo.initialize_bench_and_yields()\n",
    "trade_algo.initialize_classes()"
   ]
  },
  {
   "cell_type": "code",
   "execution_count": 37,
   "id": "235a8676",
   "metadata": {
    "scrolled": true
   },
   "outputs": [],
   "source": [
    "market.connect()\n",
    "sp500 = market.retrieve(\"sp500\")\n",
    "market.disconnect()\n",
    "sp500 = sp500.rename(columns={\"Symbol\":\"ticker\"})"
   ]
  },
  {
   "cell_type": "code",
   "execution_count": 38,
   "id": "7df777cf",
   "metadata": {},
   "outputs": [],
   "source": [
    "market.connect()\n",
    "tyields = returns_products_class.tyields(market.retrieve(\"tyields10\"),10)\n",
    "bench_returns = returns_products_class.spy_bench(market.retrieve(\"spy\"))\n",
    "market.disconnect()"
   ]
  },
  {
   "cell_type": "code",
   "execution_count": 39,
   "id": "604a14af",
   "metadata": {
    "scrolled": true
   },
   "outputs": [
    {
     "name": "stderr",
     "output_type": "stream",
     "text": [
      "0it [00:00, ?it/s]\n"
     ]
    }
   ],
   "source": [
    "analysis = []\n",
    "trade_algo.db.connect()\n",
    "parameters = trade_algo.pull_iterations().to_dict(\"records\")\n",
    "for parameter in tqdm(parameters):\n",
    "    try:\n",
    "        trade = trade_algo.db.query(\"trades\",{\"iteration\":parameter[\"iteration\"]})\n",
    "        if trade.index.size > 0:\n",
    "            positions = int(trade_algo.positions) if trade_algo.pricer_class.asset_class.value == \"stocks\" else 1\n",
    "            pricer_timeframe =  trade_algo.pricer_class.time_horizon_class.naming_convention\n",
    "            trade = trade[trade[\"position\"] <= positions]\n",
    "            ledger = trade.sort_values([\"year\",pricer_timeframe]).copy()\n",
    "            anas = trade_algo.analysis\n",
    "            if ledger.index.size > 0:\n",
    "                cumulative = anas.trade_analysis(ledger,positions,tyields,bench_returns)\n",
    "                for key in parameter.keys():\n",
    "                    cumulative[key] = parameter[key]\n",
    "                cumulative[\"trade_algo\"] = trade_algo.name\n",
    "                for key in parameter.keys():\n",
    "                    cumulative[key] = parameter[key]\n",
    "                analysis.append(cumulative[list(parameter.keys()) + [\"trade_algo\",\"pv\",\"beta\",\"rrr\",\"sharpe\"]].iloc[-1])\n",
    "    except Exception as e:\n",
    "        print(str(e))\n",
    "        continue\n",
    "trade_algo.db.disconnect()\n",
    "a = pd.DataFrame([x.to_dict() for x in analysis])"
   ]
  },
  {
   "cell_type": "code",
   "execution_count": 40,
   "id": "ce2c3346",
   "metadata": {},
   "outputs": [
    {
     "ename": "KeyError",
     "evalue": "'pv'",
     "output_type": "error",
     "traceback": [
      "\u001b[1;31m---------------------------------------------------------------------------\u001b[0m",
      "\u001b[1;31mKeyError\u001b[0m                                  Traceback (most recent call last)",
      "\u001b[1;32m~\\AppData\\Local\\Temp/ipykernel_12416/3899604681.py\u001b[0m in \u001b[0;36m<module>\u001b[1;34m\u001b[0m\n\u001b[1;32m----> 1\u001b[1;33m \u001b[0ma\u001b[0m\u001b[1;33m.\u001b[0m\u001b[0msort_values\u001b[0m\u001b[1;33m(\u001b[0m\u001b[1;34m\"pv\"\u001b[0m\u001b[1;33m,\u001b[0m\u001b[0mascending\u001b[0m\u001b[1;33m=\u001b[0m\u001b[1;32mFalse\u001b[0m\u001b[1;33m)\u001b[0m\u001b[1;33m.\u001b[0m\u001b[0mhead\u001b[0m\u001b[1;33m(\u001b[0m\u001b[1;36m20\u001b[0m\u001b[1;33m)\u001b[0m\u001b[1;33m\u001b[0m\u001b[1;33m\u001b[0m\u001b[0m\n\u001b[0m",
      "\u001b[1;32m~\\AppData\\Local\\Programs\\Python\\Python310\\lib\\site-packages\\pandas\\util\\_decorators.py\u001b[0m in \u001b[0;36mwrapper\u001b[1;34m(*args, **kwargs)\u001b[0m\n\u001b[0;32m    309\u001b[0m                     \u001b[0mstacklevel\u001b[0m\u001b[1;33m=\u001b[0m\u001b[0mstacklevel\u001b[0m\u001b[1;33m,\u001b[0m\u001b[1;33m\u001b[0m\u001b[1;33m\u001b[0m\u001b[0m\n\u001b[0;32m    310\u001b[0m                 )\n\u001b[1;32m--> 311\u001b[1;33m             \u001b[1;32mreturn\u001b[0m \u001b[0mfunc\u001b[0m\u001b[1;33m(\u001b[0m\u001b[1;33m*\u001b[0m\u001b[0margs\u001b[0m\u001b[1;33m,\u001b[0m \u001b[1;33m**\u001b[0m\u001b[0mkwargs\u001b[0m\u001b[1;33m)\u001b[0m\u001b[1;33m\u001b[0m\u001b[1;33m\u001b[0m\u001b[0m\n\u001b[0m\u001b[0;32m    312\u001b[0m \u001b[1;33m\u001b[0m\u001b[0m\n\u001b[0;32m    313\u001b[0m         \u001b[1;32mreturn\u001b[0m \u001b[0mwrapper\u001b[0m\u001b[1;33m\u001b[0m\u001b[1;33m\u001b[0m\u001b[0m\n",
      "\u001b[1;32m~\\AppData\\Local\\Programs\\Python\\Python310\\lib\\site-packages\\pandas\\core\\frame.py\u001b[0m in \u001b[0;36msort_values\u001b[1;34m(self, by, axis, ascending, inplace, kind, na_position, ignore_index, key)\u001b[0m\n\u001b[0;32m   6257\u001b[0m \u001b[1;33m\u001b[0m\u001b[0m\n\u001b[0;32m   6258\u001b[0m             \u001b[0mby\u001b[0m \u001b[1;33m=\u001b[0m \u001b[0mby\u001b[0m\u001b[1;33m[\u001b[0m\u001b[1;36m0\u001b[0m\u001b[1;33m]\u001b[0m\u001b[1;33m\u001b[0m\u001b[1;33m\u001b[0m\u001b[0m\n\u001b[1;32m-> 6259\u001b[1;33m             \u001b[0mk\u001b[0m \u001b[1;33m=\u001b[0m \u001b[0mself\u001b[0m\u001b[1;33m.\u001b[0m\u001b[0m_get_label_or_level_values\u001b[0m\u001b[1;33m(\u001b[0m\u001b[0mby\u001b[0m\u001b[1;33m,\u001b[0m \u001b[0maxis\u001b[0m\u001b[1;33m=\u001b[0m\u001b[0maxis\u001b[0m\u001b[1;33m)\u001b[0m\u001b[1;33m\u001b[0m\u001b[1;33m\u001b[0m\u001b[0m\n\u001b[0m\u001b[0;32m   6260\u001b[0m \u001b[1;33m\u001b[0m\u001b[0m\n\u001b[0;32m   6261\u001b[0m             \u001b[1;31m# need to rewrap column in Series to apply key function\u001b[0m\u001b[1;33m\u001b[0m\u001b[1;33m\u001b[0m\u001b[0m\n",
      "\u001b[1;32m~\\AppData\\Local\\Programs\\Python\\Python310\\lib\\site-packages\\pandas\\core\\generic.py\u001b[0m in \u001b[0;36m_get_label_or_level_values\u001b[1;34m(self, key, axis)\u001b[0m\n\u001b[0;32m   1777\u001b[0m             \u001b[0mvalues\u001b[0m \u001b[1;33m=\u001b[0m \u001b[0mself\u001b[0m\u001b[1;33m.\u001b[0m\u001b[0maxes\u001b[0m\u001b[1;33m[\u001b[0m\u001b[0maxis\u001b[0m\u001b[1;33m]\u001b[0m\u001b[1;33m.\u001b[0m\u001b[0mget_level_values\u001b[0m\u001b[1;33m(\u001b[0m\u001b[0mkey\u001b[0m\u001b[1;33m)\u001b[0m\u001b[1;33m.\u001b[0m\u001b[0m_values\u001b[0m\u001b[1;33m\u001b[0m\u001b[1;33m\u001b[0m\u001b[0m\n\u001b[0;32m   1778\u001b[0m         \u001b[1;32melse\u001b[0m\u001b[1;33m:\u001b[0m\u001b[1;33m\u001b[0m\u001b[1;33m\u001b[0m\u001b[0m\n\u001b[1;32m-> 1779\u001b[1;33m             \u001b[1;32mraise\u001b[0m \u001b[0mKeyError\u001b[0m\u001b[1;33m(\u001b[0m\u001b[0mkey\u001b[0m\u001b[1;33m)\u001b[0m\u001b[1;33m\u001b[0m\u001b[1;33m\u001b[0m\u001b[0m\n\u001b[0m\u001b[0;32m   1780\u001b[0m \u001b[1;33m\u001b[0m\u001b[0m\n\u001b[0;32m   1781\u001b[0m         \u001b[1;31m# Check for duplicates\u001b[0m\u001b[1;33m\u001b[0m\u001b[1;33m\u001b[0m\u001b[0m\n",
      "\u001b[1;31mKeyError\u001b[0m: 'pv'"
     ]
    }
   ],
   "source": [
    "a.sort_values(\"pv\",ascending=False).head(20)"
   ]
  },
  {
   "cell_type": "code",
   "execution_count": null,
   "id": "2507f843",
   "metadata": {
    "scrolled": true
   },
   "outputs": [],
   "source": [
    "a.sort_values(\"pv\",ascending=False).groupby(\"trade_algo\").nth(0).reset_index()"
   ]
  },
  {
   "cell_type": "code",
   "execution_count": null,
   "id": "e073ac53",
   "metadata": {},
   "outputs": [],
   "source": [
    "top = a.sort_values(\"pv\",ascending=False).iloc[0]\n",
    "db = ADatabase(top[\"trade_algo\"])\n",
    "db.connect()\n",
    "analysis = db.query(\"trades\",{\"iteration\":int(top[\"iteration\"])})\n",
    "db.disconnect()"
   ]
  },
  {
   "cell_type": "code",
   "execution_count": null,
   "id": "f407aeb9",
   "metadata": {},
   "outputs": [],
   "source": [
    "anas = trade_algo.analysis\n",
    "naming = \"date\"\n",
    "positions = int(int(analysis[\"position\"].max())/5)\n",
    "ledger = analysis[[\"year\",naming,\"ticker\",f\"{naming}ly_delta\",f\"{naming}ly_delta_sign\",\"actual_returns\",\"position\"]]\n",
    "ledger = ledger[ledger[\"year\"]>=start.year]\n",
    "ledger = ledger.merge(sp500[[\"ticker\",\"GICS Sector\",\"Security\"]],on=\"ticker\",how=\"left\")"
   ]
  },
  {
   "cell_type": "code",
   "execution_count": null,
   "id": "58cb8902",
   "metadata": {},
   "outputs": [],
   "source": [
    "ledger"
   ]
  },
  {
   "cell_type": "code",
   "execution_count": null,
   "id": "99b3a18b",
   "metadata": {},
   "outputs": [],
   "source": [
    "plt.figure(figsize=(12, 7), dpi=80)\n",
    "plt.scatter(ledger[f\"{naming}ly_delta\"] * 100, (ledger[\"actual_returns\"]-1)*100,s=10)"
   ]
  },
  {
   "cell_type": "code",
   "execution_count": null,
   "id": "c0631607",
   "metadata": {},
   "outputs": [],
   "source": [
    "ledger.sort_values([\"year\",naming,\"position\"],ascending=True).head(20)"
   ]
  },
  {
   "cell_type": "code",
   "execution_count": null,
   "id": "a5b0a051",
   "metadata": {},
   "outputs": [],
   "source": [
    "ledger[ledger[\"position\"]<20].sort_values(\"actual_returns\",ascending=False).head(50)"
   ]
  },
  {
   "cell_type": "code",
   "execution_count": null,
   "id": "3465b762",
   "metadata": {},
   "outputs": [],
   "source": [
    "ledger[\"actual_returns\"].mean()"
   ]
  },
  {
   "cell_type": "code",
   "execution_count": null,
   "id": "1ab835e5",
   "metadata": {},
   "outputs": [],
   "source": [
    "ledger[ledger[\"actual_returns\"]>1].index.size / ledger.index.size"
   ]
  },
  {
   "cell_type": "code",
   "execution_count": null,
   "id": "57d92dfb",
   "metadata": {
    "scrolled": true
   },
   "outputs": [],
   "source": [
    "portfolio = ledger.pivot_table(index=[\"year\",naming],columns=\"position\",values=\"actual_returns\").fillna(1).reset_index()"
   ]
  },
  {
   "cell_type": "code",
   "execution_count": null,
   "id": "88e3f86f",
   "metadata": {},
   "outputs": [],
   "source": [
    "portfolio"
   ]
  },
  {
   "cell_type": "code",
   "execution_count": null,
   "id": "d4f532b4",
   "metadata": {},
   "outputs": [],
   "source": [
    "positions = 10"
   ]
  },
  {
   "cell_type": "code",
   "execution_count": null,
   "id": "2ea19da9",
   "metadata": {
    "scrolled": false
   },
   "outputs": [],
   "source": [
    "cumulative = anas.iteration_analysis(portfolio,positions,bench_returns)"
   ]
  },
  {
   "cell_type": "code",
   "execution_count": null,
   "id": "65d705c0",
   "metadata": {
    "scrolled": false
   },
   "outputs": [],
   "source": [
    "cumulative.tail(10)"
   ]
  },
  {
   "cell_type": "code",
   "execution_count": null,
   "id": "23cb6ea7",
   "metadata": {},
   "outputs": [],
   "source": [
    "cash_analysis = cumulative.copy()\n",
    "cash_analysis[\"previous_day\"] = cash_analysis[\"daily_returns\"].shift(1)\n",
    "cash_analysis[\"base\"] = [min(row[1][\"previous_day\"],1) for row in cash_analysis.iterrows()]\n",
    "cash_analysis[\"real_return\"] = cash_analysis[\"base\"] * cash_analysis[\"daily_returns\"]\n",
    "cash_analysis[\"cash\"] = [max(0,row[1][\"real_return\"]-1) * 100 for row in cash_analysis.iterrows()]\n",
    "cash_analysis[\"running_cash\"] = cash_analysis[\"cash\"].cumsum()"
   ]
  },
  {
   "cell_type": "code",
   "execution_count": null,
   "id": "f28efac6",
   "metadata": {},
   "outputs": [],
   "source": [
    "cash_analysis[\"cash\"].sum()"
   ]
  },
  {
   "cell_type": "code",
   "execution_count": null,
   "id": "1a4e24eb",
   "metadata": {},
   "outputs": [],
   "source": [
    "cash_analysis[[\"daily_returns\",\"base\",\"real_return\",\"cash\",\"running_cash\"]]"
   ]
  },
  {
   "cell_type": "code",
   "execution_count": null,
   "id": "f120af54",
   "metadata": {},
   "outputs": [],
   "source": [
    "plt.figure(figsize=(12, 7), dpi=80)\n",
    "plt.plot(cash_analysis[\"date\"],cash_analysis[\"running_cash\"])"
   ]
  },
  {
   "cell_type": "code",
   "execution_count": null,
   "id": "9427c4cd",
   "metadata": {},
   "outputs": [],
   "source": [
    "plt.figure(figsize=(12, 7), dpi=80)\n",
    "plt.plot(cumulative[\"date\"],cumulative[\"pv\"])\n",
    "plt.plot(cumulative[\"date\"],cumulative[\"bench\"])\n",
    "plt.legend([\"pv\",\"bench\"])"
   ]
  },
  {
   "cell_type": "code",
   "execution_count": null,
   "id": "ed243385",
   "metadata": {},
   "outputs": [],
   "source": [
    "cumulative.tail(20)"
   ]
  },
  {
   "cell_type": "code",
   "execution_count": null,
   "id": "4d71dfdd",
   "metadata": {},
   "outputs": [],
   "source": [
    "plt.figure(figsize=(12, 7), dpi=80)\n",
    "position_columns = [x for x in cumulative.columns if x not in [\"year\",\"week\",\"quarter\",\"date_string\",\"date\",\"pv\",\"adjclose\",\"bench\"]]\n",
    "for i in position_columns:\n",
    "    position = cumulative[i]\n",
    "    plt.plot(cumulative[\"date\"],position)\n",
    "plt.show()\n"
   ]
  },
  {
   "cell_type": "code",
   "execution_count": null,
   "id": "06d33d4e",
   "metadata": {},
   "outputs": [],
   "source": [
    "ledger.groupby([\"GICS Sector\"]).mean().sort_values(\"actual_returns\",ascending=False)"
   ]
  },
  {
   "cell_type": "code",
   "execution_count": null,
   "id": "35ba67f8",
   "metadata": {},
   "outputs": [],
   "source": [
    "ledger.groupby([\"year\",naming,\"ticker\",\"Security\"]).prod().sort_values(\"actual_returns\",ascending=False).head(30)"
   ]
  },
  {
   "cell_type": "code",
   "execution_count": null,
   "id": "29b4fbde",
   "metadata": {
    "scrolled": false
   },
   "outputs": [],
   "source": [
    "industry_analysis = ledger.pivot_table(index=[\"year\",naming],columns=\"GICS Sector\",values=\"actual_returns\").fillna(1).reset_index()\n",
    "industry_analysis[[x for x in industry_analysis.columns if x != \"sell_date\"]].cumprod()"
   ]
  }
 ],
 "metadata": {
  "kernelspec": {
   "display_name": "Python 3 (ipykernel)",
   "language": "python",
   "name": "python3"
  },
  "language_info": {
   "codemirror_mode": {
    "name": "ipython",
    "version": 3
   },
   "file_extension": ".py",
   "mimetype": "text/x-python",
   "name": "python",
   "nbconvert_exporter": "python",
   "pygments_lexer": "ipython3",
   "version": "3.10.5"
  }
 },
 "nbformat": 4,
 "nbformat_minor": 5
}
