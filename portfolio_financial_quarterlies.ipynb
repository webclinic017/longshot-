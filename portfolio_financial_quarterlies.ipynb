{
 "cells": [
  {
   "cell_type": "code",
   "execution_count": 6,
   "id": "5a24d11e",
   "metadata": {},
   "outputs": [],
   "source": [
    "from datetime import datetime, timezone, timedelta\n",
    "import pandas as pd\n",
    "\n",
    "from database.market import Market\n",
    "from database.sec import SEC\n",
    "from processor.processor import Processor as p\n",
    "from modeler_strats.universal_modeler import UniversalModeler\n",
    "from fund.fund import Fund\n",
    "\n",
    "from pricer.pricer import Pricer as pricer_list\n",
    "from ranker.ranker import Ranker as ranker_list\n",
    "from classifier.classifier import Classifier as classifier_list\n",
    "from portfolio.aportfolio import APortfolio"
   ]
  },
  {
   "cell_type": "code",
   "execution_count": 12,
   "id": "2cbb07e6",
   "metadata": {},
   "outputs": [],
   "source": [
    "portfolio = APortfolio(pricer_list.QUARTERLY_STOCK_FINANCIAL\n",
    "                          ,classifier_list.NONE\n",
    "                          ,ranker_list.NONE)\n",
    "portfolios = []\n",
    "portfolios.append(portfolio)\n",
    "fund = Fund(portfolios,datetime(2023,1,1),datetime.now(),datetime.now())\n",
    "fund.initialize_portfolios()"
   ]
  },
  {
   "cell_type": "code",
   "execution_count": 27,
   "id": "39ee7553",
   "metadata": {},
   "outputs": [],
   "source": [
    "year = 2023"
   ]
  },
  {
   "cell_type": "code",
   "execution_count": 19,
   "id": "1f7fc22a",
   "metadata": {},
   "outputs": [],
   "source": [
    "market = Market()\n",
    "market.cloud_connect()\n",
    "sp500 = market.retrieve(\"sp500\").rename(columns={\"Symbol\":\"ticker\"})\n",
    "market.disconnect()\n",
    "modeler_strat = UniversalModeler()"
   ]
  },
  {
   "cell_type": "code",
   "execution_count": 32,
   "id": "b0c57b4d",
   "metadata": {},
   "outputs": [
    {
     "name": "stdout",
     "output_type": "stream",
     "text": [
      "AJG \"['weightedaveragenumberofdilutedsharesoutstanding'] not in index\"\n",
      "T \"['stockholdersequity'] not in index\"\n",
      "BKR \"['weightedaveragenumberofsharesoutstandingbasic'] not in index\"\n",
      "CPT \"['incometaxexpensebenefit', 'retainedearningsaccumulateddeficit', 'propertyplantandequipmentnet'] not in index\"\n",
      "CI \"['weightedaveragenumberofsharesoutstandingbasic'] not in index\"\n",
      "CSX \"['stockholdersequity'] not in index\"\n",
      "HIG \"['cashandcashequivalentsatcarryingvalue'] not in index\"\n",
      "HSY \"['earningspersharebasic', 'earningspersharediluted'] not in index\"\n",
      "TAP \"['entitycommonstocksharesoutstanding'] not in index\"\n",
      "UDR \"['retainedearningsaccumulateddeficit', 'propertyplantandequipmentnet'] not in index\"\n",
      "UAA \"['entitycommonstocksharesoutstanding'] not in index\"\n",
      "ALL \"['cashandcashequivalentsatcarryingvalue'] not in index\"\n",
      "AXP \"['cashandcashequivalentsatcarryingvalue'] not in index\"\n",
      "BIO \"['entitycommonstocksharesoutstanding'] not in index\"\n",
      "EXPE \"['entitycommonstocksharesoutstanding'] not in index\"\n",
      "FFIV \"['stockholdersequity'] not in index\"\n",
      "FITB \"['cashandcashequivalentsatcarryingvalue'] not in index\"\n",
      "JKHY \"['accumulatedothercomprehensiveincomelossnetoftax'] not in index\"\n",
      "MA \"['entitycommonstocksharesoutstanding'] not in index\"\n",
      "MET \"['propertyplantandequipmentnet'] not in index\"\n",
      "MAA \"['retainedearningsaccumulateddeficit', 'propertyplantandequipmentnet'] not in index\"\n",
      "PGR \"['cashandcashequivalentsatcarryingvalue'] not in index\"\n",
      "PEG \"['propertyplantandequipmentnet'] not in index\"\n",
      "STT \"['cashandcashequivalentsatcarryingvalue'] not in index\"\n",
      "MKC \"['entitycommonstocksharesoutstanding'] not in index\"\n",
      "META \"['entitycommonstocksharesoutstanding'] not in index\"\n",
      "ODFL \"['accumulatedothercomprehensiveincomelossnetoftax'] not in index\"\n",
      "SPG \"['propertyplantandequipmentnet', 'entitycommonstocksharesoutstanding'] not in index\"\n",
      "SYY \"['retainedearningsaccumulateddeficit'] not in index\"\n",
      "TFC \"['stockholdersequity'] not in index\"\n",
      "UPS \"['entitycommonstocksharesoutstanding'] not in index\"\n",
      "STZ \"['earningspersharebasic', 'earningspersharediluted', 'entitycommonstocksharesoutstanding', 'weightedaveragenumberofdilutedsharesoutstanding', 'weightedaveragenumberofsharesoutstandingbasic'] not in index\"\n",
      "DLR \"['propertyplantandequipmentnet'] not in index\"\n",
      "EL \"['entitycommonstocksharesoutstanding'] not in index\"\n",
      "RE \"['propertyplantandequipmentnet'] not in index\"\n",
      "KIM \"['propertyplantandequipmentnet'] not in index\"\n",
      "LNC \"['propertyplantandequipmentnet'] not in index\"\n",
      "MNST \"['earningspersharebasic', 'earningspersharediluted'] not in index\"\n",
      "TRV \"['propertyplantandequipmentnet', 'cashandcashequivalentsatcarryingvalue'] not in index\"\n",
      "VTR \"['propertyplantandequipmentnet'] not in index\"\n",
      "WELL \"['propertyplantandequipmentnet'] not in index\"\n",
      "GOOGL \"['weightedaveragenumberofdilutedsharesoutstanding', 'weightedaveragenumberofsharesoutstandingbasic'] not in index\"\n",
      "AIG \"['cashandcashequivalentsatcarryingvalue'] not in index\"\n",
      "CME \"['entitycommonstocksharesoutstanding'] not in index\"\n",
      "CMCSA \"['entitycommonstocksharesoutstanding'] not in index\"\n",
      "EQR \"['propertyplantandequipmentnet'] not in index\"\n",
      "ES \"['propertyplantandequipmentnet'] not in index\"\n",
      "F \"['entitycommonstocksharesoutstanding'] not in index\"\n",
      "ITW \"['stockholdersequity'] not in index\"\n",
      "NWSA \"['entitycommonstocksharesoutstanding'] not in index\"\n",
      "PNC \"['cashandcashequivalentsatcarryingvalue'] not in index\"\n",
      "SYF \"['accumulatedothercomprehensiveincomelossnetoftax', 'propertyplantandequipmentnet'] not in index\"\n",
      "TROW \"['retainedearningsaccumulateddeficit'] not in index\"\n",
      "VNO \"['propertyplantandequipmentnet'] not in index\"\n",
      "AVB \"['propertyplantandequipmentnet'] not in index\"\n",
      "BXP \"['incometaxexpensebenefit', 'propertyplantandequipmentnet'] not in index\"\n",
      "C \"['propertyplantandequipmentnet'] not in index\"\n",
      "EPAM \"['retainedearningsaccumulateddeficit'] not in index\"\n",
      "PEAK \"['retainedearningsaccumulateddeficit', 'propertyplantandequipmentnet'] not in index\"\n",
      "JNJ \"['stockholdersequity'] not in index\"\n",
      "L \"['cashandcashequivalentsatcarryingvalue'] not in index\"\n",
      "NTRS \"['cashandcashequivalentsatcarryingvalue'] not in index\"\n",
      "PSA \"['propertyplantandequipmentnet'] not in index\"\n",
      "RL \"['entitycommonstocksharesoutstanding'] not in index\"\n",
      "ZION \"['cashandcashequivalentsatcarryingvalue'] not in index\"\n",
      "ACN \"['entitycommonstocksharesoutstanding'] not in index\"\n",
      "ADM \"['stockholdersequity'] not in index\"\n",
      "ARE \"['incometaxexpensebenefit'] not in index\"\n",
      "KMX \"['stockholdersequity'] not in index\"\n",
      "CAT \"['stockholdersequity'] not in index\"\n",
      "DISH \"['entitycommonstocksharesoutstanding'] not in index\"\n",
      "ESS \"['retainedearningsaccumulateddeficit', 'propertyplantandequipmentnet'] not in index\"\n",
      "GL \"['propertyplantandequipmentnet'] not in index\"\n",
      "HRL \"['entitycommonstocksharesoutstanding'] not in index\"\n",
      "JBHT \"['accumulatedothercomprehensiveincomelossnetoftax'] not in index\"\n",
      "KEY \"['cashandcashequivalentsatcarryingvalue'] not in index\"\n",
      "NRG \"['stockholdersequity'] not in index\"\n",
      "PARA \"['entitycommonstocksharesoutstanding'] not in index\"\n",
      "PXD \"['accumulatedothercomprehensiveincomelossnetoftax'] not in index\"\n",
      "O \"['retainedearningsaccumulateddeficit', 'propertyplantandequipmentnet'] not in index\"\n",
      "REG \"['retainedearningsaccumulateddeficit'] not in index\"\n",
      "COF \"['cashandcashequivalentsatcarryingvalue'] not in index\"\n",
      "CMA \"['stockholdersequity'] not in index\"\n",
      "FRT \"['incometaxexpensebenefit', 'retainedearningsaccumulateddeficit', 'propertyplantandequipmentnet'] not in index\"\n",
      "LEN \"['entitycommonstocksharesoutstanding'] not in index\"\n",
      "NVR \"['accumulatedothercomprehensiveincomelossnetoftax', 'propertyplantandequipmentnet'] not in index\"\n",
      "PG \"['stockholdersequity'] not in index\"\n",
      "UHS \"['entitycommonstocksharesoutstanding'] not in index\"\n",
      "WFC \"['cashandcashequivalentsatcarryingvalue'] not in index\"\n",
      "TSN \"['earningspersharebasic', 'entitycommonstocksharesoutstanding', 'weightedaveragenumberofsharesoutstandingbasic'] not in index\"\n",
      "V \"['earningspersharebasic', 'earningspersharediluted', 'entitycommonstocksharesoutstanding', 'weightedaveragenumberofdilutedsharesoutstanding', 'weightedaveragenumberofsharesoutstandingbasic', 'stockholdersequity'] not in index\"\n",
      "'week'\n"
     ]
    }
   ],
   "source": [
    "for portfolio in fund.portfolios:\n",
    "    try:\n",
    "        pricer_class = portfolio.pricer_class\n",
    "        tickers = sp500[\"ticker\"].unique() if pricer_class.asset_class.value == \"stocks\" else [\"BTC\"]\n",
    "        training_sets = []\n",
    "        sec.connect()\n",
    "        market.cloud_connect()\n",
    "        for ticker in tickers:\n",
    "            try:\n",
    "                cik = int(sp500[sp500[\"ticker\"]==ticker][\"CIK\"])\n",
    "                prices = market.retrieve_ticker_prices(pricer_class.asset_class.value,ticker)\n",
    "                filings = sec.retrieve_filing_data(cik)\n",
    "                prices = p.column_date_processing(prices)\n",
    "                filings = p.column_date_processing(filings)\n",
    "                ticker_data = pricer_class.training_set(ticker,prices,filings,True)\n",
    "                training_sets.append(ticker_data)\n",
    "            except Exception as e:\n",
    "                print(ticker,str(e))\n",
    "                continue\n",
    "        data = pd.concat(training_sets)\n",
    "        training_data = data.dropna().copy().sort_values([\"year\",\"week\"])\n",
    "        market.disconnect()\n",
    "        sec.disconnect()\n",
    "    except Exception as e:\n",
    "        print(str(e))\n",
    "        continue"
   ]
  },
  {
   "cell_type": "code",
   "execution_count": 33,
   "id": "3346a934",
   "metadata": {},
   "outputs": [],
   "source": [
    "training_data = data.copy()"
   ]
  },
  {
   "cell_type": "code",
   "execution_count": 34,
   "id": "75c6e3f2",
   "metadata": {},
   "outputs": [
    {
     "data": {
      "text/plain": [
       "Index(['assets', 'liabilitiesandstockholdersequity', 'incometaxexpensebenefit',\n",
       "       'retainedearningsaccumulateddeficit',\n",
       "       'accumulatedothercomprehensiveincomelossnetoftax',\n",
       "       'earningspersharebasic', 'earningspersharediluted',\n",
       "       'propertyplantandequipmentnet', 'cashandcashequivalentsatcarryingvalue',\n",
       "       'entitycommonstocksharesoutstanding',\n",
       "       'weightedaveragenumberofdilutedsharesoutstanding',\n",
       "       'weightedaveragenumberofsharesoutstandingbasic', 'stockholdersequity',\n",
       "       'year', 'quarter', 'ticker', 'adjclose'],\n",
       "      dtype='object')"
      ]
     },
     "execution_count": 34,
     "metadata": {},
     "output_type": "execute_result"
    }
   ],
   "source": [
    "training_data.columns"
   ]
  },
  {
   "cell_type": "code",
   "execution_count": 35,
   "id": "dda51c07",
   "metadata": {},
   "outputs": [],
   "source": [
    "# making predictions\n",
    "if pricer_class.isai:\n",
    "    pricer_class.db.cloud_connect()\n",
    "    pricer_class.db.drop(\"predictions\")\n",
    "    prediction_set = training_data[training_data[\"year\"]==year-1].reset_index(drop=True)\n",
    "    models = pricer_class.db.retrieve(\"models\")\n",
    "    stuff = modeler_strat.recommend(models,prediction_set,pricer_class.factors)\n",
    "    stuff = stuff.rename(columns={\"prediction\":f\"price_prediction\"})\n",
    "    stuff = pricer_class.sim_processor(stuff)\n",
    "    relevant_columns = list(set(list(stuff.columns)) - set(pricer_class.factors))\n",
    "    pricer_class.db.store(\"predictions\",stuff[relevant_columns])\n",
    "    pricer_class.db.disconnect()"
   ]
  },
  {
   "cell_type": "code",
   "execution_count": 37,
   "id": "fc9d845b",
   "metadata": {},
   "outputs": [],
   "source": [
    "stuff[relevant_columns].to_csv(\"financial_predictions.csv\")"
   ]
  },
  {
   "cell_type": "code",
   "execution_count": null,
   "id": "f2aee06f",
   "metadata": {},
   "outputs": [],
   "source": []
  }
 ],
 "metadata": {
  "kernelspec": {
   "display_name": "Python 3 (ipykernel)",
   "language": "python",
   "name": "python3"
  },
  "language_info": {
   "codemirror_mode": {
    "name": "ipython",
    "version": 3
   },
   "file_extension": ".py",
   "mimetype": "text/x-python",
   "name": "python",
   "nbconvert_exporter": "python",
   "pygments_lexer": "ipython3",
   "version": "3.10.5"
  }
 },
 "nbformat": 4,
 "nbformat_minor": 5
}
