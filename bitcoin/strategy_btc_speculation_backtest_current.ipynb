{
 "cells": [
  {
   "cell_type": "code",
   "execution_count": 1,
   "id": "aa80f443",
   "metadata": {
    "scrolled": true
   },
   "outputs": [],
   "source": [
    "from datetime import datetime, timedelta\n",
    "import pytz\n",
    "import pandas as pd\n",
    "from tqdm import tqdm\n",
    "from modeler.modeler import Modeler as m\n",
    "from processor.processor import Processor as p\n",
    "from database.market import Market\n",
    "from database.adatabase import ADatabase\n",
    "from modeler_strats.universal_modeler import UniversalModeler\n",
    "import numpy as np\n",
    "import matplotlib.pyplot as plt\n",
    "import pickle\n",
    "from functional.backtester import Backtester as b"
   ]
  },
  {
   "cell_type": "code",
   "execution_count": 2,
   "id": "b38d4176",
   "metadata": {
    "scrolled": true
   },
   "outputs": [],
   "source": [
    "start_date = datetime(2023,1,1)\n",
    "end_date = datetime.now()"
   ]
  },
  {
   "cell_type": "code",
   "execution_count": 3,
   "id": "e5adbebb",
   "metadata": {},
   "outputs": [],
   "source": [
    "market = Market()\n",
    "speculation_db = ADatabase(\"btc_spec\")\n",
    "classification_db = ADatabase(\"btc_spec_classification\")\n",
    "current_db = ADatabase(\"btc_current\")\n",
    "umod = UniversalModeler()"
   ]
  },
  {
   "cell_type": "code",
   "execution_count": 4,
   "id": "11892483",
   "metadata": {},
   "outputs": [],
   "source": [
    "factors = [str(x) for x in range(14)]\n",
    "included_columns=[\n",
    "    \"year\",\n",
    "    \"week\",\n",
    "    \"ticker\",\n",
    "    \"adjclose\",\n",
    "    \"y\"\n",
    "]\n",
    "included_columns.extend(factors)"
   ]
  },
  {
   "cell_type": "code",
   "execution_count": 5,
   "id": "cb6e513d",
   "metadata": {},
   "outputs": [],
   "source": [
    "classification_factors = [\"d1\",\"d2\",\"d3\",\"rolling14\"]\n",
    "included_columns.extend(classification_factors)"
   ]
  },
  {
   "cell_type": "code",
   "execution_count": 6,
   "id": "2877c3ed",
   "metadata": {},
   "outputs": [],
   "source": [
    "trades = []\n",
    "reqs = [0.15]\n",
    "signals = [0.05,0.1,0.15]\n",
    "values = [True,False]\n",
    "classifications = [True,False]\n",
    "ceilings = [True,False]\n",
    "floors = [True,False]\n",
    "hedges = [True,False]\n",
    "parameters = []\n",
    "positions = 1\n",
    "training_year = 4\n",
    "for value in values:\n",
    "    for classification in classifications:\n",
    "        for ceiling in ceilings:\n",
    "            for floor in floors:\n",
    "                for hedge in hedges:\n",
    "                    for signal in signals:\n",
    "                        for req in reqs:\n",
    "                            parameter = {\"value\":value\n",
    "                                         ,\"classification\":classification\n",
    "                                         ,\"ceiling\":ceiling\n",
    "                                         ,\"floor\":floor\n",
    "                                         ,\"hedge\":hedge\n",
    "                                         ,\"signal\":signal\n",
    "                                         ,\"req\":req\n",
    "                                         ,\"training_years\":training_year}\n",
    "                            parameters.append(parameter)"
   ]
  },
  {
   "cell_type": "code",
   "execution_count": 7,
   "id": "f388e4bb",
   "metadata": {},
   "outputs": [],
   "source": [
    "training_sets = []\n",
    "prices = pd.read_csv(\"./csv_files/prices/BTC-USD.csv\")\n",
    "prices = p.column_date_processing(prices)\n",
    "prices[\"year\"] = [x.year for x in prices[\"date\"]]\n",
    "prices[\"quarter\"] = [x.quarter for x in prices[\"date\"]]\n",
    "ticker_data = prices\n",
    "ticker_data.sort_values(\"date\",ascending=True,inplace=True)\n",
    "ticker_data[\"adjclose\"] = [float(x) for x in ticker_data[\"adjclose\"]]\n",
    "ticker_data = ticker_data.groupby([\"year\",\"week\"]).mean().reset_index()\n",
    "for i in range(14):\n",
    "    ticker_data[str(i)] = ticker_data[\"adjclose\"].shift(i)\n",
    "ticker_data[\"d1\"] = ticker_data[\"adjclose\"].pct_change(periods=1)\n",
    "ticker_data[\"d2\"] = ticker_data[\"d1\"].pct_change(periods=1)\n",
    "ticker_data[\"d3\"] = ticker_data[\"d2\"].pct_change(periods=1)\n",
    "ticker_data[\"rolling14\"] = ticker_data[\"adjclose\"].rolling(window=14).mean()\n",
    "ticker_data.dropna(inplace=True)\n",
    "ticker_data[\"ticker\"] = \"BTC\"\n",
    "ticker_data[\"y\"] = ticker_data[\"adjclose\"].shift(-1)\n",
    "ticker_data = ticker_data.replace([np.inf, -np.inf], np.nan).dropna()\n",
    "ticker_data.dropna(inplace=True)\n",
    "ticker_data = ticker_data[included_columns]\n",
    "training_sets.append(ticker_data)\n",
    "data = pd.concat(training_sets)\n",
    "data = data.dropna()"
   ]
  },
  {
   "cell_type": "code",
   "execution_count": 8,
   "id": "f6b4a6d7",
   "metadata": {},
   "outputs": [],
   "source": [
    "prices = pd.read_csv(\"./csv_files/prices/BTC-USD.csv\")\n",
    "prices = p.column_date_processing(prices)\n",
    "prices[\"year\"] = [x.year for x in prices[\"date\"]]\n",
    "prices[\"week\"] = [x.week for x in prices[\"date\"]]\n",
    "prices[\"quarter\"] = [x.quarter for x in prices[\"date\"]]\n",
    "prices[\"ticker\"] = \"BTC\""
   ]
  },
  {
   "cell_type": "code",
   "execution_count": 9,
   "id": "f0aaeff1",
   "metadata": {},
   "outputs": [],
   "source": [
    "prediction_slice = data[data[\"year\"]==start_date.year].reset_index(drop=True)"
   ]
  },
  {
   "cell_type": "code",
   "execution_count": 10,
   "id": "e76b872c",
   "metadata": {},
   "outputs": [],
   "source": [
    "speculation_db.connect()\n",
    "models = speculation_db.retrieve(\"models\")\n",
    "speculation_db.disconnect()"
   ]
  },
  {
   "cell_type": "code",
   "execution_count": 11,
   "id": "a6b1df85",
   "metadata": {},
   "outputs": [
    {
     "name": "stdout",
     "output_type": "stream",
     "text": [
      "Keras model archive loading:\n",
      "File Name                                             Modified             Size\n",
      "config.json                                    2023-03-03 11:19:38         2522\n",
      "metadata.json                                  2023-03-03 11:19:38           64\n",
      "variables.h5                                   2023-03-03 11:19:38        84160\n",
      "Keras weights file (<HDF5 file \"variables.h5\" (mode r)>) loading:\n",
      "...layers\\dense\n",
      "......vars\n",
      ".........0\n",
      ".........1\n",
      "...layers\\dense_1\n",
      "......vars\n",
      ".........0\n",
      ".........1\n",
      "...layers\\dense_2\n",
      "......vars\n",
      ".........0\n",
      ".........1\n",
      "...metrics\\mean\n",
      "......vars\n",
      ".........0\n",
      ".........1\n",
      "...metrics\\mean_absolute_percentage_error\n",
      "......vars\n",
      ".........0\n",
      ".........1\n",
      "...optimizer\n",
      "......vars\n",
      ".........0\n",
      ".........1\n",
      ".........10\n",
      ".........11\n",
      ".........12\n",
      ".........2\n",
      ".........3\n",
      ".........4\n",
      ".........5\n",
      ".........6\n",
      ".........7\n",
      ".........8\n",
      ".........9\n",
      "...vars\n",
      "1/1 [==============================] - 0s 197ms/step\n"
     ]
    }
   ],
   "source": [
    "simulation = umod.recommend(models,prediction_slice.copy(),factors)"
   ]
  },
  {
   "cell_type": "code",
   "execution_count": 12,
   "id": "f48a859f",
   "metadata": {},
   "outputs": [],
   "source": [
    "simulation[\"week\"] = simulation[\"week\"] + 1\n",
    "simulation[\"prediction\"] = (simulation[\"tf_prediction\"] + simulation[\"cat_prediction\"] + simulation[\"xgb_prediction\"]) / 3"
   ]
  },
  {
   "cell_type": "code",
   "execution_count": 13,
   "id": "823d65e6",
   "metadata": {},
   "outputs": [
    {
     "data": {
      "text/html": [
       "<div>\n",
       "<style scoped>\n",
       "    .dataframe tbody tr th:only-of-type {\n",
       "        vertical-align: middle;\n",
       "    }\n",
       "\n",
       "    .dataframe tbody tr th {\n",
       "        vertical-align: top;\n",
       "    }\n",
       "\n",
       "    .dataframe thead th {\n",
       "        text-align: right;\n",
       "    }\n",
       "</style>\n",
       "<table border=\"1\" class=\"dataframe\">\n",
       "  <thead>\n",
       "    <tr style=\"text-align: right;\">\n",
       "      <th></th>\n",
       "      <th>year</th>\n",
       "      <th>week</th>\n",
       "      <th>adjclose</th>\n",
       "      <th>prediction</th>\n",
       "    </tr>\n",
       "  </thead>\n",
       "  <tbody>\n",
       "    <tr>\n",
       "      <th>0</th>\n",
       "      <td>2023</td>\n",
       "      <td>2</td>\n",
       "      <td>16866.642020</td>\n",
       "      <td>17158.707106</td>\n",
       "    </tr>\n",
       "    <tr>\n",
       "      <th>1</th>\n",
       "      <td>2023</td>\n",
       "      <td>3</td>\n",
       "      <td>19030.571987</td>\n",
       "      <td>19996.449682</td>\n",
       "    </tr>\n",
       "    <tr>\n",
       "      <th>2</th>\n",
       "      <td>2023</td>\n",
       "      <td>4</td>\n",
       "      <td>21754.474330</td>\n",
       "      <td>20104.040404</td>\n",
       "    </tr>\n",
       "    <tr>\n",
       "      <th>3</th>\n",
       "      <td>2023</td>\n",
       "      <td>5</td>\n",
       "      <td>23086.560268</td>\n",
       "      <td>20016.918694</td>\n",
       "    </tr>\n",
       "    <tr>\n",
       "      <th>4</th>\n",
       "      <td>2023</td>\n",
       "      <td>6</td>\n",
       "      <td>23273.128348</td>\n",
       "      <td>22275.391645</td>\n",
       "    </tr>\n",
       "    <tr>\n",
       "      <th>5</th>\n",
       "      <td>2023</td>\n",
       "      <td>7</td>\n",
       "      <td>22299.014230</td>\n",
       "      <td>22790.877728</td>\n",
       "    </tr>\n",
       "    <tr>\n",
       "      <th>6</th>\n",
       "      <td>2023</td>\n",
       "      <td>8</td>\n",
       "      <td>23642.106306</td>\n",
       "      <td>22737.405690</td>\n",
       "    </tr>\n",
       "    <tr>\n",
       "      <th>7</th>\n",
       "      <td>2023</td>\n",
       "      <td>9</td>\n",
       "      <td>23905.221819</td>\n",
       "      <td>22691.811745</td>\n",
       "    </tr>\n",
       "    <tr>\n",
       "      <th>8</th>\n",
       "      <td>2023</td>\n",
       "      <td>10</td>\n",
       "      <td>22991.969308</td>\n",
       "      <td>23702.151695</td>\n",
       "    </tr>\n",
       "    <tr>\n",
       "      <th>9</th>\n",
       "      <td>2023</td>\n",
       "      <td>11</td>\n",
       "      <td>21387.747489</td>\n",
       "      <td>22823.180811</td>\n",
       "    </tr>\n",
       "    <tr>\n",
       "      <th>10</th>\n",
       "      <td>2023</td>\n",
       "      <td>12</td>\n",
       "      <td>25828.691685</td>\n",
       "      <td>25278.746766</td>\n",
       "    </tr>\n",
       "    <tr>\n",
       "      <th>11</th>\n",
       "      <td>2023</td>\n",
       "      <td>13</td>\n",
       "      <td>27795.255022</td>\n",
       "      <td>26705.341045</td>\n",
       "    </tr>\n",
       "    <tr>\n",
       "      <th>12</th>\n",
       "      <td>2023</td>\n",
       "      <td>14</td>\n",
       "      <td>27982.693080</td>\n",
       "      <td>25786.023694</td>\n",
       "    </tr>\n",
       "    <tr>\n",
       "      <th>13</th>\n",
       "      <td>2023</td>\n",
       "      <td>15</td>\n",
       "      <td>28055.305804</td>\n",
       "      <td>27569.256861</td>\n",
       "    </tr>\n",
       "    <tr>\n",
       "      <th>14</th>\n",
       "      <td>2023</td>\n",
       "      <td>16</td>\n",
       "      <td>29995.916667</td>\n",
       "      <td>27117.561236</td>\n",
       "    </tr>\n",
       "  </tbody>\n",
       "</table>\n",
       "</div>"
      ],
      "text/plain": [
       "    year  week      adjclose    prediction\n",
       "0   2023     2  16866.642020  17158.707106\n",
       "1   2023     3  19030.571987  19996.449682\n",
       "2   2023     4  21754.474330  20104.040404\n",
       "3   2023     5  23086.560268  20016.918694\n",
       "4   2023     6  23273.128348  22275.391645\n",
       "5   2023     7  22299.014230  22790.877728\n",
       "6   2023     8  23642.106306  22737.405690\n",
       "7   2023     9  23905.221819  22691.811745\n",
       "8   2023    10  22991.969308  23702.151695\n",
       "9   2023    11  21387.747489  22823.180811\n",
       "10  2023    12  25828.691685  25278.746766\n",
       "11  2023    13  27795.255022  26705.341045\n",
       "12  2023    14  27982.693080  25786.023694\n",
       "13  2023    15  28055.305804  27569.256861\n",
       "14  2023    16  29995.916667  27117.561236"
      ]
     },
     "execution_count": 13,
     "metadata": {},
     "output_type": "execute_result"
    }
   ],
   "source": [
    "simulation[[\"year\",\"week\",\"adjclose\",\"prediction\"]]"
   ]
  },
  {
   "cell_type": "code",
   "execution_count": 14,
   "id": "05c05728",
   "metadata": {},
   "outputs": [],
   "source": [
    "classification_db.connect()\n",
    "classification_models = classification_db.retrieve(\"models\")\n",
    "classification_db.disconnect()"
   ]
  },
  {
   "cell_type": "code",
   "execution_count": 15,
   "id": "f066bf98",
   "metadata": {},
   "outputs": [
    {
     "name": "stdout",
     "output_type": "stream",
     "text": [
      "Keras model archive loading:\n",
      "File Name                                             Modified             Size\n",
      "config.json                                    2023-03-30 10:52:04         2149\n",
      "metadata.json                                  2023-03-30 10:52:04           64\n",
      "variables.h5                                   2023-03-30 10:52:04        23208\n",
      "Keras weights file (<HDF5 file \"variables.h5\" (mode r)>) loading:\n",
      "...layers\\dense\n",
      "......vars\n",
      ".........0\n",
      ".........1\n",
      "...layers\\dense_1\n",
      "......vars\n",
      ".........0\n",
      ".........1\n",
      "...layers\\dropout\n",
      "......vars\n",
      "...metrics\\mean\n",
      "......vars\n",
      ".........0\n",
      ".........1\n",
      "...metrics\\mean_metric_wrapper\n",
      "......vars\n",
      ".........0\n",
      ".........1\n",
      "...optimizer\n",
      "......vars\n",
      ".........0\n",
      ".........1\n",
      ".........2\n",
      ".........3\n",
      ".........4\n",
      ".........5\n",
      ".........6\n",
      ".........7\n",
      ".........8\n",
      "...vars\n",
      "1/1 [==============================] - 0s 44ms/step\n"
     ]
    }
   ],
   "source": [
    "classification_simulation = umod.recommend(classification_models,prediction_slice.copy(),classification_factors)\n",
    "classification_simulation[\"week\"] = classification_simulation[\"week\"] + 1\n",
    "classification_simulation[\"classification_prediction\"] = ((classification_simulation[\"cat_prediction\"] + \\\n",
    "                                                          classification_simulation[\"xgb_prediction\"] + \\\n",
    "                                                          classification_simulation[\"tf_prediction\"]) / 3) > 0.5"
   ]
  },
  {
   "cell_type": "code",
   "execution_count": 16,
   "id": "a647e0b4",
   "metadata": {},
   "outputs": [],
   "source": [
    "for i in range(2,5):\n",
    "    prices[f\"return_{i}\"] = (prices[\"adjclose\"].shift(-i) - prices[\"adjclose\"].shift(-1)) / prices[\"adjclose\"].shift(-1)\n",
    "price_returns = prices.fillna(0)"
   ]
  },
  {
   "cell_type": "code",
   "execution_count": 17,
   "id": "a61c6b3e",
   "metadata": {},
   "outputs": [],
   "source": [
    "sim = price_returns.merge(simulation.drop(\"adjclose\",axis=1),on=[\"year\",\"week\",\"ticker\"],how=\"left\") \\\n",
    "                    .merge(classification_simulation.drop(\"adjclose\",axis=1),on=[\"year\",\"week\",\"ticker\"],how=\"left\")\n",
    "sim[\"delta\"] = (sim[\"prediction\"] - sim[\"adjclose\"]) / sim[\"adjclose\"]"
   ]
  },
  {
   "cell_type": "code",
   "execution_count": 18,
   "id": "d5a10c44",
   "metadata": {},
   "outputs": [
    {
     "data": {
      "text/html": [
       "<div>\n",
       "<style scoped>\n",
       "    .dataframe tbody tr th:only-of-type {\n",
       "        vertical-align: middle;\n",
       "    }\n",
       "\n",
       "    .dataframe tbody tr th {\n",
       "        vertical-align: top;\n",
       "    }\n",
       "\n",
       "    .dataframe thead th {\n",
       "        text-align: right;\n",
       "    }\n",
       "</style>\n",
       "<table border=\"1\" class=\"dataframe\">\n",
       "  <thead>\n",
       "    <tr style=\"text-align: right;\">\n",
       "      <th></th>\n",
       "      <th>date</th>\n",
       "      <th>ticker</th>\n",
       "      <th>return_2</th>\n",
       "      <th>return_3</th>\n",
       "      <th>return_4</th>\n",
       "    </tr>\n",
       "  </thead>\n",
       "  <tbody>\n",
       "    <tr>\n",
       "      <th>3106</th>\n",
       "      <td>2023-03-20</td>\n",
       "      <td>BTC</td>\n",
       "      <td>-0.03082</td>\n",
       "      <td>0.005613</td>\n",
       "      <td>-0.024224</td>\n",
       "    </tr>\n",
       "  </tbody>\n",
       "</table>\n",
       "</div>"
      ],
      "text/plain": [
       "           date ticker  return_2  return_3  return_4\n",
       "3106 2023-03-20    BTC  -0.03082  0.005613 -0.024224"
      ]
     },
     "execution_count": 18,
     "metadata": {},
     "output_type": "execute_result"
    }
   ],
   "source": [
    "sim.dropna()[sim[\"date\"]==datetime(2023,3,20)][[\"date\",\"ticker\",\"return_2\",\"return_3\",\"return_4\"]]"
   ]
  },
  {
   "cell_type": "code",
   "execution_count": 19,
   "id": "b6a08d35",
   "metadata": {},
   "outputs": [
    {
     "data": {
      "text/html": [
       "<div>\n",
       "<style scoped>\n",
       "    .dataframe tbody tr th:only-of-type {\n",
       "        vertical-align: middle;\n",
       "    }\n",
       "\n",
       "    .dataframe tbody tr th {\n",
       "        vertical-align: top;\n",
       "    }\n",
       "\n",
       "    .dataframe thead th {\n",
       "        text-align: right;\n",
       "    }\n",
       "</style>\n",
       "<table border=\"1\" class=\"dataframe\">\n",
       "  <thead>\n",
       "    <tr style=\"text-align: right;\">\n",
       "      <th></th>\n",
       "      <th>date</th>\n",
       "      <th>open</th>\n",
       "      <th>high</th>\n",
       "      <th>low</th>\n",
       "      <th>close</th>\n",
       "      <th>adjclose</th>\n",
       "      <th>volume</th>\n",
       "      <th>year</th>\n",
       "      <th>quarter</th>\n",
       "      <th>week</th>\n",
       "      <th>...</th>\n",
       "      <th>d3_y</th>\n",
       "      <th>rolling14_y</th>\n",
       "      <th>xgb_prediction_y</th>\n",
       "      <th>xgb_score_y</th>\n",
       "      <th>cat_prediction_y</th>\n",
       "      <th>cat_score_y</th>\n",
       "      <th>tf_prediction_y</th>\n",
       "      <th>tf_score_y</th>\n",
       "      <th>classification_prediction</th>\n",
       "      <th>delta</th>\n",
       "    </tr>\n",
       "  </thead>\n",
       "  <tbody>\n",
       "    <tr>\n",
       "      <th>0</th>\n",
       "      <td>2014-09-17</td>\n",
       "      <td>465.864014</td>\n",
       "      <td>468.174011</td>\n",
       "      <td>452.421997</td>\n",
       "      <td>457.334015</td>\n",
       "      <td>457.334015</td>\n",
       "      <td>2.105680e+07</td>\n",
       "      <td>2014</td>\n",
       "      <td>3</td>\n",
       "      <td>38</td>\n",
       "      <td>...</td>\n",
       "      <td>NaN</td>\n",
       "      <td>NaN</td>\n",
       "      <td>NaN</td>\n",
       "      <td>NaN</td>\n",
       "      <td>NaN</td>\n",
       "      <td>NaN</td>\n",
       "      <td>NaN</td>\n",
       "      <td>NaN</td>\n",
       "      <td>NaN</td>\n",
       "      <td>NaN</td>\n",
       "    </tr>\n",
       "    <tr>\n",
       "      <th>1</th>\n",
       "      <td>2014-09-18</td>\n",
       "      <td>456.859985</td>\n",
       "      <td>456.859985</td>\n",
       "      <td>413.104004</td>\n",
       "      <td>424.440002</td>\n",
       "      <td>424.440002</td>\n",
       "      <td>3.448320e+07</td>\n",
       "      <td>2014</td>\n",
       "      <td>3</td>\n",
       "      <td>38</td>\n",
       "      <td>...</td>\n",
       "      <td>NaN</td>\n",
       "      <td>NaN</td>\n",
       "      <td>NaN</td>\n",
       "      <td>NaN</td>\n",
       "      <td>NaN</td>\n",
       "      <td>NaN</td>\n",
       "      <td>NaN</td>\n",
       "      <td>NaN</td>\n",
       "      <td>NaN</td>\n",
       "      <td>NaN</td>\n",
       "    </tr>\n",
       "    <tr>\n",
       "      <th>2</th>\n",
       "      <td>2014-09-19</td>\n",
       "      <td>424.102997</td>\n",
       "      <td>427.834991</td>\n",
       "      <td>384.532013</td>\n",
       "      <td>394.795990</td>\n",
       "      <td>394.795990</td>\n",
       "      <td>3.791970e+07</td>\n",
       "      <td>2014</td>\n",
       "      <td>3</td>\n",
       "      <td>38</td>\n",
       "      <td>...</td>\n",
       "      <td>NaN</td>\n",
       "      <td>NaN</td>\n",
       "      <td>NaN</td>\n",
       "      <td>NaN</td>\n",
       "      <td>NaN</td>\n",
       "      <td>NaN</td>\n",
       "      <td>NaN</td>\n",
       "      <td>NaN</td>\n",
       "      <td>NaN</td>\n",
       "      <td>NaN</td>\n",
       "    </tr>\n",
       "    <tr>\n",
       "      <th>3</th>\n",
       "      <td>2014-09-20</td>\n",
       "      <td>394.673004</td>\n",
       "      <td>423.295990</td>\n",
       "      <td>389.882996</td>\n",
       "      <td>408.903992</td>\n",
       "      <td>408.903992</td>\n",
       "      <td>3.686360e+07</td>\n",
       "      <td>2014</td>\n",
       "      <td>3</td>\n",
       "      <td>38</td>\n",
       "      <td>...</td>\n",
       "      <td>NaN</td>\n",
       "      <td>NaN</td>\n",
       "      <td>NaN</td>\n",
       "      <td>NaN</td>\n",
       "      <td>NaN</td>\n",
       "      <td>NaN</td>\n",
       "      <td>NaN</td>\n",
       "      <td>NaN</td>\n",
       "      <td>NaN</td>\n",
       "      <td>NaN</td>\n",
       "    </tr>\n",
       "    <tr>\n",
       "      <th>4</th>\n",
       "      <td>2014-09-21</td>\n",
       "      <td>408.084991</td>\n",
       "      <td>412.425995</td>\n",
       "      <td>393.181000</td>\n",
       "      <td>398.821014</td>\n",
       "      <td>398.821014</td>\n",
       "      <td>2.658010e+07</td>\n",
       "      <td>2014</td>\n",
       "      <td>3</td>\n",
       "      <td>38</td>\n",
       "      <td>...</td>\n",
       "      <td>NaN</td>\n",
       "      <td>NaN</td>\n",
       "      <td>NaN</td>\n",
       "      <td>NaN</td>\n",
       "      <td>NaN</td>\n",
       "      <td>NaN</td>\n",
       "      <td>NaN</td>\n",
       "      <td>NaN</td>\n",
       "      <td>NaN</td>\n",
       "      <td>NaN</td>\n",
       "    </tr>\n",
       "    <tr>\n",
       "      <th>...</th>\n",
       "      <td>...</td>\n",
       "      <td>...</td>\n",
       "      <td>...</td>\n",
       "      <td>...</td>\n",
       "      <td>...</td>\n",
       "      <td>...</td>\n",
       "      <td>...</td>\n",
       "      <td>...</td>\n",
       "      <td>...</td>\n",
       "      <td>...</td>\n",
       "      <td>...</td>\n",
       "      <td>...</td>\n",
       "      <td>...</td>\n",
       "      <td>...</td>\n",
       "      <td>...</td>\n",
       "      <td>...</td>\n",
       "      <td>...</td>\n",
       "      <td>...</td>\n",
       "      <td>...</td>\n",
       "      <td>...</td>\n",
       "      <td>...</td>\n",
       "    </tr>\n",
       "    <tr>\n",
       "      <th>3126</th>\n",
       "      <td>2023-04-09</td>\n",
       "      <td>27952.367188</td>\n",
       "      <td>28532.830078</td>\n",
       "      <td>27828.480469</td>\n",
       "      <td>28333.050781</td>\n",
       "      <td>28333.050781</td>\n",
       "      <td>1.217532e+10</td>\n",
       "      <td>2023</td>\n",
       "      <td>2</td>\n",
       "      <td>14</td>\n",
       "      <td>...</td>\n",
       "      <td>0.439147</td>\n",
       "      <td>23158.630473</td>\n",
       "      <td>0.0</td>\n",
       "      <td>0.660377</td>\n",
       "      <td>0.0</td>\n",
       "      <td>0.811321</td>\n",
       "      <td>0.0</td>\n",
       "      <td>0.415094</td>\n",
       "      <td>False</td>\n",
       "      <td>-0.089896</td>\n",
       "    </tr>\n",
       "    <tr>\n",
       "      <th>3127</th>\n",
       "      <td>2023-04-10</td>\n",
       "      <td>28336.027344</td>\n",
       "      <td>29771.464844</td>\n",
       "      <td>28189.271484</td>\n",
       "      <td>29652.980469</td>\n",
       "      <td>29652.980469</td>\n",
       "      <td>1.928240e+10</td>\n",
       "      <td>2023</td>\n",
       "      <td>2</td>\n",
       "      <td>15</td>\n",
       "      <td>...</td>\n",
       "      <td>-0.325019</td>\n",
       "      <td>23421.384407</td>\n",
       "      <td>0.0</td>\n",
       "      <td>0.660377</td>\n",
       "      <td>0.0</td>\n",
       "      <td>0.811321</td>\n",
       "      <td>0.0</td>\n",
       "      <td>0.415094</td>\n",
       "      <td>False</td>\n",
       "      <td>-0.070270</td>\n",
       "    </tr>\n",
       "    <tr>\n",
       "      <th>3128</th>\n",
       "      <td>2023-04-11</td>\n",
       "      <td>29653.679688</td>\n",
       "      <td>30509.083984</td>\n",
       "      <td>29609.300781</td>\n",
       "      <td>30235.058594</td>\n",
       "      <td>30235.058594</td>\n",
       "      <td>2.012126e+10</td>\n",
       "      <td>2023</td>\n",
       "      <td>2</td>\n",
       "      <td>15</td>\n",
       "      <td>...</td>\n",
       "      <td>-0.325019</td>\n",
       "      <td>23421.384407</td>\n",
       "      <td>0.0</td>\n",
       "      <td>0.660377</td>\n",
       "      <td>0.0</td>\n",
       "      <td>0.811321</td>\n",
       "      <td>0.0</td>\n",
       "      <td>0.415094</td>\n",
       "      <td>False</td>\n",
       "      <td>-0.088169</td>\n",
       "    </tr>\n",
       "    <tr>\n",
       "      <th>3129</th>\n",
       "      <td>2023-04-12</td>\n",
       "      <td>0.000000</td>\n",
       "      <td>0.000000</td>\n",
       "      <td>0.000000</td>\n",
       "      <td>0.000000</td>\n",
       "      <td>0.000000</td>\n",
       "      <td>0.000000e+00</td>\n",
       "      <td>2023</td>\n",
       "      <td>2</td>\n",
       "      <td>15</td>\n",
       "      <td>...</td>\n",
       "      <td>-0.325019</td>\n",
       "      <td>23421.384407</td>\n",
       "      <td>0.0</td>\n",
       "      <td>0.660377</td>\n",
       "      <td>0.0</td>\n",
       "      <td>0.811321</td>\n",
       "      <td>0.0</td>\n",
       "      <td>0.415094</td>\n",
       "      <td>False</td>\n",
       "      <td>inf</td>\n",
       "    </tr>\n",
       "    <tr>\n",
       "      <th>3130</th>\n",
       "      <td>2023-04-13</td>\n",
       "      <td>29914.119141</td>\n",
       "      <td>30153.914063</td>\n",
       "      <td>29901.218750</td>\n",
       "      <td>30099.710938</td>\n",
       "      <td>30099.710938</td>\n",
       "      <td>1.889356e+10</td>\n",
       "      <td>2023</td>\n",
       "      <td>2</td>\n",
       "      <td>15</td>\n",
       "      <td>...</td>\n",
       "      <td>-0.325019</td>\n",
       "      <td>23421.384407</td>\n",
       "      <td>0.0</td>\n",
       "      <td>0.660377</td>\n",
       "      <td>0.0</td>\n",
       "      <td>0.811321</td>\n",
       "      <td>0.0</td>\n",
       "      <td>0.415094</td>\n",
       "      <td>False</td>\n",
       "      <td>-0.084069</td>\n",
       "    </tr>\n",
       "  </tbody>\n",
       "</table>\n",
       "<p>3131 rows × 67 columns</p>\n",
       "</div>"
      ],
      "text/plain": [
       "           date          open          high           low         close  \\\n",
       "0    2014-09-17    465.864014    468.174011    452.421997    457.334015   \n",
       "1    2014-09-18    456.859985    456.859985    413.104004    424.440002   \n",
       "2    2014-09-19    424.102997    427.834991    384.532013    394.795990   \n",
       "3    2014-09-20    394.673004    423.295990    389.882996    408.903992   \n",
       "4    2014-09-21    408.084991    412.425995    393.181000    398.821014   \n",
       "...         ...           ...           ...           ...           ...   \n",
       "3126 2023-04-09  27952.367188  28532.830078  27828.480469  28333.050781   \n",
       "3127 2023-04-10  28336.027344  29771.464844  28189.271484  29652.980469   \n",
       "3128 2023-04-11  29653.679688  30509.083984  29609.300781  30235.058594   \n",
       "3129 2023-04-12      0.000000      0.000000      0.000000      0.000000   \n",
       "3130 2023-04-13  29914.119141  30153.914063  29901.218750  30099.710938   \n",
       "\n",
       "          adjclose        volume  year  quarter  week  ...      d3_y  \\\n",
       "0       457.334015  2.105680e+07  2014        3    38  ...       NaN   \n",
       "1       424.440002  3.448320e+07  2014        3    38  ...       NaN   \n",
       "2       394.795990  3.791970e+07  2014        3    38  ...       NaN   \n",
       "3       408.903992  3.686360e+07  2014        3    38  ...       NaN   \n",
       "4       398.821014  2.658010e+07  2014        3    38  ...       NaN   \n",
       "...            ...           ...   ...      ...   ...  ...       ...   \n",
       "3126  28333.050781  1.217532e+10  2023        2    14  ...  0.439147   \n",
       "3127  29652.980469  1.928240e+10  2023        2    15  ... -0.325019   \n",
       "3128  30235.058594  2.012126e+10  2023        2    15  ... -0.325019   \n",
       "3129      0.000000  0.000000e+00  2023        2    15  ... -0.325019   \n",
       "3130  30099.710938  1.889356e+10  2023        2    15  ... -0.325019   \n",
       "\n",
       "       rolling14_y  xgb_prediction_y  xgb_score_y  cat_prediction_y  \\\n",
       "0              NaN               NaN          NaN               NaN   \n",
       "1              NaN               NaN          NaN               NaN   \n",
       "2              NaN               NaN          NaN               NaN   \n",
       "3              NaN               NaN          NaN               NaN   \n",
       "4              NaN               NaN          NaN               NaN   \n",
       "...            ...               ...          ...               ...   \n",
       "3126  23158.630473               0.0     0.660377               0.0   \n",
       "3127  23421.384407               0.0     0.660377               0.0   \n",
       "3128  23421.384407               0.0     0.660377               0.0   \n",
       "3129  23421.384407               0.0     0.660377               0.0   \n",
       "3130  23421.384407               0.0     0.660377               0.0   \n",
       "\n",
       "      cat_score_y  tf_prediction_y  tf_score_y  classification_prediction  \\\n",
       "0             NaN              NaN         NaN                        NaN   \n",
       "1             NaN              NaN         NaN                        NaN   \n",
       "2             NaN              NaN         NaN                        NaN   \n",
       "3             NaN              NaN         NaN                        NaN   \n",
       "4             NaN              NaN         NaN                        NaN   \n",
       "...           ...              ...         ...                        ...   \n",
       "3126     0.811321              0.0    0.415094                      False   \n",
       "3127     0.811321              0.0    0.415094                      False   \n",
       "3128     0.811321              0.0    0.415094                      False   \n",
       "3129     0.811321              0.0    0.415094                      False   \n",
       "3130     0.811321              0.0    0.415094                      False   \n",
       "\n",
       "         delta  \n",
       "0          NaN  \n",
       "1          NaN  \n",
       "2          NaN  \n",
       "3          NaN  \n",
       "4          NaN  \n",
       "...        ...  \n",
       "3126 -0.089896  \n",
       "3127 -0.070270  \n",
       "3128 -0.088169  \n",
       "3129       inf  \n",
       "3130 -0.084069  \n",
       "\n",
       "[3131 rows x 67 columns]"
      ]
     },
     "execution_count": 19,
     "metadata": {},
     "output_type": "execute_result"
    }
   ],
   "source": [
    "sim"
   ]
  },
  {
   "cell_type": "code",
   "execution_count": 20,
   "id": "7710948a",
   "metadata": {
    "scrolled": true
   },
   "outputs": [
    {
     "name": "stderr",
     "output_type": "stream",
     "text": [
      "  2%|▏         | 2/96 [00:00<00:06, 14.08it/s]"
     ]
    },
    {
     "name": "stdout",
     "output_type": "stream",
     "text": [
      "btc_current trades documents must be a non-empty list\n",
      "btc_current trades documents must be a non-empty list\n",
      "btc_current trades documents must be a non-empty list\n"
     ]
    },
    {
     "name": "stderr",
     "output_type": "stream",
     "text": [
      "  6%|▋         | 6/96 [00:00<00:06, 13.88it/s]"
     ]
    },
    {
     "name": "stdout",
     "output_type": "stream",
     "text": [
      "btc_current trades documents must be a non-empty list\n",
      "btc_current trades documents must be a non-empty list\n",
      "btc_current trades documents must be a non-empty list\n",
      "btc_current trades "
     ]
    },
    {
     "name": "stderr",
     "output_type": "stream",
     "text": [
      " 10%|█         | 10/96 [00:00<00:06, 14.30it/s]"
     ]
    },
    {
     "name": "stdout",
     "output_type": "stream",
     "text": [
      "documents must be a non-empty list\n",
      "btc_current trades documents must be a non-empty list\n",
      "btc_current trades documents must be a non-empty list\n",
      "btc_current trades documents must be a non-empty list\n"
     ]
    },
    {
     "name": "stderr",
     "output_type": "stream",
     "text": [
      "\r",
      " 12%|█▎        | 12/96 [00:00<00:05, 14.51it/s]"
     ]
    },
    {
     "name": "stdout",
     "output_type": "stream",
     "text": [
      "btc_current trades documents must be a non-empty list\n",
      "btc_current trades documents must be a non-empty list\n",
      "btc_current trades documents must be a non-empty list\n"
     ]
    },
    {
     "name": "stderr",
     "output_type": "stream",
     "text": [
      " 17%|█▋        | 16/96 [00:01<00:05, 14.37it/s]"
     ]
    },
    {
     "name": "stdout",
     "output_type": "stream",
     "text": [
      "btc_current trades documents must be a non-empty list\n",
      "btc_current trades documents must be a non-empty list\n",
      "btc_current trades documents must be a non-empty list\n"
     ]
    },
    {
     "name": "stderr",
     "output_type": "stream",
     "text": [
      " 21%|██        | 20/96 [00:01<00:05, 14.47it/s]"
     ]
    },
    {
     "name": "stdout",
     "output_type": "stream",
     "text": [
      "btc_current trades documents must be a non-empty list\n",
      "btc_current trades documents must be a non-empty list\n",
      "btc_current trades documents must be a non-empty list\n",
      "btc_current trades documents must be a non-empty list\n"
     ]
    },
    {
     "name": "stderr",
     "output_type": "stream",
     "text": [
      "\r",
      " 23%|██▎       | 22/96 [00:01<00:05, 14.25it/s]"
     ]
    },
    {
     "name": "stdout",
     "output_type": "stream",
     "text": [
      "btc_current trades documents must be a non-empty list\n",
      "btc_current trades documents must be a non-empty list\n",
      "btc_current trades documents must be a non-empty list\n"
     ]
    },
    {
     "name": "stderr",
     "output_type": "stream",
     "text": [
      " 27%|██▋       | 26/96 [00:01<00:05, 13.73it/s]"
     ]
    },
    {
     "name": "stdout",
     "output_type": "stream",
     "text": [
      "btc_current trades documents must be a non-empty list\n",
      "btc_current trades documents must be a non-empty list\n"
     ]
    },
    {
     "name": "stderr",
     "output_type": "stream",
     "text": [
      "\r",
      " 29%|██▉       | 28/96 [00:01<00:04, 13.80it/s]"
     ]
    },
    {
     "name": "stdout",
     "output_type": "stream",
     "text": [
      "btc_current trades documents must be a non-empty list\n",
      "btc_current trades documents must be a non-empty list\n"
     ]
    },
    {
     "name": "stderr",
     "output_type": "stream",
     "text": [
      " 33%|███▎      | 32/96 [00:02<00:04, 14.15it/s]"
     ]
    },
    {
     "name": "stdout",
     "output_type": "stream",
     "text": [
      "btc_current trades documents must be a non-empty list\n",
      "btc_current trades documents must be a non-empty list\n"
     ]
    },
    {
     "name": "stderr",
     "output_type": "stream",
     "text": [
      "\r",
      " 35%|███▌      | 34/96 [00:02<00:04, 14.19it/s]"
     ]
    },
    {
     "name": "stdout",
     "output_type": "stream",
     "text": [
      "btc_current trades documents must be a non-empty list\n",
      "btc_current trades documents must be a non-empty list\n"
     ]
    },
    {
     "name": "stderr",
     "output_type": "stream",
     "text": [
      " 40%|███▉      | 38/96 [00:02<00:04, 14.42it/s]"
     ]
    },
    {
     "name": "stdout",
     "output_type": "stream",
     "text": [
      "btc_current trades documents must be a non-empty list\n",
      "btc_current trades documents must be a non-empty list\n",
      "btc_current trades documents must be a non-empty list\n"
     ]
    },
    {
     "name": "stderr",
     "output_type": "stream",
     "text": [
      " 44%|████▍     | 42/96 [00:02<00:03, 14.63it/s]"
     ]
    },
    {
     "name": "stdout",
     "output_type": "stream",
     "text": [
      "btc_current trades documents must be a non-empty list\n",
      "btc_current trades documents must be a non-empty list\n"
     ]
    },
    {
     "name": "stderr",
     "output_type": "stream",
     "text": [
      " 48%|████▊     | 46/96 [00:03<00:03, 14.57it/s]"
     ]
    },
    {
     "name": "stdout",
     "output_type": "stream",
     "text": [
      "btc_current trades documents must be a non-empty list\n",
      "btc_current trades documents must be a non-empty list\n",
      "btc_current trades documents must be a non-empty list\n"
     ]
    },
    {
     "name": "stderr",
     "output_type": "stream",
     "text": [
      " 52%|█████▏    | 50/96 [00:03<00:03, 14.53it/s]"
     ]
    },
    {
     "name": "stdout",
     "output_type": "stream",
     "text": [
      "btc_current trades documents must be a non-empty list\n",
      "btc_current trades documents must be a non-empty list\n"
     ]
    },
    {
     "name": "stderr",
     "output_type": "stream",
     "text": [
      " 58%|█████▊    | 56/96 [00:03<00:02, 14.39it/s]"
     ]
    },
    {
     "name": "stdout",
     "output_type": "stream",
     "text": [
      "btc_current trades documents must be a non-empty list\n"
     ]
    },
    {
     "name": "stderr",
     "output_type": "stream",
     "text": [
      "\r",
      " 60%|██████    | 58/96 [00:04<00:02, 13.96it/s]"
     ]
    },
    {
     "name": "stdout",
     "output_type": "stream",
     "text": [
      "btc_current trades documents must be a non-empty list\n"
     ]
    },
    {
     "name": "stderr",
     "output_type": "stream",
     "text": [
      " 65%|██████▍   | 62/96 [00:04<00:02, 14.15it/s]"
     ]
    },
    {
     "name": "stdout",
     "output_type": "stream",
     "text": [
      "btc_current trades documents must be a non-empty list\n"
     ]
    },
    {
     "name": "stderr",
     "output_type": "stream",
     "text": [
      "\r",
      " 67%|██████▋   | 64/96 [00:04<00:02, 13.58it/s]"
     ]
    },
    {
     "name": "stdout",
     "output_type": "stream",
     "text": [
      "btc_current trades documents must be a non-empty list\n"
     ]
    },
    {
     "name": "stderr",
     "output_type": "stream",
     "text": [
      " 71%|███████   | 68/96 [00:04<00:02, 12.40it/s]"
     ]
    },
    {
     "name": "stdout",
     "output_type": "stream",
     "text": [
      "btc_current trades documents must be a non-empty list\n"
     ]
    },
    {
     "name": "stderr",
     "output_type": "stream",
     "text": [
      "\r",
      " 73%|███████▎  | 70/96 [00:05<00:02, 11.94it/s]"
     ]
    },
    {
     "name": "stdout",
     "output_type": "stream",
     "text": [
      "btc_current trades documents must be a non-empty list\n"
     ]
    },
    {
     "name": "stderr",
     "output_type": "stream",
     "text": [
      "\r",
      " 75%|███████▌  | 72/96 [00:05<00:02, 11.36it/s]"
     ]
    },
    {
     "name": "stdout",
     "output_type": "stream",
     "text": [
      "btc_current trades documents must be a non-empty list\n"
     ]
    },
    {
     "name": "stderr",
     "output_type": "stream",
     "text": [
      " 79%|███████▉  | 76/96 [00:05<00:01, 10.67it/s]"
     ]
    },
    {
     "name": "stdout",
     "output_type": "stream",
     "text": [
      "btc_current trades documents must be a non-empty list\n"
     ]
    },
    {
     "name": "stderr",
     "output_type": "stream",
     "text": [
      " 83%|████████▎ | 80/96 [00:05<00:01, 10.93it/s]"
     ]
    },
    {
     "name": "stdout",
     "output_type": "stream",
     "text": [
      "btc_current trades documents must be a non-empty list\n"
     ]
    },
    {
     "name": "stderr",
     "output_type": "stream",
     "text": [
      "\r",
      " 85%|████████▌ | 82/96 [00:06<00:01, 10.80it/s]"
     ]
    },
    {
     "name": "stdout",
     "output_type": "stream",
     "text": [
      "btc_current trades documents must be a non-empty list\n"
     ]
    },
    {
     "name": "stderr",
     "output_type": "stream",
     "text": [
      " 90%|████████▉ | 86/96 [00:06<00:00, 10.90it/s]"
     ]
    },
    {
     "name": "stdout",
     "output_type": "stream",
     "text": [
      "btc_current trades documents must be a non-empty list\n"
     ]
    },
    {
     "name": "stderr",
     "output_type": "stream",
     "text": [
      "\r",
      " 92%|█████████▏| 88/96 [00:06<00:00, 11.45it/s]"
     ]
    },
    {
     "name": "stdout",
     "output_type": "stream",
     "text": [
      "btc_current trades documents must be a non-empty list\n"
     ]
    },
    {
     "name": "stderr",
     "output_type": "stream",
     "text": [
      " 96%|█████████▌| 92/96 [00:07<00:00, 10.96it/s]"
     ]
    },
    {
     "name": "stdout",
     "output_type": "stream",
     "text": [
      "btc_current trades documents must be a non-empty list\n"
     ]
    },
    {
     "name": "stderr",
     "output_type": "stream",
     "text": [
      "\r",
      " 98%|█████████▊| 94/96 [00:07<00:00, 10.90it/s]"
     ]
    },
    {
     "name": "stdout",
     "output_type": "stream",
     "text": [
      "btc_current trades documents must be a non-empty list\n"
     ]
    },
    {
     "name": "stderr",
     "output_type": "stream",
     "text": [
      "100%|██████████| 96/96 [00:07<00:00, 12.87it/s]"
     ]
    },
    {
     "name": "stdout",
     "output_type": "stream",
     "text": [
      "btc_current trades documents must be a non-empty list\n"
     ]
    },
    {
     "name": "stderr",
     "output_type": "stream",
     "text": [
      "\n"
     ]
    }
   ],
   "source": [
    "current_db.connect()\n",
    "current_db.drop(\"trades\")\n",
    "for parameter in tqdm(parameters):\n",
    "    b.experimental_backtest(sim.copy(),parameter,start_date,end_date,current_db)\n",
    "current_db.disconnect()"
   ]
  },
  {
   "cell_type": "code",
   "execution_count": 21,
   "id": "b7741c82",
   "metadata": {},
   "outputs": [],
   "source": [
    "current_db.connect()\n",
    "t = current_db.retrieve(\"trades\")\n",
    "current_db.disconnect()"
   ]
  },
  {
   "cell_type": "code",
   "execution_count": 22,
   "id": "973a30bb",
   "metadata": {
    "scrolled": true
   },
   "outputs": [],
   "source": [
    "t = t.fillna(1)"
   ]
  },
  {
   "cell_type": "code",
   "execution_count": 23,
   "id": "604a14af",
   "metadata": {},
   "outputs": [],
   "source": [
    "analysis = []\n",
    "for parameter in parameters:\n",
    "    for position in range(positions):\n",
    "        position_trades = t[(t[\"position\"]==position)].sort_values([\"year\",\"week\"])\n",
    "        for key in parameter.keys():\n",
    "            position_trades = position_trades[position_trades[key]==parameter[key]]\n",
    "        initial = 100 / positions\n",
    "        for delta in position_trades[\"actual_returns\"]:\n",
    "            initial = initial * (delta)\n",
    "        if position_trades.index.size > 0:\n",
    "            wr = position_trades[position_trades[\"actual_returns\"]>0].index.size / position_trades.index.size\n",
    "            analysis_dict = {}\n",
    "            for key in parameter.keys():\n",
    "                analysis_dict[key] = parameter[key]\n",
    "            analysis_dict[\"position\"]=position\n",
    "            analysis_dict[\"wr\"]=wr\n",
    "            analysis_dict[\"pv\"]=initial\n",
    "            analysis.append(analysis_dict)\n",
    "a = pd.DataFrame(analysis)"
   ]
  },
  {
   "cell_type": "code",
   "execution_count": 24,
   "id": "7574d795",
   "metadata": {},
   "outputs": [
    {
     "data": {
      "text/html": [
       "<div>\n",
       "<style scoped>\n",
       "    .dataframe tbody tr th:only-of-type {\n",
       "        vertical-align: middle;\n",
       "    }\n",
       "\n",
       "    .dataframe tbody tr th {\n",
       "        vertical-align: top;\n",
       "    }\n",
       "\n",
       "    .dataframe thead th {\n",
       "        text-align: right;\n",
       "    }\n",
       "</style>\n",
       "<table border=\"1\" class=\"dataframe\">\n",
       "  <thead>\n",
       "    <tr style=\"text-align: right;\">\n",
       "      <th>position</th>\n",
       "      <th>value</th>\n",
       "      <th>classification</th>\n",
       "      <th>ceiling</th>\n",
       "      <th>floor</th>\n",
       "      <th>hedge</th>\n",
       "      <th>signal</th>\n",
       "      <th>req</th>\n",
       "      <th>training_years</th>\n",
       "      <th>0</th>\n",
       "      <th>pv</th>\n",
       "    </tr>\n",
       "  </thead>\n",
       "  <tbody>\n",
       "    <tr>\n",
       "      <th>4</th>\n",
       "      <td>False</td>\n",
       "      <td>False</td>\n",
       "      <td>False</td>\n",
       "      <td>True</td>\n",
       "      <td>False</td>\n",
       "      <td>0.05</td>\n",
       "      <td>0.15</td>\n",
       "      <td>4</td>\n",
       "      <td>112.761290</td>\n",
       "      <td>112.761290</td>\n",
       "    </tr>\n",
       "    <tr>\n",
       "      <th>12</th>\n",
       "      <td>False</td>\n",
       "      <td>False</td>\n",
       "      <td>True</td>\n",
       "      <td>True</td>\n",
       "      <td>False</td>\n",
       "      <td>0.05</td>\n",
       "      <td>0.15</td>\n",
       "      <td>4</td>\n",
       "      <td>112.761290</td>\n",
       "      <td>112.761290</td>\n",
       "    </tr>\n",
       "    <tr>\n",
       "      <th>0</th>\n",
       "      <td>False</td>\n",
       "      <td>False</td>\n",
       "      <td>False</td>\n",
       "      <td>False</td>\n",
       "      <td>False</td>\n",
       "      <td>0.05</td>\n",
       "      <td>0.15</td>\n",
       "      <td>4</td>\n",
       "      <td>112.681586</td>\n",
       "      <td>112.681586</td>\n",
       "    </tr>\n",
       "    <tr>\n",
       "      <th>8</th>\n",
       "      <td>False</td>\n",
       "      <td>False</td>\n",
       "      <td>True</td>\n",
       "      <td>False</td>\n",
       "      <td>False</td>\n",
       "      <td>0.05</td>\n",
       "      <td>0.15</td>\n",
       "      <td>4</td>\n",
       "      <td>112.681586</td>\n",
       "      <td>112.681586</td>\n",
       "    </tr>\n",
       "    <tr>\n",
       "      <th>28</th>\n",
       "      <td>False</td>\n",
       "      <td>True</td>\n",
       "      <td>True</td>\n",
       "      <td>True</td>\n",
       "      <td>False</td>\n",
       "      <td>0.05</td>\n",
       "      <td>0.15</td>\n",
       "      <td>4</td>\n",
       "      <td>108.643324</td>\n",
       "      <td>108.643324</td>\n",
       "    </tr>\n",
       "    <tr>\n",
       "      <th>24</th>\n",
       "      <td>False</td>\n",
       "      <td>True</td>\n",
       "      <td>True</td>\n",
       "      <td>False</td>\n",
       "      <td>False</td>\n",
       "      <td>0.05</td>\n",
       "      <td>0.15</td>\n",
       "      <td>4</td>\n",
       "      <td>108.643324</td>\n",
       "      <td>108.643324</td>\n",
       "    </tr>\n",
       "    <tr>\n",
       "      <th>16</th>\n",
       "      <td>False</td>\n",
       "      <td>True</td>\n",
       "      <td>False</td>\n",
       "      <td>False</td>\n",
       "      <td>False</td>\n",
       "      <td>0.05</td>\n",
       "      <td>0.15</td>\n",
       "      <td>4</td>\n",
       "      <td>108.643324</td>\n",
       "      <td>108.643324</td>\n",
       "    </tr>\n",
       "    <tr>\n",
       "      <th>20</th>\n",
       "      <td>False</td>\n",
       "      <td>True</td>\n",
       "      <td>False</td>\n",
       "      <td>True</td>\n",
       "      <td>False</td>\n",
       "      <td>0.05</td>\n",
       "      <td>0.15</td>\n",
       "      <td>4</td>\n",
       "      <td>108.643324</td>\n",
       "      <td>108.643324</td>\n",
       "    </tr>\n",
       "    <tr>\n",
       "      <th>6</th>\n",
       "      <td>False</td>\n",
       "      <td>False</td>\n",
       "      <td>False</td>\n",
       "      <td>True</td>\n",
       "      <td>True</td>\n",
       "      <td>0.05</td>\n",
       "      <td>0.15</td>\n",
       "      <td>4</td>\n",
       "      <td>105.148962</td>\n",
       "      <td>105.148962</td>\n",
       "    </tr>\n",
       "    <tr>\n",
       "      <th>14</th>\n",
       "      <td>False</td>\n",
       "      <td>False</td>\n",
       "      <td>True</td>\n",
       "      <td>True</td>\n",
       "      <td>True</td>\n",
       "      <td>0.05</td>\n",
       "      <td>0.15</td>\n",
       "      <td>4</td>\n",
       "      <td>105.148962</td>\n",
       "      <td>105.148962</td>\n",
       "    </tr>\n",
       "  </tbody>\n",
       "</table>\n",
       "</div>"
      ],
      "text/plain": [
       "position  value  classification  ceiling  floor  hedge  signal   req  \\\n",
       "4         False           False    False   True  False    0.05  0.15   \n",
       "12        False           False     True   True  False    0.05  0.15   \n",
       "0         False           False    False  False  False    0.05  0.15   \n",
       "8         False           False     True  False  False    0.05  0.15   \n",
       "28        False            True     True   True  False    0.05  0.15   \n",
       "24        False            True     True  False  False    0.05  0.15   \n",
       "16        False            True    False  False  False    0.05  0.15   \n",
       "20        False            True    False   True  False    0.05  0.15   \n",
       "6         False           False    False   True   True    0.05  0.15   \n",
       "14        False           False     True   True   True    0.05  0.15   \n",
       "\n",
       "position  training_years           0          pv  \n",
       "4                      4  112.761290  112.761290  \n",
       "12                     4  112.761290  112.761290  \n",
       "0                      4  112.681586  112.681586  \n",
       "8                      4  112.681586  112.681586  \n",
       "28                     4  108.643324  108.643324  \n",
       "24                     4  108.643324  108.643324  \n",
       "16                     4  108.643324  108.643324  \n",
       "20                     4  108.643324  108.643324  \n",
       "6                      4  105.148962  105.148962  \n",
       "14                     4  105.148962  105.148962  "
      ]
     },
     "execution_count": 24,
     "metadata": {},
     "output_type": "execute_result"
    }
   ],
   "source": [
    "indexer = list(parameters[0].keys())\n",
    "complete = a.pivot_table(index=indexer,columns=\"position\",values=\"pv\",fill_value=100/positions).reset_index()\n",
    "complete[\"pv\"] = [sum([row[1][i] for i in range(positions)]) for row in complete.iterrows()]\n",
    "complete.sort_values(\"pv\",ascending=False).head(10)"
   ]
  },
  {
   "cell_type": "code",
   "execution_count": 25,
   "id": "98c9a8cc",
   "metadata": {},
   "outputs": [],
   "source": [
    "top = complete.sort_values(\"pv\",ascending=False).iloc[0]\n",
    "analysis = t.copy()\n",
    "for key in parameter.keys():\n",
    "    analysis = analysis[(analysis[key]==top[key])]\n",
    "ledger = analysis[[\"year\",\"week\",\"ticker\",\"delta\",\"actual_returns\",\"position\"]]"
   ]
  },
  {
   "cell_type": "code",
   "execution_count": 26,
   "id": "fac952ec",
   "metadata": {},
   "outputs": [
    {
     "data": {
      "text/html": [
       "<div>\n",
       "<style scoped>\n",
       "    .dataframe tbody tr th:only-of-type {\n",
       "        vertical-align: middle;\n",
       "    }\n",
       "\n",
       "    .dataframe tbody tr th {\n",
       "        vertical-align: top;\n",
       "    }\n",
       "\n",
       "    .dataframe thead th {\n",
       "        text-align: right;\n",
       "    }\n",
       "</style>\n",
       "<table border=\"1\" class=\"dataframe\">\n",
       "  <thead>\n",
       "    <tr style=\"text-align: right;\">\n",
       "      <th></th>\n",
       "      <th>year</th>\n",
       "      <th>week</th>\n",
       "      <th>ticker</th>\n",
       "      <th>delta</th>\n",
       "      <th>actual_returns</th>\n",
       "      <th>position</th>\n",
       "    </tr>\n",
       "  </thead>\n",
       "  <tbody>\n",
       "    <tr>\n",
       "      <th>106</th>\n",
       "      <td>2023</td>\n",
       "      <td>3</td>\n",
       "      <td>BTC</td>\n",
       "      <td>0.055418</td>\n",
       "      <td>1.071594</td>\n",
       "      <td>0</td>\n",
       "    </tr>\n",
       "    <tr>\n",
       "      <th>107</th>\n",
       "      <td>2023</td>\n",
       "      <td>4</td>\n",
       "      <td>BTC</td>\n",
       "      <td>0.123412</td>\n",
       "      <td>1.019537</td>\n",
       "      <td>0</td>\n",
       "    </tr>\n",
       "    <tr>\n",
       "      <th>108</th>\n",
       "      <td>2023</td>\n",
       "      <td>5</td>\n",
       "      <td>BTC</td>\n",
       "      <td>0.123608</td>\n",
       "      <td>1.013399</td>\n",
       "      <td>0</td>\n",
       "    </tr>\n",
       "    <tr>\n",
       "      <th>109</th>\n",
       "      <td>2023</td>\n",
       "      <td>8</td>\n",
       "      <td>BTC</td>\n",
       "      <td>0.084245</td>\n",
       "      <td>0.950000</td>\n",
       "      <td>0</td>\n",
       "    </tr>\n",
       "    <tr>\n",
       "      <th>110</th>\n",
       "      <td>2023</td>\n",
       "      <td>11</td>\n",
       "      <td>BTC</td>\n",
       "      <td>0.056797</td>\n",
       "      <td>1.108213</td>\n",
       "      <td>0</td>\n",
       "    </tr>\n",
       "    <tr>\n",
       "      <th>111</th>\n",
       "      <td>2023</td>\n",
       "      <td>12</td>\n",
       "      <td>BTC</td>\n",
       "      <td>0.089620</td>\n",
       "      <td>0.975776</td>\n",
       "      <td>0</td>\n",
       "    </tr>\n",
       "    <tr>\n",
       "      <th>112</th>\n",
       "      <td>2023</td>\n",
       "      <td>14</td>\n",
       "      <td>BTC</td>\n",
       "      <td>0.072119</td>\n",
       "      <td>0.991401</td>\n",
       "      <td>0</td>\n",
       "    </tr>\n",
       "    <tr>\n",
       "      <th>113</th>\n",
       "      <td>2023</td>\n",
       "      <td>15</td>\n",
       "      <td>BTC</td>\n",
       "      <td>0.070270</td>\n",
       "      <td>1.000000</td>\n",
       "      <td>0</td>\n",
       "    </tr>\n",
       "  </tbody>\n",
       "</table>\n",
       "</div>"
      ],
      "text/plain": [
       "     year  week ticker     delta  actual_returns  position\n",
       "106  2023     3    BTC  0.055418        1.071594         0\n",
       "107  2023     4    BTC  0.123412        1.019537         0\n",
       "108  2023     5    BTC  0.123608        1.013399         0\n",
       "109  2023     8    BTC  0.084245        0.950000         0\n",
       "110  2023    11    BTC  0.056797        1.108213         0\n",
       "111  2023    12    BTC  0.089620        0.975776         0\n",
       "112  2023    14    BTC  0.072119        0.991401         0\n",
       "113  2023    15    BTC  0.070270        1.000000         0"
      ]
     },
     "execution_count": 26,
     "metadata": {},
     "output_type": "execute_result"
    }
   ],
   "source": [
    "ledger.sort_values(\"week\").tail(20)"
   ]
  },
  {
   "cell_type": "code",
   "execution_count": 27,
   "id": "9f974b5e",
   "metadata": {},
   "outputs": [],
   "source": [
    "metric = \"position\""
   ]
  },
  {
   "cell_type": "code",
   "execution_count": 28,
   "id": "753205c2",
   "metadata": {},
   "outputs": [
    {
     "data": {
      "text/html": [
       "<div>\n",
       "<style scoped>\n",
       "    .dataframe tbody tr th:only-of-type {\n",
       "        vertical-align: middle;\n",
       "    }\n",
       "\n",
       "    .dataframe tbody tr th {\n",
       "        vertical-align: top;\n",
       "    }\n",
       "\n",
       "    .dataframe thead th {\n",
       "        text-align: right;\n",
       "    }\n",
       "</style>\n",
       "<table border=\"1\" class=\"dataframe\">\n",
       "  <thead>\n",
       "    <tr style=\"text-align: right;\">\n",
       "      <th>position</th>\n",
       "      <th>index</th>\n",
       "      <th>year</th>\n",
       "      <th>week</th>\n",
       "      <th>0</th>\n",
       "    </tr>\n",
       "  </thead>\n",
       "  <tbody>\n",
       "    <tr>\n",
       "      <th>0</th>\n",
       "      <td>0</td>\n",
       "      <td>2023</td>\n",
       "      <td>3</td>\n",
       "      <td>1.071594</td>\n",
       "    </tr>\n",
       "    <tr>\n",
       "      <th>1</th>\n",
       "      <td>1</td>\n",
       "      <td>2023</td>\n",
       "      <td>4</td>\n",
       "      <td>1.019537</td>\n",
       "    </tr>\n",
       "    <tr>\n",
       "      <th>2</th>\n",
       "      <td>2</td>\n",
       "      <td>2023</td>\n",
       "      <td>5</td>\n",
       "      <td>1.013399</td>\n",
       "    </tr>\n",
       "    <tr>\n",
       "      <th>3</th>\n",
       "      <td>3</td>\n",
       "      <td>2023</td>\n",
       "      <td>8</td>\n",
       "      <td>0.950000</td>\n",
       "    </tr>\n",
       "    <tr>\n",
       "      <th>4</th>\n",
       "      <td>4</td>\n",
       "      <td>2023</td>\n",
       "      <td>11</td>\n",
       "      <td>1.108213</td>\n",
       "    </tr>\n",
       "    <tr>\n",
       "      <th>5</th>\n",
       "      <td>5</td>\n",
       "      <td>2023</td>\n",
       "      <td>12</td>\n",
       "      <td>0.975776</td>\n",
       "    </tr>\n",
       "    <tr>\n",
       "      <th>6</th>\n",
       "      <td>6</td>\n",
       "      <td>2023</td>\n",
       "      <td>14</td>\n",
       "      <td>0.991401</td>\n",
       "    </tr>\n",
       "    <tr>\n",
       "      <th>7</th>\n",
       "      <td>7</td>\n",
       "      <td>2023</td>\n",
       "      <td>15</td>\n",
       "      <td>1.000000</td>\n",
       "    </tr>\n",
       "  </tbody>\n",
       "</table>\n",
       "</div>"
      ],
      "text/plain": [
       "position  index  year  week         0\n",
       "0             0  2023     3  1.071594\n",
       "1             1  2023     4  1.019537\n",
       "2             2  2023     5  1.013399\n",
       "3             3  2023     8  0.950000\n",
       "4             4  2023    11  1.108213\n",
       "5             5  2023    12  0.975776\n",
       "6             6  2023    14  0.991401\n",
       "7             7  2023    15  1.000000"
      ]
     },
     "execution_count": 28,
     "metadata": {},
     "output_type": "execute_result"
    }
   ],
   "source": [
    "portfolio = ledger.pivot_table(index=[\"year\",\"week\"],columns=\"position\",values=\"actual_returns\").fillna(1).reset_index()\n",
    "counted_columns = [x for x in range(ledger[\"position\"].max()+1)]\n",
    "for col in range(positions):\n",
    "    if col not in counted_columns:\n",
    "        portfolio[col] = 1\n",
    "portfolio.reset_index()"
   ]
  },
  {
   "cell_type": "code",
   "execution_count": 29,
   "id": "7841b354",
   "metadata": {},
   "outputs": [
    {
     "data": {
      "text/plain": [
       "[0]"
      ]
     },
     "execution_count": 29,
     "metadata": {},
     "output_type": "execute_result"
    }
   ],
   "source": [
    "counted_columns"
   ]
  },
  {
   "cell_type": "code",
   "execution_count": 30,
   "id": "b3a337d7",
   "metadata": {},
   "outputs": [
    {
     "data": {
      "text/html": [
       "<div>\n",
       "<style scoped>\n",
       "    .dataframe tbody tr th:only-of-type {\n",
       "        vertical-align: middle;\n",
       "    }\n",
       "\n",
       "    .dataframe tbody tr th {\n",
       "        vertical-align: top;\n",
       "    }\n",
       "\n",
       "    .dataframe thead th {\n",
       "        text-align: right;\n",
       "    }\n",
       "</style>\n",
       "<table border=\"1\" class=\"dataframe\">\n",
       "  <thead>\n",
       "    <tr style=\"text-align: right;\">\n",
       "      <th>position</th>\n",
       "      <th>0</th>\n",
       "      <th>date_string</th>\n",
       "      <th>date</th>\n",
       "      <th>pv</th>\n",
       "    </tr>\n",
       "  </thead>\n",
       "  <tbody>\n",
       "    <tr>\n",
       "      <th>0</th>\n",
       "      <td>1.071594</td>\n",
       "      <td>2023-W3</td>\n",
       "      <td>2023-01-16</td>\n",
       "      <td>107159.378138</td>\n",
       "    </tr>\n",
       "    <tr>\n",
       "      <th>1</th>\n",
       "      <td>1.092530</td>\n",
       "      <td>2023-W4</td>\n",
       "      <td>2023-01-23</td>\n",
       "      <td>109253.003342</td>\n",
       "    </tr>\n",
       "    <tr>\n",
       "      <th>2</th>\n",
       "      <td>1.107169</td>\n",
       "      <td>2023-W5</td>\n",
       "      <td>2023-01-30</td>\n",
       "      <td>110716.864538</td>\n",
       "    </tr>\n",
       "    <tr>\n",
       "      <th>3</th>\n",
       "      <td>1.051810</td>\n",
       "      <td>2023-W8</td>\n",
       "      <td>2023-02-20</td>\n",
       "      <td>105181.021311</td>\n",
       "    </tr>\n",
       "    <tr>\n",
       "      <th>4</th>\n",
       "      <td>1.165630</td>\n",
       "      <td>2023-W11</td>\n",
       "      <td>2023-03-13</td>\n",
       "      <td>116563.011467</td>\n",
       "    </tr>\n",
       "    <tr>\n",
       "      <th>5</th>\n",
       "      <td>1.137394</td>\n",
       "      <td>2023-W12</td>\n",
       "      <td>2023-03-20</td>\n",
       "      <td>113739.387946</td>\n",
       "    </tr>\n",
       "    <tr>\n",
       "      <th>6</th>\n",
       "      <td>1.127613</td>\n",
       "      <td>2023-W14</td>\n",
       "      <td>2023-04-03</td>\n",
       "      <td>112761.290197</td>\n",
       "    </tr>\n",
       "    <tr>\n",
       "      <th>7</th>\n",
       "      <td>1.127613</td>\n",
       "      <td>2023-W15</td>\n",
       "      <td>2023-04-10</td>\n",
       "      <td>112761.290197</td>\n",
       "    </tr>\n",
       "  </tbody>\n",
       "</table>\n",
       "</div>"
      ],
      "text/plain": [
       "position         0 date_string       date             pv\n",
       "0         1.071594     2023-W3 2023-01-16  107159.378138\n",
       "1         1.092530     2023-W4 2023-01-23  109253.003342\n",
       "2         1.107169     2023-W5 2023-01-30  110716.864538\n",
       "3         1.051810     2023-W8 2023-02-20  105181.021311\n",
       "4         1.165630    2023-W11 2023-03-13  116563.011467\n",
       "5         1.137394    2023-W12 2023-03-20  113739.387946\n",
       "6         1.127613    2023-W14 2023-04-03  112761.290197\n",
       "7         1.127613    2023-W15 2023-04-10  112761.290197"
      ]
     },
     "execution_count": 30,
     "metadata": {},
     "output_type": "execute_result"
    }
   ],
   "source": [
    "cumulative = portfolio[[i for i in range(positions)]].cumprod()\n",
    "cumulative[\"date_string\"] = [f'{int(row[1][\"year\"])}-W{int(row[1][\"week\"])}' for row in portfolio.iterrows()]\n",
    "cumulative[\"date\"] = [datetime.strptime(x + '-1', '%G-W%V-%u') for x in cumulative[\"date_string\"]]\n",
    "cumulative[\"pv\"] = [sum([row[1][column] * (100000 / positions) for column in range(positions)]) for row in cumulative.iterrows()]\n",
    "cumulative"
   ]
  },
  {
   "cell_type": "code",
   "execution_count": 31,
   "id": "11b4e3a5",
   "metadata": {},
   "outputs": [
    {
     "data": {
      "text/html": [
       "<div>\n",
       "<style scoped>\n",
       "    .dataframe tbody tr th:only-of-type {\n",
       "        vertical-align: middle;\n",
       "    }\n",
       "\n",
       "    .dataframe tbody tr th {\n",
       "        vertical-align: top;\n",
       "    }\n",
       "\n",
       "    .dataframe thead th {\n",
       "        text-align: right;\n",
       "    }\n",
       "</style>\n",
       "<table border=\"1\" class=\"dataframe\">\n",
       "  <thead>\n",
       "    <tr style=\"text-align: right;\">\n",
       "      <th>position</th>\n",
       "      <th>0</th>\n",
       "      <th>date_string</th>\n",
       "      <th>date</th>\n",
       "      <th>pv</th>\n",
       "    </tr>\n",
       "  </thead>\n",
       "  <tbody>\n",
       "    <tr>\n",
       "      <th>0</th>\n",
       "      <td>1.071594</td>\n",
       "      <td>2023-W3</td>\n",
       "      <td>2023-01-16</td>\n",
       "      <td>107159.378138</td>\n",
       "    </tr>\n",
       "    <tr>\n",
       "      <th>1</th>\n",
       "      <td>1.092530</td>\n",
       "      <td>2023-W4</td>\n",
       "      <td>2023-01-23</td>\n",
       "      <td>109253.003342</td>\n",
       "    </tr>\n",
       "    <tr>\n",
       "      <th>2</th>\n",
       "      <td>1.107169</td>\n",
       "      <td>2023-W5</td>\n",
       "      <td>2023-01-30</td>\n",
       "      <td>110716.864538</td>\n",
       "    </tr>\n",
       "    <tr>\n",
       "      <th>3</th>\n",
       "      <td>1.051810</td>\n",
       "      <td>2023-W8</td>\n",
       "      <td>2023-02-20</td>\n",
       "      <td>105181.021311</td>\n",
       "    </tr>\n",
       "    <tr>\n",
       "      <th>4</th>\n",
       "      <td>1.165630</td>\n",
       "      <td>2023-W11</td>\n",
       "      <td>2023-03-13</td>\n",
       "      <td>116563.011467</td>\n",
       "    </tr>\n",
       "    <tr>\n",
       "      <th>5</th>\n",
       "      <td>1.137394</td>\n",
       "      <td>2023-W12</td>\n",
       "      <td>2023-03-20</td>\n",
       "      <td>113739.387946</td>\n",
       "    </tr>\n",
       "    <tr>\n",
       "      <th>6</th>\n",
       "      <td>1.127613</td>\n",
       "      <td>2023-W14</td>\n",
       "      <td>2023-04-03</td>\n",
       "      <td>112761.290197</td>\n",
       "    </tr>\n",
       "    <tr>\n",
       "      <th>7</th>\n",
       "      <td>1.127613</td>\n",
       "      <td>2023-W15</td>\n",
       "      <td>2023-04-10</td>\n",
       "      <td>112761.290197</td>\n",
       "    </tr>\n",
       "  </tbody>\n",
       "</table>\n",
       "</div>"
      ],
      "text/plain": [
       "position         0 date_string       date             pv\n",
       "0         1.071594     2023-W3 2023-01-16  107159.378138\n",
       "1         1.092530     2023-W4 2023-01-23  109253.003342\n",
       "2         1.107169     2023-W5 2023-01-30  110716.864538\n",
       "3         1.051810     2023-W8 2023-02-20  105181.021311\n",
       "4         1.165630    2023-W11 2023-03-13  116563.011467\n",
       "5         1.137394    2023-W12 2023-03-20  113739.387946\n",
       "6         1.127613    2023-W14 2023-04-03  112761.290197\n",
       "7         1.127613    2023-W15 2023-04-10  112761.290197"
      ]
     },
     "execution_count": 31,
     "metadata": {},
     "output_type": "execute_result"
    }
   ],
   "source": [
    "cumulative"
   ]
  },
  {
   "cell_type": "code",
   "execution_count": 32,
   "id": "2d4570db",
   "metadata": {},
   "outputs": [
    {
     "data": {
      "text/plain": [
       "[<matplotlib.lines.Line2D at 0x1dabdc10970>]"
      ]
     },
     "execution_count": 32,
     "metadata": {},
     "output_type": "execute_result"
    },
    {
     "data": {
      "image/png": "[encoded data removed]",
      "text/plain": [
       "<Figure size 960x560 with 1 Axes>"
      ]
     },
     "metadata": {
      "needs_background": "light"
     },
     "output_type": "display_data"
    }
   ],
   "source": [
    "plt.figure(figsize=(12, 7), dpi=80)\n",
    "plt.plot(cumulative[\"date\"],cumulative[\"pv\"])"
   ]
  },
  {
   "cell_type": "code",
   "execution_count": 33,
   "id": "58e280ac",
   "metadata": {},
   "outputs": [
    {
     "data": {
      "text/html": [
       "<div>\n",
       "<style scoped>\n",
       "    .dataframe tbody tr th:only-of-type {\n",
       "        vertical-align: middle;\n",
       "    }\n",
       "\n",
       "    .dataframe tbody tr th {\n",
       "        vertical-align: top;\n",
       "    }\n",
       "\n",
       "    .dataframe thead th {\n",
       "        text-align: right;\n",
       "    }\n",
       "</style>\n",
       "<table border=\"1\" class=\"dataframe\">\n",
       "  <thead>\n",
       "    <tr style=\"text-align: right;\">\n",
       "      <th></th>\n",
       "      <th>date</th>\n",
       "      <th>ticker</th>\n",
       "      <th>delta</th>\n",
       "    </tr>\n",
       "  </thead>\n",
       "  <tbody>\n",
       "    <tr>\n",
       "      <th>3130</th>\n",
       "      <td>2023-04-13</td>\n",
       "      <td>BTC</td>\n",
       "      <td>-0.084069</td>\n",
       "    </tr>\n",
       "  </tbody>\n",
       "</table>\n",
       "</div>"
      ],
      "text/plain": [
       "           date ticker     delta\n",
       "3130 2023-04-13    BTC -0.084069"
      ]
     },
     "execution_count": 33,
     "metadata": {},
     "output_type": "execute_result"
    }
   ],
   "source": [
    "sim[sim[\"date\"]==sim[\"date\"].max()].sort_values(\"delta\",ascending=False).head(20)[[\"date\",\"ticker\",\"delta\"]]"
   ]
  }
 ],
 "metadata": {
  "kernelspec": {
   "display_name": "Python 3 (ipykernel)",
   "language": "python",
   "name": "python3"
  },
  "language_info": {
   "codemirror_mode": {
    "name": "ipython",
    "version": 3
   },
   "file_extension": ".py",
   "mimetype": "text/x-python",
   "name": "python",
   "nbconvert_exporter": "python",
   "pygments_lexer": "ipython3",
   "version": "3.10.5"
  }
 },
 "nbformat": 4,
 "nbformat_minor": 5
}
