{
 "cells": [
  {
   "cell_type": "code",
   "execution_count": 1,
   "id": "5a24d11e",
   "metadata": {},
   "outputs": [],
   "source": [
    "import pandas as pd\n",
    "from database.market import Market\n",
    "from database.adatabase import ADatabase\n",
    "from processor.processor import Processor as p\n",
    "from datetime import datetime\n",
    "from tqdm import tqdm\n",
    "import numpy as np\n",
    "from modeler_strats.universal_modeler import UniversalModeler\n",
    "import pickle"
   ]
  },
  {
   "cell_type": "code",
   "execution_count": 2,
   "id": "39ee7553",
   "metadata": {},
   "outputs": [],
   "source": [
    "current_year = 2023"
   ]
  },
  {
   "cell_type": "code",
   "execution_count": 3,
   "id": "1f7fc22a",
   "metadata": {},
   "outputs": [],
   "source": [
    "market = Market()\n",
    "spec = ADatabase(\"comet\")\n",
    "umod = UniversalModeler()"
   ]
  },
  {
   "cell_type": "code",
   "execution_count": 4,
   "id": "983a4ac6",
   "metadata": {},
   "outputs": [],
   "source": [
    "factors = [str(x) for x in range(14)]"
   ]
  },
  {
   "cell_type": "code",
   "execution_count": 5,
   "id": "06e0c3f1",
   "metadata": {},
   "outputs": [],
   "source": [
    "included_columns=[\n",
    "    \"year\",\n",
    "    \"week\",\n",
    "    \"ticker\",\n",
    "    \"adjclose\",\n",
    "    \"y\"\n",
    "]"
   ]
  },
  {
   "cell_type": "code",
   "execution_count": 6,
   "id": "c552e7c0",
   "metadata": {},
   "outputs": [],
   "source": [
    "included_columns.extend(factors)"
   ]
  },
  {
   "cell_type": "code",
   "execution_count": 7,
   "id": "fb51d227",
   "metadata": {},
   "outputs": [],
   "source": [
    "training_sets = []"
   ]
  },
  {
   "cell_type": "code",
   "execution_count": 12,
   "id": "c551e792",
   "metadata": {},
   "outputs": [],
   "source": [
    "ticker = \"BTC\"\n",
    "try:\n",
    "    prices = pd.read_csv(\"./csv_files/prices/BTC-USD.csv\")\n",
    "    prices[\"ticker\"] = ticker\n",
    "    prices = p.column_date_processing(prices)\n",
    "    prices[\"year\"] = [x.year for x in prices[\"date\"]]\n",
    "    prices[\"quarter\"] = [x.quarter for x in prices[\"date\"]]\n",
    "    ticker_data = prices[prices[\"ticker\"]==ticker]\n",
    "    ticker_data.sort_values(\"date\",ascending=True,inplace=True)\n",
    "    ticker_data[\"adjclose\"] = [float(x) for x in ticker_data[\"adjclose\"]]\n",
    "    ticker_data = ticker_data.groupby([\"year\",\"week\"]).mean().reset_index()\n",
    "    for i in range(14):\n",
    "        ticker_data[str(i)] = ticker_data[\"adjclose\"].shift(i)\n",
    "    ticker_data[\"d1\"] = ticker_data[\"adjclose\"].pct_change(periods=1)\n",
    "    ticker_data[\"d2\"] = ticker_data[\"d1\"].pct_change(periods=1)\n",
    "    ticker_data[\"d3\"] = ticker_data[\"d2\"].pct_change(periods=1)\n",
    "    ticker_data[\"rolling14\"] = ticker_data[\"adjclose\"].rolling(window=14).mean()\n",
    "    ticker_data.dropna(inplace=True)\n",
    "    ticker_data[\"ticker\"] = ticker\n",
    "    ticker_data[\"y\"] = ticker_data[\"adjclose\"].shift(-1)\n",
    "    ticker_data = ticker_data.replace([np.inf, -np.inf], np.nan).dropna()\n",
    "    ticker_data.dropna(inplace=True)\n",
    "    ticker_data = ticker_data[included_columns]\n",
    "    training_sets.append(ticker_data)\n",
    "except Exception as e:\n",
    "    print(ticker,str(e))"
   ]
  },
  {
   "cell_type": "code",
   "execution_count": 13,
   "id": "0ea5d66b",
   "metadata": {},
   "outputs": [],
   "source": [
    "data = pd.concat(training_sets)"
   ]
  },
  {
   "cell_type": "code",
   "execution_count": 14,
   "id": "736f208f",
   "metadata": {},
   "outputs": [],
   "source": [
    "data = data.dropna()"
   ]
  },
  {
   "cell_type": "code",
   "execution_count": 15,
   "id": "23ad6193",
   "metadata": {},
   "outputs": [
    {
     "name": "stderr",
     "output_type": "stream",
     "text": [
      "\r",
      "  0%|                                                                | 0/1 [00:00<?, ?it/s]"
     ]
    },
    {
     "name": "stdout",
     "output_type": "stream",
     "text": [
      "Epoch 1/10\n",
      "10/10 [==============================] - 1s 1ms/step - loss: 171745536.0000 - mean_absolute_percentage_error: 36.5060\n",
      "Epoch 2/10\n",
      "10/10 [==============================] - 0s 1ms/step - loss: 48786784.0000 - mean_absolute_percentage_error: 19.2369\n",
      "Epoch 3/10\n",
      "10/10 [==============================] - 0s 1ms/step - loss: 23108068.0000 - mean_absolute_percentage_error: 12.6165\n",
      "Epoch 4/10\n",
      "10/10 [==============================] - 0s 1ms/step - loss: 16120195.0000 - mean_absolute_percentage_error: 10.7009\n",
      "Epoch 5/10\n",
      "10/10 [==============================] - 0s 889us/step - loss: 12605833.0000 - mean_absolute_percentage_error: 9.7372\n",
      "Epoch 6/10\n",
      "10/10 [==============================] - 0s 889us/step - loss: 10867001.0000 - mean_absolute_percentage_error: 8.9052\n",
      "Epoch 7/10\n",
      "10/10 [==============================] - 0s 1ms/step - loss: 10535926.0000 - mean_absolute_percentage_error: 9.3151\n",
      "Epoch 8/10\n",
      "10/10 [==============================] - 0s 1ms/step - loss: 10588029.0000 - mean_absolute_percentage_error: 8.9731\n",
      "Epoch 9/10\n",
      "10/10 [==============================] - 0s 1ms/step - loss: 10090560.0000 - mean_absolute_percentage_error: 8.7761\n",
      "Epoch 10/10\n",
      "10/10 [==============================] - 0s 1ms/step - loss: 11254131.0000 - mean_absolute_percentage_error: 10.0406\n",
      "4/4 [==============================] - 0s 1ms/step\n"
     ]
    },
    {
     "name": "stderr",
     "output_type": "stream",
     "text": [
      "100%|████████████████████████████████████████████████████████| 1/1 [00:07<00:00,  7.86s/it]\n"
     ]
    }
   ],
   "source": [
    "spec.connect()\n",
    "for modeler in [umod]:\n",
    "    for year in tqdm(range(current_year,current_year+1)):\n",
    "        training_slice = data[(data[\"year\"]<year) & (data[\"year\"] >= year - 4)].reset_index(drop=True)\n",
    "        set_name = \"models\"\n",
    "        stuff = modeler.recommend_model(training_slice,factors)\n",
    "spec.disconnect()"
   ]
  },
  {
   "cell_type": "code",
   "execution_count": 16,
   "id": "a454f7ac",
   "metadata": {},
   "outputs": [
    {
     "name": "stdout",
     "output_type": "stream",
     "text": [
      "Keras weights file (<HDF5 file \"variables.h5\" (mode r+)>) saving:\n",
      "...layers\\dense\n",
      "......vars\n",
      ".........0\n",
      ".........1\n",
      "...layers\\dense_1\n",
      "......vars\n",
      ".........0\n",
      ".........1\n",
      "...layers\\dense_2\n",
      "......vars\n",
      ".........0\n",
      ".........1\n",
      "...metrics\\mean\n",
      "......vars\n",
      ".........0\n",
      ".........1\n",
      "...metrics\\mean_absolute_percentage_error\n",
      "......vars\n",
      ".........0\n",
      ".........1\n",
      "...optimizer\n",
      "......vars\n",
      ".........0\n",
      ".........1\n",
      ".........10\n",
      ".........11\n",
      ".........12\n",
      ".........2\n",
      ".........3\n",
      ".........4\n",
      ".........5\n",
      ".........6\n",
      ".........7\n",
      ".........8\n",
      ".........9\n",
      "...vars\n",
      "Keras model archive saving:\n",
      "File Name                                             Modified             Size\n",
      "config.json                                    2023-05-12 09:05:49         2522\n",
      "metadata.json                                  2023-05-12 09:05:49           64\n",
      "variables.h5                                   2023-05-12 09:05:49        84160\n"
     ]
    }
   ],
   "source": [
    "stuff[\"model\"] = [pickle.dumps(x) for x in stuff[\"model\"]]"
   ]
  },
  {
   "cell_type": "code",
   "execution_count": 17,
   "id": "5aea7679",
   "metadata": {},
   "outputs": [],
   "source": [
    "spec.connect()\n",
    "models = spec.store(\"models\",stuff)\n",
    "spec.disconnect()"
   ]
  }
 ],
 "metadata": {
  "kernelspec": {
   "display_name": "Python 3 (ipykernel)",
   "language": "python",
   "name": "python3"
  },
  "language_info": {
   "codemirror_mode": {
    "name": "ipython",
    "version": 3
   },
   "file_extension": ".py",
   "mimetype": "text/x-python",
   "name": "python",
   "nbconvert_exporter": "python",
   "pygments_lexer": "ipython3",
   "version": "3.10.5"
  }
 },
 "nbformat": 4,
 "nbformat_minor": 5
}
