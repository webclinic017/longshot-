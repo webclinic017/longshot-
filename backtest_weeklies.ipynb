{
 "cells": [
  {
   "cell_type": "code",
   "execution_count": 1,
   "id": "aa80f443",
   "metadata": {
    "scrolled": true
   },
   "outputs": [],
   "source": [
    "## personal imports\n",
    "from processor.processor import Processor as p\n",
    "from database.market import Market\n",
    "from database.sec import SEC\n",
    "from database.adatabase import ADatabase\n",
    "from functional.backtester import Backtester as b\n",
    "from transformer.adhoc_transforms import Adhoc as adhocs\n",
    "from transformer.risk_transforms import Risk as risks\n",
    "\n",
    "\n",
    "## additional imports\n",
    "from statistics import variance\n",
    "import numpy as np\n",
    "import matplotlib.pyplot as plt\n",
    "import pickle\n",
    "import math\n",
    "from datetime import datetime, timedelta\n",
    "import pytz\n",
    "import pandas as pd\n",
    "from tqdm import tqdm"
   ]
  },
  {
   "cell_type": "code",
   "execution_count": 2,
   "id": "b38d4176",
   "metadata": {
    "scrolled": true
   },
   "outputs": [],
   "source": [
    "start_date = datetime(2020,1,1)\n",
    "end_date = datetime(2023,1,1)"
   ]
  },
  {
   "cell_type": "code",
   "execution_count": 3,
   "id": "e5adbebb",
   "metadata": {},
   "outputs": [],
   "source": [
    "market = Market()\n",
    "speculation_db = ADatabase(\"spec\")\n",
    "classification_db = ADatabase(\"spec_classification\")\n",
    "class_spec = ADatabase(\"class_spec\")\n",
    "weeklies_db = ADatabase(\"weeklies\")"
   ]
  },
  {
   "cell_type": "code",
   "execution_count": 4,
   "id": "235a8676",
   "metadata": {
    "scrolled": true
   },
   "outputs": [],
   "source": [
    "market.connect()\n",
    "sp500 = market.retrieve(\"sp500\")\n",
    "market.disconnect()\n",
    "sp500 = sp500.rename(columns={\"Symbol\":\"ticker\"})"
   ]
  },
  {
   "cell_type": "code",
   "execution_count": 5,
   "id": "41568a2d",
   "metadata": {},
   "outputs": [],
   "source": [
    "tyields = adhocs.tyields()\n",
    "bench_returns = adhocs.spy_bench()"
   ]
  },
  {
   "cell_type": "code",
   "execution_count": 6,
   "id": "17def7c2",
   "metadata": {},
   "outputs": [
    {
     "name": "stderr",
     "output_type": "stream",
     "text": [
      "100%|████████████████████████████████████████████████████████████████████████████████████████████████████████████████████████████████████████████████████████| 490/490 [00:47<00:00, 10.30it/s]\n"
     ]
    }
   ],
   "source": [
    "new_prices = []\n",
    "market.connect()\n",
    "for ticker in tqdm(sp500[\"ticker\"].unique()):\n",
    "    try:\n",
    "        ticker_sim = market.retrieve_ticker_prices(\"prices\",ticker)\n",
    "        completed = risks.weekly_risk_prep(ticker_sim,bench_returns)\n",
    "        new_prices.append(completed)\n",
    "    except Exception as e:\n",
    "        print(str(e))\n",
    "        continue\n",
    "market.disconnect()\n",
    "price_returns = pd.concat(new_prices)"
   ]
  },
  {
   "cell_type": "code",
   "execution_count": 7,
   "id": "5b375c05",
   "metadata": {},
   "outputs": [],
   "source": [
    "speculation_db.connect()\n",
    "simulation = speculation_db.retrieve(\"sim\")\n",
    "speculation_db.disconnect()"
   ]
  },
  {
   "cell_type": "code",
   "execution_count": 8,
   "id": "fa606062",
   "metadata": {},
   "outputs": [],
   "source": [
    "classification_db.connect()\n",
    "classification_simulation = classification_db.retrieve(\"sim\")\n",
    "classification_db.disconnect()"
   ]
  },
  {
   "cell_type": "code",
   "execution_count": 9,
   "id": "f6d4d444",
   "metadata": {},
   "outputs": [],
   "source": [
    "simulation[\"week\"] = simulation[\"week\"] + 1\n",
    "classification_simulation[\"week\"] = classification_simulation[\"week\"] + 1\n",
    "classification_simulation.rename(columns={\"prediction\":\"classification_prediction\"},inplace=True)"
   ]
  },
  {
   "cell_type": "code",
   "execution_count": 10,
   "id": "a61c6b3e",
   "metadata": {},
   "outputs": [],
   "source": [
    "simulation = price_returns.merge(simulation.drop(\"adjclose\",axis=1)[[\"year\",\"week\",\"ticker\",\"prediction\"]],on=[\"year\",\"week\",\"ticker\"],how=\"left\") \\\n",
    "                    .merge(classification_simulation.drop([\"adjclose\",\"training_years\"],axis=1)[[\"year\",\"week\",\"ticker\",\"classification_prediction\"]],on=[\"year\",\"week\",\"ticker\"],how=\"left\") \\\n",
    "                    .merge(tyields[[\"date\",\"weekly_yield\"]],on=\"date\",how=\"left\")"
   ]
  },
  {
   "cell_type": "code",
   "execution_count": 11,
   "id": "c040f7fd",
   "metadata": {},
   "outputs": [],
   "source": [
    "sim = simulation.dropna()"
   ]
  },
  {
   "cell_type": "code",
   "execution_count": 12,
   "id": "50e5eda7",
   "metadata": {},
   "outputs": [],
   "source": [
    "sim.sort_values([\"date\",\"ticker\"],inplace=True)\n",
    "sim = sim.groupby([\"date\",\"ticker\",\"classification_prediction\"]).mean().reset_index()"
   ]
  },
  {
   "cell_type": "code",
   "execution_count": 13,
   "id": "7710948a",
   "metadata": {
    "scrolled": true
   },
   "outputs": [],
   "source": [
    "trades = []\n",
    "values = [True,False]\n",
    "classifications = [True,False]\n",
    "ceilings = [True,False]\n",
    "floors = [True,False]\n",
    "parameters = []\n",
    "positions = 10\n",
    "strats = [\"spec\",\"rolling\",\"window\"]\n",
    "for strat in strats:\n",
    "    for value in values:\n",
    "        for classification in classifications:\n",
    "            for ceiling in ceilings:\n",
    "                for floor in floors:\n",
    "                    parameter = {\n",
    "                                \"value\":value\n",
    "                                 ,\"classification\":classification\n",
    "                                 ,\"ceiling\":ceiling\n",
    "                                 ,\"floor\":floor\n",
    "                                ,\"strat\":strat\n",
    "                                }\n",
    "                    parameters.append(parameter)"
   ]
  },
  {
   "cell_type": "code",
   "execution_count": 14,
   "id": "4067fa09",
   "metadata": {},
   "outputs": [
    {
     "data": {
      "text/plain": [
       "Index(['date', 'ticker', 'classification_prediction', 'close', 'high', 'low',\n",
       "       'open', 'volume', 'adjclose', 'adjhigh', 'adjlow', 'adjopen',\n",
       "       'adjvolume', 'divcash', 'splitfactor', 'year', 'quarter', 'week',\n",
       "       'return_2', 'return_3', 'return_4', 'day', 'weekly_return',\n",
       "       'rolling_prediction', 'window_prediction', 'bench_return', 'variance',\n",
       "       'market_cov', 'beta', 'prediction', 'weekly_yield'],\n",
       "      dtype='object')"
      ]
     },
     "execution_count": 14,
     "metadata": {},
     "output_type": "execute_result"
    }
   ],
   "source": [
    "sim.columns"
   ]
  },
  {
   "cell_type": "code",
   "execution_count": 15,
   "id": "40c956bc",
   "metadata": {},
   "outputs": [
    {
     "name": "stderr",
     "output_type": "stream",
     "text": [
      "100%|██████████████████████████████████████████████████████████████████████████████████████████████████████████████████████████████████████████████████████████| 48/48 [10:20<00:00, 12.93s/it]\n"
     ]
    }
   ],
   "source": [
    "weeklies_db.connect()\n",
    "weeklies_db.drop(\"trades\")\n",
    "for parameter in tqdm(parameters):\n",
    "    backtest_data = sim.copy().dropna()\n",
    "    strat = parameter[\"strat\"]\n",
    "    backtest_data = risks.weekly_backtest_prep(strat,backtest_data)\n",
    "    b.weeklies_backtest(backtest_data.copy(),positions,parameter,start_date,end_date,weeklies_db)\n",
    "weeklies_db.disconnect()"
   ]
  }
 ],
 "metadata": {
  "kernelspec": {
   "display_name": "Python 3 (ipykernel)",
   "language": "python",
   "name": "python3"
  },
  "language_info": {
   "codemirror_mode": {
    "name": "ipython",
    "version": 3
   },
   "file_extension": ".py",
   "mimetype": "text/x-python",
   "name": "python",
   "nbconvert_exporter": "python",
   "pygments_lexer": "ipython3",
   "version": "3.10.5"
  }
 },
 "nbformat": 4,
 "nbformat_minor": 5
}
