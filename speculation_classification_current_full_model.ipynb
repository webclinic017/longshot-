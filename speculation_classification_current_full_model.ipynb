{
 "cells": [
  {
   "cell_type": "code",
   "execution_count": 17,
   "id": "5a24d11e",
   "metadata": {},
   "outputs": [],
   "source": [
    "import pandas as pd\n",
    "from database.market import Market\n",
    "from database.adatabase import ADatabase\n",
    "from processor.processor import Processor as p\n",
    "from datetime import datetime\n",
    "from tqdm import tqdm\n",
    "import numpy as np\n",
    "from modeler_strats.universal_modeler import UniversalModeler\n",
    "import pickle"
   ]
  },
  {
   "cell_type": "code",
   "execution_count": 2,
   "id": "1f7fc22a",
   "metadata": {},
   "outputs": [],
   "source": [
    "market = Market()\n",
    "spec = ADatabase(\"spec_classification\")\n",
    "umod = UniversalModeler()"
   ]
  },
  {
   "cell_type": "code",
   "execution_count": 3,
   "id": "b4c5b25b",
   "metadata": {},
   "outputs": [],
   "source": [
    "current_year = 2023"
   ]
  },
  {
   "cell_type": "code",
   "execution_count": 4,
   "id": "b0c57b4d",
   "metadata": {},
   "outputs": [],
   "source": [
    "market.connect()\n",
    "sp500 = market.retrieve(\"sp500\")\n",
    "market.disconnect()\n",
    "sp500 = sp500.rename(columns={\"Symbol\":\"ticker\"})"
   ]
  },
  {
   "cell_type": "code",
   "execution_count": 5,
   "id": "983a4ac6",
   "metadata": {},
   "outputs": [],
   "source": [
    "factors = []\n",
    "factors.append(\"d1\")\n",
    "factors.append(\"d2\")\n",
    "factors.append(\"d3\")\n",
    "factors.append(\"rolling14\")"
   ]
  },
  {
   "cell_type": "code",
   "execution_count": 6,
   "id": "06e0c3f1",
   "metadata": {},
   "outputs": [],
   "source": [
    "included_columns=[\n",
    "    \"year\",\n",
    "    \"week\",\n",
    "    \"ticker\",\n",
    "    \"adjclose\",\n",
    "    \"y\"\n",
    "]"
   ]
  },
  {
   "cell_type": "code",
   "execution_count": 7,
   "id": "c552e7c0",
   "metadata": {},
   "outputs": [],
   "source": [
    "included_columns.extend(factors)"
   ]
  },
  {
   "cell_type": "code",
   "execution_count": 8,
   "id": "fb51d227",
   "metadata": {},
   "outputs": [],
   "source": [
    "training_sets = []"
   ]
  },
  {
   "cell_type": "code",
   "execution_count": 9,
   "id": "c551e792",
   "metadata": {},
   "outputs": [],
   "source": [
    "for ticker in sp500[\"ticker\"].unique():\n",
    "    try:\n",
    "        prices = market.retrieve_ticker_prices(\"prices\",ticker)\n",
    "        prices = p.column_date_processing(prices)\n",
    "        prices[\"year\"] = [x.year for x in prices[\"date\"]]\n",
    "        prices[\"quarter\"] = [x.quarter for x in prices[\"date\"]]\n",
    "        ticker_data = prices[prices[\"ticker\"]==ticker]\n",
    "        ticker_data.sort_values(\"date\",ascending=True,inplace=True)\n",
    "        ticker_data[\"adjclose\"] = [float(x) for x in ticker_data[\"adjclose\"]]\n",
    "        ticker_data = ticker_data.groupby([\"year\",\"week\"]).mean().reset_index()\n",
    "        ticker_data[\"d1\"] = ticker_data[\"adjclose\"].pct_change(periods=1)\n",
    "        ticker_data[\"d2\"] = ticker_data[\"d1\"].pct_change(periods=1)\n",
    "        ticker_data[\"d3\"] = ticker_data[\"d2\"].pct_change(periods=1)\n",
    "        ticker_data[\"rolling14\"] = ticker_data[\"adjclose\"].rolling(window=14).mean()\n",
    "        ticker_data.dropna(inplace=True)\n",
    "        ticker_data[\"ticker\"] = ticker\n",
    "        ticker_data[\"future\"] = ticker_data[\"adjclose\"].shift(-1)\n",
    "        ticker_data[\"delta\"] = (ticker_data[\"future\"] - ticker_data[\"adjclose\"]) / ticker_data[\"adjclose\"]\n",
    "        ticker_data[\"y\"] = [x > 0 for x in ticker_data[\"delta\"]]\n",
    "        ticker_data = ticker_data.replace([np.inf, -np.inf], np.nan).dropna()\n",
    "        ticker_data.dropna(inplace=True)\n",
    "        ticker_data = ticker_data[included_columns]\n",
    "        training_sets.append(ticker_data)\n",
    "    except:\n",
    "        continue"
   ]
  },
  {
   "cell_type": "code",
   "execution_count": 10,
   "id": "0ea5d66b",
   "metadata": {},
   "outputs": [],
   "source": [
    "data = pd.concat(training_sets)"
   ]
  },
  {
   "cell_type": "code",
   "execution_count": 11,
   "id": "736f208f",
   "metadata": {},
   "outputs": [],
   "source": [
    "data = data.dropna()"
   ]
  },
  {
   "cell_type": "code",
   "execution_count": 12,
   "id": "cf022a2a",
   "metadata": {},
   "outputs": [
    {
     "data": {
      "text/html": [
       "<div>\n",
       "<style scoped>\n",
       "    .dataframe tbody tr th:only-of-type {\n",
       "        vertical-align: middle;\n",
       "    }\n",
       "\n",
       "    .dataframe tbody tr th {\n",
       "        vertical-align: top;\n",
       "    }\n",
       "\n",
       "    .dataframe thead th {\n",
       "        text-align: right;\n",
       "    }\n",
       "</style>\n",
       "<table border=\"1\" class=\"dataframe\">\n",
       "  <thead>\n",
       "    <tr style=\"text-align: right;\">\n",
       "      <th></th>\n",
       "      <th>year</th>\n",
       "      <th>week</th>\n",
       "      <th>ticker</th>\n",
       "      <th>adjclose</th>\n",
       "      <th>y</th>\n",
       "      <th>d1</th>\n",
       "      <th>d2</th>\n",
       "      <th>d3</th>\n",
       "      <th>rolling14</th>\n",
       "    </tr>\n",
       "  </thead>\n",
       "  <tbody>\n",
       "    <tr>\n",
       "      <th>13</th>\n",
       "      <td>2000</td>\n",
       "      <td>14</td>\n",
       "      <td>MMM</td>\n",
       "      <td>25.077294</td>\n",
       "      <td>True</td>\n",
       "      <td>0.041247</td>\n",
       "      <td>12.190637</td>\n",
       "      <td>-13.811506</td>\n",
       "      <td>24.512802</td>\n",
       "    </tr>\n",
       "    <tr>\n",
       "      <th>14</th>\n",
       "      <td>2000</td>\n",
       "      <td>15</td>\n",
       "      <td>MMM</td>\n",
       "      <td>25.480959</td>\n",
       "      <td>False</td>\n",
       "      <td>0.016097</td>\n",
       "      <td>-0.609744</td>\n",
       "      <td>-1.050017</td>\n",
       "      <td>24.464388</td>\n",
       "    </tr>\n",
       "    <tr>\n",
       "      <th>15</th>\n",
       "      <td>2000</td>\n",
       "      <td>16</td>\n",
       "      <td>MMM</td>\n",
       "      <td>24.647652</td>\n",
       "      <td>True</td>\n",
       "      <td>-0.032703</td>\n",
       "      <td>-3.031650</td>\n",
       "      <td>3.972003</td>\n",
       "      <td>24.279800</td>\n",
       "    </tr>\n",
       "    <tr>\n",
       "      <th>16</th>\n",
       "      <td>2000</td>\n",
       "      <td>17</td>\n",
       "      <td>MMM</td>\n",
       "      <td>24.709535</td>\n",
       "      <td>False</td>\n",
       "      <td>0.002511</td>\n",
       "      <td>-1.076772</td>\n",
       "      <td>-0.644823</td>\n",
       "      <td>24.181488</td>\n",
       "    </tr>\n",
       "    <tr>\n",
       "      <th>17</th>\n",
       "      <td>2000</td>\n",
       "      <td>18</td>\n",
       "      <td>MMM</td>\n",
       "      <td>23.492011</td>\n",
       "      <td>False</td>\n",
       "      <td>-0.049273</td>\n",
       "      <td>-20.625452</td>\n",
       "      <td>18.154890</td>\n",
       "      <td>24.048622</td>\n",
       "    </tr>\n",
       "    <tr>\n",
       "      <th>...</th>\n",
       "      <td>...</td>\n",
       "      <td>...</td>\n",
       "      <td>...</td>\n",
       "      <td>...</td>\n",
       "      <td>...</td>\n",
       "      <td>...</td>\n",
       "      <td>...</td>\n",
       "      <td>...</td>\n",
       "      <td>...</td>\n",
       "    </tr>\n",
       "    <tr>\n",
       "      <th>524</th>\n",
       "      <td>2023</td>\n",
       "      <td>6</td>\n",
       "      <td>ZTS</td>\n",
       "      <td>162.342000</td>\n",
       "      <td>True</td>\n",
       "      <td>-0.029983</td>\n",
       "      <td>-5.767340</td>\n",
       "      <td>6.172354</td>\n",
       "      <td>152.808105</td>\n",
       "    </tr>\n",
       "    <tr>\n",
       "      <th>525</th>\n",
       "      <td>2023</td>\n",
       "      <td>7</td>\n",
       "      <td>ZTS</td>\n",
       "      <td>171.204000</td>\n",
       "      <td>False</td>\n",
       "      <td>0.054588</td>\n",
       "      <td>-2.820631</td>\n",
       "      <td>-0.510930</td>\n",
       "      <td>155.082868</td>\n",
       "    </tr>\n",
       "    <tr>\n",
       "      <th>526</th>\n",
       "      <td>2023</td>\n",
       "      <td>8</td>\n",
       "      <td>ZTS</td>\n",
       "      <td>168.025000</td>\n",
       "      <td>False</td>\n",
       "      <td>-0.018568</td>\n",
       "      <td>-1.340154</td>\n",
       "      <td>-0.524874</td>\n",
       "      <td>156.626157</td>\n",
       "    </tr>\n",
       "    <tr>\n",
       "      <th>527</th>\n",
       "      <td>2023</td>\n",
       "      <td>9</td>\n",
       "      <td>ZTS</td>\n",
       "      <td>167.836000</td>\n",
       "      <td>False</td>\n",
       "      <td>-0.001125</td>\n",
       "      <td>-0.939423</td>\n",
       "      <td>-0.299019</td>\n",
       "      <td>157.986730</td>\n",
       "    </tr>\n",
       "    <tr>\n",
       "      <th>528</th>\n",
       "      <td>2023</td>\n",
       "      <td>10</td>\n",
       "      <td>ZTS</td>\n",
       "      <td>166.872000</td>\n",
       "      <td>False</td>\n",
       "      <td>-0.005744</td>\n",
       "      <td>4.106273</td>\n",
       "      <td>-5.371061</td>\n",
       "      <td>159.014521</td>\n",
       "    </tr>\n",
       "  </tbody>\n",
       "</table>\n",
       "<p>523212 rows × 9 columns</p>\n",
       "</div>"
      ],
      "text/plain": [
       "     year  week ticker    adjclose      y        d1         d2         d3  \\\n",
       "13   2000    14    MMM   25.077294   True  0.041247  12.190637 -13.811506   \n",
       "14   2000    15    MMM   25.480959  False  0.016097  -0.609744  -1.050017   \n",
       "15   2000    16    MMM   24.647652   True -0.032703  -3.031650   3.972003   \n",
       "16   2000    17    MMM   24.709535  False  0.002511  -1.076772  -0.644823   \n",
       "17   2000    18    MMM   23.492011  False -0.049273 -20.625452  18.154890   \n",
       "..    ...   ...    ...         ...    ...       ...        ...        ...   \n",
       "524  2023     6    ZTS  162.342000   True -0.029983  -5.767340   6.172354   \n",
       "525  2023     7    ZTS  171.204000  False  0.054588  -2.820631  -0.510930   \n",
       "526  2023     8    ZTS  168.025000  False -0.018568  -1.340154  -0.524874   \n",
       "527  2023     9    ZTS  167.836000  False -0.001125  -0.939423  -0.299019   \n",
       "528  2023    10    ZTS  166.872000  False -0.005744   4.106273  -5.371061   \n",
       "\n",
       "      rolling14  \n",
       "13    24.512802  \n",
       "14    24.464388  \n",
       "15    24.279800  \n",
       "16    24.181488  \n",
       "17    24.048622  \n",
       "..          ...  \n",
       "524  152.808105  \n",
       "525  155.082868  \n",
       "526  156.626157  \n",
       "527  157.986730  \n",
       "528  159.014521  \n",
       "\n",
       "[523212 rows x 9 columns]"
      ]
     },
     "execution_count": 12,
     "metadata": {},
     "output_type": "execute_result"
    }
   ],
   "source": [
    "data"
   ]
  },
  {
   "cell_type": "code",
   "execution_count": 15,
   "id": "23ad6193",
   "metadata": {
    "scrolled": true
   },
   "outputs": [
    {
     "name": "stderr",
     "output_type": "stream",
     "text": [
      "\r",
      "  0%|                                                                                                                                                              | 0/1 [00:00<?, ?it/s]"
     ]
    },
    {
     "name": "stdout",
     "output_type": "stream",
     "text": [
      "Epoch 1/10\n",
      "2398/2398 [==============================] - 3s 813us/step - loss: 33959976.0000 - accuracy: 0.4696\n",
      "Epoch 2/10\n",
      "2398/2398 [==============================] - 2s 781us/step - loss: 146333440.0000 - accuracy: 0.4445\n",
      "Epoch 3/10\n",
      "2398/2398 [==============================] - 2s 782us/step - loss: 13536635.0000 - accuracy: 0.4394\n",
      "Epoch 4/10\n",
      "2398/2398 [==============================] - 2s 781us/step - loss: 5399938.0000 - accuracy: 0.4392\n",
      "Epoch 5/10\n",
      "2398/2398 [==============================] - 2s 777us/step - loss: 4544926.0000 - accuracy: 0.4386\n",
      "Epoch 6/10\n",
      "2398/2398 [==============================] - 2s 827us/step - loss: 125370880.0000 - accuracy: 0.4384\n",
      "Epoch 7/10\n",
      "2398/2398 [==============================] - 2s 849us/step - loss: 14419155.0000 - accuracy: 0.4386\n",
      "Epoch 8/10\n",
      "2398/2398 [==============================] - 2s 836us/step - loss: 2796944.2500 - accuracy: 0.4385\n",
      "Epoch 9/10\n",
      "2398/2398 [==============================] - 2s 765us/step - loss: 23203124.0000 - accuracy: 0.4380\n",
      "Epoch 10/10\n",
      "2398/2398 [==============================] - 2s 763us/step - loss: 8264956.0000 - accuracy: 0.4389\n",
      "800/800 [==============================] - 0s 504us/step\n"
     ]
    },
    {
     "name": "stderr",
     "output_type": "stream",
     "text": [
      "100%|█████████████████████████████████████████████████████████████████████████████████████████████████████████████████████████████████████████████████████| 1/1 [04:46<00:00, 286.12s/it]\n"
     ]
    }
   ],
   "source": [
    "spec.connect()\n",
    "years = 4\n",
    "for modeler in [umod]:\n",
    "    for year in tqdm(range(current_year,current_year+1)):\n",
    "        training_slice = data[(data[\"year\"]<year) & (data[\"year\"] >= year - years)].reset_index(drop=True)\n",
    "        prediction_set = data[data[\"year\"]==year].reset_index(drop=True)\n",
    "        set_name = \"sim\"\n",
    "        stuff = modeler.recommend_classification_model(training_slice,factors,multioutput=False)\n",
    "        stuff[\"training_years\"] = years\n",
    "spec.disconnect()"
   ]
  },
  {
   "cell_type": "code",
   "execution_count": 18,
   "id": "a89f2bc4",
   "metadata": {},
   "outputs": [
    {
     "name": "stdout",
     "output_type": "stream",
     "text": [
      "Keras weights file (<HDF5 file \"variables.h5\" (mode r+)>) saving:\n",
      "...layers\\dense\n",
      "......vars\n",
      ".........0\n",
      ".........1\n",
      "...layers\\dense_1\n",
      "......vars\n",
      ".........0\n",
      ".........1\n",
      "...layers\\dropout\n",
      "......vars\n",
      "...metrics\\mean\n",
      "......vars\n",
      ".........0\n",
      ".........1\n",
      "...metrics\\mean_metric_wrapper\n",
      "......vars\n",
      ".........0\n",
      ".........1\n",
      "...optimizer\n",
      "......vars\n",
      ".........0\n",
      ".........1\n",
      ".........2\n",
      ".........3\n",
      ".........4\n",
      ".........5\n",
      ".........6\n",
      ".........7\n",
      ".........8\n",
      "...vars\n",
      "Keras model archive saving:\n",
      "File Name                                             Modified             Size\n",
      "config.json                                    2023-03-15 09:46:40         2141\n",
      "metadata.json                                  2023-03-15 09:46:40           64\n",
      "variables.h5                                   2023-03-15 09:46:40        23208\n"
     ]
    }
   ],
   "source": [
    "stuff[\"model\"] = [pickle.dumps(x) for x in stuff[\"model\"]]"
   ]
  },
  {
   "cell_type": "code",
   "execution_count": 19,
   "id": "d2ca03e2",
   "metadata": {},
   "outputs": [],
   "source": [
    "spec.connect()\n",
    "models = spec.store(\"models\",stuff)\n",
    "spec.disconnect()"
   ]
  }
 ],
 "metadata": {
  "kernelspec": {
   "display_name": "Python 3 (ipykernel)",
   "language": "python",
   "name": "python3"
  },
  "language_info": {
   "codemirror_mode": {
    "name": "ipython",
    "version": 3
   },
   "file_extension": ".py",
   "mimetype": "text/x-python",
   "name": "python",
   "nbconvert_exporter": "python",
   "pygments_lexer": "ipython3",
   "version": "3.10.5"
  }
 },
 "nbformat": 4,
 "nbformat_minor": 5
}
