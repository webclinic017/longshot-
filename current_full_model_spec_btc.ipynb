{
 "cells": [
  {
   "cell_type": "code",
   "execution_count": 1,
   "id": "5a24d11e",
   "metadata": {},
   "outputs": [],
   "source": [
    "import pandas as pd\n",
    "from database.market import Market\n",
    "from database.adatabase import ADatabase\n",
    "from processor.processor import Processor as p\n",
    "from datetime import datetime\n",
    "from tqdm import tqdm\n",
    "import numpy as np\n",
    "from modeler_strats.universal_modeler import UniversalModeler\n",
    "import pickle"
   ]
  },
  {
   "cell_type": "code",
   "execution_count": 2,
   "id": "39ee7553",
   "metadata": {},
   "outputs": [],
   "source": [
    "current_year = 2023"
   ]
  },
  {
   "cell_type": "code",
   "execution_count": 3,
   "id": "1f7fc22a",
   "metadata": {},
   "outputs": [],
   "source": [
    "market = Market()\n",
    "spec = ADatabase(\"btc_spec\")\n",
    "umod = UniversalModeler()"
   ]
  },
  {
   "cell_type": "code",
   "execution_count": 4,
   "id": "983a4ac6",
   "metadata": {},
   "outputs": [],
   "source": [
    "factors = [str(x) for x in range(14)]"
   ]
  },
  {
   "cell_type": "code",
   "execution_count": 5,
   "id": "06e0c3f1",
   "metadata": {},
   "outputs": [],
   "source": [
    "included_columns=[\n",
    "    \"year\",\n",
    "    \"week\",\n",
    "    \"ticker\",\n",
    "    \"adjclose\",\n",
    "    \"y\"\n",
    "]"
   ]
  },
  {
   "cell_type": "code",
   "execution_count": 6,
   "id": "c552e7c0",
   "metadata": {},
   "outputs": [],
   "source": [
    "included_columns.extend(factors)"
   ]
  },
  {
   "cell_type": "code",
   "execution_count": 7,
   "id": "fb51d227",
   "metadata": {},
   "outputs": [],
   "source": [
    "training_sets = []"
   ]
  },
  {
   "cell_type": "code",
   "execution_count": 8,
   "id": "c551e792",
   "metadata": {},
   "outputs": [],
   "source": [
    "prices = pd.read_csv(\"./csv_files/prices/BTC-USD.csv\")\n",
    "prices = p.column_date_processing(prices)\n",
    "prices[\"year\"] = [x.year for x in prices[\"date\"]]\n",
    "prices[\"quarter\"] = [x.quarter for x in prices[\"date\"]]\n",
    "ticker_data = prices\n",
    "ticker_data.sort_values(\"date\",ascending=True,inplace=True)\n",
    "ticker_data[\"adjclose\"] = [float(x) for x in ticker_data[\"adjclose\"]]\n",
    "ticker_data = ticker_data.groupby([\"year\",\"week\"]).mean().reset_index()\n",
    "for i in range(14):\n",
    "    ticker_data[str(i)] = ticker_data[\"adjclose\"].shift(i)\n",
    "ticker_data[\"d1\"] = ticker_data[\"adjclose\"].pct_change(periods=1)\n",
    "ticker_data[\"d2\"] = ticker_data[\"d1\"].pct_change(periods=1)\n",
    "ticker_data[\"d3\"] = ticker_data[\"d2\"].pct_change(periods=1)\n",
    "ticker_data[\"rolling14\"] = ticker_data[\"adjclose\"].rolling(window=14).mean()\n",
    "ticker_data.dropna(inplace=True)\n",
    "ticker_data[\"ticker\"] = \"BTC\"\n",
    "ticker_data[\"y\"] = ticker_data[\"adjclose\"].shift(-1)\n",
    "ticker_data = ticker_data.replace([np.inf, -np.inf], np.nan).dropna()\n",
    "ticker_data.dropna(inplace=True)\n",
    "ticker_data = ticker_data[included_columns]\n",
    "training_sets.append(ticker_data)"
   ]
  },
  {
   "cell_type": "code",
   "execution_count": 9,
   "id": "0ea5d66b",
   "metadata": {},
   "outputs": [],
   "source": [
    "data = pd.concat(training_sets)"
   ]
  },
  {
   "cell_type": "code",
   "execution_count": 10,
   "id": "736f208f",
   "metadata": {},
   "outputs": [],
   "source": [
    "data = data.dropna()"
   ]
  },
  {
   "cell_type": "code",
   "execution_count": 11,
   "id": "23ad6193",
   "metadata": {},
   "outputs": [
    {
     "name": "stderr",
     "output_type": "stream",
     "text": [
      "\r",
      "  0%|                                                                                                                                                              | 0/1 [00:00<?, ?it/s]"
     ]
    },
    {
     "name": "stdout",
     "output_type": "stream",
     "text": [
      "Epoch 1/10\n",
      "5/5 [==============================] - 1s 2ms/step - loss: 1945464704.0000 - mean_absolute_percentage_error: 153.6333\n",
      "Epoch 2/10\n",
      "5/5 [==============================] - 0s 1ms/step - loss: 620132608.0000 - mean_absolute_percentage_error: 79.8121\n",
      "Epoch 3/10\n",
      "5/5 [==============================] - 0s 1ms/step - loss: 105843136.0000 - mean_absolute_percentage_error: 27.1960\n",
      "Epoch 4/10\n",
      "5/5 [==============================] - 0s 1ms/step - loss: 116317896.0000 - mean_absolute_percentage_error: 32.2930\n",
      "Epoch 5/10\n",
      "5/5 [==============================] - 0s 1ms/step - loss: 165036864.0000 - mean_absolute_percentage_error: 38.9405\n",
      "Epoch 6/10\n",
      "5/5 [==============================] - 0s 1ms/step - loss: 105290752.0000 - mean_absolute_percentage_error: 30.5379\n",
      "Epoch 7/10\n",
      "5/5 [==============================] - 0s 1ms/step - loss: 51776708.0000 - mean_absolute_percentage_error: 20.2546\n",
      "Epoch 8/10\n",
      "5/5 [==============================] - 0s 1ms/step - loss: 44643848.0000 - mean_absolute_percentage_error: 17.5823\n",
      "Epoch 9/10\n",
      "5/5 [==============================] - 0s 1ms/step - loss: 40248536.0000 - mean_absolute_percentage_error: 17.4825\n",
      "Epoch 10/10\n",
      "5/5 [==============================] - 0s 1ms/step - loss: 26756116.0000 - mean_absolute_percentage_error: 14.2426\n",
      "2/2 [==============================] - 0s 1000us/step\n"
     ]
    },
    {
     "name": "stderr",
     "output_type": "stream",
     "text": [
      "100%|██████████████████████████████████████████████████████████████████████████████████████████████████████████████████████████████████████████████████████| 1/1 [00:06<00:00,  6.11s/it]\n"
     ]
    }
   ],
   "source": [
    "spec.connect()\n",
    "for modeler in [umod]:\n",
    "    for year in tqdm(range(current_year,current_year+1)):\n",
    "        training_slice = data[(data[\"year\"]<year) & (data[\"year\"] >= year - 4)].reset_index(drop=True)\n",
    "        set_name = \"models\"\n",
    "        stuff = modeler.recommend_model(training_slice,factors)\n",
    "spec.disconnect()"
   ]
  },
  {
   "cell_type": "code",
   "execution_count": 12,
   "id": "a454f7ac",
   "metadata": {},
   "outputs": [
    {
     "name": "stdout",
     "output_type": "stream",
     "text": [
      "Keras weights file (<HDF5 file \"variables.h5\" (mode r+)>) saving:\n",
      "...layers\\dense\n",
      "......vars\n",
      ".........0\n",
      ".........1\n",
      "...layers\\dense_1\n",
      "......vars\n",
      ".........0\n",
      ".........1\n",
      "...layers\\dense_2\n",
      "......vars\n",
      ".........0\n",
      ".........1\n",
      "...metrics\\mean\n",
      "......vars\n",
      ".........0\n",
      ".........1\n",
      "...metrics\\mean_absolute_percentage_error\n",
      "......vars\n",
      ".........0\n",
      ".........1\n",
      "...optimizer\n",
      "......vars\n",
      ".........0\n",
      ".........1\n",
      ".........10\n",
      ".........11\n",
      ".........12\n",
      ".........2\n",
      ".........3\n",
      ".........4\n",
      ".........5\n",
      ".........6\n",
      ".........7\n",
      ".........8\n",
      ".........9\n",
      "...vars\n",
      "Keras model archive saving:\n",
      "File Name                                             Modified             Size\n",
      "config.json                                    2023-03-03 11:19:38         2522\n",
      "metadata.json                                  2023-03-03 11:19:38           64\n",
      "variables.h5                                   2023-03-03 11:19:39        84160\n"
     ]
    }
   ],
   "source": [
    "stuff[\"model\"] = [pickle.dumps(x) for x in stuff[\"model\"]]"
   ]
  },
  {
   "cell_type": "code",
   "execution_count": 13,
   "id": "5aea7679",
   "metadata": {},
   "outputs": [],
   "source": [
    "spec.connect()\n",
    "models = spec.store(\"models\",stuff)\n",
    "spec.disconnect()"
   ]
  }
 ],
 "metadata": {
  "kernelspec": {
   "display_name": "Python 3 (ipykernel)",
   "language": "python",
   "name": "python3"
  },
  "language_info": {
   "codemirror_mode": {
    "name": "ipython",
    "version": 3
   },
   "file_extension": ".py",
   "mimetype": "text/x-python",
   "name": "python",
   "nbconvert_exporter": "python",
   "pygments_lexer": "ipython3",
   "version": "3.10.5"
  }
 },
 "nbformat": 4,
 "nbformat_minor": 5
}
