{
 "cells": [
  {
   "cell_type": "code",
   "execution_count": 1,
   "id": "c64fc099",
   "metadata": {},
   "outputs": [
    {
     "name": "stderr",
     "output_type": "stream",
     "text": [
      "<frozen importlib._bootstrap>:241: RuntimeWarning: numpy.ufunc size changed, may indicate binary incompatibility. Expected 216 from C header, got 232 from PyObject\n"
     ]
    }
   ],
   "source": [
    "## database imports\n",
    "from database.market import Market\n",
    "from database.adatabase import ADatabase\n",
    "\n",
    "## data processor import\n",
    "from processor.processor import Processor as p\n",
    "\n",
    "## modeler import\n",
    "from modeler_strats.universal_modeler import UniversalModeler\n",
    "\n",
    "## strategy impors\n",
    "from strategy.speculation import Speculation as spec\n",
    "from strategy.classification import Classification as classer\n",
    "\n",
    "## miscellaneous\n",
    "import numpy as np\n",
    "import matplotlib.pyplot as plt\n",
    "import pickle\n",
    "import math\n",
    "from statistics import variance\n",
    "from datetime import datetime, timedelta\n",
    "import pytz\n",
    "import pandas as pd\n",
    "from tqdm import tqdm"
   ]
  },
  {
   "cell_type": "code",
   "execution_count": 2,
   "id": "b38d4176",
   "metadata": {
    "scrolled": true
   },
   "outputs": [],
   "source": [
    "start_date = datetime(2023,1,1)\n",
    "end_date = datetime.now()"
   ]
  },
  {
   "cell_type": "code",
   "execution_count": 3,
   "id": "e5adbebb",
   "metadata": {},
   "outputs": [],
   "source": [
    "market = Market()\n",
    "speculation_db = ADatabase(\"spec\")\n",
    "classification_db = ADatabase(\"spec_classification\")\n",
    "current_db = ADatabase(\"current\")\n",
    "umod = UniversalModeler()"
   ]
  },
  {
   "cell_type": "code",
   "execution_count": 4,
   "id": "235a8676",
   "metadata": {
    "scrolled": true
   },
   "outputs": [],
   "source": [
    "market.connect()\n",
    "sp500 = market.retrieve(\"sp500\")\n",
    "sp500 = sp500.rename(columns={\"Symbol\":\"ticker\"})\n",
    "market.disconnect()"
   ]
  },
  {
   "cell_type": "code",
   "execution_count": 5,
   "id": "073d5388",
   "metadata": {},
   "outputs": [],
   "source": [
    "classification_factors = []\n",
    "classification_factors.append(\"d1\")\n",
    "classification_factors.append(\"d2\")\n",
    "classification_factors.append(\"d3\")\n",
    "classification_factors.append(\"rolling14\")"
   ]
  },
  {
   "cell_type": "code",
   "execution_count": 6,
   "id": "11892483",
   "metadata": {},
   "outputs": [],
   "source": [
    "factors = [str(x) for x in range(14)]"
   ]
  },
  {
   "cell_type": "code",
   "execution_count": 7,
   "id": "c362d307",
   "metadata": {},
   "outputs": [],
   "source": [
    "included_columns=[\n",
    "    \"year\",\n",
    "    \"week\",\n",
    "    \"ticker\",\n",
    "    \"adjclose\"\n",
    "]\n",
    "included_columns.extend(factors)\n",
    "included_columns.extend(classification_factors)"
   ]
  },
  {
   "cell_type": "code",
   "execution_count": 8,
   "id": "2877c3ed",
   "metadata": {},
   "outputs": [],
   "source": [
    "strats = [\"spec\",\"rolling\",\"window\"]"
   ]
  },
  {
   "cell_type": "code",
   "execution_count": 9,
   "id": "f388e4bb",
   "metadata": {},
   "outputs": [
    {
     "name": "stderr",
     "output_type": "stream",
     "text": [
      "100%|████████████████████████████████████████████████████████████████████████████████████████████████████████████████████████████████████████████████████████| 490/490 [00:42<00:00, 11.44it/s]\n"
     ]
    }
   ],
   "source": [
    "training_sets = []\n",
    "for ticker in tqdm(sp500[\"ticker\"].unique()):\n",
    "    try:\n",
    "        prices = market.retrieve_ticker_prices(\"prices\",ticker)\n",
    "        prices = p.column_date_processing(prices)\n",
    "        prices[\"year\"] = [x.year for x in prices[\"date\"]]\n",
    "        prices[\"quarter\"] = [x.quarter for x in prices[\"date\"]]\n",
    "        ticker_data = prices[prices[\"ticker\"]==ticker]\n",
    "        ticker_data = spec.transform(ticker_data)\n",
    "        ticker_data = classer.transform(ticker_data)\n",
    "        ticker_data = ticker_data.replace([np.inf, -np.inf], np.nan).dropna()\n",
    "        ticker_data.dropna(inplace=True)\n",
    "        ticker_data[\"ticker\"] = ticker\n",
    "        ticker_data = ticker_data[included_columns]\n",
    "        training_sets.append(ticker_data)\n",
    "    except Exception as e:\n",
    "        print(str(e))\n",
    "        continue\n",
    "data = pd.concat(training_sets)\n",
    "data = data.dropna()"
   ]
  },
  {
   "cell_type": "code",
   "execution_count": 10,
   "id": "f6b4a6d7",
   "metadata": {},
   "outputs": [],
   "source": [
    "market.connect()\n",
    "sp500 = market.retrieve(\"sp500\")\n",
    "sp500 = sp500.rename(columns={\"Symbol\":\"ticker\"})\n",
    "market.disconnect()"
   ]
  },
  {
   "cell_type": "code",
   "execution_count": 11,
   "id": "f0aaeff1",
   "metadata": {},
   "outputs": [],
   "source": [
    "prediction_slice = data[data[\"year\"]==start_date.year].reset_index(drop=True)"
   ]
  },
  {
   "cell_type": "code",
   "execution_count": 12,
   "id": "e76b872c",
   "metadata": {},
   "outputs": [],
   "source": [
    "speculation_db.connect()\n",
    "models = speculation_db.retrieve(\"models\")\n",
    "speculation_db.disconnect()"
   ]
  },
  {
   "cell_type": "code",
   "execution_count": 13,
   "id": "839884b7",
   "metadata": {},
   "outputs": [],
   "source": [
    "classification_db.connect()\n",
    "classification_models = classification_db.retrieve(\"models\")\n",
    "classification_db.disconnect()"
   ]
  },
  {
   "cell_type": "code",
   "execution_count": 14,
   "id": "a6b1df85",
   "metadata": {},
   "outputs": [
    {
     "name": "stdout",
     "output_type": "stream",
     "text": [
      "Keras model archive loading:\n",
      "File Name                                             Modified             Size\n",
      "config.json                                    2023-03-03 11:17:12         2522\n",
      "metadata.json                                  2023-03-03 11:17:12           64\n",
      "variables.h5                                   2023-03-03 11:17:12        84160\n",
      "Keras weights file (<HDF5 file \"variables.h5\" (mode r)>) loading:\n",
      "...layers\\dense\n",
      "......vars\n",
      ".........0\n",
      ".........1\n",
      "...layers\\dense_1\n",
      "......vars\n",
      ".........0\n",
      ".........1\n",
      "...layers\\dense_2\n",
      "......vars\n",
      ".........0\n",
      ".........1\n",
      "...metrics\\mean\n",
      "......vars\n",
      ".........0\n",
      ".........1\n",
      "...metrics\\mean_absolute_percentage_error\n",
      "......vars\n",
      ".........0\n",
      ".........1\n",
      "...optimizer\n",
      "......vars\n",
      ".........0\n",
      ".........1\n",
      ".........10\n",
      ".........11\n",
      ".........12\n",
      ".........2\n",
      ".........3\n",
      ".........4\n",
      ".........5\n",
      ".........6\n",
      ".........7\n",
      ".........8\n",
      ".........9\n",
      "...vars\n",
      "321/321 [==============================] - 0s 553us/step\n"
     ]
    }
   ],
   "source": [
    "simulation = umod.recommend(models,prediction_slice.copy(),factors)\n",
    "simulation[\"week\"] = simulation[\"week\"] + 1\n",
    "simulation[\"prediction\"] = (simulation[\"cat_prediction\"] + simulation[\"xgb_prediction\"] + simulation[\"tf_prediction\"]) / 3\n",
    "speculation_db.connect()\n",
    "speculation_db.drop(\"predictions\")\n",
    "speculation_db.store(\"predictions\",simulation)\n",
    "speculation_db.disconnect()"
   ]
  },
  {
   "cell_type": "code",
   "execution_count": 16,
   "id": "4befdbb0",
   "metadata": {},
   "outputs": [
    {
     "ename": "TypeError",
     "evalue": "a bytes-like object is required, not 'XGBClassifier'",
     "output_type": "error",
     "traceback": [
      "\u001b[1;31m---------------------------------------------------------------------------\u001b[0m",
      "\u001b[1;31mTypeError\u001b[0m                                 Traceback (most recent call last)",
      "\u001b[1;32m~\\AppData\\Local\\Temp/ipykernel_2092/196853529.py\u001b[0m in \u001b[0;36m<module>\u001b[1;34m\u001b[0m\n\u001b[1;32m----> 1\u001b[1;33m \u001b[0mclassification_simulation\u001b[0m \u001b[1;33m=\u001b[0m \u001b[0mumod\u001b[0m\u001b[1;33m.\u001b[0m\u001b[0mrecommend\u001b[0m\u001b[1;33m(\u001b[0m\u001b[0mclassification_models\u001b[0m\u001b[1;33m,\u001b[0m\u001b[0mprediction_slice\u001b[0m\u001b[1;33m.\u001b[0m\u001b[0mcopy\u001b[0m\u001b[1;33m(\u001b[0m\u001b[1;33m)\u001b[0m\u001b[1;33m,\u001b[0m\u001b[0mclassification_factors\u001b[0m\u001b[1;33m)\u001b[0m\u001b[1;33m\u001b[0m\u001b[1;33m\u001b[0m\u001b[0m\n\u001b[0m\u001b[0;32m      2\u001b[0m \u001b[0mclassification_simulation\u001b[0m\u001b[1;33m[\u001b[0m\u001b[1;34m\"week\"\u001b[0m\u001b[1;33m]\u001b[0m \u001b[1;33m=\u001b[0m \u001b[0mclassification_simulation\u001b[0m\u001b[1;33m[\u001b[0m\u001b[1;34m\"week\"\u001b[0m\u001b[1;33m]\u001b[0m \u001b[1;33m+\u001b[0m \u001b[1;36m1\u001b[0m\u001b[1;33m\u001b[0m\u001b[1;33m\u001b[0m\u001b[0m\n\u001b[0;32m      3\u001b[0m classification_simulation[\"classification_prediction\"] = ((classification_simulation[\"cat_prediction\"] + \\\n\u001b[0;32m      4\u001b[0m                                                           \u001b[0mclassification_simulation\u001b[0m\u001b[1;33m[\u001b[0m\u001b[1;34m\"xgb_prediction\"\u001b[0m\u001b[1;33m]\u001b[0m \u001b[1;33m+\u001b[0m\u001b[0;31m \u001b[0m\u001b[0;31m\\\u001b[0m\u001b[1;33m\u001b[0m\u001b[1;33m\u001b[0m\u001b[0m\n\u001b[0;32m      5\u001b[0m                                                           classification_simulation[\"tf_prediction\"]) / 3) > 0.5\n",
      "\u001b[1;32mE:\\projects\\longshot_venv\\longshot\\modeler_strats\\universal_modeler.py\u001b[0m in \u001b[0;36mrecommend\u001b[1;34m(self, models, data, factors)\u001b[0m\n\u001b[0;32m     42\u001b[0m    \u001b[1;31m## provides recommendations based off a given model\u001b[0m\u001b[1;33m\u001b[0m\u001b[1;33m\u001b[0m\u001b[0m\n\u001b[0;32m     43\u001b[0m     \u001b[1;32mdef\u001b[0m \u001b[0mrecommend\u001b[0m\u001b[1;33m(\u001b[0m\u001b[0mself\u001b[0m\u001b[1;33m,\u001b[0m\u001b[0mmodels\u001b[0m\u001b[1;33m,\u001b[0m\u001b[0mdata\u001b[0m\u001b[1;33m,\u001b[0m\u001b[0mfactors\u001b[0m\u001b[1;33m)\u001b[0m\u001b[1;33m:\u001b[0m\u001b[1;33m\u001b[0m\u001b[1;33m\u001b[0m\u001b[0m\n\u001b[1;32m---> 44\u001b[1;33m         \u001b[0mmodels\u001b[0m\u001b[1;33m[\u001b[0m\u001b[1;34m\"model\"\u001b[0m\u001b[1;33m]\u001b[0m \u001b[1;33m=\u001b[0m \u001b[1;33m[\u001b[0m\u001b[0mpickle\u001b[0m\u001b[1;33m.\u001b[0m\u001b[0mloads\u001b[0m\u001b[1;33m(\u001b[0m\u001b[0mx\u001b[0m\u001b[1;33m)\u001b[0m \u001b[1;32mfor\u001b[0m \u001b[0mx\u001b[0m \u001b[1;32min\u001b[0m \u001b[0mmodels\u001b[0m\u001b[1;33m[\u001b[0m\u001b[1;34m\"model\"\u001b[0m\u001b[1;33m]\u001b[0m\u001b[1;33m]\u001b[0m\u001b[1;33m\u001b[0m\u001b[1;33m\u001b[0m\u001b[0m\n\u001b[0m\u001b[0;32m     45\u001b[0m         \u001b[0mprediction_set\u001b[0m \u001b[1;33m=\u001b[0m \u001b[0mm\u001b[0m\u001b[1;33m.\u001b[0m\u001b[0mpredict\u001b[0m\u001b[1;33m(\u001b[0m\u001b[0mmodels\u001b[0m\u001b[1;33m,\u001b[0m\u001b[0mdata\u001b[0m\u001b[1;33m,\u001b[0m\u001b[0mfactors\u001b[0m\u001b[1;33m)\u001b[0m\u001b[1;33m\u001b[0m\u001b[1;33m\u001b[0m\u001b[0m\n\u001b[0;32m     46\u001b[0m         \u001b[1;32mreturn\u001b[0m \u001b[0mprediction_set\u001b[0m\u001b[1;33m\u001b[0m\u001b[1;33m\u001b[0m\u001b[0m\n",
      "\u001b[1;32mE:\\projects\\longshot_venv\\longshot\\modeler_strats\\universal_modeler.py\u001b[0m in \u001b[0;36m<listcomp>\u001b[1;34m(.0)\u001b[0m\n\u001b[0;32m     42\u001b[0m    \u001b[1;31m## provides recommendations based off a given model\u001b[0m\u001b[1;33m\u001b[0m\u001b[1;33m\u001b[0m\u001b[0m\n\u001b[0;32m     43\u001b[0m     \u001b[1;32mdef\u001b[0m \u001b[0mrecommend\u001b[0m\u001b[1;33m(\u001b[0m\u001b[0mself\u001b[0m\u001b[1;33m,\u001b[0m\u001b[0mmodels\u001b[0m\u001b[1;33m,\u001b[0m\u001b[0mdata\u001b[0m\u001b[1;33m,\u001b[0m\u001b[0mfactors\u001b[0m\u001b[1;33m)\u001b[0m\u001b[1;33m:\u001b[0m\u001b[1;33m\u001b[0m\u001b[1;33m\u001b[0m\u001b[0m\n\u001b[1;32m---> 44\u001b[1;33m         \u001b[0mmodels\u001b[0m\u001b[1;33m[\u001b[0m\u001b[1;34m\"model\"\u001b[0m\u001b[1;33m]\u001b[0m \u001b[1;33m=\u001b[0m \u001b[1;33m[\u001b[0m\u001b[0mpickle\u001b[0m\u001b[1;33m.\u001b[0m\u001b[0mloads\u001b[0m\u001b[1;33m(\u001b[0m\u001b[0mx\u001b[0m\u001b[1;33m)\u001b[0m \u001b[1;32mfor\u001b[0m \u001b[0mx\u001b[0m \u001b[1;32min\u001b[0m \u001b[0mmodels\u001b[0m\u001b[1;33m[\u001b[0m\u001b[1;34m\"model\"\u001b[0m\u001b[1;33m]\u001b[0m\u001b[1;33m]\u001b[0m\u001b[1;33m\u001b[0m\u001b[1;33m\u001b[0m\u001b[0m\n\u001b[0m\u001b[0;32m     45\u001b[0m         \u001b[0mprediction_set\u001b[0m \u001b[1;33m=\u001b[0m \u001b[0mm\u001b[0m\u001b[1;33m.\u001b[0m\u001b[0mpredict\u001b[0m\u001b[1;33m(\u001b[0m\u001b[0mmodels\u001b[0m\u001b[1;33m,\u001b[0m\u001b[0mdata\u001b[0m\u001b[1;33m,\u001b[0m\u001b[0mfactors\u001b[0m\u001b[1;33m)\u001b[0m\u001b[1;33m\u001b[0m\u001b[1;33m\u001b[0m\u001b[0m\n\u001b[0;32m     46\u001b[0m         \u001b[1;32mreturn\u001b[0m \u001b[0mprediction_set\u001b[0m\u001b[1;33m\u001b[0m\u001b[1;33m\u001b[0m\u001b[0m\n",
      "\u001b[1;31mTypeError\u001b[0m: a bytes-like object is required, not 'XGBClassifier'"
     ]
    }
   ],
   "source": [
    "classification_simulation = umod.recommend(classification_models,prediction_slice.copy(),classification_factors)\n",
    "classification_simulation[\"week\"] = classification_simulation[\"week\"] + 1\n",
    "classification_simulation[\"classification_prediction\"] = ((classification_simulation[\"cat_prediction\"] + \\\n",
    "                                                          classification_simulation[\"xgb_prediction\"] + \\\n",
    "                                                          classification_simulation[\"tf_prediction\"]) / 3) > 0.5\n",
    "classification_simulation[\"classification_prediction\"] = [int(x) for x in classification_simulation[\"classification_prediction\"]]\n",
    "classification_db.connect()\n",
    "classification_db.drop(\"predictions\")\n",
    "classification_db.store(\"predictions\",classification_simulation)\n",
    "classification_db.disconnect()"
   ]
  }
 ],
 "metadata": {
  "kernelspec": {
   "display_name": "Python 3 (ipykernel)",
   "language": "python",
   "name": "python3"
  },
  "language_info": {
   "codemirror_mode": {
    "name": "ipython",
    "version": 3
   },
   "file_extension": ".py",
   "mimetype": "text/x-python",
   "name": "python",
   "nbconvert_exporter": "python",
   "pygments_lexer": "ipython3",
   "version": "3.10.5"
  }
 },
 "nbformat": 4,
 "nbformat_minor": 5
}
