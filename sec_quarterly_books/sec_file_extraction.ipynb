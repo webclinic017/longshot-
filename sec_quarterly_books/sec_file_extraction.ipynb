{
 "cells": [
  {
   "cell_type": "code",
   "execution_count": 1,
   "id": "765e100a",
   "metadata": {},
   "outputs": [],
   "source": [
    "from tqdm import tqdm\n",
    "from database.sec import SEC\n",
    "from transformer.sec_transformer import SECTransformer\n",
    "import pandas as pd\n",
    "from datetime import datetime"
   ]
  },
  {
   "cell_type": "code",
   "execution_count": 2,
   "id": "2fd37369",
   "metadata": {},
   "outputs": [],
   "source": [
    "sec = SEC()"
   ]
  },
  {
   "cell_type": "code",
   "execution_count": 3,
   "id": "d72d6b85",
   "metadata": {},
   "outputs": [
    {
     "name": "stderr",
     "output_type": "stream",
     "text": [
      "  0%|                                                                                                                      | 0/1 [00:00<?, ?it/s]C:\\Users\\eric\\AppData\\Local\\Temp/ipykernel_5872/878210937.py:5: FutureWarning: The error_bad_lines argument has been deprecated and will be removed in a future version.\n",
      "\n",
      "\n",
      "  num = SECTransformer.transform(year,quarter,\"num\")\n",
      "C:\\Users\\eric\\AppData\\Local\\Temp/ipykernel_5872/878210937.py:6: FutureWarning: The error_bad_lines argument has been deprecated and will be removed in a future version.\n",
      "\n",
      "\n",
      "  sub = SECTransformer.transform(year,quarter,\"sub\")\n",
      "100%|█████████████████████████████████████████████████████████████████████████████████████████████████████████████| 1/1 [01:45<00:00, 105.75s/it]\n"
     ]
    }
   ],
   "source": [
    "sec.connect()\n",
    "for year in tqdm(range(2023,2024)):\n",
    "    for quarter in range(1,2):\n",
    "        try:\n",
    "            num = SECTransformer.transform(year,quarter,\"num\")\n",
    "            sub = SECTransformer.transform(year,quarter,\"sub\")\n",
    "            sec.store(\"nums\",num)\n",
    "            sec.store(\"subs\",sub)\n",
    "        except Exception as e:\n",
    "            print(year,quarter,str(e))\n",
    "sec.disconnect()"
   ]
  }
 ],
 "metadata": {
  "kernelspec": {
   "display_name": "Python 3 (ipykernel)",
   "language": "python",
   "name": "python3"
  },
  "language_info": {
   "codemirror_mode": {
    "name": "ipython",
    "version": 3
   },
   "file_extension": ".py",
   "mimetype": "text/x-python",
   "name": "python",
   "nbconvert_exporter": "python",
   "pygments_lexer": "ipython3",
   "version": "3.10.5"
  }
 },
 "nbformat": 4,
 "nbformat_minor": 5
}
