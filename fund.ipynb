{
 "cells": [
  {
   "cell_type": "code",
   "execution_count": 1,
   "id": "60e340fc",
   "metadata": {},
   "outputs": [],
   "source": [
    "from datetime import datetime\n",
    "from fund.fund import Fund\n",
    "from strategy.strategy import Strategy as strategy_list"
   ]
  },
  {
   "cell_type": "code",
   "execution_count": 2,
   "id": "b7487454",
   "metadata": {},
   "outputs": [],
   "source": [
    "strats = [\n",
    "              strategy_list.CRYPTO_WEEKLY_SPECULATION_CLASSIFICATION,\n",
    "#             strategy_list.STOCK_WEEKLY_SPECULATION,\n",
    "          strategy_list.CRYPTO_WEEKLY_ROLLING,\n",
    "#           strategy_list.STOCK_WEEKLY_ROLLING,\n",
    "#           strategy_list.CRYPTO_WEEKLY_WINDOW,\n",
    "#           strategy_list.STOCK_WEEKLY_WINDOW,\n",
    "#           strategy_list.STOCK_QUARTERLY_FINANCIAL\n",
    "         ]"
   ]
  },
  {
   "cell_type": "code",
   "execution_count": 3,
   "id": "edd75349",
   "metadata": {},
   "outputs": [],
   "source": [
    "model_start_date  = datetime(2020,1,1)\n",
    "model_end_date  = datetime(2021,1,1)\n",
    "current_start_date  = datetime(2021,1,1)"
   ]
  },
  {
   "cell_type": "code",
   "execution_count": 4,
   "id": "4a8947fd",
   "metadata": {},
   "outputs": [],
   "source": [
    "fund = Fund(strats,model_start_date,model_end_date,current_start_date)"
   ]
  },
  {
   "cell_type": "code",
   "execution_count": 7,
   "id": "af1e98e1",
   "metadata": {},
   "outputs": [
    {
     "name": "stdout",
     "output_type": "stream",
     "text": [
      "Epoch 1/10\n",
      "5/5 [==============================] - 0s 1ms/step - loss: 567.6782 - accuracy: 0.5321\n",
      "Epoch 2/10\n",
      "5/5 [==============================] - 0s 1ms/step - loss: 430.9887 - accuracy: 0.5385\n",
      "Epoch 3/10\n",
      "5/5 [==============================] - 0s 1ms/step - loss: 488.1301 - accuracy: 0.5513\n",
      "Epoch 4/10\n",
      "5/5 [==============================] - 0s 1ms/step - loss: 466.6303 - accuracy: 0.5128\n",
      "Epoch 5/10\n",
      "5/5 [==============================] - 0s 1ms/step - loss: 461.2501 - accuracy: 0.4872\n",
      "Epoch 6/10\n",
      "5/5 [==============================] - 0s 1ms/step - loss: 413.8403 - accuracy: 0.5769\n",
      "Epoch 7/10\n",
      "5/5 [==============================] - 0s 1ms/step - loss: 357.0838 - accuracy: 0.5064\n",
      "Epoch 8/10\n",
      "5/5 [==============================] - 0s 1ms/step - loss: 452.5435 - accuracy: 0.5064\n",
      "Epoch 9/10\n",
      "5/5 [==============================] - 0s 1ms/step - loss: 324.4881 - accuracy: 0.5321\n",
      "Epoch 10/10\n",
      "5/5 [==============================] - 0s 1ms/step - loss: 296.9236 - accuracy: 0.5385\n",
      "2/2 [==============================] - 0s 2ms/step\n",
      "2/2 [==============================] - 0s 1ms/step\n"
     ]
    }
   ],
   "source": [
    "fund.initialize_strats()\n",
    "# fund.create_training_sets()\n",
    "# fund.historical_model()"
   ]
  },
  {
   "cell_type": "code",
   "execution_count": 8,
   "id": "04ceb883",
   "metadata": {
    "scrolled": true
   },
   "outputs": [
    {
     "ename": "AttributeError",
     "evalue": "'Speculation' object has no attribute 'pull_sim'",
     "output_type": "error",
     "traceback": [
      "\u001b[1;31m---------------------------------------------------------------------------\u001b[0m",
      "\u001b[1;31mAttributeError\u001b[0m                            Traceback (most recent call last)",
      "\u001b[1;32m~\\AppData\\Local\\Temp/ipykernel_16284/2622741649.py\u001b[0m in \u001b[0;36m<module>\u001b[1;34m\u001b[0m\n\u001b[1;32m----> 1\u001b[1;33m \u001b[0mfund\u001b[0m\u001b[1;33m.\u001b[0m\u001b[0mhistorical_backtest\u001b[0m\u001b[1;33m(\u001b[0m\u001b[1;33m)\u001b[0m\u001b[1;33m\u001b[0m\u001b[1;33m\u001b[0m\u001b[0m\n\u001b[0m",
      "\u001b[1;32mE:\\projects\\longshot_venv\\longshot\\fund\\fund.py\u001b[0m in \u001b[0;36mhistorical_backtest\u001b[1;34m(self)\u001b[0m\n\u001b[0;32m     90\u001b[0m                 \u001b[0mb\u001b[0m \u001b[1;33m=\u001b[0m \u001b[0mWeeklyBacktester\u001b[0m\u001b[1;33m(\u001b[0m\u001b[0mstrat_class\u001b[0m\u001b[1;33m,\u001b[0m\u001b[0mcurrent\u001b[0m\u001b[1;33m,\u001b[0m\u001b[0mstrat_class\u001b[0m\u001b[1;33m.\u001b[0m\u001b[0mpositions\u001b[0m\u001b[1;33m,\u001b[0m\u001b[0mself\u001b[0m\u001b[1;33m.\u001b[0m\u001b[0mmodel_start_date\u001b[0m\u001b[1;33m,\u001b[0m\u001b[0mself\u001b[0m\u001b[1;33m.\u001b[0m\u001b[0mmodel_end_date\u001b[0m\u001b[1;33m)\u001b[0m\u001b[1;33m\u001b[0m\u001b[1;33m\u001b[0m\u001b[0m\n\u001b[0;32m     91\u001b[0m             \u001b[0mprice_returns\u001b[0m \u001b[1;33m=\u001b[0m \u001b[0mb\u001b[0m\u001b[1;33m.\u001b[0m\u001b[0mstock_returns\u001b[0m\u001b[1;33m(\u001b[0m\u001b[0mself\u001b[0m\u001b[1;33m.\u001b[0m\u001b[0mmarket\u001b[0m\u001b[1;33m,\u001b[0m\u001b[0mself\u001b[0m\u001b[1;33m.\u001b[0m\u001b[0msec\u001b[0m\u001b[1;33m,\u001b[0m\u001b[0mself\u001b[0m\u001b[1;33m.\u001b[0m\u001b[0msp500\u001b[0m\u001b[1;33m)\u001b[0m\u001b[1;33m\u001b[0m\u001b[1;33m\u001b[0m\u001b[0m\n\u001b[1;32m---> 92\u001b[1;33m             \u001b[0msimulation\u001b[0m \u001b[1;33m=\u001b[0m \u001b[0mstrat_class\u001b[0m\u001b[1;33m.\u001b[0m\u001b[0mpull_sim\u001b[0m\u001b[1;33m(\u001b[0m\u001b[1;33m)\u001b[0m\u001b[1;33m\u001b[0m\u001b[1;33m\u001b[0m\u001b[0m\n\u001b[0m\u001b[0;32m     93\u001b[0m             \u001b[1;32mif\u001b[0m \u001b[0mstrat_class\u001b[0m\u001b[1;33m.\u001b[0m\u001b[0misai\u001b[0m\u001b[1;33m:\u001b[0m\u001b[1;33m\u001b[0m\u001b[1;33m\u001b[0m\u001b[0m\n\u001b[0;32m     94\u001b[0m                 \u001b[1;32mif\u001b[0m \u001b[0mstrat_class\u001b[0m\u001b[1;33m.\u001b[0m\u001b[0mclassification\u001b[0m\u001b[1;33m:\u001b[0m\u001b[1;33m\u001b[0m\u001b[1;33m\u001b[0m\u001b[0m\n",
      "\u001b[1;31mAttributeError\u001b[0m: 'Speculation' object has no attribute 'pull_sim'"
     ]
    }
   ],
   "source": [
    "fund.historical_backtest()"
   ]
  }
 ],
 "metadata": {
  "kernelspec": {
   "display_name": "Python 3 (ipykernel)",
   "language": "python",
   "name": "python3"
  },
  "language_info": {
   "codemirror_mode": {
    "name": "ipython",
    "version": 3
   },
   "file_extension": ".py",
   "mimetype": "text/x-python",
   "name": "python",
   "nbconvert_exporter": "python",
   "pygments_lexer": "ipython3",
   "version": "3.10.5"
  }
 },
 "nbformat": 4,
 "nbformat_minor": 5
}
