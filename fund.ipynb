{
 "cells": [
  {
   "cell_type": "code",
   "execution_count": 1,
   "id": "cbc5fd9d",
   "metadata": {},
   "outputs": [],
   "source": [
    "import pandas as pd\n",
    "from fund.fund import Fund\n",
    "from fund.states import States"
   ]
  },
  {
   "cell_type": "code",
   "execution_count": 2,
   "id": "2a23a4b2",
   "metadata": {},
   "outputs": [],
   "source": [
    "portfolios = [\n",
    "          {\"name\":\"financial\",\"positions\":5}\n",
    "             ]"
   ]
  },
  {
   "cell_type": "code",
   "execution_count": 3,
   "id": "dadad4c8",
   "metadata": {},
   "outputs": [],
   "source": [
    "fund = Fund(\"delta\",States.BACKTEST)"
   ]
  },
  {
   "cell_type": "code",
   "execution_count": 4,
   "id": "d082a8c2",
   "metadata": {},
   "outputs": [],
   "source": [
    "fund.db.connect()\n",
    "fund.db.store(\"portfolios\",pd.DataFrame(portfolios))\n",
    "fund.db.disconnect()"
   ]
  }
 ],
 "metadata": {
  "kernelspec": {
   "display_name": "Python 3 (ipykernel)",
   "language": "python",
   "name": "python3"
  },
  "language_info": {
   "codemirror_mode": {
    "name": "ipython",
    "version": 3
   },
   "file_extension": ".py",
   "mimetype": "text/x-python",
   "name": "python",
   "nbconvert_exporter": "python",
   "pygments_lexer": "ipython3",
   "version": "3.10.5"
  }
 },
 "nbformat": 4,
 "nbformat_minor": 5
}
