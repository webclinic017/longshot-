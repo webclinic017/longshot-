{
 "cells": [
  {
   "cell_type": "code",
   "execution_count": 1,
   "id": "288d8afc",
   "metadata": {},
   "outputs": [],
   "source": [
    "from datetime import datetime\n",
    "from fund.fund import Fund\n",
    "from pricer.pricer import Pricer as pricer_list\n",
    "from ranker.ranker import Ranker as ranker_list\n",
    "from classifier.classifier import Classifier as classifier_list\n",
    "from portfolio.aportfolio import APortfolio\n",
    "from parameters.parameters import Parameters \n",
    "import pandas as pd"
   ]
  },
  {
   "cell_type": "code",
   "execution_count": 2,
   "id": "d4fb0e35",
   "metadata": {},
   "outputs": [],
   "source": [
    "# portfolio = APortfolio(pricer_list.QUARTERLY_STOCK_FINANCIAL\n",
    "#                        ,classifier_list.QUARTERLY_STOCK_FINANCIAL_CLASSIFIER\n",
    "#                        ,ranker_list.QUARTERLY_STOCK_EARNINGS_RANKER)\n",
    "portfolio_ii = APortfolio(pricer_list.WEEKLY_STOCK_SPECULATION\n",
    "                          ,classifier_list.WEEKLY_STOCK_SPECULATION_CLASSIFIER\n",
    "                          ,ranker_list.WEEKLY_STOCK_ROLLING_RANKER)\n",
    "portfolio_iii = APortfolio(pricer_list.WEEKLY_STOCK_ROLLING\n",
    "                           ,classifier_list.WEEKLY_STOCK_SPECULATION_CLASSIFIER\n",
    "                          ,ranker_list.WEEKLY_STOCK_ROLLING_RANKER)\n",
    "portfolio_iv = APortfolio(pricer_list.WEEKLY_STOCK_WINDOW\n",
    "                          ,classifier_list.WEEKLY_STOCK_SPECULATION_CLASSIFIER\n",
    "                          ,ranker_list.WEEKLY_STOCK_ROLLING_RANKER)\n",
    "portfolios = [portfolio_ii,portfolio_iii,portfolio_iv]"
   ]
  },
  {
   "cell_type": "code",
   "execution_count": 3,
   "id": "f0974d81",
   "metadata": {},
   "outputs": [],
   "source": [
    "backtest_start_date = datetime(2016,1,1)\n",
    "backtest_end_date  = datetime(2023,1,1)\n",
    "current_start_date = datetime(2023,1,1)"
   ]
  },
  {
   "cell_type": "code",
   "execution_count": 4,
   "id": "f025727e",
   "metadata": {},
   "outputs": [],
   "source": [
    "fund = Fund(portfolios,backtest_start_date,backtest_end_date,current_start_date)"
   ]
  },
  {
   "cell_type": "code",
   "execution_count": 5,
   "id": "8f5af5d6",
   "metadata": {},
   "outputs": [],
   "source": [
    "fund.initialize_portfolios()"
   ]
  },
  {
   "cell_type": "code",
   "execution_count": 6,
   "id": "25cc627d",
   "metadata": {},
   "outputs": [],
   "source": [
    "# test_portfolio = fund.portfolios[0]\n",
    "# returns = test_portfolio.create_returns()\n",
    "# sim = test_portfolio.create_simulation()\n",
    "# merged = test_portfolio.merge_sim_returns(sim,returns)\n",
    "# ranked = test_portfolio.backtest_rank(merged)"
   ]
  },
  {
   "cell_type": "code",
   "execution_count": 7,
   "id": "59d01eb0",
   "metadata": {},
   "outputs": [],
   "source": [
    "# ranked.sort_values([\"year\",\"quarter\"])"
   ]
  },
  {
   "cell_type": "code",
   "execution_count": 8,
   "id": "6ae3f453",
   "metadata": {},
   "outputs": [
    {
     "name": "stderr",
     "output_type": "stream",
     "text": [
      "100%|████████████████████████████████████████████████████████████████████████████████████████████████████████████████████████████████████████████████████████| 490/490 [00:53<00:00,  9.10it/s]\n",
      "100%|██████████████████████████████████████████████████████████████████████████████████████████████████████████████████████████████████████████████████████| 490/490 [00:54<00:00,  8.98it/s]\n",
      "100%|██████████████████████████████████████████████████████████████████████████████████████████████████████████████████████████████████████████████████████| 490/490 [00:59<00:00,  8.23it/s]\n"
     ]
    }
   ],
   "source": [
    "# fund.reset()\n",
    "fund.initialize_historical_backtesters()\n",
    "fund.run_historical_backtest()"
   ]
  }
 ],
 "metadata": {
  "kernelspec": {
   "display_name": "Python 3 (ipykernel)",
   "language": "python",
   "name": "python3"
  },
  "language_info": {
   "codemirror_mode": {
    "name": "ipython",
    "version": 3
   },
   "file_extension": ".py",
   "mimetype": "text/x-python",
   "name": "python",
   "nbconvert_exporter": "python",
   "pygments_lexer": "ipython3",
   "version": "3.10.5"
  }
 },
 "nbformat": 4,
 "nbformat_minor": 5
}
