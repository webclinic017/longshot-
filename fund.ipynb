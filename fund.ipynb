{
 "cells": [
  {
   "cell_type": "code",
   "execution_count": 1,
   "id": "288d8afc",
   "metadata": {},
   "outputs": [],
   "source": [
    "from datetime import datetime\n",
    "from fund.fund import Fund\n",
    "from pricer.pricer import Pricer as pricer_list\n",
    "from ranker.ranker import Ranker as ranker_list\n",
    "from classifier.classifier import Classifier as classifier_list\n",
    "from portfolio.aportfolio import APortfolio"
   ]
  },
  {
   "cell_type": "code",
   "execution_count": 2,
   "id": "d4fb0e35",
   "metadata": {},
   "outputs": [],
   "source": [
    "portfolio = APortfolio(pricer_list.QUARTERLY_STOCK_FINANCIAL,ranker_list.NONE,classifier_list.NONE)\n",
    "portfolios = [portfolio]"
   ]
  },
  {
   "cell_type": "code",
   "execution_count": 3,
   "id": "8b03c428",
   "metadata": {},
   "outputs": [],
   "source": [
    "model_start_date  = datetime(2020,1,1)\n",
    "model_end_date  = datetime(2021,1,1)\n",
    "current_start_date  = datetime(2021,1,1)"
   ]
  },
  {
   "cell_type": "code",
   "execution_count": 4,
   "id": "f025727e",
   "metadata": {},
   "outputs": [],
   "source": [
    "fund = Fund(portfolios,model_start_date,model_end_date,current_start_date)"
   ]
  },
  {
   "cell_type": "code",
   "execution_count": 5,
   "id": "8f5af5d6",
   "metadata": {},
   "outputs": [],
   "source": [
    "fund.initialize_portfolios()\n",
    "fund.create_training_sets()\n",
    "fund.create_historical_models()"
   ]
  },
  {
   "cell_type": "code",
   "execution_count": null,
   "id": "188e2096",
   "metadata": {},
   "outputs": [],
   "source": []
  },
  {
   "cell_type": "code",
   "execution_count": 6,
   "id": "2a3bb611",
   "metadata": {
    "scrolled": true
   },
   "outputs": [],
   "source": [
    "# fund.historical_backtest()"
   ]
  }
 ],
 "metadata": {
  "kernelspec": {
   "display_name": "Python 3 (ipykernel)",
   "language": "python",
   "name": "python3"
  },
  "language_info": {
   "codemirror_mode": {
    "name": "ipython",
    "version": 3
   },
   "file_extension": ".py",
   "mimetype": "text/x-python",
   "name": "python",
   "nbconvert_exporter": "python",
   "pygments_lexer": "ipython3",
   "version": "3.10.5"
  }
 },
 "nbformat": 4,
 "nbformat_minor": 5
}
